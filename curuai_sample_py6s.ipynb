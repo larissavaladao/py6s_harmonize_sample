{
  "cells": [
    {
      "cell_type": "markdown",
      "metadata": {
        "id": "view-in-github",
        "colab_type": "text"
      },
      "source": [
        "<a href=\"https://colab.research.google.com/github/larissavaladao/py6s_harmonize_sample/blob/main/curuai_sample_py6s.ipynb\" target=\"_parent\"><img src=\"https://colab.research.google.com/assets/colab-badge.svg\" alt=\"Open In Colab\"/></a>"
      ]
    },
    {
      "cell_type": "markdown",
      "metadata": {
        "id": "S01_UZX51eNe"
      },
      "source": [
        "# Install and import packages"
      ]
    },
    {
      "cell_type": "code",
      "execution_count": 1,
      "metadata": {
        "id": "Ku6HC6109qJT"
      },
      "outputs": [],
      "source": [
        "#import packages used\n",
        "import ee\n",
        "import pandas as pd\n",
        "import geemap\n",
        "import geopandas as gpd\n",
        "import matplotlib.pyplot as plt\n",
        "import json\n",
        "import math\n",
        "import geemap\n",
        "import os"
      ]
    },
    {
      "cell_type": "code",
      "execution_count": 2,
      "metadata": {
        "colab": {
          "base_uri": "https://localhost:8080/",
          "height": 17
        },
        "id": "XCTrkoFo99eh",
        "outputId": "791634e6-7529-4d37-ebd6-72c4c09ee47f"
      },
      "outputs": [
        {
          "output_type": "display_data",
          "data": {
            "text/plain": [
              "<IPython.core.display.HTML object>"
            ],
            "text/html": [
              "\n",
              "            <style>\n",
              "                .geemap-dark {\n",
              "                    --jp-widgets-color: white;\n",
              "                    --jp-widgets-label-color: white;\n",
              "                    --jp-ui-font-color1: white;\n",
              "                    --jp-layout-color2: #454545;\n",
              "                    background-color: #383838;\n",
              "                }\n",
              "\n",
              "                .geemap-dark .jupyter-button {\n",
              "                    --jp-layout-color3: #383838;\n",
              "                }\n",
              "\n",
              "                .geemap-colab {\n",
              "                    background-color: var(--colab-primary-surface-color, white);\n",
              "                }\n",
              "\n",
              "                .geemap-colab .jupyter-button {\n",
              "                    --jp-layout-color3: var(--colab-primary-surface-color, white);\n",
              "                }\n",
              "            </style>\n",
              "            "
            ]
          },
          "metadata": {}
        }
      ],
      "source": [
        "#authenticate and initialize google earth engine (also necessary for geemap)\n",
        "ee.Authenticate()\n",
        "ee.Initialize(project = 'ee-curuai')"
      ]
    },
    {
      "cell_type": "code",
      "execution_count": 3,
      "metadata": {
        "colab": {
          "base_uri": "https://localhost:8080/",
          "height": 35
        },
        "id": "6Y4_8g9--H8I",
        "outputId": "2293c6d6-b19d-4bd0-ba3f-9661817df154"
      },
      "outputs": [
        {
          "output_type": "display_data",
          "data": {
            "text/plain": [
              "<IPython.core.display.HTML object>"
            ],
            "text/html": [
              "\n",
              "            <style>\n",
              "                .geemap-dark {\n",
              "                    --jp-widgets-color: white;\n",
              "                    --jp-widgets-label-color: white;\n",
              "                    --jp-ui-font-color1: white;\n",
              "                    --jp-layout-color2: #454545;\n",
              "                    background-color: #383838;\n",
              "                }\n",
              "\n",
              "                .geemap-dark .jupyter-button {\n",
              "                    --jp-layout-color3: #383838;\n",
              "                }\n",
              "\n",
              "                .geemap-colab {\n",
              "                    background-color: var(--colab-primary-surface-color, white);\n",
              "                }\n",
              "\n",
              "                .geemap-colab .jupyter-button {\n",
              "                    --jp-layout-color3: var(--colab-primary-surface-color, white);\n",
              "                }\n",
              "            </style>\n",
              "            "
            ]
          },
          "metadata": {}
        },
        {
          "output_type": "stream",
          "name": "stdout",
          "text": [
            "Drive already mounted at /content/drive; to attempt to forcibly remount, call drive.mount(\"/content/drive\", force_remount=True).\n"
          ]
        }
      ],
      "source": [
        "from google.colab import drive\n",
        "drive.mount('/content/drive')"
      ]
    },
    {
      "cell_type": "markdown",
      "metadata": {
        "id": "fPoM8H7b1nIq"
      },
      "source": [
        "# Import Curuai dataset"
      ]
    },
    {
      "cell_type": "code",
      "execution_count": 4,
      "metadata": {
        "id": "NKl0xxGL-FG4",
        "outputId": "dfcf6dbc-934e-4897-cb93-01bf22fc7976",
        "colab": {
          "base_uri": "https://localhost:8080/",
          "height": 17
        }
      },
      "outputs": [
        {
          "output_type": "display_data",
          "data": {
            "text/plain": [
              "<IPython.core.display.HTML object>"
            ],
            "text/html": [
              "\n",
              "            <style>\n",
              "                .geemap-dark {\n",
              "                    --jp-widgets-color: white;\n",
              "                    --jp-widgets-label-color: white;\n",
              "                    --jp-ui-font-color1: white;\n",
              "                    --jp-layout-color2: #454545;\n",
              "                    background-color: #383838;\n",
              "                }\n",
              "\n",
              "                .geemap-dark .jupyter-button {\n",
              "                    --jp-layout-color3: #383838;\n",
              "                }\n",
              "\n",
              "                .geemap-colab {\n",
              "                    background-color: var(--colab-primary-surface-color, white);\n",
              "                }\n",
              "\n",
              "                .geemap-colab .jupyter-button {\n",
              "                    --jp-layout-color3: var(--colab-primary-surface-color, white);\n",
              "                }\n",
              "            </style>\n",
              "            "
            ]
          },
          "metadata": {}
        }
      ],
      "source": [
        "#import the entire dataset and include ID column\n",
        "dataset = pd.read_excel('/content/drive/MyDrive/CURUAI_PROCESS/Dataset_CFP.xlsx', sheet_name='data',na_values='NaN').loc[:383]\n",
        "# dataset = pd.read_excel('Dataset_CFP.xlsx', sheet_name='data',na_values='NaN').loc[:383]\n",
        "dataset['ID'] = range(len(dataset))"
      ]
    },
    {
      "cell_type": "code",
      "execution_count": 5,
      "metadata": {
        "colab": {
          "base_uri": "https://localhost:8080/",
          "height": 126
        },
        "id": "sYwMBz-F-uCw",
        "outputId": "0dff1940-ba6f-4c8c-9c51-3c8c26e4f520"
      },
      "outputs": [
        {
          "output_type": "display_data",
          "data": {
            "text/plain": [
              "<IPython.core.display.HTML object>"
            ],
            "text/html": [
              "\n",
              "            <style>\n",
              "                .geemap-dark {\n",
              "                    --jp-widgets-color: white;\n",
              "                    --jp-widgets-label-color: white;\n",
              "                    --jp-ui-font-color1: white;\n",
              "                    --jp-layout-color2: #454545;\n",
              "                    background-color: #383838;\n",
              "                }\n",
              "\n",
              "                .geemap-dark .jupyter-button {\n",
              "                    --jp-layout-color3: #383838;\n",
              "                }\n",
              "\n",
              "                .geemap-colab {\n",
              "                    background-color: var(--colab-primary-surface-color, white);\n",
              "                }\n",
              "\n",
              "                .geemap-colab .jupyter-button {\n",
              "                    --jp-layout-color3: var(--colab-primary-surface-color, white);\n",
              "                }\n",
              "            </style>\n",
              "            "
            ]
          },
          "metadata": {}
        },
        {
          "output_type": "execute_result",
          "data": {
            "text/plain": [
              "Index(['ID', 'DATE', 'DEPTH CLASS', 'LATITUDE', 'LONGITUDE', 'LOCATION',\n",
              "       'SAMPLE SITE', 'WATER PERIOD', 'MISSION', 'TOTAL DEPTH',\n",
              "       'SAMPLING DEPTH', 'TURBIDITY', 'CHLOROPHYLL', 'SPM', 'TOC', 'POC',\n",
              "       'DOC', 'SILICA', 'P TOTAL', 'P ORGANIC', 'N TOTAL', 'N TOTAL DISSOLVED',\n",
              "       'CHLOROPHYLL A', 'CHLOROPHYLL B'],\n",
              "      dtype='object')"
            ]
          },
          "metadata": {},
          "execution_count": 5
        }
      ],
      "source": [
        "#copy the dataset and select only the variables of interest\n",
        "dataset_att = dataset[['ID','DATE', 'DEPTH CLASS', 'LATITUDE',\n",
        "       'LONGITUDE', 'LOCATION', 'SAMPLE SITE', 'WATER PERIOD', 'MISSION',\n",
        "       'TOTAL DEPTH', 'SAMPLING DEPTH', 'TURBIDITY', 'CHLOROPHYLL',\n",
        "       'SPM', 'TOC', 'POC', 'DOC', 'SILICA', 'P TOTAL',\n",
        "       'P ORGANIC', 'N TOTAL','N TOTAL DISSOLVED',\n",
        "       'CHLOROPHYLL A', 'CHLOROPHYLL B']].copy()\n",
        "dataset_att.columns"
      ]
    },
    {
      "cell_type": "code",
      "source": [
        "dataset_att.columns = ['ID','DATE', 'DEPTH_CLASS', 'LATITUDE',\n",
        "       'LONGITUDE', 'LOCATION', 'SAMPLE_SITE', 'WATER_PERIOD', 'MISSION',\n",
        "       'TOTAL_DEPTH', 'SAMPLING_DEPTH', 'TURBIDITY', 'CHLOROPHYLL', 'SPM',\n",
        "       'TOC', 'POC', 'DOC', 'SILICA', 'P_TOTAL', 'P_ORGANIC', 'N_TOTAL',\n",
        "       'N_TOTAL_DISSOLVED', 'CHLOROPHYLL_A', 'CHLOROPHYLL_B']\n",
        "dataset_att.columns"
      ],
      "metadata": {
        "colab": {
          "base_uri": "https://localhost:8080/",
          "height": 126
        },
        "id": "Qf8USyb_8-JF",
        "outputId": "8cea933c-399d-44cb-c72e-d19ecaaa82be"
      },
      "execution_count": 6,
      "outputs": [
        {
          "output_type": "display_data",
          "data": {
            "text/plain": [
              "<IPython.core.display.HTML object>"
            ],
            "text/html": [
              "\n",
              "            <style>\n",
              "                .geemap-dark {\n",
              "                    --jp-widgets-color: white;\n",
              "                    --jp-widgets-label-color: white;\n",
              "                    --jp-ui-font-color1: white;\n",
              "                    --jp-layout-color2: #454545;\n",
              "                    background-color: #383838;\n",
              "                }\n",
              "\n",
              "                .geemap-dark .jupyter-button {\n",
              "                    --jp-layout-color3: #383838;\n",
              "                }\n",
              "\n",
              "                .geemap-colab {\n",
              "                    background-color: var(--colab-primary-surface-color, white);\n",
              "                }\n",
              "\n",
              "                .geemap-colab .jupyter-button {\n",
              "                    --jp-layout-color3: var(--colab-primary-surface-color, white);\n",
              "                }\n",
              "            </style>\n",
              "            "
            ]
          },
          "metadata": {}
        },
        {
          "output_type": "execute_result",
          "data": {
            "text/plain": [
              "Index(['ID', 'DATE', 'DEPTH_CLASS', 'LATITUDE', 'LONGITUDE', 'LOCATION',\n",
              "       'SAMPLE_SITE', 'WATER_PERIOD', 'MISSION', 'TOTAL_DEPTH',\n",
              "       'SAMPLING_DEPTH', 'TURBIDITY', 'CHLOROPHYLL', 'SPM', 'TOC', 'POC',\n",
              "       'DOC', 'SILICA', 'P_TOTAL', 'P_ORGANIC', 'N_TOTAL', 'N_TOTAL_DISSOLVED',\n",
              "       'CHLOROPHYLL_A', 'CHLOROPHYLL_B'],\n",
              "      dtype='object')"
            ]
          },
          "metadata": {},
          "execution_count": 6
        }
      ]
    },
    {
      "cell_type": "code",
      "source": [
        "dataset_att.groupby(['MISSION'])['MISSION'].count()"
      ],
      "metadata": {
        "id": "7l1qXEa-1Pm0",
        "outputId": "f284ef73-e98c-4057-c6d4-70a31d4d628c",
        "colab": {
          "base_uri": "https://localhost:8080/",
          "height": 397
        }
      },
      "execution_count": 7,
      "outputs": [
        {
          "output_type": "display_data",
          "data": {
            "text/plain": [
              "<IPython.core.display.HTML object>"
            ],
            "text/html": [
              "\n",
              "            <style>\n",
              "                .geemap-dark {\n",
              "                    --jp-widgets-color: white;\n",
              "                    --jp-widgets-label-color: white;\n",
              "                    --jp-ui-font-color1: white;\n",
              "                    --jp-layout-color2: #454545;\n",
              "                    background-color: #383838;\n",
              "                }\n",
              "\n",
              "                .geemap-dark .jupyter-button {\n",
              "                    --jp-layout-color3: #383838;\n",
              "                }\n",
              "\n",
              "                .geemap-colab {\n",
              "                    background-color: var(--colab-primary-surface-color, white);\n",
              "                }\n",
              "\n",
              "                .geemap-colab .jupyter-button {\n",
              "                    --jp-layout-color3: var(--colab-primary-surface-color, white);\n",
              "                }\n",
              "            </style>\n",
              "            "
            ]
          },
          "metadata": {}
        },
        {
          "output_type": "execute_result",
          "data": {
            "text/plain": [
              "MISSION\n",
              "I       71\n",
              "II      73\n",
              "III     74\n",
              "IV      36\n",
              "IX      24\n",
              "V       26\n",
              "VI      25\n",
              "VII     28\n",
              "VIII    27\n",
              "Name: MISSION, dtype: int64"
            ],
            "text/html": [
              "<div>\n",
              "<style scoped>\n",
              "    .dataframe tbody tr th:only-of-type {\n",
              "        vertical-align: middle;\n",
              "    }\n",
              "\n",
              "    .dataframe tbody tr th {\n",
              "        vertical-align: top;\n",
              "    }\n",
              "\n",
              "    .dataframe thead th {\n",
              "        text-align: right;\n",
              "    }\n",
              "</style>\n",
              "<table border=\"1\" class=\"dataframe\">\n",
              "  <thead>\n",
              "    <tr style=\"text-align: right;\">\n",
              "      <th></th>\n",
              "      <th>MISSION</th>\n",
              "    </tr>\n",
              "    <tr>\n",
              "      <th>MISSION</th>\n",
              "      <th></th>\n",
              "    </tr>\n",
              "  </thead>\n",
              "  <tbody>\n",
              "    <tr>\n",
              "      <th>I</th>\n",
              "      <td>71</td>\n",
              "    </tr>\n",
              "    <tr>\n",
              "      <th>II</th>\n",
              "      <td>73</td>\n",
              "    </tr>\n",
              "    <tr>\n",
              "      <th>III</th>\n",
              "      <td>74</td>\n",
              "    </tr>\n",
              "    <tr>\n",
              "      <th>IV</th>\n",
              "      <td>36</td>\n",
              "    </tr>\n",
              "    <tr>\n",
              "      <th>IX</th>\n",
              "      <td>24</td>\n",
              "    </tr>\n",
              "    <tr>\n",
              "      <th>V</th>\n",
              "      <td>26</td>\n",
              "    </tr>\n",
              "    <tr>\n",
              "      <th>VI</th>\n",
              "      <td>25</td>\n",
              "    </tr>\n",
              "    <tr>\n",
              "      <th>VII</th>\n",
              "      <td>28</td>\n",
              "    </tr>\n",
              "    <tr>\n",
              "      <th>VIII</th>\n",
              "      <td>27</td>\n",
              "    </tr>\n",
              "  </tbody>\n",
              "</table>\n",
              "</div><br><label><b>dtype:</b> int64</label>"
            ]
          },
          "metadata": {},
          "execution_count": 7
        }
      ]
    },
    {
      "cell_type": "code",
      "execution_count": 8,
      "metadata": {
        "colab": {
          "base_uri": "https://localhost:8080/",
          "height": 429
        },
        "id": "BaDBl2wC-v8E",
        "outputId": "e36de6ad-3aa4-479a-b6ea-bc5d2727d59d"
      },
      "outputs": [
        {
          "output_type": "display_data",
          "data": {
            "text/plain": [
              "<IPython.core.display.HTML object>"
            ],
            "text/html": [
              "\n",
              "            <style>\n",
              "                .geemap-dark {\n",
              "                    --jp-widgets-color: white;\n",
              "                    --jp-widgets-label-color: white;\n",
              "                    --jp-ui-font-color1: white;\n",
              "                    --jp-layout-color2: #454545;\n",
              "                    background-color: #383838;\n",
              "                }\n",
              "\n",
              "                .geemap-dark .jupyter-button {\n",
              "                    --jp-layout-color3: #383838;\n",
              "                }\n",
              "\n",
              "                .geemap-colab {\n",
              "                    background-color: var(--colab-primary-surface-color, white);\n",
              "                }\n",
              "\n",
              "                .geemap-colab .jupyter-button {\n",
              "                    --jp-layout-color3: var(--colab-primary-surface-color, white);\n",
              "                }\n",
              "            </style>\n",
              "            "
            ]
          },
          "metadata": {}
        },
        {
          "output_type": "execute_result",
          "data": {
            "text/plain": [
              "   ID                 DATE DEPTH_CLASS  LATITUDE  LONGITUDE LOCATION  \\\n",
              "0   0  2013-03-08 00:00:00           1  -2.25127  -55.14622       LG   \n",
              "1   1  2013-03-08 00:00:00           2  -2.25127  -55.14622       LG   \n",
              "2   2  2013-03-09 00:00:00           1  -2.28422  -55.22023       LG   \n",
              "3   3  2013-03-09 00:00:00           1  -2.19696  -55.29953       LG   \n",
              "4   4  2013-03-09 00:00:00           1 -2.221738 -55.270194       LG   \n",
              "\n",
              "   SAMPLE_SITE WATER_PERIOD MISSION TOTAL_DEPTH  ...      POC    DOC SILICA  \\\n",
              "0          1.0            R       I         3.8  ...    3.546  4.727   2.33   \n",
              "1          1.0            R       I         3.8  ...      NaN    NaN    NaN   \n",
              "2          2.0            R       I         2.3  ...  < 0,001  3.575   1.99   \n",
              "3          3.0            R       I        4.63  ...    3.771  2.854   2.43   \n",
              "4          4.0            R       I        5.44  ...    6.223  1.017   2.45   \n",
              "\n",
              "    P_TOTAL P_ORGANIC N_TOTAL N_TOTAL_DISSOLVED CHLOROPHYLL_A CHLOROPHYLL_B  \\\n",
              "0  0.132571    < 0,01  0.3106            0.2564        7.8996        < 0,01   \n",
              "1       NaN       NaN     NaN               NaN           NaN           NaN   \n",
              "2  0.022095  0.012914  0.2254            0.1269       1.96906        < 0,01   \n",
              "3  0.066088  0.025859  0.3364             0.279       2.14404       1.94714   \n",
              "4  0.113632  0.063775   0.376           0.04269      10.23478       8.20502   \n",
              "\n",
              "                     geometry  \n",
              "0  POINT (-55.14622 -2.25127)  \n",
              "1  POINT (-55.14622 -2.25127)  \n",
              "2  POINT (-55.22023 -2.28422)  \n",
              "3  POINT (-55.29953 -2.19696)  \n",
              "4  POINT (-55.27019 -2.22174)  \n",
              "\n",
              "[5 rows x 25 columns]"
            ],
            "text/html": [
              "\n",
              "  <div id=\"df-aec7e716-26df-4106-86dc-68827f8009b7\" class=\"colab-df-container\">\n",
              "    <div>\n",
              "<style scoped>\n",
              "    .dataframe tbody tr th:only-of-type {\n",
              "        vertical-align: middle;\n",
              "    }\n",
              "\n",
              "    .dataframe tbody tr th {\n",
              "        vertical-align: top;\n",
              "    }\n",
              "\n",
              "    .dataframe thead th {\n",
              "        text-align: right;\n",
              "    }\n",
              "</style>\n",
              "<table border=\"1\" class=\"dataframe\">\n",
              "  <thead>\n",
              "    <tr style=\"text-align: right;\">\n",
              "      <th></th>\n",
              "      <th>ID</th>\n",
              "      <th>DATE</th>\n",
              "      <th>DEPTH_CLASS</th>\n",
              "      <th>LATITUDE</th>\n",
              "      <th>LONGITUDE</th>\n",
              "      <th>LOCATION</th>\n",
              "      <th>SAMPLE_SITE</th>\n",
              "      <th>WATER_PERIOD</th>\n",
              "      <th>MISSION</th>\n",
              "      <th>TOTAL_DEPTH</th>\n",
              "      <th>...</th>\n",
              "      <th>POC</th>\n",
              "      <th>DOC</th>\n",
              "      <th>SILICA</th>\n",
              "      <th>P_TOTAL</th>\n",
              "      <th>P_ORGANIC</th>\n",
              "      <th>N_TOTAL</th>\n",
              "      <th>N_TOTAL_DISSOLVED</th>\n",
              "      <th>CHLOROPHYLL_A</th>\n",
              "      <th>CHLOROPHYLL_B</th>\n",
              "      <th>geometry</th>\n",
              "    </tr>\n",
              "  </thead>\n",
              "  <tbody>\n",
              "    <tr>\n",
              "      <th>0</th>\n",
              "      <td>0</td>\n",
              "      <td>2013-03-08 00:00:00</td>\n",
              "      <td>1</td>\n",
              "      <td>-2.25127</td>\n",
              "      <td>-55.14622</td>\n",
              "      <td>LG</td>\n",
              "      <td>1.0</td>\n",
              "      <td>R</td>\n",
              "      <td>I</td>\n",
              "      <td>3.8</td>\n",
              "      <td>...</td>\n",
              "      <td>3.546</td>\n",
              "      <td>4.727</td>\n",
              "      <td>2.33</td>\n",
              "      <td>0.132571</td>\n",
              "      <td>&lt; 0,01</td>\n",
              "      <td>0.3106</td>\n",
              "      <td>0.2564</td>\n",
              "      <td>7.8996</td>\n",
              "      <td>&lt; 0,01</td>\n",
              "      <td>POINT (-55.14622 -2.25127)</td>\n",
              "    </tr>\n",
              "    <tr>\n",
              "      <th>1</th>\n",
              "      <td>1</td>\n",
              "      <td>2013-03-08 00:00:00</td>\n",
              "      <td>2</td>\n",
              "      <td>-2.25127</td>\n",
              "      <td>-55.14622</td>\n",
              "      <td>LG</td>\n",
              "      <td>1.0</td>\n",
              "      <td>R</td>\n",
              "      <td>I</td>\n",
              "      <td>3.8</td>\n",
              "      <td>...</td>\n",
              "      <td>NaN</td>\n",
              "      <td>NaN</td>\n",
              "      <td>NaN</td>\n",
              "      <td>NaN</td>\n",
              "      <td>NaN</td>\n",
              "      <td>NaN</td>\n",
              "      <td>NaN</td>\n",
              "      <td>NaN</td>\n",
              "      <td>NaN</td>\n",
              "      <td>POINT (-55.14622 -2.25127)</td>\n",
              "    </tr>\n",
              "    <tr>\n",
              "      <th>2</th>\n",
              "      <td>2</td>\n",
              "      <td>2013-03-09 00:00:00</td>\n",
              "      <td>1</td>\n",
              "      <td>-2.28422</td>\n",
              "      <td>-55.22023</td>\n",
              "      <td>LG</td>\n",
              "      <td>2.0</td>\n",
              "      <td>R</td>\n",
              "      <td>I</td>\n",
              "      <td>2.3</td>\n",
              "      <td>...</td>\n",
              "      <td>&lt; 0,001</td>\n",
              "      <td>3.575</td>\n",
              "      <td>1.99</td>\n",
              "      <td>0.022095</td>\n",
              "      <td>0.012914</td>\n",
              "      <td>0.2254</td>\n",
              "      <td>0.1269</td>\n",
              "      <td>1.96906</td>\n",
              "      <td>&lt; 0,01</td>\n",
              "      <td>POINT (-55.22023 -2.28422)</td>\n",
              "    </tr>\n",
              "    <tr>\n",
              "      <th>3</th>\n",
              "      <td>3</td>\n",
              "      <td>2013-03-09 00:00:00</td>\n",
              "      <td>1</td>\n",
              "      <td>-2.19696</td>\n",
              "      <td>-55.29953</td>\n",
              "      <td>LG</td>\n",
              "      <td>3.0</td>\n",
              "      <td>R</td>\n",
              "      <td>I</td>\n",
              "      <td>4.63</td>\n",
              "      <td>...</td>\n",
              "      <td>3.771</td>\n",
              "      <td>2.854</td>\n",
              "      <td>2.43</td>\n",
              "      <td>0.066088</td>\n",
              "      <td>0.025859</td>\n",
              "      <td>0.3364</td>\n",
              "      <td>0.279</td>\n",
              "      <td>2.14404</td>\n",
              "      <td>1.94714</td>\n",
              "      <td>POINT (-55.29953 -2.19696)</td>\n",
              "    </tr>\n",
              "    <tr>\n",
              "      <th>4</th>\n",
              "      <td>4</td>\n",
              "      <td>2013-03-09 00:00:00</td>\n",
              "      <td>1</td>\n",
              "      <td>-2.221738</td>\n",
              "      <td>-55.270194</td>\n",
              "      <td>LG</td>\n",
              "      <td>4.0</td>\n",
              "      <td>R</td>\n",
              "      <td>I</td>\n",
              "      <td>5.44</td>\n",
              "      <td>...</td>\n",
              "      <td>6.223</td>\n",
              "      <td>1.017</td>\n",
              "      <td>2.45</td>\n",
              "      <td>0.113632</td>\n",
              "      <td>0.063775</td>\n",
              "      <td>0.376</td>\n",
              "      <td>0.04269</td>\n",
              "      <td>10.23478</td>\n",
              "      <td>8.20502</td>\n",
              "      <td>POINT (-55.27019 -2.22174)</td>\n",
              "    </tr>\n",
              "  </tbody>\n",
              "</table>\n",
              "<p>5 rows × 25 columns</p>\n",
              "</div>\n",
              "    <div class=\"colab-df-buttons\">\n",
              "\n",
              "  <div class=\"colab-df-container\">\n",
              "    <button class=\"colab-df-convert\" onclick=\"convertToInteractive('df-aec7e716-26df-4106-86dc-68827f8009b7')\"\n",
              "            title=\"Convert this dataframe to an interactive table.\"\n",
              "            style=\"display:none;\">\n",
              "\n",
              "  <svg xmlns=\"http://www.w3.org/2000/svg\" height=\"24px\" viewBox=\"0 -960 960 960\">\n",
              "    <path d=\"M120-120v-720h720v720H120Zm60-500h600v-160H180v160Zm220 220h160v-160H400v160Zm0 220h160v-160H400v160ZM180-400h160v-160H180v160Zm440 0h160v-160H620v160ZM180-180h160v-160H180v160Zm440 0h160v-160H620v160Z\"/>\n",
              "  </svg>\n",
              "    </button>\n",
              "\n",
              "  <style>\n",
              "    .colab-df-container {\n",
              "      display:flex;\n",
              "      gap: 12px;\n",
              "    }\n",
              "\n",
              "    .colab-df-convert {\n",
              "      background-color: #E8F0FE;\n",
              "      border: none;\n",
              "      border-radius: 50%;\n",
              "      cursor: pointer;\n",
              "      display: none;\n",
              "      fill: #1967D2;\n",
              "      height: 32px;\n",
              "      padding: 0 0 0 0;\n",
              "      width: 32px;\n",
              "    }\n",
              "\n",
              "    .colab-df-convert:hover {\n",
              "      background-color: #E2EBFA;\n",
              "      box-shadow: 0px 1px 2px rgba(60, 64, 67, 0.3), 0px 1px 3px 1px rgba(60, 64, 67, 0.15);\n",
              "      fill: #174EA6;\n",
              "    }\n",
              "\n",
              "    .colab-df-buttons div {\n",
              "      margin-bottom: 4px;\n",
              "    }\n",
              "\n",
              "    [theme=dark] .colab-df-convert {\n",
              "      background-color: #3B4455;\n",
              "      fill: #D2E3FC;\n",
              "    }\n",
              "\n",
              "    [theme=dark] .colab-df-convert:hover {\n",
              "      background-color: #434B5C;\n",
              "      box-shadow: 0px 1px 3px 1px rgba(0, 0, 0, 0.15);\n",
              "      filter: drop-shadow(0px 1px 2px rgba(0, 0, 0, 0.3));\n",
              "      fill: #FFFFFF;\n",
              "    }\n",
              "  </style>\n",
              "\n",
              "    <script>\n",
              "      const buttonEl =\n",
              "        document.querySelector('#df-aec7e716-26df-4106-86dc-68827f8009b7 button.colab-df-convert');\n",
              "      buttonEl.style.display =\n",
              "        google.colab.kernel.accessAllowed ? 'block' : 'none';\n",
              "\n",
              "      async function convertToInteractive(key) {\n",
              "        const element = document.querySelector('#df-aec7e716-26df-4106-86dc-68827f8009b7');\n",
              "        const dataTable =\n",
              "          await google.colab.kernel.invokeFunction('convertToInteractive',\n",
              "                                                    [key], {});\n",
              "        if (!dataTable) return;\n",
              "\n",
              "        const docLinkHtml = 'Like what you see? Visit the ' +\n",
              "          '<a target=\"_blank\" href=https://colab.research.google.com/notebooks/data_table.ipynb>data table notebook</a>'\n",
              "          + ' to learn more about interactive tables.';\n",
              "        element.innerHTML = '';\n",
              "        dataTable['output_type'] = 'display_data';\n",
              "        await google.colab.output.renderOutput(dataTable, element);\n",
              "        const docLink = document.createElement('div');\n",
              "        docLink.innerHTML = docLinkHtml;\n",
              "        element.appendChild(docLink);\n",
              "      }\n",
              "    </script>\n",
              "  </div>\n",
              "\n",
              "\n",
              "<div id=\"df-712eed4f-aa80-41e8-b1e2-3d97b7f1cef8\">\n",
              "  <button class=\"colab-df-quickchart\" onclick=\"quickchart('df-712eed4f-aa80-41e8-b1e2-3d97b7f1cef8')\"\n",
              "            title=\"Suggest charts\"\n",
              "            style=\"display:none;\">\n",
              "\n",
              "<svg xmlns=\"http://www.w3.org/2000/svg\" height=\"24px\"viewBox=\"0 0 24 24\"\n",
              "     width=\"24px\">\n",
              "    <g>\n",
              "        <path d=\"M19 3H5c-1.1 0-2 .9-2 2v14c0 1.1.9 2 2 2h14c1.1 0 2-.9 2-2V5c0-1.1-.9-2-2-2zM9 17H7v-7h2v7zm4 0h-2V7h2v10zm4 0h-2v-4h2v4z\"/>\n",
              "    </g>\n",
              "</svg>\n",
              "  </button>\n",
              "\n",
              "<style>\n",
              "  .colab-df-quickchart {\n",
              "      --bg-color: #E8F0FE;\n",
              "      --fill-color: #1967D2;\n",
              "      --hover-bg-color: #E2EBFA;\n",
              "      --hover-fill-color: #174EA6;\n",
              "      --disabled-fill-color: #AAA;\n",
              "      --disabled-bg-color: #DDD;\n",
              "  }\n",
              "\n",
              "  [theme=dark] .colab-df-quickchart {\n",
              "      --bg-color: #3B4455;\n",
              "      --fill-color: #D2E3FC;\n",
              "      --hover-bg-color: #434B5C;\n",
              "      --hover-fill-color: #FFFFFF;\n",
              "      --disabled-bg-color: #3B4455;\n",
              "      --disabled-fill-color: #666;\n",
              "  }\n",
              "\n",
              "  .colab-df-quickchart {\n",
              "    background-color: var(--bg-color);\n",
              "    border: none;\n",
              "    border-radius: 50%;\n",
              "    cursor: pointer;\n",
              "    display: none;\n",
              "    fill: var(--fill-color);\n",
              "    height: 32px;\n",
              "    padding: 0;\n",
              "    width: 32px;\n",
              "  }\n",
              "\n",
              "  .colab-df-quickchart:hover {\n",
              "    background-color: var(--hover-bg-color);\n",
              "    box-shadow: 0 1px 2px rgba(60, 64, 67, 0.3), 0 1px 3px 1px rgba(60, 64, 67, 0.15);\n",
              "    fill: var(--button-hover-fill-color);\n",
              "  }\n",
              "\n",
              "  .colab-df-quickchart-complete:disabled,\n",
              "  .colab-df-quickchart-complete:disabled:hover {\n",
              "    background-color: var(--disabled-bg-color);\n",
              "    fill: var(--disabled-fill-color);\n",
              "    box-shadow: none;\n",
              "  }\n",
              "\n",
              "  .colab-df-spinner {\n",
              "    border: 2px solid var(--fill-color);\n",
              "    border-color: transparent;\n",
              "    border-bottom-color: var(--fill-color);\n",
              "    animation:\n",
              "      spin 1s steps(1) infinite;\n",
              "  }\n",
              "\n",
              "  @keyframes spin {\n",
              "    0% {\n",
              "      border-color: transparent;\n",
              "      border-bottom-color: var(--fill-color);\n",
              "      border-left-color: var(--fill-color);\n",
              "    }\n",
              "    20% {\n",
              "      border-color: transparent;\n",
              "      border-left-color: var(--fill-color);\n",
              "      border-top-color: var(--fill-color);\n",
              "    }\n",
              "    30% {\n",
              "      border-color: transparent;\n",
              "      border-left-color: var(--fill-color);\n",
              "      border-top-color: var(--fill-color);\n",
              "      border-right-color: var(--fill-color);\n",
              "    }\n",
              "    40% {\n",
              "      border-color: transparent;\n",
              "      border-right-color: var(--fill-color);\n",
              "      border-top-color: var(--fill-color);\n",
              "    }\n",
              "    60% {\n",
              "      border-color: transparent;\n",
              "      border-right-color: var(--fill-color);\n",
              "    }\n",
              "    80% {\n",
              "      border-color: transparent;\n",
              "      border-right-color: var(--fill-color);\n",
              "      border-bottom-color: var(--fill-color);\n",
              "    }\n",
              "    90% {\n",
              "      border-color: transparent;\n",
              "      border-bottom-color: var(--fill-color);\n",
              "    }\n",
              "  }\n",
              "</style>\n",
              "\n",
              "  <script>\n",
              "    async function quickchart(key) {\n",
              "      const quickchartButtonEl =\n",
              "        document.querySelector('#' + key + ' button');\n",
              "      quickchartButtonEl.disabled = true;  // To prevent multiple clicks.\n",
              "      quickchartButtonEl.classList.add('colab-df-spinner');\n",
              "      try {\n",
              "        const charts = await google.colab.kernel.invokeFunction(\n",
              "            'suggestCharts', [key], {});\n",
              "      } catch (error) {\n",
              "        console.error('Error during call to suggestCharts:', error);\n",
              "      }\n",
              "      quickchartButtonEl.classList.remove('colab-df-spinner');\n",
              "      quickchartButtonEl.classList.add('colab-df-quickchart-complete');\n",
              "    }\n",
              "    (() => {\n",
              "      let quickchartButtonEl =\n",
              "        document.querySelector('#df-712eed4f-aa80-41e8-b1e2-3d97b7f1cef8 button');\n",
              "      quickchartButtonEl.style.display =\n",
              "        google.colab.kernel.accessAllowed ? 'block' : 'none';\n",
              "    })();\n",
              "  </script>\n",
              "</div>\n",
              "\n",
              "    </div>\n",
              "  </div>\n"
            ],
            "application/vnd.google.colaboratory.intrinsic+json": {
              "type": "dataframe",
              "variable_name": "gdf"
            }
          },
          "metadata": {},
          "execution_count": 8
        }
      ],
      "source": [
        "#transform dataframe in a geodataframe (geometry column with point location)\n",
        "gdf = gpd.GeoDataFrame(\n",
        "    dataset_att, geometry=gpd.points_from_xy(dataset_att.LONGITUDE, dataset_att.LATITUDE),\n",
        "    crs=\"EPSG:4326\"\n",
        ")\n",
        "gdf.head()"
      ]
    },
    {
      "cell_type": "code",
      "execution_count": 9,
      "metadata": {
        "id": "b-l1r2u1-zZe",
        "outputId": "c923b3ab-2dce-4aaf-c0fd-00c567cf50a8",
        "colab": {
          "base_uri": "https://localhost:8080/",
          "height": 17
        }
      },
      "outputs": [
        {
          "output_type": "display_data",
          "data": {
            "text/plain": [
              "<IPython.core.display.HTML object>"
            ],
            "text/html": [
              "\n",
              "            <style>\n",
              "                .geemap-dark {\n",
              "                    --jp-widgets-color: white;\n",
              "                    --jp-widgets-label-color: white;\n",
              "                    --jp-ui-font-color1: white;\n",
              "                    --jp-layout-color2: #454545;\n",
              "                    background-color: #383838;\n",
              "                }\n",
              "\n",
              "                .geemap-dark .jupyter-button {\n",
              "                    --jp-layout-color3: #383838;\n",
              "                }\n",
              "\n",
              "                .geemap-colab {\n",
              "                    background-color: var(--colab-primary-surface-color, white);\n",
              "                }\n",
              "\n",
              "                .geemap-colab .jupyter-button {\n",
              "                    --jp-layout-color3: var(--colab-primary-surface-color, white);\n",
              "                }\n",
              "            </style>\n",
              "            "
            ]
          },
          "metadata": {}
        }
      ],
      "source": [
        "#transform date and time columns in string - necessary to convert to JSON\n",
        "gdf['DATE'] = gdf['DATE'].astype(\"str\")"
      ]
    },
    {
      "cell_type": "code",
      "source": [
        "# gdf.to_file(\"/content/drive/MyDrive/CURUAI_PROCESS/points_curuai.shp\")"
      ],
      "metadata": {
        "id": "zHdCOp1euOjE",
        "outputId": "98bfb352-27fe-4702-de0a-729408c31650",
        "colab": {
          "base_uri": "https://localhost:8080/",
          "height": 17
        }
      },
      "execution_count": 10,
      "outputs": [
        {
          "output_type": "display_data",
          "data": {
            "text/plain": [
              "<IPython.core.display.HTML object>"
            ],
            "text/html": [
              "\n",
              "            <style>\n",
              "                .geemap-dark {\n",
              "                    --jp-widgets-color: white;\n",
              "                    --jp-widgets-label-color: white;\n",
              "                    --jp-ui-font-color1: white;\n",
              "                    --jp-layout-color2: #454545;\n",
              "                    background-color: #383838;\n",
              "                }\n",
              "\n",
              "                .geemap-dark .jupyter-button {\n",
              "                    --jp-layout-color3: #383838;\n",
              "                }\n",
              "\n",
              "                .geemap-colab {\n",
              "                    background-color: var(--colab-primary-surface-color, white);\n",
              "                }\n",
              "\n",
              "                .geemap-colab .jupyter-button {\n",
              "                    --jp-layout-color3: var(--colab-primary-surface-color, white);\n",
              "                }\n",
              "            </style>\n",
              "            "
            ]
          },
          "metadata": {}
        }
      ]
    },
    {
      "cell_type": "code",
      "execution_count": 11,
      "metadata": {
        "id": "Uoyli1H1-1Ls",
        "outputId": "4ca666f0-c9bd-4661-ad82-7a8533c13d49",
        "colab": {
          "base_uri": "https://localhost:8080/",
          "height": 17
        }
      },
      "outputs": [
        {
          "output_type": "display_data",
          "data": {
            "text/plain": [
              "<IPython.core.display.HTML object>"
            ],
            "text/html": [
              "\n",
              "            <style>\n",
              "                .geemap-dark {\n",
              "                    --jp-widgets-color: white;\n",
              "                    --jp-widgets-label-color: white;\n",
              "                    --jp-ui-font-color1: white;\n",
              "                    --jp-layout-color2: #454545;\n",
              "                    background-color: #383838;\n",
              "                }\n",
              "\n",
              "                .geemap-dark .jupyter-button {\n",
              "                    --jp-layout-color3: #383838;\n",
              "                }\n",
              "\n",
              "                .geemap-colab {\n",
              "                    background-color: var(--colab-primary-surface-color, white);\n",
              "                }\n",
              "\n",
              "                .geemap-colab .jupyter-button {\n",
              "                    --jp-layout-color3: var(--colab-primary-surface-color, white);\n",
              "                }\n",
              "            </style>\n",
              "            "
            ]
          },
          "metadata": {}
        }
      ],
      "source": [
        "##Convert geodataframe to json - necessary to be read in GEE\n",
        "dataset_json = gdf.to_json()"
      ]
    },
    {
      "cell_type": "code",
      "execution_count": 12,
      "metadata": {
        "id": "zqNOL8Qa-4qU",
        "outputId": "d681e7a9-94e9-4d4a-8829-c0154251537a",
        "colab": {
          "base_uri": "https://localhost:8080/",
          "height": 17
        }
      },
      "outputs": [
        {
          "output_type": "display_data",
          "data": {
            "text/plain": [
              "<IPython.core.display.HTML object>"
            ],
            "text/html": [
              "\n",
              "            <style>\n",
              "                .geemap-dark {\n",
              "                    --jp-widgets-color: white;\n",
              "                    --jp-widgets-label-color: white;\n",
              "                    --jp-ui-font-color1: white;\n",
              "                    --jp-layout-color2: #454545;\n",
              "                    background-color: #383838;\n",
              "                }\n",
              "\n",
              "                .geemap-dark .jupyter-button {\n",
              "                    --jp-layout-color3: #383838;\n",
              "                }\n",
              "\n",
              "                .geemap-colab {\n",
              "                    background-color: var(--colab-primary-surface-color, white);\n",
              "                }\n",
              "\n",
              "                .geemap-colab .jupyter-button {\n",
              "                    --jp-layout-color3: var(--colab-primary-surface-color, white);\n",
              "                }\n",
              "            </style>\n",
              "            "
            ]
          },
          "metadata": {}
        }
      ],
      "source": [
        "#load and select the features of the json data\n",
        "data_points = json.loads(dataset_json)\n",
        "data_points = data_points['features']\n",
        "# data_points"
      ]
    },
    {
      "cell_type": "code",
      "execution_count": 13,
      "metadata": {
        "colab": {
          "base_uri": "https://localhost:8080/",
          "height": 35
        },
        "id": "7axz0m_4-5hg",
        "outputId": "da4b5207-6e54-422c-e91f-34e5b96f4940"
      },
      "outputs": [
        {
          "output_type": "display_data",
          "data": {
            "text/plain": [
              "<IPython.core.display.HTML object>"
            ],
            "text/html": [
              "\n",
              "            <style>\n",
              "                .geemap-dark {\n",
              "                    --jp-widgets-color: white;\n",
              "                    --jp-widgets-label-color: white;\n",
              "                    --jp-ui-font-color1: white;\n",
              "                    --jp-layout-color2: #454545;\n",
              "                    background-color: #383838;\n",
              "                }\n",
              "\n",
              "                .geemap-dark .jupyter-button {\n",
              "                    --jp-layout-color3: #383838;\n",
              "                }\n",
              "\n",
              "                .geemap-colab {\n",
              "                    background-color: var(--colab-primary-surface-color, white);\n",
              "                }\n",
              "\n",
              "                .geemap-colab .jupyter-button {\n",
              "                    --jp-layout-color3: var(--colab-primary-surface-color, white);\n",
              "                }\n",
              "            </style>\n",
              "            "
            ]
          },
          "metadata": {}
        },
        {
          "output_type": "stream",
          "name": "stdout",
          "text": [
            "384\n"
          ]
        }
      ],
      "source": [
        "##transform json in in gee object = feature collection\n",
        "roi_points = ee.FeatureCollection(data_points)\n",
        "print(roi_points.size().getInfo())"
      ]
    },
    {
      "cell_type": "code",
      "execution_count": 14,
      "metadata": {
        "id": "y57TH3LG-7-G",
        "outputId": "b9ce2148-bb79-46c9-86be-ea55146b1c89",
        "colab": {
          "base_uri": "https://localhost:8080/",
          "height": 17
        }
      },
      "outputs": [
        {
          "output_type": "display_data",
          "data": {
            "text/plain": [
              "<IPython.core.display.HTML object>"
            ],
            "text/html": [
              "\n",
              "            <style>\n",
              "                .geemap-dark {\n",
              "                    --jp-widgets-color: white;\n",
              "                    --jp-widgets-label-color: white;\n",
              "                    --jp-ui-font-color1: white;\n",
              "                    --jp-layout-color2: #454545;\n",
              "                    background-color: #383838;\n",
              "                }\n",
              "\n",
              "                .geemap-dark .jupyter-button {\n",
              "                    --jp-layout-color3: #383838;\n",
              "                }\n",
              "\n",
              "                .geemap-colab {\n",
              "                    background-color: var(--colab-primary-surface-color, white);\n",
              "                }\n",
              "\n",
              "                .geemap-colab .jupyter-button {\n",
              "                    --jp-layout-color3: var(--colab-primary-surface-color, white);\n",
              "                }\n",
              "            </style>\n",
              "            "
            ]
          },
          "metadata": {}
        }
      ],
      "source": [
        "#function to insert a property with date of the point - Gee date format\n",
        "def insert_date (feat):\n",
        "    return feat.set('system:time_start',ee.Date.parse('YYYY-MM-dd HH:mm:ss',feat.get('DATE')))"
      ]
    },
    {
      "cell_type": "code",
      "execution_count": 15,
      "metadata": {
        "colab": {
          "base_uri": "https://localhost:8080/",
          "height": 55
        },
        "id": "VX8zWAaN-9pj",
        "outputId": "feb0ddc2-1a5a-4a1a-c6ae-011dbe8255a6"
      },
      "outputs": [
        {
          "output_type": "display_data",
          "data": {
            "text/plain": [
              "<IPython.core.display.HTML object>"
            ],
            "text/html": [
              "\n",
              "            <style>\n",
              "                .geemap-dark {\n",
              "                    --jp-widgets-color: white;\n",
              "                    --jp-widgets-label-color: white;\n",
              "                    --jp-ui-font-color1: white;\n",
              "                    --jp-layout-color2: #454545;\n",
              "                    background-color: #383838;\n",
              "                }\n",
              "\n",
              "                .geemap-dark .jupyter-button {\n",
              "                    --jp-layout-color3: #383838;\n",
              "                }\n",
              "\n",
              "                .geemap-colab {\n",
              "                    background-color: var(--colab-primary-surface-color, white);\n",
              "                }\n",
              "\n",
              "                .geemap-colab .jupyter-button {\n",
              "                    --jp-layout-color3: var(--colab-primary-surface-color, white);\n",
              "                }\n",
              "            </style>\n",
              "            "
            ]
          },
          "metadata": {}
        },
        {
          "output_type": "stream",
          "name": "stdout",
          "text": [
            "{'type': 'Feature', 'geometry': {'type': 'Point', 'coordinates': [-55.14622, -2.25127]}, 'id': '0', 'properties': {'CHLOROPHYLL': 0.8799999999999999, 'CHLOROPHYLL_A': 7.8995999999999995, 'CHLOROPHYLL_B': '< 0,01', 'DATE': '2013-03-08 00:00:00', 'DEPTH_CLASS': 1, 'DOC': 4.727, 'ID': 0, 'LATITUDE': -2.25127, 'LOCATION': 'LG', 'LONGITUDE': -55.14622, 'MISSION': 'I', 'N_TOTAL': 0.3106, 'N_TOTAL_DISSOLVED': 0.2564, 'POC': 3.5459999999999994, 'P_ORGANIC': '< 0,01', 'P_TOTAL': 0.132571, 'SAMPLE_SITE': 1, 'SAMPLING_DEPTH': 0.2, 'SILICA': 2.33, 'SPM': 44.800000000000004, 'TOC': 8.273, 'TOTAL_DEPTH': 3.8, 'TURBIDITY': 50.625, 'WATER_PERIOD': 'R', 'system:time_start': {'type': 'Date', 'value': 1362700800000}}}\n"
          ]
        }
      ],
      "source": [
        "#apply date function - new system:time_start property\n",
        "roi_points = roi_points.map(insert_date)\n",
        "print(roi_points.first().getInfo())"
      ]
    },
    {
      "cell_type": "code",
      "execution_count": 16,
      "metadata": {
        "id": "xJu6zpel_A6X",
        "outputId": "492c4077-d3fb-4ca1-8e8f-0f9fe19a8963",
        "colab": {
          "base_uri": "https://localhost:8080/",
          "height": 17
        }
      },
      "outputs": [
        {
          "output_type": "display_data",
          "data": {
            "text/plain": [
              "<IPython.core.display.HTML object>"
            ],
            "text/html": [
              "\n",
              "            <style>\n",
              "                .geemap-dark {\n",
              "                    --jp-widgets-color: white;\n",
              "                    --jp-widgets-label-color: white;\n",
              "                    --jp-ui-font-color1: white;\n",
              "                    --jp-layout-color2: #454545;\n",
              "                    background-color: #383838;\n",
              "                }\n",
              "\n",
              "                .geemap-dark .jupyter-button {\n",
              "                    --jp-layout-color3: #383838;\n",
              "                }\n",
              "\n",
              "                .geemap-colab {\n",
              "                    background-color: var(--colab-primary-surface-color, white);\n",
              "                }\n",
              "\n",
              "                .geemap-colab .jupyter-button {\n",
              "                    --jp-layout-color3: var(--colab-primary-surface-color, white);\n",
              "                }\n",
              "            </style>\n",
              "            "
            ]
          },
          "metadata": {}
        }
      ],
      "source": [
        "#create a polygon around the floodpalin area - roi\n",
        "roi_poly = roi_points.geometry().buffer(150).bounds()"
      ]
    },
    {
      "cell_type": "markdown",
      "metadata": {
        "id": "LvVL10jL2Pxn"
      },
      "source": [
        "# Import GEE images"
      ]
    },
    {
      "cell_type": "code",
      "source": [
        "advance = 16"
      ],
      "metadata": {
        "colab": {
          "base_uri": "https://localhost:8080/",
          "height": 17
        },
        "id": "Ho7AmGdA-R2e",
        "outputId": "7e28032b-2f78-41b8-dc72-b292bf1e43e8"
      },
      "execution_count": 17,
      "outputs": [
        {
          "output_type": "display_data",
          "data": {
            "text/plain": [
              "<IPython.core.display.HTML object>"
            ],
            "text/html": [
              "\n",
              "            <style>\n",
              "                .geemap-dark {\n",
              "                    --jp-widgets-color: white;\n",
              "                    --jp-widgets-label-color: white;\n",
              "                    --jp-ui-font-color1: white;\n",
              "                    --jp-layout-color2: #454545;\n",
              "                    background-color: #383838;\n",
              "                }\n",
              "\n",
              "                .geemap-dark .jupyter-button {\n",
              "                    --jp-layout-color3: #383838;\n",
              "                }\n",
              "\n",
              "                .geemap-colab {\n",
              "                    background-color: var(--colab-primary-surface-color, white);\n",
              "                }\n",
              "\n",
              "                .geemap-colab .jupyter-button {\n",
              "                    --jp-layout-color3: var(--colab-primary-surface-color, white);\n",
              "                }\n",
              "            </style>\n",
              "            "
            ]
          },
          "metadata": {}
        }
      ]
    },
    {
      "cell_type": "code",
      "execution_count": 18,
      "metadata": {
        "colab": {
          "base_uri": "https://localhost:8080/",
          "height": 53
        },
        "id": "7wmTty9g_Ex-",
        "outputId": "4c39e11f-246a-4d00-bf76-e48e83eb2c50"
      },
      "outputs": [
        {
          "output_type": "display_data",
          "data": {
            "text/plain": [
              "<IPython.core.display.HTML object>"
            ],
            "text/html": [
              "\n",
              "            <style>\n",
              "                .geemap-dark {\n",
              "                    --jp-widgets-color: white;\n",
              "                    --jp-widgets-label-color: white;\n",
              "                    --jp-ui-font-color1: white;\n",
              "                    --jp-layout-color2: #454545;\n",
              "                    background-color: #383838;\n",
              "                }\n",
              "\n",
              "                .geemap-dark .jupyter-button {\n",
              "                    --jp-layout-color3: #383838;\n",
              "                }\n",
              "\n",
              "                .geemap-colab {\n",
              "                    background-color: var(--colab-primary-surface-color, white);\n",
              "                }\n",
              "\n",
              "                .geemap-colab .jupyter-button {\n",
              "                    --jp-layout-color3: var(--colab-primary-surface-color, white);\n",
              "                }\n",
              "            </style>\n",
              "            "
            ]
          },
          "metadata": {}
        },
        {
          "output_type": "stream",
          "name": "stdout",
          "text": [
            "Data inicial de coleta:  2013-02-20T00:00:00\n",
            "Data final de coleta:  2017-09-03T00:00:00\n"
          ]
        }
      ],
      "source": [
        "#define initial and final date to filter the image collection based on the\n",
        "#field points date\n",
        "initial_date = ee.Date(roi_points.sort('system:time_start').first().get('system:time_start')).advance(-advance, 'day')\n",
        "end_date = ee.Date(roi_points.sort('system:time_start',False).first().get('system:time_start')).advance(-advance, 'day')\n",
        "\n",
        "print('Data inicial de coleta: ',initial_date.format().getInfo())\n",
        "print('Data final de coleta: ',end_date.format().getInfo())"
      ]
    },
    {
      "cell_type": "markdown",
      "metadata": {
        "id": "ouVoaP5-3z0n"
      },
      "source": [
        "## Import image collections"
      ]
    },
    {
      "cell_type": "markdown",
      "source": [
        "###Landsat 7 - PY6S"
      ],
      "metadata": {
        "id": "2OU2MbU7Pmwn"
      }
    },
    {
      "cell_type": "code",
      "execution_count": 30,
      "metadata": {
        "colab": {
          "base_uri": "https://localhost:8080/",
          "height": 0
        },
        "id": "h2uRUkio_HB-",
        "outputId": "69010529-8c4e-4cd0-f942-e0baeffd6550"
      },
      "outputs": [
        {
          "output_type": "display_data",
          "data": {
            "text/plain": [
              "<IPython.core.display.HTML object>"
            ],
            "text/html": [
              "\n",
              "            <style>\n",
              "                .geemap-dark {\n",
              "                    --jp-widgets-color: white;\n",
              "                    --jp-widgets-label-color: white;\n",
              "                    --jp-ui-font-color1: white;\n",
              "                    --jp-layout-color2: #454545;\n",
              "                    background-color: #383838;\n",
              "                }\n",
              "\n",
              "                .geemap-dark .jupyter-button {\n",
              "                    --jp-layout-color3: #383838;\n",
              "                }\n",
              "\n",
              "                .geemap-colab {\n",
              "                    background-color: var(--colab-primary-surface-color, white);\n",
              "                }\n",
              "\n",
              "                .geemap-colab .jupyter-button {\n",
              "                    --jp-layout-color3: var(--colab-primary-surface-color, white);\n",
              "                }\n",
              "            </style>\n",
              "            "
            ]
          },
          "metadata": {}
        },
        {
          "output_type": "stream",
          "name": "stdout",
          "text": [
            "2013-05-12T13:44:05\n",
            "2017-08-27T13:50:49\n"
          ]
        }
      ],
      "source": [
        "#Landsat 7 collection 2 tier 1 TOA\n",
        "#filter collection by region and date (2 month prior toi the field dates and one month past) based on field points\n",
        "#mask clouds\n",
        "landsat7 = ee.ImageCollection(\"projects/ee-curuai/assets/Py6S/LD7/ld7_py6s\")\\\n",
        "            .filterDate(initial_date,end_date)\\\n",
        "            .select([ 'B1', 'B2', 'B3', 'B4', 'B5', 'B7'])\n",
        "print(ee.Date(landsat7.first().get('system:time_start')).format().getInfo())\n",
        "print(ee.Date(landsat7.sort('system:time_start',False).first().get('system:time_start')).format().getInfo())"
      ]
    },
    {
      "cell_type": "code",
      "source": [
        "print('collection size',landsat7.size().getInfo())\n",
        "print('projection',landsat7.first().select('B4').projection().getInfo())\n",
        "print('spatial resolution',landsat7.first().select('B4').projection().nominalScale().getInfo())\n",
        "print('bands',landsat7.first().bandNames().getInfo())\n"
      ],
      "metadata": {
        "id": "0e_VDA_dcNdJ",
        "outputId": "24f653ac-6525-440d-a55e-73285bff4c4a",
        "colab": {
          "base_uri": "https://localhost:8080/",
          "height": 0
        }
      },
      "execution_count": 31,
      "outputs": [
        {
          "output_type": "display_data",
          "data": {
            "text/plain": [
              "<IPython.core.display.HTML object>"
            ],
            "text/html": [
              "\n",
              "            <style>\n",
              "                .geemap-dark {\n",
              "                    --jp-widgets-color: white;\n",
              "                    --jp-widgets-label-color: white;\n",
              "                    --jp-ui-font-color1: white;\n",
              "                    --jp-layout-color2: #454545;\n",
              "                    background-color: #383838;\n",
              "                }\n",
              "\n",
              "                .geemap-dark .jupyter-button {\n",
              "                    --jp-layout-color3: #383838;\n",
              "                }\n",
              "\n",
              "                .geemap-colab {\n",
              "                    background-color: var(--colab-primary-surface-color, white);\n",
              "                }\n",
              "\n",
              "                .geemap-colab .jupyter-button {\n",
              "                    --jp-layout-color3: var(--colab-primary-surface-color, white);\n",
              "                }\n",
              "            </style>\n",
              "            "
            ]
          },
          "metadata": {}
        },
        {
          "output_type": "stream",
          "name": "stdout",
          "text": [
            "collection size 197\n",
            "projection {'type': 'Projection', 'crs': 'EPSG:32721', 'transform': [30, 0, 610350, 0, -30, 9780030]}\n",
            "spatial resolution 30\n",
            "bands ['B1', 'B2', 'B3', 'B4', 'B5', 'B7']\n"
          ]
        }
      ]
    },
    {
      "cell_type": "markdown",
      "source": [
        "###Landsat 8 PY6S"
      ],
      "metadata": {
        "id": "bgbcOKHcPtyN"
      }
    },
    {
      "cell_type": "code",
      "execution_count": 32,
      "metadata": {
        "id": "Vlry8prR_IpJ",
        "outputId": "71b5faf5-da7c-458a-bb8a-54992718e5a4",
        "colab": {
          "base_uri": "https://localhost:8080/",
          "height": 0
        }
      },
      "outputs": [
        {
          "output_type": "display_data",
          "data": {
            "text/plain": [
              "<IPython.core.display.HTML object>"
            ],
            "text/html": [
              "\n",
              "            <style>\n",
              "                .geemap-dark {\n",
              "                    --jp-widgets-color: white;\n",
              "                    --jp-widgets-label-color: white;\n",
              "                    --jp-ui-font-color1: white;\n",
              "                    --jp-layout-color2: #454545;\n",
              "                    background-color: #383838;\n",
              "                }\n",
              "\n",
              "                .geemap-dark .jupyter-button {\n",
              "                    --jp-layout-color3: #383838;\n",
              "                }\n",
              "\n",
              "                .geemap-colab {\n",
              "                    background-color: var(--colab-primary-surface-color, white);\n",
              "                }\n",
              "\n",
              "                .geemap-colab .jupyter-button {\n",
              "                    --jp-layout-color3: var(--colab-primary-surface-color, white);\n",
              "                }\n",
              "            </style>\n",
              "            "
            ]
          },
          "metadata": {}
        },
        {
          "output_type": "stream",
          "name": "stdout",
          "text": [
            "2013-05-20T13:50:14\n",
            "2017-08-26T13:54:29\n"
          ]
        }
      ],
      "source": [
        "#Landsat 8 collection 2 tier 1 TOA\n",
        "#filter collection by region and date (2 month prior toi the field dates and one month past) based on field points\n",
        "#mask clouds\n",
        "landsat8 = (ee.ImageCollection(\"projects/ee-curuai/assets/Py6S/LD8/ld8_py6s\")\n",
        "            .filterDate(initial_date,end_date)\n",
        "            .select(['B2', 'B3', 'B4', 'B5', 'B6', 'B7']))\n",
        "print(ee.Date(landsat8.first().get('system:time_start')).format().getInfo())\n",
        "print(ee.Date(landsat8.sort('system:time_start',False).first().get('system:time_start')).format().getInfo())"
      ]
    },
    {
      "cell_type": "code",
      "source": [
        "print('collection size',landsat8.size().getInfo())\n",
        "print('projection',landsat8.first().select('B4').projection().getInfo())\n",
        "print('spatial resolution',landsat8.first().select('B4').projection().nominalScale().getInfo())\n",
        "print('bands',landsat8.first().bandNames().getInfo())"
      ],
      "metadata": {
        "id": "z4FpTCN-PFnf",
        "outputId": "6e730b14-ec36-4e2f-9d4e-84d367991353",
        "colab": {
          "base_uri": "https://localhost:8080/",
          "height": 0
        }
      },
      "execution_count": 33,
      "outputs": [
        {
          "output_type": "display_data",
          "data": {
            "text/plain": [
              "<IPython.core.display.HTML object>"
            ],
            "text/html": [
              "\n",
              "            <style>\n",
              "                .geemap-dark {\n",
              "                    --jp-widgets-color: white;\n",
              "                    --jp-widgets-label-color: white;\n",
              "                    --jp-ui-font-color1: white;\n",
              "                    --jp-layout-color2: #454545;\n",
              "                    background-color: #383838;\n",
              "                }\n",
              "\n",
              "                .geemap-dark .jupyter-button {\n",
              "                    --jp-layout-color3: #383838;\n",
              "                }\n",
              "\n",
              "                .geemap-colab {\n",
              "                    background-color: var(--colab-primary-surface-color, white);\n",
              "                }\n",
              "\n",
              "                .geemap-colab .jupyter-button {\n",
              "                    --jp-layout-color3: var(--colab-primary-surface-color, white);\n",
              "                }\n",
              "            </style>\n",
              "            "
            ]
          },
          "metadata": {}
        },
        {
          "output_type": "stream",
          "name": "stdout",
          "text": [
            "collection size 203\n",
            "projection {'type': 'Projection', 'crs': 'EPSG:32721', 'transform': [30, 0, 610350, 0, -30, 9780030]}\n",
            "spatial resolution 30\n",
            "bands ['B2', 'B3', 'B4', 'B5', 'B6', 'B7']\n"
          ]
        }
      ]
    },
    {
      "cell_type": "markdown",
      "source": [
        "###Sentinel 2 PY6S"
      ],
      "metadata": {
        "id": "uAZbfSlKPvM-"
      }
    },
    {
      "cell_type": "code",
      "execution_count": null,
      "metadata": {
        "id": "CoGI69en_Kps"
      },
      "outputs": [],
      "source": [
        "#Sentinel 2 level 1C harmonized\n",
        "sentinel2 = ee.ImageCollection(\"projects/ee-curuai/assets/Py6S/S2/S2_py6s\")\\\n",
        "            .map(lambda img: img.set({\n",
        "                'system:time_start':ee.ImageCollection(\"COPERNICUS/S2_HARMONIZED\").filter(ee.Filter.eq('GRANULE_ID',img.get('GRANULE_ID'))).first().get('system:time_start'),\n",
        "                'CLOUD_COVER':img.get('CLOUDY_PIXEL_PERCENTAGE')}))\\\n",
        "            .filterDate(initial_date,end_date)\\\n",
        "            .select(['B2', 'B3', 'B4', 'B8', 'B11', 'B12'])\n",
        "# print(ee.Date(sentinel2.first().get('system:time_start')).format().getInfo())\n",
        "# print(ee.Date(sentinel2.sort('system:time_start',False).first().get('system:time_start')).format().getInfo())"
      ]
    },
    {
      "cell_type": "code",
      "source": [
        "print('collection size',sentinel2.size().getInfo())\n",
        "print('projection',sentinel2.first().select('B4').projection().getInfo())\n",
        "print('spatial resolution',sentinel2.first().select('B4').projection().nominalScale().getInfo())\n",
        "print('bands',sentinel2.first().bandNames().getInfo())"
      ],
      "metadata": {
        "id": "OwToHbpkIlL3"
      },
      "execution_count": null,
      "outputs": []
    },
    {
      "cell_type": "markdown",
      "metadata": {
        "id": "c6MTfNIk8Ooz"
      },
      "source": [
        "# Transform into remote sensing  reflectance and sunglint correction"
      ]
    },
    {
      "cell_type": "code",
      "execution_count": 34,
      "metadata": {
        "colab": {
          "base_uri": "https://localhost:8080/",
          "height": 17
        },
        "id": "8u58DQ6u3NBT",
        "outputId": "8707463d-b05a-452f-ce2e-8cd942d0761b"
      },
      "outputs": [
        {
          "output_type": "display_data",
          "data": {
            "text/plain": [
              "<IPython.core.display.HTML object>"
            ],
            "text/html": [
              "\n",
              "            <style>\n",
              "                .geemap-dark {\n",
              "                    --jp-widgets-color: white;\n",
              "                    --jp-widgets-label-color: white;\n",
              "                    --jp-ui-font-color1: white;\n",
              "                    --jp-layout-color2: #454545;\n",
              "                    background-color: #383838;\n",
              "                }\n",
              "\n",
              "                .geemap-dark .jupyter-button {\n",
              "                    --jp-layout-color3: #383838;\n",
              "                }\n",
              "\n",
              "                .geemap-colab {\n",
              "                    background-color: var(--colab-primary-surface-color, white);\n",
              "                }\n",
              "\n",
              "                .geemap-colab .jupyter-button {\n",
              "                    --jp-layout-color3: var(--colab-primary-surface-color, white);\n",
              "                }\n",
              "            </style>\n",
              "            "
            ]
          },
          "metadata": {}
        }
      ],
      "source": [
        "#dividir imagem corrigida por pi\n",
        "# Rrs_sat_ac = Rsat_ac / pi\n",
        "\n",
        "#fazer deglint\n",
        "#Rrs_sat_ac_deglint(VNIR) = Rrs_sat_ac (VNIR) − Rrs_sat_ac (SWIR)\n",
        "#correção no artigo INPE CURUAI\n",
        "def deglint (img):\n",
        "    Rrs = img.divide(math.pi)\n",
        "    deglint = Rrs.select(['blue','green','red','nir','swir1','swir2'])\\\n",
        "    .subtract(Rrs.select('swir2'))\n",
        "\n",
        "    return (deglint.updateMask(deglint.select(['red']).gt(0))\n",
        "    .copyProperties(img,['system:time_start','CLOUD_COVER',\"system:index\"]))\n"
      ]
    },
    {
      "cell_type": "markdown",
      "metadata": {
        "id": "J2htEP504MqZ"
      },
      "source": [
        "## Padronize band names"
      ]
    },
    {
      "cell_type": "code",
      "source": [
        "name_bands = ['blue','green','red','nir','swir1','swir2']"
      ],
      "metadata": {
        "colab": {
          "base_uri": "https://localhost:8080/",
          "height": 17
        },
        "id": "SiUGI3B_E1HN",
        "outputId": "dcb21b6e-df04-47d5-a111-0b5b690ddfaa"
      },
      "execution_count": 35,
      "outputs": [
        {
          "output_type": "display_data",
          "data": {
            "text/plain": [
              "<IPython.core.display.HTML object>"
            ],
            "text/html": [
              "\n",
              "            <style>\n",
              "                .geemap-dark {\n",
              "                    --jp-widgets-color: white;\n",
              "                    --jp-widgets-label-color: white;\n",
              "                    --jp-ui-font-color1: white;\n",
              "                    --jp-layout-color2: #454545;\n",
              "                    background-color: #383838;\n",
              "                }\n",
              "\n",
              "                .geemap-dark .jupyter-button {\n",
              "                    --jp-layout-color3: #383838;\n",
              "                }\n",
              "\n",
              "                .geemap-colab {\n",
              "                    background-color: var(--colab-primary-surface-color, white);\n",
              "                }\n",
              "\n",
              "                .geemap-colab .jupyter-button {\n",
              "                    --jp-layout-color3: var(--colab-primary-surface-color, white);\n",
              "                }\n",
              "            </style>\n",
              "            "
            ]
          },
          "metadata": {}
        }
      ]
    },
    {
      "cell_type": "markdown",
      "source": [
        "###Landsat 7"
      ],
      "metadata": {
        "id": "ldY14EKe8wHK"
      }
    },
    {
      "cell_type": "code",
      "execution_count": 36,
      "metadata": {
        "id": "_OVbYj3AA-P0",
        "outputId": "2863886f-5af2-48f5-bd2c-221d4a5720f6",
        "colab": {
          "base_uri": "https://localhost:8080/",
          "height": 0
        }
      },
      "outputs": [
        {
          "output_type": "display_data",
          "data": {
            "text/plain": [
              "<IPython.core.display.HTML object>"
            ],
            "text/html": [
              "\n",
              "            <style>\n",
              "                .geemap-dark {\n",
              "                    --jp-widgets-color: white;\n",
              "                    --jp-widgets-label-color: white;\n",
              "                    --jp-ui-font-color1: white;\n",
              "                    --jp-layout-color2: #454545;\n",
              "                    background-color: #383838;\n",
              "                }\n",
              "\n",
              "                .geemap-dark .jupyter-button {\n",
              "                    --jp-layout-color3: #383838;\n",
              "                }\n",
              "\n",
              "                .geemap-colab {\n",
              "                    background-color: var(--colab-primary-surface-color, white);\n",
              "                }\n",
              "\n",
              "                .geemap-colab .jupyter-button {\n",
              "                    --jp-layout-color3: var(--colab-primary-surface-color, white);\n",
              "                }\n",
              "            </style>\n",
              "            "
            ]
          },
          "metadata": {}
        },
        {
          "output_type": "execute_result",
          "data": {
            "text/plain": [
              "<ee.image.Image at 0x7cc2caac24d0>"
            ],
            "text/html": [
              "<div><style>:root {\n",
              "  --font-color-primary: var(--jp-content-font-color0, rgba(0, 0, 0, 1));\n",
              "  --font-color-secondary: var(--jp-content-font-color2, rgba(0, 0, 0, 0.6));\n",
              "  --font-color-accent: rgba(123, 31, 162, 1);\n",
              "  --border-color: var(--jp-border-color2, #e0e0e0);\n",
              "  --background-color: var(--jp-layout-color0, white);\n",
              "  --background-color-row-even: var(--jp-layout-color1, white);\n",
              "  --background-color-row-odd: var(--jp-layout-color2, #eeeeee);\n",
              "}\n",
              "\n",
              "html[theme=\"dark\"],\n",
              "body[data-theme=\"dark\"],\n",
              "body.vscode-dark {\n",
              "  --font-color-primary: rgba(255, 255, 255, 1);\n",
              "  --font-color-secondary: rgba(255, 255, 255, 0.6);\n",
              "  --font-color-accent: rgb(173, 132, 190);\n",
              "  --border-color: #2e2e2e;\n",
              "  --background-color: #111111;\n",
              "  --background-color-row-even: #111111;\n",
              "  --background-color-row-odd: #313131;\n",
              "}\n",
              "\n",
              ".ee {\n",
              "  padding: 1em;\n",
              "  line-height: 1.5em;\n",
              "  min-width: 300px;\n",
              "  max-width: 1200px;\n",
              "  overflow-y: scroll;\n",
              "  max-height: 600px;\n",
              "  border: 1px solid var(--border-color);\n",
              "  font-family: monospace;\n",
              "}\n",
              "\n",
              ".ee li {\n",
              "  list-style-type: none;\n",
              "}\n",
              "\n",
              ".ee ul {\n",
              "  padding-left: 1.5em !important;\n",
              "  margin: 0;\n",
              "}\n",
              "\n",
              ".ee > ul {\n",
              "  padding-left: 0 !important;\n",
              "}\n",
              "\n",
              ".ee-open,\n",
              ".ee-shut {\n",
              "  color: var(--font-color-secondary);\n",
              "  cursor: pointer;\n",
              "  margin: 0;\n",
              "}\n",
              "\n",
              ".ee-open:hover,\n",
              ".ee-shut:hover {\n",
              "  color: var(--font-color-primary);\n",
              "}\n",
              "\n",
              ".ee-k {\n",
              "  color: var(--font-color-accent);\n",
              "  margin-right: 6px;\n",
              "}\n",
              "\n",
              ".ee-v {\n",
              "  color: var(--font-color-primary);\n",
              "}\n",
              "\n",
              ".ee-toggle {\n",
              "  display: none;\n",
              "}\n",
              "\n",
              ".ee-shut + ul {\n",
              "  display: none;\n",
              "}\n",
              "\n",
              ".ee-open + ul {\n",
              "  display: block;\n",
              "}\n",
              "\n",
              ".ee-shut::before {\n",
              "  display: inline-block;\n",
              "  content: \"▼\";\n",
              "  margin-right: 6px;\n",
              "  transform: rotate(-90deg);\n",
              "  transition: transform 0.2s;\n",
              "}\n",
              "\n",
              ".ee-open::before {\n",
              "  transform: rotate(0deg);\n",
              "  display: inline-block;\n",
              "  content: \"▼\";\n",
              "  margin-right: 6px;\n",
              "  transition: transform 0.2s;\n",
              "}\n",
              "</style><div class='ee'><ul><li><label class='ee-shut'>Image (6 bands)<input type='checkbox' class='ee-toggle'></label><ul><li><span class='ee-k'>type:</span><span class='ee-v'>Image</span></li><li><label class='ee-shut'>bands: List (6 elements)<input type='checkbox' class='ee-toggle'></label><ul><li><label class='ee-shut'>0: \"blue\", double, EPSG:32721, 3865x1186 px<input type='checkbox' class='ee-toggle'></label><ul><li><span class='ee-k'>id:</span><span class='ee-v'>blue</span></li><li><span class='ee-k'>crs:</span><span class='ee-v'>EPSG:32721</span></li><li><label class='ee-shut'>crs_transform: [30, 0, 610350, 0, -30, 9780030]<input type='checkbox' class='ee-toggle'></label><ul><li><span class='ee-k'>0:</span><span class='ee-v'>30</span></li><li><span class='ee-k'>1:</span><span class='ee-v'>0</span></li><li><span class='ee-k'>2:</span><span class='ee-v'>610350</span></li><li><span class='ee-k'>3:</span><span class='ee-v'>0</span></li><li><span class='ee-k'>4:</span><span class='ee-v'>-30</span></li><li><span class='ee-k'>5:</span><span class='ee-v'>9780030</span></li></ul></li><li><label class='ee-shut'>data_type: double<input type='checkbox' class='ee-toggle'></label><ul><li><span class='ee-k'>type:</span><span class='ee-v'>PixelType</span></li><li><span class='ee-k'>precision:</span><span class='ee-v'>double</span></li></ul></li><li><label class='ee-shut'>dimensions: [3865, 1186]<input type='checkbox' class='ee-toggle'></label><ul><li><span class='ee-k'>0:</span><span class='ee-v'>3865</span></li><li><span class='ee-k'>1:</span><span class='ee-v'>1186</span></li></ul></li></ul></li><li><label class='ee-shut'>1: \"green\", double, EPSG:32721, 3865x1186 px<input type='checkbox' class='ee-toggle'></label><ul><li><span class='ee-k'>id:</span><span class='ee-v'>green</span></li><li><span class='ee-k'>crs:</span><span class='ee-v'>EPSG:32721</span></li><li><label class='ee-shut'>crs_transform: [30, 0, 610350, 0, -30, 9780030]<input type='checkbox' class='ee-toggle'></label><ul><li><span class='ee-k'>0:</span><span class='ee-v'>30</span></li><li><span class='ee-k'>1:</span><span class='ee-v'>0</span></li><li><span class='ee-k'>2:</span><span class='ee-v'>610350</span></li><li><span class='ee-k'>3:</span><span class='ee-v'>0</span></li><li><span class='ee-k'>4:</span><span class='ee-v'>-30</span></li><li><span class='ee-k'>5:</span><span class='ee-v'>9780030</span></li></ul></li><li><label class='ee-shut'>data_type: double<input type='checkbox' class='ee-toggle'></label><ul><li><span class='ee-k'>type:</span><span class='ee-v'>PixelType</span></li><li><span class='ee-k'>precision:</span><span class='ee-v'>double</span></li></ul></li><li><label class='ee-shut'>dimensions: [3865, 1186]<input type='checkbox' class='ee-toggle'></label><ul><li><span class='ee-k'>0:</span><span class='ee-v'>3865</span></li><li><span class='ee-k'>1:</span><span class='ee-v'>1186</span></li></ul></li></ul></li><li><label class='ee-shut'>2: \"red\", double, EPSG:32721, 3865x1186 px<input type='checkbox' class='ee-toggle'></label><ul><li><span class='ee-k'>id:</span><span class='ee-v'>red</span></li><li><span class='ee-k'>crs:</span><span class='ee-v'>EPSG:32721</span></li><li><label class='ee-shut'>crs_transform: [30, 0, 610350, 0, -30, 9780030]<input type='checkbox' class='ee-toggle'></label><ul><li><span class='ee-k'>0:</span><span class='ee-v'>30</span></li><li><span class='ee-k'>1:</span><span class='ee-v'>0</span></li><li><span class='ee-k'>2:</span><span class='ee-v'>610350</span></li><li><span class='ee-k'>3:</span><span class='ee-v'>0</span></li><li><span class='ee-k'>4:</span><span class='ee-v'>-30</span></li><li><span class='ee-k'>5:</span><span class='ee-v'>9780030</span></li></ul></li><li><label class='ee-shut'>data_type: double<input type='checkbox' class='ee-toggle'></label><ul><li><span class='ee-k'>type:</span><span class='ee-v'>PixelType</span></li><li><span class='ee-k'>precision:</span><span class='ee-v'>double</span></li></ul></li><li><label class='ee-shut'>dimensions: [3865, 1186]<input type='checkbox' class='ee-toggle'></label><ul><li><span class='ee-k'>0:</span><span class='ee-v'>3865</span></li><li><span class='ee-k'>1:</span><span class='ee-v'>1186</span></li></ul></li></ul></li><li><label class='ee-shut'>3: \"nir\", double, EPSG:32721, 3865x1186 px<input type='checkbox' class='ee-toggle'></label><ul><li><span class='ee-k'>id:</span><span class='ee-v'>nir</span></li><li><span class='ee-k'>crs:</span><span class='ee-v'>EPSG:32721</span></li><li><label class='ee-shut'>crs_transform: [30, 0, 610350, 0, -30, 9780030]<input type='checkbox' class='ee-toggle'></label><ul><li><span class='ee-k'>0:</span><span class='ee-v'>30</span></li><li><span class='ee-k'>1:</span><span class='ee-v'>0</span></li><li><span class='ee-k'>2:</span><span class='ee-v'>610350</span></li><li><span class='ee-k'>3:</span><span class='ee-v'>0</span></li><li><span class='ee-k'>4:</span><span class='ee-v'>-30</span></li><li><span class='ee-k'>5:</span><span class='ee-v'>9780030</span></li></ul></li><li><label class='ee-shut'>data_type: double<input type='checkbox' class='ee-toggle'></label><ul><li><span class='ee-k'>type:</span><span class='ee-v'>PixelType</span></li><li><span class='ee-k'>precision:</span><span class='ee-v'>double</span></li></ul></li><li><label class='ee-shut'>dimensions: [3865, 1186]<input type='checkbox' class='ee-toggle'></label><ul><li><span class='ee-k'>0:</span><span class='ee-v'>3865</span></li><li><span class='ee-k'>1:</span><span class='ee-v'>1186</span></li></ul></li></ul></li><li><label class='ee-shut'>4: \"swir1\", double, EPSG:32721, 3865x1186 px<input type='checkbox' class='ee-toggle'></label><ul><li><span class='ee-k'>id:</span><span class='ee-v'>swir1</span></li><li><span class='ee-k'>crs:</span><span class='ee-v'>EPSG:32721</span></li><li><label class='ee-shut'>crs_transform: [30, 0, 610350, 0, -30, 9780030]<input type='checkbox' class='ee-toggle'></label><ul><li><span class='ee-k'>0:</span><span class='ee-v'>30</span></li><li><span class='ee-k'>1:</span><span class='ee-v'>0</span></li><li><span class='ee-k'>2:</span><span class='ee-v'>610350</span></li><li><span class='ee-k'>3:</span><span class='ee-v'>0</span></li><li><span class='ee-k'>4:</span><span class='ee-v'>-30</span></li><li><span class='ee-k'>5:</span><span class='ee-v'>9780030</span></li></ul></li><li><label class='ee-shut'>data_type: double<input type='checkbox' class='ee-toggle'></label><ul><li><span class='ee-k'>type:</span><span class='ee-v'>PixelType</span></li><li><span class='ee-k'>precision:</span><span class='ee-v'>double</span></li></ul></li><li><label class='ee-shut'>dimensions: [3865, 1186]<input type='checkbox' class='ee-toggle'></label><ul><li><span class='ee-k'>0:</span><span class='ee-v'>3865</span></li><li><span class='ee-k'>1:</span><span class='ee-v'>1186</span></li></ul></li></ul></li><li><label class='ee-shut'>5: \"swir2\", double, EPSG:32721, 3865x1186 px<input type='checkbox' class='ee-toggle'></label><ul><li><span class='ee-k'>id:</span><span class='ee-v'>swir2</span></li><li><span class='ee-k'>crs:</span><span class='ee-v'>EPSG:32721</span></li><li><label class='ee-shut'>crs_transform: [30, 0, 610350, 0, -30, 9780030]<input type='checkbox' class='ee-toggle'></label><ul><li><span class='ee-k'>0:</span><span class='ee-v'>30</span></li><li><span class='ee-k'>1:</span><span class='ee-v'>0</span></li><li><span class='ee-k'>2:</span><span class='ee-v'>610350</span></li><li><span class='ee-k'>3:</span><span class='ee-v'>0</span></li><li><span class='ee-k'>4:</span><span class='ee-v'>-30</span></li><li><span class='ee-k'>5:</span><span class='ee-v'>9780030</span></li></ul></li><li><label class='ee-shut'>data_type: double<input type='checkbox' class='ee-toggle'></label><ul><li><span class='ee-k'>type:</span><span class='ee-v'>PixelType</span></li><li><span class='ee-k'>precision:</span><span class='ee-v'>double</span></li></ul></li><li><label class='ee-shut'>dimensions: [3865, 1186]<input type='checkbox' class='ee-toggle'></label><ul><li><span class='ee-k'>0:</span><span class='ee-v'>3865</span></li><li><span class='ee-k'>1:</span><span class='ee-v'>1186</span></li></ul></li></ul></li></ul></li><li><label class='ee-shut'>properties: Object (3 properties)<input type='checkbox' class='ee-toggle'></label><ul><li><span class='ee-k'>CLOUD_COVER:</span><span class='ee-v'>65</span></li><li><span class='ee-k'>system:index:</span><span class='ee-v'>BOA_LE07_227062_20130512</span></li><li><span class='ee-k'>system:time_start:</span><span class='ee-v'>1368366245398</span></li></ul></li></ul></li></ul></div><script>function toggleHeader() {\n",
              "    const parent = this.parentElement;\n",
              "    parent.className = parent.className === \"ee-open\" ? \"ee-shut\" : \"ee-open\";\n",
              "}\n",
              "\n",
              "for (let c of document.getElementsByClassName(\"ee-toggle\")) {\n",
              "    c.onclick = toggleHeader;\n",
              "}</script></div>"
            ]
          },
          "metadata": {},
          "execution_count": 36
        }
      ],
      "source": [
        "#renomear bandas\n",
        "\n",
        "ld7 = landsat7.map(lambda img: img.rename(name_bands)).map(deglint)\n",
        "ld7.first()"
      ]
    },
    {
      "cell_type": "markdown",
      "source": [
        "### Landsat 8"
      ],
      "metadata": {
        "id": "bFtU5-f58jdt"
      }
    },
    {
      "cell_type": "code",
      "source": [
        "ld8 = landsat8.map(lambda img: img.rename(name_bands)).map(deglint)\n",
        "ld8.first()"
      ],
      "metadata": {
        "id": "-Rw8JGNKPLda",
        "colab": {
          "base_uri": "https://localhost:8080/",
          "height": 0
        },
        "outputId": "e28e948f-d88d-48cc-ddbb-9a14f4c96d50"
      },
      "execution_count": 37,
      "outputs": [
        {
          "output_type": "display_data",
          "data": {
            "text/plain": [
              "<IPython.core.display.HTML object>"
            ],
            "text/html": [
              "\n",
              "            <style>\n",
              "                .geemap-dark {\n",
              "                    --jp-widgets-color: white;\n",
              "                    --jp-widgets-label-color: white;\n",
              "                    --jp-ui-font-color1: white;\n",
              "                    --jp-layout-color2: #454545;\n",
              "                    background-color: #383838;\n",
              "                }\n",
              "\n",
              "                .geemap-dark .jupyter-button {\n",
              "                    --jp-layout-color3: #383838;\n",
              "                }\n",
              "\n",
              "                .geemap-colab {\n",
              "                    background-color: var(--colab-primary-surface-color, white);\n",
              "                }\n",
              "\n",
              "                .geemap-colab .jupyter-button {\n",
              "                    --jp-layout-color3: var(--colab-primary-surface-color, white);\n",
              "                }\n",
              "            </style>\n",
              "            "
            ]
          },
          "metadata": {}
        },
        {
          "output_type": "execute_result",
          "data": {
            "text/plain": [
              "<ee.image.Image at 0x7cc2caaa15a0>"
            ],
            "text/html": [
              "<div><style>:root {\n",
              "  --font-color-primary: var(--jp-content-font-color0, rgba(0, 0, 0, 1));\n",
              "  --font-color-secondary: var(--jp-content-font-color2, rgba(0, 0, 0, 0.6));\n",
              "  --font-color-accent: rgba(123, 31, 162, 1);\n",
              "  --border-color: var(--jp-border-color2, #e0e0e0);\n",
              "  --background-color: var(--jp-layout-color0, white);\n",
              "  --background-color-row-even: var(--jp-layout-color1, white);\n",
              "  --background-color-row-odd: var(--jp-layout-color2, #eeeeee);\n",
              "}\n",
              "\n",
              "html[theme=\"dark\"],\n",
              "body[data-theme=\"dark\"],\n",
              "body.vscode-dark {\n",
              "  --font-color-primary: rgba(255, 255, 255, 1);\n",
              "  --font-color-secondary: rgba(255, 255, 255, 0.6);\n",
              "  --font-color-accent: rgb(173, 132, 190);\n",
              "  --border-color: #2e2e2e;\n",
              "  --background-color: #111111;\n",
              "  --background-color-row-even: #111111;\n",
              "  --background-color-row-odd: #313131;\n",
              "}\n",
              "\n",
              ".ee {\n",
              "  padding: 1em;\n",
              "  line-height: 1.5em;\n",
              "  min-width: 300px;\n",
              "  max-width: 1200px;\n",
              "  overflow-y: scroll;\n",
              "  max-height: 600px;\n",
              "  border: 1px solid var(--border-color);\n",
              "  font-family: monospace;\n",
              "}\n",
              "\n",
              ".ee li {\n",
              "  list-style-type: none;\n",
              "}\n",
              "\n",
              ".ee ul {\n",
              "  padding-left: 1.5em !important;\n",
              "  margin: 0;\n",
              "}\n",
              "\n",
              ".ee > ul {\n",
              "  padding-left: 0 !important;\n",
              "}\n",
              "\n",
              ".ee-open,\n",
              ".ee-shut {\n",
              "  color: var(--font-color-secondary);\n",
              "  cursor: pointer;\n",
              "  margin: 0;\n",
              "}\n",
              "\n",
              ".ee-open:hover,\n",
              ".ee-shut:hover {\n",
              "  color: var(--font-color-primary);\n",
              "}\n",
              "\n",
              ".ee-k {\n",
              "  color: var(--font-color-accent);\n",
              "  margin-right: 6px;\n",
              "}\n",
              "\n",
              ".ee-v {\n",
              "  color: var(--font-color-primary);\n",
              "}\n",
              "\n",
              ".ee-toggle {\n",
              "  display: none;\n",
              "}\n",
              "\n",
              ".ee-shut + ul {\n",
              "  display: none;\n",
              "}\n",
              "\n",
              ".ee-open + ul {\n",
              "  display: block;\n",
              "}\n",
              "\n",
              ".ee-shut::before {\n",
              "  display: inline-block;\n",
              "  content: \"▼\";\n",
              "  margin-right: 6px;\n",
              "  transform: rotate(-90deg);\n",
              "  transition: transform 0.2s;\n",
              "}\n",
              "\n",
              ".ee-open::before {\n",
              "  transform: rotate(0deg);\n",
              "  display: inline-block;\n",
              "  content: \"▼\";\n",
              "  margin-right: 6px;\n",
              "  transition: transform 0.2s;\n",
              "}\n",
              "</style><div class='ee'><ul><li><label class='ee-shut'>Image (6 bands)<input type='checkbox' class='ee-toggle'></label><ul><li><span class='ee-k'>type:</span><span class='ee-v'>Image</span></li><li><label class='ee-shut'>bands: List (6 elements)<input type='checkbox' class='ee-toggle'></label><ul><li><label class='ee-shut'>0: \"blue\", double, EPSG:32721, 3864x1186 px<input type='checkbox' class='ee-toggle'></label><ul><li><span class='ee-k'>id:</span><span class='ee-v'>blue</span></li><li><span class='ee-k'>crs:</span><span class='ee-v'>EPSG:32721</span></li><li><label class='ee-shut'>crs_transform: [30, 0, 610350, 0, -30, 9780030]<input type='checkbox' class='ee-toggle'></label><ul><li><span class='ee-k'>0:</span><span class='ee-v'>30</span></li><li><span class='ee-k'>1:</span><span class='ee-v'>0</span></li><li><span class='ee-k'>2:</span><span class='ee-v'>610350</span></li><li><span class='ee-k'>3:</span><span class='ee-v'>0</span></li><li><span class='ee-k'>4:</span><span class='ee-v'>-30</span></li><li><span class='ee-k'>5:</span><span class='ee-v'>9780030</span></li></ul></li><li><label class='ee-shut'>data_type: double<input type='checkbox' class='ee-toggle'></label><ul><li><span class='ee-k'>type:</span><span class='ee-v'>PixelType</span></li><li><span class='ee-k'>precision:</span><span class='ee-v'>double</span></li></ul></li><li><label class='ee-shut'>dimensions: [3864, 1186]<input type='checkbox' class='ee-toggle'></label><ul><li><span class='ee-k'>0:</span><span class='ee-v'>3864</span></li><li><span class='ee-k'>1:</span><span class='ee-v'>1186</span></li></ul></li></ul></li><li><label class='ee-shut'>1: \"green\", double, EPSG:32721, 3864x1186 px<input type='checkbox' class='ee-toggle'></label><ul><li><span class='ee-k'>id:</span><span class='ee-v'>green</span></li><li><span class='ee-k'>crs:</span><span class='ee-v'>EPSG:32721</span></li><li><label class='ee-shut'>crs_transform: [30, 0, 610350, 0, -30, 9780030]<input type='checkbox' class='ee-toggle'></label><ul><li><span class='ee-k'>0:</span><span class='ee-v'>30</span></li><li><span class='ee-k'>1:</span><span class='ee-v'>0</span></li><li><span class='ee-k'>2:</span><span class='ee-v'>610350</span></li><li><span class='ee-k'>3:</span><span class='ee-v'>0</span></li><li><span class='ee-k'>4:</span><span class='ee-v'>-30</span></li><li><span class='ee-k'>5:</span><span class='ee-v'>9780030</span></li></ul></li><li><label class='ee-shut'>data_type: double<input type='checkbox' class='ee-toggle'></label><ul><li><span class='ee-k'>type:</span><span class='ee-v'>PixelType</span></li><li><span class='ee-k'>precision:</span><span class='ee-v'>double</span></li></ul></li><li><label class='ee-shut'>dimensions: [3864, 1186]<input type='checkbox' class='ee-toggle'></label><ul><li><span class='ee-k'>0:</span><span class='ee-v'>3864</span></li><li><span class='ee-k'>1:</span><span class='ee-v'>1186</span></li></ul></li></ul></li><li><label class='ee-shut'>2: \"red\", double, EPSG:32721, 3864x1186 px<input type='checkbox' class='ee-toggle'></label><ul><li><span class='ee-k'>id:</span><span class='ee-v'>red</span></li><li><span class='ee-k'>crs:</span><span class='ee-v'>EPSG:32721</span></li><li><label class='ee-shut'>crs_transform: [30, 0, 610350, 0, -30, 9780030]<input type='checkbox' class='ee-toggle'></label><ul><li><span class='ee-k'>0:</span><span class='ee-v'>30</span></li><li><span class='ee-k'>1:</span><span class='ee-v'>0</span></li><li><span class='ee-k'>2:</span><span class='ee-v'>610350</span></li><li><span class='ee-k'>3:</span><span class='ee-v'>0</span></li><li><span class='ee-k'>4:</span><span class='ee-v'>-30</span></li><li><span class='ee-k'>5:</span><span class='ee-v'>9780030</span></li></ul></li><li><label class='ee-shut'>data_type: double<input type='checkbox' class='ee-toggle'></label><ul><li><span class='ee-k'>type:</span><span class='ee-v'>PixelType</span></li><li><span class='ee-k'>precision:</span><span class='ee-v'>double</span></li></ul></li><li><label class='ee-shut'>dimensions: [3864, 1186]<input type='checkbox' class='ee-toggle'></label><ul><li><span class='ee-k'>0:</span><span class='ee-v'>3864</span></li><li><span class='ee-k'>1:</span><span class='ee-v'>1186</span></li></ul></li></ul></li><li><label class='ee-shut'>3: \"nir\", double, EPSG:32721, 3864x1186 px<input type='checkbox' class='ee-toggle'></label><ul><li><span class='ee-k'>id:</span><span class='ee-v'>nir</span></li><li><span class='ee-k'>crs:</span><span class='ee-v'>EPSG:32721</span></li><li><label class='ee-shut'>crs_transform: [30, 0, 610350, 0, -30, 9780030]<input type='checkbox' class='ee-toggle'></label><ul><li><span class='ee-k'>0:</span><span class='ee-v'>30</span></li><li><span class='ee-k'>1:</span><span class='ee-v'>0</span></li><li><span class='ee-k'>2:</span><span class='ee-v'>610350</span></li><li><span class='ee-k'>3:</span><span class='ee-v'>0</span></li><li><span class='ee-k'>4:</span><span class='ee-v'>-30</span></li><li><span class='ee-k'>5:</span><span class='ee-v'>9780030</span></li></ul></li><li><label class='ee-shut'>data_type: double<input type='checkbox' class='ee-toggle'></label><ul><li><span class='ee-k'>type:</span><span class='ee-v'>PixelType</span></li><li><span class='ee-k'>precision:</span><span class='ee-v'>double</span></li></ul></li><li><label class='ee-shut'>dimensions: [3864, 1186]<input type='checkbox' class='ee-toggle'></label><ul><li><span class='ee-k'>0:</span><span class='ee-v'>3864</span></li><li><span class='ee-k'>1:</span><span class='ee-v'>1186</span></li></ul></li></ul></li><li><label class='ee-shut'>4: \"swir1\", double, EPSG:32721, 3864x1186 px<input type='checkbox' class='ee-toggle'></label><ul><li><span class='ee-k'>id:</span><span class='ee-v'>swir1</span></li><li><span class='ee-k'>crs:</span><span class='ee-v'>EPSG:32721</span></li><li><label class='ee-shut'>crs_transform: [30, 0, 610350, 0, -30, 9780030]<input type='checkbox' class='ee-toggle'></label><ul><li><span class='ee-k'>0:</span><span class='ee-v'>30</span></li><li><span class='ee-k'>1:</span><span class='ee-v'>0</span></li><li><span class='ee-k'>2:</span><span class='ee-v'>610350</span></li><li><span class='ee-k'>3:</span><span class='ee-v'>0</span></li><li><span class='ee-k'>4:</span><span class='ee-v'>-30</span></li><li><span class='ee-k'>5:</span><span class='ee-v'>9780030</span></li></ul></li><li><label class='ee-shut'>data_type: double<input type='checkbox' class='ee-toggle'></label><ul><li><span class='ee-k'>type:</span><span class='ee-v'>PixelType</span></li><li><span class='ee-k'>precision:</span><span class='ee-v'>double</span></li></ul></li><li><label class='ee-shut'>dimensions: [3864, 1186]<input type='checkbox' class='ee-toggle'></label><ul><li><span class='ee-k'>0:</span><span class='ee-v'>3864</span></li><li><span class='ee-k'>1:</span><span class='ee-v'>1186</span></li></ul></li></ul></li><li><label class='ee-shut'>5: \"swir2\", double, EPSG:32721, 3864x1186 px<input type='checkbox' class='ee-toggle'></label><ul><li><span class='ee-k'>id:</span><span class='ee-v'>swir2</span></li><li><span class='ee-k'>crs:</span><span class='ee-v'>EPSG:32721</span></li><li><label class='ee-shut'>crs_transform: [30, 0, 610350, 0, -30, 9780030]<input type='checkbox' class='ee-toggle'></label><ul><li><span class='ee-k'>0:</span><span class='ee-v'>30</span></li><li><span class='ee-k'>1:</span><span class='ee-v'>0</span></li><li><span class='ee-k'>2:</span><span class='ee-v'>610350</span></li><li><span class='ee-k'>3:</span><span class='ee-v'>0</span></li><li><span class='ee-k'>4:</span><span class='ee-v'>-30</span></li><li><span class='ee-k'>5:</span><span class='ee-v'>9780030</span></li></ul></li><li><label class='ee-shut'>data_type: double<input type='checkbox' class='ee-toggle'></label><ul><li><span class='ee-k'>type:</span><span class='ee-v'>PixelType</span></li><li><span class='ee-k'>precision:</span><span class='ee-v'>double</span></li></ul></li><li><label class='ee-shut'>dimensions: [3864, 1186]<input type='checkbox' class='ee-toggle'></label><ul><li><span class='ee-k'>0:</span><span class='ee-v'>3864</span></li><li><span class='ee-k'>1:</span><span class='ee-v'>1186</span></li></ul></li></ul></li></ul></li><li><label class='ee-shut'>properties: Object (3 properties)<input type='checkbox' class='ee-toggle'></label><ul><li><span class='ee-k'>CLOUD_COVER:</span><span class='ee-v'>57.72</span></li><li><span class='ee-k'>system:index:</span><span class='ee-v'>BOA_LC08_227062_20130520</span></li><li><span class='ee-k'>system:time_start:</span><span class='ee-v'>1369057814434</span></li></ul></li></ul></li></ul></div><script>function toggleHeader() {\n",
              "    const parent = this.parentElement;\n",
              "    parent.className = parent.className === \"ee-open\" ? \"ee-shut\" : \"ee-open\";\n",
              "}\n",
              "\n",
              "for (let c of document.getElementsByClassName(\"ee-toggle\")) {\n",
              "    c.onclick = toggleHeader;\n",
              "}</script></div>"
            ]
          },
          "metadata": {},
          "execution_count": 37
        }
      ]
    },
    {
      "cell_type": "markdown",
      "source": [
        "### Sentinel 2"
      ],
      "metadata": {
        "id": "LYjFFtSs8tSX"
      }
    },
    {
      "cell_type": "code",
      "source": [
        "s2 = sentinel2.map(lambda img: img.rename(name_bands)).map(deglint)\n",
        "# s2.first()"
      ],
      "metadata": {
        "id": "lXnxSFb-Lq0Z"
      },
      "execution_count": null,
      "outputs": []
    },
    {
      "cell_type": "code",
      "execution_count": null,
      "metadata": {
        "id": "sedm-Vb3_TPb"
      },
      "outputs": [],
      "source": [
        "Map = geemap.Map(basemap='HYBRID')\n",
        "Map.centerObject(roi_points,10)\n",
        "imgld7 = ld7.sort('CLOUD_COVER').first()\n",
        "imgLD8 = ld8.sort('CLOUD_COVER').first()\n",
        "imgS2 = s2.sort('CLOUD_COVER').first()\n",
        "Map.addLayer(imgld7, {'bands':['red','green','blue'], 'min':0,'max':0.02}, str(imgld7.get('system:index').getInfo()))\n",
        "Map.addLayer(imgLD8, {'bands':['red','green','blue'], 'min':0,'max':0.02}, str(imgLD8.get('system:index').getInfo()))\n",
        "Map.addLayer(imgS2, {'bands':['red','green','blue'], 'min':0,'max':0.03}, str(imgS2.get('system:index').getInfo()))\n",
        "\n",
        "Map.addLayer(roi_points, {'color':'darkred'}, 'Data Points');\n",
        "# Map.addLayer(roi_poly, {'color':'darkred'}, 'Data polygon');\n",
        "Map"
      ]
    },
    {
      "cell_type": "markdown",
      "metadata": {
        "id": "WH-K6yKxBuoY"
      },
      "source": [
        "# Sample data points pixel values"
      ]
    },
    {
      "cell_type": "markdown",
      "source": [
        "filter images that fall within a 16-day window period from each field point date"
      ],
      "metadata": {
        "id": "-B4lq8SGRMl8"
      }
    },
    {
      "cell_type": "code",
      "execution_count": 38,
      "metadata": {
        "id": "6Qj2mZVN_dPw",
        "outputId": "9de0997d-57d5-4cb4-a6f6-6234d8b4071a",
        "colab": {
          "base_uri": "https://localhost:8080/",
          "height": 17
        }
      },
      "outputs": [
        {
          "output_type": "display_data",
          "data": {
            "text/plain": [
              "<IPython.core.display.HTML object>"
            ],
            "text/html": [
              "\n",
              "            <style>\n",
              "                .geemap-dark {\n",
              "                    --jp-widgets-color: white;\n",
              "                    --jp-widgets-label-color: white;\n",
              "                    --jp-ui-font-color1: white;\n",
              "                    --jp-layout-color2: #454545;\n",
              "                    background-color: #383838;\n",
              "                }\n",
              "\n",
              "                .geemap-dark .jupyter-button {\n",
              "                    --jp-layout-color3: #383838;\n",
              "                }\n",
              "\n",
              "                .geemap-colab {\n",
              "                    background-color: var(--colab-primary-surface-color, white);\n",
              "                }\n",
              "\n",
              "                .geemap-colab .jupyter-button {\n",
              "                    --jp-layout-color3: var(--colab-primary-surface-color, white);\n",
              "                }\n",
              "            </style>\n",
              "            "
            ]
          },
          "metadata": {}
        }
      ],
      "source": [
        "def imgs_points(collection):\n",
        "    def wrap(feat):\n",
        "        date_point = ee.Date(feat.get('system:time_start'))\n",
        "        data1 = date_point.advance(-16,'day')\\\n",
        "        .format('yyyy-MM-dd')\n",
        "\n",
        "        data2 = date_point.advance(16,'day')\\\n",
        "        .format('yyyy-MM-dd')\n",
        "\n",
        "        filtro = collection.filterDate(data1,data2)\\\n",
        "        .filterBounds(feat.geometry())\\\n",
        "        .map(lambda img: img.set({\n",
        "            'dif_date_point':ee.Date(img.get('system:time_start')).difference(date_point, 'day')})\\\n",
        "            .copyProperties(feat,['ID']))\n",
        "\n",
        "\n",
        "        return ee.ImageCollection(filtro.limit(10))\n",
        "\n",
        "    return wrap"
      ]
    },
    {
      "cell_type": "markdown",
      "source": [
        "obtain statistics for the same location of the field point - with a 3 pixel window - and filter out if more than 4 pixels are masked   "
      ],
      "metadata": {
        "id": "A3RjeCtsRr2h"
      }
    },
    {
      "cell_type": "code",
      "source": [
        "prj = ld8.first().projection()\n",
        "prj"
      ],
      "metadata": {
        "collapsed": true,
        "colab": {
          "base_uri": "https://localhost:8080/",
          "height": 68
        },
        "id": "j64XB8L9GL50",
        "outputId": "2385c72b-978d-4798-df4b-0aabd013b768"
      },
      "execution_count": 39,
      "outputs": [
        {
          "output_type": "display_data",
          "data": {
            "text/plain": [
              "<IPython.core.display.HTML object>"
            ],
            "text/html": [
              "\n",
              "            <style>\n",
              "                .geemap-dark {\n",
              "                    --jp-widgets-color: white;\n",
              "                    --jp-widgets-label-color: white;\n",
              "                    --jp-ui-font-color1: white;\n",
              "                    --jp-layout-color2: #454545;\n",
              "                    background-color: #383838;\n",
              "                }\n",
              "\n",
              "                .geemap-dark .jupyter-button {\n",
              "                    --jp-layout-color3: #383838;\n",
              "                }\n",
              "\n",
              "                .geemap-colab {\n",
              "                    background-color: var(--colab-primary-surface-color, white);\n",
              "                }\n",
              "\n",
              "                .geemap-colab .jupyter-button {\n",
              "                    --jp-layout-color3: var(--colab-primary-surface-color, white);\n",
              "                }\n",
              "            </style>\n",
              "            "
            ]
          },
          "metadata": {}
        },
        {
          "output_type": "execute_result",
          "data": {
            "text/plain": [
              "<ee.projection.Projection at 0x7cc2ca72fb50>"
            ],
            "text/html": [
              "<div><style>:root {\n",
              "  --font-color-primary: var(--jp-content-font-color0, rgba(0, 0, 0, 1));\n",
              "  --font-color-secondary: var(--jp-content-font-color2, rgba(0, 0, 0, 0.6));\n",
              "  --font-color-accent: rgba(123, 31, 162, 1);\n",
              "  --border-color: var(--jp-border-color2, #e0e0e0);\n",
              "  --background-color: var(--jp-layout-color0, white);\n",
              "  --background-color-row-even: var(--jp-layout-color1, white);\n",
              "  --background-color-row-odd: var(--jp-layout-color2, #eeeeee);\n",
              "}\n",
              "\n",
              "html[theme=\"dark\"],\n",
              "body[data-theme=\"dark\"],\n",
              "body.vscode-dark {\n",
              "  --font-color-primary: rgba(255, 255, 255, 1);\n",
              "  --font-color-secondary: rgba(255, 255, 255, 0.6);\n",
              "  --font-color-accent: rgb(173, 132, 190);\n",
              "  --border-color: #2e2e2e;\n",
              "  --background-color: #111111;\n",
              "  --background-color-row-even: #111111;\n",
              "  --background-color-row-odd: #313131;\n",
              "}\n",
              "\n",
              ".ee {\n",
              "  padding: 1em;\n",
              "  line-height: 1.5em;\n",
              "  min-width: 300px;\n",
              "  max-width: 1200px;\n",
              "  overflow-y: scroll;\n",
              "  max-height: 600px;\n",
              "  border: 1px solid var(--border-color);\n",
              "  font-family: monospace;\n",
              "}\n",
              "\n",
              ".ee li {\n",
              "  list-style-type: none;\n",
              "}\n",
              "\n",
              ".ee ul {\n",
              "  padding-left: 1.5em !important;\n",
              "  margin: 0;\n",
              "}\n",
              "\n",
              ".ee > ul {\n",
              "  padding-left: 0 !important;\n",
              "}\n",
              "\n",
              ".ee-open,\n",
              ".ee-shut {\n",
              "  color: var(--font-color-secondary);\n",
              "  cursor: pointer;\n",
              "  margin: 0;\n",
              "}\n",
              "\n",
              ".ee-open:hover,\n",
              ".ee-shut:hover {\n",
              "  color: var(--font-color-primary);\n",
              "}\n",
              "\n",
              ".ee-k {\n",
              "  color: var(--font-color-accent);\n",
              "  margin-right: 6px;\n",
              "}\n",
              "\n",
              ".ee-v {\n",
              "  color: var(--font-color-primary);\n",
              "}\n",
              "\n",
              ".ee-toggle {\n",
              "  display: none;\n",
              "}\n",
              "\n",
              ".ee-shut + ul {\n",
              "  display: none;\n",
              "}\n",
              "\n",
              ".ee-open + ul {\n",
              "  display: block;\n",
              "}\n",
              "\n",
              ".ee-shut::before {\n",
              "  display: inline-block;\n",
              "  content: \"▼\";\n",
              "  margin-right: 6px;\n",
              "  transform: rotate(-90deg);\n",
              "  transition: transform 0.2s;\n",
              "}\n",
              "\n",
              ".ee-open::before {\n",
              "  transform: rotate(0deg);\n",
              "  display: inline-block;\n",
              "  content: \"▼\";\n",
              "  margin-right: 6px;\n",
              "  transition: transform 0.2s;\n",
              "}\n",
              "</style><div class='ee'><ul><li><label class='ee-shut'>Projection<input type='checkbox' class='ee-toggle'></label><ul><li><span class='ee-k'>type:</span><span class='ee-v'>Projection</span></li><li><span class='ee-k'>crs:</span><span class='ee-v'>EPSG:32721</span></li><li><label class='ee-shut'>transform: [30, 0, 610350, 0, -30, 9780030]<input type='checkbox' class='ee-toggle'></label><ul><li><span class='ee-k'>0:</span><span class='ee-v'>30</span></li><li><span class='ee-k'>1:</span><span class='ee-v'>0</span></li><li><span class='ee-k'>2:</span><span class='ee-v'>610350</span></li><li><span class='ee-k'>3:</span><span class='ee-v'>0</span></li><li><span class='ee-k'>4:</span><span class='ee-v'>-30</span></li><li><span class='ee-k'>5:</span><span class='ee-v'>9780030</span></li></ul></li></ul></li></ul></div><script>function toggleHeader() {\n",
              "    const parent = this.parentElement;\n",
              "    parent.className = parent.className === \"ee-open\" ? \"ee-shut\" : \"ee-open\";\n",
              "}\n",
              "\n",
              "for (let c of document.getElementsByClassName(\"ee-toggle\")) {\n",
              "    c.onclick = toggleHeader;\n",
              "}</script></div>"
            ]
          },
          "metadata": {},
          "execution_count": 39
        }
      ]
    },
    {
      "cell_type": "code",
      "source": [
        "def sample_point(img):\n",
        "\n",
        "  feat = roi_points.filter(ee.Filter.eq('ID',img.get('ID'))).first()\n",
        "  geom = feat.geometry().buffer(45).bounds()\n",
        "\n",
        "  mean = img.reduceRegion(geometry=geom,\n",
        "                          scale=prj.nominalScale(),\n",
        "                          crs=prj.crs(),\n",
        "                          reducer=ee.Reducer.mean())\n",
        "  median = img.reduceRegion(geometry=geom,\n",
        "                            scale=prj.nominalScale(),\n",
        "                            crs=prj.crs(),\n",
        "                            reducer=ee.Reducer.median())\n",
        "  minMax = img.reduceRegion(geometry=geom,\n",
        "                            scale=prj.nominalScale(),\n",
        "                            crs=prj.crs(),\n",
        "                            reducer=ee.Reducer.minMax())\n",
        "  count = img.reduceRegion(geometry=geom,\n",
        "                            scale=prj.nominalScale(),\n",
        "                            crs=prj.crs(),\n",
        "                            reducer=ee.Reducer.count())\n",
        "  return feat.set({\n",
        "      \"system_index\": img.get('system:index'),\n",
        "      'CLOUD_COVER':img.get('CLOUD_COVER'),\n",
        "      'img_date':ee.Date(img.get('system:time_start')).format(),\n",
        "      'dif_date_point': img.get('dif_date_point'),\n",
        "\n",
        "      'blue_mean':mean.get('blue'),\n",
        "      'green_mean':mean.get('green'),\n",
        "      'red_mean':mean.get('red'),\n",
        "      'nir_mean':mean.get('nir'),\n",
        "      'swir1_mean':mean.get('swir1'),\n",
        "      'swir2_mean':mean.get('swir2'),\n",
        "\n",
        "      'blue_median':median.get('blue'),\n",
        "      'green_meadin':median.get('green'),\n",
        "      'red_median':median.get('red'),\n",
        "      'nir_median':median.get('nir'),\n",
        "      'swir1_median':median.get('swir1'),\n",
        "      'swir2_median':median.get('swir2'),\n",
        "\n",
        "      'blue_min':minMax.get('blue_min'),\n",
        "      'green_min':minMax.get('green_min'),\n",
        "      'red_min':minMax.get('red_min'),\n",
        "      'nir_min':minMax.get('nir_min'),\n",
        "      'swir1_min':minMax.get('swir1_min'),\n",
        "      'swir2_min':minMax.get('swir2_min'),\n",
        "\n",
        "      'blue_max':minMax.get('blue_max'),\n",
        "      'green_max':minMax.get('green_max'),\n",
        "      'red_max':minMax.get('red_max'),\n",
        "      'nir_max':minMax.get('nir_max'),\n",
        "      'swir1_max':minMax.get('swir1_max'),\n",
        "      'swir2_max':minMax.get('swir2_max'),\n",
        "\n",
        "      \"count_pixel\":count.get('red')\n",
        "  })\n",
        "\n",
        "filter_count = ee.Filter.gt('count_pixel',3)\n",
        "\n",
        "\n"
      ],
      "metadata": {
        "id": "fk_ahS2mn65N",
        "outputId": "16ecd121-5b6e-4497-f4f1-bc5b5038d6ac",
        "colab": {
          "base_uri": "https://localhost:8080/",
          "height": 17
        }
      },
      "execution_count": 40,
      "outputs": [
        {
          "output_type": "display_data",
          "data": {
            "text/plain": [
              "<IPython.core.display.HTML object>"
            ],
            "text/html": [
              "\n",
              "            <style>\n",
              "                .geemap-dark {\n",
              "                    --jp-widgets-color: white;\n",
              "                    --jp-widgets-label-color: white;\n",
              "                    --jp-ui-font-color1: white;\n",
              "                    --jp-layout-color2: #454545;\n",
              "                    background-color: #383838;\n",
              "                }\n",
              "\n",
              "                .geemap-dark .jupyter-button {\n",
              "                    --jp-layout-color3: #383838;\n",
              "                }\n",
              "\n",
              "                .geemap-colab {\n",
              "                    background-color: var(--colab-primary-surface-color, white);\n",
              "                }\n",
              "\n",
              "                .geemap-colab .jupyter-button {\n",
              "                    --jp-layout-color3: var(--colab-primary-surface-color, white);\n",
              "                }\n",
              "            </style>\n",
              "            "
            ]
          },
          "metadata": {}
        }
      ]
    },
    {
      "cell_type": "markdown",
      "source": [
        "### Landsat 7"
      ],
      "metadata": {
        "id": "oX0L3v-DRbpf"
      }
    },
    {
      "cell_type": "code",
      "execution_count": 41,
      "metadata": {
        "id": "rDmbdMyLIBJH",
        "outputId": "a9338864-118d-4cf0-fa55-6d7d95a6c59d",
        "colab": {
          "base_uri": "https://localhost:8080/",
          "height": 0
        }
      },
      "outputs": [
        {
          "output_type": "display_data",
          "data": {
            "text/plain": [
              "<IPython.core.display.HTML object>"
            ],
            "text/html": [
              "\n",
              "            <style>\n",
              "                .geemap-dark {\n",
              "                    --jp-widgets-color: white;\n",
              "                    --jp-widgets-label-color: white;\n",
              "                    --jp-ui-font-color1: white;\n",
              "                    --jp-layout-color2: #454545;\n",
              "                    background-color: #383838;\n",
              "                }\n",
              "\n",
              "                .geemap-dark .jupyter-button {\n",
              "                    --jp-layout-color3: #383838;\n",
              "                }\n",
              "\n",
              "                .geemap-colab {\n",
              "                    background-color: var(--colab-primary-surface-color, white);\n",
              "                }\n",
              "\n",
              "                .geemap-colab .jupyter-button {\n",
              "                    --jp-layout-color3: var(--colab-primary-surface-color, white);\n",
              "                }\n",
              "            </style>\n",
              "            "
            ]
          },
          "metadata": {}
        }
      ],
      "source": [
        "img_pointsLD7 = ee.ImageCollection(roi_points.map(imgs_points(ld7)).flatten().toList(2000))"
      ]
    },
    {
      "cell_type": "code",
      "execution_count": 42,
      "metadata": {
        "id": "HmnUEuH6IUC6",
        "colab": {
          "base_uri": "https://localhost:8080/",
          "height": 0
        },
        "outputId": "6f8c4f3b-4a93-4c02-be7e-bd68c0bd590a"
      },
      "outputs": [
        {
          "output_type": "display_data",
          "data": {
            "text/plain": [
              "<IPython.core.display.HTML object>"
            ],
            "text/html": [
              "\n",
              "            <style>\n",
              "                .geemap-dark {\n",
              "                    --jp-widgets-color: white;\n",
              "                    --jp-widgets-label-color: white;\n",
              "                    --jp-ui-font-color1: white;\n",
              "                    --jp-layout-color2: #454545;\n",
              "                    background-color: #383838;\n",
              "                }\n",
              "\n",
              "                .geemap-dark .jupyter-button {\n",
              "                    --jp-layout-color3: #383838;\n",
              "                }\n",
              "\n",
              "                .geemap-colab {\n",
              "                    background-color: var(--colab-primary-surface-color, white);\n",
              "                }\n",
              "\n",
              "                .geemap-colab .jupyter-button {\n",
              "                    --jp-layout-color3: var(--colab-primary-surface-color, white);\n",
              "                }\n",
              "            </style>\n",
              "            "
            ]
          },
          "metadata": {}
        },
        {
          "output_type": "execute_result",
          "data": {
            "text/plain": [
              "<ee.ee_number.Number at 0x7cc2c9fdb850>"
            ],
            "text/html": [
              "<div><style>:root {\n",
              "  --font-color-primary: var(--jp-content-font-color0, rgba(0, 0, 0, 1));\n",
              "  --font-color-secondary: var(--jp-content-font-color2, rgba(0, 0, 0, 0.6));\n",
              "  --font-color-accent: rgba(123, 31, 162, 1);\n",
              "  --border-color: var(--jp-border-color2, #e0e0e0);\n",
              "  --background-color: var(--jp-layout-color0, white);\n",
              "  --background-color-row-even: var(--jp-layout-color1, white);\n",
              "  --background-color-row-odd: var(--jp-layout-color2, #eeeeee);\n",
              "}\n",
              "\n",
              "html[theme=\"dark\"],\n",
              "body[data-theme=\"dark\"],\n",
              "body.vscode-dark {\n",
              "  --font-color-primary: rgba(255, 255, 255, 1);\n",
              "  --font-color-secondary: rgba(255, 255, 255, 0.6);\n",
              "  --font-color-accent: rgb(173, 132, 190);\n",
              "  --border-color: #2e2e2e;\n",
              "  --background-color: #111111;\n",
              "  --background-color-row-even: #111111;\n",
              "  --background-color-row-odd: #313131;\n",
              "}\n",
              "\n",
              ".ee {\n",
              "  padding: 1em;\n",
              "  line-height: 1.5em;\n",
              "  min-width: 300px;\n",
              "  max-width: 1200px;\n",
              "  overflow-y: scroll;\n",
              "  max-height: 600px;\n",
              "  border: 1px solid var(--border-color);\n",
              "  font-family: monospace;\n",
              "}\n",
              "\n",
              ".ee li {\n",
              "  list-style-type: none;\n",
              "}\n",
              "\n",
              ".ee ul {\n",
              "  padding-left: 1.5em !important;\n",
              "  margin: 0;\n",
              "}\n",
              "\n",
              ".ee > ul {\n",
              "  padding-left: 0 !important;\n",
              "}\n",
              "\n",
              ".ee-open,\n",
              ".ee-shut {\n",
              "  color: var(--font-color-secondary);\n",
              "  cursor: pointer;\n",
              "  margin: 0;\n",
              "}\n",
              "\n",
              ".ee-open:hover,\n",
              ".ee-shut:hover {\n",
              "  color: var(--font-color-primary);\n",
              "}\n",
              "\n",
              ".ee-k {\n",
              "  color: var(--font-color-accent);\n",
              "  margin-right: 6px;\n",
              "}\n",
              "\n",
              ".ee-v {\n",
              "  color: var(--font-color-primary);\n",
              "}\n",
              "\n",
              ".ee-toggle {\n",
              "  display: none;\n",
              "}\n",
              "\n",
              ".ee-shut + ul {\n",
              "  display: none;\n",
              "}\n",
              "\n",
              ".ee-open + ul {\n",
              "  display: block;\n",
              "}\n",
              "\n",
              ".ee-shut::before {\n",
              "  display: inline-block;\n",
              "  content: \"▼\";\n",
              "  margin-right: 6px;\n",
              "  transform: rotate(-90deg);\n",
              "  transition: transform 0.2s;\n",
              "}\n",
              "\n",
              ".ee-open::before {\n",
              "  transform: rotate(0deg);\n",
              "  display: inline-block;\n",
              "  content: \"▼\";\n",
              "  margin-right: 6px;\n",
              "  transition: transform 0.2s;\n",
              "}\n",
              "</style><div class='ee'><ul><li><span class='ee-v'>1131</span></li></ul></div><script>function toggleHeader() {\n",
              "    const parent = this.parentElement;\n",
              "    parent.className = parent.className === \"ee-open\" ? \"ee-shut\" : \"ee-open\";\n",
              "}\n",
              "\n",
              "for (let c of document.getElementsByClassName(\"ee-toggle\")) {\n",
              "    c.onclick = toggleHeader;\n",
              "}</script></div>"
            ]
          },
          "metadata": {},
          "execution_count": 42
        }
      ],
      "source": [
        "img_pointsLD7.size()\n"
      ]
    },
    {
      "cell_type": "code",
      "source": [
        "img_pointsLD7.aggregate_count_distinct('ID')"
      ],
      "metadata": {
        "id": "FOTB7ldweviC",
        "colab": {
          "base_uri": "https://localhost:8080/",
          "height": 0
        },
        "outputId": "25844f26-a7f4-498b-9563-929d6ddc6aaf"
      },
      "execution_count": 43,
      "outputs": [
        {
          "output_type": "display_data",
          "data": {
            "text/plain": [
              "<IPython.core.display.HTML object>"
            ],
            "text/html": [
              "\n",
              "            <style>\n",
              "                .geemap-dark {\n",
              "                    --jp-widgets-color: white;\n",
              "                    --jp-widgets-label-color: white;\n",
              "                    --jp-ui-font-color1: white;\n",
              "                    --jp-layout-color2: #454545;\n",
              "                    background-color: #383838;\n",
              "                }\n",
              "\n",
              "                .geemap-dark .jupyter-button {\n",
              "                    --jp-layout-color3: #383838;\n",
              "                }\n",
              "\n",
              "                .geemap-colab {\n",
              "                    background-color: var(--colab-primary-surface-color, white);\n",
              "                }\n",
              "\n",
              "                .geemap-colab .jupyter-button {\n",
              "                    --jp-layout-color3: var(--colab-primary-surface-color, white);\n",
              "                }\n",
              "            </style>\n",
              "            "
            ]
          },
          "metadata": {}
        },
        {
          "output_type": "execute_result",
          "data": {
            "text/plain": [
              "<ee.ee_number.Number at 0x7cc2c9fd8d60>"
            ],
            "text/html": [
              "<div><style>:root {\n",
              "  --font-color-primary: var(--jp-content-font-color0, rgba(0, 0, 0, 1));\n",
              "  --font-color-secondary: var(--jp-content-font-color2, rgba(0, 0, 0, 0.6));\n",
              "  --font-color-accent: rgba(123, 31, 162, 1);\n",
              "  --border-color: var(--jp-border-color2, #e0e0e0);\n",
              "  --background-color: var(--jp-layout-color0, white);\n",
              "  --background-color-row-even: var(--jp-layout-color1, white);\n",
              "  --background-color-row-odd: var(--jp-layout-color2, #eeeeee);\n",
              "}\n",
              "\n",
              "html[theme=\"dark\"],\n",
              "body[data-theme=\"dark\"],\n",
              "body.vscode-dark {\n",
              "  --font-color-primary: rgba(255, 255, 255, 1);\n",
              "  --font-color-secondary: rgba(255, 255, 255, 0.6);\n",
              "  --font-color-accent: rgb(173, 132, 190);\n",
              "  --border-color: #2e2e2e;\n",
              "  --background-color: #111111;\n",
              "  --background-color-row-even: #111111;\n",
              "  --background-color-row-odd: #313131;\n",
              "}\n",
              "\n",
              ".ee {\n",
              "  padding: 1em;\n",
              "  line-height: 1.5em;\n",
              "  min-width: 300px;\n",
              "  max-width: 1200px;\n",
              "  overflow-y: scroll;\n",
              "  max-height: 600px;\n",
              "  border: 1px solid var(--border-color);\n",
              "  font-family: monospace;\n",
              "}\n",
              "\n",
              ".ee li {\n",
              "  list-style-type: none;\n",
              "}\n",
              "\n",
              ".ee ul {\n",
              "  padding-left: 1.5em !important;\n",
              "  margin: 0;\n",
              "}\n",
              "\n",
              ".ee > ul {\n",
              "  padding-left: 0 !important;\n",
              "}\n",
              "\n",
              ".ee-open,\n",
              ".ee-shut {\n",
              "  color: var(--font-color-secondary);\n",
              "  cursor: pointer;\n",
              "  margin: 0;\n",
              "}\n",
              "\n",
              ".ee-open:hover,\n",
              ".ee-shut:hover {\n",
              "  color: var(--font-color-primary);\n",
              "}\n",
              "\n",
              ".ee-k {\n",
              "  color: var(--font-color-accent);\n",
              "  margin-right: 6px;\n",
              "}\n",
              "\n",
              ".ee-v {\n",
              "  color: var(--font-color-primary);\n",
              "}\n",
              "\n",
              ".ee-toggle {\n",
              "  display: none;\n",
              "}\n",
              "\n",
              ".ee-shut + ul {\n",
              "  display: none;\n",
              "}\n",
              "\n",
              ".ee-open + ul {\n",
              "  display: block;\n",
              "}\n",
              "\n",
              ".ee-shut::before {\n",
              "  display: inline-block;\n",
              "  content: \"▼\";\n",
              "  margin-right: 6px;\n",
              "  transform: rotate(-90deg);\n",
              "  transition: transform 0.2s;\n",
              "}\n",
              "\n",
              ".ee-open::before {\n",
              "  transform: rotate(0deg);\n",
              "  display: inline-block;\n",
              "  content: \"▼\";\n",
              "  margin-right: 6px;\n",
              "  transition: transform 0.2s;\n",
              "}\n",
              "</style><div class='ee'><ul><li><span class='ee-v'>363</span></li></ul></div><script>function toggleHeader() {\n",
              "    const parent = this.parentElement;\n",
              "    parent.className = parent.className === \"ee-open\" ? \"ee-shut\" : \"ee-open\";\n",
              "}\n",
              "\n",
              "for (let c of document.getElementsByClassName(\"ee-toggle\")) {\n",
              "    c.onclick = toggleHeader;\n",
              "}</script></div>"
            ]
          },
          "metadata": {},
          "execution_count": 43
        }
      ]
    },
    {
      "cell_type": "code",
      "source": [
        "img_pointsLD7.limit(5)"
      ],
      "metadata": {
        "id": "lwFy4mjzU7Zf",
        "colab": {
          "base_uri": "https://localhost:8080/",
          "height": 0
        },
        "outputId": "9a24bf02-45b3-4401-823b-bfe473eee076"
      },
      "execution_count": 44,
      "outputs": [
        {
          "output_type": "display_data",
          "data": {
            "text/plain": [
              "<IPython.core.display.HTML object>"
            ],
            "text/html": [
              "\n",
              "            <style>\n",
              "                .geemap-dark {\n",
              "                    --jp-widgets-color: white;\n",
              "                    --jp-widgets-label-color: white;\n",
              "                    --jp-ui-font-color1: white;\n",
              "                    --jp-layout-color2: #454545;\n",
              "                    background-color: #383838;\n",
              "                }\n",
              "\n",
              "                .geemap-dark .jupyter-button {\n",
              "                    --jp-layout-color3: #383838;\n",
              "                }\n",
              "\n",
              "                .geemap-colab {\n",
              "                    background-color: var(--colab-primary-surface-color, white);\n",
              "                }\n",
              "\n",
              "                .geemap-colab .jupyter-button {\n",
              "                    --jp-layout-color3: var(--colab-primary-surface-color, white);\n",
              "                }\n",
              "            </style>\n",
              "            "
            ]
          },
          "metadata": {}
        },
        {
          "output_type": "execute_result",
          "data": {
            "text/plain": [
              "<ee.imagecollection.ImageCollection at 0x7cc2c9fdbfd0>"
            ],
            "text/html": [
              "<div><style>:root {\n",
              "  --font-color-primary: var(--jp-content-font-color0, rgba(0, 0, 0, 1));\n",
              "  --font-color-secondary: var(--jp-content-font-color2, rgba(0, 0, 0, 0.6));\n",
              "  --font-color-accent: rgba(123, 31, 162, 1);\n",
              "  --border-color: var(--jp-border-color2, #e0e0e0);\n",
              "  --background-color: var(--jp-layout-color0, white);\n",
              "  --background-color-row-even: var(--jp-layout-color1, white);\n",
              "  --background-color-row-odd: var(--jp-layout-color2, #eeeeee);\n",
              "}\n",
              "\n",
              "html[theme=\"dark\"],\n",
              "body[data-theme=\"dark\"],\n",
              "body.vscode-dark {\n",
              "  --font-color-primary: rgba(255, 255, 255, 1);\n",
              "  --font-color-secondary: rgba(255, 255, 255, 0.6);\n",
              "  --font-color-accent: rgb(173, 132, 190);\n",
              "  --border-color: #2e2e2e;\n",
              "  --background-color: #111111;\n",
              "  --background-color-row-even: #111111;\n",
              "  --background-color-row-odd: #313131;\n",
              "}\n",
              "\n",
              ".ee {\n",
              "  padding: 1em;\n",
              "  line-height: 1.5em;\n",
              "  min-width: 300px;\n",
              "  max-width: 1200px;\n",
              "  overflow-y: scroll;\n",
              "  max-height: 600px;\n",
              "  border: 1px solid var(--border-color);\n",
              "  font-family: monospace;\n",
              "}\n",
              "\n",
              ".ee li {\n",
              "  list-style-type: none;\n",
              "}\n",
              "\n",
              ".ee ul {\n",
              "  padding-left: 1.5em !important;\n",
              "  margin: 0;\n",
              "}\n",
              "\n",
              ".ee > ul {\n",
              "  padding-left: 0 !important;\n",
              "}\n",
              "\n",
              ".ee-open,\n",
              ".ee-shut {\n",
              "  color: var(--font-color-secondary);\n",
              "  cursor: pointer;\n",
              "  margin: 0;\n",
              "}\n",
              "\n",
              ".ee-open:hover,\n",
              ".ee-shut:hover {\n",
              "  color: var(--font-color-primary);\n",
              "}\n",
              "\n",
              ".ee-k {\n",
              "  color: var(--font-color-accent);\n",
              "  margin-right: 6px;\n",
              "}\n",
              "\n",
              ".ee-v {\n",
              "  color: var(--font-color-primary);\n",
              "}\n",
              "\n",
              ".ee-toggle {\n",
              "  display: none;\n",
              "}\n",
              "\n",
              ".ee-shut + ul {\n",
              "  display: none;\n",
              "}\n",
              "\n",
              ".ee-open + ul {\n",
              "  display: block;\n",
              "}\n",
              "\n",
              ".ee-shut::before {\n",
              "  display: inline-block;\n",
              "  content: \"▼\";\n",
              "  margin-right: 6px;\n",
              "  transform: rotate(-90deg);\n",
              "  transition: transform 0.2s;\n",
              "}\n",
              "\n",
              ".ee-open::before {\n",
              "  transform: rotate(0deg);\n",
              "  display: inline-block;\n",
              "  content: \"▼\";\n",
              "  margin-right: 6px;\n",
              "  transition: transform 0.2s;\n",
              "}\n",
              "</style><div class='ee'><ul><li><label class='ee-shut'>ImageCollection (5 elements)<input type='checkbox' class='ee-toggle'></label><ul><li><span class='ee-k'>type:</span><span class='ee-v'>ImageCollection</span></li><li><label class='ee-shut'>bands: []<input type='checkbox' class='ee-toggle'></label><ul></ul></li><li><label class='ee-shut'>features: List (5 elements)<input type='checkbox' class='ee-toggle'></label><ul><li><label class='ee-shut'>0: Image (6 bands)<input type='checkbox' class='ee-toggle'></label><ul><li><span class='ee-k'>type:</span><span class='ee-v'>Image</span></li><li><label class='ee-shut'>bands: List (6 elements)<input type='checkbox' class='ee-toggle'></label><ul><li><label class='ee-shut'>0: \"blue\", double, EPSG:32721, 3865x1186 px<input type='checkbox' class='ee-toggle'></label><ul><li><span class='ee-k'>id:</span><span class='ee-v'>blue</span></li><li><span class='ee-k'>crs:</span><span class='ee-v'>EPSG:32721</span></li><li><label class='ee-shut'>crs_transform: [30, 0, 610350, 0, -30, 9780030]<input type='checkbox' class='ee-toggle'></label><ul><li><span class='ee-k'>0:</span><span class='ee-v'>30</span></li><li><span class='ee-k'>1:</span><span class='ee-v'>0</span></li><li><span class='ee-k'>2:</span><span class='ee-v'>610350</span></li><li><span class='ee-k'>3:</span><span class='ee-v'>0</span></li><li><span class='ee-k'>4:</span><span class='ee-v'>-30</span></li><li><span class='ee-k'>5:</span><span class='ee-v'>9780030</span></li></ul></li><li><label class='ee-shut'>data_type: double<input type='checkbox' class='ee-toggle'></label><ul><li><span class='ee-k'>type:</span><span class='ee-v'>PixelType</span></li><li><span class='ee-k'>precision:</span><span class='ee-v'>double</span></li></ul></li><li><label class='ee-shut'>dimensions: [3865, 1186]<input type='checkbox' class='ee-toggle'></label><ul><li><span class='ee-k'>0:</span><span class='ee-v'>3865</span></li><li><span class='ee-k'>1:</span><span class='ee-v'>1186</span></li></ul></li></ul></li><li><label class='ee-shut'>1: \"green\", double, EPSG:32721, 3865x1186 px<input type='checkbox' class='ee-toggle'></label><ul><li><span class='ee-k'>id:</span><span class='ee-v'>green</span></li><li><span class='ee-k'>crs:</span><span class='ee-v'>EPSG:32721</span></li><li><label class='ee-shut'>crs_transform: [30, 0, 610350, 0, -30, 9780030]<input type='checkbox' class='ee-toggle'></label><ul><li><span class='ee-k'>0:</span><span class='ee-v'>30</span></li><li><span class='ee-k'>1:</span><span class='ee-v'>0</span></li><li><span class='ee-k'>2:</span><span class='ee-v'>610350</span></li><li><span class='ee-k'>3:</span><span class='ee-v'>0</span></li><li><span class='ee-k'>4:</span><span class='ee-v'>-30</span></li><li><span class='ee-k'>5:</span><span class='ee-v'>9780030</span></li></ul></li><li><label class='ee-shut'>data_type: double<input type='checkbox' class='ee-toggle'></label><ul><li><span class='ee-k'>type:</span><span class='ee-v'>PixelType</span></li><li><span class='ee-k'>precision:</span><span class='ee-v'>double</span></li></ul></li><li><label class='ee-shut'>dimensions: [3865, 1186]<input type='checkbox' class='ee-toggle'></label><ul><li><span class='ee-k'>0:</span><span class='ee-v'>3865</span></li><li><span class='ee-k'>1:</span><span class='ee-v'>1186</span></li></ul></li></ul></li><li><label class='ee-shut'>2: \"red\", double, EPSG:32721, 3865x1186 px<input type='checkbox' class='ee-toggle'></label><ul><li><span class='ee-k'>id:</span><span class='ee-v'>red</span></li><li><span class='ee-k'>crs:</span><span class='ee-v'>EPSG:32721</span></li><li><label class='ee-shut'>crs_transform: [30, 0, 610350, 0, -30, 9780030]<input type='checkbox' class='ee-toggle'></label><ul><li><span class='ee-k'>0:</span><span class='ee-v'>30</span></li><li><span class='ee-k'>1:</span><span class='ee-v'>0</span></li><li><span class='ee-k'>2:</span><span class='ee-v'>610350</span></li><li><span class='ee-k'>3:</span><span class='ee-v'>0</span></li><li><span class='ee-k'>4:</span><span class='ee-v'>-30</span></li><li><span class='ee-k'>5:</span><span class='ee-v'>9780030</span></li></ul></li><li><label class='ee-shut'>data_type: double<input type='checkbox' class='ee-toggle'></label><ul><li><span class='ee-k'>type:</span><span class='ee-v'>PixelType</span></li><li><span class='ee-k'>precision:</span><span class='ee-v'>double</span></li></ul></li><li><label class='ee-shut'>dimensions: [3865, 1186]<input type='checkbox' class='ee-toggle'></label><ul><li><span class='ee-k'>0:</span><span class='ee-v'>3865</span></li><li><span class='ee-k'>1:</span><span class='ee-v'>1186</span></li></ul></li></ul></li><li><label class='ee-shut'>3: \"nir\", double, EPSG:32721, 3865x1186 px<input type='checkbox' class='ee-toggle'></label><ul><li><span class='ee-k'>id:</span><span class='ee-v'>nir</span></li><li><span class='ee-k'>crs:</span><span class='ee-v'>EPSG:32721</span></li><li><label class='ee-shut'>crs_transform: [30, 0, 610350, 0, -30, 9780030]<input type='checkbox' class='ee-toggle'></label><ul><li><span class='ee-k'>0:</span><span class='ee-v'>30</span></li><li><span class='ee-k'>1:</span><span class='ee-v'>0</span></li><li><span class='ee-k'>2:</span><span class='ee-v'>610350</span></li><li><span class='ee-k'>3:</span><span class='ee-v'>0</span></li><li><span class='ee-k'>4:</span><span class='ee-v'>-30</span></li><li><span class='ee-k'>5:</span><span class='ee-v'>9780030</span></li></ul></li><li><label class='ee-shut'>data_type: double<input type='checkbox' class='ee-toggle'></label><ul><li><span class='ee-k'>type:</span><span class='ee-v'>PixelType</span></li><li><span class='ee-k'>precision:</span><span class='ee-v'>double</span></li></ul></li><li><label class='ee-shut'>dimensions: [3865, 1186]<input type='checkbox' class='ee-toggle'></label><ul><li><span class='ee-k'>0:</span><span class='ee-v'>3865</span></li><li><span class='ee-k'>1:</span><span class='ee-v'>1186</span></li></ul></li></ul></li><li><label class='ee-shut'>4: \"swir1\", double, EPSG:32721, 3865x1186 px<input type='checkbox' class='ee-toggle'></label><ul><li><span class='ee-k'>id:</span><span class='ee-v'>swir1</span></li><li><span class='ee-k'>crs:</span><span class='ee-v'>EPSG:32721</span></li><li><label class='ee-shut'>crs_transform: [30, 0, 610350, 0, -30, 9780030]<input type='checkbox' class='ee-toggle'></label><ul><li><span class='ee-k'>0:</span><span class='ee-v'>30</span></li><li><span class='ee-k'>1:</span><span class='ee-v'>0</span></li><li><span class='ee-k'>2:</span><span class='ee-v'>610350</span></li><li><span class='ee-k'>3:</span><span class='ee-v'>0</span></li><li><span class='ee-k'>4:</span><span class='ee-v'>-30</span></li><li><span class='ee-k'>5:</span><span class='ee-v'>9780030</span></li></ul></li><li><label class='ee-shut'>data_type: double<input type='checkbox' class='ee-toggle'></label><ul><li><span class='ee-k'>type:</span><span class='ee-v'>PixelType</span></li><li><span class='ee-k'>precision:</span><span class='ee-v'>double</span></li></ul></li><li><label class='ee-shut'>dimensions: [3865, 1186]<input type='checkbox' class='ee-toggle'></label><ul><li><span class='ee-k'>0:</span><span class='ee-v'>3865</span></li><li><span class='ee-k'>1:</span><span class='ee-v'>1186</span></li></ul></li></ul></li><li><label class='ee-shut'>5: \"swir2\", double, EPSG:32721, 3865x1186 px<input type='checkbox' class='ee-toggle'></label><ul><li><span class='ee-k'>id:</span><span class='ee-v'>swir2</span></li><li><span class='ee-k'>crs:</span><span class='ee-v'>EPSG:32721</span></li><li><label class='ee-shut'>crs_transform: [30, 0, 610350, 0, -30, 9780030]<input type='checkbox' class='ee-toggle'></label><ul><li><span class='ee-k'>0:</span><span class='ee-v'>30</span></li><li><span class='ee-k'>1:</span><span class='ee-v'>0</span></li><li><span class='ee-k'>2:</span><span class='ee-v'>610350</span></li><li><span class='ee-k'>3:</span><span class='ee-v'>0</span></li><li><span class='ee-k'>4:</span><span class='ee-v'>-30</span></li><li><span class='ee-k'>5:</span><span class='ee-v'>9780030</span></li></ul></li><li><label class='ee-shut'>data_type: double<input type='checkbox' class='ee-toggle'></label><ul><li><span class='ee-k'>type:</span><span class='ee-v'>PixelType</span></li><li><span class='ee-k'>precision:</span><span class='ee-v'>double</span></li></ul></li><li><label class='ee-shut'>dimensions: [3865, 1186]<input type='checkbox' class='ee-toggle'></label><ul><li><span class='ee-k'>0:</span><span class='ee-v'>3865</span></li><li><span class='ee-k'>1:</span><span class='ee-v'>1186</span></li></ul></li></ul></li></ul></li><li><label class='ee-shut'>properties: Object (5 properties)<input type='checkbox' class='ee-toggle'></label><ul><li><span class='ee-k'>CLOUD_COVER:</span><span class='ee-v'>51</span></li><li><span class='ee-k'>ID:</span><span class='ee-v'>0</span></li><li><span class='ee-k'>dif_date_point:</span><span class='ee-v'>8.576471157407408</span></li><li><span class='ee-k'>system:index:</span><span class='ee-v'>0_BOA_LE07_228061_20130316</span></li><li><span class='ee-k'>system:time_start:</span><span class='ee-v'>1363441807108</span></li></ul></li></ul></li><li><label class='ee-shut'>1: Image (6 bands)<input type='checkbox' class='ee-toggle'></label><ul><li><span class='ee-k'>type:</span><span class='ee-v'>Image</span></li><li><label class='ee-shut'>bands: List (6 elements)<input type='checkbox' class='ee-toggle'></label><ul><li><label class='ee-shut'>0: \"blue\", double, EPSG:32721, 3865x1186 px<input type='checkbox' class='ee-toggle'></label><ul><li><span class='ee-k'>id:</span><span class='ee-v'>blue</span></li><li><span class='ee-k'>crs:</span><span class='ee-v'>EPSG:32721</span></li><li><label class='ee-shut'>crs_transform: [30, 0, 610350, 0, -30, 9780030]<input type='checkbox' class='ee-toggle'></label><ul><li><span class='ee-k'>0:</span><span class='ee-v'>30</span></li><li><span class='ee-k'>1:</span><span class='ee-v'>0</span></li><li><span class='ee-k'>2:</span><span class='ee-v'>610350</span></li><li><span class='ee-k'>3:</span><span class='ee-v'>0</span></li><li><span class='ee-k'>4:</span><span class='ee-v'>-30</span></li><li><span class='ee-k'>5:</span><span class='ee-v'>9780030</span></li></ul></li><li><label class='ee-shut'>data_type: double<input type='checkbox' class='ee-toggle'></label><ul><li><span class='ee-k'>type:</span><span class='ee-v'>PixelType</span></li><li><span class='ee-k'>precision:</span><span class='ee-v'>double</span></li></ul></li><li><label class='ee-shut'>dimensions: [3865, 1186]<input type='checkbox' class='ee-toggle'></label><ul><li><span class='ee-k'>0:</span><span class='ee-v'>3865</span></li><li><span class='ee-k'>1:</span><span class='ee-v'>1186</span></li></ul></li></ul></li><li><label class='ee-shut'>1: \"green\", double, EPSG:32721, 3865x1186 px<input type='checkbox' class='ee-toggle'></label><ul><li><span class='ee-k'>id:</span><span class='ee-v'>green</span></li><li><span class='ee-k'>crs:</span><span class='ee-v'>EPSG:32721</span></li><li><label class='ee-shut'>crs_transform: [30, 0, 610350, 0, -30, 9780030]<input type='checkbox' class='ee-toggle'></label><ul><li><span class='ee-k'>0:</span><span class='ee-v'>30</span></li><li><span class='ee-k'>1:</span><span class='ee-v'>0</span></li><li><span class='ee-k'>2:</span><span class='ee-v'>610350</span></li><li><span class='ee-k'>3:</span><span class='ee-v'>0</span></li><li><span class='ee-k'>4:</span><span class='ee-v'>-30</span></li><li><span class='ee-k'>5:</span><span class='ee-v'>9780030</span></li></ul></li><li><label class='ee-shut'>data_type: double<input type='checkbox' class='ee-toggle'></label><ul><li><span class='ee-k'>type:</span><span class='ee-v'>PixelType</span></li><li><span class='ee-k'>precision:</span><span class='ee-v'>double</span></li></ul></li><li><label class='ee-shut'>dimensions: [3865, 1186]<input type='checkbox' class='ee-toggle'></label><ul><li><span class='ee-k'>0:</span><span class='ee-v'>3865</span></li><li><span class='ee-k'>1:</span><span class='ee-v'>1186</span></li></ul></li></ul></li><li><label class='ee-shut'>2: \"red\", double, EPSG:32721, 3865x1186 px<input type='checkbox' class='ee-toggle'></label><ul><li><span class='ee-k'>id:</span><span class='ee-v'>red</span></li><li><span class='ee-k'>crs:</span><span class='ee-v'>EPSG:32721</span></li><li><label class='ee-shut'>crs_transform: [30, 0, 610350, 0, -30, 9780030]<input type='checkbox' class='ee-toggle'></label><ul><li><span class='ee-k'>0:</span><span class='ee-v'>30</span></li><li><span class='ee-k'>1:</span><span class='ee-v'>0</span></li><li><span class='ee-k'>2:</span><span class='ee-v'>610350</span></li><li><span class='ee-k'>3:</span><span class='ee-v'>0</span></li><li><span class='ee-k'>4:</span><span class='ee-v'>-30</span></li><li><span class='ee-k'>5:</span><span class='ee-v'>9780030</span></li></ul></li><li><label class='ee-shut'>data_type: double<input type='checkbox' class='ee-toggle'></label><ul><li><span class='ee-k'>type:</span><span class='ee-v'>PixelType</span></li><li><span class='ee-k'>precision:</span><span class='ee-v'>double</span></li></ul></li><li><label class='ee-shut'>dimensions: [3865, 1186]<input type='checkbox' class='ee-toggle'></label><ul><li><span class='ee-k'>0:</span><span class='ee-v'>3865</span></li><li><span class='ee-k'>1:</span><span class='ee-v'>1186</span></li></ul></li></ul></li><li><label class='ee-shut'>3: \"nir\", double, EPSG:32721, 3865x1186 px<input type='checkbox' class='ee-toggle'></label><ul><li><span class='ee-k'>id:</span><span class='ee-v'>nir</span></li><li><span class='ee-k'>crs:</span><span class='ee-v'>EPSG:32721</span></li><li><label class='ee-shut'>crs_transform: [30, 0, 610350, 0, -30, 9780030]<input type='checkbox' class='ee-toggle'></label><ul><li><span class='ee-k'>0:</span><span class='ee-v'>30</span></li><li><span class='ee-k'>1:</span><span class='ee-v'>0</span></li><li><span class='ee-k'>2:</span><span class='ee-v'>610350</span></li><li><span class='ee-k'>3:</span><span class='ee-v'>0</span></li><li><span class='ee-k'>4:</span><span class='ee-v'>-30</span></li><li><span class='ee-k'>5:</span><span class='ee-v'>9780030</span></li></ul></li><li><label class='ee-shut'>data_type: double<input type='checkbox' class='ee-toggle'></label><ul><li><span class='ee-k'>type:</span><span class='ee-v'>PixelType</span></li><li><span class='ee-k'>precision:</span><span class='ee-v'>double</span></li></ul></li><li><label class='ee-shut'>dimensions: [3865, 1186]<input type='checkbox' class='ee-toggle'></label><ul><li><span class='ee-k'>0:</span><span class='ee-v'>3865</span></li><li><span class='ee-k'>1:</span><span class='ee-v'>1186</span></li></ul></li></ul></li><li><label class='ee-shut'>4: \"swir1\", double, EPSG:32721, 3865x1186 px<input type='checkbox' class='ee-toggle'></label><ul><li><span class='ee-k'>id:</span><span class='ee-v'>swir1</span></li><li><span class='ee-k'>crs:</span><span class='ee-v'>EPSG:32721</span></li><li><label class='ee-shut'>crs_transform: [30, 0, 610350, 0, -30, 9780030]<input type='checkbox' class='ee-toggle'></label><ul><li><span class='ee-k'>0:</span><span class='ee-v'>30</span></li><li><span class='ee-k'>1:</span><span class='ee-v'>0</span></li><li><span class='ee-k'>2:</span><span class='ee-v'>610350</span></li><li><span class='ee-k'>3:</span><span class='ee-v'>0</span></li><li><span class='ee-k'>4:</span><span class='ee-v'>-30</span></li><li><span class='ee-k'>5:</span><span class='ee-v'>9780030</span></li></ul></li><li><label class='ee-shut'>data_type: double<input type='checkbox' class='ee-toggle'></label><ul><li><span class='ee-k'>type:</span><span class='ee-v'>PixelType</span></li><li><span class='ee-k'>precision:</span><span class='ee-v'>double</span></li></ul></li><li><label class='ee-shut'>dimensions: [3865, 1186]<input type='checkbox' class='ee-toggle'></label><ul><li><span class='ee-k'>0:</span><span class='ee-v'>3865</span></li><li><span class='ee-k'>1:</span><span class='ee-v'>1186</span></li></ul></li></ul></li><li><label class='ee-shut'>5: \"swir2\", double, EPSG:32721, 3865x1186 px<input type='checkbox' class='ee-toggle'></label><ul><li><span class='ee-k'>id:</span><span class='ee-v'>swir2</span></li><li><span class='ee-k'>crs:</span><span class='ee-v'>EPSG:32721</span></li><li><label class='ee-shut'>crs_transform: [30, 0, 610350, 0, -30, 9780030]<input type='checkbox' class='ee-toggle'></label><ul><li><span class='ee-k'>0:</span><span class='ee-v'>30</span></li><li><span class='ee-k'>1:</span><span class='ee-v'>0</span></li><li><span class='ee-k'>2:</span><span class='ee-v'>610350</span></li><li><span class='ee-k'>3:</span><span class='ee-v'>0</span></li><li><span class='ee-k'>4:</span><span class='ee-v'>-30</span></li><li><span class='ee-k'>5:</span><span class='ee-v'>9780030</span></li></ul></li><li><label class='ee-shut'>data_type: double<input type='checkbox' class='ee-toggle'></label><ul><li><span class='ee-k'>type:</span><span class='ee-v'>PixelType</span></li><li><span class='ee-k'>precision:</span><span class='ee-v'>double</span></li></ul></li><li><label class='ee-shut'>dimensions: [3865, 1186]<input type='checkbox' class='ee-toggle'></label><ul><li><span class='ee-k'>0:</span><span class='ee-v'>3865</span></li><li><span class='ee-k'>1:</span><span class='ee-v'>1186</span></li></ul></li></ul></li></ul></li><li><label class='ee-shut'>properties: Object (5 properties)<input type='checkbox' class='ee-toggle'></label><ul><li><span class='ee-k'>CLOUD_COVER:</span><span class='ee-v'>73</span></li><li><span class='ee-k'>ID:</span><span class='ee-v'>0</span></li><li><span class='ee-k'>dif_date_point:</span><span class='ee-v'>8.576748043981482</span></li><li><span class='ee-k'>system:index:</span><span class='ee-v'>0_BOA_LE07_228062_20130316</span></li><li><span class='ee-k'>system:time_start:</span><span class='ee-v'>1363441831031</span></li></ul></li></ul></li><li><label class='ee-shut'>2: Image (6 bands)<input type='checkbox' class='ee-toggle'></label><ul><li><span class='ee-k'>type:</span><span class='ee-v'>Image</span></li><li><label class='ee-shut'>bands: List (6 elements)<input type='checkbox' class='ee-toggle'></label><ul><li><label class='ee-shut'>0: \"blue\", double, EPSG:32721, 3865x1186 px<input type='checkbox' class='ee-toggle'></label><ul><li><span class='ee-k'>id:</span><span class='ee-v'>blue</span></li><li><span class='ee-k'>crs:</span><span class='ee-v'>EPSG:32721</span></li><li><label class='ee-shut'>crs_transform: [30, 0, 610350, 0, -30, 9780030]<input type='checkbox' class='ee-toggle'></label><ul><li><span class='ee-k'>0:</span><span class='ee-v'>30</span></li><li><span class='ee-k'>1:</span><span class='ee-v'>0</span></li><li><span class='ee-k'>2:</span><span class='ee-v'>610350</span></li><li><span class='ee-k'>3:</span><span class='ee-v'>0</span></li><li><span class='ee-k'>4:</span><span class='ee-v'>-30</span></li><li><span class='ee-k'>5:</span><span class='ee-v'>9780030</span></li></ul></li><li><label class='ee-shut'>data_type: double<input type='checkbox' class='ee-toggle'></label><ul><li><span class='ee-k'>type:</span><span class='ee-v'>PixelType</span></li><li><span class='ee-k'>precision:</span><span class='ee-v'>double</span></li></ul></li><li><label class='ee-shut'>dimensions: [3865, 1186]<input type='checkbox' class='ee-toggle'></label><ul><li><span class='ee-k'>0:</span><span class='ee-v'>3865</span></li><li><span class='ee-k'>1:</span><span class='ee-v'>1186</span></li></ul></li></ul></li><li><label class='ee-shut'>1: \"green\", double, EPSG:32721, 3865x1186 px<input type='checkbox' class='ee-toggle'></label><ul><li><span class='ee-k'>id:</span><span class='ee-v'>green</span></li><li><span class='ee-k'>crs:</span><span class='ee-v'>EPSG:32721</span></li><li><label class='ee-shut'>crs_transform: [30, 0, 610350, 0, -30, 9780030]<input type='checkbox' class='ee-toggle'></label><ul><li><span class='ee-k'>0:</span><span class='ee-v'>30</span></li><li><span class='ee-k'>1:</span><span class='ee-v'>0</span></li><li><span class='ee-k'>2:</span><span class='ee-v'>610350</span></li><li><span class='ee-k'>3:</span><span class='ee-v'>0</span></li><li><span class='ee-k'>4:</span><span class='ee-v'>-30</span></li><li><span class='ee-k'>5:</span><span class='ee-v'>9780030</span></li></ul></li><li><label class='ee-shut'>data_type: double<input type='checkbox' class='ee-toggle'></label><ul><li><span class='ee-k'>type:</span><span class='ee-v'>PixelType</span></li><li><span class='ee-k'>precision:</span><span class='ee-v'>double</span></li></ul></li><li><label class='ee-shut'>dimensions: [3865, 1186]<input type='checkbox' class='ee-toggle'></label><ul><li><span class='ee-k'>0:</span><span class='ee-v'>3865</span></li><li><span class='ee-k'>1:</span><span class='ee-v'>1186</span></li></ul></li></ul></li><li><label class='ee-shut'>2: \"red\", double, EPSG:32721, 3865x1186 px<input type='checkbox' class='ee-toggle'></label><ul><li><span class='ee-k'>id:</span><span class='ee-v'>red</span></li><li><span class='ee-k'>crs:</span><span class='ee-v'>EPSG:32721</span></li><li><label class='ee-shut'>crs_transform: [30, 0, 610350, 0, -30, 9780030]<input type='checkbox' class='ee-toggle'></label><ul><li><span class='ee-k'>0:</span><span class='ee-v'>30</span></li><li><span class='ee-k'>1:</span><span class='ee-v'>0</span></li><li><span class='ee-k'>2:</span><span class='ee-v'>610350</span></li><li><span class='ee-k'>3:</span><span class='ee-v'>0</span></li><li><span class='ee-k'>4:</span><span class='ee-v'>-30</span></li><li><span class='ee-k'>5:</span><span class='ee-v'>9780030</span></li></ul></li><li><label class='ee-shut'>data_type: double<input type='checkbox' class='ee-toggle'></label><ul><li><span class='ee-k'>type:</span><span class='ee-v'>PixelType</span></li><li><span class='ee-k'>precision:</span><span class='ee-v'>double</span></li></ul></li><li><label class='ee-shut'>dimensions: [3865, 1186]<input type='checkbox' class='ee-toggle'></label><ul><li><span class='ee-k'>0:</span><span class='ee-v'>3865</span></li><li><span class='ee-k'>1:</span><span class='ee-v'>1186</span></li></ul></li></ul></li><li><label class='ee-shut'>3: \"nir\", double, EPSG:32721, 3865x1186 px<input type='checkbox' class='ee-toggle'></label><ul><li><span class='ee-k'>id:</span><span class='ee-v'>nir</span></li><li><span class='ee-k'>crs:</span><span class='ee-v'>EPSG:32721</span></li><li><label class='ee-shut'>crs_transform: [30, 0, 610350, 0, -30, 9780030]<input type='checkbox' class='ee-toggle'></label><ul><li><span class='ee-k'>0:</span><span class='ee-v'>30</span></li><li><span class='ee-k'>1:</span><span class='ee-v'>0</span></li><li><span class='ee-k'>2:</span><span class='ee-v'>610350</span></li><li><span class='ee-k'>3:</span><span class='ee-v'>0</span></li><li><span class='ee-k'>4:</span><span class='ee-v'>-30</span></li><li><span class='ee-k'>5:</span><span class='ee-v'>9780030</span></li></ul></li><li><label class='ee-shut'>data_type: double<input type='checkbox' class='ee-toggle'></label><ul><li><span class='ee-k'>type:</span><span class='ee-v'>PixelType</span></li><li><span class='ee-k'>precision:</span><span class='ee-v'>double</span></li></ul></li><li><label class='ee-shut'>dimensions: [3865, 1186]<input type='checkbox' class='ee-toggle'></label><ul><li><span class='ee-k'>0:</span><span class='ee-v'>3865</span></li><li><span class='ee-k'>1:</span><span class='ee-v'>1186</span></li></ul></li></ul></li><li><label class='ee-shut'>4: \"swir1\", double, EPSG:32721, 3865x1186 px<input type='checkbox' class='ee-toggle'></label><ul><li><span class='ee-k'>id:</span><span class='ee-v'>swir1</span></li><li><span class='ee-k'>crs:</span><span class='ee-v'>EPSG:32721</span></li><li><label class='ee-shut'>crs_transform: [30, 0, 610350, 0, -30, 9780030]<input type='checkbox' class='ee-toggle'></label><ul><li><span class='ee-k'>0:</span><span class='ee-v'>30</span></li><li><span class='ee-k'>1:</span><span class='ee-v'>0</span></li><li><span class='ee-k'>2:</span><span class='ee-v'>610350</span></li><li><span class='ee-k'>3:</span><span class='ee-v'>0</span></li><li><span class='ee-k'>4:</span><span class='ee-v'>-30</span></li><li><span class='ee-k'>5:</span><span class='ee-v'>9780030</span></li></ul></li><li><label class='ee-shut'>data_type: double<input type='checkbox' class='ee-toggle'></label><ul><li><span class='ee-k'>type:</span><span class='ee-v'>PixelType</span></li><li><span class='ee-k'>precision:</span><span class='ee-v'>double</span></li></ul></li><li><label class='ee-shut'>dimensions: [3865, 1186]<input type='checkbox' class='ee-toggle'></label><ul><li><span class='ee-k'>0:</span><span class='ee-v'>3865</span></li><li><span class='ee-k'>1:</span><span class='ee-v'>1186</span></li></ul></li></ul></li><li><label class='ee-shut'>5: \"swir2\", double, EPSG:32721, 3865x1186 px<input type='checkbox' class='ee-toggle'></label><ul><li><span class='ee-k'>id:</span><span class='ee-v'>swir2</span></li><li><span class='ee-k'>crs:</span><span class='ee-v'>EPSG:32721</span></li><li><label class='ee-shut'>crs_transform: [30, 0, 610350, 0, -30, 9780030]<input type='checkbox' class='ee-toggle'></label><ul><li><span class='ee-k'>0:</span><span class='ee-v'>30</span></li><li><span class='ee-k'>1:</span><span class='ee-v'>0</span></li><li><span class='ee-k'>2:</span><span class='ee-v'>610350</span></li><li><span class='ee-k'>3:</span><span class='ee-v'>0</span></li><li><span class='ee-k'>4:</span><span class='ee-v'>-30</span></li><li><span class='ee-k'>5:</span><span class='ee-v'>9780030</span></li></ul></li><li><label class='ee-shut'>data_type: double<input type='checkbox' class='ee-toggle'></label><ul><li><span class='ee-k'>type:</span><span class='ee-v'>PixelType</span></li><li><span class='ee-k'>precision:</span><span class='ee-v'>double</span></li></ul></li><li><label class='ee-shut'>dimensions: [3865, 1186]<input type='checkbox' class='ee-toggle'></label><ul><li><span class='ee-k'>0:</span><span class='ee-v'>3865</span></li><li><span class='ee-k'>1:</span><span class='ee-v'>1186</span></li></ul></li></ul></li></ul></li><li><label class='ee-shut'>properties: Object (5 properties)<input type='checkbox' class='ee-toggle'></label><ul><li><span class='ee-k'>CLOUD_COVER:</span><span class='ee-v'>51</span></li><li><span class='ee-k'>ID:</span><span class='ee-v'>1</span></li><li><span class='ee-k'>dif_date_point:</span><span class='ee-v'>8.576471157407408</span></li><li><span class='ee-k'>system:index:</span><span class='ee-v'>1_BOA_LE07_228061_20130316</span></li><li><span class='ee-k'>system:time_start:</span><span class='ee-v'>1363441807108</span></li></ul></li></ul></li><li><label class='ee-shut'>3: Image (6 bands)<input type='checkbox' class='ee-toggle'></label><ul><li><span class='ee-k'>type:</span><span class='ee-v'>Image</span></li><li><label class='ee-shut'>bands: List (6 elements)<input type='checkbox' class='ee-toggle'></label><ul><li><label class='ee-shut'>0: \"blue\", double, EPSG:32721, 3865x1186 px<input type='checkbox' class='ee-toggle'></label><ul><li><span class='ee-k'>id:</span><span class='ee-v'>blue</span></li><li><span class='ee-k'>crs:</span><span class='ee-v'>EPSG:32721</span></li><li><label class='ee-shut'>crs_transform: [30, 0, 610350, 0, -30, 9780030]<input type='checkbox' class='ee-toggle'></label><ul><li><span class='ee-k'>0:</span><span class='ee-v'>30</span></li><li><span class='ee-k'>1:</span><span class='ee-v'>0</span></li><li><span class='ee-k'>2:</span><span class='ee-v'>610350</span></li><li><span class='ee-k'>3:</span><span class='ee-v'>0</span></li><li><span class='ee-k'>4:</span><span class='ee-v'>-30</span></li><li><span class='ee-k'>5:</span><span class='ee-v'>9780030</span></li></ul></li><li><label class='ee-shut'>data_type: double<input type='checkbox' class='ee-toggle'></label><ul><li><span class='ee-k'>type:</span><span class='ee-v'>PixelType</span></li><li><span class='ee-k'>precision:</span><span class='ee-v'>double</span></li></ul></li><li><label class='ee-shut'>dimensions: [3865, 1186]<input type='checkbox' class='ee-toggle'></label><ul><li><span class='ee-k'>0:</span><span class='ee-v'>3865</span></li><li><span class='ee-k'>1:</span><span class='ee-v'>1186</span></li></ul></li></ul></li><li><label class='ee-shut'>1: \"green\", double, EPSG:32721, 3865x1186 px<input type='checkbox' class='ee-toggle'></label><ul><li><span class='ee-k'>id:</span><span class='ee-v'>green</span></li><li><span class='ee-k'>crs:</span><span class='ee-v'>EPSG:32721</span></li><li><label class='ee-shut'>crs_transform: [30, 0, 610350, 0, -30, 9780030]<input type='checkbox' class='ee-toggle'></label><ul><li><span class='ee-k'>0:</span><span class='ee-v'>30</span></li><li><span class='ee-k'>1:</span><span class='ee-v'>0</span></li><li><span class='ee-k'>2:</span><span class='ee-v'>610350</span></li><li><span class='ee-k'>3:</span><span class='ee-v'>0</span></li><li><span class='ee-k'>4:</span><span class='ee-v'>-30</span></li><li><span class='ee-k'>5:</span><span class='ee-v'>9780030</span></li></ul></li><li><label class='ee-shut'>data_type: double<input type='checkbox' class='ee-toggle'></label><ul><li><span class='ee-k'>type:</span><span class='ee-v'>PixelType</span></li><li><span class='ee-k'>precision:</span><span class='ee-v'>double</span></li></ul></li><li><label class='ee-shut'>dimensions: [3865, 1186]<input type='checkbox' class='ee-toggle'></label><ul><li><span class='ee-k'>0:</span><span class='ee-v'>3865</span></li><li><span class='ee-k'>1:</span><span class='ee-v'>1186</span></li></ul></li></ul></li><li><label class='ee-shut'>2: \"red\", double, EPSG:32721, 3865x1186 px<input type='checkbox' class='ee-toggle'></label><ul><li><span class='ee-k'>id:</span><span class='ee-v'>red</span></li><li><span class='ee-k'>crs:</span><span class='ee-v'>EPSG:32721</span></li><li><label class='ee-shut'>crs_transform: [30, 0, 610350, 0, -30, 9780030]<input type='checkbox' class='ee-toggle'></label><ul><li><span class='ee-k'>0:</span><span class='ee-v'>30</span></li><li><span class='ee-k'>1:</span><span class='ee-v'>0</span></li><li><span class='ee-k'>2:</span><span class='ee-v'>610350</span></li><li><span class='ee-k'>3:</span><span class='ee-v'>0</span></li><li><span class='ee-k'>4:</span><span class='ee-v'>-30</span></li><li><span class='ee-k'>5:</span><span class='ee-v'>9780030</span></li></ul></li><li><label class='ee-shut'>data_type: double<input type='checkbox' class='ee-toggle'></label><ul><li><span class='ee-k'>type:</span><span class='ee-v'>PixelType</span></li><li><span class='ee-k'>precision:</span><span class='ee-v'>double</span></li></ul></li><li><label class='ee-shut'>dimensions: [3865, 1186]<input type='checkbox' class='ee-toggle'></label><ul><li><span class='ee-k'>0:</span><span class='ee-v'>3865</span></li><li><span class='ee-k'>1:</span><span class='ee-v'>1186</span></li></ul></li></ul></li><li><label class='ee-shut'>3: \"nir\", double, EPSG:32721, 3865x1186 px<input type='checkbox' class='ee-toggle'></label><ul><li><span class='ee-k'>id:</span><span class='ee-v'>nir</span></li><li><span class='ee-k'>crs:</span><span class='ee-v'>EPSG:32721</span></li><li><label class='ee-shut'>crs_transform: [30, 0, 610350, 0, -30, 9780030]<input type='checkbox' class='ee-toggle'></label><ul><li><span class='ee-k'>0:</span><span class='ee-v'>30</span></li><li><span class='ee-k'>1:</span><span class='ee-v'>0</span></li><li><span class='ee-k'>2:</span><span class='ee-v'>610350</span></li><li><span class='ee-k'>3:</span><span class='ee-v'>0</span></li><li><span class='ee-k'>4:</span><span class='ee-v'>-30</span></li><li><span class='ee-k'>5:</span><span class='ee-v'>9780030</span></li></ul></li><li><label class='ee-shut'>data_type: double<input type='checkbox' class='ee-toggle'></label><ul><li><span class='ee-k'>type:</span><span class='ee-v'>PixelType</span></li><li><span class='ee-k'>precision:</span><span class='ee-v'>double</span></li></ul></li><li><label class='ee-shut'>dimensions: [3865, 1186]<input type='checkbox' class='ee-toggle'></label><ul><li><span class='ee-k'>0:</span><span class='ee-v'>3865</span></li><li><span class='ee-k'>1:</span><span class='ee-v'>1186</span></li></ul></li></ul></li><li><label class='ee-shut'>4: \"swir1\", double, EPSG:32721, 3865x1186 px<input type='checkbox' class='ee-toggle'></label><ul><li><span class='ee-k'>id:</span><span class='ee-v'>swir1</span></li><li><span class='ee-k'>crs:</span><span class='ee-v'>EPSG:32721</span></li><li><label class='ee-shut'>crs_transform: [30, 0, 610350, 0, -30, 9780030]<input type='checkbox' class='ee-toggle'></label><ul><li><span class='ee-k'>0:</span><span class='ee-v'>30</span></li><li><span class='ee-k'>1:</span><span class='ee-v'>0</span></li><li><span class='ee-k'>2:</span><span class='ee-v'>610350</span></li><li><span class='ee-k'>3:</span><span class='ee-v'>0</span></li><li><span class='ee-k'>4:</span><span class='ee-v'>-30</span></li><li><span class='ee-k'>5:</span><span class='ee-v'>9780030</span></li></ul></li><li><label class='ee-shut'>data_type: double<input type='checkbox' class='ee-toggle'></label><ul><li><span class='ee-k'>type:</span><span class='ee-v'>PixelType</span></li><li><span class='ee-k'>precision:</span><span class='ee-v'>double</span></li></ul></li><li><label class='ee-shut'>dimensions: [3865, 1186]<input type='checkbox' class='ee-toggle'></label><ul><li><span class='ee-k'>0:</span><span class='ee-v'>3865</span></li><li><span class='ee-k'>1:</span><span class='ee-v'>1186</span></li></ul></li></ul></li><li><label class='ee-shut'>5: \"swir2\", double, EPSG:32721, 3865x1186 px<input type='checkbox' class='ee-toggle'></label><ul><li><span class='ee-k'>id:</span><span class='ee-v'>swir2</span></li><li><span class='ee-k'>crs:</span><span class='ee-v'>EPSG:32721</span></li><li><label class='ee-shut'>crs_transform: [30, 0, 610350, 0, -30, 9780030]<input type='checkbox' class='ee-toggle'></label><ul><li><span class='ee-k'>0:</span><span class='ee-v'>30</span></li><li><span class='ee-k'>1:</span><span class='ee-v'>0</span></li><li><span class='ee-k'>2:</span><span class='ee-v'>610350</span></li><li><span class='ee-k'>3:</span><span class='ee-v'>0</span></li><li><span class='ee-k'>4:</span><span class='ee-v'>-30</span></li><li><span class='ee-k'>5:</span><span class='ee-v'>9780030</span></li></ul></li><li><label class='ee-shut'>data_type: double<input type='checkbox' class='ee-toggle'></label><ul><li><span class='ee-k'>type:</span><span class='ee-v'>PixelType</span></li><li><span class='ee-k'>precision:</span><span class='ee-v'>double</span></li></ul></li><li><label class='ee-shut'>dimensions: [3865, 1186]<input type='checkbox' class='ee-toggle'></label><ul><li><span class='ee-k'>0:</span><span class='ee-v'>3865</span></li><li><span class='ee-k'>1:</span><span class='ee-v'>1186</span></li></ul></li></ul></li></ul></li><li><label class='ee-shut'>properties: Object (5 properties)<input type='checkbox' class='ee-toggle'></label><ul><li><span class='ee-k'>CLOUD_COVER:</span><span class='ee-v'>73</span></li><li><span class='ee-k'>ID:</span><span class='ee-v'>1</span></li><li><span class='ee-k'>dif_date_point:</span><span class='ee-v'>8.576748043981482</span></li><li><span class='ee-k'>system:index:</span><span class='ee-v'>1_BOA_LE07_228062_20130316</span></li><li><span class='ee-k'>system:time_start:</span><span class='ee-v'>1363441831031</span></li></ul></li></ul></li><li><label class='ee-shut'>4: Image (6 bands)<input type='checkbox' class='ee-toggle'></label><ul><li><span class='ee-k'>type:</span><span class='ee-v'>Image</span></li><li><label class='ee-shut'>bands: List (6 elements)<input type='checkbox' class='ee-toggle'></label><ul><li><label class='ee-shut'>0: \"blue\", double, EPSG:32721, 3865x1186 px<input type='checkbox' class='ee-toggle'></label><ul><li><span class='ee-k'>id:</span><span class='ee-v'>blue</span></li><li><span class='ee-k'>crs:</span><span class='ee-v'>EPSG:32721</span></li><li><label class='ee-shut'>crs_transform: [30, 0, 610350, 0, -30, 9780030]<input type='checkbox' class='ee-toggle'></label><ul><li><span class='ee-k'>0:</span><span class='ee-v'>30</span></li><li><span class='ee-k'>1:</span><span class='ee-v'>0</span></li><li><span class='ee-k'>2:</span><span class='ee-v'>610350</span></li><li><span class='ee-k'>3:</span><span class='ee-v'>0</span></li><li><span class='ee-k'>4:</span><span class='ee-v'>-30</span></li><li><span class='ee-k'>5:</span><span class='ee-v'>9780030</span></li></ul></li><li><label class='ee-shut'>data_type: double<input type='checkbox' class='ee-toggle'></label><ul><li><span class='ee-k'>type:</span><span class='ee-v'>PixelType</span></li><li><span class='ee-k'>precision:</span><span class='ee-v'>double</span></li></ul></li><li><label class='ee-shut'>dimensions: [3865, 1186]<input type='checkbox' class='ee-toggle'></label><ul><li><span class='ee-k'>0:</span><span class='ee-v'>3865</span></li><li><span class='ee-k'>1:</span><span class='ee-v'>1186</span></li></ul></li></ul></li><li><label class='ee-shut'>1: \"green\", double, EPSG:32721, 3865x1186 px<input type='checkbox' class='ee-toggle'></label><ul><li><span class='ee-k'>id:</span><span class='ee-v'>green</span></li><li><span class='ee-k'>crs:</span><span class='ee-v'>EPSG:32721</span></li><li><label class='ee-shut'>crs_transform: [30, 0, 610350, 0, -30, 9780030]<input type='checkbox' class='ee-toggle'></label><ul><li><span class='ee-k'>0:</span><span class='ee-v'>30</span></li><li><span class='ee-k'>1:</span><span class='ee-v'>0</span></li><li><span class='ee-k'>2:</span><span class='ee-v'>610350</span></li><li><span class='ee-k'>3:</span><span class='ee-v'>0</span></li><li><span class='ee-k'>4:</span><span class='ee-v'>-30</span></li><li><span class='ee-k'>5:</span><span class='ee-v'>9780030</span></li></ul></li><li><label class='ee-shut'>data_type: double<input type='checkbox' class='ee-toggle'></label><ul><li><span class='ee-k'>type:</span><span class='ee-v'>PixelType</span></li><li><span class='ee-k'>precision:</span><span class='ee-v'>double</span></li></ul></li><li><label class='ee-shut'>dimensions: [3865, 1186]<input type='checkbox' class='ee-toggle'></label><ul><li><span class='ee-k'>0:</span><span class='ee-v'>3865</span></li><li><span class='ee-k'>1:</span><span class='ee-v'>1186</span></li></ul></li></ul></li><li><label class='ee-shut'>2: \"red\", double, EPSG:32721, 3865x1186 px<input type='checkbox' class='ee-toggle'></label><ul><li><span class='ee-k'>id:</span><span class='ee-v'>red</span></li><li><span class='ee-k'>crs:</span><span class='ee-v'>EPSG:32721</span></li><li><label class='ee-shut'>crs_transform: [30, 0, 610350, 0, -30, 9780030]<input type='checkbox' class='ee-toggle'></label><ul><li><span class='ee-k'>0:</span><span class='ee-v'>30</span></li><li><span class='ee-k'>1:</span><span class='ee-v'>0</span></li><li><span class='ee-k'>2:</span><span class='ee-v'>610350</span></li><li><span class='ee-k'>3:</span><span class='ee-v'>0</span></li><li><span class='ee-k'>4:</span><span class='ee-v'>-30</span></li><li><span class='ee-k'>5:</span><span class='ee-v'>9780030</span></li></ul></li><li><label class='ee-shut'>data_type: double<input type='checkbox' class='ee-toggle'></label><ul><li><span class='ee-k'>type:</span><span class='ee-v'>PixelType</span></li><li><span class='ee-k'>precision:</span><span class='ee-v'>double</span></li></ul></li><li><label class='ee-shut'>dimensions: [3865, 1186]<input type='checkbox' class='ee-toggle'></label><ul><li><span class='ee-k'>0:</span><span class='ee-v'>3865</span></li><li><span class='ee-k'>1:</span><span class='ee-v'>1186</span></li></ul></li></ul></li><li><label class='ee-shut'>3: \"nir\", double, EPSG:32721, 3865x1186 px<input type='checkbox' class='ee-toggle'></label><ul><li><span class='ee-k'>id:</span><span class='ee-v'>nir</span></li><li><span class='ee-k'>crs:</span><span class='ee-v'>EPSG:32721</span></li><li><label class='ee-shut'>crs_transform: [30, 0, 610350, 0, -30, 9780030]<input type='checkbox' class='ee-toggle'></label><ul><li><span class='ee-k'>0:</span><span class='ee-v'>30</span></li><li><span class='ee-k'>1:</span><span class='ee-v'>0</span></li><li><span class='ee-k'>2:</span><span class='ee-v'>610350</span></li><li><span class='ee-k'>3:</span><span class='ee-v'>0</span></li><li><span class='ee-k'>4:</span><span class='ee-v'>-30</span></li><li><span class='ee-k'>5:</span><span class='ee-v'>9780030</span></li></ul></li><li><label class='ee-shut'>data_type: double<input type='checkbox' class='ee-toggle'></label><ul><li><span class='ee-k'>type:</span><span class='ee-v'>PixelType</span></li><li><span class='ee-k'>precision:</span><span class='ee-v'>double</span></li></ul></li><li><label class='ee-shut'>dimensions: [3865, 1186]<input type='checkbox' class='ee-toggle'></label><ul><li><span class='ee-k'>0:</span><span class='ee-v'>3865</span></li><li><span class='ee-k'>1:</span><span class='ee-v'>1186</span></li></ul></li></ul></li><li><label class='ee-shut'>4: \"swir1\", double, EPSG:32721, 3865x1186 px<input type='checkbox' class='ee-toggle'></label><ul><li><span class='ee-k'>id:</span><span class='ee-v'>swir1</span></li><li><span class='ee-k'>crs:</span><span class='ee-v'>EPSG:32721</span></li><li><label class='ee-shut'>crs_transform: [30, 0, 610350, 0, -30, 9780030]<input type='checkbox' class='ee-toggle'></label><ul><li><span class='ee-k'>0:</span><span class='ee-v'>30</span></li><li><span class='ee-k'>1:</span><span class='ee-v'>0</span></li><li><span class='ee-k'>2:</span><span class='ee-v'>610350</span></li><li><span class='ee-k'>3:</span><span class='ee-v'>0</span></li><li><span class='ee-k'>4:</span><span class='ee-v'>-30</span></li><li><span class='ee-k'>5:</span><span class='ee-v'>9780030</span></li></ul></li><li><label class='ee-shut'>data_type: double<input type='checkbox' class='ee-toggle'></label><ul><li><span class='ee-k'>type:</span><span class='ee-v'>PixelType</span></li><li><span class='ee-k'>precision:</span><span class='ee-v'>double</span></li></ul></li><li><label class='ee-shut'>dimensions: [3865, 1186]<input type='checkbox' class='ee-toggle'></label><ul><li><span class='ee-k'>0:</span><span class='ee-v'>3865</span></li><li><span class='ee-k'>1:</span><span class='ee-v'>1186</span></li></ul></li></ul></li><li><label class='ee-shut'>5: \"swir2\", double, EPSG:32721, 3865x1186 px<input type='checkbox' class='ee-toggle'></label><ul><li><span class='ee-k'>id:</span><span class='ee-v'>swir2</span></li><li><span class='ee-k'>crs:</span><span class='ee-v'>EPSG:32721</span></li><li><label class='ee-shut'>crs_transform: [30, 0, 610350, 0, -30, 9780030]<input type='checkbox' class='ee-toggle'></label><ul><li><span class='ee-k'>0:</span><span class='ee-v'>30</span></li><li><span class='ee-k'>1:</span><span class='ee-v'>0</span></li><li><span class='ee-k'>2:</span><span class='ee-v'>610350</span></li><li><span class='ee-k'>3:</span><span class='ee-v'>0</span></li><li><span class='ee-k'>4:</span><span class='ee-v'>-30</span></li><li><span class='ee-k'>5:</span><span class='ee-v'>9780030</span></li></ul></li><li><label class='ee-shut'>data_type: double<input type='checkbox' class='ee-toggle'></label><ul><li><span class='ee-k'>type:</span><span class='ee-v'>PixelType</span></li><li><span class='ee-k'>precision:</span><span class='ee-v'>double</span></li></ul></li><li><label class='ee-shut'>dimensions: [3865, 1186]<input type='checkbox' class='ee-toggle'></label><ul><li><span class='ee-k'>0:</span><span class='ee-v'>3865</span></li><li><span class='ee-k'>1:</span><span class='ee-v'>1186</span></li></ul></li></ul></li></ul></li><li><label class='ee-shut'>properties: Object (5 properties)<input type='checkbox' class='ee-toggle'></label><ul><li><span class='ee-k'>CLOUD_COVER:</span><span class='ee-v'>51</span></li><li><span class='ee-k'>ID:</span><span class='ee-v'>2</span></li><li><span class='ee-k'>dif_date_point:</span><span class='ee-v'>7.576471157407408</span></li><li><span class='ee-k'>system:index:</span><span class='ee-v'>2_BOA_LE07_228061_20130316</span></li><li><span class='ee-k'>system:time_start:</span><span class='ee-v'>1363441807108</span></li></ul></li></ul></li></ul></li></ul></li></ul></div><script>function toggleHeader() {\n",
              "    const parent = this.parentElement;\n",
              "    parent.className = parent.className === \"ee-open\" ? \"ee-shut\" : \"ee-open\";\n",
              "}\n",
              "\n",
              "for (let c of document.getElementsByClassName(\"ee-toggle\")) {\n",
              "    c.onclick = toggleHeader;\n",
              "}</script></div>"
            ]
          },
          "metadata": {},
          "execution_count": 44
        }
      ]
    },
    {
      "cell_type": "code",
      "source": [
        "reduced_LD7 = ee.FeatureCollection(img_pointsLD7.map(sample_point)).filter(filter_count)"
      ],
      "metadata": {
        "id": "cTOkf_RDzPNQ",
        "outputId": "5775630a-df27-4163-d1b3-167eaf84babb",
        "colab": {
          "base_uri": "https://localhost:8080/",
          "height": 0
        }
      },
      "execution_count": 45,
      "outputs": [
        {
          "output_type": "display_data",
          "data": {
            "text/plain": [
              "<IPython.core.display.HTML object>"
            ],
            "text/html": [
              "\n",
              "            <style>\n",
              "                .geemap-dark {\n",
              "                    --jp-widgets-color: white;\n",
              "                    --jp-widgets-label-color: white;\n",
              "                    --jp-ui-font-color1: white;\n",
              "                    --jp-layout-color2: #454545;\n",
              "                    background-color: #383838;\n",
              "                }\n",
              "\n",
              "                .geemap-dark .jupyter-button {\n",
              "                    --jp-layout-color3: #383838;\n",
              "                }\n",
              "\n",
              "                .geemap-colab {\n",
              "                    background-color: var(--colab-primary-surface-color, white);\n",
              "                }\n",
              "\n",
              "                .geemap-colab .jupyter-button {\n",
              "                    --jp-layout-color3: var(--colab-primary-surface-color, white);\n",
              "                }\n",
              "            </style>\n",
              "            "
            ]
          },
          "metadata": {}
        }
      ]
    },
    {
      "cell_type": "code",
      "source": [
        "reduced_LD7.limit(2)"
      ],
      "metadata": {
        "id": "wVhvOGr022ro",
        "colab": {
          "base_uri": "https://localhost:8080/",
          "height": 0
        },
        "outputId": "080df6e7-bd9f-42d3-fe08-f31d0dd21c21"
      },
      "execution_count": 46,
      "outputs": [
        {
          "output_type": "display_data",
          "data": {
            "text/plain": [
              "<IPython.core.display.HTML object>"
            ],
            "text/html": [
              "\n",
              "            <style>\n",
              "                .geemap-dark {\n",
              "                    --jp-widgets-color: white;\n",
              "                    --jp-widgets-label-color: white;\n",
              "                    --jp-ui-font-color1: white;\n",
              "                    --jp-layout-color2: #454545;\n",
              "                    background-color: #383838;\n",
              "                }\n",
              "\n",
              "                .geemap-dark .jupyter-button {\n",
              "                    --jp-layout-color3: #383838;\n",
              "                }\n",
              "\n",
              "                .geemap-colab {\n",
              "                    background-color: var(--colab-primary-surface-color, white);\n",
              "                }\n",
              "\n",
              "                .geemap-colab .jupyter-button {\n",
              "                    --jp-layout-color3: var(--colab-primary-surface-color, white);\n",
              "                }\n",
              "            </style>\n",
              "            "
            ]
          },
          "metadata": {}
        },
        {
          "output_type": "execute_result",
          "data": {
            "text/plain": [
              "<ee.featurecollection.FeatureCollection at 0x7cc2c9fdbc10>"
            ],
            "text/html": [
              "<div><style>:root {\n",
              "  --font-color-primary: var(--jp-content-font-color0, rgba(0, 0, 0, 1));\n",
              "  --font-color-secondary: var(--jp-content-font-color2, rgba(0, 0, 0, 0.6));\n",
              "  --font-color-accent: rgba(123, 31, 162, 1);\n",
              "  --border-color: var(--jp-border-color2, #e0e0e0);\n",
              "  --background-color: var(--jp-layout-color0, white);\n",
              "  --background-color-row-even: var(--jp-layout-color1, white);\n",
              "  --background-color-row-odd: var(--jp-layout-color2, #eeeeee);\n",
              "}\n",
              "\n",
              "html[theme=\"dark\"],\n",
              "body[data-theme=\"dark\"],\n",
              "body.vscode-dark {\n",
              "  --font-color-primary: rgba(255, 255, 255, 1);\n",
              "  --font-color-secondary: rgba(255, 255, 255, 0.6);\n",
              "  --font-color-accent: rgb(173, 132, 190);\n",
              "  --border-color: #2e2e2e;\n",
              "  --background-color: #111111;\n",
              "  --background-color-row-even: #111111;\n",
              "  --background-color-row-odd: #313131;\n",
              "}\n",
              "\n",
              ".ee {\n",
              "  padding: 1em;\n",
              "  line-height: 1.5em;\n",
              "  min-width: 300px;\n",
              "  max-width: 1200px;\n",
              "  overflow-y: scroll;\n",
              "  max-height: 600px;\n",
              "  border: 1px solid var(--border-color);\n",
              "  font-family: monospace;\n",
              "}\n",
              "\n",
              ".ee li {\n",
              "  list-style-type: none;\n",
              "}\n",
              "\n",
              ".ee ul {\n",
              "  padding-left: 1.5em !important;\n",
              "  margin: 0;\n",
              "}\n",
              "\n",
              ".ee > ul {\n",
              "  padding-left: 0 !important;\n",
              "}\n",
              "\n",
              ".ee-open,\n",
              ".ee-shut {\n",
              "  color: var(--font-color-secondary);\n",
              "  cursor: pointer;\n",
              "  margin: 0;\n",
              "}\n",
              "\n",
              ".ee-open:hover,\n",
              ".ee-shut:hover {\n",
              "  color: var(--font-color-primary);\n",
              "}\n",
              "\n",
              ".ee-k {\n",
              "  color: var(--font-color-accent);\n",
              "  margin-right: 6px;\n",
              "}\n",
              "\n",
              ".ee-v {\n",
              "  color: var(--font-color-primary);\n",
              "}\n",
              "\n",
              ".ee-toggle {\n",
              "  display: none;\n",
              "}\n",
              "\n",
              ".ee-shut + ul {\n",
              "  display: none;\n",
              "}\n",
              "\n",
              ".ee-open + ul {\n",
              "  display: block;\n",
              "}\n",
              "\n",
              ".ee-shut::before {\n",
              "  display: inline-block;\n",
              "  content: \"▼\";\n",
              "  margin-right: 6px;\n",
              "  transform: rotate(-90deg);\n",
              "  transition: transform 0.2s;\n",
              "}\n",
              "\n",
              ".ee-open::before {\n",
              "  transform: rotate(0deg);\n",
              "  display: inline-block;\n",
              "  content: \"▼\";\n",
              "  margin-right: 6px;\n",
              "  transition: transform 0.2s;\n",
              "}\n",
              "</style><div class='ee'><ul><li><label class='ee-shut'>FeatureCollection (2 elements, 55 columns)<input type='checkbox' class='ee-toggle'></label><ul><li><span class='ee-k'>type:</span><span class='ee-v'>FeatureCollection</span></li><li><label class='ee-shut'>columns: Object (55 properties)<input type='checkbox' class='ee-toggle'></label><ul><li><span class='ee-k'>CHLOROPHYLL:</span><span class='ee-v'>Object</span></li><li><span class='ee-k'>CHLOROPHYLL_A:</span><span class='ee-v'>Object</span></li><li><span class='ee-k'>CHLOROPHYLL_B:</span><span class='ee-v'>Object</span></li><li><span class='ee-k'>CLOUD_COVER:</span><span class='ee-v'>Object</span></li><li><span class='ee-k'>DATE:</span><span class='ee-v'>String</span></li><li><span class='ee-k'>DEPTH_CLASS:</span><span class='ee-v'>Integer</span></li><li><span class='ee-k'>DOC:</span><span class='ee-v'>Object</span></li><li><span class='ee-k'>ID:</span><span class='ee-v'>Integer</span></li><li><span class='ee-k'>LATITUDE:</span><span class='ee-v'>Float</span></li><li><span class='ee-k'>LOCATION:</span><span class='ee-v'>String</span></li><li><span class='ee-k'>LONGITUDE:</span><span class='ee-v'>Float</span></li><li><span class='ee-k'>MISSION:</span><span class='ee-v'>String</span></li><li><span class='ee-k'>N_TOTAL:</span><span class='ee-v'>Object</span></li><li><span class='ee-k'>N_TOTAL_DISSOLVED:</span><span class='ee-v'>Object</span></li><li><span class='ee-k'>POC:</span><span class='ee-v'>Object</span></li><li><span class='ee-k'>P_ORGANIC:</span><span class='ee-v'>Object</span></li><li><span class='ee-k'>P_TOTAL:</span><span class='ee-v'>Object</span></li><li><span class='ee-k'>SAMPLE_SITE:</span><span class='ee-v'>Integer</span></li><li><span class='ee-k'>SAMPLING_DEPTH:</span><span class='ee-v'>Number</span></li><li><span class='ee-k'>SILICA:</span><span class='ee-v'>Object</span></li><li><span class='ee-k'>SPM:</span><span class='ee-v'>Object</span></li><li><span class='ee-k'>TOC:</span><span class='ee-v'>Object</span></li><li><span class='ee-k'>TOTAL_DEPTH:</span><span class='ee-v'>Object</span></li><li><span class='ee-k'>TURBIDITY:</span><span class='ee-v'>Object</span></li><li><span class='ee-k'>WATER_PERIOD:</span><span class='ee-v'>String</span></li><li><span class='ee-k'>blue_max:</span><span class='ee-v'>Object</span></li><li><span class='ee-k'>blue_mean:</span><span class='ee-v'>Object</span></li><li><span class='ee-k'>blue_median:</span><span class='ee-v'>Object</span></li><li><span class='ee-k'>blue_min:</span><span class='ee-v'>Object</span></li><li><span class='ee-k'>count_pixel:</span><span class='ee-v'>Object</span></li><li><span class='ee-k'>dif_date_point:</span><span class='ee-v'>Object</span></li><li><span class='ee-k'>green_max:</span><span class='ee-v'>Object</span></li><li><span class='ee-k'>green_meadin:</span><span class='ee-v'>Object</span></li><li><span class='ee-k'>green_mean:</span><span class='ee-v'>Object</span></li><li><span class='ee-k'>green_min:</span><span class='ee-v'>Object</span></li><li><span class='ee-k'>img_date:</span><span class='ee-v'>String</span></li><li><span class='ee-k'>nir_max:</span><span class='ee-v'>Object</span></li><li><span class='ee-k'>nir_mean:</span><span class='ee-v'>Object</span></li><li><span class='ee-k'>nir_median:</span><span class='ee-v'>Object</span></li><li><span class='ee-k'>nir_min:</span><span class='ee-v'>Object</span></li><li><span class='ee-k'>red_max:</span><span class='ee-v'>Object</span></li><li><span class='ee-k'>red_mean:</span><span class='ee-v'>Object</span></li><li><span class='ee-k'>red_median:</span><span class='ee-v'>Object</span></li><li><span class='ee-k'>red_min:</span><span class='ee-v'>Object</span></li><li><span class='ee-k'>swir1_max:</span><span class='ee-v'>Object</span></li><li><span class='ee-k'>swir1_mean:</span><span class='ee-v'>Object</span></li><li><span class='ee-k'>swir1_median:</span><span class='ee-v'>Object</span></li><li><span class='ee-k'>swir1_min:</span><span class='ee-v'>Object</span></li><li><span class='ee-k'>swir2_max:</span><span class='ee-v'>Object</span></li><li><span class='ee-k'>swir2_mean:</span><span class='ee-v'>Object</span></li><li><span class='ee-k'>swir2_median:</span><span class='ee-v'>Object</span></li><li><span class='ee-k'>swir2_min:</span><span class='ee-v'>Object</span></li><li><span class='ee-k'>system:index:</span><span class='ee-v'>String</span></li><li><span class='ee-k'>system:time_start:</span><span class='ee-v'>Date</span></li><li><span class='ee-k'>system_index:</span><span class='ee-v'>Object</span></li></ul></li><li><label class='ee-shut'>features: List (2 elements)<input type='checkbox' class='ee-toggle'></label><ul><li><label class='ee-shut'>0: Feature (Point, 54 properties)<input type='checkbox' class='ee-toggle'></label><ul><li><span class='ee-k'>type:</span><span class='ee-v'>Feature</span></li><li><span class='ee-k'>id:</span><span class='ee-v'>2_BOA_LE07_228061_20130316</span></li><li><label class='ee-shut'>geometry: Point (-55.22, -2.28)<input type='checkbox' class='ee-toggle'></label><ul><li><span class='ee-k'>type:</span><span class='ee-v'>Point</span></li><li><label class='ee-shut'>coordinates: [-55.22023, -2.28422]<input type='checkbox' class='ee-toggle'></label><ul><li><span class='ee-k'>0:</span><span class='ee-v'>-55.22023</span></li><li><span class='ee-k'>1:</span><span class='ee-v'>-2.28422</span></li></ul></li></ul></li><li><label class='ee-shut'>properties: Object (54 properties)<input type='checkbox' class='ee-toggle'></label><ul><li><span class='ee-k'>CHLOROPHYLL:</span><span class='ee-v'>1.0350000000000001</span></li><li><span class='ee-k'>CHLOROPHYLL_A:</span><span class='ee-v'>1.9690600000000003</span></li><li><span class='ee-k'>CHLOROPHYLL_B:</span><span class='ee-v'>< 0,01</span></li><li><span class='ee-k'>CLOUD_COVER:</span><span class='ee-v'>51</span></li><li><span class='ee-k'>DATE:</span><span class='ee-v'>2013-03-09 00:00:00</span></li><li><span class='ee-k'>DEPTH_CLASS:</span><span class='ee-v'>1</span></li><li><span class='ee-k'>DOC:</span><span class='ee-v'>3.575</span></li><li><span class='ee-k'>ID:</span><span class='ee-v'>2</span></li><li><span class='ee-k'>LATITUDE:</span><span class='ee-v'>-2.28422</span></li><li><span class='ee-k'>LOCATION:</span><span class='ee-v'>LG</span></li><li><span class='ee-k'>LONGITUDE:</span><span class='ee-v'>-55.22023</span></li><li><span class='ee-k'>MISSION:</span><span class='ee-v'>I</span></li><li><span class='ee-k'>N_TOTAL:</span><span class='ee-v'>0.2254</span></li><li><span class='ee-k'>N_TOTAL_DISSOLVED:</span><span class='ee-v'>0.12689999999999999</span></li><li><span class='ee-k'>POC:</span><span class='ee-v'>< 0,001</span></li><li><span class='ee-k'>P_ORGANIC:</span><span class='ee-v'>0.0129137</span></li><li><span class='ee-k'>P_TOTAL:</span><span class='ee-v'>0.022095</span></li><li><span class='ee-k'>SAMPLE_SITE:</span><span class='ee-v'>2</span></li><li><span class='ee-k'>SAMPLING_DEPTH:</span><span class='ee-v'>0.2</span></li><li><span class='ee-k'>SILICA:</span><span class='ee-v'>1.99</span></li><li><span class='ee-k'>SPM:</span><span class='ee-v'>14.799999999999997</span></li><li><span class='ee-k'>TOC:</span><span class='ee-v'>2.579</span></li><li><span class='ee-k'>TOTAL_DEPTH:</span><span class='ee-v'>2.3</span></li><li><span class='ee-k'>TURBIDITY:</span><span class='ee-v'>3.2</span></li><li><span class='ee-k'>WATER_PERIOD:</span><span class='ee-v'>R</span></li><li><span class='ee-k'>blue_max:</span><span class='ee-v'>0.003805482233957557</span></li><li><span class='ee-k'>blue_mean:</span><span class='ee-v'>0.0004866145971306128</span></li><li><span class='ee-k'>blue_median:</span><span class='ee-v'>0.0007150344723082826</span></li><li><span class='ee-k'>blue_min:</span><span class='ee-v'>-0.0018560467322409901</span></li><li><span class='ee-k'>count_pixel:</span><span class='ee-v'>8</span></li><li><span class='ee-k'>dif_date_point:</span><span class='ee-v'>7.576471157407408</span></li><li><span class='ee-k'>green_max:</span><span class='ee-v'>0.004977138444949899</span></li><li><span class='ee-k'>green_meadin:</span><span class='ee-v'>0.0033054478719316896</span></li><li><span class='ee-k'>green_mean:</span><span class='ee-v'>0.0033300414546571537</span></li><li><span class='ee-k'>green_min:</span><span class='ee-v'>0.0013884478209608246</span></li><li><span class='ee-k'>img_date:</span><span class='ee-v'>2013-03-16T13:50:07</span></li><li><span class='ee-k'>nir_max:</span><span class='ee-v'>0.05518724009394146</span></li><li><span class='ee-k'>nir_mean:</span><span class='ee-v'>0.03764191117095345</span></li><li><span class='ee-k'>nir_median:</span><span class='ee-v'>0.038597967000933306</span></li><li><span class='ee-k'>nir_min:</span><span class='ee-v'>0.02431949785685655</span></li><li><span class='ee-k'>red_max:</span><span class='ee-v'>0.005838205368104834</span></li><li><span class='ee-k'>red_mean:</span><span class='ee-v'>0.0029487101185733653</span></li><li><span class='ee-k'>red_median:</span><span class='ee-v'>0.0029292876111177216</span></li><li><span class='ee-k'>red_min:</span><span class='ee-v'>0.0007931644447072284</span></li><li><span class='ee-k'>swir1_max:</span><span class='ee-v'>0.02198446274440013</span></li><li><span class='ee-k'>swir1_mean:</span><span class='ee-v'>0.017980506968339457</span></li><li><span class='ee-k'>swir1_median:</span><span class='ee-v'>0.01758487694728455</span></li><li><span class='ee-k'>swir1_min:</span><span class='ee-v'>0.010675316111483497</span></li><li><span class='ee-k'>swir2_max:</span><span class='ee-v'>0</span></li><li><span class='ee-k'>swir2_mean:</span><span class='ee-v'>0</span></li><li><span class='ee-k'>swir2_median:</span><span class='ee-v'>0</span></li><li><span class='ee-k'>swir2_min:</span><span class='ee-v'>0</span></li><li><label class='ee-shut'>system:time_start: Date (2013-03-09 00:00:00)<input type='checkbox' class='ee-toggle'></label><ul><li><span class='ee-k'>type:</span><span class='ee-v'>Date</span></li><li><span class='ee-k'>value:</span><span class='ee-v'>1362787200000</span></li></ul></li><li><span class='ee-k'>system_index:</span><span class='ee-v'>2_BOA_LE07_228061_20130316</span></li></ul></li></ul></li><li><label class='ee-shut'>1: Feature (Point, 54 properties)<input type='checkbox' class='ee-toggle'></label><ul><li><span class='ee-k'>type:</span><span class='ee-v'>Feature</span></li><li><span class='ee-k'>id:</span><span class='ee-v'>2_BOA_LE07_228062_20130316</span></li><li><label class='ee-shut'>geometry: Point (-55.22, -2.28)<input type='checkbox' class='ee-toggle'></label><ul><li><span class='ee-k'>type:</span><span class='ee-v'>Point</span></li><li><label class='ee-shut'>coordinates: [-55.22023, -2.28422]<input type='checkbox' class='ee-toggle'></label><ul><li><span class='ee-k'>0:</span><span class='ee-v'>-55.22023</span></li><li><span class='ee-k'>1:</span><span class='ee-v'>-2.28422</span></li></ul></li></ul></li><li><label class='ee-shut'>properties: Object (54 properties)<input type='checkbox' class='ee-toggle'></label><ul><li><span class='ee-k'>CHLOROPHYLL:</span><span class='ee-v'>1.0350000000000001</span></li><li><span class='ee-k'>CHLOROPHYLL_A:</span><span class='ee-v'>1.9690600000000003</span></li><li><span class='ee-k'>CHLOROPHYLL_B:</span><span class='ee-v'>< 0,01</span></li><li><span class='ee-k'>CLOUD_COVER:</span><span class='ee-v'>73</span></li><li><span class='ee-k'>DATE:</span><span class='ee-v'>2013-03-09 00:00:00</span></li><li><span class='ee-k'>DEPTH_CLASS:</span><span class='ee-v'>1</span></li><li><span class='ee-k'>DOC:</span><span class='ee-v'>3.575</span></li><li><span class='ee-k'>ID:</span><span class='ee-v'>2</span></li><li><span class='ee-k'>LATITUDE:</span><span class='ee-v'>-2.28422</span></li><li><span class='ee-k'>LOCATION:</span><span class='ee-v'>LG</span></li><li><span class='ee-k'>LONGITUDE:</span><span class='ee-v'>-55.22023</span></li><li><span class='ee-k'>MISSION:</span><span class='ee-v'>I</span></li><li><span class='ee-k'>N_TOTAL:</span><span class='ee-v'>0.2254</span></li><li><span class='ee-k'>N_TOTAL_DISSOLVED:</span><span class='ee-v'>0.12689999999999999</span></li><li><span class='ee-k'>POC:</span><span class='ee-v'>< 0,001</span></li><li><span class='ee-k'>P_ORGANIC:</span><span class='ee-v'>0.0129137</span></li><li><span class='ee-k'>P_TOTAL:</span><span class='ee-v'>0.022095</span></li><li><span class='ee-k'>SAMPLE_SITE:</span><span class='ee-v'>2</span></li><li><span class='ee-k'>SAMPLING_DEPTH:</span><span class='ee-v'>0.2</span></li><li><span class='ee-k'>SILICA:</span><span class='ee-v'>1.99</span></li><li><span class='ee-k'>SPM:</span><span class='ee-v'>14.799999999999997</span></li><li><span class='ee-k'>TOC:</span><span class='ee-v'>2.579</span></li><li><span class='ee-k'>TOTAL_DEPTH:</span><span class='ee-v'>2.3</span></li><li><span class='ee-k'>TURBIDITY:</span><span class='ee-v'>3.2</span></li><li><span class='ee-k'>WATER_PERIOD:</span><span class='ee-v'>R</span></li><li><span class='ee-k'>blue_max:</span><span class='ee-v'>0.0038981647973835368</span></li><li><span class='ee-k'>blue_mean:</span><span class='ee-v'>0.0007164976361624201</span></li><li><span class='ee-k'>blue_median:</span><span class='ee-v'>0.0008094893220154491</span></li><li><span class='ee-k'>blue_min:</span><span class='ee-v'>-0.001208505090763038</span></li><li><span class='ee-k'>count_pixel:</span><span class='ee-v'>8</span></li><li><span class='ee-k'>dif_date_point:</span><span class='ee-v'>7.576748043981482</span></li><li><span class='ee-k'>green_max:</span><span class='ee-v'>0.0050415344908847325</span></li><li><span class='ee-k'>green_meadin:</span><span class='ee-v'>0.0033119093347414655</span></li><li><span class='ee-k'>green_mean:</span><span class='ee-v'>0.0035262456349854994</span></li><li><span class='ee-k'>green_min:</span><span class='ee-v'>0.00199174717920763</span></li><li><span class='ee-k'>img_date:</span><span class='ee-v'>2013-03-16T13:50:31</span></li><li><span class='ee-k'>nir_max:</span><span class='ee-v'>0.05541088995623973</span></li><li><span class='ee-k'>nir_mean:</span><span class='ee-v'>0.038147361060701566</span></li><li><span class='ee-k'>nir_median:</span><span class='ee-v'>0.04012227714806525</span></li><li><span class='ee-k'>nir_min:</span><span class='ee-v'>0.024405197956864872</span></li><li><span class='ee-k'>red_max:</span><span class='ee-v'>0.005885268769541388</span></li><li><span class='ee-k'>red_mean:</span><span class='ee-v'>0.0031183147843351936</span></li><li><span class='ee-k'>red_median:</span><span class='ee-v'>0.0029150326640611304</span></li><li><span class='ee-k'>red_min:</span><span class='ee-v'>0.0013551725141263612</span></li><li><span class='ee-k'>swir1_max:</span><span class='ee-v'>0.022609847607641887</span></li><li><span class='ee-k'>swir1_mean:</span><span class='ee-v'>0.018123942708673468</span></li><li><span class='ee-k'>swir1_median:</span><span class='ee-v'>0.01717081341694943</span></li><li><span class='ee-k'>swir1_min:</span><span class='ee-v'>0.0107478248325545</span></li><li><span class='ee-k'>swir2_max:</span><span class='ee-v'>0</span></li><li><span class='ee-k'>swir2_mean:</span><span class='ee-v'>0</span></li><li><span class='ee-k'>swir2_median:</span><span class='ee-v'>0</span></li><li><span class='ee-k'>swir2_min:</span><span class='ee-v'>0</span></li><li><label class='ee-shut'>system:time_start: Date (2013-03-09 00:00:00)<input type='checkbox' class='ee-toggle'></label><ul><li><span class='ee-k'>type:</span><span class='ee-v'>Date</span></li><li><span class='ee-k'>value:</span><span class='ee-v'>1362787200000</span></li></ul></li><li><span class='ee-k'>system_index:</span><span class='ee-v'>2_BOA_LE07_228062_20130316</span></li></ul></li></ul></li></ul></li></ul></li></ul></div><script>function toggleHeader() {\n",
              "    const parent = this.parentElement;\n",
              "    parent.className = parent.className === \"ee-open\" ? \"ee-shut\" : \"ee-open\";\n",
              "}\n",
              "\n",
              "for (let c of document.getElementsByClassName(\"ee-toggle\")) {\n",
              "    c.onclick = toggleHeader;\n",
              "}</script></div>"
            ]
          },
          "metadata": {},
          "execution_count": 46
        }
      ]
    },
    {
      "cell_type": "code",
      "execution_count": 47,
      "metadata": {
        "id": "JhSKEJc3_h_f",
        "colab": {
          "base_uri": "https://localhost:8080/",
          "height": 0
        },
        "outputId": "f7d5b712-b5ed-453c-8de9-94dae519ec9b"
      },
      "outputs": [
        {
          "output_type": "display_data",
          "data": {
            "text/plain": [
              "<IPython.core.display.HTML object>"
            ],
            "text/html": [
              "\n",
              "            <style>\n",
              "                .geemap-dark {\n",
              "                    --jp-widgets-color: white;\n",
              "                    --jp-widgets-label-color: white;\n",
              "                    --jp-ui-font-color1: white;\n",
              "                    --jp-layout-color2: #454545;\n",
              "                    background-color: #383838;\n",
              "                }\n",
              "\n",
              "                .geemap-dark .jupyter-button {\n",
              "                    --jp-layout-color3: #383838;\n",
              "                }\n",
              "\n",
              "                .geemap-colab {\n",
              "                    background-color: var(--colab-primary-surface-color, white);\n",
              "                }\n",
              "\n",
              "                .geemap-colab .jupyter-button {\n",
              "                    --jp-layout-color3: var(--colab-primary-surface-color, white);\n",
              "                }\n",
              "            </style>\n",
              "            "
            ]
          },
          "metadata": {}
        },
        {
          "output_type": "execute_result",
          "data": {
            "text/plain": [
              "<ee.ee_number.Number at 0x7cc2c9fd8820>"
            ],
            "text/html": [
              "<div><style>:root {\n",
              "  --font-color-primary: var(--jp-content-font-color0, rgba(0, 0, 0, 1));\n",
              "  --font-color-secondary: var(--jp-content-font-color2, rgba(0, 0, 0, 0.6));\n",
              "  --font-color-accent: rgba(123, 31, 162, 1);\n",
              "  --border-color: var(--jp-border-color2, #e0e0e0);\n",
              "  --background-color: var(--jp-layout-color0, white);\n",
              "  --background-color-row-even: var(--jp-layout-color1, white);\n",
              "  --background-color-row-odd: var(--jp-layout-color2, #eeeeee);\n",
              "}\n",
              "\n",
              "html[theme=\"dark\"],\n",
              "body[data-theme=\"dark\"],\n",
              "body.vscode-dark {\n",
              "  --font-color-primary: rgba(255, 255, 255, 1);\n",
              "  --font-color-secondary: rgba(255, 255, 255, 0.6);\n",
              "  --font-color-accent: rgb(173, 132, 190);\n",
              "  --border-color: #2e2e2e;\n",
              "  --background-color: #111111;\n",
              "  --background-color-row-even: #111111;\n",
              "  --background-color-row-odd: #313131;\n",
              "}\n",
              "\n",
              ".ee {\n",
              "  padding: 1em;\n",
              "  line-height: 1.5em;\n",
              "  min-width: 300px;\n",
              "  max-width: 1200px;\n",
              "  overflow-y: scroll;\n",
              "  max-height: 600px;\n",
              "  border: 1px solid var(--border-color);\n",
              "  font-family: monospace;\n",
              "}\n",
              "\n",
              ".ee li {\n",
              "  list-style-type: none;\n",
              "}\n",
              "\n",
              ".ee ul {\n",
              "  padding-left: 1.5em !important;\n",
              "  margin: 0;\n",
              "}\n",
              "\n",
              ".ee > ul {\n",
              "  padding-left: 0 !important;\n",
              "}\n",
              "\n",
              ".ee-open,\n",
              ".ee-shut {\n",
              "  color: var(--font-color-secondary);\n",
              "  cursor: pointer;\n",
              "  margin: 0;\n",
              "}\n",
              "\n",
              ".ee-open:hover,\n",
              ".ee-shut:hover {\n",
              "  color: var(--font-color-primary);\n",
              "}\n",
              "\n",
              ".ee-k {\n",
              "  color: var(--font-color-accent);\n",
              "  margin-right: 6px;\n",
              "}\n",
              "\n",
              ".ee-v {\n",
              "  color: var(--font-color-primary);\n",
              "}\n",
              "\n",
              ".ee-toggle {\n",
              "  display: none;\n",
              "}\n",
              "\n",
              ".ee-shut + ul {\n",
              "  display: none;\n",
              "}\n",
              "\n",
              ".ee-open + ul {\n",
              "  display: block;\n",
              "}\n",
              "\n",
              ".ee-shut::before {\n",
              "  display: inline-block;\n",
              "  content: \"▼\";\n",
              "  margin-right: 6px;\n",
              "  transform: rotate(-90deg);\n",
              "  transition: transform 0.2s;\n",
              "}\n",
              "\n",
              ".ee-open::before {\n",
              "  transform: rotate(0deg);\n",
              "  display: inline-block;\n",
              "  content: \"▼\";\n",
              "  margin-right: 6px;\n",
              "  transition: transform 0.2s;\n",
              "}\n",
              "</style><div class='ee'><ul><li><span class='ee-v'>522</span></li></ul></div><script>function toggleHeader() {\n",
              "    const parent = this.parentElement;\n",
              "    parent.className = parent.className === \"ee-open\" ? \"ee-shut\" : \"ee-open\";\n",
              "}\n",
              "\n",
              "for (let c of document.getElementsByClassName(\"ee-toggle\")) {\n",
              "    c.onclick = toggleHeader;\n",
              "}</script></div>"
            ]
          },
          "metadata": {},
          "execution_count": 47
        }
      ],
      "source": [
        "reduced_LD7.size()"
      ]
    },
    {
      "cell_type": "code",
      "source": [
        "reduced_LD7.aggregate_count_distinct('ID')"
      ],
      "metadata": {
        "colab": {
          "base_uri": "https://localhost:8080/",
          "height": 0
        },
        "id": "EM3g-hipoTK7",
        "outputId": "2785ff28-27d3-49ff-e9e5-5b577b9450c8"
      },
      "execution_count": 48,
      "outputs": [
        {
          "output_type": "display_data",
          "data": {
            "text/plain": [
              "<IPython.core.display.HTML object>"
            ],
            "text/html": [
              "\n",
              "            <style>\n",
              "                .geemap-dark {\n",
              "                    --jp-widgets-color: white;\n",
              "                    --jp-widgets-label-color: white;\n",
              "                    --jp-ui-font-color1: white;\n",
              "                    --jp-layout-color2: #454545;\n",
              "                    background-color: #383838;\n",
              "                }\n",
              "\n",
              "                .geemap-dark .jupyter-button {\n",
              "                    --jp-layout-color3: #383838;\n",
              "                }\n",
              "\n",
              "                .geemap-colab {\n",
              "                    background-color: var(--colab-primary-surface-color, white);\n",
              "                }\n",
              "\n",
              "                .geemap-colab .jupyter-button {\n",
              "                    --jp-layout-color3: var(--colab-primary-surface-color, white);\n",
              "                }\n",
              "            </style>\n",
              "            "
            ]
          },
          "metadata": {}
        },
        {
          "output_type": "execute_result",
          "data": {
            "text/plain": [
              "<ee.ee_number.Number at 0x7cc2c9fdbeb0>"
            ],
            "text/html": [
              "<div><style>:root {\n",
              "  --font-color-primary: var(--jp-content-font-color0, rgba(0, 0, 0, 1));\n",
              "  --font-color-secondary: var(--jp-content-font-color2, rgba(0, 0, 0, 0.6));\n",
              "  --font-color-accent: rgba(123, 31, 162, 1);\n",
              "  --border-color: var(--jp-border-color2, #e0e0e0);\n",
              "  --background-color: var(--jp-layout-color0, white);\n",
              "  --background-color-row-even: var(--jp-layout-color1, white);\n",
              "  --background-color-row-odd: var(--jp-layout-color2, #eeeeee);\n",
              "}\n",
              "\n",
              "html[theme=\"dark\"],\n",
              "body[data-theme=\"dark\"],\n",
              "body.vscode-dark {\n",
              "  --font-color-primary: rgba(255, 255, 255, 1);\n",
              "  --font-color-secondary: rgba(255, 255, 255, 0.6);\n",
              "  --font-color-accent: rgb(173, 132, 190);\n",
              "  --border-color: #2e2e2e;\n",
              "  --background-color: #111111;\n",
              "  --background-color-row-even: #111111;\n",
              "  --background-color-row-odd: #313131;\n",
              "}\n",
              "\n",
              ".ee {\n",
              "  padding: 1em;\n",
              "  line-height: 1.5em;\n",
              "  min-width: 300px;\n",
              "  max-width: 1200px;\n",
              "  overflow-y: scroll;\n",
              "  max-height: 600px;\n",
              "  border: 1px solid var(--border-color);\n",
              "  font-family: monospace;\n",
              "}\n",
              "\n",
              ".ee li {\n",
              "  list-style-type: none;\n",
              "}\n",
              "\n",
              ".ee ul {\n",
              "  padding-left: 1.5em !important;\n",
              "  margin: 0;\n",
              "}\n",
              "\n",
              ".ee > ul {\n",
              "  padding-left: 0 !important;\n",
              "}\n",
              "\n",
              ".ee-open,\n",
              ".ee-shut {\n",
              "  color: var(--font-color-secondary);\n",
              "  cursor: pointer;\n",
              "  margin: 0;\n",
              "}\n",
              "\n",
              ".ee-open:hover,\n",
              ".ee-shut:hover {\n",
              "  color: var(--font-color-primary);\n",
              "}\n",
              "\n",
              ".ee-k {\n",
              "  color: var(--font-color-accent);\n",
              "  margin-right: 6px;\n",
              "}\n",
              "\n",
              ".ee-v {\n",
              "  color: var(--font-color-primary);\n",
              "}\n",
              "\n",
              ".ee-toggle {\n",
              "  display: none;\n",
              "}\n",
              "\n",
              ".ee-shut + ul {\n",
              "  display: none;\n",
              "}\n",
              "\n",
              ".ee-open + ul {\n",
              "  display: block;\n",
              "}\n",
              "\n",
              ".ee-shut::before {\n",
              "  display: inline-block;\n",
              "  content: \"▼\";\n",
              "  margin-right: 6px;\n",
              "  transform: rotate(-90deg);\n",
              "  transition: transform 0.2s;\n",
              "}\n",
              "\n",
              ".ee-open::before {\n",
              "  transform: rotate(0deg);\n",
              "  display: inline-block;\n",
              "  content: \"▼\";\n",
              "  margin-right: 6px;\n",
              "  transition: transform 0.2s;\n",
              "}\n",
              "</style><div class='ee'><ul><li><span class='ee-v'>241</span></li></ul></div><script>function toggleHeader() {\n",
              "    const parent = this.parentElement;\n",
              "    parent.className = parent.className === \"ee-open\" ? \"ee-shut\" : \"ee-open\";\n",
              "}\n",
              "\n",
              "for (let c of document.getElementsByClassName(\"ee-toggle\")) {\n",
              "    c.onclick = toggleHeader;\n",
              "}</script></div>"
            ]
          },
          "metadata": {},
          "execution_count": 48
        }
      ]
    },
    {
      "cell_type": "markdown",
      "source": [
        "## Landsat 8"
      ],
      "metadata": {
        "id": "V2eUphRFSU9O"
      }
    },
    {
      "cell_type": "code",
      "execution_count": 49,
      "metadata": {
        "id": "hGJt1ARYTodA",
        "colab": {
          "base_uri": "https://localhost:8080/",
          "height": 0
        },
        "outputId": "3138ffd0-291d-407b-cc89-cf35b2af4321"
      },
      "outputs": [
        {
          "output_type": "display_data",
          "data": {
            "text/plain": [
              "<IPython.core.display.HTML object>"
            ],
            "text/html": [
              "\n",
              "            <style>\n",
              "                .geemap-dark {\n",
              "                    --jp-widgets-color: white;\n",
              "                    --jp-widgets-label-color: white;\n",
              "                    --jp-ui-font-color1: white;\n",
              "                    --jp-layout-color2: #454545;\n",
              "                    background-color: #383838;\n",
              "                }\n",
              "\n",
              "                .geemap-dark .jupyter-button {\n",
              "                    --jp-layout-color3: #383838;\n",
              "                }\n",
              "\n",
              "                .geemap-colab {\n",
              "                    background-color: var(--colab-primary-surface-color, white);\n",
              "                }\n",
              "\n",
              "                .geemap-colab .jupyter-button {\n",
              "                    --jp-layout-color3: var(--colab-primary-surface-color, white);\n",
              "                }\n",
              "            </style>\n",
              "            "
            ]
          },
          "metadata": {}
        }
      ],
      "source": [
        "img_pointsLD8 = ee.ImageCollection(roi_points.map(imgs_points(ld8)).flatten().toList(2000))"
      ]
    },
    {
      "cell_type": "code",
      "execution_count": 50,
      "metadata": {
        "id": "Tnh1z0LGTtB4",
        "colab": {
          "base_uri": "https://localhost:8080/",
          "height": 0
        },
        "outputId": "15a648e6-8f4b-4d41-83ff-c789e13def54"
      },
      "outputs": [
        {
          "output_type": "display_data",
          "data": {
            "text/plain": [
              "<IPython.core.display.HTML object>"
            ],
            "text/html": [
              "\n",
              "            <style>\n",
              "                .geemap-dark {\n",
              "                    --jp-widgets-color: white;\n",
              "                    --jp-widgets-label-color: white;\n",
              "                    --jp-ui-font-color1: white;\n",
              "                    --jp-layout-color2: #454545;\n",
              "                    background-color: #383838;\n",
              "                }\n",
              "\n",
              "                .geemap-dark .jupyter-button {\n",
              "                    --jp-layout-color3: #383838;\n",
              "                }\n",
              "\n",
              "                .geemap-colab {\n",
              "                    background-color: var(--colab-primary-surface-color, white);\n",
              "                }\n",
              "\n",
              "                .geemap-colab .jupyter-button {\n",
              "                    --jp-layout-color3: var(--colab-primary-surface-color, white);\n",
              "                }\n",
              "            </style>\n",
              "            "
            ]
          },
          "metadata": {}
        },
        {
          "output_type": "execute_result",
          "data": {
            "text/plain": [
              "<ee.ee_number.Number at 0x7cc2c9fdb340>"
            ],
            "text/html": [
              "<div><style>:root {\n",
              "  --font-color-primary: var(--jp-content-font-color0, rgba(0, 0, 0, 1));\n",
              "  --font-color-secondary: var(--jp-content-font-color2, rgba(0, 0, 0, 0.6));\n",
              "  --font-color-accent: rgba(123, 31, 162, 1);\n",
              "  --border-color: var(--jp-border-color2, #e0e0e0);\n",
              "  --background-color: var(--jp-layout-color0, white);\n",
              "  --background-color-row-even: var(--jp-layout-color1, white);\n",
              "  --background-color-row-odd: var(--jp-layout-color2, #eeeeee);\n",
              "}\n",
              "\n",
              "html[theme=\"dark\"],\n",
              "body[data-theme=\"dark\"],\n",
              "body.vscode-dark {\n",
              "  --font-color-primary: rgba(255, 255, 255, 1);\n",
              "  --font-color-secondary: rgba(255, 255, 255, 0.6);\n",
              "  --font-color-accent: rgb(173, 132, 190);\n",
              "  --border-color: #2e2e2e;\n",
              "  --background-color: #111111;\n",
              "  --background-color-row-even: #111111;\n",
              "  --background-color-row-odd: #313131;\n",
              "}\n",
              "\n",
              ".ee {\n",
              "  padding: 1em;\n",
              "  line-height: 1.5em;\n",
              "  min-width: 300px;\n",
              "  max-width: 1200px;\n",
              "  overflow-y: scroll;\n",
              "  max-height: 600px;\n",
              "  border: 1px solid var(--border-color);\n",
              "  font-family: monospace;\n",
              "}\n",
              "\n",
              ".ee li {\n",
              "  list-style-type: none;\n",
              "}\n",
              "\n",
              ".ee ul {\n",
              "  padding-left: 1.5em !important;\n",
              "  margin: 0;\n",
              "}\n",
              "\n",
              ".ee > ul {\n",
              "  padding-left: 0 !important;\n",
              "}\n",
              "\n",
              ".ee-open,\n",
              ".ee-shut {\n",
              "  color: var(--font-color-secondary);\n",
              "  cursor: pointer;\n",
              "  margin: 0;\n",
              "}\n",
              "\n",
              ".ee-open:hover,\n",
              ".ee-shut:hover {\n",
              "  color: var(--font-color-primary);\n",
              "}\n",
              "\n",
              ".ee-k {\n",
              "  color: var(--font-color-accent);\n",
              "  margin-right: 6px;\n",
              "}\n",
              "\n",
              ".ee-v {\n",
              "  color: var(--font-color-primary);\n",
              "}\n",
              "\n",
              ".ee-toggle {\n",
              "  display: none;\n",
              "}\n",
              "\n",
              ".ee-shut + ul {\n",
              "  display: none;\n",
              "}\n",
              "\n",
              ".ee-open + ul {\n",
              "  display: block;\n",
              "}\n",
              "\n",
              ".ee-shut::before {\n",
              "  display: inline-block;\n",
              "  content: \"▼\";\n",
              "  margin-right: 6px;\n",
              "  transform: rotate(-90deg);\n",
              "  transition: transform 0.2s;\n",
              "}\n",
              "\n",
              ".ee-open::before {\n",
              "  transform: rotate(0deg);\n",
              "  display: inline-block;\n",
              "  content: \"▼\";\n",
              "  margin-right: 6px;\n",
              "  transition: transform 0.2s;\n",
              "}\n",
              "</style><div class='ee'><ul><li><span class='ee-v'>1160</span></li></ul></div><script>function toggleHeader() {\n",
              "    const parent = this.parentElement;\n",
              "    parent.className = parent.className === \"ee-open\" ? \"ee-shut\" : \"ee-open\";\n",
              "}\n",
              "\n",
              "for (let c of document.getElementsByClassName(\"ee-toggle\")) {\n",
              "    c.onclick = toggleHeader;\n",
              "}</script></div>"
            ]
          },
          "metadata": {},
          "execution_count": 50
        }
      ],
      "source": [
        "img_pointsLD8.size()\n"
      ]
    },
    {
      "cell_type": "code",
      "source": [
        "img_pointsLD8.aggregate_count_distinct('ID')"
      ],
      "metadata": {
        "id": "cGh3nOhbpdgK",
        "colab": {
          "base_uri": "https://localhost:8080/",
          "height": 0
        },
        "outputId": "4c02f3fb-5e7b-4f3a-de56-2a9e919c19aa"
      },
      "execution_count": 51,
      "outputs": [
        {
          "output_type": "display_data",
          "data": {
            "text/plain": [
              "<IPython.core.display.HTML object>"
            ],
            "text/html": [
              "\n",
              "            <style>\n",
              "                .geemap-dark {\n",
              "                    --jp-widgets-color: white;\n",
              "                    --jp-widgets-label-color: white;\n",
              "                    --jp-ui-font-color1: white;\n",
              "                    --jp-layout-color2: #454545;\n",
              "                    background-color: #383838;\n",
              "                }\n",
              "\n",
              "                .geemap-dark .jupyter-button {\n",
              "                    --jp-layout-color3: #383838;\n",
              "                }\n",
              "\n",
              "                .geemap-colab {\n",
              "                    background-color: var(--colab-primary-surface-color, white);\n",
              "                }\n",
              "\n",
              "                .geemap-colab .jupyter-button {\n",
              "                    --jp-layout-color3: var(--colab-primary-surface-color, white);\n",
              "                }\n",
              "            </style>\n",
              "            "
            ]
          },
          "metadata": {}
        },
        {
          "output_type": "execute_result",
          "data": {
            "text/plain": [
              "<ee.ee_number.Number at 0x7cc2c9fd9210>"
            ],
            "text/html": [
              "<div><style>:root {\n",
              "  --font-color-primary: var(--jp-content-font-color0, rgba(0, 0, 0, 1));\n",
              "  --font-color-secondary: var(--jp-content-font-color2, rgba(0, 0, 0, 0.6));\n",
              "  --font-color-accent: rgba(123, 31, 162, 1);\n",
              "  --border-color: var(--jp-border-color2, #e0e0e0);\n",
              "  --background-color: var(--jp-layout-color0, white);\n",
              "  --background-color-row-even: var(--jp-layout-color1, white);\n",
              "  --background-color-row-odd: var(--jp-layout-color2, #eeeeee);\n",
              "}\n",
              "\n",
              "html[theme=\"dark\"],\n",
              "body[data-theme=\"dark\"],\n",
              "body.vscode-dark {\n",
              "  --font-color-primary: rgba(255, 255, 255, 1);\n",
              "  --font-color-secondary: rgba(255, 255, 255, 0.6);\n",
              "  --font-color-accent: rgb(173, 132, 190);\n",
              "  --border-color: #2e2e2e;\n",
              "  --background-color: #111111;\n",
              "  --background-color-row-even: #111111;\n",
              "  --background-color-row-odd: #313131;\n",
              "}\n",
              "\n",
              ".ee {\n",
              "  padding: 1em;\n",
              "  line-height: 1.5em;\n",
              "  min-width: 300px;\n",
              "  max-width: 1200px;\n",
              "  overflow-y: scroll;\n",
              "  max-height: 600px;\n",
              "  border: 1px solid var(--border-color);\n",
              "  font-family: monospace;\n",
              "}\n",
              "\n",
              ".ee li {\n",
              "  list-style-type: none;\n",
              "}\n",
              "\n",
              ".ee ul {\n",
              "  padding-left: 1.5em !important;\n",
              "  margin: 0;\n",
              "}\n",
              "\n",
              ".ee > ul {\n",
              "  padding-left: 0 !important;\n",
              "}\n",
              "\n",
              ".ee-open,\n",
              ".ee-shut {\n",
              "  color: var(--font-color-secondary);\n",
              "  cursor: pointer;\n",
              "  margin: 0;\n",
              "}\n",
              "\n",
              ".ee-open:hover,\n",
              ".ee-shut:hover {\n",
              "  color: var(--font-color-primary);\n",
              "}\n",
              "\n",
              ".ee-k {\n",
              "  color: var(--font-color-accent);\n",
              "  margin-right: 6px;\n",
              "}\n",
              "\n",
              ".ee-v {\n",
              "  color: var(--font-color-primary);\n",
              "}\n",
              "\n",
              ".ee-toggle {\n",
              "  display: none;\n",
              "}\n",
              "\n",
              ".ee-shut + ul {\n",
              "  display: none;\n",
              "}\n",
              "\n",
              ".ee-open + ul {\n",
              "  display: block;\n",
              "}\n",
              "\n",
              ".ee-shut::before {\n",
              "  display: inline-block;\n",
              "  content: \"▼\";\n",
              "  margin-right: 6px;\n",
              "  transform: rotate(-90deg);\n",
              "  transition: transform 0.2s;\n",
              "}\n",
              "\n",
              ".ee-open::before {\n",
              "  transform: rotate(0deg);\n",
              "  display: inline-block;\n",
              "  content: \"▼\";\n",
              "  margin-right: 6px;\n",
              "  transition: transform 0.2s;\n",
              "}\n",
              "</style><div class='ee'><ul><li><span class='ee-v'>289</span></li></ul></div><script>function toggleHeader() {\n",
              "    const parent = this.parentElement;\n",
              "    parent.className = parent.className === \"ee-open\" ? \"ee-shut\" : \"ee-open\";\n",
              "}\n",
              "\n",
              "for (let c of document.getElementsByClassName(\"ee-toggle\")) {\n",
              "    c.onclick = toggleHeader;\n",
              "}</script></div>"
            ]
          },
          "metadata": {},
          "execution_count": 51
        }
      ]
    },
    {
      "cell_type": "code",
      "source": [
        "img_pointsLD8.limit(5)"
      ],
      "metadata": {
        "id": "kCpqU9_wqMja",
        "colab": {
          "base_uri": "https://localhost:8080/",
          "height": 0
        },
        "outputId": "8e3a70a2-9389-4c20-f595-189bf8a4878c"
      },
      "execution_count": 52,
      "outputs": [
        {
          "output_type": "display_data",
          "data": {
            "text/plain": [
              "<IPython.core.display.HTML object>"
            ],
            "text/html": [
              "\n",
              "            <style>\n",
              "                .geemap-dark {\n",
              "                    --jp-widgets-color: white;\n",
              "                    --jp-widgets-label-color: white;\n",
              "                    --jp-ui-font-color1: white;\n",
              "                    --jp-layout-color2: #454545;\n",
              "                    background-color: #383838;\n",
              "                }\n",
              "\n",
              "                .geemap-dark .jupyter-button {\n",
              "                    --jp-layout-color3: #383838;\n",
              "                }\n",
              "\n",
              "                .geemap-colab {\n",
              "                    background-color: var(--colab-primary-surface-color, white);\n",
              "                }\n",
              "\n",
              "                .geemap-colab .jupyter-button {\n",
              "                    --jp-layout-color3: var(--colab-primary-surface-color, white);\n",
              "                }\n",
              "            </style>\n",
              "            "
            ]
          },
          "metadata": {}
        },
        {
          "output_type": "execute_result",
          "data": {
            "text/plain": [
              "<ee.imagecollection.ImageCollection at 0x7cc2ca72e770>"
            ],
            "text/html": [
              "<div><style>:root {\n",
              "  --font-color-primary: var(--jp-content-font-color0, rgba(0, 0, 0, 1));\n",
              "  --font-color-secondary: var(--jp-content-font-color2, rgba(0, 0, 0, 0.6));\n",
              "  --font-color-accent: rgba(123, 31, 162, 1);\n",
              "  --border-color: var(--jp-border-color2, #e0e0e0);\n",
              "  --background-color: var(--jp-layout-color0, white);\n",
              "  --background-color-row-even: var(--jp-layout-color1, white);\n",
              "  --background-color-row-odd: var(--jp-layout-color2, #eeeeee);\n",
              "}\n",
              "\n",
              "html[theme=\"dark\"],\n",
              "body[data-theme=\"dark\"],\n",
              "body.vscode-dark {\n",
              "  --font-color-primary: rgba(255, 255, 255, 1);\n",
              "  --font-color-secondary: rgba(255, 255, 255, 0.6);\n",
              "  --font-color-accent: rgb(173, 132, 190);\n",
              "  --border-color: #2e2e2e;\n",
              "  --background-color: #111111;\n",
              "  --background-color-row-even: #111111;\n",
              "  --background-color-row-odd: #313131;\n",
              "}\n",
              "\n",
              ".ee {\n",
              "  padding: 1em;\n",
              "  line-height: 1.5em;\n",
              "  min-width: 300px;\n",
              "  max-width: 1200px;\n",
              "  overflow-y: scroll;\n",
              "  max-height: 600px;\n",
              "  border: 1px solid var(--border-color);\n",
              "  font-family: monospace;\n",
              "}\n",
              "\n",
              ".ee li {\n",
              "  list-style-type: none;\n",
              "}\n",
              "\n",
              ".ee ul {\n",
              "  padding-left: 1.5em !important;\n",
              "  margin: 0;\n",
              "}\n",
              "\n",
              ".ee > ul {\n",
              "  padding-left: 0 !important;\n",
              "}\n",
              "\n",
              ".ee-open,\n",
              ".ee-shut {\n",
              "  color: var(--font-color-secondary);\n",
              "  cursor: pointer;\n",
              "  margin: 0;\n",
              "}\n",
              "\n",
              ".ee-open:hover,\n",
              ".ee-shut:hover {\n",
              "  color: var(--font-color-primary);\n",
              "}\n",
              "\n",
              ".ee-k {\n",
              "  color: var(--font-color-accent);\n",
              "  margin-right: 6px;\n",
              "}\n",
              "\n",
              ".ee-v {\n",
              "  color: var(--font-color-primary);\n",
              "}\n",
              "\n",
              ".ee-toggle {\n",
              "  display: none;\n",
              "}\n",
              "\n",
              ".ee-shut + ul {\n",
              "  display: none;\n",
              "}\n",
              "\n",
              ".ee-open + ul {\n",
              "  display: block;\n",
              "}\n",
              "\n",
              ".ee-shut::before {\n",
              "  display: inline-block;\n",
              "  content: \"▼\";\n",
              "  margin-right: 6px;\n",
              "  transform: rotate(-90deg);\n",
              "  transition: transform 0.2s;\n",
              "}\n",
              "\n",
              ".ee-open::before {\n",
              "  transform: rotate(0deg);\n",
              "  display: inline-block;\n",
              "  content: \"▼\";\n",
              "  margin-right: 6px;\n",
              "  transition: transform 0.2s;\n",
              "}\n",
              "</style><div class='ee'><ul><li><label class='ee-shut'>ImageCollection (5 elements)<input type='checkbox' class='ee-toggle'></label><ul><li><span class='ee-k'>type:</span><span class='ee-v'>ImageCollection</span></li><li><label class='ee-shut'>bands: []<input type='checkbox' class='ee-toggle'></label><ul></ul></li><li><label class='ee-shut'>features: List (5 elements)<input type='checkbox' class='ee-toggle'></label><ul><li><label class='ee-shut'>0: Image (6 bands)<input type='checkbox' class='ee-toggle'></label><ul><li><span class='ee-k'>type:</span><span class='ee-v'>Image</span></li><li><label class='ee-shut'>bands: List (6 elements)<input type='checkbox' class='ee-toggle'></label><ul><li><label class='ee-shut'>0: \"blue\", double, EPSG:32721, 3864x1186 px<input type='checkbox' class='ee-toggle'></label><ul><li><span class='ee-k'>id:</span><span class='ee-v'>blue</span></li><li><span class='ee-k'>crs:</span><span class='ee-v'>EPSG:32721</span></li><li><label class='ee-shut'>crs_transform: [30, 0, 610350, 0, -30, 9780030]<input type='checkbox' class='ee-toggle'></label><ul><li><span class='ee-k'>0:</span><span class='ee-v'>30</span></li><li><span class='ee-k'>1:</span><span class='ee-v'>0</span></li><li><span class='ee-k'>2:</span><span class='ee-v'>610350</span></li><li><span class='ee-k'>3:</span><span class='ee-v'>0</span></li><li><span class='ee-k'>4:</span><span class='ee-v'>-30</span></li><li><span class='ee-k'>5:</span><span class='ee-v'>9780030</span></li></ul></li><li><label class='ee-shut'>data_type: double<input type='checkbox' class='ee-toggle'></label><ul><li><span class='ee-k'>type:</span><span class='ee-v'>PixelType</span></li><li><span class='ee-k'>precision:</span><span class='ee-v'>double</span></li></ul></li><li><label class='ee-shut'>dimensions: [3864, 1186]<input type='checkbox' class='ee-toggle'></label><ul><li><span class='ee-k'>0:</span><span class='ee-v'>3864</span></li><li><span class='ee-k'>1:</span><span class='ee-v'>1186</span></li></ul></li></ul></li><li><label class='ee-shut'>1: \"green\", double, EPSG:32721, 3864x1186 px<input type='checkbox' class='ee-toggle'></label><ul><li><span class='ee-k'>id:</span><span class='ee-v'>green</span></li><li><span class='ee-k'>crs:</span><span class='ee-v'>EPSG:32721</span></li><li><label class='ee-shut'>crs_transform: [30, 0, 610350, 0, -30, 9780030]<input type='checkbox' class='ee-toggle'></label><ul><li><span class='ee-k'>0:</span><span class='ee-v'>30</span></li><li><span class='ee-k'>1:</span><span class='ee-v'>0</span></li><li><span class='ee-k'>2:</span><span class='ee-v'>610350</span></li><li><span class='ee-k'>3:</span><span class='ee-v'>0</span></li><li><span class='ee-k'>4:</span><span class='ee-v'>-30</span></li><li><span class='ee-k'>5:</span><span class='ee-v'>9780030</span></li></ul></li><li><label class='ee-shut'>data_type: double<input type='checkbox' class='ee-toggle'></label><ul><li><span class='ee-k'>type:</span><span class='ee-v'>PixelType</span></li><li><span class='ee-k'>precision:</span><span class='ee-v'>double</span></li></ul></li><li><label class='ee-shut'>dimensions: [3864, 1186]<input type='checkbox' class='ee-toggle'></label><ul><li><span class='ee-k'>0:</span><span class='ee-v'>3864</span></li><li><span class='ee-k'>1:</span><span class='ee-v'>1186</span></li></ul></li></ul></li><li><label class='ee-shut'>2: \"red\", double, EPSG:32721, 3864x1186 px<input type='checkbox' class='ee-toggle'></label><ul><li><span class='ee-k'>id:</span><span class='ee-v'>red</span></li><li><span class='ee-k'>crs:</span><span class='ee-v'>EPSG:32721</span></li><li><label class='ee-shut'>crs_transform: [30, 0, 610350, 0, -30, 9780030]<input type='checkbox' class='ee-toggle'></label><ul><li><span class='ee-k'>0:</span><span class='ee-v'>30</span></li><li><span class='ee-k'>1:</span><span class='ee-v'>0</span></li><li><span class='ee-k'>2:</span><span class='ee-v'>610350</span></li><li><span class='ee-k'>3:</span><span class='ee-v'>0</span></li><li><span class='ee-k'>4:</span><span class='ee-v'>-30</span></li><li><span class='ee-k'>5:</span><span class='ee-v'>9780030</span></li></ul></li><li><label class='ee-shut'>data_type: double<input type='checkbox' class='ee-toggle'></label><ul><li><span class='ee-k'>type:</span><span class='ee-v'>PixelType</span></li><li><span class='ee-k'>precision:</span><span class='ee-v'>double</span></li></ul></li><li><label class='ee-shut'>dimensions: [3864, 1186]<input type='checkbox' class='ee-toggle'></label><ul><li><span class='ee-k'>0:</span><span class='ee-v'>3864</span></li><li><span class='ee-k'>1:</span><span class='ee-v'>1186</span></li></ul></li></ul></li><li><label class='ee-shut'>3: \"nir\", double, EPSG:32721, 3864x1186 px<input type='checkbox' class='ee-toggle'></label><ul><li><span class='ee-k'>id:</span><span class='ee-v'>nir</span></li><li><span class='ee-k'>crs:</span><span class='ee-v'>EPSG:32721</span></li><li><label class='ee-shut'>crs_transform: [30, 0, 610350, 0, -30, 9780030]<input type='checkbox' class='ee-toggle'></label><ul><li><span class='ee-k'>0:</span><span class='ee-v'>30</span></li><li><span class='ee-k'>1:</span><span class='ee-v'>0</span></li><li><span class='ee-k'>2:</span><span class='ee-v'>610350</span></li><li><span class='ee-k'>3:</span><span class='ee-v'>0</span></li><li><span class='ee-k'>4:</span><span class='ee-v'>-30</span></li><li><span class='ee-k'>5:</span><span class='ee-v'>9780030</span></li></ul></li><li><label class='ee-shut'>data_type: double<input type='checkbox' class='ee-toggle'></label><ul><li><span class='ee-k'>type:</span><span class='ee-v'>PixelType</span></li><li><span class='ee-k'>precision:</span><span class='ee-v'>double</span></li></ul></li><li><label class='ee-shut'>dimensions: [3864, 1186]<input type='checkbox' class='ee-toggle'></label><ul><li><span class='ee-k'>0:</span><span class='ee-v'>3864</span></li><li><span class='ee-k'>1:</span><span class='ee-v'>1186</span></li></ul></li></ul></li><li><label class='ee-shut'>4: \"swir1\", double, EPSG:32721, 3864x1186 px<input type='checkbox' class='ee-toggle'></label><ul><li><span class='ee-k'>id:</span><span class='ee-v'>swir1</span></li><li><span class='ee-k'>crs:</span><span class='ee-v'>EPSG:32721</span></li><li><label class='ee-shut'>crs_transform: [30, 0, 610350, 0, -30, 9780030]<input type='checkbox' class='ee-toggle'></label><ul><li><span class='ee-k'>0:</span><span class='ee-v'>30</span></li><li><span class='ee-k'>1:</span><span class='ee-v'>0</span></li><li><span class='ee-k'>2:</span><span class='ee-v'>610350</span></li><li><span class='ee-k'>3:</span><span class='ee-v'>0</span></li><li><span class='ee-k'>4:</span><span class='ee-v'>-30</span></li><li><span class='ee-k'>5:</span><span class='ee-v'>9780030</span></li></ul></li><li><label class='ee-shut'>data_type: double<input type='checkbox' class='ee-toggle'></label><ul><li><span class='ee-k'>type:</span><span class='ee-v'>PixelType</span></li><li><span class='ee-k'>precision:</span><span class='ee-v'>double</span></li></ul></li><li><label class='ee-shut'>dimensions: [3864, 1186]<input type='checkbox' class='ee-toggle'></label><ul><li><span class='ee-k'>0:</span><span class='ee-v'>3864</span></li><li><span class='ee-k'>1:</span><span class='ee-v'>1186</span></li></ul></li></ul></li><li><label class='ee-shut'>5: \"swir2\", double, EPSG:32721, 3864x1186 px<input type='checkbox' class='ee-toggle'></label><ul><li><span class='ee-k'>id:</span><span class='ee-v'>swir2</span></li><li><span class='ee-k'>crs:</span><span class='ee-v'>EPSG:32721</span></li><li><label class='ee-shut'>crs_transform: [30, 0, 610350, 0, -30, 9780030]<input type='checkbox' class='ee-toggle'></label><ul><li><span class='ee-k'>0:</span><span class='ee-v'>30</span></li><li><span class='ee-k'>1:</span><span class='ee-v'>0</span></li><li><span class='ee-k'>2:</span><span class='ee-v'>610350</span></li><li><span class='ee-k'>3:</span><span class='ee-v'>0</span></li><li><span class='ee-k'>4:</span><span class='ee-v'>-30</span></li><li><span class='ee-k'>5:</span><span class='ee-v'>9780030</span></li></ul></li><li><label class='ee-shut'>data_type: double<input type='checkbox' class='ee-toggle'></label><ul><li><span class='ee-k'>type:</span><span class='ee-v'>PixelType</span></li><li><span class='ee-k'>precision:</span><span class='ee-v'>double</span></li></ul></li><li><label class='ee-shut'>dimensions: [3864, 1186]<input type='checkbox' class='ee-toggle'></label><ul><li><span class='ee-k'>0:</span><span class='ee-v'>3864</span></li><li><span class='ee-k'>1:</span><span class='ee-v'>1186</span></li></ul></li></ul></li></ul></li><li><label class='ee-shut'>properties: Object (5 properties)<input type='checkbox' class='ee-toggle'></label><ul><li><span class='ee-k'>CLOUD_COVER:</span><span class='ee-v'>55.8</span></li><li><span class='ee-k'>ID:</span><span class='ee-v'>71</span></li><li><span class='ee-k'>dif_date_point:</span><span class='ee-v'>-14.423429432870371</span></li><li><span class='ee-k'>system:index:</span><span class='ee-v'>71_BOA_LC08_227062_20130824</span></li><li><span class='ee-k'>system:time_start:</span><span class='ee-v'>1377352215697</span></li></ul></li></ul></li><li><label class='ee-shut'>1: Image (6 bands)<input type='checkbox' class='ee-toggle'></label><ul><li><span class='ee-k'>type:</span><span class='ee-v'>Image</span></li><li><label class='ee-shut'>bands: List (6 elements)<input type='checkbox' class='ee-toggle'></label><ul><li><label class='ee-shut'>0: \"blue\", double, EPSG:32721, 3864x1186 px<input type='checkbox' class='ee-toggle'></label><ul><li><span class='ee-k'>id:</span><span class='ee-v'>blue</span></li><li><span class='ee-k'>crs:</span><span class='ee-v'>EPSG:32721</span></li><li><label class='ee-shut'>crs_transform: [30, 0, 610350, 0, -30, 9780030]<input type='checkbox' class='ee-toggle'></label><ul><li><span class='ee-k'>0:</span><span class='ee-v'>30</span></li><li><span class='ee-k'>1:</span><span class='ee-v'>0</span></li><li><span class='ee-k'>2:</span><span class='ee-v'>610350</span></li><li><span class='ee-k'>3:</span><span class='ee-v'>0</span></li><li><span class='ee-k'>4:</span><span class='ee-v'>-30</span></li><li><span class='ee-k'>5:</span><span class='ee-v'>9780030</span></li></ul></li><li><label class='ee-shut'>data_type: double<input type='checkbox' class='ee-toggle'></label><ul><li><span class='ee-k'>type:</span><span class='ee-v'>PixelType</span></li><li><span class='ee-k'>precision:</span><span class='ee-v'>double</span></li></ul></li><li><label class='ee-shut'>dimensions: [3864, 1186]<input type='checkbox' class='ee-toggle'></label><ul><li><span class='ee-k'>0:</span><span class='ee-v'>3864</span></li><li><span class='ee-k'>1:</span><span class='ee-v'>1186</span></li></ul></li></ul></li><li><label class='ee-shut'>1: \"green\", double, EPSG:32721, 3864x1186 px<input type='checkbox' class='ee-toggle'></label><ul><li><span class='ee-k'>id:</span><span class='ee-v'>green</span></li><li><span class='ee-k'>crs:</span><span class='ee-v'>EPSG:32721</span></li><li><label class='ee-shut'>crs_transform: [30, 0, 610350, 0, -30, 9780030]<input type='checkbox' class='ee-toggle'></label><ul><li><span class='ee-k'>0:</span><span class='ee-v'>30</span></li><li><span class='ee-k'>1:</span><span class='ee-v'>0</span></li><li><span class='ee-k'>2:</span><span class='ee-v'>610350</span></li><li><span class='ee-k'>3:</span><span class='ee-v'>0</span></li><li><span class='ee-k'>4:</span><span class='ee-v'>-30</span></li><li><span class='ee-k'>5:</span><span class='ee-v'>9780030</span></li></ul></li><li><label class='ee-shut'>data_type: double<input type='checkbox' class='ee-toggle'></label><ul><li><span class='ee-k'>type:</span><span class='ee-v'>PixelType</span></li><li><span class='ee-k'>precision:</span><span class='ee-v'>double</span></li></ul></li><li><label class='ee-shut'>dimensions: [3864, 1186]<input type='checkbox' class='ee-toggle'></label><ul><li><span class='ee-k'>0:</span><span class='ee-v'>3864</span></li><li><span class='ee-k'>1:</span><span class='ee-v'>1186</span></li></ul></li></ul></li><li><label class='ee-shut'>2: \"red\", double, EPSG:32721, 3864x1186 px<input type='checkbox' class='ee-toggle'></label><ul><li><span class='ee-k'>id:</span><span class='ee-v'>red</span></li><li><span class='ee-k'>crs:</span><span class='ee-v'>EPSG:32721</span></li><li><label class='ee-shut'>crs_transform: [30, 0, 610350, 0, -30, 9780030]<input type='checkbox' class='ee-toggle'></label><ul><li><span class='ee-k'>0:</span><span class='ee-v'>30</span></li><li><span class='ee-k'>1:</span><span class='ee-v'>0</span></li><li><span class='ee-k'>2:</span><span class='ee-v'>610350</span></li><li><span class='ee-k'>3:</span><span class='ee-v'>0</span></li><li><span class='ee-k'>4:</span><span class='ee-v'>-30</span></li><li><span class='ee-k'>5:</span><span class='ee-v'>9780030</span></li></ul></li><li><label class='ee-shut'>data_type: double<input type='checkbox' class='ee-toggle'></label><ul><li><span class='ee-k'>type:</span><span class='ee-v'>PixelType</span></li><li><span class='ee-k'>precision:</span><span class='ee-v'>double</span></li></ul></li><li><label class='ee-shut'>dimensions: [3864, 1186]<input type='checkbox' class='ee-toggle'></label><ul><li><span class='ee-k'>0:</span><span class='ee-v'>3864</span></li><li><span class='ee-k'>1:</span><span class='ee-v'>1186</span></li></ul></li></ul></li><li><label class='ee-shut'>3: \"nir\", double, EPSG:32721, 3864x1186 px<input type='checkbox' class='ee-toggle'></label><ul><li><span class='ee-k'>id:</span><span class='ee-v'>nir</span></li><li><span class='ee-k'>crs:</span><span class='ee-v'>EPSG:32721</span></li><li><label class='ee-shut'>crs_transform: [30, 0, 610350, 0, -30, 9780030]<input type='checkbox' class='ee-toggle'></label><ul><li><span class='ee-k'>0:</span><span class='ee-v'>30</span></li><li><span class='ee-k'>1:</span><span class='ee-v'>0</span></li><li><span class='ee-k'>2:</span><span class='ee-v'>610350</span></li><li><span class='ee-k'>3:</span><span class='ee-v'>0</span></li><li><span class='ee-k'>4:</span><span class='ee-v'>-30</span></li><li><span class='ee-k'>5:</span><span class='ee-v'>9780030</span></li></ul></li><li><label class='ee-shut'>data_type: double<input type='checkbox' class='ee-toggle'></label><ul><li><span class='ee-k'>type:</span><span class='ee-v'>PixelType</span></li><li><span class='ee-k'>precision:</span><span class='ee-v'>double</span></li></ul></li><li><label class='ee-shut'>dimensions: [3864, 1186]<input type='checkbox' class='ee-toggle'></label><ul><li><span class='ee-k'>0:</span><span class='ee-v'>3864</span></li><li><span class='ee-k'>1:</span><span class='ee-v'>1186</span></li></ul></li></ul></li><li><label class='ee-shut'>4: \"swir1\", double, EPSG:32721, 3864x1186 px<input type='checkbox' class='ee-toggle'></label><ul><li><span class='ee-k'>id:</span><span class='ee-v'>swir1</span></li><li><span class='ee-k'>crs:</span><span class='ee-v'>EPSG:32721</span></li><li><label class='ee-shut'>crs_transform: [30, 0, 610350, 0, -30, 9780030]<input type='checkbox' class='ee-toggle'></label><ul><li><span class='ee-k'>0:</span><span class='ee-v'>30</span></li><li><span class='ee-k'>1:</span><span class='ee-v'>0</span></li><li><span class='ee-k'>2:</span><span class='ee-v'>610350</span></li><li><span class='ee-k'>3:</span><span class='ee-v'>0</span></li><li><span class='ee-k'>4:</span><span class='ee-v'>-30</span></li><li><span class='ee-k'>5:</span><span class='ee-v'>9780030</span></li></ul></li><li><label class='ee-shut'>data_type: double<input type='checkbox' class='ee-toggle'></label><ul><li><span class='ee-k'>type:</span><span class='ee-v'>PixelType</span></li><li><span class='ee-k'>precision:</span><span class='ee-v'>double</span></li></ul></li><li><label class='ee-shut'>dimensions: [3864, 1186]<input type='checkbox' class='ee-toggle'></label><ul><li><span class='ee-k'>0:</span><span class='ee-v'>3864</span></li><li><span class='ee-k'>1:</span><span class='ee-v'>1186</span></li></ul></li></ul></li><li><label class='ee-shut'>5: \"swir2\", double, EPSG:32721, 3864x1186 px<input type='checkbox' class='ee-toggle'></label><ul><li><span class='ee-k'>id:</span><span class='ee-v'>swir2</span></li><li><span class='ee-k'>crs:</span><span class='ee-v'>EPSG:32721</span></li><li><label class='ee-shut'>crs_transform: [30, 0, 610350, 0, -30, 9780030]<input type='checkbox' class='ee-toggle'></label><ul><li><span class='ee-k'>0:</span><span class='ee-v'>30</span></li><li><span class='ee-k'>1:</span><span class='ee-v'>0</span></li><li><span class='ee-k'>2:</span><span class='ee-v'>610350</span></li><li><span class='ee-k'>3:</span><span class='ee-v'>0</span></li><li><span class='ee-k'>4:</span><span class='ee-v'>-30</span></li><li><span class='ee-k'>5:</span><span class='ee-v'>9780030</span></li></ul></li><li><label class='ee-shut'>data_type: double<input type='checkbox' class='ee-toggle'></label><ul><li><span class='ee-k'>type:</span><span class='ee-v'>PixelType</span></li><li><span class='ee-k'>precision:</span><span class='ee-v'>double</span></li></ul></li><li><label class='ee-shut'>dimensions: [3864, 1186]<input type='checkbox' class='ee-toggle'></label><ul><li><span class='ee-k'>0:</span><span class='ee-v'>3864</span></li><li><span class='ee-k'>1:</span><span class='ee-v'>1186</span></li></ul></li></ul></li></ul></li><li><label class='ee-shut'>properties: Object (5 properties)<input type='checkbox' class='ee-toggle'></label><ul><li><span class='ee-k'>CLOUD_COVER:</span><span class='ee-v'>49.64</span></li><li><span class='ee-k'>ID:</span><span class='ee-v'>71</span></li><li><span class='ee-k'>dif_date_point:</span><span class='ee-v'>1.5765491782407408</span></li><li><span class='ee-k'>system:index:</span><span class='ee-v'>71_BOA_LC08_227062_20130909</span></li><li><span class='ee-k'>system:time_start:</span><span class='ee-v'>1378734613849</span></li></ul></li></ul></li><li><label class='ee-shut'>2: Image (6 bands)<input type='checkbox' class='ee-toggle'></label><ul><li><span class='ee-k'>type:</span><span class='ee-v'>Image</span></li><li><label class='ee-shut'>bands: List (6 elements)<input type='checkbox' class='ee-toggle'></label><ul><li><label class='ee-shut'>0: \"blue\", double, EPSG:32721, 3864x1186 px<input type='checkbox' class='ee-toggle'></label><ul><li><span class='ee-k'>id:</span><span class='ee-v'>blue</span></li><li><span class='ee-k'>crs:</span><span class='ee-v'>EPSG:32721</span></li><li><label class='ee-shut'>crs_transform: [30, 0, 610350, 0, -30, 9780030]<input type='checkbox' class='ee-toggle'></label><ul><li><span class='ee-k'>0:</span><span class='ee-v'>30</span></li><li><span class='ee-k'>1:</span><span class='ee-v'>0</span></li><li><span class='ee-k'>2:</span><span class='ee-v'>610350</span></li><li><span class='ee-k'>3:</span><span class='ee-v'>0</span></li><li><span class='ee-k'>4:</span><span class='ee-v'>-30</span></li><li><span class='ee-k'>5:</span><span class='ee-v'>9780030</span></li></ul></li><li><label class='ee-shut'>data_type: double<input type='checkbox' class='ee-toggle'></label><ul><li><span class='ee-k'>type:</span><span class='ee-v'>PixelType</span></li><li><span class='ee-k'>precision:</span><span class='ee-v'>double</span></li></ul></li><li><label class='ee-shut'>dimensions: [3864, 1186]<input type='checkbox' class='ee-toggle'></label><ul><li><span class='ee-k'>0:</span><span class='ee-v'>3864</span></li><li><span class='ee-k'>1:</span><span class='ee-v'>1186</span></li></ul></li></ul></li><li><label class='ee-shut'>1: \"green\", double, EPSG:32721, 3864x1186 px<input type='checkbox' class='ee-toggle'></label><ul><li><span class='ee-k'>id:</span><span class='ee-v'>green</span></li><li><span class='ee-k'>crs:</span><span class='ee-v'>EPSG:32721</span></li><li><label class='ee-shut'>crs_transform: [30, 0, 610350, 0, -30, 9780030]<input type='checkbox' class='ee-toggle'></label><ul><li><span class='ee-k'>0:</span><span class='ee-v'>30</span></li><li><span class='ee-k'>1:</span><span class='ee-v'>0</span></li><li><span class='ee-k'>2:</span><span class='ee-v'>610350</span></li><li><span class='ee-k'>3:</span><span class='ee-v'>0</span></li><li><span class='ee-k'>4:</span><span class='ee-v'>-30</span></li><li><span class='ee-k'>5:</span><span class='ee-v'>9780030</span></li></ul></li><li><label class='ee-shut'>data_type: double<input type='checkbox' class='ee-toggle'></label><ul><li><span class='ee-k'>type:</span><span class='ee-v'>PixelType</span></li><li><span class='ee-k'>precision:</span><span class='ee-v'>double</span></li></ul></li><li><label class='ee-shut'>dimensions: [3864, 1186]<input type='checkbox' class='ee-toggle'></label><ul><li><span class='ee-k'>0:</span><span class='ee-v'>3864</span></li><li><span class='ee-k'>1:</span><span class='ee-v'>1186</span></li></ul></li></ul></li><li><label class='ee-shut'>2: \"red\", double, EPSG:32721, 3864x1186 px<input type='checkbox' class='ee-toggle'></label><ul><li><span class='ee-k'>id:</span><span class='ee-v'>red</span></li><li><span class='ee-k'>crs:</span><span class='ee-v'>EPSG:32721</span></li><li><label class='ee-shut'>crs_transform: [30, 0, 610350, 0, -30, 9780030]<input type='checkbox' class='ee-toggle'></label><ul><li><span class='ee-k'>0:</span><span class='ee-v'>30</span></li><li><span class='ee-k'>1:</span><span class='ee-v'>0</span></li><li><span class='ee-k'>2:</span><span class='ee-v'>610350</span></li><li><span class='ee-k'>3:</span><span class='ee-v'>0</span></li><li><span class='ee-k'>4:</span><span class='ee-v'>-30</span></li><li><span class='ee-k'>5:</span><span class='ee-v'>9780030</span></li></ul></li><li><label class='ee-shut'>data_type: double<input type='checkbox' class='ee-toggle'></label><ul><li><span class='ee-k'>type:</span><span class='ee-v'>PixelType</span></li><li><span class='ee-k'>precision:</span><span class='ee-v'>double</span></li></ul></li><li><label class='ee-shut'>dimensions: [3864, 1186]<input type='checkbox' class='ee-toggle'></label><ul><li><span class='ee-k'>0:</span><span class='ee-v'>3864</span></li><li><span class='ee-k'>1:</span><span class='ee-v'>1186</span></li></ul></li></ul></li><li><label class='ee-shut'>3: \"nir\", double, EPSG:32721, 3864x1186 px<input type='checkbox' class='ee-toggle'></label><ul><li><span class='ee-k'>id:</span><span class='ee-v'>nir</span></li><li><span class='ee-k'>crs:</span><span class='ee-v'>EPSG:32721</span></li><li><label class='ee-shut'>crs_transform: [30, 0, 610350, 0, -30, 9780030]<input type='checkbox' class='ee-toggle'></label><ul><li><span class='ee-k'>0:</span><span class='ee-v'>30</span></li><li><span class='ee-k'>1:</span><span class='ee-v'>0</span></li><li><span class='ee-k'>2:</span><span class='ee-v'>610350</span></li><li><span class='ee-k'>3:</span><span class='ee-v'>0</span></li><li><span class='ee-k'>4:</span><span class='ee-v'>-30</span></li><li><span class='ee-k'>5:</span><span class='ee-v'>9780030</span></li></ul></li><li><label class='ee-shut'>data_type: double<input type='checkbox' class='ee-toggle'></label><ul><li><span class='ee-k'>type:</span><span class='ee-v'>PixelType</span></li><li><span class='ee-k'>precision:</span><span class='ee-v'>double</span></li></ul></li><li><label class='ee-shut'>dimensions: [3864, 1186]<input type='checkbox' class='ee-toggle'></label><ul><li><span class='ee-k'>0:</span><span class='ee-v'>3864</span></li><li><span class='ee-k'>1:</span><span class='ee-v'>1186</span></li></ul></li></ul></li><li><label class='ee-shut'>4: \"swir1\", double, EPSG:32721, 3864x1186 px<input type='checkbox' class='ee-toggle'></label><ul><li><span class='ee-k'>id:</span><span class='ee-v'>swir1</span></li><li><span class='ee-k'>crs:</span><span class='ee-v'>EPSG:32721</span></li><li><label class='ee-shut'>crs_transform: [30, 0, 610350, 0, -30, 9780030]<input type='checkbox' class='ee-toggle'></label><ul><li><span class='ee-k'>0:</span><span class='ee-v'>30</span></li><li><span class='ee-k'>1:</span><span class='ee-v'>0</span></li><li><span class='ee-k'>2:</span><span class='ee-v'>610350</span></li><li><span class='ee-k'>3:</span><span class='ee-v'>0</span></li><li><span class='ee-k'>4:</span><span class='ee-v'>-30</span></li><li><span class='ee-k'>5:</span><span class='ee-v'>9780030</span></li></ul></li><li><label class='ee-shut'>data_type: double<input type='checkbox' class='ee-toggle'></label><ul><li><span class='ee-k'>type:</span><span class='ee-v'>PixelType</span></li><li><span class='ee-k'>precision:</span><span class='ee-v'>double</span></li></ul></li><li><label class='ee-shut'>dimensions: [3864, 1186]<input type='checkbox' class='ee-toggle'></label><ul><li><span class='ee-k'>0:</span><span class='ee-v'>3864</span></li><li><span class='ee-k'>1:</span><span class='ee-v'>1186</span></li></ul></li></ul></li><li><label class='ee-shut'>5: \"swir2\", double, EPSG:32721, 3864x1186 px<input type='checkbox' class='ee-toggle'></label><ul><li><span class='ee-k'>id:</span><span class='ee-v'>swir2</span></li><li><span class='ee-k'>crs:</span><span class='ee-v'>EPSG:32721</span></li><li><label class='ee-shut'>crs_transform: [30, 0, 610350, 0, -30, 9780030]<input type='checkbox' class='ee-toggle'></label><ul><li><span class='ee-k'>0:</span><span class='ee-v'>30</span></li><li><span class='ee-k'>1:</span><span class='ee-v'>0</span></li><li><span class='ee-k'>2:</span><span class='ee-v'>610350</span></li><li><span class='ee-k'>3:</span><span class='ee-v'>0</span></li><li><span class='ee-k'>4:</span><span class='ee-v'>-30</span></li><li><span class='ee-k'>5:</span><span class='ee-v'>9780030</span></li></ul></li><li><label class='ee-shut'>data_type: double<input type='checkbox' class='ee-toggle'></label><ul><li><span class='ee-k'>type:</span><span class='ee-v'>PixelType</span></li><li><span class='ee-k'>precision:</span><span class='ee-v'>double</span></li></ul></li><li><label class='ee-shut'>dimensions: [3864, 1186]<input type='checkbox' class='ee-toggle'></label><ul><li><span class='ee-k'>0:</span><span class='ee-v'>3864</span></li><li><span class='ee-k'>1:</span><span class='ee-v'>1186</span></li></ul></li></ul></li></ul></li><li><label class='ee-shut'>properties: Object (5 properties)<input type='checkbox' class='ee-toggle'></label><ul><li><span class='ee-k'>CLOUD_COVER:</span><span class='ee-v'>74.63</span></li><li><span class='ee-k'>ID:</span><span class='ee-v'>71</span></li><li><span class='ee-k'>dif_date_point:</span><span class='ee-v'>-7.419413935185185</span></li><li><span class='ee-k'>system:index:</span><span class='ee-v'>71_BOA_LC08_228061_20130831</span></li><li><span class='ee-k'>system:time_start:</span><span class='ee-v'>1377957362636</span></li></ul></li></ul></li><li><label class='ee-shut'>3: Image (6 bands)<input type='checkbox' class='ee-toggle'></label><ul><li><span class='ee-k'>type:</span><span class='ee-v'>Image</span></li><li><label class='ee-shut'>bands: List (6 elements)<input type='checkbox' class='ee-toggle'></label><ul><li><label class='ee-shut'>0: \"blue\", double, EPSG:32721, 3864x1186 px<input type='checkbox' class='ee-toggle'></label><ul><li><span class='ee-k'>id:</span><span class='ee-v'>blue</span></li><li><span class='ee-k'>crs:</span><span class='ee-v'>EPSG:32721</span></li><li><label class='ee-shut'>crs_transform: [30, 0, 610350, 0, -30, 9780030]<input type='checkbox' class='ee-toggle'></label><ul><li><span class='ee-k'>0:</span><span class='ee-v'>30</span></li><li><span class='ee-k'>1:</span><span class='ee-v'>0</span></li><li><span class='ee-k'>2:</span><span class='ee-v'>610350</span></li><li><span class='ee-k'>3:</span><span class='ee-v'>0</span></li><li><span class='ee-k'>4:</span><span class='ee-v'>-30</span></li><li><span class='ee-k'>5:</span><span class='ee-v'>9780030</span></li></ul></li><li><label class='ee-shut'>data_type: double<input type='checkbox' class='ee-toggle'></label><ul><li><span class='ee-k'>type:</span><span class='ee-v'>PixelType</span></li><li><span class='ee-k'>precision:</span><span class='ee-v'>double</span></li></ul></li><li><label class='ee-shut'>dimensions: [3864, 1186]<input type='checkbox' class='ee-toggle'></label><ul><li><span class='ee-k'>0:</span><span class='ee-v'>3864</span></li><li><span class='ee-k'>1:</span><span class='ee-v'>1186</span></li></ul></li></ul></li><li><label class='ee-shut'>1: \"green\", double, EPSG:32721, 3864x1186 px<input type='checkbox' class='ee-toggle'></label><ul><li><span class='ee-k'>id:</span><span class='ee-v'>green</span></li><li><span class='ee-k'>crs:</span><span class='ee-v'>EPSG:32721</span></li><li><label class='ee-shut'>crs_transform: [30, 0, 610350, 0, -30, 9780030]<input type='checkbox' class='ee-toggle'></label><ul><li><span class='ee-k'>0:</span><span class='ee-v'>30</span></li><li><span class='ee-k'>1:</span><span class='ee-v'>0</span></li><li><span class='ee-k'>2:</span><span class='ee-v'>610350</span></li><li><span class='ee-k'>3:</span><span class='ee-v'>0</span></li><li><span class='ee-k'>4:</span><span class='ee-v'>-30</span></li><li><span class='ee-k'>5:</span><span class='ee-v'>9780030</span></li></ul></li><li><label class='ee-shut'>data_type: double<input type='checkbox' class='ee-toggle'></label><ul><li><span class='ee-k'>type:</span><span class='ee-v'>PixelType</span></li><li><span class='ee-k'>precision:</span><span class='ee-v'>double</span></li></ul></li><li><label class='ee-shut'>dimensions: [3864, 1186]<input type='checkbox' class='ee-toggle'></label><ul><li><span class='ee-k'>0:</span><span class='ee-v'>3864</span></li><li><span class='ee-k'>1:</span><span class='ee-v'>1186</span></li></ul></li></ul></li><li><label class='ee-shut'>2: \"red\", double, EPSG:32721, 3864x1186 px<input type='checkbox' class='ee-toggle'></label><ul><li><span class='ee-k'>id:</span><span class='ee-v'>red</span></li><li><span class='ee-k'>crs:</span><span class='ee-v'>EPSG:32721</span></li><li><label class='ee-shut'>crs_transform: [30, 0, 610350, 0, -30, 9780030]<input type='checkbox' class='ee-toggle'></label><ul><li><span class='ee-k'>0:</span><span class='ee-v'>30</span></li><li><span class='ee-k'>1:</span><span class='ee-v'>0</span></li><li><span class='ee-k'>2:</span><span class='ee-v'>610350</span></li><li><span class='ee-k'>3:</span><span class='ee-v'>0</span></li><li><span class='ee-k'>4:</span><span class='ee-v'>-30</span></li><li><span class='ee-k'>5:</span><span class='ee-v'>9780030</span></li></ul></li><li><label class='ee-shut'>data_type: double<input type='checkbox' class='ee-toggle'></label><ul><li><span class='ee-k'>type:</span><span class='ee-v'>PixelType</span></li><li><span class='ee-k'>precision:</span><span class='ee-v'>double</span></li></ul></li><li><label class='ee-shut'>dimensions: [3864, 1186]<input type='checkbox' class='ee-toggle'></label><ul><li><span class='ee-k'>0:</span><span class='ee-v'>3864</span></li><li><span class='ee-k'>1:</span><span class='ee-v'>1186</span></li></ul></li></ul></li><li><label class='ee-shut'>3: \"nir\", double, EPSG:32721, 3864x1186 px<input type='checkbox' class='ee-toggle'></label><ul><li><span class='ee-k'>id:</span><span class='ee-v'>nir</span></li><li><span class='ee-k'>crs:</span><span class='ee-v'>EPSG:32721</span></li><li><label class='ee-shut'>crs_transform: [30, 0, 610350, 0, -30, 9780030]<input type='checkbox' class='ee-toggle'></label><ul><li><span class='ee-k'>0:</span><span class='ee-v'>30</span></li><li><span class='ee-k'>1:</span><span class='ee-v'>0</span></li><li><span class='ee-k'>2:</span><span class='ee-v'>610350</span></li><li><span class='ee-k'>3:</span><span class='ee-v'>0</span></li><li><span class='ee-k'>4:</span><span class='ee-v'>-30</span></li><li><span class='ee-k'>5:</span><span class='ee-v'>9780030</span></li></ul></li><li><label class='ee-shut'>data_type: double<input type='checkbox' class='ee-toggle'></label><ul><li><span class='ee-k'>type:</span><span class='ee-v'>PixelType</span></li><li><span class='ee-k'>precision:</span><span class='ee-v'>double</span></li></ul></li><li><label class='ee-shut'>dimensions: [3864, 1186]<input type='checkbox' class='ee-toggle'></label><ul><li><span class='ee-k'>0:</span><span class='ee-v'>3864</span></li><li><span class='ee-k'>1:</span><span class='ee-v'>1186</span></li></ul></li></ul></li><li><label class='ee-shut'>4: \"swir1\", double, EPSG:32721, 3864x1186 px<input type='checkbox' class='ee-toggle'></label><ul><li><span class='ee-k'>id:</span><span class='ee-v'>swir1</span></li><li><span class='ee-k'>crs:</span><span class='ee-v'>EPSG:32721</span></li><li><label class='ee-shut'>crs_transform: [30, 0, 610350, 0, -30, 9780030]<input type='checkbox' class='ee-toggle'></label><ul><li><span class='ee-k'>0:</span><span class='ee-v'>30</span></li><li><span class='ee-k'>1:</span><span class='ee-v'>0</span></li><li><span class='ee-k'>2:</span><span class='ee-v'>610350</span></li><li><span class='ee-k'>3:</span><span class='ee-v'>0</span></li><li><span class='ee-k'>4:</span><span class='ee-v'>-30</span></li><li><span class='ee-k'>5:</span><span class='ee-v'>9780030</span></li></ul></li><li><label class='ee-shut'>data_type: double<input type='checkbox' class='ee-toggle'></label><ul><li><span class='ee-k'>type:</span><span class='ee-v'>PixelType</span></li><li><span class='ee-k'>precision:</span><span class='ee-v'>double</span></li></ul></li><li><label class='ee-shut'>dimensions: [3864, 1186]<input type='checkbox' class='ee-toggle'></label><ul><li><span class='ee-k'>0:</span><span class='ee-v'>3864</span></li><li><span class='ee-k'>1:</span><span class='ee-v'>1186</span></li></ul></li></ul></li><li><label class='ee-shut'>5: \"swir2\", double, EPSG:32721, 3864x1186 px<input type='checkbox' class='ee-toggle'></label><ul><li><span class='ee-k'>id:</span><span class='ee-v'>swir2</span></li><li><span class='ee-k'>crs:</span><span class='ee-v'>EPSG:32721</span></li><li><label class='ee-shut'>crs_transform: [30, 0, 610350, 0, -30, 9780030]<input type='checkbox' class='ee-toggle'></label><ul><li><span class='ee-k'>0:</span><span class='ee-v'>30</span></li><li><span class='ee-k'>1:</span><span class='ee-v'>0</span></li><li><span class='ee-k'>2:</span><span class='ee-v'>610350</span></li><li><span class='ee-k'>3:</span><span class='ee-v'>0</span></li><li><span class='ee-k'>4:</span><span class='ee-v'>-30</span></li><li><span class='ee-k'>5:</span><span class='ee-v'>9780030</span></li></ul></li><li><label class='ee-shut'>data_type: double<input type='checkbox' class='ee-toggle'></label><ul><li><span class='ee-k'>type:</span><span class='ee-v'>PixelType</span></li><li><span class='ee-k'>precision:</span><span class='ee-v'>double</span></li></ul></li><li><label class='ee-shut'>dimensions: [3864, 1186]<input type='checkbox' class='ee-toggle'></label><ul><li><span class='ee-k'>0:</span><span class='ee-v'>3864</span></li><li><span class='ee-k'>1:</span><span class='ee-v'>1186</span></li></ul></li></ul></li></ul></li><li><label class='ee-shut'>properties: Object (5 properties)<input type='checkbox' class='ee-toggle'></label><ul><li><span class='ee-k'>CLOUD_COVER:</span><span class='ee-v'>22.92</span></li><li><span class='ee-k'>ID:</span><span class='ee-v'>71</span></li><li><span class='ee-k'>dif_date_point:</span><span class='ee-v'>8.58053144675926</span></li><li><span class='ee-k'>system:index:</span><span class='ee-v'>71_BOA_LC08_228061_20130916</span></li><li><span class='ee-k'>system:time_start:</span><span class='ee-v'>1379339757917</span></li></ul></li></ul></li><li><label class='ee-shut'>4: Image (6 bands)<input type='checkbox' class='ee-toggle'></label><ul><li><span class='ee-k'>type:</span><span class='ee-v'>Image</span></li><li><label class='ee-shut'>bands: List (6 elements)<input type='checkbox' class='ee-toggle'></label><ul><li><label class='ee-shut'>0: \"blue\", double, EPSG:32721, 3864x1186 px<input type='checkbox' class='ee-toggle'></label><ul><li><span class='ee-k'>id:</span><span class='ee-v'>blue</span></li><li><span class='ee-k'>crs:</span><span class='ee-v'>EPSG:32721</span></li><li><label class='ee-shut'>crs_transform: [30, 0, 610350, 0, -30, 9780030]<input type='checkbox' class='ee-toggle'></label><ul><li><span class='ee-k'>0:</span><span class='ee-v'>30</span></li><li><span class='ee-k'>1:</span><span class='ee-v'>0</span></li><li><span class='ee-k'>2:</span><span class='ee-v'>610350</span></li><li><span class='ee-k'>3:</span><span class='ee-v'>0</span></li><li><span class='ee-k'>4:</span><span class='ee-v'>-30</span></li><li><span class='ee-k'>5:</span><span class='ee-v'>9780030</span></li></ul></li><li><label class='ee-shut'>data_type: double<input type='checkbox' class='ee-toggle'></label><ul><li><span class='ee-k'>type:</span><span class='ee-v'>PixelType</span></li><li><span class='ee-k'>precision:</span><span class='ee-v'>double</span></li></ul></li><li><label class='ee-shut'>dimensions: [3864, 1186]<input type='checkbox' class='ee-toggle'></label><ul><li><span class='ee-k'>0:</span><span class='ee-v'>3864</span></li><li><span class='ee-k'>1:</span><span class='ee-v'>1186</span></li></ul></li></ul></li><li><label class='ee-shut'>1: \"green\", double, EPSG:32721, 3864x1186 px<input type='checkbox' class='ee-toggle'></label><ul><li><span class='ee-k'>id:</span><span class='ee-v'>green</span></li><li><span class='ee-k'>crs:</span><span class='ee-v'>EPSG:32721</span></li><li><label class='ee-shut'>crs_transform: [30, 0, 610350, 0, -30, 9780030]<input type='checkbox' class='ee-toggle'></label><ul><li><span class='ee-k'>0:</span><span class='ee-v'>30</span></li><li><span class='ee-k'>1:</span><span class='ee-v'>0</span></li><li><span class='ee-k'>2:</span><span class='ee-v'>610350</span></li><li><span class='ee-k'>3:</span><span class='ee-v'>0</span></li><li><span class='ee-k'>4:</span><span class='ee-v'>-30</span></li><li><span class='ee-k'>5:</span><span class='ee-v'>9780030</span></li></ul></li><li><label class='ee-shut'>data_type: double<input type='checkbox' class='ee-toggle'></label><ul><li><span class='ee-k'>type:</span><span class='ee-v'>PixelType</span></li><li><span class='ee-k'>precision:</span><span class='ee-v'>double</span></li></ul></li><li><label class='ee-shut'>dimensions: [3864, 1186]<input type='checkbox' class='ee-toggle'></label><ul><li><span class='ee-k'>0:</span><span class='ee-v'>3864</span></li><li><span class='ee-k'>1:</span><span class='ee-v'>1186</span></li></ul></li></ul></li><li><label class='ee-shut'>2: \"red\", double, EPSG:32721, 3864x1186 px<input type='checkbox' class='ee-toggle'></label><ul><li><span class='ee-k'>id:</span><span class='ee-v'>red</span></li><li><span class='ee-k'>crs:</span><span class='ee-v'>EPSG:32721</span></li><li><label class='ee-shut'>crs_transform: [30, 0, 610350, 0, -30, 9780030]<input type='checkbox' class='ee-toggle'></label><ul><li><span class='ee-k'>0:</span><span class='ee-v'>30</span></li><li><span class='ee-k'>1:</span><span class='ee-v'>0</span></li><li><span class='ee-k'>2:</span><span class='ee-v'>610350</span></li><li><span class='ee-k'>3:</span><span class='ee-v'>0</span></li><li><span class='ee-k'>4:</span><span class='ee-v'>-30</span></li><li><span class='ee-k'>5:</span><span class='ee-v'>9780030</span></li></ul></li><li><label class='ee-shut'>data_type: double<input type='checkbox' class='ee-toggle'></label><ul><li><span class='ee-k'>type:</span><span class='ee-v'>PixelType</span></li><li><span class='ee-k'>precision:</span><span class='ee-v'>double</span></li></ul></li><li><label class='ee-shut'>dimensions: [3864, 1186]<input type='checkbox' class='ee-toggle'></label><ul><li><span class='ee-k'>0:</span><span class='ee-v'>3864</span></li><li><span class='ee-k'>1:</span><span class='ee-v'>1186</span></li></ul></li></ul></li><li><label class='ee-shut'>3: \"nir\", double, EPSG:32721, 3864x1186 px<input type='checkbox' class='ee-toggle'></label><ul><li><span class='ee-k'>id:</span><span class='ee-v'>nir</span></li><li><span class='ee-k'>crs:</span><span class='ee-v'>EPSG:32721</span></li><li><label class='ee-shut'>crs_transform: [30, 0, 610350, 0, -30, 9780030]<input type='checkbox' class='ee-toggle'></label><ul><li><span class='ee-k'>0:</span><span class='ee-v'>30</span></li><li><span class='ee-k'>1:</span><span class='ee-v'>0</span></li><li><span class='ee-k'>2:</span><span class='ee-v'>610350</span></li><li><span class='ee-k'>3:</span><span class='ee-v'>0</span></li><li><span class='ee-k'>4:</span><span class='ee-v'>-30</span></li><li><span class='ee-k'>5:</span><span class='ee-v'>9780030</span></li></ul></li><li><label class='ee-shut'>data_type: double<input type='checkbox' class='ee-toggle'></label><ul><li><span class='ee-k'>type:</span><span class='ee-v'>PixelType</span></li><li><span class='ee-k'>precision:</span><span class='ee-v'>double</span></li></ul></li><li><label class='ee-shut'>dimensions: [3864, 1186]<input type='checkbox' class='ee-toggle'></label><ul><li><span class='ee-k'>0:</span><span class='ee-v'>3864</span></li><li><span class='ee-k'>1:</span><span class='ee-v'>1186</span></li></ul></li></ul></li><li><label class='ee-shut'>4: \"swir1\", double, EPSG:32721, 3864x1186 px<input type='checkbox' class='ee-toggle'></label><ul><li><span class='ee-k'>id:</span><span class='ee-v'>swir1</span></li><li><span class='ee-k'>crs:</span><span class='ee-v'>EPSG:32721</span></li><li><label class='ee-shut'>crs_transform: [30, 0, 610350, 0, -30, 9780030]<input type='checkbox' class='ee-toggle'></label><ul><li><span class='ee-k'>0:</span><span class='ee-v'>30</span></li><li><span class='ee-k'>1:</span><span class='ee-v'>0</span></li><li><span class='ee-k'>2:</span><span class='ee-v'>610350</span></li><li><span class='ee-k'>3:</span><span class='ee-v'>0</span></li><li><span class='ee-k'>4:</span><span class='ee-v'>-30</span></li><li><span class='ee-k'>5:</span><span class='ee-v'>9780030</span></li></ul></li><li><label class='ee-shut'>data_type: double<input type='checkbox' class='ee-toggle'></label><ul><li><span class='ee-k'>type:</span><span class='ee-v'>PixelType</span></li><li><span class='ee-k'>precision:</span><span class='ee-v'>double</span></li></ul></li><li><label class='ee-shut'>dimensions: [3864, 1186]<input type='checkbox' class='ee-toggle'></label><ul><li><span class='ee-k'>0:</span><span class='ee-v'>3864</span></li><li><span class='ee-k'>1:</span><span class='ee-v'>1186</span></li></ul></li></ul></li><li><label class='ee-shut'>5: \"swir2\", double, EPSG:32721, 3864x1186 px<input type='checkbox' class='ee-toggle'></label><ul><li><span class='ee-k'>id:</span><span class='ee-v'>swir2</span></li><li><span class='ee-k'>crs:</span><span class='ee-v'>EPSG:32721</span></li><li><label class='ee-shut'>crs_transform: [30, 0, 610350, 0, -30, 9780030]<input type='checkbox' class='ee-toggle'></label><ul><li><span class='ee-k'>0:</span><span class='ee-v'>30</span></li><li><span class='ee-k'>1:</span><span class='ee-v'>0</span></li><li><span class='ee-k'>2:</span><span class='ee-v'>610350</span></li><li><span class='ee-k'>3:</span><span class='ee-v'>0</span></li><li><span class='ee-k'>4:</span><span class='ee-v'>-30</span></li><li><span class='ee-k'>5:</span><span class='ee-v'>9780030</span></li></ul></li><li><label class='ee-shut'>data_type: double<input type='checkbox' class='ee-toggle'></label><ul><li><span class='ee-k'>type:</span><span class='ee-v'>PixelType</span></li><li><span class='ee-k'>precision:</span><span class='ee-v'>double</span></li></ul></li><li><label class='ee-shut'>dimensions: [3864, 1186]<input type='checkbox' class='ee-toggle'></label><ul><li><span class='ee-k'>0:</span><span class='ee-v'>3864</span></li><li><span class='ee-k'>1:</span><span class='ee-v'>1186</span></li></ul></li></ul></li></ul></li><li><label class='ee-shut'>properties: Object (5 properties)<input type='checkbox' class='ee-toggle'></label><ul><li><span class='ee-k'>CLOUD_COVER:</span><span class='ee-v'>28.02</span></li><li><span class='ee-k'>ID:</span><span class='ee-v'>71</span></li><li><span class='ee-k'>dif_date_point:</span><span class='ee-v'>8.580808310185185</span></li><li><span class='ee-k'>system:index:</span><span class='ee-v'>71_BOA_LC08_228062_20130916</span></li><li><span class='ee-k'>system:time_start:</span><span class='ee-v'>1379339781838</span></li></ul></li></ul></li></ul></li></ul></li></ul></div><script>function toggleHeader() {\n",
              "    const parent = this.parentElement;\n",
              "    parent.className = parent.className === \"ee-open\" ? \"ee-shut\" : \"ee-open\";\n",
              "}\n",
              "\n",
              "for (let c of document.getElementsByClassName(\"ee-toggle\")) {\n",
              "    c.onclick = toggleHeader;\n",
              "}</script></div>"
            ]
          },
          "metadata": {},
          "execution_count": 52
        }
      ]
    },
    {
      "cell_type": "code",
      "execution_count": 53,
      "metadata": {
        "id": "g29SCo37Tyu0",
        "colab": {
          "base_uri": "https://localhost:8080/",
          "height": 0
        },
        "outputId": "796f80f5-bd87-4e2e-8357-588b64a95da1"
      },
      "outputs": [
        {
          "output_type": "display_data",
          "data": {
            "text/plain": [
              "<IPython.core.display.HTML object>"
            ],
            "text/html": [
              "\n",
              "            <style>\n",
              "                .geemap-dark {\n",
              "                    --jp-widgets-color: white;\n",
              "                    --jp-widgets-label-color: white;\n",
              "                    --jp-ui-font-color1: white;\n",
              "                    --jp-layout-color2: #454545;\n",
              "                    background-color: #383838;\n",
              "                }\n",
              "\n",
              "                .geemap-dark .jupyter-button {\n",
              "                    --jp-layout-color3: #383838;\n",
              "                }\n",
              "\n",
              "                .geemap-colab {\n",
              "                    background-color: var(--colab-primary-surface-color, white);\n",
              "                }\n",
              "\n",
              "                .geemap-colab .jupyter-button {\n",
              "                    --jp-layout-color3: var(--colab-primary-surface-color, white);\n",
              "                }\n",
              "            </style>\n",
              "            "
            ]
          },
          "metadata": {}
        }
      ],
      "source": [
        "reduced_LD8 = ee.FeatureCollection(img_pointsLD8.map(sample_point)).filter(filter_count)"
      ]
    },
    {
      "cell_type": "code",
      "execution_count": 54,
      "metadata": {
        "colab": {
          "base_uri": "https://localhost:8080/",
          "height": 0
        },
        "id": "rbjXzUbZT5iM",
        "outputId": "4de5a4e4-5730-4b14-dc0c-a8e2f7c81f93"
      },
      "outputs": [
        {
          "output_type": "display_data",
          "data": {
            "text/plain": [
              "<IPython.core.display.HTML object>"
            ],
            "text/html": [
              "\n",
              "            <style>\n",
              "                .geemap-dark {\n",
              "                    --jp-widgets-color: white;\n",
              "                    --jp-widgets-label-color: white;\n",
              "                    --jp-ui-font-color1: white;\n",
              "                    --jp-layout-color2: #454545;\n",
              "                    background-color: #383838;\n",
              "                }\n",
              "\n",
              "                .geemap-dark .jupyter-button {\n",
              "                    --jp-layout-color3: #383838;\n",
              "                }\n",
              "\n",
              "                .geemap-colab {\n",
              "                    background-color: var(--colab-primary-surface-color, white);\n",
              "                }\n",
              "\n",
              "                .geemap-colab .jupyter-button {\n",
              "                    --jp-layout-color3: var(--colab-primary-surface-color, white);\n",
              "                }\n",
              "            </style>\n",
              "            "
            ]
          },
          "metadata": {}
        },
        {
          "output_type": "execute_result",
          "data": {
            "text/plain": [
              "<ee.ee_number.Number at 0x7cc2ca73ab90>"
            ],
            "text/html": [
              "<div><style>:root {\n",
              "  --font-color-primary: var(--jp-content-font-color0, rgba(0, 0, 0, 1));\n",
              "  --font-color-secondary: var(--jp-content-font-color2, rgba(0, 0, 0, 0.6));\n",
              "  --font-color-accent: rgba(123, 31, 162, 1);\n",
              "  --border-color: var(--jp-border-color2, #e0e0e0);\n",
              "  --background-color: var(--jp-layout-color0, white);\n",
              "  --background-color-row-even: var(--jp-layout-color1, white);\n",
              "  --background-color-row-odd: var(--jp-layout-color2, #eeeeee);\n",
              "}\n",
              "\n",
              "html[theme=\"dark\"],\n",
              "body[data-theme=\"dark\"],\n",
              "body.vscode-dark {\n",
              "  --font-color-primary: rgba(255, 255, 255, 1);\n",
              "  --font-color-secondary: rgba(255, 255, 255, 0.6);\n",
              "  --font-color-accent: rgb(173, 132, 190);\n",
              "  --border-color: #2e2e2e;\n",
              "  --background-color: #111111;\n",
              "  --background-color-row-even: #111111;\n",
              "  --background-color-row-odd: #313131;\n",
              "}\n",
              "\n",
              ".ee {\n",
              "  padding: 1em;\n",
              "  line-height: 1.5em;\n",
              "  min-width: 300px;\n",
              "  max-width: 1200px;\n",
              "  overflow-y: scroll;\n",
              "  max-height: 600px;\n",
              "  border: 1px solid var(--border-color);\n",
              "  font-family: monospace;\n",
              "}\n",
              "\n",
              ".ee li {\n",
              "  list-style-type: none;\n",
              "}\n",
              "\n",
              ".ee ul {\n",
              "  padding-left: 1.5em !important;\n",
              "  margin: 0;\n",
              "}\n",
              "\n",
              ".ee > ul {\n",
              "  padding-left: 0 !important;\n",
              "}\n",
              "\n",
              ".ee-open,\n",
              ".ee-shut {\n",
              "  color: var(--font-color-secondary);\n",
              "  cursor: pointer;\n",
              "  margin: 0;\n",
              "}\n",
              "\n",
              ".ee-open:hover,\n",
              ".ee-shut:hover {\n",
              "  color: var(--font-color-primary);\n",
              "}\n",
              "\n",
              ".ee-k {\n",
              "  color: var(--font-color-accent);\n",
              "  margin-right: 6px;\n",
              "}\n",
              "\n",
              ".ee-v {\n",
              "  color: var(--font-color-primary);\n",
              "}\n",
              "\n",
              ".ee-toggle {\n",
              "  display: none;\n",
              "}\n",
              "\n",
              ".ee-shut + ul {\n",
              "  display: none;\n",
              "}\n",
              "\n",
              ".ee-open + ul {\n",
              "  display: block;\n",
              "}\n",
              "\n",
              ".ee-shut::before {\n",
              "  display: inline-block;\n",
              "  content: \"▼\";\n",
              "  margin-right: 6px;\n",
              "  transform: rotate(-90deg);\n",
              "  transition: transform 0.2s;\n",
              "}\n",
              "\n",
              ".ee-open::before {\n",
              "  transform: rotate(0deg);\n",
              "  display: inline-block;\n",
              "  content: \"▼\";\n",
              "  margin-right: 6px;\n",
              "  transition: transform 0.2s;\n",
              "}\n",
              "</style><div class='ee'><ul><li><span class='ee-v'>387</span></li></ul></div><script>function toggleHeader() {\n",
              "    const parent = this.parentElement;\n",
              "    parent.className = parent.className === \"ee-open\" ? \"ee-shut\" : \"ee-open\";\n",
              "}\n",
              "\n",
              "for (let c of document.getElementsByClassName(\"ee-toggle\")) {\n",
              "    c.onclick = toggleHeader;\n",
              "}</script></div>"
            ]
          },
          "metadata": {},
          "execution_count": 54
        }
      ],
      "source": [
        "reduced_LD8.size()\n"
      ]
    },
    {
      "cell_type": "code",
      "source": [
        "reduced_LD8.aggregate_count_distinct('ID')"
      ],
      "metadata": {
        "colab": {
          "base_uri": "https://localhost:8080/",
          "height": 0
        },
        "id": "tQtZMhDCppwW",
        "outputId": "567c42bb-cc8d-4fe5-a685-9683c30d1ecb"
      },
      "execution_count": null,
      "outputs": [
        {
          "output_type": "display_data",
          "data": {
            "text/plain": [
              "<IPython.core.display.HTML object>"
            ],
            "text/html": [
              "\n",
              "            <style>\n",
              "                .geemap-dark {\n",
              "                    --jp-widgets-color: white;\n",
              "                    --jp-widgets-label-color: white;\n",
              "                    --jp-ui-font-color1: white;\n",
              "                    --jp-layout-color2: #454545;\n",
              "                    background-color: #383838;\n",
              "                }\n",
              "\n",
              "                .geemap-dark .jupyter-button {\n",
              "                    --jp-layout-color3: #383838;\n",
              "                }\n",
              "\n",
              "                .geemap-colab {\n",
              "                    background-color: var(--colab-primary-surface-color, white);\n",
              "                }\n",
              "\n",
              "                .geemap-colab .jupyter-button {\n",
              "                    --jp-layout-color3: var(--colab-primary-surface-color, white);\n",
              "                }\n",
              "            </style>\n",
              "            "
            ]
          },
          "metadata": {}
        }
      ]
    },
    {
      "cell_type": "code",
      "source": [
        "reduced_LD8.limit(2)"
      ],
      "metadata": {
        "id": "jWxk6PJxqcaF"
      },
      "execution_count": null,
      "outputs": []
    },
    {
      "cell_type": "markdown",
      "source": [
        "##Sentinel 2"
      ],
      "metadata": {
        "id": "Vh03oep9SYOZ"
      }
    },
    {
      "cell_type": "code",
      "execution_count": null,
      "metadata": {
        "id": "U4tyq015t5q8"
      },
      "outputs": [],
      "source": [
        "img_pointsS2 = ee.ImageCollection(roi_points.map(imgs_points(s2)).flatten().toList(2000))"
      ]
    },
    {
      "cell_type": "code",
      "execution_count": null,
      "metadata": {
        "id": "BT_mPDtCt52M"
      },
      "outputs": [],
      "source": [
        "img_pointsS2.size()"
      ]
    },
    {
      "cell_type": "code",
      "source": [
        "img_pointsS2.aggregate_count_distinct('ID')"
      ],
      "metadata": {
        "id": "2lBRxwjrtrVW"
      },
      "execution_count": null,
      "outputs": []
    },
    {
      "cell_type": "code",
      "execution_count": null,
      "metadata": {
        "id": "cldn_cGQt59t"
      },
      "outputs": [],
      "source": [
        "reduced_S2 = ee.FeatureCollection(img_pointsS2.map(sample_point)).filter(filter_count)"
      ]
    },
    {
      "cell_type": "code",
      "execution_count": null,
      "metadata": {
        "id": "-pJVT7Tot6FH"
      },
      "outputs": [],
      "source": [
        "reduced_S2.size()\n"
      ]
    },
    {
      "cell_type": "code",
      "source": [
        "reduced_S2.aggregate_count_distinct('ID')"
      ],
      "metadata": {
        "id": "GQQUqUX8t9HA"
      },
      "execution_count": null,
      "outputs": []
    },
    {
      "cell_type": "code",
      "source": [
        "reduced_S2.limit(2)"
      ],
      "metadata": {
        "id": "xXyFi_YLuJHz"
      },
      "execution_count": null,
      "outputs": []
    },
    {
      "cell_type": "markdown",
      "source": [
        "# Export data as CSV file"
      ],
      "metadata": {
        "id": "st2x3mUrSo5D"
      }
    },
    {
      "cell_type": "code",
      "source": [
        "#Exportar tabelas\n",
        "#LD7\n",
        "geemap.ee_to_csv(reduced_LD7, '/content/drive/MyDrive/CURUAI_PROCESS/py6s_LD7_data.csv')"
      ],
      "metadata": {
        "id": "8e9MR9Vd8ut0"
      },
      "execution_count": null,
      "outputs": []
    },
    {
      "cell_type": "code",
      "source": [
        "geemap.ee_to_csv(reduced_LD8, '/content/drive/MyDrive/CURUAI_PROCESS/py6s_LD8_data.csv')"
      ],
      "metadata": {
        "id": "YvRjkRaSAYL6"
      },
      "execution_count": null,
      "outputs": []
    },
    {
      "cell_type": "code",
      "source": [
        "geemap.ee_to_csv(reduced_S2, '/content/drive/MyDrive/CURUAI_PROCESS/py6s_S2_data.csv')"
      ],
      "metadata": {
        "id": "S_9w3_F_Af5A"
      },
      "execution_count": null,
      "outputs": []
    }
  ],
  "metadata": {
    "colab": {
      "provenance": [],
      "toc_visible": true,
      "include_colab_link": true
    },
    "kernelspec": {
      "display_name": "Python 3 (ipykernel)",
      "language": "python",
      "name": "python3"
    },
    "language_info": {
      "codemirror_mode": {
        "name": "ipython",
        "version": 3
      },
      "file_extension": ".py",
      "mimetype": "text/x-python",
      "name": "python",
      "nbconvert_exporter": "python",
      "pygments_lexer": "ipython3",
      "version": "3.9.18"
    }
  },
  "nbformat": 4,
  "nbformat_minor": 0
}