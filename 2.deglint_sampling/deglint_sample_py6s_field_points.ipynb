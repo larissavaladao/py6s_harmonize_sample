{
  "cells": [
    {
      "cell_type": "markdown",
      "metadata": {
        "id": "view-in-github",
        "colab_type": "text"
      },
      "source": [
        "<a href=\"https://colab.research.google.com/github/larissavaladao/time_series_curuai/blob/main/2.deglint_sampling/deglint_sample_py6s_field_points.ipynb\" target=\"_parent\"><img src=\"https://colab.research.google.com/assets/colab-badge.svg\" alt=\"Open In Colab\"/></a>"
      ]
    },
    {
      "cell_type": "markdown",
      "metadata": {
        "id": "S01_UZX51eNe"
      },
      "source": [
        "# Install and import packages"
      ]
    },
    {
      "cell_type": "code",
      "execution_count": null,
      "metadata": {
        "id": "Ku6HC6109qJT"
      },
      "outputs": [],
      "source": [
        "#import packages used\n",
        "import ee\n",
        "import pandas as pd\n",
        "import geemap\n",
        "import geopandas as gpd\n",
        "import matplotlib.pyplot as plt\n",
        "import json\n",
        "import math\n",
        "import geemap\n",
        "import os"
      ]
    },
    {
      "cell_type": "code",
      "execution_count": null,
      "metadata": {
        "id": "XCTrkoFo99eh"
      },
      "outputs": [],
      "source": [
        "#authenticate and initialize google earth engine (also necessary for geemap)\n",
        "ee.Authenticate()\n",
        "ee.Initialize(project = 'ee-curuai')"
      ]
    },
    {
      "cell_type": "code",
      "execution_count": null,
      "metadata": {
        "id": "6Y4_8g9--H8I"
      },
      "outputs": [],
      "source": [
        "from google.colab import drive\n",
        "drive.mount('/content/drive')"
      ]
    },
    {
      "cell_type": "markdown",
      "metadata": {
        "id": "fPoM8H7b1nIq"
      },
      "source": [
        "# Import Curuai dataset"
      ]
    },
    {
      "cell_type": "code",
      "execution_count": null,
      "metadata": {
        "id": "NKl0xxGL-FG4"
      },
      "outputs": [],
      "source": [
        "#import the entire dataset and include ID column\n",
        "dataset = pd.read_excel('/content/drive/MyDrive/CURUAI_PROCESS/Dataset_CFP.xlsx', sheet_name='data',na_values='NaN').loc[:383]\n",
        "# dataset = pd.read_excel('Dataset_CFP.xlsx', sheet_name='data',na_values='NaN').loc[:383]\n",
        "dataset['ID'] = range(len(dataset))"
      ]
    },
    {
      "cell_type": "code",
      "source": [
        "dataset['DATE_1'] = dataset['DATE'].apply(lambda row: str(row).rsplit(' ')[0])\n",
        "dataset['year'] = dataset['DATE_1'].apply(lambda row: str(row).rsplit('-')[0])\n",
        "dataset['month'] = dataset['DATE_1'].apply(lambda row: str(row).rsplit('-')[1])\n",
        "dataset['day'] = dataset['DATE_1'].apply(lambda row: str(row).rsplit('-')[2])\n",
        "dataset['Hour'] = dataset['Local Time'].apply(lambda row: str(row).rsplit(':')[0] if (str(row) != 'nan') else None)\n",
        "dataset['Minute'] = dataset['Local Time'].apply(lambda row:  str(row).rsplit(':')[1] if (str(row) != 'nan') else None )\n",
        "dataset['Second'] = dataset['Local Time'].apply(lambda row: str(row).rsplit(':')[-1] if (str(row) != 'nan') else None)\n",
        "dataset"
      ],
      "metadata": {
        "id": "tibxwJY26wP4"
      },
      "execution_count": null,
      "outputs": []
    },
    {
      "cell_type": "code",
      "source": [
        "from datetime import date, time\n",
        "dates = []\n",
        "for i in range(len(dataset)):\n",
        "  if dataset['Hour'][i] != None:\n",
        "    j = pd.Timestamp.combine(date(int(dataset['year'][i]), int(dataset['month'][i]), int(dataset['day'][i])), time(int(dataset['Hour'][i]), int(dataset['Minute'][i]), int(dataset['Second'][i])))\n",
        "    dates.append(j)\n",
        "  else:\n",
        "    j = dataset['DATE'][i]\n",
        "    dates.append(j)\n",
        "\n",
        "dataset['datetime'] = dates\n",
        "dataset\n",
        "\n"
      ],
      "metadata": {
        "id": "-DpFGlbr9a9o"
      },
      "execution_count": null,
      "outputs": []
    },
    {
      "cell_type": "code",
      "execution_count": null,
      "metadata": {
        "id": "sYwMBz-F-uCw"
      },
      "outputs": [],
      "source": [
        "#copy the dataset and select only the variables of interest\n",
        "dataset_att = dataset[['ID','datetime', 'DEPTH CLASS', 'LATITUDE',\n",
        "       'LONGITUDE', 'LOCATION', 'SAMPLE SITE', 'WATER PERIOD', 'MISSION',\n",
        "       'TOTAL DEPTH', 'SAMPLING DEPTH', 'TURBIDITY', 'CHLOROPHYLL',\n",
        "       'SPM', 'TOC', 'POC', 'DOC', 'SILICA', 'P TOTAL',\n",
        "       'P ORGANIC', 'N TOTAL','N TOTAL DISSOLVED',\n",
        "       'CHLOROPHYLL A', 'CHLOROPHYLL B']].copy()\n",
        "dataset_att.columns"
      ]
    },
    {
      "cell_type": "code",
      "source": [
        "dataset_att.columns = ['ID','datetime', 'DEPTH_CLASS', 'LATITUDE',\n",
        "       'LONGITUDE', 'LOCATION', 'SAMPLE_SITE', 'WATER_PERIOD', 'MISSION',\n",
        "       'TOTAL_DEPTH', 'SAMPLING_DEPTH', 'TURBIDITY', 'CHLOROPHYLL', 'SPM',\n",
        "       'TOC', 'POC', 'DOC', 'SILICA', 'P_TOTAL', 'P_ORGANIC', 'N_TOTAL',\n",
        "       'N_TOTAL_DISSOLVED', 'CHLOROPHYLL_A', 'CHLOROPHYLL_B']\n",
        "dataset_att.columns"
      ],
      "metadata": {
        "id": "Qf8USyb_8-JF"
      },
      "execution_count": null,
      "outputs": []
    },
    {
      "cell_type": "code",
      "source": [
        "dataset_att.groupby(['MISSION'])['MISSION'].count()\n"
      ],
      "metadata": {
        "id": "7l1qXEa-1Pm0"
      },
      "execution_count": null,
      "outputs": []
    },
    {
      "cell_type": "code",
      "execution_count": null,
      "metadata": {
        "id": "BaDBl2wC-v8E"
      },
      "outputs": [],
      "source": [
        "#transform dataframe in a geodataframe (geometry column with point location)\n",
        "gdf = gpd.GeoDataFrame(\n",
        "    dataset_att, geometry=gpd.points_from_xy(dataset_att.LONGITUDE, dataset_att.LATITUDE),\n",
        "    crs=\"EPSG:4326\"\n",
        ")\n",
        "gdf.head()"
      ]
    },
    {
      "cell_type": "code",
      "execution_count": null,
      "metadata": {
        "id": "b-l1r2u1-zZe"
      },
      "outputs": [],
      "source": [
        "#transform date and time columns in string - necessary to convert to JSON\n",
        "gdf['datetime'] = gdf['datetime'].astype(\"str\")"
      ]
    },
    {
      "cell_type": "code",
      "source": [
        "# gdf.to_file(\"/content/drive/MyDrive/CURUAI_PROCESS/points_curuai.shp\")"
      ],
      "metadata": {
        "id": "zHdCOp1euOjE"
      },
      "execution_count": null,
      "outputs": []
    },
    {
      "cell_type": "code",
      "execution_count": null,
      "metadata": {
        "id": "Uoyli1H1-1Ls"
      },
      "outputs": [],
      "source": [
        "##Convert geodataframe to json - necessary to be read in GEE\n",
        "dataset_json = gdf.to_json()"
      ]
    },
    {
      "cell_type": "code",
      "execution_count": null,
      "metadata": {
        "id": "zqNOL8Qa-4qU"
      },
      "outputs": [],
      "source": [
        "#load and select the features of the json data\n",
        "data_points = json.loads(dataset_json)\n",
        "data_points = data_points['features']\n",
        "# data_points"
      ]
    },
    {
      "cell_type": "code",
      "execution_count": null,
      "metadata": {
        "id": "7axz0m_4-5hg"
      },
      "outputs": [],
      "source": [
        "##transform json in in gee object = feature collection\n",
        "roi_points = ee.FeatureCollection(data_points)\n",
        "print(roi_points.size().getInfo())"
      ]
    },
    {
      "cell_type": "code",
      "execution_count": null,
      "metadata": {
        "id": "y57TH3LG-7-G"
      },
      "outputs": [],
      "source": [
        "#function to insert a property with date of the point - Gee date format\n",
        "def insert_date (feat):\n",
        "    return feat.set('system:time_start',ee.Date.parse('YYYY-MM-dd HH:mm:ss',feat.get('datetime')))"
      ]
    },
    {
      "cell_type": "code",
      "execution_count": null,
      "metadata": {
        "id": "VX8zWAaN-9pj"
      },
      "outputs": [],
      "source": [
        "#apply date function - new system:time_start property\n",
        "roi_points = roi_points.map(insert_date)\n",
        "print(roi_points.first().getInfo())"
      ]
    },
    {
      "cell_type": "code",
      "execution_count": null,
      "metadata": {
        "id": "xJu6zpel_A6X"
      },
      "outputs": [],
      "source": [
        "#create a polygon around the floodpalin area - roi\n",
        "roi_poly = roi_points.geometry().buffer(150).bounds()"
      ]
    },
    {
      "cell_type": "markdown",
      "metadata": {
        "id": "LvVL10jL2Pxn"
      },
      "source": [
        "# Import GEE images"
      ]
    },
    {
      "cell_type": "code",
      "source": [
        "advance = 17"
      ],
      "metadata": {
        "id": "Ho7AmGdA-R2e"
      },
      "execution_count": null,
      "outputs": []
    },
    {
      "cell_type": "code",
      "execution_count": null,
      "metadata": {
        "id": "7wmTty9g_Ex-"
      },
      "outputs": [],
      "source": [
        "#define initial and final date to filter the image collection based on the\n",
        "#field points date\n",
        "initial_date = ee.Date(roi_points.sort('system:time_start').first().get('system:time_start')).advance(-advance, 'day')\n",
        "end_date = ee.Date(roi_points.sort('system:time_start',False).first().get('system:time_start')).advance(-advance, 'day')\n",
        "\n",
        "print('Data inicial de coleta: ',initial_date.format().getInfo())\n",
        "print('Data final de coleta: ',end_date.format().getInfo())"
      ]
    },
    {
      "cell_type": "markdown",
      "metadata": {
        "id": "ouVoaP5-3z0n"
      },
      "source": [
        "## Import image collections"
      ]
    },
    {
      "cell_type": "markdown",
      "source": [
        "###Landsat 7 - PY6S"
      ],
      "metadata": {
        "id": "2OU2MbU7Pmwn"
      }
    },
    {
      "cell_type": "code",
      "execution_count": null,
      "metadata": {
        "id": "h2uRUkio_HB-"
      },
      "outputs": [],
      "source": [
        "#Landsat 7 collection 2 tier 1 TOA\n",
        "#filter collection by region and date (2 month prior toi the field dates and one month past) based on field points\n",
        "#mask clouds\n",
        "landsat7 = ee.ImageCollection(\"projects/ee-curuai/assets/Py6S/LD7/Landsat7\")\\\n",
        "            .filterDate(initial_date,end_date)\\\n",
        "            .select([ 'B1', 'B2', 'B3', 'B4', 'B5', 'B7'])\n",
        "print(ee.Date(landsat7.first().get('system:time_start')).format().getInfo())\n",
        "print(ee.Date(landsat7.sort('system:time_start',False).first().get('system:time_start')).format().getInfo())"
      ]
    },
    {
      "cell_type": "code",
      "source": [
        "print('collection size',landsat7.size().getInfo())\n",
        "print('projection',landsat7.first().select('B4').projection().getInfo())\n",
        "print('spatial resolution',landsat7.first().select('B4').projection().nominalScale().getInfo())\n",
        "print('bands',landsat7.first().bandNames().getInfo())\n"
      ],
      "metadata": {
        "id": "0e_VDA_dcNdJ"
      },
      "execution_count": null,
      "outputs": []
    },
    {
      "cell_type": "markdown",
      "source": [
        "###Landsat 8 PY6S"
      ],
      "metadata": {
        "id": "bgbcOKHcPtyN"
      }
    },
    {
      "cell_type": "code",
      "execution_count": null,
      "metadata": {
        "id": "Vlry8prR_IpJ"
      },
      "outputs": [],
      "source": [
        "#Landsat 8 collection 2 tier 1 TOA\n",
        "#filter collection by region and date (2 month prior toi the field dates and one month past) based on field points\n",
        "#mask clouds\n",
        "landsat8 = (ee.ImageCollection(\"projects/ee-curuai/assets/Py6S/LD8/Landsat8\")\n",
        "            .filterDate(initial_date,end_date)\n",
        "            .select(['B2', 'B3', 'B4', 'B5', 'B6', 'B7']))\n",
        "print(ee.Date(landsat8.first().get('system:time_start')).format().getInfo())\n",
        "print(ee.Date(landsat8.sort('system:time_start',False).first().get('system:time_start')).format().getInfo())"
      ]
    },
    {
      "cell_type": "code",
      "source": [
        "print('collection size',landsat8.size().getInfo())\n",
        "print('projection',landsat8.first().select('B4').projection().getInfo())\n",
        "print('spatial resolution',landsat8.first().select('B4').projection().nominalScale().getInfo())\n",
        "print('bands',landsat8.first().bandNames().getInfo())"
      ],
      "metadata": {
        "id": "z4FpTCN-PFnf"
      },
      "execution_count": null,
      "outputs": []
    },
    {
      "cell_type": "markdown",
      "source": [
        "###Sentinel 2 PY6S"
      ],
      "metadata": {
        "id": "uAZbfSlKPvM-"
      }
    },
    {
      "cell_type": "code",
      "execution_count": null,
      "metadata": {
        "id": "CoGI69en_Kps"
      },
      "outputs": [],
      "source": [
        "# #Sentinel 2 level 1C harmonized\n",
        "# sentinel2 = ee.ImageCollection(\"projects/ee-curuai/assets/Py6S/S2/S2_py6s\")\\\n",
        "#             .map(lambda img: img.set({\n",
        "#                 'system:time_start':ee.ImageCollection(\"COPERNICUS/S2_HARMONIZED\").filter(ee.Filter.eq('GRANULE_ID',img.get('GRANULE_ID'))).first().get('system:time_start'),\n",
        "#                 'CLOUD_COVER':img.get('CLOUDY_PIXEL_PERCENTAGE')}))\\\n",
        "#             .filterDate(initial_date,end_date)\\\n",
        "#             .select(['B2', 'B3', 'B4', 'B8', 'B11', 'B12'])\n",
        "# print(ee.Date(sentinel2.first().get('system:time_start')).format().getInfo())\n",
        "# print(ee.Date(sentinel2.sort('system:time_start',False).first().get('system:time_start')).format().getInfo())"
      ]
    },
    {
      "cell_type": "code",
      "source": [
        "# print('collection size',sentinel2.size().getInfo())\n",
        "# print('projection',sentinel2.first().select('B4').projection().getInfo())\n",
        "# print('spatial resolution',sentinel2.first().select('B4').projection().nominalScale().getInfo())\n",
        "# print('bands',sentinel2.first().bandNames().getInfo())"
      ],
      "metadata": {
        "id": "OwToHbpkIlL3"
      },
      "execution_count": null,
      "outputs": []
    },
    {
      "cell_type": "markdown",
      "metadata": {
        "id": "c6MTfNIk8Ooz"
      },
      "source": [
        "# Transform into remote sensing  reflectance and sunglint correction"
      ]
    },
    {
      "cell_type": "code",
      "execution_count": null,
      "metadata": {
        "id": "8u58DQ6u3NBT"
      },
      "outputs": [],
      "source": [
        "#dividir imagem corrigida por pi\n",
        "# Rrs_sat_ac = Rsat_ac / pi\n",
        "\n",
        "#fazer deglint\n",
        "#Rrs_sat_ac_deglint(VNIR) = Rrs_sat_ac (VNIR) − Rrs_sat_ac (SWIR)\n",
        "#correção no artigo INPE CURUAI\n",
        "def deglint (img):\n",
        "    Rrs = img.divide(math.pi)\n",
        "    deglint = Rrs.select(['blue','green','red','nir','swir1','swir2'])\\\n",
        "    .subtract(Rrs.select('swir1'))\n",
        "\n",
        "    return (deglint.copyProperties(img,['system:time_start','CLOUD_COVER',\"system:index\"]))\n"
      ]
    },
    {
      "cell_type": "markdown",
      "metadata": {
        "id": "J2htEP504MqZ"
      },
      "source": [
        "## Padronize band names"
      ]
    },
    {
      "cell_type": "code",
      "source": [
        "name_bands = ['blue','green','red','nir','swir1','swir2']"
      ],
      "metadata": {
        "id": "SiUGI3B_E1HN"
      },
      "execution_count": null,
      "outputs": []
    },
    {
      "cell_type": "markdown",
      "source": [
        "###Landsat 7"
      ],
      "metadata": {
        "id": "ldY14EKe8wHK"
      }
    },
    {
      "cell_type": "code",
      "execution_count": null,
      "metadata": {
        "id": "_OVbYj3AA-P0"
      },
      "outputs": [],
      "source": [
        "#renomear bandas\n",
        "\n",
        "ld7 = landsat7.map(lambda img: img.rename(name_bands)).map(deglint)\n",
        "display(ld7.first().getInfo())"
      ]
    },
    {
      "cell_type": "markdown",
      "source": [
        "### Landsat 8"
      ],
      "metadata": {
        "id": "bFtU5-f58jdt"
      }
    },
    {
      "cell_type": "code",
      "source": [
        "ld8 = landsat8.map(lambda img: img.rename(name_bands)).map(deglint)\n",
        "display(ld8.first().getInfo())"
      ],
      "metadata": {
        "id": "-Rw8JGNKPLda"
      },
      "execution_count": null,
      "outputs": []
    },
    {
      "cell_type": "markdown",
      "source": [
        "### Sentinel 2"
      ],
      "metadata": {
        "id": "LYjFFtSs8tSX"
      }
    },
    {
      "cell_type": "code",
      "source": [
        "# s2 = sentinel2.map(lambda img: img.rename(name_bands)).map(deglint)\n",
        "# s2.first()"
      ],
      "metadata": {
        "id": "lXnxSFb-Lq0Z"
      },
      "execution_count": null,
      "outputs": []
    },
    {
      "cell_type": "markdown",
      "source": [
        "### visualize"
      ],
      "metadata": {
        "id": "X8n5AW2H96Po"
      }
    },
    {
      "cell_type": "code",
      "execution_count": null,
      "metadata": {
        "id": "sedm-Vb3_TPb"
      },
      "outputs": [],
      "source": [
        "Map = geemap.Map(basemap='HYBRID')\n",
        "Map.centerObject(roi_points,10)\n",
        "imgld7 = ld7.sort('system:time_start',False).first()\n",
        "imgLD8 = ld8.sort('system:time_start',False).first()\n",
        "# imgS2 = s2.sort('CLOUD_COVER').first()\n",
        "Map.addLayer(imgld7, {'bands':['red','green','blue'], 'min':0,'max':0.02}, str(imgld7.get('system:index').getInfo()))\n",
        "Map.addLayer(imgLD8, {'bands':['red','green','blue'], 'min':0,'max':0.02}, str(imgLD8.get('system:index').getInfo()))\n",
        "# Map.addLayer(imgS2, {'bands':['red','green','blue'], 'min':0,'max':0.03}, str(imgS2.get('system:index').getInfo()))\n",
        "\n",
        "Map.addLayer(roi_points, {'color':'darkred'}, 'Data Points');\n",
        "# Map.addLayer(roi_poly, {'color':'darkred'}, 'Data polygon');\n",
        "Map"
      ]
    },
    {
      "cell_type": "markdown",
      "metadata": {
        "id": "WH-K6yKxBuoY"
      },
      "source": [
        "# Sample data points pixel values"
      ]
    },
    {
      "cell_type": "markdown",
      "source": [
        "filter images that fall within a 16-day window period from each field point date"
      ],
      "metadata": {
        "id": "-B4lq8SGRMl8"
      }
    },
    {
      "cell_type": "code",
      "execution_count": null,
      "metadata": {
        "id": "6Qj2mZVN_dPw"
      },
      "outputs": [],
      "source": [
        "def imgs_points(collection):\n",
        "    def wrap(feat):\n",
        "        date_point = ee.Date(feat.get('system:time_start'))\n",
        "        data1 = date_point.advance(-16,'day')\\\n",
        "        .format('yyyy-MM-dd')\n",
        "\n",
        "        data2 = date_point.advance(16,'day')\\\n",
        "        .format('yyyy-MM-dd')\n",
        "\n",
        "        filtro = collection.filterDate(data1,data2)\\\n",
        "        .filterBounds(feat.geometry())\\\n",
        "        .map(lambda img: img.set({\n",
        "            'dif_date_point':ee.Date(img.get('system:time_start')).difference(date_point, 'day')})\\\n",
        "            .copyProperties(feat,['ID']))\n",
        "\n",
        "\n",
        "        return ee.ImageCollection(filtro.limit(10))\n",
        "\n",
        "    return wrap"
      ]
    },
    {
      "cell_type": "markdown",
      "source": [
        "obtain statistics for the same location of the field point - with a 3 pixel window - and filter out if more than 4 pixels are masked   "
      ],
      "metadata": {
        "id": "A3RjeCtsRr2h"
      }
    },
    {
      "cell_type": "code",
      "source": [
        "prj = ld8.first().projection()\n",
        "prj"
      ],
      "metadata": {
        "collapsed": true,
        "id": "j64XB8L9GL50"
      },
      "execution_count": null,
      "outputs": []
    },
    {
      "cell_type": "code",
      "source": [
        "def sample_point(img):\n",
        "\n",
        "  feat = roi_points.filter(ee.Filter.eq('ID',img.get('ID'))).first()\n",
        "  geom = feat.geometry().buffer(45).bounds()\n",
        "\n",
        "  mean = img.reduceRegion(geometry=geom,\n",
        "                          scale=prj.nominalScale(),\n",
        "                          crs=prj.crs(),\n",
        "                          reducer=ee.Reducer.mean())\n",
        "  median = img.reduceRegion(geometry=geom,\n",
        "                            scale=prj.nominalScale(),\n",
        "                            crs=prj.crs(),\n",
        "                            reducer=ee.Reducer.median())\n",
        "  minMax = img.reduceRegion(geometry=geom,\n",
        "                            scale=prj.nominalScale(),\n",
        "                            crs=prj.crs(),\n",
        "                            reducer=ee.Reducer.minMax())\n",
        "  count = img.reduceRegion(geometry=geom,\n",
        "                            scale=prj.nominalScale(),\n",
        "                            crs=prj.crs(),\n",
        "                            reducer=ee.Reducer.count())\n",
        "  std_dev = img.reduceRegion(geometry=geom,\n",
        "                            scale=prj.nominalScale(),\n",
        "                            crs=prj.crs(),\n",
        "                            reducer=ee.Reducer.stdDev())\n",
        "  return feat.set({\n",
        "      \"system_index\": img.get('system:index'),\n",
        "      'CLOUD_COVER':img.get('CLOUD_COVER'),\n",
        "      'img_date':ee.Date(img.get('system:time_start')).format(),\n",
        "      'dif_date_point': img.get('dif_date_point'),\n",
        "\n",
        "      'blue_mean':mean.get('blue'),\n",
        "      'green_mean':mean.get('green'),\n",
        "      'red_mean':mean.get('red'),\n",
        "      'nir_mean':mean.get('nir'),\n",
        "\n",
        "      'blue_median':median.get('blue'),\n",
        "      'green_median':median.get('green'),\n",
        "      'red_median':median.get('red'),\n",
        "      'nir_median':median.get('nir'),\n",
        "\n",
        "      'blue_min':minMax.get('blue_min'),\n",
        "      'green_min':minMax.get('green_min'),\n",
        "      'red_min':minMax.get('red_min'),\n",
        "      'nir_min':minMax.get('nir_min'),\n",
        "\n",
        "      'blue_max':minMax.get('blue_max'),\n",
        "      'green_max':minMax.get('green_max'),\n",
        "      'red_max':minMax.get('red_max'),\n",
        "      'nir_max':minMax.get('nir_max'),\n",
        "\n",
        "      'blue_stdDev':std_dev.get('blue'),\n",
        "      'green_stdDev':std_dev.get('green'),\n",
        "      'red_stdDev':std_dev.get('red'),\n",
        "      'nir_stdDev':std_dev.get('nir'),\n",
        "\n",
        "      \"count_pixel\":count.get('red')\n",
        "  })\n",
        "\n",
        "filter_count = ee.Filter.gt('count_pixel',3)\n",
        "\n",
        "\n"
      ],
      "metadata": {
        "id": "fk_ahS2mn65N"
      },
      "execution_count": null,
      "outputs": []
    },
    {
      "cell_type": "markdown",
      "source": [
        "### Landsat 7"
      ],
      "metadata": {
        "id": "oX0L3v-DRbpf"
      }
    },
    {
      "cell_type": "code",
      "execution_count": null,
      "metadata": {
        "id": "rDmbdMyLIBJH"
      },
      "outputs": [],
      "source": [
        "img_pointsLD7 = ee.ImageCollection(roi_points.map(imgs_points(ld7)).flatten().toList(2000))"
      ]
    },
    {
      "cell_type": "code",
      "execution_count": null,
      "metadata": {
        "id": "HmnUEuH6IUC6"
      },
      "outputs": [],
      "source": [
        "display(img_pointsLD7.size().getInfo())\n"
      ]
    },
    {
      "cell_type": "code",
      "source": [
        "display(img_pointsLD7.aggregate_count_distinct('ID').getInfo())"
      ],
      "metadata": {
        "id": "FOTB7ldweviC"
      },
      "execution_count": null,
      "outputs": []
    },
    {
      "cell_type": "code",
      "source": [
        "display(img_pointsLD7.limit(5).getInfo())"
      ],
      "metadata": {
        "id": "lwFy4mjzU7Zf"
      },
      "execution_count": null,
      "outputs": []
    },
    {
      "cell_type": "code",
      "source": [
        "reduced_LD7 = ee.FeatureCollection(img_pointsLD7.map(sample_point)).filter(filter_count)"
      ],
      "metadata": {
        "id": "cTOkf_RDzPNQ"
      },
      "execution_count": null,
      "outputs": []
    },
    {
      "cell_type": "code",
      "source": [
        "display(reduced_LD7.limit(2).getInfo())"
      ],
      "metadata": {
        "id": "wVhvOGr022ro"
      },
      "execution_count": null,
      "outputs": []
    },
    {
      "cell_type": "code",
      "execution_count": null,
      "metadata": {
        "id": "JhSKEJc3_h_f"
      },
      "outputs": [],
      "source": [
        "display(reduced_LD7.size().getInfo())"
      ]
    },
    {
      "cell_type": "code",
      "source": [
        "display(reduced_LD7.aggregate_count_distinct('ID').getInfo())"
      ],
      "metadata": {
        "id": "EM3g-hipoTK7"
      },
      "execution_count": null,
      "outputs": []
    },
    {
      "cell_type": "markdown",
      "source": [
        "## Landsat 8"
      ],
      "metadata": {
        "id": "V2eUphRFSU9O"
      }
    },
    {
      "cell_type": "code",
      "execution_count": null,
      "metadata": {
        "id": "hGJt1ARYTodA"
      },
      "outputs": [],
      "source": [
        "img_pointsLD8 = ee.ImageCollection(roi_points.map(imgs_points(ld8)).flatten().toList(2000))"
      ]
    },
    {
      "cell_type": "code",
      "execution_count": null,
      "metadata": {
        "id": "Tnh1z0LGTtB4"
      },
      "outputs": [],
      "source": [
        "display(img_pointsLD8.size().getInfo())\n"
      ]
    },
    {
      "cell_type": "code",
      "source": [
        "display(img_pointsLD8.aggregate_count_distinct('ID').getInfo())"
      ],
      "metadata": {
        "id": "cGh3nOhbpdgK"
      },
      "execution_count": null,
      "outputs": []
    },
    {
      "cell_type": "code",
      "source": [
        "display(img_pointsLD8.limit(5).getInfo())"
      ],
      "metadata": {
        "id": "kCpqU9_wqMja"
      },
      "execution_count": null,
      "outputs": []
    },
    {
      "cell_type": "code",
      "execution_count": null,
      "metadata": {
        "id": "g29SCo37Tyu0"
      },
      "outputs": [],
      "source": [
        "reduced_LD8 = ee.FeatureCollection(img_pointsLD8.map(sample_point)).filter(filter_count)"
      ]
    },
    {
      "cell_type": "code",
      "execution_count": null,
      "metadata": {
        "id": "rbjXzUbZT5iM"
      },
      "outputs": [],
      "source": [
        "display(reduced_LD8.size().getInfo())\n"
      ]
    },
    {
      "cell_type": "code",
      "source": [
        "display(reduced_LD8.aggregate_count_distinct('ID').getInfo())"
      ],
      "metadata": {
        "id": "tQtZMhDCppwW"
      },
      "execution_count": null,
      "outputs": []
    },
    {
      "cell_type": "code",
      "source": [
        "display(reduced_LD8.limit(2).getInfo())"
      ],
      "metadata": {
        "id": "jWxk6PJxqcaF"
      },
      "execution_count": null,
      "outputs": []
    },
    {
      "cell_type": "markdown",
      "source": [
        "##Sentinel 2"
      ],
      "metadata": {
        "id": "Vh03oep9SYOZ"
      }
    },
    {
      "cell_type": "code",
      "execution_count": null,
      "metadata": {
        "id": "U4tyq015t5q8"
      },
      "outputs": [],
      "source": [
        "# img_pointsS2 = ee.ImageCollection(roi_points.map(imgs_points(s2)).flatten().toList(2000))"
      ]
    },
    {
      "cell_type": "code",
      "execution_count": null,
      "metadata": {
        "id": "BT_mPDtCt52M"
      },
      "outputs": [],
      "source": [
        "# img_pointsS2.size()"
      ]
    },
    {
      "cell_type": "code",
      "source": [
        "# img_pointsS2.aggregate_count_distinct('ID')"
      ],
      "metadata": {
        "id": "2lBRxwjrtrVW"
      },
      "execution_count": null,
      "outputs": []
    },
    {
      "cell_type": "code",
      "execution_count": null,
      "metadata": {
        "id": "cldn_cGQt59t"
      },
      "outputs": [],
      "source": [
        "# reduced_S2 = ee.FeatureCollection(img_pointsS2.map(sample_point)).filter(filter_count)"
      ]
    },
    {
      "cell_type": "code",
      "execution_count": null,
      "metadata": {
        "id": "-pJVT7Tot6FH"
      },
      "outputs": [],
      "source": [
        "# reduced_S2.size()"
      ]
    },
    {
      "cell_type": "code",
      "source": [
        "# reduced_S2.aggregate_count_distinct('ID')"
      ],
      "metadata": {
        "id": "GQQUqUX8t9HA"
      },
      "execution_count": null,
      "outputs": []
    },
    {
      "cell_type": "code",
      "source": [
        "# reduced_S2.limit(2)"
      ],
      "metadata": {
        "id": "xXyFi_YLuJHz"
      },
      "execution_count": null,
      "outputs": []
    },
    {
      "cell_type": "markdown",
      "source": [
        "# Export data as CSV file"
      ],
      "metadata": {
        "id": "st2x3mUrSo5D"
      }
    },
    {
      "cell_type": "code",
      "source": [
        "#Exportar tabelas\n",
        "#LD7\n",
        "geemap.ee_to_csv(reduced_LD7, '/content/drive/MyDrive/CURUAI_PROCESS/py6s_LD7_data.csv')"
      ],
      "metadata": {
        "id": "8e9MR9Vd8ut0"
      },
      "execution_count": null,
      "outputs": []
    },
    {
      "cell_type": "code",
      "source": [
        "geemap.ee_to_csv(reduced_LD8, '/content/drive/MyDrive/CURUAI_PROCESS/py6s_LD8_data.csv')"
      ],
      "metadata": {
        "id": "YvRjkRaSAYL6"
      },
      "execution_count": null,
      "outputs": []
    },
    {
      "cell_type": "code",
      "source": [
        "# geemap.ee_to_csv(reduced_S2, '/content/drive/MyDrive/CURUAI_PROCESS/py6s_S2_data.csv')"
      ],
      "metadata": {
        "id": "S_9w3_F_Af5A"
      },
      "execution_count": null,
      "outputs": []
    }
  ],
  "metadata": {
    "colab": {
      "provenance": [],
      "include_colab_link": true
    },
    "kernelspec": {
      "display_name": "Python 3 (ipykernel)",
      "language": "python",
      "name": "python3"
    },
    "language_info": {
      "codemirror_mode": {
        "name": "ipython",
        "version": 3
      },
      "file_extension": ".py",
      "mimetype": "text/x-python",
      "name": "python",
      "nbconvert_exporter": "python",
      "pygments_lexer": "ipython3",
      "version": "3.9.18"
    }
  },
  "nbformat": 4,
  "nbformat_minor": 0
}