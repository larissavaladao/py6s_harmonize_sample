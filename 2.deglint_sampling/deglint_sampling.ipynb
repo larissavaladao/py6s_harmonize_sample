{
  "cells": [
    {
      "cell_type": "markdown",
      "metadata": {
        "id": "view-in-github",
        "colab_type": "text"
      },
      "source": [
        "<a href=\"https://colab.research.google.com/github/larissavaladao/py6s_harmonize_sample/blob/main/2.deglint_sampling/deglint_sampling.ipynb\" target=\"_parent\"><img src=\"https://colab.research.google.com/assets/colab-badge.svg\" alt=\"Open In Colab\"/></a>"
      ]
    },
    {
      "cell_type": "markdown",
      "metadata": {
        "id": "S01_UZX51eNe"
      },
      "source": [
        "# Install and import packages"
      ]
    },
    {
      "cell_type": "code",
      "execution_count": 1,
      "metadata": {
        "id": "Ku6HC6109qJT"
      },
      "outputs": [],
      "source": [
        "#import packages used\n",
        "import ee\n",
        "import pandas as pd\n",
        "import geemap\n",
        "import geopandas as gpd\n",
        "import matplotlib.pyplot as plt\n",
        "import json\n",
        "import math\n",
        "import geemap\n",
        "import os\n",
        "import math"
      ]
    },
    {
      "cell_type": "code",
      "execution_count": 2,
      "metadata": {
        "colab": {
          "base_uri": "https://localhost:8080/",
          "height": 0
        },
        "id": "XCTrkoFo99eh",
        "outputId": "c3732d5e-fe06-48d4-da71-2d690f2b69aa"
      },
      "outputs": [
        {
          "output_type": "display_data",
          "data": {
            "text/plain": [
              "<IPython.core.display.HTML object>"
            ],
            "text/html": [
              "\n",
              "            <style>\n",
              "                .geemap-dark {\n",
              "                    --jp-widgets-color: white;\n",
              "                    --jp-widgets-label-color: white;\n",
              "                    --jp-ui-font-color1: white;\n",
              "                    --jp-layout-color2: #454545;\n",
              "                    background-color: #383838;\n",
              "                }\n",
              "\n",
              "                .geemap-dark .jupyter-button {\n",
              "                    --jp-layout-color3: #383838;\n",
              "                }\n",
              "\n",
              "                .geemap-colab {\n",
              "                    background-color: var(--colab-primary-surface-color, white);\n",
              "                }\n",
              "\n",
              "                .geemap-colab .jupyter-button {\n",
              "                    --jp-layout-color3: var(--colab-primary-surface-color, white);\n",
              "                }\n",
              "            </style>\n",
              "            "
            ]
          },
          "metadata": {}
        }
      ],
      "source": [
        "#authenticate and initialize google earth engine (also necessary for geemap)\n",
        "ee.Authenticate()\n",
        "ee.Initialize(project='ee-curuai') #change project name here"
      ]
    },
    {
      "cell_type": "code",
      "execution_count": 3,
      "metadata": {
        "colab": {
          "base_uri": "https://localhost:8080/",
          "height": 0
        },
        "id": "6Y4_8g9--H8I",
        "outputId": "79d8470b-8d63-4fbb-d1da-b1d7a4c7edbb"
      },
      "outputs": [
        {
          "output_type": "display_data",
          "data": {
            "text/plain": [
              "<IPython.core.display.HTML object>"
            ],
            "text/html": [
              "\n",
              "            <style>\n",
              "                .geemap-dark {\n",
              "                    --jp-widgets-color: white;\n",
              "                    --jp-widgets-label-color: white;\n",
              "                    --jp-ui-font-color1: white;\n",
              "                    --jp-layout-color2: #454545;\n",
              "                    background-color: #383838;\n",
              "                }\n",
              "\n",
              "                .geemap-dark .jupyter-button {\n",
              "                    --jp-layout-color3: #383838;\n",
              "                }\n",
              "\n",
              "                .geemap-colab {\n",
              "                    background-color: var(--colab-primary-surface-color, white);\n",
              "                }\n",
              "\n",
              "                .geemap-colab .jupyter-button {\n",
              "                    --jp-layout-color3: var(--colab-primary-surface-color, white);\n",
              "                }\n",
              "            </style>\n",
              "            "
            ]
          },
          "metadata": {}
        },
        {
          "output_type": "stream",
          "name": "stdout",
          "text": [
            "Mounted at /content/drive\n"
          ]
        }
      ],
      "source": [
        "from google.colab import drive\n",
        "drive.mount('/content/drive')"
      ]
    },
    {
      "cell_type": "markdown",
      "metadata": {
        "id": "fPoM8H7b1nIq"
      },
      "source": [
        "# Import Curuai dataset"
      ]
    },
    {
      "cell_type": "code",
      "execution_count": 30,
      "metadata": {
        "id": "y57TH3LG-7-G",
        "outputId": "0317b376-e8db-496a-9285-65438b5269fd",
        "colab": {
          "base_uri": "https://localhost:8080/",
          "height": 0
        }
      },
      "outputs": [
        {
          "output_type": "display_data",
          "data": {
            "text/plain": [
              "<IPython.core.display.HTML object>"
            ],
            "text/html": [
              "\n",
              "            <style>\n",
              "                .geemap-dark {\n",
              "                    --jp-widgets-color: white;\n",
              "                    --jp-widgets-label-color: white;\n",
              "                    --jp-ui-font-color1: white;\n",
              "                    --jp-layout-color2: #454545;\n",
              "                    background-color: #383838;\n",
              "                }\n",
              "\n",
              "                .geemap-dark .jupyter-button {\n",
              "                    --jp-layout-color3: #383838;\n",
              "                }\n",
              "\n",
              "                .geemap-colab {\n",
              "                    background-color: var(--colab-primary-surface-color, white);\n",
              "                }\n",
              "\n",
              "                .geemap-colab .jupyter-button {\n",
              "                    --jp-layout-color3: var(--colab-primary-surface-color, white);\n",
              "                }\n",
              "            </style>\n",
              "            "
            ]
          },
          "metadata": {}
        }
      ],
      "source": [
        "#function to insert a property with date of the point - Gee date format\n",
        "def insert_date (feat):\n",
        "    return feat.set('system:time_start',ee.Date.parse('YYYY-MM-dd HH:mm:ss',feat.get('DATE')))"
      ]
    },
    {
      "cell_type": "code",
      "execution_count": 31,
      "metadata": {
        "colab": {
          "base_uri": "https://localhost:8080/",
          "height": 0
        },
        "id": "VX8zWAaN-9pj",
        "outputId": "68b19006-43de-4af7-afc0-c62ccd19e93c"
      },
      "outputs": [
        {
          "output_type": "display_data",
          "data": {
            "text/plain": [
              "<IPython.core.display.HTML object>"
            ],
            "text/html": [
              "\n",
              "            <style>\n",
              "                .geemap-dark {\n",
              "                    --jp-widgets-color: white;\n",
              "                    --jp-widgets-label-color: white;\n",
              "                    --jp-ui-font-color1: white;\n",
              "                    --jp-layout-color2: #454545;\n",
              "                    background-color: #383838;\n",
              "                }\n",
              "\n",
              "                .geemap-dark .jupyter-button {\n",
              "                    --jp-layout-color3: #383838;\n",
              "                }\n",
              "\n",
              "                .geemap-colab {\n",
              "                    background-color: var(--colab-primary-surface-color, white);\n",
              "                }\n",
              "\n",
              "                .geemap-colab .jupyter-button {\n",
              "                    --jp-layout-color3: var(--colab-primary-surface-color, white);\n",
              "                }\n",
              "            </style>\n",
              "            "
            ]
          },
          "metadata": {}
        },
        {
          "output_type": "stream",
          "name": "stdout",
          "text": [
            "{'type': 'Feature', 'geometry': {'type': 'Point', 'coordinates': [-55.455998192971315, -2.26245869249737]}, 'id': '000000000000000000ea', 'properties': {'DATE': '2014-11-30 00:00:00', 'ID': 234, 'LATITUDE': '-2.26246', 'LONGITUDE': '-55.456', 'MISSION': 'IV', 'system:time_start': {'type': 'Date', 'value': 1417305600000}}}\n"
          ]
        }
      ],
      "source": [
        "#apply date function - new system:time_start property\n",
        "roi_points = ee.FeatureCollection('projects/ee-curuai/assets/curuai_points').map(insert_date)\n",
        "print(roi_points.first().getInfo())"
      ]
    },
    {
      "cell_type": "code",
      "execution_count": 32,
      "metadata": {
        "id": "xJu6zpel_A6X",
        "outputId": "08a91650-5920-43e8-a53f-080839c9efe3",
        "colab": {
          "base_uri": "https://localhost:8080/",
          "height": 0
        }
      },
      "outputs": [
        {
          "output_type": "display_data",
          "data": {
            "text/plain": [
              "<IPython.core.display.HTML object>"
            ],
            "text/html": [
              "\n",
              "            <style>\n",
              "                .geemap-dark {\n",
              "                    --jp-widgets-color: white;\n",
              "                    --jp-widgets-label-color: white;\n",
              "                    --jp-ui-font-color1: white;\n",
              "                    --jp-layout-color2: #454545;\n",
              "                    background-color: #383838;\n",
              "                }\n",
              "\n",
              "                .geemap-dark .jupyter-button {\n",
              "                    --jp-layout-color3: #383838;\n",
              "                }\n",
              "\n",
              "                .geemap-colab {\n",
              "                    background-color: var(--colab-primary-surface-color, white);\n",
              "                }\n",
              "\n",
              "                .geemap-colab .jupyter-button {\n",
              "                    --jp-layout-color3: var(--colab-primary-surface-color, white);\n",
              "                }\n",
              "            </style>\n",
              "            "
            ]
          },
          "metadata": {}
        }
      ],
      "source": [
        "# #create a polygon around the floodpalin area - roi\n",
        "# roi_poly = ee.FeatureCollection('projects/ee-curuai/assets/roi_poly_curuai')"
      ]
    },
    {
      "cell_type": "markdown",
      "metadata": {
        "id": "E3z3e9652ehP"
      },
      "source": [
        "## Define date ranges for filtering images"
      ]
    },
    {
      "cell_type": "code",
      "source": [
        "advance = 16\n",
        "# get the first and last dates os sample collection in the mission and extend the range by 16 days (Landsat interval between images)\n",
        "startDate = ee.Date(roi_points.sort('system:time_start').first().get('system:time_start')).advance(-advance, 'day')\n",
        "endDate = ee.Date(roi_points.sort('system:time_start',False).first().get('system:time_start')).advance(advance, 'day')\n",
        "\n",
        "print('Data inicial de coleta: ',startDate.format().getInfo())\n",
        "print('Data final de coleta: ',endDate.format().getInfo())"
      ],
      "metadata": {
        "id": "zxlgYxuF2DIz",
        "outputId": "e07e0f67-b371-4359-e64f-4868ffb48ade",
        "colab": {
          "base_uri": "https://localhost:8080/",
          "height": 0
        }
      },
      "execution_count": 33,
      "outputs": [
        {
          "output_type": "display_data",
          "data": {
            "text/plain": [
              "<IPython.core.display.HTML object>"
            ],
            "text/html": [
              "\n",
              "            <style>\n",
              "                .geemap-dark {\n",
              "                    --jp-widgets-color: white;\n",
              "                    --jp-widgets-label-color: white;\n",
              "                    --jp-ui-font-color1: white;\n",
              "                    --jp-layout-color2: #454545;\n",
              "                    background-color: #383838;\n",
              "                }\n",
              "\n",
              "                .geemap-dark .jupyter-button {\n",
              "                    --jp-layout-color3: #383838;\n",
              "                }\n",
              "\n",
              "                .geemap-colab {\n",
              "                    background-color: var(--colab-primary-surface-color, white);\n",
              "                }\n",
              "\n",
              "                .geemap-colab .jupyter-button {\n",
              "                    --jp-layout-color3: var(--colab-primary-surface-color, white);\n",
              "                }\n",
              "            </style>\n",
              "            "
            ]
          },
          "metadata": {}
        },
        {
          "output_type": "stream",
          "name": "stdout",
          "text": [
            "Data inicial de coleta:  2013-02-20T00:00:00\n",
            "Data final de coleta:  2017-10-05T00:00:00\n"
          ]
        }
      ]
    },
    {
      "cell_type": "markdown",
      "metadata": {
        "id": "ouVoaP5-3z0n"
      },
      "source": [
        "# Import image collections corrected to BOA"
      ]
    },
    {
      "cell_type": "markdown",
      "source": [
        "##Landsat 7 BOA"
      ],
      "metadata": {
        "id": "2OU2MbU7Pmwn"
      }
    },
    {
      "cell_type": "markdown",
      "source": [
        "importar coleção com correção Py6S"
      ],
      "metadata": {
        "id": "_v-TaT9Yhr4z"
      }
    },
    {
      "cell_type": "code",
      "source": [
        "ld7_path = 'projects/ee-curuai/assets/Py6S/LD7/ld7_py6s'\n",
        "# print(ld7_path)\n",
        "landsat7 = ee.ImageCollection(ld7_path)\n",
        "landsat7.limit(5)"
      ],
      "metadata": {
        "colab": {
          "base_uri": "https://localhost:8080/",
          "height": 68
        },
        "id": "6XByAm1_kxN-",
        "outputId": "096a0c35-a564-4e70-b467-80654ce3dbf8"
      },
      "execution_count": 34,
      "outputs": [
        {
          "output_type": "display_data",
          "data": {
            "text/plain": [
              "<IPython.core.display.HTML object>"
            ],
            "text/html": [
              "\n",
              "            <style>\n",
              "                .geemap-dark {\n",
              "                    --jp-widgets-color: white;\n",
              "                    --jp-widgets-label-color: white;\n",
              "                    --jp-ui-font-color1: white;\n",
              "                    --jp-layout-color2: #454545;\n",
              "                    background-color: #383838;\n",
              "                }\n",
              "\n",
              "                .geemap-dark .jupyter-button {\n",
              "                    --jp-layout-color3: #383838;\n",
              "                }\n",
              "\n",
              "                .geemap-colab {\n",
              "                    background-color: var(--colab-primary-surface-color, white);\n",
              "                }\n",
              "\n",
              "                .geemap-colab .jupyter-button {\n",
              "                    --jp-layout-color3: var(--colab-primary-surface-color, white);\n",
              "                }\n",
              "            </style>\n",
              "            "
            ]
          },
          "metadata": {}
        },
        {
          "output_type": "execute_result",
          "data": {
            "text/plain": [
              "<ee.imagecollection.ImageCollection at 0x7cfa2b203bb0>"
            ],
            "text/html": [
              "<div><style>:root {\n",
              "  --font-color-primary: var(--jp-content-font-color0, rgba(0, 0, 0, 1));\n",
              "  --font-color-secondary: var(--jp-content-font-color2, rgba(0, 0, 0, 0.6));\n",
              "  --font-color-accent: rgba(123, 31, 162, 1);\n",
              "  --border-color: var(--jp-border-color2, #e0e0e0);\n",
              "  --background-color: var(--jp-layout-color0, white);\n",
              "  --background-color-row-even: var(--jp-layout-color1, white);\n",
              "  --background-color-row-odd: var(--jp-layout-color2, #eeeeee);\n",
              "}\n",
              "\n",
              "html[theme=\"dark\"],\n",
              "body[data-theme=\"dark\"],\n",
              "body.vscode-dark {\n",
              "  --font-color-primary: rgba(255, 255, 255, 1);\n",
              "  --font-color-secondary: rgba(255, 255, 255, 0.6);\n",
              "  --font-color-accent: rgb(173, 132, 190);\n",
              "  --border-color: #2e2e2e;\n",
              "  --background-color: #111111;\n",
              "  --background-color-row-even: #111111;\n",
              "  --background-color-row-odd: #313131;\n",
              "}\n",
              "\n",
              ".ee {\n",
              "  padding: 1em;\n",
              "  line-height: 1.5em;\n",
              "  min-width: 300px;\n",
              "  max-width: 1200px;\n",
              "  overflow-y: scroll;\n",
              "  max-height: 600px;\n",
              "  border: 1px solid var(--border-color);\n",
              "  font-family: monospace;\n",
              "}\n",
              "\n",
              ".ee li {\n",
              "  list-style-type: none;\n",
              "}\n",
              "\n",
              ".ee ul {\n",
              "  padding-left: 1.5em !important;\n",
              "  margin: 0;\n",
              "}\n",
              "\n",
              ".ee > ul {\n",
              "  padding-left: 0 !important;\n",
              "}\n",
              "\n",
              ".ee-open,\n",
              ".ee-shut {\n",
              "  color: var(--font-color-secondary);\n",
              "  cursor: pointer;\n",
              "  margin: 0;\n",
              "}\n",
              "\n",
              ".ee-open:hover,\n",
              ".ee-shut:hover {\n",
              "  color: var(--font-color-primary);\n",
              "}\n",
              "\n",
              ".ee-k {\n",
              "  color: var(--font-color-accent);\n",
              "  margin-right: 6px;\n",
              "}\n",
              "\n",
              ".ee-v {\n",
              "  color: var(--font-color-primary);\n",
              "}\n",
              "\n",
              ".ee-toggle {\n",
              "  display: none;\n",
              "}\n",
              "\n",
              ".ee-shut + ul {\n",
              "  display: none;\n",
              "}\n",
              "\n",
              ".ee-open + ul {\n",
              "  display: block;\n",
              "}\n",
              "\n",
              ".ee-shut::before {\n",
              "  display: inline-block;\n",
              "  content: \"▼\";\n",
              "  margin-right: 6px;\n",
              "  transform: rotate(-90deg);\n",
              "  transition: transform 0.2s;\n",
              "}\n",
              "\n",
              ".ee-open::before {\n",
              "  transform: rotate(0deg);\n",
              "  display: inline-block;\n",
              "  content: \"▼\";\n",
              "  margin-right: 6px;\n",
              "  transition: transform 0.2s;\n",
              "}\n",
              "</style><div class='ee'><ul><li><label class='ee-shut'>ImageCollection projects/ee-curuai/assets/Py6S/LD7/ld7_py6s  (5 elements)<input type='checkbox' class='ee-toggle'></label><ul><li><span class='ee-k'>type:</span><span class='ee-v'>ImageCollection</span></li><li><span class='ee-k'>id:</span><span class='ee-v'>projects/ee-curuai/assets/Py6S/LD7/ld7_py6s</span></li><li><span class='ee-k'>version:</span><span class='ee-v'>1715563153459283</span></li><li><label class='ee-shut'>bands: []<input type='checkbox' class='ee-toggle'></label><ul></ul></li><li><label class='ee-shut'>features: List (5 elements)<input type='checkbox' class='ee-toggle'></label><ul><li><label class='ee-shut'>0: Image projects/ee-curuai/assets/Py6S/LD7/ld7_py6s/BOA_LE07_227062_20130512 (7 bands)<input type='checkbox' class='ee-toggle'></label><ul><li><span class='ee-k'>type:</span><span class='ee-v'>Image</span></li><li><span class='ee-k'>id:</span><span class='ee-v'>projects/ee-curuai/assets/Py6S/LD7/ld7_py6s/BOA_LE07_227062_20130512</span></li><li><span class='ee-k'>version:</span><span class='ee-v'>1715369225029068</span></li><li><label class='ee-shut'>bands: List (7 elements)<input type='checkbox' class='ee-toggle'></label><ul><li><label class='ee-shut'>0: \"QA_PIXEL\", unsigned int16, EPSG:32721, 3865x1186 px<input type='checkbox' class='ee-toggle'></label><ul><li><span class='ee-k'>id:</span><span class='ee-v'>QA_PIXEL</span></li><li><span class='ee-k'>crs:</span><span class='ee-v'>EPSG:32721</span></li><li><label class='ee-shut'>crs_transform: [30, 0, 610350, 0, -30, 9780030]<input type='checkbox' class='ee-toggle'></label><ul><li><span class='ee-k'>0:</span><span class='ee-v'>30</span></li><li><span class='ee-k'>1:</span><span class='ee-v'>0</span></li><li><span class='ee-k'>2:</span><span class='ee-v'>610350</span></li><li><span class='ee-k'>3:</span><span class='ee-v'>0</span></li><li><span class='ee-k'>4:</span><span class='ee-v'>-30</span></li><li><span class='ee-k'>5:</span><span class='ee-v'>9780030</span></li></ul></li><li><label class='ee-shut'>data_type: unsigned int16<input type='checkbox' class='ee-toggle'></label><ul><li><span class='ee-k'>type:</span><span class='ee-v'>PixelType</span></li><li><span class='ee-k'>max:</span><span class='ee-v'>65535</span></li><li><span class='ee-k'>min:</span><span class='ee-v'>0</span></li><li><span class='ee-k'>precision:</span><span class='ee-v'>int</span></li></ul></li><li><label class='ee-shut'>dimensions: [3865, 1186]<input type='checkbox' class='ee-toggle'></label><ul><li><span class='ee-k'>0:</span><span class='ee-v'>3865</span></li><li><span class='ee-k'>1:</span><span class='ee-v'>1186</span></li></ul></li></ul></li><li><label class='ee-shut'>1: \"B1\", double, EPSG:32721, 3865x1186 px<input type='checkbox' class='ee-toggle'></label><ul><li><span class='ee-k'>id:</span><span class='ee-v'>B1</span></li><li><span class='ee-k'>crs:</span><span class='ee-v'>EPSG:32721</span></li><li><label class='ee-shut'>crs_transform: [30, 0, 610350, 0, -30, 9780030]<input type='checkbox' class='ee-toggle'></label><ul><li><span class='ee-k'>0:</span><span class='ee-v'>30</span></li><li><span class='ee-k'>1:</span><span class='ee-v'>0</span></li><li><span class='ee-k'>2:</span><span class='ee-v'>610350</span></li><li><span class='ee-k'>3:</span><span class='ee-v'>0</span></li><li><span class='ee-k'>4:</span><span class='ee-v'>-30</span></li><li><span class='ee-k'>5:</span><span class='ee-v'>9780030</span></li></ul></li><li><label class='ee-shut'>data_type: double<input type='checkbox' class='ee-toggle'></label><ul><li><span class='ee-k'>type:</span><span class='ee-v'>PixelType</span></li><li><span class='ee-k'>precision:</span><span class='ee-v'>double</span></li></ul></li><li><label class='ee-shut'>dimensions: [3865, 1186]<input type='checkbox' class='ee-toggle'></label><ul><li><span class='ee-k'>0:</span><span class='ee-v'>3865</span></li><li><span class='ee-k'>1:</span><span class='ee-v'>1186</span></li></ul></li></ul></li><li><label class='ee-shut'>2: \"B2\", double, EPSG:32721, 3865x1186 px<input type='checkbox' class='ee-toggle'></label><ul><li><span class='ee-k'>id:</span><span class='ee-v'>B2</span></li><li><span class='ee-k'>crs:</span><span class='ee-v'>EPSG:32721</span></li><li><label class='ee-shut'>crs_transform: [30, 0, 610350, 0, -30, 9780030]<input type='checkbox' class='ee-toggle'></label><ul><li><span class='ee-k'>0:</span><span class='ee-v'>30</span></li><li><span class='ee-k'>1:</span><span class='ee-v'>0</span></li><li><span class='ee-k'>2:</span><span class='ee-v'>610350</span></li><li><span class='ee-k'>3:</span><span class='ee-v'>0</span></li><li><span class='ee-k'>4:</span><span class='ee-v'>-30</span></li><li><span class='ee-k'>5:</span><span class='ee-v'>9780030</span></li></ul></li><li><label class='ee-shut'>data_type: double<input type='checkbox' class='ee-toggle'></label><ul><li><span class='ee-k'>type:</span><span class='ee-v'>PixelType</span></li><li><span class='ee-k'>precision:</span><span class='ee-v'>double</span></li></ul></li><li><label class='ee-shut'>dimensions: [3865, 1186]<input type='checkbox' class='ee-toggle'></label><ul><li><span class='ee-k'>0:</span><span class='ee-v'>3865</span></li><li><span class='ee-k'>1:</span><span class='ee-v'>1186</span></li></ul></li></ul></li><li><label class='ee-shut'>3: \"B3\", double, EPSG:32721, 3865x1186 px<input type='checkbox' class='ee-toggle'></label><ul><li><span class='ee-k'>id:</span><span class='ee-v'>B3</span></li><li><span class='ee-k'>crs:</span><span class='ee-v'>EPSG:32721</span></li><li><label class='ee-shut'>crs_transform: [30, 0, 610350, 0, -30, 9780030]<input type='checkbox' class='ee-toggle'></label><ul><li><span class='ee-k'>0:</span><span class='ee-v'>30</span></li><li><span class='ee-k'>1:</span><span class='ee-v'>0</span></li><li><span class='ee-k'>2:</span><span class='ee-v'>610350</span></li><li><span class='ee-k'>3:</span><span class='ee-v'>0</span></li><li><span class='ee-k'>4:</span><span class='ee-v'>-30</span></li><li><span class='ee-k'>5:</span><span class='ee-v'>9780030</span></li></ul></li><li><label class='ee-shut'>data_type: double<input type='checkbox' class='ee-toggle'></label><ul><li><span class='ee-k'>type:</span><span class='ee-v'>PixelType</span></li><li><span class='ee-k'>precision:</span><span class='ee-v'>double</span></li></ul></li><li><label class='ee-shut'>dimensions: [3865, 1186]<input type='checkbox' class='ee-toggle'></label><ul><li><span class='ee-k'>0:</span><span class='ee-v'>3865</span></li><li><span class='ee-k'>1:</span><span class='ee-v'>1186</span></li></ul></li></ul></li><li><label class='ee-shut'>4: \"B4\", double, EPSG:32721, 3865x1186 px<input type='checkbox' class='ee-toggle'></label><ul><li><span class='ee-k'>id:</span><span class='ee-v'>B4</span></li><li><span class='ee-k'>crs:</span><span class='ee-v'>EPSG:32721</span></li><li><label class='ee-shut'>crs_transform: [30, 0, 610350, 0, -30, 9780030]<input type='checkbox' class='ee-toggle'></label><ul><li><span class='ee-k'>0:</span><span class='ee-v'>30</span></li><li><span class='ee-k'>1:</span><span class='ee-v'>0</span></li><li><span class='ee-k'>2:</span><span class='ee-v'>610350</span></li><li><span class='ee-k'>3:</span><span class='ee-v'>0</span></li><li><span class='ee-k'>4:</span><span class='ee-v'>-30</span></li><li><span class='ee-k'>5:</span><span class='ee-v'>9780030</span></li></ul></li><li><label class='ee-shut'>data_type: double<input type='checkbox' class='ee-toggle'></label><ul><li><span class='ee-k'>type:</span><span class='ee-v'>PixelType</span></li><li><span class='ee-k'>precision:</span><span class='ee-v'>double</span></li></ul></li><li><label class='ee-shut'>dimensions: [3865, 1186]<input type='checkbox' class='ee-toggle'></label><ul><li><span class='ee-k'>0:</span><span class='ee-v'>3865</span></li><li><span class='ee-k'>1:</span><span class='ee-v'>1186</span></li></ul></li></ul></li><li><label class='ee-shut'>5: \"B5\", double, EPSG:32721, 3865x1186 px<input type='checkbox' class='ee-toggle'></label><ul><li><span class='ee-k'>id:</span><span class='ee-v'>B5</span></li><li><span class='ee-k'>crs:</span><span class='ee-v'>EPSG:32721</span></li><li><label class='ee-shut'>crs_transform: [30, 0, 610350, 0, -30, 9780030]<input type='checkbox' class='ee-toggle'></label><ul><li><span class='ee-k'>0:</span><span class='ee-v'>30</span></li><li><span class='ee-k'>1:</span><span class='ee-v'>0</span></li><li><span class='ee-k'>2:</span><span class='ee-v'>610350</span></li><li><span class='ee-k'>3:</span><span class='ee-v'>0</span></li><li><span class='ee-k'>4:</span><span class='ee-v'>-30</span></li><li><span class='ee-k'>5:</span><span class='ee-v'>9780030</span></li></ul></li><li><label class='ee-shut'>data_type: double<input type='checkbox' class='ee-toggle'></label><ul><li><span class='ee-k'>type:</span><span class='ee-v'>PixelType</span></li><li><span class='ee-k'>precision:</span><span class='ee-v'>double</span></li></ul></li><li><label class='ee-shut'>dimensions: [3865, 1186]<input type='checkbox' class='ee-toggle'></label><ul><li><span class='ee-k'>0:</span><span class='ee-v'>3865</span></li><li><span class='ee-k'>1:</span><span class='ee-v'>1186</span></li></ul></li></ul></li><li><label class='ee-shut'>6: \"B7\", double, EPSG:32721, 3865x1186 px<input type='checkbox' class='ee-toggle'></label><ul><li><span class='ee-k'>id:</span><span class='ee-v'>B7</span></li><li><span class='ee-k'>crs:</span><span class='ee-v'>EPSG:32721</span></li><li><label class='ee-shut'>crs_transform: [30, 0, 610350, 0, -30, 9780030]<input type='checkbox' class='ee-toggle'></label><ul><li><span class='ee-k'>0:</span><span class='ee-v'>30</span></li><li><span class='ee-k'>1:</span><span class='ee-v'>0</span></li><li><span class='ee-k'>2:</span><span class='ee-v'>610350</span></li><li><span class='ee-k'>3:</span><span class='ee-v'>0</span></li><li><span class='ee-k'>4:</span><span class='ee-v'>-30</span></li><li><span class='ee-k'>5:</span><span class='ee-v'>9780030</span></li></ul></li><li><label class='ee-shut'>data_type: double<input type='checkbox' class='ee-toggle'></label><ul><li><span class='ee-k'>type:</span><span class='ee-v'>PixelType</span></li><li><span class='ee-k'>precision:</span><span class='ee-v'>double</span></li></ul></li><li><label class='ee-shut'>dimensions: [3865, 1186]<input type='checkbox' class='ee-toggle'></label><ul><li><span class='ee-k'>0:</span><span class='ee-v'>3865</span></li><li><span class='ee-k'>1:</span><span class='ee-v'>1186</span></li></ul></li></ul></li></ul></li><li><label class='ee-shut'>properties: Object (148 properties)<input type='checkbox' class='ee-toggle'></label><ul><li><span class='ee-k'>AC_aerosol_optical_thickness:</span><span class='ee-v'>0.34</span></li><li><span class='ee-k'>AC_date:</span><span class='ee-v'>2013-05-12</span></li><li><span class='ee-k'>AC_ozone:</span><span class='ee-v'>0.257</span></li><li><span class='ee-k'>AC_version:</span><span class='ee-v'>py6S</span></li><li><span class='ee-k'>AC_water_vapour:</span><span class='ee-v'>4.719999694824219</span></li><li><span class='ee-k'>CLOUD_COVER:</span><span class='ee-v'>65</span></li><li><span class='ee-k'>CLOUD_COVER_LAND:</span><span class='ee-v'>65</span></li><li><span class='ee-k'>COLLECTION_CATEGORY:</span><span class='ee-v'>T1</span></li><li><span class='ee-k'>COLLECTION_NUMBER:</span><span class='ee-v'>2</span></li><li><span class='ee-k'>CORRECTION_BIAS_BAND_1:</span><span class='ee-v'>INTERNAL_CALIBRATION</span></li><li><span class='ee-k'>CORRECTION_BIAS_BAND_2:</span><span class='ee-v'>INTERNAL_CALIBRATION</span></li><li><span class='ee-k'>CORRECTION_BIAS_BAND_3:</span><span class='ee-v'>INTERNAL_CALIBRATION</span></li><li><span class='ee-k'>CORRECTION_BIAS_BAND_4:</span><span class='ee-v'>INTERNAL_CALIBRATION</span></li><li><span class='ee-k'>CORRECTION_BIAS_BAND_5:</span><span class='ee-v'>INTERNAL_CALIBRATION</span></li><li><span class='ee-k'>CORRECTION_BIAS_BAND_6_VCID_1:</span><span class='ee-v'>INTERNAL_CALIBRATION</span></li><li><span class='ee-k'>CORRECTION_BIAS_BAND_6_VCID_2:</span><span class='ee-v'>INTERNAL_CALIBRATION</span></li><li><span class='ee-k'>CORRECTION_BIAS_BAND_7:</span><span class='ee-v'>INTERNAL_CALIBRATION</span></li><li><span class='ee-k'>CORRECTION_BIAS_BAND_8:</span><span class='ee-v'>INTERNAL_CALIBRATION</span></li><li><span class='ee-k'>CORRECTION_GAIN_BAND_1:</span><span class='ee-v'>CPF</span></li><li><span class='ee-k'>CORRECTION_GAIN_BAND_2:</span><span class='ee-v'>CPF</span></li><li><span class='ee-k'>CORRECTION_GAIN_BAND_3:</span><span class='ee-v'>CPF</span></li><li><span class='ee-k'>CORRECTION_GAIN_BAND_4:</span><span class='ee-v'>CPF</span></li><li><span class='ee-k'>CORRECTION_GAIN_BAND_5:</span><span class='ee-v'>CPF</span></li><li><span class='ee-k'>CORRECTION_GAIN_BAND_6_VCID_1:</span><span class='ee-v'>CPF</span></li><li><span class='ee-k'>CORRECTION_GAIN_BAND_6_VCID_2:</span><span class='ee-v'>CPF</span></li><li><span class='ee-k'>CORRECTION_GAIN_BAND_7:</span><span class='ee-v'>CPF</span></li><li><span class='ee-k'>CORRECTION_GAIN_BAND_8:</span><span class='ee-v'>CPF</span></li><li><span class='ee-k'>DATA_SOURCE_ELEVATION:</span><span class='ee-v'>GLS2000</span></li><li><span class='ee-k'>DATE_ACQUIRED:</span><span class='ee-v'>2013-05-12</span></li><li><span class='ee-k'>DATE_PRODUCT_GENERATED:</span><span class='ee-v'>1599511590000</span></li><li><span class='ee-k'>DATUM:</span><span class='ee-v'>WGS84</span></li><li><span class='ee-k'>EARTH_SUN_DISTANCE:</span><span class='ee-v'>1.010295</span></li><li><span class='ee-k'>ELLIPSOID:</span><span class='ee-v'>WGS84</span></li><li><span class='ee-k'>EPHEMERIS_TYPE:</span><span class='ee-v'>DEFINITIVE</span></li><li><span class='ee-k'>GAIN_BAND_1:</span><span class='ee-v'>H</span></li><li><span class='ee-k'>GAIN_BAND_2:</span><span class='ee-v'>H</span></li><li><span class='ee-k'>GAIN_BAND_3:</span><span class='ee-v'>H</span></li><li><span class='ee-k'>GAIN_BAND_4:</span><span class='ee-v'>L</span></li><li><span class='ee-k'>GAIN_BAND_5:</span><span class='ee-v'>H</span></li><li><span class='ee-k'>GAIN_BAND_6_VCID_1:</span><span class='ee-v'>L</span></li><li><span class='ee-k'>GAIN_BAND_6_VCID_2:</span><span class='ee-v'>H</span></li><li><span class='ee-k'>GAIN_BAND_7:</span><span class='ee-v'>H</span></li><li><span class='ee-k'>GAIN_BAND_8:</span><span class='ee-v'>L</span></li><li><span class='ee-k'>GAIN_CHANGE_BAND_1:</span><span class='ee-v'>HH</span></li><li><span class='ee-k'>GAIN_CHANGE_BAND_2:</span><span class='ee-v'>HH</span></li><li><span class='ee-k'>GAIN_CHANGE_BAND_3:</span><span class='ee-v'>HH</span></li><li><span class='ee-k'>GAIN_CHANGE_BAND_4:</span><span class='ee-v'>LL</span></li><li><span class='ee-k'>GAIN_CHANGE_BAND_5:</span><span class='ee-v'>HH</span></li><li><span class='ee-k'>GAIN_CHANGE_BAND_6_VCID_1:</span><span class='ee-v'>LL</span></li><li><span class='ee-k'>GAIN_CHANGE_BAND_6_VCID_2:</span><span class='ee-v'>HH</span></li><li><span class='ee-k'>GAIN_CHANGE_BAND_7:</span><span class='ee-v'>HH</span></li><li><span class='ee-k'>GAIN_CHANGE_BAND_8:</span><span class='ee-v'>LL</span></li><li><span class='ee-k'>GAIN_CHANGE_SCAN_BAND_1:</span><span class='ee-v'>0</span></li><li><span class='ee-k'>GAIN_CHANGE_SCAN_BAND_2:</span><span class='ee-v'>0</span></li><li><span class='ee-k'>GAIN_CHANGE_SCAN_BAND_3:</span><span class='ee-v'>0</span></li><li><span class='ee-k'>GAIN_CHANGE_SCAN_BAND_4:</span><span class='ee-v'>0</span></li><li><span class='ee-k'>GAIN_CHANGE_SCAN_BAND_5:</span><span class='ee-v'>0</span></li><li><span class='ee-k'>GAIN_CHANGE_SCAN_BAND_6_VCID_1:</span><span class='ee-v'>0</span></li><li><span class='ee-k'>GAIN_CHANGE_SCAN_BAND_6_VCID_2:</span><span class='ee-v'>0</span></li><li><span class='ee-k'>GAIN_CHANGE_SCAN_BAND_7:</span><span class='ee-v'>0</span></li><li><span class='ee-k'>GAIN_CHANGE_SCAN_BAND_8:</span><span class='ee-v'>0</span></li><li><span class='ee-k'>GEOMETRIC_RMSE_MODEL:</span><span class='ee-v'>5.57</span></li><li><span class='ee-k'>GEOMETRIC_RMSE_MODEL_X:</span><span class='ee-v'>4.234</span></li><li><span class='ee-k'>GEOMETRIC_RMSE_MODEL_Y:</span><span class='ee-v'>3.619</span></li><li><span class='ee-k'>GRID_CELL_SIZE_PANCHROMATIC:</span><span class='ee-v'>15</span></li><li><span class='ee-k'>GRID_CELL_SIZE_REFLECTIVE:</span><span class='ee-v'>30</span></li><li><span class='ee-k'>GRID_CELL_SIZE_THERMAL:</span><span class='ee-v'>30</span></li><li><span class='ee-k'>GROUND_CONTROL_POINTS_MODEL:</span><span class='ee-v'>78</span></li><li><span class='ee-k'>GROUND_CONTROL_POINTS_VERSION:</span><span class='ee-v'>5</span></li><li><span class='ee-k'>IMAGE_QUALITY:</span><span class='ee-v'>9</span></li><li><span class='ee-k'>K1_CONSTANT_BAND_6_VCID_1:</span><span class='ee-v'>666.09</span></li><li><span class='ee-k'>K1_CONSTANT_BAND_6_VCID_2:</span><span class='ee-v'>666.09</span></li><li><span class='ee-k'>K2_CONSTANT_BAND_6_VCID_1:</span><span class='ee-v'>1282.71</span></li><li><span class='ee-k'>K2_CONSTANT_BAND_6_VCID_2:</span><span class='ee-v'>1282.71</span></li><li><span class='ee-k'>LANDSAT_PRODUCT_ID:</span><span class='ee-v'>LE07_L1TP_227062_20130512_20200907_02_T1</span></li><li><span class='ee-k'>LANDSAT_SCENE_ID:</span><span class='ee-v'>LE72270622013132CUB00</span></li><li><span class='ee-k'>MAP_PROJECTION:</span><span class='ee-v'>UTM</span></li><li><span class='ee-k'>ORIENTATION:</span><span class='ee-v'>NORTH_UP</span></li><li><span class='ee-k'>PANCHROMATIC_LINES:</span><span class='ee-v'>13941</span></li><li><span class='ee-k'>PANCHROMATIC_SAMPLES:</span><span class='ee-v'>16061</span></li><li><span class='ee-k'>PROCESSING_LEVEL:</span><span class='ee-v'>L1TP</span></li><li><span class='ee-k'>PROCESSING_SOFTWARE_VERSION:</span><span class='ee-v'>LPGS_15.3.1c</span></li><li><span class='ee-k'>RADIANCE_ADD_BAND_1:</span><span class='ee-v'>-6.97874</span></li><li><span class='ee-k'>RADIANCE_ADD_BAND_2:</span><span class='ee-v'>-7.19882</span></li><li><span class='ee-k'>RADIANCE_ADD_BAND_3:</span><span class='ee-v'>-5.62165</span></li><li><span class='ee-k'>RADIANCE_ADD_BAND_4:</span><span class='ee-v'>-6.06929</span></li><li><span class='ee-k'>RADIANCE_ADD_BAND_5:</span><span class='ee-v'>-1.12622</span></li><li><span class='ee-k'>RADIANCE_ADD_BAND_6_VCID_1:</span><span class='ee-v'>-0.06709</span></li><li><span class='ee-k'>RADIANCE_ADD_BAND_6_VCID_2:</span><span class='ee-v'>3.1628</span></li><li><span class='ee-k'>RADIANCE_ADD_BAND_7:</span><span class='ee-v'>-0.3939</span></li><li><span class='ee-k'>RADIANCE_ADD_BAND_8:</span><span class='ee-v'>-5.67559</span></li><li><span class='ee-k'>RADIANCE_MULT_BAND_1:</span><span class='ee-v'>0.77874</span></li><li><span class='ee-k'>RADIANCE_MULT_BAND_2:</span><span class='ee-v'>0.79882</span></li><li><span class='ee-k'>RADIANCE_MULT_BAND_3:</span><span class='ee-v'>0.62165</span></li><li><span class='ee-k'>RADIANCE_MULT_BAND_4:</span><span class='ee-v'>0.96929</span></li><li><span class='ee-k'>RADIANCE_MULT_BAND_5:</span><span class='ee-v'>0.12622</span></li><li><span class='ee-k'>RADIANCE_MULT_BAND_6_VCID_1:</span><span class='ee-v'>0.067087</span></li><li><span class='ee-k'>RADIANCE_MULT_BAND_6_VCID_2:</span><span class='ee-v'>0.037205</span></li><li><span class='ee-k'>RADIANCE_MULT_BAND_7:</span><span class='ee-v'>0.043898</span></li><li><span class='ee-k'>RADIANCE_MULT_BAND_8:</span><span class='ee-v'>0.97559</span></li><li><span class='ee-k'>REFLECTANCE_ADD_BAND_1:</span><span class='ee-v'>-0.010991</span></li><li><span class='ee-k'>REFLECTANCE_ADD_BAND_2:</span><span class='ee-v'>-0.012437</span></li><li><span class='ee-k'>REFLECTANCE_ADD_BAND_3:</span><span class='ee-v'>-0.011821</span></li><li><span class='ee-k'>REFLECTANCE_ADD_BAND_4:</span><span class='ee-v'>-0.018172</span></li><li><span class='ee-k'>REFLECTANCE_ADD_BAND_5:</span><span class='ee-v'>-0.016297</span></li><li><span class='ee-k'>REFLECTANCE_ADD_BAND_7:</span><span class='ee-v'>-0.015525</span></li><li><span class='ee-k'>REFLECTANCE_ADD_BAND_8:</span><span class='ee-v'>-0.013798</span></li><li><span class='ee-k'>REFLECTANCE_MULT_BAND_1:</span><span class='ee-v'>0.0012265</span></li><li><span class='ee-k'>REFLECTANCE_MULT_BAND_2:</span><span class='ee-v'>0.0013801</span></li><li><span class='ee-k'>REFLECTANCE_MULT_BAND_3:</span><span class='ee-v'>0.0013071</span></li><li><span class='ee-k'>REFLECTANCE_MULT_BAND_4:</span><span class='ee-v'>0.0029021</span></li><li><span class='ee-k'>REFLECTANCE_MULT_BAND_5:</span><span class='ee-v'>0.0018264</span></li><li><span class='ee-k'>REFLECTANCE_MULT_BAND_7:</span><span class='ee-v'>0.0017301</span></li><li><span class='ee-k'>REFLECTANCE_MULT_BAND_8:</span><span class='ee-v'>0.0023718</span></li><li><span class='ee-k'>REFLECTIVE_LINES:</span><span class='ee-v'>6971</span></li><li><span class='ee-k'>REFLECTIVE_SAMPLES:</span><span class='ee-v'>8031</span></li><li><span class='ee-k'>REQUEST_ID:</span><span class='ee-v'>L2</span></li><li><span class='ee-k'>RESAMPLING_OPTION:</span><span class='ee-v'>CUBIC_CONVOLUTION</span></li><li><span class='ee-k'>SATURATION_BAND_1:</span><span class='ee-v'>Y</span></li><li><span class='ee-k'>SATURATION_BAND_2:</span><span class='ee-v'>Y</span></li><li><span class='ee-k'>SATURATION_BAND_3:</span><span class='ee-v'>Y</span></li><li><span class='ee-k'>SATURATION_BAND_4:</span><span class='ee-v'>Y</span></li><li><span class='ee-k'>SATURATION_BAND_5:</span><span class='ee-v'>Y</span></li><li><span class='ee-k'>SATURATION_BAND_6_VCID_1:</span><span class='ee-v'>N</span></li><li><span class='ee-k'>SATURATION_BAND_6_VCID_2:</span><span class='ee-v'>Y</span></li><li><span class='ee-k'>SATURATION_BAND_7:</span><span class='ee-v'>Y</span></li><li><span class='ee-k'>SATURATION_BAND_8:</span><span class='ee-v'>N</span></li><li><span class='ee-k'>SCAN_GAP_INTERPOLATION:</span><span class='ee-v'>2</span></li><li><span class='ee-k'>SCENE_CENTER_TIME:</span><span class='ee-v'>13:44:05.3984177Z</span></li><li><span class='ee-k'>SENSOR_ANOMALIES:</span><span class='ee-v'>NONE</span></li><li><span class='ee-k'>SENSOR_ID:</span><span class='ee-v'>ETM</span></li><li><span class='ee-k'>SENSOR_MODE:</span><span class='ee-v'>BUMPER</span></li><li><span class='ee-k'>SENSOR_MODE_SLC:</span><span class='ee-v'>OFF</span></li><li><span class='ee-k'>SPACECRAFT_ID:</span><span class='ee-v'>LANDSAT_7</span></li><li><span class='ee-k'>STATION_ID:</span><span class='ee-v'>CUB</span></li><li><span class='ee-k'>SUN_AZIMUTH:</span><span class='ee-v'>50.90684157</span></li><li><span class='ee-k'>SUN_ELEVATION:</span><span class='ee-v'>55.67038568</span></li><li><span class='ee-k'>THERMAL_LINES:</span><span class='ee-v'>6971</span></li><li><span class='ee-k'>THERMAL_SAMPLES:</span><span class='ee-v'>8031</span></li><li><span class='ee-k'>UTM_ZONE:</span><span class='ee-v'>21</span></li><li><span class='ee-k'>WRS_PATH:</span><span class='ee-v'>227</span></li><li><span class='ee-k'>WRS_ROW:</span><span class='ee-v'>62</span></li><li><span class='ee-k'>WRS_TYPE:</span><span class='ee-v'>2</span></li><li><span class='ee-k'>system:asset_size:</span><span class='ee-v'>9942193</span></li><li><label class='ee-shut'>system:footprint: LinearRing (19 vertices)<input type='checkbox' class='ee-toggle'></label><ul><li><span class='ee-k'>type:</span><span class='ee-v'>LinearRing</span></li><li><label class='ee-shut'>coordinates: List (19 elements)<input type='checkbox' class='ee-toggle'></label><ul><li><label class='ee-shut'>0: [-56.00790099168393, -1.9899313951966122]<input type='checkbox' class='ee-toggle'></label><ul><li><span class='ee-k'>0:</span><span class='ee-v'>-56.00790099168393</span></li><li><span class='ee-k'>1:</span><span class='ee-v'>-1.9899313951966122</span></li></ul></li><li><label class='ee-shut'>1: [-56.00790303255488, -1.9899651372103422]<input type='checkbox' class='ee-toggle'></label><ul><li><span class='ee-k'>0:</span><span class='ee-v'>-56.00790303255488</span></li><li><span class='ee-k'>1:</span><span class='ee-v'>-1.9899651372103422</span></li></ul></li><li><label class='ee-shut'>2: [-56.007695289133245, -2.311543999976785]<input type='checkbox' class='ee-toggle'></label><ul><li><span class='ee-k'>0:</span><span class='ee-v'>-56.007695289133245</span></li><li><span class='ee-k'>1:</span><span class='ee-v'>-2.311543999976785</span></li></ul></li><li><label class='ee-shut'>3: [-56.00758542256164, -2.311668371300401]<input type='checkbox' class='ee-toggle'></label><ul><li><span class='ee-k'>0:</span><span class='ee-v'>-56.00758542256164</span></li><li><span class='ee-k'>1:</span><span class='ee-v'>-2.311668371300401</span></li></ul></li><li><label class='ee-shut'>4: [-56.007491968050864, -2.311805420122597]<input type='checkbox' class='ee-toggle'></label><ul><li><span class='ee-k'>0:</span><span class='ee-v'>-56.007491968050864</span></li><li><span class='ee-k'>1:</span><span class='ee-v'>-2.311805420122597</span></li></ul></li><li><label class='ee-shut'>5: [-56.007458719016846, -2.311811703970227]<input type='checkbox' class='ee-toggle'></label><ul><li><span class='ee-k'>0:</span><span class='ee-v'>-56.007458719016846</span></li><li><span class='ee-k'>1:</span><span class='ee-v'>-2.311811703970227</span></li></ul></li><li><label class='ee-shut'>6: [-56.00742495977984, -2.311813812762818]<input type='checkbox' class='ee-toggle'></label><ul><li><span class='ee-k'>0:</span><span class='ee-v'>-56.00742495977984</span></li><li><span class='ee-k'>1:</span><span class='ee-v'>-2.311813812762818</span></li></ul></li><li><label class='ee-shut'>7: [-54.96521940588846, -2.3106966854844777]<input type='checkbox' class='ee-toggle'></label><ul><li><span class='ee-k'>0:</span><span class='ee-v'>-54.96521940588846</span></li><li><span class='ee-k'>1:</span><span class='ee-v'>-2.3106966854844777</span></li></ul></li><li><label class='ee-shut'>8: [-54.965095041218675, -2.3105868055625747]<input type='checkbox' class='ee-toggle'></label><ul><li><span class='ee-k'>0:</span><span class='ee-v'>-54.965095041218675</span></li><li><span class='ee-k'>1:</span><span class='ee-v'>-2.3105868055625747</span></li></ul></li><li><label class='ee-shut'>9: [-54.9649579041744, -2.310493389784539]<input type='checkbox' class='ee-toggle'></label><ul><li><span class='ee-k'>0:</span><span class='ee-v'>-54.9649579041744</span></li><li><span class='ee-k'>1:</span><span class='ee-v'>-2.310493389784539</span></li></ul></li><li><label class='ee-shut'>10: [-54.96494958520648, -2.3104489756132134]<input type='checkbox' class='ee-toggle'></label><ul><li><span class='ee-k'>0:</span><span class='ee-v'>-54.96494958520648</span></li><li><span class='ee-k'>1:</span><span class='ee-v'>-2.3104489756132134</span></li></ul></li><li><label class='ee-shut'>11: [-54.96537536616671, -1.9890030781522787]<input type='checkbox' class='ee-toggle'></label><ul><li><span class='ee-k'>0:</span><span class='ee-v'>-54.96537536616671</span></li><li><span class='ee-k'>1:</span><span class='ee-v'>-1.9890030781522787</span></li></ul></li><li><label class='ee-shut'>12: [-54.96548536203257, -1.9888788013913736]<input type='checkbox' class='ee-toggle'></label><ul><li><span class='ee-k'>0:</span><span class='ee-v'>-54.96548536203257</span></li><li><span class='ee-k'>1:</span><span class='ee-v'>-1.9888788013913736</span></li></ul></li><li><label class='ee-shut'>13: [-54.96557880401176, -1.9887418286222167]<input type='checkbox' class='ee-toggle'></label><ul><li><span class='ee-k'>0:</span><span class='ee-v'>-54.96557880401176</span></li><li><span class='ee-k'>1:</span><span class='ee-v'>-1.9887418286222167</span></li></ul></li><li><label class='ee-shut'>14: [-54.96562325621276, -1.9887333958904014]<input type='checkbox' class='ee-toggle'></label><ul><li><span class='ee-k'>0:</span><span class='ee-v'>-54.96562325621276</span></li><li><span class='ee-k'>1:</span><span class='ee-v'>-1.9887333958904014</span></li></ul></li><li><label class='ee-shut'>15: [-56.0076331277673, -1.9896950199386851]<input type='checkbox' class='ee-toggle'></label><ul><li><span class='ee-k'>0:</span><span class='ee-v'>-56.0076331277673</span></li><li><span class='ee-k'>1:</span><span class='ee-v'>-1.9896950199386851</span></li></ul></li><li><label class='ee-shut'>16: [-56.00775753557763, -1.9898048265148425]<input type='checkbox' class='ee-toggle'></label><ul><li><span class='ee-k'>0:</span><span class='ee-v'>-56.00775753557763</span></li><li><span class='ee-k'>1:</span><span class='ee-v'>-1.9898048265148425</span></li></ul></li><li><label class='ee-shut'>17: [-56.00789469899878, -1.9898981788466987]<input type='checkbox' class='ee-toggle'></label><ul><li><span class='ee-k'>0:</span><span class='ee-v'>-56.00789469899878</span></li><li><span class='ee-k'>1:</span><span class='ee-v'>-1.9898981788466987</span></li></ul></li><li><label class='ee-shut'>18: [-56.00790099168393, -1.9899313951966122]<input type='checkbox' class='ee-toggle'></label><ul><li><span class='ee-k'>0:</span><span class='ee-v'>-56.00790099168393</span></li><li><span class='ee-k'>1:</span><span class='ee-v'>-1.9899313951966122</span></li></ul></li></ul></li></ul></li><li><span class='ee-k'>system:index:</span><span class='ee-v'>BOA_LE07_227062_20130512</span></li><li><span class='ee-k'>system:time_end:</span><span class='ee-v'>1368366245398</span></li><li><span class='ee-k'>system:time_start:</span><span class='ee-v'>1368366245398</span></li></ul></li></ul></li><li><label class='ee-shut'>1: Image projects/ee-curuai/assets/Py6S/LD7/ld7_py6s/BOA_LE07_227062_20130715 (7 bands)<input type='checkbox' class='ee-toggle'></label><ul><li><span class='ee-k'>type:</span><span class='ee-v'>Image</span></li><li><span class='ee-k'>id:</span><span class='ee-v'>projects/ee-curuai/assets/Py6S/LD7/ld7_py6s/BOA_LE07_227062_20130715</span></li><li><span class='ee-k'>version:</span><span class='ee-v'>1715369200254588</span></li><li><label class='ee-shut'>bands: List (7 elements)<input type='checkbox' class='ee-toggle'></label><ul><li><label class='ee-shut'>0: \"QA_PIXEL\", unsigned int16, EPSG:32721, 3865x1186 px<input type='checkbox' class='ee-toggle'></label><ul><li><span class='ee-k'>id:</span><span class='ee-v'>QA_PIXEL</span></li><li><span class='ee-k'>crs:</span><span class='ee-v'>EPSG:32721</span></li><li><label class='ee-shut'>crs_transform: [30, 0, 610350, 0, -30, 9780030]<input type='checkbox' class='ee-toggle'></label><ul><li><span class='ee-k'>0:</span><span class='ee-v'>30</span></li><li><span class='ee-k'>1:</span><span class='ee-v'>0</span></li><li><span class='ee-k'>2:</span><span class='ee-v'>610350</span></li><li><span class='ee-k'>3:</span><span class='ee-v'>0</span></li><li><span class='ee-k'>4:</span><span class='ee-v'>-30</span></li><li><span class='ee-k'>5:</span><span class='ee-v'>9780030</span></li></ul></li><li><label class='ee-shut'>data_type: unsigned int16<input type='checkbox' class='ee-toggle'></label><ul><li><span class='ee-k'>type:</span><span class='ee-v'>PixelType</span></li><li><span class='ee-k'>max:</span><span class='ee-v'>65535</span></li><li><span class='ee-k'>min:</span><span class='ee-v'>0</span></li><li><span class='ee-k'>precision:</span><span class='ee-v'>int</span></li></ul></li><li><label class='ee-shut'>dimensions: [3865, 1186]<input type='checkbox' class='ee-toggle'></label><ul><li><span class='ee-k'>0:</span><span class='ee-v'>3865</span></li><li><span class='ee-k'>1:</span><span class='ee-v'>1186</span></li></ul></li></ul></li><li><label class='ee-shut'>1: \"B1\", double, EPSG:32721, 3865x1186 px<input type='checkbox' class='ee-toggle'></label><ul><li><span class='ee-k'>id:</span><span class='ee-v'>B1</span></li><li><span class='ee-k'>crs:</span><span class='ee-v'>EPSG:32721</span></li><li><label class='ee-shut'>crs_transform: [30, 0, 610350, 0, -30, 9780030]<input type='checkbox' class='ee-toggle'></label><ul><li><span class='ee-k'>0:</span><span class='ee-v'>30</span></li><li><span class='ee-k'>1:</span><span class='ee-v'>0</span></li><li><span class='ee-k'>2:</span><span class='ee-v'>610350</span></li><li><span class='ee-k'>3:</span><span class='ee-v'>0</span></li><li><span class='ee-k'>4:</span><span class='ee-v'>-30</span></li><li><span class='ee-k'>5:</span><span class='ee-v'>9780030</span></li></ul></li><li><label class='ee-shut'>data_type: double<input type='checkbox' class='ee-toggle'></label><ul><li><span class='ee-k'>type:</span><span class='ee-v'>PixelType</span></li><li><span class='ee-k'>precision:</span><span class='ee-v'>double</span></li></ul></li><li><label class='ee-shut'>dimensions: [3865, 1186]<input type='checkbox' class='ee-toggle'></label><ul><li><span class='ee-k'>0:</span><span class='ee-v'>3865</span></li><li><span class='ee-k'>1:</span><span class='ee-v'>1186</span></li></ul></li></ul></li><li><label class='ee-shut'>2: \"B2\", double, EPSG:32721, 3865x1186 px<input type='checkbox' class='ee-toggle'></label><ul><li><span class='ee-k'>id:</span><span class='ee-v'>B2</span></li><li><span class='ee-k'>crs:</span><span class='ee-v'>EPSG:32721</span></li><li><label class='ee-shut'>crs_transform: [30, 0, 610350, 0, -30, 9780030]<input type='checkbox' class='ee-toggle'></label><ul><li><span class='ee-k'>0:</span><span class='ee-v'>30</span></li><li><span class='ee-k'>1:</span><span class='ee-v'>0</span></li><li><span class='ee-k'>2:</span><span class='ee-v'>610350</span></li><li><span class='ee-k'>3:</span><span class='ee-v'>0</span></li><li><span class='ee-k'>4:</span><span class='ee-v'>-30</span></li><li><span class='ee-k'>5:</span><span class='ee-v'>9780030</span></li></ul></li><li><label class='ee-shut'>data_type: double<input type='checkbox' class='ee-toggle'></label><ul><li><span class='ee-k'>type:</span><span class='ee-v'>PixelType</span></li><li><span class='ee-k'>precision:</span><span class='ee-v'>double</span></li></ul></li><li><label class='ee-shut'>dimensions: [3865, 1186]<input type='checkbox' class='ee-toggle'></label><ul><li><span class='ee-k'>0:</span><span class='ee-v'>3865</span></li><li><span class='ee-k'>1:</span><span class='ee-v'>1186</span></li></ul></li></ul></li><li><label class='ee-shut'>3: \"B3\", double, EPSG:32721, 3865x1186 px<input type='checkbox' class='ee-toggle'></label><ul><li><span class='ee-k'>id:</span><span class='ee-v'>B3</span></li><li><span class='ee-k'>crs:</span><span class='ee-v'>EPSG:32721</span></li><li><label class='ee-shut'>crs_transform: [30, 0, 610350, 0, -30, 9780030]<input type='checkbox' class='ee-toggle'></label><ul><li><span class='ee-k'>0:</span><span class='ee-v'>30</span></li><li><span class='ee-k'>1:</span><span class='ee-v'>0</span></li><li><span class='ee-k'>2:</span><span class='ee-v'>610350</span></li><li><span class='ee-k'>3:</span><span class='ee-v'>0</span></li><li><span class='ee-k'>4:</span><span class='ee-v'>-30</span></li><li><span class='ee-k'>5:</span><span class='ee-v'>9780030</span></li></ul></li><li><label class='ee-shut'>data_type: double<input type='checkbox' class='ee-toggle'></label><ul><li><span class='ee-k'>type:</span><span class='ee-v'>PixelType</span></li><li><span class='ee-k'>precision:</span><span class='ee-v'>double</span></li></ul></li><li><label class='ee-shut'>dimensions: [3865, 1186]<input type='checkbox' class='ee-toggle'></label><ul><li><span class='ee-k'>0:</span><span class='ee-v'>3865</span></li><li><span class='ee-k'>1:</span><span class='ee-v'>1186</span></li></ul></li></ul></li><li><label class='ee-shut'>4: \"B4\", double, EPSG:32721, 3865x1186 px<input type='checkbox' class='ee-toggle'></label><ul><li><span class='ee-k'>id:</span><span class='ee-v'>B4</span></li><li><span class='ee-k'>crs:</span><span class='ee-v'>EPSG:32721</span></li><li><label class='ee-shut'>crs_transform: [30, 0, 610350, 0, -30, 9780030]<input type='checkbox' class='ee-toggle'></label><ul><li><span class='ee-k'>0:</span><span class='ee-v'>30</span></li><li><span class='ee-k'>1:</span><span class='ee-v'>0</span></li><li><span class='ee-k'>2:</span><span class='ee-v'>610350</span></li><li><span class='ee-k'>3:</span><span class='ee-v'>0</span></li><li><span class='ee-k'>4:</span><span class='ee-v'>-30</span></li><li><span class='ee-k'>5:</span><span class='ee-v'>9780030</span></li></ul></li><li><label class='ee-shut'>data_type: double<input type='checkbox' class='ee-toggle'></label><ul><li><span class='ee-k'>type:</span><span class='ee-v'>PixelType</span></li><li><span class='ee-k'>precision:</span><span class='ee-v'>double</span></li></ul></li><li><label class='ee-shut'>dimensions: [3865, 1186]<input type='checkbox' class='ee-toggle'></label><ul><li><span class='ee-k'>0:</span><span class='ee-v'>3865</span></li><li><span class='ee-k'>1:</span><span class='ee-v'>1186</span></li></ul></li></ul></li><li><label class='ee-shut'>5: \"B5\", double, EPSG:32721, 3865x1186 px<input type='checkbox' class='ee-toggle'></label><ul><li><span class='ee-k'>id:</span><span class='ee-v'>B5</span></li><li><span class='ee-k'>crs:</span><span class='ee-v'>EPSG:32721</span></li><li><label class='ee-shut'>crs_transform: [30, 0, 610350, 0, -30, 9780030]<input type='checkbox' class='ee-toggle'></label><ul><li><span class='ee-k'>0:</span><span class='ee-v'>30</span></li><li><span class='ee-k'>1:</span><span class='ee-v'>0</span></li><li><span class='ee-k'>2:</span><span class='ee-v'>610350</span></li><li><span class='ee-k'>3:</span><span class='ee-v'>0</span></li><li><span class='ee-k'>4:</span><span class='ee-v'>-30</span></li><li><span class='ee-k'>5:</span><span class='ee-v'>9780030</span></li></ul></li><li><label class='ee-shut'>data_type: double<input type='checkbox' class='ee-toggle'></label><ul><li><span class='ee-k'>type:</span><span class='ee-v'>PixelType</span></li><li><span class='ee-k'>precision:</span><span class='ee-v'>double</span></li></ul></li><li><label class='ee-shut'>dimensions: [3865, 1186]<input type='checkbox' class='ee-toggle'></label><ul><li><span class='ee-k'>0:</span><span class='ee-v'>3865</span></li><li><span class='ee-k'>1:</span><span class='ee-v'>1186</span></li></ul></li></ul></li><li><label class='ee-shut'>6: \"B7\", double, EPSG:32721, 3865x1186 px<input type='checkbox' class='ee-toggle'></label><ul><li><span class='ee-k'>id:</span><span class='ee-v'>B7</span></li><li><span class='ee-k'>crs:</span><span class='ee-v'>EPSG:32721</span></li><li><label class='ee-shut'>crs_transform: [30, 0, 610350, 0, -30, 9780030]<input type='checkbox' class='ee-toggle'></label><ul><li><span class='ee-k'>0:</span><span class='ee-v'>30</span></li><li><span class='ee-k'>1:</span><span class='ee-v'>0</span></li><li><span class='ee-k'>2:</span><span class='ee-v'>610350</span></li><li><span class='ee-k'>3:</span><span class='ee-v'>0</span></li><li><span class='ee-k'>4:</span><span class='ee-v'>-30</span></li><li><span class='ee-k'>5:</span><span class='ee-v'>9780030</span></li></ul></li><li><label class='ee-shut'>data_type: double<input type='checkbox' class='ee-toggle'></label><ul><li><span class='ee-k'>type:</span><span class='ee-v'>PixelType</span></li><li><span class='ee-k'>precision:</span><span class='ee-v'>double</span></li></ul></li><li><label class='ee-shut'>dimensions: [3865, 1186]<input type='checkbox' class='ee-toggle'></label><ul><li><span class='ee-k'>0:</span><span class='ee-v'>3865</span></li><li><span class='ee-k'>1:</span><span class='ee-v'>1186</span></li></ul></li></ul></li></ul></li><li><label class='ee-shut'>properties: Object (148 properties)<input type='checkbox' class='ee-toggle'></label><ul><li><span class='ee-k'>AC_aerosol_optical_thickness:</span><span class='ee-v'>0.2</span></li><li><span class='ee-k'>AC_date:</span><span class='ee-v'>2013-07-15</span></li><li><span class='ee-k'>AC_ozone:</span><span class='ee-v'>0.278</span></li><li><span class='ee-k'>AC_version:</span><span class='ee-v'>py6S</span></li><li><span class='ee-k'>AC_water_vapour:</span><span class='ee-v'>4.219999694824219</span></li><li><span class='ee-k'>CLOUD_COVER:</span><span class='ee-v'>13</span></li><li><span class='ee-k'>CLOUD_COVER_LAND:</span><span class='ee-v'>13</span></li><li><span class='ee-k'>COLLECTION_CATEGORY:</span><span class='ee-v'>T1</span></li><li><span class='ee-k'>COLLECTION_NUMBER:</span><span class='ee-v'>2</span></li><li><span class='ee-k'>CORRECTION_BIAS_BAND_1:</span><span class='ee-v'>INTERNAL_CALIBRATION</span></li><li><span class='ee-k'>CORRECTION_BIAS_BAND_2:</span><span class='ee-v'>INTERNAL_CALIBRATION</span></li><li><span class='ee-k'>CORRECTION_BIAS_BAND_3:</span><span class='ee-v'>INTERNAL_CALIBRATION</span></li><li><span class='ee-k'>CORRECTION_BIAS_BAND_4:</span><span class='ee-v'>INTERNAL_CALIBRATION</span></li><li><span class='ee-k'>CORRECTION_BIAS_BAND_5:</span><span class='ee-v'>INTERNAL_CALIBRATION</span></li><li><span class='ee-k'>CORRECTION_BIAS_BAND_6_VCID_1:</span><span class='ee-v'>INTERNAL_CALIBRATION</span></li><li><span class='ee-k'>CORRECTION_BIAS_BAND_6_VCID_2:</span><span class='ee-v'>INTERNAL_CALIBRATION</span></li><li><span class='ee-k'>CORRECTION_BIAS_BAND_7:</span><span class='ee-v'>INTERNAL_CALIBRATION</span></li><li><span class='ee-k'>CORRECTION_BIAS_BAND_8:</span><span class='ee-v'>INTERNAL_CALIBRATION</span></li><li><span class='ee-k'>CORRECTION_GAIN_BAND_1:</span><span class='ee-v'>CPF</span></li><li><span class='ee-k'>CORRECTION_GAIN_BAND_2:</span><span class='ee-v'>CPF</span></li><li><span class='ee-k'>CORRECTION_GAIN_BAND_3:</span><span class='ee-v'>CPF</span></li><li><span class='ee-k'>CORRECTION_GAIN_BAND_4:</span><span class='ee-v'>CPF</span></li><li><span class='ee-k'>CORRECTION_GAIN_BAND_5:</span><span class='ee-v'>CPF</span></li><li><span class='ee-k'>CORRECTION_GAIN_BAND_6_VCID_1:</span><span class='ee-v'>CPF</span></li><li><span class='ee-k'>CORRECTION_GAIN_BAND_6_VCID_2:</span><span class='ee-v'>CPF</span></li><li><span class='ee-k'>CORRECTION_GAIN_BAND_7:</span><span class='ee-v'>CPF</span></li><li><span class='ee-k'>CORRECTION_GAIN_BAND_8:</span><span class='ee-v'>CPF</span></li><li><span class='ee-k'>DATA_SOURCE_ELEVATION:</span><span class='ee-v'>GLS2000</span></li><li><span class='ee-k'>DATE_ACQUIRED:</span><span class='ee-v'>2013-07-15</span></li><li><span class='ee-k'>DATE_PRODUCT_GENERATED:</span><span class='ee-v'>1599493295000</span></li><li><span class='ee-k'>DATUM:</span><span class='ee-v'>WGS84</span></li><li><span class='ee-k'>EARTH_SUN_DISTANCE:</span><span class='ee-v'>1.0164391</span></li><li><span class='ee-k'>ELLIPSOID:</span><span class='ee-v'>WGS84</span></li><li><span class='ee-k'>EPHEMERIS_TYPE:</span><span class='ee-v'>DEFINITIVE</span></li><li><span class='ee-k'>GAIN_BAND_1:</span><span class='ee-v'>H</span></li><li><span class='ee-k'>GAIN_BAND_2:</span><span class='ee-v'>H</span></li><li><span class='ee-k'>GAIN_BAND_3:</span><span class='ee-v'>H</span></li><li><span class='ee-k'>GAIN_BAND_4:</span><span class='ee-v'>L</span></li><li><span class='ee-k'>GAIN_BAND_5:</span><span class='ee-v'>H</span></li><li><span class='ee-k'>GAIN_BAND_6_VCID_1:</span><span class='ee-v'>L</span></li><li><span class='ee-k'>GAIN_BAND_6_VCID_2:</span><span class='ee-v'>H</span></li><li><span class='ee-k'>GAIN_BAND_7:</span><span class='ee-v'>H</span></li><li><span class='ee-k'>GAIN_BAND_8:</span><span class='ee-v'>L</span></li><li><span class='ee-k'>GAIN_CHANGE_BAND_1:</span><span class='ee-v'>HH</span></li><li><span class='ee-k'>GAIN_CHANGE_BAND_2:</span><span class='ee-v'>HH</span></li><li><span class='ee-k'>GAIN_CHANGE_BAND_3:</span><span class='ee-v'>HH</span></li><li><span class='ee-k'>GAIN_CHANGE_BAND_4:</span><span class='ee-v'>LL</span></li><li><span class='ee-k'>GAIN_CHANGE_BAND_5:</span><span class='ee-v'>HH</span></li><li><span class='ee-k'>GAIN_CHANGE_BAND_6_VCID_1:</span><span class='ee-v'>LL</span></li><li><span class='ee-k'>GAIN_CHANGE_BAND_6_VCID_2:</span><span class='ee-v'>HH</span></li><li><span class='ee-k'>GAIN_CHANGE_BAND_7:</span><span class='ee-v'>HH</span></li><li><span class='ee-k'>GAIN_CHANGE_BAND_8:</span><span class='ee-v'>LL</span></li><li><span class='ee-k'>GAIN_CHANGE_SCAN_BAND_1:</span><span class='ee-v'>0</span></li><li><span class='ee-k'>GAIN_CHANGE_SCAN_BAND_2:</span><span class='ee-v'>0</span></li><li><span class='ee-k'>GAIN_CHANGE_SCAN_BAND_3:</span><span class='ee-v'>0</span></li><li><span class='ee-k'>GAIN_CHANGE_SCAN_BAND_4:</span><span class='ee-v'>0</span></li><li><span class='ee-k'>GAIN_CHANGE_SCAN_BAND_5:</span><span class='ee-v'>0</span></li><li><span class='ee-k'>GAIN_CHANGE_SCAN_BAND_6_VCID_1:</span><span class='ee-v'>0</span></li><li><span class='ee-k'>GAIN_CHANGE_SCAN_BAND_6_VCID_2:</span><span class='ee-v'>0</span></li><li><span class='ee-k'>GAIN_CHANGE_SCAN_BAND_7:</span><span class='ee-v'>0</span></li><li><span class='ee-k'>GAIN_CHANGE_SCAN_BAND_8:</span><span class='ee-v'>0</span></li><li><span class='ee-k'>GEOMETRIC_RMSE_MODEL:</span><span class='ee-v'>4.35</span></li><li><span class='ee-k'>GEOMETRIC_RMSE_MODEL_X:</span><span class='ee-v'>3.112</span></li><li><span class='ee-k'>GEOMETRIC_RMSE_MODEL_Y:</span><span class='ee-v'>3.039</span></li><li><span class='ee-k'>GRID_CELL_SIZE_PANCHROMATIC:</span><span class='ee-v'>15</span></li><li><span class='ee-k'>GRID_CELL_SIZE_REFLECTIVE:</span><span class='ee-v'>30</span></li><li><span class='ee-k'>GRID_CELL_SIZE_THERMAL:</span><span class='ee-v'>30</span></li><li><span class='ee-k'>GROUND_CONTROL_POINTS_MODEL:</span><span class='ee-v'>475</span></li><li><span class='ee-k'>GROUND_CONTROL_POINTS_VERSION:</span><span class='ee-v'>5</span></li><li><span class='ee-k'>IMAGE_QUALITY:</span><span class='ee-v'>9</span></li><li><span class='ee-k'>K1_CONSTANT_BAND_6_VCID_1:</span><span class='ee-v'>666.09</span></li><li><span class='ee-k'>K1_CONSTANT_BAND_6_VCID_2:</span><span class='ee-v'>666.09</span></li><li><span class='ee-k'>K2_CONSTANT_BAND_6_VCID_1:</span><span class='ee-v'>1282.71</span></li><li><span class='ee-k'>K2_CONSTANT_BAND_6_VCID_2:</span><span class='ee-v'>1282.71</span></li><li><span class='ee-k'>LANDSAT_PRODUCT_ID:</span><span class='ee-v'>LE07_L1TP_227062_20130715_20200907_02_T1</span></li><li><span class='ee-k'>LANDSAT_SCENE_ID:</span><span class='ee-v'>LE72270622013196CUB00</span></li><li><span class='ee-k'>MAP_PROJECTION:</span><span class='ee-v'>UTM</span></li><li><span class='ee-k'>ORIENTATION:</span><span class='ee-v'>NORTH_UP</span></li><li><span class='ee-k'>PANCHROMATIC_LINES:</span><span class='ee-v'>13941</span></li><li><span class='ee-k'>PANCHROMATIC_SAMPLES:</span><span class='ee-v'>16081</span></li><li><span class='ee-k'>PROCESSING_LEVEL:</span><span class='ee-v'>L1TP</span></li><li><span class='ee-k'>PROCESSING_SOFTWARE_VERSION:</span><span class='ee-v'>LPGS_15.3.1c</span></li><li><span class='ee-k'>RADIANCE_ADD_BAND_1:</span><span class='ee-v'>-6.97874</span></li><li><span class='ee-k'>RADIANCE_ADD_BAND_2:</span><span class='ee-v'>-7.19882</span></li><li><span class='ee-k'>RADIANCE_ADD_BAND_3:</span><span class='ee-v'>-5.62165</span></li><li><span class='ee-k'>RADIANCE_ADD_BAND_4:</span><span class='ee-v'>-6.06929</span></li><li><span class='ee-k'>RADIANCE_ADD_BAND_5:</span><span class='ee-v'>-1.12622</span></li><li><span class='ee-k'>RADIANCE_ADD_BAND_6_VCID_1:</span><span class='ee-v'>-0.06709</span></li><li><span class='ee-k'>RADIANCE_ADD_BAND_6_VCID_2:</span><span class='ee-v'>3.1628</span></li><li><span class='ee-k'>RADIANCE_ADD_BAND_7:</span><span class='ee-v'>-0.3939</span></li><li><span class='ee-k'>RADIANCE_ADD_BAND_8:</span><span class='ee-v'>-5.67559</span></li><li><span class='ee-k'>RADIANCE_MULT_BAND_1:</span><span class='ee-v'>0.77874</span></li><li><span class='ee-k'>RADIANCE_MULT_BAND_2:</span><span class='ee-v'>0.79882</span></li><li><span class='ee-k'>RADIANCE_MULT_BAND_3:</span><span class='ee-v'>0.62165</span></li><li><span class='ee-k'>RADIANCE_MULT_BAND_4:</span><span class='ee-v'>0.96929</span></li><li><span class='ee-k'>RADIANCE_MULT_BAND_5:</span><span class='ee-v'>0.12622</span></li><li><span class='ee-k'>RADIANCE_MULT_BAND_6_VCID_1:</span><span class='ee-v'>0.067087</span></li><li><span class='ee-k'>RADIANCE_MULT_BAND_6_VCID_2:</span><span class='ee-v'>0.037205</span></li><li><span class='ee-k'>RADIANCE_MULT_BAND_7:</span><span class='ee-v'>0.043898</span></li><li><span class='ee-k'>RADIANCE_MULT_BAND_8:</span><span class='ee-v'>0.97559</span></li><li><span class='ee-k'>REFLECTANCE_ADD_BAND_1:</span><span class='ee-v'>-0.011125</span></li><li><span class='ee-k'>REFLECTANCE_ADD_BAND_2:</span><span class='ee-v'>-0.012589</span></li><li><span class='ee-k'>REFLECTANCE_ADD_BAND_3:</span><span class='ee-v'>-0.011965</span></li><li><span class='ee-k'>REFLECTANCE_ADD_BAND_4:</span><span class='ee-v'>-0.018393</span></li><li><span class='ee-k'>REFLECTANCE_ADD_BAND_5:</span><span class='ee-v'>-0.016496</span></li><li><span class='ee-k'>REFLECTANCE_ADD_BAND_7:</span><span class='ee-v'>-0.015714</span></li><li><span class='ee-k'>REFLECTANCE_ADD_BAND_8:</span><span class='ee-v'>-0.013966</span></li><li><span class='ee-k'>REFLECTANCE_MULT_BAND_1:</span><span class='ee-v'>0.0012414</span></li><li><span class='ee-k'>REFLECTANCE_MULT_BAND_2:</span><span class='ee-v'>0.001397</span></li><li><span class='ee-k'>REFLECTANCE_MULT_BAND_3:</span><span class='ee-v'>0.0013231</span></li><li><span class='ee-k'>REFLECTANCE_MULT_BAND_4:</span><span class='ee-v'>0.0029375</span></li><li><span class='ee-k'>REFLECTANCE_MULT_BAND_5:</span><span class='ee-v'>0.0018487</span></li><li><span class='ee-k'>REFLECTANCE_MULT_BAND_7:</span><span class='ee-v'>0.0017512</span></li><li><span class='ee-k'>REFLECTANCE_MULT_BAND_8:</span><span class='ee-v'>0.0024007</span></li><li><span class='ee-k'>REFLECTIVE_LINES:</span><span class='ee-v'>6971</span></li><li><span class='ee-k'>REFLECTIVE_SAMPLES:</span><span class='ee-v'>8041</span></li><li><span class='ee-k'>REQUEST_ID:</span><span class='ee-v'>L2</span></li><li><span class='ee-k'>RESAMPLING_OPTION:</span><span class='ee-v'>CUBIC_CONVOLUTION</span></li><li><span class='ee-k'>SATURATION_BAND_1:</span><span class='ee-v'>Y</span></li><li><span class='ee-k'>SATURATION_BAND_2:</span><span class='ee-v'>Y</span></li><li><span class='ee-k'>SATURATION_BAND_3:</span><span class='ee-v'>Y</span></li><li><span class='ee-k'>SATURATION_BAND_4:</span><span class='ee-v'>Y</span></li><li><span class='ee-k'>SATURATION_BAND_5:</span><span class='ee-v'>Y</span></li><li><span class='ee-k'>SATURATION_BAND_6_VCID_1:</span><span class='ee-v'>N</span></li><li><span class='ee-k'>SATURATION_BAND_6_VCID_2:</span><span class='ee-v'>N</span></li><li><span class='ee-k'>SATURATION_BAND_7:</span><span class='ee-v'>Y</span></li><li><span class='ee-k'>SATURATION_BAND_8:</span><span class='ee-v'>N</span></li><li><span class='ee-k'>SCAN_GAP_INTERPOLATION:</span><span class='ee-v'>2</span></li><li><span class='ee-k'>SCENE_CENTER_TIME:</span><span class='ee-v'>13:43:35.9717227Z</span></li><li><span class='ee-k'>SENSOR_ANOMALIES:</span><span class='ee-v'>NONE</span></li><li><span class='ee-k'>SENSOR_ID:</span><span class='ee-v'>ETM</span></li><li><span class='ee-k'>SENSOR_MODE:</span><span class='ee-v'>BUMPER</span></li><li><span class='ee-k'>SENSOR_MODE_SLC:</span><span class='ee-v'>OFF</span></li><li><span class='ee-k'>SPACECRAFT_ID:</span><span class='ee-v'>LANDSAT_7</span></li><li><span class='ee-k'>STATION_ID:</span><span class='ee-v'>CUB</span></li><li><span class='ee-k'>SUN_AZIMUTH:</span><span class='ee-v'>48.89415327</span></li><li><span class='ee-k'>SUN_ELEVATION:</span><span class='ee-v'>51.88982155</span></li><li><span class='ee-k'>THERMAL_LINES:</span><span class='ee-v'>6971</span></li><li><span class='ee-k'>THERMAL_SAMPLES:</span><span class='ee-v'>8041</span></li><li><span class='ee-k'>UTM_ZONE:</span><span class='ee-v'>21</span></li><li><span class='ee-k'>WRS_PATH:</span><span class='ee-v'>227</span></li><li><span class='ee-k'>WRS_ROW:</span><span class='ee-v'>62</span></li><li><span class='ee-k'>WRS_TYPE:</span><span class='ee-v'>2</span></li><li><span class='ee-k'>system:asset_size:</span><span class='ee-v'>10207880</span></li><li><label class='ee-shut'>system:footprint: LinearRing (19 vertices)<input type='checkbox' class='ee-toggle'></label><ul><li><span class='ee-k'>type:</span><span class='ee-v'>LinearRing</span></li><li><label class='ee-shut'>coordinates: List (19 elements)<input type='checkbox' class='ee-toggle'></label><ul><li><label class='ee-shut'>0: [-56.00790099168393, -1.9899313951966122]<input type='checkbox' class='ee-toggle'></label><ul><li><span class='ee-k'>0:</span><span class='ee-v'>-56.00790099168393</span></li><li><span class='ee-k'>1:</span><span class='ee-v'>-1.9899313951966122</span></li></ul></li><li><label class='ee-shut'>1: [-56.00790303255488, -1.9899651372103422]<input type='checkbox' class='ee-toggle'></label><ul><li><span class='ee-k'>0:</span><span class='ee-v'>-56.00790303255488</span></li><li><span class='ee-k'>1:</span><span class='ee-v'>-1.9899651372103422</span></li></ul></li><li><label class='ee-shut'>2: [-56.007695289133245, -2.311543999976785]<input type='checkbox' class='ee-toggle'></label><ul><li><span class='ee-k'>0:</span><span class='ee-v'>-56.007695289133245</span></li><li><span class='ee-k'>1:</span><span class='ee-v'>-2.311543999976785</span></li></ul></li><li><label class='ee-shut'>3: [-56.00758542256164, -2.311668371300401]<input type='checkbox' class='ee-toggle'></label><ul><li><span class='ee-k'>0:</span><span class='ee-v'>-56.00758542256164</span></li><li><span class='ee-k'>1:</span><span class='ee-v'>-2.311668371300401</span></li></ul></li><li><label class='ee-shut'>4: [-56.007491968050864, -2.311805420122597]<input type='checkbox' class='ee-toggle'></label><ul><li><span class='ee-k'>0:</span><span class='ee-v'>-56.007491968050864</span></li><li><span class='ee-k'>1:</span><span class='ee-v'>-2.311805420122597</span></li></ul></li><li><label class='ee-shut'>5: [-56.007458719016846, -2.311811703970227]<input type='checkbox' class='ee-toggle'></label><ul><li><span class='ee-k'>0:</span><span class='ee-v'>-56.007458719016846</span></li><li><span class='ee-k'>1:</span><span class='ee-v'>-2.311811703970227</span></li></ul></li><li><label class='ee-shut'>6: [-56.00742495977984, -2.311813812762818]<input type='checkbox' class='ee-toggle'></label><ul><li><span class='ee-k'>0:</span><span class='ee-v'>-56.00742495977984</span></li><li><span class='ee-k'>1:</span><span class='ee-v'>-2.311813812762818</span></li></ul></li><li><label class='ee-shut'>7: [-54.96521940588846, -2.3106966854844777]<input type='checkbox' class='ee-toggle'></label><ul><li><span class='ee-k'>0:</span><span class='ee-v'>-54.96521940588846</span></li><li><span class='ee-k'>1:</span><span class='ee-v'>-2.3106966854844777</span></li></ul></li><li><label class='ee-shut'>8: [-54.965095041218675, -2.3105868055625747]<input type='checkbox' class='ee-toggle'></label><ul><li><span class='ee-k'>0:</span><span class='ee-v'>-54.965095041218675</span></li><li><span class='ee-k'>1:</span><span class='ee-v'>-2.3105868055625747</span></li></ul></li><li><label class='ee-shut'>9: [-54.9649579041744, -2.310493389784539]<input type='checkbox' class='ee-toggle'></label><ul><li><span class='ee-k'>0:</span><span class='ee-v'>-54.9649579041744</span></li><li><span class='ee-k'>1:</span><span class='ee-v'>-2.310493389784539</span></li></ul></li><li><label class='ee-shut'>10: [-54.96494958520648, -2.3104489756132134]<input type='checkbox' class='ee-toggle'></label><ul><li><span class='ee-k'>0:</span><span class='ee-v'>-54.96494958520648</span></li><li><span class='ee-k'>1:</span><span class='ee-v'>-2.3104489756132134</span></li></ul></li><li><label class='ee-shut'>11: [-54.96537536616671, -1.9890030781522787]<input type='checkbox' class='ee-toggle'></label><ul><li><span class='ee-k'>0:</span><span class='ee-v'>-54.96537536616671</span></li><li><span class='ee-k'>1:</span><span class='ee-v'>-1.9890030781522787</span></li></ul></li><li><label class='ee-shut'>12: [-54.96548536203257, -1.9888788013913736]<input type='checkbox' class='ee-toggle'></label><ul><li><span class='ee-k'>0:</span><span class='ee-v'>-54.96548536203257</span></li><li><span class='ee-k'>1:</span><span class='ee-v'>-1.9888788013913736</span></li></ul></li><li><label class='ee-shut'>13: [-54.96557880401176, -1.9887418286222167]<input type='checkbox' class='ee-toggle'></label><ul><li><span class='ee-k'>0:</span><span class='ee-v'>-54.96557880401176</span></li><li><span class='ee-k'>1:</span><span class='ee-v'>-1.9887418286222167</span></li></ul></li><li><label class='ee-shut'>14: [-54.96562325621276, -1.9887333958904014]<input type='checkbox' class='ee-toggle'></label><ul><li><span class='ee-k'>0:</span><span class='ee-v'>-54.96562325621276</span></li><li><span class='ee-k'>1:</span><span class='ee-v'>-1.9887333958904014</span></li></ul></li><li><label class='ee-shut'>15: [-56.0076331277673, -1.9896950199386851]<input type='checkbox' class='ee-toggle'></label><ul><li><span class='ee-k'>0:</span><span class='ee-v'>-56.0076331277673</span></li><li><span class='ee-k'>1:</span><span class='ee-v'>-1.9896950199386851</span></li></ul></li><li><label class='ee-shut'>16: [-56.00775753557763, -1.9898048265148425]<input type='checkbox' class='ee-toggle'></label><ul><li><span class='ee-k'>0:</span><span class='ee-v'>-56.00775753557763</span></li><li><span class='ee-k'>1:</span><span class='ee-v'>-1.9898048265148425</span></li></ul></li><li><label class='ee-shut'>17: [-56.00789469899878, -1.9898981788466987]<input type='checkbox' class='ee-toggle'></label><ul><li><span class='ee-k'>0:</span><span class='ee-v'>-56.00789469899878</span></li><li><span class='ee-k'>1:</span><span class='ee-v'>-1.9898981788466987</span></li></ul></li><li><label class='ee-shut'>18: [-56.00790099168393, -1.9899313951966122]<input type='checkbox' class='ee-toggle'></label><ul><li><span class='ee-k'>0:</span><span class='ee-v'>-56.00790099168393</span></li><li><span class='ee-k'>1:</span><span class='ee-v'>-1.9899313951966122</span></li></ul></li></ul></li></ul></li><li><span class='ee-k'>system:index:</span><span class='ee-v'>BOA_LE07_227062_20130715</span></li><li><span class='ee-k'>system:time_end:</span><span class='ee-v'>1373895815971</span></li><li><span class='ee-k'>system:time_start:</span><span class='ee-v'>1373895815971</span></li></ul></li></ul></li><li><label class='ee-shut'>2: Image projects/ee-curuai/assets/Py6S/LD7/ld7_py6s/BOA_LE07_227062_20130731 (7 bands)<input type='checkbox' class='ee-toggle'></label><ul><li><span class='ee-k'>type:</span><span class='ee-v'>Image</span></li><li><span class='ee-k'>id:</span><span class='ee-v'>projects/ee-curuai/assets/Py6S/LD7/ld7_py6s/BOA_LE07_227062_20130731</span></li><li><span class='ee-k'>version:</span><span class='ee-v'>1715369195906949</span></li><li><label class='ee-shut'>bands: List (7 elements)<input type='checkbox' class='ee-toggle'></label><ul><li><label class='ee-shut'>0: \"QA_PIXEL\", unsigned int16, EPSG:32721, 3865x1186 px<input type='checkbox' class='ee-toggle'></label><ul><li><span class='ee-k'>id:</span><span class='ee-v'>QA_PIXEL</span></li><li><span class='ee-k'>crs:</span><span class='ee-v'>EPSG:32721</span></li><li><label class='ee-shut'>crs_transform: [30, 0, 610350, 0, -30, 9780030]<input type='checkbox' class='ee-toggle'></label><ul><li><span class='ee-k'>0:</span><span class='ee-v'>30</span></li><li><span class='ee-k'>1:</span><span class='ee-v'>0</span></li><li><span class='ee-k'>2:</span><span class='ee-v'>610350</span></li><li><span class='ee-k'>3:</span><span class='ee-v'>0</span></li><li><span class='ee-k'>4:</span><span class='ee-v'>-30</span></li><li><span class='ee-k'>5:</span><span class='ee-v'>9780030</span></li></ul></li><li><label class='ee-shut'>data_type: unsigned int16<input type='checkbox' class='ee-toggle'></label><ul><li><span class='ee-k'>type:</span><span class='ee-v'>PixelType</span></li><li><span class='ee-k'>max:</span><span class='ee-v'>65535</span></li><li><span class='ee-k'>min:</span><span class='ee-v'>0</span></li><li><span class='ee-k'>precision:</span><span class='ee-v'>int</span></li></ul></li><li><label class='ee-shut'>dimensions: [3865, 1186]<input type='checkbox' class='ee-toggle'></label><ul><li><span class='ee-k'>0:</span><span class='ee-v'>3865</span></li><li><span class='ee-k'>1:</span><span class='ee-v'>1186</span></li></ul></li></ul></li><li><label class='ee-shut'>1: \"B1\", double, EPSG:32721, 3865x1186 px<input type='checkbox' class='ee-toggle'></label><ul><li><span class='ee-k'>id:</span><span class='ee-v'>B1</span></li><li><span class='ee-k'>crs:</span><span class='ee-v'>EPSG:32721</span></li><li><label class='ee-shut'>crs_transform: [30, 0, 610350, 0, -30, 9780030]<input type='checkbox' class='ee-toggle'></label><ul><li><span class='ee-k'>0:</span><span class='ee-v'>30</span></li><li><span class='ee-k'>1:</span><span class='ee-v'>0</span></li><li><span class='ee-k'>2:</span><span class='ee-v'>610350</span></li><li><span class='ee-k'>3:</span><span class='ee-v'>0</span></li><li><span class='ee-k'>4:</span><span class='ee-v'>-30</span></li><li><span class='ee-k'>5:</span><span class='ee-v'>9780030</span></li></ul></li><li><label class='ee-shut'>data_type: double<input type='checkbox' class='ee-toggle'></label><ul><li><span class='ee-k'>type:</span><span class='ee-v'>PixelType</span></li><li><span class='ee-k'>precision:</span><span class='ee-v'>double</span></li></ul></li><li><label class='ee-shut'>dimensions: [3865, 1186]<input type='checkbox' class='ee-toggle'></label><ul><li><span class='ee-k'>0:</span><span class='ee-v'>3865</span></li><li><span class='ee-k'>1:</span><span class='ee-v'>1186</span></li></ul></li></ul></li><li><label class='ee-shut'>2: \"B2\", double, EPSG:32721, 3865x1186 px<input type='checkbox' class='ee-toggle'></label><ul><li><span class='ee-k'>id:</span><span class='ee-v'>B2</span></li><li><span class='ee-k'>crs:</span><span class='ee-v'>EPSG:32721</span></li><li><label class='ee-shut'>crs_transform: [30, 0, 610350, 0, -30, 9780030]<input type='checkbox' class='ee-toggle'></label><ul><li><span class='ee-k'>0:</span><span class='ee-v'>30</span></li><li><span class='ee-k'>1:</span><span class='ee-v'>0</span></li><li><span class='ee-k'>2:</span><span class='ee-v'>610350</span></li><li><span class='ee-k'>3:</span><span class='ee-v'>0</span></li><li><span class='ee-k'>4:</span><span class='ee-v'>-30</span></li><li><span class='ee-k'>5:</span><span class='ee-v'>9780030</span></li></ul></li><li><label class='ee-shut'>data_type: double<input type='checkbox' class='ee-toggle'></label><ul><li><span class='ee-k'>type:</span><span class='ee-v'>PixelType</span></li><li><span class='ee-k'>precision:</span><span class='ee-v'>double</span></li></ul></li><li><label class='ee-shut'>dimensions: [3865, 1186]<input type='checkbox' class='ee-toggle'></label><ul><li><span class='ee-k'>0:</span><span class='ee-v'>3865</span></li><li><span class='ee-k'>1:</span><span class='ee-v'>1186</span></li></ul></li></ul></li><li><label class='ee-shut'>3: \"B3\", double, EPSG:32721, 3865x1186 px<input type='checkbox' class='ee-toggle'></label><ul><li><span class='ee-k'>id:</span><span class='ee-v'>B3</span></li><li><span class='ee-k'>crs:</span><span class='ee-v'>EPSG:32721</span></li><li><label class='ee-shut'>crs_transform: [30, 0, 610350, 0, -30, 9780030]<input type='checkbox' class='ee-toggle'></label><ul><li><span class='ee-k'>0:</span><span class='ee-v'>30</span></li><li><span class='ee-k'>1:</span><span class='ee-v'>0</span></li><li><span class='ee-k'>2:</span><span class='ee-v'>610350</span></li><li><span class='ee-k'>3:</span><span class='ee-v'>0</span></li><li><span class='ee-k'>4:</span><span class='ee-v'>-30</span></li><li><span class='ee-k'>5:</span><span class='ee-v'>9780030</span></li></ul></li><li><label class='ee-shut'>data_type: double<input type='checkbox' class='ee-toggle'></label><ul><li><span class='ee-k'>type:</span><span class='ee-v'>PixelType</span></li><li><span class='ee-k'>precision:</span><span class='ee-v'>double</span></li></ul></li><li><label class='ee-shut'>dimensions: [3865, 1186]<input type='checkbox' class='ee-toggle'></label><ul><li><span class='ee-k'>0:</span><span class='ee-v'>3865</span></li><li><span class='ee-k'>1:</span><span class='ee-v'>1186</span></li></ul></li></ul></li><li><label class='ee-shut'>4: \"B4\", double, EPSG:32721, 3865x1186 px<input type='checkbox' class='ee-toggle'></label><ul><li><span class='ee-k'>id:</span><span class='ee-v'>B4</span></li><li><span class='ee-k'>crs:</span><span class='ee-v'>EPSG:32721</span></li><li><label class='ee-shut'>crs_transform: [30, 0, 610350, 0, -30, 9780030]<input type='checkbox' class='ee-toggle'></label><ul><li><span class='ee-k'>0:</span><span class='ee-v'>30</span></li><li><span class='ee-k'>1:</span><span class='ee-v'>0</span></li><li><span class='ee-k'>2:</span><span class='ee-v'>610350</span></li><li><span class='ee-k'>3:</span><span class='ee-v'>0</span></li><li><span class='ee-k'>4:</span><span class='ee-v'>-30</span></li><li><span class='ee-k'>5:</span><span class='ee-v'>9780030</span></li></ul></li><li><label class='ee-shut'>data_type: double<input type='checkbox' class='ee-toggle'></label><ul><li><span class='ee-k'>type:</span><span class='ee-v'>PixelType</span></li><li><span class='ee-k'>precision:</span><span class='ee-v'>double</span></li></ul></li><li><label class='ee-shut'>dimensions: [3865, 1186]<input type='checkbox' class='ee-toggle'></label><ul><li><span class='ee-k'>0:</span><span class='ee-v'>3865</span></li><li><span class='ee-k'>1:</span><span class='ee-v'>1186</span></li></ul></li></ul></li><li><label class='ee-shut'>5: \"B5\", double, EPSG:32721, 3865x1186 px<input type='checkbox' class='ee-toggle'></label><ul><li><span class='ee-k'>id:</span><span class='ee-v'>B5</span></li><li><span class='ee-k'>crs:</span><span class='ee-v'>EPSG:32721</span></li><li><label class='ee-shut'>crs_transform: [30, 0, 610350, 0, -30, 9780030]<input type='checkbox' class='ee-toggle'></label><ul><li><span class='ee-k'>0:</span><span class='ee-v'>30</span></li><li><span class='ee-k'>1:</span><span class='ee-v'>0</span></li><li><span class='ee-k'>2:</span><span class='ee-v'>610350</span></li><li><span class='ee-k'>3:</span><span class='ee-v'>0</span></li><li><span class='ee-k'>4:</span><span class='ee-v'>-30</span></li><li><span class='ee-k'>5:</span><span class='ee-v'>9780030</span></li></ul></li><li><label class='ee-shut'>data_type: double<input type='checkbox' class='ee-toggle'></label><ul><li><span class='ee-k'>type:</span><span class='ee-v'>PixelType</span></li><li><span class='ee-k'>precision:</span><span class='ee-v'>double</span></li></ul></li><li><label class='ee-shut'>dimensions: [3865, 1186]<input type='checkbox' class='ee-toggle'></label><ul><li><span class='ee-k'>0:</span><span class='ee-v'>3865</span></li><li><span class='ee-k'>1:</span><span class='ee-v'>1186</span></li></ul></li></ul></li><li><label class='ee-shut'>6: \"B7\", double, EPSG:32721, 3865x1186 px<input type='checkbox' class='ee-toggle'></label><ul><li><span class='ee-k'>id:</span><span class='ee-v'>B7</span></li><li><span class='ee-k'>crs:</span><span class='ee-v'>EPSG:32721</span></li><li><label class='ee-shut'>crs_transform: [30, 0, 610350, 0, -30, 9780030]<input type='checkbox' class='ee-toggle'></label><ul><li><span class='ee-k'>0:</span><span class='ee-v'>30</span></li><li><span class='ee-k'>1:</span><span class='ee-v'>0</span></li><li><span class='ee-k'>2:</span><span class='ee-v'>610350</span></li><li><span class='ee-k'>3:</span><span class='ee-v'>0</span></li><li><span class='ee-k'>4:</span><span class='ee-v'>-30</span></li><li><span class='ee-k'>5:</span><span class='ee-v'>9780030</span></li></ul></li><li><label class='ee-shut'>data_type: double<input type='checkbox' class='ee-toggle'></label><ul><li><span class='ee-k'>type:</span><span class='ee-v'>PixelType</span></li><li><span class='ee-k'>precision:</span><span class='ee-v'>double</span></li></ul></li><li><label class='ee-shut'>dimensions: [3865, 1186]<input type='checkbox' class='ee-toggle'></label><ul><li><span class='ee-k'>0:</span><span class='ee-v'>3865</span></li><li><span class='ee-k'>1:</span><span class='ee-v'>1186</span></li></ul></li></ul></li></ul></li><li><label class='ee-shut'>properties: Object (148 properties)<input type='checkbox' class='ee-toggle'></label><ul><li><span class='ee-k'>AC_aerosol_optical_thickness:</span><span class='ee-v'>0.29</span></li><li><span class='ee-k'>AC_date:</span><span class='ee-v'>2013-07-31</span></li><li><span class='ee-k'>AC_ozone:</span><span class='ee-v'>0.28</span></li><li><span class='ee-k'>AC_version:</span><span class='ee-v'>py6S</span></li><li><span class='ee-k'>AC_water_vapour:</span><span class='ee-v'>4.569999694824219</span></li><li><span class='ee-k'>CLOUD_COVER:</span><span class='ee-v'>30</span></li><li><span class='ee-k'>CLOUD_COVER_LAND:</span><span class='ee-v'>30</span></li><li><span class='ee-k'>COLLECTION_CATEGORY:</span><span class='ee-v'>T1</span></li><li><span class='ee-k'>COLLECTION_NUMBER:</span><span class='ee-v'>2</span></li><li><span class='ee-k'>CORRECTION_BIAS_BAND_1:</span><span class='ee-v'>INTERNAL_CALIBRATION</span></li><li><span class='ee-k'>CORRECTION_BIAS_BAND_2:</span><span class='ee-v'>INTERNAL_CALIBRATION</span></li><li><span class='ee-k'>CORRECTION_BIAS_BAND_3:</span><span class='ee-v'>INTERNAL_CALIBRATION</span></li><li><span class='ee-k'>CORRECTION_BIAS_BAND_4:</span><span class='ee-v'>INTERNAL_CALIBRATION</span></li><li><span class='ee-k'>CORRECTION_BIAS_BAND_5:</span><span class='ee-v'>INTERNAL_CALIBRATION</span></li><li><span class='ee-k'>CORRECTION_BIAS_BAND_6_VCID_1:</span><span class='ee-v'>INTERNAL_CALIBRATION</span></li><li><span class='ee-k'>CORRECTION_BIAS_BAND_6_VCID_2:</span><span class='ee-v'>INTERNAL_CALIBRATION</span></li><li><span class='ee-k'>CORRECTION_BIAS_BAND_7:</span><span class='ee-v'>INTERNAL_CALIBRATION</span></li><li><span class='ee-k'>CORRECTION_BIAS_BAND_8:</span><span class='ee-v'>INTERNAL_CALIBRATION</span></li><li><span class='ee-k'>CORRECTION_GAIN_BAND_1:</span><span class='ee-v'>CPF</span></li><li><span class='ee-k'>CORRECTION_GAIN_BAND_2:</span><span class='ee-v'>CPF</span></li><li><span class='ee-k'>CORRECTION_GAIN_BAND_3:</span><span class='ee-v'>CPF</span></li><li><span class='ee-k'>CORRECTION_GAIN_BAND_4:</span><span class='ee-v'>CPF</span></li><li><span class='ee-k'>CORRECTION_GAIN_BAND_5:</span><span class='ee-v'>CPF</span></li><li><span class='ee-k'>CORRECTION_GAIN_BAND_6_VCID_1:</span><span class='ee-v'>CPF</span></li><li><span class='ee-k'>CORRECTION_GAIN_BAND_6_VCID_2:</span><span class='ee-v'>CPF</span></li><li><span class='ee-k'>CORRECTION_GAIN_BAND_7:</span><span class='ee-v'>CPF</span></li><li><span class='ee-k'>CORRECTION_GAIN_BAND_8:</span><span class='ee-v'>CPF</span></li><li><span class='ee-k'>DATA_SOURCE_ELEVATION:</span><span class='ee-v'>GLS2000</span></li><li><span class='ee-k'>DATE_ACQUIRED:</span><span class='ee-v'>2013-07-31</span></li><li><span class='ee-k'>DATE_PRODUCT_GENERATED:</span><span class='ee-v'>1599484037000</span></li><li><span class='ee-k'>DATUM:</span><span class='ee-v'>WGS84</span></li><li><span class='ee-k'>EARTH_SUN_DISTANCE:</span><span class='ee-v'>1.0150474</span></li><li><span class='ee-k'>ELLIPSOID:</span><span class='ee-v'>WGS84</span></li><li><span class='ee-k'>EPHEMERIS_TYPE:</span><span class='ee-v'>DEFINITIVE</span></li><li><span class='ee-k'>GAIN_BAND_1:</span><span class='ee-v'>H</span></li><li><span class='ee-k'>GAIN_BAND_2:</span><span class='ee-v'>H</span></li><li><span class='ee-k'>GAIN_BAND_3:</span><span class='ee-v'>H</span></li><li><span class='ee-k'>GAIN_BAND_4:</span><span class='ee-v'>L</span></li><li><span class='ee-k'>GAIN_BAND_5:</span><span class='ee-v'>H</span></li><li><span class='ee-k'>GAIN_BAND_6_VCID_1:</span><span class='ee-v'>L</span></li><li><span class='ee-k'>GAIN_BAND_6_VCID_2:</span><span class='ee-v'>H</span></li><li><span class='ee-k'>GAIN_BAND_7:</span><span class='ee-v'>H</span></li><li><span class='ee-k'>GAIN_BAND_8:</span><span class='ee-v'>L</span></li><li><span class='ee-k'>GAIN_CHANGE_BAND_1:</span><span class='ee-v'>HH</span></li><li><span class='ee-k'>GAIN_CHANGE_BAND_2:</span><span class='ee-v'>HH</span></li><li><span class='ee-k'>GAIN_CHANGE_BAND_3:</span><span class='ee-v'>HH</span></li><li><span class='ee-k'>GAIN_CHANGE_BAND_4:</span><span class='ee-v'>LL</span></li><li><span class='ee-k'>GAIN_CHANGE_BAND_5:</span><span class='ee-v'>HH</span></li><li><span class='ee-k'>GAIN_CHANGE_BAND_6_VCID_1:</span><span class='ee-v'>LL</span></li><li><span class='ee-k'>GAIN_CHANGE_BAND_6_VCID_2:</span><span class='ee-v'>HH</span></li><li><span class='ee-k'>GAIN_CHANGE_BAND_7:</span><span class='ee-v'>HH</span></li><li><span class='ee-k'>GAIN_CHANGE_BAND_8:</span><span class='ee-v'>LL</span></li><li><span class='ee-k'>GAIN_CHANGE_SCAN_BAND_1:</span><span class='ee-v'>0</span></li><li><span class='ee-k'>GAIN_CHANGE_SCAN_BAND_2:</span><span class='ee-v'>0</span></li><li><span class='ee-k'>GAIN_CHANGE_SCAN_BAND_3:</span><span class='ee-v'>0</span></li><li><span class='ee-k'>GAIN_CHANGE_SCAN_BAND_4:</span><span class='ee-v'>0</span></li><li><span class='ee-k'>GAIN_CHANGE_SCAN_BAND_5:</span><span class='ee-v'>0</span></li><li><span class='ee-k'>GAIN_CHANGE_SCAN_BAND_6_VCID_1:</span><span class='ee-v'>0</span></li><li><span class='ee-k'>GAIN_CHANGE_SCAN_BAND_6_VCID_2:</span><span class='ee-v'>0</span></li><li><span class='ee-k'>GAIN_CHANGE_SCAN_BAND_7:</span><span class='ee-v'>0</span></li><li><span class='ee-k'>GAIN_CHANGE_SCAN_BAND_8:</span><span class='ee-v'>0</span></li><li><span class='ee-k'>GEOMETRIC_RMSE_MODEL:</span><span class='ee-v'>4.64</span></li><li><span class='ee-k'>GEOMETRIC_RMSE_MODEL_X:</span><span class='ee-v'>3.101</span></li><li><span class='ee-k'>GEOMETRIC_RMSE_MODEL_Y:</span><span class='ee-v'>3.452</span></li><li><span class='ee-k'>GRID_CELL_SIZE_PANCHROMATIC:</span><span class='ee-v'>15</span></li><li><span class='ee-k'>GRID_CELL_SIZE_REFLECTIVE:</span><span class='ee-v'>30</span></li><li><span class='ee-k'>GRID_CELL_SIZE_THERMAL:</span><span class='ee-v'>30</span></li><li><span class='ee-k'>GROUND_CONTROL_POINTS_MODEL:</span><span class='ee-v'>258</span></li><li><span class='ee-k'>GROUND_CONTROL_POINTS_VERSION:</span><span class='ee-v'>5</span></li><li><span class='ee-k'>IMAGE_QUALITY:</span><span class='ee-v'>9</span></li><li><span class='ee-k'>K1_CONSTANT_BAND_6_VCID_1:</span><span class='ee-v'>666.09</span></li><li><span class='ee-k'>K1_CONSTANT_BAND_6_VCID_2:</span><span class='ee-v'>666.09</span></li><li><span class='ee-k'>K2_CONSTANT_BAND_6_VCID_1:</span><span class='ee-v'>1282.71</span></li><li><span class='ee-k'>K2_CONSTANT_BAND_6_VCID_2:</span><span class='ee-v'>1282.71</span></li><li><span class='ee-k'>LANDSAT_PRODUCT_ID:</span><span class='ee-v'>LE07_L1TP_227062_20130731_20200907_02_T1</span></li><li><span class='ee-k'>LANDSAT_SCENE_ID:</span><span class='ee-v'>LE72270622013212CUB00</span></li><li><span class='ee-k'>MAP_PROJECTION:</span><span class='ee-v'>UTM</span></li><li><span class='ee-k'>ORIENTATION:</span><span class='ee-v'>NORTH_UP</span></li><li><span class='ee-k'>PANCHROMATIC_LINES:</span><span class='ee-v'>13941</span></li><li><span class='ee-k'>PANCHROMATIC_SAMPLES:</span><span class='ee-v'>16081</span></li><li><span class='ee-k'>PROCESSING_LEVEL:</span><span class='ee-v'>L1TP</span></li><li><span class='ee-k'>PROCESSING_SOFTWARE_VERSION:</span><span class='ee-v'>LPGS_15.3.1c</span></li><li><span class='ee-k'>RADIANCE_ADD_BAND_1:</span><span class='ee-v'>-6.97874</span></li><li><span class='ee-k'>RADIANCE_ADD_BAND_2:</span><span class='ee-v'>-7.19882</span></li><li><span class='ee-k'>RADIANCE_ADD_BAND_3:</span><span class='ee-v'>-5.62165</span></li><li><span class='ee-k'>RADIANCE_ADD_BAND_4:</span><span class='ee-v'>-6.06929</span></li><li><span class='ee-k'>RADIANCE_ADD_BAND_5:</span><span class='ee-v'>-1.12622</span></li><li><span class='ee-k'>RADIANCE_ADD_BAND_6_VCID_1:</span><span class='ee-v'>-0.06709</span></li><li><span class='ee-k'>RADIANCE_ADD_BAND_6_VCID_2:</span><span class='ee-v'>3.1628</span></li><li><span class='ee-k'>RADIANCE_ADD_BAND_7:</span><span class='ee-v'>-0.3939</span></li><li><span class='ee-k'>RADIANCE_ADD_BAND_8:</span><span class='ee-v'>-5.67559</span></li><li><span class='ee-k'>RADIANCE_MULT_BAND_1:</span><span class='ee-v'>0.77874</span></li><li><span class='ee-k'>RADIANCE_MULT_BAND_2:</span><span class='ee-v'>0.79882</span></li><li><span class='ee-k'>RADIANCE_MULT_BAND_3:</span><span class='ee-v'>0.62165</span></li><li><span class='ee-k'>RADIANCE_MULT_BAND_4:</span><span class='ee-v'>0.96929</span></li><li><span class='ee-k'>RADIANCE_MULT_BAND_5:</span><span class='ee-v'>0.12622</span></li><li><span class='ee-k'>RADIANCE_MULT_BAND_6_VCID_1:</span><span class='ee-v'>0.067087</span></li><li><span class='ee-k'>RADIANCE_MULT_BAND_6_VCID_2:</span><span class='ee-v'>0.037205</span></li><li><span class='ee-k'>RADIANCE_MULT_BAND_7:</span><span class='ee-v'>0.043898</span></li><li><span class='ee-k'>RADIANCE_MULT_BAND_8:</span><span class='ee-v'>0.97559</span></li><li><span class='ee-k'>REFLECTANCE_ADD_BAND_1:</span><span class='ee-v'>-0.011095</span></li><li><span class='ee-k'>REFLECTANCE_ADD_BAND_2:</span><span class='ee-v'>-0.012555</span></li><li><span class='ee-k'>REFLECTANCE_ADD_BAND_3:</span><span class='ee-v'>-0.011932</span></li><li><span class='ee-k'>REFLECTANCE_ADD_BAND_4:</span><span class='ee-v'>-0.018343</span></li><li><span class='ee-k'>REFLECTANCE_ADD_BAND_5:</span><span class='ee-v'>-0.01645</span></li><li><span class='ee-k'>REFLECTANCE_ADD_BAND_7:</span><span class='ee-v'>-0.015671</span></li><li><span class='ee-k'>REFLECTANCE_ADD_BAND_8:</span><span class='ee-v'>-0.013928</span></li><li><span class='ee-k'>REFLECTANCE_MULT_BAND_1:</span><span class='ee-v'>0.001238</span></li><li><span class='ee-k'>REFLECTANCE_MULT_BAND_2:</span><span class='ee-v'>0.0013931</span></li><li><span class='ee-k'>REFLECTANCE_MULT_BAND_3:</span><span class='ee-v'>0.0013195</span></li><li><span class='ee-k'>REFLECTANCE_MULT_BAND_4:</span><span class='ee-v'>0.0029295</span></li><li><span class='ee-k'>REFLECTANCE_MULT_BAND_5:</span><span class='ee-v'>0.0018437</span></li><li><span class='ee-k'>REFLECTANCE_MULT_BAND_7:</span><span class='ee-v'>0.0017464</span></li><li><span class='ee-k'>REFLECTANCE_MULT_BAND_8:</span><span class='ee-v'>0.0023941</span></li><li><span class='ee-k'>REFLECTIVE_LINES:</span><span class='ee-v'>6971</span></li><li><span class='ee-k'>REFLECTIVE_SAMPLES:</span><span class='ee-v'>8041</span></li><li><span class='ee-k'>REQUEST_ID:</span><span class='ee-v'>L2</span></li><li><span class='ee-k'>RESAMPLING_OPTION:</span><span class='ee-v'>CUBIC_CONVOLUTION</span></li><li><span class='ee-k'>SATURATION_BAND_1:</span><span class='ee-v'>Y</span></li><li><span class='ee-k'>SATURATION_BAND_2:</span><span class='ee-v'>Y</span></li><li><span class='ee-k'>SATURATION_BAND_3:</span><span class='ee-v'>Y</span></li><li><span class='ee-k'>SATURATION_BAND_4:</span><span class='ee-v'>Y</span></li><li><span class='ee-k'>SATURATION_BAND_5:</span><span class='ee-v'>Y</span></li><li><span class='ee-k'>SATURATION_BAND_6_VCID_1:</span><span class='ee-v'>N</span></li><li><span class='ee-k'>SATURATION_BAND_6_VCID_2:</span><span class='ee-v'>N</span></li><li><span class='ee-k'>SATURATION_BAND_7:</span><span class='ee-v'>Y</span></li><li><span class='ee-k'>SATURATION_BAND_8:</span><span class='ee-v'>N</span></li><li><span class='ee-k'>SCAN_GAP_INTERPOLATION:</span><span class='ee-v'>2</span></li><li><span class='ee-k'>SCENE_CENTER_TIME:</span><span class='ee-v'>13:43:27.9824177Z</span></li><li><span class='ee-k'>SENSOR_ANOMALIES:</span><span class='ee-v'>NONE</span></li><li><span class='ee-k'>SENSOR_ID:</span><span class='ee-v'>ETM</span></li><li><span class='ee-k'>SENSOR_MODE:</span><span class='ee-v'>BUMPER</span></li><li><span class='ee-k'>SENSOR_MODE_SLC:</span><span class='ee-v'>OFF</span></li><li><span class='ee-k'>SPACECRAFT_ID:</span><span class='ee-v'>LANDSAT_7</span></li><li><span class='ee-k'>STATION_ID:</span><span class='ee-v'>CUB</span></li><li><span class='ee-k'>SUN_AZIMUTH:</span><span class='ee-v'>53.51823753</span></li><li><span class='ee-k'>SUN_ELEVATION:</span><span class='ee-v'>53.65109084</span></li><li><span class='ee-k'>THERMAL_LINES:</span><span class='ee-v'>6971</span></li><li><span class='ee-k'>THERMAL_SAMPLES:</span><span class='ee-v'>8041</span></li><li><span class='ee-k'>UTM_ZONE:</span><span class='ee-v'>21</span></li><li><span class='ee-k'>WRS_PATH:</span><span class='ee-v'>227</span></li><li><span class='ee-k'>WRS_ROW:</span><span class='ee-v'>62</span></li><li><span class='ee-k'>WRS_TYPE:</span><span class='ee-v'>2</span></li><li><span class='ee-k'>system:asset_size:</span><span class='ee-v'>11367684</span></li><li><label class='ee-shut'>system:footprint: LinearRing (19 vertices)<input type='checkbox' class='ee-toggle'></label><ul><li><span class='ee-k'>type:</span><span class='ee-v'>LinearRing</span></li><li><label class='ee-shut'>coordinates: List (19 elements)<input type='checkbox' class='ee-toggle'></label><ul><li><label class='ee-shut'>0: [-56.00790099168393, -1.9899313951966122]<input type='checkbox' class='ee-toggle'></label><ul><li><span class='ee-k'>0:</span><span class='ee-v'>-56.00790099168393</span></li><li><span class='ee-k'>1:</span><span class='ee-v'>-1.9899313951966122</span></li></ul></li><li><label class='ee-shut'>1: [-56.00790303255488, -1.9899651372103422]<input type='checkbox' class='ee-toggle'></label><ul><li><span class='ee-k'>0:</span><span class='ee-v'>-56.00790303255488</span></li><li><span class='ee-k'>1:</span><span class='ee-v'>-1.9899651372103422</span></li></ul></li><li><label class='ee-shut'>2: [-56.007695289133245, -2.311543999976785]<input type='checkbox' class='ee-toggle'></label><ul><li><span class='ee-k'>0:</span><span class='ee-v'>-56.007695289133245</span></li><li><span class='ee-k'>1:</span><span class='ee-v'>-2.311543999976785</span></li></ul></li><li><label class='ee-shut'>3: [-56.00758542256164, -2.311668371300401]<input type='checkbox' class='ee-toggle'></label><ul><li><span class='ee-k'>0:</span><span class='ee-v'>-56.00758542256164</span></li><li><span class='ee-k'>1:</span><span class='ee-v'>-2.311668371300401</span></li></ul></li><li><label class='ee-shut'>4: [-56.007491968050864, -2.311805420122597]<input type='checkbox' class='ee-toggle'></label><ul><li><span class='ee-k'>0:</span><span class='ee-v'>-56.007491968050864</span></li><li><span class='ee-k'>1:</span><span class='ee-v'>-2.311805420122597</span></li></ul></li><li><label class='ee-shut'>5: [-56.007458719016846, -2.311811703970227]<input type='checkbox' class='ee-toggle'></label><ul><li><span class='ee-k'>0:</span><span class='ee-v'>-56.007458719016846</span></li><li><span class='ee-k'>1:</span><span class='ee-v'>-2.311811703970227</span></li></ul></li><li><label class='ee-shut'>6: [-56.00742495977984, -2.311813812762818]<input type='checkbox' class='ee-toggle'></label><ul><li><span class='ee-k'>0:</span><span class='ee-v'>-56.00742495977984</span></li><li><span class='ee-k'>1:</span><span class='ee-v'>-2.311813812762818</span></li></ul></li><li><label class='ee-shut'>7: [-54.96521940588846, -2.3106966854844777]<input type='checkbox' class='ee-toggle'></label><ul><li><span class='ee-k'>0:</span><span class='ee-v'>-54.96521940588846</span></li><li><span class='ee-k'>1:</span><span class='ee-v'>-2.3106966854844777</span></li></ul></li><li><label class='ee-shut'>8: [-54.965095041218675, -2.3105868055625747]<input type='checkbox' class='ee-toggle'></label><ul><li><span class='ee-k'>0:</span><span class='ee-v'>-54.965095041218675</span></li><li><span class='ee-k'>1:</span><span class='ee-v'>-2.3105868055625747</span></li></ul></li><li><label class='ee-shut'>9: [-54.9649579041744, -2.310493389784539]<input type='checkbox' class='ee-toggle'></label><ul><li><span class='ee-k'>0:</span><span class='ee-v'>-54.9649579041744</span></li><li><span class='ee-k'>1:</span><span class='ee-v'>-2.310493389784539</span></li></ul></li><li><label class='ee-shut'>10: [-54.96494958520648, -2.3104489756132134]<input type='checkbox' class='ee-toggle'></label><ul><li><span class='ee-k'>0:</span><span class='ee-v'>-54.96494958520648</span></li><li><span class='ee-k'>1:</span><span class='ee-v'>-2.3104489756132134</span></li></ul></li><li><label class='ee-shut'>11: [-54.96537536616671, -1.9890030781522787]<input type='checkbox' class='ee-toggle'></label><ul><li><span class='ee-k'>0:</span><span class='ee-v'>-54.96537536616671</span></li><li><span class='ee-k'>1:</span><span class='ee-v'>-1.9890030781522787</span></li></ul></li><li><label class='ee-shut'>12: [-54.96548536203257, -1.9888788013913736]<input type='checkbox' class='ee-toggle'></label><ul><li><span class='ee-k'>0:</span><span class='ee-v'>-54.96548536203257</span></li><li><span class='ee-k'>1:</span><span class='ee-v'>-1.9888788013913736</span></li></ul></li><li><label class='ee-shut'>13: [-54.96557880401176, -1.9887418286222167]<input type='checkbox' class='ee-toggle'></label><ul><li><span class='ee-k'>0:</span><span class='ee-v'>-54.96557880401176</span></li><li><span class='ee-k'>1:</span><span class='ee-v'>-1.9887418286222167</span></li></ul></li><li><label class='ee-shut'>14: [-54.96562325621276, -1.9887333958904014]<input type='checkbox' class='ee-toggle'></label><ul><li><span class='ee-k'>0:</span><span class='ee-v'>-54.96562325621276</span></li><li><span class='ee-k'>1:</span><span class='ee-v'>-1.9887333958904014</span></li></ul></li><li><label class='ee-shut'>15: [-56.0076331277673, -1.9896950199386851]<input type='checkbox' class='ee-toggle'></label><ul><li><span class='ee-k'>0:</span><span class='ee-v'>-56.0076331277673</span></li><li><span class='ee-k'>1:</span><span class='ee-v'>-1.9896950199386851</span></li></ul></li><li><label class='ee-shut'>16: [-56.00775753557763, -1.9898048265148425]<input type='checkbox' class='ee-toggle'></label><ul><li><span class='ee-k'>0:</span><span class='ee-v'>-56.00775753557763</span></li><li><span class='ee-k'>1:</span><span class='ee-v'>-1.9898048265148425</span></li></ul></li><li><label class='ee-shut'>17: [-56.00789469899878, -1.9898981788466987]<input type='checkbox' class='ee-toggle'></label><ul><li><span class='ee-k'>0:</span><span class='ee-v'>-56.00789469899878</span></li><li><span class='ee-k'>1:</span><span class='ee-v'>-1.9898981788466987</span></li></ul></li><li><label class='ee-shut'>18: [-56.00790099168393, -1.9899313951966122]<input type='checkbox' class='ee-toggle'></label><ul><li><span class='ee-k'>0:</span><span class='ee-v'>-56.00790099168393</span></li><li><span class='ee-k'>1:</span><span class='ee-v'>-1.9899313951966122</span></li></ul></li></ul></li></ul></li><li><span class='ee-k'>system:index:</span><span class='ee-v'>BOA_LE07_227062_20130731</span></li><li><span class='ee-k'>system:time_end:</span><span class='ee-v'>1375278207982</span></li><li><span class='ee-k'>system:time_start:</span><span class='ee-v'>1375278207982</span></li></ul></li></ul></li><li><label class='ee-shut'>3: Image projects/ee-curuai/assets/Py6S/LD7/ld7_py6s/BOA_LE07_227062_20130816 (7 bands)<input type='checkbox' class='ee-toggle'></label><ul><li><span class='ee-k'>type:</span><span class='ee-v'>Image</span></li><li><span class='ee-k'>id:</span><span class='ee-v'>projects/ee-curuai/assets/Py6S/LD7/ld7_py6s/BOA_LE07_227062_20130816</span></li><li><span class='ee-k'>version:</span><span class='ee-v'>1715369194099997</span></li><li><label class='ee-shut'>bands: List (7 elements)<input type='checkbox' class='ee-toggle'></label><ul><li><label class='ee-shut'>0: \"QA_PIXEL\", unsigned int16, EPSG:32721, 3865x1186 px<input type='checkbox' class='ee-toggle'></label><ul><li><span class='ee-k'>id:</span><span class='ee-v'>QA_PIXEL</span></li><li><span class='ee-k'>crs:</span><span class='ee-v'>EPSG:32721</span></li><li><label class='ee-shut'>crs_transform: [30, 0, 610350, 0, -30, 9780030]<input type='checkbox' class='ee-toggle'></label><ul><li><span class='ee-k'>0:</span><span class='ee-v'>30</span></li><li><span class='ee-k'>1:</span><span class='ee-v'>0</span></li><li><span class='ee-k'>2:</span><span class='ee-v'>610350</span></li><li><span class='ee-k'>3:</span><span class='ee-v'>0</span></li><li><span class='ee-k'>4:</span><span class='ee-v'>-30</span></li><li><span class='ee-k'>5:</span><span class='ee-v'>9780030</span></li></ul></li><li><label class='ee-shut'>data_type: unsigned int16<input type='checkbox' class='ee-toggle'></label><ul><li><span class='ee-k'>type:</span><span class='ee-v'>PixelType</span></li><li><span class='ee-k'>max:</span><span class='ee-v'>65535</span></li><li><span class='ee-k'>min:</span><span class='ee-v'>0</span></li><li><span class='ee-k'>precision:</span><span class='ee-v'>int</span></li></ul></li><li><label class='ee-shut'>dimensions: [3865, 1186]<input type='checkbox' class='ee-toggle'></label><ul><li><span class='ee-k'>0:</span><span class='ee-v'>3865</span></li><li><span class='ee-k'>1:</span><span class='ee-v'>1186</span></li></ul></li></ul></li><li><label class='ee-shut'>1: \"B1\", double, EPSG:32721, 3865x1186 px<input type='checkbox' class='ee-toggle'></label><ul><li><span class='ee-k'>id:</span><span class='ee-v'>B1</span></li><li><span class='ee-k'>crs:</span><span class='ee-v'>EPSG:32721</span></li><li><label class='ee-shut'>crs_transform: [30, 0, 610350, 0, -30, 9780030]<input type='checkbox' class='ee-toggle'></label><ul><li><span class='ee-k'>0:</span><span class='ee-v'>30</span></li><li><span class='ee-k'>1:</span><span class='ee-v'>0</span></li><li><span class='ee-k'>2:</span><span class='ee-v'>610350</span></li><li><span class='ee-k'>3:</span><span class='ee-v'>0</span></li><li><span class='ee-k'>4:</span><span class='ee-v'>-30</span></li><li><span class='ee-k'>5:</span><span class='ee-v'>9780030</span></li></ul></li><li><label class='ee-shut'>data_type: double<input type='checkbox' class='ee-toggle'></label><ul><li><span class='ee-k'>type:</span><span class='ee-v'>PixelType</span></li><li><span class='ee-k'>precision:</span><span class='ee-v'>double</span></li></ul></li><li><label class='ee-shut'>dimensions: [3865, 1186]<input type='checkbox' class='ee-toggle'></label><ul><li><span class='ee-k'>0:</span><span class='ee-v'>3865</span></li><li><span class='ee-k'>1:</span><span class='ee-v'>1186</span></li></ul></li></ul></li><li><label class='ee-shut'>2: \"B2\", double, EPSG:32721, 3865x1186 px<input type='checkbox' class='ee-toggle'></label><ul><li><span class='ee-k'>id:</span><span class='ee-v'>B2</span></li><li><span class='ee-k'>crs:</span><span class='ee-v'>EPSG:32721</span></li><li><label class='ee-shut'>crs_transform: [30, 0, 610350, 0, -30, 9780030]<input type='checkbox' class='ee-toggle'></label><ul><li><span class='ee-k'>0:</span><span class='ee-v'>30</span></li><li><span class='ee-k'>1:</span><span class='ee-v'>0</span></li><li><span class='ee-k'>2:</span><span class='ee-v'>610350</span></li><li><span class='ee-k'>3:</span><span class='ee-v'>0</span></li><li><span class='ee-k'>4:</span><span class='ee-v'>-30</span></li><li><span class='ee-k'>5:</span><span class='ee-v'>9780030</span></li></ul></li><li><label class='ee-shut'>data_type: double<input type='checkbox' class='ee-toggle'></label><ul><li><span class='ee-k'>type:</span><span class='ee-v'>PixelType</span></li><li><span class='ee-k'>precision:</span><span class='ee-v'>double</span></li></ul></li><li><label class='ee-shut'>dimensions: [3865, 1186]<input type='checkbox' class='ee-toggle'></label><ul><li><span class='ee-k'>0:</span><span class='ee-v'>3865</span></li><li><span class='ee-k'>1:</span><span class='ee-v'>1186</span></li></ul></li></ul></li><li><label class='ee-shut'>3: \"B3\", double, EPSG:32721, 3865x1186 px<input type='checkbox' class='ee-toggle'></label><ul><li><span class='ee-k'>id:</span><span class='ee-v'>B3</span></li><li><span class='ee-k'>crs:</span><span class='ee-v'>EPSG:32721</span></li><li><label class='ee-shut'>crs_transform: [30, 0, 610350, 0, -30, 9780030]<input type='checkbox' class='ee-toggle'></label><ul><li><span class='ee-k'>0:</span><span class='ee-v'>30</span></li><li><span class='ee-k'>1:</span><span class='ee-v'>0</span></li><li><span class='ee-k'>2:</span><span class='ee-v'>610350</span></li><li><span class='ee-k'>3:</span><span class='ee-v'>0</span></li><li><span class='ee-k'>4:</span><span class='ee-v'>-30</span></li><li><span class='ee-k'>5:</span><span class='ee-v'>9780030</span></li></ul></li><li><label class='ee-shut'>data_type: double<input type='checkbox' class='ee-toggle'></label><ul><li><span class='ee-k'>type:</span><span class='ee-v'>PixelType</span></li><li><span class='ee-k'>precision:</span><span class='ee-v'>double</span></li></ul></li><li><label class='ee-shut'>dimensions: [3865, 1186]<input type='checkbox' class='ee-toggle'></label><ul><li><span class='ee-k'>0:</span><span class='ee-v'>3865</span></li><li><span class='ee-k'>1:</span><span class='ee-v'>1186</span></li></ul></li></ul></li><li><label class='ee-shut'>4: \"B4\", double, EPSG:32721, 3865x1186 px<input type='checkbox' class='ee-toggle'></label><ul><li><span class='ee-k'>id:</span><span class='ee-v'>B4</span></li><li><span class='ee-k'>crs:</span><span class='ee-v'>EPSG:32721</span></li><li><label class='ee-shut'>crs_transform: [30, 0, 610350, 0, -30, 9780030]<input type='checkbox' class='ee-toggle'></label><ul><li><span class='ee-k'>0:</span><span class='ee-v'>30</span></li><li><span class='ee-k'>1:</span><span class='ee-v'>0</span></li><li><span class='ee-k'>2:</span><span class='ee-v'>610350</span></li><li><span class='ee-k'>3:</span><span class='ee-v'>0</span></li><li><span class='ee-k'>4:</span><span class='ee-v'>-30</span></li><li><span class='ee-k'>5:</span><span class='ee-v'>9780030</span></li></ul></li><li><label class='ee-shut'>data_type: double<input type='checkbox' class='ee-toggle'></label><ul><li><span class='ee-k'>type:</span><span class='ee-v'>PixelType</span></li><li><span class='ee-k'>precision:</span><span class='ee-v'>double</span></li></ul></li><li><label class='ee-shut'>dimensions: [3865, 1186]<input type='checkbox' class='ee-toggle'></label><ul><li><span class='ee-k'>0:</span><span class='ee-v'>3865</span></li><li><span class='ee-k'>1:</span><span class='ee-v'>1186</span></li></ul></li></ul></li><li><label class='ee-shut'>5: \"B5\", double, EPSG:32721, 3865x1186 px<input type='checkbox' class='ee-toggle'></label><ul><li><span class='ee-k'>id:</span><span class='ee-v'>B5</span></li><li><span class='ee-k'>crs:</span><span class='ee-v'>EPSG:32721</span></li><li><label class='ee-shut'>crs_transform: [30, 0, 610350, 0, -30, 9780030]<input type='checkbox' class='ee-toggle'></label><ul><li><span class='ee-k'>0:</span><span class='ee-v'>30</span></li><li><span class='ee-k'>1:</span><span class='ee-v'>0</span></li><li><span class='ee-k'>2:</span><span class='ee-v'>610350</span></li><li><span class='ee-k'>3:</span><span class='ee-v'>0</span></li><li><span class='ee-k'>4:</span><span class='ee-v'>-30</span></li><li><span class='ee-k'>5:</span><span class='ee-v'>9780030</span></li></ul></li><li><label class='ee-shut'>data_type: double<input type='checkbox' class='ee-toggle'></label><ul><li><span class='ee-k'>type:</span><span class='ee-v'>PixelType</span></li><li><span class='ee-k'>precision:</span><span class='ee-v'>double</span></li></ul></li><li><label class='ee-shut'>dimensions: [3865, 1186]<input type='checkbox' class='ee-toggle'></label><ul><li><span class='ee-k'>0:</span><span class='ee-v'>3865</span></li><li><span class='ee-k'>1:</span><span class='ee-v'>1186</span></li></ul></li></ul></li><li><label class='ee-shut'>6: \"B7\", double, EPSG:32721, 3865x1186 px<input type='checkbox' class='ee-toggle'></label><ul><li><span class='ee-k'>id:</span><span class='ee-v'>B7</span></li><li><span class='ee-k'>crs:</span><span class='ee-v'>EPSG:32721</span></li><li><label class='ee-shut'>crs_transform: [30, 0, 610350, 0, -30, 9780030]<input type='checkbox' class='ee-toggle'></label><ul><li><span class='ee-k'>0:</span><span class='ee-v'>30</span></li><li><span class='ee-k'>1:</span><span class='ee-v'>0</span></li><li><span class='ee-k'>2:</span><span class='ee-v'>610350</span></li><li><span class='ee-k'>3:</span><span class='ee-v'>0</span></li><li><span class='ee-k'>4:</span><span class='ee-v'>-30</span></li><li><span class='ee-k'>5:</span><span class='ee-v'>9780030</span></li></ul></li><li><label class='ee-shut'>data_type: double<input type='checkbox' class='ee-toggle'></label><ul><li><span class='ee-k'>type:</span><span class='ee-v'>PixelType</span></li><li><span class='ee-k'>precision:</span><span class='ee-v'>double</span></li></ul></li><li><label class='ee-shut'>dimensions: [3865, 1186]<input type='checkbox' class='ee-toggle'></label><ul><li><span class='ee-k'>0:</span><span class='ee-v'>3865</span></li><li><span class='ee-k'>1:</span><span class='ee-v'>1186</span></li></ul></li></ul></li></ul></li><li><label class='ee-shut'>properties: Object (148 properties)<input type='checkbox' class='ee-toggle'></label><ul><li><span class='ee-k'>AC_aerosol_optical_thickness:</span><span class='ee-v'>0.316</span></li><li><span class='ee-k'>AC_date:</span><span class='ee-v'>2013-08-16</span></li><li><span class='ee-k'>AC_ozone:</span><span class='ee-v'>0.277</span></li><li><span class='ee-k'>AC_version:</span><span class='ee-v'>py6S</span></li><li><span class='ee-k'>AC_water_vapour:</span><span class='ee-v'>4.75</span></li><li><span class='ee-k'>CLOUD_COVER:</span><span class='ee-v'>56</span></li><li><span class='ee-k'>CLOUD_COVER_LAND:</span><span class='ee-v'>56</span></li><li><span class='ee-k'>COLLECTION_CATEGORY:</span><span class='ee-v'>T1</span></li><li><span class='ee-k'>COLLECTION_NUMBER:</span><span class='ee-v'>2</span></li><li><span class='ee-k'>CORRECTION_BIAS_BAND_1:</span><span class='ee-v'>INTERNAL_CALIBRATION</span></li><li><span class='ee-k'>CORRECTION_BIAS_BAND_2:</span><span class='ee-v'>INTERNAL_CALIBRATION</span></li><li><span class='ee-k'>CORRECTION_BIAS_BAND_3:</span><span class='ee-v'>INTERNAL_CALIBRATION</span></li><li><span class='ee-k'>CORRECTION_BIAS_BAND_4:</span><span class='ee-v'>INTERNAL_CALIBRATION</span></li><li><span class='ee-k'>CORRECTION_BIAS_BAND_5:</span><span class='ee-v'>INTERNAL_CALIBRATION</span></li><li><span class='ee-k'>CORRECTION_BIAS_BAND_6_VCID_1:</span><span class='ee-v'>INTERNAL_CALIBRATION</span></li><li><span class='ee-k'>CORRECTION_BIAS_BAND_6_VCID_2:</span><span class='ee-v'>INTERNAL_CALIBRATION</span></li><li><span class='ee-k'>CORRECTION_BIAS_BAND_7:</span><span class='ee-v'>INTERNAL_CALIBRATION</span></li><li><span class='ee-k'>CORRECTION_BIAS_BAND_8:</span><span class='ee-v'>INTERNAL_CALIBRATION</span></li><li><span class='ee-k'>CORRECTION_GAIN_BAND_1:</span><span class='ee-v'>CPF</span></li><li><span class='ee-k'>CORRECTION_GAIN_BAND_2:</span><span class='ee-v'>CPF</span></li><li><span class='ee-k'>CORRECTION_GAIN_BAND_3:</span><span class='ee-v'>CPF</span></li><li><span class='ee-k'>CORRECTION_GAIN_BAND_4:</span><span class='ee-v'>CPF</span></li><li><span class='ee-k'>CORRECTION_GAIN_BAND_5:</span><span class='ee-v'>CPF</span></li><li><span class='ee-k'>CORRECTION_GAIN_BAND_6_VCID_1:</span><span class='ee-v'>CPF</span></li><li><span class='ee-k'>CORRECTION_GAIN_BAND_6_VCID_2:</span><span class='ee-v'>CPF</span></li><li><span class='ee-k'>CORRECTION_GAIN_BAND_7:</span><span class='ee-v'>CPF</span></li><li><span class='ee-k'>CORRECTION_GAIN_BAND_8:</span><span class='ee-v'>CPF</span></li><li><span class='ee-k'>DATA_SOURCE_ELEVATION:</span><span class='ee-v'>GLS2000</span></li><li><span class='ee-k'>DATE_ACQUIRED:</span><span class='ee-v'>2013-08-16</span></li><li><span class='ee-k'>DATE_PRODUCT_GENERATED:</span><span class='ee-v'>1599466331000</span></li><li><span class='ee-k'>DATUM:</span><span class='ee-v'>WGS84</span></li><li><span class='ee-k'>EARTH_SUN_DISTANCE:</span><span class='ee-v'>1.012552</span></li><li><span class='ee-k'>ELLIPSOID:</span><span class='ee-v'>WGS84</span></li><li><span class='ee-k'>EPHEMERIS_TYPE:</span><span class='ee-v'>DEFINITIVE</span></li><li><span class='ee-k'>GAIN_BAND_1:</span><span class='ee-v'>H</span></li><li><span class='ee-k'>GAIN_BAND_2:</span><span class='ee-v'>H</span></li><li><span class='ee-k'>GAIN_BAND_3:</span><span class='ee-v'>H</span></li><li><span class='ee-k'>GAIN_BAND_4:</span><span class='ee-v'>L</span></li><li><span class='ee-k'>GAIN_BAND_5:</span><span class='ee-v'>H</span></li><li><span class='ee-k'>GAIN_BAND_6_VCID_1:</span><span class='ee-v'>L</span></li><li><span class='ee-k'>GAIN_BAND_6_VCID_2:</span><span class='ee-v'>H</span></li><li><span class='ee-k'>GAIN_BAND_7:</span><span class='ee-v'>H</span></li><li><span class='ee-k'>GAIN_BAND_8:</span><span class='ee-v'>L</span></li><li><span class='ee-k'>GAIN_CHANGE_BAND_1:</span><span class='ee-v'>HH</span></li><li><span class='ee-k'>GAIN_CHANGE_BAND_2:</span><span class='ee-v'>HH</span></li><li><span class='ee-k'>GAIN_CHANGE_BAND_3:</span><span class='ee-v'>HH</span></li><li><span class='ee-k'>GAIN_CHANGE_BAND_4:</span><span class='ee-v'>LL</span></li><li><span class='ee-k'>GAIN_CHANGE_BAND_5:</span><span class='ee-v'>HH</span></li><li><span class='ee-k'>GAIN_CHANGE_BAND_6_VCID_1:</span><span class='ee-v'>LL</span></li><li><span class='ee-k'>GAIN_CHANGE_BAND_6_VCID_2:</span><span class='ee-v'>HH</span></li><li><span class='ee-k'>GAIN_CHANGE_BAND_7:</span><span class='ee-v'>HH</span></li><li><span class='ee-k'>GAIN_CHANGE_BAND_8:</span><span class='ee-v'>LL</span></li><li><span class='ee-k'>GAIN_CHANGE_SCAN_BAND_1:</span><span class='ee-v'>0</span></li><li><span class='ee-k'>GAIN_CHANGE_SCAN_BAND_2:</span><span class='ee-v'>0</span></li><li><span class='ee-k'>GAIN_CHANGE_SCAN_BAND_3:</span><span class='ee-v'>0</span></li><li><span class='ee-k'>GAIN_CHANGE_SCAN_BAND_4:</span><span class='ee-v'>0</span></li><li><span class='ee-k'>GAIN_CHANGE_SCAN_BAND_5:</span><span class='ee-v'>0</span></li><li><span class='ee-k'>GAIN_CHANGE_SCAN_BAND_6_VCID_1:</span><span class='ee-v'>0</span></li><li><span class='ee-k'>GAIN_CHANGE_SCAN_BAND_6_VCID_2:</span><span class='ee-v'>0</span></li><li><span class='ee-k'>GAIN_CHANGE_SCAN_BAND_7:</span><span class='ee-v'>0</span></li><li><span class='ee-k'>GAIN_CHANGE_SCAN_BAND_8:</span><span class='ee-v'>0</span></li><li><span class='ee-k'>GEOMETRIC_RMSE_MODEL:</span><span class='ee-v'>5.139</span></li><li><span class='ee-k'>GEOMETRIC_RMSE_MODEL_X:</span><span class='ee-v'>3.194</span></li><li><span class='ee-k'>GEOMETRIC_RMSE_MODEL_Y:</span><span class='ee-v'>4.026</span></li><li><span class='ee-k'>GRID_CELL_SIZE_PANCHROMATIC:</span><span class='ee-v'>15</span></li><li><span class='ee-k'>GRID_CELL_SIZE_REFLECTIVE:</span><span class='ee-v'>30</span></li><li><span class='ee-k'>GRID_CELL_SIZE_THERMAL:</span><span class='ee-v'>30</span></li><li><span class='ee-k'>GROUND_CONTROL_POINTS_MODEL:</span><span class='ee-v'>119</span></li><li><span class='ee-k'>GROUND_CONTROL_POINTS_VERSION:</span><span class='ee-v'>5</span></li><li><span class='ee-k'>IMAGE_QUALITY:</span><span class='ee-v'>9</span></li><li><span class='ee-k'>K1_CONSTANT_BAND_6_VCID_1:</span><span class='ee-v'>666.09</span></li><li><span class='ee-k'>K1_CONSTANT_BAND_6_VCID_2:</span><span class='ee-v'>666.09</span></li><li><span class='ee-k'>K2_CONSTANT_BAND_6_VCID_1:</span><span class='ee-v'>1282.71</span></li><li><span class='ee-k'>K2_CONSTANT_BAND_6_VCID_2:</span><span class='ee-v'>1282.71</span></li><li><span class='ee-k'>LANDSAT_PRODUCT_ID:</span><span class='ee-v'>LE07_L1TP_227062_20130816_20200907_02_T1</span></li><li><span class='ee-k'>LANDSAT_SCENE_ID:</span><span class='ee-v'>LE72270622013228CUB00</span></li><li><span class='ee-k'>MAP_PROJECTION:</span><span class='ee-v'>UTM</span></li><li><span class='ee-k'>ORIENTATION:</span><span class='ee-v'>NORTH_UP</span></li><li><span class='ee-k'>PANCHROMATIC_LINES:</span><span class='ee-v'>13961</span></li><li><span class='ee-k'>PANCHROMATIC_SAMPLES:</span><span class='ee-v'>16081</span></li><li><span class='ee-k'>PROCESSING_LEVEL:</span><span class='ee-v'>L1TP</span></li><li><span class='ee-k'>PROCESSING_SOFTWARE_VERSION:</span><span class='ee-v'>LPGS_15.3.1c</span></li><li><span class='ee-k'>RADIANCE_ADD_BAND_1:</span><span class='ee-v'>-6.97874</span></li><li><span class='ee-k'>RADIANCE_ADD_BAND_2:</span><span class='ee-v'>-7.19882</span></li><li><span class='ee-k'>RADIANCE_ADD_BAND_3:</span><span class='ee-v'>-5.62165</span></li><li><span class='ee-k'>RADIANCE_ADD_BAND_4:</span><span class='ee-v'>-6.06929</span></li><li><span class='ee-k'>RADIANCE_ADD_BAND_5:</span><span class='ee-v'>-1.12622</span></li><li><span class='ee-k'>RADIANCE_ADD_BAND_6_VCID_1:</span><span class='ee-v'>-0.06709</span></li><li><span class='ee-k'>RADIANCE_ADD_BAND_6_VCID_2:</span><span class='ee-v'>3.1628</span></li><li><span class='ee-k'>RADIANCE_ADD_BAND_7:</span><span class='ee-v'>-0.3939</span></li><li><span class='ee-k'>RADIANCE_ADD_BAND_8:</span><span class='ee-v'>-5.67559</span></li><li><span class='ee-k'>RADIANCE_MULT_BAND_1:</span><span class='ee-v'>0.77874</span></li><li><span class='ee-k'>RADIANCE_MULT_BAND_2:</span><span class='ee-v'>0.79882</span></li><li><span class='ee-k'>RADIANCE_MULT_BAND_3:</span><span class='ee-v'>0.62165</span></li><li><span class='ee-k'>RADIANCE_MULT_BAND_4:</span><span class='ee-v'>0.96929</span></li><li><span class='ee-k'>RADIANCE_MULT_BAND_5:</span><span class='ee-v'>0.12622</span></li><li><span class='ee-k'>RADIANCE_MULT_BAND_6_VCID_1:</span><span class='ee-v'>0.067087</span></li><li><span class='ee-k'>RADIANCE_MULT_BAND_6_VCID_2:</span><span class='ee-v'>0.037205</span></li><li><span class='ee-k'>RADIANCE_MULT_BAND_7:</span><span class='ee-v'>0.043898</span></li><li><span class='ee-k'>RADIANCE_MULT_BAND_8:</span><span class='ee-v'>0.97559</span></li><li><span class='ee-k'>REFLECTANCE_ADD_BAND_1:</span><span class='ee-v'>-0.01104</span></li><li><span class='ee-k'>REFLECTANCE_ADD_BAND_2:</span><span class='ee-v'>-0.012493</span></li><li><span class='ee-k'>REFLECTANCE_ADD_BAND_3:</span><span class='ee-v'>-0.011874</span></li><li><span class='ee-k'>REFLECTANCE_ADD_BAND_4:</span><span class='ee-v'>-0.018253</span></li><li><span class='ee-k'>REFLECTANCE_ADD_BAND_5:</span><span class='ee-v'>-0.01637</span></li><li><span class='ee-k'>REFLECTANCE_ADD_BAND_7:</span><span class='ee-v'>-0.015594</span></li><li><span class='ee-k'>REFLECTANCE_ADD_BAND_8:</span><span class='ee-v'>-0.01386</span></li><li><span class='ee-k'>REFLECTANCE_MULT_BAND_1:</span><span class='ee-v'>0.001232</span></li><li><span class='ee-k'>REFLECTANCE_MULT_BAND_2:</span><span class='ee-v'>0.0013863</span></li><li><span class='ee-k'>REFLECTANCE_MULT_BAND_3:</span><span class='ee-v'>0.001313</span></li><li><span class='ee-k'>REFLECTANCE_MULT_BAND_4:</span><span class='ee-v'>0.0029151</span></li><li><span class='ee-k'>REFLECTANCE_MULT_BAND_5:</span><span class='ee-v'>0.0018346</span></li><li><span class='ee-k'>REFLECTANCE_MULT_BAND_7:</span><span class='ee-v'>0.0017379</span></li><li><span class='ee-k'>REFLECTANCE_MULT_BAND_8:</span><span class='ee-v'>0.0023824</span></li><li><span class='ee-k'>REFLECTIVE_LINES:</span><span class='ee-v'>6981</span></li><li><span class='ee-k'>REFLECTIVE_SAMPLES:</span><span class='ee-v'>8041</span></li><li><span class='ee-k'>REQUEST_ID:</span><span class='ee-v'>L2</span></li><li><span class='ee-k'>RESAMPLING_OPTION:</span><span class='ee-v'>CUBIC_CONVOLUTION</span></li><li><span class='ee-k'>SATURATION_BAND_1:</span><span class='ee-v'>Y</span></li><li><span class='ee-k'>SATURATION_BAND_2:</span><span class='ee-v'>Y</span></li><li><span class='ee-k'>SATURATION_BAND_3:</span><span class='ee-v'>Y</span></li><li><span class='ee-k'>SATURATION_BAND_4:</span><span class='ee-v'>Y</span></li><li><span class='ee-k'>SATURATION_BAND_5:</span><span class='ee-v'>Y</span></li><li><span class='ee-k'>SATURATION_BAND_6_VCID_1:</span><span class='ee-v'>N</span></li><li><span class='ee-k'>SATURATION_BAND_6_VCID_2:</span><span class='ee-v'>Y</span></li><li><span class='ee-k'>SATURATION_BAND_7:</span><span class='ee-v'>Y</span></li><li><span class='ee-k'>SATURATION_BAND_8:</span><span class='ee-v'>N</span></li><li><span class='ee-k'>SCAN_GAP_INTERPOLATION:</span><span class='ee-v'>2</span></li><li><span class='ee-k'>SCENE_CENTER_TIME:</span><span class='ee-v'>13:43:30.8669481Z</span></li><li><span class='ee-k'>SENSOR_ANOMALIES:</span><span class='ee-v'>NONE</span></li><li><span class='ee-k'>SENSOR_ID:</span><span class='ee-v'>ETM</span></li><li><span class='ee-k'>SENSOR_MODE:</span><span class='ee-v'>BUMPER</span></li><li><span class='ee-k'>SENSOR_MODE_SLC:</span><span class='ee-v'>OFF</span></li><li><span class='ee-k'>SPACECRAFT_ID:</span><span class='ee-v'>LANDSAT_7</span></li><li><span class='ee-k'>STATION_ID:</span><span class='ee-v'>CUB</span></li><li><span class='ee-k'>SUN_AZIMUTH:</span><span class='ee-v'>59.97763941</span></li><li><span class='ee-k'>SUN_ELEVATION:</span><span class='ee-v'>56.38157777</span></li><li><span class='ee-k'>THERMAL_LINES:</span><span class='ee-v'>6981</span></li><li><span class='ee-k'>THERMAL_SAMPLES:</span><span class='ee-v'>8041</span></li><li><span class='ee-k'>UTM_ZONE:</span><span class='ee-v'>21</span></li><li><span class='ee-k'>WRS_PATH:</span><span class='ee-v'>227</span></li><li><span class='ee-k'>WRS_ROW:</span><span class='ee-v'>62</span></li><li><span class='ee-k'>WRS_TYPE:</span><span class='ee-v'>2</span></li><li><span class='ee-k'>system:asset_size:</span><span class='ee-v'>802004</span></li><li><label class='ee-shut'>system:footprint: LinearRing (19 vertices)<input type='checkbox' class='ee-toggle'></label><ul><li><span class='ee-k'>type:</span><span class='ee-v'>LinearRing</span></li><li><label class='ee-shut'>coordinates: List (19 elements)<input type='checkbox' class='ee-toggle'></label><ul><li><label class='ee-shut'>0: [-56.00790099168393, -1.9899313951966122]<input type='checkbox' class='ee-toggle'></label><ul><li><span class='ee-k'>0:</span><span class='ee-v'>-56.00790099168393</span></li><li><span class='ee-k'>1:</span><span class='ee-v'>-1.9899313951966122</span></li></ul></li><li><label class='ee-shut'>1: [-56.00790303255488, -1.9899651372103422]<input type='checkbox' class='ee-toggle'></label><ul><li><span class='ee-k'>0:</span><span class='ee-v'>-56.00790303255488</span></li><li><span class='ee-k'>1:</span><span class='ee-v'>-1.9899651372103422</span></li></ul></li><li><label class='ee-shut'>2: [-56.007695289133245, -2.311543999976785]<input type='checkbox' class='ee-toggle'></label><ul><li><span class='ee-k'>0:</span><span class='ee-v'>-56.007695289133245</span></li><li><span class='ee-k'>1:</span><span class='ee-v'>-2.311543999976785</span></li></ul></li><li><label class='ee-shut'>3: [-56.00758542256164, -2.311668371300401]<input type='checkbox' class='ee-toggle'></label><ul><li><span class='ee-k'>0:</span><span class='ee-v'>-56.00758542256164</span></li><li><span class='ee-k'>1:</span><span class='ee-v'>-2.311668371300401</span></li></ul></li><li><label class='ee-shut'>4: [-56.007491968050864, -2.311805420122597]<input type='checkbox' class='ee-toggle'></label><ul><li><span class='ee-k'>0:</span><span class='ee-v'>-56.007491968050864</span></li><li><span class='ee-k'>1:</span><span class='ee-v'>-2.311805420122597</span></li></ul></li><li><label class='ee-shut'>5: [-56.007458719016846, -2.311811703970227]<input type='checkbox' class='ee-toggle'></label><ul><li><span class='ee-k'>0:</span><span class='ee-v'>-56.007458719016846</span></li><li><span class='ee-k'>1:</span><span class='ee-v'>-2.311811703970227</span></li></ul></li><li><label class='ee-shut'>6: [-56.00742495977984, -2.311813812762818]<input type='checkbox' class='ee-toggle'></label><ul><li><span class='ee-k'>0:</span><span class='ee-v'>-56.00742495977984</span></li><li><span class='ee-k'>1:</span><span class='ee-v'>-2.311813812762818</span></li></ul></li><li><label class='ee-shut'>7: [-54.96521940588846, -2.3106966854844777]<input type='checkbox' class='ee-toggle'></label><ul><li><span class='ee-k'>0:</span><span class='ee-v'>-54.96521940588846</span></li><li><span class='ee-k'>1:</span><span class='ee-v'>-2.3106966854844777</span></li></ul></li><li><label class='ee-shut'>8: [-54.965095041218675, -2.3105868055625747]<input type='checkbox' class='ee-toggle'></label><ul><li><span class='ee-k'>0:</span><span class='ee-v'>-54.965095041218675</span></li><li><span class='ee-k'>1:</span><span class='ee-v'>-2.3105868055625747</span></li></ul></li><li><label class='ee-shut'>9: [-54.9649579041744, -2.310493389784539]<input type='checkbox' class='ee-toggle'></label><ul><li><span class='ee-k'>0:</span><span class='ee-v'>-54.9649579041744</span></li><li><span class='ee-k'>1:</span><span class='ee-v'>-2.310493389784539</span></li></ul></li><li><label class='ee-shut'>10: [-54.96494958520648, -2.3104489756132134]<input type='checkbox' class='ee-toggle'></label><ul><li><span class='ee-k'>0:</span><span class='ee-v'>-54.96494958520648</span></li><li><span class='ee-k'>1:</span><span class='ee-v'>-2.3104489756132134</span></li></ul></li><li><label class='ee-shut'>11: [-54.96537536616671, -1.9890030781522787]<input type='checkbox' class='ee-toggle'></label><ul><li><span class='ee-k'>0:</span><span class='ee-v'>-54.96537536616671</span></li><li><span class='ee-k'>1:</span><span class='ee-v'>-1.9890030781522787</span></li></ul></li><li><label class='ee-shut'>12: [-54.96548536203257, -1.9888788013913736]<input type='checkbox' class='ee-toggle'></label><ul><li><span class='ee-k'>0:</span><span class='ee-v'>-54.96548536203257</span></li><li><span class='ee-k'>1:</span><span class='ee-v'>-1.9888788013913736</span></li></ul></li><li><label class='ee-shut'>13: [-54.96557880401176, -1.9887418286222167]<input type='checkbox' class='ee-toggle'></label><ul><li><span class='ee-k'>0:</span><span class='ee-v'>-54.96557880401176</span></li><li><span class='ee-k'>1:</span><span class='ee-v'>-1.9887418286222167</span></li></ul></li><li><label class='ee-shut'>14: [-54.96562325621276, -1.9887333958904014]<input type='checkbox' class='ee-toggle'></label><ul><li><span class='ee-k'>0:</span><span class='ee-v'>-54.96562325621276</span></li><li><span class='ee-k'>1:</span><span class='ee-v'>-1.9887333958904014</span></li></ul></li><li><label class='ee-shut'>15: [-56.0076331277673, -1.9896950199386851]<input type='checkbox' class='ee-toggle'></label><ul><li><span class='ee-k'>0:</span><span class='ee-v'>-56.0076331277673</span></li><li><span class='ee-k'>1:</span><span class='ee-v'>-1.9896950199386851</span></li></ul></li><li><label class='ee-shut'>16: [-56.00775753557763, -1.9898048265148425]<input type='checkbox' class='ee-toggle'></label><ul><li><span class='ee-k'>0:</span><span class='ee-v'>-56.00775753557763</span></li><li><span class='ee-k'>1:</span><span class='ee-v'>-1.9898048265148425</span></li></ul></li><li><label class='ee-shut'>17: [-56.00789469899878, -1.9898981788466987]<input type='checkbox' class='ee-toggle'></label><ul><li><span class='ee-k'>0:</span><span class='ee-v'>-56.00789469899878</span></li><li><span class='ee-k'>1:</span><span class='ee-v'>-1.9898981788466987</span></li></ul></li><li><label class='ee-shut'>18: [-56.00790099168393, -1.9899313951966122]<input type='checkbox' class='ee-toggle'></label><ul><li><span class='ee-k'>0:</span><span class='ee-v'>-56.00790099168393</span></li><li><span class='ee-k'>1:</span><span class='ee-v'>-1.9899313951966122</span></li></ul></li></ul></li></ul></li><li><span class='ee-k'>system:index:</span><span class='ee-v'>BOA_LE07_227062_20130816</span></li><li><span class='ee-k'>system:time_end:</span><span class='ee-v'>1376660610866</span></li><li><span class='ee-k'>system:time_start:</span><span class='ee-v'>1376660610866</span></li></ul></li></ul></li><li><label class='ee-shut'>4: Image projects/ee-curuai/assets/Py6S/LD7/ld7_py6s/BOA_LE07_227062_20130917 (7 bands)<input type='checkbox' class='ee-toggle'></label><ul><li><span class='ee-k'>type:</span><span class='ee-v'>Image</span></li><li><span class='ee-k'>id:</span><span class='ee-v'>projects/ee-curuai/assets/Py6S/LD7/ld7_py6s/BOA_LE07_227062_20130917</span></li><li><span class='ee-k'>version:</span><span class='ee-v'>1715369191695382</span></li><li><label class='ee-shut'>bands: List (7 elements)<input type='checkbox' class='ee-toggle'></label><ul><li><label class='ee-shut'>0: \"QA_PIXEL\", unsigned int16, EPSG:32721, 3865x1186 px<input type='checkbox' class='ee-toggle'></label><ul><li><span class='ee-k'>id:</span><span class='ee-v'>QA_PIXEL</span></li><li><span class='ee-k'>crs:</span><span class='ee-v'>EPSG:32721</span></li><li><label class='ee-shut'>crs_transform: [30, 0, 610350, 0, -30, 9780030]<input type='checkbox' class='ee-toggle'></label><ul><li><span class='ee-k'>0:</span><span class='ee-v'>30</span></li><li><span class='ee-k'>1:</span><span class='ee-v'>0</span></li><li><span class='ee-k'>2:</span><span class='ee-v'>610350</span></li><li><span class='ee-k'>3:</span><span class='ee-v'>0</span></li><li><span class='ee-k'>4:</span><span class='ee-v'>-30</span></li><li><span class='ee-k'>5:</span><span class='ee-v'>9780030</span></li></ul></li><li><label class='ee-shut'>data_type: unsigned int16<input type='checkbox' class='ee-toggle'></label><ul><li><span class='ee-k'>type:</span><span class='ee-v'>PixelType</span></li><li><span class='ee-k'>max:</span><span class='ee-v'>65535</span></li><li><span class='ee-k'>min:</span><span class='ee-v'>0</span></li><li><span class='ee-k'>precision:</span><span class='ee-v'>int</span></li></ul></li><li><label class='ee-shut'>dimensions: [3865, 1186]<input type='checkbox' class='ee-toggle'></label><ul><li><span class='ee-k'>0:</span><span class='ee-v'>3865</span></li><li><span class='ee-k'>1:</span><span class='ee-v'>1186</span></li></ul></li></ul></li><li><label class='ee-shut'>1: \"B1\", double, EPSG:32721, 3865x1186 px<input type='checkbox' class='ee-toggle'></label><ul><li><span class='ee-k'>id:</span><span class='ee-v'>B1</span></li><li><span class='ee-k'>crs:</span><span class='ee-v'>EPSG:32721</span></li><li><label class='ee-shut'>crs_transform: [30, 0, 610350, 0, -30, 9780030]<input type='checkbox' class='ee-toggle'></label><ul><li><span class='ee-k'>0:</span><span class='ee-v'>30</span></li><li><span class='ee-k'>1:</span><span class='ee-v'>0</span></li><li><span class='ee-k'>2:</span><span class='ee-v'>610350</span></li><li><span class='ee-k'>3:</span><span class='ee-v'>0</span></li><li><span class='ee-k'>4:</span><span class='ee-v'>-30</span></li><li><span class='ee-k'>5:</span><span class='ee-v'>9780030</span></li></ul></li><li><label class='ee-shut'>data_type: double<input type='checkbox' class='ee-toggle'></label><ul><li><span class='ee-k'>type:</span><span class='ee-v'>PixelType</span></li><li><span class='ee-k'>precision:</span><span class='ee-v'>double</span></li></ul></li><li><label class='ee-shut'>dimensions: [3865, 1186]<input type='checkbox' class='ee-toggle'></label><ul><li><span class='ee-k'>0:</span><span class='ee-v'>3865</span></li><li><span class='ee-k'>1:</span><span class='ee-v'>1186</span></li></ul></li></ul></li><li><label class='ee-shut'>2: \"B2\", double, EPSG:32721, 3865x1186 px<input type='checkbox' class='ee-toggle'></label><ul><li><span class='ee-k'>id:</span><span class='ee-v'>B2</span></li><li><span class='ee-k'>crs:</span><span class='ee-v'>EPSG:32721</span></li><li><label class='ee-shut'>crs_transform: [30, 0, 610350, 0, -30, 9780030]<input type='checkbox' class='ee-toggle'></label><ul><li><span class='ee-k'>0:</span><span class='ee-v'>30</span></li><li><span class='ee-k'>1:</span><span class='ee-v'>0</span></li><li><span class='ee-k'>2:</span><span class='ee-v'>610350</span></li><li><span class='ee-k'>3:</span><span class='ee-v'>0</span></li><li><span class='ee-k'>4:</span><span class='ee-v'>-30</span></li><li><span class='ee-k'>5:</span><span class='ee-v'>9780030</span></li></ul></li><li><label class='ee-shut'>data_type: double<input type='checkbox' class='ee-toggle'></label><ul><li><span class='ee-k'>type:</span><span class='ee-v'>PixelType</span></li><li><span class='ee-k'>precision:</span><span class='ee-v'>double</span></li></ul></li><li><label class='ee-shut'>dimensions: [3865, 1186]<input type='checkbox' class='ee-toggle'></label><ul><li><span class='ee-k'>0:</span><span class='ee-v'>3865</span></li><li><span class='ee-k'>1:</span><span class='ee-v'>1186</span></li></ul></li></ul></li><li><label class='ee-shut'>3: \"B3\", double, EPSG:32721, 3865x1186 px<input type='checkbox' class='ee-toggle'></label><ul><li><span class='ee-k'>id:</span><span class='ee-v'>B3</span></li><li><span class='ee-k'>crs:</span><span class='ee-v'>EPSG:32721</span></li><li><label class='ee-shut'>crs_transform: [30, 0, 610350, 0, -30, 9780030]<input type='checkbox' class='ee-toggle'></label><ul><li><span class='ee-k'>0:</span><span class='ee-v'>30</span></li><li><span class='ee-k'>1:</span><span class='ee-v'>0</span></li><li><span class='ee-k'>2:</span><span class='ee-v'>610350</span></li><li><span class='ee-k'>3:</span><span class='ee-v'>0</span></li><li><span class='ee-k'>4:</span><span class='ee-v'>-30</span></li><li><span class='ee-k'>5:</span><span class='ee-v'>9780030</span></li></ul></li><li><label class='ee-shut'>data_type: double<input type='checkbox' class='ee-toggle'></label><ul><li><span class='ee-k'>type:</span><span class='ee-v'>PixelType</span></li><li><span class='ee-k'>precision:</span><span class='ee-v'>double</span></li></ul></li><li><label class='ee-shut'>dimensions: [3865, 1186]<input type='checkbox' class='ee-toggle'></label><ul><li><span class='ee-k'>0:</span><span class='ee-v'>3865</span></li><li><span class='ee-k'>1:</span><span class='ee-v'>1186</span></li></ul></li></ul></li><li><label class='ee-shut'>4: \"B4\", double, EPSG:32721, 3865x1186 px<input type='checkbox' class='ee-toggle'></label><ul><li><span class='ee-k'>id:</span><span class='ee-v'>B4</span></li><li><span class='ee-k'>crs:</span><span class='ee-v'>EPSG:32721</span></li><li><label class='ee-shut'>crs_transform: [30, 0, 610350, 0, -30, 9780030]<input type='checkbox' class='ee-toggle'></label><ul><li><span class='ee-k'>0:</span><span class='ee-v'>30</span></li><li><span class='ee-k'>1:</span><span class='ee-v'>0</span></li><li><span class='ee-k'>2:</span><span class='ee-v'>610350</span></li><li><span class='ee-k'>3:</span><span class='ee-v'>0</span></li><li><span class='ee-k'>4:</span><span class='ee-v'>-30</span></li><li><span class='ee-k'>5:</span><span class='ee-v'>9780030</span></li></ul></li><li><label class='ee-shut'>data_type: double<input type='checkbox' class='ee-toggle'></label><ul><li><span class='ee-k'>type:</span><span class='ee-v'>PixelType</span></li><li><span class='ee-k'>precision:</span><span class='ee-v'>double</span></li></ul></li><li><label class='ee-shut'>dimensions: [3865, 1186]<input type='checkbox' class='ee-toggle'></label><ul><li><span class='ee-k'>0:</span><span class='ee-v'>3865</span></li><li><span class='ee-k'>1:</span><span class='ee-v'>1186</span></li></ul></li></ul></li><li><label class='ee-shut'>5: \"B5\", double, EPSG:32721, 3865x1186 px<input type='checkbox' class='ee-toggle'></label><ul><li><span class='ee-k'>id:</span><span class='ee-v'>B5</span></li><li><span class='ee-k'>crs:</span><span class='ee-v'>EPSG:32721</span></li><li><label class='ee-shut'>crs_transform: [30, 0, 610350, 0, -30, 9780030]<input type='checkbox' class='ee-toggle'></label><ul><li><span class='ee-k'>0:</span><span class='ee-v'>30</span></li><li><span class='ee-k'>1:</span><span class='ee-v'>0</span></li><li><span class='ee-k'>2:</span><span class='ee-v'>610350</span></li><li><span class='ee-k'>3:</span><span class='ee-v'>0</span></li><li><span class='ee-k'>4:</span><span class='ee-v'>-30</span></li><li><span class='ee-k'>5:</span><span class='ee-v'>9780030</span></li></ul></li><li><label class='ee-shut'>data_type: double<input type='checkbox' class='ee-toggle'></label><ul><li><span class='ee-k'>type:</span><span class='ee-v'>PixelType</span></li><li><span class='ee-k'>precision:</span><span class='ee-v'>double</span></li></ul></li><li><label class='ee-shut'>dimensions: [3865, 1186]<input type='checkbox' class='ee-toggle'></label><ul><li><span class='ee-k'>0:</span><span class='ee-v'>3865</span></li><li><span class='ee-k'>1:</span><span class='ee-v'>1186</span></li></ul></li></ul></li><li><label class='ee-shut'>6: \"B7\", double, EPSG:32721, 3865x1186 px<input type='checkbox' class='ee-toggle'></label><ul><li><span class='ee-k'>id:</span><span class='ee-v'>B7</span></li><li><span class='ee-k'>crs:</span><span class='ee-v'>EPSG:32721</span></li><li><label class='ee-shut'>crs_transform: [30, 0, 610350, 0, -30, 9780030]<input type='checkbox' class='ee-toggle'></label><ul><li><span class='ee-k'>0:</span><span class='ee-v'>30</span></li><li><span class='ee-k'>1:</span><span class='ee-v'>0</span></li><li><span class='ee-k'>2:</span><span class='ee-v'>610350</span></li><li><span class='ee-k'>3:</span><span class='ee-v'>0</span></li><li><span class='ee-k'>4:</span><span class='ee-v'>-30</span></li><li><span class='ee-k'>5:</span><span class='ee-v'>9780030</span></li></ul></li><li><label class='ee-shut'>data_type: double<input type='checkbox' class='ee-toggle'></label><ul><li><span class='ee-k'>type:</span><span class='ee-v'>PixelType</span></li><li><span class='ee-k'>precision:</span><span class='ee-v'>double</span></li></ul></li><li><label class='ee-shut'>dimensions: [3865, 1186]<input type='checkbox' class='ee-toggle'></label><ul><li><span class='ee-k'>0:</span><span class='ee-v'>3865</span></li><li><span class='ee-k'>1:</span><span class='ee-v'>1186</span></li></ul></li></ul></li></ul></li><li><label class='ee-shut'>properties: Object (148 properties)<input type='checkbox' class='ee-toggle'></label><ul><li><span class='ee-k'>AC_aerosol_optical_thickness:</span><span class='ee-v'>0.426</span></li><li><span class='ee-k'>AC_date:</span><span class='ee-v'>2013-09-17</span></li><li><span class='ee-k'>AC_ozone:</span><span class='ee-v'>0.275</span></li><li><span class='ee-k'>AC_version:</span><span class='ee-v'>py6S</span></li><li><span class='ee-k'>AC_water_vapour:</span><span class='ee-v'>4.219999694824219</span></li><li><span class='ee-k'>CLOUD_COVER:</span><span class='ee-v'>37</span></li><li><span class='ee-k'>CLOUD_COVER_LAND:</span><span class='ee-v'>37</span></li><li><span class='ee-k'>COLLECTION_CATEGORY:</span><span class='ee-v'>T1</span></li><li><span class='ee-k'>COLLECTION_NUMBER:</span><span class='ee-v'>2</span></li><li><span class='ee-k'>CORRECTION_BIAS_BAND_1:</span><span class='ee-v'>INTERNAL_CALIBRATION</span></li><li><span class='ee-k'>CORRECTION_BIAS_BAND_2:</span><span class='ee-v'>INTERNAL_CALIBRATION</span></li><li><span class='ee-k'>CORRECTION_BIAS_BAND_3:</span><span class='ee-v'>INTERNAL_CALIBRATION</span></li><li><span class='ee-k'>CORRECTION_BIAS_BAND_4:</span><span class='ee-v'>INTERNAL_CALIBRATION</span></li><li><span class='ee-k'>CORRECTION_BIAS_BAND_5:</span><span class='ee-v'>INTERNAL_CALIBRATION</span></li><li><span class='ee-k'>CORRECTION_BIAS_BAND_6_VCID_1:</span><span class='ee-v'>INTERNAL_CALIBRATION</span></li><li><span class='ee-k'>CORRECTION_BIAS_BAND_6_VCID_2:</span><span class='ee-v'>INTERNAL_CALIBRATION</span></li><li><span class='ee-k'>CORRECTION_BIAS_BAND_7:</span><span class='ee-v'>INTERNAL_CALIBRATION</span></li><li><span class='ee-k'>CORRECTION_BIAS_BAND_8:</span><span class='ee-v'>INTERNAL_CALIBRATION</span></li><li><span class='ee-k'>CORRECTION_GAIN_BAND_1:</span><span class='ee-v'>CPF</span></li><li><span class='ee-k'>CORRECTION_GAIN_BAND_2:</span><span class='ee-v'>CPF</span></li><li><span class='ee-k'>CORRECTION_GAIN_BAND_3:</span><span class='ee-v'>CPF</span></li><li><span class='ee-k'>CORRECTION_GAIN_BAND_4:</span><span class='ee-v'>CPF</span></li><li><span class='ee-k'>CORRECTION_GAIN_BAND_5:</span><span class='ee-v'>CPF</span></li><li><span class='ee-k'>CORRECTION_GAIN_BAND_6_VCID_1:</span><span class='ee-v'>CPF</span></li><li><span class='ee-k'>CORRECTION_GAIN_BAND_6_VCID_2:</span><span class='ee-v'>CPF</span></li><li><span class='ee-k'>CORRECTION_GAIN_BAND_7:</span><span class='ee-v'>CPF</span></li><li><span class='ee-k'>CORRECTION_GAIN_BAND_8:</span><span class='ee-v'>CPF</span></li><li><span class='ee-k'>DATA_SOURCE_ELEVATION:</span><span class='ee-v'>GLS2000</span></li><li><span class='ee-k'>DATE_ACQUIRED:</span><span class='ee-v'>2013-09-17</span></li><li><span class='ee-k'>DATE_PRODUCT_GENERATED:</span><span class='ee-v'>1599466343000</span></li><li><span class='ee-k'>DATUM:</span><span class='ee-v'>WGS84</span></li><li><span class='ee-k'>EARTH_SUN_DISTANCE:</span><span class='ee-v'>1.0050118</span></li><li><span class='ee-k'>ELLIPSOID:</span><span class='ee-v'>WGS84</span></li><li><span class='ee-k'>EPHEMERIS_TYPE:</span><span class='ee-v'>DEFINITIVE</span></li><li><span class='ee-k'>GAIN_BAND_1:</span><span class='ee-v'>H</span></li><li><span class='ee-k'>GAIN_BAND_2:</span><span class='ee-v'>H</span></li><li><span class='ee-k'>GAIN_BAND_3:</span><span class='ee-v'>H</span></li><li><span class='ee-k'>GAIN_BAND_4:</span><span class='ee-v'>L</span></li><li><span class='ee-k'>GAIN_BAND_5:</span><span class='ee-v'>H</span></li><li><span class='ee-k'>GAIN_BAND_6_VCID_1:</span><span class='ee-v'>L</span></li><li><span class='ee-k'>GAIN_BAND_6_VCID_2:</span><span class='ee-v'>H</span></li><li><span class='ee-k'>GAIN_BAND_7:</span><span class='ee-v'>H</span></li><li><span class='ee-k'>GAIN_BAND_8:</span><span class='ee-v'>L</span></li><li><span class='ee-k'>GAIN_CHANGE_BAND_1:</span><span class='ee-v'>HH</span></li><li><span class='ee-k'>GAIN_CHANGE_BAND_2:</span><span class='ee-v'>HH</span></li><li><span class='ee-k'>GAIN_CHANGE_BAND_3:</span><span class='ee-v'>HH</span></li><li><span class='ee-k'>GAIN_CHANGE_BAND_4:</span><span class='ee-v'>LL</span></li><li><span class='ee-k'>GAIN_CHANGE_BAND_5:</span><span class='ee-v'>HH</span></li><li><span class='ee-k'>GAIN_CHANGE_BAND_6_VCID_1:</span><span class='ee-v'>LL</span></li><li><span class='ee-k'>GAIN_CHANGE_BAND_6_VCID_2:</span><span class='ee-v'>HH</span></li><li><span class='ee-k'>GAIN_CHANGE_BAND_7:</span><span class='ee-v'>HH</span></li><li><span class='ee-k'>GAIN_CHANGE_BAND_8:</span><span class='ee-v'>LL</span></li><li><span class='ee-k'>GAIN_CHANGE_SCAN_BAND_1:</span><span class='ee-v'>0</span></li><li><span class='ee-k'>GAIN_CHANGE_SCAN_BAND_2:</span><span class='ee-v'>0</span></li><li><span class='ee-k'>GAIN_CHANGE_SCAN_BAND_3:</span><span class='ee-v'>0</span></li><li><span class='ee-k'>GAIN_CHANGE_SCAN_BAND_4:</span><span class='ee-v'>0</span></li><li><span class='ee-k'>GAIN_CHANGE_SCAN_BAND_5:</span><span class='ee-v'>0</span></li><li><span class='ee-k'>GAIN_CHANGE_SCAN_BAND_6_VCID_1:</span><span class='ee-v'>0</span></li><li><span class='ee-k'>GAIN_CHANGE_SCAN_BAND_6_VCID_2:</span><span class='ee-v'>0</span></li><li><span class='ee-k'>GAIN_CHANGE_SCAN_BAND_7:</span><span class='ee-v'>0</span></li><li><span class='ee-k'>GAIN_CHANGE_SCAN_BAND_8:</span><span class='ee-v'>0</span></li><li><span class='ee-k'>GEOMETRIC_RMSE_MODEL:</span><span class='ee-v'>4.534</span></li><li><span class='ee-k'>GEOMETRIC_RMSE_MODEL_X:</span><span class='ee-v'>3.393</span></li><li><span class='ee-k'>GEOMETRIC_RMSE_MODEL_Y:</span><span class='ee-v'>3.008</span></li><li><span class='ee-k'>GRID_CELL_SIZE_PANCHROMATIC:</span><span class='ee-v'>15</span></li><li><span class='ee-k'>GRID_CELL_SIZE_REFLECTIVE:</span><span class='ee-v'>30</span></li><li><span class='ee-k'>GRID_CELL_SIZE_THERMAL:</span><span class='ee-v'>30</span></li><li><span class='ee-k'>GROUND_CONTROL_POINTS_MODEL:</span><span class='ee-v'>158</span></li><li><span class='ee-k'>GROUND_CONTROL_POINTS_VERSION:</span><span class='ee-v'>5</span></li><li><span class='ee-k'>IMAGE_QUALITY:</span><span class='ee-v'>9</span></li><li><span class='ee-k'>K1_CONSTANT_BAND_6_VCID_1:</span><span class='ee-v'>666.09</span></li><li><span class='ee-k'>K1_CONSTANT_BAND_6_VCID_2:</span><span class='ee-v'>666.09</span></li><li><span class='ee-k'>K2_CONSTANT_BAND_6_VCID_1:</span><span class='ee-v'>1282.71</span></li><li><span class='ee-k'>K2_CONSTANT_BAND_6_VCID_2:</span><span class='ee-v'>1282.71</span></li><li><span class='ee-k'>LANDSAT_PRODUCT_ID:</span><span class='ee-v'>LE07_L1TP_227062_20130917_20200907_02_T1</span></li><li><span class='ee-k'>LANDSAT_SCENE_ID:</span><span class='ee-v'>LE72270622013260CUB01</span></li><li><span class='ee-k'>MAP_PROJECTION:</span><span class='ee-v'>UTM</span></li><li><span class='ee-k'>ORIENTATION:</span><span class='ee-v'>NORTH_UP</span></li><li><span class='ee-k'>PANCHROMATIC_LINES:</span><span class='ee-v'>13961</span></li><li><span class='ee-k'>PANCHROMATIC_SAMPLES:</span><span class='ee-v'>16061</span></li><li><span class='ee-k'>PROCESSING_LEVEL:</span><span class='ee-v'>L1TP</span></li><li><span class='ee-k'>PROCESSING_SOFTWARE_VERSION:</span><span class='ee-v'>LPGS_15.3.1c</span></li><li><span class='ee-k'>RADIANCE_ADD_BAND_1:</span><span class='ee-v'>-6.97874</span></li><li><span class='ee-k'>RADIANCE_ADD_BAND_2:</span><span class='ee-v'>-7.19882</span></li><li><span class='ee-k'>RADIANCE_ADD_BAND_3:</span><span class='ee-v'>-5.62165</span></li><li><span class='ee-k'>RADIANCE_ADD_BAND_4:</span><span class='ee-v'>-6.06929</span></li><li><span class='ee-k'>RADIANCE_ADD_BAND_5:</span><span class='ee-v'>-1.12622</span></li><li><span class='ee-k'>RADIANCE_ADD_BAND_6_VCID_1:</span><span class='ee-v'>-0.06709</span></li><li><span class='ee-k'>RADIANCE_ADD_BAND_6_VCID_2:</span><span class='ee-v'>3.1628</span></li><li><span class='ee-k'>RADIANCE_ADD_BAND_7:</span><span class='ee-v'>-0.3939</span></li><li><span class='ee-k'>RADIANCE_ADD_BAND_8:</span><span class='ee-v'>-5.67559</span></li><li><span class='ee-k'>RADIANCE_MULT_BAND_1:</span><span class='ee-v'>0.77874</span></li><li><span class='ee-k'>RADIANCE_MULT_BAND_2:</span><span class='ee-v'>0.79882</span></li><li><span class='ee-k'>RADIANCE_MULT_BAND_3:</span><span class='ee-v'>0.62165</span></li><li><span class='ee-k'>RADIANCE_MULT_BAND_4:</span><span class='ee-v'>0.96929</span></li><li><span class='ee-k'>RADIANCE_MULT_BAND_5:</span><span class='ee-v'>0.12622</span></li><li><span class='ee-k'>RADIANCE_MULT_BAND_6_VCID_1:</span><span class='ee-v'>0.067087</span></li><li><span class='ee-k'>RADIANCE_MULT_BAND_6_VCID_2:</span><span class='ee-v'>0.037205</span></li><li><span class='ee-k'>RADIANCE_MULT_BAND_7:</span><span class='ee-v'>0.043898</span></li><li><span class='ee-k'>RADIANCE_MULT_BAND_8:</span><span class='ee-v'>0.97559</span></li><li><span class='ee-k'>REFLECTANCE_ADD_BAND_1:</span><span class='ee-v'>-0.010877</span></li><li><span class='ee-k'>REFLECTANCE_ADD_BAND_2:</span><span class='ee-v'>-0.012308</span></li><li><span class='ee-k'>REFLECTANCE_ADD_BAND_3:</span><span class='ee-v'>-0.011697</span></li><li><span class='ee-k'>REFLECTANCE_ADD_BAND_4:</span><span class='ee-v'>-0.017982</span></li><li><span class='ee-k'>REFLECTANCE_ADD_BAND_5:</span><span class='ee-v'>-0.016127</span></li><li><span class='ee-k'>REFLECTANCE_ADD_BAND_7:</span><span class='ee-v'>-0.015363</span></li><li><span class='ee-k'>REFLECTANCE_ADD_BAND_8:</span><span class='ee-v'>-0.013654</span></li><li><span class='ee-k'>REFLECTANCE_MULT_BAND_1:</span><span class='ee-v'>0.0012137</span></li><li><span class='ee-k'>REFLECTANCE_MULT_BAND_2:</span><span class='ee-v'>0.0013657</span></li><li><span class='ee-k'>REFLECTANCE_MULT_BAND_3:</span><span class='ee-v'>0.0012935</span></li><li><span class='ee-k'>REFLECTANCE_MULT_BAND_4:</span><span class='ee-v'>0.0028718</span></li><li><span class='ee-k'>REFLECTANCE_MULT_BAND_5:</span><span class='ee-v'>0.0018074</span></li><li><span class='ee-k'>REFLECTANCE_MULT_BAND_7:</span><span class='ee-v'>0.0017121</span></li><li><span class='ee-k'>REFLECTANCE_MULT_BAND_8:</span><span class='ee-v'>0.002347</span></li><li><span class='ee-k'>REFLECTIVE_LINES:</span><span class='ee-v'>6981</span></li><li><span class='ee-k'>REFLECTIVE_SAMPLES:</span><span class='ee-v'>8031</span></li><li><span class='ee-k'>REQUEST_ID:</span><span class='ee-v'>L2</span></li><li><span class='ee-k'>RESAMPLING_OPTION:</span><span class='ee-v'>CUBIC_CONVOLUTION</span></li><li><span class='ee-k'>SATURATION_BAND_1:</span><span class='ee-v'>Y</span></li><li><span class='ee-k'>SATURATION_BAND_2:</span><span class='ee-v'>Y</span></li><li><span class='ee-k'>SATURATION_BAND_3:</span><span class='ee-v'>Y</span></li><li><span class='ee-k'>SATURATION_BAND_4:</span><span class='ee-v'>Y</span></li><li><span class='ee-k'>SATURATION_BAND_5:</span><span class='ee-v'>Y</span></li><li><span class='ee-k'>SATURATION_BAND_6_VCID_1:</span><span class='ee-v'>N</span></li><li><span class='ee-k'>SATURATION_BAND_6_VCID_2:</span><span class='ee-v'>N</span></li><li><span class='ee-k'>SATURATION_BAND_7:</span><span class='ee-v'>Y</span></li><li><span class='ee-k'>SATURATION_BAND_8:</span><span class='ee-v'>N</span></li><li><span class='ee-k'>SCAN_GAP_INTERPOLATION:</span><span class='ee-v'>2</span></li><li><span class='ee-k'>SCENE_CENTER_TIME:</span><span class='ee-v'>13:43:53.1182245Z</span></li><li><span class='ee-k'>SENSOR_ANOMALIES:</span><span class='ee-v'>NONE</span></li><li><span class='ee-k'>SENSOR_ID:</span><span class='ee-v'>ETM</span></li><li><span class='ee-k'>SENSOR_MODE:</span><span class='ee-v'>BUMPER</span></li><li><span class='ee-k'>SENSOR_MODE_SLC:</span><span class='ee-v'>OFF</span></li><li><span class='ee-k'>SPACECRAFT_ID:</span><span class='ee-v'>LANDSAT_7</span></li><li><span class='ee-k'>STATION_ID:</span><span class='ee-v'>CUB</span></li><li><span class='ee-k'>SUN_AZIMUTH:</span><span class='ee-v'>79.90788062</span></li><li><span class='ee-k'>SUN_ELEVATION:</span><span class='ee-v'>62.55895306</span></li><li><span class='ee-k'>THERMAL_LINES:</span><span class='ee-v'>6981</span></li><li><span class='ee-k'>THERMAL_SAMPLES:</span><span class='ee-v'>8031</span></li><li><span class='ee-k'>UTM_ZONE:</span><span class='ee-v'>21</span></li><li><span class='ee-k'>WRS_PATH:</span><span class='ee-v'>227</span></li><li><span class='ee-k'>WRS_ROW:</span><span class='ee-v'>62</span></li><li><span class='ee-k'>WRS_TYPE:</span><span class='ee-v'>2</span></li><li><span class='ee-k'>system:asset_size:</span><span class='ee-v'>2902993</span></li><li><label class='ee-shut'>system:footprint: LinearRing (19 vertices)<input type='checkbox' class='ee-toggle'></label><ul><li><span class='ee-k'>type:</span><span class='ee-v'>LinearRing</span></li><li><label class='ee-shut'>coordinates: List (19 elements)<input type='checkbox' class='ee-toggle'></label><ul><li><label class='ee-shut'>0: [-56.00790099168393, -1.9899313951966122]<input type='checkbox' class='ee-toggle'></label><ul><li><span class='ee-k'>0:</span><span class='ee-v'>-56.00790099168393</span></li><li><span class='ee-k'>1:</span><span class='ee-v'>-1.9899313951966122</span></li></ul></li><li><label class='ee-shut'>1: [-56.00790303255488, -1.9899651372103422]<input type='checkbox' class='ee-toggle'></label><ul><li><span class='ee-k'>0:</span><span class='ee-v'>-56.00790303255488</span></li><li><span class='ee-k'>1:</span><span class='ee-v'>-1.9899651372103422</span></li></ul></li><li><label class='ee-shut'>2: [-56.007695289133245, -2.311543999976785]<input type='checkbox' class='ee-toggle'></label><ul><li><span class='ee-k'>0:</span><span class='ee-v'>-56.007695289133245</span></li><li><span class='ee-k'>1:</span><span class='ee-v'>-2.311543999976785</span></li></ul></li><li><label class='ee-shut'>3: [-56.00758542256164, -2.311668371300401]<input type='checkbox' class='ee-toggle'></label><ul><li><span class='ee-k'>0:</span><span class='ee-v'>-56.00758542256164</span></li><li><span class='ee-k'>1:</span><span class='ee-v'>-2.311668371300401</span></li></ul></li><li><label class='ee-shut'>4: [-56.007491968050864, -2.311805420122597]<input type='checkbox' class='ee-toggle'></label><ul><li><span class='ee-k'>0:</span><span class='ee-v'>-56.007491968050864</span></li><li><span class='ee-k'>1:</span><span class='ee-v'>-2.311805420122597</span></li></ul></li><li><label class='ee-shut'>5: [-56.007458719016846, -2.311811703970227]<input type='checkbox' class='ee-toggle'></label><ul><li><span class='ee-k'>0:</span><span class='ee-v'>-56.007458719016846</span></li><li><span class='ee-k'>1:</span><span class='ee-v'>-2.311811703970227</span></li></ul></li><li><label class='ee-shut'>6: [-56.00742495977984, -2.311813812762818]<input type='checkbox' class='ee-toggle'></label><ul><li><span class='ee-k'>0:</span><span class='ee-v'>-56.00742495977984</span></li><li><span class='ee-k'>1:</span><span class='ee-v'>-2.311813812762818</span></li></ul></li><li><label class='ee-shut'>7: [-54.96521940588846, -2.3106966854844777]<input type='checkbox' class='ee-toggle'></label><ul><li><span class='ee-k'>0:</span><span class='ee-v'>-54.96521940588846</span></li><li><span class='ee-k'>1:</span><span class='ee-v'>-2.3106966854844777</span></li></ul></li><li><label class='ee-shut'>8: [-54.965095041218675, -2.3105868055625747]<input type='checkbox' class='ee-toggle'></label><ul><li><span class='ee-k'>0:</span><span class='ee-v'>-54.965095041218675</span></li><li><span class='ee-k'>1:</span><span class='ee-v'>-2.3105868055625747</span></li></ul></li><li><label class='ee-shut'>9: [-54.9649579041744, -2.310493389784539]<input type='checkbox' class='ee-toggle'></label><ul><li><span class='ee-k'>0:</span><span class='ee-v'>-54.9649579041744</span></li><li><span class='ee-k'>1:</span><span class='ee-v'>-2.310493389784539</span></li></ul></li><li><label class='ee-shut'>10: [-54.96494958520648, -2.3104489756132134]<input type='checkbox' class='ee-toggle'></label><ul><li><span class='ee-k'>0:</span><span class='ee-v'>-54.96494958520648</span></li><li><span class='ee-k'>1:</span><span class='ee-v'>-2.3104489756132134</span></li></ul></li><li><label class='ee-shut'>11: [-54.96537536616671, -1.9890030781522787]<input type='checkbox' class='ee-toggle'></label><ul><li><span class='ee-k'>0:</span><span class='ee-v'>-54.96537536616671</span></li><li><span class='ee-k'>1:</span><span class='ee-v'>-1.9890030781522787</span></li></ul></li><li><label class='ee-shut'>12: [-54.96548536203257, -1.9888788013913736]<input type='checkbox' class='ee-toggle'></label><ul><li><span class='ee-k'>0:</span><span class='ee-v'>-54.96548536203257</span></li><li><span class='ee-k'>1:</span><span class='ee-v'>-1.9888788013913736</span></li></ul></li><li><label class='ee-shut'>13: [-54.96557880401176, -1.9887418286222167]<input type='checkbox' class='ee-toggle'></label><ul><li><span class='ee-k'>0:</span><span class='ee-v'>-54.96557880401176</span></li><li><span class='ee-k'>1:</span><span class='ee-v'>-1.9887418286222167</span></li></ul></li><li><label class='ee-shut'>14: [-54.96562325621276, -1.9887333958904014]<input type='checkbox' class='ee-toggle'></label><ul><li><span class='ee-k'>0:</span><span class='ee-v'>-54.96562325621276</span></li><li><span class='ee-k'>1:</span><span class='ee-v'>-1.9887333958904014</span></li></ul></li><li><label class='ee-shut'>15: [-56.0076331277673, -1.9896950199386851]<input type='checkbox' class='ee-toggle'></label><ul><li><span class='ee-k'>0:</span><span class='ee-v'>-56.0076331277673</span></li><li><span class='ee-k'>1:</span><span class='ee-v'>-1.9896950199386851</span></li></ul></li><li><label class='ee-shut'>16: [-56.00775753557763, -1.9898048265148425]<input type='checkbox' class='ee-toggle'></label><ul><li><span class='ee-k'>0:</span><span class='ee-v'>-56.00775753557763</span></li><li><span class='ee-k'>1:</span><span class='ee-v'>-1.9898048265148425</span></li></ul></li><li><label class='ee-shut'>17: [-56.00789469899878, -1.9898981788466987]<input type='checkbox' class='ee-toggle'></label><ul><li><span class='ee-k'>0:</span><span class='ee-v'>-56.00789469899878</span></li><li><span class='ee-k'>1:</span><span class='ee-v'>-1.9898981788466987</span></li></ul></li><li><label class='ee-shut'>18: [-56.00790099168393, -1.9899313951966122]<input type='checkbox' class='ee-toggle'></label><ul><li><span class='ee-k'>0:</span><span class='ee-v'>-56.00790099168393</span></li><li><span class='ee-k'>1:</span><span class='ee-v'>-1.9899313951966122</span></li></ul></li></ul></li></ul></li><li><span class='ee-k'>system:index:</span><span class='ee-v'>BOA_LE07_227062_20130917</span></li><li><span class='ee-k'>system:time_end:</span><span class='ee-v'>1379425433118</span></li><li><span class='ee-k'>system:time_start:</span><span class='ee-v'>1379425433118</span></li></ul></li></ul></li></ul></li></ul></li></ul></div><script>function toggleHeader() {\n",
              "    const parent = this.parentElement;\n",
              "    parent.className = parent.className === \"ee-open\" ? \"ee-shut\" : \"ee-open\";\n",
              "}\n",
              "\n",
              "for (let c of document.getElementsByClassName(\"ee-toggle\")) {\n",
              "    c.onclick = toggleHeader;\n",
              "}</script></div>"
            ]
          },
          "metadata": {},
          "execution_count": 34
        }
      ]
    },
    {
      "cell_type": "markdown",
      "source": [
        "##Landsat 8 BOA"
      ],
      "metadata": {
        "id": "bgbcOKHcPtyN"
      }
    },
    {
      "cell_type": "markdown",
      "source": [
        "importar coleção com correção Py6S"
      ],
      "metadata": {
        "id": "ZVuAtr4BXD9G"
      }
    },
    {
      "cell_type": "code",
      "source": [
        "ld8_path = 'projects/ee-curuai/assets/Py6S/LD8/ld8_py6s'\n",
        "landsat8 = ee.ImageCollection(ld8_path)\n",
        "landsat8.limit(5)"
      ],
      "metadata": {
        "colab": {
          "base_uri": "https://localhost:8080/",
          "height": 68
        },
        "outputId": "d2dcdadf-7ab1-44e1-fe20-8823adb882ec",
        "id": "U6BJUe0KIEYN"
      },
      "execution_count": 35,
      "outputs": [
        {
          "output_type": "display_data",
          "data": {
            "text/plain": [
              "<IPython.core.display.HTML object>"
            ],
            "text/html": [
              "\n",
              "            <style>\n",
              "                .geemap-dark {\n",
              "                    --jp-widgets-color: white;\n",
              "                    --jp-widgets-label-color: white;\n",
              "                    --jp-ui-font-color1: white;\n",
              "                    --jp-layout-color2: #454545;\n",
              "                    background-color: #383838;\n",
              "                }\n",
              "\n",
              "                .geemap-dark .jupyter-button {\n",
              "                    --jp-layout-color3: #383838;\n",
              "                }\n",
              "\n",
              "                .geemap-colab {\n",
              "                    background-color: var(--colab-primary-surface-color, white);\n",
              "                }\n",
              "\n",
              "                .geemap-colab .jupyter-button {\n",
              "                    --jp-layout-color3: var(--colab-primary-surface-color, white);\n",
              "                }\n",
              "            </style>\n",
              "            "
            ]
          },
          "metadata": {}
        },
        {
          "output_type": "execute_result",
          "data": {
            "text/plain": [
              "<ee.imagecollection.ImageCollection at 0x7cfa23fdbe50>"
            ],
            "text/html": [
              "<div><style>:root {\n",
              "  --font-color-primary: var(--jp-content-font-color0, rgba(0, 0, 0, 1));\n",
              "  --font-color-secondary: var(--jp-content-font-color2, rgba(0, 0, 0, 0.6));\n",
              "  --font-color-accent: rgba(123, 31, 162, 1);\n",
              "  --border-color: var(--jp-border-color2, #e0e0e0);\n",
              "  --background-color: var(--jp-layout-color0, white);\n",
              "  --background-color-row-even: var(--jp-layout-color1, white);\n",
              "  --background-color-row-odd: var(--jp-layout-color2, #eeeeee);\n",
              "}\n",
              "\n",
              "html[theme=\"dark\"],\n",
              "body[data-theme=\"dark\"],\n",
              "body.vscode-dark {\n",
              "  --font-color-primary: rgba(255, 255, 255, 1);\n",
              "  --font-color-secondary: rgba(255, 255, 255, 0.6);\n",
              "  --font-color-accent: rgb(173, 132, 190);\n",
              "  --border-color: #2e2e2e;\n",
              "  --background-color: #111111;\n",
              "  --background-color-row-even: #111111;\n",
              "  --background-color-row-odd: #313131;\n",
              "}\n",
              "\n",
              ".ee {\n",
              "  padding: 1em;\n",
              "  line-height: 1.5em;\n",
              "  min-width: 300px;\n",
              "  max-width: 1200px;\n",
              "  overflow-y: scroll;\n",
              "  max-height: 600px;\n",
              "  border: 1px solid var(--border-color);\n",
              "  font-family: monospace;\n",
              "}\n",
              "\n",
              ".ee li {\n",
              "  list-style-type: none;\n",
              "}\n",
              "\n",
              ".ee ul {\n",
              "  padding-left: 1.5em !important;\n",
              "  margin: 0;\n",
              "}\n",
              "\n",
              ".ee > ul {\n",
              "  padding-left: 0 !important;\n",
              "}\n",
              "\n",
              ".ee-open,\n",
              ".ee-shut {\n",
              "  color: var(--font-color-secondary);\n",
              "  cursor: pointer;\n",
              "  margin: 0;\n",
              "}\n",
              "\n",
              ".ee-open:hover,\n",
              ".ee-shut:hover {\n",
              "  color: var(--font-color-primary);\n",
              "}\n",
              "\n",
              ".ee-k {\n",
              "  color: var(--font-color-accent);\n",
              "  margin-right: 6px;\n",
              "}\n",
              "\n",
              ".ee-v {\n",
              "  color: var(--font-color-primary);\n",
              "}\n",
              "\n",
              ".ee-toggle {\n",
              "  display: none;\n",
              "}\n",
              "\n",
              ".ee-shut + ul {\n",
              "  display: none;\n",
              "}\n",
              "\n",
              ".ee-open + ul {\n",
              "  display: block;\n",
              "}\n",
              "\n",
              ".ee-shut::before {\n",
              "  display: inline-block;\n",
              "  content: \"▼\";\n",
              "  margin-right: 6px;\n",
              "  transform: rotate(-90deg);\n",
              "  transition: transform 0.2s;\n",
              "}\n",
              "\n",
              ".ee-open::before {\n",
              "  transform: rotate(0deg);\n",
              "  display: inline-block;\n",
              "  content: \"▼\";\n",
              "  margin-right: 6px;\n",
              "  transition: transform 0.2s;\n",
              "}\n",
              "</style><div class='ee'><ul><li><label class='ee-shut'>ImageCollection projects/ee-curuai/assets/Py6S/LD8/ld8_py6s  (5 elements)<input type='checkbox' class='ee-toggle'></label><ul><li><span class='ee-k'>type:</span><span class='ee-v'>ImageCollection</span></li><li><span class='ee-k'>id:</span><span class='ee-v'>projects/ee-curuai/assets/Py6S/LD8/ld8_py6s</span></li><li><span class='ee-k'>version:</span><span class='ee-v'>1715556657542412</span></li><li><label class='ee-shut'>bands: []<input type='checkbox' class='ee-toggle'></label><ul></ul></li><li><label class='ee-shut'>features: List (5 elements)<input type='checkbox' class='ee-toggle'></label><ul><li><label class='ee-shut'>0: Image projects/ee-curuai/assets/Py6S/LD8/ld8_py6s/BOA_LC08_227062_20130520 (8 bands)<input type='checkbox' class='ee-toggle'></label><ul><li><span class='ee-k'>type:</span><span class='ee-v'>Image</span></li><li><span class='ee-k'>id:</span><span class='ee-v'>projects/ee-curuai/assets/Py6S/LD8/ld8_py6s/BOA_LC08_227062_20130520</span></li><li><span class='ee-k'>version:</span><span class='ee-v'>1715545728405639</span></li><li><label class='ee-shut'>bands: List (8 elements)<input type='checkbox' class='ee-toggle'></label><ul><li><label class='ee-shut'>0: \"QA_PIXEL\", unsigned int16, EPSG:32721, 3864x1186 px<input type='checkbox' class='ee-toggle'></label><ul><li><span class='ee-k'>id:</span><span class='ee-v'>QA_PIXEL</span></li><li><span class='ee-k'>crs:</span><span class='ee-v'>EPSG:32721</span></li><li><label class='ee-shut'>crs_transform: [30, 0, 610350, 0, -30, 9780030]<input type='checkbox' class='ee-toggle'></label><ul><li><span class='ee-k'>0:</span><span class='ee-v'>30</span></li><li><span class='ee-k'>1:</span><span class='ee-v'>0</span></li><li><span class='ee-k'>2:</span><span class='ee-v'>610350</span></li><li><span class='ee-k'>3:</span><span class='ee-v'>0</span></li><li><span class='ee-k'>4:</span><span class='ee-v'>-30</span></li><li><span class='ee-k'>5:</span><span class='ee-v'>9780030</span></li></ul></li><li><label class='ee-shut'>data_type: unsigned int16<input type='checkbox' class='ee-toggle'></label><ul><li><span class='ee-k'>type:</span><span class='ee-v'>PixelType</span></li><li><span class='ee-k'>max:</span><span class='ee-v'>65535</span></li><li><span class='ee-k'>min:</span><span class='ee-v'>0</span></li><li><span class='ee-k'>precision:</span><span class='ee-v'>int</span></li></ul></li><li><label class='ee-shut'>dimensions: [3864, 1186]<input type='checkbox' class='ee-toggle'></label><ul><li><span class='ee-k'>0:</span><span class='ee-v'>3864</span></li><li><span class='ee-k'>1:</span><span class='ee-v'>1186</span></li></ul></li></ul></li><li><label class='ee-shut'>1: \"B1\", double, EPSG:32721, 3864x1186 px<input type='checkbox' class='ee-toggle'></label><ul><li><span class='ee-k'>id:</span><span class='ee-v'>B1</span></li><li><span class='ee-k'>crs:</span><span class='ee-v'>EPSG:32721</span></li><li><label class='ee-shut'>crs_transform: [30, 0, 610350, 0, -30, 9780030]<input type='checkbox' class='ee-toggle'></label><ul><li><span class='ee-k'>0:</span><span class='ee-v'>30</span></li><li><span class='ee-k'>1:</span><span class='ee-v'>0</span></li><li><span class='ee-k'>2:</span><span class='ee-v'>610350</span></li><li><span class='ee-k'>3:</span><span class='ee-v'>0</span></li><li><span class='ee-k'>4:</span><span class='ee-v'>-30</span></li><li><span class='ee-k'>5:</span><span class='ee-v'>9780030</span></li></ul></li><li><label class='ee-shut'>data_type: double<input type='checkbox' class='ee-toggle'></label><ul><li><span class='ee-k'>type:</span><span class='ee-v'>PixelType</span></li><li><span class='ee-k'>precision:</span><span class='ee-v'>double</span></li></ul></li><li><label class='ee-shut'>dimensions: [3864, 1186]<input type='checkbox' class='ee-toggle'></label><ul><li><span class='ee-k'>0:</span><span class='ee-v'>3864</span></li><li><span class='ee-k'>1:</span><span class='ee-v'>1186</span></li></ul></li></ul></li><li><label class='ee-shut'>2: \"B2\", double, EPSG:32721, 3864x1186 px<input type='checkbox' class='ee-toggle'></label><ul><li><span class='ee-k'>id:</span><span class='ee-v'>B2</span></li><li><span class='ee-k'>crs:</span><span class='ee-v'>EPSG:32721</span></li><li><label class='ee-shut'>crs_transform: [30, 0, 610350, 0, -30, 9780030]<input type='checkbox' class='ee-toggle'></label><ul><li><span class='ee-k'>0:</span><span class='ee-v'>30</span></li><li><span class='ee-k'>1:</span><span class='ee-v'>0</span></li><li><span class='ee-k'>2:</span><span class='ee-v'>610350</span></li><li><span class='ee-k'>3:</span><span class='ee-v'>0</span></li><li><span class='ee-k'>4:</span><span class='ee-v'>-30</span></li><li><span class='ee-k'>5:</span><span class='ee-v'>9780030</span></li></ul></li><li><label class='ee-shut'>data_type: double<input type='checkbox' class='ee-toggle'></label><ul><li><span class='ee-k'>type:</span><span class='ee-v'>PixelType</span></li><li><span class='ee-k'>precision:</span><span class='ee-v'>double</span></li></ul></li><li><label class='ee-shut'>dimensions: [3864, 1186]<input type='checkbox' class='ee-toggle'></label><ul><li><span class='ee-k'>0:</span><span class='ee-v'>3864</span></li><li><span class='ee-k'>1:</span><span class='ee-v'>1186</span></li></ul></li></ul></li><li><label class='ee-shut'>3: \"B3\", double, EPSG:32721, 3864x1186 px<input type='checkbox' class='ee-toggle'></label><ul><li><span class='ee-k'>id:</span><span class='ee-v'>B3</span></li><li><span class='ee-k'>crs:</span><span class='ee-v'>EPSG:32721</span></li><li><label class='ee-shut'>crs_transform: [30, 0, 610350, 0, -30, 9780030]<input type='checkbox' class='ee-toggle'></label><ul><li><span class='ee-k'>0:</span><span class='ee-v'>30</span></li><li><span class='ee-k'>1:</span><span class='ee-v'>0</span></li><li><span class='ee-k'>2:</span><span class='ee-v'>610350</span></li><li><span class='ee-k'>3:</span><span class='ee-v'>0</span></li><li><span class='ee-k'>4:</span><span class='ee-v'>-30</span></li><li><span class='ee-k'>5:</span><span class='ee-v'>9780030</span></li></ul></li><li><label class='ee-shut'>data_type: double<input type='checkbox' class='ee-toggle'></label><ul><li><span class='ee-k'>type:</span><span class='ee-v'>PixelType</span></li><li><span class='ee-k'>precision:</span><span class='ee-v'>double</span></li></ul></li><li><label class='ee-shut'>dimensions: [3864, 1186]<input type='checkbox' class='ee-toggle'></label><ul><li><span class='ee-k'>0:</span><span class='ee-v'>3864</span></li><li><span class='ee-k'>1:</span><span class='ee-v'>1186</span></li></ul></li></ul></li><li><label class='ee-shut'>4: \"B4\", double, EPSG:32721, 3864x1186 px<input type='checkbox' class='ee-toggle'></label><ul><li><span class='ee-k'>id:</span><span class='ee-v'>B4</span></li><li><span class='ee-k'>crs:</span><span class='ee-v'>EPSG:32721</span></li><li><label class='ee-shut'>crs_transform: [30, 0, 610350, 0, -30, 9780030]<input type='checkbox' class='ee-toggle'></label><ul><li><span class='ee-k'>0:</span><span class='ee-v'>30</span></li><li><span class='ee-k'>1:</span><span class='ee-v'>0</span></li><li><span class='ee-k'>2:</span><span class='ee-v'>610350</span></li><li><span class='ee-k'>3:</span><span class='ee-v'>0</span></li><li><span class='ee-k'>4:</span><span class='ee-v'>-30</span></li><li><span class='ee-k'>5:</span><span class='ee-v'>9780030</span></li></ul></li><li><label class='ee-shut'>data_type: double<input type='checkbox' class='ee-toggle'></label><ul><li><span class='ee-k'>type:</span><span class='ee-v'>PixelType</span></li><li><span class='ee-k'>precision:</span><span class='ee-v'>double</span></li></ul></li><li><label class='ee-shut'>dimensions: [3864, 1186]<input type='checkbox' class='ee-toggle'></label><ul><li><span class='ee-k'>0:</span><span class='ee-v'>3864</span></li><li><span class='ee-k'>1:</span><span class='ee-v'>1186</span></li></ul></li></ul></li><li><label class='ee-shut'>5: \"B5\", double, EPSG:32721, 3864x1186 px<input type='checkbox' class='ee-toggle'></label><ul><li><span class='ee-k'>id:</span><span class='ee-v'>B5</span></li><li><span class='ee-k'>crs:</span><span class='ee-v'>EPSG:32721</span></li><li><label class='ee-shut'>crs_transform: [30, 0, 610350, 0, -30, 9780030]<input type='checkbox' class='ee-toggle'></label><ul><li><span class='ee-k'>0:</span><span class='ee-v'>30</span></li><li><span class='ee-k'>1:</span><span class='ee-v'>0</span></li><li><span class='ee-k'>2:</span><span class='ee-v'>610350</span></li><li><span class='ee-k'>3:</span><span class='ee-v'>0</span></li><li><span class='ee-k'>4:</span><span class='ee-v'>-30</span></li><li><span class='ee-k'>5:</span><span class='ee-v'>9780030</span></li></ul></li><li><label class='ee-shut'>data_type: double<input type='checkbox' class='ee-toggle'></label><ul><li><span class='ee-k'>type:</span><span class='ee-v'>PixelType</span></li><li><span class='ee-k'>precision:</span><span class='ee-v'>double</span></li></ul></li><li><label class='ee-shut'>dimensions: [3864, 1186]<input type='checkbox' class='ee-toggle'></label><ul><li><span class='ee-k'>0:</span><span class='ee-v'>3864</span></li><li><span class='ee-k'>1:</span><span class='ee-v'>1186</span></li></ul></li></ul></li><li><label class='ee-shut'>6: \"B6\", double, EPSG:32721, 3864x1186 px<input type='checkbox' class='ee-toggle'></label><ul><li><span class='ee-k'>id:</span><span class='ee-v'>B6</span></li><li><span class='ee-k'>crs:</span><span class='ee-v'>EPSG:32721</span></li><li><label class='ee-shut'>crs_transform: [30, 0, 610350, 0, -30, 9780030]<input type='checkbox' class='ee-toggle'></label><ul><li><span class='ee-k'>0:</span><span class='ee-v'>30</span></li><li><span class='ee-k'>1:</span><span class='ee-v'>0</span></li><li><span class='ee-k'>2:</span><span class='ee-v'>610350</span></li><li><span class='ee-k'>3:</span><span class='ee-v'>0</span></li><li><span class='ee-k'>4:</span><span class='ee-v'>-30</span></li><li><span class='ee-k'>5:</span><span class='ee-v'>9780030</span></li></ul></li><li><label class='ee-shut'>data_type: double<input type='checkbox' class='ee-toggle'></label><ul><li><span class='ee-k'>type:</span><span class='ee-v'>PixelType</span></li><li><span class='ee-k'>precision:</span><span class='ee-v'>double</span></li></ul></li><li><label class='ee-shut'>dimensions: [3864, 1186]<input type='checkbox' class='ee-toggle'></label><ul><li><span class='ee-k'>0:</span><span class='ee-v'>3864</span></li><li><span class='ee-k'>1:</span><span class='ee-v'>1186</span></li></ul></li></ul></li><li><label class='ee-shut'>7: \"B7\", double, EPSG:32721, 3864x1186 px<input type='checkbox' class='ee-toggle'></label><ul><li><span class='ee-k'>id:</span><span class='ee-v'>B7</span></li><li><span class='ee-k'>crs:</span><span class='ee-v'>EPSG:32721</span></li><li><label class='ee-shut'>crs_transform: [30, 0, 610350, 0, -30, 9780030]<input type='checkbox' class='ee-toggle'></label><ul><li><span class='ee-k'>0:</span><span class='ee-v'>30</span></li><li><span class='ee-k'>1:</span><span class='ee-v'>0</span></li><li><span class='ee-k'>2:</span><span class='ee-v'>610350</span></li><li><span class='ee-k'>3:</span><span class='ee-v'>0</span></li><li><span class='ee-k'>4:</span><span class='ee-v'>-30</span></li><li><span class='ee-k'>5:</span><span class='ee-v'>9780030</span></li></ul></li><li><label class='ee-shut'>data_type: double<input type='checkbox' class='ee-toggle'></label><ul><li><span class='ee-k'>type:</span><span class='ee-v'>PixelType</span></li><li><span class='ee-k'>precision:</span><span class='ee-v'>double</span></li></ul></li><li><label class='ee-shut'>dimensions: [3864, 1186]<input type='checkbox' class='ee-toggle'></label><ul><li><span class='ee-k'>0:</span><span class='ee-v'>3864</span></li><li><span class='ee-k'>1:</span><span class='ee-v'>1186</span></li></ul></li></ul></li></ul></li><li><label class='ee-shut'>properties: Object (115 properties)<input type='checkbox' class='ee-toggle'></label><ul><li><span class='ee-k'>AC_aerosol_optical_thickness:</span><span class='ee-v'>0.251</span></li><li><span class='ee-k'>AC_date:</span><span class='ee-v'>2013-05-20</span></li><li><span class='ee-k'>AC_ozone:</span><span class='ee-v'>0.253</span></li><li><span class='ee-k'>AC_version:</span><span class='ee-v'>py6S</span></li><li><span class='ee-k'>AC_water_vapour:</span><span class='ee-v'>4.9</span></li><li><span class='ee-k'>CLOUD_COVER:</span><span class='ee-v'>57.72</span></li><li><span class='ee-k'>CLOUD_COVER_LAND:</span><span class='ee-v'>57.72</span></li><li><span class='ee-k'>COLLECTION_CATEGORY:</span><span class='ee-v'>T1</span></li><li><span class='ee-k'>COLLECTION_NUMBER:</span><span class='ee-v'>2</span></li><li><span class='ee-k'>DATA_SOURCE_ELEVATION:</span><span class='ee-v'>GLS2000</span></li><li><span class='ee-k'>DATA_SOURCE_TIRS_STRAY_LIGHT_CORRECTION:</span><span class='ee-v'>TIRS</span></li><li><span class='ee-k'>DATE_ACQUIRED:</span><span class='ee-v'>2013-05-20</span></li><li><span class='ee-k'>DATE_PRODUCT_GENERATED:</span><span class='ee-v'>1599944871000</span></li><li><span class='ee-k'>DATUM:</span><span class='ee-v'>WGS84</span></li><li><span class='ee-k'>EARTH_SUN_DISTANCE:</span><span class='ee-v'>1.0119757</span></li><li><span class='ee-k'>ELLIPSOID:</span><span class='ee-v'>WGS84</span></li><li><span class='ee-k'>GEOMETRIC_RMSE_MODEL:</span><span class='ee-v'>8.976</span></li><li><span class='ee-k'>GEOMETRIC_RMSE_MODEL_X:</span><span class='ee-v'>6.007</span></li><li><span class='ee-k'>GEOMETRIC_RMSE_MODEL_Y:</span><span class='ee-v'>6.669</span></li><li><span class='ee-k'>GRID_CELL_SIZE_PANCHROMATIC:</span><span class='ee-v'>15</span></li><li><span class='ee-k'>GRID_CELL_SIZE_REFLECTIVE:</span><span class='ee-v'>30</span></li><li><span class='ee-k'>GRID_CELL_SIZE_THERMAL:</span><span class='ee-v'>30</span></li><li><span class='ee-k'>GROUND_CONTROL_POINTS_MODEL:</span><span class='ee-v'>110</span></li><li><span class='ee-k'>GROUND_CONTROL_POINTS_VERSION:</span><span class='ee-v'>5</span></li><li><span class='ee-k'>IMAGE_QUALITY_OLI:</span><span class='ee-v'>9</span></li><li><span class='ee-k'>IMAGE_QUALITY_TIRS:</span><span class='ee-v'>9</span></li><li><span class='ee-k'>K1_CONSTANT_BAND_10:</span><span class='ee-v'>774.8853</span></li><li><span class='ee-k'>K1_CONSTANT_BAND_11:</span><span class='ee-v'>480.8883</span></li><li><span class='ee-k'>K2_CONSTANT_BAND_10:</span><span class='ee-v'>1321.0789</span></li><li><span class='ee-k'>K2_CONSTANT_BAND_11:</span><span class='ee-v'>1201.1442</span></li><li><span class='ee-k'>LANDSAT_PRODUCT_ID:</span><span class='ee-v'>LC08_L1TP_227062_20130520_20200912_02_T1</span></li><li><span class='ee-k'>LANDSAT_SCENE_ID:</span><span class='ee-v'>LC82270622013140LGN02</span></li><li><span class='ee-k'>MAP_PROJECTION:</span><span class='ee-v'>UTM</span></li><li><span class='ee-k'>NADIR_OFFNADIR:</span><span class='ee-v'>NADIR</span></li><li><span class='ee-k'>ORIENTATION:</span><span class='ee-v'>NORTH_UP</span></li><li><span class='ee-k'>PANCHROMATIC_LINES:</span><span class='ee-v'>14621</span></li><li><span class='ee-k'>PANCHROMATIC_SAMPLES:</span><span class='ee-v'>15041</span></li><li><span class='ee-k'>PROCESSING_LEVEL:</span><span class='ee-v'>L1TP</span></li><li><span class='ee-k'>PROCESSING_SOFTWARE_VERSION:</span><span class='ee-v'>LPGS_15.3.1c</span></li><li><span class='ee-k'>RADIANCE_ADD_BAND_1:</span><span class='ee-v'>-61.30172</span></li><li><span class='ee-k'>RADIANCE_ADD_BAND_10:</span><span class='ee-v'>0.1</span></li><li><span class='ee-k'>RADIANCE_ADD_BAND_11:</span><span class='ee-v'>0.1</span></li><li><span class='ee-k'>RADIANCE_ADD_BAND_2:</span><span class='ee-v'>-62.77371</span></li><li><span class='ee-k'>RADIANCE_ADD_BAND_3:</span><span class='ee-v'>-57.84543</span></li><li><span class='ee-k'>RADIANCE_ADD_BAND_4:</span><span class='ee-v'>-48.77853</span></li><li><span class='ee-k'>RADIANCE_ADD_BAND_5:</span><span class='ee-v'>-29.85003</span></li><li><span class='ee-k'>RADIANCE_ADD_BAND_6:</span><span class='ee-v'>-7.42343</span></li><li><span class='ee-k'>RADIANCE_ADD_BAND_7:</span><span class='ee-v'>-2.50209</span></li><li><span class='ee-k'>RADIANCE_ADD_BAND_8:</span><span class='ee-v'>-55.20387</span></li><li><span class='ee-k'>RADIANCE_ADD_BAND_9:</span><span class='ee-v'>-11.66607</span></li><li><span class='ee-k'>RADIANCE_MULT_BAND_1:</span><span class='ee-v'>0.01226</span></li><li><span class='ee-k'>RADIANCE_MULT_BAND_10:</span><span class='ee-v'>0.0003342</span></li><li><span class='ee-k'>RADIANCE_MULT_BAND_11:</span><span class='ee-v'>0.0003342</span></li><li><span class='ee-k'>RADIANCE_MULT_BAND_2:</span><span class='ee-v'>0.012555</span></li><li><span class='ee-k'>RADIANCE_MULT_BAND_3:</span><span class='ee-v'>0.011569</span></li><li><span class='ee-k'>RADIANCE_MULT_BAND_4:</span><span class='ee-v'>0.0097557</span></li><li><span class='ee-k'>RADIANCE_MULT_BAND_5:</span><span class='ee-v'>0.00597</span></li><li><span class='ee-k'>RADIANCE_MULT_BAND_6:</span><span class='ee-v'>0.0014847</span></li><li><span class='ee-k'>RADIANCE_MULT_BAND_7:</span><span class='ee-v'>0.00050042</span></li><li><span class='ee-k'>RADIANCE_MULT_BAND_8:</span><span class='ee-v'>0.011041</span></li><li><span class='ee-k'>RADIANCE_MULT_BAND_9:</span><span class='ee-v'>0.0023332</span></li><li><span class='ee-k'>REFLECTANCE_ADD_BAND_1:</span><span class='ee-v'>-0.1</span></li><li><span class='ee-k'>REFLECTANCE_ADD_BAND_2:</span><span class='ee-v'>-0.1</span></li><li><span class='ee-k'>REFLECTANCE_ADD_BAND_3:</span><span class='ee-v'>-0.1</span></li><li><span class='ee-k'>REFLECTANCE_ADD_BAND_4:</span><span class='ee-v'>-0.1</span></li><li><span class='ee-k'>REFLECTANCE_ADD_BAND_5:</span><span class='ee-v'>-0.1</span></li><li><span class='ee-k'>REFLECTANCE_ADD_BAND_6:</span><span class='ee-v'>-0.1</span></li><li><span class='ee-k'>REFLECTANCE_ADD_BAND_7:</span><span class='ee-v'>-0.1</span></li><li><span class='ee-k'>REFLECTANCE_ADD_BAND_8:</span><span class='ee-v'>-0.1</span></li><li><span class='ee-k'>REFLECTANCE_ADD_BAND_9:</span><span class='ee-v'>-0.1</span></li><li><span class='ee-k'>REFLECTANCE_MULT_BAND_1:</span><span class='ee-v'>2e-05</span></li><li><span class='ee-k'>REFLECTANCE_MULT_BAND_2:</span><span class='ee-v'>2e-05</span></li><li><span class='ee-k'>REFLECTANCE_MULT_BAND_3:</span><span class='ee-v'>2e-05</span></li><li><span class='ee-k'>REFLECTANCE_MULT_BAND_4:</span><span class='ee-v'>2e-05</span></li><li><span class='ee-k'>REFLECTANCE_MULT_BAND_5:</span><span class='ee-v'>2e-05</span></li><li><span class='ee-k'>REFLECTANCE_MULT_BAND_6:</span><span class='ee-v'>2e-05</span></li><li><span class='ee-k'>REFLECTANCE_MULT_BAND_7:</span><span class='ee-v'>2e-05</span></li><li><span class='ee-k'>REFLECTANCE_MULT_BAND_8:</span><span class='ee-v'>2e-05</span></li><li><span class='ee-k'>REFLECTANCE_MULT_BAND_9:</span><span class='ee-v'>2e-05</span></li><li><span class='ee-k'>REFLECTIVE_LINES:</span><span class='ee-v'>7311</span></li><li><span class='ee-k'>REFLECTIVE_SAMPLES:</span><span class='ee-v'>7521</span></li><li><span class='ee-k'>REQUEST_ID:</span><span class='ee-v'>L2</span></li><li><span class='ee-k'>RESAMPLING_OPTION:</span><span class='ee-v'>CUBIC_CONVOLUTION</span></li><li><span class='ee-k'>ROLL_ANGLE:</span><span class='ee-v'>-0.001</span></li><li><span class='ee-k'>SATURATION_BAND_1:</span><span class='ee-v'>N</span></li><li><span class='ee-k'>SATURATION_BAND_2:</span><span class='ee-v'>Y</span></li><li><span class='ee-k'>SATURATION_BAND_3:</span><span class='ee-v'>N</span></li><li><span class='ee-k'>SATURATION_BAND_4:</span><span class='ee-v'>Y</span></li><li><span class='ee-k'>SATURATION_BAND_5:</span><span class='ee-v'>Y</span></li><li><span class='ee-k'>SATURATION_BAND_6:</span><span class='ee-v'>Y</span></li><li><span class='ee-k'>SATURATION_BAND_7:</span><span class='ee-v'>Y</span></li><li><span class='ee-k'>SATURATION_BAND_8:</span><span class='ee-v'>N</span></li><li><span class='ee-k'>SATURATION_BAND_9:</span><span class='ee-v'>N</span></li><li><span class='ee-k'>SCENE_CENTER_TIME:</span><span class='ee-v'>13:50:14.4341730Z</span></li><li><span class='ee-k'>SENSOR_ID:</span><span class='ee-v'>OLI_TIRS</span></li><li><span class='ee-k'>SPACECRAFT_ID:</span><span class='ee-v'>LANDSAT_8</span></li><li><span class='ee-k'>STATION_ID:</span><span class='ee-v'>LGN</span></li><li><span class='ee-k'>SUN_AZIMUTH:</span><span class='ee-v'>46.85122505</span></li><li><span class='ee-k'>SUN_ELEVATION:</span><span class='ee-v'>55.67979142</span></li><li><span class='ee-k'>TARGET_WRS_PATH:</span><span class='ee-v'>227</span></li><li><span class='ee-k'>TARGET_WRS_ROW:</span><span class='ee-v'>62</span></li><li><span class='ee-k'>THERMAL_LINES:</span><span class='ee-v'>7311</span></li><li><span class='ee-k'>THERMAL_SAMPLES:</span><span class='ee-v'>7521</span></li><li><span class='ee-k'>TIRS_SSM_MODEL:</span><span class='ee-v'>ACTUAL</span></li><li><span class='ee-k'>TIRS_SSM_POSITION_STATUS:</span><span class='ee-v'>NOMINAL</span></li><li><span class='ee-k'>TRUNCATION_OLI:</span><span class='ee-v'>UPPER</span></li><li><span class='ee-k'>UTM_ZONE:</span><span class='ee-v'>21</span></li><li><span class='ee-k'>WRS_PATH:</span><span class='ee-v'>227</span></li><li><span class='ee-k'>WRS_ROW:</span><span class='ee-v'>62</span></li><li><span class='ee-k'>WRS_TYPE:</span><span class='ee-v'>2</span></li><li><span class='ee-k'>system:asset_size:</span><span class='ee-v'>14724653</span></li><li><label class='ee-shut'>system:footprint: LinearRing (19 vertices)<input type='checkbox' class='ee-toggle'></label><ul><li><span class='ee-k'>type:</span><span class='ee-v'>LinearRing</span></li><li><label class='ee-shut'>coordinates: List (19 elements)<input type='checkbox' class='ee-toggle'></label><ul><li><label class='ee-shut'>0: [-56.00790099168393, -1.9899313951966122]<input type='checkbox' class='ee-toggle'></label><ul><li><span class='ee-k'>0:</span><span class='ee-v'>-56.00790099168393</span></li><li><span class='ee-k'>1:</span><span class='ee-v'>-1.9899313951966122</span></li></ul></li><li><label class='ee-shut'>1: [-56.00790303255488, -1.9899651372103422]<input type='checkbox' class='ee-toggle'></label><ul><li><span class='ee-k'>0:</span><span class='ee-v'>-56.00790303255488</span></li><li><span class='ee-k'>1:</span><span class='ee-v'>-1.9899651372103422</span></li></ul></li><li><label class='ee-shut'>2: [-56.007695289133245, -2.311543999976785]<input type='checkbox' class='ee-toggle'></label><ul><li><span class='ee-k'>0:</span><span class='ee-v'>-56.007695289133245</span></li><li><span class='ee-k'>1:</span><span class='ee-v'>-2.311543999976785</span></li></ul></li><li><label class='ee-shut'>3: [-56.00758542256164, -2.311668371300401]<input type='checkbox' class='ee-toggle'></label><ul><li><span class='ee-k'>0:</span><span class='ee-v'>-56.00758542256164</span></li><li><span class='ee-k'>1:</span><span class='ee-v'>-2.311668371300401</span></li></ul></li><li><label class='ee-shut'>4: [-56.007491968050864, -2.311805420122597]<input type='checkbox' class='ee-toggle'></label><ul><li><span class='ee-k'>0:</span><span class='ee-v'>-56.007491968050864</span></li><li><span class='ee-k'>1:</span><span class='ee-v'>-2.311805420122597</span></li></ul></li><li><label class='ee-shut'>5: [-56.007458719016846, -2.311811703970227]<input type='checkbox' class='ee-toggle'></label><ul><li><span class='ee-k'>0:</span><span class='ee-v'>-56.007458719016846</span></li><li><span class='ee-k'>1:</span><span class='ee-v'>-2.311811703970227</span></li></ul></li><li><label class='ee-shut'>6: [-56.00742495977984, -2.311813812762818]<input type='checkbox' class='ee-toggle'></label><ul><li><span class='ee-k'>0:</span><span class='ee-v'>-56.00742495977984</span></li><li><span class='ee-k'>1:</span><span class='ee-v'>-2.311813812762818</span></li></ul></li><li><label class='ee-shut'>7: [-54.965489059375095, -2.310697073459358]<input type='checkbox' class='ee-toggle'></label><ul><li><span class='ee-k'>0:</span><span class='ee-v'>-54.965489059375095</span></li><li><span class='ee-k'>1:</span><span class='ee-v'>-2.310697073459358</span></li></ul></li><li><label class='ee-shut'>8: [-54.965364694306565, -2.310587193231306]<input type='checkbox' class='ee-toggle'></label><ul><li><span class='ee-k'>0:</span><span class='ee-v'>-54.965364694306565</span></li><li><span class='ee-k'>1:</span><span class='ee-v'>-2.310587193231306</span></li></ul></li><li><label class='ee-shut'>9: [-54.96522755682257, -2.3104937772016316]<input type='checkbox' class='ee-toggle'></label><ul><li><span class='ee-k'>0:</span><span class='ee-v'>-54.96522755682257</span></li><li><span class='ee-k'>1:</span><span class='ee-v'>-2.3104937772016316</span></li></ul></li><li><label class='ee-shut'>10: [-54.96521915379773, -2.310449360521862]<input type='checkbox' class='ee-toggle'></label><ul><li><span class='ee-k'>0:</span><span class='ee-v'>-54.96521915379773</span></li><li><span class='ee-k'>1:</span><span class='ee-v'>-2.310449360521862</span></li></ul></li><li><label class='ee-shut'>11: [-54.96564502015339, -1.989003396395678]<input type='checkbox' class='ee-toggle'></label><ul><li><span class='ee-k'>0:</span><span class='ee-v'>-54.96564502015339</span></li><li><span class='ee-k'>1:</span><span class='ee-v'>-1.989003396395678</span></li></ul></li><li><label class='ee-shut'>12: [-54.96575493234115, -1.9888791171772373]<input type='checkbox' class='ee-toggle'></label><ul><li><span class='ee-k'>0:</span><span class='ee-v'>-54.96575493234115</span></li><li><span class='ee-k'>1:</span><span class='ee-v'>-1.9888791171772373</span></li></ul></li><li><label class='ee-shut'>13: [-54.96584845865072, -1.9887421460016503]<input type='checkbox' class='ee-toggle'></label><ul><li><span class='ee-k'>0:</span><span class='ee-v'>-54.96584845865072</span></li><li><span class='ee-k'>1:</span><span class='ee-v'>-1.9887421460016503</span></li></ul></li><li><label class='ee-shut'>14: [-54.965892826963334, -1.988733772966659]<input type='checkbox' class='ee-toggle'></label><ul><li><span class='ee-k'>0:</span><span class='ee-v'>-54.965892826963334</span></li><li><span class='ee-k'>1:</span><span class='ee-v'>-1.988733772966659</span></li></ul></li><li><label class='ee-shut'>15: [-56.0076331277673, -1.9896950199386851]<input type='checkbox' class='ee-toggle'></label><ul><li><span class='ee-k'>0:</span><span class='ee-v'>-56.0076331277673</span></li><li><span class='ee-k'>1:</span><span class='ee-v'>-1.9896950199386851</span></li></ul></li><li><label class='ee-shut'>16: [-56.00775753557763, -1.9898048265148425]<input type='checkbox' class='ee-toggle'></label><ul><li><span class='ee-k'>0:</span><span class='ee-v'>-56.00775753557763</span></li><li><span class='ee-k'>1:</span><span class='ee-v'>-1.9898048265148425</span></li></ul></li><li><label class='ee-shut'>17: [-56.00789469899878, -1.9898981788466987]<input type='checkbox' class='ee-toggle'></label><ul><li><span class='ee-k'>0:</span><span class='ee-v'>-56.00789469899878</span></li><li><span class='ee-k'>1:</span><span class='ee-v'>-1.9898981788466987</span></li></ul></li><li><label class='ee-shut'>18: [-56.00790099168393, -1.9899313951966122]<input type='checkbox' class='ee-toggle'></label><ul><li><span class='ee-k'>0:</span><span class='ee-v'>-56.00790099168393</span></li><li><span class='ee-k'>1:</span><span class='ee-v'>-1.9899313951966122</span></li></ul></li></ul></li></ul></li><li><span class='ee-k'>system:index:</span><span class='ee-v'>BOA_LC08_227062_20130520</span></li><li><span class='ee-k'>system:time_end:</span><span class='ee-v'>1369057814434</span></li><li><span class='ee-k'>system:time_start:</span><span class='ee-v'>1369057814434</span></li></ul></li></ul></li><li><label class='ee-shut'>1: Image projects/ee-curuai/assets/Py6S/LD8/ld8_py6s/BOA_LC08_227062_20130605 (8 bands)<input type='checkbox' class='ee-toggle'></label><ul><li><span class='ee-k'>type:</span><span class='ee-v'>Image</span></li><li><span class='ee-k'>id:</span><span class='ee-v'>projects/ee-curuai/assets/Py6S/LD8/ld8_py6s/BOA_LC08_227062_20130605</span></li><li><span class='ee-k'>version:</span><span class='ee-v'>1715545747013788</span></li><li><label class='ee-shut'>bands: List (8 elements)<input type='checkbox' class='ee-toggle'></label><ul><li><label class='ee-shut'>0: \"QA_PIXEL\", unsigned int16, EPSG:32721, 3864x1186 px<input type='checkbox' class='ee-toggle'></label><ul><li><span class='ee-k'>id:</span><span class='ee-v'>QA_PIXEL</span></li><li><span class='ee-k'>crs:</span><span class='ee-v'>EPSG:32721</span></li><li><label class='ee-shut'>crs_transform: [30, 0, 610350, 0, -30, 9780030]<input type='checkbox' class='ee-toggle'></label><ul><li><span class='ee-k'>0:</span><span class='ee-v'>30</span></li><li><span class='ee-k'>1:</span><span class='ee-v'>0</span></li><li><span class='ee-k'>2:</span><span class='ee-v'>610350</span></li><li><span class='ee-k'>3:</span><span class='ee-v'>0</span></li><li><span class='ee-k'>4:</span><span class='ee-v'>-30</span></li><li><span class='ee-k'>5:</span><span class='ee-v'>9780030</span></li></ul></li><li><label class='ee-shut'>data_type: unsigned int16<input type='checkbox' class='ee-toggle'></label><ul><li><span class='ee-k'>type:</span><span class='ee-v'>PixelType</span></li><li><span class='ee-k'>max:</span><span class='ee-v'>65535</span></li><li><span class='ee-k'>min:</span><span class='ee-v'>0</span></li><li><span class='ee-k'>precision:</span><span class='ee-v'>int</span></li></ul></li><li><label class='ee-shut'>dimensions: [3864, 1186]<input type='checkbox' class='ee-toggle'></label><ul><li><span class='ee-k'>0:</span><span class='ee-v'>3864</span></li><li><span class='ee-k'>1:</span><span class='ee-v'>1186</span></li></ul></li></ul></li><li><label class='ee-shut'>1: \"B1\", double, EPSG:32721, 3864x1186 px<input type='checkbox' class='ee-toggle'></label><ul><li><span class='ee-k'>id:</span><span class='ee-v'>B1</span></li><li><span class='ee-k'>crs:</span><span class='ee-v'>EPSG:32721</span></li><li><label class='ee-shut'>crs_transform: [30, 0, 610350, 0, -30, 9780030]<input type='checkbox' class='ee-toggle'></label><ul><li><span class='ee-k'>0:</span><span class='ee-v'>30</span></li><li><span class='ee-k'>1:</span><span class='ee-v'>0</span></li><li><span class='ee-k'>2:</span><span class='ee-v'>610350</span></li><li><span class='ee-k'>3:</span><span class='ee-v'>0</span></li><li><span class='ee-k'>4:</span><span class='ee-v'>-30</span></li><li><span class='ee-k'>5:</span><span class='ee-v'>9780030</span></li></ul></li><li><label class='ee-shut'>data_type: double<input type='checkbox' class='ee-toggle'></label><ul><li><span class='ee-k'>type:</span><span class='ee-v'>PixelType</span></li><li><span class='ee-k'>precision:</span><span class='ee-v'>double</span></li></ul></li><li><label class='ee-shut'>dimensions: [3864, 1186]<input type='checkbox' class='ee-toggle'></label><ul><li><span class='ee-k'>0:</span><span class='ee-v'>3864</span></li><li><span class='ee-k'>1:</span><span class='ee-v'>1186</span></li></ul></li></ul></li><li><label class='ee-shut'>2: \"B2\", double, EPSG:32721, 3864x1186 px<input type='checkbox' class='ee-toggle'></label><ul><li><span class='ee-k'>id:</span><span class='ee-v'>B2</span></li><li><span class='ee-k'>crs:</span><span class='ee-v'>EPSG:32721</span></li><li><label class='ee-shut'>crs_transform: [30, 0, 610350, 0, -30, 9780030]<input type='checkbox' class='ee-toggle'></label><ul><li><span class='ee-k'>0:</span><span class='ee-v'>30</span></li><li><span class='ee-k'>1:</span><span class='ee-v'>0</span></li><li><span class='ee-k'>2:</span><span class='ee-v'>610350</span></li><li><span class='ee-k'>3:</span><span class='ee-v'>0</span></li><li><span class='ee-k'>4:</span><span class='ee-v'>-30</span></li><li><span class='ee-k'>5:</span><span class='ee-v'>9780030</span></li></ul></li><li><label class='ee-shut'>data_type: double<input type='checkbox' class='ee-toggle'></label><ul><li><span class='ee-k'>type:</span><span class='ee-v'>PixelType</span></li><li><span class='ee-k'>precision:</span><span class='ee-v'>double</span></li></ul></li><li><label class='ee-shut'>dimensions: [3864, 1186]<input type='checkbox' class='ee-toggle'></label><ul><li><span class='ee-k'>0:</span><span class='ee-v'>3864</span></li><li><span class='ee-k'>1:</span><span class='ee-v'>1186</span></li></ul></li></ul></li><li><label class='ee-shut'>3: \"B3\", double, EPSG:32721, 3864x1186 px<input type='checkbox' class='ee-toggle'></label><ul><li><span class='ee-k'>id:</span><span class='ee-v'>B3</span></li><li><span class='ee-k'>crs:</span><span class='ee-v'>EPSG:32721</span></li><li><label class='ee-shut'>crs_transform: [30, 0, 610350, 0, -30, 9780030]<input type='checkbox' class='ee-toggle'></label><ul><li><span class='ee-k'>0:</span><span class='ee-v'>30</span></li><li><span class='ee-k'>1:</span><span class='ee-v'>0</span></li><li><span class='ee-k'>2:</span><span class='ee-v'>610350</span></li><li><span class='ee-k'>3:</span><span class='ee-v'>0</span></li><li><span class='ee-k'>4:</span><span class='ee-v'>-30</span></li><li><span class='ee-k'>5:</span><span class='ee-v'>9780030</span></li></ul></li><li><label class='ee-shut'>data_type: double<input type='checkbox' class='ee-toggle'></label><ul><li><span class='ee-k'>type:</span><span class='ee-v'>PixelType</span></li><li><span class='ee-k'>precision:</span><span class='ee-v'>double</span></li></ul></li><li><label class='ee-shut'>dimensions: [3864, 1186]<input type='checkbox' class='ee-toggle'></label><ul><li><span class='ee-k'>0:</span><span class='ee-v'>3864</span></li><li><span class='ee-k'>1:</span><span class='ee-v'>1186</span></li></ul></li></ul></li><li><label class='ee-shut'>4: \"B4\", double, EPSG:32721, 3864x1186 px<input type='checkbox' class='ee-toggle'></label><ul><li><span class='ee-k'>id:</span><span class='ee-v'>B4</span></li><li><span class='ee-k'>crs:</span><span class='ee-v'>EPSG:32721</span></li><li><label class='ee-shut'>crs_transform: [30, 0, 610350, 0, -30, 9780030]<input type='checkbox' class='ee-toggle'></label><ul><li><span class='ee-k'>0:</span><span class='ee-v'>30</span></li><li><span class='ee-k'>1:</span><span class='ee-v'>0</span></li><li><span class='ee-k'>2:</span><span class='ee-v'>610350</span></li><li><span class='ee-k'>3:</span><span class='ee-v'>0</span></li><li><span class='ee-k'>4:</span><span class='ee-v'>-30</span></li><li><span class='ee-k'>5:</span><span class='ee-v'>9780030</span></li></ul></li><li><label class='ee-shut'>data_type: double<input type='checkbox' class='ee-toggle'></label><ul><li><span class='ee-k'>type:</span><span class='ee-v'>PixelType</span></li><li><span class='ee-k'>precision:</span><span class='ee-v'>double</span></li></ul></li><li><label class='ee-shut'>dimensions: [3864, 1186]<input type='checkbox' class='ee-toggle'></label><ul><li><span class='ee-k'>0:</span><span class='ee-v'>3864</span></li><li><span class='ee-k'>1:</span><span class='ee-v'>1186</span></li></ul></li></ul></li><li><label class='ee-shut'>5: \"B5\", double, EPSG:32721, 3864x1186 px<input type='checkbox' class='ee-toggle'></label><ul><li><span class='ee-k'>id:</span><span class='ee-v'>B5</span></li><li><span class='ee-k'>crs:</span><span class='ee-v'>EPSG:32721</span></li><li><label class='ee-shut'>crs_transform: [30, 0, 610350, 0, -30, 9780030]<input type='checkbox' class='ee-toggle'></label><ul><li><span class='ee-k'>0:</span><span class='ee-v'>30</span></li><li><span class='ee-k'>1:</span><span class='ee-v'>0</span></li><li><span class='ee-k'>2:</span><span class='ee-v'>610350</span></li><li><span class='ee-k'>3:</span><span class='ee-v'>0</span></li><li><span class='ee-k'>4:</span><span class='ee-v'>-30</span></li><li><span class='ee-k'>5:</span><span class='ee-v'>9780030</span></li></ul></li><li><label class='ee-shut'>data_type: double<input type='checkbox' class='ee-toggle'></label><ul><li><span class='ee-k'>type:</span><span class='ee-v'>PixelType</span></li><li><span class='ee-k'>precision:</span><span class='ee-v'>double</span></li></ul></li><li><label class='ee-shut'>dimensions: [3864, 1186]<input type='checkbox' class='ee-toggle'></label><ul><li><span class='ee-k'>0:</span><span class='ee-v'>3864</span></li><li><span class='ee-k'>1:</span><span class='ee-v'>1186</span></li></ul></li></ul></li><li><label class='ee-shut'>6: \"B6\", double, EPSG:32721, 3864x1186 px<input type='checkbox' class='ee-toggle'></label><ul><li><span class='ee-k'>id:</span><span class='ee-v'>B6</span></li><li><span class='ee-k'>crs:</span><span class='ee-v'>EPSG:32721</span></li><li><label class='ee-shut'>crs_transform: [30, 0, 610350, 0, -30, 9780030]<input type='checkbox' class='ee-toggle'></label><ul><li><span class='ee-k'>0:</span><span class='ee-v'>30</span></li><li><span class='ee-k'>1:</span><span class='ee-v'>0</span></li><li><span class='ee-k'>2:</span><span class='ee-v'>610350</span></li><li><span class='ee-k'>3:</span><span class='ee-v'>0</span></li><li><span class='ee-k'>4:</span><span class='ee-v'>-30</span></li><li><span class='ee-k'>5:</span><span class='ee-v'>9780030</span></li></ul></li><li><label class='ee-shut'>data_type: double<input type='checkbox' class='ee-toggle'></label><ul><li><span class='ee-k'>type:</span><span class='ee-v'>PixelType</span></li><li><span class='ee-k'>precision:</span><span class='ee-v'>double</span></li></ul></li><li><label class='ee-shut'>dimensions: [3864, 1186]<input type='checkbox' class='ee-toggle'></label><ul><li><span class='ee-k'>0:</span><span class='ee-v'>3864</span></li><li><span class='ee-k'>1:</span><span class='ee-v'>1186</span></li></ul></li></ul></li><li><label class='ee-shut'>7: \"B7\", double, EPSG:32721, 3864x1186 px<input type='checkbox' class='ee-toggle'></label><ul><li><span class='ee-k'>id:</span><span class='ee-v'>B7</span></li><li><span class='ee-k'>crs:</span><span class='ee-v'>EPSG:32721</span></li><li><label class='ee-shut'>crs_transform: [30, 0, 610350, 0, -30, 9780030]<input type='checkbox' class='ee-toggle'></label><ul><li><span class='ee-k'>0:</span><span class='ee-v'>30</span></li><li><span class='ee-k'>1:</span><span class='ee-v'>0</span></li><li><span class='ee-k'>2:</span><span class='ee-v'>610350</span></li><li><span class='ee-k'>3:</span><span class='ee-v'>0</span></li><li><span class='ee-k'>4:</span><span class='ee-v'>-30</span></li><li><span class='ee-k'>5:</span><span class='ee-v'>9780030</span></li></ul></li><li><label class='ee-shut'>data_type: double<input type='checkbox' class='ee-toggle'></label><ul><li><span class='ee-k'>type:</span><span class='ee-v'>PixelType</span></li><li><span class='ee-k'>precision:</span><span class='ee-v'>double</span></li></ul></li><li><label class='ee-shut'>dimensions: [3864, 1186]<input type='checkbox' class='ee-toggle'></label><ul><li><span class='ee-k'>0:</span><span class='ee-v'>3864</span></li><li><span class='ee-k'>1:</span><span class='ee-v'>1186</span></li></ul></li></ul></li></ul></li><li><label class='ee-shut'>properties: Object (117 properties)<input type='checkbox' class='ee-toggle'></label><ul><li><span class='ee-k'>AC_aerosol_optical_thickness:</span><span class='ee-v'>0.251</span></li><li><span class='ee-k'>AC_date:</span><span class='ee-v'>2013-06-05</span></li><li><span class='ee-k'>AC_ozone:</span><span class='ee-v'>0.257</span></li><li><span class='ee-k'>AC_version:</span><span class='ee-v'>py6S</span></li><li><span class='ee-k'>AC_water_vapour:</span><span class='ee-v'>3.7</span></li><li><span class='ee-k'>CLOUD_COVER:</span><span class='ee-v'>26.69</span></li><li><span class='ee-k'>CLOUD_COVER_LAND:</span><span class='ee-v'>26.69</span></li><li><span class='ee-k'>COLLECTION_CATEGORY:</span><span class='ee-v'>T1</span></li><li><span class='ee-k'>COLLECTION_NUMBER:</span><span class='ee-v'>2</span></li><li><span class='ee-k'>DATA_SOURCE_ELEVATION:</span><span class='ee-v'>GLS2000</span></li><li><span class='ee-k'>DATA_SOURCE_TIRS_STRAY_LIGHT_CORRECTION:</span><span class='ee-v'>TIRS</span></li><li><span class='ee-k'>DATE_ACQUIRED:</span><span class='ee-v'>2013-06-05</span></li><li><span class='ee-k'>DATE_PRODUCT_GENERATED:</span><span class='ee-v'>1599974248000</span></li><li><span class='ee-k'>DATUM:</span><span class='ee-v'>WGS84</span></li><li><span class='ee-k'>EARTH_SUN_DISTANCE:</span><span class='ee-v'>1.0146875</span></li><li><span class='ee-k'>ELLIPSOID:</span><span class='ee-v'>WGS84</span></li><li><span class='ee-k'>GEOMETRIC_RMSE_MODEL:</span><span class='ee-v'>7.695</span></li><li><span class='ee-k'>GEOMETRIC_RMSE_MODEL_X:</span><span class='ee-v'>5.606</span></li><li><span class='ee-k'>GEOMETRIC_RMSE_MODEL_Y:</span><span class='ee-v'>5.272</span></li><li><span class='ee-k'>GEOMETRIC_RMSE_VERIFY:</span><span class='ee-v'>4.263</span></li><li><span class='ee-k'>GRID_CELL_SIZE_PANCHROMATIC:</span><span class='ee-v'>15</span></li><li><span class='ee-k'>GRID_CELL_SIZE_REFLECTIVE:</span><span class='ee-v'>30</span></li><li><span class='ee-k'>GRID_CELL_SIZE_THERMAL:</span><span class='ee-v'>30</span></li><li><span class='ee-k'>GROUND_CONTROL_POINTS_MODEL:</span><span class='ee-v'>211</span></li><li><span class='ee-k'>GROUND_CONTROL_POINTS_VERIFY:</span><span class='ee-v'>75</span></li><li><span class='ee-k'>GROUND_CONTROL_POINTS_VERSION:</span><span class='ee-v'>5</span></li><li><span class='ee-k'>IMAGE_QUALITY_OLI:</span><span class='ee-v'>9</span></li><li><span class='ee-k'>IMAGE_QUALITY_TIRS:</span><span class='ee-v'>9</span></li><li><span class='ee-k'>K1_CONSTANT_BAND_10:</span><span class='ee-v'>774.8853</span></li><li><span class='ee-k'>K1_CONSTANT_BAND_11:</span><span class='ee-v'>480.8883</span></li><li><span class='ee-k'>K2_CONSTANT_BAND_10:</span><span class='ee-v'>1321.0789</span></li><li><span class='ee-k'>K2_CONSTANT_BAND_11:</span><span class='ee-v'>1201.1442</span></li><li><span class='ee-k'>LANDSAT_PRODUCT_ID:</span><span class='ee-v'>LC08_L1TP_227062_20130605_20200913_02_T1</span></li><li><span class='ee-k'>LANDSAT_SCENE_ID:</span><span class='ee-v'>LC82270622013156LGN01</span></li><li><span class='ee-k'>MAP_PROJECTION:</span><span class='ee-v'>UTM</span></li><li><span class='ee-k'>NADIR_OFFNADIR:</span><span class='ee-v'>NADIR</span></li><li><span class='ee-k'>ORIENTATION:</span><span class='ee-v'>NORTH_UP</span></li><li><span class='ee-k'>PANCHROMATIC_LINES:</span><span class='ee-v'>14641</span></li><li><span class='ee-k'>PANCHROMATIC_SAMPLES:</span><span class='ee-v'>15041</span></li><li><span class='ee-k'>PROCESSING_LEVEL:</span><span class='ee-v'>L1TP</span></li><li><span class='ee-k'>PROCESSING_SOFTWARE_VERSION:</span><span class='ee-v'>LPGS_15.3.1c</span></li><li><span class='ee-k'>RADIANCE_ADD_BAND_1:</span><span class='ee-v'>-60.97449</span></li><li><span class='ee-k'>RADIANCE_ADD_BAND_10:</span><span class='ee-v'>0.1</span></li><li><span class='ee-k'>RADIANCE_ADD_BAND_11:</span><span class='ee-v'>0.1</span></li><li><span class='ee-k'>RADIANCE_ADD_BAND_2:</span><span class='ee-v'>-62.43863</span></li><li><span class='ee-k'>RADIANCE_ADD_BAND_3:</span><span class='ee-v'>-57.53666</span></li><li><span class='ee-k'>RADIANCE_ADD_BAND_4:</span><span class='ee-v'>-48.51815</span></li><li><span class='ee-k'>RADIANCE_ADD_BAND_5:</span><span class='ee-v'>-29.69069</span></li><li><span class='ee-k'>RADIANCE_ADD_BAND_6:</span><span class='ee-v'>-7.3838</span></li><li><span class='ee-k'>RADIANCE_ADD_BAND_7:</span><span class='ee-v'>-2.48874</span></li><li><span class='ee-k'>RADIANCE_ADD_BAND_8:</span><span class='ee-v'>-54.9092</span></li><li><span class='ee-k'>RADIANCE_ADD_BAND_9:</span><span class='ee-v'>-11.60379</span></li><li><span class='ee-k'>RADIANCE_MULT_BAND_1:</span><span class='ee-v'>0.012195</span></li><li><span class='ee-k'>RADIANCE_MULT_BAND_10:</span><span class='ee-v'>0.0003342</span></li><li><span class='ee-k'>RADIANCE_MULT_BAND_11:</span><span class='ee-v'>0.0003342</span></li><li><span class='ee-k'>RADIANCE_MULT_BAND_2:</span><span class='ee-v'>0.012488</span></li><li><span class='ee-k'>RADIANCE_MULT_BAND_3:</span><span class='ee-v'>0.011507</span></li><li><span class='ee-k'>RADIANCE_MULT_BAND_4:</span><span class='ee-v'>0.0097036</span></li><li><span class='ee-k'>RADIANCE_MULT_BAND_5:</span><span class='ee-v'>0.0059381</span></li><li><span class='ee-k'>RADIANCE_MULT_BAND_6:</span><span class='ee-v'>0.0014768</span></li><li><span class='ee-k'>RADIANCE_MULT_BAND_7:</span><span class='ee-v'>0.00049775</span></li><li><span class='ee-k'>RADIANCE_MULT_BAND_8:</span><span class='ee-v'>0.010982</span></li><li><span class='ee-k'>RADIANCE_MULT_BAND_9:</span><span class='ee-v'>0.0023208</span></li><li><span class='ee-k'>REFLECTANCE_ADD_BAND_1:</span><span class='ee-v'>-0.1</span></li><li><span class='ee-k'>REFLECTANCE_ADD_BAND_2:</span><span class='ee-v'>-0.1</span></li><li><span class='ee-k'>REFLECTANCE_ADD_BAND_3:</span><span class='ee-v'>-0.1</span></li><li><span class='ee-k'>REFLECTANCE_ADD_BAND_4:</span><span class='ee-v'>-0.1</span></li><li><span class='ee-k'>REFLECTANCE_ADD_BAND_5:</span><span class='ee-v'>-0.1</span></li><li><span class='ee-k'>REFLECTANCE_ADD_BAND_6:</span><span class='ee-v'>-0.1</span></li><li><span class='ee-k'>REFLECTANCE_ADD_BAND_7:</span><span class='ee-v'>-0.1</span></li><li><span class='ee-k'>REFLECTANCE_ADD_BAND_8:</span><span class='ee-v'>-0.1</span></li><li><span class='ee-k'>REFLECTANCE_ADD_BAND_9:</span><span class='ee-v'>-0.1</span></li><li><span class='ee-k'>REFLECTANCE_MULT_BAND_1:</span><span class='ee-v'>2e-05</span></li><li><span class='ee-k'>REFLECTANCE_MULT_BAND_2:</span><span class='ee-v'>2e-05</span></li><li><span class='ee-k'>REFLECTANCE_MULT_BAND_3:</span><span class='ee-v'>2e-05</span></li><li><span class='ee-k'>REFLECTANCE_MULT_BAND_4:</span><span class='ee-v'>2e-05</span></li><li><span class='ee-k'>REFLECTANCE_MULT_BAND_5:</span><span class='ee-v'>2e-05</span></li><li><span class='ee-k'>REFLECTANCE_MULT_BAND_6:</span><span class='ee-v'>2e-05</span></li><li><span class='ee-k'>REFLECTANCE_MULT_BAND_7:</span><span class='ee-v'>2e-05</span></li><li><span class='ee-k'>REFLECTANCE_MULT_BAND_8:</span><span class='ee-v'>2e-05</span></li><li><span class='ee-k'>REFLECTANCE_MULT_BAND_9:</span><span class='ee-v'>2e-05</span></li><li><span class='ee-k'>REFLECTIVE_LINES:</span><span class='ee-v'>7321</span></li><li><span class='ee-k'>REFLECTIVE_SAMPLES:</span><span class='ee-v'>7521</span></li><li><span class='ee-k'>REQUEST_ID:</span><span class='ee-v'>L2</span></li><li><span class='ee-k'>RESAMPLING_OPTION:</span><span class='ee-v'>CUBIC_CONVOLUTION</span></li><li><span class='ee-k'>ROLL_ANGLE:</span><span class='ee-v'>-0.001</span></li><li><span class='ee-k'>SATURATION_BAND_1:</span><span class='ee-v'>Y</span></li><li><span class='ee-k'>SATURATION_BAND_2:</span><span class='ee-v'>N</span></li><li><span class='ee-k'>SATURATION_BAND_3:</span><span class='ee-v'>N</span></li><li><span class='ee-k'>SATURATION_BAND_4:</span><span class='ee-v'>N</span></li><li><span class='ee-k'>SATURATION_BAND_5:</span><span class='ee-v'>Y</span></li><li><span class='ee-k'>SATURATION_BAND_6:</span><span class='ee-v'>N</span></li><li><span class='ee-k'>SATURATION_BAND_7:</span><span class='ee-v'>Y</span></li><li><span class='ee-k'>SATURATION_BAND_8:</span><span class='ee-v'>N</span></li><li><span class='ee-k'>SATURATION_BAND_9:</span><span class='ee-v'>N</span></li><li><span class='ee-k'>SCENE_CENTER_TIME:</span><span class='ee-v'>13:50:15.4492370Z</span></li><li><span class='ee-k'>SENSOR_ID:</span><span class='ee-v'>OLI_TIRS</span></li><li><span class='ee-k'>SPACECRAFT_ID:</span><span class='ee-v'>LANDSAT_8</span></li><li><span class='ee-k'>STATION_ID:</span><span class='ee-v'>LGN</span></li><li><span class='ee-k'>SUN_AZIMUTH:</span><span class='ee-v'>44.03632941</span></li><li><span class='ee-k'>SUN_ELEVATION:</span><span class='ee-v'>53.70928613</span></li><li><span class='ee-k'>TARGET_WRS_PATH:</span><span class='ee-v'>227</span></li><li><span class='ee-k'>TARGET_WRS_ROW:</span><span class='ee-v'>62</span></li><li><span class='ee-k'>THERMAL_LINES:</span><span class='ee-v'>7321</span></li><li><span class='ee-k'>THERMAL_SAMPLES:</span><span class='ee-v'>7521</span></li><li><span class='ee-k'>TIRS_SSM_MODEL:</span><span class='ee-v'>ACTUAL</span></li><li><span class='ee-k'>TIRS_SSM_POSITION_STATUS:</span><span class='ee-v'>NOMINAL</span></li><li><span class='ee-k'>TRUNCATION_OLI:</span><span class='ee-v'>UPPER</span></li><li><span class='ee-k'>UTM_ZONE:</span><span class='ee-v'>21</span></li><li><span class='ee-k'>WRS_PATH:</span><span class='ee-v'>227</span></li><li><span class='ee-k'>WRS_ROW:</span><span class='ee-v'>62</span></li><li><span class='ee-k'>WRS_TYPE:</span><span class='ee-v'>2</span></li><li><span class='ee-k'>system:asset_size:</span><span class='ee-v'>23260976</span></li><li><label class='ee-shut'>system:footprint: LinearRing (19 vertices)<input type='checkbox' class='ee-toggle'></label><ul><li><span class='ee-k'>type:</span><span class='ee-v'>LinearRing</span></li><li><label class='ee-shut'>coordinates: List (19 elements)<input type='checkbox' class='ee-toggle'></label><ul><li><label class='ee-shut'>0: [-56.00790099168393, -1.9899313951966122]<input type='checkbox' class='ee-toggle'></label><ul><li><span class='ee-k'>0:</span><span class='ee-v'>-56.00790099168393</span></li><li><span class='ee-k'>1:</span><span class='ee-v'>-1.9899313951966122</span></li></ul></li><li><label class='ee-shut'>1: [-56.00790303255488, -1.9899651372103422]<input type='checkbox' class='ee-toggle'></label><ul><li><span class='ee-k'>0:</span><span class='ee-v'>-56.00790303255488</span></li><li><span class='ee-k'>1:</span><span class='ee-v'>-1.9899651372103422</span></li></ul></li><li><label class='ee-shut'>2: [-56.007695289133245, -2.311543999976785]<input type='checkbox' class='ee-toggle'></label><ul><li><span class='ee-k'>0:</span><span class='ee-v'>-56.007695289133245</span></li><li><span class='ee-k'>1:</span><span class='ee-v'>-2.311543999976785</span></li></ul></li><li><label class='ee-shut'>3: [-56.00758542256164, -2.311668371300401]<input type='checkbox' class='ee-toggle'></label><ul><li><span class='ee-k'>0:</span><span class='ee-v'>-56.00758542256164</span></li><li><span class='ee-k'>1:</span><span class='ee-v'>-2.311668371300401</span></li></ul></li><li><label class='ee-shut'>4: [-56.007491968050864, -2.311805420122597]<input type='checkbox' class='ee-toggle'></label><ul><li><span class='ee-k'>0:</span><span class='ee-v'>-56.007491968050864</span></li><li><span class='ee-k'>1:</span><span class='ee-v'>-2.311805420122597</span></li></ul></li><li><label class='ee-shut'>5: [-56.007458719016846, -2.311811703970227]<input type='checkbox' class='ee-toggle'></label><ul><li><span class='ee-k'>0:</span><span class='ee-v'>-56.007458719016846</span></li><li><span class='ee-k'>1:</span><span class='ee-v'>-2.311811703970227</span></li></ul></li><li><label class='ee-shut'>6: [-56.00742495977984, -2.311813812762818]<input type='checkbox' class='ee-toggle'></label><ul><li><span class='ee-k'>0:</span><span class='ee-v'>-56.00742495977984</span></li><li><span class='ee-k'>1:</span><span class='ee-v'>-2.311813812762818</span></li></ul></li><li><label class='ee-shut'>7: [-54.965489059375095, -2.310697073459358]<input type='checkbox' class='ee-toggle'></label><ul><li><span class='ee-k'>0:</span><span class='ee-v'>-54.965489059375095</span></li><li><span class='ee-k'>1:</span><span class='ee-v'>-2.310697073459358</span></li></ul></li><li><label class='ee-shut'>8: [-54.965364694306565, -2.310587193231306]<input type='checkbox' class='ee-toggle'></label><ul><li><span class='ee-k'>0:</span><span class='ee-v'>-54.965364694306565</span></li><li><span class='ee-k'>1:</span><span class='ee-v'>-2.310587193231306</span></li></ul></li><li><label class='ee-shut'>9: [-54.96522755682257, -2.3104937772016316]<input type='checkbox' class='ee-toggle'></label><ul><li><span class='ee-k'>0:</span><span class='ee-v'>-54.96522755682257</span></li><li><span class='ee-k'>1:</span><span class='ee-v'>-2.3104937772016316</span></li></ul></li><li><label class='ee-shut'>10: [-54.96521915379773, -2.310449360521862]<input type='checkbox' class='ee-toggle'></label><ul><li><span class='ee-k'>0:</span><span class='ee-v'>-54.96521915379773</span></li><li><span class='ee-k'>1:</span><span class='ee-v'>-2.310449360521862</span></li></ul></li><li><label class='ee-shut'>11: [-54.96564502015339, -1.989003396395678]<input type='checkbox' class='ee-toggle'></label><ul><li><span class='ee-k'>0:</span><span class='ee-v'>-54.96564502015339</span></li><li><span class='ee-k'>1:</span><span class='ee-v'>-1.989003396395678</span></li></ul></li><li><label class='ee-shut'>12: [-54.96575493234115, -1.9888791171772373]<input type='checkbox' class='ee-toggle'></label><ul><li><span class='ee-k'>0:</span><span class='ee-v'>-54.96575493234115</span></li><li><span class='ee-k'>1:</span><span class='ee-v'>-1.9888791171772373</span></li></ul></li><li><label class='ee-shut'>13: [-54.96584845865072, -1.9887421460016503]<input type='checkbox' class='ee-toggle'></label><ul><li><span class='ee-k'>0:</span><span class='ee-v'>-54.96584845865072</span></li><li><span class='ee-k'>1:</span><span class='ee-v'>-1.9887421460016503</span></li></ul></li><li><label class='ee-shut'>14: [-54.965892826963334, -1.988733772966659]<input type='checkbox' class='ee-toggle'></label><ul><li><span class='ee-k'>0:</span><span class='ee-v'>-54.965892826963334</span></li><li><span class='ee-k'>1:</span><span class='ee-v'>-1.988733772966659</span></li></ul></li><li><label class='ee-shut'>15: [-56.0076331277673, -1.9896950199386851]<input type='checkbox' class='ee-toggle'></label><ul><li><span class='ee-k'>0:</span><span class='ee-v'>-56.0076331277673</span></li><li><span class='ee-k'>1:</span><span class='ee-v'>-1.9896950199386851</span></li></ul></li><li><label class='ee-shut'>16: [-56.00775753557763, -1.9898048265148425]<input type='checkbox' class='ee-toggle'></label><ul><li><span class='ee-k'>0:</span><span class='ee-v'>-56.00775753557763</span></li><li><span class='ee-k'>1:</span><span class='ee-v'>-1.9898048265148425</span></li></ul></li><li><label class='ee-shut'>17: [-56.00789469899878, -1.9898981788466987]<input type='checkbox' class='ee-toggle'></label><ul><li><span class='ee-k'>0:</span><span class='ee-v'>-56.00789469899878</span></li><li><span class='ee-k'>1:</span><span class='ee-v'>-1.9898981788466987</span></li></ul></li><li><label class='ee-shut'>18: [-56.00790099168393, -1.9899313951966122]<input type='checkbox' class='ee-toggle'></label><ul><li><span class='ee-k'>0:</span><span class='ee-v'>-56.00790099168393</span></li><li><span class='ee-k'>1:</span><span class='ee-v'>-1.9899313951966122</span></li></ul></li></ul></li></ul></li><li><span class='ee-k'>system:index:</span><span class='ee-v'>BOA_LC08_227062_20130605</span></li><li><span class='ee-k'>system:time_end:</span><span class='ee-v'>1370440215449</span></li><li><span class='ee-k'>system:time_start:</span><span class='ee-v'>1370440215449</span></li></ul></li></ul></li><li><label class='ee-shut'>2: Image projects/ee-curuai/assets/Py6S/LD8/ld8_py6s/BOA_LC08_227062_20130621 (8 bands)<input type='checkbox' class='ee-toggle'></label><ul><li><span class='ee-k'>type:</span><span class='ee-v'>Image</span></li><li><span class='ee-k'>id:</span><span class='ee-v'>projects/ee-curuai/assets/Py6S/LD8/ld8_py6s/BOA_LC08_227062_20130621</span></li><li><span class='ee-k'>version:</span><span class='ee-v'>1715545816312326</span></li><li><label class='ee-shut'>bands: List (8 elements)<input type='checkbox' class='ee-toggle'></label><ul><li><label class='ee-shut'>0: \"QA_PIXEL\", unsigned int16, EPSG:32721, 3864x1186 px<input type='checkbox' class='ee-toggle'></label><ul><li><span class='ee-k'>id:</span><span class='ee-v'>QA_PIXEL</span></li><li><span class='ee-k'>crs:</span><span class='ee-v'>EPSG:32721</span></li><li><label class='ee-shut'>crs_transform: [30, 0, 610350, 0, -30, 9780030]<input type='checkbox' class='ee-toggle'></label><ul><li><span class='ee-k'>0:</span><span class='ee-v'>30</span></li><li><span class='ee-k'>1:</span><span class='ee-v'>0</span></li><li><span class='ee-k'>2:</span><span class='ee-v'>610350</span></li><li><span class='ee-k'>3:</span><span class='ee-v'>0</span></li><li><span class='ee-k'>4:</span><span class='ee-v'>-30</span></li><li><span class='ee-k'>5:</span><span class='ee-v'>9780030</span></li></ul></li><li><label class='ee-shut'>data_type: unsigned int16<input type='checkbox' class='ee-toggle'></label><ul><li><span class='ee-k'>type:</span><span class='ee-v'>PixelType</span></li><li><span class='ee-k'>max:</span><span class='ee-v'>65535</span></li><li><span class='ee-k'>min:</span><span class='ee-v'>0</span></li><li><span class='ee-k'>precision:</span><span class='ee-v'>int</span></li></ul></li><li><label class='ee-shut'>dimensions: [3864, 1186]<input type='checkbox' class='ee-toggle'></label><ul><li><span class='ee-k'>0:</span><span class='ee-v'>3864</span></li><li><span class='ee-k'>1:</span><span class='ee-v'>1186</span></li></ul></li></ul></li><li><label class='ee-shut'>1: \"B1\", double, EPSG:32721, 3864x1186 px<input type='checkbox' class='ee-toggle'></label><ul><li><span class='ee-k'>id:</span><span class='ee-v'>B1</span></li><li><span class='ee-k'>crs:</span><span class='ee-v'>EPSG:32721</span></li><li><label class='ee-shut'>crs_transform: [30, 0, 610350, 0, -30, 9780030]<input type='checkbox' class='ee-toggle'></label><ul><li><span class='ee-k'>0:</span><span class='ee-v'>30</span></li><li><span class='ee-k'>1:</span><span class='ee-v'>0</span></li><li><span class='ee-k'>2:</span><span class='ee-v'>610350</span></li><li><span class='ee-k'>3:</span><span class='ee-v'>0</span></li><li><span class='ee-k'>4:</span><span class='ee-v'>-30</span></li><li><span class='ee-k'>5:</span><span class='ee-v'>9780030</span></li></ul></li><li><label class='ee-shut'>data_type: double<input type='checkbox' class='ee-toggle'></label><ul><li><span class='ee-k'>type:</span><span class='ee-v'>PixelType</span></li><li><span class='ee-k'>precision:</span><span class='ee-v'>double</span></li></ul></li><li><label class='ee-shut'>dimensions: [3864, 1186]<input type='checkbox' class='ee-toggle'></label><ul><li><span class='ee-k'>0:</span><span class='ee-v'>3864</span></li><li><span class='ee-k'>1:</span><span class='ee-v'>1186</span></li></ul></li></ul></li><li><label class='ee-shut'>2: \"B2\", double, EPSG:32721, 3864x1186 px<input type='checkbox' class='ee-toggle'></label><ul><li><span class='ee-k'>id:</span><span class='ee-v'>B2</span></li><li><span class='ee-k'>crs:</span><span class='ee-v'>EPSG:32721</span></li><li><label class='ee-shut'>crs_transform: [30, 0, 610350, 0, -30, 9780030]<input type='checkbox' class='ee-toggle'></label><ul><li><span class='ee-k'>0:</span><span class='ee-v'>30</span></li><li><span class='ee-k'>1:</span><span class='ee-v'>0</span></li><li><span class='ee-k'>2:</span><span class='ee-v'>610350</span></li><li><span class='ee-k'>3:</span><span class='ee-v'>0</span></li><li><span class='ee-k'>4:</span><span class='ee-v'>-30</span></li><li><span class='ee-k'>5:</span><span class='ee-v'>9780030</span></li></ul></li><li><label class='ee-shut'>data_type: double<input type='checkbox' class='ee-toggle'></label><ul><li><span class='ee-k'>type:</span><span class='ee-v'>PixelType</span></li><li><span class='ee-k'>precision:</span><span class='ee-v'>double</span></li></ul></li><li><label class='ee-shut'>dimensions: [3864, 1186]<input type='checkbox' class='ee-toggle'></label><ul><li><span class='ee-k'>0:</span><span class='ee-v'>3864</span></li><li><span class='ee-k'>1:</span><span class='ee-v'>1186</span></li></ul></li></ul></li><li><label class='ee-shut'>3: \"B3\", double, EPSG:32721, 3864x1186 px<input type='checkbox' class='ee-toggle'></label><ul><li><span class='ee-k'>id:</span><span class='ee-v'>B3</span></li><li><span class='ee-k'>crs:</span><span class='ee-v'>EPSG:32721</span></li><li><label class='ee-shut'>crs_transform: [30, 0, 610350, 0, -30, 9780030]<input type='checkbox' class='ee-toggle'></label><ul><li><span class='ee-k'>0:</span><span class='ee-v'>30</span></li><li><span class='ee-k'>1:</span><span class='ee-v'>0</span></li><li><span class='ee-k'>2:</span><span class='ee-v'>610350</span></li><li><span class='ee-k'>3:</span><span class='ee-v'>0</span></li><li><span class='ee-k'>4:</span><span class='ee-v'>-30</span></li><li><span class='ee-k'>5:</span><span class='ee-v'>9780030</span></li></ul></li><li><label class='ee-shut'>data_type: double<input type='checkbox' class='ee-toggle'></label><ul><li><span class='ee-k'>type:</span><span class='ee-v'>PixelType</span></li><li><span class='ee-k'>precision:</span><span class='ee-v'>double</span></li></ul></li><li><label class='ee-shut'>dimensions: [3864, 1186]<input type='checkbox' class='ee-toggle'></label><ul><li><span class='ee-k'>0:</span><span class='ee-v'>3864</span></li><li><span class='ee-k'>1:</span><span class='ee-v'>1186</span></li></ul></li></ul></li><li><label class='ee-shut'>4: \"B4\", double, EPSG:32721, 3864x1186 px<input type='checkbox' class='ee-toggle'></label><ul><li><span class='ee-k'>id:</span><span class='ee-v'>B4</span></li><li><span class='ee-k'>crs:</span><span class='ee-v'>EPSG:32721</span></li><li><label class='ee-shut'>crs_transform: [30, 0, 610350, 0, -30, 9780030]<input type='checkbox' class='ee-toggle'></label><ul><li><span class='ee-k'>0:</span><span class='ee-v'>30</span></li><li><span class='ee-k'>1:</span><span class='ee-v'>0</span></li><li><span class='ee-k'>2:</span><span class='ee-v'>610350</span></li><li><span class='ee-k'>3:</span><span class='ee-v'>0</span></li><li><span class='ee-k'>4:</span><span class='ee-v'>-30</span></li><li><span class='ee-k'>5:</span><span class='ee-v'>9780030</span></li></ul></li><li><label class='ee-shut'>data_type: double<input type='checkbox' class='ee-toggle'></label><ul><li><span class='ee-k'>type:</span><span class='ee-v'>PixelType</span></li><li><span class='ee-k'>precision:</span><span class='ee-v'>double</span></li></ul></li><li><label class='ee-shut'>dimensions: [3864, 1186]<input type='checkbox' class='ee-toggle'></label><ul><li><span class='ee-k'>0:</span><span class='ee-v'>3864</span></li><li><span class='ee-k'>1:</span><span class='ee-v'>1186</span></li></ul></li></ul></li><li><label class='ee-shut'>5: \"B5\", double, EPSG:32721, 3864x1186 px<input type='checkbox' class='ee-toggle'></label><ul><li><span class='ee-k'>id:</span><span class='ee-v'>B5</span></li><li><span class='ee-k'>crs:</span><span class='ee-v'>EPSG:32721</span></li><li><label class='ee-shut'>crs_transform: [30, 0, 610350, 0, -30, 9780030]<input type='checkbox' class='ee-toggle'></label><ul><li><span class='ee-k'>0:</span><span class='ee-v'>30</span></li><li><span class='ee-k'>1:</span><span class='ee-v'>0</span></li><li><span class='ee-k'>2:</span><span class='ee-v'>610350</span></li><li><span class='ee-k'>3:</span><span class='ee-v'>0</span></li><li><span class='ee-k'>4:</span><span class='ee-v'>-30</span></li><li><span class='ee-k'>5:</span><span class='ee-v'>9780030</span></li></ul></li><li><label class='ee-shut'>data_type: double<input type='checkbox' class='ee-toggle'></label><ul><li><span class='ee-k'>type:</span><span class='ee-v'>PixelType</span></li><li><span class='ee-k'>precision:</span><span class='ee-v'>double</span></li></ul></li><li><label class='ee-shut'>dimensions: [3864, 1186]<input type='checkbox' class='ee-toggle'></label><ul><li><span class='ee-k'>0:</span><span class='ee-v'>3864</span></li><li><span class='ee-k'>1:</span><span class='ee-v'>1186</span></li></ul></li></ul></li><li><label class='ee-shut'>6: \"B6\", double, EPSG:32721, 3864x1186 px<input type='checkbox' class='ee-toggle'></label><ul><li><span class='ee-k'>id:</span><span class='ee-v'>B6</span></li><li><span class='ee-k'>crs:</span><span class='ee-v'>EPSG:32721</span></li><li><label class='ee-shut'>crs_transform: [30, 0, 610350, 0, -30, 9780030]<input type='checkbox' class='ee-toggle'></label><ul><li><span class='ee-k'>0:</span><span class='ee-v'>30</span></li><li><span class='ee-k'>1:</span><span class='ee-v'>0</span></li><li><span class='ee-k'>2:</span><span class='ee-v'>610350</span></li><li><span class='ee-k'>3:</span><span class='ee-v'>0</span></li><li><span class='ee-k'>4:</span><span class='ee-v'>-30</span></li><li><span class='ee-k'>5:</span><span class='ee-v'>9780030</span></li></ul></li><li><label class='ee-shut'>data_type: double<input type='checkbox' class='ee-toggle'></label><ul><li><span class='ee-k'>type:</span><span class='ee-v'>PixelType</span></li><li><span class='ee-k'>precision:</span><span class='ee-v'>double</span></li></ul></li><li><label class='ee-shut'>dimensions: [3864, 1186]<input type='checkbox' class='ee-toggle'></label><ul><li><span class='ee-k'>0:</span><span class='ee-v'>3864</span></li><li><span class='ee-k'>1:</span><span class='ee-v'>1186</span></li></ul></li></ul></li><li><label class='ee-shut'>7: \"B7\", double, EPSG:32721, 3864x1186 px<input type='checkbox' class='ee-toggle'></label><ul><li><span class='ee-k'>id:</span><span class='ee-v'>B7</span></li><li><span class='ee-k'>crs:</span><span class='ee-v'>EPSG:32721</span></li><li><label class='ee-shut'>crs_transform: [30, 0, 610350, 0, -30, 9780030]<input type='checkbox' class='ee-toggle'></label><ul><li><span class='ee-k'>0:</span><span class='ee-v'>30</span></li><li><span class='ee-k'>1:</span><span class='ee-v'>0</span></li><li><span class='ee-k'>2:</span><span class='ee-v'>610350</span></li><li><span class='ee-k'>3:</span><span class='ee-v'>0</span></li><li><span class='ee-k'>4:</span><span class='ee-v'>-30</span></li><li><span class='ee-k'>5:</span><span class='ee-v'>9780030</span></li></ul></li><li><label class='ee-shut'>data_type: double<input type='checkbox' class='ee-toggle'></label><ul><li><span class='ee-k'>type:</span><span class='ee-v'>PixelType</span></li><li><span class='ee-k'>precision:</span><span class='ee-v'>double</span></li></ul></li><li><label class='ee-shut'>dimensions: [3864, 1186]<input type='checkbox' class='ee-toggle'></label><ul><li><span class='ee-k'>0:</span><span class='ee-v'>3864</span></li><li><span class='ee-k'>1:</span><span class='ee-v'>1186</span></li></ul></li></ul></li></ul></li><li><label class='ee-shut'>properties: Object (117 properties)<input type='checkbox' class='ee-toggle'></label><ul><li><span class='ee-k'>AC_aerosol_optical_thickness:</span><span class='ee-v'>0.2</span></li><li><span class='ee-k'>AC_date:</span><span class='ee-v'>2013-06-21</span></li><li><span class='ee-k'>AC_ozone:</span><span class='ee-v'>0.267</span></li><li><span class='ee-k'>AC_version:</span><span class='ee-v'>py6S</span></li><li><span class='ee-k'>AC_water_vapour:</span><span class='ee-v'>4.380000305175781</span></li><li><span class='ee-k'>CLOUD_COVER:</span><span class='ee-v'>46.9</span></li><li><span class='ee-k'>CLOUD_COVER_LAND:</span><span class='ee-v'>46.9</span></li><li><span class='ee-k'>COLLECTION_CATEGORY:</span><span class='ee-v'>T1</span></li><li><span class='ee-k'>COLLECTION_NUMBER:</span><span class='ee-v'>2</span></li><li><span class='ee-k'>DATA_SOURCE_ELEVATION:</span><span class='ee-v'>GLS2000</span></li><li><span class='ee-k'>DATA_SOURCE_TIRS_STRAY_LIGHT_CORRECTION:</span><span class='ee-v'>TIRS</span></li><li><span class='ee-k'>DATE_ACQUIRED:</span><span class='ee-v'>2013-06-21</span></li><li><span class='ee-k'>DATE_PRODUCT_GENERATED:</span><span class='ee-v'>1599929412000</span></li><li><span class='ee-k'>DATUM:</span><span class='ee-v'>WGS84</span></li><li><span class='ee-k'>EARTH_SUN_DISTANCE:</span><span class='ee-v'>1.016229</span></li><li><span class='ee-k'>ELLIPSOID:</span><span class='ee-v'>WGS84</span></li><li><span class='ee-k'>GEOMETRIC_RMSE_MODEL:</span><span class='ee-v'>8.478</span></li><li><span class='ee-k'>GEOMETRIC_RMSE_MODEL_X:</span><span class='ee-v'>5.79</span></li><li><span class='ee-k'>GEOMETRIC_RMSE_MODEL_Y:</span><span class='ee-v'>6.192</span></li><li><span class='ee-k'>GEOMETRIC_RMSE_VERIFY:</span><span class='ee-v'>7.522</span></li><li><span class='ee-k'>GRID_CELL_SIZE_PANCHROMATIC:</span><span class='ee-v'>15</span></li><li><span class='ee-k'>GRID_CELL_SIZE_REFLECTIVE:</span><span class='ee-v'>30</span></li><li><span class='ee-k'>GRID_CELL_SIZE_THERMAL:</span><span class='ee-v'>30</span></li><li><span class='ee-k'>GROUND_CONTROL_POINTS_MODEL:</span><span class='ee-v'>140</span></li><li><span class='ee-k'>GROUND_CONTROL_POINTS_VERIFY:</span><span class='ee-v'>90</span></li><li><span class='ee-k'>GROUND_CONTROL_POINTS_VERSION:</span><span class='ee-v'>5</span></li><li><span class='ee-k'>IMAGE_QUALITY_OLI:</span><span class='ee-v'>9</span></li><li><span class='ee-k'>IMAGE_QUALITY_TIRS:</span><span class='ee-v'>9</span></li><li><span class='ee-k'>K1_CONSTANT_BAND_10:</span><span class='ee-v'>774.8853</span></li><li><span class='ee-k'>K1_CONSTANT_BAND_11:</span><span class='ee-v'>480.8883</span></li><li><span class='ee-k'>K2_CONSTANT_BAND_10:</span><span class='ee-v'>1321.0789</span></li><li><span class='ee-k'>K2_CONSTANT_BAND_11:</span><span class='ee-v'>1201.1442</span></li><li><span class='ee-k'>LANDSAT_PRODUCT_ID:</span><span class='ee-v'>LC08_L1TP_227062_20130621_20200912_02_T1</span></li><li><span class='ee-k'>LANDSAT_SCENE_ID:</span><span class='ee-v'>LC82270622013172LGN01</span></li><li><span class='ee-k'>MAP_PROJECTION:</span><span class='ee-v'>UTM</span></li><li><span class='ee-k'>NADIR_OFFNADIR:</span><span class='ee-v'>NADIR</span></li><li><span class='ee-k'>ORIENTATION:</span><span class='ee-v'>NORTH_UP</span></li><li><span class='ee-k'>PANCHROMATIC_LINES:</span><span class='ee-v'>14641</span></li><li><span class='ee-k'>PANCHROMATIC_SAMPLES:</span><span class='ee-v'>15021</span></li><li><span class='ee-k'>PROCESSING_LEVEL:</span><span class='ee-v'>L1TP</span></li><li><span class='ee-k'>PROCESSING_SOFTWARE_VERSION:</span><span class='ee-v'>LPGS_15.3.1c</span></li><li><span class='ee-k'>RADIANCE_ADD_BAND_1:</span><span class='ee-v'>-60.78966</span></li><li><span class='ee-k'>RADIANCE_ADD_BAND_10:</span><span class='ee-v'>0.1</span></li><li><span class='ee-k'>RADIANCE_ADD_BAND_11:</span><span class='ee-v'>0.1</span></li><li><span class='ee-k'>RADIANCE_ADD_BAND_2:</span><span class='ee-v'>-62.24935</span></li><li><span class='ee-k'>RADIANCE_ADD_BAND_3:</span><span class='ee-v'>-57.36224</span></li><li><span class='ee-k'>RADIANCE_ADD_BAND_4:</span><span class='ee-v'>-48.37108</span></li><li><span class='ee-k'>RADIANCE_ADD_BAND_5:</span><span class='ee-v'>-29.60069</span></li><li><span class='ee-k'>RADIANCE_ADD_BAND_6:</span><span class='ee-v'>-7.36142</span></li><li><span class='ee-k'>RADIANCE_ADD_BAND_7:</span><span class='ee-v'>-2.48119</span></li><li><span class='ee-k'>RADIANCE_ADD_BAND_8:</span><span class='ee-v'>-54.74275</span></li><li><span class='ee-k'>RADIANCE_ADD_BAND_9:</span><span class='ee-v'>-11.56862</span></li><li><span class='ee-k'>RADIANCE_MULT_BAND_1:</span><span class='ee-v'>0.012158</span></li><li><span class='ee-k'>RADIANCE_MULT_BAND_10:</span><span class='ee-v'>0.0003342</span></li><li><span class='ee-k'>RADIANCE_MULT_BAND_11:</span><span class='ee-v'>0.0003342</span></li><li><span class='ee-k'>RADIANCE_MULT_BAND_2:</span><span class='ee-v'>0.01245</span></li><li><span class='ee-k'>RADIANCE_MULT_BAND_3:</span><span class='ee-v'>0.011472</span></li><li><span class='ee-k'>RADIANCE_MULT_BAND_4:</span><span class='ee-v'>0.0096742</span></li><li><span class='ee-k'>RADIANCE_MULT_BAND_5:</span><span class='ee-v'>0.0059201</span></li><li><span class='ee-k'>RADIANCE_MULT_BAND_6:</span><span class='ee-v'>0.0014723</span></li><li><span class='ee-k'>RADIANCE_MULT_BAND_7:</span><span class='ee-v'>0.00049624</span></li><li><span class='ee-k'>RADIANCE_MULT_BAND_8:</span><span class='ee-v'>0.010949</span></li><li><span class='ee-k'>RADIANCE_MULT_BAND_9:</span><span class='ee-v'>0.0023137</span></li><li><span class='ee-k'>REFLECTANCE_ADD_BAND_1:</span><span class='ee-v'>-0.1</span></li><li><span class='ee-k'>REFLECTANCE_ADD_BAND_2:</span><span class='ee-v'>-0.1</span></li><li><span class='ee-k'>REFLECTANCE_ADD_BAND_3:</span><span class='ee-v'>-0.1</span></li><li><span class='ee-k'>REFLECTANCE_ADD_BAND_4:</span><span class='ee-v'>-0.1</span></li><li><span class='ee-k'>REFLECTANCE_ADD_BAND_5:</span><span class='ee-v'>-0.1</span></li><li><span class='ee-k'>REFLECTANCE_ADD_BAND_6:</span><span class='ee-v'>-0.1</span></li><li><span class='ee-k'>REFLECTANCE_ADD_BAND_7:</span><span class='ee-v'>-0.1</span></li><li><span class='ee-k'>REFLECTANCE_ADD_BAND_8:</span><span class='ee-v'>-0.1</span></li><li><span class='ee-k'>REFLECTANCE_ADD_BAND_9:</span><span class='ee-v'>-0.1</span></li><li><span class='ee-k'>REFLECTANCE_MULT_BAND_1:</span><span class='ee-v'>2e-05</span></li><li><span class='ee-k'>REFLECTANCE_MULT_BAND_2:</span><span class='ee-v'>2e-05</span></li><li><span class='ee-k'>REFLECTANCE_MULT_BAND_3:</span><span class='ee-v'>2e-05</span></li><li><span class='ee-k'>REFLECTANCE_MULT_BAND_4:</span><span class='ee-v'>2e-05</span></li><li><span class='ee-k'>REFLECTANCE_MULT_BAND_5:</span><span class='ee-v'>2e-05</span></li><li><span class='ee-k'>REFLECTANCE_MULT_BAND_6:</span><span class='ee-v'>2e-05</span></li><li><span class='ee-k'>REFLECTANCE_MULT_BAND_7:</span><span class='ee-v'>2e-05</span></li><li><span class='ee-k'>REFLECTANCE_MULT_BAND_8:</span><span class='ee-v'>2e-05</span></li><li><span class='ee-k'>REFLECTANCE_MULT_BAND_9:</span><span class='ee-v'>2e-05</span></li><li><span class='ee-k'>REFLECTIVE_LINES:</span><span class='ee-v'>7321</span></li><li><span class='ee-k'>REFLECTIVE_SAMPLES:</span><span class='ee-v'>7511</span></li><li><span class='ee-k'>REQUEST_ID:</span><span class='ee-v'>L2</span></li><li><span class='ee-k'>RESAMPLING_OPTION:</span><span class='ee-v'>CUBIC_CONVOLUTION</span></li><li><span class='ee-k'>ROLL_ANGLE:</span><span class='ee-v'>-0.001</span></li><li><span class='ee-k'>SATURATION_BAND_1:</span><span class='ee-v'>N</span></li><li><span class='ee-k'>SATURATION_BAND_2:</span><span class='ee-v'>N</span></li><li><span class='ee-k'>SATURATION_BAND_3:</span><span class='ee-v'>N</span></li><li><span class='ee-k'>SATURATION_BAND_4:</span><span class='ee-v'>N</span></li><li><span class='ee-k'>SATURATION_BAND_5:</span><span class='ee-v'>Y</span></li><li><span class='ee-k'>SATURATION_BAND_6:</span><span class='ee-v'>Y</span></li><li><span class='ee-k'>SATURATION_BAND_7:</span><span class='ee-v'>Y</span></li><li><span class='ee-k'>SATURATION_BAND_8:</span><span class='ee-v'>N</span></li><li><span class='ee-k'>SATURATION_BAND_9:</span><span class='ee-v'>N</span></li><li><span class='ee-k'>SCENE_CENTER_TIME:</span><span class='ee-v'>13:50:07.3958510Z</span></li><li><span class='ee-k'>SENSOR_ID:</span><span class='ee-v'>OLI_TIRS</span></li><li><span class='ee-k'>SPACECRAFT_ID:</span><span class='ee-v'>LANDSAT_8</span></li><li><span class='ee-k'>STATION_ID:</span><span class='ee-v'>LGN</span></li><li><span class='ee-k'>SUN_AZIMUTH:</span><span class='ee-v'>43.81461348</span></li><li><span class='ee-k'>SUN_ELEVATION:</span><span class='ee-v'>52.59053479</span></li><li><span class='ee-k'>TARGET_WRS_PATH:</span><span class='ee-v'>227</span></li><li><span class='ee-k'>TARGET_WRS_ROW:</span><span class='ee-v'>62</span></li><li><span class='ee-k'>THERMAL_LINES:</span><span class='ee-v'>7321</span></li><li><span class='ee-k'>THERMAL_SAMPLES:</span><span class='ee-v'>7511</span></li><li><span class='ee-k'>TIRS_SSM_MODEL:</span><span class='ee-v'>ACTUAL</span></li><li><span class='ee-k'>TIRS_SSM_POSITION_STATUS:</span><span class='ee-v'>NOMINAL</span></li><li><span class='ee-k'>TRUNCATION_OLI:</span><span class='ee-v'>UPPER</span></li><li><span class='ee-k'>UTM_ZONE:</span><span class='ee-v'>21</span></li><li><span class='ee-k'>WRS_PATH:</span><span class='ee-v'>227</span></li><li><span class='ee-k'>WRS_ROW:</span><span class='ee-v'>62</span></li><li><span class='ee-k'>WRS_TYPE:</span><span class='ee-v'>2</span></li><li><span class='ee-k'>system:asset_size:</span><span class='ee-v'>17452348</span></li><li><label class='ee-shut'>system:footprint: LinearRing (19 vertices)<input type='checkbox' class='ee-toggle'></label><ul><li><span class='ee-k'>type:</span><span class='ee-v'>LinearRing</span></li><li><label class='ee-shut'>coordinates: List (19 elements)<input type='checkbox' class='ee-toggle'></label><ul><li><label class='ee-shut'>0: [-56.00790099168393, -1.9899313951966122]<input type='checkbox' class='ee-toggle'></label><ul><li><span class='ee-k'>0:</span><span class='ee-v'>-56.00790099168393</span></li><li><span class='ee-k'>1:</span><span class='ee-v'>-1.9899313951966122</span></li></ul></li><li><label class='ee-shut'>1: [-56.00790303255488, -1.9899651372103422]<input type='checkbox' class='ee-toggle'></label><ul><li><span class='ee-k'>0:</span><span class='ee-v'>-56.00790303255488</span></li><li><span class='ee-k'>1:</span><span class='ee-v'>-1.9899651372103422</span></li></ul></li><li><label class='ee-shut'>2: [-56.007695289133245, -2.311543999976785]<input type='checkbox' class='ee-toggle'></label><ul><li><span class='ee-k'>0:</span><span class='ee-v'>-56.007695289133245</span></li><li><span class='ee-k'>1:</span><span class='ee-v'>-2.311543999976785</span></li></ul></li><li><label class='ee-shut'>3: [-56.00758542256164, -2.311668371300401]<input type='checkbox' class='ee-toggle'></label><ul><li><span class='ee-k'>0:</span><span class='ee-v'>-56.00758542256164</span></li><li><span class='ee-k'>1:</span><span class='ee-v'>-2.311668371300401</span></li></ul></li><li><label class='ee-shut'>4: [-56.007491968050864, -2.311805420122597]<input type='checkbox' class='ee-toggle'></label><ul><li><span class='ee-k'>0:</span><span class='ee-v'>-56.007491968050864</span></li><li><span class='ee-k'>1:</span><span class='ee-v'>-2.311805420122597</span></li></ul></li><li><label class='ee-shut'>5: [-56.007458719016846, -2.311811703970227]<input type='checkbox' class='ee-toggle'></label><ul><li><span class='ee-k'>0:</span><span class='ee-v'>-56.007458719016846</span></li><li><span class='ee-k'>1:</span><span class='ee-v'>-2.311811703970227</span></li></ul></li><li><label class='ee-shut'>6: [-56.00742495977984, -2.311813812762818]<input type='checkbox' class='ee-toggle'></label><ul><li><span class='ee-k'>0:</span><span class='ee-v'>-56.00742495977984</span></li><li><span class='ee-k'>1:</span><span class='ee-v'>-2.311813812762818</span></li></ul></li><li><label class='ee-shut'>7: [-54.965489059375095, -2.310697073459358]<input type='checkbox' class='ee-toggle'></label><ul><li><span class='ee-k'>0:</span><span class='ee-v'>-54.965489059375095</span></li><li><span class='ee-k'>1:</span><span class='ee-v'>-2.310697073459358</span></li></ul></li><li><label class='ee-shut'>8: [-54.965364694306565, -2.310587193231306]<input type='checkbox' class='ee-toggle'></label><ul><li><span class='ee-k'>0:</span><span class='ee-v'>-54.965364694306565</span></li><li><span class='ee-k'>1:</span><span class='ee-v'>-2.310587193231306</span></li></ul></li><li><label class='ee-shut'>9: [-54.96522755682257, -2.3104937772016316]<input type='checkbox' class='ee-toggle'></label><ul><li><span class='ee-k'>0:</span><span class='ee-v'>-54.96522755682257</span></li><li><span class='ee-k'>1:</span><span class='ee-v'>-2.3104937772016316</span></li></ul></li><li><label class='ee-shut'>10: [-54.96521915379773, -2.310449360521862]<input type='checkbox' class='ee-toggle'></label><ul><li><span class='ee-k'>0:</span><span class='ee-v'>-54.96521915379773</span></li><li><span class='ee-k'>1:</span><span class='ee-v'>-2.310449360521862</span></li></ul></li><li><label class='ee-shut'>11: [-54.96564502015339, -1.989003396395678]<input type='checkbox' class='ee-toggle'></label><ul><li><span class='ee-k'>0:</span><span class='ee-v'>-54.96564502015339</span></li><li><span class='ee-k'>1:</span><span class='ee-v'>-1.989003396395678</span></li></ul></li><li><label class='ee-shut'>12: [-54.96575493234115, -1.9888791171772373]<input type='checkbox' class='ee-toggle'></label><ul><li><span class='ee-k'>0:</span><span class='ee-v'>-54.96575493234115</span></li><li><span class='ee-k'>1:</span><span class='ee-v'>-1.9888791171772373</span></li></ul></li><li><label class='ee-shut'>13: [-54.96584845865072, -1.9887421460016503]<input type='checkbox' class='ee-toggle'></label><ul><li><span class='ee-k'>0:</span><span class='ee-v'>-54.96584845865072</span></li><li><span class='ee-k'>1:</span><span class='ee-v'>-1.9887421460016503</span></li></ul></li><li><label class='ee-shut'>14: [-54.965892826963334, -1.988733772966659]<input type='checkbox' class='ee-toggle'></label><ul><li><span class='ee-k'>0:</span><span class='ee-v'>-54.965892826963334</span></li><li><span class='ee-k'>1:</span><span class='ee-v'>-1.988733772966659</span></li></ul></li><li><label class='ee-shut'>15: [-56.0076331277673, -1.9896950199386851]<input type='checkbox' class='ee-toggle'></label><ul><li><span class='ee-k'>0:</span><span class='ee-v'>-56.0076331277673</span></li><li><span class='ee-k'>1:</span><span class='ee-v'>-1.9896950199386851</span></li></ul></li><li><label class='ee-shut'>16: [-56.00775753557763, -1.9898048265148425]<input type='checkbox' class='ee-toggle'></label><ul><li><span class='ee-k'>0:</span><span class='ee-v'>-56.00775753557763</span></li><li><span class='ee-k'>1:</span><span class='ee-v'>-1.9898048265148425</span></li></ul></li><li><label class='ee-shut'>17: [-56.00789469899878, -1.9898981788466987]<input type='checkbox' class='ee-toggle'></label><ul><li><span class='ee-k'>0:</span><span class='ee-v'>-56.00789469899878</span></li><li><span class='ee-k'>1:</span><span class='ee-v'>-1.9898981788466987</span></li></ul></li><li><label class='ee-shut'>18: [-56.00790099168393, -1.9899313951966122]<input type='checkbox' class='ee-toggle'></label><ul><li><span class='ee-k'>0:</span><span class='ee-v'>-56.00790099168393</span></li><li><span class='ee-k'>1:</span><span class='ee-v'>-1.9899313951966122</span></li></ul></li></ul></li></ul></li><li><span class='ee-k'>system:index:</span><span class='ee-v'>BOA_LC08_227062_20130621</span></li><li><span class='ee-k'>system:time_end:</span><span class='ee-v'>1371822607395</span></li><li><span class='ee-k'>system:time_start:</span><span class='ee-v'>1371822607395</span></li></ul></li></ul></li><li><label class='ee-shut'>3: Image projects/ee-curuai/assets/Py6S/LD8/ld8_py6s/BOA_LC08_227062_20130707 (8 bands)<input type='checkbox' class='ee-toggle'></label><ul><li><span class='ee-k'>type:</span><span class='ee-v'>Image</span></li><li><span class='ee-k'>id:</span><span class='ee-v'>projects/ee-curuai/assets/Py6S/LD8/ld8_py6s/BOA_LC08_227062_20130707</span></li><li><span class='ee-k'>version:</span><span class='ee-v'>1715545732022950.0</span></li><li><label class='ee-shut'>bands: List (8 elements)<input type='checkbox' class='ee-toggle'></label><ul><li><label class='ee-shut'>0: \"QA_PIXEL\", unsigned int16, EPSG:32721, 3864x1186 px<input type='checkbox' class='ee-toggle'></label><ul><li><span class='ee-k'>id:</span><span class='ee-v'>QA_PIXEL</span></li><li><span class='ee-k'>crs:</span><span class='ee-v'>EPSG:32721</span></li><li><label class='ee-shut'>crs_transform: [30, 0, 610350, 0, -30, 9780030]<input type='checkbox' class='ee-toggle'></label><ul><li><span class='ee-k'>0:</span><span class='ee-v'>30</span></li><li><span class='ee-k'>1:</span><span class='ee-v'>0</span></li><li><span class='ee-k'>2:</span><span class='ee-v'>610350</span></li><li><span class='ee-k'>3:</span><span class='ee-v'>0</span></li><li><span class='ee-k'>4:</span><span class='ee-v'>-30</span></li><li><span class='ee-k'>5:</span><span class='ee-v'>9780030</span></li></ul></li><li><label class='ee-shut'>data_type: unsigned int16<input type='checkbox' class='ee-toggle'></label><ul><li><span class='ee-k'>type:</span><span class='ee-v'>PixelType</span></li><li><span class='ee-k'>max:</span><span class='ee-v'>65535</span></li><li><span class='ee-k'>min:</span><span class='ee-v'>0</span></li><li><span class='ee-k'>precision:</span><span class='ee-v'>int</span></li></ul></li><li><label class='ee-shut'>dimensions: [3864, 1186]<input type='checkbox' class='ee-toggle'></label><ul><li><span class='ee-k'>0:</span><span class='ee-v'>3864</span></li><li><span class='ee-k'>1:</span><span class='ee-v'>1186</span></li></ul></li></ul></li><li><label class='ee-shut'>1: \"B1\", double, EPSG:32721, 3864x1186 px<input type='checkbox' class='ee-toggle'></label><ul><li><span class='ee-k'>id:</span><span class='ee-v'>B1</span></li><li><span class='ee-k'>crs:</span><span class='ee-v'>EPSG:32721</span></li><li><label class='ee-shut'>crs_transform: [30, 0, 610350, 0, -30, 9780030]<input type='checkbox' class='ee-toggle'></label><ul><li><span class='ee-k'>0:</span><span class='ee-v'>30</span></li><li><span class='ee-k'>1:</span><span class='ee-v'>0</span></li><li><span class='ee-k'>2:</span><span class='ee-v'>610350</span></li><li><span class='ee-k'>3:</span><span class='ee-v'>0</span></li><li><span class='ee-k'>4:</span><span class='ee-v'>-30</span></li><li><span class='ee-k'>5:</span><span class='ee-v'>9780030</span></li></ul></li><li><label class='ee-shut'>data_type: double<input type='checkbox' class='ee-toggle'></label><ul><li><span class='ee-k'>type:</span><span class='ee-v'>PixelType</span></li><li><span class='ee-k'>precision:</span><span class='ee-v'>double</span></li></ul></li><li><label class='ee-shut'>dimensions: [3864, 1186]<input type='checkbox' class='ee-toggle'></label><ul><li><span class='ee-k'>0:</span><span class='ee-v'>3864</span></li><li><span class='ee-k'>1:</span><span class='ee-v'>1186</span></li></ul></li></ul></li><li><label class='ee-shut'>2: \"B2\", double, EPSG:32721, 3864x1186 px<input type='checkbox' class='ee-toggle'></label><ul><li><span class='ee-k'>id:</span><span class='ee-v'>B2</span></li><li><span class='ee-k'>crs:</span><span class='ee-v'>EPSG:32721</span></li><li><label class='ee-shut'>crs_transform: [30, 0, 610350, 0, -30, 9780030]<input type='checkbox' class='ee-toggle'></label><ul><li><span class='ee-k'>0:</span><span class='ee-v'>30</span></li><li><span class='ee-k'>1:</span><span class='ee-v'>0</span></li><li><span class='ee-k'>2:</span><span class='ee-v'>610350</span></li><li><span class='ee-k'>3:</span><span class='ee-v'>0</span></li><li><span class='ee-k'>4:</span><span class='ee-v'>-30</span></li><li><span class='ee-k'>5:</span><span class='ee-v'>9780030</span></li></ul></li><li><label class='ee-shut'>data_type: double<input type='checkbox' class='ee-toggle'></label><ul><li><span class='ee-k'>type:</span><span class='ee-v'>PixelType</span></li><li><span class='ee-k'>precision:</span><span class='ee-v'>double</span></li></ul></li><li><label class='ee-shut'>dimensions: [3864, 1186]<input type='checkbox' class='ee-toggle'></label><ul><li><span class='ee-k'>0:</span><span class='ee-v'>3864</span></li><li><span class='ee-k'>1:</span><span class='ee-v'>1186</span></li></ul></li></ul></li><li><label class='ee-shut'>3: \"B3\", double, EPSG:32721, 3864x1186 px<input type='checkbox' class='ee-toggle'></label><ul><li><span class='ee-k'>id:</span><span class='ee-v'>B3</span></li><li><span class='ee-k'>crs:</span><span class='ee-v'>EPSG:32721</span></li><li><label class='ee-shut'>crs_transform: [30, 0, 610350, 0, -30, 9780030]<input type='checkbox' class='ee-toggle'></label><ul><li><span class='ee-k'>0:</span><span class='ee-v'>30</span></li><li><span class='ee-k'>1:</span><span class='ee-v'>0</span></li><li><span class='ee-k'>2:</span><span class='ee-v'>610350</span></li><li><span class='ee-k'>3:</span><span class='ee-v'>0</span></li><li><span class='ee-k'>4:</span><span class='ee-v'>-30</span></li><li><span class='ee-k'>5:</span><span class='ee-v'>9780030</span></li></ul></li><li><label class='ee-shut'>data_type: double<input type='checkbox' class='ee-toggle'></label><ul><li><span class='ee-k'>type:</span><span class='ee-v'>PixelType</span></li><li><span class='ee-k'>precision:</span><span class='ee-v'>double</span></li></ul></li><li><label class='ee-shut'>dimensions: [3864, 1186]<input type='checkbox' class='ee-toggle'></label><ul><li><span class='ee-k'>0:</span><span class='ee-v'>3864</span></li><li><span class='ee-k'>1:</span><span class='ee-v'>1186</span></li></ul></li></ul></li><li><label class='ee-shut'>4: \"B4\", double, EPSG:32721, 3864x1186 px<input type='checkbox' class='ee-toggle'></label><ul><li><span class='ee-k'>id:</span><span class='ee-v'>B4</span></li><li><span class='ee-k'>crs:</span><span class='ee-v'>EPSG:32721</span></li><li><label class='ee-shut'>crs_transform: [30, 0, 610350, 0, -30, 9780030]<input type='checkbox' class='ee-toggle'></label><ul><li><span class='ee-k'>0:</span><span class='ee-v'>30</span></li><li><span class='ee-k'>1:</span><span class='ee-v'>0</span></li><li><span class='ee-k'>2:</span><span class='ee-v'>610350</span></li><li><span class='ee-k'>3:</span><span class='ee-v'>0</span></li><li><span class='ee-k'>4:</span><span class='ee-v'>-30</span></li><li><span class='ee-k'>5:</span><span class='ee-v'>9780030</span></li></ul></li><li><label class='ee-shut'>data_type: double<input type='checkbox' class='ee-toggle'></label><ul><li><span class='ee-k'>type:</span><span class='ee-v'>PixelType</span></li><li><span class='ee-k'>precision:</span><span class='ee-v'>double</span></li></ul></li><li><label class='ee-shut'>dimensions: [3864, 1186]<input type='checkbox' class='ee-toggle'></label><ul><li><span class='ee-k'>0:</span><span class='ee-v'>3864</span></li><li><span class='ee-k'>1:</span><span class='ee-v'>1186</span></li></ul></li></ul></li><li><label class='ee-shut'>5: \"B5\", double, EPSG:32721, 3864x1186 px<input type='checkbox' class='ee-toggle'></label><ul><li><span class='ee-k'>id:</span><span class='ee-v'>B5</span></li><li><span class='ee-k'>crs:</span><span class='ee-v'>EPSG:32721</span></li><li><label class='ee-shut'>crs_transform: [30, 0, 610350, 0, -30, 9780030]<input type='checkbox' class='ee-toggle'></label><ul><li><span class='ee-k'>0:</span><span class='ee-v'>30</span></li><li><span class='ee-k'>1:</span><span class='ee-v'>0</span></li><li><span class='ee-k'>2:</span><span class='ee-v'>610350</span></li><li><span class='ee-k'>3:</span><span class='ee-v'>0</span></li><li><span class='ee-k'>4:</span><span class='ee-v'>-30</span></li><li><span class='ee-k'>5:</span><span class='ee-v'>9780030</span></li></ul></li><li><label class='ee-shut'>data_type: double<input type='checkbox' class='ee-toggle'></label><ul><li><span class='ee-k'>type:</span><span class='ee-v'>PixelType</span></li><li><span class='ee-k'>precision:</span><span class='ee-v'>double</span></li></ul></li><li><label class='ee-shut'>dimensions: [3864, 1186]<input type='checkbox' class='ee-toggle'></label><ul><li><span class='ee-k'>0:</span><span class='ee-v'>3864</span></li><li><span class='ee-k'>1:</span><span class='ee-v'>1186</span></li></ul></li></ul></li><li><label class='ee-shut'>6: \"B6\", double, EPSG:32721, 3864x1186 px<input type='checkbox' class='ee-toggle'></label><ul><li><span class='ee-k'>id:</span><span class='ee-v'>B6</span></li><li><span class='ee-k'>crs:</span><span class='ee-v'>EPSG:32721</span></li><li><label class='ee-shut'>crs_transform: [30, 0, 610350, 0, -30, 9780030]<input type='checkbox' class='ee-toggle'></label><ul><li><span class='ee-k'>0:</span><span class='ee-v'>30</span></li><li><span class='ee-k'>1:</span><span class='ee-v'>0</span></li><li><span class='ee-k'>2:</span><span class='ee-v'>610350</span></li><li><span class='ee-k'>3:</span><span class='ee-v'>0</span></li><li><span class='ee-k'>4:</span><span class='ee-v'>-30</span></li><li><span class='ee-k'>5:</span><span class='ee-v'>9780030</span></li></ul></li><li><label class='ee-shut'>data_type: double<input type='checkbox' class='ee-toggle'></label><ul><li><span class='ee-k'>type:</span><span class='ee-v'>PixelType</span></li><li><span class='ee-k'>precision:</span><span class='ee-v'>double</span></li></ul></li><li><label class='ee-shut'>dimensions: [3864, 1186]<input type='checkbox' class='ee-toggle'></label><ul><li><span class='ee-k'>0:</span><span class='ee-v'>3864</span></li><li><span class='ee-k'>1:</span><span class='ee-v'>1186</span></li></ul></li></ul></li><li><label class='ee-shut'>7: \"B7\", double, EPSG:32721, 3864x1186 px<input type='checkbox' class='ee-toggle'></label><ul><li><span class='ee-k'>id:</span><span class='ee-v'>B7</span></li><li><span class='ee-k'>crs:</span><span class='ee-v'>EPSG:32721</span></li><li><label class='ee-shut'>crs_transform: [30, 0, 610350, 0, -30, 9780030]<input type='checkbox' class='ee-toggle'></label><ul><li><span class='ee-k'>0:</span><span class='ee-v'>30</span></li><li><span class='ee-k'>1:</span><span class='ee-v'>0</span></li><li><span class='ee-k'>2:</span><span class='ee-v'>610350</span></li><li><span class='ee-k'>3:</span><span class='ee-v'>0</span></li><li><span class='ee-k'>4:</span><span class='ee-v'>-30</span></li><li><span class='ee-k'>5:</span><span class='ee-v'>9780030</span></li></ul></li><li><label class='ee-shut'>data_type: double<input type='checkbox' class='ee-toggle'></label><ul><li><span class='ee-k'>type:</span><span class='ee-v'>PixelType</span></li><li><span class='ee-k'>precision:</span><span class='ee-v'>double</span></li></ul></li><li><label class='ee-shut'>dimensions: [3864, 1186]<input type='checkbox' class='ee-toggle'></label><ul><li><span class='ee-k'>0:</span><span class='ee-v'>3864</span></li><li><span class='ee-k'>1:</span><span class='ee-v'>1186</span></li></ul></li></ul></li></ul></li><li><label class='ee-shut'>properties: Object (117 properties)<input type='checkbox' class='ee-toggle'></label><ul><li><span class='ee-k'>AC_aerosol_optical_thickness:</span><span class='ee-v'>0.2</span></li><li><span class='ee-k'>AC_date:</span><span class='ee-v'>2013-07-07</span></li><li><span class='ee-k'>AC_ozone:</span><span class='ee-v'>0.276</span></li><li><span class='ee-k'>AC_version:</span><span class='ee-v'>py6S</span></li><li><span class='ee-k'>AC_water_vapour:</span><span class='ee-v'>4.130000305175781</span></li><li><span class='ee-k'>CLOUD_COVER:</span><span class='ee-v'>65.97</span></li><li><span class='ee-k'>CLOUD_COVER_LAND:</span><span class='ee-v'>65.97</span></li><li><span class='ee-k'>COLLECTION_CATEGORY:</span><span class='ee-v'>T1</span></li><li><span class='ee-k'>COLLECTION_NUMBER:</span><span class='ee-v'>2</span></li><li><span class='ee-k'>DATA_SOURCE_ELEVATION:</span><span class='ee-v'>GLS2000</span></li><li><span class='ee-k'>DATA_SOURCE_TIRS_STRAY_LIGHT_CORRECTION:</span><span class='ee-v'>TIRS</span></li><li><span class='ee-k'>DATE_ACQUIRED:</span><span class='ee-v'>2013-07-07</span></li><li><span class='ee-k'>DATE_PRODUCT_GENERATED:</span><span class='ee-v'>1599931662000</span></li><li><span class='ee-k'>DATUM:</span><span class='ee-v'>WGS84</span></li><li><span class='ee-k'>EARTH_SUN_DISTANCE:</span><span class='ee-v'>1.0166971</span></li><li><span class='ee-k'>ELLIPSOID:</span><span class='ee-v'>WGS84</span></li><li><span class='ee-k'>GEOMETRIC_RMSE_MODEL:</span><span class='ee-v'>7.99</span></li><li><span class='ee-k'>GEOMETRIC_RMSE_MODEL_X:</span><span class='ee-v'>5.39</span></li><li><span class='ee-k'>GEOMETRIC_RMSE_MODEL_Y:</span><span class='ee-v'>5.898</span></li><li><span class='ee-k'>GEOMETRIC_RMSE_VERIFY:</span><span class='ee-v'>8.645</span></li><li><span class='ee-k'>GRID_CELL_SIZE_PANCHROMATIC:</span><span class='ee-v'>15</span></li><li><span class='ee-k'>GRID_CELL_SIZE_REFLECTIVE:</span><span class='ee-v'>30</span></li><li><span class='ee-k'>GRID_CELL_SIZE_THERMAL:</span><span class='ee-v'>30</span></li><li><span class='ee-k'>GROUND_CONTROL_POINTS_MODEL:</span><span class='ee-v'>141</span></li><li><span class='ee-k'>GROUND_CONTROL_POINTS_VERIFY:</span><span class='ee-v'>73</span></li><li><span class='ee-k'>GROUND_CONTROL_POINTS_VERSION:</span><span class='ee-v'>5</span></li><li><span class='ee-k'>IMAGE_QUALITY_OLI:</span><span class='ee-v'>9</span></li><li><span class='ee-k'>IMAGE_QUALITY_TIRS:</span><span class='ee-v'>9</span></li><li><span class='ee-k'>K1_CONSTANT_BAND_10:</span><span class='ee-v'>774.8853</span></li><li><span class='ee-k'>K1_CONSTANT_BAND_11:</span><span class='ee-v'>480.8883</span></li><li><span class='ee-k'>K2_CONSTANT_BAND_10:</span><span class='ee-v'>1321.0789</span></li><li><span class='ee-k'>K2_CONSTANT_BAND_11:</span><span class='ee-v'>1201.1442</span></li><li><span class='ee-k'>LANDSAT_PRODUCT_ID:</span><span class='ee-v'>LC08_L1TP_227062_20130707_20200912_02_T1</span></li><li><span class='ee-k'>LANDSAT_SCENE_ID:</span><span class='ee-v'>LC82270622013188LGN01</span></li><li><span class='ee-k'>MAP_PROJECTION:</span><span class='ee-v'>UTM</span></li><li><span class='ee-k'>NADIR_OFFNADIR:</span><span class='ee-v'>NADIR</span></li><li><span class='ee-k'>ORIENTATION:</span><span class='ee-v'>NORTH_UP</span></li><li><span class='ee-k'>PANCHROMATIC_LINES:</span><span class='ee-v'>15501</span></li><li><span class='ee-k'>PANCHROMATIC_SAMPLES:</span><span class='ee-v'>15221</span></li><li><span class='ee-k'>PROCESSING_LEVEL:</span><span class='ee-v'>L1TP</span></li><li><span class='ee-k'>PROCESSING_SOFTWARE_VERSION:</span><span class='ee-v'>LPGS_15.3.1c</span></li><li><span class='ee-k'>RADIANCE_ADD_BAND_1:</span><span class='ee-v'>-60.73369</span></li><li><span class='ee-k'>RADIANCE_ADD_BAND_10:</span><span class='ee-v'>0.1</span></li><li><span class='ee-k'>RADIANCE_ADD_BAND_11:</span><span class='ee-v'>0.1</span></li><li><span class='ee-k'>RADIANCE_ADD_BAND_2:</span><span class='ee-v'>-62.19204</span></li><li><span class='ee-k'>RADIANCE_ADD_BAND_3:</span><span class='ee-v'>-57.30943</span></li><li><span class='ee-k'>RADIANCE_ADD_BAND_4:</span><span class='ee-v'>-48.32654</span></li><li><span class='ee-k'>RADIANCE_ADD_BAND_5:</span><span class='ee-v'>-29.57343</span></li><li><span class='ee-k'>RADIANCE_ADD_BAND_6:</span><span class='ee-v'>-7.35464</span></li><li><span class='ee-k'>RADIANCE_ADD_BAND_7:</span><span class='ee-v'>-2.47891</span></li><li><span class='ee-k'>RADIANCE_ADD_BAND_8:</span><span class='ee-v'>-54.69235</span></li><li><span class='ee-k'>RADIANCE_ADD_BAND_9:</span><span class='ee-v'>-11.55797</span></li><li><span class='ee-k'>RADIANCE_MULT_BAND_1:</span><span class='ee-v'>0.012147</span></li><li><span class='ee-k'>RADIANCE_MULT_BAND_10:</span><span class='ee-v'>0.0003342</span></li><li><span class='ee-k'>RADIANCE_MULT_BAND_11:</span><span class='ee-v'>0.0003342</span></li><li><span class='ee-k'>RADIANCE_MULT_BAND_2:</span><span class='ee-v'>0.012438</span></li><li><span class='ee-k'>RADIANCE_MULT_BAND_3:</span><span class='ee-v'>0.011462</span></li><li><span class='ee-k'>RADIANCE_MULT_BAND_4:</span><span class='ee-v'>0.0096653</span></li><li><span class='ee-k'>RADIANCE_MULT_BAND_5:</span><span class='ee-v'>0.0059147</span></li><li><span class='ee-k'>RADIANCE_MULT_BAND_6:</span><span class='ee-v'>0.0014709</span></li><li><span class='ee-k'>RADIANCE_MULT_BAND_7:</span><span class='ee-v'>0.00049578</span></li><li><span class='ee-k'>RADIANCE_MULT_BAND_8:</span><span class='ee-v'>0.010938</span></li><li><span class='ee-k'>RADIANCE_MULT_BAND_9:</span><span class='ee-v'>0.0023116</span></li><li><span class='ee-k'>REFLECTANCE_ADD_BAND_1:</span><span class='ee-v'>-0.1</span></li><li><span class='ee-k'>REFLECTANCE_ADD_BAND_2:</span><span class='ee-v'>-0.1</span></li><li><span class='ee-k'>REFLECTANCE_ADD_BAND_3:</span><span class='ee-v'>-0.1</span></li><li><span class='ee-k'>REFLECTANCE_ADD_BAND_4:</span><span class='ee-v'>-0.1</span></li><li><span class='ee-k'>REFLECTANCE_ADD_BAND_5:</span><span class='ee-v'>-0.1</span></li><li><span class='ee-k'>REFLECTANCE_ADD_BAND_6:</span><span class='ee-v'>-0.1</span></li><li><span class='ee-k'>REFLECTANCE_ADD_BAND_7:</span><span class='ee-v'>-0.1</span></li><li><span class='ee-k'>REFLECTANCE_ADD_BAND_8:</span><span class='ee-v'>-0.1</span></li><li><span class='ee-k'>REFLECTANCE_ADD_BAND_9:</span><span class='ee-v'>-0.1</span></li><li><span class='ee-k'>REFLECTANCE_MULT_BAND_1:</span><span class='ee-v'>2e-05</span></li><li><span class='ee-k'>REFLECTANCE_MULT_BAND_2:</span><span class='ee-v'>2e-05</span></li><li><span class='ee-k'>REFLECTANCE_MULT_BAND_3:</span><span class='ee-v'>2e-05</span></li><li><span class='ee-k'>REFLECTANCE_MULT_BAND_4:</span><span class='ee-v'>2e-05</span></li><li><span class='ee-k'>REFLECTANCE_MULT_BAND_5:</span><span class='ee-v'>2e-05</span></li><li><span class='ee-k'>REFLECTANCE_MULT_BAND_6:</span><span class='ee-v'>2e-05</span></li><li><span class='ee-k'>REFLECTANCE_MULT_BAND_7:</span><span class='ee-v'>2e-05</span></li><li><span class='ee-k'>REFLECTANCE_MULT_BAND_8:</span><span class='ee-v'>2e-05</span></li><li><span class='ee-k'>REFLECTANCE_MULT_BAND_9:</span><span class='ee-v'>2e-05</span></li><li><span class='ee-k'>REFLECTIVE_LINES:</span><span class='ee-v'>7751</span></li><li><span class='ee-k'>REFLECTIVE_SAMPLES:</span><span class='ee-v'>7611</span></li><li><span class='ee-k'>REQUEST_ID:</span><span class='ee-v'>L2</span></li><li><span class='ee-k'>RESAMPLING_OPTION:</span><span class='ee-v'>CUBIC_CONVOLUTION</span></li><li><span class='ee-k'>ROLL_ANGLE:</span><span class='ee-v'>-0.001</span></li><li><span class='ee-k'>SATURATION_BAND_1:</span><span class='ee-v'>N</span></li><li><span class='ee-k'>SATURATION_BAND_2:</span><span class='ee-v'>N</span></li><li><span class='ee-k'>SATURATION_BAND_3:</span><span class='ee-v'>N</span></li><li><span class='ee-k'>SATURATION_BAND_4:</span><span class='ee-v'>Y</span></li><li><span class='ee-k'>SATURATION_BAND_5:</span><span class='ee-v'>Y</span></li><li><span class='ee-k'>SATURATION_BAND_6:</span><span class='ee-v'>N</span></li><li><span class='ee-k'>SATURATION_BAND_7:</span><span class='ee-v'>Y</span></li><li><span class='ee-k'>SATURATION_BAND_8:</span><span class='ee-v'>N</span></li><li><span class='ee-k'>SATURATION_BAND_9:</span><span class='ee-v'>N</span></li><li><span class='ee-k'>SCENE_CENTER_TIME:</span><span class='ee-v'>13:50:12.2914690Z</span></li><li><span class='ee-k'>SENSOR_ID:</span><span class='ee-v'>OLI_TIRS</span></li><li><span class='ee-k'>SPACECRAFT_ID:</span><span class='ee-v'>LANDSAT_8</span></li><li><span class='ee-k'>STATION_ID:</span><span class='ee-v'>LGN</span></li><li><span class='ee-k'>SUN_AZIMUTH:</span><span class='ee-v'>45.72158705</span></li><li><span class='ee-k'>SUN_ELEVATION:</span><span class='ee-v'>52.63287481</span></li><li><span class='ee-k'>TARGET_WRS_PATH:</span><span class='ee-v'>227</span></li><li><span class='ee-k'>TARGET_WRS_ROW:</span><span class='ee-v'>62</span></li><li><span class='ee-k'>THERMAL_LINES:</span><span class='ee-v'>7751</span></li><li><span class='ee-k'>THERMAL_SAMPLES:</span><span class='ee-v'>7611</span></li><li><span class='ee-k'>TIRS_SSM_MODEL:</span><span class='ee-v'>ACTUAL</span></li><li><span class='ee-k'>TIRS_SSM_POSITION_STATUS:</span><span class='ee-v'>NOMINAL</span></li><li><span class='ee-k'>TRUNCATION_OLI:</span><span class='ee-v'>UPPER</span></li><li><span class='ee-k'>UTM_ZONE:</span><span class='ee-v'>21</span></li><li><span class='ee-k'>WRS_PATH:</span><span class='ee-v'>227</span></li><li><span class='ee-k'>WRS_ROW:</span><span class='ee-v'>62</span></li><li><span class='ee-k'>WRS_TYPE:</span><span class='ee-v'>2</span></li><li><span class='ee-k'>system:asset_size:</span><span class='ee-v'>109</span></li><li><label class='ee-shut'>system:footprint: LinearRing (19 vertices)<input type='checkbox' class='ee-toggle'></label><ul><li><span class='ee-k'>type:</span><span class='ee-v'>LinearRing</span></li><li><label class='ee-shut'>coordinates: List (19 elements)<input type='checkbox' class='ee-toggle'></label><ul><li><label class='ee-shut'>0: [-56.00790099168393, -1.9899313951966122]<input type='checkbox' class='ee-toggle'></label><ul><li><span class='ee-k'>0:</span><span class='ee-v'>-56.00790099168393</span></li><li><span class='ee-k'>1:</span><span class='ee-v'>-1.9899313951966122</span></li></ul></li><li><label class='ee-shut'>1: [-56.00790303255488, -1.9899651372103422]<input type='checkbox' class='ee-toggle'></label><ul><li><span class='ee-k'>0:</span><span class='ee-v'>-56.00790303255488</span></li><li><span class='ee-k'>1:</span><span class='ee-v'>-1.9899651372103422</span></li></ul></li><li><label class='ee-shut'>2: [-56.007695289133245, -2.311543999976785]<input type='checkbox' class='ee-toggle'></label><ul><li><span class='ee-k'>0:</span><span class='ee-v'>-56.007695289133245</span></li><li><span class='ee-k'>1:</span><span class='ee-v'>-2.311543999976785</span></li></ul></li><li><label class='ee-shut'>3: [-56.00758542256164, -2.311668371300401]<input type='checkbox' class='ee-toggle'></label><ul><li><span class='ee-k'>0:</span><span class='ee-v'>-56.00758542256164</span></li><li><span class='ee-k'>1:</span><span class='ee-v'>-2.311668371300401</span></li></ul></li><li><label class='ee-shut'>4: [-56.007491968050864, -2.311805420122597]<input type='checkbox' class='ee-toggle'></label><ul><li><span class='ee-k'>0:</span><span class='ee-v'>-56.007491968050864</span></li><li><span class='ee-k'>1:</span><span class='ee-v'>-2.311805420122597</span></li></ul></li><li><label class='ee-shut'>5: [-56.007458719016846, -2.311811703970227]<input type='checkbox' class='ee-toggle'></label><ul><li><span class='ee-k'>0:</span><span class='ee-v'>-56.007458719016846</span></li><li><span class='ee-k'>1:</span><span class='ee-v'>-2.311811703970227</span></li></ul></li><li><label class='ee-shut'>6: [-56.00742495977984, -2.311813812762818]<input type='checkbox' class='ee-toggle'></label><ul><li><span class='ee-k'>0:</span><span class='ee-v'>-56.00742495977984</span></li><li><span class='ee-k'>1:</span><span class='ee-v'>-2.311813812762818</span></li></ul></li><li><label class='ee-shut'>7: [-54.965489059375095, -2.310697073459358]<input type='checkbox' class='ee-toggle'></label><ul><li><span class='ee-k'>0:</span><span class='ee-v'>-54.965489059375095</span></li><li><span class='ee-k'>1:</span><span class='ee-v'>-2.310697073459358</span></li></ul></li><li><label class='ee-shut'>8: [-54.965364694306565, -2.310587193231306]<input type='checkbox' class='ee-toggle'></label><ul><li><span class='ee-k'>0:</span><span class='ee-v'>-54.965364694306565</span></li><li><span class='ee-k'>1:</span><span class='ee-v'>-2.310587193231306</span></li></ul></li><li><label class='ee-shut'>9: [-54.96522755682257, -2.3104937772016316]<input type='checkbox' class='ee-toggle'></label><ul><li><span class='ee-k'>0:</span><span class='ee-v'>-54.96522755682257</span></li><li><span class='ee-k'>1:</span><span class='ee-v'>-2.3104937772016316</span></li></ul></li><li><label class='ee-shut'>10: [-54.96521915379773, -2.310449360521862]<input type='checkbox' class='ee-toggle'></label><ul><li><span class='ee-k'>0:</span><span class='ee-v'>-54.96521915379773</span></li><li><span class='ee-k'>1:</span><span class='ee-v'>-2.310449360521862</span></li></ul></li><li><label class='ee-shut'>11: [-54.96564502015339, -1.989003396395678]<input type='checkbox' class='ee-toggle'></label><ul><li><span class='ee-k'>0:</span><span class='ee-v'>-54.96564502015339</span></li><li><span class='ee-k'>1:</span><span class='ee-v'>-1.989003396395678</span></li></ul></li><li><label class='ee-shut'>12: [-54.96575493234115, -1.9888791171772373]<input type='checkbox' class='ee-toggle'></label><ul><li><span class='ee-k'>0:</span><span class='ee-v'>-54.96575493234115</span></li><li><span class='ee-k'>1:</span><span class='ee-v'>-1.9888791171772373</span></li></ul></li><li><label class='ee-shut'>13: [-54.96584845865072, -1.9887421460016503]<input type='checkbox' class='ee-toggle'></label><ul><li><span class='ee-k'>0:</span><span class='ee-v'>-54.96584845865072</span></li><li><span class='ee-k'>1:</span><span class='ee-v'>-1.9887421460016503</span></li></ul></li><li><label class='ee-shut'>14: [-54.965892826963334, -1.988733772966659]<input type='checkbox' class='ee-toggle'></label><ul><li><span class='ee-k'>0:</span><span class='ee-v'>-54.965892826963334</span></li><li><span class='ee-k'>1:</span><span class='ee-v'>-1.988733772966659</span></li></ul></li><li><label class='ee-shut'>15: [-56.0076331277673, -1.9896950199386851]<input type='checkbox' class='ee-toggle'></label><ul><li><span class='ee-k'>0:</span><span class='ee-v'>-56.0076331277673</span></li><li><span class='ee-k'>1:</span><span class='ee-v'>-1.9896950199386851</span></li></ul></li><li><label class='ee-shut'>16: [-56.00775753557763, -1.9898048265148425]<input type='checkbox' class='ee-toggle'></label><ul><li><span class='ee-k'>0:</span><span class='ee-v'>-56.00775753557763</span></li><li><span class='ee-k'>1:</span><span class='ee-v'>-1.9898048265148425</span></li></ul></li><li><label class='ee-shut'>17: [-56.00789469899878, -1.9898981788466987]<input type='checkbox' class='ee-toggle'></label><ul><li><span class='ee-k'>0:</span><span class='ee-v'>-56.00789469899878</span></li><li><span class='ee-k'>1:</span><span class='ee-v'>-1.9898981788466987</span></li></ul></li><li><label class='ee-shut'>18: [-56.00790099168393, -1.9899313951966122]<input type='checkbox' class='ee-toggle'></label><ul><li><span class='ee-k'>0:</span><span class='ee-v'>-56.00790099168393</span></li><li><span class='ee-k'>1:</span><span class='ee-v'>-1.9899313951966122</span></li></ul></li></ul></li></ul></li><li><span class='ee-k'>system:index:</span><span class='ee-v'>BOA_LC08_227062_20130707</span></li><li><span class='ee-k'>system:time_end:</span><span class='ee-v'>1373205012291</span></li><li><span class='ee-k'>system:time_start:</span><span class='ee-v'>1373205012291</span></li></ul></li></ul></li><li><label class='ee-shut'>4: Image projects/ee-curuai/assets/Py6S/LD8/ld8_py6s/BOA_LC08_227062_20130808 (8 bands)<input type='checkbox' class='ee-toggle'></label><ul><li><span class='ee-k'>type:</span><span class='ee-v'>Image</span></li><li><span class='ee-k'>id:</span><span class='ee-v'>projects/ee-curuai/assets/Py6S/LD8/ld8_py6s/BOA_LC08_227062_20130808</span></li><li><span class='ee-k'>version:</span><span class='ee-v'>1715545903564398</span></li><li><label class='ee-shut'>bands: List (8 elements)<input type='checkbox' class='ee-toggle'></label><ul><li><label class='ee-shut'>0: \"QA_PIXEL\", unsigned int16, EPSG:32721, 3864x1186 px<input type='checkbox' class='ee-toggle'></label><ul><li><span class='ee-k'>id:</span><span class='ee-v'>QA_PIXEL</span></li><li><span class='ee-k'>crs:</span><span class='ee-v'>EPSG:32721</span></li><li><label class='ee-shut'>crs_transform: [30, 0, 610350, 0, -30, 9780030]<input type='checkbox' class='ee-toggle'></label><ul><li><span class='ee-k'>0:</span><span class='ee-v'>30</span></li><li><span class='ee-k'>1:</span><span class='ee-v'>0</span></li><li><span class='ee-k'>2:</span><span class='ee-v'>610350</span></li><li><span class='ee-k'>3:</span><span class='ee-v'>0</span></li><li><span class='ee-k'>4:</span><span class='ee-v'>-30</span></li><li><span class='ee-k'>5:</span><span class='ee-v'>9780030</span></li></ul></li><li><label class='ee-shut'>data_type: unsigned int16<input type='checkbox' class='ee-toggle'></label><ul><li><span class='ee-k'>type:</span><span class='ee-v'>PixelType</span></li><li><span class='ee-k'>max:</span><span class='ee-v'>65535</span></li><li><span class='ee-k'>min:</span><span class='ee-v'>0</span></li><li><span class='ee-k'>precision:</span><span class='ee-v'>int</span></li></ul></li><li><label class='ee-shut'>dimensions: [3864, 1186]<input type='checkbox' class='ee-toggle'></label><ul><li><span class='ee-k'>0:</span><span class='ee-v'>3864</span></li><li><span class='ee-k'>1:</span><span class='ee-v'>1186</span></li></ul></li></ul></li><li><label class='ee-shut'>1: \"B1\", double, EPSG:32721, 3864x1186 px<input type='checkbox' class='ee-toggle'></label><ul><li><span class='ee-k'>id:</span><span class='ee-v'>B1</span></li><li><span class='ee-k'>crs:</span><span class='ee-v'>EPSG:32721</span></li><li><label class='ee-shut'>crs_transform: [30, 0, 610350, 0, -30, 9780030]<input type='checkbox' class='ee-toggle'></label><ul><li><span class='ee-k'>0:</span><span class='ee-v'>30</span></li><li><span class='ee-k'>1:</span><span class='ee-v'>0</span></li><li><span class='ee-k'>2:</span><span class='ee-v'>610350</span></li><li><span class='ee-k'>3:</span><span class='ee-v'>0</span></li><li><span class='ee-k'>4:</span><span class='ee-v'>-30</span></li><li><span class='ee-k'>5:</span><span class='ee-v'>9780030</span></li></ul></li><li><label class='ee-shut'>data_type: double<input type='checkbox' class='ee-toggle'></label><ul><li><span class='ee-k'>type:</span><span class='ee-v'>PixelType</span></li><li><span class='ee-k'>precision:</span><span class='ee-v'>double</span></li></ul></li><li><label class='ee-shut'>dimensions: [3864, 1186]<input type='checkbox' class='ee-toggle'></label><ul><li><span class='ee-k'>0:</span><span class='ee-v'>3864</span></li><li><span class='ee-k'>1:</span><span class='ee-v'>1186</span></li></ul></li></ul></li><li><label class='ee-shut'>2: \"B2\", double, EPSG:32721, 3864x1186 px<input type='checkbox' class='ee-toggle'></label><ul><li><span class='ee-k'>id:</span><span class='ee-v'>B2</span></li><li><span class='ee-k'>crs:</span><span class='ee-v'>EPSG:32721</span></li><li><label class='ee-shut'>crs_transform: [30, 0, 610350, 0, -30, 9780030]<input type='checkbox' class='ee-toggle'></label><ul><li><span class='ee-k'>0:</span><span class='ee-v'>30</span></li><li><span class='ee-k'>1:</span><span class='ee-v'>0</span></li><li><span class='ee-k'>2:</span><span class='ee-v'>610350</span></li><li><span class='ee-k'>3:</span><span class='ee-v'>0</span></li><li><span class='ee-k'>4:</span><span class='ee-v'>-30</span></li><li><span class='ee-k'>5:</span><span class='ee-v'>9780030</span></li></ul></li><li><label class='ee-shut'>data_type: double<input type='checkbox' class='ee-toggle'></label><ul><li><span class='ee-k'>type:</span><span class='ee-v'>PixelType</span></li><li><span class='ee-k'>precision:</span><span class='ee-v'>double</span></li></ul></li><li><label class='ee-shut'>dimensions: [3864, 1186]<input type='checkbox' class='ee-toggle'></label><ul><li><span class='ee-k'>0:</span><span class='ee-v'>3864</span></li><li><span class='ee-k'>1:</span><span class='ee-v'>1186</span></li></ul></li></ul></li><li><label class='ee-shut'>3: \"B3\", double, EPSG:32721, 3864x1186 px<input type='checkbox' class='ee-toggle'></label><ul><li><span class='ee-k'>id:</span><span class='ee-v'>B3</span></li><li><span class='ee-k'>crs:</span><span class='ee-v'>EPSG:32721</span></li><li><label class='ee-shut'>crs_transform: [30, 0, 610350, 0, -30, 9780030]<input type='checkbox' class='ee-toggle'></label><ul><li><span class='ee-k'>0:</span><span class='ee-v'>30</span></li><li><span class='ee-k'>1:</span><span class='ee-v'>0</span></li><li><span class='ee-k'>2:</span><span class='ee-v'>610350</span></li><li><span class='ee-k'>3:</span><span class='ee-v'>0</span></li><li><span class='ee-k'>4:</span><span class='ee-v'>-30</span></li><li><span class='ee-k'>5:</span><span class='ee-v'>9780030</span></li></ul></li><li><label class='ee-shut'>data_type: double<input type='checkbox' class='ee-toggle'></label><ul><li><span class='ee-k'>type:</span><span class='ee-v'>PixelType</span></li><li><span class='ee-k'>precision:</span><span class='ee-v'>double</span></li></ul></li><li><label class='ee-shut'>dimensions: [3864, 1186]<input type='checkbox' class='ee-toggle'></label><ul><li><span class='ee-k'>0:</span><span class='ee-v'>3864</span></li><li><span class='ee-k'>1:</span><span class='ee-v'>1186</span></li></ul></li></ul></li><li><label class='ee-shut'>4: \"B4\", double, EPSG:32721, 3864x1186 px<input type='checkbox' class='ee-toggle'></label><ul><li><span class='ee-k'>id:</span><span class='ee-v'>B4</span></li><li><span class='ee-k'>crs:</span><span class='ee-v'>EPSG:32721</span></li><li><label class='ee-shut'>crs_transform: [30, 0, 610350, 0, -30, 9780030]<input type='checkbox' class='ee-toggle'></label><ul><li><span class='ee-k'>0:</span><span class='ee-v'>30</span></li><li><span class='ee-k'>1:</span><span class='ee-v'>0</span></li><li><span class='ee-k'>2:</span><span class='ee-v'>610350</span></li><li><span class='ee-k'>3:</span><span class='ee-v'>0</span></li><li><span class='ee-k'>4:</span><span class='ee-v'>-30</span></li><li><span class='ee-k'>5:</span><span class='ee-v'>9780030</span></li></ul></li><li><label class='ee-shut'>data_type: double<input type='checkbox' class='ee-toggle'></label><ul><li><span class='ee-k'>type:</span><span class='ee-v'>PixelType</span></li><li><span class='ee-k'>precision:</span><span class='ee-v'>double</span></li></ul></li><li><label class='ee-shut'>dimensions: [3864, 1186]<input type='checkbox' class='ee-toggle'></label><ul><li><span class='ee-k'>0:</span><span class='ee-v'>3864</span></li><li><span class='ee-k'>1:</span><span class='ee-v'>1186</span></li></ul></li></ul></li><li><label class='ee-shut'>5: \"B5\", double, EPSG:32721, 3864x1186 px<input type='checkbox' class='ee-toggle'></label><ul><li><span class='ee-k'>id:</span><span class='ee-v'>B5</span></li><li><span class='ee-k'>crs:</span><span class='ee-v'>EPSG:32721</span></li><li><label class='ee-shut'>crs_transform: [30, 0, 610350, 0, -30, 9780030]<input type='checkbox' class='ee-toggle'></label><ul><li><span class='ee-k'>0:</span><span class='ee-v'>30</span></li><li><span class='ee-k'>1:</span><span class='ee-v'>0</span></li><li><span class='ee-k'>2:</span><span class='ee-v'>610350</span></li><li><span class='ee-k'>3:</span><span class='ee-v'>0</span></li><li><span class='ee-k'>4:</span><span class='ee-v'>-30</span></li><li><span class='ee-k'>5:</span><span class='ee-v'>9780030</span></li></ul></li><li><label class='ee-shut'>data_type: double<input type='checkbox' class='ee-toggle'></label><ul><li><span class='ee-k'>type:</span><span class='ee-v'>PixelType</span></li><li><span class='ee-k'>precision:</span><span class='ee-v'>double</span></li></ul></li><li><label class='ee-shut'>dimensions: [3864, 1186]<input type='checkbox' class='ee-toggle'></label><ul><li><span class='ee-k'>0:</span><span class='ee-v'>3864</span></li><li><span class='ee-k'>1:</span><span class='ee-v'>1186</span></li></ul></li></ul></li><li><label class='ee-shut'>6: \"B6\", double, EPSG:32721, 3864x1186 px<input type='checkbox' class='ee-toggle'></label><ul><li><span class='ee-k'>id:</span><span class='ee-v'>B6</span></li><li><span class='ee-k'>crs:</span><span class='ee-v'>EPSG:32721</span></li><li><label class='ee-shut'>crs_transform: [30, 0, 610350, 0, -30, 9780030]<input type='checkbox' class='ee-toggle'></label><ul><li><span class='ee-k'>0:</span><span class='ee-v'>30</span></li><li><span class='ee-k'>1:</span><span class='ee-v'>0</span></li><li><span class='ee-k'>2:</span><span class='ee-v'>610350</span></li><li><span class='ee-k'>3:</span><span class='ee-v'>0</span></li><li><span class='ee-k'>4:</span><span class='ee-v'>-30</span></li><li><span class='ee-k'>5:</span><span class='ee-v'>9780030</span></li></ul></li><li><label class='ee-shut'>data_type: double<input type='checkbox' class='ee-toggle'></label><ul><li><span class='ee-k'>type:</span><span class='ee-v'>PixelType</span></li><li><span class='ee-k'>precision:</span><span class='ee-v'>double</span></li></ul></li><li><label class='ee-shut'>dimensions: [3864, 1186]<input type='checkbox' class='ee-toggle'></label><ul><li><span class='ee-k'>0:</span><span class='ee-v'>3864</span></li><li><span class='ee-k'>1:</span><span class='ee-v'>1186</span></li></ul></li></ul></li><li><label class='ee-shut'>7: \"B7\", double, EPSG:32721, 3864x1186 px<input type='checkbox' class='ee-toggle'></label><ul><li><span class='ee-k'>id:</span><span class='ee-v'>B7</span></li><li><span class='ee-k'>crs:</span><span class='ee-v'>EPSG:32721</span></li><li><label class='ee-shut'>crs_transform: [30, 0, 610350, 0, -30, 9780030]<input type='checkbox' class='ee-toggle'></label><ul><li><span class='ee-k'>0:</span><span class='ee-v'>30</span></li><li><span class='ee-k'>1:</span><span class='ee-v'>0</span></li><li><span class='ee-k'>2:</span><span class='ee-v'>610350</span></li><li><span class='ee-k'>3:</span><span class='ee-v'>0</span></li><li><span class='ee-k'>4:</span><span class='ee-v'>-30</span></li><li><span class='ee-k'>5:</span><span class='ee-v'>9780030</span></li></ul></li><li><label class='ee-shut'>data_type: double<input type='checkbox' class='ee-toggle'></label><ul><li><span class='ee-k'>type:</span><span class='ee-v'>PixelType</span></li><li><span class='ee-k'>precision:</span><span class='ee-v'>double</span></li></ul></li><li><label class='ee-shut'>dimensions: [3864, 1186]<input type='checkbox' class='ee-toggle'></label><ul><li><span class='ee-k'>0:</span><span class='ee-v'>3864</span></li><li><span class='ee-k'>1:</span><span class='ee-v'>1186</span></li></ul></li></ul></li></ul></li><li><label class='ee-shut'>properties: Object (115 properties)<input type='checkbox' class='ee-toggle'></label><ul><li><span class='ee-k'>AC_aerosol_optical_thickness:</span><span class='ee-v'>0.29</span></li><li><span class='ee-k'>AC_date:</span><span class='ee-v'>2013-08-08</span></li><li><span class='ee-k'>AC_ozone:</span><span class='ee-v'>0.283</span></li><li><span class='ee-k'>AC_version:</span><span class='ee-v'>py6S</span></li><li><span class='ee-k'>AC_water_vapour:</span><span class='ee-v'>4.439999389648437</span></li><li><span class='ee-k'>CLOUD_COVER:</span><span class='ee-v'>44.93</span></li><li><span class='ee-k'>CLOUD_COVER_LAND:</span><span class='ee-v'>44.93</span></li><li><span class='ee-k'>COLLECTION_CATEGORY:</span><span class='ee-v'>T1</span></li><li><span class='ee-k'>COLLECTION_NUMBER:</span><span class='ee-v'>2</span></li><li><span class='ee-k'>DATA_SOURCE_ELEVATION:</span><span class='ee-v'>GLS2000</span></li><li><span class='ee-k'>DATA_SOURCE_TIRS_STRAY_LIGHT_CORRECTION:</span><span class='ee-v'>TIRS</span></li><li><span class='ee-k'>DATE_ACQUIRED:</span><span class='ee-v'>2013-08-08</span></li><li><span class='ee-k'>DATE_PRODUCT_GENERATED:</span><span class='ee-v'>1599938244000</span></li><li><span class='ee-k'>DATUM:</span><span class='ee-v'>WGS84</span></li><li><span class='ee-k'>EARTH_SUN_DISTANCE:</span><span class='ee-v'>1.013929</span></li><li><span class='ee-k'>ELLIPSOID:</span><span class='ee-v'>WGS84</span></li><li><span class='ee-k'>GEOMETRIC_RMSE_MODEL:</span><span class='ee-v'>6.996</span></li><li><span class='ee-k'>GEOMETRIC_RMSE_MODEL_X:</span><span class='ee-v'>4.948</span></li><li><span class='ee-k'>GEOMETRIC_RMSE_MODEL_Y:</span><span class='ee-v'>4.946</span></li><li><span class='ee-k'>GRID_CELL_SIZE_PANCHROMATIC:</span><span class='ee-v'>15</span></li><li><span class='ee-k'>GRID_CELL_SIZE_REFLECTIVE:</span><span class='ee-v'>30</span></li><li><span class='ee-k'>GRID_CELL_SIZE_THERMAL:</span><span class='ee-v'>30</span></li><li><span class='ee-k'>GROUND_CONTROL_POINTS_MODEL:</span><span class='ee-v'>182</span></li><li><span class='ee-k'>GROUND_CONTROL_POINTS_VERSION:</span><span class='ee-v'>5</span></li><li><span class='ee-k'>IMAGE_QUALITY_OLI:</span><span class='ee-v'>9</span></li><li><span class='ee-k'>IMAGE_QUALITY_TIRS:</span><span class='ee-v'>9</span></li><li><span class='ee-k'>K1_CONSTANT_BAND_10:</span><span class='ee-v'>774.8853</span></li><li><span class='ee-k'>K1_CONSTANT_BAND_11:</span><span class='ee-v'>480.8883</span></li><li><span class='ee-k'>K2_CONSTANT_BAND_10:</span><span class='ee-v'>1321.0789</span></li><li><span class='ee-k'>K2_CONSTANT_BAND_11:</span><span class='ee-v'>1201.1442</span></li><li><span class='ee-k'>LANDSAT_PRODUCT_ID:</span><span class='ee-v'>LC08_L1TP_227062_20130808_20200912_02_T1</span></li><li><span class='ee-k'>LANDSAT_SCENE_ID:</span><span class='ee-v'>LC82270622013220LGN01</span></li><li><span class='ee-k'>MAP_PROJECTION:</span><span class='ee-v'>UTM</span></li><li><span class='ee-k'>NADIR_OFFNADIR:</span><span class='ee-v'>NADIR</span></li><li><span class='ee-k'>ORIENTATION:</span><span class='ee-v'>NORTH_UP</span></li><li><span class='ee-k'>PANCHROMATIC_LINES:</span><span class='ee-v'>15501</span></li><li><span class='ee-k'>PANCHROMATIC_SAMPLES:</span><span class='ee-v'>15241</span></li><li><span class='ee-k'>PROCESSING_LEVEL:</span><span class='ee-v'>L1TP</span></li><li><span class='ee-k'>PROCESSING_SOFTWARE_VERSION:</span><span class='ee-v'>LPGS_15.3.1c</span></li><li><span class='ee-k'>RADIANCE_ADD_BAND_1:</span><span class='ee-v'>-61.06576</span></li><li><span class='ee-k'>RADIANCE_ADD_BAND_10:</span><span class='ee-v'>0.1</span></li><li><span class='ee-k'>RADIANCE_ADD_BAND_11:</span><span class='ee-v'>0.1</span></li><li><span class='ee-k'>RADIANCE_ADD_BAND_2:</span><span class='ee-v'>-62.53209</span></li><li><span class='ee-k'>RADIANCE_ADD_BAND_3:</span><span class='ee-v'>-57.62278</span></li><li><span class='ee-k'>RADIANCE_ADD_BAND_4:</span><span class='ee-v'>-48.59078</span></li><li><span class='ee-k'>RADIANCE_ADD_BAND_5:</span><span class='ee-v'>-29.73513</span></li><li><span class='ee-k'>RADIANCE_ADD_BAND_6:</span><span class='ee-v'>-7.39486</span></li><li><span class='ee-k'>RADIANCE_ADD_BAND_7:</span><span class='ee-v'>-2.49246</span></li><li><span class='ee-k'>RADIANCE_ADD_BAND_8:</span><span class='ee-v'>-54.99139</span></li><li><span class='ee-k'>RADIANCE_ADD_BAND_9:</span><span class='ee-v'>-11.62116</span></li><li><span class='ee-k'>RADIANCE_MULT_BAND_1:</span><span class='ee-v'>0.012213</span></li><li><span class='ee-k'>RADIANCE_MULT_BAND_10:</span><span class='ee-v'>0.0003342</span></li><li><span class='ee-k'>RADIANCE_MULT_BAND_11:</span><span class='ee-v'>0.0003342</span></li><li><span class='ee-k'>RADIANCE_MULT_BAND_2:</span><span class='ee-v'>0.012506</span></li><li><span class='ee-k'>RADIANCE_MULT_BAND_3:</span><span class='ee-v'>0.011525</span></li><li><span class='ee-k'>RADIANCE_MULT_BAND_4:</span><span class='ee-v'>0.0097182</span></li><li><span class='ee-k'>RADIANCE_MULT_BAND_5:</span><span class='ee-v'>0.005947</span></li><li><span class='ee-k'>RADIANCE_MULT_BAND_6:</span><span class='ee-v'>0.001479</span></li><li><span class='ee-k'>RADIANCE_MULT_BAND_7:</span><span class='ee-v'>0.00049849</span></li><li><span class='ee-k'>RADIANCE_MULT_BAND_8:</span><span class='ee-v'>0.010998</span></li><li><span class='ee-k'>RADIANCE_MULT_BAND_9:</span><span class='ee-v'>0.0023242</span></li><li><span class='ee-k'>REFLECTANCE_ADD_BAND_1:</span><span class='ee-v'>-0.1</span></li><li><span class='ee-k'>REFLECTANCE_ADD_BAND_2:</span><span class='ee-v'>-0.1</span></li><li><span class='ee-k'>REFLECTANCE_ADD_BAND_3:</span><span class='ee-v'>-0.1</span></li><li><span class='ee-k'>REFLECTANCE_ADD_BAND_4:</span><span class='ee-v'>-0.1</span></li><li><span class='ee-k'>REFLECTANCE_ADD_BAND_5:</span><span class='ee-v'>-0.1</span></li><li><span class='ee-k'>REFLECTANCE_ADD_BAND_6:</span><span class='ee-v'>-0.1</span></li><li><span class='ee-k'>REFLECTANCE_ADD_BAND_7:</span><span class='ee-v'>-0.1</span></li><li><span class='ee-k'>REFLECTANCE_ADD_BAND_8:</span><span class='ee-v'>-0.1</span></li><li><span class='ee-k'>REFLECTANCE_ADD_BAND_9:</span><span class='ee-v'>-0.1</span></li><li><span class='ee-k'>REFLECTANCE_MULT_BAND_1:</span><span class='ee-v'>2e-05</span></li><li><span class='ee-k'>REFLECTANCE_MULT_BAND_2:</span><span class='ee-v'>2e-05</span></li><li><span class='ee-k'>REFLECTANCE_MULT_BAND_3:</span><span class='ee-v'>2e-05</span></li><li><span class='ee-k'>REFLECTANCE_MULT_BAND_4:</span><span class='ee-v'>2e-05</span></li><li><span class='ee-k'>REFLECTANCE_MULT_BAND_5:</span><span class='ee-v'>2e-05</span></li><li><span class='ee-k'>REFLECTANCE_MULT_BAND_6:</span><span class='ee-v'>2e-05</span></li><li><span class='ee-k'>REFLECTANCE_MULT_BAND_7:</span><span class='ee-v'>2e-05</span></li><li><span class='ee-k'>REFLECTANCE_MULT_BAND_8:</span><span class='ee-v'>2e-05</span></li><li><span class='ee-k'>REFLECTANCE_MULT_BAND_9:</span><span class='ee-v'>2e-05</span></li><li><span class='ee-k'>REFLECTIVE_LINES:</span><span class='ee-v'>7751</span></li><li><span class='ee-k'>REFLECTIVE_SAMPLES:</span><span class='ee-v'>7621</span></li><li><span class='ee-k'>REQUEST_ID:</span><span class='ee-v'>L2</span></li><li><span class='ee-k'>RESAMPLING_OPTION:</span><span class='ee-v'>CUBIC_CONVOLUTION</span></li><li><span class='ee-k'>ROLL_ANGLE:</span><span class='ee-v'>-0.001</span></li><li><span class='ee-k'>SATURATION_BAND_1:</span><span class='ee-v'>N</span></li><li><span class='ee-k'>SATURATION_BAND_2:</span><span class='ee-v'>N</span></li><li><span class='ee-k'>SATURATION_BAND_3:</span><span class='ee-v'>N</span></li><li><span class='ee-k'>SATURATION_BAND_4:</span><span class='ee-v'>N</span></li><li><span class='ee-k'>SATURATION_BAND_5:</span><span class='ee-v'>N</span></li><li><span class='ee-k'>SATURATION_BAND_6:</span><span class='ee-v'>N</span></li><li><span class='ee-k'>SATURATION_BAND_7:</span><span class='ee-v'>Y</span></li><li><span class='ee-k'>SATURATION_BAND_8:</span><span class='ee-v'>N</span></li><li><span class='ee-k'>SATURATION_BAND_9:</span><span class='ee-v'>N</span></li><li><span class='ee-k'>SCENE_CENTER_TIME:</span><span class='ee-v'>13:50:13.7022320Z</span></li><li><span class='ee-k'>SENSOR_ID:</span><span class='ee-v'>OLI_TIRS</span></li><li><span class='ee-k'>SPACECRAFT_ID:</span><span class='ee-v'>LANDSAT_8</span></li><li><span class='ee-k'>STATION_ID:</span><span class='ee-v'>LGN</span></li><li><span class='ee-k'>SUN_AZIMUTH:</span><span class='ee-v'>55.04126043</span></li><li><span class='ee-k'>SUN_ELEVATION:</span><span class='ee-v'>56.3143915</span></li><li><span class='ee-k'>TARGET_WRS_PATH:</span><span class='ee-v'>227</span></li><li><span class='ee-k'>TARGET_WRS_ROW:</span><span class='ee-v'>62</span></li><li><span class='ee-k'>THERMAL_LINES:</span><span class='ee-v'>7751</span></li><li><span class='ee-k'>THERMAL_SAMPLES:</span><span class='ee-v'>7621</span></li><li><span class='ee-k'>TIRS_SSM_MODEL:</span><span class='ee-v'>ACTUAL</span></li><li><span class='ee-k'>TIRS_SSM_POSITION_STATUS:</span><span class='ee-v'>NOMINAL</span></li><li><span class='ee-k'>TRUNCATION_OLI:</span><span class='ee-v'>UPPER</span></li><li><span class='ee-k'>UTM_ZONE:</span><span class='ee-v'>21</span></li><li><span class='ee-k'>WRS_PATH:</span><span class='ee-v'>227</span></li><li><span class='ee-k'>WRS_ROW:</span><span class='ee-v'>62</span></li><li><span class='ee-k'>WRS_TYPE:</span><span class='ee-v'>2</span></li><li><span class='ee-k'>system:asset_size:</span><span class='ee-v'>3906357</span></li><li><label class='ee-shut'>system:footprint: LinearRing (19 vertices)<input type='checkbox' class='ee-toggle'></label><ul><li><span class='ee-k'>type:</span><span class='ee-v'>LinearRing</span></li><li><label class='ee-shut'>coordinates: List (19 elements)<input type='checkbox' class='ee-toggle'></label><ul><li><label class='ee-shut'>0: [-56.00790099168393, -1.9899313951966122]<input type='checkbox' class='ee-toggle'></label><ul><li><span class='ee-k'>0:</span><span class='ee-v'>-56.00790099168393</span></li><li><span class='ee-k'>1:</span><span class='ee-v'>-1.9899313951966122</span></li></ul></li><li><label class='ee-shut'>1: [-56.00790303255488, -1.9899651372103422]<input type='checkbox' class='ee-toggle'></label><ul><li><span class='ee-k'>0:</span><span class='ee-v'>-56.00790303255488</span></li><li><span class='ee-k'>1:</span><span class='ee-v'>-1.9899651372103422</span></li></ul></li><li><label class='ee-shut'>2: [-56.007695289133245, -2.311543999976785]<input type='checkbox' class='ee-toggle'></label><ul><li><span class='ee-k'>0:</span><span class='ee-v'>-56.007695289133245</span></li><li><span class='ee-k'>1:</span><span class='ee-v'>-2.311543999976785</span></li></ul></li><li><label class='ee-shut'>3: [-56.00758542256164, -2.311668371300401]<input type='checkbox' class='ee-toggle'></label><ul><li><span class='ee-k'>0:</span><span class='ee-v'>-56.00758542256164</span></li><li><span class='ee-k'>1:</span><span class='ee-v'>-2.311668371300401</span></li></ul></li><li><label class='ee-shut'>4: [-56.007491968050864, -2.311805420122597]<input type='checkbox' class='ee-toggle'></label><ul><li><span class='ee-k'>0:</span><span class='ee-v'>-56.007491968050864</span></li><li><span class='ee-k'>1:</span><span class='ee-v'>-2.311805420122597</span></li></ul></li><li><label class='ee-shut'>5: [-56.007458719016846, -2.311811703970227]<input type='checkbox' class='ee-toggle'></label><ul><li><span class='ee-k'>0:</span><span class='ee-v'>-56.007458719016846</span></li><li><span class='ee-k'>1:</span><span class='ee-v'>-2.311811703970227</span></li></ul></li><li><label class='ee-shut'>6: [-56.00742495977984, -2.311813812762818]<input type='checkbox' class='ee-toggle'></label><ul><li><span class='ee-k'>0:</span><span class='ee-v'>-56.00742495977984</span></li><li><span class='ee-k'>1:</span><span class='ee-v'>-2.311813812762818</span></li></ul></li><li><label class='ee-shut'>7: [-54.965489059375095, -2.310697073459358]<input type='checkbox' class='ee-toggle'></label><ul><li><span class='ee-k'>0:</span><span class='ee-v'>-54.965489059375095</span></li><li><span class='ee-k'>1:</span><span class='ee-v'>-2.310697073459358</span></li></ul></li><li><label class='ee-shut'>8: [-54.965364694306565, -2.310587193231306]<input type='checkbox' class='ee-toggle'></label><ul><li><span class='ee-k'>0:</span><span class='ee-v'>-54.965364694306565</span></li><li><span class='ee-k'>1:</span><span class='ee-v'>-2.310587193231306</span></li></ul></li><li><label class='ee-shut'>9: [-54.96522755682257, -2.3104937772016316]<input type='checkbox' class='ee-toggle'></label><ul><li><span class='ee-k'>0:</span><span class='ee-v'>-54.96522755682257</span></li><li><span class='ee-k'>1:</span><span class='ee-v'>-2.3104937772016316</span></li></ul></li><li><label class='ee-shut'>10: [-54.96521915379773, -2.310449360521862]<input type='checkbox' class='ee-toggle'></label><ul><li><span class='ee-k'>0:</span><span class='ee-v'>-54.96521915379773</span></li><li><span class='ee-k'>1:</span><span class='ee-v'>-2.310449360521862</span></li></ul></li><li><label class='ee-shut'>11: [-54.96564502015339, -1.989003396395678]<input type='checkbox' class='ee-toggle'></label><ul><li><span class='ee-k'>0:</span><span class='ee-v'>-54.96564502015339</span></li><li><span class='ee-k'>1:</span><span class='ee-v'>-1.989003396395678</span></li></ul></li><li><label class='ee-shut'>12: [-54.96575493234115, -1.9888791171772373]<input type='checkbox' class='ee-toggle'></label><ul><li><span class='ee-k'>0:</span><span class='ee-v'>-54.96575493234115</span></li><li><span class='ee-k'>1:</span><span class='ee-v'>-1.9888791171772373</span></li></ul></li><li><label class='ee-shut'>13: [-54.96584845865072, -1.9887421460016503]<input type='checkbox' class='ee-toggle'></label><ul><li><span class='ee-k'>0:</span><span class='ee-v'>-54.96584845865072</span></li><li><span class='ee-k'>1:</span><span class='ee-v'>-1.9887421460016503</span></li></ul></li><li><label class='ee-shut'>14: [-54.965892826963334, -1.988733772966659]<input type='checkbox' class='ee-toggle'></label><ul><li><span class='ee-k'>0:</span><span class='ee-v'>-54.965892826963334</span></li><li><span class='ee-k'>1:</span><span class='ee-v'>-1.988733772966659</span></li></ul></li><li><label class='ee-shut'>15: [-56.0076331277673, -1.9896950199386851]<input type='checkbox' class='ee-toggle'></label><ul><li><span class='ee-k'>0:</span><span class='ee-v'>-56.0076331277673</span></li><li><span class='ee-k'>1:</span><span class='ee-v'>-1.9896950199386851</span></li></ul></li><li><label class='ee-shut'>16: [-56.00775753557763, -1.9898048265148425]<input type='checkbox' class='ee-toggle'></label><ul><li><span class='ee-k'>0:</span><span class='ee-v'>-56.00775753557763</span></li><li><span class='ee-k'>1:</span><span class='ee-v'>-1.9898048265148425</span></li></ul></li><li><label class='ee-shut'>17: [-56.00789469899878, -1.9898981788466987]<input type='checkbox' class='ee-toggle'></label><ul><li><span class='ee-k'>0:</span><span class='ee-v'>-56.00789469899878</span></li><li><span class='ee-k'>1:</span><span class='ee-v'>-1.9898981788466987</span></li></ul></li><li><label class='ee-shut'>18: [-56.00790099168393, -1.9899313951966122]<input type='checkbox' class='ee-toggle'></label><ul><li><span class='ee-k'>0:</span><span class='ee-v'>-56.00790099168393</span></li><li><span class='ee-k'>1:</span><span class='ee-v'>-1.9899313951966122</span></li></ul></li></ul></li></ul></li><li><span class='ee-k'>system:index:</span><span class='ee-v'>BOA_LC08_227062_20130808</span></li><li><span class='ee-k'>system:time_end:</span><span class='ee-v'>1375969813702</span></li><li><span class='ee-k'>system:time_start:</span><span class='ee-v'>1375969813702</span></li></ul></li></ul></li></ul></li></ul></li></ul></div><script>function toggleHeader() {\n",
              "    const parent = this.parentElement;\n",
              "    parent.className = parent.className === \"ee-open\" ? \"ee-shut\" : \"ee-open\";\n",
              "}\n",
              "\n",
              "for (let c of document.getElementsByClassName(\"ee-toggle\")) {\n",
              "    c.onclick = toggleHeader;\n",
              "}</script></div>"
            ]
          },
          "metadata": {},
          "execution_count": 35
        }
      ]
    },
    {
      "cell_type": "markdown",
      "source": [
        "##Sentinel 2 BOA"
      ],
      "metadata": {
        "id": "uAZbfSlKPvM-"
      }
    },
    {
      "cell_type": "markdown",
      "source": [
        "importar coleção com correção Py6S"
      ],
      "metadata": {
        "id": "YPRfE8SIXcqd"
      }
    },
    {
      "cell_type": "code",
      "source": [
        "s2_path = 'projects/ee-curuai/assets/Py6S/S2/s2_py6s'\n",
        "sentinel2 = ee.ImageCollection(s2_path).map(lambda img: img.set('system:time_start',ee.ImageCollection(\"COPERNICUS/S2_HARMONIZED\").filter(ee.Filter.eq('GRANULE_ID',img.get('GRANULE_ID'))).first().get('system:time_start')))\n",
        "sentinel2.limit(5)"
      ],
      "metadata": {
        "id": "rSaI8HOtG-SE",
        "outputId": "afe6358a-8546-4454-81b1-9cdd440e5bf9",
        "colab": {
          "base_uri": "https://localhost:8080/",
          "height": 68
        }
      },
      "execution_count": 36,
      "outputs": [
        {
          "output_type": "display_data",
          "data": {
            "text/plain": [
              "<IPython.core.display.HTML object>"
            ],
            "text/html": [
              "\n",
              "            <style>\n",
              "                .geemap-dark {\n",
              "                    --jp-widgets-color: white;\n",
              "                    --jp-widgets-label-color: white;\n",
              "                    --jp-ui-font-color1: white;\n",
              "                    --jp-layout-color2: #454545;\n",
              "                    background-color: #383838;\n",
              "                }\n",
              "\n",
              "                .geemap-dark .jupyter-button {\n",
              "                    --jp-layout-color3: #383838;\n",
              "                }\n",
              "\n",
              "                .geemap-colab {\n",
              "                    background-color: var(--colab-primary-surface-color, white);\n",
              "                }\n",
              "\n",
              "                .geemap-colab .jupyter-button {\n",
              "                    --jp-layout-color3: var(--colab-primary-surface-color, white);\n",
              "                }\n",
              "            </style>\n",
              "            "
            ]
          },
          "metadata": {}
        },
        {
          "output_type": "execute_result",
          "data": {
            "text/plain": [
              "<ee.imagecollection.ImageCollection at 0x7cfa23b0c7f0>"
            ],
            "text/html": [
              "<div><style>:root {\n",
              "  --font-color-primary: var(--jp-content-font-color0, rgba(0, 0, 0, 1));\n",
              "  --font-color-secondary: var(--jp-content-font-color2, rgba(0, 0, 0, 0.6));\n",
              "  --font-color-accent: rgba(123, 31, 162, 1);\n",
              "  --border-color: var(--jp-border-color2, #e0e0e0);\n",
              "  --background-color: var(--jp-layout-color0, white);\n",
              "  --background-color-row-even: var(--jp-layout-color1, white);\n",
              "  --background-color-row-odd: var(--jp-layout-color2, #eeeeee);\n",
              "}\n",
              "\n",
              "html[theme=\"dark\"],\n",
              "body[data-theme=\"dark\"],\n",
              "body.vscode-dark {\n",
              "  --font-color-primary: rgba(255, 255, 255, 1);\n",
              "  --font-color-secondary: rgba(255, 255, 255, 0.6);\n",
              "  --font-color-accent: rgb(173, 132, 190);\n",
              "  --border-color: #2e2e2e;\n",
              "  --background-color: #111111;\n",
              "  --background-color-row-even: #111111;\n",
              "  --background-color-row-odd: #313131;\n",
              "}\n",
              "\n",
              ".ee {\n",
              "  padding: 1em;\n",
              "  line-height: 1.5em;\n",
              "  min-width: 300px;\n",
              "  max-width: 1200px;\n",
              "  overflow-y: scroll;\n",
              "  max-height: 600px;\n",
              "  border: 1px solid var(--border-color);\n",
              "  font-family: monospace;\n",
              "}\n",
              "\n",
              ".ee li {\n",
              "  list-style-type: none;\n",
              "}\n",
              "\n",
              ".ee ul {\n",
              "  padding-left: 1.5em !important;\n",
              "  margin: 0;\n",
              "}\n",
              "\n",
              ".ee > ul {\n",
              "  padding-left: 0 !important;\n",
              "}\n",
              "\n",
              ".ee-open,\n",
              ".ee-shut {\n",
              "  color: var(--font-color-secondary);\n",
              "  cursor: pointer;\n",
              "  margin: 0;\n",
              "}\n",
              "\n",
              ".ee-open:hover,\n",
              ".ee-shut:hover {\n",
              "  color: var(--font-color-primary);\n",
              "}\n",
              "\n",
              ".ee-k {\n",
              "  color: var(--font-color-accent);\n",
              "  margin-right: 6px;\n",
              "}\n",
              "\n",
              ".ee-v {\n",
              "  color: var(--font-color-primary);\n",
              "}\n",
              "\n",
              ".ee-toggle {\n",
              "  display: none;\n",
              "}\n",
              "\n",
              ".ee-shut + ul {\n",
              "  display: none;\n",
              "}\n",
              "\n",
              ".ee-open + ul {\n",
              "  display: block;\n",
              "}\n",
              "\n",
              ".ee-shut::before {\n",
              "  display: inline-block;\n",
              "  content: \"▼\";\n",
              "  margin-right: 6px;\n",
              "  transform: rotate(-90deg);\n",
              "  transition: transform 0.2s;\n",
              "}\n",
              "\n",
              ".ee-open::before {\n",
              "  transform: rotate(0deg);\n",
              "  display: inline-block;\n",
              "  content: \"▼\";\n",
              "  margin-right: 6px;\n",
              "  transition: transform 0.2s;\n",
              "}\n",
              "</style><div class='ee'><ul><li><label class='ee-shut'>ImageCollection projects/ee-curuai/assets/Py6S/S2/s2_py6s  (5 elements)<input type='checkbox' class='ee-toggle'></label><ul><li><span class='ee-k'>type:</span><span class='ee-v'>ImageCollection</span></li><li><span class='ee-k'>id:</span><span class='ee-v'>projects/ee-curuai/assets/Py6S/S2/s2_py6s</span></li><li><span class='ee-k'>version:</span><span class='ee-v'>1715597316511246</span></li><li><label class='ee-shut'>bands: []<input type='checkbox' class='ee-toggle'></label><ul></ul></li><li><label class='ee-shut'>features: List (5 elements)<input type='checkbox' class='ee-toggle'></label><ul><li><label class='ee-shut'>0: Image projects/ee-curuai/assets/Py6S/S2/s2_py6s/BOA_S220150819T141044_20160427T071221_T21MXT (8 bands)<input type='checkbox' class='ee-toggle'></label><ul><li><span class='ee-k'>type:</span><span class='ee-v'>Image</span></li><li><span class='ee-k'>id:</span><span class='ee-v'>projects/ee-curuai/assets/Py6S/S2/s2_py6s/BOA_S220150819T141044_20160427T071221_T21MXT</span></li><li><span class='ee-k'>version:</span><span class='ee-v'>1715565565752306</span></li><li><label class='ee-shut'>bands: List (8 elements)<input type='checkbox' class='ee-toggle'></label><ul><li><label class='ee-shut'>0: \"QA60\", float, EPSG:32721, 3864x1186 px<input type='checkbox' class='ee-toggle'></label><ul><li><span class='ee-k'>id:</span><span class='ee-v'>QA60</span></li><li><span class='ee-k'>crs:</span><span class='ee-v'>EPSG:32721</span></li><li><label class='ee-shut'>crs_transform: [30, 0, 610350, 0, -30, 9780030]<input type='checkbox' class='ee-toggle'></label><ul><li><span class='ee-k'>0:</span><span class='ee-v'>30</span></li><li><span class='ee-k'>1:</span><span class='ee-v'>0</span></li><li><span class='ee-k'>2:</span><span class='ee-v'>610350</span></li><li><span class='ee-k'>3:</span><span class='ee-v'>0</span></li><li><span class='ee-k'>4:</span><span class='ee-v'>-30</span></li><li><span class='ee-k'>5:</span><span class='ee-v'>9780030</span></li></ul></li><li><label class='ee-shut'>data_type: float<input type='checkbox' class='ee-toggle'></label><ul><li><span class='ee-k'>type:</span><span class='ee-v'>PixelType</span></li><li><span class='ee-k'>precision:</span><span class='ee-v'>float</span></li></ul></li><li><label class='ee-shut'>dimensions: [3864, 1186]<input type='checkbox' class='ee-toggle'></label><ul><li><span class='ee-k'>0:</span><span class='ee-v'>3864</span></li><li><span class='ee-k'>1:</span><span class='ee-v'>1186</span></li></ul></li></ul></li><li><label class='ee-shut'>1: \"B1\", double, EPSG:32721, 3864x1186 px<input type='checkbox' class='ee-toggle'></label><ul><li><span class='ee-k'>id:</span><span class='ee-v'>B1</span></li><li><span class='ee-k'>crs:</span><span class='ee-v'>EPSG:32721</span></li><li><label class='ee-shut'>crs_transform: [30, 0, 610350, 0, -30, 9780030]<input type='checkbox' class='ee-toggle'></label><ul><li><span class='ee-k'>0:</span><span class='ee-v'>30</span></li><li><span class='ee-k'>1:</span><span class='ee-v'>0</span></li><li><span class='ee-k'>2:</span><span class='ee-v'>610350</span></li><li><span class='ee-k'>3:</span><span class='ee-v'>0</span></li><li><span class='ee-k'>4:</span><span class='ee-v'>-30</span></li><li><span class='ee-k'>5:</span><span class='ee-v'>9780030</span></li></ul></li><li><label class='ee-shut'>data_type: double<input type='checkbox' class='ee-toggle'></label><ul><li><span class='ee-k'>type:</span><span class='ee-v'>PixelType</span></li><li><span class='ee-k'>precision:</span><span class='ee-v'>double</span></li></ul></li><li><label class='ee-shut'>dimensions: [3864, 1186]<input type='checkbox' class='ee-toggle'></label><ul><li><span class='ee-k'>0:</span><span class='ee-v'>3864</span></li><li><span class='ee-k'>1:</span><span class='ee-v'>1186</span></li></ul></li></ul></li><li><label class='ee-shut'>2: \"B2\", double, EPSG:32721, 3864x1186 px<input type='checkbox' class='ee-toggle'></label><ul><li><span class='ee-k'>id:</span><span class='ee-v'>B2</span></li><li><span class='ee-k'>crs:</span><span class='ee-v'>EPSG:32721</span></li><li><label class='ee-shut'>crs_transform: [30, 0, 610350, 0, -30, 9780030]<input type='checkbox' class='ee-toggle'></label><ul><li><span class='ee-k'>0:</span><span class='ee-v'>30</span></li><li><span class='ee-k'>1:</span><span class='ee-v'>0</span></li><li><span class='ee-k'>2:</span><span class='ee-v'>610350</span></li><li><span class='ee-k'>3:</span><span class='ee-v'>0</span></li><li><span class='ee-k'>4:</span><span class='ee-v'>-30</span></li><li><span class='ee-k'>5:</span><span class='ee-v'>9780030</span></li></ul></li><li><label class='ee-shut'>data_type: double<input type='checkbox' class='ee-toggle'></label><ul><li><span class='ee-k'>type:</span><span class='ee-v'>PixelType</span></li><li><span class='ee-k'>precision:</span><span class='ee-v'>double</span></li></ul></li><li><label class='ee-shut'>dimensions: [3864, 1186]<input type='checkbox' class='ee-toggle'></label><ul><li><span class='ee-k'>0:</span><span class='ee-v'>3864</span></li><li><span class='ee-k'>1:</span><span class='ee-v'>1186</span></li></ul></li></ul></li><li><label class='ee-shut'>3: \"B3\", double, EPSG:32721, 3864x1186 px<input type='checkbox' class='ee-toggle'></label><ul><li><span class='ee-k'>id:</span><span class='ee-v'>B3</span></li><li><span class='ee-k'>crs:</span><span class='ee-v'>EPSG:32721</span></li><li><label class='ee-shut'>crs_transform: [30, 0, 610350, 0, -30, 9780030]<input type='checkbox' class='ee-toggle'></label><ul><li><span class='ee-k'>0:</span><span class='ee-v'>30</span></li><li><span class='ee-k'>1:</span><span class='ee-v'>0</span></li><li><span class='ee-k'>2:</span><span class='ee-v'>610350</span></li><li><span class='ee-k'>3:</span><span class='ee-v'>0</span></li><li><span class='ee-k'>4:</span><span class='ee-v'>-30</span></li><li><span class='ee-k'>5:</span><span class='ee-v'>9780030</span></li></ul></li><li><label class='ee-shut'>data_type: double<input type='checkbox' class='ee-toggle'></label><ul><li><span class='ee-k'>type:</span><span class='ee-v'>PixelType</span></li><li><span class='ee-k'>precision:</span><span class='ee-v'>double</span></li></ul></li><li><label class='ee-shut'>dimensions: [3864, 1186]<input type='checkbox' class='ee-toggle'></label><ul><li><span class='ee-k'>0:</span><span class='ee-v'>3864</span></li><li><span class='ee-k'>1:</span><span class='ee-v'>1186</span></li></ul></li></ul></li><li><label class='ee-shut'>4: \"B4\", double, EPSG:32721, 3864x1186 px<input type='checkbox' class='ee-toggle'></label><ul><li><span class='ee-k'>id:</span><span class='ee-v'>B4</span></li><li><span class='ee-k'>crs:</span><span class='ee-v'>EPSG:32721</span></li><li><label class='ee-shut'>crs_transform: [30, 0, 610350, 0, -30, 9780030]<input type='checkbox' class='ee-toggle'></label><ul><li><span class='ee-k'>0:</span><span class='ee-v'>30</span></li><li><span class='ee-k'>1:</span><span class='ee-v'>0</span></li><li><span class='ee-k'>2:</span><span class='ee-v'>610350</span></li><li><span class='ee-k'>3:</span><span class='ee-v'>0</span></li><li><span class='ee-k'>4:</span><span class='ee-v'>-30</span></li><li><span class='ee-k'>5:</span><span class='ee-v'>9780030</span></li></ul></li><li><label class='ee-shut'>data_type: double<input type='checkbox' class='ee-toggle'></label><ul><li><span class='ee-k'>type:</span><span class='ee-v'>PixelType</span></li><li><span class='ee-k'>precision:</span><span class='ee-v'>double</span></li></ul></li><li><label class='ee-shut'>dimensions: [3864, 1186]<input type='checkbox' class='ee-toggle'></label><ul><li><span class='ee-k'>0:</span><span class='ee-v'>3864</span></li><li><span class='ee-k'>1:</span><span class='ee-v'>1186</span></li></ul></li></ul></li><li><label class='ee-shut'>5: \"B8\", double, EPSG:32721, 3864x1186 px<input type='checkbox' class='ee-toggle'></label><ul><li><span class='ee-k'>id:</span><span class='ee-v'>B8</span></li><li><span class='ee-k'>crs:</span><span class='ee-v'>EPSG:32721</span></li><li><label class='ee-shut'>crs_transform: [30, 0, 610350, 0, -30, 9780030]<input type='checkbox' class='ee-toggle'></label><ul><li><span class='ee-k'>0:</span><span class='ee-v'>30</span></li><li><span class='ee-k'>1:</span><span class='ee-v'>0</span></li><li><span class='ee-k'>2:</span><span class='ee-v'>610350</span></li><li><span class='ee-k'>3:</span><span class='ee-v'>0</span></li><li><span class='ee-k'>4:</span><span class='ee-v'>-30</span></li><li><span class='ee-k'>5:</span><span class='ee-v'>9780030</span></li></ul></li><li><label class='ee-shut'>data_type: double<input type='checkbox' class='ee-toggle'></label><ul><li><span class='ee-k'>type:</span><span class='ee-v'>PixelType</span></li><li><span class='ee-k'>precision:</span><span class='ee-v'>double</span></li></ul></li><li><label class='ee-shut'>dimensions: [3864, 1186]<input type='checkbox' class='ee-toggle'></label><ul><li><span class='ee-k'>0:</span><span class='ee-v'>3864</span></li><li><span class='ee-k'>1:</span><span class='ee-v'>1186</span></li></ul></li></ul></li><li><label class='ee-shut'>6: \"B11\", double, EPSG:32721, 3864x1186 px<input type='checkbox' class='ee-toggle'></label><ul><li><span class='ee-k'>id:</span><span class='ee-v'>B11</span></li><li><span class='ee-k'>crs:</span><span class='ee-v'>EPSG:32721</span></li><li><label class='ee-shut'>crs_transform: [30, 0, 610350, 0, -30, 9780030]<input type='checkbox' class='ee-toggle'></label><ul><li><span class='ee-k'>0:</span><span class='ee-v'>30</span></li><li><span class='ee-k'>1:</span><span class='ee-v'>0</span></li><li><span class='ee-k'>2:</span><span class='ee-v'>610350</span></li><li><span class='ee-k'>3:</span><span class='ee-v'>0</span></li><li><span class='ee-k'>4:</span><span class='ee-v'>-30</span></li><li><span class='ee-k'>5:</span><span class='ee-v'>9780030</span></li></ul></li><li><label class='ee-shut'>data_type: double<input type='checkbox' class='ee-toggle'></label><ul><li><span class='ee-k'>type:</span><span class='ee-v'>PixelType</span></li><li><span class='ee-k'>precision:</span><span class='ee-v'>double</span></li></ul></li><li><label class='ee-shut'>dimensions: [3864, 1186]<input type='checkbox' class='ee-toggle'></label><ul><li><span class='ee-k'>0:</span><span class='ee-v'>3864</span></li><li><span class='ee-k'>1:</span><span class='ee-v'>1186</span></li></ul></li></ul></li><li><label class='ee-shut'>7: \"B12\", double, EPSG:32721, 3864x1186 px<input type='checkbox' class='ee-toggle'></label><ul><li><span class='ee-k'>id:</span><span class='ee-v'>B12</span></li><li><span class='ee-k'>crs:</span><span class='ee-v'>EPSG:32721</span></li><li><label class='ee-shut'>crs_transform: [30, 0, 610350, 0, -30, 9780030]<input type='checkbox' class='ee-toggle'></label><ul><li><span class='ee-k'>0:</span><span class='ee-v'>30</span></li><li><span class='ee-k'>1:</span><span class='ee-v'>0</span></li><li><span class='ee-k'>2:</span><span class='ee-v'>610350</span></li><li><span class='ee-k'>3:</span><span class='ee-v'>0</span></li><li><span class='ee-k'>4:</span><span class='ee-v'>-30</span></li><li><span class='ee-k'>5:</span><span class='ee-v'>9780030</span></li></ul></li><li><label class='ee-shut'>data_type: double<input type='checkbox' class='ee-toggle'></label><ul><li><span class='ee-k'>type:</span><span class='ee-v'>PixelType</span></li><li><span class='ee-k'>precision:</span><span class='ee-v'>double</span></li></ul></li><li><label class='ee-shut'>dimensions: [3864, 1186]<input type='checkbox' class='ee-toggle'></label><ul><li><span class='ee-k'>0:</span><span class='ee-v'>3864</span></li><li><span class='ee-k'>1:</span><span class='ee-v'>1186</span></li></ul></li></ul></li></ul></li><li><label class='ee-shut'>properties: Object (80 properties)<input type='checkbox' class='ee-toggle'></label><ul><li><span class='ee-k'>AC_aerosol_optical_thickness:</span><span class='ee-v'>0.322</span></li><li><span class='ee-k'>AC_date:</span><span class='ee-v'>2015-08-19</span></li><li><span class='ee-k'>AC_ozone:</span><span class='ee-v'>0.287</span></li><li><span class='ee-k'>AC_version:</span><span class='ee-v'>py6S</span></li><li><span class='ee-k'>AC_water_vapour:</span><span class='ee-v'>4.3700000762939455</span></li><li><span class='ee-k'>CLOUDY_PIXEL_PERCENTAGE:</span><span class='ee-v'>2.1521</span></li><li><span class='ee-k'>CLOUD_COVERAGE_ASSESSMENT:</span><span class='ee-v'>13.222576923076922</span></li><li><span class='ee-k'>DATASTRIP_ID:</span><span class='ee-v'>S2A_OPER_MSI_L1C_DS_EPA__20160427T071221_S20150819T141044_N02.01</span></li><li><span class='ee-k'>DATATAKE_IDENTIFIER:</span><span class='ee-v'>GS2A_20150819T141046_000822_N02.01</span></li><li><span class='ee-k'>DATATAKE_TYPE:</span><span class='ee-v'>INS-NOBS</span></li><li><span class='ee-k'>DEGRADED_MSI_DATA_PERCENTAGE:</span><span class='ee-v'>0</span></li><li><span class='ee-k'>ECMWF_DATA_REF:</span><span class='ee-v'>S2__OPER_AUX_ECMWFD_FAKE_19800101T000000_V19800101T000000_19800101T000000</span></li><li><span class='ee-k'>FORMAT_CORRECTNESS:</span><span class='ee-v'>PASSED</span></li><li><span class='ee-k'>FORMAT_CORRECTNESS_FLAG:</span><span class='ee-v'>PASSED</span></li><li><span class='ee-k'>GENERAL_QUALITY:</span><span class='ee-v'>PASSED</span></li><li><span class='ee-k'>GENERAL_QUALITY_FLAG:</span><span class='ee-v'>PASSED</span></li><li><span class='ee-k'>GENERATION_TIME:</span><span class='ee-v'>1461750286000</span></li><li><span class='ee-k'>GEOMETRIC_QUALITY:</span><span class='ee-v'>PASSED</span></li><li><span class='ee-k'>GEOMETRIC_QUALITY_FLAG:</span><span class='ee-v'>PASSED</span></li><li><span class='ee-k'>GRANULE_ID:</span><span class='ee-v'>S2A_OPER_MSI_L1C_TL_EPA__20160427T071221_A000822_T21MXT_N02.01</span></li><li><span class='ee-k'>GRI_FILENAME:</span><span class='ee-v'>S2A_OPER_AUX_GRI065_PDMC_20130621T120000_S20130101T000000</span></li><li><span class='ee-k'>IERS_BULLETIN_FILENAME:</span><span class='ee-v'>S2__OPER_AUX_UT1UTC_PDMC_20150813T000000_V20150814T000000_20160813T000000</span></li><li><span class='ee-k'>MEAN_INCIDENCE_AZIMUTH_ANGLE_B1:</span><span class='ee-v'>267.73201954406</span></li><li><span class='ee-k'>MEAN_INCIDENCE_AZIMUTH_ANGLE_B10:</span><span class='ee-v'>269.078247160748</span></li><li><span class='ee-k'>MEAN_INCIDENCE_AZIMUTH_ANGLE_B11:</span><span class='ee-v'>268.494496133581</span></li><li><span class='ee-k'>MEAN_INCIDENCE_AZIMUTH_ANGLE_B12:</span><span class='ee-v'>267.890800616442</span></li><li><span class='ee-k'>MEAN_INCIDENCE_AZIMUTH_ANGLE_B2:</span><span class='ee-v'>271.180706062613</span></li><li><span class='ee-k'>MEAN_INCIDENCE_AZIMUTH_ANGLE_B3:</span><span class='ee-v'>269.781642998043</span></li><li><span class='ee-k'>MEAN_INCIDENCE_AZIMUTH_ANGLE_B4:</span><span class='ee-v'>268.958909022018</span></li><li><span class='ee-k'>MEAN_INCIDENCE_AZIMUTH_ANGLE_B5:</span><span class='ee-v'>268.56045826488</span></li><li><span class='ee-k'>MEAN_INCIDENCE_AZIMUTH_ANGLE_B6:</span><span class='ee-v'>268.338754134364</span></li><li><span class='ee-k'>MEAN_INCIDENCE_AZIMUTH_ANGLE_B7:</span><span class='ee-v'>268.101840324027</span></li><li><span class='ee-k'>MEAN_INCIDENCE_AZIMUTH_ANGLE_B8:</span><span class='ee-v'>270.388152056588</span></li><li><span class='ee-k'>MEAN_INCIDENCE_AZIMUTH_ANGLE_B8A:</span><span class='ee-v'>267.924003773181</span></li><li><span class='ee-k'>MEAN_INCIDENCE_AZIMUTH_ANGLE_B9:</span><span class='ee-v'>267.615183483877</span></li><li><span class='ee-k'>MEAN_INCIDENCE_ZENITH_ANGLE_B1:</span><span class='ee-v'>5.01584700145889</span></li><li><span class='ee-k'>MEAN_INCIDENCE_ZENITH_ANGLE_B10:</span><span class='ee-v'>4.69613325906059</span></li><li><span class='ee-k'>MEAN_INCIDENCE_ZENITH_ANGLE_B11:</span><span class='ee-v'>4.82334652347917</span></li><li><span class='ee-k'>MEAN_INCIDENCE_ZENITH_ANGLE_B12:</span><span class='ee-v'>4.95827010100822</span></li><li><span class='ee-k'>MEAN_INCIDENCE_ZENITH_ANGLE_B2:</span><span class='ee-v'>4.57309181018179</span></li><li><span class='ee-k'>MEAN_INCIDENCE_ZENITH_ANGLE_B3:</span><span class='ee-v'>4.64096393405773</span></li><li><span class='ee-k'>MEAN_INCIDENCE_ZENITH_ANGLE_B4:</span><span class='ee-v'>4.72217792078289</span></li><li><span class='ee-k'>MEAN_INCIDENCE_ZENITH_ANGLE_B5:</span><span class='ee-v'>4.77027061010782</span></li><li><span class='ee-k'>MEAN_INCIDENCE_ZENITH_ANGLE_B6:</span><span class='ee-v'>4.82971449921135</span></li><li><span class='ee-k'>MEAN_INCIDENCE_ZENITH_ANGLE_B7:</span><span class='ee-v'>4.88732080615634</span></li><li><span class='ee-k'>MEAN_INCIDENCE_ZENITH_ANGLE_B8:</span><span class='ee-v'>4.60334640361898</span></li><li><span class='ee-k'>MEAN_INCIDENCE_ZENITH_ANGLE_B8A:</span><span class='ee-v'>4.94796344508035</span></li><li><span class='ee-k'>MEAN_INCIDENCE_ZENITH_ANGLE_B9:</span><span class='ee-v'>5.08682683581135</span></li><li><span class='ee-k'>MEAN_SOLAR_AZIMUTH_ANGLE:</span><span class='ee-v'>56.2875267508208</span></li><li><span class='ee-k'>MEAN_SOLAR_ZENITH_ANGLE:</span><span class='ee-v'>27.5357072057104</span></li><li><span class='ee-k'>MGRS_TILE:</span><span class='ee-v'>21MXT</span></li><li><span class='ee-k'>PROCESSING_BASELINE:</span><span class='ee-v'>02.01</span></li><li><span class='ee-k'>PRODUCTION_DEM_TYPE:</span><span class='ee-v'>S2__OPER_DEM_GLOBEF_PDMC_19800101T000000_S19800101T000000</span></li><li><span class='ee-k'>PRODUCT_ID:</span><span class='ee-v'>S2A_OPER_PRD_MSIL1C_PDMC_20160427T094446_R110_V20150819T141044_20150819T141044</span></li><li><span class='ee-k'>PRODUCT_URI:</span><span class='ee-v'>400_2016-04-27T09_23</span></li><li><span class='ee-k'>RADIOMETRIC_QUALITY:</span><span class='ee-v'>PASSED</span></li><li><span class='ee-k'>RADIOMETRIC_QUALITY_FLAG:</span><span class='ee-v'>PASSED</span></li><li><span class='ee-k'>REFLECTANCE_CONVERSION_CORRECTION:</span><span class='ee-v'>0.975305483290767</span></li><li><span class='ee-k'>SENSING_ORBIT_DIRECTION:</span><span class='ee-v'>DESCENDING</span></li><li><span class='ee-k'>SENSING_ORBIT_NUMBER:</span><span class='ee-v'>110</span></li><li><span class='ee-k'>SENSOR_QUALITY:</span><span class='ee-v'>PASSED</span></li><li><span class='ee-k'>SENSOR_QUALITY_FLAG:</span><span class='ee-v'>PASSED</span></li><li><span class='ee-k'>SOLAR_IRRADIANCE_B1:</span><span class='ee-v'>1913.57</span></li><li><span class='ee-k'>SOLAR_IRRADIANCE_B10:</span><span class='ee-v'>367.15</span></li><li><span class='ee-k'>SOLAR_IRRADIANCE_B11:</span><span class='ee-v'>245.59</span></li><li><span class='ee-k'>SOLAR_IRRADIANCE_B12:</span><span class='ee-v'>85.25</span></li><li><span class='ee-k'>SOLAR_IRRADIANCE_B2:</span><span class='ee-v'>1941.63</span></li><li><span class='ee-k'>SOLAR_IRRADIANCE_B3:</span><span class='ee-v'>1822.61</span></li><li><span class='ee-k'>SOLAR_IRRADIANCE_B4:</span><span class='ee-v'>1512.79</span></li><li><span class='ee-k'>SOLAR_IRRADIANCE_B5:</span><span class='ee-v'>1425.56</span></li><li><span class='ee-k'>SOLAR_IRRADIANCE_B6:</span><span class='ee-v'>1288.32</span></li><li><span class='ee-k'>SOLAR_IRRADIANCE_B7:</span><span class='ee-v'>1163.19</span></li><li><span class='ee-k'>SOLAR_IRRADIANCE_B8:</span><span class='ee-v'>1036.39</span></li><li><span class='ee-k'>SOLAR_IRRADIANCE_B8A:</span><span class='ee-v'>955.19</span></li><li><span class='ee-k'>SOLAR_IRRADIANCE_B9:</span><span class='ee-v'>813.04</span></li><li><span class='ee-k'>SPACECRAFT_NAME:</span><span class='ee-v'>Sentinel-2A</span></li><li><span class='ee-k'>system:asset_size:</span><span class='ee-v'>85245952</span></li><li><label class='ee-shut'>system:footprint: LinearRing (19 vertices)<input type='checkbox' class='ee-toggle'></label><ul><li><span class='ee-k'>type:</span><span class='ee-v'>LinearRing</span></li><li><label class='ee-shut'>coordinates: List (19 elements)<input type='checkbox' class='ee-toggle'></label><ul><li><label class='ee-shut'>0: [-56.00790099168393, -1.9899313951966122]<input type='checkbox' class='ee-toggle'></label><ul><li><span class='ee-k'>0:</span><span class='ee-v'>-56.00790099168393</span></li><li><span class='ee-k'>1:</span><span class='ee-v'>-1.9899313951966122</span></li></ul></li><li><label class='ee-shut'>1: [-56.00790303255488, -1.9899651372103422]<input type='checkbox' class='ee-toggle'></label><ul><li><span class='ee-k'>0:</span><span class='ee-v'>-56.00790303255488</span></li><li><span class='ee-k'>1:</span><span class='ee-v'>-1.9899651372103422</span></li></ul></li><li><label class='ee-shut'>2: [-56.007695289133245, -2.311543999976785]<input type='checkbox' class='ee-toggle'></label><ul><li><span class='ee-k'>0:</span><span class='ee-v'>-56.007695289133245</span></li><li><span class='ee-k'>1:</span><span class='ee-v'>-2.311543999976785</span></li></ul></li><li><label class='ee-shut'>3: [-56.00758542256164, -2.311668371300401]<input type='checkbox' class='ee-toggle'></label><ul><li><span class='ee-k'>0:</span><span class='ee-v'>-56.00758542256164</span></li><li><span class='ee-k'>1:</span><span class='ee-v'>-2.311668371300401</span></li></ul></li><li><label class='ee-shut'>4: [-56.007491968050864, -2.311805420122597]<input type='checkbox' class='ee-toggle'></label><ul><li><span class='ee-k'>0:</span><span class='ee-v'>-56.007491968050864</span></li><li><span class='ee-k'>1:</span><span class='ee-v'>-2.311805420122597</span></li></ul></li><li><label class='ee-shut'>5: [-56.007458719016846, -2.311811703970227]<input type='checkbox' class='ee-toggle'></label><ul><li><span class='ee-k'>0:</span><span class='ee-v'>-56.007458719016846</span></li><li><span class='ee-k'>1:</span><span class='ee-v'>-2.311811703970227</span></li></ul></li><li><label class='ee-shut'>6: [-56.00742495977984, -2.311813812762818]<input type='checkbox' class='ee-toggle'></label><ul><li><span class='ee-k'>0:</span><span class='ee-v'>-56.00742495977984</span></li><li><span class='ee-k'>1:</span><span class='ee-v'>-2.311813812762818</span></li></ul></li><li><label class='ee-shut'>7: [-54.965489059375095, -2.310697073459358]<input type='checkbox' class='ee-toggle'></label><ul><li><span class='ee-k'>0:</span><span class='ee-v'>-54.965489059375095</span></li><li><span class='ee-k'>1:</span><span class='ee-v'>-2.310697073459358</span></li></ul></li><li><label class='ee-shut'>8: [-54.965364694306565, -2.310587193231306]<input type='checkbox' class='ee-toggle'></label><ul><li><span class='ee-k'>0:</span><span class='ee-v'>-54.965364694306565</span></li><li><span class='ee-k'>1:</span><span class='ee-v'>-2.310587193231306</span></li></ul></li><li><label class='ee-shut'>9: [-54.96522755682257, -2.3104937772016316]<input type='checkbox' class='ee-toggle'></label><ul><li><span class='ee-k'>0:</span><span class='ee-v'>-54.96522755682257</span></li><li><span class='ee-k'>1:</span><span class='ee-v'>-2.3104937772016316</span></li></ul></li><li><label class='ee-shut'>10: [-54.96521915379773, -2.310449360521862]<input type='checkbox' class='ee-toggle'></label><ul><li><span class='ee-k'>0:</span><span class='ee-v'>-54.96521915379773</span></li><li><span class='ee-k'>1:</span><span class='ee-v'>-2.310449360521862</span></li></ul></li><li><label class='ee-shut'>11: [-54.96564502015339, -1.989003396395678]<input type='checkbox' class='ee-toggle'></label><ul><li><span class='ee-k'>0:</span><span class='ee-v'>-54.96564502015339</span></li><li><span class='ee-k'>1:</span><span class='ee-v'>-1.989003396395678</span></li></ul></li><li><label class='ee-shut'>12: [-54.96575493234115, -1.9888791171772373]<input type='checkbox' class='ee-toggle'></label><ul><li><span class='ee-k'>0:</span><span class='ee-v'>-54.96575493234115</span></li><li><span class='ee-k'>1:</span><span class='ee-v'>-1.9888791171772373</span></li></ul></li><li><label class='ee-shut'>13: [-54.96584845865072, -1.9887421460016503]<input type='checkbox' class='ee-toggle'></label><ul><li><span class='ee-k'>0:</span><span class='ee-v'>-54.96584845865072</span></li><li><span class='ee-k'>1:</span><span class='ee-v'>-1.9887421460016503</span></li></ul></li><li><label class='ee-shut'>14: [-54.965892826963334, -1.988733772966659]<input type='checkbox' class='ee-toggle'></label><ul><li><span class='ee-k'>0:</span><span class='ee-v'>-54.965892826963334</span></li><li><span class='ee-k'>1:</span><span class='ee-v'>-1.988733772966659</span></li></ul></li><li><label class='ee-shut'>15: [-56.0076331277673, -1.9896950199386851]<input type='checkbox' class='ee-toggle'></label><ul><li><span class='ee-k'>0:</span><span class='ee-v'>-56.0076331277673</span></li><li><span class='ee-k'>1:</span><span class='ee-v'>-1.9896950199386851</span></li></ul></li><li><label class='ee-shut'>16: [-56.00775753557763, -1.9898048265148425]<input type='checkbox' class='ee-toggle'></label><ul><li><span class='ee-k'>0:</span><span class='ee-v'>-56.00775753557763</span></li><li><span class='ee-k'>1:</span><span class='ee-v'>-1.9898048265148425</span></li></ul></li><li><label class='ee-shut'>17: [-56.00789469899878, -1.9898981788466987]<input type='checkbox' class='ee-toggle'></label><ul><li><span class='ee-k'>0:</span><span class='ee-v'>-56.00789469899878</span></li><li><span class='ee-k'>1:</span><span class='ee-v'>-1.9898981788466987</span></li></ul></li><li><label class='ee-shut'>18: [-56.00790099168393, -1.9899313951966122]<input type='checkbox' class='ee-toggle'></label><ul><li><span class='ee-k'>0:</span><span class='ee-v'>-56.00790099168393</span></li><li><span class='ee-k'>1:</span><span class='ee-v'>-1.9899313951966122</span></li></ul></li></ul></li></ul></li><li><span class='ee-k'>system:index:</span><span class='ee-v'>BOA_S220150819T141044_20160427T071221_T21MXT</span></li><li><span class='ee-k'>system:time_start:</span><span class='ee-v'>1439993444464</span></li></ul></li></ul></li><li><label class='ee-shut'>1: Image projects/ee-curuai/assets/Py6S/S2/s2_py6s/BOA_S220150819T141044_20160427T071221_T21MYT (8 bands)<input type='checkbox' class='ee-toggle'></label><ul><li><span class='ee-k'>type:</span><span class='ee-v'>Image</span></li><li><span class='ee-k'>id:</span><span class='ee-v'>projects/ee-curuai/assets/Py6S/S2/s2_py6s/BOA_S220150819T141044_20160427T071221_T21MYT</span></li><li><span class='ee-k'>version:</span><span class='ee-v'>1715565619495508</span></li><li><label class='ee-shut'>bands: List (8 elements)<input type='checkbox' class='ee-toggle'></label><ul><li><label class='ee-shut'>0: \"QA60\", float, EPSG:32721, 3864x1186 px<input type='checkbox' class='ee-toggle'></label><ul><li><span class='ee-k'>id:</span><span class='ee-v'>QA60</span></li><li><span class='ee-k'>crs:</span><span class='ee-v'>EPSG:32721</span></li><li><label class='ee-shut'>crs_transform: [30, 0, 610350, 0, -30, 9780030]<input type='checkbox' class='ee-toggle'></label><ul><li><span class='ee-k'>0:</span><span class='ee-v'>30</span></li><li><span class='ee-k'>1:</span><span class='ee-v'>0</span></li><li><span class='ee-k'>2:</span><span class='ee-v'>610350</span></li><li><span class='ee-k'>3:</span><span class='ee-v'>0</span></li><li><span class='ee-k'>4:</span><span class='ee-v'>-30</span></li><li><span class='ee-k'>5:</span><span class='ee-v'>9780030</span></li></ul></li><li><label class='ee-shut'>data_type: float<input type='checkbox' class='ee-toggle'></label><ul><li><span class='ee-k'>type:</span><span class='ee-v'>PixelType</span></li><li><span class='ee-k'>precision:</span><span class='ee-v'>float</span></li></ul></li><li><label class='ee-shut'>dimensions: [3864, 1186]<input type='checkbox' class='ee-toggle'></label><ul><li><span class='ee-k'>0:</span><span class='ee-v'>3864</span></li><li><span class='ee-k'>1:</span><span class='ee-v'>1186</span></li></ul></li></ul></li><li><label class='ee-shut'>1: \"B1\", double, EPSG:32721, 3864x1186 px<input type='checkbox' class='ee-toggle'></label><ul><li><span class='ee-k'>id:</span><span class='ee-v'>B1</span></li><li><span class='ee-k'>crs:</span><span class='ee-v'>EPSG:32721</span></li><li><label class='ee-shut'>crs_transform: [30, 0, 610350, 0, -30, 9780030]<input type='checkbox' class='ee-toggle'></label><ul><li><span class='ee-k'>0:</span><span class='ee-v'>30</span></li><li><span class='ee-k'>1:</span><span class='ee-v'>0</span></li><li><span class='ee-k'>2:</span><span class='ee-v'>610350</span></li><li><span class='ee-k'>3:</span><span class='ee-v'>0</span></li><li><span class='ee-k'>4:</span><span class='ee-v'>-30</span></li><li><span class='ee-k'>5:</span><span class='ee-v'>9780030</span></li></ul></li><li><label class='ee-shut'>data_type: double<input type='checkbox' class='ee-toggle'></label><ul><li><span class='ee-k'>type:</span><span class='ee-v'>PixelType</span></li><li><span class='ee-k'>precision:</span><span class='ee-v'>double</span></li></ul></li><li><label class='ee-shut'>dimensions: [3864, 1186]<input type='checkbox' class='ee-toggle'></label><ul><li><span class='ee-k'>0:</span><span class='ee-v'>3864</span></li><li><span class='ee-k'>1:</span><span class='ee-v'>1186</span></li></ul></li></ul></li><li><label class='ee-shut'>2: \"B2\", double, EPSG:32721, 3864x1186 px<input type='checkbox' class='ee-toggle'></label><ul><li><span class='ee-k'>id:</span><span class='ee-v'>B2</span></li><li><span class='ee-k'>crs:</span><span class='ee-v'>EPSG:32721</span></li><li><label class='ee-shut'>crs_transform: [30, 0, 610350, 0, -30, 9780030]<input type='checkbox' class='ee-toggle'></label><ul><li><span class='ee-k'>0:</span><span class='ee-v'>30</span></li><li><span class='ee-k'>1:</span><span class='ee-v'>0</span></li><li><span class='ee-k'>2:</span><span class='ee-v'>610350</span></li><li><span class='ee-k'>3:</span><span class='ee-v'>0</span></li><li><span class='ee-k'>4:</span><span class='ee-v'>-30</span></li><li><span class='ee-k'>5:</span><span class='ee-v'>9780030</span></li></ul></li><li><label class='ee-shut'>data_type: double<input type='checkbox' class='ee-toggle'></label><ul><li><span class='ee-k'>type:</span><span class='ee-v'>PixelType</span></li><li><span class='ee-k'>precision:</span><span class='ee-v'>double</span></li></ul></li><li><label class='ee-shut'>dimensions: [3864, 1186]<input type='checkbox' class='ee-toggle'></label><ul><li><span class='ee-k'>0:</span><span class='ee-v'>3864</span></li><li><span class='ee-k'>1:</span><span class='ee-v'>1186</span></li></ul></li></ul></li><li><label class='ee-shut'>3: \"B3\", double, EPSG:32721, 3864x1186 px<input type='checkbox' class='ee-toggle'></label><ul><li><span class='ee-k'>id:</span><span class='ee-v'>B3</span></li><li><span class='ee-k'>crs:</span><span class='ee-v'>EPSG:32721</span></li><li><label class='ee-shut'>crs_transform: [30, 0, 610350, 0, -30, 9780030]<input type='checkbox' class='ee-toggle'></label><ul><li><span class='ee-k'>0:</span><span class='ee-v'>30</span></li><li><span class='ee-k'>1:</span><span class='ee-v'>0</span></li><li><span class='ee-k'>2:</span><span class='ee-v'>610350</span></li><li><span class='ee-k'>3:</span><span class='ee-v'>0</span></li><li><span class='ee-k'>4:</span><span class='ee-v'>-30</span></li><li><span class='ee-k'>5:</span><span class='ee-v'>9780030</span></li></ul></li><li><label class='ee-shut'>data_type: double<input type='checkbox' class='ee-toggle'></label><ul><li><span class='ee-k'>type:</span><span class='ee-v'>PixelType</span></li><li><span class='ee-k'>precision:</span><span class='ee-v'>double</span></li></ul></li><li><label class='ee-shut'>dimensions: [3864, 1186]<input type='checkbox' class='ee-toggle'></label><ul><li><span class='ee-k'>0:</span><span class='ee-v'>3864</span></li><li><span class='ee-k'>1:</span><span class='ee-v'>1186</span></li></ul></li></ul></li><li><label class='ee-shut'>4: \"B4\", double, EPSG:32721, 3864x1186 px<input type='checkbox' class='ee-toggle'></label><ul><li><span class='ee-k'>id:</span><span class='ee-v'>B4</span></li><li><span class='ee-k'>crs:</span><span class='ee-v'>EPSG:32721</span></li><li><label class='ee-shut'>crs_transform: [30, 0, 610350, 0, -30, 9780030]<input type='checkbox' class='ee-toggle'></label><ul><li><span class='ee-k'>0:</span><span class='ee-v'>30</span></li><li><span class='ee-k'>1:</span><span class='ee-v'>0</span></li><li><span class='ee-k'>2:</span><span class='ee-v'>610350</span></li><li><span class='ee-k'>3:</span><span class='ee-v'>0</span></li><li><span class='ee-k'>4:</span><span class='ee-v'>-30</span></li><li><span class='ee-k'>5:</span><span class='ee-v'>9780030</span></li></ul></li><li><label class='ee-shut'>data_type: double<input type='checkbox' class='ee-toggle'></label><ul><li><span class='ee-k'>type:</span><span class='ee-v'>PixelType</span></li><li><span class='ee-k'>precision:</span><span class='ee-v'>double</span></li></ul></li><li><label class='ee-shut'>dimensions: [3864, 1186]<input type='checkbox' class='ee-toggle'></label><ul><li><span class='ee-k'>0:</span><span class='ee-v'>3864</span></li><li><span class='ee-k'>1:</span><span class='ee-v'>1186</span></li></ul></li></ul></li><li><label class='ee-shut'>5: \"B8\", double, EPSG:32721, 3864x1186 px<input type='checkbox' class='ee-toggle'></label><ul><li><span class='ee-k'>id:</span><span class='ee-v'>B8</span></li><li><span class='ee-k'>crs:</span><span class='ee-v'>EPSG:32721</span></li><li><label class='ee-shut'>crs_transform: [30, 0, 610350, 0, -30, 9780030]<input type='checkbox' class='ee-toggle'></label><ul><li><span class='ee-k'>0:</span><span class='ee-v'>30</span></li><li><span class='ee-k'>1:</span><span class='ee-v'>0</span></li><li><span class='ee-k'>2:</span><span class='ee-v'>610350</span></li><li><span class='ee-k'>3:</span><span class='ee-v'>0</span></li><li><span class='ee-k'>4:</span><span class='ee-v'>-30</span></li><li><span class='ee-k'>5:</span><span class='ee-v'>9780030</span></li></ul></li><li><label class='ee-shut'>data_type: double<input type='checkbox' class='ee-toggle'></label><ul><li><span class='ee-k'>type:</span><span class='ee-v'>PixelType</span></li><li><span class='ee-k'>precision:</span><span class='ee-v'>double</span></li></ul></li><li><label class='ee-shut'>dimensions: [3864, 1186]<input type='checkbox' class='ee-toggle'></label><ul><li><span class='ee-k'>0:</span><span class='ee-v'>3864</span></li><li><span class='ee-k'>1:</span><span class='ee-v'>1186</span></li></ul></li></ul></li><li><label class='ee-shut'>6: \"B11\", double, EPSG:32721, 3864x1186 px<input type='checkbox' class='ee-toggle'></label><ul><li><span class='ee-k'>id:</span><span class='ee-v'>B11</span></li><li><span class='ee-k'>crs:</span><span class='ee-v'>EPSG:32721</span></li><li><label class='ee-shut'>crs_transform: [30, 0, 610350, 0, -30, 9780030]<input type='checkbox' class='ee-toggle'></label><ul><li><span class='ee-k'>0:</span><span class='ee-v'>30</span></li><li><span class='ee-k'>1:</span><span class='ee-v'>0</span></li><li><span class='ee-k'>2:</span><span class='ee-v'>610350</span></li><li><span class='ee-k'>3:</span><span class='ee-v'>0</span></li><li><span class='ee-k'>4:</span><span class='ee-v'>-30</span></li><li><span class='ee-k'>5:</span><span class='ee-v'>9780030</span></li></ul></li><li><label class='ee-shut'>data_type: double<input type='checkbox' class='ee-toggle'></label><ul><li><span class='ee-k'>type:</span><span class='ee-v'>PixelType</span></li><li><span class='ee-k'>precision:</span><span class='ee-v'>double</span></li></ul></li><li><label class='ee-shut'>dimensions: [3864, 1186]<input type='checkbox' class='ee-toggle'></label><ul><li><span class='ee-k'>0:</span><span class='ee-v'>3864</span></li><li><span class='ee-k'>1:</span><span class='ee-v'>1186</span></li></ul></li></ul></li><li><label class='ee-shut'>7: \"B12\", double, EPSG:32721, 3864x1186 px<input type='checkbox' class='ee-toggle'></label><ul><li><span class='ee-k'>id:</span><span class='ee-v'>B12</span></li><li><span class='ee-k'>crs:</span><span class='ee-v'>EPSG:32721</span></li><li><label class='ee-shut'>crs_transform: [30, 0, 610350, 0, -30, 9780030]<input type='checkbox' class='ee-toggle'></label><ul><li><span class='ee-k'>0:</span><span class='ee-v'>30</span></li><li><span class='ee-k'>1:</span><span class='ee-v'>0</span></li><li><span class='ee-k'>2:</span><span class='ee-v'>610350</span></li><li><span class='ee-k'>3:</span><span class='ee-v'>0</span></li><li><span class='ee-k'>4:</span><span class='ee-v'>-30</span></li><li><span class='ee-k'>5:</span><span class='ee-v'>9780030</span></li></ul></li><li><label class='ee-shut'>data_type: double<input type='checkbox' class='ee-toggle'></label><ul><li><span class='ee-k'>type:</span><span class='ee-v'>PixelType</span></li><li><span class='ee-k'>precision:</span><span class='ee-v'>double</span></li></ul></li><li><label class='ee-shut'>dimensions: [3864, 1186]<input type='checkbox' class='ee-toggle'></label><ul><li><span class='ee-k'>0:</span><span class='ee-v'>3864</span></li><li><span class='ee-k'>1:</span><span class='ee-v'>1186</span></li></ul></li></ul></li></ul></li><li><label class='ee-shut'>properties: Object (80 properties)<input type='checkbox' class='ee-toggle'></label><ul><li><span class='ee-k'>AC_aerosol_optical_thickness:</span><span class='ee-v'>0.322</span></li><li><span class='ee-k'>AC_date:</span><span class='ee-v'>2015-08-19</span></li><li><span class='ee-k'>AC_ozone:</span><span class='ee-v'>0.287</span></li><li><span class='ee-k'>AC_version:</span><span class='ee-v'>py6S</span></li><li><span class='ee-k'>AC_water_vapour:</span><span class='ee-v'>4.3700000762939455</span></li><li><span class='ee-k'>CLOUDY_PIXEL_PERCENTAGE:</span><span class='ee-v'>2.9646</span></li><li><span class='ee-k'>CLOUD_COVERAGE_ASSESSMENT:</span><span class='ee-v'>13.222576923076922</span></li><li><span class='ee-k'>DATASTRIP_ID:</span><span class='ee-v'>S2A_OPER_MSI_L1C_DS_EPA__20160427T071221_S20150819T141044_N02.01</span></li><li><span class='ee-k'>DATATAKE_IDENTIFIER:</span><span class='ee-v'>GS2A_20150819T141046_000822_N02.01</span></li><li><span class='ee-k'>DATATAKE_TYPE:</span><span class='ee-v'>INS-NOBS</span></li><li><span class='ee-k'>DEGRADED_MSI_DATA_PERCENTAGE:</span><span class='ee-v'>0</span></li><li><span class='ee-k'>ECMWF_DATA_REF:</span><span class='ee-v'>S2__OPER_AUX_ECMWFD_FAKE_19800101T000000_V19800101T000000_19800101T000000</span></li><li><span class='ee-k'>FORMAT_CORRECTNESS:</span><span class='ee-v'>PASSED</span></li><li><span class='ee-k'>FORMAT_CORRECTNESS_FLAG:</span><span class='ee-v'>PASSED</span></li><li><span class='ee-k'>GENERAL_QUALITY:</span><span class='ee-v'>PASSED</span></li><li><span class='ee-k'>GENERAL_QUALITY_FLAG:</span><span class='ee-v'>PASSED</span></li><li><span class='ee-k'>GENERATION_TIME:</span><span class='ee-v'>1461750286000</span></li><li><span class='ee-k'>GEOMETRIC_QUALITY:</span><span class='ee-v'>PASSED</span></li><li><span class='ee-k'>GEOMETRIC_QUALITY_FLAG:</span><span class='ee-v'>PASSED</span></li><li><span class='ee-k'>GRANULE_ID:</span><span class='ee-v'>S2A_OPER_MSI_L1C_TL_EPA__20160427T071221_A000822_T21MYT_N02.01</span></li><li><span class='ee-k'>GRI_FILENAME:</span><span class='ee-v'>S2A_OPER_AUX_GRI065_PDMC_20130621T120000_S20130101T000000</span></li><li><span class='ee-k'>IERS_BULLETIN_FILENAME:</span><span class='ee-v'>S2__OPER_AUX_UT1UTC_PDMC_20150813T000000_V20150814T000000_20160813T000000</span></li><li><span class='ee-k'>MEAN_INCIDENCE_AZIMUTH_ANGLE_B1:</span><span class='ee-v'>284.820691840125</span></li><li><span class='ee-k'>MEAN_INCIDENCE_AZIMUTH_ANGLE_B10:</span><span class='ee-v'>284.504238025827</span></li><li><span class='ee-k'>MEAN_INCIDENCE_AZIMUTH_ANGLE_B11:</span><span class='ee-v'>284.721543023793</span></li><li><span class='ee-k'>MEAN_INCIDENCE_AZIMUTH_ANGLE_B12:</span><span class='ee-v'>284.886465196375</span></li><li><span class='ee-k'>MEAN_INCIDENCE_AZIMUTH_ANGLE_B2:</span><span class='ee-v'>284.335576311672</span></li><li><span class='ee-k'>MEAN_INCIDENCE_AZIMUTH_ANGLE_B3:</span><span class='ee-v'>284.448075877899</span></li><li><span class='ee-k'>MEAN_INCIDENCE_AZIMUTH_ANGLE_B4:</span><span class='ee-v'>284.551707164404</span></li><li><span class='ee-k'>MEAN_INCIDENCE_AZIMUTH_ANGLE_B5:</span><span class='ee-v'>284.602800715609</span></li><li><span class='ee-k'>MEAN_INCIDENCE_AZIMUTH_ANGLE_B6:</span><span class='ee-v'>284.711646562166</span></li><li><span class='ee-k'>MEAN_INCIDENCE_AZIMUTH_ANGLE_B7:</span><span class='ee-v'>284.76888951002</span></li><li><span class='ee-k'>MEAN_INCIDENCE_AZIMUTH_ANGLE_B8:</span><span class='ee-v'>284.391972177417</span></li><li><span class='ee-k'>MEAN_INCIDENCE_AZIMUTH_ANGLE_B8A:</span><span class='ee-v'>284.801734963699</span></li><li><span class='ee-k'>MEAN_INCIDENCE_AZIMUTH_ANGLE_B9:</span><span class='ee-v'>284.888450115296</span></li><li><span class='ee-k'>MEAN_INCIDENCE_ZENITH_ANGLE_B1:</span><span class='ee-v'>9.9589298521351</span></li><li><span class='ee-k'>MEAN_INCIDENCE_ZENITH_ANGLE_B10:</span><span class='ee-v'>9.84202111056304</span></li><li><span class='ee-k'>MEAN_INCIDENCE_ZENITH_ANGLE_B11:</span><span class='ee-v'>9.90189279926678</span></li><li><span class='ee-k'>MEAN_INCIDENCE_ZENITH_ANGLE_B12:</span><span class='ee-v'>9.95615931385101</span></li><li><span class='ee-k'>MEAN_INCIDENCE_ZENITH_ANGLE_B2:</span><span class='ee-v'>9.80916170361559</span></li><li><span class='ee-k'>MEAN_INCIDENCE_ZENITH_ANGLE_B3:</span><span class='ee-v'>9.8306567191745</span></li><li><span class='ee-k'>MEAN_INCIDENCE_ZENITH_ANGLE_B4:</span><span class='ee-v'>9.85770337550256</span></li><li><span class='ee-k'>MEAN_INCIDENCE_ZENITH_ANGLE_B5:</span><span class='ee-v'>9.87523724826774</span></li><li><span class='ee-k'>MEAN_INCIDENCE_ZENITH_ANGLE_B6:</span><span class='ee-v'>9.88012719614925</span></li><li><span class='ee-k'>MEAN_INCIDENCE_ZENITH_ANGLE_B7:</span><span class='ee-v'>9.90181655723733</span></li><li><span class='ee-k'>MEAN_INCIDENCE_ZENITH_ANGLE_B8:</span><span class='ee-v'>9.81887249079446</span></li><li><span class='ee-k'>MEAN_INCIDENCE_ZENITH_ANGLE_B8A:</span><span class='ee-v'>9.92562776064934</span></li><li><span class='ee-k'>MEAN_INCIDENCE_ZENITH_ANGLE_B9:</span><span class='ee-v'>9.97983524419655</span></li><li><span class='ee-k'>MEAN_SOLAR_AZIMUTH_ANGLE:</span><span class='ee-v'>55.2817011783344</span></li><li><span class='ee-k'>MEAN_SOLAR_ZENITH_ANGLE:</span><span class='ee-v'>26.8015214484571</span></li><li><span class='ee-k'>MGRS_TILE:</span><span class='ee-v'>21MYT</span></li><li><span class='ee-k'>PROCESSING_BASELINE:</span><span class='ee-v'>02.01</span></li><li><span class='ee-k'>PRODUCTION_DEM_TYPE:</span><span class='ee-v'>S2__OPER_DEM_GLOBEF_PDMC_19800101T000000_S19800101T000000</span></li><li><span class='ee-k'>PRODUCT_ID:</span><span class='ee-v'>S2A_OPER_PRD_MSIL1C_PDMC_20160427T094446_R110_V20150819T141044_20150819T141044</span></li><li><span class='ee-k'>PRODUCT_URI:</span><span class='ee-v'>400_2016-04-27T09_23</span></li><li><span class='ee-k'>RADIOMETRIC_QUALITY:</span><span class='ee-v'>PASSED</span></li><li><span class='ee-k'>RADIOMETRIC_QUALITY_FLAG:</span><span class='ee-v'>PASSED</span></li><li><span class='ee-k'>REFLECTANCE_CONVERSION_CORRECTION:</span><span class='ee-v'>0.975305483290767</span></li><li><span class='ee-k'>SENSING_ORBIT_DIRECTION:</span><span class='ee-v'>DESCENDING</span></li><li><span class='ee-k'>SENSING_ORBIT_NUMBER:</span><span class='ee-v'>110</span></li><li><span class='ee-k'>SENSOR_QUALITY:</span><span class='ee-v'>PASSED</span></li><li><span class='ee-k'>SENSOR_QUALITY_FLAG:</span><span class='ee-v'>PASSED</span></li><li><span class='ee-k'>SOLAR_IRRADIANCE_B1:</span><span class='ee-v'>1913.57</span></li><li><span class='ee-k'>SOLAR_IRRADIANCE_B10:</span><span class='ee-v'>367.15</span></li><li><span class='ee-k'>SOLAR_IRRADIANCE_B11:</span><span class='ee-v'>245.59</span></li><li><span class='ee-k'>SOLAR_IRRADIANCE_B12:</span><span class='ee-v'>85.25</span></li><li><span class='ee-k'>SOLAR_IRRADIANCE_B2:</span><span class='ee-v'>1941.63</span></li><li><span class='ee-k'>SOLAR_IRRADIANCE_B3:</span><span class='ee-v'>1822.61</span></li><li><span class='ee-k'>SOLAR_IRRADIANCE_B4:</span><span class='ee-v'>1512.79</span></li><li><span class='ee-k'>SOLAR_IRRADIANCE_B5:</span><span class='ee-v'>1425.56</span></li><li><span class='ee-k'>SOLAR_IRRADIANCE_B6:</span><span class='ee-v'>1288.32</span></li><li><span class='ee-k'>SOLAR_IRRADIANCE_B7:</span><span class='ee-v'>1163.19</span></li><li><span class='ee-k'>SOLAR_IRRADIANCE_B8:</span><span class='ee-v'>1036.39</span></li><li><span class='ee-k'>SOLAR_IRRADIANCE_B8A:</span><span class='ee-v'>955.19</span></li><li><span class='ee-k'>SOLAR_IRRADIANCE_B9:</span><span class='ee-v'>813.04</span></li><li><span class='ee-k'>SPACECRAFT_NAME:</span><span class='ee-v'>Sentinel-2A</span></li><li><span class='ee-k'>system:asset_size:</span><span class='ee-v'>6556483</span></li><li><label class='ee-shut'>system:footprint: LinearRing (19 vertices)<input type='checkbox' class='ee-toggle'></label><ul><li><span class='ee-k'>type:</span><span class='ee-v'>LinearRing</span></li><li><label class='ee-shut'>coordinates: List (19 elements)<input type='checkbox' class='ee-toggle'></label><ul><li><label class='ee-shut'>0: [-56.00790099168393, -1.9899313951966122]<input type='checkbox' class='ee-toggle'></label><ul><li><span class='ee-k'>0:</span><span class='ee-v'>-56.00790099168393</span></li><li><span class='ee-k'>1:</span><span class='ee-v'>-1.9899313951966122</span></li></ul></li><li><label class='ee-shut'>1: [-56.00790303255488, -1.9899651372103422]<input type='checkbox' class='ee-toggle'></label><ul><li><span class='ee-k'>0:</span><span class='ee-v'>-56.00790303255488</span></li><li><span class='ee-k'>1:</span><span class='ee-v'>-1.9899651372103422</span></li></ul></li><li><label class='ee-shut'>2: [-56.007695289133245, -2.311543999976785]<input type='checkbox' class='ee-toggle'></label><ul><li><span class='ee-k'>0:</span><span class='ee-v'>-56.007695289133245</span></li><li><span class='ee-k'>1:</span><span class='ee-v'>-2.311543999976785</span></li></ul></li><li><label class='ee-shut'>3: [-56.00758542256164, -2.311668371300401]<input type='checkbox' class='ee-toggle'></label><ul><li><span class='ee-k'>0:</span><span class='ee-v'>-56.00758542256164</span></li><li><span class='ee-k'>1:</span><span class='ee-v'>-2.311668371300401</span></li></ul></li><li><label class='ee-shut'>4: [-56.007491968050864, -2.311805420122597]<input type='checkbox' class='ee-toggle'></label><ul><li><span class='ee-k'>0:</span><span class='ee-v'>-56.007491968050864</span></li><li><span class='ee-k'>1:</span><span class='ee-v'>-2.311805420122597</span></li></ul></li><li><label class='ee-shut'>5: [-56.007458719016846, -2.311811703970227]<input type='checkbox' class='ee-toggle'></label><ul><li><span class='ee-k'>0:</span><span class='ee-v'>-56.007458719016846</span></li><li><span class='ee-k'>1:</span><span class='ee-v'>-2.311811703970227</span></li></ul></li><li><label class='ee-shut'>6: [-56.00742495977984, -2.311813812762818]<input type='checkbox' class='ee-toggle'></label><ul><li><span class='ee-k'>0:</span><span class='ee-v'>-56.00742495977984</span></li><li><span class='ee-k'>1:</span><span class='ee-v'>-2.311813812762818</span></li></ul></li><li><label class='ee-shut'>7: [-54.965489059375095, -2.310697073459358]<input type='checkbox' class='ee-toggle'></label><ul><li><span class='ee-k'>0:</span><span class='ee-v'>-54.965489059375095</span></li><li><span class='ee-k'>1:</span><span class='ee-v'>-2.310697073459358</span></li></ul></li><li><label class='ee-shut'>8: [-54.965364694306565, -2.310587193231306]<input type='checkbox' class='ee-toggle'></label><ul><li><span class='ee-k'>0:</span><span class='ee-v'>-54.965364694306565</span></li><li><span class='ee-k'>1:</span><span class='ee-v'>-2.310587193231306</span></li></ul></li><li><label class='ee-shut'>9: [-54.96522755682257, -2.3104937772016316]<input type='checkbox' class='ee-toggle'></label><ul><li><span class='ee-k'>0:</span><span class='ee-v'>-54.96522755682257</span></li><li><span class='ee-k'>1:</span><span class='ee-v'>-2.3104937772016316</span></li></ul></li><li><label class='ee-shut'>10: [-54.96521915379773, -2.310449360521862]<input type='checkbox' class='ee-toggle'></label><ul><li><span class='ee-k'>0:</span><span class='ee-v'>-54.96521915379773</span></li><li><span class='ee-k'>1:</span><span class='ee-v'>-2.310449360521862</span></li></ul></li><li><label class='ee-shut'>11: [-54.96564502015339, -1.989003396395678]<input type='checkbox' class='ee-toggle'></label><ul><li><span class='ee-k'>0:</span><span class='ee-v'>-54.96564502015339</span></li><li><span class='ee-k'>1:</span><span class='ee-v'>-1.989003396395678</span></li></ul></li><li><label class='ee-shut'>12: [-54.96575493234115, -1.9888791171772373]<input type='checkbox' class='ee-toggle'></label><ul><li><span class='ee-k'>0:</span><span class='ee-v'>-54.96575493234115</span></li><li><span class='ee-k'>1:</span><span class='ee-v'>-1.9888791171772373</span></li></ul></li><li><label class='ee-shut'>13: [-54.96584845865072, -1.9887421460016503]<input type='checkbox' class='ee-toggle'></label><ul><li><span class='ee-k'>0:</span><span class='ee-v'>-54.96584845865072</span></li><li><span class='ee-k'>1:</span><span class='ee-v'>-1.9887421460016503</span></li></ul></li><li><label class='ee-shut'>14: [-54.965892826963334, -1.988733772966659]<input type='checkbox' class='ee-toggle'></label><ul><li><span class='ee-k'>0:</span><span class='ee-v'>-54.965892826963334</span></li><li><span class='ee-k'>1:</span><span class='ee-v'>-1.988733772966659</span></li></ul></li><li><label class='ee-shut'>15: [-56.0076331277673, -1.9896950199386851]<input type='checkbox' class='ee-toggle'></label><ul><li><span class='ee-k'>0:</span><span class='ee-v'>-56.0076331277673</span></li><li><span class='ee-k'>1:</span><span class='ee-v'>-1.9896950199386851</span></li></ul></li><li><label class='ee-shut'>16: [-56.00775753557763, -1.9898048265148425]<input type='checkbox' class='ee-toggle'></label><ul><li><span class='ee-k'>0:</span><span class='ee-v'>-56.00775753557763</span></li><li><span class='ee-k'>1:</span><span class='ee-v'>-1.9898048265148425</span></li></ul></li><li><label class='ee-shut'>17: [-56.00789469899878, -1.9898981788466987]<input type='checkbox' class='ee-toggle'></label><ul><li><span class='ee-k'>0:</span><span class='ee-v'>-56.00789469899878</span></li><li><span class='ee-k'>1:</span><span class='ee-v'>-1.9898981788466987</span></li></ul></li><li><label class='ee-shut'>18: [-56.00790099168393, -1.9899313951966122]<input type='checkbox' class='ee-toggle'></label><ul><li><span class='ee-k'>0:</span><span class='ee-v'>-56.00790099168393</span></li><li><span class='ee-k'>1:</span><span class='ee-v'>-1.9899313951966122</span></li></ul></li></ul></li></ul></li><li><span class='ee-k'>system:index:</span><span class='ee-v'>BOA_S220150819T141044_20160427T071221_T21MYT</span></li><li><span class='ee-k'>system:time_start:</span><span class='ee-v'>1439993444464</span></li></ul></li></ul></li><li><label class='ee-shut'>2: Image projects/ee-curuai/assets/Py6S/S2/s2_py6s/BOA_S220150819T141046_20150819T141044_T21MXT (8 bands)<input type='checkbox' class='ee-toggle'></label><ul><li><span class='ee-k'>type:</span><span class='ee-v'>Image</span></li><li><span class='ee-k'>id:</span><span class='ee-v'>projects/ee-curuai/assets/Py6S/S2/s2_py6s/BOA_S220150819T141046_20150819T141044_T21MXT</span></li><li><span class='ee-k'>version:</span><span class='ee-v'>1715565595847385</span></li><li><label class='ee-shut'>bands: List (8 elements)<input type='checkbox' class='ee-toggle'></label><ul><li><label class='ee-shut'>0: \"QA60\", float, EPSG:32721, 3864x1186 px<input type='checkbox' class='ee-toggle'></label><ul><li><span class='ee-k'>id:</span><span class='ee-v'>QA60</span></li><li><span class='ee-k'>crs:</span><span class='ee-v'>EPSG:32721</span></li><li><label class='ee-shut'>crs_transform: [30, 0, 610350, 0, -30, 9780030]<input type='checkbox' class='ee-toggle'></label><ul><li><span class='ee-k'>0:</span><span class='ee-v'>30</span></li><li><span class='ee-k'>1:</span><span class='ee-v'>0</span></li><li><span class='ee-k'>2:</span><span class='ee-v'>610350</span></li><li><span class='ee-k'>3:</span><span class='ee-v'>0</span></li><li><span class='ee-k'>4:</span><span class='ee-v'>-30</span></li><li><span class='ee-k'>5:</span><span class='ee-v'>9780030</span></li></ul></li><li><label class='ee-shut'>data_type: float<input type='checkbox' class='ee-toggle'></label><ul><li><span class='ee-k'>type:</span><span class='ee-v'>PixelType</span></li><li><span class='ee-k'>precision:</span><span class='ee-v'>float</span></li></ul></li><li><label class='ee-shut'>dimensions: [3864, 1186]<input type='checkbox' class='ee-toggle'></label><ul><li><span class='ee-k'>0:</span><span class='ee-v'>3864</span></li><li><span class='ee-k'>1:</span><span class='ee-v'>1186</span></li></ul></li></ul></li><li><label class='ee-shut'>1: \"B1\", double, EPSG:32721, 3864x1186 px<input type='checkbox' class='ee-toggle'></label><ul><li><span class='ee-k'>id:</span><span class='ee-v'>B1</span></li><li><span class='ee-k'>crs:</span><span class='ee-v'>EPSG:32721</span></li><li><label class='ee-shut'>crs_transform: [30, 0, 610350, 0, -30, 9780030]<input type='checkbox' class='ee-toggle'></label><ul><li><span class='ee-k'>0:</span><span class='ee-v'>30</span></li><li><span class='ee-k'>1:</span><span class='ee-v'>0</span></li><li><span class='ee-k'>2:</span><span class='ee-v'>610350</span></li><li><span class='ee-k'>3:</span><span class='ee-v'>0</span></li><li><span class='ee-k'>4:</span><span class='ee-v'>-30</span></li><li><span class='ee-k'>5:</span><span class='ee-v'>9780030</span></li></ul></li><li><label class='ee-shut'>data_type: double<input type='checkbox' class='ee-toggle'></label><ul><li><span class='ee-k'>type:</span><span class='ee-v'>PixelType</span></li><li><span class='ee-k'>precision:</span><span class='ee-v'>double</span></li></ul></li><li><label class='ee-shut'>dimensions: [3864, 1186]<input type='checkbox' class='ee-toggle'></label><ul><li><span class='ee-k'>0:</span><span class='ee-v'>3864</span></li><li><span class='ee-k'>1:</span><span class='ee-v'>1186</span></li></ul></li></ul></li><li><label class='ee-shut'>2: \"B2\", double, EPSG:32721, 3864x1186 px<input type='checkbox' class='ee-toggle'></label><ul><li><span class='ee-k'>id:</span><span class='ee-v'>B2</span></li><li><span class='ee-k'>crs:</span><span class='ee-v'>EPSG:32721</span></li><li><label class='ee-shut'>crs_transform: [30, 0, 610350, 0, -30, 9780030]<input type='checkbox' class='ee-toggle'></label><ul><li><span class='ee-k'>0:</span><span class='ee-v'>30</span></li><li><span class='ee-k'>1:</span><span class='ee-v'>0</span></li><li><span class='ee-k'>2:</span><span class='ee-v'>610350</span></li><li><span class='ee-k'>3:</span><span class='ee-v'>0</span></li><li><span class='ee-k'>4:</span><span class='ee-v'>-30</span></li><li><span class='ee-k'>5:</span><span class='ee-v'>9780030</span></li></ul></li><li><label class='ee-shut'>data_type: double<input type='checkbox' class='ee-toggle'></label><ul><li><span class='ee-k'>type:</span><span class='ee-v'>PixelType</span></li><li><span class='ee-k'>precision:</span><span class='ee-v'>double</span></li></ul></li><li><label class='ee-shut'>dimensions: [3864, 1186]<input type='checkbox' class='ee-toggle'></label><ul><li><span class='ee-k'>0:</span><span class='ee-v'>3864</span></li><li><span class='ee-k'>1:</span><span class='ee-v'>1186</span></li></ul></li></ul></li><li><label class='ee-shut'>3: \"B3\", double, EPSG:32721, 3864x1186 px<input type='checkbox' class='ee-toggle'></label><ul><li><span class='ee-k'>id:</span><span class='ee-v'>B3</span></li><li><span class='ee-k'>crs:</span><span class='ee-v'>EPSG:32721</span></li><li><label class='ee-shut'>crs_transform: [30, 0, 610350, 0, -30, 9780030]<input type='checkbox' class='ee-toggle'></label><ul><li><span class='ee-k'>0:</span><span class='ee-v'>30</span></li><li><span class='ee-k'>1:</span><span class='ee-v'>0</span></li><li><span class='ee-k'>2:</span><span class='ee-v'>610350</span></li><li><span class='ee-k'>3:</span><span class='ee-v'>0</span></li><li><span class='ee-k'>4:</span><span class='ee-v'>-30</span></li><li><span class='ee-k'>5:</span><span class='ee-v'>9780030</span></li></ul></li><li><label class='ee-shut'>data_type: double<input type='checkbox' class='ee-toggle'></label><ul><li><span class='ee-k'>type:</span><span class='ee-v'>PixelType</span></li><li><span class='ee-k'>precision:</span><span class='ee-v'>double</span></li></ul></li><li><label class='ee-shut'>dimensions: [3864, 1186]<input type='checkbox' class='ee-toggle'></label><ul><li><span class='ee-k'>0:</span><span class='ee-v'>3864</span></li><li><span class='ee-k'>1:</span><span class='ee-v'>1186</span></li></ul></li></ul></li><li><label class='ee-shut'>4: \"B4\", double, EPSG:32721, 3864x1186 px<input type='checkbox' class='ee-toggle'></label><ul><li><span class='ee-k'>id:</span><span class='ee-v'>B4</span></li><li><span class='ee-k'>crs:</span><span class='ee-v'>EPSG:32721</span></li><li><label class='ee-shut'>crs_transform: [30, 0, 610350, 0, -30, 9780030]<input type='checkbox' class='ee-toggle'></label><ul><li><span class='ee-k'>0:</span><span class='ee-v'>30</span></li><li><span class='ee-k'>1:</span><span class='ee-v'>0</span></li><li><span class='ee-k'>2:</span><span class='ee-v'>610350</span></li><li><span class='ee-k'>3:</span><span class='ee-v'>0</span></li><li><span class='ee-k'>4:</span><span class='ee-v'>-30</span></li><li><span class='ee-k'>5:</span><span class='ee-v'>9780030</span></li></ul></li><li><label class='ee-shut'>data_type: double<input type='checkbox' class='ee-toggle'></label><ul><li><span class='ee-k'>type:</span><span class='ee-v'>PixelType</span></li><li><span class='ee-k'>precision:</span><span class='ee-v'>double</span></li></ul></li><li><label class='ee-shut'>dimensions: [3864, 1186]<input type='checkbox' class='ee-toggle'></label><ul><li><span class='ee-k'>0:</span><span class='ee-v'>3864</span></li><li><span class='ee-k'>1:</span><span class='ee-v'>1186</span></li></ul></li></ul></li><li><label class='ee-shut'>5: \"B8\", double, EPSG:32721, 3864x1186 px<input type='checkbox' class='ee-toggle'></label><ul><li><span class='ee-k'>id:</span><span class='ee-v'>B8</span></li><li><span class='ee-k'>crs:</span><span class='ee-v'>EPSG:32721</span></li><li><label class='ee-shut'>crs_transform: [30, 0, 610350, 0, -30, 9780030]<input type='checkbox' class='ee-toggle'></label><ul><li><span class='ee-k'>0:</span><span class='ee-v'>30</span></li><li><span class='ee-k'>1:</span><span class='ee-v'>0</span></li><li><span class='ee-k'>2:</span><span class='ee-v'>610350</span></li><li><span class='ee-k'>3:</span><span class='ee-v'>0</span></li><li><span class='ee-k'>4:</span><span class='ee-v'>-30</span></li><li><span class='ee-k'>5:</span><span class='ee-v'>9780030</span></li></ul></li><li><label class='ee-shut'>data_type: double<input type='checkbox' class='ee-toggle'></label><ul><li><span class='ee-k'>type:</span><span class='ee-v'>PixelType</span></li><li><span class='ee-k'>precision:</span><span class='ee-v'>double</span></li></ul></li><li><label class='ee-shut'>dimensions: [3864, 1186]<input type='checkbox' class='ee-toggle'></label><ul><li><span class='ee-k'>0:</span><span class='ee-v'>3864</span></li><li><span class='ee-k'>1:</span><span class='ee-v'>1186</span></li></ul></li></ul></li><li><label class='ee-shut'>6: \"B11\", double, EPSG:32721, 3864x1186 px<input type='checkbox' class='ee-toggle'></label><ul><li><span class='ee-k'>id:</span><span class='ee-v'>B11</span></li><li><span class='ee-k'>crs:</span><span class='ee-v'>EPSG:32721</span></li><li><label class='ee-shut'>crs_transform: [30, 0, 610350, 0, -30, 9780030]<input type='checkbox' class='ee-toggle'></label><ul><li><span class='ee-k'>0:</span><span class='ee-v'>30</span></li><li><span class='ee-k'>1:</span><span class='ee-v'>0</span></li><li><span class='ee-k'>2:</span><span class='ee-v'>610350</span></li><li><span class='ee-k'>3:</span><span class='ee-v'>0</span></li><li><span class='ee-k'>4:</span><span class='ee-v'>-30</span></li><li><span class='ee-k'>5:</span><span class='ee-v'>9780030</span></li></ul></li><li><label class='ee-shut'>data_type: double<input type='checkbox' class='ee-toggle'></label><ul><li><span class='ee-k'>type:</span><span class='ee-v'>PixelType</span></li><li><span class='ee-k'>precision:</span><span class='ee-v'>double</span></li></ul></li><li><label class='ee-shut'>dimensions: [3864, 1186]<input type='checkbox' class='ee-toggle'></label><ul><li><span class='ee-k'>0:</span><span class='ee-v'>3864</span></li><li><span class='ee-k'>1:</span><span class='ee-v'>1186</span></li></ul></li></ul></li><li><label class='ee-shut'>7: \"B12\", double, EPSG:32721, 3864x1186 px<input type='checkbox' class='ee-toggle'></label><ul><li><span class='ee-k'>id:</span><span class='ee-v'>B12</span></li><li><span class='ee-k'>crs:</span><span class='ee-v'>EPSG:32721</span></li><li><label class='ee-shut'>crs_transform: [30, 0, 610350, 0, -30, 9780030]<input type='checkbox' class='ee-toggle'></label><ul><li><span class='ee-k'>0:</span><span class='ee-v'>30</span></li><li><span class='ee-k'>1:</span><span class='ee-v'>0</span></li><li><span class='ee-k'>2:</span><span class='ee-v'>610350</span></li><li><span class='ee-k'>3:</span><span class='ee-v'>0</span></li><li><span class='ee-k'>4:</span><span class='ee-v'>-30</span></li><li><span class='ee-k'>5:</span><span class='ee-v'>9780030</span></li></ul></li><li><label class='ee-shut'>data_type: double<input type='checkbox' class='ee-toggle'></label><ul><li><span class='ee-k'>type:</span><span class='ee-v'>PixelType</span></li><li><span class='ee-k'>precision:</span><span class='ee-v'>double</span></li></ul></li><li><label class='ee-shut'>dimensions: [3864, 1186]<input type='checkbox' class='ee-toggle'></label><ul><li><span class='ee-k'>0:</span><span class='ee-v'>3864</span></li><li><span class='ee-k'>1:</span><span class='ee-v'>1186</span></li></ul></li></ul></li></ul></li><li><label class='ee-shut'>properties: Object (75 properties)<input type='checkbox' class='ee-toggle'></label><ul><li><span class='ee-k'>AC_aerosol_optical_thickness:</span><span class='ee-v'>0.322</span></li><li><span class='ee-k'>AC_date:</span><span class='ee-v'>2015-08-19</span></li><li><span class='ee-k'>AC_ozone:</span><span class='ee-v'>0.287</span></li><li><span class='ee-k'>AC_version:</span><span class='ee-v'>py6S</span></li><li><span class='ee-k'>AC_water_vapour:</span><span class='ee-v'>4.3700000762939455</span></li><li><span class='ee-k'>CLOUDY_PIXEL_PERCENTAGE:</span><span class='ee-v'>2.3223</span></li><li><span class='ee-k'>CLOUD_COVERAGE_ASSESSMENT:</span><span class='ee-v'>2.3223</span></li><li><span class='ee-k'>DATASTRIP_ID:</span><span class='ee-v'>S2A_OPER_MSI_L1C_DS_EPA__20160928T053642_S20150819T141044_N02.04</span></li><li><span class='ee-k'>DATATAKE_IDENTIFIER:</span><span class='ee-v'>GS2A_20150819T141046_000822_N02.04</span></li><li><span class='ee-k'>DATATAKE_TYPE:</span><span class='ee-v'>INS-NOBS</span></li><li><span class='ee-k'>DEGRADED_MSI_DATA_PERCENTAGE:</span><span class='ee-v'>0</span></li><li><span class='ee-k'>FORMAT_CORRECTNESS:</span><span class='ee-v'>FAILED</span></li><li><span class='ee-k'>FORMAT_CORRECTNESS_FLAG:</span><span class='ee-v'>FAILED</span></li><li><span class='ee-k'>GENERAL_QUALITY:</span><span class='ee-v'>PASSED</span></li><li><span class='ee-k'>GENERAL_QUALITY_FLAG:</span><span class='ee-v'>PASSED</span></li><li><span class='ee-k'>GENERATION_TIME:</span><span class='ee-v'>1439993444000</span></li><li><span class='ee-k'>GEOMETRIC_QUALITY:</span><span class='ee-v'>PASSED</span></li><li><span class='ee-k'>GEOMETRIC_QUALITY_FLAG:</span><span class='ee-v'>PASSED</span></li><li><span class='ee-k'>GRANULE_ID:</span><span class='ee-v'>L1C_T21MXT_A000822_20150819T141044</span></li><li><span class='ee-k'>MEAN_INCIDENCE_AZIMUTH_ANGLE_B1:</span><span class='ee-v'>267.641497317</span></li><li><span class='ee-k'>MEAN_INCIDENCE_AZIMUTH_ANGLE_B10:</span><span class='ee-v'>269.07942175</span></li><li><span class='ee-k'>MEAN_INCIDENCE_AZIMUTH_ANGLE_B11:</span><span class='ee-v'>268.358429614</span></li><li><span class='ee-k'>MEAN_INCIDENCE_AZIMUTH_ANGLE_B12:</span><span class='ee-v'>267.891698678</span></li><li><span class='ee-k'>MEAN_INCIDENCE_AZIMUTH_ANGLE_B2:</span><span class='ee-v'>271.214285197</span></li><li><span class='ee-k'>MEAN_INCIDENCE_AZIMUTH_ANGLE_B3:</span><span class='ee-v'>269.782906279</span></li><li><span class='ee-k'>MEAN_INCIDENCE_AZIMUTH_ANGLE_B4:</span><span class='ee-v'>268.960040185</span></li><li><span class='ee-k'>MEAN_INCIDENCE_AZIMUTH_ANGLE_B5:</span><span class='ee-v'>268.56152175</span></li><li><span class='ee-k'>MEAN_INCIDENCE_AZIMUTH_ANGLE_B6:</span><span class='ee-v'>268.339781314</span></li><li><span class='ee-k'>MEAN_INCIDENCE_AZIMUTH_ANGLE_B7:</span><span class='ee-v'>268.102790361</span></li><li><span class='ee-k'>MEAN_INCIDENCE_AZIMUTH_ANGLE_B8:</span><span class='ee-v'>270.389527619</span></li><li><span class='ee-k'>MEAN_INCIDENCE_AZIMUTH_ANGLE_B8A:</span><span class='ee-v'>267.974310294</span></li><li><span class='ee-k'>MEAN_INCIDENCE_AZIMUTH_ANGLE_B9:</span><span class='ee-v'>267.56251078</span></li><li><span class='ee-k'>MEAN_INCIDENCE_ZENITH_ANGLE_B1:</span><span class='ee-v'>5.00739066895</span></li><li><span class='ee-k'>MEAN_INCIDENCE_ZENITH_ANGLE_B10:</span><span class='ee-v'>4.69613432611</span></li><li><span class='ee-k'>MEAN_INCIDENCE_ZENITH_ANGLE_B11:</span><span class='ee-v'>4.81705250979</span></li><li><span class='ee-k'>MEAN_INCIDENCE_ZENITH_ANGLE_B12:</span><span class='ee-v'>4.95827592225</span></li><li><span class='ee-k'>MEAN_INCIDENCE_ZENITH_ANGLE_B2:</span><span class='ee-v'>4.57529010449</span></li><li><span class='ee-k'>MEAN_INCIDENCE_ZENITH_ANGLE_B3:</span><span class='ee-v'>4.6409648082</span></li><li><span class='ee-k'>MEAN_INCIDENCE_ZENITH_ANGLE_B4:</span><span class='ee-v'>4.72217938386</span></li><li><span class='ee-k'>MEAN_INCIDENCE_ZENITH_ANGLE_B5:</span><span class='ee-v'>4.77027321576</span></li><li><span class='ee-k'>MEAN_INCIDENCE_ZENITH_ANGLE_B6:</span><span class='ee-v'>4.82971733431</span></li><li><span class='ee-k'>MEAN_INCIDENCE_ZENITH_ANGLE_B7:</span><span class='ee-v'>4.88732515897</span></li><li><span class='ee-k'>MEAN_INCIDENCE_ZENITH_ANGLE_B8:</span><span class='ee-v'>4.60334651608</span></li><li><span class='ee-k'>MEAN_INCIDENCE_ZENITH_ANGLE_B8A:</span><span class='ee-v'>4.95351362252</span></li><li><span class='ee-k'>MEAN_INCIDENCE_ZENITH_ANGLE_B9:</span><span class='ee-v'>5.0814008136</span></li><li><span class='ee-k'>MEAN_SOLAR_AZIMUTH_ANGLE:</span><span class='ee-v'>56.2875274474</span></li><li><span class='ee-k'>MEAN_SOLAR_ZENITH_ANGLE:</span><span class='ee-v'>27.5357077386</span></li><li><span class='ee-k'>MGRS_TILE:</span><span class='ee-v'>21MXT</span></li><li><span class='ee-k'>PROCESSING_BASELINE:</span><span class='ee-v'>02.04</span></li><li><span class='ee-k'>PRODUCT_ID:</span><span class='ee-v'>S2A_MSIL1C_20150819T141046_N0204_R110_T21MXT_20150819T141044</span></li><li><span class='ee-k'>RADIOMETRIC_QUALITY:</span><span class='ee-v'>PASSED</span></li><li><span class='ee-k'>RADIOMETRIC_QUALITY_FLAG:</span><span class='ee-v'>PASSED</span></li><li><span class='ee-k'>REFLECTANCE_CONVERSION_CORRECTION:</span><span class='ee-v'>0.975305483291</span></li><li><span class='ee-k'>SENSING_ORBIT_DIRECTION:</span><span class='ee-v'>DESCENDING</span></li><li><span class='ee-k'>SENSING_ORBIT_NUMBER:</span><span class='ee-v'>110</span></li><li><span class='ee-k'>SENSOR_QUALITY:</span><span class='ee-v'>PASSED</span></li><li><span class='ee-k'>SENSOR_QUALITY_FLAG:</span><span class='ee-v'>PASSED</span></li><li><span class='ee-k'>SOLAR_IRRADIANCE_B1:</span><span class='ee-v'>1913.57</span></li><li><span class='ee-k'>SOLAR_IRRADIANCE_B10:</span><span class='ee-v'>367.15</span></li><li><span class='ee-k'>SOLAR_IRRADIANCE_B11:</span><span class='ee-v'>245.59</span></li><li><span class='ee-k'>SOLAR_IRRADIANCE_B12:</span><span class='ee-v'>85.25</span></li><li><span class='ee-k'>SOLAR_IRRADIANCE_B2:</span><span class='ee-v'>1941.63</span></li><li><span class='ee-k'>SOLAR_IRRADIANCE_B3:</span><span class='ee-v'>1822.61</span></li><li><span class='ee-k'>SOLAR_IRRADIANCE_B4:</span><span class='ee-v'>1512.79</span></li><li><span class='ee-k'>SOLAR_IRRADIANCE_B5:</span><span class='ee-v'>1425.56</span></li><li><span class='ee-k'>SOLAR_IRRADIANCE_B6:</span><span class='ee-v'>1288.32</span></li><li><span class='ee-k'>SOLAR_IRRADIANCE_B7:</span><span class='ee-v'>1163.19</span></li><li><span class='ee-k'>SOLAR_IRRADIANCE_B8:</span><span class='ee-v'>1036.39</span></li><li><span class='ee-k'>SOLAR_IRRADIANCE_B8A:</span><span class='ee-v'>955.19</span></li><li><span class='ee-k'>SOLAR_IRRADIANCE_B9:</span><span class='ee-v'>813.04</span></li><li><span class='ee-k'>SPACECRAFT_NAME:</span><span class='ee-v'>Sentinel-2A</span></li><li><span class='ee-k'>system:asset_size:</span><span class='ee-v'>84591640</span></li><li><label class='ee-shut'>system:footprint: LinearRing (19 vertices)<input type='checkbox' class='ee-toggle'></label><ul><li><span class='ee-k'>type:</span><span class='ee-v'>LinearRing</span></li><li><label class='ee-shut'>coordinates: List (19 elements)<input type='checkbox' class='ee-toggle'></label><ul><li><label class='ee-shut'>0: [-56.00790099168393, -1.9899313951966122]<input type='checkbox' class='ee-toggle'></label><ul><li><span class='ee-k'>0:</span><span class='ee-v'>-56.00790099168393</span></li><li><span class='ee-k'>1:</span><span class='ee-v'>-1.9899313951966122</span></li></ul></li><li><label class='ee-shut'>1: [-56.00790303255488, -1.9899651372103422]<input type='checkbox' class='ee-toggle'></label><ul><li><span class='ee-k'>0:</span><span class='ee-v'>-56.00790303255488</span></li><li><span class='ee-k'>1:</span><span class='ee-v'>-1.9899651372103422</span></li></ul></li><li><label class='ee-shut'>2: [-56.007695289133245, -2.311543999976785]<input type='checkbox' class='ee-toggle'></label><ul><li><span class='ee-k'>0:</span><span class='ee-v'>-56.007695289133245</span></li><li><span class='ee-k'>1:</span><span class='ee-v'>-2.311543999976785</span></li></ul></li><li><label class='ee-shut'>3: [-56.00758542256164, -2.311668371300401]<input type='checkbox' class='ee-toggle'></label><ul><li><span class='ee-k'>0:</span><span class='ee-v'>-56.00758542256164</span></li><li><span class='ee-k'>1:</span><span class='ee-v'>-2.311668371300401</span></li></ul></li><li><label class='ee-shut'>4: [-56.007491968050864, -2.311805420122597]<input type='checkbox' class='ee-toggle'></label><ul><li><span class='ee-k'>0:</span><span class='ee-v'>-56.007491968050864</span></li><li><span class='ee-k'>1:</span><span class='ee-v'>-2.311805420122597</span></li></ul></li><li><label class='ee-shut'>5: [-56.007458719016846, -2.311811703970227]<input type='checkbox' class='ee-toggle'></label><ul><li><span class='ee-k'>0:</span><span class='ee-v'>-56.007458719016846</span></li><li><span class='ee-k'>1:</span><span class='ee-v'>-2.311811703970227</span></li></ul></li><li><label class='ee-shut'>6: [-56.00742495977984, -2.311813812762818]<input type='checkbox' class='ee-toggle'></label><ul><li><span class='ee-k'>0:</span><span class='ee-v'>-56.00742495977984</span></li><li><span class='ee-k'>1:</span><span class='ee-v'>-2.311813812762818</span></li></ul></li><li><label class='ee-shut'>7: [-54.965489059375095, -2.310697073459358]<input type='checkbox' class='ee-toggle'></label><ul><li><span class='ee-k'>0:</span><span class='ee-v'>-54.965489059375095</span></li><li><span class='ee-k'>1:</span><span class='ee-v'>-2.310697073459358</span></li></ul></li><li><label class='ee-shut'>8: [-54.965364694306565, -2.310587193231306]<input type='checkbox' class='ee-toggle'></label><ul><li><span class='ee-k'>0:</span><span class='ee-v'>-54.965364694306565</span></li><li><span class='ee-k'>1:</span><span class='ee-v'>-2.310587193231306</span></li></ul></li><li><label class='ee-shut'>9: [-54.96522755682257, -2.3104937772016316]<input type='checkbox' class='ee-toggle'></label><ul><li><span class='ee-k'>0:</span><span class='ee-v'>-54.96522755682257</span></li><li><span class='ee-k'>1:</span><span class='ee-v'>-2.3104937772016316</span></li></ul></li><li><label class='ee-shut'>10: [-54.96521915379773, -2.310449360521862]<input type='checkbox' class='ee-toggle'></label><ul><li><span class='ee-k'>0:</span><span class='ee-v'>-54.96521915379773</span></li><li><span class='ee-k'>1:</span><span class='ee-v'>-2.310449360521862</span></li></ul></li><li><label class='ee-shut'>11: [-54.96564502015339, -1.989003396395678]<input type='checkbox' class='ee-toggle'></label><ul><li><span class='ee-k'>0:</span><span class='ee-v'>-54.96564502015339</span></li><li><span class='ee-k'>1:</span><span class='ee-v'>-1.989003396395678</span></li></ul></li><li><label class='ee-shut'>12: [-54.96575493234115, -1.9888791171772373]<input type='checkbox' class='ee-toggle'></label><ul><li><span class='ee-k'>0:</span><span class='ee-v'>-54.96575493234115</span></li><li><span class='ee-k'>1:</span><span class='ee-v'>-1.9888791171772373</span></li></ul></li><li><label class='ee-shut'>13: [-54.96584845865072, -1.9887421460016503]<input type='checkbox' class='ee-toggle'></label><ul><li><span class='ee-k'>0:</span><span class='ee-v'>-54.96584845865072</span></li><li><span class='ee-k'>1:</span><span class='ee-v'>-1.9887421460016503</span></li></ul></li><li><label class='ee-shut'>14: [-54.965892826963334, -1.988733772966659]<input type='checkbox' class='ee-toggle'></label><ul><li><span class='ee-k'>0:</span><span class='ee-v'>-54.965892826963334</span></li><li><span class='ee-k'>1:</span><span class='ee-v'>-1.988733772966659</span></li></ul></li><li><label class='ee-shut'>15: [-56.0076331277673, -1.9896950199386851]<input type='checkbox' class='ee-toggle'></label><ul><li><span class='ee-k'>0:</span><span class='ee-v'>-56.0076331277673</span></li><li><span class='ee-k'>1:</span><span class='ee-v'>-1.9896950199386851</span></li></ul></li><li><label class='ee-shut'>16: [-56.00775753557763, -1.9898048265148425]<input type='checkbox' class='ee-toggle'></label><ul><li><span class='ee-k'>0:</span><span class='ee-v'>-56.00775753557763</span></li><li><span class='ee-k'>1:</span><span class='ee-v'>-1.9898048265148425</span></li></ul></li><li><label class='ee-shut'>17: [-56.00789469899878, -1.9898981788466987]<input type='checkbox' class='ee-toggle'></label><ul><li><span class='ee-k'>0:</span><span class='ee-v'>-56.00789469899878</span></li><li><span class='ee-k'>1:</span><span class='ee-v'>-1.9898981788466987</span></li></ul></li><li><label class='ee-shut'>18: [-56.00790099168393, -1.9899313951966122]<input type='checkbox' class='ee-toggle'></label><ul><li><span class='ee-k'>0:</span><span class='ee-v'>-56.00790099168393</span></li><li><span class='ee-k'>1:</span><span class='ee-v'>-1.9899313951966122</span></li></ul></li></ul></li></ul></li><li><span class='ee-k'>system:index:</span><span class='ee-v'>BOA_S220150819T141046_20150819T141044_T21MXT</span></li><li><span class='ee-k'>system:time_start:</span><span class='ee-v'>1439993444000</span></li></ul></li></ul></li><li><label class='ee-shut'>3: Image projects/ee-curuai/assets/Py6S/S2/s2_py6s/BOA_S220150819T141046_20150819T141044_T21MYT (8 bands)<input type='checkbox' class='ee-toggle'></label><ul><li><span class='ee-k'>type:</span><span class='ee-v'>Image</span></li><li><span class='ee-k'>id:</span><span class='ee-v'>projects/ee-curuai/assets/Py6S/S2/s2_py6s/BOA_S220150819T141046_20150819T141044_T21MYT</span></li><li><span class='ee-k'>version:</span><span class='ee-v'>1715565498333249</span></li><li><label class='ee-shut'>bands: List (8 elements)<input type='checkbox' class='ee-toggle'></label><ul><li><label class='ee-shut'>0: \"QA60\", float, EPSG:32721, 3864x1186 px<input type='checkbox' class='ee-toggle'></label><ul><li><span class='ee-k'>id:</span><span class='ee-v'>QA60</span></li><li><span class='ee-k'>crs:</span><span class='ee-v'>EPSG:32721</span></li><li><label class='ee-shut'>crs_transform: [30, 0, 610350, 0, -30, 9780030]<input type='checkbox' class='ee-toggle'></label><ul><li><span class='ee-k'>0:</span><span class='ee-v'>30</span></li><li><span class='ee-k'>1:</span><span class='ee-v'>0</span></li><li><span class='ee-k'>2:</span><span class='ee-v'>610350</span></li><li><span class='ee-k'>3:</span><span class='ee-v'>0</span></li><li><span class='ee-k'>4:</span><span class='ee-v'>-30</span></li><li><span class='ee-k'>5:</span><span class='ee-v'>9780030</span></li></ul></li><li><label class='ee-shut'>data_type: float<input type='checkbox' class='ee-toggle'></label><ul><li><span class='ee-k'>type:</span><span class='ee-v'>PixelType</span></li><li><span class='ee-k'>precision:</span><span class='ee-v'>float</span></li></ul></li><li><label class='ee-shut'>dimensions: [3864, 1186]<input type='checkbox' class='ee-toggle'></label><ul><li><span class='ee-k'>0:</span><span class='ee-v'>3864</span></li><li><span class='ee-k'>1:</span><span class='ee-v'>1186</span></li></ul></li></ul></li><li><label class='ee-shut'>1: \"B1\", double, EPSG:32721, 3864x1186 px<input type='checkbox' class='ee-toggle'></label><ul><li><span class='ee-k'>id:</span><span class='ee-v'>B1</span></li><li><span class='ee-k'>crs:</span><span class='ee-v'>EPSG:32721</span></li><li><label class='ee-shut'>crs_transform: [30, 0, 610350, 0, -30, 9780030]<input type='checkbox' class='ee-toggle'></label><ul><li><span class='ee-k'>0:</span><span class='ee-v'>30</span></li><li><span class='ee-k'>1:</span><span class='ee-v'>0</span></li><li><span class='ee-k'>2:</span><span class='ee-v'>610350</span></li><li><span class='ee-k'>3:</span><span class='ee-v'>0</span></li><li><span class='ee-k'>4:</span><span class='ee-v'>-30</span></li><li><span class='ee-k'>5:</span><span class='ee-v'>9780030</span></li></ul></li><li><label class='ee-shut'>data_type: double<input type='checkbox' class='ee-toggle'></label><ul><li><span class='ee-k'>type:</span><span class='ee-v'>PixelType</span></li><li><span class='ee-k'>precision:</span><span class='ee-v'>double</span></li></ul></li><li><label class='ee-shut'>dimensions: [3864, 1186]<input type='checkbox' class='ee-toggle'></label><ul><li><span class='ee-k'>0:</span><span class='ee-v'>3864</span></li><li><span class='ee-k'>1:</span><span class='ee-v'>1186</span></li></ul></li></ul></li><li><label class='ee-shut'>2: \"B2\", double, EPSG:32721, 3864x1186 px<input type='checkbox' class='ee-toggle'></label><ul><li><span class='ee-k'>id:</span><span class='ee-v'>B2</span></li><li><span class='ee-k'>crs:</span><span class='ee-v'>EPSG:32721</span></li><li><label class='ee-shut'>crs_transform: [30, 0, 610350, 0, -30, 9780030]<input type='checkbox' class='ee-toggle'></label><ul><li><span class='ee-k'>0:</span><span class='ee-v'>30</span></li><li><span class='ee-k'>1:</span><span class='ee-v'>0</span></li><li><span class='ee-k'>2:</span><span class='ee-v'>610350</span></li><li><span class='ee-k'>3:</span><span class='ee-v'>0</span></li><li><span class='ee-k'>4:</span><span class='ee-v'>-30</span></li><li><span class='ee-k'>5:</span><span class='ee-v'>9780030</span></li></ul></li><li><label class='ee-shut'>data_type: double<input type='checkbox' class='ee-toggle'></label><ul><li><span class='ee-k'>type:</span><span class='ee-v'>PixelType</span></li><li><span class='ee-k'>precision:</span><span class='ee-v'>double</span></li></ul></li><li><label class='ee-shut'>dimensions: [3864, 1186]<input type='checkbox' class='ee-toggle'></label><ul><li><span class='ee-k'>0:</span><span class='ee-v'>3864</span></li><li><span class='ee-k'>1:</span><span class='ee-v'>1186</span></li></ul></li></ul></li><li><label class='ee-shut'>3: \"B3\", double, EPSG:32721, 3864x1186 px<input type='checkbox' class='ee-toggle'></label><ul><li><span class='ee-k'>id:</span><span class='ee-v'>B3</span></li><li><span class='ee-k'>crs:</span><span class='ee-v'>EPSG:32721</span></li><li><label class='ee-shut'>crs_transform: [30, 0, 610350, 0, -30, 9780030]<input type='checkbox' class='ee-toggle'></label><ul><li><span class='ee-k'>0:</span><span class='ee-v'>30</span></li><li><span class='ee-k'>1:</span><span class='ee-v'>0</span></li><li><span class='ee-k'>2:</span><span class='ee-v'>610350</span></li><li><span class='ee-k'>3:</span><span class='ee-v'>0</span></li><li><span class='ee-k'>4:</span><span class='ee-v'>-30</span></li><li><span class='ee-k'>5:</span><span class='ee-v'>9780030</span></li></ul></li><li><label class='ee-shut'>data_type: double<input type='checkbox' class='ee-toggle'></label><ul><li><span class='ee-k'>type:</span><span class='ee-v'>PixelType</span></li><li><span class='ee-k'>precision:</span><span class='ee-v'>double</span></li></ul></li><li><label class='ee-shut'>dimensions: [3864, 1186]<input type='checkbox' class='ee-toggle'></label><ul><li><span class='ee-k'>0:</span><span class='ee-v'>3864</span></li><li><span class='ee-k'>1:</span><span class='ee-v'>1186</span></li></ul></li></ul></li><li><label class='ee-shut'>4: \"B4\", double, EPSG:32721, 3864x1186 px<input type='checkbox' class='ee-toggle'></label><ul><li><span class='ee-k'>id:</span><span class='ee-v'>B4</span></li><li><span class='ee-k'>crs:</span><span class='ee-v'>EPSG:32721</span></li><li><label class='ee-shut'>crs_transform: [30, 0, 610350, 0, -30, 9780030]<input type='checkbox' class='ee-toggle'></label><ul><li><span class='ee-k'>0:</span><span class='ee-v'>30</span></li><li><span class='ee-k'>1:</span><span class='ee-v'>0</span></li><li><span class='ee-k'>2:</span><span class='ee-v'>610350</span></li><li><span class='ee-k'>3:</span><span class='ee-v'>0</span></li><li><span class='ee-k'>4:</span><span class='ee-v'>-30</span></li><li><span class='ee-k'>5:</span><span class='ee-v'>9780030</span></li></ul></li><li><label class='ee-shut'>data_type: double<input type='checkbox' class='ee-toggle'></label><ul><li><span class='ee-k'>type:</span><span class='ee-v'>PixelType</span></li><li><span class='ee-k'>precision:</span><span class='ee-v'>double</span></li></ul></li><li><label class='ee-shut'>dimensions: [3864, 1186]<input type='checkbox' class='ee-toggle'></label><ul><li><span class='ee-k'>0:</span><span class='ee-v'>3864</span></li><li><span class='ee-k'>1:</span><span class='ee-v'>1186</span></li></ul></li></ul></li><li><label class='ee-shut'>5: \"B8\", double, EPSG:32721, 3864x1186 px<input type='checkbox' class='ee-toggle'></label><ul><li><span class='ee-k'>id:</span><span class='ee-v'>B8</span></li><li><span class='ee-k'>crs:</span><span class='ee-v'>EPSG:32721</span></li><li><label class='ee-shut'>crs_transform: [30, 0, 610350, 0, -30, 9780030]<input type='checkbox' class='ee-toggle'></label><ul><li><span class='ee-k'>0:</span><span class='ee-v'>30</span></li><li><span class='ee-k'>1:</span><span class='ee-v'>0</span></li><li><span class='ee-k'>2:</span><span class='ee-v'>610350</span></li><li><span class='ee-k'>3:</span><span class='ee-v'>0</span></li><li><span class='ee-k'>4:</span><span class='ee-v'>-30</span></li><li><span class='ee-k'>5:</span><span class='ee-v'>9780030</span></li></ul></li><li><label class='ee-shut'>data_type: double<input type='checkbox' class='ee-toggle'></label><ul><li><span class='ee-k'>type:</span><span class='ee-v'>PixelType</span></li><li><span class='ee-k'>precision:</span><span class='ee-v'>double</span></li></ul></li><li><label class='ee-shut'>dimensions: [3864, 1186]<input type='checkbox' class='ee-toggle'></label><ul><li><span class='ee-k'>0:</span><span class='ee-v'>3864</span></li><li><span class='ee-k'>1:</span><span class='ee-v'>1186</span></li></ul></li></ul></li><li><label class='ee-shut'>6: \"B11\", double, EPSG:32721, 3864x1186 px<input type='checkbox' class='ee-toggle'></label><ul><li><span class='ee-k'>id:</span><span class='ee-v'>B11</span></li><li><span class='ee-k'>crs:</span><span class='ee-v'>EPSG:32721</span></li><li><label class='ee-shut'>crs_transform: [30, 0, 610350, 0, -30, 9780030]<input type='checkbox' class='ee-toggle'></label><ul><li><span class='ee-k'>0:</span><span class='ee-v'>30</span></li><li><span class='ee-k'>1:</span><span class='ee-v'>0</span></li><li><span class='ee-k'>2:</span><span class='ee-v'>610350</span></li><li><span class='ee-k'>3:</span><span class='ee-v'>0</span></li><li><span class='ee-k'>4:</span><span class='ee-v'>-30</span></li><li><span class='ee-k'>5:</span><span class='ee-v'>9780030</span></li></ul></li><li><label class='ee-shut'>data_type: double<input type='checkbox' class='ee-toggle'></label><ul><li><span class='ee-k'>type:</span><span class='ee-v'>PixelType</span></li><li><span class='ee-k'>precision:</span><span class='ee-v'>double</span></li></ul></li><li><label class='ee-shut'>dimensions: [3864, 1186]<input type='checkbox' class='ee-toggle'></label><ul><li><span class='ee-k'>0:</span><span class='ee-v'>3864</span></li><li><span class='ee-k'>1:</span><span class='ee-v'>1186</span></li></ul></li></ul></li><li><label class='ee-shut'>7: \"B12\", double, EPSG:32721, 3864x1186 px<input type='checkbox' class='ee-toggle'></label><ul><li><span class='ee-k'>id:</span><span class='ee-v'>B12</span></li><li><span class='ee-k'>crs:</span><span class='ee-v'>EPSG:32721</span></li><li><label class='ee-shut'>crs_transform: [30, 0, 610350, 0, -30, 9780030]<input type='checkbox' class='ee-toggle'></label><ul><li><span class='ee-k'>0:</span><span class='ee-v'>30</span></li><li><span class='ee-k'>1:</span><span class='ee-v'>0</span></li><li><span class='ee-k'>2:</span><span class='ee-v'>610350</span></li><li><span class='ee-k'>3:</span><span class='ee-v'>0</span></li><li><span class='ee-k'>4:</span><span class='ee-v'>-30</span></li><li><span class='ee-k'>5:</span><span class='ee-v'>9780030</span></li></ul></li><li><label class='ee-shut'>data_type: double<input type='checkbox' class='ee-toggle'></label><ul><li><span class='ee-k'>type:</span><span class='ee-v'>PixelType</span></li><li><span class='ee-k'>precision:</span><span class='ee-v'>double</span></li></ul></li><li><label class='ee-shut'>dimensions: [3864, 1186]<input type='checkbox' class='ee-toggle'></label><ul><li><span class='ee-k'>0:</span><span class='ee-v'>3864</span></li><li><span class='ee-k'>1:</span><span class='ee-v'>1186</span></li></ul></li></ul></li></ul></li><li><label class='ee-shut'>properties: Object (75 properties)<input type='checkbox' class='ee-toggle'></label><ul><li><span class='ee-k'>AC_aerosol_optical_thickness:</span><span class='ee-v'>0.322</span></li><li><span class='ee-k'>AC_date:</span><span class='ee-v'>2015-08-19</span></li><li><span class='ee-k'>AC_ozone:</span><span class='ee-v'>0.287</span></li><li><span class='ee-k'>AC_version:</span><span class='ee-v'>py6S</span></li><li><span class='ee-k'>AC_water_vapour:</span><span class='ee-v'>4.3700000762939455</span></li><li><span class='ee-k'>CLOUDY_PIXEL_PERCENTAGE:</span><span class='ee-v'>3.1379</span></li><li><span class='ee-k'>CLOUD_COVERAGE_ASSESSMENT:</span><span class='ee-v'>3.1379</span></li><li><span class='ee-k'>DATASTRIP_ID:</span><span class='ee-v'>S2A_OPER_MSI_L1C_DS_EPA__20160928T053642_S20150819T141044_N02.04</span></li><li><span class='ee-k'>DATATAKE_IDENTIFIER:</span><span class='ee-v'>GS2A_20150819T141046_000822_N02.04</span></li><li><span class='ee-k'>DATATAKE_TYPE:</span><span class='ee-v'>INS-NOBS</span></li><li><span class='ee-k'>DEGRADED_MSI_DATA_PERCENTAGE:</span><span class='ee-v'>0</span></li><li><span class='ee-k'>FORMAT_CORRECTNESS:</span><span class='ee-v'>FAILED</span></li><li><span class='ee-k'>FORMAT_CORRECTNESS_FLAG:</span><span class='ee-v'>FAILED</span></li><li><span class='ee-k'>GENERAL_QUALITY:</span><span class='ee-v'>PASSED</span></li><li><span class='ee-k'>GENERAL_QUALITY_FLAG:</span><span class='ee-v'>PASSED</span></li><li><span class='ee-k'>GENERATION_TIME:</span><span class='ee-v'>1439993444000</span></li><li><span class='ee-k'>GEOMETRIC_QUALITY:</span><span class='ee-v'>PASSED</span></li><li><span class='ee-k'>GEOMETRIC_QUALITY_FLAG:</span><span class='ee-v'>PASSED</span></li><li><span class='ee-k'>GRANULE_ID:</span><span class='ee-v'>L1C_T21MYT_A000822_20150819T141044</span></li><li><span class='ee-k'>MEAN_INCIDENCE_AZIMUTH_ANGLE_B1:</span><span class='ee-v'>284.772422073</span></li><li><span class='ee-k'>MEAN_INCIDENCE_AZIMUTH_ANGLE_B10:</span><span class='ee-v'>284.504839564</span></li><li><span class='ee-k'>MEAN_INCIDENCE_AZIMUTH_ANGLE_B11:</span><span class='ee-v'>284.697746075</span></li><li><span class='ee-k'>MEAN_INCIDENCE_AZIMUTH_ANGLE_B12:</span><span class='ee-v'>284.887015795</span></li><li><span class='ee-k'>MEAN_INCIDENCE_AZIMUTH_ANGLE_B2:</span><span class='ee-v'>284.336186306</span></li><li><span class='ee-k'>MEAN_INCIDENCE_AZIMUTH_ANGLE_B3:</span><span class='ee-v'>284.448693328</span></li><li><span class='ee-k'>MEAN_INCIDENCE_AZIMUTH_ANGLE_B4:</span><span class='ee-v'>284.552313187</span></li><li><span class='ee-k'>MEAN_INCIDENCE_AZIMUTH_ANGLE_B5:</span><span class='ee-v'>284.603384346</span></li><li><span class='ee-k'>MEAN_INCIDENCE_AZIMUTH_ANGLE_B6:</span><span class='ee-v'>284.675478351</span></li><li><span class='ee-k'>MEAN_INCIDENCE_AZIMUTH_ANGLE_B7:</span><span class='ee-v'>284.736482809</span></li><li><span class='ee-k'>MEAN_INCIDENCE_AZIMUTH_ANGLE_B8:</span><span class='ee-v'>284.392586908</span></li><li><span class='ee-k'>MEAN_INCIDENCE_AZIMUTH_ANGLE_B8A:</span><span class='ee-v'>284.802299514</span></li><li><span class='ee-k'>MEAN_INCIDENCE_AZIMUTH_ANGLE_B9:</span><span class='ee-v'>284.937918975</span></li><li><span class='ee-k'>MEAN_INCIDENCE_ZENITH_ANGLE_B1:</span><span class='ee-v'>9.96642570826</span></li><li><span class='ee-k'>MEAN_INCIDENCE_ZENITH_ANGLE_B10:</span><span class='ee-v'>9.84202474941</span></li><li><span class='ee-k'>MEAN_INCIDENCE_ZENITH_ANGLE_B11:</span><span class='ee-v'>9.89352438135</span></li><li><span class='ee-k'>MEAN_INCIDENCE_ZENITH_ANGLE_B12:</span><span class='ee-v'>9.95616379864</span></li><li><span class='ee-k'>MEAN_INCIDENCE_ZENITH_ANGLE_B2:</span><span class='ee-v'>9.80916504511</span></li><li><span class='ee-k'>MEAN_INCIDENCE_ZENITH_ANGLE_B3:</span><span class='ee-v'>9.83066022877</span></li><li><span class='ee-k'>MEAN_INCIDENCE_ZENITH_ANGLE_B4:</span><span class='ee-v'>9.85770713392</span></li><li><span class='ee-k'>MEAN_INCIDENCE_ZENITH_ANGLE_B5:</span><span class='ee-v'>9.87524143852</span></li><li><span class='ee-k'>MEAN_INCIDENCE_ZENITH_ANGLE_B6:</span><span class='ee-v'>9.88759636044</span></li><li><span class='ee-k'>MEAN_INCIDENCE_ZENITH_ANGLE_B7:</span><span class='ee-v'>9.90187898551</span></li><li><span class='ee-k'>MEAN_INCIDENCE_ZENITH_ANGLE_B8:</span><span class='ee-v'>9.81887593662</span></li><li><span class='ee-k'>MEAN_INCIDENCE_ZENITH_ANGLE_B8A:</span><span class='ee-v'>9.92563202354</span></li><li><span class='ee-k'>MEAN_INCIDENCE_ZENITH_ANGLE_B9:</span><span class='ee-v'>9.97996247995</span></li><li><span class='ee-k'>MEAN_SOLAR_AZIMUTH_ANGLE:</span><span class='ee-v'>55.2817020045</span></li><li><span class='ee-k'>MEAN_SOLAR_ZENITH_ANGLE:</span><span class='ee-v'>26.8015220368</span></li><li><span class='ee-k'>MGRS_TILE:</span><span class='ee-v'>21MYT</span></li><li><span class='ee-k'>PROCESSING_BASELINE:</span><span class='ee-v'>02.04</span></li><li><span class='ee-k'>PRODUCT_ID:</span><span class='ee-v'>S2A_MSIL1C_20150819T141046_N0204_R110_T21MYT_20150819T141044</span></li><li><span class='ee-k'>RADIOMETRIC_QUALITY:</span><span class='ee-v'>PASSED</span></li><li><span class='ee-k'>RADIOMETRIC_QUALITY_FLAG:</span><span class='ee-v'>PASSED</span></li><li><span class='ee-k'>REFLECTANCE_CONVERSION_CORRECTION:</span><span class='ee-v'>0.975305483291</span></li><li><span class='ee-k'>SENSING_ORBIT_DIRECTION:</span><span class='ee-v'>DESCENDING</span></li><li><span class='ee-k'>SENSING_ORBIT_NUMBER:</span><span class='ee-v'>110</span></li><li><span class='ee-k'>SENSOR_QUALITY:</span><span class='ee-v'>PASSED</span></li><li><span class='ee-k'>SENSOR_QUALITY_FLAG:</span><span class='ee-v'>PASSED</span></li><li><span class='ee-k'>SOLAR_IRRADIANCE_B1:</span><span class='ee-v'>1913.57</span></li><li><span class='ee-k'>SOLAR_IRRADIANCE_B10:</span><span class='ee-v'>367.15</span></li><li><span class='ee-k'>SOLAR_IRRADIANCE_B11:</span><span class='ee-v'>245.59</span></li><li><span class='ee-k'>SOLAR_IRRADIANCE_B12:</span><span class='ee-v'>85.25</span></li><li><span class='ee-k'>SOLAR_IRRADIANCE_B2:</span><span class='ee-v'>1941.63</span></li><li><span class='ee-k'>SOLAR_IRRADIANCE_B3:</span><span class='ee-v'>1822.61</span></li><li><span class='ee-k'>SOLAR_IRRADIANCE_B4:</span><span class='ee-v'>1512.79</span></li><li><span class='ee-k'>SOLAR_IRRADIANCE_B5:</span><span class='ee-v'>1425.56</span></li><li><span class='ee-k'>SOLAR_IRRADIANCE_B6:</span><span class='ee-v'>1288.32</span></li><li><span class='ee-k'>SOLAR_IRRADIANCE_B7:</span><span class='ee-v'>1163.19</span></li><li><span class='ee-k'>SOLAR_IRRADIANCE_B8:</span><span class='ee-v'>1036.39</span></li><li><span class='ee-k'>SOLAR_IRRADIANCE_B8A:</span><span class='ee-v'>955.19</span></li><li><span class='ee-k'>SOLAR_IRRADIANCE_B9:</span><span class='ee-v'>813.04</span></li><li><span class='ee-k'>SPACECRAFT_NAME:</span><span class='ee-v'>Sentinel-2A</span></li><li><span class='ee-k'>system:asset_size:</span><span class='ee-v'>6527213</span></li><li><label class='ee-shut'>system:footprint: LinearRing (19 vertices)<input type='checkbox' class='ee-toggle'></label><ul><li><span class='ee-k'>type:</span><span class='ee-v'>LinearRing</span></li><li><label class='ee-shut'>coordinates: List (19 elements)<input type='checkbox' class='ee-toggle'></label><ul><li><label class='ee-shut'>0: [-56.00790099168393, -1.9899313951966122]<input type='checkbox' class='ee-toggle'></label><ul><li><span class='ee-k'>0:</span><span class='ee-v'>-56.00790099168393</span></li><li><span class='ee-k'>1:</span><span class='ee-v'>-1.9899313951966122</span></li></ul></li><li><label class='ee-shut'>1: [-56.00790303255488, -1.9899651372103422]<input type='checkbox' class='ee-toggle'></label><ul><li><span class='ee-k'>0:</span><span class='ee-v'>-56.00790303255488</span></li><li><span class='ee-k'>1:</span><span class='ee-v'>-1.9899651372103422</span></li></ul></li><li><label class='ee-shut'>2: [-56.007695289133245, -2.311543999976785]<input type='checkbox' class='ee-toggle'></label><ul><li><span class='ee-k'>0:</span><span class='ee-v'>-56.007695289133245</span></li><li><span class='ee-k'>1:</span><span class='ee-v'>-2.311543999976785</span></li></ul></li><li><label class='ee-shut'>3: [-56.00758542256164, -2.311668371300401]<input type='checkbox' class='ee-toggle'></label><ul><li><span class='ee-k'>0:</span><span class='ee-v'>-56.00758542256164</span></li><li><span class='ee-k'>1:</span><span class='ee-v'>-2.311668371300401</span></li></ul></li><li><label class='ee-shut'>4: [-56.007491968050864, -2.311805420122597]<input type='checkbox' class='ee-toggle'></label><ul><li><span class='ee-k'>0:</span><span class='ee-v'>-56.007491968050864</span></li><li><span class='ee-k'>1:</span><span class='ee-v'>-2.311805420122597</span></li></ul></li><li><label class='ee-shut'>5: [-56.007458719016846, -2.311811703970227]<input type='checkbox' class='ee-toggle'></label><ul><li><span class='ee-k'>0:</span><span class='ee-v'>-56.007458719016846</span></li><li><span class='ee-k'>1:</span><span class='ee-v'>-2.311811703970227</span></li></ul></li><li><label class='ee-shut'>6: [-56.00742495977984, -2.311813812762818]<input type='checkbox' class='ee-toggle'></label><ul><li><span class='ee-k'>0:</span><span class='ee-v'>-56.00742495977984</span></li><li><span class='ee-k'>1:</span><span class='ee-v'>-2.311813812762818</span></li></ul></li><li><label class='ee-shut'>7: [-54.965489059375095, -2.310697073459358]<input type='checkbox' class='ee-toggle'></label><ul><li><span class='ee-k'>0:</span><span class='ee-v'>-54.965489059375095</span></li><li><span class='ee-k'>1:</span><span class='ee-v'>-2.310697073459358</span></li></ul></li><li><label class='ee-shut'>8: [-54.965364694306565, -2.310587193231306]<input type='checkbox' class='ee-toggle'></label><ul><li><span class='ee-k'>0:</span><span class='ee-v'>-54.965364694306565</span></li><li><span class='ee-k'>1:</span><span class='ee-v'>-2.310587193231306</span></li></ul></li><li><label class='ee-shut'>9: [-54.96522755682257, -2.3104937772016316]<input type='checkbox' class='ee-toggle'></label><ul><li><span class='ee-k'>0:</span><span class='ee-v'>-54.96522755682257</span></li><li><span class='ee-k'>1:</span><span class='ee-v'>-2.3104937772016316</span></li></ul></li><li><label class='ee-shut'>10: [-54.96521915379773, -2.310449360521862]<input type='checkbox' class='ee-toggle'></label><ul><li><span class='ee-k'>0:</span><span class='ee-v'>-54.96521915379773</span></li><li><span class='ee-k'>1:</span><span class='ee-v'>-2.310449360521862</span></li></ul></li><li><label class='ee-shut'>11: [-54.96564502015339, -1.989003396395678]<input type='checkbox' class='ee-toggle'></label><ul><li><span class='ee-k'>0:</span><span class='ee-v'>-54.96564502015339</span></li><li><span class='ee-k'>1:</span><span class='ee-v'>-1.989003396395678</span></li></ul></li><li><label class='ee-shut'>12: [-54.96575493234115, -1.9888791171772373]<input type='checkbox' class='ee-toggle'></label><ul><li><span class='ee-k'>0:</span><span class='ee-v'>-54.96575493234115</span></li><li><span class='ee-k'>1:</span><span class='ee-v'>-1.9888791171772373</span></li></ul></li><li><label class='ee-shut'>13: [-54.96584845865072, -1.9887421460016503]<input type='checkbox' class='ee-toggle'></label><ul><li><span class='ee-k'>0:</span><span class='ee-v'>-54.96584845865072</span></li><li><span class='ee-k'>1:</span><span class='ee-v'>-1.9887421460016503</span></li></ul></li><li><label class='ee-shut'>14: [-54.965892826963334, -1.988733772966659]<input type='checkbox' class='ee-toggle'></label><ul><li><span class='ee-k'>0:</span><span class='ee-v'>-54.965892826963334</span></li><li><span class='ee-k'>1:</span><span class='ee-v'>-1.988733772966659</span></li></ul></li><li><label class='ee-shut'>15: [-56.0076331277673, -1.9896950199386851]<input type='checkbox' class='ee-toggle'></label><ul><li><span class='ee-k'>0:</span><span class='ee-v'>-56.0076331277673</span></li><li><span class='ee-k'>1:</span><span class='ee-v'>-1.9896950199386851</span></li></ul></li><li><label class='ee-shut'>16: [-56.00775753557763, -1.9898048265148425]<input type='checkbox' class='ee-toggle'></label><ul><li><span class='ee-k'>0:</span><span class='ee-v'>-56.00775753557763</span></li><li><span class='ee-k'>1:</span><span class='ee-v'>-1.9898048265148425</span></li></ul></li><li><label class='ee-shut'>17: [-56.00789469899878, -1.9898981788466987]<input type='checkbox' class='ee-toggle'></label><ul><li><span class='ee-k'>0:</span><span class='ee-v'>-56.00789469899878</span></li><li><span class='ee-k'>1:</span><span class='ee-v'>-1.9898981788466987</span></li></ul></li><li><label class='ee-shut'>18: [-56.00790099168393, -1.9899313951966122]<input type='checkbox' class='ee-toggle'></label><ul><li><span class='ee-k'>0:</span><span class='ee-v'>-56.00790099168393</span></li><li><span class='ee-k'>1:</span><span class='ee-v'>-1.9899313951966122</span></li></ul></li></ul></li></ul></li><li><span class='ee-k'>system:index:</span><span class='ee-v'>BOA_S220150819T141046_20150819T141044_T21MYT</span></li><li><span class='ee-k'>system:time_start:</span><span class='ee-v'>1439993444000</span></li></ul></li></ul></li><li><label class='ee-shut'>4: Image projects/ee-curuai/assets/Py6S/S2/s2_py6s/BOA_S220150819T141046_20160928T053642_T21MXT (8 bands)<input type='checkbox' class='ee-toggle'></label><ul><li><span class='ee-k'>type:</span><span class='ee-v'>Image</span></li><li><span class='ee-k'>id:</span><span class='ee-v'>projects/ee-curuai/assets/Py6S/S2/s2_py6s/BOA_S220150819T141046_20160928T053642_T21MXT</span></li><li><span class='ee-k'>version:</span><span class='ee-v'>1715565722885866</span></li><li><label class='ee-shut'>bands: List (8 elements)<input type='checkbox' class='ee-toggle'></label><ul><li><label class='ee-shut'>0: \"QA60\", float, EPSG:32721, 3864x1186 px<input type='checkbox' class='ee-toggle'></label><ul><li><span class='ee-k'>id:</span><span class='ee-v'>QA60</span></li><li><span class='ee-k'>crs:</span><span class='ee-v'>EPSG:32721</span></li><li><label class='ee-shut'>crs_transform: [30, 0, 610350, 0, -30, 9780030]<input type='checkbox' class='ee-toggle'></label><ul><li><span class='ee-k'>0:</span><span class='ee-v'>30</span></li><li><span class='ee-k'>1:</span><span class='ee-v'>0</span></li><li><span class='ee-k'>2:</span><span class='ee-v'>610350</span></li><li><span class='ee-k'>3:</span><span class='ee-v'>0</span></li><li><span class='ee-k'>4:</span><span class='ee-v'>-30</span></li><li><span class='ee-k'>5:</span><span class='ee-v'>9780030</span></li></ul></li><li><label class='ee-shut'>data_type: float<input type='checkbox' class='ee-toggle'></label><ul><li><span class='ee-k'>type:</span><span class='ee-v'>PixelType</span></li><li><span class='ee-k'>precision:</span><span class='ee-v'>float</span></li></ul></li><li><label class='ee-shut'>dimensions: [3864, 1186]<input type='checkbox' class='ee-toggle'></label><ul><li><span class='ee-k'>0:</span><span class='ee-v'>3864</span></li><li><span class='ee-k'>1:</span><span class='ee-v'>1186</span></li></ul></li></ul></li><li><label class='ee-shut'>1: \"B1\", double, EPSG:32721, 3864x1186 px<input type='checkbox' class='ee-toggle'></label><ul><li><span class='ee-k'>id:</span><span class='ee-v'>B1</span></li><li><span class='ee-k'>crs:</span><span class='ee-v'>EPSG:32721</span></li><li><label class='ee-shut'>crs_transform: [30, 0, 610350, 0, -30, 9780030]<input type='checkbox' class='ee-toggle'></label><ul><li><span class='ee-k'>0:</span><span class='ee-v'>30</span></li><li><span class='ee-k'>1:</span><span class='ee-v'>0</span></li><li><span class='ee-k'>2:</span><span class='ee-v'>610350</span></li><li><span class='ee-k'>3:</span><span class='ee-v'>0</span></li><li><span class='ee-k'>4:</span><span class='ee-v'>-30</span></li><li><span class='ee-k'>5:</span><span class='ee-v'>9780030</span></li></ul></li><li><label class='ee-shut'>data_type: double<input type='checkbox' class='ee-toggle'></label><ul><li><span class='ee-k'>type:</span><span class='ee-v'>PixelType</span></li><li><span class='ee-k'>precision:</span><span class='ee-v'>double</span></li></ul></li><li><label class='ee-shut'>dimensions: [3864, 1186]<input type='checkbox' class='ee-toggle'></label><ul><li><span class='ee-k'>0:</span><span class='ee-v'>3864</span></li><li><span class='ee-k'>1:</span><span class='ee-v'>1186</span></li></ul></li></ul></li><li><label class='ee-shut'>2: \"B2\", double, EPSG:32721, 3864x1186 px<input type='checkbox' class='ee-toggle'></label><ul><li><span class='ee-k'>id:</span><span class='ee-v'>B2</span></li><li><span class='ee-k'>crs:</span><span class='ee-v'>EPSG:32721</span></li><li><label class='ee-shut'>crs_transform: [30, 0, 610350, 0, -30, 9780030]<input type='checkbox' class='ee-toggle'></label><ul><li><span class='ee-k'>0:</span><span class='ee-v'>30</span></li><li><span class='ee-k'>1:</span><span class='ee-v'>0</span></li><li><span class='ee-k'>2:</span><span class='ee-v'>610350</span></li><li><span class='ee-k'>3:</span><span class='ee-v'>0</span></li><li><span class='ee-k'>4:</span><span class='ee-v'>-30</span></li><li><span class='ee-k'>5:</span><span class='ee-v'>9780030</span></li></ul></li><li><label class='ee-shut'>data_type: double<input type='checkbox' class='ee-toggle'></label><ul><li><span class='ee-k'>type:</span><span class='ee-v'>PixelType</span></li><li><span class='ee-k'>precision:</span><span class='ee-v'>double</span></li></ul></li><li><label class='ee-shut'>dimensions: [3864, 1186]<input type='checkbox' class='ee-toggle'></label><ul><li><span class='ee-k'>0:</span><span class='ee-v'>3864</span></li><li><span class='ee-k'>1:</span><span class='ee-v'>1186</span></li></ul></li></ul></li><li><label class='ee-shut'>3: \"B3\", double, EPSG:32721, 3864x1186 px<input type='checkbox' class='ee-toggle'></label><ul><li><span class='ee-k'>id:</span><span class='ee-v'>B3</span></li><li><span class='ee-k'>crs:</span><span class='ee-v'>EPSG:32721</span></li><li><label class='ee-shut'>crs_transform: [30, 0, 610350, 0, -30, 9780030]<input type='checkbox' class='ee-toggle'></label><ul><li><span class='ee-k'>0:</span><span class='ee-v'>30</span></li><li><span class='ee-k'>1:</span><span class='ee-v'>0</span></li><li><span class='ee-k'>2:</span><span class='ee-v'>610350</span></li><li><span class='ee-k'>3:</span><span class='ee-v'>0</span></li><li><span class='ee-k'>4:</span><span class='ee-v'>-30</span></li><li><span class='ee-k'>5:</span><span class='ee-v'>9780030</span></li></ul></li><li><label class='ee-shut'>data_type: double<input type='checkbox' class='ee-toggle'></label><ul><li><span class='ee-k'>type:</span><span class='ee-v'>PixelType</span></li><li><span class='ee-k'>precision:</span><span class='ee-v'>double</span></li></ul></li><li><label class='ee-shut'>dimensions: [3864, 1186]<input type='checkbox' class='ee-toggle'></label><ul><li><span class='ee-k'>0:</span><span class='ee-v'>3864</span></li><li><span class='ee-k'>1:</span><span class='ee-v'>1186</span></li></ul></li></ul></li><li><label class='ee-shut'>4: \"B4\", double, EPSG:32721, 3864x1186 px<input type='checkbox' class='ee-toggle'></label><ul><li><span class='ee-k'>id:</span><span class='ee-v'>B4</span></li><li><span class='ee-k'>crs:</span><span class='ee-v'>EPSG:32721</span></li><li><label class='ee-shut'>crs_transform: [30, 0, 610350, 0, -30, 9780030]<input type='checkbox' class='ee-toggle'></label><ul><li><span class='ee-k'>0:</span><span class='ee-v'>30</span></li><li><span class='ee-k'>1:</span><span class='ee-v'>0</span></li><li><span class='ee-k'>2:</span><span class='ee-v'>610350</span></li><li><span class='ee-k'>3:</span><span class='ee-v'>0</span></li><li><span class='ee-k'>4:</span><span class='ee-v'>-30</span></li><li><span class='ee-k'>5:</span><span class='ee-v'>9780030</span></li></ul></li><li><label class='ee-shut'>data_type: double<input type='checkbox' class='ee-toggle'></label><ul><li><span class='ee-k'>type:</span><span class='ee-v'>PixelType</span></li><li><span class='ee-k'>precision:</span><span class='ee-v'>double</span></li></ul></li><li><label class='ee-shut'>dimensions: [3864, 1186]<input type='checkbox' class='ee-toggle'></label><ul><li><span class='ee-k'>0:</span><span class='ee-v'>3864</span></li><li><span class='ee-k'>1:</span><span class='ee-v'>1186</span></li></ul></li></ul></li><li><label class='ee-shut'>5: \"B8\", double, EPSG:32721, 3864x1186 px<input type='checkbox' class='ee-toggle'></label><ul><li><span class='ee-k'>id:</span><span class='ee-v'>B8</span></li><li><span class='ee-k'>crs:</span><span class='ee-v'>EPSG:32721</span></li><li><label class='ee-shut'>crs_transform: [30, 0, 610350, 0, -30, 9780030]<input type='checkbox' class='ee-toggle'></label><ul><li><span class='ee-k'>0:</span><span class='ee-v'>30</span></li><li><span class='ee-k'>1:</span><span class='ee-v'>0</span></li><li><span class='ee-k'>2:</span><span class='ee-v'>610350</span></li><li><span class='ee-k'>3:</span><span class='ee-v'>0</span></li><li><span class='ee-k'>4:</span><span class='ee-v'>-30</span></li><li><span class='ee-k'>5:</span><span class='ee-v'>9780030</span></li></ul></li><li><label class='ee-shut'>data_type: double<input type='checkbox' class='ee-toggle'></label><ul><li><span class='ee-k'>type:</span><span class='ee-v'>PixelType</span></li><li><span class='ee-k'>precision:</span><span class='ee-v'>double</span></li></ul></li><li><label class='ee-shut'>dimensions: [3864, 1186]<input type='checkbox' class='ee-toggle'></label><ul><li><span class='ee-k'>0:</span><span class='ee-v'>3864</span></li><li><span class='ee-k'>1:</span><span class='ee-v'>1186</span></li></ul></li></ul></li><li><label class='ee-shut'>6: \"B11\", double, EPSG:32721, 3864x1186 px<input type='checkbox' class='ee-toggle'></label><ul><li><span class='ee-k'>id:</span><span class='ee-v'>B11</span></li><li><span class='ee-k'>crs:</span><span class='ee-v'>EPSG:32721</span></li><li><label class='ee-shut'>crs_transform: [30, 0, 610350, 0, -30, 9780030]<input type='checkbox' class='ee-toggle'></label><ul><li><span class='ee-k'>0:</span><span class='ee-v'>30</span></li><li><span class='ee-k'>1:</span><span class='ee-v'>0</span></li><li><span class='ee-k'>2:</span><span class='ee-v'>610350</span></li><li><span class='ee-k'>3:</span><span class='ee-v'>0</span></li><li><span class='ee-k'>4:</span><span class='ee-v'>-30</span></li><li><span class='ee-k'>5:</span><span class='ee-v'>9780030</span></li></ul></li><li><label class='ee-shut'>data_type: double<input type='checkbox' class='ee-toggle'></label><ul><li><span class='ee-k'>type:</span><span class='ee-v'>PixelType</span></li><li><span class='ee-k'>precision:</span><span class='ee-v'>double</span></li></ul></li><li><label class='ee-shut'>dimensions: [3864, 1186]<input type='checkbox' class='ee-toggle'></label><ul><li><span class='ee-k'>0:</span><span class='ee-v'>3864</span></li><li><span class='ee-k'>1:</span><span class='ee-v'>1186</span></li></ul></li></ul></li><li><label class='ee-shut'>7: \"B12\", double, EPSG:32721, 3864x1186 px<input type='checkbox' class='ee-toggle'></label><ul><li><span class='ee-k'>id:</span><span class='ee-v'>B12</span></li><li><span class='ee-k'>crs:</span><span class='ee-v'>EPSG:32721</span></li><li><label class='ee-shut'>crs_transform: [30, 0, 610350, 0, -30, 9780030]<input type='checkbox' class='ee-toggle'></label><ul><li><span class='ee-k'>0:</span><span class='ee-v'>30</span></li><li><span class='ee-k'>1:</span><span class='ee-v'>0</span></li><li><span class='ee-k'>2:</span><span class='ee-v'>610350</span></li><li><span class='ee-k'>3:</span><span class='ee-v'>0</span></li><li><span class='ee-k'>4:</span><span class='ee-v'>-30</span></li><li><span class='ee-k'>5:</span><span class='ee-v'>9780030</span></li></ul></li><li><label class='ee-shut'>data_type: double<input type='checkbox' class='ee-toggle'></label><ul><li><span class='ee-k'>type:</span><span class='ee-v'>PixelType</span></li><li><span class='ee-k'>precision:</span><span class='ee-v'>double</span></li></ul></li><li><label class='ee-shut'>dimensions: [3864, 1186]<input type='checkbox' class='ee-toggle'></label><ul><li><span class='ee-k'>0:</span><span class='ee-v'>3864</span></li><li><span class='ee-k'>1:</span><span class='ee-v'>1186</span></li></ul></li></ul></li></ul></li><li><label class='ee-shut'>properties: Object (80 properties)<input type='checkbox' class='ee-toggle'></label><ul><li><span class='ee-k'>AC_aerosol_optical_thickness:</span><span class='ee-v'>0.322</span></li><li><span class='ee-k'>AC_date:</span><span class='ee-v'>2015-08-19</span></li><li><span class='ee-k'>AC_ozone:</span><span class='ee-v'>0.287</span></li><li><span class='ee-k'>AC_version:</span><span class='ee-v'>py6S</span></li><li><span class='ee-k'>AC_water_vapour:</span><span class='ee-v'>4.3700000762939455</span></li><li><span class='ee-k'>CLOUDY_PIXEL_PERCENTAGE:</span><span class='ee-v'>2.3223</span></li><li><span class='ee-k'>CLOUD_COVERAGE_ASSESSMENT:</span><span class='ee-v'>2.3223</span></li><li><span class='ee-k'>DATASTRIP_ID:</span><span class='ee-v'>S2A_OPER_MSI_L1C_DS_EPA__20160928T053642_S20150819T141044_N02.04</span></li><li><span class='ee-k'>DATATAKE_IDENTIFIER:</span><span class='ee-v'>GS2A_20150819T141046_000822_N02.04</span></li><li><span class='ee-k'>DATATAKE_TYPE:</span><span class='ee-v'>INS-NOBS</span></li><li><span class='ee-k'>DEGRADED_MSI_DATA_PERCENTAGE:</span><span class='ee-v'>0</span></li><li><span class='ee-k'>ECMWF_DATA_REF:</span><span class='ee-v'>S2__OPER_AUX_ECMWFD_FAKE_19800101T000000_V19800101T000000_19800101T000000</span></li><li><span class='ee-k'>FORMAT_CORRECTNESS:</span><span class='ee-v'>FAILED</span></li><li><span class='ee-k'>FORMAT_CORRECTNESS_FLAG:</span><span class='ee-v'>FAILED</span></li><li><span class='ee-k'>GENERAL_QUALITY:</span><span class='ee-v'>PASSED</span></li><li><span class='ee-k'>GENERAL_QUALITY_FLAG:</span><span class='ee-v'>PASSED</span></li><li><span class='ee-k'>GENERATION_TIME:</span><span class='ee-v'>1475045911000</span></li><li><span class='ee-k'>GEOMETRIC_QUALITY:</span><span class='ee-v'>PASSED</span></li><li><span class='ee-k'>GEOMETRIC_QUALITY_FLAG:</span><span class='ee-v'>PASSED</span></li><li><span class='ee-k'>GRANULE_ID:</span><span class='ee-v'>S2A_OPER_MSI_L1C_TL_EPA__20160928T053642_A000822_T21MXT_N02.04</span></li><li><span class='ee-k'>GRI_FILENAME:</span><span class='ee-v'>S2A_OPER_AUX_GRI065_PDMC_20130621T120000_S20130101T000000</span></li><li><span class='ee-k'>IERS_BULLETIN_FILENAME:</span><span class='ee-v'>S2__OPER_AUX_UT1UTC_PDMC_20150813T000000_V20150814T000000_20160813T000000</span></li><li><span class='ee-k'>MEAN_INCIDENCE_AZIMUTH_ANGLE_B1:</span><span class='ee-v'>267.641497316819</span></li><li><span class='ee-k'>MEAN_INCIDENCE_AZIMUTH_ANGLE_B10:</span><span class='ee-v'>269.079421749772</span></li><li><span class='ee-k'>MEAN_INCIDENCE_AZIMUTH_ANGLE_B11:</span><span class='ee-v'>268.358429614268</span></li><li><span class='ee-k'>MEAN_INCIDENCE_AZIMUTH_ANGLE_B12:</span><span class='ee-v'>267.891698677838</span></li><li><span class='ee-k'>MEAN_INCIDENCE_AZIMUTH_ANGLE_B2:</span><span class='ee-v'>271.214285196534</span></li><li><span class='ee-k'>MEAN_INCIDENCE_AZIMUTH_ANGLE_B3:</span><span class='ee-v'>269.78290627883</span></li><li><span class='ee-k'>MEAN_INCIDENCE_AZIMUTH_ANGLE_B4:</span><span class='ee-v'>268.960040185192</span></li><li><span class='ee-k'>MEAN_INCIDENCE_AZIMUTH_ANGLE_B5:</span><span class='ee-v'>268.561521749753</span></li><li><span class='ee-k'>MEAN_INCIDENCE_AZIMUTH_ANGLE_B6:</span><span class='ee-v'>268.339781313717</span></li><li><span class='ee-k'>MEAN_INCIDENCE_AZIMUTH_ANGLE_B7:</span><span class='ee-v'>268.10279036142</span></li><li><span class='ee-k'>MEAN_INCIDENCE_AZIMUTH_ANGLE_B8:</span><span class='ee-v'>270.389527618538</span></li><li><span class='ee-k'>MEAN_INCIDENCE_AZIMUTH_ANGLE_B8A:</span><span class='ee-v'>267.974310294089</span></li><li><span class='ee-k'>MEAN_INCIDENCE_AZIMUTH_ANGLE_B9:</span><span class='ee-v'>267.562510779595</span></li><li><span class='ee-k'>MEAN_INCIDENCE_ZENITH_ANGLE_B1:</span><span class='ee-v'>5.00739066894849</span></li><li><span class='ee-k'>MEAN_INCIDENCE_ZENITH_ANGLE_B10:</span><span class='ee-v'>4.69613432610776</span></li><li><span class='ee-k'>MEAN_INCIDENCE_ZENITH_ANGLE_B11:</span><span class='ee-v'>4.81705250979139</span></li><li><span class='ee-k'>MEAN_INCIDENCE_ZENITH_ANGLE_B12:</span><span class='ee-v'>4.95827592225317</span></li><li><span class='ee-k'>MEAN_INCIDENCE_ZENITH_ANGLE_B2:</span><span class='ee-v'>4.57529010449425</span></li><li><span class='ee-k'>MEAN_INCIDENCE_ZENITH_ANGLE_B3:</span><span class='ee-v'>4.64096480819985</span></li><li><span class='ee-k'>MEAN_INCIDENCE_ZENITH_ANGLE_B4:</span><span class='ee-v'>4.72217938385735</span></li><li><span class='ee-k'>MEAN_INCIDENCE_ZENITH_ANGLE_B5:</span><span class='ee-v'>4.77027321576262</span></li><li><span class='ee-k'>MEAN_INCIDENCE_ZENITH_ANGLE_B6:</span><span class='ee-v'>4.82971733431308</span></li><li><span class='ee-k'>MEAN_INCIDENCE_ZENITH_ANGLE_B7:</span><span class='ee-v'>4.88732515896644</span></li><li><span class='ee-k'>MEAN_INCIDENCE_ZENITH_ANGLE_B8:</span><span class='ee-v'>4.60334651607671</span></li><li><span class='ee-k'>MEAN_INCIDENCE_ZENITH_ANGLE_B8A:</span><span class='ee-v'>4.95351362252479</span></li><li><span class='ee-k'>MEAN_INCIDENCE_ZENITH_ANGLE_B9:</span><span class='ee-v'>5.08140081359583</span></li><li><span class='ee-k'>MEAN_SOLAR_AZIMUTH_ANGLE:</span><span class='ee-v'>56.287527447396</span></li><li><span class='ee-k'>MEAN_SOLAR_ZENITH_ANGLE:</span><span class='ee-v'>27.5357077386184</span></li><li><span class='ee-k'>MGRS_TILE:</span><span class='ee-v'>21MXT</span></li><li><span class='ee-k'>PROCESSING_BASELINE:</span><span class='ee-v'>02.04</span></li><li><span class='ee-k'>PRODUCTION_DEM_TYPE:</span><span class='ee-v'>S2__OPER_DEM_GLOBEF_PDMC_19800101T000000_S19800101T000000</span></li><li><span class='ee-k'>PRODUCT_ID:</span><span class='ee-v'>S2A_OPER_PRD_MSIL1C_PDMC_20160928T065831_R110_V20150819T141046_20150819T141044</span></li><li><span class='ee-k'>PRODUCT_URI:</span><span class='ee-v'>S2A_OPER_MSI_L1C_TL_EPA__20160928T053642_A000822_T21MXT_N02.04</span></li><li><span class='ee-k'>RADIOMETRIC_QUALITY:</span><span class='ee-v'>PASSED</span></li><li><span class='ee-k'>RADIOMETRIC_QUALITY_FLAG:</span><span class='ee-v'>PASSED</span></li><li><span class='ee-k'>REFLECTANCE_CONVERSION_CORRECTION:</span><span class='ee-v'>0.975305483290767</span></li><li><span class='ee-k'>SENSING_ORBIT_DIRECTION:</span><span class='ee-v'>DESCENDING</span></li><li><span class='ee-k'>SENSING_ORBIT_NUMBER:</span><span class='ee-v'>110</span></li><li><span class='ee-k'>SENSOR_QUALITY:</span><span class='ee-v'>PASSED</span></li><li><span class='ee-k'>SENSOR_QUALITY_FLAG:</span><span class='ee-v'>PASSED</span></li><li><span class='ee-k'>SOLAR_IRRADIANCE_B1:</span><span class='ee-v'>1913.57</span></li><li><span class='ee-k'>SOLAR_IRRADIANCE_B10:</span><span class='ee-v'>367.15</span></li><li><span class='ee-k'>SOLAR_IRRADIANCE_B11:</span><span class='ee-v'>245.59</span></li><li><span class='ee-k'>SOLAR_IRRADIANCE_B12:</span><span class='ee-v'>85.25</span></li><li><span class='ee-k'>SOLAR_IRRADIANCE_B2:</span><span class='ee-v'>1941.63</span></li><li><span class='ee-k'>SOLAR_IRRADIANCE_B3:</span><span class='ee-v'>1822.61</span></li><li><span class='ee-k'>SOLAR_IRRADIANCE_B4:</span><span class='ee-v'>1512.79</span></li><li><span class='ee-k'>SOLAR_IRRADIANCE_B5:</span><span class='ee-v'>1425.56</span></li><li><span class='ee-k'>SOLAR_IRRADIANCE_B6:</span><span class='ee-v'>1288.32</span></li><li><span class='ee-k'>SOLAR_IRRADIANCE_B7:</span><span class='ee-v'>1163.19</span></li><li><span class='ee-k'>SOLAR_IRRADIANCE_B8:</span><span class='ee-v'>1036.39</span></li><li><span class='ee-k'>SOLAR_IRRADIANCE_B8A:</span><span class='ee-v'>955.19</span></li><li><span class='ee-k'>SOLAR_IRRADIANCE_B9:</span><span class='ee-v'>813.04</span></li><li><span class='ee-k'>SPACECRAFT_NAME:</span><span class='ee-v'>Sentinel-2A</span></li><li><span class='ee-k'>system:asset_size:</span><span class='ee-v'>84455002</span></li><li><label class='ee-shut'>system:footprint: LinearRing (19 vertices)<input type='checkbox' class='ee-toggle'></label><ul><li><span class='ee-k'>type:</span><span class='ee-v'>LinearRing</span></li><li><label class='ee-shut'>coordinates: List (19 elements)<input type='checkbox' class='ee-toggle'></label><ul><li><label class='ee-shut'>0: [-56.00790099168393, -1.9899313951966122]<input type='checkbox' class='ee-toggle'></label><ul><li><span class='ee-k'>0:</span><span class='ee-v'>-56.00790099168393</span></li><li><span class='ee-k'>1:</span><span class='ee-v'>-1.9899313951966122</span></li></ul></li><li><label class='ee-shut'>1: [-56.00790303255488, -1.9899651372103422]<input type='checkbox' class='ee-toggle'></label><ul><li><span class='ee-k'>0:</span><span class='ee-v'>-56.00790303255488</span></li><li><span class='ee-k'>1:</span><span class='ee-v'>-1.9899651372103422</span></li></ul></li><li><label class='ee-shut'>2: [-56.007695289133245, -2.311543999976785]<input type='checkbox' class='ee-toggle'></label><ul><li><span class='ee-k'>0:</span><span class='ee-v'>-56.007695289133245</span></li><li><span class='ee-k'>1:</span><span class='ee-v'>-2.311543999976785</span></li></ul></li><li><label class='ee-shut'>3: [-56.00758542256164, -2.311668371300401]<input type='checkbox' class='ee-toggle'></label><ul><li><span class='ee-k'>0:</span><span class='ee-v'>-56.00758542256164</span></li><li><span class='ee-k'>1:</span><span class='ee-v'>-2.311668371300401</span></li></ul></li><li><label class='ee-shut'>4: [-56.007491968050864, -2.311805420122597]<input type='checkbox' class='ee-toggle'></label><ul><li><span class='ee-k'>0:</span><span class='ee-v'>-56.007491968050864</span></li><li><span class='ee-k'>1:</span><span class='ee-v'>-2.311805420122597</span></li></ul></li><li><label class='ee-shut'>5: [-56.007458719016846, -2.311811703970227]<input type='checkbox' class='ee-toggle'></label><ul><li><span class='ee-k'>0:</span><span class='ee-v'>-56.007458719016846</span></li><li><span class='ee-k'>1:</span><span class='ee-v'>-2.311811703970227</span></li></ul></li><li><label class='ee-shut'>6: [-56.00742495977984, -2.311813812762818]<input type='checkbox' class='ee-toggle'></label><ul><li><span class='ee-k'>0:</span><span class='ee-v'>-56.00742495977984</span></li><li><span class='ee-k'>1:</span><span class='ee-v'>-2.311813812762818</span></li></ul></li><li><label class='ee-shut'>7: [-54.965489059375095, -2.310697073459358]<input type='checkbox' class='ee-toggle'></label><ul><li><span class='ee-k'>0:</span><span class='ee-v'>-54.965489059375095</span></li><li><span class='ee-k'>1:</span><span class='ee-v'>-2.310697073459358</span></li></ul></li><li><label class='ee-shut'>8: [-54.965364694306565, -2.310587193231306]<input type='checkbox' class='ee-toggle'></label><ul><li><span class='ee-k'>0:</span><span class='ee-v'>-54.965364694306565</span></li><li><span class='ee-k'>1:</span><span class='ee-v'>-2.310587193231306</span></li></ul></li><li><label class='ee-shut'>9: [-54.96522755682257, -2.3104937772016316]<input type='checkbox' class='ee-toggle'></label><ul><li><span class='ee-k'>0:</span><span class='ee-v'>-54.96522755682257</span></li><li><span class='ee-k'>1:</span><span class='ee-v'>-2.3104937772016316</span></li></ul></li><li><label class='ee-shut'>10: [-54.96521915379773, -2.310449360521862]<input type='checkbox' class='ee-toggle'></label><ul><li><span class='ee-k'>0:</span><span class='ee-v'>-54.96521915379773</span></li><li><span class='ee-k'>1:</span><span class='ee-v'>-2.310449360521862</span></li></ul></li><li><label class='ee-shut'>11: [-54.96564502015339, -1.989003396395678]<input type='checkbox' class='ee-toggle'></label><ul><li><span class='ee-k'>0:</span><span class='ee-v'>-54.96564502015339</span></li><li><span class='ee-k'>1:</span><span class='ee-v'>-1.989003396395678</span></li></ul></li><li><label class='ee-shut'>12: [-54.96575493234115, -1.9888791171772373]<input type='checkbox' class='ee-toggle'></label><ul><li><span class='ee-k'>0:</span><span class='ee-v'>-54.96575493234115</span></li><li><span class='ee-k'>1:</span><span class='ee-v'>-1.9888791171772373</span></li></ul></li><li><label class='ee-shut'>13: [-54.96584845865072, -1.9887421460016503]<input type='checkbox' class='ee-toggle'></label><ul><li><span class='ee-k'>0:</span><span class='ee-v'>-54.96584845865072</span></li><li><span class='ee-k'>1:</span><span class='ee-v'>-1.9887421460016503</span></li></ul></li><li><label class='ee-shut'>14: [-54.965892826963334, -1.988733772966659]<input type='checkbox' class='ee-toggle'></label><ul><li><span class='ee-k'>0:</span><span class='ee-v'>-54.965892826963334</span></li><li><span class='ee-k'>1:</span><span class='ee-v'>-1.988733772966659</span></li></ul></li><li><label class='ee-shut'>15: [-56.0076331277673, -1.9896950199386851]<input type='checkbox' class='ee-toggle'></label><ul><li><span class='ee-k'>0:</span><span class='ee-v'>-56.0076331277673</span></li><li><span class='ee-k'>1:</span><span class='ee-v'>-1.9896950199386851</span></li></ul></li><li><label class='ee-shut'>16: [-56.00775753557763, -1.9898048265148425]<input type='checkbox' class='ee-toggle'></label><ul><li><span class='ee-k'>0:</span><span class='ee-v'>-56.00775753557763</span></li><li><span class='ee-k'>1:</span><span class='ee-v'>-1.9898048265148425</span></li></ul></li><li><label class='ee-shut'>17: [-56.00789469899878, -1.9898981788466987]<input type='checkbox' class='ee-toggle'></label><ul><li><span class='ee-k'>0:</span><span class='ee-v'>-56.00789469899878</span></li><li><span class='ee-k'>1:</span><span class='ee-v'>-1.9898981788466987</span></li></ul></li><li><label class='ee-shut'>18: [-56.00790099168393, -1.9899313951966122]<input type='checkbox' class='ee-toggle'></label><ul><li><span class='ee-k'>0:</span><span class='ee-v'>-56.00790099168393</span></li><li><span class='ee-k'>1:</span><span class='ee-v'>-1.9899313951966122</span></li></ul></li></ul></li></ul></li><li><span class='ee-k'>system:index:</span><span class='ee-v'>BOA_S220150819T141046_20160928T053642_T21MXT</span></li><li><span class='ee-k'>system:time_start:</span><span class='ee-v'>1439993444464</span></li></ul></li></ul></li></ul></li></ul></li></ul></div><script>function toggleHeader() {\n",
              "    const parent = this.parentElement;\n",
              "    parent.className = parent.className === \"ee-open\" ? \"ee-shut\" : \"ee-open\";\n",
              "}\n",
              "\n",
              "for (let c of document.getElementsByClassName(\"ee-toggle\")) {\n",
              "    c.onclick = toggleHeader;\n",
              "}</script></div>"
            ]
          },
          "metadata": {},
          "execution_count": 36
        }
      ]
    },
    {
      "cell_type": "markdown",
      "metadata": {
        "id": "J2htEP504MqZ"
      },
      "source": [
        "## Padronize band names"
      ]
    },
    {
      "cell_type": "code",
      "source": [
        "name_bands = ['blue','green','red','nir','swir1','swir2']"
      ],
      "metadata": {
        "id": "MHYG0hUY0qUg",
        "outputId": "4547142d-7b85-4f1c-8512-e7293e581803",
        "colab": {
          "base_uri": "https://localhost:8080/",
          "height": 17
        }
      },
      "execution_count": 37,
      "outputs": [
        {
          "output_type": "display_data",
          "data": {
            "text/plain": [
              "<IPython.core.display.HTML object>"
            ],
            "text/html": [
              "\n",
              "            <style>\n",
              "                .geemap-dark {\n",
              "                    --jp-widgets-color: white;\n",
              "                    --jp-widgets-label-color: white;\n",
              "                    --jp-ui-font-color1: white;\n",
              "                    --jp-layout-color2: #454545;\n",
              "                    background-color: #383838;\n",
              "                }\n",
              "\n",
              "                .geemap-dark .jupyter-button {\n",
              "                    --jp-layout-color3: #383838;\n",
              "                }\n",
              "\n",
              "                .geemap-colab {\n",
              "                    background-color: var(--colab-primary-surface-color, white);\n",
              "                }\n",
              "\n",
              "                .geemap-colab .jupyter-button {\n",
              "                    --jp-layout-color3: var(--colab-primary-surface-color, white);\n",
              "                }\n",
              "            </style>\n",
              "            "
            ]
          },
          "metadata": {}
        }
      ]
    },
    {
      "cell_type": "markdown",
      "source": [
        "###Landsat 7"
      ],
      "metadata": {
        "id": "ldY14EKe8wHK"
      }
    },
    {
      "cell_type": "code",
      "execution_count": 38,
      "metadata": {
        "id": "_OVbYj3AA-P0",
        "outputId": "d515b4b6-3b59-494f-9471-766c06c2e891",
        "colab": {
          "base_uri": "https://localhost:8080/",
          "height": 17
        }
      },
      "outputs": [
        {
          "output_type": "display_data",
          "data": {
            "text/plain": [
              "<IPython.core.display.HTML object>"
            ],
            "text/html": [
              "\n",
              "            <style>\n",
              "                .geemap-dark {\n",
              "                    --jp-widgets-color: white;\n",
              "                    --jp-widgets-label-color: white;\n",
              "                    --jp-ui-font-color1: white;\n",
              "                    --jp-layout-color2: #454545;\n",
              "                    background-color: #383838;\n",
              "                }\n",
              "\n",
              "                .geemap-dark .jupyter-button {\n",
              "                    --jp-layout-color3: #383838;\n",
              "                }\n",
              "\n",
              "                .geemap-colab {\n",
              "                    background-color: var(--colab-primary-surface-color, white);\n",
              "                }\n",
              "\n",
              "                .geemap-colab .jupyter-button {\n",
              "                    --jp-layout-color3: var(--colab-primary-surface-color, white);\n",
              "                }\n",
              "            </style>\n",
              "            "
            ]
          },
          "metadata": {}
        }
      ],
      "source": [
        "#renomear bandas\n",
        "ld7 = landsat7.map(lambda img: img.select(['B1','B2','B3','B4','B5','B7'])\\\n",
        "                        .rename(name_bands))"
      ]
    },
    {
      "cell_type": "markdown",
      "source": [
        "### Landsat 8"
      ],
      "metadata": {
        "id": "bFtU5-f58jdt"
      }
    },
    {
      "cell_type": "code",
      "source": [
        "ld8 = landsat8.map(lambda img: img.select(['B2','B3','B4','B5','B6','B7'])\\\n",
        "                        .rename(name_bands))"
      ],
      "metadata": {
        "id": "-Rw8JGNKPLda",
        "colab": {
          "base_uri": "https://localhost:8080/",
          "height": 17
        },
        "outputId": "5542c635-f77f-4164-f8eb-8fcbc21dca1b"
      },
      "execution_count": 39,
      "outputs": [
        {
          "output_type": "display_data",
          "data": {
            "text/plain": [
              "<IPython.core.display.HTML object>"
            ],
            "text/html": [
              "\n",
              "            <style>\n",
              "                .geemap-dark {\n",
              "                    --jp-widgets-color: white;\n",
              "                    --jp-widgets-label-color: white;\n",
              "                    --jp-ui-font-color1: white;\n",
              "                    --jp-layout-color2: #454545;\n",
              "                    background-color: #383838;\n",
              "                }\n",
              "\n",
              "                .geemap-dark .jupyter-button {\n",
              "                    --jp-layout-color3: #383838;\n",
              "                }\n",
              "\n",
              "                .geemap-colab {\n",
              "                    background-color: var(--colab-primary-surface-color, white);\n",
              "                }\n",
              "\n",
              "                .geemap-colab .jupyter-button {\n",
              "                    --jp-layout-color3: var(--colab-primary-surface-color, white);\n",
              "                }\n",
              "            </style>\n",
              "            "
            ]
          },
          "metadata": {}
        }
      ]
    },
    {
      "cell_type": "markdown",
      "source": [
        "### Sentinel 2"
      ],
      "metadata": {
        "id": "LYjFFtSs8tSX"
      }
    },
    {
      "cell_type": "code",
      "source": [
        "s2 = sentinel2.map(lambda img: img.select(['B2','B3','B4','B8','B11','B12'])\\\n",
        "                        .rename(name_bands))\n"
      ],
      "metadata": {
        "id": "lXnxSFb-Lq0Z",
        "colab": {
          "base_uri": "https://localhost:8080/",
          "height": 17
        },
        "outputId": "2dc356d7-0856-492b-fe1e-35b559d48423"
      },
      "execution_count": 40,
      "outputs": [
        {
          "output_type": "display_data",
          "data": {
            "text/plain": [
              "<IPython.core.display.HTML object>"
            ],
            "text/html": [
              "\n",
              "            <style>\n",
              "                .geemap-dark {\n",
              "                    --jp-widgets-color: white;\n",
              "                    --jp-widgets-label-color: white;\n",
              "                    --jp-ui-font-color1: white;\n",
              "                    --jp-layout-color2: #454545;\n",
              "                    background-color: #383838;\n",
              "                }\n",
              "\n",
              "                .geemap-dark .jupyter-button {\n",
              "                    --jp-layout-color3: #383838;\n",
              "                }\n",
              "\n",
              "                .geemap-colab {\n",
              "                    background-color: var(--colab-primary-surface-color, white);\n",
              "                }\n",
              "\n",
              "                .geemap-colab .jupyter-button {\n",
              "                    --jp-layout-color3: var(--colab-primary-surface-color, white);\n",
              "                }\n",
              "            </style>\n",
              "            "
            ]
          },
          "metadata": {}
        }
      ]
    },
    {
      "cell_type": "code",
      "source": [
        "ld8.first()"
      ],
      "metadata": {
        "id": "GIgv6H-dhDid",
        "outputId": "871e9717-18e9-4179-91d2-4b2e34f96717",
        "colab": {
          "base_uri": "https://localhost:8080/",
          "height": 68
        }
      },
      "execution_count": 41,
      "outputs": [
        {
          "output_type": "display_data",
          "data": {
            "text/plain": [
              "<IPython.core.display.HTML object>"
            ],
            "text/html": [
              "\n",
              "            <style>\n",
              "                .geemap-dark {\n",
              "                    --jp-widgets-color: white;\n",
              "                    --jp-widgets-label-color: white;\n",
              "                    --jp-ui-font-color1: white;\n",
              "                    --jp-layout-color2: #454545;\n",
              "                    background-color: #383838;\n",
              "                }\n",
              "\n",
              "                .geemap-dark .jupyter-button {\n",
              "                    --jp-layout-color3: #383838;\n",
              "                }\n",
              "\n",
              "                .geemap-colab {\n",
              "                    background-color: var(--colab-primary-surface-color, white);\n",
              "                }\n",
              "\n",
              "                .geemap-colab .jupyter-button {\n",
              "                    --jp-layout-color3: var(--colab-primary-surface-color, white);\n",
              "                }\n",
              "            </style>\n",
              "            "
            ]
          },
          "metadata": {}
        },
        {
          "output_type": "execute_result",
          "data": {
            "text/plain": [
              "<ee.image.Image at 0x7cfa2b202500>"
            ],
            "text/html": [
              "<div><style>:root {\n",
              "  --font-color-primary: var(--jp-content-font-color0, rgba(0, 0, 0, 1));\n",
              "  --font-color-secondary: var(--jp-content-font-color2, rgba(0, 0, 0, 0.6));\n",
              "  --font-color-accent: rgba(123, 31, 162, 1);\n",
              "  --border-color: var(--jp-border-color2, #e0e0e0);\n",
              "  --background-color: var(--jp-layout-color0, white);\n",
              "  --background-color-row-even: var(--jp-layout-color1, white);\n",
              "  --background-color-row-odd: var(--jp-layout-color2, #eeeeee);\n",
              "}\n",
              "\n",
              "html[theme=\"dark\"],\n",
              "body[data-theme=\"dark\"],\n",
              "body.vscode-dark {\n",
              "  --font-color-primary: rgba(255, 255, 255, 1);\n",
              "  --font-color-secondary: rgba(255, 255, 255, 0.6);\n",
              "  --font-color-accent: rgb(173, 132, 190);\n",
              "  --border-color: #2e2e2e;\n",
              "  --background-color: #111111;\n",
              "  --background-color-row-even: #111111;\n",
              "  --background-color-row-odd: #313131;\n",
              "}\n",
              "\n",
              ".ee {\n",
              "  padding: 1em;\n",
              "  line-height: 1.5em;\n",
              "  min-width: 300px;\n",
              "  max-width: 1200px;\n",
              "  overflow-y: scroll;\n",
              "  max-height: 600px;\n",
              "  border: 1px solid var(--border-color);\n",
              "  font-family: monospace;\n",
              "}\n",
              "\n",
              ".ee li {\n",
              "  list-style-type: none;\n",
              "}\n",
              "\n",
              ".ee ul {\n",
              "  padding-left: 1.5em !important;\n",
              "  margin: 0;\n",
              "}\n",
              "\n",
              ".ee > ul {\n",
              "  padding-left: 0 !important;\n",
              "}\n",
              "\n",
              ".ee-open,\n",
              ".ee-shut {\n",
              "  color: var(--font-color-secondary);\n",
              "  cursor: pointer;\n",
              "  margin: 0;\n",
              "}\n",
              "\n",
              ".ee-open:hover,\n",
              ".ee-shut:hover {\n",
              "  color: var(--font-color-primary);\n",
              "}\n",
              "\n",
              ".ee-k {\n",
              "  color: var(--font-color-accent);\n",
              "  margin-right: 6px;\n",
              "}\n",
              "\n",
              ".ee-v {\n",
              "  color: var(--font-color-primary);\n",
              "}\n",
              "\n",
              ".ee-toggle {\n",
              "  display: none;\n",
              "}\n",
              "\n",
              ".ee-shut + ul {\n",
              "  display: none;\n",
              "}\n",
              "\n",
              ".ee-open + ul {\n",
              "  display: block;\n",
              "}\n",
              "\n",
              ".ee-shut::before {\n",
              "  display: inline-block;\n",
              "  content: \"▼\";\n",
              "  margin-right: 6px;\n",
              "  transform: rotate(-90deg);\n",
              "  transition: transform 0.2s;\n",
              "}\n",
              "\n",
              ".ee-open::before {\n",
              "  transform: rotate(0deg);\n",
              "  display: inline-block;\n",
              "  content: \"▼\";\n",
              "  margin-right: 6px;\n",
              "  transition: transform 0.2s;\n",
              "}\n",
              "</style><div class='ee'><ul><li><label class='ee-shut'>Image projects/ee-curuai/assets/Py6S/LD8/ld8_py6s/BOA_LC08_227062_20130520 (6 bands)<input type='checkbox' class='ee-toggle'></label><ul><li><span class='ee-k'>type:</span><span class='ee-v'>Image</span></li><li><span class='ee-k'>id:</span><span class='ee-v'>projects/ee-curuai/assets/Py6S/LD8/ld8_py6s/BOA_LC08_227062_20130520</span></li><li><span class='ee-k'>version:</span><span class='ee-v'>1715545728405639</span></li><li><label class='ee-shut'>bands: List (6 elements)<input type='checkbox' class='ee-toggle'></label><ul><li><label class='ee-shut'>0: \"blue\", double, EPSG:32721, 3864x1186 px<input type='checkbox' class='ee-toggle'></label><ul><li><span class='ee-k'>id:</span><span class='ee-v'>blue</span></li><li><span class='ee-k'>crs:</span><span class='ee-v'>EPSG:32721</span></li><li><label class='ee-shut'>crs_transform: [30, 0, 610350, 0, -30, 9780030]<input type='checkbox' class='ee-toggle'></label><ul><li><span class='ee-k'>0:</span><span class='ee-v'>30</span></li><li><span class='ee-k'>1:</span><span class='ee-v'>0</span></li><li><span class='ee-k'>2:</span><span class='ee-v'>610350</span></li><li><span class='ee-k'>3:</span><span class='ee-v'>0</span></li><li><span class='ee-k'>4:</span><span class='ee-v'>-30</span></li><li><span class='ee-k'>5:</span><span class='ee-v'>9780030</span></li></ul></li><li><label class='ee-shut'>data_type: double<input type='checkbox' class='ee-toggle'></label><ul><li><span class='ee-k'>type:</span><span class='ee-v'>PixelType</span></li><li><span class='ee-k'>precision:</span><span class='ee-v'>double</span></li></ul></li><li><label class='ee-shut'>dimensions: [3864, 1186]<input type='checkbox' class='ee-toggle'></label><ul><li><span class='ee-k'>0:</span><span class='ee-v'>3864</span></li><li><span class='ee-k'>1:</span><span class='ee-v'>1186</span></li></ul></li></ul></li><li><label class='ee-shut'>1: \"green\", double, EPSG:32721, 3864x1186 px<input type='checkbox' class='ee-toggle'></label><ul><li><span class='ee-k'>id:</span><span class='ee-v'>green</span></li><li><span class='ee-k'>crs:</span><span class='ee-v'>EPSG:32721</span></li><li><label class='ee-shut'>crs_transform: [30, 0, 610350, 0, -30, 9780030]<input type='checkbox' class='ee-toggle'></label><ul><li><span class='ee-k'>0:</span><span class='ee-v'>30</span></li><li><span class='ee-k'>1:</span><span class='ee-v'>0</span></li><li><span class='ee-k'>2:</span><span class='ee-v'>610350</span></li><li><span class='ee-k'>3:</span><span class='ee-v'>0</span></li><li><span class='ee-k'>4:</span><span class='ee-v'>-30</span></li><li><span class='ee-k'>5:</span><span class='ee-v'>9780030</span></li></ul></li><li><label class='ee-shut'>data_type: double<input type='checkbox' class='ee-toggle'></label><ul><li><span class='ee-k'>type:</span><span class='ee-v'>PixelType</span></li><li><span class='ee-k'>precision:</span><span class='ee-v'>double</span></li></ul></li><li><label class='ee-shut'>dimensions: [3864, 1186]<input type='checkbox' class='ee-toggle'></label><ul><li><span class='ee-k'>0:</span><span class='ee-v'>3864</span></li><li><span class='ee-k'>1:</span><span class='ee-v'>1186</span></li></ul></li></ul></li><li><label class='ee-shut'>2: \"red\", double, EPSG:32721, 3864x1186 px<input type='checkbox' class='ee-toggle'></label><ul><li><span class='ee-k'>id:</span><span class='ee-v'>red</span></li><li><span class='ee-k'>crs:</span><span class='ee-v'>EPSG:32721</span></li><li><label class='ee-shut'>crs_transform: [30, 0, 610350, 0, -30, 9780030]<input type='checkbox' class='ee-toggle'></label><ul><li><span class='ee-k'>0:</span><span class='ee-v'>30</span></li><li><span class='ee-k'>1:</span><span class='ee-v'>0</span></li><li><span class='ee-k'>2:</span><span class='ee-v'>610350</span></li><li><span class='ee-k'>3:</span><span class='ee-v'>0</span></li><li><span class='ee-k'>4:</span><span class='ee-v'>-30</span></li><li><span class='ee-k'>5:</span><span class='ee-v'>9780030</span></li></ul></li><li><label class='ee-shut'>data_type: double<input type='checkbox' class='ee-toggle'></label><ul><li><span class='ee-k'>type:</span><span class='ee-v'>PixelType</span></li><li><span class='ee-k'>precision:</span><span class='ee-v'>double</span></li></ul></li><li><label class='ee-shut'>dimensions: [3864, 1186]<input type='checkbox' class='ee-toggle'></label><ul><li><span class='ee-k'>0:</span><span class='ee-v'>3864</span></li><li><span class='ee-k'>1:</span><span class='ee-v'>1186</span></li></ul></li></ul></li><li><label class='ee-shut'>3: \"nir\", double, EPSG:32721, 3864x1186 px<input type='checkbox' class='ee-toggle'></label><ul><li><span class='ee-k'>id:</span><span class='ee-v'>nir</span></li><li><span class='ee-k'>crs:</span><span class='ee-v'>EPSG:32721</span></li><li><label class='ee-shut'>crs_transform: [30, 0, 610350, 0, -30, 9780030]<input type='checkbox' class='ee-toggle'></label><ul><li><span class='ee-k'>0:</span><span class='ee-v'>30</span></li><li><span class='ee-k'>1:</span><span class='ee-v'>0</span></li><li><span class='ee-k'>2:</span><span class='ee-v'>610350</span></li><li><span class='ee-k'>3:</span><span class='ee-v'>0</span></li><li><span class='ee-k'>4:</span><span class='ee-v'>-30</span></li><li><span class='ee-k'>5:</span><span class='ee-v'>9780030</span></li></ul></li><li><label class='ee-shut'>data_type: double<input type='checkbox' class='ee-toggle'></label><ul><li><span class='ee-k'>type:</span><span class='ee-v'>PixelType</span></li><li><span class='ee-k'>precision:</span><span class='ee-v'>double</span></li></ul></li><li><label class='ee-shut'>dimensions: [3864, 1186]<input type='checkbox' class='ee-toggle'></label><ul><li><span class='ee-k'>0:</span><span class='ee-v'>3864</span></li><li><span class='ee-k'>1:</span><span class='ee-v'>1186</span></li></ul></li></ul></li><li><label class='ee-shut'>4: \"swir1\", double, EPSG:32721, 3864x1186 px<input type='checkbox' class='ee-toggle'></label><ul><li><span class='ee-k'>id:</span><span class='ee-v'>swir1</span></li><li><span class='ee-k'>crs:</span><span class='ee-v'>EPSG:32721</span></li><li><label class='ee-shut'>crs_transform: [30, 0, 610350, 0, -30, 9780030]<input type='checkbox' class='ee-toggle'></label><ul><li><span class='ee-k'>0:</span><span class='ee-v'>30</span></li><li><span class='ee-k'>1:</span><span class='ee-v'>0</span></li><li><span class='ee-k'>2:</span><span class='ee-v'>610350</span></li><li><span class='ee-k'>3:</span><span class='ee-v'>0</span></li><li><span class='ee-k'>4:</span><span class='ee-v'>-30</span></li><li><span class='ee-k'>5:</span><span class='ee-v'>9780030</span></li></ul></li><li><label class='ee-shut'>data_type: double<input type='checkbox' class='ee-toggle'></label><ul><li><span class='ee-k'>type:</span><span class='ee-v'>PixelType</span></li><li><span class='ee-k'>precision:</span><span class='ee-v'>double</span></li></ul></li><li><label class='ee-shut'>dimensions: [3864, 1186]<input type='checkbox' class='ee-toggle'></label><ul><li><span class='ee-k'>0:</span><span class='ee-v'>3864</span></li><li><span class='ee-k'>1:</span><span class='ee-v'>1186</span></li></ul></li></ul></li><li><label class='ee-shut'>5: \"swir2\", double, EPSG:32721, 3864x1186 px<input type='checkbox' class='ee-toggle'></label><ul><li><span class='ee-k'>id:</span><span class='ee-v'>swir2</span></li><li><span class='ee-k'>crs:</span><span class='ee-v'>EPSG:32721</span></li><li><label class='ee-shut'>crs_transform: [30, 0, 610350, 0, -30, 9780030]<input type='checkbox' class='ee-toggle'></label><ul><li><span class='ee-k'>0:</span><span class='ee-v'>30</span></li><li><span class='ee-k'>1:</span><span class='ee-v'>0</span></li><li><span class='ee-k'>2:</span><span class='ee-v'>610350</span></li><li><span class='ee-k'>3:</span><span class='ee-v'>0</span></li><li><span class='ee-k'>4:</span><span class='ee-v'>-30</span></li><li><span class='ee-k'>5:</span><span class='ee-v'>9780030</span></li></ul></li><li><label class='ee-shut'>data_type: double<input type='checkbox' class='ee-toggle'></label><ul><li><span class='ee-k'>type:</span><span class='ee-v'>PixelType</span></li><li><span class='ee-k'>precision:</span><span class='ee-v'>double</span></li></ul></li><li><label class='ee-shut'>dimensions: [3864, 1186]<input type='checkbox' class='ee-toggle'></label><ul><li><span class='ee-k'>0:</span><span class='ee-v'>3864</span></li><li><span class='ee-k'>1:</span><span class='ee-v'>1186</span></li></ul></li></ul></li></ul></li><li><label class='ee-shut'>properties: Object (115 properties)<input type='checkbox' class='ee-toggle'></label><ul><li><span class='ee-k'>AC_aerosol_optical_thickness:</span><span class='ee-v'>0.251</span></li><li><span class='ee-k'>AC_date:</span><span class='ee-v'>2013-05-20</span></li><li><span class='ee-k'>AC_ozone:</span><span class='ee-v'>0.253</span></li><li><span class='ee-k'>AC_version:</span><span class='ee-v'>py6S</span></li><li><span class='ee-k'>AC_water_vapour:</span><span class='ee-v'>4.9</span></li><li><span class='ee-k'>CLOUD_COVER:</span><span class='ee-v'>57.72</span></li><li><span class='ee-k'>CLOUD_COVER_LAND:</span><span class='ee-v'>57.72</span></li><li><span class='ee-k'>COLLECTION_CATEGORY:</span><span class='ee-v'>T1</span></li><li><span class='ee-k'>COLLECTION_NUMBER:</span><span class='ee-v'>2</span></li><li><span class='ee-k'>DATA_SOURCE_ELEVATION:</span><span class='ee-v'>GLS2000</span></li><li><span class='ee-k'>DATA_SOURCE_TIRS_STRAY_LIGHT_CORRECTION:</span><span class='ee-v'>TIRS</span></li><li><span class='ee-k'>DATE_ACQUIRED:</span><span class='ee-v'>2013-05-20</span></li><li><span class='ee-k'>DATE_PRODUCT_GENERATED:</span><span class='ee-v'>1599944871000</span></li><li><span class='ee-k'>DATUM:</span><span class='ee-v'>WGS84</span></li><li><span class='ee-k'>EARTH_SUN_DISTANCE:</span><span class='ee-v'>1.0119757</span></li><li><span class='ee-k'>ELLIPSOID:</span><span class='ee-v'>WGS84</span></li><li><span class='ee-k'>GEOMETRIC_RMSE_MODEL:</span><span class='ee-v'>8.976</span></li><li><span class='ee-k'>GEOMETRIC_RMSE_MODEL_X:</span><span class='ee-v'>6.007</span></li><li><span class='ee-k'>GEOMETRIC_RMSE_MODEL_Y:</span><span class='ee-v'>6.669</span></li><li><span class='ee-k'>GRID_CELL_SIZE_PANCHROMATIC:</span><span class='ee-v'>15</span></li><li><span class='ee-k'>GRID_CELL_SIZE_REFLECTIVE:</span><span class='ee-v'>30</span></li><li><span class='ee-k'>GRID_CELL_SIZE_THERMAL:</span><span class='ee-v'>30</span></li><li><span class='ee-k'>GROUND_CONTROL_POINTS_MODEL:</span><span class='ee-v'>110</span></li><li><span class='ee-k'>GROUND_CONTROL_POINTS_VERSION:</span><span class='ee-v'>5</span></li><li><span class='ee-k'>IMAGE_QUALITY_OLI:</span><span class='ee-v'>9</span></li><li><span class='ee-k'>IMAGE_QUALITY_TIRS:</span><span class='ee-v'>9</span></li><li><span class='ee-k'>K1_CONSTANT_BAND_10:</span><span class='ee-v'>774.8853</span></li><li><span class='ee-k'>K1_CONSTANT_BAND_11:</span><span class='ee-v'>480.8883</span></li><li><span class='ee-k'>K2_CONSTANT_BAND_10:</span><span class='ee-v'>1321.0789</span></li><li><span class='ee-k'>K2_CONSTANT_BAND_11:</span><span class='ee-v'>1201.1442</span></li><li><span class='ee-k'>LANDSAT_PRODUCT_ID:</span><span class='ee-v'>LC08_L1TP_227062_20130520_20200912_02_T1</span></li><li><span class='ee-k'>LANDSAT_SCENE_ID:</span><span class='ee-v'>LC82270622013140LGN02</span></li><li><span class='ee-k'>MAP_PROJECTION:</span><span class='ee-v'>UTM</span></li><li><span class='ee-k'>NADIR_OFFNADIR:</span><span class='ee-v'>NADIR</span></li><li><span class='ee-k'>ORIENTATION:</span><span class='ee-v'>NORTH_UP</span></li><li><span class='ee-k'>PANCHROMATIC_LINES:</span><span class='ee-v'>14621</span></li><li><span class='ee-k'>PANCHROMATIC_SAMPLES:</span><span class='ee-v'>15041</span></li><li><span class='ee-k'>PROCESSING_LEVEL:</span><span class='ee-v'>L1TP</span></li><li><span class='ee-k'>PROCESSING_SOFTWARE_VERSION:</span><span class='ee-v'>LPGS_15.3.1c</span></li><li><span class='ee-k'>RADIANCE_ADD_BAND_1:</span><span class='ee-v'>-61.30172</span></li><li><span class='ee-k'>RADIANCE_ADD_BAND_10:</span><span class='ee-v'>0.1</span></li><li><span class='ee-k'>RADIANCE_ADD_BAND_11:</span><span class='ee-v'>0.1</span></li><li><span class='ee-k'>RADIANCE_ADD_BAND_2:</span><span class='ee-v'>-62.77371</span></li><li><span class='ee-k'>RADIANCE_ADD_BAND_3:</span><span class='ee-v'>-57.84543</span></li><li><span class='ee-k'>RADIANCE_ADD_BAND_4:</span><span class='ee-v'>-48.77853</span></li><li><span class='ee-k'>RADIANCE_ADD_BAND_5:</span><span class='ee-v'>-29.85003</span></li><li><span class='ee-k'>RADIANCE_ADD_BAND_6:</span><span class='ee-v'>-7.42343</span></li><li><span class='ee-k'>RADIANCE_ADD_BAND_7:</span><span class='ee-v'>-2.50209</span></li><li><span class='ee-k'>RADIANCE_ADD_BAND_8:</span><span class='ee-v'>-55.20387</span></li><li><span class='ee-k'>RADIANCE_ADD_BAND_9:</span><span class='ee-v'>-11.66607</span></li><li><span class='ee-k'>RADIANCE_MULT_BAND_1:</span><span class='ee-v'>0.01226</span></li><li><span class='ee-k'>RADIANCE_MULT_BAND_10:</span><span class='ee-v'>0.0003342</span></li><li><span class='ee-k'>RADIANCE_MULT_BAND_11:</span><span class='ee-v'>0.0003342</span></li><li><span class='ee-k'>RADIANCE_MULT_BAND_2:</span><span class='ee-v'>0.012555</span></li><li><span class='ee-k'>RADIANCE_MULT_BAND_3:</span><span class='ee-v'>0.011569</span></li><li><span class='ee-k'>RADIANCE_MULT_BAND_4:</span><span class='ee-v'>0.0097557</span></li><li><span class='ee-k'>RADIANCE_MULT_BAND_5:</span><span class='ee-v'>0.00597</span></li><li><span class='ee-k'>RADIANCE_MULT_BAND_6:</span><span class='ee-v'>0.0014847</span></li><li><span class='ee-k'>RADIANCE_MULT_BAND_7:</span><span class='ee-v'>0.00050042</span></li><li><span class='ee-k'>RADIANCE_MULT_BAND_8:</span><span class='ee-v'>0.011041</span></li><li><span class='ee-k'>RADIANCE_MULT_BAND_9:</span><span class='ee-v'>0.0023332</span></li><li><span class='ee-k'>REFLECTANCE_ADD_BAND_1:</span><span class='ee-v'>-0.1</span></li><li><span class='ee-k'>REFLECTANCE_ADD_BAND_2:</span><span class='ee-v'>-0.1</span></li><li><span class='ee-k'>REFLECTANCE_ADD_BAND_3:</span><span class='ee-v'>-0.1</span></li><li><span class='ee-k'>REFLECTANCE_ADD_BAND_4:</span><span class='ee-v'>-0.1</span></li><li><span class='ee-k'>REFLECTANCE_ADD_BAND_5:</span><span class='ee-v'>-0.1</span></li><li><span class='ee-k'>REFLECTANCE_ADD_BAND_6:</span><span class='ee-v'>-0.1</span></li><li><span class='ee-k'>REFLECTANCE_ADD_BAND_7:</span><span class='ee-v'>-0.1</span></li><li><span class='ee-k'>REFLECTANCE_ADD_BAND_8:</span><span class='ee-v'>-0.1</span></li><li><span class='ee-k'>REFLECTANCE_ADD_BAND_9:</span><span class='ee-v'>-0.1</span></li><li><span class='ee-k'>REFLECTANCE_MULT_BAND_1:</span><span class='ee-v'>2e-05</span></li><li><span class='ee-k'>REFLECTANCE_MULT_BAND_2:</span><span class='ee-v'>2e-05</span></li><li><span class='ee-k'>REFLECTANCE_MULT_BAND_3:</span><span class='ee-v'>2e-05</span></li><li><span class='ee-k'>REFLECTANCE_MULT_BAND_4:</span><span class='ee-v'>2e-05</span></li><li><span class='ee-k'>REFLECTANCE_MULT_BAND_5:</span><span class='ee-v'>2e-05</span></li><li><span class='ee-k'>REFLECTANCE_MULT_BAND_6:</span><span class='ee-v'>2e-05</span></li><li><span class='ee-k'>REFLECTANCE_MULT_BAND_7:</span><span class='ee-v'>2e-05</span></li><li><span class='ee-k'>REFLECTANCE_MULT_BAND_8:</span><span class='ee-v'>2e-05</span></li><li><span class='ee-k'>REFLECTANCE_MULT_BAND_9:</span><span class='ee-v'>2e-05</span></li><li><span class='ee-k'>REFLECTIVE_LINES:</span><span class='ee-v'>7311</span></li><li><span class='ee-k'>REFLECTIVE_SAMPLES:</span><span class='ee-v'>7521</span></li><li><span class='ee-k'>REQUEST_ID:</span><span class='ee-v'>L2</span></li><li><span class='ee-k'>RESAMPLING_OPTION:</span><span class='ee-v'>CUBIC_CONVOLUTION</span></li><li><span class='ee-k'>ROLL_ANGLE:</span><span class='ee-v'>-0.001</span></li><li><span class='ee-k'>SATURATION_BAND_1:</span><span class='ee-v'>N</span></li><li><span class='ee-k'>SATURATION_BAND_2:</span><span class='ee-v'>Y</span></li><li><span class='ee-k'>SATURATION_BAND_3:</span><span class='ee-v'>N</span></li><li><span class='ee-k'>SATURATION_BAND_4:</span><span class='ee-v'>Y</span></li><li><span class='ee-k'>SATURATION_BAND_5:</span><span class='ee-v'>Y</span></li><li><span class='ee-k'>SATURATION_BAND_6:</span><span class='ee-v'>Y</span></li><li><span class='ee-k'>SATURATION_BAND_7:</span><span class='ee-v'>Y</span></li><li><span class='ee-k'>SATURATION_BAND_8:</span><span class='ee-v'>N</span></li><li><span class='ee-k'>SATURATION_BAND_9:</span><span class='ee-v'>N</span></li><li><span class='ee-k'>SCENE_CENTER_TIME:</span><span class='ee-v'>13:50:14.4341730Z</span></li><li><span class='ee-k'>SENSOR_ID:</span><span class='ee-v'>OLI_TIRS</span></li><li><span class='ee-k'>SPACECRAFT_ID:</span><span class='ee-v'>LANDSAT_8</span></li><li><span class='ee-k'>STATION_ID:</span><span class='ee-v'>LGN</span></li><li><span class='ee-k'>SUN_AZIMUTH:</span><span class='ee-v'>46.85122505</span></li><li><span class='ee-k'>SUN_ELEVATION:</span><span class='ee-v'>55.67979142</span></li><li><span class='ee-k'>TARGET_WRS_PATH:</span><span class='ee-v'>227</span></li><li><span class='ee-k'>TARGET_WRS_ROW:</span><span class='ee-v'>62</span></li><li><span class='ee-k'>THERMAL_LINES:</span><span class='ee-v'>7311</span></li><li><span class='ee-k'>THERMAL_SAMPLES:</span><span class='ee-v'>7521</span></li><li><span class='ee-k'>TIRS_SSM_MODEL:</span><span class='ee-v'>ACTUAL</span></li><li><span class='ee-k'>TIRS_SSM_POSITION_STATUS:</span><span class='ee-v'>NOMINAL</span></li><li><span class='ee-k'>TRUNCATION_OLI:</span><span class='ee-v'>UPPER</span></li><li><span class='ee-k'>UTM_ZONE:</span><span class='ee-v'>21</span></li><li><span class='ee-k'>WRS_PATH:</span><span class='ee-v'>227</span></li><li><span class='ee-k'>WRS_ROW:</span><span class='ee-v'>62</span></li><li><span class='ee-k'>WRS_TYPE:</span><span class='ee-v'>2</span></li><li><span class='ee-k'>system:asset_size:</span><span class='ee-v'>14724653</span></li><li><label class='ee-shut'>system:footprint: LinearRing (19 vertices)<input type='checkbox' class='ee-toggle'></label><ul><li><span class='ee-k'>type:</span><span class='ee-v'>LinearRing</span></li><li><label class='ee-shut'>coordinates: List (19 elements)<input type='checkbox' class='ee-toggle'></label><ul><li><label class='ee-shut'>0: [-56.00790099168393, -1.9899313951966122]<input type='checkbox' class='ee-toggle'></label><ul><li><span class='ee-k'>0:</span><span class='ee-v'>-56.00790099168393</span></li><li><span class='ee-k'>1:</span><span class='ee-v'>-1.9899313951966122</span></li></ul></li><li><label class='ee-shut'>1: [-56.00790303255488, -1.9899651372103422]<input type='checkbox' class='ee-toggle'></label><ul><li><span class='ee-k'>0:</span><span class='ee-v'>-56.00790303255488</span></li><li><span class='ee-k'>1:</span><span class='ee-v'>-1.9899651372103422</span></li></ul></li><li><label class='ee-shut'>2: [-56.007695289133245, -2.311543999976785]<input type='checkbox' class='ee-toggle'></label><ul><li><span class='ee-k'>0:</span><span class='ee-v'>-56.007695289133245</span></li><li><span class='ee-k'>1:</span><span class='ee-v'>-2.311543999976785</span></li></ul></li><li><label class='ee-shut'>3: [-56.00758542256164, -2.311668371300401]<input type='checkbox' class='ee-toggle'></label><ul><li><span class='ee-k'>0:</span><span class='ee-v'>-56.00758542256164</span></li><li><span class='ee-k'>1:</span><span class='ee-v'>-2.311668371300401</span></li></ul></li><li><label class='ee-shut'>4: [-56.007491968050864, -2.311805420122597]<input type='checkbox' class='ee-toggle'></label><ul><li><span class='ee-k'>0:</span><span class='ee-v'>-56.007491968050864</span></li><li><span class='ee-k'>1:</span><span class='ee-v'>-2.311805420122597</span></li></ul></li><li><label class='ee-shut'>5: [-56.007458719016846, -2.311811703970227]<input type='checkbox' class='ee-toggle'></label><ul><li><span class='ee-k'>0:</span><span class='ee-v'>-56.007458719016846</span></li><li><span class='ee-k'>1:</span><span class='ee-v'>-2.311811703970227</span></li></ul></li><li><label class='ee-shut'>6: [-56.00742495977984, -2.311813812762818]<input type='checkbox' class='ee-toggle'></label><ul><li><span class='ee-k'>0:</span><span class='ee-v'>-56.00742495977984</span></li><li><span class='ee-k'>1:</span><span class='ee-v'>-2.311813812762818</span></li></ul></li><li><label class='ee-shut'>7: [-54.965489059375095, -2.310697073459358]<input type='checkbox' class='ee-toggle'></label><ul><li><span class='ee-k'>0:</span><span class='ee-v'>-54.965489059375095</span></li><li><span class='ee-k'>1:</span><span class='ee-v'>-2.310697073459358</span></li></ul></li><li><label class='ee-shut'>8: [-54.965364694306565, -2.310587193231306]<input type='checkbox' class='ee-toggle'></label><ul><li><span class='ee-k'>0:</span><span class='ee-v'>-54.965364694306565</span></li><li><span class='ee-k'>1:</span><span class='ee-v'>-2.310587193231306</span></li></ul></li><li><label class='ee-shut'>9: [-54.96522755682257, -2.3104937772016316]<input type='checkbox' class='ee-toggle'></label><ul><li><span class='ee-k'>0:</span><span class='ee-v'>-54.96522755682257</span></li><li><span class='ee-k'>1:</span><span class='ee-v'>-2.3104937772016316</span></li></ul></li><li><label class='ee-shut'>10: [-54.96521915379773, -2.310449360521862]<input type='checkbox' class='ee-toggle'></label><ul><li><span class='ee-k'>0:</span><span class='ee-v'>-54.96521915379773</span></li><li><span class='ee-k'>1:</span><span class='ee-v'>-2.310449360521862</span></li></ul></li><li><label class='ee-shut'>11: [-54.96564502015339, -1.989003396395678]<input type='checkbox' class='ee-toggle'></label><ul><li><span class='ee-k'>0:</span><span class='ee-v'>-54.96564502015339</span></li><li><span class='ee-k'>1:</span><span class='ee-v'>-1.989003396395678</span></li></ul></li><li><label class='ee-shut'>12: [-54.96575493234115, -1.9888791171772373]<input type='checkbox' class='ee-toggle'></label><ul><li><span class='ee-k'>0:</span><span class='ee-v'>-54.96575493234115</span></li><li><span class='ee-k'>1:</span><span class='ee-v'>-1.9888791171772373</span></li></ul></li><li><label class='ee-shut'>13: [-54.96584845865072, -1.9887421460016503]<input type='checkbox' class='ee-toggle'></label><ul><li><span class='ee-k'>0:</span><span class='ee-v'>-54.96584845865072</span></li><li><span class='ee-k'>1:</span><span class='ee-v'>-1.9887421460016503</span></li></ul></li><li><label class='ee-shut'>14: [-54.965892826963334, -1.988733772966659]<input type='checkbox' class='ee-toggle'></label><ul><li><span class='ee-k'>0:</span><span class='ee-v'>-54.965892826963334</span></li><li><span class='ee-k'>1:</span><span class='ee-v'>-1.988733772966659</span></li></ul></li><li><label class='ee-shut'>15: [-56.0076331277673, -1.9896950199386851]<input type='checkbox' class='ee-toggle'></label><ul><li><span class='ee-k'>0:</span><span class='ee-v'>-56.0076331277673</span></li><li><span class='ee-k'>1:</span><span class='ee-v'>-1.9896950199386851</span></li></ul></li><li><label class='ee-shut'>16: [-56.00775753557763, -1.9898048265148425]<input type='checkbox' class='ee-toggle'></label><ul><li><span class='ee-k'>0:</span><span class='ee-v'>-56.00775753557763</span></li><li><span class='ee-k'>1:</span><span class='ee-v'>-1.9898048265148425</span></li></ul></li><li><label class='ee-shut'>17: [-56.00789469899878, -1.9898981788466987]<input type='checkbox' class='ee-toggle'></label><ul><li><span class='ee-k'>0:</span><span class='ee-v'>-56.00789469899878</span></li><li><span class='ee-k'>1:</span><span class='ee-v'>-1.9898981788466987</span></li></ul></li><li><label class='ee-shut'>18: [-56.00790099168393, -1.9899313951966122]<input type='checkbox' class='ee-toggle'></label><ul><li><span class='ee-k'>0:</span><span class='ee-v'>-56.00790099168393</span></li><li><span class='ee-k'>1:</span><span class='ee-v'>-1.9899313951966122</span></li></ul></li></ul></li></ul></li><li><span class='ee-k'>system:index:</span><span class='ee-v'>BOA_LC08_227062_20130520</span></li><li><span class='ee-k'>system:time_end:</span><span class='ee-v'>1369057814434</span></li><li><span class='ee-k'>system:time_start:</span><span class='ee-v'>1369057814434</span></li></ul></li></ul></li></ul></div><script>function toggleHeader() {\n",
              "    const parent = this.parentElement;\n",
              "    parent.className = parent.className === \"ee-open\" ? \"ee-shut\" : \"ee-open\";\n",
              "}\n",
              "\n",
              "for (let c of document.getElementsByClassName(\"ee-toggle\")) {\n",
              "    c.onclick = toggleHeader;\n",
              "}</script></div>"
            ]
          },
          "metadata": {},
          "execution_count": 41
        }
      ]
    },
    {
      "cell_type": "markdown",
      "source": [
        "# BRDF ajustment"
      ],
      "metadata": {
        "id": "NPA8Wdj9FWaA"
      }
    },
    {
      "cell_type": "markdown",
      "source": [
        "## parameters"
      ],
      "metadata": {
        "id": "Xk4n88AegY90"
      }
    },
    {
      "cell_type": "code",
      "source": [
        "PI = ee.Number(math.pi);\n",
        "MAX_SATELLITE_ZENITH = 7.5\n",
        "MAX_DISTANCE = 1000000\n",
        "UPPER_LEFT = 0\n",
        "LOWER_LEFT = 1\n",
        "LOWER_RIGHT = 2\n",
        "UPPER_RIGHT = 3"
      ],
      "metadata": {
        "id": "ebSG5F4tO1Tf",
        "outputId": "52a030fa-c7a7-42f5-a6c7-f7973f0cbce3",
        "colab": {
          "base_uri": "https://localhost:8080/",
          "height": 0
        }
      },
      "execution_count": 42,
      "outputs": [
        {
          "output_type": "display_data",
          "data": {
            "text/plain": [
              "<IPython.core.display.HTML object>"
            ],
            "text/html": [
              "\n",
              "            <style>\n",
              "                .geemap-dark {\n",
              "                    --jp-widgets-color: white;\n",
              "                    --jp-widgets-label-color: white;\n",
              "                    --jp-ui-font-color1: white;\n",
              "                    --jp-layout-color2: #454545;\n",
              "                    background-color: #383838;\n",
              "                }\n",
              "\n",
              "                .geemap-dark .jupyter-button {\n",
              "                    --jp-layout-color3: #383838;\n",
              "                }\n",
              "\n",
              "                .geemap-colab {\n",
              "                    background-color: var(--colab-primary-surface-color, white);\n",
              "                }\n",
              "\n",
              "                .geemap-colab .jupyter-button {\n",
              "                    --jp-layout-color3: var(--colab-primary-surface-color, white);\n",
              "                }\n",
              "            </style>\n",
              "            "
            ]
          },
          "metadata": {}
        }
      ]
    },
    {
      "cell_type": "markdown",
      "source": [
        "##function"
      ],
      "metadata": {
        "id": "fkVWc4czgc0m"
      }
    },
    {
      "cell_type": "code",
      "source": [
        "'''\n",
        "Creates a collection of mosaics with a given temporal interval.\n",
        "collection - the collection from which to make composites.\n",
        "start - the date of the first composite (either a string or an ee.Date)\n",
        "count - the number of composites to make\n",
        "interval - The time between composites, in units of \"units\".\n",
        "units - The units of step (day, week, month, year; see ee ee.Date.advance)\n",
        "'''\n",
        "def brdf (collection):\n",
        "\n",
        "  def line_from_coords(coordinates, fromIndex, toIndex):\n",
        "    '''\n",
        "    helper function\n",
        "    '''\n",
        "    return ee.Geometry.LineString(ee.List([\n",
        "        coordinates.get(fromIndex),\n",
        "        coordinates.get(toIndex)]))\n",
        "\n",
        "  def where(condition, trueValue, falseValue):\n",
        "    trueMasked = trueValue.mask(condition)\n",
        "    falseMasked = falseValue.mask(invertMask(condition))\n",
        "    return trueMasked.unmask(falseMasked)\n",
        "\n",
        "\n",
        "  def invertMask(mask):\n",
        "    return mask.multiply(-1).add(1)\n",
        "\n",
        "\n",
        "  def value(list,index):\n",
        "    return ee.Number(list.get(index))\n",
        "\n",
        "\n",
        "  def _kvol(sunAz, sunZen, viewAz, viewZen):\n",
        "    \"\"\"\n",
        "    Calculate kvol kernel.\n",
        "\t\t\tFrom Lucht et al. 2000\n",
        "\t\t\tPhase angle = cos(solar zenith) cos(view zenith) + sin(solar zenith) sin(view zenith) cos(relative azimuth)\n",
        "      calculate kvol and kvol0\n",
        "      sunAZ\n",
        "      sunZen\n",
        "      viewAz\n",
        "      viewZen\n",
        "    \"\"\"\n",
        "\n",
        "    relative_azimuth = sunAz.subtract(viewAz).rename(['relAz'])\n",
        "    pa1 = viewZen.cos().multiply(sunZen.cos())\n",
        "    pa2 = viewZen.sin().multiply(sunZen.sin()).multiply(relative_azimuth.cos())\n",
        "    phase_angle1 = pa1.add(pa2)\n",
        "    phase_angle = phase_angle1.acos()\n",
        "    p1 = ee.Image(PI.divide(2)).subtract(phase_angle)\n",
        "    p2 = p1.multiply(phase_angle1)\n",
        "    p3 = p2.add(phase_angle.sin())\n",
        "    p4 = sunZen.cos().add(viewZen.cos())\n",
        "    p5 = ee.Image(PI.divide(4))\n",
        "\n",
        "    kvol = p3.divide(p4).subtract(p5).rename(['kvol'])\n",
        "\n",
        "    viewZen0 = ee.Image(0)\n",
        "    pa10 = viewZen0.cos().multiply(sunZen.cos())\n",
        "    pa20 = viewZen0.sin().multiply(sunZen.sin()).multiply(relative_azimuth.cos())\n",
        "    phase_angle10 = pa10.add(pa20)\n",
        "    phase_angle0 = phase_angle10.acos()\n",
        "    p10 = ee.Image(PI.divide(2)).subtract(phase_angle0)\n",
        "    p20 = p10.multiply(phase_angle10)\n",
        "    p30 = p20.add(phase_angle0.sin())\n",
        "    p40 = sunZen.cos().add(viewZen0.cos())\n",
        "    p50 = ee.Image(PI.divide(4))\n",
        "\n",
        "    kvol0 = p30.divide(p40).subtract(p50).rename(['kvol0'])\n",
        "\n",
        "    return [kvol, kvol0]\n",
        "\n",
        "  def _correct_band(image, band_name, kvol, kvol0, f_iso, f_geo, f_vol):\n",
        "    '''\n",
        "    correct band function\n",
        "    image : the image to apply the function to\n",
        "    band_name\n",
        "    kvol\n",
        "    kvol0\n",
        "    f_iso\n",
        "    f_geo\n",
        "    f_vol\n",
        "    fiso + fvol * kvol + fgeo * kgeo\n",
        "    '''\n",
        "    iso = ee.Image(f_iso)\n",
        "    geo = ee.Image(f_geo)\n",
        "    vol = ee.Image(f_vol)\n",
        "    pred = vol.multiply(kvol).add(geo.multiply(kvol)).add(iso).rename(['pred'])\n",
        "    pred0 = vol.multiply(kvol0).add(geo.multiply(kvol0)).add(iso).rename(['pred0'])\n",
        "    cfac = pred0.divide(pred).rename(['cfac'])\n",
        "    corr = image.select(band_name).multiply(cfac).rename([band_name])\n",
        "    return corr\n",
        "\n",
        "  def _apply(image, kvol, kvol0):\n",
        "    '''\n",
        "    apply function to all bands\n",
        "    http://www.mdpi.com/2072-4292/9/12/1325/htm#sec3dot2-remotesensing-09-0\n",
        "    https://www.sciencedirect.com/science/article/pii/S0034425717302791\n",
        "    image : the image to apply the functi\n",
        "    kvol0\n",
        "    '''\n",
        "    f_iso = 0\n",
        "    f_geo = 0\n",
        "    f_vol = 0\n",
        "    blue = _correct_band(image, 'blue', kvol, kvol0, f_iso=0.0774, f_geo=0.0079, f_vol=0.0372)\n",
        "    green = _correct_band(image, 'green', kvol, kvol0, f_iso=0.1306, f_geo=0.0178, f_vol=0.0580)\n",
        "    red = _correct_band(image, 'red', kvol, kvol0, f_iso=0.1690, f_geo=0.0227, f_vol=0.0574)\n",
        "    re1 = _correct_band(image, 're1', kvol, kvol0, f_iso=0.2085, f_geo=0.0256, f_vol=0.0845)\n",
        "    re2 = _correct_band(image, 're2', kvol, kvol0, f_iso=0.2316, f_geo=0.0273, f_vol=0.1003)\n",
        "    re3 = _correct_band(image, 're3', kvol, kvol0, f_iso=0.2599, f_geo=0.0294, f_vol=0.1197)\n",
        "    nir = _correct_band(image, 'nir', kvol, kvol0, f_iso=0.3093, f_geo=0.0330, f_vol=0.1535)\n",
        "    re4 = _correct_band(image, 're4', kvol, kvol0, f_iso=0.2907, f_geo=0.0410, f_vol=0.1611)\n",
        "    swir1 = _correct_band(image, 'swir1', kvol, kvol0, f_iso=0.3430, f_geo=0.0453, f_vol=0.1154);\n",
        "    swir2 = _correct_band(image, 'swir2', kvol, kvol0, f_iso=0.2658, f_geo=0.0387, f_vol=0.0639)\n",
        "    return image.select([]).addBands([blue, green, red, nir,swir1, swir2])\n",
        "\n",
        "  def zenith(footprint):\n",
        "    '''\n",
        "    Get zenith.\n",
        "    footprint: geometry of the image\n",
        "    '''\n",
        "    leftLine = line_from_coords(footprint, UPPER_LEFT, LOWER_LEFT)\n",
        "    rightLine = line_from_coords(footprint, UPPER_RIGHT, LOWER_RIGHT)\n",
        "    leftDistance = ee.FeatureCollection(leftLine).distance(MAX_DISTANCE)\n",
        "    rightDistance = ee.FeatureCollection(rightLine).distance(MAX_DISTANCE)\n",
        "    viewZenith = rightDistance.multiply(ee.Number(MAX_SATELLITE_ZENITH * 2))\\\n",
        "          .divide(rightDistance.add(leftDistance)) \\\n",
        "          .subtract(ee.Number(MAX_SATELLITE_ZENITH)) \\\n",
        "          .clip(ee.Geometry.Polygon(footprint)) \\\n",
        "          .rename(['viewZen'])\n",
        "    return viewZenith.multiply(PI.divide(180))\n",
        "\n",
        "  def azimuth(footprint):\n",
        "    '''\n",
        "    Get azimuth.\n",
        "    footprint: geometry of the image\n",
        "    '''\n",
        "\n",
        "    def x(point):\n",
        "      return ee.Number(ee.List(point).get(0))\n",
        "    def y(point):\n",
        "      return ee.Number(ee.List(point).get(1))\n",
        "\n",
        "    upperCenter = line_from_coords(footprint, UPPER_LEFT, UPPER_RIGHT).centroid().coordinates()\n",
        "    lowerCenter = line_from_coords(footprint, LOWER_LEFT, LOWER_RIGHT).centroid().coordinates()\n",
        "    slope = ((y(lowerCenter)).subtract(y(upperCenter))).divide((x(lowerCenter)).subtract(x(upperCenter)))\n",
        "    slopePerp = ee.Number(-1).divide(slope)\n",
        "    azimuthLeft = ee.Image(PI.divide(2).subtract((slopePerp).atan()))\n",
        "    return azimuthLeft.rename(['viewAz'])\n",
        "\n",
        "  def getsunAngles(date, footprint):\n",
        "    jdp = date.getFraction('year')\n",
        "    seconds_in_hour = 3600\n",
        "    hourGMT = ee.Number(date.getRelative('second', 'day')).divide(seconds_in_hour)\n",
        "\n",
        "    latRad = ee.Image.pixelLonLat().select('latitude').multiply(PI.divide(180))\n",
        "    longDeg = ee.Image.pixelLonLat().select('longitude')\n",
        "\n",
        "    # // Julian day proportion in radians\n",
        "    jdpr = jdp.multiply(PI).multiply(2)\n",
        "\n",
        "    a = ee.List([0.000075, 0.001868, 0.032077, 0.014615, 0.040849])\n",
        "    meanSolarTime = longDeg.divide(15.0).add(ee.Number(hourGMT))\n",
        "    localSolarDiff1 = value(a, 0)\\\n",
        "            .add(value(a, 1).multiply(jdpr.cos())) \\\n",
        "            .subtract(value(a, 2).multiply(jdpr.sin())) \\\n",
        "            .subtract(value(a, 3).multiply(jdpr.multiply(2).cos())) \\\n",
        "            .subtract(value(a, 4).multiply(jdpr.multiply(2).sin()))\n",
        "\n",
        "    localSolarDiff2 = localSolarDiff1.multiply(12 * 60)\n",
        "\n",
        "    localSolarDiff = localSolarDiff2.divide(PI)\n",
        "    trueSolarTime = meanSolarTime \\\n",
        "            .add(localSolarDiff.divide(60)) \\\n",
        "            .subtract(12.0)\n",
        "\n",
        "    # // Hour as an angle;\n",
        "    ah = trueSolarTime.multiply(ee.Number(MAX_SATELLITE_ZENITH * 2).multiply(PI.divide(180)))\n",
        "    b = ee.List([0.006918, 0.399912, 0.070257, 0.006758, 0.000907, 0.002697, 0.001480])\n",
        "    delta = value(b, 0) \\\n",
        "          .subtract(value(b, 1).multiply(jdpr.cos())) \\\n",
        "          .add(value(b, 2).multiply(jdpr.sin())) \\\n",
        "          .subtract(value(b, 3).multiply(jdpr.multiply(2).cos())) \\\n",
        "          .add(value(b, 4).multiply(jdpr.multiply(2).sin())) \\\n",
        "          .subtract(value(b, 5).multiply(jdpr.multiply(3).cos())) \\\n",
        "          .add(value(b, 6).multiply(jdpr.multiply(3).sin()))\n",
        "\n",
        "    cosSunZen = latRad.sin().multiply(delta.sin()) \\\n",
        "          .add(latRad.cos().multiply(ah.cos()).multiply(delta.cos()))\n",
        "    sunZen = cosSunZen.acos()\n",
        "\n",
        "    # // sun azimuth from south, turning west\n",
        "    sinSunAzSW = ah.sin().multiply(delta.cos()).divide(sunZen.sin())\n",
        "    sinSunAzSW = sinSunAzSW.clamp(-1.0, 1.0)\n",
        "\n",
        "    cosSunAzSW = (latRad.cos().multiply(-1).multiply(delta.sin())\\\n",
        "                    .add(latRad.sin().multiply(delta.cos()).multiply(ah.cos()))) \\\n",
        "                    .divide(sunZen.sin())\n",
        "    sunAzSW = sinSunAzSW.asin()\n",
        "\n",
        "    sunAzSW = where(cosSunAzSW.lte(0), sunAzSW.multiply(-1).add(PI), sunAzSW)\n",
        "    sunAzSW = where(cosSunAzSW.gt(0).And(sinSunAzSW.lte(0)), sunAzSW.add(PI.multiply(2)), sunAzSW)\n",
        "\n",
        "    sunAz = sunAzSW.add(PI)\n",
        "    # Keep within [0, 2pi] range\n",
        "    sunAz = where(sunAz.gt(PI.multiply(2)), sunAz.subtract(PI.multiply(2)), sunAz)\n",
        "\n",
        "    footprint_polygon = ee.Geometry.Polygon(footprint)\n",
        "    sunAz = sunAz.clip(footprint_polygon)\n",
        "    sunAz = sunAz.rename(['sunAz'])\n",
        "    sunZen = sunZen.clip(footprint_polygon).rename(['sunZen'])\n",
        "\n",
        "    return [sunAz, sunZen]\n",
        "\n",
        "  def applyBRDF(image):\n",
        "    date = image.date()\n",
        "    footprint = ee.List(image.geometry().bounds().bounds().coordinates().get(0))\n",
        "    angles =  getsunAngles(date, footprint)\n",
        "    sunAz = angles[0]\n",
        "    sunZen = angles[1]\n",
        "\n",
        "    viewAz = azimuth(footprint)\n",
        "    viewZen = zenith(footprint)\n",
        "\n",
        "\n",
        "    kval = _kvol(sunAz, sunZen, viewAz, viewZen)\n",
        "    kvol = kval[0]\n",
        "    kvol0 = kval[1]\n",
        "    result = _apply(image, kvol.multiply(PI), kvol0.multiply(PI))\n",
        "\n",
        "    return result\n",
        "\n",
        "  collection = collection.map(applyBRDF)\n",
        "  return collection;\n"
      ],
      "metadata": {
        "id": "WpS0bsMvIRyB",
        "outputId": "ec0e640d-c754-4889-f437-afa69329c896",
        "colab": {
          "base_uri": "https://localhost:8080/",
          "height": 0
        }
      },
      "execution_count": 43,
      "outputs": [
        {
          "output_type": "display_data",
          "data": {
            "text/plain": [
              "<IPython.core.display.HTML object>"
            ],
            "text/html": [
              "\n",
              "            <style>\n",
              "                .geemap-dark {\n",
              "                    --jp-widgets-color: white;\n",
              "                    --jp-widgets-label-color: white;\n",
              "                    --jp-ui-font-color1: white;\n",
              "                    --jp-layout-color2: #454545;\n",
              "                    background-color: #383838;\n",
              "                }\n",
              "\n",
              "                .geemap-dark .jupyter-button {\n",
              "                    --jp-layout-color3: #383838;\n",
              "                }\n",
              "\n",
              "                .geemap-colab {\n",
              "                    background-color: var(--colab-primary-surface-color, white);\n",
              "                }\n",
              "\n",
              "                .geemap-colab .jupyter-button {\n",
              "                    --jp-layout-color3: var(--colab-primary-surface-color, white);\n",
              "                }\n",
              "            </style>\n",
              "            "
            ]
          },
          "metadata": {}
        }
      ]
    },
    {
      "cell_type": "markdown",
      "source": [
        "##apply correction"
      ],
      "metadata": {
        "id": "4Z86oZ-_ggGI"
      }
    },
    {
      "cell_type": "code",
      "source": [
        "brdf_ld7 = brdf(ld7)\n",
        "brdf_ld7.limit(2)"
      ],
      "metadata": {
        "id": "jApAUaU2alTa",
        "outputId": "c04c282b-0286-4167-ce8c-2e92f473644c",
        "colab": {
          "base_uri": "https://localhost:8080/",
          "height": 68
        }
      },
      "execution_count": 44,
      "outputs": [
        {
          "output_type": "display_data",
          "data": {
            "text/plain": [
              "<IPython.core.display.HTML object>"
            ],
            "text/html": [
              "\n",
              "            <style>\n",
              "                .geemap-dark {\n",
              "                    --jp-widgets-color: white;\n",
              "                    --jp-widgets-label-color: white;\n",
              "                    --jp-ui-font-color1: white;\n",
              "                    --jp-layout-color2: #454545;\n",
              "                    background-color: #383838;\n",
              "                }\n",
              "\n",
              "                .geemap-dark .jupyter-button {\n",
              "                    --jp-layout-color3: #383838;\n",
              "                }\n",
              "\n",
              "                .geemap-colab {\n",
              "                    background-color: var(--colab-primary-surface-color, white);\n",
              "                }\n",
              "\n",
              "                .geemap-colab .jupyter-button {\n",
              "                    --jp-layout-color3: var(--colab-primary-surface-color, white);\n",
              "                }\n",
              "            </style>\n",
              "            "
            ]
          },
          "metadata": {}
        },
        {
          "output_type": "execute_result",
          "data": {
            "text/plain": [
              "<ee.imagecollection.ImageCollection at 0x7cfa2b11e110>"
            ],
            "text/html": [
              "<div><style>:root {\n",
              "  --font-color-primary: var(--jp-content-font-color0, rgba(0, 0, 0, 1));\n",
              "  --font-color-secondary: var(--jp-content-font-color2, rgba(0, 0, 0, 0.6));\n",
              "  --font-color-accent: rgba(123, 31, 162, 1);\n",
              "  --border-color: var(--jp-border-color2, #e0e0e0);\n",
              "  --background-color: var(--jp-layout-color0, white);\n",
              "  --background-color-row-even: var(--jp-layout-color1, white);\n",
              "  --background-color-row-odd: var(--jp-layout-color2, #eeeeee);\n",
              "}\n",
              "\n",
              "html[theme=\"dark\"],\n",
              "body[data-theme=\"dark\"],\n",
              "body.vscode-dark {\n",
              "  --font-color-primary: rgba(255, 255, 255, 1);\n",
              "  --font-color-secondary: rgba(255, 255, 255, 0.6);\n",
              "  --font-color-accent: rgb(173, 132, 190);\n",
              "  --border-color: #2e2e2e;\n",
              "  --background-color: #111111;\n",
              "  --background-color-row-even: #111111;\n",
              "  --background-color-row-odd: #313131;\n",
              "}\n",
              "\n",
              ".ee {\n",
              "  padding: 1em;\n",
              "  line-height: 1.5em;\n",
              "  min-width: 300px;\n",
              "  max-width: 1200px;\n",
              "  overflow-y: scroll;\n",
              "  max-height: 600px;\n",
              "  border: 1px solid var(--border-color);\n",
              "  font-family: monospace;\n",
              "}\n",
              "\n",
              ".ee li {\n",
              "  list-style-type: none;\n",
              "}\n",
              "\n",
              ".ee ul {\n",
              "  padding-left: 1.5em !important;\n",
              "  margin: 0;\n",
              "}\n",
              "\n",
              ".ee > ul {\n",
              "  padding-left: 0 !important;\n",
              "}\n",
              "\n",
              ".ee-open,\n",
              ".ee-shut {\n",
              "  color: var(--font-color-secondary);\n",
              "  cursor: pointer;\n",
              "  margin: 0;\n",
              "}\n",
              "\n",
              ".ee-open:hover,\n",
              ".ee-shut:hover {\n",
              "  color: var(--font-color-primary);\n",
              "}\n",
              "\n",
              ".ee-k {\n",
              "  color: var(--font-color-accent);\n",
              "  margin-right: 6px;\n",
              "}\n",
              "\n",
              ".ee-v {\n",
              "  color: var(--font-color-primary);\n",
              "}\n",
              "\n",
              ".ee-toggle {\n",
              "  display: none;\n",
              "}\n",
              "\n",
              ".ee-shut + ul {\n",
              "  display: none;\n",
              "}\n",
              "\n",
              ".ee-open + ul {\n",
              "  display: block;\n",
              "}\n",
              "\n",
              ".ee-shut::before {\n",
              "  display: inline-block;\n",
              "  content: \"▼\";\n",
              "  margin-right: 6px;\n",
              "  transform: rotate(-90deg);\n",
              "  transition: transform 0.2s;\n",
              "}\n",
              "\n",
              ".ee-open::before {\n",
              "  transform: rotate(0deg);\n",
              "  display: inline-block;\n",
              "  content: \"▼\";\n",
              "  margin-right: 6px;\n",
              "  transition: transform 0.2s;\n",
              "}\n",
              "</style><div class='ee'><ul><li><label class='ee-shut'>ImageCollection projects/ee-curuai/assets/Py6S/LD7/ld7_py6s  (2 elements)<input type='checkbox' class='ee-toggle'></label><ul><li><span class='ee-k'>type:</span><span class='ee-v'>ImageCollection</span></li><li><span class='ee-k'>id:</span><span class='ee-v'>projects/ee-curuai/assets/Py6S/LD7/ld7_py6s</span></li><li><span class='ee-k'>version:</span><span class='ee-v'>1715563153459283</span></li><li><label class='ee-shut'>bands: []<input type='checkbox' class='ee-toggle'></label><ul></ul></li><li><label class='ee-shut'>features: List (2 elements)<input type='checkbox' class='ee-toggle'></label><ul><li><label class='ee-shut'>0: Image projects/ee-curuai/assets/Py6S/LD7/ld7_py6s/BOA_LE07_227062_20130512 (6 bands)<input type='checkbox' class='ee-toggle'></label><ul><li><span class='ee-k'>type:</span><span class='ee-v'>Image</span></li><li><span class='ee-k'>id:</span><span class='ee-v'>projects/ee-curuai/assets/Py6S/LD7/ld7_py6s/BOA_LE07_227062_20130512</span></li><li><span class='ee-k'>version:</span><span class='ee-v'>1715369225029068</span></li><li><label class='ee-shut'>bands: List (6 elements)<input type='checkbox' class='ee-toggle'></label><ul><li><label class='ee-shut'>0: \"blue\", double, EPSG:32721, 3865x1186 px<input type='checkbox' class='ee-toggle'></label><ul><li><span class='ee-k'>id:</span><span class='ee-v'>blue</span></li><li><span class='ee-k'>crs:</span><span class='ee-v'>EPSG:32721</span></li><li><label class='ee-shut'>crs_transform: [30, 0, 610350, 0, -30, 9780030]<input type='checkbox' class='ee-toggle'></label><ul><li><span class='ee-k'>0:</span><span class='ee-v'>30</span></li><li><span class='ee-k'>1:</span><span class='ee-v'>0</span></li><li><span class='ee-k'>2:</span><span class='ee-v'>610350</span></li><li><span class='ee-k'>3:</span><span class='ee-v'>0</span></li><li><span class='ee-k'>4:</span><span class='ee-v'>-30</span></li><li><span class='ee-k'>5:</span><span class='ee-v'>9780030</span></li></ul></li><li><label class='ee-shut'>data_type: double<input type='checkbox' class='ee-toggle'></label><ul><li><span class='ee-k'>type:</span><span class='ee-v'>PixelType</span></li><li><span class='ee-k'>precision:</span><span class='ee-v'>double</span></li></ul></li><li><label class='ee-shut'>dimensions: [3865, 1186]<input type='checkbox' class='ee-toggle'></label><ul><li><span class='ee-k'>0:</span><span class='ee-v'>3865</span></li><li><span class='ee-k'>1:</span><span class='ee-v'>1186</span></li></ul></li></ul></li><li><label class='ee-shut'>1: \"green\", double, EPSG:32721, 3865x1186 px<input type='checkbox' class='ee-toggle'></label><ul><li><span class='ee-k'>id:</span><span class='ee-v'>green</span></li><li><span class='ee-k'>crs:</span><span class='ee-v'>EPSG:32721</span></li><li><label class='ee-shut'>crs_transform: [30, 0, 610350, 0, -30, 9780030]<input type='checkbox' class='ee-toggle'></label><ul><li><span class='ee-k'>0:</span><span class='ee-v'>30</span></li><li><span class='ee-k'>1:</span><span class='ee-v'>0</span></li><li><span class='ee-k'>2:</span><span class='ee-v'>610350</span></li><li><span class='ee-k'>3:</span><span class='ee-v'>0</span></li><li><span class='ee-k'>4:</span><span class='ee-v'>-30</span></li><li><span class='ee-k'>5:</span><span class='ee-v'>9780030</span></li></ul></li><li><label class='ee-shut'>data_type: double<input type='checkbox' class='ee-toggle'></label><ul><li><span class='ee-k'>type:</span><span class='ee-v'>PixelType</span></li><li><span class='ee-k'>precision:</span><span class='ee-v'>double</span></li></ul></li><li><label class='ee-shut'>dimensions: [3865, 1186]<input type='checkbox' class='ee-toggle'></label><ul><li><span class='ee-k'>0:</span><span class='ee-v'>3865</span></li><li><span class='ee-k'>1:</span><span class='ee-v'>1186</span></li></ul></li></ul></li><li><label class='ee-shut'>2: \"red\", double, EPSG:32721, 3865x1186 px<input type='checkbox' class='ee-toggle'></label><ul><li><span class='ee-k'>id:</span><span class='ee-v'>red</span></li><li><span class='ee-k'>crs:</span><span class='ee-v'>EPSG:32721</span></li><li><label class='ee-shut'>crs_transform: [30, 0, 610350, 0, -30, 9780030]<input type='checkbox' class='ee-toggle'></label><ul><li><span class='ee-k'>0:</span><span class='ee-v'>30</span></li><li><span class='ee-k'>1:</span><span class='ee-v'>0</span></li><li><span class='ee-k'>2:</span><span class='ee-v'>610350</span></li><li><span class='ee-k'>3:</span><span class='ee-v'>0</span></li><li><span class='ee-k'>4:</span><span class='ee-v'>-30</span></li><li><span class='ee-k'>5:</span><span class='ee-v'>9780030</span></li></ul></li><li><label class='ee-shut'>data_type: double<input type='checkbox' class='ee-toggle'></label><ul><li><span class='ee-k'>type:</span><span class='ee-v'>PixelType</span></li><li><span class='ee-k'>precision:</span><span class='ee-v'>double</span></li></ul></li><li><label class='ee-shut'>dimensions: [3865, 1186]<input type='checkbox' class='ee-toggle'></label><ul><li><span class='ee-k'>0:</span><span class='ee-v'>3865</span></li><li><span class='ee-k'>1:</span><span class='ee-v'>1186</span></li></ul></li></ul></li><li><label class='ee-shut'>3: \"nir\", double, EPSG:32721, 3865x1186 px<input type='checkbox' class='ee-toggle'></label><ul><li><span class='ee-k'>id:</span><span class='ee-v'>nir</span></li><li><span class='ee-k'>crs:</span><span class='ee-v'>EPSG:32721</span></li><li><label class='ee-shut'>crs_transform: [30, 0, 610350, 0, -30, 9780030]<input type='checkbox' class='ee-toggle'></label><ul><li><span class='ee-k'>0:</span><span class='ee-v'>30</span></li><li><span class='ee-k'>1:</span><span class='ee-v'>0</span></li><li><span class='ee-k'>2:</span><span class='ee-v'>610350</span></li><li><span class='ee-k'>3:</span><span class='ee-v'>0</span></li><li><span class='ee-k'>4:</span><span class='ee-v'>-30</span></li><li><span class='ee-k'>5:</span><span class='ee-v'>9780030</span></li></ul></li><li><label class='ee-shut'>data_type: double<input type='checkbox' class='ee-toggle'></label><ul><li><span class='ee-k'>type:</span><span class='ee-v'>PixelType</span></li><li><span class='ee-k'>precision:</span><span class='ee-v'>double</span></li></ul></li><li><label class='ee-shut'>dimensions: [3865, 1186]<input type='checkbox' class='ee-toggle'></label><ul><li><span class='ee-k'>0:</span><span class='ee-v'>3865</span></li><li><span class='ee-k'>1:</span><span class='ee-v'>1186</span></li></ul></li></ul></li><li><label class='ee-shut'>4: \"swir1\", double, EPSG:32721, 3865x1186 px<input type='checkbox' class='ee-toggle'></label><ul><li><span class='ee-k'>id:</span><span class='ee-v'>swir1</span></li><li><span class='ee-k'>crs:</span><span class='ee-v'>EPSG:32721</span></li><li><label class='ee-shut'>crs_transform: [30, 0, 610350, 0, -30, 9780030]<input type='checkbox' class='ee-toggle'></label><ul><li><span class='ee-k'>0:</span><span class='ee-v'>30</span></li><li><span class='ee-k'>1:</span><span class='ee-v'>0</span></li><li><span class='ee-k'>2:</span><span class='ee-v'>610350</span></li><li><span class='ee-k'>3:</span><span class='ee-v'>0</span></li><li><span class='ee-k'>4:</span><span class='ee-v'>-30</span></li><li><span class='ee-k'>5:</span><span class='ee-v'>9780030</span></li></ul></li><li><label class='ee-shut'>data_type: double<input type='checkbox' class='ee-toggle'></label><ul><li><span class='ee-k'>type:</span><span class='ee-v'>PixelType</span></li><li><span class='ee-k'>precision:</span><span class='ee-v'>double</span></li></ul></li><li><label class='ee-shut'>dimensions: [3865, 1186]<input type='checkbox' class='ee-toggle'></label><ul><li><span class='ee-k'>0:</span><span class='ee-v'>3865</span></li><li><span class='ee-k'>1:</span><span class='ee-v'>1186</span></li></ul></li></ul></li><li><label class='ee-shut'>5: \"swir2\", double, EPSG:32721, 3865x1186 px<input type='checkbox' class='ee-toggle'></label><ul><li><span class='ee-k'>id:</span><span class='ee-v'>swir2</span></li><li><span class='ee-k'>crs:</span><span class='ee-v'>EPSG:32721</span></li><li><label class='ee-shut'>crs_transform: [30, 0, 610350, 0, -30, 9780030]<input type='checkbox' class='ee-toggle'></label><ul><li><span class='ee-k'>0:</span><span class='ee-v'>30</span></li><li><span class='ee-k'>1:</span><span class='ee-v'>0</span></li><li><span class='ee-k'>2:</span><span class='ee-v'>610350</span></li><li><span class='ee-k'>3:</span><span class='ee-v'>0</span></li><li><span class='ee-k'>4:</span><span class='ee-v'>-30</span></li><li><span class='ee-k'>5:</span><span class='ee-v'>9780030</span></li></ul></li><li><label class='ee-shut'>data_type: double<input type='checkbox' class='ee-toggle'></label><ul><li><span class='ee-k'>type:</span><span class='ee-v'>PixelType</span></li><li><span class='ee-k'>precision:</span><span class='ee-v'>double</span></li></ul></li><li><label class='ee-shut'>dimensions: [3865, 1186]<input type='checkbox' class='ee-toggle'></label><ul><li><span class='ee-k'>0:</span><span class='ee-v'>3865</span></li><li><span class='ee-k'>1:</span><span class='ee-v'>1186</span></li></ul></li></ul></li></ul></li><li><label class='ee-shut'>properties: Object (148 properties)<input type='checkbox' class='ee-toggle'></label><ul><li><span class='ee-k'>AC_aerosol_optical_thickness:</span><span class='ee-v'>0.34</span></li><li><span class='ee-k'>AC_date:</span><span class='ee-v'>2013-05-12</span></li><li><span class='ee-k'>AC_ozone:</span><span class='ee-v'>0.257</span></li><li><span class='ee-k'>AC_version:</span><span class='ee-v'>py6S</span></li><li><span class='ee-k'>AC_water_vapour:</span><span class='ee-v'>4.719999694824219</span></li><li><span class='ee-k'>CLOUD_COVER:</span><span class='ee-v'>65</span></li><li><span class='ee-k'>CLOUD_COVER_LAND:</span><span class='ee-v'>65</span></li><li><span class='ee-k'>COLLECTION_CATEGORY:</span><span class='ee-v'>T1</span></li><li><span class='ee-k'>COLLECTION_NUMBER:</span><span class='ee-v'>2</span></li><li><span class='ee-k'>CORRECTION_BIAS_BAND_1:</span><span class='ee-v'>INTERNAL_CALIBRATION</span></li><li><span class='ee-k'>CORRECTION_BIAS_BAND_2:</span><span class='ee-v'>INTERNAL_CALIBRATION</span></li><li><span class='ee-k'>CORRECTION_BIAS_BAND_3:</span><span class='ee-v'>INTERNAL_CALIBRATION</span></li><li><span class='ee-k'>CORRECTION_BIAS_BAND_4:</span><span class='ee-v'>INTERNAL_CALIBRATION</span></li><li><span class='ee-k'>CORRECTION_BIAS_BAND_5:</span><span class='ee-v'>INTERNAL_CALIBRATION</span></li><li><span class='ee-k'>CORRECTION_BIAS_BAND_6_VCID_1:</span><span class='ee-v'>INTERNAL_CALIBRATION</span></li><li><span class='ee-k'>CORRECTION_BIAS_BAND_6_VCID_2:</span><span class='ee-v'>INTERNAL_CALIBRATION</span></li><li><span class='ee-k'>CORRECTION_BIAS_BAND_7:</span><span class='ee-v'>INTERNAL_CALIBRATION</span></li><li><span class='ee-k'>CORRECTION_BIAS_BAND_8:</span><span class='ee-v'>INTERNAL_CALIBRATION</span></li><li><span class='ee-k'>CORRECTION_GAIN_BAND_1:</span><span class='ee-v'>CPF</span></li><li><span class='ee-k'>CORRECTION_GAIN_BAND_2:</span><span class='ee-v'>CPF</span></li><li><span class='ee-k'>CORRECTION_GAIN_BAND_3:</span><span class='ee-v'>CPF</span></li><li><span class='ee-k'>CORRECTION_GAIN_BAND_4:</span><span class='ee-v'>CPF</span></li><li><span class='ee-k'>CORRECTION_GAIN_BAND_5:</span><span class='ee-v'>CPF</span></li><li><span class='ee-k'>CORRECTION_GAIN_BAND_6_VCID_1:</span><span class='ee-v'>CPF</span></li><li><span class='ee-k'>CORRECTION_GAIN_BAND_6_VCID_2:</span><span class='ee-v'>CPF</span></li><li><span class='ee-k'>CORRECTION_GAIN_BAND_7:</span><span class='ee-v'>CPF</span></li><li><span class='ee-k'>CORRECTION_GAIN_BAND_8:</span><span class='ee-v'>CPF</span></li><li><span class='ee-k'>DATA_SOURCE_ELEVATION:</span><span class='ee-v'>GLS2000</span></li><li><span class='ee-k'>DATE_ACQUIRED:</span><span class='ee-v'>2013-05-12</span></li><li><span class='ee-k'>DATE_PRODUCT_GENERATED:</span><span class='ee-v'>1599511590000</span></li><li><span class='ee-k'>DATUM:</span><span class='ee-v'>WGS84</span></li><li><span class='ee-k'>EARTH_SUN_DISTANCE:</span><span class='ee-v'>1.010295</span></li><li><span class='ee-k'>ELLIPSOID:</span><span class='ee-v'>WGS84</span></li><li><span class='ee-k'>EPHEMERIS_TYPE:</span><span class='ee-v'>DEFINITIVE</span></li><li><span class='ee-k'>GAIN_BAND_1:</span><span class='ee-v'>H</span></li><li><span class='ee-k'>GAIN_BAND_2:</span><span class='ee-v'>H</span></li><li><span class='ee-k'>GAIN_BAND_3:</span><span class='ee-v'>H</span></li><li><span class='ee-k'>GAIN_BAND_4:</span><span class='ee-v'>L</span></li><li><span class='ee-k'>GAIN_BAND_5:</span><span class='ee-v'>H</span></li><li><span class='ee-k'>GAIN_BAND_6_VCID_1:</span><span class='ee-v'>L</span></li><li><span class='ee-k'>GAIN_BAND_6_VCID_2:</span><span class='ee-v'>H</span></li><li><span class='ee-k'>GAIN_BAND_7:</span><span class='ee-v'>H</span></li><li><span class='ee-k'>GAIN_BAND_8:</span><span class='ee-v'>L</span></li><li><span class='ee-k'>GAIN_CHANGE_BAND_1:</span><span class='ee-v'>HH</span></li><li><span class='ee-k'>GAIN_CHANGE_BAND_2:</span><span class='ee-v'>HH</span></li><li><span class='ee-k'>GAIN_CHANGE_BAND_3:</span><span class='ee-v'>HH</span></li><li><span class='ee-k'>GAIN_CHANGE_BAND_4:</span><span class='ee-v'>LL</span></li><li><span class='ee-k'>GAIN_CHANGE_BAND_5:</span><span class='ee-v'>HH</span></li><li><span class='ee-k'>GAIN_CHANGE_BAND_6_VCID_1:</span><span class='ee-v'>LL</span></li><li><span class='ee-k'>GAIN_CHANGE_BAND_6_VCID_2:</span><span class='ee-v'>HH</span></li><li><span class='ee-k'>GAIN_CHANGE_BAND_7:</span><span class='ee-v'>HH</span></li><li><span class='ee-k'>GAIN_CHANGE_BAND_8:</span><span class='ee-v'>LL</span></li><li><span class='ee-k'>GAIN_CHANGE_SCAN_BAND_1:</span><span class='ee-v'>0</span></li><li><span class='ee-k'>GAIN_CHANGE_SCAN_BAND_2:</span><span class='ee-v'>0</span></li><li><span class='ee-k'>GAIN_CHANGE_SCAN_BAND_3:</span><span class='ee-v'>0</span></li><li><span class='ee-k'>GAIN_CHANGE_SCAN_BAND_4:</span><span class='ee-v'>0</span></li><li><span class='ee-k'>GAIN_CHANGE_SCAN_BAND_5:</span><span class='ee-v'>0</span></li><li><span class='ee-k'>GAIN_CHANGE_SCAN_BAND_6_VCID_1:</span><span class='ee-v'>0</span></li><li><span class='ee-k'>GAIN_CHANGE_SCAN_BAND_6_VCID_2:</span><span class='ee-v'>0</span></li><li><span class='ee-k'>GAIN_CHANGE_SCAN_BAND_7:</span><span class='ee-v'>0</span></li><li><span class='ee-k'>GAIN_CHANGE_SCAN_BAND_8:</span><span class='ee-v'>0</span></li><li><span class='ee-k'>GEOMETRIC_RMSE_MODEL:</span><span class='ee-v'>5.57</span></li><li><span class='ee-k'>GEOMETRIC_RMSE_MODEL_X:</span><span class='ee-v'>4.234</span></li><li><span class='ee-k'>GEOMETRIC_RMSE_MODEL_Y:</span><span class='ee-v'>3.619</span></li><li><span class='ee-k'>GRID_CELL_SIZE_PANCHROMATIC:</span><span class='ee-v'>15</span></li><li><span class='ee-k'>GRID_CELL_SIZE_REFLECTIVE:</span><span class='ee-v'>30</span></li><li><span class='ee-k'>GRID_CELL_SIZE_THERMAL:</span><span class='ee-v'>30</span></li><li><span class='ee-k'>GROUND_CONTROL_POINTS_MODEL:</span><span class='ee-v'>78</span></li><li><span class='ee-k'>GROUND_CONTROL_POINTS_VERSION:</span><span class='ee-v'>5</span></li><li><span class='ee-k'>IMAGE_QUALITY:</span><span class='ee-v'>9</span></li><li><span class='ee-k'>K1_CONSTANT_BAND_6_VCID_1:</span><span class='ee-v'>666.09</span></li><li><span class='ee-k'>K1_CONSTANT_BAND_6_VCID_2:</span><span class='ee-v'>666.09</span></li><li><span class='ee-k'>K2_CONSTANT_BAND_6_VCID_1:</span><span class='ee-v'>1282.71</span></li><li><span class='ee-k'>K2_CONSTANT_BAND_6_VCID_2:</span><span class='ee-v'>1282.71</span></li><li><span class='ee-k'>LANDSAT_PRODUCT_ID:</span><span class='ee-v'>LE07_L1TP_227062_20130512_20200907_02_T1</span></li><li><span class='ee-k'>LANDSAT_SCENE_ID:</span><span class='ee-v'>LE72270622013132CUB00</span></li><li><span class='ee-k'>MAP_PROJECTION:</span><span class='ee-v'>UTM</span></li><li><span class='ee-k'>ORIENTATION:</span><span class='ee-v'>NORTH_UP</span></li><li><span class='ee-k'>PANCHROMATIC_LINES:</span><span class='ee-v'>13941</span></li><li><span class='ee-k'>PANCHROMATIC_SAMPLES:</span><span class='ee-v'>16061</span></li><li><span class='ee-k'>PROCESSING_LEVEL:</span><span class='ee-v'>L1TP</span></li><li><span class='ee-k'>PROCESSING_SOFTWARE_VERSION:</span><span class='ee-v'>LPGS_15.3.1c</span></li><li><span class='ee-k'>RADIANCE_ADD_BAND_1:</span><span class='ee-v'>-6.97874</span></li><li><span class='ee-k'>RADIANCE_ADD_BAND_2:</span><span class='ee-v'>-7.19882</span></li><li><span class='ee-k'>RADIANCE_ADD_BAND_3:</span><span class='ee-v'>-5.62165</span></li><li><span class='ee-k'>RADIANCE_ADD_BAND_4:</span><span class='ee-v'>-6.06929</span></li><li><span class='ee-k'>RADIANCE_ADD_BAND_5:</span><span class='ee-v'>-1.12622</span></li><li><span class='ee-k'>RADIANCE_ADD_BAND_6_VCID_1:</span><span class='ee-v'>-0.06709</span></li><li><span class='ee-k'>RADIANCE_ADD_BAND_6_VCID_2:</span><span class='ee-v'>3.1628</span></li><li><span class='ee-k'>RADIANCE_ADD_BAND_7:</span><span class='ee-v'>-0.3939</span></li><li><span class='ee-k'>RADIANCE_ADD_BAND_8:</span><span class='ee-v'>-5.67559</span></li><li><span class='ee-k'>RADIANCE_MULT_BAND_1:</span><span class='ee-v'>0.77874</span></li><li><span class='ee-k'>RADIANCE_MULT_BAND_2:</span><span class='ee-v'>0.79882</span></li><li><span class='ee-k'>RADIANCE_MULT_BAND_3:</span><span class='ee-v'>0.62165</span></li><li><span class='ee-k'>RADIANCE_MULT_BAND_4:</span><span class='ee-v'>0.96929</span></li><li><span class='ee-k'>RADIANCE_MULT_BAND_5:</span><span class='ee-v'>0.12622</span></li><li><span class='ee-k'>RADIANCE_MULT_BAND_6_VCID_1:</span><span class='ee-v'>0.067087</span></li><li><span class='ee-k'>RADIANCE_MULT_BAND_6_VCID_2:</span><span class='ee-v'>0.037205</span></li><li><span class='ee-k'>RADIANCE_MULT_BAND_7:</span><span class='ee-v'>0.043898</span></li><li><span class='ee-k'>RADIANCE_MULT_BAND_8:</span><span class='ee-v'>0.97559</span></li><li><span class='ee-k'>REFLECTANCE_ADD_BAND_1:</span><span class='ee-v'>-0.010991</span></li><li><span class='ee-k'>REFLECTANCE_ADD_BAND_2:</span><span class='ee-v'>-0.012437</span></li><li><span class='ee-k'>REFLECTANCE_ADD_BAND_3:</span><span class='ee-v'>-0.011821</span></li><li><span class='ee-k'>REFLECTANCE_ADD_BAND_4:</span><span class='ee-v'>-0.018172</span></li><li><span class='ee-k'>REFLECTANCE_ADD_BAND_5:</span><span class='ee-v'>-0.016297</span></li><li><span class='ee-k'>REFLECTANCE_ADD_BAND_7:</span><span class='ee-v'>-0.015525</span></li><li><span class='ee-k'>REFLECTANCE_ADD_BAND_8:</span><span class='ee-v'>-0.013798</span></li><li><span class='ee-k'>REFLECTANCE_MULT_BAND_1:</span><span class='ee-v'>0.0012265</span></li><li><span class='ee-k'>REFLECTANCE_MULT_BAND_2:</span><span class='ee-v'>0.0013801</span></li><li><span class='ee-k'>REFLECTANCE_MULT_BAND_3:</span><span class='ee-v'>0.0013071</span></li><li><span class='ee-k'>REFLECTANCE_MULT_BAND_4:</span><span class='ee-v'>0.0029021</span></li><li><span class='ee-k'>REFLECTANCE_MULT_BAND_5:</span><span class='ee-v'>0.0018264</span></li><li><span class='ee-k'>REFLECTANCE_MULT_BAND_7:</span><span class='ee-v'>0.0017301</span></li><li><span class='ee-k'>REFLECTANCE_MULT_BAND_8:</span><span class='ee-v'>0.0023718</span></li><li><span class='ee-k'>REFLECTIVE_LINES:</span><span class='ee-v'>6971</span></li><li><span class='ee-k'>REFLECTIVE_SAMPLES:</span><span class='ee-v'>8031</span></li><li><span class='ee-k'>REQUEST_ID:</span><span class='ee-v'>L2</span></li><li><span class='ee-k'>RESAMPLING_OPTION:</span><span class='ee-v'>CUBIC_CONVOLUTION</span></li><li><span class='ee-k'>SATURATION_BAND_1:</span><span class='ee-v'>Y</span></li><li><span class='ee-k'>SATURATION_BAND_2:</span><span class='ee-v'>Y</span></li><li><span class='ee-k'>SATURATION_BAND_3:</span><span class='ee-v'>Y</span></li><li><span class='ee-k'>SATURATION_BAND_4:</span><span class='ee-v'>Y</span></li><li><span class='ee-k'>SATURATION_BAND_5:</span><span class='ee-v'>Y</span></li><li><span class='ee-k'>SATURATION_BAND_6_VCID_1:</span><span class='ee-v'>N</span></li><li><span class='ee-k'>SATURATION_BAND_6_VCID_2:</span><span class='ee-v'>Y</span></li><li><span class='ee-k'>SATURATION_BAND_7:</span><span class='ee-v'>Y</span></li><li><span class='ee-k'>SATURATION_BAND_8:</span><span class='ee-v'>N</span></li><li><span class='ee-k'>SCAN_GAP_INTERPOLATION:</span><span class='ee-v'>2</span></li><li><span class='ee-k'>SCENE_CENTER_TIME:</span><span class='ee-v'>13:44:05.3984177Z</span></li><li><span class='ee-k'>SENSOR_ANOMALIES:</span><span class='ee-v'>NONE</span></li><li><span class='ee-k'>SENSOR_ID:</span><span class='ee-v'>ETM</span></li><li><span class='ee-k'>SENSOR_MODE:</span><span class='ee-v'>BUMPER</span></li><li><span class='ee-k'>SENSOR_MODE_SLC:</span><span class='ee-v'>OFF</span></li><li><span class='ee-k'>SPACECRAFT_ID:</span><span class='ee-v'>LANDSAT_7</span></li><li><span class='ee-k'>STATION_ID:</span><span class='ee-v'>CUB</span></li><li><span class='ee-k'>SUN_AZIMUTH:</span><span class='ee-v'>50.90684157</span></li><li><span class='ee-k'>SUN_ELEVATION:</span><span class='ee-v'>55.67038568</span></li><li><span class='ee-k'>THERMAL_LINES:</span><span class='ee-v'>6971</span></li><li><span class='ee-k'>THERMAL_SAMPLES:</span><span class='ee-v'>8031</span></li><li><span class='ee-k'>UTM_ZONE:</span><span class='ee-v'>21</span></li><li><span class='ee-k'>WRS_PATH:</span><span class='ee-v'>227</span></li><li><span class='ee-k'>WRS_ROW:</span><span class='ee-v'>62</span></li><li><span class='ee-k'>WRS_TYPE:</span><span class='ee-v'>2</span></li><li><span class='ee-k'>system:asset_size:</span><span class='ee-v'>9942193</span></li><li><label class='ee-shut'>system:footprint: LinearRing (19 vertices)<input type='checkbox' class='ee-toggle'></label><ul><li><span class='ee-k'>type:</span><span class='ee-v'>LinearRing</span></li><li><label class='ee-shut'>coordinates: List (19 elements)<input type='checkbox' class='ee-toggle'></label><ul><li><label class='ee-shut'>0: [-56.00790099168393, -1.9899313951966122]<input type='checkbox' class='ee-toggle'></label><ul><li><span class='ee-k'>0:</span><span class='ee-v'>-56.00790099168393</span></li><li><span class='ee-k'>1:</span><span class='ee-v'>-1.9899313951966122</span></li></ul></li><li><label class='ee-shut'>1: [-56.00790303255488, -1.9899651372103422]<input type='checkbox' class='ee-toggle'></label><ul><li><span class='ee-k'>0:</span><span class='ee-v'>-56.00790303255488</span></li><li><span class='ee-k'>1:</span><span class='ee-v'>-1.9899651372103422</span></li></ul></li><li><label class='ee-shut'>2: [-56.007695289133245, -2.311543999976785]<input type='checkbox' class='ee-toggle'></label><ul><li><span class='ee-k'>0:</span><span class='ee-v'>-56.007695289133245</span></li><li><span class='ee-k'>1:</span><span class='ee-v'>-2.311543999976785</span></li></ul></li><li><label class='ee-shut'>3: [-56.00758542256164, -2.311668371300401]<input type='checkbox' class='ee-toggle'></label><ul><li><span class='ee-k'>0:</span><span class='ee-v'>-56.00758542256164</span></li><li><span class='ee-k'>1:</span><span class='ee-v'>-2.311668371300401</span></li></ul></li><li><label class='ee-shut'>4: [-56.007491968050864, -2.311805420122597]<input type='checkbox' class='ee-toggle'></label><ul><li><span class='ee-k'>0:</span><span class='ee-v'>-56.007491968050864</span></li><li><span class='ee-k'>1:</span><span class='ee-v'>-2.311805420122597</span></li></ul></li><li><label class='ee-shut'>5: [-56.007458719016846, -2.311811703970227]<input type='checkbox' class='ee-toggle'></label><ul><li><span class='ee-k'>0:</span><span class='ee-v'>-56.007458719016846</span></li><li><span class='ee-k'>1:</span><span class='ee-v'>-2.311811703970227</span></li></ul></li><li><label class='ee-shut'>6: [-56.00742495977984, -2.311813812762818]<input type='checkbox' class='ee-toggle'></label><ul><li><span class='ee-k'>0:</span><span class='ee-v'>-56.00742495977984</span></li><li><span class='ee-k'>1:</span><span class='ee-v'>-2.311813812762818</span></li></ul></li><li><label class='ee-shut'>7: [-54.96521940588846, -2.3106966854844777]<input type='checkbox' class='ee-toggle'></label><ul><li><span class='ee-k'>0:</span><span class='ee-v'>-54.96521940588846</span></li><li><span class='ee-k'>1:</span><span class='ee-v'>-2.3106966854844777</span></li></ul></li><li><label class='ee-shut'>8: [-54.965095041218675, -2.3105868055625747]<input type='checkbox' class='ee-toggle'></label><ul><li><span class='ee-k'>0:</span><span class='ee-v'>-54.965095041218675</span></li><li><span class='ee-k'>1:</span><span class='ee-v'>-2.3105868055625747</span></li></ul></li><li><label class='ee-shut'>9: [-54.9649579041744, -2.310493389784539]<input type='checkbox' class='ee-toggle'></label><ul><li><span class='ee-k'>0:</span><span class='ee-v'>-54.9649579041744</span></li><li><span class='ee-k'>1:</span><span class='ee-v'>-2.310493389784539</span></li></ul></li><li><label class='ee-shut'>10: [-54.96494958520648, -2.3104489756132134]<input type='checkbox' class='ee-toggle'></label><ul><li><span class='ee-k'>0:</span><span class='ee-v'>-54.96494958520648</span></li><li><span class='ee-k'>1:</span><span class='ee-v'>-2.3104489756132134</span></li></ul></li><li><label class='ee-shut'>11: [-54.96537536616671, -1.9890030781522787]<input type='checkbox' class='ee-toggle'></label><ul><li><span class='ee-k'>0:</span><span class='ee-v'>-54.96537536616671</span></li><li><span class='ee-k'>1:</span><span class='ee-v'>-1.9890030781522787</span></li></ul></li><li><label class='ee-shut'>12: [-54.96548536203257, -1.9888788013913736]<input type='checkbox' class='ee-toggle'></label><ul><li><span class='ee-k'>0:</span><span class='ee-v'>-54.96548536203257</span></li><li><span class='ee-k'>1:</span><span class='ee-v'>-1.9888788013913736</span></li></ul></li><li><label class='ee-shut'>13: [-54.96557880401176, -1.9887418286222167]<input type='checkbox' class='ee-toggle'></label><ul><li><span class='ee-k'>0:</span><span class='ee-v'>-54.96557880401176</span></li><li><span class='ee-k'>1:</span><span class='ee-v'>-1.9887418286222167</span></li></ul></li><li><label class='ee-shut'>14: [-54.96562325621276, -1.9887333958904014]<input type='checkbox' class='ee-toggle'></label><ul><li><span class='ee-k'>0:</span><span class='ee-v'>-54.96562325621276</span></li><li><span class='ee-k'>1:</span><span class='ee-v'>-1.9887333958904014</span></li></ul></li><li><label class='ee-shut'>15: [-56.0076331277673, -1.9896950199386851]<input type='checkbox' class='ee-toggle'></label><ul><li><span class='ee-k'>0:</span><span class='ee-v'>-56.0076331277673</span></li><li><span class='ee-k'>1:</span><span class='ee-v'>-1.9896950199386851</span></li></ul></li><li><label class='ee-shut'>16: [-56.00775753557763, -1.9898048265148425]<input type='checkbox' class='ee-toggle'></label><ul><li><span class='ee-k'>0:</span><span class='ee-v'>-56.00775753557763</span></li><li><span class='ee-k'>1:</span><span class='ee-v'>-1.9898048265148425</span></li></ul></li><li><label class='ee-shut'>17: [-56.00789469899878, -1.9898981788466987]<input type='checkbox' class='ee-toggle'></label><ul><li><span class='ee-k'>0:</span><span class='ee-v'>-56.00789469899878</span></li><li><span class='ee-k'>1:</span><span class='ee-v'>-1.9898981788466987</span></li></ul></li><li><label class='ee-shut'>18: [-56.00790099168393, -1.9899313951966122]<input type='checkbox' class='ee-toggle'></label><ul><li><span class='ee-k'>0:</span><span class='ee-v'>-56.00790099168393</span></li><li><span class='ee-k'>1:</span><span class='ee-v'>-1.9899313951966122</span></li></ul></li></ul></li></ul></li><li><span class='ee-k'>system:index:</span><span class='ee-v'>BOA_LE07_227062_20130512</span></li><li><span class='ee-k'>system:time_end:</span><span class='ee-v'>1368366245398</span></li><li><span class='ee-k'>system:time_start:</span><span class='ee-v'>1368366245398</span></li></ul></li></ul></li><li><label class='ee-shut'>1: Image projects/ee-curuai/assets/Py6S/LD7/ld7_py6s/BOA_LE07_227062_20130715 (6 bands)<input type='checkbox' class='ee-toggle'></label><ul><li><span class='ee-k'>type:</span><span class='ee-v'>Image</span></li><li><span class='ee-k'>id:</span><span class='ee-v'>projects/ee-curuai/assets/Py6S/LD7/ld7_py6s/BOA_LE07_227062_20130715</span></li><li><span class='ee-k'>version:</span><span class='ee-v'>1715369200254588</span></li><li><label class='ee-shut'>bands: List (6 elements)<input type='checkbox' class='ee-toggle'></label><ul><li><label class='ee-shut'>0: \"blue\", double, EPSG:32721, 3865x1186 px<input type='checkbox' class='ee-toggle'></label><ul><li><span class='ee-k'>id:</span><span class='ee-v'>blue</span></li><li><span class='ee-k'>crs:</span><span class='ee-v'>EPSG:32721</span></li><li><label class='ee-shut'>crs_transform: [30, 0, 610350, 0, -30, 9780030]<input type='checkbox' class='ee-toggle'></label><ul><li><span class='ee-k'>0:</span><span class='ee-v'>30</span></li><li><span class='ee-k'>1:</span><span class='ee-v'>0</span></li><li><span class='ee-k'>2:</span><span class='ee-v'>610350</span></li><li><span class='ee-k'>3:</span><span class='ee-v'>0</span></li><li><span class='ee-k'>4:</span><span class='ee-v'>-30</span></li><li><span class='ee-k'>5:</span><span class='ee-v'>9780030</span></li></ul></li><li><label class='ee-shut'>data_type: double<input type='checkbox' class='ee-toggle'></label><ul><li><span class='ee-k'>type:</span><span class='ee-v'>PixelType</span></li><li><span class='ee-k'>precision:</span><span class='ee-v'>double</span></li></ul></li><li><label class='ee-shut'>dimensions: [3865, 1186]<input type='checkbox' class='ee-toggle'></label><ul><li><span class='ee-k'>0:</span><span class='ee-v'>3865</span></li><li><span class='ee-k'>1:</span><span class='ee-v'>1186</span></li></ul></li></ul></li><li><label class='ee-shut'>1: \"green\", double, EPSG:32721, 3865x1186 px<input type='checkbox' class='ee-toggle'></label><ul><li><span class='ee-k'>id:</span><span class='ee-v'>green</span></li><li><span class='ee-k'>crs:</span><span class='ee-v'>EPSG:32721</span></li><li><label class='ee-shut'>crs_transform: [30, 0, 610350, 0, -30, 9780030]<input type='checkbox' class='ee-toggle'></label><ul><li><span class='ee-k'>0:</span><span class='ee-v'>30</span></li><li><span class='ee-k'>1:</span><span class='ee-v'>0</span></li><li><span class='ee-k'>2:</span><span class='ee-v'>610350</span></li><li><span class='ee-k'>3:</span><span class='ee-v'>0</span></li><li><span class='ee-k'>4:</span><span class='ee-v'>-30</span></li><li><span class='ee-k'>5:</span><span class='ee-v'>9780030</span></li></ul></li><li><label class='ee-shut'>data_type: double<input type='checkbox' class='ee-toggle'></label><ul><li><span class='ee-k'>type:</span><span class='ee-v'>PixelType</span></li><li><span class='ee-k'>precision:</span><span class='ee-v'>double</span></li></ul></li><li><label class='ee-shut'>dimensions: [3865, 1186]<input type='checkbox' class='ee-toggle'></label><ul><li><span class='ee-k'>0:</span><span class='ee-v'>3865</span></li><li><span class='ee-k'>1:</span><span class='ee-v'>1186</span></li></ul></li></ul></li><li><label class='ee-shut'>2: \"red\", double, EPSG:32721, 3865x1186 px<input type='checkbox' class='ee-toggle'></label><ul><li><span class='ee-k'>id:</span><span class='ee-v'>red</span></li><li><span class='ee-k'>crs:</span><span class='ee-v'>EPSG:32721</span></li><li><label class='ee-shut'>crs_transform: [30, 0, 610350, 0, -30, 9780030]<input type='checkbox' class='ee-toggle'></label><ul><li><span class='ee-k'>0:</span><span class='ee-v'>30</span></li><li><span class='ee-k'>1:</span><span class='ee-v'>0</span></li><li><span class='ee-k'>2:</span><span class='ee-v'>610350</span></li><li><span class='ee-k'>3:</span><span class='ee-v'>0</span></li><li><span class='ee-k'>4:</span><span class='ee-v'>-30</span></li><li><span class='ee-k'>5:</span><span class='ee-v'>9780030</span></li></ul></li><li><label class='ee-shut'>data_type: double<input type='checkbox' class='ee-toggle'></label><ul><li><span class='ee-k'>type:</span><span class='ee-v'>PixelType</span></li><li><span class='ee-k'>precision:</span><span class='ee-v'>double</span></li></ul></li><li><label class='ee-shut'>dimensions: [3865, 1186]<input type='checkbox' class='ee-toggle'></label><ul><li><span class='ee-k'>0:</span><span class='ee-v'>3865</span></li><li><span class='ee-k'>1:</span><span class='ee-v'>1186</span></li></ul></li></ul></li><li><label class='ee-shut'>3: \"nir\", double, EPSG:32721, 3865x1186 px<input type='checkbox' class='ee-toggle'></label><ul><li><span class='ee-k'>id:</span><span class='ee-v'>nir</span></li><li><span class='ee-k'>crs:</span><span class='ee-v'>EPSG:32721</span></li><li><label class='ee-shut'>crs_transform: [30, 0, 610350, 0, -30, 9780030]<input type='checkbox' class='ee-toggle'></label><ul><li><span class='ee-k'>0:</span><span class='ee-v'>30</span></li><li><span class='ee-k'>1:</span><span class='ee-v'>0</span></li><li><span class='ee-k'>2:</span><span class='ee-v'>610350</span></li><li><span class='ee-k'>3:</span><span class='ee-v'>0</span></li><li><span class='ee-k'>4:</span><span class='ee-v'>-30</span></li><li><span class='ee-k'>5:</span><span class='ee-v'>9780030</span></li></ul></li><li><label class='ee-shut'>data_type: double<input type='checkbox' class='ee-toggle'></label><ul><li><span class='ee-k'>type:</span><span class='ee-v'>PixelType</span></li><li><span class='ee-k'>precision:</span><span class='ee-v'>double</span></li></ul></li><li><label class='ee-shut'>dimensions: [3865, 1186]<input type='checkbox' class='ee-toggle'></label><ul><li><span class='ee-k'>0:</span><span class='ee-v'>3865</span></li><li><span class='ee-k'>1:</span><span class='ee-v'>1186</span></li></ul></li></ul></li><li><label class='ee-shut'>4: \"swir1\", double, EPSG:32721, 3865x1186 px<input type='checkbox' class='ee-toggle'></label><ul><li><span class='ee-k'>id:</span><span class='ee-v'>swir1</span></li><li><span class='ee-k'>crs:</span><span class='ee-v'>EPSG:32721</span></li><li><label class='ee-shut'>crs_transform: [30, 0, 610350, 0, -30, 9780030]<input type='checkbox' class='ee-toggle'></label><ul><li><span class='ee-k'>0:</span><span class='ee-v'>30</span></li><li><span class='ee-k'>1:</span><span class='ee-v'>0</span></li><li><span class='ee-k'>2:</span><span class='ee-v'>610350</span></li><li><span class='ee-k'>3:</span><span class='ee-v'>0</span></li><li><span class='ee-k'>4:</span><span class='ee-v'>-30</span></li><li><span class='ee-k'>5:</span><span class='ee-v'>9780030</span></li></ul></li><li><label class='ee-shut'>data_type: double<input type='checkbox' class='ee-toggle'></label><ul><li><span class='ee-k'>type:</span><span class='ee-v'>PixelType</span></li><li><span class='ee-k'>precision:</span><span class='ee-v'>double</span></li></ul></li><li><label class='ee-shut'>dimensions: [3865, 1186]<input type='checkbox' class='ee-toggle'></label><ul><li><span class='ee-k'>0:</span><span class='ee-v'>3865</span></li><li><span class='ee-k'>1:</span><span class='ee-v'>1186</span></li></ul></li></ul></li><li><label class='ee-shut'>5: \"swir2\", double, EPSG:32721, 3865x1186 px<input type='checkbox' class='ee-toggle'></label><ul><li><span class='ee-k'>id:</span><span class='ee-v'>swir2</span></li><li><span class='ee-k'>crs:</span><span class='ee-v'>EPSG:32721</span></li><li><label class='ee-shut'>crs_transform: [30, 0, 610350, 0, -30, 9780030]<input type='checkbox' class='ee-toggle'></label><ul><li><span class='ee-k'>0:</span><span class='ee-v'>30</span></li><li><span class='ee-k'>1:</span><span class='ee-v'>0</span></li><li><span class='ee-k'>2:</span><span class='ee-v'>610350</span></li><li><span class='ee-k'>3:</span><span class='ee-v'>0</span></li><li><span class='ee-k'>4:</span><span class='ee-v'>-30</span></li><li><span class='ee-k'>5:</span><span class='ee-v'>9780030</span></li></ul></li><li><label class='ee-shut'>data_type: double<input type='checkbox' class='ee-toggle'></label><ul><li><span class='ee-k'>type:</span><span class='ee-v'>PixelType</span></li><li><span class='ee-k'>precision:</span><span class='ee-v'>double</span></li></ul></li><li><label class='ee-shut'>dimensions: [3865, 1186]<input type='checkbox' class='ee-toggle'></label><ul><li><span class='ee-k'>0:</span><span class='ee-v'>3865</span></li><li><span class='ee-k'>1:</span><span class='ee-v'>1186</span></li></ul></li></ul></li></ul></li><li><label class='ee-shut'>properties: Object (148 properties)<input type='checkbox' class='ee-toggle'></label><ul><li><span class='ee-k'>AC_aerosol_optical_thickness:</span><span class='ee-v'>0.2</span></li><li><span class='ee-k'>AC_date:</span><span class='ee-v'>2013-07-15</span></li><li><span class='ee-k'>AC_ozone:</span><span class='ee-v'>0.278</span></li><li><span class='ee-k'>AC_version:</span><span class='ee-v'>py6S</span></li><li><span class='ee-k'>AC_water_vapour:</span><span class='ee-v'>4.219999694824219</span></li><li><span class='ee-k'>CLOUD_COVER:</span><span class='ee-v'>13</span></li><li><span class='ee-k'>CLOUD_COVER_LAND:</span><span class='ee-v'>13</span></li><li><span class='ee-k'>COLLECTION_CATEGORY:</span><span class='ee-v'>T1</span></li><li><span class='ee-k'>COLLECTION_NUMBER:</span><span class='ee-v'>2</span></li><li><span class='ee-k'>CORRECTION_BIAS_BAND_1:</span><span class='ee-v'>INTERNAL_CALIBRATION</span></li><li><span class='ee-k'>CORRECTION_BIAS_BAND_2:</span><span class='ee-v'>INTERNAL_CALIBRATION</span></li><li><span class='ee-k'>CORRECTION_BIAS_BAND_3:</span><span class='ee-v'>INTERNAL_CALIBRATION</span></li><li><span class='ee-k'>CORRECTION_BIAS_BAND_4:</span><span class='ee-v'>INTERNAL_CALIBRATION</span></li><li><span class='ee-k'>CORRECTION_BIAS_BAND_5:</span><span class='ee-v'>INTERNAL_CALIBRATION</span></li><li><span class='ee-k'>CORRECTION_BIAS_BAND_6_VCID_1:</span><span class='ee-v'>INTERNAL_CALIBRATION</span></li><li><span class='ee-k'>CORRECTION_BIAS_BAND_6_VCID_2:</span><span class='ee-v'>INTERNAL_CALIBRATION</span></li><li><span class='ee-k'>CORRECTION_BIAS_BAND_7:</span><span class='ee-v'>INTERNAL_CALIBRATION</span></li><li><span class='ee-k'>CORRECTION_BIAS_BAND_8:</span><span class='ee-v'>INTERNAL_CALIBRATION</span></li><li><span class='ee-k'>CORRECTION_GAIN_BAND_1:</span><span class='ee-v'>CPF</span></li><li><span class='ee-k'>CORRECTION_GAIN_BAND_2:</span><span class='ee-v'>CPF</span></li><li><span class='ee-k'>CORRECTION_GAIN_BAND_3:</span><span class='ee-v'>CPF</span></li><li><span class='ee-k'>CORRECTION_GAIN_BAND_4:</span><span class='ee-v'>CPF</span></li><li><span class='ee-k'>CORRECTION_GAIN_BAND_5:</span><span class='ee-v'>CPF</span></li><li><span class='ee-k'>CORRECTION_GAIN_BAND_6_VCID_1:</span><span class='ee-v'>CPF</span></li><li><span class='ee-k'>CORRECTION_GAIN_BAND_6_VCID_2:</span><span class='ee-v'>CPF</span></li><li><span class='ee-k'>CORRECTION_GAIN_BAND_7:</span><span class='ee-v'>CPF</span></li><li><span class='ee-k'>CORRECTION_GAIN_BAND_8:</span><span class='ee-v'>CPF</span></li><li><span class='ee-k'>DATA_SOURCE_ELEVATION:</span><span class='ee-v'>GLS2000</span></li><li><span class='ee-k'>DATE_ACQUIRED:</span><span class='ee-v'>2013-07-15</span></li><li><span class='ee-k'>DATE_PRODUCT_GENERATED:</span><span class='ee-v'>1599493295000</span></li><li><span class='ee-k'>DATUM:</span><span class='ee-v'>WGS84</span></li><li><span class='ee-k'>EARTH_SUN_DISTANCE:</span><span class='ee-v'>1.0164391</span></li><li><span class='ee-k'>ELLIPSOID:</span><span class='ee-v'>WGS84</span></li><li><span class='ee-k'>EPHEMERIS_TYPE:</span><span class='ee-v'>DEFINITIVE</span></li><li><span class='ee-k'>GAIN_BAND_1:</span><span class='ee-v'>H</span></li><li><span class='ee-k'>GAIN_BAND_2:</span><span class='ee-v'>H</span></li><li><span class='ee-k'>GAIN_BAND_3:</span><span class='ee-v'>H</span></li><li><span class='ee-k'>GAIN_BAND_4:</span><span class='ee-v'>L</span></li><li><span class='ee-k'>GAIN_BAND_5:</span><span class='ee-v'>H</span></li><li><span class='ee-k'>GAIN_BAND_6_VCID_1:</span><span class='ee-v'>L</span></li><li><span class='ee-k'>GAIN_BAND_6_VCID_2:</span><span class='ee-v'>H</span></li><li><span class='ee-k'>GAIN_BAND_7:</span><span class='ee-v'>H</span></li><li><span class='ee-k'>GAIN_BAND_8:</span><span class='ee-v'>L</span></li><li><span class='ee-k'>GAIN_CHANGE_BAND_1:</span><span class='ee-v'>HH</span></li><li><span class='ee-k'>GAIN_CHANGE_BAND_2:</span><span class='ee-v'>HH</span></li><li><span class='ee-k'>GAIN_CHANGE_BAND_3:</span><span class='ee-v'>HH</span></li><li><span class='ee-k'>GAIN_CHANGE_BAND_4:</span><span class='ee-v'>LL</span></li><li><span class='ee-k'>GAIN_CHANGE_BAND_5:</span><span class='ee-v'>HH</span></li><li><span class='ee-k'>GAIN_CHANGE_BAND_6_VCID_1:</span><span class='ee-v'>LL</span></li><li><span class='ee-k'>GAIN_CHANGE_BAND_6_VCID_2:</span><span class='ee-v'>HH</span></li><li><span class='ee-k'>GAIN_CHANGE_BAND_7:</span><span class='ee-v'>HH</span></li><li><span class='ee-k'>GAIN_CHANGE_BAND_8:</span><span class='ee-v'>LL</span></li><li><span class='ee-k'>GAIN_CHANGE_SCAN_BAND_1:</span><span class='ee-v'>0</span></li><li><span class='ee-k'>GAIN_CHANGE_SCAN_BAND_2:</span><span class='ee-v'>0</span></li><li><span class='ee-k'>GAIN_CHANGE_SCAN_BAND_3:</span><span class='ee-v'>0</span></li><li><span class='ee-k'>GAIN_CHANGE_SCAN_BAND_4:</span><span class='ee-v'>0</span></li><li><span class='ee-k'>GAIN_CHANGE_SCAN_BAND_5:</span><span class='ee-v'>0</span></li><li><span class='ee-k'>GAIN_CHANGE_SCAN_BAND_6_VCID_1:</span><span class='ee-v'>0</span></li><li><span class='ee-k'>GAIN_CHANGE_SCAN_BAND_6_VCID_2:</span><span class='ee-v'>0</span></li><li><span class='ee-k'>GAIN_CHANGE_SCAN_BAND_7:</span><span class='ee-v'>0</span></li><li><span class='ee-k'>GAIN_CHANGE_SCAN_BAND_8:</span><span class='ee-v'>0</span></li><li><span class='ee-k'>GEOMETRIC_RMSE_MODEL:</span><span class='ee-v'>4.35</span></li><li><span class='ee-k'>GEOMETRIC_RMSE_MODEL_X:</span><span class='ee-v'>3.112</span></li><li><span class='ee-k'>GEOMETRIC_RMSE_MODEL_Y:</span><span class='ee-v'>3.039</span></li><li><span class='ee-k'>GRID_CELL_SIZE_PANCHROMATIC:</span><span class='ee-v'>15</span></li><li><span class='ee-k'>GRID_CELL_SIZE_REFLECTIVE:</span><span class='ee-v'>30</span></li><li><span class='ee-k'>GRID_CELL_SIZE_THERMAL:</span><span class='ee-v'>30</span></li><li><span class='ee-k'>GROUND_CONTROL_POINTS_MODEL:</span><span class='ee-v'>475</span></li><li><span class='ee-k'>GROUND_CONTROL_POINTS_VERSION:</span><span class='ee-v'>5</span></li><li><span class='ee-k'>IMAGE_QUALITY:</span><span class='ee-v'>9</span></li><li><span class='ee-k'>K1_CONSTANT_BAND_6_VCID_1:</span><span class='ee-v'>666.09</span></li><li><span class='ee-k'>K1_CONSTANT_BAND_6_VCID_2:</span><span class='ee-v'>666.09</span></li><li><span class='ee-k'>K2_CONSTANT_BAND_6_VCID_1:</span><span class='ee-v'>1282.71</span></li><li><span class='ee-k'>K2_CONSTANT_BAND_6_VCID_2:</span><span class='ee-v'>1282.71</span></li><li><span class='ee-k'>LANDSAT_PRODUCT_ID:</span><span class='ee-v'>LE07_L1TP_227062_20130715_20200907_02_T1</span></li><li><span class='ee-k'>LANDSAT_SCENE_ID:</span><span class='ee-v'>LE72270622013196CUB00</span></li><li><span class='ee-k'>MAP_PROJECTION:</span><span class='ee-v'>UTM</span></li><li><span class='ee-k'>ORIENTATION:</span><span class='ee-v'>NORTH_UP</span></li><li><span class='ee-k'>PANCHROMATIC_LINES:</span><span class='ee-v'>13941</span></li><li><span class='ee-k'>PANCHROMATIC_SAMPLES:</span><span class='ee-v'>16081</span></li><li><span class='ee-k'>PROCESSING_LEVEL:</span><span class='ee-v'>L1TP</span></li><li><span class='ee-k'>PROCESSING_SOFTWARE_VERSION:</span><span class='ee-v'>LPGS_15.3.1c</span></li><li><span class='ee-k'>RADIANCE_ADD_BAND_1:</span><span class='ee-v'>-6.97874</span></li><li><span class='ee-k'>RADIANCE_ADD_BAND_2:</span><span class='ee-v'>-7.19882</span></li><li><span class='ee-k'>RADIANCE_ADD_BAND_3:</span><span class='ee-v'>-5.62165</span></li><li><span class='ee-k'>RADIANCE_ADD_BAND_4:</span><span class='ee-v'>-6.06929</span></li><li><span class='ee-k'>RADIANCE_ADD_BAND_5:</span><span class='ee-v'>-1.12622</span></li><li><span class='ee-k'>RADIANCE_ADD_BAND_6_VCID_1:</span><span class='ee-v'>-0.06709</span></li><li><span class='ee-k'>RADIANCE_ADD_BAND_6_VCID_2:</span><span class='ee-v'>3.1628</span></li><li><span class='ee-k'>RADIANCE_ADD_BAND_7:</span><span class='ee-v'>-0.3939</span></li><li><span class='ee-k'>RADIANCE_ADD_BAND_8:</span><span class='ee-v'>-5.67559</span></li><li><span class='ee-k'>RADIANCE_MULT_BAND_1:</span><span class='ee-v'>0.77874</span></li><li><span class='ee-k'>RADIANCE_MULT_BAND_2:</span><span class='ee-v'>0.79882</span></li><li><span class='ee-k'>RADIANCE_MULT_BAND_3:</span><span class='ee-v'>0.62165</span></li><li><span class='ee-k'>RADIANCE_MULT_BAND_4:</span><span class='ee-v'>0.96929</span></li><li><span class='ee-k'>RADIANCE_MULT_BAND_5:</span><span class='ee-v'>0.12622</span></li><li><span class='ee-k'>RADIANCE_MULT_BAND_6_VCID_1:</span><span class='ee-v'>0.067087</span></li><li><span class='ee-k'>RADIANCE_MULT_BAND_6_VCID_2:</span><span class='ee-v'>0.037205</span></li><li><span class='ee-k'>RADIANCE_MULT_BAND_7:</span><span class='ee-v'>0.043898</span></li><li><span class='ee-k'>RADIANCE_MULT_BAND_8:</span><span class='ee-v'>0.97559</span></li><li><span class='ee-k'>REFLECTANCE_ADD_BAND_1:</span><span class='ee-v'>-0.011125</span></li><li><span class='ee-k'>REFLECTANCE_ADD_BAND_2:</span><span class='ee-v'>-0.012589</span></li><li><span class='ee-k'>REFLECTANCE_ADD_BAND_3:</span><span class='ee-v'>-0.011965</span></li><li><span class='ee-k'>REFLECTANCE_ADD_BAND_4:</span><span class='ee-v'>-0.018393</span></li><li><span class='ee-k'>REFLECTANCE_ADD_BAND_5:</span><span class='ee-v'>-0.016496</span></li><li><span class='ee-k'>REFLECTANCE_ADD_BAND_7:</span><span class='ee-v'>-0.015714</span></li><li><span class='ee-k'>REFLECTANCE_ADD_BAND_8:</span><span class='ee-v'>-0.013966</span></li><li><span class='ee-k'>REFLECTANCE_MULT_BAND_1:</span><span class='ee-v'>0.0012414</span></li><li><span class='ee-k'>REFLECTANCE_MULT_BAND_2:</span><span class='ee-v'>0.001397</span></li><li><span class='ee-k'>REFLECTANCE_MULT_BAND_3:</span><span class='ee-v'>0.0013231</span></li><li><span class='ee-k'>REFLECTANCE_MULT_BAND_4:</span><span class='ee-v'>0.0029375</span></li><li><span class='ee-k'>REFLECTANCE_MULT_BAND_5:</span><span class='ee-v'>0.0018487</span></li><li><span class='ee-k'>REFLECTANCE_MULT_BAND_7:</span><span class='ee-v'>0.0017512</span></li><li><span class='ee-k'>REFLECTANCE_MULT_BAND_8:</span><span class='ee-v'>0.0024007</span></li><li><span class='ee-k'>REFLECTIVE_LINES:</span><span class='ee-v'>6971</span></li><li><span class='ee-k'>REFLECTIVE_SAMPLES:</span><span class='ee-v'>8041</span></li><li><span class='ee-k'>REQUEST_ID:</span><span class='ee-v'>L2</span></li><li><span class='ee-k'>RESAMPLING_OPTION:</span><span class='ee-v'>CUBIC_CONVOLUTION</span></li><li><span class='ee-k'>SATURATION_BAND_1:</span><span class='ee-v'>Y</span></li><li><span class='ee-k'>SATURATION_BAND_2:</span><span class='ee-v'>Y</span></li><li><span class='ee-k'>SATURATION_BAND_3:</span><span class='ee-v'>Y</span></li><li><span class='ee-k'>SATURATION_BAND_4:</span><span class='ee-v'>Y</span></li><li><span class='ee-k'>SATURATION_BAND_5:</span><span class='ee-v'>Y</span></li><li><span class='ee-k'>SATURATION_BAND_6_VCID_1:</span><span class='ee-v'>N</span></li><li><span class='ee-k'>SATURATION_BAND_6_VCID_2:</span><span class='ee-v'>N</span></li><li><span class='ee-k'>SATURATION_BAND_7:</span><span class='ee-v'>Y</span></li><li><span class='ee-k'>SATURATION_BAND_8:</span><span class='ee-v'>N</span></li><li><span class='ee-k'>SCAN_GAP_INTERPOLATION:</span><span class='ee-v'>2</span></li><li><span class='ee-k'>SCENE_CENTER_TIME:</span><span class='ee-v'>13:43:35.9717227Z</span></li><li><span class='ee-k'>SENSOR_ANOMALIES:</span><span class='ee-v'>NONE</span></li><li><span class='ee-k'>SENSOR_ID:</span><span class='ee-v'>ETM</span></li><li><span class='ee-k'>SENSOR_MODE:</span><span class='ee-v'>BUMPER</span></li><li><span class='ee-k'>SENSOR_MODE_SLC:</span><span class='ee-v'>OFF</span></li><li><span class='ee-k'>SPACECRAFT_ID:</span><span class='ee-v'>LANDSAT_7</span></li><li><span class='ee-k'>STATION_ID:</span><span class='ee-v'>CUB</span></li><li><span class='ee-k'>SUN_AZIMUTH:</span><span class='ee-v'>48.89415327</span></li><li><span class='ee-k'>SUN_ELEVATION:</span><span class='ee-v'>51.88982155</span></li><li><span class='ee-k'>THERMAL_LINES:</span><span class='ee-v'>6971</span></li><li><span class='ee-k'>THERMAL_SAMPLES:</span><span class='ee-v'>8041</span></li><li><span class='ee-k'>UTM_ZONE:</span><span class='ee-v'>21</span></li><li><span class='ee-k'>WRS_PATH:</span><span class='ee-v'>227</span></li><li><span class='ee-k'>WRS_ROW:</span><span class='ee-v'>62</span></li><li><span class='ee-k'>WRS_TYPE:</span><span class='ee-v'>2</span></li><li><span class='ee-k'>system:asset_size:</span><span class='ee-v'>10207880</span></li><li><label class='ee-shut'>system:footprint: LinearRing (19 vertices)<input type='checkbox' class='ee-toggle'></label><ul><li><span class='ee-k'>type:</span><span class='ee-v'>LinearRing</span></li><li><label class='ee-shut'>coordinates: List (19 elements)<input type='checkbox' class='ee-toggle'></label><ul><li><label class='ee-shut'>0: [-56.00790099168393, -1.9899313951966122]<input type='checkbox' class='ee-toggle'></label><ul><li><span class='ee-k'>0:</span><span class='ee-v'>-56.00790099168393</span></li><li><span class='ee-k'>1:</span><span class='ee-v'>-1.9899313951966122</span></li></ul></li><li><label class='ee-shut'>1: [-56.00790303255488, -1.9899651372103422]<input type='checkbox' class='ee-toggle'></label><ul><li><span class='ee-k'>0:</span><span class='ee-v'>-56.00790303255488</span></li><li><span class='ee-k'>1:</span><span class='ee-v'>-1.9899651372103422</span></li></ul></li><li><label class='ee-shut'>2: [-56.007695289133245, -2.311543999976785]<input type='checkbox' class='ee-toggle'></label><ul><li><span class='ee-k'>0:</span><span class='ee-v'>-56.007695289133245</span></li><li><span class='ee-k'>1:</span><span class='ee-v'>-2.311543999976785</span></li></ul></li><li><label class='ee-shut'>3: [-56.00758542256164, -2.311668371300401]<input type='checkbox' class='ee-toggle'></label><ul><li><span class='ee-k'>0:</span><span class='ee-v'>-56.00758542256164</span></li><li><span class='ee-k'>1:</span><span class='ee-v'>-2.311668371300401</span></li></ul></li><li><label class='ee-shut'>4: [-56.007491968050864, -2.311805420122597]<input type='checkbox' class='ee-toggle'></label><ul><li><span class='ee-k'>0:</span><span class='ee-v'>-56.007491968050864</span></li><li><span class='ee-k'>1:</span><span class='ee-v'>-2.311805420122597</span></li></ul></li><li><label class='ee-shut'>5: [-56.007458719016846, -2.311811703970227]<input type='checkbox' class='ee-toggle'></label><ul><li><span class='ee-k'>0:</span><span class='ee-v'>-56.007458719016846</span></li><li><span class='ee-k'>1:</span><span class='ee-v'>-2.311811703970227</span></li></ul></li><li><label class='ee-shut'>6: [-56.00742495977984, -2.311813812762818]<input type='checkbox' class='ee-toggle'></label><ul><li><span class='ee-k'>0:</span><span class='ee-v'>-56.00742495977984</span></li><li><span class='ee-k'>1:</span><span class='ee-v'>-2.311813812762818</span></li></ul></li><li><label class='ee-shut'>7: [-54.96521940588846, -2.3106966854844777]<input type='checkbox' class='ee-toggle'></label><ul><li><span class='ee-k'>0:</span><span class='ee-v'>-54.96521940588846</span></li><li><span class='ee-k'>1:</span><span class='ee-v'>-2.3106966854844777</span></li></ul></li><li><label class='ee-shut'>8: [-54.965095041218675, -2.3105868055625747]<input type='checkbox' class='ee-toggle'></label><ul><li><span class='ee-k'>0:</span><span class='ee-v'>-54.965095041218675</span></li><li><span class='ee-k'>1:</span><span class='ee-v'>-2.3105868055625747</span></li></ul></li><li><label class='ee-shut'>9: [-54.9649579041744, -2.310493389784539]<input type='checkbox' class='ee-toggle'></label><ul><li><span class='ee-k'>0:</span><span class='ee-v'>-54.9649579041744</span></li><li><span class='ee-k'>1:</span><span class='ee-v'>-2.310493389784539</span></li></ul></li><li><label class='ee-shut'>10: [-54.96494958520648, -2.3104489756132134]<input type='checkbox' class='ee-toggle'></label><ul><li><span class='ee-k'>0:</span><span class='ee-v'>-54.96494958520648</span></li><li><span class='ee-k'>1:</span><span class='ee-v'>-2.3104489756132134</span></li></ul></li><li><label class='ee-shut'>11: [-54.96537536616671, -1.9890030781522787]<input type='checkbox' class='ee-toggle'></label><ul><li><span class='ee-k'>0:</span><span class='ee-v'>-54.96537536616671</span></li><li><span class='ee-k'>1:</span><span class='ee-v'>-1.9890030781522787</span></li></ul></li><li><label class='ee-shut'>12: [-54.96548536203257, -1.9888788013913736]<input type='checkbox' class='ee-toggle'></label><ul><li><span class='ee-k'>0:</span><span class='ee-v'>-54.96548536203257</span></li><li><span class='ee-k'>1:</span><span class='ee-v'>-1.9888788013913736</span></li></ul></li><li><label class='ee-shut'>13: [-54.96557880401176, -1.9887418286222167]<input type='checkbox' class='ee-toggle'></label><ul><li><span class='ee-k'>0:</span><span class='ee-v'>-54.96557880401176</span></li><li><span class='ee-k'>1:</span><span class='ee-v'>-1.9887418286222167</span></li></ul></li><li><label class='ee-shut'>14: [-54.96562325621276, -1.9887333958904014]<input type='checkbox' class='ee-toggle'></label><ul><li><span class='ee-k'>0:</span><span class='ee-v'>-54.96562325621276</span></li><li><span class='ee-k'>1:</span><span class='ee-v'>-1.9887333958904014</span></li></ul></li><li><label class='ee-shut'>15: [-56.0076331277673, -1.9896950199386851]<input type='checkbox' class='ee-toggle'></label><ul><li><span class='ee-k'>0:</span><span class='ee-v'>-56.0076331277673</span></li><li><span class='ee-k'>1:</span><span class='ee-v'>-1.9896950199386851</span></li></ul></li><li><label class='ee-shut'>16: [-56.00775753557763, -1.9898048265148425]<input type='checkbox' class='ee-toggle'></label><ul><li><span class='ee-k'>0:</span><span class='ee-v'>-56.00775753557763</span></li><li><span class='ee-k'>1:</span><span class='ee-v'>-1.9898048265148425</span></li></ul></li><li><label class='ee-shut'>17: [-56.00789469899878, -1.9898981788466987]<input type='checkbox' class='ee-toggle'></label><ul><li><span class='ee-k'>0:</span><span class='ee-v'>-56.00789469899878</span></li><li><span class='ee-k'>1:</span><span class='ee-v'>-1.9898981788466987</span></li></ul></li><li><label class='ee-shut'>18: [-56.00790099168393, -1.9899313951966122]<input type='checkbox' class='ee-toggle'></label><ul><li><span class='ee-k'>0:</span><span class='ee-v'>-56.00790099168393</span></li><li><span class='ee-k'>1:</span><span class='ee-v'>-1.9899313951966122</span></li></ul></li></ul></li></ul></li><li><span class='ee-k'>system:index:</span><span class='ee-v'>BOA_LE07_227062_20130715</span></li><li><span class='ee-k'>system:time_end:</span><span class='ee-v'>1373895815971</span></li><li><span class='ee-k'>system:time_start:</span><span class='ee-v'>1373895815971</span></li></ul></li></ul></li></ul></li></ul></li></ul></div><script>function toggleHeader() {\n",
              "    const parent = this.parentElement;\n",
              "    parent.className = parent.className === \"ee-open\" ? \"ee-shut\" : \"ee-open\";\n",
              "}\n",
              "\n",
              "for (let c of document.getElementsByClassName(\"ee-toggle\")) {\n",
              "    c.onclick = toggleHeader;\n",
              "}</script></div>"
            ]
          },
          "metadata": {},
          "execution_count": 44
        }
      ]
    },
    {
      "cell_type": "code",
      "source": [
        "brdf_ld8 = brdf(ld8)\n",
        "brdf_ld8.limit(2)"
      ],
      "metadata": {
        "id": "E_ZKqwqXeOjU",
        "outputId": "2233ff82-6527-40cb-cb7a-16f87d83b519",
        "colab": {
          "base_uri": "https://localhost:8080/",
          "height": 68
        }
      },
      "execution_count": 45,
      "outputs": [
        {
          "output_type": "display_data",
          "data": {
            "text/plain": [
              "<IPython.core.display.HTML object>"
            ],
            "text/html": [
              "\n",
              "            <style>\n",
              "                .geemap-dark {\n",
              "                    --jp-widgets-color: white;\n",
              "                    --jp-widgets-label-color: white;\n",
              "                    --jp-ui-font-color1: white;\n",
              "                    --jp-layout-color2: #454545;\n",
              "                    background-color: #383838;\n",
              "                }\n",
              "\n",
              "                .geemap-dark .jupyter-button {\n",
              "                    --jp-layout-color3: #383838;\n",
              "                }\n",
              "\n",
              "                .geemap-colab {\n",
              "                    background-color: var(--colab-primary-surface-color, white);\n",
              "                }\n",
              "\n",
              "                .geemap-colab .jupyter-button {\n",
              "                    --jp-layout-color3: var(--colab-primary-surface-color, white);\n",
              "                }\n",
              "            </style>\n",
              "            "
            ]
          },
          "metadata": {}
        },
        {
          "output_type": "execute_result",
          "data": {
            "text/plain": [
              "<ee.imagecollection.ImageCollection at 0x7cfa23bd4730>"
            ],
            "text/html": [
              "<div><style>:root {\n",
              "  --font-color-primary: var(--jp-content-font-color0, rgba(0, 0, 0, 1));\n",
              "  --font-color-secondary: var(--jp-content-font-color2, rgba(0, 0, 0, 0.6));\n",
              "  --font-color-accent: rgba(123, 31, 162, 1);\n",
              "  --border-color: var(--jp-border-color2, #e0e0e0);\n",
              "  --background-color: var(--jp-layout-color0, white);\n",
              "  --background-color-row-even: var(--jp-layout-color1, white);\n",
              "  --background-color-row-odd: var(--jp-layout-color2, #eeeeee);\n",
              "}\n",
              "\n",
              "html[theme=\"dark\"],\n",
              "body[data-theme=\"dark\"],\n",
              "body.vscode-dark {\n",
              "  --font-color-primary: rgba(255, 255, 255, 1);\n",
              "  --font-color-secondary: rgba(255, 255, 255, 0.6);\n",
              "  --font-color-accent: rgb(173, 132, 190);\n",
              "  --border-color: #2e2e2e;\n",
              "  --background-color: #111111;\n",
              "  --background-color-row-even: #111111;\n",
              "  --background-color-row-odd: #313131;\n",
              "}\n",
              "\n",
              ".ee {\n",
              "  padding: 1em;\n",
              "  line-height: 1.5em;\n",
              "  min-width: 300px;\n",
              "  max-width: 1200px;\n",
              "  overflow-y: scroll;\n",
              "  max-height: 600px;\n",
              "  border: 1px solid var(--border-color);\n",
              "  font-family: monospace;\n",
              "}\n",
              "\n",
              ".ee li {\n",
              "  list-style-type: none;\n",
              "}\n",
              "\n",
              ".ee ul {\n",
              "  padding-left: 1.5em !important;\n",
              "  margin: 0;\n",
              "}\n",
              "\n",
              ".ee > ul {\n",
              "  padding-left: 0 !important;\n",
              "}\n",
              "\n",
              ".ee-open,\n",
              ".ee-shut {\n",
              "  color: var(--font-color-secondary);\n",
              "  cursor: pointer;\n",
              "  margin: 0;\n",
              "}\n",
              "\n",
              ".ee-open:hover,\n",
              ".ee-shut:hover {\n",
              "  color: var(--font-color-primary);\n",
              "}\n",
              "\n",
              ".ee-k {\n",
              "  color: var(--font-color-accent);\n",
              "  margin-right: 6px;\n",
              "}\n",
              "\n",
              ".ee-v {\n",
              "  color: var(--font-color-primary);\n",
              "}\n",
              "\n",
              ".ee-toggle {\n",
              "  display: none;\n",
              "}\n",
              "\n",
              ".ee-shut + ul {\n",
              "  display: none;\n",
              "}\n",
              "\n",
              ".ee-open + ul {\n",
              "  display: block;\n",
              "}\n",
              "\n",
              ".ee-shut::before {\n",
              "  display: inline-block;\n",
              "  content: \"▼\";\n",
              "  margin-right: 6px;\n",
              "  transform: rotate(-90deg);\n",
              "  transition: transform 0.2s;\n",
              "}\n",
              "\n",
              ".ee-open::before {\n",
              "  transform: rotate(0deg);\n",
              "  display: inline-block;\n",
              "  content: \"▼\";\n",
              "  margin-right: 6px;\n",
              "  transition: transform 0.2s;\n",
              "}\n",
              "</style><div class='ee'><ul><li><label class='ee-shut'>ImageCollection projects/ee-curuai/assets/Py6S/LD8/ld8_py6s  (2 elements)<input type='checkbox' class='ee-toggle'></label><ul><li><span class='ee-k'>type:</span><span class='ee-v'>ImageCollection</span></li><li><span class='ee-k'>id:</span><span class='ee-v'>projects/ee-curuai/assets/Py6S/LD8/ld8_py6s</span></li><li><span class='ee-k'>version:</span><span class='ee-v'>1715556657542412</span></li><li><label class='ee-shut'>bands: []<input type='checkbox' class='ee-toggle'></label><ul></ul></li><li><label class='ee-shut'>features: List (2 elements)<input type='checkbox' class='ee-toggle'></label><ul><li><label class='ee-shut'>0: Image projects/ee-curuai/assets/Py6S/LD8/ld8_py6s/BOA_LC08_227062_20130520 (6 bands)<input type='checkbox' class='ee-toggle'></label><ul><li><span class='ee-k'>type:</span><span class='ee-v'>Image</span></li><li><span class='ee-k'>id:</span><span class='ee-v'>projects/ee-curuai/assets/Py6S/LD8/ld8_py6s/BOA_LC08_227062_20130520</span></li><li><span class='ee-k'>version:</span><span class='ee-v'>1715545728405639</span></li><li><label class='ee-shut'>bands: List (6 elements)<input type='checkbox' class='ee-toggle'></label><ul><li><label class='ee-shut'>0: \"blue\", double, EPSG:32721, 3864x1186 px<input type='checkbox' class='ee-toggle'></label><ul><li><span class='ee-k'>id:</span><span class='ee-v'>blue</span></li><li><span class='ee-k'>crs:</span><span class='ee-v'>EPSG:32721</span></li><li><label class='ee-shut'>crs_transform: [30, 0, 610350, 0, -30, 9780030]<input type='checkbox' class='ee-toggle'></label><ul><li><span class='ee-k'>0:</span><span class='ee-v'>30</span></li><li><span class='ee-k'>1:</span><span class='ee-v'>0</span></li><li><span class='ee-k'>2:</span><span class='ee-v'>610350</span></li><li><span class='ee-k'>3:</span><span class='ee-v'>0</span></li><li><span class='ee-k'>4:</span><span class='ee-v'>-30</span></li><li><span class='ee-k'>5:</span><span class='ee-v'>9780030</span></li></ul></li><li><label class='ee-shut'>data_type: double<input type='checkbox' class='ee-toggle'></label><ul><li><span class='ee-k'>type:</span><span class='ee-v'>PixelType</span></li><li><span class='ee-k'>precision:</span><span class='ee-v'>double</span></li></ul></li><li><label class='ee-shut'>dimensions: [3864, 1186]<input type='checkbox' class='ee-toggle'></label><ul><li><span class='ee-k'>0:</span><span class='ee-v'>3864</span></li><li><span class='ee-k'>1:</span><span class='ee-v'>1186</span></li></ul></li></ul></li><li><label class='ee-shut'>1: \"green\", double, EPSG:32721, 3864x1186 px<input type='checkbox' class='ee-toggle'></label><ul><li><span class='ee-k'>id:</span><span class='ee-v'>green</span></li><li><span class='ee-k'>crs:</span><span class='ee-v'>EPSG:32721</span></li><li><label class='ee-shut'>crs_transform: [30, 0, 610350, 0, -30, 9780030]<input type='checkbox' class='ee-toggle'></label><ul><li><span class='ee-k'>0:</span><span class='ee-v'>30</span></li><li><span class='ee-k'>1:</span><span class='ee-v'>0</span></li><li><span class='ee-k'>2:</span><span class='ee-v'>610350</span></li><li><span class='ee-k'>3:</span><span class='ee-v'>0</span></li><li><span class='ee-k'>4:</span><span class='ee-v'>-30</span></li><li><span class='ee-k'>5:</span><span class='ee-v'>9780030</span></li></ul></li><li><label class='ee-shut'>data_type: double<input type='checkbox' class='ee-toggle'></label><ul><li><span class='ee-k'>type:</span><span class='ee-v'>PixelType</span></li><li><span class='ee-k'>precision:</span><span class='ee-v'>double</span></li></ul></li><li><label class='ee-shut'>dimensions: [3864, 1186]<input type='checkbox' class='ee-toggle'></label><ul><li><span class='ee-k'>0:</span><span class='ee-v'>3864</span></li><li><span class='ee-k'>1:</span><span class='ee-v'>1186</span></li></ul></li></ul></li><li><label class='ee-shut'>2: \"red\", double, EPSG:32721, 3864x1186 px<input type='checkbox' class='ee-toggle'></label><ul><li><span class='ee-k'>id:</span><span class='ee-v'>red</span></li><li><span class='ee-k'>crs:</span><span class='ee-v'>EPSG:32721</span></li><li><label class='ee-shut'>crs_transform: [30, 0, 610350, 0, -30, 9780030]<input type='checkbox' class='ee-toggle'></label><ul><li><span class='ee-k'>0:</span><span class='ee-v'>30</span></li><li><span class='ee-k'>1:</span><span class='ee-v'>0</span></li><li><span class='ee-k'>2:</span><span class='ee-v'>610350</span></li><li><span class='ee-k'>3:</span><span class='ee-v'>0</span></li><li><span class='ee-k'>4:</span><span class='ee-v'>-30</span></li><li><span class='ee-k'>5:</span><span class='ee-v'>9780030</span></li></ul></li><li><label class='ee-shut'>data_type: double<input type='checkbox' class='ee-toggle'></label><ul><li><span class='ee-k'>type:</span><span class='ee-v'>PixelType</span></li><li><span class='ee-k'>precision:</span><span class='ee-v'>double</span></li></ul></li><li><label class='ee-shut'>dimensions: [3864, 1186]<input type='checkbox' class='ee-toggle'></label><ul><li><span class='ee-k'>0:</span><span class='ee-v'>3864</span></li><li><span class='ee-k'>1:</span><span class='ee-v'>1186</span></li></ul></li></ul></li><li><label class='ee-shut'>3: \"nir\", double, EPSG:32721, 3864x1186 px<input type='checkbox' class='ee-toggle'></label><ul><li><span class='ee-k'>id:</span><span class='ee-v'>nir</span></li><li><span class='ee-k'>crs:</span><span class='ee-v'>EPSG:32721</span></li><li><label class='ee-shut'>crs_transform: [30, 0, 610350, 0, -30, 9780030]<input type='checkbox' class='ee-toggle'></label><ul><li><span class='ee-k'>0:</span><span class='ee-v'>30</span></li><li><span class='ee-k'>1:</span><span class='ee-v'>0</span></li><li><span class='ee-k'>2:</span><span class='ee-v'>610350</span></li><li><span class='ee-k'>3:</span><span class='ee-v'>0</span></li><li><span class='ee-k'>4:</span><span class='ee-v'>-30</span></li><li><span class='ee-k'>5:</span><span class='ee-v'>9780030</span></li></ul></li><li><label class='ee-shut'>data_type: double<input type='checkbox' class='ee-toggle'></label><ul><li><span class='ee-k'>type:</span><span class='ee-v'>PixelType</span></li><li><span class='ee-k'>precision:</span><span class='ee-v'>double</span></li></ul></li><li><label class='ee-shut'>dimensions: [3864, 1186]<input type='checkbox' class='ee-toggle'></label><ul><li><span class='ee-k'>0:</span><span class='ee-v'>3864</span></li><li><span class='ee-k'>1:</span><span class='ee-v'>1186</span></li></ul></li></ul></li><li><label class='ee-shut'>4: \"swir1\", double, EPSG:32721, 3864x1186 px<input type='checkbox' class='ee-toggle'></label><ul><li><span class='ee-k'>id:</span><span class='ee-v'>swir1</span></li><li><span class='ee-k'>crs:</span><span class='ee-v'>EPSG:32721</span></li><li><label class='ee-shut'>crs_transform: [30, 0, 610350, 0, -30, 9780030]<input type='checkbox' class='ee-toggle'></label><ul><li><span class='ee-k'>0:</span><span class='ee-v'>30</span></li><li><span class='ee-k'>1:</span><span class='ee-v'>0</span></li><li><span class='ee-k'>2:</span><span class='ee-v'>610350</span></li><li><span class='ee-k'>3:</span><span class='ee-v'>0</span></li><li><span class='ee-k'>4:</span><span class='ee-v'>-30</span></li><li><span class='ee-k'>5:</span><span class='ee-v'>9780030</span></li></ul></li><li><label class='ee-shut'>data_type: double<input type='checkbox' class='ee-toggle'></label><ul><li><span class='ee-k'>type:</span><span class='ee-v'>PixelType</span></li><li><span class='ee-k'>precision:</span><span class='ee-v'>double</span></li></ul></li><li><label class='ee-shut'>dimensions: [3864, 1186]<input type='checkbox' class='ee-toggle'></label><ul><li><span class='ee-k'>0:</span><span class='ee-v'>3864</span></li><li><span class='ee-k'>1:</span><span class='ee-v'>1186</span></li></ul></li></ul></li><li><label class='ee-shut'>5: \"swir2\", double, EPSG:32721, 3864x1186 px<input type='checkbox' class='ee-toggle'></label><ul><li><span class='ee-k'>id:</span><span class='ee-v'>swir2</span></li><li><span class='ee-k'>crs:</span><span class='ee-v'>EPSG:32721</span></li><li><label class='ee-shut'>crs_transform: [30, 0, 610350, 0, -30, 9780030]<input type='checkbox' class='ee-toggle'></label><ul><li><span class='ee-k'>0:</span><span class='ee-v'>30</span></li><li><span class='ee-k'>1:</span><span class='ee-v'>0</span></li><li><span class='ee-k'>2:</span><span class='ee-v'>610350</span></li><li><span class='ee-k'>3:</span><span class='ee-v'>0</span></li><li><span class='ee-k'>4:</span><span class='ee-v'>-30</span></li><li><span class='ee-k'>5:</span><span class='ee-v'>9780030</span></li></ul></li><li><label class='ee-shut'>data_type: double<input type='checkbox' class='ee-toggle'></label><ul><li><span class='ee-k'>type:</span><span class='ee-v'>PixelType</span></li><li><span class='ee-k'>precision:</span><span class='ee-v'>double</span></li></ul></li><li><label class='ee-shut'>dimensions: [3864, 1186]<input type='checkbox' class='ee-toggle'></label><ul><li><span class='ee-k'>0:</span><span class='ee-v'>3864</span></li><li><span class='ee-k'>1:</span><span class='ee-v'>1186</span></li></ul></li></ul></li></ul></li><li><label class='ee-shut'>properties: Object (115 properties)<input type='checkbox' class='ee-toggle'></label><ul><li><span class='ee-k'>AC_aerosol_optical_thickness:</span><span class='ee-v'>0.251</span></li><li><span class='ee-k'>AC_date:</span><span class='ee-v'>2013-05-20</span></li><li><span class='ee-k'>AC_ozone:</span><span class='ee-v'>0.253</span></li><li><span class='ee-k'>AC_version:</span><span class='ee-v'>py6S</span></li><li><span class='ee-k'>AC_water_vapour:</span><span class='ee-v'>4.9</span></li><li><span class='ee-k'>CLOUD_COVER:</span><span class='ee-v'>57.72</span></li><li><span class='ee-k'>CLOUD_COVER_LAND:</span><span class='ee-v'>57.72</span></li><li><span class='ee-k'>COLLECTION_CATEGORY:</span><span class='ee-v'>T1</span></li><li><span class='ee-k'>COLLECTION_NUMBER:</span><span class='ee-v'>2</span></li><li><span class='ee-k'>DATA_SOURCE_ELEVATION:</span><span class='ee-v'>GLS2000</span></li><li><span class='ee-k'>DATA_SOURCE_TIRS_STRAY_LIGHT_CORRECTION:</span><span class='ee-v'>TIRS</span></li><li><span class='ee-k'>DATE_ACQUIRED:</span><span class='ee-v'>2013-05-20</span></li><li><span class='ee-k'>DATE_PRODUCT_GENERATED:</span><span class='ee-v'>1599944871000</span></li><li><span class='ee-k'>DATUM:</span><span class='ee-v'>WGS84</span></li><li><span class='ee-k'>EARTH_SUN_DISTANCE:</span><span class='ee-v'>1.0119757</span></li><li><span class='ee-k'>ELLIPSOID:</span><span class='ee-v'>WGS84</span></li><li><span class='ee-k'>GEOMETRIC_RMSE_MODEL:</span><span class='ee-v'>8.976</span></li><li><span class='ee-k'>GEOMETRIC_RMSE_MODEL_X:</span><span class='ee-v'>6.007</span></li><li><span class='ee-k'>GEOMETRIC_RMSE_MODEL_Y:</span><span class='ee-v'>6.669</span></li><li><span class='ee-k'>GRID_CELL_SIZE_PANCHROMATIC:</span><span class='ee-v'>15</span></li><li><span class='ee-k'>GRID_CELL_SIZE_REFLECTIVE:</span><span class='ee-v'>30</span></li><li><span class='ee-k'>GRID_CELL_SIZE_THERMAL:</span><span class='ee-v'>30</span></li><li><span class='ee-k'>GROUND_CONTROL_POINTS_MODEL:</span><span class='ee-v'>110</span></li><li><span class='ee-k'>GROUND_CONTROL_POINTS_VERSION:</span><span class='ee-v'>5</span></li><li><span class='ee-k'>IMAGE_QUALITY_OLI:</span><span class='ee-v'>9</span></li><li><span class='ee-k'>IMAGE_QUALITY_TIRS:</span><span class='ee-v'>9</span></li><li><span class='ee-k'>K1_CONSTANT_BAND_10:</span><span class='ee-v'>774.8853</span></li><li><span class='ee-k'>K1_CONSTANT_BAND_11:</span><span class='ee-v'>480.8883</span></li><li><span class='ee-k'>K2_CONSTANT_BAND_10:</span><span class='ee-v'>1321.0789</span></li><li><span class='ee-k'>K2_CONSTANT_BAND_11:</span><span class='ee-v'>1201.1442</span></li><li><span class='ee-k'>LANDSAT_PRODUCT_ID:</span><span class='ee-v'>LC08_L1TP_227062_20130520_20200912_02_T1</span></li><li><span class='ee-k'>LANDSAT_SCENE_ID:</span><span class='ee-v'>LC82270622013140LGN02</span></li><li><span class='ee-k'>MAP_PROJECTION:</span><span class='ee-v'>UTM</span></li><li><span class='ee-k'>NADIR_OFFNADIR:</span><span class='ee-v'>NADIR</span></li><li><span class='ee-k'>ORIENTATION:</span><span class='ee-v'>NORTH_UP</span></li><li><span class='ee-k'>PANCHROMATIC_LINES:</span><span class='ee-v'>14621</span></li><li><span class='ee-k'>PANCHROMATIC_SAMPLES:</span><span class='ee-v'>15041</span></li><li><span class='ee-k'>PROCESSING_LEVEL:</span><span class='ee-v'>L1TP</span></li><li><span class='ee-k'>PROCESSING_SOFTWARE_VERSION:</span><span class='ee-v'>LPGS_15.3.1c</span></li><li><span class='ee-k'>RADIANCE_ADD_BAND_1:</span><span class='ee-v'>-61.30172</span></li><li><span class='ee-k'>RADIANCE_ADD_BAND_10:</span><span class='ee-v'>0.1</span></li><li><span class='ee-k'>RADIANCE_ADD_BAND_11:</span><span class='ee-v'>0.1</span></li><li><span class='ee-k'>RADIANCE_ADD_BAND_2:</span><span class='ee-v'>-62.77371</span></li><li><span class='ee-k'>RADIANCE_ADD_BAND_3:</span><span class='ee-v'>-57.84543</span></li><li><span class='ee-k'>RADIANCE_ADD_BAND_4:</span><span class='ee-v'>-48.77853</span></li><li><span class='ee-k'>RADIANCE_ADD_BAND_5:</span><span class='ee-v'>-29.85003</span></li><li><span class='ee-k'>RADIANCE_ADD_BAND_6:</span><span class='ee-v'>-7.42343</span></li><li><span class='ee-k'>RADIANCE_ADD_BAND_7:</span><span class='ee-v'>-2.50209</span></li><li><span class='ee-k'>RADIANCE_ADD_BAND_8:</span><span class='ee-v'>-55.20387</span></li><li><span class='ee-k'>RADIANCE_ADD_BAND_9:</span><span class='ee-v'>-11.66607</span></li><li><span class='ee-k'>RADIANCE_MULT_BAND_1:</span><span class='ee-v'>0.01226</span></li><li><span class='ee-k'>RADIANCE_MULT_BAND_10:</span><span class='ee-v'>0.0003342</span></li><li><span class='ee-k'>RADIANCE_MULT_BAND_11:</span><span class='ee-v'>0.0003342</span></li><li><span class='ee-k'>RADIANCE_MULT_BAND_2:</span><span class='ee-v'>0.012555</span></li><li><span class='ee-k'>RADIANCE_MULT_BAND_3:</span><span class='ee-v'>0.011569</span></li><li><span class='ee-k'>RADIANCE_MULT_BAND_4:</span><span class='ee-v'>0.0097557</span></li><li><span class='ee-k'>RADIANCE_MULT_BAND_5:</span><span class='ee-v'>0.00597</span></li><li><span class='ee-k'>RADIANCE_MULT_BAND_6:</span><span class='ee-v'>0.0014847</span></li><li><span class='ee-k'>RADIANCE_MULT_BAND_7:</span><span class='ee-v'>0.00050042</span></li><li><span class='ee-k'>RADIANCE_MULT_BAND_8:</span><span class='ee-v'>0.011041</span></li><li><span class='ee-k'>RADIANCE_MULT_BAND_9:</span><span class='ee-v'>0.0023332</span></li><li><span class='ee-k'>REFLECTANCE_ADD_BAND_1:</span><span class='ee-v'>-0.1</span></li><li><span class='ee-k'>REFLECTANCE_ADD_BAND_2:</span><span class='ee-v'>-0.1</span></li><li><span class='ee-k'>REFLECTANCE_ADD_BAND_3:</span><span class='ee-v'>-0.1</span></li><li><span class='ee-k'>REFLECTANCE_ADD_BAND_4:</span><span class='ee-v'>-0.1</span></li><li><span class='ee-k'>REFLECTANCE_ADD_BAND_5:</span><span class='ee-v'>-0.1</span></li><li><span class='ee-k'>REFLECTANCE_ADD_BAND_6:</span><span class='ee-v'>-0.1</span></li><li><span class='ee-k'>REFLECTANCE_ADD_BAND_7:</span><span class='ee-v'>-0.1</span></li><li><span class='ee-k'>REFLECTANCE_ADD_BAND_8:</span><span class='ee-v'>-0.1</span></li><li><span class='ee-k'>REFLECTANCE_ADD_BAND_9:</span><span class='ee-v'>-0.1</span></li><li><span class='ee-k'>REFLECTANCE_MULT_BAND_1:</span><span class='ee-v'>2e-05</span></li><li><span class='ee-k'>REFLECTANCE_MULT_BAND_2:</span><span class='ee-v'>2e-05</span></li><li><span class='ee-k'>REFLECTANCE_MULT_BAND_3:</span><span class='ee-v'>2e-05</span></li><li><span class='ee-k'>REFLECTANCE_MULT_BAND_4:</span><span class='ee-v'>2e-05</span></li><li><span class='ee-k'>REFLECTANCE_MULT_BAND_5:</span><span class='ee-v'>2e-05</span></li><li><span class='ee-k'>REFLECTANCE_MULT_BAND_6:</span><span class='ee-v'>2e-05</span></li><li><span class='ee-k'>REFLECTANCE_MULT_BAND_7:</span><span class='ee-v'>2e-05</span></li><li><span class='ee-k'>REFLECTANCE_MULT_BAND_8:</span><span class='ee-v'>2e-05</span></li><li><span class='ee-k'>REFLECTANCE_MULT_BAND_9:</span><span class='ee-v'>2e-05</span></li><li><span class='ee-k'>REFLECTIVE_LINES:</span><span class='ee-v'>7311</span></li><li><span class='ee-k'>REFLECTIVE_SAMPLES:</span><span class='ee-v'>7521</span></li><li><span class='ee-k'>REQUEST_ID:</span><span class='ee-v'>L2</span></li><li><span class='ee-k'>RESAMPLING_OPTION:</span><span class='ee-v'>CUBIC_CONVOLUTION</span></li><li><span class='ee-k'>ROLL_ANGLE:</span><span class='ee-v'>-0.001</span></li><li><span class='ee-k'>SATURATION_BAND_1:</span><span class='ee-v'>N</span></li><li><span class='ee-k'>SATURATION_BAND_2:</span><span class='ee-v'>Y</span></li><li><span class='ee-k'>SATURATION_BAND_3:</span><span class='ee-v'>N</span></li><li><span class='ee-k'>SATURATION_BAND_4:</span><span class='ee-v'>Y</span></li><li><span class='ee-k'>SATURATION_BAND_5:</span><span class='ee-v'>Y</span></li><li><span class='ee-k'>SATURATION_BAND_6:</span><span class='ee-v'>Y</span></li><li><span class='ee-k'>SATURATION_BAND_7:</span><span class='ee-v'>Y</span></li><li><span class='ee-k'>SATURATION_BAND_8:</span><span class='ee-v'>N</span></li><li><span class='ee-k'>SATURATION_BAND_9:</span><span class='ee-v'>N</span></li><li><span class='ee-k'>SCENE_CENTER_TIME:</span><span class='ee-v'>13:50:14.4341730Z</span></li><li><span class='ee-k'>SENSOR_ID:</span><span class='ee-v'>OLI_TIRS</span></li><li><span class='ee-k'>SPACECRAFT_ID:</span><span class='ee-v'>LANDSAT_8</span></li><li><span class='ee-k'>STATION_ID:</span><span class='ee-v'>LGN</span></li><li><span class='ee-k'>SUN_AZIMUTH:</span><span class='ee-v'>46.85122505</span></li><li><span class='ee-k'>SUN_ELEVATION:</span><span class='ee-v'>55.67979142</span></li><li><span class='ee-k'>TARGET_WRS_PATH:</span><span class='ee-v'>227</span></li><li><span class='ee-k'>TARGET_WRS_ROW:</span><span class='ee-v'>62</span></li><li><span class='ee-k'>THERMAL_LINES:</span><span class='ee-v'>7311</span></li><li><span class='ee-k'>THERMAL_SAMPLES:</span><span class='ee-v'>7521</span></li><li><span class='ee-k'>TIRS_SSM_MODEL:</span><span class='ee-v'>ACTUAL</span></li><li><span class='ee-k'>TIRS_SSM_POSITION_STATUS:</span><span class='ee-v'>NOMINAL</span></li><li><span class='ee-k'>TRUNCATION_OLI:</span><span class='ee-v'>UPPER</span></li><li><span class='ee-k'>UTM_ZONE:</span><span class='ee-v'>21</span></li><li><span class='ee-k'>WRS_PATH:</span><span class='ee-v'>227</span></li><li><span class='ee-k'>WRS_ROW:</span><span class='ee-v'>62</span></li><li><span class='ee-k'>WRS_TYPE:</span><span class='ee-v'>2</span></li><li><span class='ee-k'>system:asset_size:</span><span class='ee-v'>14724653</span></li><li><label class='ee-shut'>system:footprint: LinearRing (19 vertices)<input type='checkbox' class='ee-toggle'></label><ul><li><span class='ee-k'>type:</span><span class='ee-v'>LinearRing</span></li><li><label class='ee-shut'>coordinates: List (19 elements)<input type='checkbox' class='ee-toggle'></label><ul><li><label class='ee-shut'>0: [-56.00790099168393, -1.9899313951966122]<input type='checkbox' class='ee-toggle'></label><ul><li><span class='ee-k'>0:</span><span class='ee-v'>-56.00790099168393</span></li><li><span class='ee-k'>1:</span><span class='ee-v'>-1.9899313951966122</span></li></ul></li><li><label class='ee-shut'>1: [-56.00790303255488, -1.9899651372103422]<input type='checkbox' class='ee-toggle'></label><ul><li><span class='ee-k'>0:</span><span class='ee-v'>-56.00790303255488</span></li><li><span class='ee-k'>1:</span><span class='ee-v'>-1.9899651372103422</span></li></ul></li><li><label class='ee-shut'>2: [-56.007695289133245, -2.311543999976785]<input type='checkbox' class='ee-toggle'></label><ul><li><span class='ee-k'>0:</span><span class='ee-v'>-56.007695289133245</span></li><li><span class='ee-k'>1:</span><span class='ee-v'>-2.311543999976785</span></li></ul></li><li><label class='ee-shut'>3: [-56.00758542256164, -2.311668371300401]<input type='checkbox' class='ee-toggle'></label><ul><li><span class='ee-k'>0:</span><span class='ee-v'>-56.00758542256164</span></li><li><span class='ee-k'>1:</span><span class='ee-v'>-2.311668371300401</span></li></ul></li><li><label class='ee-shut'>4: [-56.007491968050864, -2.311805420122597]<input type='checkbox' class='ee-toggle'></label><ul><li><span class='ee-k'>0:</span><span class='ee-v'>-56.007491968050864</span></li><li><span class='ee-k'>1:</span><span class='ee-v'>-2.311805420122597</span></li></ul></li><li><label class='ee-shut'>5: [-56.007458719016846, -2.311811703970227]<input type='checkbox' class='ee-toggle'></label><ul><li><span class='ee-k'>0:</span><span class='ee-v'>-56.007458719016846</span></li><li><span class='ee-k'>1:</span><span class='ee-v'>-2.311811703970227</span></li></ul></li><li><label class='ee-shut'>6: [-56.00742495977984, -2.311813812762818]<input type='checkbox' class='ee-toggle'></label><ul><li><span class='ee-k'>0:</span><span class='ee-v'>-56.00742495977984</span></li><li><span class='ee-k'>1:</span><span class='ee-v'>-2.311813812762818</span></li></ul></li><li><label class='ee-shut'>7: [-54.965489059375095, -2.310697073459358]<input type='checkbox' class='ee-toggle'></label><ul><li><span class='ee-k'>0:</span><span class='ee-v'>-54.965489059375095</span></li><li><span class='ee-k'>1:</span><span class='ee-v'>-2.310697073459358</span></li></ul></li><li><label class='ee-shut'>8: [-54.965364694306565, -2.310587193231306]<input type='checkbox' class='ee-toggle'></label><ul><li><span class='ee-k'>0:</span><span class='ee-v'>-54.965364694306565</span></li><li><span class='ee-k'>1:</span><span class='ee-v'>-2.310587193231306</span></li></ul></li><li><label class='ee-shut'>9: [-54.96522755682257, -2.3104937772016316]<input type='checkbox' class='ee-toggle'></label><ul><li><span class='ee-k'>0:</span><span class='ee-v'>-54.96522755682257</span></li><li><span class='ee-k'>1:</span><span class='ee-v'>-2.3104937772016316</span></li></ul></li><li><label class='ee-shut'>10: [-54.96521915379773, -2.310449360521862]<input type='checkbox' class='ee-toggle'></label><ul><li><span class='ee-k'>0:</span><span class='ee-v'>-54.96521915379773</span></li><li><span class='ee-k'>1:</span><span class='ee-v'>-2.310449360521862</span></li></ul></li><li><label class='ee-shut'>11: [-54.96564502015339, -1.989003396395678]<input type='checkbox' class='ee-toggle'></label><ul><li><span class='ee-k'>0:</span><span class='ee-v'>-54.96564502015339</span></li><li><span class='ee-k'>1:</span><span class='ee-v'>-1.989003396395678</span></li></ul></li><li><label class='ee-shut'>12: [-54.96575493234115, -1.9888791171772373]<input type='checkbox' class='ee-toggle'></label><ul><li><span class='ee-k'>0:</span><span class='ee-v'>-54.96575493234115</span></li><li><span class='ee-k'>1:</span><span class='ee-v'>-1.9888791171772373</span></li></ul></li><li><label class='ee-shut'>13: [-54.96584845865072, -1.9887421460016503]<input type='checkbox' class='ee-toggle'></label><ul><li><span class='ee-k'>0:</span><span class='ee-v'>-54.96584845865072</span></li><li><span class='ee-k'>1:</span><span class='ee-v'>-1.9887421460016503</span></li></ul></li><li><label class='ee-shut'>14: [-54.965892826963334, -1.988733772966659]<input type='checkbox' class='ee-toggle'></label><ul><li><span class='ee-k'>0:</span><span class='ee-v'>-54.965892826963334</span></li><li><span class='ee-k'>1:</span><span class='ee-v'>-1.988733772966659</span></li></ul></li><li><label class='ee-shut'>15: [-56.0076331277673, -1.9896950199386851]<input type='checkbox' class='ee-toggle'></label><ul><li><span class='ee-k'>0:</span><span class='ee-v'>-56.0076331277673</span></li><li><span class='ee-k'>1:</span><span class='ee-v'>-1.9896950199386851</span></li></ul></li><li><label class='ee-shut'>16: [-56.00775753557763, -1.9898048265148425]<input type='checkbox' class='ee-toggle'></label><ul><li><span class='ee-k'>0:</span><span class='ee-v'>-56.00775753557763</span></li><li><span class='ee-k'>1:</span><span class='ee-v'>-1.9898048265148425</span></li></ul></li><li><label class='ee-shut'>17: [-56.00789469899878, -1.9898981788466987]<input type='checkbox' class='ee-toggle'></label><ul><li><span class='ee-k'>0:</span><span class='ee-v'>-56.00789469899878</span></li><li><span class='ee-k'>1:</span><span class='ee-v'>-1.9898981788466987</span></li></ul></li><li><label class='ee-shut'>18: [-56.00790099168393, -1.9899313951966122]<input type='checkbox' class='ee-toggle'></label><ul><li><span class='ee-k'>0:</span><span class='ee-v'>-56.00790099168393</span></li><li><span class='ee-k'>1:</span><span class='ee-v'>-1.9899313951966122</span></li></ul></li></ul></li></ul></li><li><span class='ee-k'>system:index:</span><span class='ee-v'>BOA_LC08_227062_20130520</span></li><li><span class='ee-k'>system:time_end:</span><span class='ee-v'>1369057814434</span></li><li><span class='ee-k'>system:time_start:</span><span class='ee-v'>1369057814434</span></li></ul></li></ul></li><li><label class='ee-shut'>1: Image projects/ee-curuai/assets/Py6S/LD8/ld8_py6s/BOA_LC08_227062_20130605 (6 bands)<input type='checkbox' class='ee-toggle'></label><ul><li><span class='ee-k'>type:</span><span class='ee-v'>Image</span></li><li><span class='ee-k'>id:</span><span class='ee-v'>projects/ee-curuai/assets/Py6S/LD8/ld8_py6s/BOA_LC08_227062_20130605</span></li><li><span class='ee-k'>version:</span><span class='ee-v'>1715545747013788</span></li><li><label class='ee-shut'>bands: List (6 elements)<input type='checkbox' class='ee-toggle'></label><ul><li><label class='ee-shut'>0: \"blue\", double, EPSG:32721, 3864x1186 px<input type='checkbox' class='ee-toggle'></label><ul><li><span class='ee-k'>id:</span><span class='ee-v'>blue</span></li><li><span class='ee-k'>crs:</span><span class='ee-v'>EPSG:32721</span></li><li><label class='ee-shut'>crs_transform: [30, 0, 610350, 0, -30, 9780030]<input type='checkbox' class='ee-toggle'></label><ul><li><span class='ee-k'>0:</span><span class='ee-v'>30</span></li><li><span class='ee-k'>1:</span><span class='ee-v'>0</span></li><li><span class='ee-k'>2:</span><span class='ee-v'>610350</span></li><li><span class='ee-k'>3:</span><span class='ee-v'>0</span></li><li><span class='ee-k'>4:</span><span class='ee-v'>-30</span></li><li><span class='ee-k'>5:</span><span class='ee-v'>9780030</span></li></ul></li><li><label class='ee-shut'>data_type: double<input type='checkbox' class='ee-toggle'></label><ul><li><span class='ee-k'>type:</span><span class='ee-v'>PixelType</span></li><li><span class='ee-k'>precision:</span><span class='ee-v'>double</span></li></ul></li><li><label class='ee-shut'>dimensions: [3864, 1186]<input type='checkbox' class='ee-toggle'></label><ul><li><span class='ee-k'>0:</span><span class='ee-v'>3864</span></li><li><span class='ee-k'>1:</span><span class='ee-v'>1186</span></li></ul></li></ul></li><li><label class='ee-shut'>1: \"green\", double, EPSG:32721, 3864x1186 px<input type='checkbox' class='ee-toggle'></label><ul><li><span class='ee-k'>id:</span><span class='ee-v'>green</span></li><li><span class='ee-k'>crs:</span><span class='ee-v'>EPSG:32721</span></li><li><label class='ee-shut'>crs_transform: [30, 0, 610350, 0, -30, 9780030]<input type='checkbox' class='ee-toggle'></label><ul><li><span class='ee-k'>0:</span><span class='ee-v'>30</span></li><li><span class='ee-k'>1:</span><span class='ee-v'>0</span></li><li><span class='ee-k'>2:</span><span class='ee-v'>610350</span></li><li><span class='ee-k'>3:</span><span class='ee-v'>0</span></li><li><span class='ee-k'>4:</span><span class='ee-v'>-30</span></li><li><span class='ee-k'>5:</span><span class='ee-v'>9780030</span></li></ul></li><li><label class='ee-shut'>data_type: double<input type='checkbox' class='ee-toggle'></label><ul><li><span class='ee-k'>type:</span><span class='ee-v'>PixelType</span></li><li><span class='ee-k'>precision:</span><span class='ee-v'>double</span></li></ul></li><li><label class='ee-shut'>dimensions: [3864, 1186]<input type='checkbox' class='ee-toggle'></label><ul><li><span class='ee-k'>0:</span><span class='ee-v'>3864</span></li><li><span class='ee-k'>1:</span><span class='ee-v'>1186</span></li></ul></li></ul></li><li><label class='ee-shut'>2: \"red\", double, EPSG:32721, 3864x1186 px<input type='checkbox' class='ee-toggle'></label><ul><li><span class='ee-k'>id:</span><span class='ee-v'>red</span></li><li><span class='ee-k'>crs:</span><span class='ee-v'>EPSG:32721</span></li><li><label class='ee-shut'>crs_transform: [30, 0, 610350, 0, -30, 9780030]<input type='checkbox' class='ee-toggle'></label><ul><li><span class='ee-k'>0:</span><span class='ee-v'>30</span></li><li><span class='ee-k'>1:</span><span class='ee-v'>0</span></li><li><span class='ee-k'>2:</span><span class='ee-v'>610350</span></li><li><span class='ee-k'>3:</span><span class='ee-v'>0</span></li><li><span class='ee-k'>4:</span><span class='ee-v'>-30</span></li><li><span class='ee-k'>5:</span><span class='ee-v'>9780030</span></li></ul></li><li><label class='ee-shut'>data_type: double<input type='checkbox' class='ee-toggle'></label><ul><li><span class='ee-k'>type:</span><span class='ee-v'>PixelType</span></li><li><span class='ee-k'>precision:</span><span class='ee-v'>double</span></li></ul></li><li><label class='ee-shut'>dimensions: [3864, 1186]<input type='checkbox' class='ee-toggle'></label><ul><li><span class='ee-k'>0:</span><span class='ee-v'>3864</span></li><li><span class='ee-k'>1:</span><span class='ee-v'>1186</span></li></ul></li></ul></li><li><label class='ee-shut'>3: \"nir\", double, EPSG:32721, 3864x1186 px<input type='checkbox' class='ee-toggle'></label><ul><li><span class='ee-k'>id:</span><span class='ee-v'>nir</span></li><li><span class='ee-k'>crs:</span><span class='ee-v'>EPSG:32721</span></li><li><label class='ee-shut'>crs_transform: [30, 0, 610350, 0, -30, 9780030]<input type='checkbox' class='ee-toggle'></label><ul><li><span class='ee-k'>0:</span><span class='ee-v'>30</span></li><li><span class='ee-k'>1:</span><span class='ee-v'>0</span></li><li><span class='ee-k'>2:</span><span class='ee-v'>610350</span></li><li><span class='ee-k'>3:</span><span class='ee-v'>0</span></li><li><span class='ee-k'>4:</span><span class='ee-v'>-30</span></li><li><span class='ee-k'>5:</span><span class='ee-v'>9780030</span></li></ul></li><li><label class='ee-shut'>data_type: double<input type='checkbox' class='ee-toggle'></label><ul><li><span class='ee-k'>type:</span><span class='ee-v'>PixelType</span></li><li><span class='ee-k'>precision:</span><span class='ee-v'>double</span></li></ul></li><li><label class='ee-shut'>dimensions: [3864, 1186]<input type='checkbox' class='ee-toggle'></label><ul><li><span class='ee-k'>0:</span><span class='ee-v'>3864</span></li><li><span class='ee-k'>1:</span><span class='ee-v'>1186</span></li></ul></li></ul></li><li><label class='ee-shut'>4: \"swir1\", double, EPSG:32721, 3864x1186 px<input type='checkbox' class='ee-toggle'></label><ul><li><span class='ee-k'>id:</span><span class='ee-v'>swir1</span></li><li><span class='ee-k'>crs:</span><span class='ee-v'>EPSG:32721</span></li><li><label class='ee-shut'>crs_transform: [30, 0, 610350, 0, -30, 9780030]<input type='checkbox' class='ee-toggle'></label><ul><li><span class='ee-k'>0:</span><span class='ee-v'>30</span></li><li><span class='ee-k'>1:</span><span class='ee-v'>0</span></li><li><span class='ee-k'>2:</span><span class='ee-v'>610350</span></li><li><span class='ee-k'>3:</span><span class='ee-v'>0</span></li><li><span class='ee-k'>4:</span><span class='ee-v'>-30</span></li><li><span class='ee-k'>5:</span><span class='ee-v'>9780030</span></li></ul></li><li><label class='ee-shut'>data_type: double<input type='checkbox' class='ee-toggle'></label><ul><li><span class='ee-k'>type:</span><span class='ee-v'>PixelType</span></li><li><span class='ee-k'>precision:</span><span class='ee-v'>double</span></li></ul></li><li><label class='ee-shut'>dimensions: [3864, 1186]<input type='checkbox' class='ee-toggle'></label><ul><li><span class='ee-k'>0:</span><span class='ee-v'>3864</span></li><li><span class='ee-k'>1:</span><span class='ee-v'>1186</span></li></ul></li></ul></li><li><label class='ee-shut'>5: \"swir2\", double, EPSG:32721, 3864x1186 px<input type='checkbox' class='ee-toggle'></label><ul><li><span class='ee-k'>id:</span><span class='ee-v'>swir2</span></li><li><span class='ee-k'>crs:</span><span class='ee-v'>EPSG:32721</span></li><li><label class='ee-shut'>crs_transform: [30, 0, 610350, 0, -30, 9780030]<input type='checkbox' class='ee-toggle'></label><ul><li><span class='ee-k'>0:</span><span class='ee-v'>30</span></li><li><span class='ee-k'>1:</span><span class='ee-v'>0</span></li><li><span class='ee-k'>2:</span><span class='ee-v'>610350</span></li><li><span class='ee-k'>3:</span><span class='ee-v'>0</span></li><li><span class='ee-k'>4:</span><span class='ee-v'>-30</span></li><li><span class='ee-k'>5:</span><span class='ee-v'>9780030</span></li></ul></li><li><label class='ee-shut'>data_type: double<input type='checkbox' class='ee-toggle'></label><ul><li><span class='ee-k'>type:</span><span class='ee-v'>PixelType</span></li><li><span class='ee-k'>precision:</span><span class='ee-v'>double</span></li></ul></li><li><label class='ee-shut'>dimensions: [3864, 1186]<input type='checkbox' class='ee-toggle'></label><ul><li><span class='ee-k'>0:</span><span class='ee-v'>3864</span></li><li><span class='ee-k'>1:</span><span class='ee-v'>1186</span></li></ul></li></ul></li></ul></li><li><label class='ee-shut'>properties: Object (117 properties)<input type='checkbox' class='ee-toggle'></label><ul><li><span class='ee-k'>AC_aerosol_optical_thickness:</span><span class='ee-v'>0.251</span></li><li><span class='ee-k'>AC_date:</span><span class='ee-v'>2013-06-05</span></li><li><span class='ee-k'>AC_ozone:</span><span class='ee-v'>0.257</span></li><li><span class='ee-k'>AC_version:</span><span class='ee-v'>py6S</span></li><li><span class='ee-k'>AC_water_vapour:</span><span class='ee-v'>3.7</span></li><li><span class='ee-k'>CLOUD_COVER:</span><span class='ee-v'>26.69</span></li><li><span class='ee-k'>CLOUD_COVER_LAND:</span><span class='ee-v'>26.69</span></li><li><span class='ee-k'>COLLECTION_CATEGORY:</span><span class='ee-v'>T1</span></li><li><span class='ee-k'>COLLECTION_NUMBER:</span><span class='ee-v'>2</span></li><li><span class='ee-k'>DATA_SOURCE_ELEVATION:</span><span class='ee-v'>GLS2000</span></li><li><span class='ee-k'>DATA_SOURCE_TIRS_STRAY_LIGHT_CORRECTION:</span><span class='ee-v'>TIRS</span></li><li><span class='ee-k'>DATE_ACQUIRED:</span><span class='ee-v'>2013-06-05</span></li><li><span class='ee-k'>DATE_PRODUCT_GENERATED:</span><span class='ee-v'>1599974248000</span></li><li><span class='ee-k'>DATUM:</span><span class='ee-v'>WGS84</span></li><li><span class='ee-k'>EARTH_SUN_DISTANCE:</span><span class='ee-v'>1.0146875</span></li><li><span class='ee-k'>ELLIPSOID:</span><span class='ee-v'>WGS84</span></li><li><span class='ee-k'>GEOMETRIC_RMSE_MODEL:</span><span class='ee-v'>7.695</span></li><li><span class='ee-k'>GEOMETRIC_RMSE_MODEL_X:</span><span class='ee-v'>5.606</span></li><li><span class='ee-k'>GEOMETRIC_RMSE_MODEL_Y:</span><span class='ee-v'>5.272</span></li><li><span class='ee-k'>GEOMETRIC_RMSE_VERIFY:</span><span class='ee-v'>4.263</span></li><li><span class='ee-k'>GRID_CELL_SIZE_PANCHROMATIC:</span><span class='ee-v'>15</span></li><li><span class='ee-k'>GRID_CELL_SIZE_REFLECTIVE:</span><span class='ee-v'>30</span></li><li><span class='ee-k'>GRID_CELL_SIZE_THERMAL:</span><span class='ee-v'>30</span></li><li><span class='ee-k'>GROUND_CONTROL_POINTS_MODEL:</span><span class='ee-v'>211</span></li><li><span class='ee-k'>GROUND_CONTROL_POINTS_VERIFY:</span><span class='ee-v'>75</span></li><li><span class='ee-k'>GROUND_CONTROL_POINTS_VERSION:</span><span class='ee-v'>5</span></li><li><span class='ee-k'>IMAGE_QUALITY_OLI:</span><span class='ee-v'>9</span></li><li><span class='ee-k'>IMAGE_QUALITY_TIRS:</span><span class='ee-v'>9</span></li><li><span class='ee-k'>K1_CONSTANT_BAND_10:</span><span class='ee-v'>774.8853</span></li><li><span class='ee-k'>K1_CONSTANT_BAND_11:</span><span class='ee-v'>480.8883</span></li><li><span class='ee-k'>K2_CONSTANT_BAND_10:</span><span class='ee-v'>1321.0789</span></li><li><span class='ee-k'>K2_CONSTANT_BAND_11:</span><span class='ee-v'>1201.1442</span></li><li><span class='ee-k'>LANDSAT_PRODUCT_ID:</span><span class='ee-v'>LC08_L1TP_227062_20130605_20200913_02_T1</span></li><li><span class='ee-k'>LANDSAT_SCENE_ID:</span><span class='ee-v'>LC82270622013156LGN01</span></li><li><span class='ee-k'>MAP_PROJECTION:</span><span class='ee-v'>UTM</span></li><li><span class='ee-k'>NADIR_OFFNADIR:</span><span class='ee-v'>NADIR</span></li><li><span class='ee-k'>ORIENTATION:</span><span class='ee-v'>NORTH_UP</span></li><li><span class='ee-k'>PANCHROMATIC_LINES:</span><span class='ee-v'>14641</span></li><li><span class='ee-k'>PANCHROMATIC_SAMPLES:</span><span class='ee-v'>15041</span></li><li><span class='ee-k'>PROCESSING_LEVEL:</span><span class='ee-v'>L1TP</span></li><li><span class='ee-k'>PROCESSING_SOFTWARE_VERSION:</span><span class='ee-v'>LPGS_15.3.1c</span></li><li><span class='ee-k'>RADIANCE_ADD_BAND_1:</span><span class='ee-v'>-60.97449</span></li><li><span class='ee-k'>RADIANCE_ADD_BAND_10:</span><span class='ee-v'>0.1</span></li><li><span class='ee-k'>RADIANCE_ADD_BAND_11:</span><span class='ee-v'>0.1</span></li><li><span class='ee-k'>RADIANCE_ADD_BAND_2:</span><span class='ee-v'>-62.43863</span></li><li><span class='ee-k'>RADIANCE_ADD_BAND_3:</span><span class='ee-v'>-57.53666</span></li><li><span class='ee-k'>RADIANCE_ADD_BAND_4:</span><span class='ee-v'>-48.51815</span></li><li><span class='ee-k'>RADIANCE_ADD_BAND_5:</span><span class='ee-v'>-29.69069</span></li><li><span class='ee-k'>RADIANCE_ADD_BAND_6:</span><span class='ee-v'>-7.3838</span></li><li><span class='ee-k'>RADIANCE_ADD_BAND_7:</span><span class='ee-v'>-2.48874</span></li><li><span class='ee-k'>RADIANCE_ADD_BAND_8:</span><span class='ee-v'>-54.9092</span></li><li><span class='ee-k'>RADIANCE_ADD_BAND_9:</span><span class='ee-v'>-11.60379</span></li><li><span class='ee-k'>RADIANCE_MULT_BAND_1:</span><span class='ee-v'>0.012195</span></li><li><span class='ee-k'>RADIANCE_MULT_BAND_10:</span><span class='ee-v'>0.0003342</span></li><li><span class='ee-k'>RADIANCE_MULT_BAND_11:</span><span class='ee-v'>0.0003342</span></li><li><span class='ee-k'>RADIANCE_MULT_BAND_2:</span><span class='ee-v'>0.012488</span></li><li><span class='ee-k'>RADIANCE_MULT_BAND_3:</span><span class='ee-v'>0.011507</span></li><li><span class='ee-k'>RADIANCE_MULT_BAND_4:</span><span class='ee-v'>0.0097036</span></li><li><span class='ee-k'>RADIANCE_MULT_BAND_5:</span><span class='ee-v'>0.0059381</span></li><li><span class='ee-k'>RADIANCE_MULT_BAND_6:</span><span class='ee-v'>0.0014768</span></li><li><span class='ee-k'>RADIANCE_MULT_BAND_7:</span><span class='ee-v'>0.00049775</span></li><li><span class='ee-k'>RADIANCE_MULT_BAND_8:</span><span class='ee-v'>0.010982</span></li><li><span class='ee-k'>RADIANCE_MULT_BAND_9:</span><span class='ee-v'>0.0023208</span></li><li><span class='ee-k'>REFLECTANCE_ADD_BAND_1:</span><span class='ee-v'>-0.1</span></li><li><span class='ee-k'>REFLECTANCE_ADD_BAND_2:</span><span class='ee-v'>-0.1</span></li><li><span class='ee-k'>REFLECTANCE_ADD_BAND_3:</span><span class='ee-v'>-0.1</span></li><li><span class='ee-k'>REFLECTANCE_ADD_BAND_4:</span><span class='ee-v'>-0.1</span></li><li><span class='ee-k'>REFLECTANCE_ADD_BAND_5:</span><span class='ee-v'>-0.1</span></li><li><span class='ee-k'>REFLECTANCE_ADD_BAND_6:</span><span class='ee-v'>-0.1</span></li><li><span class='ee-k'>REFLECTANCE_ADD_BAND_7:</span><span class='ee-v'>-0.1</span></li><li><span class='ee-k'>REFLECTANCE_ADD_BAND_8:</span><span class='ee-v'>-0.1</span></li><li><span class='ee-k'>REFLECTANCE_ADD_BAND_9:</span><span class='ee-v'>-0.1</span></li><li><span class='ee-k'>REFLECTANCE_MULT_BAND_1:</span><span class='ee-v'>2e-05</span></li><li><span class='ee-k'>REFLECTANCE_MULT_BAND_2:</span><span class='ee-v'>2e-05</span></li><li><span class='ee-k'>REFLECTANCE_MULT_BAND_3:</span><span class='ee-v'>2e-05</span></li><li><span class='ee-k'>REFLECTANCE_MULT_BAND_4:</span><span class='ee-v'>2e-05</span></li><li><span class='ee-k'>REFLECTANCE_MULT_BAND_5:</span><span class='ee-v'>2e-05</span></li><li><span class='ee-k'>REFLECTANCE_MULT_BAND_6:</span><span class='ee-v'>2e-05</span></li><li><span class='ee-k'>REFLECTANCE_MULT_BAND_7:</span><span class='ee-v'>2e-05</span></li><li><span class='ee-k'>REFLECTANCE_MULT_BAND_8:</span><span class='ee-v'>2e-05</span></li><li><span class='ee-k'>REFLECTANCE_MULT_BAND_9:</span><span class='ee-v'>2e-05</span></li><li><span class='ee-k'>REFLECTIVE_LINES:</span><span class='ee-v'>7321</span></li><li><span class='ee-k'>REFLECTIVE_SAMPLES:</span><span class='ee-v'>7521</span></li><li><span class='ee-k'>REQUEST_ID:</span><span class='ee-v'>L2</span></li><li><span class='ee-k'>RESAMPLING_OPTION:</span><span class='ee-v'>CUBIC_CONVOLUTION</span></li><li><span class='ee-k'>ROLL_ANGLE:</span><span class='ee-v'>-0.001</span></li><li><span class='ee-k'>SATURATION_BAND_1:</span><span class='ee-v'>Y</span></li><li><span class='ee-k'>SATURATION_BAND_2:</span><span class='ee-v'>N</span></li><li><span class='ee-k'>SATURATION_BAND_3:</span><span class='ee-v'>N</span></li><li><span class='ee-k'>SATURATION_BAND_4:</span><span class='ee-v'>N</span></li><li><span class='ee-k'>SATURATION_BAND_5:</span><span class='ee-v'>Y</span></li><li><span class='ee-k'>SATURATION_BAND_6:</span><span class='ee-v'>N</span></li><li><span class='ee-k'>SATURATION_BAND_7:</span><span class='ee-v'>Y</span></li><li><span class='ee-k'>SATURATION_BAND_8:</span><span class='ee-v'>N</span></li><li><span class='ee-k'>SATURATION_BAND_9:</span><span class='ee-v'>N</span></li><li><span class='ee-k'>SCENE_CENTER_TIME:</span><span class='ee-v'>13:50:15.4492370Z</span></li><li><span class='ee-k'>SENSOR_ID:</span><span class='ee-v'>OLI_TIRS</span></li><li><span class='ee-k'>SPACECRAFT_ID:</span><span class='ee-v'>LANDSAT_8</span></li><li><span class='ee-k'>STATION_ID:</span><span class='ee-v'>LGN</span></li><li><span class='ee-k'>SUN_AZIMUTH:</span><span class='ee-v'>44.03632941</span></li><li><span class='ee-k'>SUN_ELEVATION:</span><span class='ee-v'>53.70928613</span></li><li><span class='ee-k'>TARGET_WRS_PATH:</span><span class='ee-v'>227</span></li><li><span class='ee-k'>TARGET_WRS_ROW:</span><span class='ee-v'>62</span></li><li><span class='ee-k'>THERMAL_LINES:</span><span class='ee-v'>7321</span></li><li><span class='ee-k'>THERMAL_SAMPLES:</span><span class='ee-v'>7521</span></li><li><span class='ee-k'>TIRS_SSM_MODEL:</span><span class='ee-v'>ACTUAL</span></li><li><span class='ee-k'>TIRS_SSM_POSITION_STATUS:</span><span class='ee-v'>NOMINAL</span></li><li><span class='ee-k'>TRUNCATION_OLI:</span><span class='ee-v'>UPPER</span></li><li><span class='ee-k'>UTM_ZONE:</span><span class='ee-v'>21</span></li><li><span class='ee-k'>WRS_PATH:</span><span class='ee-v'>227</span></li><li><span class='ee-k'>WRS_ROW:</span><span class='ee-v'>62</span></li><li><span class='ee-k'>WRS_TYPE:</span><span class='ee-v'>2</span></li><li><span class='ee-k'>system:asset_size:</span><span class='ee-v'>23260976</span></li><li><label class='ee-shut'>system:footprint: LinearRing (19 vertices)<input type='checkbox' class='ee-toggle'></label><ul><li><span class='ee-k'>type:</span><span class='ee-v'>LinearRing</span></li><li><label class='ee-shut'>coordinates: List (19 elements)<input type='checkbox' class='ee-toggle'></label><ul><li><label class='ee-shut'>0: [-56.00790099168393, -1.9899313951966122]<input type='checkbox' class='ee-toggle'></label><ul><li><span class='ee-k'>0:</span><span class='ee-v'>-56.00790099168393</span></li><li><span class='ee-k'>1:</span><span class='ee-v'>-1.9899313951966122</span></li></ul></li><li><label class='ee-shut'>1: [-56.00790303255488, -1.9899651372103422]<input type='checkbox' class='ee-toggle'></label><ul><li><span class='ee-k'>0:</span><span class='ee-v'>-56.00790303255488</span></li><li><span class='ee-k'>1:</span><span class='ee-v'>-1.9899651372103422</span></li></ul></li><li><label class='ee-shut'>2: [-56.007695289133245, -2.311543999976785]<input type='checkbox' class='ee-toggle'></label><ul><li><span class='ee-k'>0:</span><span class='ee-v'>-56.007695289133245</span></li><li><span class='ee-k'>1:</span><span class='ee-v'>-2.311543999976785</span></li></ul></li><li><label class='ee-shut'>3: [-56.00758542256164, -2.311668371300401]<input type='checkbox' class='ee-toggle'></label><ul><li><span class='ee-k'>0:</span><span class='ee-v'>-56.00758542256164</span></li><li><span class='ee-k'>1:</span><span class='ee-v'>-2.311668371300401</span></li></ul></li><li><label class='ee-shut'>4: [-56.007491968050864, -2.311805420122597]<input type='checkbox' class='ee-toggle'></label><ul><li><span class='ee-k'>0:</span><span class='ee-v'>-56.007491968050864</span></li><li><span class='ee-k'>1:</span><span class='ee-v'>-2.311805420122597</span></li></ul></li><li><label class='ee-shut'>5: [-56.007458719016846, -2.311811703970227]<input type='checkbox' class='ee-toggle'></label><ul><li><span class='ee-k'>0:</span><span class='ee-v'>-56.007458719016846</span></li><li><span class='ee-k'>1:</span><span class='ee-v'>-2.311811703970227</span></li></ul></li><li><label class='ee-shut'>6: [-56.00742495977984, -2.311813812762818]<input type='checkbox' class='ee-toggle'></label><ul><li><span class='ee-k'>0:</span><span class='ee-v'>-56.00742495977984</span></li><li><span class='ee-k'>1:</span><span class='ee-v'>-2.311813812762818</span></li></ul></li><li><label class='ee-shut'>7: [-54.965489059375095, -2.310697073459358]<input type='checkbox' class='ee-toggle'></label><ul><li><span class='ee-k'>0:</span><span class='ee-v'>-54.965489059375095</span></li><li><span class='ee-k'>1:</span><span class='ee-v'>-2.310697073459358</span></li></ul></li><li><label class='ee-shut'>8: [-54.965364694306565, -2.310587193231306]<input type='checkbox' class='ee-toggle'></label><ul><li><span class='ee-k'>0:</span><span class='ee-v'>-54.965364694306565</span></li><li><span class='ee-k'>1:</span><span class='ee-v'>-2.310587193231306</span></li></ul></li><li><label class='ee-shut'>9: [-54.96522755682257, -2.3104937772016316]<input type='checkbox' class='ee-toggle'></label><ul><li><span class='ee-k'>0:</span><span class='ee-v'>-54.96522755682257</span></li><li><span class='ee-k'>1:</span><span class='ee-v'>-2.3104937772016316</span></li></ul></li><li><label class='ee-shut'>10: [-54.96521915379773, -2.310449360521862]<input type='checkbox' class='ee-toggle'></label><ul><li><span class='ee-k'>0:</span><span class='ee-v'>-54.96521915379773</span></li><li><span class='ee-k'>1:</span><span class='ee-v'>-2.310449360521862</span></li></ul></li><li><label class='ee-shut'>11: [-54.96564502015339, -1.989003396395678]<input type='checkbox' class='ee-toggle'></label><ul><li><span class='ee-k'>0:</span><span class='ee-v'>-54.96564502015339</span></li><li><span class='ee-k'>1:</span><span class='ee-v'>-1.989003396395678</span></li></ul></li><li><label class='ee-shut'>12: [-54.96575493234115, -1.9888791171772373]<input type='checkbox' class='ee-toggle'></label><ul><li><span class='ee-k'>0:</span><span class='ee-v'>-54.96575493234115</span></li><li><span class='ee-k'>1:</span><span class='ee-v'>-1.9888791171772373</span></li></ul></li><li><label class='ee-shut'>13: [-54.96584845865072, -1.9887421460016503]<input type='checkbox' class='ee-toggle'></label><ul><li><span class='ee-k'>0:</span><span class='ee-v'>-54.96584845865072</span></li><li><span class='ee-k'>1:</span><span class='ee-v'>-1.9887421460016503</span></li></ul></li><li><label class='ee-shut'>14: [-54.965892826963334, -1.988733772966659]<input type='checkbox' class='ee-toggle'></label><ul><li><span class='ee-k'>0:</span><span class='ee-v'>-54.965892826963334</span></li><li><span class='ee-k'>1:</span><span class='ee-v'>-1.988733772966659</span></li></ul></li><li><label class='ee-shut'>15: [-56.0076331277673, -1.9896950199386851]<input type='checkbox' class='ee-toggle'></label><ul><li><span class='ee-k'>0:</span><span class='ee-v'>-56.0076331277673</span></li><li><span class='ee-k'>1:</span><span class='ee-v'>-1.9896950199386851</span></li></ul></li><li><label class='ee-shut'>16: [-56.00775753557763, -1.9898048265148425]<input type='checkbox' class='ee-toggle'></label><ul><li><span class='ee-k'>0:</span><span class='ee-v'>-56.00775753557763</span></li><li><span class='ee-k'>1:</span><span class='ee-v'>-1.9898048265148425</span></li></ul></li><li><label class='ee-shut'>17: [-56.00789469899878, -1.9898981788466987]<input type='checkbox' class='ee-toggle'></label><ul><li><span class='ee-k'>0:</span><span class='ee-v'>-56.00789469899878</span></li><li><span class='ee-k'>1:</span><span class='ee-v'>-1.9898981788466987</span></li></ul></li><li><label class='ee-shut'>18: [-56.00790099168393, -1.9899313951966122]<input type='checkbox' class='ee-toggle'></label><ul><li><span class='ee-k'>0:</span><span class='ee-v'>-56.00790099168393</span></li><li><span class='ee-k'>1:</span><span class='ee-v'>-1.9899313951966122</span></li></ul></li></ul></li></ul></li><li><span class='ee-k'>system:index:</span><span class='ee-v'>BOA_LC08_227062_20130605</span></li><li><span class='ee-k'>system:time_end:</span><span class='ee-v'>1370440215449</span></li><li><span class='ee-k'>system:time_start:</span><span class='ee-v'>1370440215449</span></li></ul></li></ul></li></ul></li></ul></li></ul></div><script>function toggleHeader() {\n",
              "    const parent = this.parentElement;\n",
              "    parent.className = parent.className === \"ee-open\" ? \"ee-shut\" : \"ee-open\";\n",
              "}\n",
              "\n",
              "for (let c of document.getElementsByClassName(\"ee-toggle\")) {\n",
              "    c.onclick = toggleHeader;\n",
              "}</script></div>"
            ]
          },
          "metadata": {},
          "execution_count": 45
        }
      ]
    },
    {
      "cell_type": "code",
      "source": [
        "brdf_s2 = brdf(s2)\n",
        "brdf_s2.limit(2)"
      ],
      "metadata": {
        "id": "A6VmFt_NeQmi",
        "outputId": "f4abca0e-b676-45be-db05-12f3c6f0b7b2",
        "colab": {
          "base_uri": "https://localhost:8080/",
          "height": 0
        }
      },
      "execution_count": 46,
      "outputs": [
        {
          "output_type": "display_data",
          "data": {
            "text/plain": [
              "<IPython.core.display.HTML object>"
            ],
            "text/html": [
              "\n",
              "            <style>\n",
              "                .geemap-dark {\n",
              "                    --jp-widgets-color: white;\n",
              "                    --jp-widgets-label-color: white;\n",
              "                    --jp-ui-font-color1: white;\n",
              "                    --jp-layout-color2: #454545;\n",
              "                    background-color: #383838;\n",
              "                }\n",
              "\n",
              "                .geemap-dark .jupyter-button {\n",
              "                    --jp-layout-color3: #383838;\n",
              "                }\n",
              "\n",
              "                .geemap-colab {\n",
              "                    background-color: var(--colab-primary-surface-color, white);\n",
              "                }\n",
              "\n",
              "                .geemap-colab .jupyter-button {\n",
              "                    --jp-layout-color3: var(--colab-primary-surface-color, white);\n",
              "                }\n",
              "            </style>\n",
              "            "
            ]
          },
          "metadata": {}
        },
        {
          "output_type": "execute_result",
          "data": {
            "text/plain": [
              "<ee.imagecollection.ImageCollection at 0x7cfa23be5150>"
            ],
            "text/html": [
              "<div><style>:root {\n",
              "  --font-color-primary: var(--jp-content-font-color0, rgba(0, 0, 0, 1));\n",
              "  --font-color-secondary: var(--jp-content-font-color2, rgba(0, 0, 0, 0.6));\n",
              "  --font-color-accent: rgba(123, 31, 162, 1);\n",
              "  --border-color: var(--jp-border-color2, #e0e0e0);\n",
              "  --background-color: var(--jp-layout-color0, white);\n",
              "  --background-color-row-even: var(--jp-layout-color1, white);\n",
              "  --background-color-row-odd: var(--jp-layout-color2, #eeeeee);\n",
              "}\n",
              "\n",
              "html[theme=\"dark\"],\n",
              "body[data-theme=\"dark\"],\n",
              "body.vscode-dark {\n",
              "  --font-color-primary: rgba(255, 255, 255, 1);\n",
              "  --font-color-secondary: rgba(255, 255, 255, 0.6);\n",
              "  --font-color-accent: rgb(173, 132, 190);\n",
              "  --border-color: #2e2e2e;\n",
              "  --background-color: #111111;\n",
              "  --background-color-row-even: #111111;\n",
              "  --background-color-row-odd: #313131;\n",
              "}\n",
              "\n",
              ".ee {\n",
              "  padding: 1em;\n",
              "  line-height: 1.5em;\n",
              "  min-width: 300px;\n",
              "  max-width: 1200px;\n",
              "  overflow-y: scroll;\n",
              "  max-height: 600px;\n",
              "  border: 1px solid var(--border-color);\n",
              "  font-family: monospace;\n",
              "}\n",
              "\n",
              ".ee li {\n",
              "  list-style-type: none;\n",
              "}\n",
              "\n",
              ".ee ul {\n",
              "  padding-left: 1.5em !important;\n",
              "  margin: 0;\n",
              "}\n",
              "\n",
              ".ee > ul {\n",
              "  padding-left: 0 !important;\n",
              "}\n",
              "\n",
              ".ee-open,\n",
              ".ee-shut {\n",
              "  color: var(--font-color-secondary);\n",
              "  cursor: pointer;\n",
              "  margin: 0;\n",
              "}\n",
              "\n",
              ".ee-open:hover,\n",
              ".ee-shut:hover {\n",
              "  color: var(--font-color-primary);\n",
              "}\n",
              "\n",
              ".ee-k {\n",
              "  color: var(--font-color-accent);\n",
              "  margin-right: 6px;\n",
              "}\n",
              "\n",
              ".ee-v {\n",
              "  color: var(--font-color-primary);\n",
              "}\n",
              "\n",
              ".ee-toggle {\n",
              "  display: none;\n",
              "}\n",
              "\n",
              ".ee-shut + ul {\n",
              "  display: none;\n",
              "}\n",
              "\n",
              ".ee-open + ul {\n",
              "  display: block;\n",
              "}\n",
              "\n",
              ".ee-shut::before {\n",
              "  display: inline-block;\n",
              "  content: \"▼\";\n",
              "  margin-right: 6px;\n",
              "  transform: rotate(-90deg);\n",
              "  transition: transform 0.2s;\n",
              "}\n",
              "\n",
              ".ee-open::before {\n",
              "  transform: rotate(0deg);\n",
              "  display: inline-block;\n",
              "  content: \"▼\";\n",
              "  margin-right: 6px;\n",
              "  transition: transform 0.2s;\n",
              "}\n",
              "</style><div class='ee'><ul><li><label class='ee-shut'>ImageCollection projects/ee-curuai/assets/Py6S/S2/s2_py6s  (2 elements)<input type='checkbox' class='ee-toggle'></label><ul><li><span class='ee-k'>type:</span><span class='ee-v'>ImageCollection</span></li><li><span class='ee-k'>id:</span><span class='ee-v'>projects/ee-curuai/assets/Py6S/S2/s2_py6s</span></li><li><span class='ee-k'>version:</span><span class='ee-v'>1715597316511246</span></li><li><label class='ee-shut'>bands: []<input type='checkbox' class='ee-toggle'></label><ul></ul></li><li><label class='ee-shut'>features: List (2 elements)<input type='checkbox' class='ee-toggle'></label><ul><li><label class='ee-shut'>0: Image projects/ee-curuai/assets/Py6S/S2/s2_py6s/BOA_S220150819T141044_20160427T071221_T21MXT (6 bands)<input type='checkbox' class='ee-toggle'></label><ul><li><span class='ee-k'>type:</span><span class='ee-v'>Image</span></li><li><span class='ee-k'>id:</span><span class='ee-v'>projects/ee-curuai/assets/Py6S/S2/s2_py6s/BOA_S220150819T141044_20160427T071221_T21MXT</span></li><li><span class='ee-k'>version:</span><span class='ee-v'>1715565565752306</span></li><li><label class='ee-shut'>bands: List (6 elements)<input type='checkbox' class='ee-toggle'></label><ul><li><label class='ee-shut'>0: \"blue\", double, EPSG:32721, 3864x1186 px<input type='checkbox' class='ee-toggle'></label><ul><li><span class='ee-k'>id:</span><span class='ee-v'>blue</span></li><li><span class='ee-k'>crs:</span><span class='ee-v'>EPSG:32721</span></li><li><label class='ee-shut'>crs_transform: [30, 0, 610350, 0, -30, 9780030]<input type='checkbox' class='ee-toggle'></label><ul><li><span class='ee-k'>0:</span><span class='ee-v'>30</span></li><li><span class='ee-k'>1:</span><span class='ee-v'>0</span></li><li><span class='ee-k'>2:</span><span class='ee-v'>610350</span></li><li><span class='ee-k'>3:</span><span class='ee-v'>0</span></li><li><span class='ee-k'>4:</span><span class='ee-v'>-30</span></li><li><span class='ee-k'>5:</span><span class='ee-v'>9780030</span></li></ul></li><li><label class='ee-shut'>data_type: double<input type='checkbox' class='ee-toggle'></label><ul><li><span class='ee-k'>type:</span><span class='ee-v'>PixelType</span></li><li><span class='ee-k'>precision:</span><span class='ee-v'>double</span></li></ul></li><li><label class='ee-shut'>dimensions: [3864, 1186]<input type='checkbox' class='ee-toggle'></label><ul><li><span class='ee-k'>0:</span><span class='ee-v'>3864</span></li><li><span class='ee-k'>1:</span><span class='ee-v'>1186</span></li></ul></li></ul></li><li><label class='ee-shut'>1: \"green\", double, EPSG:32721, 3864x1186 px<input type='checkbox' class='ee-toggle'></label><ul><li><span class='ee-k'>id:</span><span class='ee-v'>green</span></li><li><span class='ee-k'>crs:</span><span class='ee-v'>EPSG:32721</span></li><li><label class='ee-shut'>crs_transform: [30, 0, 610350, 0, -30, 9780030]<input type='checkbox' class='ee-toggle'></label><ul><li><span class='ee-k'>0:</span><span class='ee-v'>30</span></li><li><span class='ee-k'>1:</span><span class='ee-v'>0</span></li><li><span class='ee-k'>2:</span><span class='ee-v'>610350</span></li><li><span class='ee-k'>3:</span><span class='ee-v'>0</span></li><li><span class='ee-k'>4:</span><span class='ee-v'>-30</span></li><li><span class='ee-k'>5:</span><span class='ee-v'>9780030</span></li></ul></li><li><label class='ee-shut'>data_type: double<input type='checkbox' class='ee-toggle'></label><ul><li><span class='ee-k'>type:</span><span class='ee-v'>PixelType</span></li><li><span class='ee-k'>precision:</span><span class='ee-v'>double</span></li></ul></li><li><label class='ee-shut'>dimensions: [3864, 1186]<input type='checkbox' class='ee-toggle'></label><ul><li><span class='ee-k'>0:</span><span class='ee-v'>3864</span></li><li><span class='ee-k'>1:</span><span class='ee-v'>1186</span></li></ul></li></ul></li><li><label class='ee-shut'>2: \"red\", double, EPSG:32721, 3864x1186 px<input type='checkbox' class='ee-toggle'></label><ul><li><span class='ee-k'>id:</span><span class='ee-v'>red</span></li><li><span class='ee-k'>crs:</span><span class='ee-v'>EPSG:32721</span></li><li><label class='ee-shut'>crs_transform: [30, 0, 610350, 0, -30, 9780030]<input type='checkbox' class='ee-toggle'></label><ul><li><span class='ee-k'>0:</span><span class='ee-v'>30</span></li><li><span class='ee-k'>1:</span><span class='ee-v'>0</span></li><li><span class='ee-k'>2:</span><span class='ee-v'>610350</span></li><li><span class='ee-k'>3:</span><span class='ee-v'>0</span></li><li><span class='ee-k'>4:</span><span class='ee-v'>-30</span></li><li><span class='ee-k'>5:</span><span class='ee-v'>9780030</span></li></ul></li><li><label class='ee-shut'>data_type: double<input type='checkbox' class='ee-toggle'></label><ul><li><span class='ee-k'>type:</span><span class='ee-v'>PixelType</span></li><li><span class='ee-k'>precision:</span><span class='ee-v'>double</span></li></ul></li><li><label class='ee-shut'>dimensions: [3864, 1186]<input type='checkbox' class='ee-toggle'></label><ul><li><span class='ee-k'>0:</span><span class='ee-v'>3864</span></li><li><span class='ee-k'>1:</span><span class='ee-v'>1186</span></li></ul></li></ul></li><li><label class='ee-shut'>3: \"nir\", double, EPSG:32721, 3864x1186 px<input type='checkbox' class='ee-toggle'></label><ul><li><span class='ee-k'>id:</span><span class='ee-v'>nir</span></li><li><span class='ee-k'>crs:</span><span class='ee-v'>EPSG:32721</span></li><li><label class='ee-shut'>crs_transform: [30, 0, 610350, 0, -30, 9780030]<input type='checkbox' class='ee-toggle'></label><ul><li><span class='ee-k'>0:</span><span class='ee-v'>30</span></li><li><span class='ee-k'>1:</span><span class='ee-v'>0</span></li><li><span class='ee-k'>2:</span><span class='ee-v'>610350</span></li><li><span class='ee-k'>3:</span><span class='ee-v'>0</span></li><li><span class='ee-k'>4:</span><span class='ee-v'>-30</span></li><li><span class='ee-k'>5:</span><span class='ee-v'>9780030</span></li></ul></li><li><label class='ee-shut'>data_type: double<input type='checkbox' class='ee-toggle'></label><ul><li><span class='ee-k'>type:</span><span class='ee-v'>PixelType</span></li><li><span class='ee-k'>precision:</span><span class='ee-v'>double</span></li></ul></li><li><label class='ee-shut'>dimensions: [3864, 1186]<input type='checkbox' class='ee-toggle'></label><ul><li><span class='ee-k'>0:</span><span class='ee-v'>3864</span></li><li><span class='ee-k'>1:</span><span class='ee-v'>1186</span></li></ul></li></ul></li><li><label class='ee-shut'>4: \"swir1\", double, EPSG:32721, 3864x1186 px<input type='checkbox' class='ee-toggle'></label><ul><li><span class='ee-k'>id:</span><span class='ee-v'>swir1</span></li><li><span class='ee-k'>crs:</span><span class='ee-v'>EPSG:32721</span></li><li><label class='ee-shut'>crs_transform: [30, 0, 610350, 0, -30, 9780030]<input type='checkbox' class='ee-toggle'></label><ul><li><span class='ee-k'>0:</span><span class='ee-v'>30</span></li><li><span class='ee-k'>1:</span><span class='ee-v'>0</span></li><li><span class='ee-k'>2:</span><span class='ee-v'>610350</span></li><li><span class='ee-k'>3:</span><span class='ee-v'>0</span></li><li><span class='ee-k'>4:</span><span class='ee-v'>-30</span></li><li><span class='ee-k'>5:</span><span class='ee-v'>9780030</span></li></ul></li><li><label class='ee-shut'>data_type: double<input type='checkbox' class='ee-toggle'></label><ul><li><span class='ee-k'>type:</span><span class='ee-v'>PixelType</span></li><li><span class='ee-k'>precision:</span><span class='ee-v'>double</span></li></ul></li><li><label class='ee-shut'>dimensions: [3864, 1186]<input type='checkbox' class='ee-toggle'></label><ul><li><span class='ee-k'>0:</span><span class='ee-v'>3864</span></li><li><span class='ee-k'>1:</span><span class='ee-v'>1186</span></li></ul></li></ul></li><li><label class='ee-shut'>5: \"swir2\", double, EPSG:32721, 3864x1186 px<input type='checkbox' class='ee-toggle'></label><ul><li><span class='ee-k'>id:</span><span class='ee-v'>swir2</span></li><li><span class='ee-k'>crs:</span><span class='ee-v'>EPSG:32721</span></li><li><label class='ee-shut'>crs_transform: [30, 0, 610350, 0, -30, 9780030]<input type='checkbox' class='ee-toggle'></label><ul><li><span class='ee-k'>0:</span><span class='ee-v'>30</span></li><li><span class='ee-k'>1:</span><span class='ee-v'>0</span></li><li><span class='ee-k'>2:</span><span class='ee-v'>610350</span></li><li><span class='ee-k'>3:</span><span class='ee-v'>0</span></li><li><span class='ee-k'>4:</span><span class='ee-v'>-30</span></li><li><span class='ee-k'>5:</span><span class='ee-v'>9780030</span></li></ul></li><li><label class='ee-shut'>data_type: double<input type='checkbox' class='ee-toggle'></label><ul><li><span class='ee-k'>type:</span><span class='ee-v'>PixelType</span></li><li><span class='ee-k'>precision:</span><span class='ee-v'>double</span></li></ul></li><li><label class='ee-shut'>dimensions: [3864, 1186]<input type='checkbox' class='ee-toggle'></label><ul><li><span class='ee-k'>0:</span><span class='ee-v'>3864</span></li><li><span class='ee-k'>1:</span><span class='ee-v'>1186</span></li></ul></li></ul></li></ul></li><li><label class='ee-shut'>properties: Object (80 properties)<input type='checkbox' class='ee-toggle'></label><ul><li><span class='ee-k'>AC_aerosol_optical_thickness:</span><span class='ee-v'>0.322</span></li><li><span class='ee-k'>AC_date:</span><span class='ee-v'>2015-08-19</span></li><li><span class='ee-k'>AC_ozone:</span><span class='ee-v'>0.287</span></li><li><span class='ee-k'>AC_version:</span><span class='ee-v'>py6S</span></li><li><span class='ee-k'>AC_water_vapour:</span><span class='ee-v'>4.3700000762939455</span></li><li><span class='ee-k'>CLOUDY_PIXEL_PERCENTAGE:</span><span class='ee-v'>2.1521</span></li><li><span class='ee-k'>CLOUD_COVERAGE_ASSESSMENT:</span><span class='ee-v'>13.222576923076922</span></li><li><span class='ee-k'>DATASTRIP_ID:</span><span class='ee-v'>S2A_OPER_MSI_L1C_DS_EPA__20160427T071221_S20150819T141044_N02.01</span></li><li><span class='ee-k'>DATATAKE_IDENTIFIER:</span><span class='ee-v'>GS2A_20150819T141046_000822_N02.01</span></li><li><span class='ee-k'>DATATAKE_TYPE:</span><span class='ee-v'>INS-NOBS</span></li><li><span class='ee-k'>DEGRADED_MSI_DATA_PERCENTAGE:</span><span class='ee-v'>0</span></li><li><span class='ee-k'>ECMWF_DATA_REF:</span><span class='ee-v'>S2__OPER_AUX_ECMWFD_FAKE_19800101T000000_V19800101T000000_19800101T000000</span></li><li><span class='ee-k'>FORMAT_CORRECTNESS:</span><span class='ee-v'>PASSED</span></li><li><span class='ee-k'>FORMAT_CORRECTNESS_FLAG:</span><span class='ee-v'>PASSED</span></li><li><span class='ee-k'>GENERAL_QUALITY:</span><span class='ee-v'>PASSED</span></li><li><span class='ee-k'>GENERAL_QUALITY_FLAG:</span><span class='ee-v'>PASSED</span></li><li><span class='ee-k'>GENERATION_TIME:</span><span class='ee-v'>1461750286000</span></li><li><span class='ee-k'>GEOMETRIC_QUALITY:</span><span class='ee-v'>PASSED</span></li><li><span class='ee-k'>GEOMETRIC_QUALITY_FLAG:</span><span class='ee-v'>PASSED</span></li><li><span class='ee-k'>GRANULE_ID:</span><span class='ee-v'>S2A_OPER_MSI_L1C_TL_EPA__20160427T071221_A000822_T21MXT_N02.01</span></li><li><span class='ee-k'>GRI_FILENAME:</span><span class='ee-v'>S2A_OPER_AUX_GRI065_PDMC_20130621T120000_S20130101T000000</span></li><li><span class='ee-k'>IERS_BULLETIN_FILENAME:</span><span class='ee-v'>S2__OPER_AUX_UT1UTC_PDMC_20150813T000000_V20150814T000000_20160813T000000</span></li><li><span class='ee-k'>MEAN_INCIDENCE_AZIMUTH_ANGLE_B1:</span><span class='ee-v'>267.73201954406</span></li><li><span class='ee-k'>MEAN_INCIDENCE_AZIMUTH_ANGLE_B10:</span><span class='ee-v'>269.078247160748</span></li><li><span class='ee-k'>MEAN_INCIDENCE_AZIMUTH_ANGLE_B11:</span><span class='ee-v'>268.494496133581</span></li><li><span class='ee-k'>MEAN_INCIDENCE_AZIMUTH_ANGLE_B12:</span><span class='ee-v'>267.890800616442</span></li><li><span class='ee-k'>MEAN_INCIDENCE_AZIMUTH_ANGLE_B2:</span><span class='ee-v'>271.180706062613</span></li><li><span class='ee-k'>MEAN_INCIDENCE_AZIMUTH_ANGLE_B3:</span><span class='ee-v'>269.781642998043</span></li><li><span class='ee-k'>MEAN_INCIDENCE_AZIMUTH_ANGLE_B4:</span><span class='ee-v'>268.958909022018</span></li><li><span class='ee-k'>MEAN_INCIDENCE_AZIMUTH_ANGLE_B5:</span><span class='ee-v'>268.56045826488</span></li><li><span class='ee-k'>MEAN_INCIDENCE_AZIMUTH_ANGLE_B6:</span><span class='ee-v'>268.338754134364</span></li><li><span class='ee-k'>MEAN_INCIDENCE_AZIMUTH_ANGLE_B7:</span><span class='ee-v'>268.101840324027</span></li><li><span class='ee-k'>MEAN_INCIDENCE_AZIMUTH_ANGLE_B8:</span><span class='ee-v'>270.388152056588</span></li><li><span class='ee-k'>MEAN_INCIDENCE_AZIMUTH_ANGLE_B8A:</span><span class='ee-v'>267.924003773181</span></li><li><span class='ee-k'>MEAN_INCIDENCE_AZIMUTH_ANGLE_B9:</span><span class='ee-v'>267.615183483877</span></li><li><span class='ee-k'>MEAN_INCIDENCE_ZENITH_ANGLE_B1:</span><span class='ee-v'>5.01584700145889</span></li><li><span class='ee-k'>MEAN_INCIDENCE_ZENITH_ANGLE_B10:</span><span class='ee-v'>4.69613325906059</span></li><li><span class='ee-k'>MEAN_INCIDENCE_ZENITH_ANGLE_B11:</span><span class='ee-v'>4.82334652347917</span></li><li><span class='ee-k'>MEAN_INCIDENCE_ZENITH_ANGLE_B12:</span><span class='ee-v'>4.95827010100822</span></li><li><span class='ee-k'>MEAN_INCIDENCE_ZENITH_ANGLE_B2:</span><span class='ee-v'>4.57309181018179</span></li><li><span class='ee-k'>MEAN_INCIDENCE_ZENITH_ANGLE_B3:</span><span class='ee-v'>4.64096393405773</span></li><li><span class='ee-k'>MEAN_INCIDENCE_ZENITH_ANGLE_B4:</span><span class='ee-v'>4.72217792078289</span></li><li><span class='ee-k'>MEAN_INCIDENCE_ZENITH_ANGLE_B5:</span><span class='ee-v'>4.77027061010782</span></li><li><span class='ee-k'>MEAN_INCIDENCE_ZENITH_ANGLE_B6:</span><span class='ee-v'>4.82971449921135</span></li><li><span class='ee-k'>MEAN_INCIDENCE_ZENITH_ANGLE_B7:</span><span class='ee-v'>4.88732080615634</span></li><li><span class='ee-k'>MEAN_INCIDENCE_ZENITH_ANGLE_B8:</span><span class='ee-v'>4.60334640361898</span></li><li><span class='ee-k'>MEAN_INCIDENCE_ZENITH_ANGLE_B8A:</span><span class='ee-v'>4.94796344508035</span></li><li><span class='ee-k'>MEAN_INCIDENCE_ZENITH_ANGLE_B9:</span><span class='ee-v'>5.08682683581135</span></li><li><span class='ee-k'>MEAN_SOLAR_AZIMUTH_ANGLE:</span><span class='ee-v'>56.2875267508208</span></li><li><span class='ee-k'>MEAN_SOLAR_ZENITH_ANGLE:</span><span class='ee-v'>27.5357072057104</span></li><li><span class='ee-k'>MGRS_TILE:</span><span class='ee-v'>21MXT</span></li><li><span class='ee-k'>PROCESSING_BASELINE:</span><span class='ee-v'>02.01</span></li><li><span class='ee-k'>PRODUCTION_DEM_TYPE:</span><span class='ee-v'>S2__OPER_DEM_GLOBEF_PDMC_19800101T000000_S19800101T000000</span></li><li><span class='ee-k'>PRODUCT_ID:</span><span class='ee-v'>S2A_OPER_PRD_MSIL1C_PDMC_20160427T094446_R110_V20150819T141044_20150819T141044</span></li><li><span class='ee-k'>PRODUCT_URI:</span><span class='ee-v'>400_2016-04-27T09_23</span></li><li><span class='ee-k'>RADIOMETRIC_QUALITY:</span><span class='ee-v'>PASSED</span></li><li><span class='ee-k'>RADIOMETRIC_QUALITY_FLAG:</span><span class='ee-v'>PASSED</span></li><li><span class='ee-k'>REFLECTANCE_CONVERSION_CORRECTION:</span><span class='ee-v'>0.975305483290767</span></li><li><span class='ee-k'>SENSING_ORBIT_DIRECTION:</span><span class='ee-v'>DESCENDING</span></li><li><span class='ee-k'>SENSING_ORBIT_NUMBER:</span><span class='ee-v'>110</span></li><li><span class='ee-k'>SENSOR_QUALITY:</span><span class='ee-v'>PASSED</span></li><li><span class='ee-k'>SENSOR_QUALITY_FLAG:</span><span class='ee-v'>PASSED</span></li><li><span class='ee-k'>SOLAR_IRRADIANCE_B1:</span><span class='ee-v'>1913.57</span></li><li><span class='ee-k'>SOLAR_IRRADIANCE_B10:</span><span class='ee-v'>367.15</span></li><li><span class='ee-k'>SOLAR_IRRADIANCE_B11:</span><span class='ee-v'>245.59</span></li><li><span class='ee-k'>SOLAR_IRRADIANCE_B12:</span><span class='ee-v'>85.25</span></li><li><span class='ee-k'>SOLAR_IRRADIANCE_B2:</span><span class='ee-v'>1941.63</span></li><li><span class='ee-k'>SOLAR_IRRADIANCE_B3:</span><span class='ee-v'>1822.61</span></li><li><span class='ee-k'>SOLAR_IRRADIANCE_B4:</span><span class='ee-v'>1512.79</span></li><li><span class='ee-k'>SOLAR_IRRADIANCE_B5:</span><span class='ee-v'>1425.56</span></li><li><span class='ee-k'>SOLAR_IRRADIANCE_B6:</span><span class='ee-v'>1288.32</span></li><li><span class='ee-k'>SOLAR_IRRADIANCE_B7:</span><span class='ee-v'>1163.19</span></li><li><span class='ee-k'>SOLAR_IRRADIANCE_B8:</span><span class='ee-v'>1036.39</span></li><li><span class='ee-k'>SOLAR_IRRADIANCE_B8A:</span><span class='ee-v'>955.19</span></li><li><span class='ee-k'>SOLAR_IRRADIANCE_B9:</span><span class='ee-v'>813.04</span></li><li><span class='ee-k'>SPACECRAFT_NAME:</span><span class='ee-v'>Sentinel-2A</span></li><li><span class='ee-k'>system:asset_size:</span><span class='ee-v'>85245952</span></li><li><label class='ee-shut'>system:footprint: LinearRing (19 vertices)<input type='checkbox' class='ee-toggle'></label><ul><li><span class='ee-k'>type:</span><span class='ee-v'>LinearRing</span></li><li><label class='ee-shut'>coordinates: List (19 elements)<input type='checkbox' class='ee-toggle'></label><ul><li><label class='ee-shut'>0: [-56.00790099168393, -1.9899313951966122]<input type='checkbox' class='ee-toggle'></label><ul><li><span class='ee-k'>0:</span><span class='ee-v'>-56.00790099168393</span></li><li><span class='ee-k'>1:</span><span class='ee-v'>-1.9899313951966122</span></li></ul></li><li><label class='ee-shut'>1: [-56.00790303255488, -1.9899651372103422]<input type='checkbox' class='ee-toggle'></label><ul><li><span class='ee-k'>0:</span><span class='ee-v'>-56.00790303255488</span></li><li><span class='ee-k'>1:</span><span class='ee-v'>-1.9899651372103422</span></li></ul></li><li><label class='ee-shut'>2: [-56.007695289133245, -2.311543999976785]<input type='checkbox' class='ee-toggle'></label><ul><li><span class='ee-k'>0:</span><span class='ee-v'>-56.007695289133245</span></li><li><span class='ee-k'>1:</span><span class='ee-v'>-2.311543999976785</span></li></ul></li><li><label class='ee-shut'>3: [-56.00758542256164, -2.311668371300401]<input type='checkbox' class='ee-toggle'></label><ul><li><span class='ee-k'>0:</span><span class='ee-v'>-56.00758542256164</span></li><li><span class='ee-k'>1:</span><span class='ee-v'>-2.311668371300401</span></li></ul></li><li><label class='ee-shut'>4: [-56.007491968050864, -2.311805420122597]<input type='checkbox' class='ee-toggle'></label><ul><li><span class='ee-k'>0:</span><span class='ee-v'>-56.007491968050864</span></li><li><span class='ee-k'>1:</span><span class='ee-v'>-2.311805420122597</span></li></ul></li><li><label class='ee-shut'>5: [-56.007458719016846, -2.311811703970227]<input type='checkbox' class='ee-toggle'></label><ul><li><span class='ee-k'>0:</span><span class='ee-v'>-56.007458719016846</span></li><li><span class='ee-k'>1:</span><span class='ee-v'>-2.311811703970227</span></li></ul></li><li><label class='ee-shut'>6: [-56.00742495977984, -2.311813812762818]<input type='checkbox' class='ee-toggle'></label><ul><li><span class='ee-k'>0:</span><span class='ee-v'>-56.00742495977984</span></li><li><span class='ee-k'>1:</span><span class='ee-v'>-2.311813812762818</span></li></ul></li><li><label class='ee-shut'>7: [-54.965489059375095, -2.310697073459358]<input type='checkbox' class='ee-toggle'></label><ul><li><span class='ee-k'>0:</span><span class='ee-v'>-54.965489059375095</span></li><li><span class='ee-k'>1:</span><span class='ee-v'>-2.310697073459358</span></li></ul></li><li><label class='ee-shut'>8: [-54.965364694306565, -2.310587193231306]<input type='checkbox' class='ee-toggle'></label><ul><li><span class='ee-k'>0:</span><span class='ee-v'>-54.965364694306565</span></li><li><span class='ee-k'>1:</span><span class='ee-v'>-2.310587193231306</span></li></ul></li><li><label class='ee-shut'>9: [-54.96522755682257, -2.3104937772016316]<input type='checkbox' class='ee-toggle'></label><ul><li><span class='ee-k'>0:</span><span class='ee-v'>-54.96522755682257</span></li><li><span class='ee-k'>1:</span><span class='ee-v'>-2.3104937772016316</span></li></ul></li><li><label class='ee-shut'>10: [-54.96521915379773, -2.310449360521862]<input type='checkbox' class='ee-toggle'></label><ul><li><span class='ee-k'>0:</span><span class='ee-v'>-54.96521915379773</span></li><li><span class='ee-k'>1:</span><span class='ee-v'>-2.310449360521862</span></li></ul></li><li><label class='ee-shut'>11: [-54.96564502015339, -1.989003396395678]<input type='checkbox' class='ee-toggle'></label><ul><li><span class='ee-k'>0:</span><span class='ee-v'>-54.96564502015339</span></li><li><span class='ee-k'>1:</span><span class='ee-v'>-1.989003396395678</span></li></ul></li><li><label class='ee-shut'>12: [-54.96575493234115, -1.9888791171772373]<input type='checkbox' class='ee-toggle'></label><ul><li><span class='ee-k'>0:</span><span class='ee-v'>-54.96575493234115</span></li><li><span class='ee-k'>1:</span><span class='ee-v'>-1.9888791171772373</span></li></ul></li><li><label class='ee-shut'>13: [-54.96584845865072, -1.9887421460016503]<input type='checkbox' class='ee-toggle'></label><ul><li><span class='ee-k'>0:</span><span class='ee-v'>-54.96584845865072</span></li><li><span class='ee-k'>1:</span><span class='ee-v'>-1.9887421460016503</span></li></ul></li><li><label class='ee-shut'>14: [-54.965892826963334, -1.988733772966659]<input type='checkbox' class='ee-toggle'></label><ul><li><span class='ee-k'>0:</span><span class='ee-v'>-54.965892826963334</span></li><li><span class='ee-k'>1:</span><span class='ee-v'>-1.988733772966659</span></li></ul></li><li><label class='ee-shut'>15: [-56.0076331277673, -1.9896950199386851]<input type='checkbox' class='ee-toggle'></label><ul><li><span class='ee-k'>0:</span><span class='ee-v'>-56.0076331277673</span></li><li><span class='ee-k'>1:</span><span class='ee-v'>-1.9896950199386851</span></li></ul></li><li><label class='ee-shut'>16: [-56.00775753557763, -1.9898048265148425]<input type='checkbox' class='ee-toggle'></label><ul><li><span class='ee-k'>0:</span><span class='ee-v'>-56.00775753557763</span></li><li><span class='ee-k'>1:</span><span class='ee-v'>-1.9898048265148425</span></li></ul></li><li><label class='ee-shut'>17: [-56.00789469899878, -1.9898981788466987]<input type='checkbox' class='ee-toggle'></label><ul><li><span class='ee-k'>0:</span><span class='ee-v'>-56.00789469899878</span></li><li><span class='ee-k'>1:</span><span class='ee-v'>-1.9898981788466987</span></li></ul></li><li><label class='ee-shut'>18: [-56.00790099168393, -1.9899313951966122]<input type='checkbox' class='ee-toggle'></label><ul><li><span class='ee-k'>0:</span><span class='ee-v'>-56.00790099168393</span></li><li><span class='ee-k'>1:</span><span class='ee-v'>-1.9899313951966122</span></li></ul></li></ul></li></ul></li><li><span class='ee-k'>system:index:</span><span class='ee-v'>BOA_S220150819T141044_20160427T071221_T21MXT</span></li><li><span class='ee-k'>system:time_start:</span><span class='ee-v'>1439993444464</span></li></ul></li></ul></li><li><label class='ee-shut'>1: Image projects/ee-curuai/assets/Py6S/S2/s2_py6s/BOA_S220150819T141044_20160427T071221_T21MYT (6 bands)<input type='checkbox' class='ee-toggle'></label><ul><li><span class='ee-k'>type:</span><span class='ee-v'>Image</span></li><li><span class='ee-k'>id:</span><span class='ee-v'>projects/ee-curuai/assets/Py6S/S2/s2_py6s/BOA_S220150819T141044_20160427T071221_T21MYT</span></li><li><span class='ee-k'>version:</span><span class='ee-v'>1715565619495508</span></li><li><label class='ee-shut'>bands: List (6 elements)<input type='checkbox' class='ee-toggle'></label><ul><li><label class='ee-shut'>0: \"blue\", double, EPSG:32721, 3864x1186 px<input type='checkbox' class='ee-toggle'></label><ul><li><span class='ee-k'>id:</span><span class='ee-v'>blue</span></li><li><span class='ee-k'>crs:</span><span class='ee-v'>EPSG:32721</span></li><li><label class='ee-shut'>crs_transform: [30, 0, 610350, 0, -30, 9780030]<input type='checkbox' class='ee-toggle'></label><ul><li><span class='ee-k'>0:</span><span class='ee-v'>30</span></li><li><span class='ee-k'>1:</span><span class='ee-v'>0</span></li><li><span class='ee-k'>2:</span><span class='ee-v'>610350</span></li><li><span class='ee-k'>3:</span><span class='ee-v'>0</span></li><li><span class='ee-k'>4:</span><span class='ee-v'>-30</span></li><li><span class='ee-k'>5:</span><span class='ee-v'>9780030</span></li></ul></li><li><label class='ee-shut'>data_type: double<input type='checkbox' class='ee-toggle'></label><ul><li><span class='ee-k'>type:</span><span class='ee-v'>PixelType</span></li><li><span class='ee-k'>precision:</span><span class='ee-v'>double</span></li></ul></li><li><label class='ee-shut'>dimensions: [3864, 1186]<input type='checkbox' class='ee-toggle'></label><ul><li><span class='ee-k'>0:</span><span class='ee-v'>3864</span></li><li><span class='ee-k'>1:</span><span class='ee-v'>1186</span></li></ul></li></ul></li><li><label class='ee-shut'>1: \"green\", double, EPSG:32721, 3864x1186 px<input type='checkbox' class='ee-toggle'></label><ul><li><span class='ee-k'>id:</span><span class='ee-v'>green</span></li><li><span class='ee-k'>crs:</span><span class='ee-v'>EPSG:32721</span></li><li><label class='ee-shut'>crs_transform: [30, 0, 610350, 0, -30, 9780030]<input type='checkbox' class='ee-toggle'></label><ul><li><span class='ee-k'>0:</span><span class='ee-v'>30</span></li><li><span class='ee-k'>1:</span><span class='ee-v'>0</span></li><li><span class='ee-k'>2:</span><span class='ee-v'>610350</span></li><li><span class='ee-k'>3:</span><span class='ee-v'>0</span></li><li><span class='ee-k'>4:</span><span class='ee-v'>-30</span></li><li><span class='ee-k'>5:</span><span class='ee-v'>9780030</span></li></ul></li><li><label class='ee-shut'>data_type: double<input type='checkbox' class='ee-toggle'></label><ul><li><span class='ee-k'>type:</span><span class='ee-v'>PixelType</span></li><li><span class='ee-k'>precision:</span><span class='ee-v'>double</span></li></ul></li><li><label class='ee-shut'>dimensions: [3864, 1186]<input type='checkbox' class='ee-toggle'></label><ul><li><span class='ee-k'>0:</span><span class='ee-v'>3864</span></li><li><span class='ee-k'>1:</span><span class='ee-v'>1186</span></li></ul></li></ul></li><li><label class='ee-shut'>2: \"red\", double, EPSG:32721, 3864x1186 px<input type='checkbox' class='ee-toggle'></label><ul><li><span class='ee-k'>id:</span><span class='ee-v'>red</span></li><li><span class='ee-k'>crs:</span><span class='ee-v'>EPSG:32721</span></li><li><label class='ee-shut'>crs_transform: [30, 0, 610350, 0, -30, 9780030]<input type='checkbox' class='ee-toggle'></label><ul><li><span class='ee-k'>0:</span><span class='ee-v'>30</span></li><li><span class='ee-k'>1:</span><span class='ee-v'>0</span></li><li><span class='ee-k'>2:</span><span class='ee-v'>610350</span></li><li><span class='ee-k'>3:</span><span class='ee-v'>0</span></li><li><span class='ee-k'>4:</span><span class='ee-v'>-30</span></li><li><span class='ee-k'>5:</span><span class='ee-v'>9780030</span></li></ul></li><li><label class='ee-shut'>data_type: double<input type='checkbox' class='ee-toggle'></label><ul><li><span class='ee-k'>type:</span><span class='ee-v'>PixelType</span></li><li><span class='ee-k'>precision:</span><span class='ee-v'>double</span></li></ul></li><li><label class='ee-shut'>dimensions: [3864, 1186]<input type='checkbox' class='ee-toggle'></label><ul><li><span class='ee-k'>0:</span><span class='ee-v'>3864</span></li><li><span class='ee-k'>1:</span><span class='ee-v'>1186</span></li></ul></li></ul></li><li><label class='ee-shut'>3: \"nir\", double, EPSG:32721, 3864x1186 px<input type='checkbox' class='ee-toggle'></label><ul><li><span class='ee-k'>id:</span><span class='ee-v'>nir</span></li><li><span class='ee-k'>crs:</span><span class='ee-v'>EPSG:32721</span></li><li><label class='ee-shut'>crs_transform: [30, 0, 610350, 0, -30, 9780030]<input type='checkbox' class='ee-toggle'></label><ul><li><span class='ee-k'>0:</span><span class='ee-v'>30</span></li><li><span class='ee-k'>1:</span><span class='ee-v'>0</span></li><li><span class='ee-k'>2:</span><span class='ee-v'>610350</span></li><li><span class='ee-k'>3:</span><span class='ee-v'>0</span></li><li><span class='ee-k'>4:</span><span class='ee-v'>-30</span></li><li><span class='ee-k'>5:</span><span class='ee-v'>9780030</span></li></ul></li><li><label class='ee-shut'>data_type: double<input type='checkbox' class='ee-toggle'></label><ul><li><span class='ee-k'>type:</span><span class='ee-v'>PixelType</span></li><li><span class='ee-k'>precision:</span><span class='ee-v'>double</span></li></ul></li><li><label class='ee-shut'>dimensions: [3864, 1186]<input type='checkbox' class='ee-toggle'></label><ul><li><span class='ee-k'>0:</span><span class='ee-v'>3864</span></li><li><span class='ee-k'>1:</span><span class='ee-v'>1186</span></li></ul></li></ul></li><li><label class='ee-shut'>4: \"swir1\", double, EPSG:32721, 3864x1186 px<input type='checkbox' class='ee-toggle'></label><ul><li><span class='ee-k'>id:</span><span class='ee-v'>swir1</span></li><li><span class='ee-k'>crs:</span><span class='ee-v'>EPSG:32721</span></li><li><label class='ee-shut'>crs_transform: [30, 0, 610350, 0, -30, 9780030]<input type='checkbox' class='ee-toggle'></label><ul><li><span class='ee-k'>0:</span><span class='ee-v'>30</span></li><li><span class='ee-k'>1:</span><span class='ee-v'>0</span></li><li><span class='ee-k'>2:</span><span class='ee-v'>610350</span></li><li><span class='ee-k'>3:</span><span class='ee-v'>0</span></li><li><span class='ee-k'>4:</span><span class='ee-v'>-30</span></li><li><span class='ee-k'>5:</span><span class='ee-v'>9780030</span></li></ul></li><li><label class='ee-shut'>data_type: double<input type='checkbox' class='ee-toggle'></label><ul><li><span class='ee-k'>type:</span><span class='ee-v'>PixelType</span></li><li><span class='ee-k'>precision:</span><span class='ee-v'>double</span></li></ul></li><li><label class='ee-shut'>dimensions: [3864, 1186]<input type='checkbox' class='ee-toggle'></label><ul><li><span class='ee-k'>0:</span><span class='ee-v'>3864</span></li><li><span class='ee-k'>1:</span><span class='ee-v'>1186</span></li></ul></li></ul></li><li><label class='ee-shut'>5: \"swir2\", double, EPSG:32721, 3864x1186 px<input type='checkbox' class='ee-toggle'></label><ul><li><span class='ee-k'>id:</span><span class='ee-v'>swir2</span></li><li><span class='ee-k'>crs:</span><span class='ee-v'>EPSG:32721</span></li><li><label class='ee-shut'>crs_transform: [30, 0, 610350, 0, -30, 9780030]<input type='checkbox' class='ee-toggle'></label><ul><li><span class='ee-k'>0:</span><span class='ee-v'>30</span></li><li><span class='ee-k'>1:</span><span class='ee-v'>0</span></li><li><span class='ee-k'>2:</span><span class='ee-v'>610350</span></li><li><span class='ee-k'>3:</span><span class='ee-v'>0</span></li><li><span class='ee-k'>4:</span><span class='ee-v'>-30</span></li><li><span class='ee-k'>5:</span><span class='ee-v'>9780030</span></li></ul></li><li><label class='ee-shut'>data_type: double<input type='checkbox' class='ee-toggle'></label><ul><li><span class='ee-k'>type:</span><span class='ee-v'>PixelType</span></li><li><span class='ee-k'>precision:</span><span class='ee-v'>double</span></li></ul></li><li><label class='ee-shut'>dimensions: [3864, 1186]<input type='checkbox' class='ee-toggle'></label><ul><li><span class='ee-k'>0:</span><span class='ee-v'>3864</span></li><li><span class='ee-k'>1:</span><span class='ee-v'>1186</span></li></ul></li></ul></li></ul></li><li><label class='ee-shut'>properties: Object (80 properties)<input type='checkbox' class='ee-toggle'></label><ul><li><span class='ee-k'>AC_aerosol_optical_thickness:</span><span class='ee-v'>0.322</span></li><li><span class='ee-k'>AC_date:</span><span class='ee-v'>2015-08-19</span></li><li><span class='ee-k'>AC_ozone:</span><span class='ee-v'>0.287</span></li><li><span class='ee-k'>AC_version:</span><span class='ee-v'>py6S</span></li><li><span class='ee-k'>AC_water_vapour:</span><span class='ee-v'>4.3700000762939455</span></li><li><span class='ee-k'>CLOUDY_PIXEL_PERCENTAGE:</span><span class='ee-v'>2.9646</span></li><li><span class='ee-k'>CLOUD_COVERAGE_ASSESSMENT:</span><span class='ee-v'>13.222576923076922</span></li><li><span class='ee-k'>DATASTRIP_ID:</span><span class='ee-v'>S2A_OPER_MSI_L1C_DS_EPA__20160427T071221_S20150819T141044_N02.01</span></li><li><span class='ee-k'>DATATAKE_IDENTIFIER:</span><span class='ee-v'>GS2A_20150819T141046_000822_N02.01</span></li><li><span class='ee-k'>DATATAKE_TYPE:</span><span class='ee-v'>INS-NOBS</span></li><li><span class='ee-k'>DEGRADED_MSI_DATA_PERCENTAGE:</span><span class='ee-v'>0</span></li><li><span class='ee-k'>ECMWF_DATA_REF:</span><span class='ee-v'>S2__OPER_AUX_ECMWFD_FAKE_19800101T000000_V19800101T000000_19800101T000000</span></li><li><span class='ee-k'>FORMAT_CORRECTNESS:</span><span class='ee-v'>PASSED</span></li><li><span class='ee-k'>FORMAT_CORRECTNESS_FLAG:</span><span class='ee-v'>PASSED</span></li><li><span class='ee-k'>GENERAL_QUALITY:</span><span class='ee-v'>PASSED</span></li><li><span class='ee-k'>GENERAL_QUALITY_FLAG:</span><span class='ee-v'>PASSED</span></li><li><span class='ee-k'>GENERATION_TIME:</span><span class='ee-v'>1461750286000</span></li><li><span class='ee-k'>GEOMETRIC_QUALITY:</span><span class='ee-v'>PASSED</span></li><li><span class='ee-k'>GEOMETRIC_QUALITY_FLAG:</span><span class='ee-v'>PASSED</span></li><li><span class='ee-k'>GRANULE_ID:</span><span class='ee-v'>S2A_OPER_MSI_L1C_TL_EPA__20160427T071221_A000822_T21MYT_N02.01</span></li><li><span class='ee-k'>GRI_FILENAME:</span><span class='ee-v'>S2A_OPER_AUX_GRI065_PDMC_20130621T120000_S20130101T000000</span></li><li><span class='ee-k'>IERS_BULLETIN_FILENAME:</span><span class='ee-v'>S2__OPER_AUX_UT1UTC_PDMC_20150813T000000_V20150814T000000_20160813T000000</span></li><li><span class='ee-k'>MEAN_INCIDENCE_AZIMUTH_ANGLE_B1:</span><span class='ee-v'>284.820691840125</span></li><li><span class='ee-k'>MEAN_INCIDENCE_AZIMUTH_ANGLE_B10:</span><span class='ee-v'>284.504238025827</span></li><li><span class='ee-k'>MEAN_INCIDENCE_AZIMUTH_ANGLE_B11:</span><span class='ee-v'>284.721543023793</span></li><li><span class='ee-k'>MEAN_INCIDENCE_AZIMUTH_ANGLE_B12:</span><span class='ee-v'>284.886465196375</span></li><li><span class='ee-k'>MEAN_INCIDENCE_AZIMUTH_ANGLE_B2:</span><span class='ee-v'>284.335576311672</span></li><li><span class='ee-k'>MEAN_INCIDENCE_AZIMUTH_ANGLE_B3:</span><span class='ee-v'>284.448075877899</span></li><li><span class='ee-k'>MEAN_INCIDENCE_AZIMUTH_ANGLE_B4:</span><span class='ee-v'>284.551707164404</span></li><li><span class='ee-k'>MEAN_INCIDENCE_AZIMUTH_ANGLE_B5:</span><span class='ee-v'>284.602800715609</span></li><li><span class='ee-k'>MEAN_INCIDENCE_AZIMUTH_ANGLE_B6:</span><span class='ee-v'>284.711646562166</span></li><li><span class='ee-k'>MEAN_INCIDENCE_AZIMUTH_ANGLE_B7:</span><span class='ee-v'>284.76888951002</span></li><li><span class='ee-k'>MEAN_INCIDENCE_AZIMUTH_ANGLE_B8:</span><span class='ee-v'>284.391972177417</span></li><li><span class='ee-k'>MEAN_INCIDENCE_AZIMUTH_ANGLE_B8A:</span><span class='ee-v'>284.801734963699</span></li><li><span class='ee-k'>MEAN_INCIDENCE_AZIMUTH_ANGLE_B9:</span><span class='ee-v'>284.888450115296</span></li><li><span class='ee-k'>MEAN_INCIDENCE_ZENITH_ANGLE_B1:</span><span class='ee-v'>9.9589298521351</span></li><li><span class='ee-k'>MEAN_INCIDENCE_ZENITH_ANGLE_B10:</span><span class='ee-v'>9.84202111056304</span></li><li><span class='ee-k'>MEAN_INCIDENCE_ZENITH_ANGLE_B11:</span><span class='ee-v'>9.90189279926678</span></li><li><span class='ee-k'>MEAN_INCIDENCE_ZENITH_ANGLE_B12:</span><span class='ee-v'>9.95615931385101</span></li><li><span class='ee-k'>MEAN_INCIDENCE_ZENITH_ANGLE_B2:</span><span class='ee-v'>9.80916170361559</span></li><li><span class='ee-k'>MEAN_INCIDENCE_ZENITH_ANGLE_B3:</span><span class='ee-v'>9.8306567191745</span></li><li><span class='ee-k'>MEAN_INCIDENCE_ZENITH_ANGLE_B4:</span><span class='ee-v'>9.85770337550256</span></li><li><span class='ee-k'>MEAN_INCIDENCE_ZENITH_ANGLE_B5:</span><span class='ee-v'>9.87523724826774</span></li><li><span class='ee-k'>MEAN_INCIDENCE_ZENITH_ANGLE_B6:</span><span class='ee-v'>9.88012719614925</span></li><li><span class='ee-k'>MEAN_INCIDENCE_ZENITH_ANGLE_B7:</span><span class='ee-v'>9.90181655723733</span></li><li><span class='ee-k'>MEAN_INCIDENCE_ZENITH_ANGLE_B8:</span><span class='ee-v'>9.81887249079446</span></li><li><span class='ee-k'>MEAN_INCIDENCE_ZENITH_ANGLE_B8A:</span><span class='ee-v'>9.92562776064934</span></li><li><span class='ee-k'>MEAN_INCIDENCE_ZENITH_ANGLE_B9:</span><span class='ee-v'>9.97983524419655</span></li><li><span class='ee-k'>MEAN_SOLAR_AZIMUTH_ANGLE:</span><span class='ee-v'>55.2817011783344</span></li><li><span class='ee-k'>MEAN_SOLAR_ZENITH_ANGLE:</span><span class='ee-v'>26.8015214484571</span></li><li><span class='ee-k'>MGRS_TILE:</span><span class='ee-v'>21MYT</span></li><li><span class='ee-k'>PROCESSING_BASELINE:</span><span class='ee-v'>02.01</span></li><li><span class='ee-k'>PRODUCTION_DEM_TYPE:</span><span class='ee-v'>S2__OPER_DEM_GLOBEF_PDMC_19800101T000000_S19800101T000000</span></li><li><span class='ee-k'>PRODUCT_ID:</span><span class='ee-v'>S2A_OPER_PRD_MSIL1C_PDMC_20160427T094446_R110_V20150819T141044_20150819T141044</span></li><li><span class='ee-k'>PRODUCT_URI:</span><span class='ee-v'>400_2016-04-27T09_23</span></li><li><span class='ee-k'>RADIOMETRIC_QUALITY:</span><span class='ee-v'>PASSED</span></li><li><span class='ee-k'>RADIOMETRIC_QUALITY_FLAG:</span><span class='ee-v'>PASSED</span></li><li><span class='ee-k'>REFLECTANCE_CONVERSION_CORRECTION:</span><span class='ee-v'>0.975305483290767</span></li><li><span class='ee-k'>SENSING_ORBIT_DIRECTION:</span><span class='ee-v'>DESCENDING</span></li><li><span class='ee-k'>SENSING_ORBIT_NUMBER:</span><span class='ee-v'>110</span></li><li><span class='ee-k'>SENSOR_QUALITY:</span><span class='ee-v'>PASSED</span></li><li><span class='ee-k'>SENSOR_QUALITY_FLAG:</span><span class='ee-v'>PASSED</span></li><li><span class='ee-k'>SOLAR_IRRADIANCE_B1:</span><span class='ee-v'>1913.57</span></li><li><span class='ee-k'>SOLAR_IRRADIANCE_B10:</span><span class='ee-v'>367.15</span></li><li><span class='ee-k'>SOLAR_IRRADIANCE_B11:</span><span class='ee-v'>245.59</span></li><li><span class='ee-k'>SOLAR_IRRADIANCE_B12:</span><span class='ee-v'>85.25</span></li><li><span class='ee-k'>SOLAR_IRRADIANCE_B2:</span><span class='ee-v'>1941.63</span></li><li><span class='ee-k'>SOLAR_IRRADIANCE_B3:</span><span class='ee-v'>1822.61</span></li><li><span class='ee-k'>SOLAR_IRRADIANCE_B4:</span><span class='ee-v'>1512.79</span></li><li><span class='ee-k'>SOLAR_IRRADIANCE_B5:</span><span class='ee-v'>1425.56</span></li><li><span class='ee-k'>SOLAR_IRRADIANCE_B6:</span><span class='ee-v'>1288.32</span></li><li><span class='ee-k'>SOLAR_IRRADIANCE_B7:</span><span class='ee-v'>1163.19</span></li><li><span class='ee-k'>SOLAR_IRRADIANCE_B8:</span><span class='ee-v'>1036.39</span></li><li><span class='ee-k'>SOLAR_IRRADIANCE_B8A:</span><span class='ee-v'>955.19</span></li><li><span class='ee-k'>SOLAR_IRRADIANCE_B9:</span><span class='ee-v'>813.04</span></li><li><span class='ee-k'>SPACECRAFT_NAME:</span><span class='ee-v'>Sentinel-2A</span></li><li><span class='ee-k'>system:asset_size:</span><span class='ee-v'>6556483</span></li><li><label class='ee-shut'>system:footprint: LinearRing (19 vertices)<input type='checkbox' class='ee-toggle'></label><ul><li><span class='ee-k'>type:</span><span class='ee-v'>LinearRing</span></li><li><label class='ee-shut'>coordinates: List (19 elements)<input type='checkbox' class='ee-toggle'></label><ul><li><label class='ee-shut'>0: [-56.00790099168393, -1.9899313951966122]<input type='checkbox' class='ee-toggle'></label><ul><li><span class='ee-k'>0:</span><span class='ee-v'>-56.00790099168393</span></li><li><span class='ee-k'>1:</span><span class='ee-v'>-1.9899313951966122</span></li></ul></li><li><label class='ee-shut'>1: [-56.00790303255488, -1.9899651372103422]<input type='checkbox' class='ee-toggle'></label><ul><li><span class='ee-k'>0:</span><span class='ee-v'>-56.00790303255488</span></li><li><span class='ee-k'>1:</span><span class='ee-v'>-1.9899651372103422</span></li></ul></li><li><label class='ee-shut'>2: [-56.007695289133245, -2.311543999976785]<input type='checkbox' class='ee-toggle'></label><ul><li><span class='ee-k'>0:</span><span class='ee-v'>-56.007695289133245</span></li><li><span class='ee-k'>1:</span><span class='ee-v'>-2.311543999976785</span></li></ul></li><li><label class='ee-shut'>3: [-56.00758542256164, -2.311668371300401]<input type='checkbox' class='ee-toggle'></label><ul><li><span class='ee-k'>0:</span><span class='ee-v'>-56.00758542256164</span></li><li><span class='ee-k'>1:</span><span class='ee-v'>-2.311668371300401</span></li></ul></li><li><label class='ee-shut'>4: [-56.007491968050864, -2.311805420122597]<input type='checkbox' class='ee-toggle'></label><ul><li><span class='ee-k'>0:</span><span class='ee-v'>-56.007491968050864</span></li><li><span class='ee-k'>1:</span><span class='ee-v'>-2.311805420122597</span></li></ul></li><li><label class='ee-shut'>5: [-56.007458719016846, -2.311811703970227]<input type='checkbox' class='ee-toggle'></label><ul><li><span class='ee-k'>0:</span><span class='ee-v'>-56.007458719016846</span></li><li><span class='ee-k'>1:</span><span class='ee-v'>-2.311811703970227</span></li></ul></li><li><label class='ee-shut'>6: [-56.00742495977984, -2.311813812762818]<input type='checkbox' class='ee-toggle'></label><ul><li><span class='ee-k'>0:</span><span class='ee-v'>-56.00742495977984</span></li><li><span class='ee-k'>1:</span><span class='ee-v'>-2.311813812762818</span></li></ul></li><li><label class='ee-shut'>7: [-54.965489059375095, -2.310697073459358]<input type='checkbox' class='ee-toggle'></label><ul><li><span class='ee-k'>0:</span><span class='ee-v'>-54.965489059375095</span></li><li><span class='ee-k'>1:</span><span class='ee-v'>-2.310697073459358</span></li></ul></li><li><label class='ee-shut'>8: [-54.965364694306565, -2.310587193231306]<input type='checkbox' class='ee-toggle'></label><ul><li><span class='ee-k'>0:</span><span class='ee-v'>-54.965364694306565</span></li><li><span class='ee-k'>1:</span><span class='ee-v'>-2.310587193231306</span></li></ul></li><li><label class='ee-shut'>9: [-54.96522755682257, -2.3104937772016316]<input type='checkbox' class='ee-toggle'></label><ul><li><span class='ee-k'>0:</span><span class='ee-v'>-54.96522755682257</span></li><li><span class='ee-k'>1:</span><span class='ee-v'>-2.3104937772016316</span></li></ul></li><li><label class='ee-shut'>10: [-54.96521915379773, -2.310449360521862]<input type='checkbox' class='ee-toggle'></label><ul><li><span class='ee-k'>0:</span><span class='ee-v'>-54.96521915379773</span></li><li><span class='ee-k'>1:</span><span class='ee-v'>-2.310449360521862</span></li></ul></li><li><label class='ee-shut'>11: [-54.96564502015339, -1.989003396395678]<input type='checkbox' class='ee-toggle'></label><ul><li><span class='ee-k'>0:</span><span class='ee-v'>-54.96564502015339</span></li><li><span class='ee-k'>1:</span><span class='ee-v'>-1.989003396395678</span></li></ul></li><li><label class='ee-shut'>12: [-54.96575493234115, -1.9888791171772373]<input type='checkbox' class='ee-toggle'></label><ul><li><span class='ee-k'>0:</span><span class='ee-v'>-54.96575493234115</span></li><li><span class='ee-k'>1:</span><span class='ee-v'>-1.9888791171772373</span></li></ul></li><li><label class='ee-shut'>13: [-54.96584845865072, -1.9887421460016503]<input type='checkbox' class='ee-toggle'></label><ul><li><span class='ee-k'>0:</span><span class='ee-v'>-54.96584845865072</span></li><li><span class='ee-k'>1:</span><span class='ee-v'>-1.9887421460016503</span></li></ul></li><li><label class='ee-shut'>14: [-54.965892826963334, -1.988733772966659]<input type='checkbox' class='ee-toggle'></label><ul><li><span class='ee-k'>0:</span><span class='ee-v'>-54.965892826963334</span></li><li><span class='ee-k'>1:</span><span class='ee-v'>-1.988733772966659</span></li></ul></li><li><label class='ee-shut'>15: [-56.0076331277673, -1.9896950199386851]<input type='checkbox' class='ee-toggle'></label><ul><li><span class='ee-k'>0:</span><span class='ee-v'>-56.0076331277673</span></li><li><span class='ee-k'>1:</span><span class='ee-v'>-1.9896950199386851</span></li></ul></li><li><label class='ee-shut'>16: [-56.00775753557763, -1.9898048265148425]<input type='checkbox' class='ee-toggle'></label><ul><li><span class='ee-k'>0:</span><span class='ee-v'>-56.00775753557763</span></li><li><span class='ee-k'>1:</span><span class='ee-v'>-1.9898048265148425</span></li></ul></li><li><label class='ee-shut'>17: [-56.00789469899878, -1.9898981788466987]<input type='checkbox' class='ee-toggle'></label><ul><li><span class='ee-k'>0:</span><span class='ee-v'>-56.00789469899878</span></li><li><span class='ee-k'>1:</span><span class='ee-v'>-1.9898981788466987</span></li></ul></li><li><label class='ee-shut'>18: [-56.00790099168393, -1.9899313951966122]<input type='checkbox' class='ee-toggle'></label><ul><li><span class='ee-k'>0:</span><span class='ee-v'>-56.00790099168393</span></li><li><span class='ee-k'>1:</span><span class='ee-v'>-1.9899313951966122</span></li></ul></li></ul></li></ul></li><li><span class='ee-k'>system:index:</span><span class='ee-v'>BOA_S220150819T141044_20160427T071221_T21MYT</span></li><li><span class='ee-k'>system:time_start:</span><span class='ee-v'>1439993444464</span></li></ul></li></ul></li></ul></li></ul></li></ul></div><script>function toggleHeader() {\n",
              "    const parent = this.parentElement;\n",
              "    parent.className = parent.className === \"ee-open\" ? \"ee-shut\" : \"ee-open\";\n",
              "}\n",
              "\n",
              "for (let c of document.getElementsByClassName(\"ee-toggle\")) {\n",
              "    c.onclick = toggleHeader;\n",
              "}</script></div>"
            ]
          },
          "metadata": {},
          "execution_count": 46
        }
      ]
    },
    {
      "cell_type": "markdown",
      "source": [
        "# Landsat band adjustment"
      ],
      "metadata": {
        "id": "33UoIsPoaDMe"
      }
    },
    {
      "cell_type": "code",
      "source": [
        "def band_adjustmentLD8(img):\n",
        "  blue = img.select('blue').multiply(1.0946).subtract(0.0107)\n",
        "  green = img.select('green').multiply(1.0043).add(0.0026)\n",
        "  red = img.select('red').multiply(1.0524).subtract(0.0015)\n",
        "  nir=img.select('nir').multiply(0.8954).add(0.0033)\n",
        "  swir1 = img.select('swir1').multiply(1.0049).add(0.0065)\n",
        "  swir2 = img.select('swir2').multiply(1.0002).add(0.0046)\n",
        "\n",
        "  return blue.addBands(green).addBands(red).addBands(nir).addBands(swir1).addBands(swir2).copyProperties(img,['system:time_start','CLOUD_COVER',\"system:index\",\"LANDSAT_PRODUCT_ID\"])"
      ],
      "metadata": {
        "id": "zgEjqvVcaq7B",
        "outputId": "a8705c7b-5036-466b-d976-cc8117e335ce",
        "colab": {
          "base_uri": "https://localhost:8080/",
          "height": 17
        }
      },
      "execution_count": 55,
      "outputs": [
        {
          "output_type": "display_data",
          "data": {
            "text/plain": [
              "<IPython.core.display.HTML object>"
            ],
            "text/html": [
              "\n",
              "            <style>\n",
              "                .geemap-dark {\n",
              "                    --jp-widgets-color: white;\n",
              "                    --jp-widgets-label-color: white;\n",
              "                    --jp-ui-font-color1: white;\n",
              "                    --jp-layout-color2: #454545;\n",
              "                    background-color: #383838;\n",
              "                }\n",
              "\n",
              "                .geemap-dark .jupyter-button {\n",
              "                    --jp-layout-color3: #383838;\n",
              "                }\n",
              "\n",
              "                .geemap-colab {\n",
              "                    background-color: var(--colab-primary-surface-color, white);\n",
              "                }\n",
              "\n",
              "                .geemap-colab .jupyter-button {\n",
              "                    --jp-layout-color3: var(--colab-primary-surface-color, white);\n",
              "                }\n",
              "            </style>\n",
              "            "
            ]
          },
          "metadata": {}
        }
      ]
    },
    {
      "cell_type": "code",
      "source": [
        "adj_ld8 = brdf_ld8.map(band_adjustmentLD8)\n",
        "adj_ld8.limit(2)"
      ],
      "metadata": {
        "id": "wOLjLuJyfcHF",
        "outputId": "b71972dd-2736-432b-827f-2d2f7d82d2d5",
        "colab": {
          "base_uri": "https://localhost:8080/",
          "height": 383
        }
      },
      "execution_count": 56,
      "outputs": [
        {
          "output_type": "display_data",
          "data": {
            "text/plain": [
              "<IPython.core.display.HTML object>"
            ],
            "text/html": [
              "\n",
              "            <style>\n",
              "                .geemap-dark {\n",
              "                    --jp-widgets-color: white;\n",
              "                    --jp-widgets-label-color: white;\n",
              "                    --jp-ui-font-color1: white;\n",
              "                    --jp-layout-color2: #454545;\n",
              "                    background-color: #383838;\n",
              "                }\n",
              "\n",
              "                .geemap-dark .jupyter-button {\n",
              "                    --jp-layout-color3: #383838;\n",
              "                }\n",
              "\n",
              "                .geemap-colab {\n",
              "                    background-color: var(--colab-primary-surface-color, white);\n",
              "                }\n",
              "\n",
              "                .geemap-colab .jupyter-button {\n",
              "                    --jp-layout-color3: var(--colab-primary-surface-color, white);\n",
              "                }\n",
              "            </style>\n",
              "            "
            ]
          },
          "metadata": {}
        },
        {
          "output_type": "execute_result",
          "data": {
            "text/plain": [
              "<ee.imagecollection.ImageCollection at 0x7cfa23bd9d50>"
            ],
            "text/html": [
              "<div><style>:root {\n",
              "  --font-color-primary: var(--jp-content-font-color0, rgba(0, 0, 0, 1));\n",
              "  --font-color-secondary: var(--jp-content-font-color2, rgba(0, 0, 0, 0.6));\n",
              "  --font-color-accent: rgba(123, 31, 162, 1);\n",
              "  --border-color: var(--jp-border-color2, #e0e0e0);\n",
              "  --background-color: var(--jp-layout-color0, white);\n",
              "  --background-color-row-even: var(--jp-layout-color1, white);\n",
              "  --background-color-row-odd: var(--jp-layout-color2, #eeeeee);\n",
              "}\n",
              "\n",
              "html[theme=\"dark\"],\n",
              "body[data-theme=\"dark\"],\n",
              "body.vscode-dark {\n",
              "  --font-color-primary: rgba(255, 255, 255, 1);\n",
              "  --font-color-secondary: rgba(255, 255, 255, 0.6);\n",
              "  --font-color-accent: rgb(173, 132, 190);\n",
              "  --border-color: #2e2e2e;\n",
              "  --background-color: #111111;\n",
              "  --background-color-row-even: #111111;\n",
              "  --background-color-row-odd: #313131;\n",
              "}\n",
              "\n",
              ".ee {\n",
              "  padding: 1em;\n",
              "  line-height: 1.5em;\n",
              "  min-width: 300px;\n",
              "  max-width: 1200px;\n",
              "  overflow-y: scroll;\n",
              "  max-height: 600px;\n",
              "  border: 1px solid var(--border-color);\n",
              "  font-family: monospace;\n",
              "}\n",
              "\n",
              ".ee li {\n",
              "  list-style-type: none;\n",
              "}\n",
              "\n",
              ".ee ul {\n",
              "  padding-left: 1.5em !important;\n",
              "  margin: 0;\n",
              "}\n",
              "\n",
              ".ee > ul {\n",
              "  padding-left: 0 !important;\n",
              "}\n",
              "\n",
              ".ee-open,\n",
              ".ee-shut {\n",
              "  color: var(--font-color-secondary);\n",
              "  cursor: pointer;\n",
              "  margin: 0;\n",
              "}\n",
              "\n",
              ".ee-open:hover,\n",
              ".ee-shut:hover {\n",
              "  color: var(--font-color-primary);\n",
              "}\n",
              "\n",
              ".ee-k {\n",
              "  color: var(--font-color-accent);\n",
              "  margin-right: 6px;\n",
              "}\n",
              "\n",
              ".ee-v {\n",
              "  color: var(--font-color-primary);\n",
              "}\n",
              "\n",
              ".ee-toggle {\n",
              "  display: none;\n",
              "}\n",
              "\n",
              ".ee-shut + ul {\n",
              "  display: none;\n",
              "}\n",
              "\n",
              ".ee-open + ul {\n",
              "  display: block;\n",
              "}\n",
              "\n",
              ".ee-shut::before {\n",
              "  display: inline-block;\n",
              "  content: \"▼\";\n",
              "  margin-right: 6px;\n",
              "  transform: rotate(-90deg);\n",
              "  transition: transform 0.2s;\n",
              "}\n",
              "\n",
              ".ee-open::before {\n",
              "  transform: rotate(0deg);\n",
              "  display: inline-block;\n",
              "  content: \"▼\";\n",
              "  margin-right: 6px;\n",
              "  transition: transform 0.2s;\n",
              "}\n",
              "</style><div class='ee'><ul><li><label class='ee-shut'>ImageCollection projects/ee-curuai/assets/Py6S/LD8/ld8_py6s  (2 elements)<input type='checkbox' class='ee-toggle'></label><ul><li><span class='ee-k'>type:</span><span class='ee-v'>ImageCollection</span></li><li><span class='ee-k'>id:</span><span class='ee-v'>projects/ee-curuai/assets/Py6S/LD8/ld8_py6s</span></li><li><span class='ee-k'>version:</span><span class='ee-v'>1715556657542412</span></li><li><label class='ee-shut'>bands: []<input type='checkbox' class='ee-toggle'></label><ul></ul></li><li><label class='ee-shut'>features: List (2 elements)<input type='checkbox' class='ee-toggle'></label><ul><li><label class='ee-shut'>0: Image (6 bands)<input type='checkbox' class='ee-toggle'></label><ul><li><span class='ee-k'>type:</span><span class='ee-v'>Image</span></li><li><label class='ee-shut'>bands: List (6 elements)<input type='checkbox' class='ee-toggle'></label><ul><li><label class='ee-shut'>0: \"blue\", double, EPSG:32721, 3864x1186 px<input type='checkbox' class='ee-toggle'></label><ul><li><span class='ee-k'>id:</span><span class='ee-v'>blue</span></li><li><span class='ee-k'>crs:</span><span class='ee-v'>EPSG:32721</span></li><li><label class='ee-shut'>crs_transform: [30, 0, 610350, 0, -30, 9780030]<input type='checkbox' class='ee-toggle'></label><ul><li><span class='ee-k'>0:</span><span class='ee-v'>30</span></li><li><span class='ee-k'>1:</span><span class='ee-v'>0</span></li><li><span class='ee-k'>2:</span><span class='ee-v'>610350</span></li><li><span class='ee-k'>3:</span><span class='ee-v'>0</span></li><li><span class='ee-k'>4:</span><span class='ee-v'>-30</span></li><li><span class='ee-k'>5:</span><span class='ee-v'>9780030</span></li></ul></li><li><label class='ee-shut'>data_type: double<input type='checkbox' class='ee-toggle'></label><ul><li><span class='ee-k'>type:</span><span class='ee-v'>PixelType</span></li><li><span class='ee-k'>precision:</span><span class='ee-v'>double</span></li></ul></li><li><label class='ee-shut'>dimensions: [3864, 1186]<input type='checkbox' class='ee-toggle'></label><ul><li><span class='ee-k'>0:</span><span class='ee-v'>3864</span></li><li><span class='ee-k'>1:</span><span class='ee-v'>1186</span></li></ul></li></ul></li><li><label class='ee-shut'>1: \"green\", double, EPSG:32721, 3864x1186 px<input type='checkbox' class='ee-toggle'></label><ul><li><span class='ee-k'>id:</span><span class='ee-v'>green</span></li><li><span class='ee-k'>crs:</span><span class='ee-v'>EPSG:32721</span></li><li><label class='ee-shut'>crs_transform: [30, 0, 610350, 0, -30, 9780030]<input type='checkbox' class='ee-toggle'></label><ul><li><span class='ee-k'>0:</span><span class='ee-v'>30</span></li><li><span class='ee-k'>1:</span><span class='ee-v'>0</span></li><li><span class='ee-k'>2:</span><span class='ee-v'>610350</span></li><li><span class='ee-k'>3:</span><span class='ee-v'>0</span></li><li><span class='ee-k'>4:</span><span class='ee-v'>-30</span></li><li><span class='ee-k'>5:</span><span class='ee-v'>9780030</span></li></ul></li><li><label class='ee-shut'>data_type: double<input type='checkbox' class='ee-toggle'></label><ul><li><span class='ee-k'>type:</span><span class='ee-v'>PixelType</span></li><li><span class='ee-k'>precision:</span><span class='ee-v'>double</span></li></ul></li><li><label class='ee-shut'>dimensions: [3864, 1186]<input type='checkbox' class='ee-toggle'></label><ul><li><span class='ee-k'>0:</span><span class='ee-v'>3864</span></li><li><span class='ee-k'>1:</span><span class='ee-v'>1186</span></li></ul></li></ul></li><li><label class='ee-shut'>2: \"red\", double, EPSG:32721, 3864x1186 px<input type='checkbox' class='ee-toggle'></label><ul><li><span class='ee-k'>id:</span><span class='ee-v'>red</span></li><li><span class='ee-k'>crs:</span><span class='ee-v'>EPSG:32721</span></li><li><label class='ee-shut'>crs_transform: [30, 0, 610350, 0, -30, 9780030]<input type='checkbox' class='ee-toggle'></label><ul><li><span class='ee-k'>0:</span><span class='ee-v'>30</span></li><li><span class='ee-k'>1:</span><span class='ee-v'>0</span></li><li><span class='ee-k'>2:</span><span class='ee-v'>610350</span></li><li><span class='ee-k'>3:</span><span class='ee-v'>0</span></li><li><span class='ee-k'>4:</span><span class='ee-v'>-30</span></li><li><span class='ee-k'>5:</span><span class='ee-v'>9780030</span></li></ul></li><li><label class='ee-shut'>data_type: double<input type='checkbox' class='ee-toggle'></label><ul><li><span class='ee-k'>type:</span><span class='ee-v'>PixelType</span></li><li><span class='ee-k'>precision:</span><span class='ee-v'>double</span></li></ul></li><li><label class='ee-shut'>dimensions: [3864, 1186]<input type='checkbox' class='ee-toggle'></label><ul><li><span class='ee-k'>0:</span><span class='ee-v'>3864</span></li><li><span class='ee-k'>1:</span><span class='ee-v'>1186</span></li></ul></li></ul></li><li><label class='ee-shut'>3: \"nir\", double, EPSG:32721, 3864x1186 px<input type='checkbox' class='ee-toggle'></label><ul><li><span class='ee-k'>id:</span><span class='ee-v'>nir</span></li><li><span class='ee-k'>crs:</span><span class='ee-v'>EPSG:32721</span></li><li><label class='ee-shut'>crs_transform: [30, 0, 610350, 0, -30, 9780030]<input type='checkbox' class='ee-toggle'></label><ul><li><span class='ee-k'>0:</span><span class='ee-v'>30</span></li><li><span class='ee-k'>1:</span><span class='ee-v'>0</span></li><li><span class='ee-k'>2:</span><span class='ee-v'>610350</span></li><li><span class='ee-k'>3:</span><span class='ee-v'>0</span></li><li><span class='ee-k'>4:</span><span class='ee-v'>-30</span></li><li><span class='ee-k'>5:</span><span class='ee-v'>9780030</span></li></ul></li><li><label class='ee-shut'>data_type: double<input type='checkbox' class='ee-toggle'></label><ul><li><span class='ee-k'>type:</span><span class='ee-v'>PixelType</span></li><li><span class='ee-k'>precision:</span><span class='ee-v'>double</span></li></ul></li><li><label class='ee-shut'>dimensions: [3864, 1186]<input type='checkbox' class='ee-toggle'></label><ul><li><span class='ee-k'>0:</span><span class='ee-v'>3864</span></li><li><span class='ee-k'>1:</span><span class='ee-v'>1186</span></li></ul></li></ul></li><li><label class='ee-shut'>4: \"swir1\", double, EPSG:32721, 3864x1186 px<input type='checkbox' class='ee-toggle'></label><ul><li><span class='ee-k'>id:</span><span class='ee-v'>swir1</span></li><li><span class='ee-k'>crs:</span><span class='ee-v'>EPSG:32721</span></li><li><label class='ee-shut'>crs_transform: [30, 0, 610350, 0, -30, 9780030]<input type='checkbox' class='ee-toggle'></label><ul><li><span class='ee-k'>0:</span><span class='ee-v'>30</span></li><li><span class='ee-k'>1:</span><span class='ee-v'>0</span></li><li><span class='ee-k'>2:</span><span class='ee-v'>610350</span></li><li><span class='ee-k'>3:</span><span class='ee-v'>0</span></li><li><span class='ee-k'>4:</span><span class='ee-v'>-30</span></li><li><span class='ee-k'>5:</span><span class='ee-v'>9780030</span></li></ul></li><li><label class='ee-shut'>data_type: double<input type='checkbox' class='ee-toggle'></label><ul><li><span class='ee-k'>type:</span><span class='ee-v'>PixelType</span></li><li><span class='ee-k'>precision:</span><span class='ee-v'>double</span></li></ul></li><li><label class='ee-shut'>dimensions: [3864, 1186]<input type='checkbox' class='ee-toggle'></label><ul><li><span class='ee-k'>0:</span><span class='ee-v'>3864</span></li><li><span class='ee-k'>1:</span><span class='ee-v'>1186</span></li></ul></li></ul></li><li><label class='ee-shut'>5: \"swir2\", double, EPSG:32721, 3864x1186 px<input type='checkbox' class='ee-toggle'></label><ul><li><span class='ee-k'>id:</span><span class='ee-v'>swir2</span></li><li><span class='ee-k'>crs:</span><span class='ee-v'>EPSG:32721</span></li><li><label class='ee-shut'>crs_transform: [30, 0, 610350, 0, -30, 9780030]<input type='checkbox' class='ee-toggle'></label><ul><li><span class='ee-k'>0:</span><span class='ee-v'>30</span></li><li><span class='ee-k'>1:</span><span class='ee-v'>0</span></li><li><span class='ee-k'>2:</span><span class='ee-v'>610350</span></li><li><span class='ee-k'>3:</span><span class='ee-v'>0</span></li><li><span class='ee-k'>4:</span><span class='ee-v'>-30</span></li><li><span class='ee-k'>5:</span><span class='ee-v'>9780030</span></li></ul></li><li><label class='ee-shut'>data_type: double<input type='checkbox' class='ee-toggle'></label><ul><li><span class='ee-k'>type:</span><span class='ee-v'>PixelType</span></li><li><span class='ee-k'>precision:</span><span class='ee-v'>double</span></li></ul></li><li><label class='ee-shut'>dimensions: [3864, 1186]<input type='checkbox' class='ee-toggle'></label><ul><li><span class='ee-k'>0:</span><span class='ee-v'>3864</span></li><li><span class='ee-k'>1:</span><span class='ee-v'>1186</span></li></ul></li></ul></li></ul></li><li><label class='ee-shut'>properties: Object (5 properties)<input type='checkbox' class='ee-toggle'></label><ul><li><span class='ee-k'>CLOUD_COVER:</span><span class='ee-v'>57.72</span></li><li><span class='ee-k'>LANDSAT_PRODUCT_ID:</span><span class='ee-v'>LC08_L1TP_227062_20130520_20200912_02_T1</span></li><li><label class='ee-shut'>system:footprint: LinearRing (19 vertices)<input type='checkbox' class='ee-toggle'></label><ul><li><span class='ee-k'>type:</span><span class='ee-v'>LinearRing</span></li><li><label class='ee-shut'>coordinates: List (19 elements)<input type='checkbox' class='ee-toggle'></label><ul><li><label class='ee-shut'>0: [-56.00790099168393, -1.9899313951966122]<input type='checkbox' class='ee-toggle'></label><ul><li><span class='ee-k'>0:</span><span class='ee-v'>-56.00790099168393</span></li><li><span class='ee-k'>1:</span><span class='ee-v'>-1.9899313951966122</span></li></ul></li><li><label class='ee-shut'>1: [-56.00790303255488, -1.9899651372103422]<input type='checkbox' class='ee-toggle'></label><ul><li><span class='ee-k'>0:</span><span class='ee-v'>-56.00790303255488</span></li><li><span class='ee-k'>1:</span><span class='ee-v'>-1.9899651372103422</span></li></ul></li><li><label class='ee-shut'>2: [-56.007695289133245, -2.311543999976785]<input type='checkbox' class='ee-toggle'></label><ul><li><span class='ee-k'>0:</span><span class='ee-v'>-56.007695289133245</span></li><li><span class='ee-k'>1:</span><span class='ee-v'>-2.311543999976785</span></li></ul></li><li><label class='ee-shut'>3: [-56.00758542256164, -2.311668371300401]<input type='checkbox' class='ee-toggle'></label><ul><li><span class='ee-k'>0:</span><span class='ee-v'>-56.00758542256164</span></li><li><span class='ee-k'>1:</span><span class='ee-v'>-2.311668371300401</span></li></ul></li><li><label class='ee-shut'>4: [-56.007491968050864, -2.311805420122597]<input type='checkbox' class='ee-toggle'></label><ul><li><span class='ee-k'>0:</span><span class='ee-v'>-56.007491968050864</span></li><li><span class='ee-k'>1:</span><span class='ee-v'>-2.311805420122597</span></li></ul></li><li><label class='ee-shut'>5: [-56.007458719016846, -2.311811703970227]<input type='checkbox' class='ee-toggle'></label><ul><li><span class='ee-k'>0:</span><span class='ee-v'>-56.007458719016846</span></li><li><span class='ee-k'>1:</span><span class='ee-v'>-2.311811703970227</span></li></ul></li><li><label class='ee-shut'>6: [-56.00742495977984, -2.311813812762818]<input type='checkbox' class='ee-toggle'></label><ul><li><span class='ee-k'>0:</span><span class='ee-v'>-56.00742495977984</span></li><li><span class='ee-k'>1:</span><span class='ee-v'>-2.311813812762818</span></li></ul></li><li><label class='ee-shut'>7: [-54.965489059375095, -2.310697073459358]<input type='checkbox' class='ee-toggle'></label><ul><li><span class='ee-k'>0:</span><span class='ee-v'>-54.965489059375095</span></li><li><span class='ee-k'>1:</span><span class='ee-v'>-2.310697073459358</span></li></ul></li><li><label class='ee-shut'>8: [-54.965364694306565, -2.310587193231306]<input type='checkbox' class='ee-toggle'></label><ul><li><span class='ee-k'>0:</span><span class='ee-v'>-54.965364694306565</span></li><li><span class='ee-k'>1:</span><span class='ee-v'>-2.310587193231306</span></li></ul></li><li><label class='ee-shut'>9: [-54.96522755682257, -2.3104937772016316]<input type='checkbox' class='ee-toggle'></label><ul><li><span class='ee-k'>0:</span><span class='ee-v'>-54.96522755682257</span></li><li><span class='ee-k'>1:</span><span class='ee-v'>-2.3104937772016316</span></li></ul></li><li><label class='ee-shut'>10: [-54.96521915379773, -2.310449360521862]<input type='checkbox' class='ee-toggle'></label><ul><li><span class='ee-k'>0:</span><span class='ee-v'>-54.96521915379773</span></li><li><span class='ee-k'>1:</span><span class='ee-v'>-2.310449360521862</span></li></ul></li><li><label class='ee-shut'>11: [-54.96564502015339, -1.989003396395678]<input type='checkbox' class='ee-toggle'></label><ul><li><span class='ee-k'>0:</span><span class='ee-v'>-54.96564502015339</span></li><li><span class='ee-k'>1:</span><span class='ee-v'>-1.989003396395678</span></li></ul></li><li><label class='ee-shut'>12: [-54.96575493234115, -1.9888791171772373]<input type='checkbox' class='ee-toggle'></label><ul><li><span class='ee-k'>0:</span><span class='ee-v'>-54.96575493234115</span></li><li><span class='ee-k'>1:</span><span class='ee-v'>-1.9888791171772373</span></li></ul></li><li><label class='ee-shut'>13: [-54.96584845865072, -1.9887421460016503]<input type='checkbox' class='ee-toggle'></label><ul><li><span class='ee-k'>0:</span><span class='ee-v'>-54.96584845865072</span></li><li><span class='ee-k'>1:</span><span class='ee-v'>-1.9887421460016503</span></li></ul></li><li><label class='ee-shut'>14: [-54.965892826963334, -1.988733772966659]<input type='checkbox' class='ee-toggle'></label><ul><li><span class='ee-k'>0:</span><span class='ee-v'>-54.965892826963334</span></li><li><span class='ee-k'>1:</span><span class='ee-v'>-1.988733772966659</span></li></ul></li><li><label class='ee-shut'>15: [-56.0076331277673, -1.9896950199386851]<input type='checkbox' class='ee-toggle'></label><ul><li><span class='ee-k'>0:</span><span class='ee-v'>-56.0076331277673</span></li><li><span class='ee-k'>1:</span><span class='ee-v'>-1.9896950199386851</span></li></ul></li><li><label class='ee-shut'>16: [-56.00775753557763, -1.9898048265148425]<input type='checkbox' class='ee-toggle'></label><ul><li><span class='ee-k'>0:</span><span class='ee-v'>-56.00775753557763</span></li><li><span class='ee-k'>1:</span><span class='ee-v'>-1.9898048265148425</span></li></ul></li><li><label class='ee-shut'>17: [-56.00789469899878, -1.9898981788466987]<input type='checkbox' class='ee-toggle'></label><ul><li><span class='ee-k'>0:</span><span class='ee-v'>-56.00789469899878</span></li><li><span class='ee-k'>1:</span><span class='ee-v'>-1.9898981788466987</span></li></ul></li><li><label class='ee-shut'>18: [-56.00790099168393, -1.9899313951966122]<input type='checkbox' class='ee-toggle'></label><ul><li><span class='ee-k'>0:</span><span class='ee-v'>-56.00790099168393</span></li><li><span class='ee-k'>1:</span><span class='ee-v'>-1.9899313951966122</span></li></ul></li></ul></li></ul></li><li><span class='ee-k'>system:index:</span><span class='ee-v'>BOA_LC08_227062_20130520</span></li><li><span class='ee-k'>system:time_start:</span><span class='ee-v'>1369057814434</span></li></ul></li></ul></li><li><label class='ee-shut'>1: Image (6 bands)<input type='checkbox' class='ee-toggle'></label><ul><li><span class='ee-k'>type:</span><span class='ee-v'>Image</span></li><li><label class='ee-shut'>bands: List (6 elements)<input type='checkbox' class='ee-toggle'></label><ul><li><label class='ee-shut'>0: \"blue\", double, EPSG:32721, 3864x1186 px<input type='checkbox' class='ee-toggle'></label><ul><li><span class='ee-k'>id:</span><span class='ee-v'>blue</span></li><li><span class='ee-k'>crs:</span><span class='ee-v'>EPSG:32721</span></li><li><label class='ee-shut'>crs_transform: [30, 0, 610350, 0, -30, 9780030]<input type='checkbox' class='ee-toggle'></label><ul><li><span class='ee-k'>0:</span><span class='ee-v'>30</span></li><li><span class='ee-k'>1:</span><span class='ee-v'>0</span></li><li><span class='ee-k'>2:</span><span class='ee-v'>610350</span></li><li><span class='ee-k'>3:</span><span class='ee-v'>0</span></li><li><span class='ee-k'>4:</span><span class='ee-v'>-30</span></li><li><span class='ee-k'>5:</span><span class='ee-v'>9780030</span></li></ul></li><li><label class='ee-shut'>data_type: double<input type='checkbox' class='ee-toggle'></label><ul><li><span class='ee-k'>type:</span><span class='ee-v'>PixelType</span></li><li><span class='ee-k'>precision:</span><span class='ee-v'>double</span></li></ul></li><li><label class='ee-shut'>dimensions: [3864, 1186]<input type='checkbox' class='ee-toggle'></label><ul><li><span class='ee-k'>0:</span><span class='ee-v'>3864</span></li><li><span class='ee-k'>1:</span><span class='ee-v'>1186</span></li></ul></li></ul></li><li><label class='ee-shut'>1: \"green\", double, EPSG:32721, 3864x1186 px<input type='checkbox' class='ee-toggle'></label><ul><li><span class='ee-k'>id:</span><span class='ee-v'>green</span></li><li><span class='ee-k'>crs:</span><span class='ee-v'>EPSG:32721</span></li><li><label class='ee-shut'>crs_transform: [30, 0, 610350, 0, -30, 9780030]<input type='checkbox' class='ee-toggle'></label><ul><li><span class='ee-k'>0:</span><span class='ee-v'>30</span></li><li><span class='ee-k'>1:</span><span class='ee-v'>0</span></li><li><span class='ee-k'>2:</span><span class='ee-v'>610350</span></li><li><span class='ee-k'>3:</span><span class='ee-v'>0</span></li><li><span class='ee-k'>4:</span><span class='ee-v'>-30</span></li><li><span class='ee-k'>5:</span><span class='ee-v'>9780030</span></li></ul></li><li><label class='ee-shut'>data_type: double<input type='checkbox' class='ee-toggle'></label><ul><li><span class='ee-k'>type:</span><span class='ee-v'>PixelType</span></li><li><span class='ee-k'>precision:</span><span class='ee-v'>double</span></li></ul></li><li><label class='ee-shut'>dimensions: [3864, 1186]<input type='checkbox' class='ee-toggle'></label><ul><li><span class='ee-k'>0:</span><span class='ee-v'>3864</span></li><li><span class='ee-k'>1:</span><span class='ee-v'>1186</span></li></ul></li></ul></li><li><label class='ee-shut'>2: \"red\", double, EPSG:32721, 3864x1186 px<input type='checkbox' class='ee-toggle'></label><ul><li><span class='ee-k'>id:</span><span class='ee-v'>red</span></li><li><span class='ee-k'>crs:</span><span class='ee-v'>EPSG:32721</span></li><li><label class='ee-shut'>crs_transform: [30, 0, 610350, 0, -30, 9780030]<input type='checkbox' class='ee-toggle'></label><ul><li><span class='ee-k'>0:</span><span class='ee-v'>30</span></li><li><span class='ee-k'>1:</span><span class='ee-v'>0</span></li><li><span class='ee-k'>2:</span><span class='ee-v'>610350</span></li><li><span class='ee-k'>3:</span><span class='ee-v'>0</span></li><li><span class='ee-k'>4:</span><span class='ee-v'>-30</span></li><li><span class='ee-k'>5:</span><span class='ee-v'>9780030</span></li></ul></li><li><label class='ee-shut'>data_type: double<input type='checkbox' class='ee-toggle'></label><ul><li><span class='ee-k'>type:</span><span class='ee-v'>PixelType</span></li><li><span class='ee-k'>precision:</span><span class='ee-v'>double</span></li></ul></li><li><label class='ee-shut'>dimensions: [3864, 1186]<input type='checkbox' class='ee-toggle'></label><ul><li><span class='ee-k'>0:</span><span class='ee-v'>3864</span></li><li><span class='ee-k'>1:</span><span class='ee-v'>1186</span></li></ul></li></ul></li><li><label class='ee-shut'>3: \"nir\", double, EPSG:32721, 3864x1186 px<input type='checkbox' class='ee-toggle'></label><ul><li><span class='ee-k'>id:</span><span class='ee-v'>nir</span></li><li><span class='ee-k'>crs:</span><span class='ee-v'>EPSG:32721</span></li><li><label class='ee-shut'>crs_transform: [30, 0, 610350, 0, -30, 9780030]<input type='checkbox' class='ee-toggle'></label><ul><li><span class='ee-k'>0:</span><span class='ee-v'>30</span></li><li><span class='ee-k'>1:</span><span class='ee-v'>0</span></li><li><span class='ee-k'>2:</span><span class='ee-v'>610350</span></li><li><span class='ee-k'>3:</span><span class='ee-v'>0</span></li><li><span class='ee-k'>4:</span><span class='ee-v'>-30</span></li><li><span class='ee-k'>5:</span><span class='ee-v'>9780030</span></li></ul></li><li><label class='ee-shut'>data_type: double<input type='checkbox' class='ee-toggle'></label><ul><li><span class='ee-k'>type:</span><span class='ee-v'>PixelType</span></li><li><span class='ee-k'>precision:</span><span class='ee-v'>double</span></li></ul></li><li><label class='ee-shut'>dimensions: [3864, 1186]<input type='checkbox' class='ee-toggle'></label><ul><li><span class='ee-k'>0:</span><span class='ee-v'>3864</span></li><li><span class='ee-k'>1:</span><span class='ee-v'>1186</span></li></ul></li></ul></li><li><label class='ee-shut'>4: \"swir1\", double, EPSG:32721, 3864x1186 px<input type='checkbox' class='ee-toggle'></label><ul><li><span class='ee-k'>id:</span><span class='ee-v'>swir1</span></li><li><span class='ee-k'>crs:</span><span class='ee-v'>EPSG:32721</span></li><li><label class='ee-shut'>crs_transform: [30, 0, 610350, 0, -30, 9780030]<input type='checkbox' class='ee-toggle'></label><ul><li><span class='ee-k'>0:</span><span class='ee-v'>30</span></li><li><span class='ee-k'>1:</span><span class='ee-v'>0</span></li><li><span class='ee-k'>2:</span><span class='ee-v'>610350</span></li><li><span class='ee-k'>3:</span><span class='ee-v'>0</span></li><li><span class='ee-k'>4:</span><span class='ee-v'>-30</span></li><li><span class='ee-k'>5:</span><span class='ee-v'>9780030</span></li></ul></li><li><label class='ee-shut'>data_type: double<input type='checkbox' class='ee-toggle'></label><ul><li><span class='ee-k'>type:</span><span class='ee-v'>PixelType</span></li><li><span class='ee-k'>precision:</span><span class='ee-v'>double</span></li></ul></li><li><label class='ee-shut'>dimensions: [3864, 1186]<input type='checkbox' class='ee-toggle'></label><ul><li><span class='ee-k'>0:</span><span class='ee-v'>3864</span></li><li><span class='ee-k'>1:</span><span class='ee-v'>1186</span></li></ul></li></ul></li><li><label class='ee-shut'>5: \"swir2\", double, EPSG:32721, 3864x1186 px<input type='checkbox' class='ee-toggle'></label><ul><li><span class='ee-k'>id:</span><span class='ee-v'>swir2</span></li><li><span class='ee-k'>crs:</span><span class='ee-v'>EPSG:32721</span></li><li><label class='ee-shut'>crs_transform: [30, 0, 610350, 0, -30, 9780030]<input type='checkbox' class='ee-toggle'></label><ul><li><span class='ee-k'>0:</span><span class='ee-v'>30</span></li><li><span class='ee-k'>1:</span><span class='ee-v'>0</span></li><li><span class='ee-k'>2:</span><span class='ee-v'>610350</span></li><li><span class='ee-k'>3:</span><span class='ee-v'>0</span></li><li><span class='ee-k'>4:</span><span class='ee-v'>-30</span></li><li><span class='ee-k'>5:</span><span class='ee-v'>9780030</span></li></ul></li><li><label class='ee-shut'>data_type: double<input type='checkbox' class='ee-toggle'></label><ul><li><span class='ee-k'>type:</span><span class='ee-v'>PixelType</span></li><li><span class='ee-k'>precision:</span><span class='ee-v'>double</span></li></ul></li><li><label class='ee-shut'>dimensions: [3864, 1186]<input type='checkbox' class='ee-toggle'></label><ul><li><span class='ee-k'>0:</span><span class='ee-v'>3864</span></li><li><span class='ee-k'>1:</span><span class='ee-v'>1186</span></li></ul></li></ul></li></ul></li><li><label class='ee-shut'>properties: Object (5 properties)<input type='checkbox' class='ee-toggle'></label><ul><li><span class='ee-k'>CLOUD_COVER:</span><span class='ee-v'>26.69</span></li><li><span class='ee-k'>LANDSAT_PRODUCT_ID:</span><span class='ee-v'>LC08_L1TP_227062_20130605_20200913_02_T1</span></li><li><label class='ee-shut'>system:footprint: LinearRing (19 vertices)<input type='checkbox' class='ee-toggle'></label><ul><li><span class='ee-k'>type:</span><span class='ee-v'>LinearRing</span></li><li><label class='ee-shut'>coordinates: List (19 elements)<input type='checkbox' class='ee-toggle'></label><ul><li><label class='ee-shut'>0: [-56.00790099168393, -1.9899313951966122]<input type='checkbox' class='ee-toggle'></label><ul><li><span class='ee-k'>0:</span><span class='ee-v'>-56.00790099168393</span></li><li><span class='ee-k'>1:</span><span class='ee-v'>-1.9899313951966122</span></li></ul></li><li><label class='ee-shut'>1: [-56.00790303255488, -1.9899651372103422]<input type='checkbox' class='ee-toggle'></label><ul><li><span class='ee-k'>0:</span><span class='ee-v'>-56.00790303255488</span></li><li><span class='ee-k'>1:</span><span class='ee-v'>-1.9899651372103422</span></li></ul></li><li><label class='ee-shut'>2: [-56.007695289133245, -2.311543999976785]<input type='checkbox' class='ee-toggle'></label><ul><li><span class='ee-k'>0:</span><span class='ee-v'>-56.007695289133245</span></li><li><span class='ee-k'>1:</span><span class='ee-v'>-2.311543999976785</span></li></ul></li><li><label class='ee-shut'>3: [-56.00758542256164, -2.311668371300401]<input type='checkbox' class='ee-toggle'></label><ul><li><span class='ee-k'>0:</span><span class='ee-v'>-56.00758542256164</span></li><li><span class='ee-k'>1:</span><span class='ee-v'>-2.311668371300401</span></li></ul></li><li><label class='ee-shut'>4: [-56.007491968050864, -2.311805420122597]<input type='checkbox' class='ee-toggle'></label><ul><li><span class='ee-k'>0:</span><span class='ee-v'>-56.007491968050864</span></li><li><span class='ee-k'>1:</span><span class='ee-v'>-2.311805420122597</span></li></ul></li><li><label class='ee-shut'>5: [-56.007458719016846, -2.311811703970227]<input type='checkbox' class='ee-toggle'></label><ul><li><span class='ee-k'>0:</span><span class='ee-v'>-56.007458719016846</span></li><li><span class='ee-k'>1:</span><span class='ee-v'>-2.311811703970227</span></li></ul></li><li><label class='ee-shut'>6: [-56.00742495977984, -2.311813812762818]<input type='checkbox' class='ee-toggle'></label><ul><li><span class='ee-k'>0:</span><span class='ee-v'>-56.00742495977984</span></li><li><span class='ee-k'>1:</span><span class='ee-v'>-2.311813812762818</span></li></ul></li><li><label class='ee-shut'>7: [-54.965489059375095, -2.310697073459358]<input type='checkbox' class='ee-toggle'></label><ul><li><span class='ee-k'>0:</span><span class='ee-v'>-54.965489059375095</span></li><li><span class='ee-k'>1:</span><span class='ee-v'>-2.310697073459358</span></li></ul></li><li><label class='ee-shut'>8: [-54.965364694306565, -2.310587193231306]<input type='checkbox' class='ee-toggle'></label><ul><li><span class='ee-k'>0:</span><span class='ee-v'>-54.965364694306565</span></li><li><span class='ee-k'>1:</span><span class='ee-v'>-2.310587193231306</span></li></ul></li><li><label class='ee-shut'>9: [-54.96522755682257, -2.3104937772016316]<input type='checkbox' class='ee-toggle'></label><ul><li><span class='ee-k'>0:</span><span class='ee-v'>-54.96522755682257</span></li><li><span class='ee-k'>1:</span><span class='ee-v'>-2.3104937772016316</span></li></ul></li><li><label class='ee-shut'>10: [-54.96521915379773, -2.310449360521862]<input type='checkbox' class='ee-toggle'></label><ul><li><span class='ee-k'>0:</span><span class='ee-v'>-54.96521915379773</span></li><li><span class='ee-k'>1:</span><span class='ee-v'>-2.310449360521862</span></li></ul></li><li><label class='ee-shut'>11: [-54.96564502015339, -1.989003396395678]<input type='checkbox' class='ee-toggle'></label><ul><li><span class='ee-k'>0:</span><span class='ee-v'>-54.96564502015339</span></li><li><span class='ee-k'>1:</span><span class='ee-v'>-1.989003396395678</span></li></ul></li><li><label class='ee-shut'>12: [-54.96575493234115, -1.9888791171772373]<input type='checkbox' class='ee-toggle'></label><ul><li><span class='ee-k'>0:</span><span class='ee-v'>-54.96575493234115</span></li><li><span class='ee-k'>1:</span><span class='ee-v'>-1.9888791171772373</span></li></ul></li><li><label class='ee-shut'>13: [-54.96584845865072, -1.9887421460016503]<input type='checkbox' class='ee-toggle'></label><ul><li><span class='ee-k'>0:</span><span class='ee-v'>-54.96584845865072</span></li><li><span class='ee-k'>1:</span><span class='ee-v'>-1.9887421460016503</span></li></ul></li><li><label class='ee-shut'>14: [-54.965892826963334, -1.988733772966659]<input type='checkbox' class='ee-toggle'></label><ul><li><span class='ee-k'>0:</span><span class='ee-v'>-54.965892826963334</span></li><li><span class='ee-k'>1:</span><span class='ee-v'>-1.988733772966659</span></li></ul></li><li><label class='ee-shut'>15: [-56.0076331277673, -1.9896950199386851]<input type='checkbox' class='ee-toggle'></label><ul><li><span class='ee-k'>0:</span><span class='ee-v'>-56.0076331277673</span></li><li><span class='ee-k'>1:</span><span class='ee-v'>-1.9896950199386851</span></li></ul></li><li><label class='ee-shut'>16: [-56.00775753557763, -1.9898048265148425]<input type='checkbox' class='ee-toggle'></label><ul><li><span class='ee-k'>0:</span><span class='ee-v'>-56.00775753557763</span></li><li><span class='ee-k'>1:</span><span class='ee-v'>-1.9898048265148425</span></li></ul></li><li><label class='ee-shut'>17: [-56.00789469899878, -1.9898981788466987]<input type='checkbox' class='ee-toggle'></label><ul><li><span class='ee-k'>0:</span><span class='ee-v'>-56.00789469899878</span></li><li><span class='ee-k'>1:</span><span class='ee-v'>-1.9898981788466987</span></li></ul></li><li><label class='ee-shut'>18: [-56.00790099168393, -1.9899313951966122]<input type='checkbox' class='ee-toggle'></label><ul><li><span class='ee-k'>0:</span><span class='ee-v'>-56.00790099168393</span></li><li><span class='ee-k'>1:</span><span class='ee-v'>-1.9899313951966122</span></li></ul></li></ul></li></ul></li><li><span class='ee-k'>system:index:</span><span class='ee-v'>BOA_LC08_227062_20130605</span></li><li><span class='ee-k'>system:time_start:</span><span class='ee-v'>1370440215449</span></li></ul></li></ul></li></ul></li></ul></li></ul></div><script>function toggleHeader() {\n",
              "    const parent = this.parentElement;\n",
              "    parent.className = parent.className === \"ee-open\" ? \"ee-shut\" : \"ee-open\";\n",
              "}\n",
              "\n",
              "for (let c of document.getElementsByClassName(\"ee-toggle\")) {\n",
              "    c.onclick = toggleHeader;\n",
              "}</script></div>"
            ]
          },
          "metadata": {},
          "execution_count": 56
        }
      ]
    },
    {
      "cell_type": "code",
      "source": [
        "def band_adjustmentLD7(img):\n",
        "  blue = img.select('blue').multiply(1.1060).subtract(0.0139)\n",
        "  green = img.select('green').multiply(0.9909).add(0.0041)\n",
        "  red = img.select('red').multiply(1.0568).subtract(0.0024)\n",
        "  nir=img.select('nir').multiply(1.0045).subtract(0.0076)\n",
        "  swir1 = img.select('swir1').multiply(1.0361).add(0.0041)\n",
        "  swir2 = img.select('swir2').multiply(1.0401).add(0.0086)\n",
        "\n",
        "  return blue.addBands(green).addBands(red).addBands(nir).addBands(swir1).addBands(swir2).copyProperties(img,['system:time_start','CLOUD_COVER',\"system:index\",\"LANDSAT_PRODUCT_ID\"])"
      ],
      "metadata": {
        "id": "UV6FKu7seozT",
        "outputId": "541fb428-ea70-4330-c359-1c2044078014",
        "colab": {
          "base_uri": "https://localhost:8080/",
          "height": 17
        }
      },
      "execution_count": 57,
      "outputs": [
        {
          "output_type": "display_data",
          "data": {
            "text/plain": [
              "<IPython.core.display.HTML object>"
            ],
            "text/html": [
              "\n",
              "            <style>\n",
              "                .geemap-dark {\n",
              "                    --jp-widgets-color: white;\n",
              "                    --jp-widgets-label-color: white;\n",
              "                    --jp-ui-font-color1: white;\n",
              "                    --jp-layout-color2: #454545;\n",
              "                    background-color: #383838;\n",
              "                }\n",
              "\n",
              "                .geemap-dark .jupyter-button {\n",
              "                    --jp-layout-color3: #383838;\n",
              "                }\n",
              "\n",
              "                .geemap-colab {\n",
              "                    background-color: var(--colab-primary-surface-color, white);\n",
              "                }\n",
              "\n",
              "                .geemap-colab .jupyter-button {\n",
              "                    --jp-layout-color3: var(--colab-primary-surface-color, white);\n",
              "                }\n",
              "            </style>\n",
              "            "
            ]
          },
          "metadata": {}
        }
      ]
    },
    {
      "cell_type": "code",
      "source": [
        "adj_ld7 = brdf_ld7.map(band_adjustmentLD7)\n",
        "adj_ld7.limit(2)"
      ],
      "metadata": {
        "id": "xqpI-KL_gDB5",
        "outputId": "f447cf8f-d44a-47b9-ba0c-3b0c4195e258",
        "colab": {
          "base_uri": "https://localhost:8080/",
          "height": 68
        }
      },
      "execution_count": 58,
      "outputs": [
        {
          "output_type": "display_data",
          "data": {
            "text/plain": [
              "<IPython.core.display.HTML object>"
            ],
            "text/html": [
              "\n",
              "            <style>\n",
              "                .geemap-dark {\n",
              "                    --jp-widgets-color: white;\n",
              "                    --jp-widgets-label-color: white;\n",
              "                    --jp-ui-font-color1: white;\n",
              "                    --jp-layout-color2: #454545;\n",
              "                    background-color: #383838;\n",
              "                }\n",
              "\n",
              "                .geemap-dark .jupyter-button {\n",
              "                    --jp-layout-color3: #383838;\n",
              "                }\n",
              "\n",
              "                .geemap-colab {\n",
              "                    background-color: var(--colab-primary-surface-color, white);\n",
              "                }\n",
              "\n",
              "                .geemap-colab .jupyter-button {\n",
              "                    --jp-layout-color3: var(--colab-primary-surface-color, white);\n",
              "                }\n",
              "            </style>\n",
              "            "
            ]
          },
          "metadata": {}
        },
        {
          "output_type": "execute_result",
          "data": {
            "text/plain": [
              "<ee.imagecollection.ImageCollection at 0x7cfa2296ef20>"
            ],
            "text/html": [
              "<div><style>:root {\n",
              "  --font-color-primary: var(--jp-content-font-color0, rgba(0, 0, 0, 1));\n",
              "  --font-color-secondary: var(--jp-content-font-color2, rgba(0, 0, 0, 0.6));\n",
              "  --font-color-accent: rgba(123, 31, 162, 1);\n",
              "  --border-color: var(--jp-border-color2, #e0e0e0);\n",
              "  --background-color: var(--jp-layout-color0, white);\n",
              "  --background-color-row-even: var(--jp-layout-color1, white);\n",
              "  --background-color-row-odd: var(--jp-layout-color2, #eeeeee);\n",
              "}\n",
              "\n",
              "html[theme=\"dark\"],\n",
              "body[data-theme=\"dark\"],\n",
              "body.vscode-dark {\n",
              "  --font-color-primary: rgba(255, 255, 255, 1);\n",
              "  --font-color-secondary: rgba(255, 255, 255, 0.6);\n",
              "  --font-color-accent: rgb(173, 132, 190);\n",
              "  --border-color: #2e2e2e;\n",
              "  --background-color: #111111;\n",
              "  --background-color-row-even: #111111;\n",
              "  --background-color-row-odd: #313131;\n",
              "}\n",
              "\n",
              ".ee {\n",
              "  padding: 1em;\n",
              "  line-height: 1.5em;\n",
              "  min-width: 300px;\n",
              "  max-width: 1200px;\n",
              "  overflow-y: scroll;\n",
              "  max-height: 600px;\n",
              "  border: 1px solid var(--border-color);\n",
              "  font-family: monospace;\n",
              "}\n",
              "\n",
              ".ee li {\n",
              "  list-style-type: none;\n",
              "}\n",
              "\n",
              ".ee ul {\n",
              "  padding-left: 1.5em !important;\n",
              "  margin: 0;\n",
              "}\n",
              "\n",
              ".ee > ul {\n",
              "  padding-left: 0 !important;\n",
              "}\n",
              "\n",
              ".ee-open,\n",
              ".ee-shut {\n",
              "  color: var(--font-color-secondary);\n",
              "  cursor: pointer;\n",
              "  margin: 0;\n",
              "}\n",
              "\n",
              ".ee-open:hover,\n",
              ".ee-shut:hover {\n",
              "  color: var(--font-color-primary);\n",
              "}\n",
              "\n",
              ".ee-k {\n",
              "  color: var(--font-color-accent);\n",
              "  margin-right: 6px;\n",
              "}\n",
              "\n",
              ".ee-v {\n",
              "  color: var(--font-color-primary);\n",
              "}\n",
              "\n",
              ".ee-toggle {\n",
              "  display: none;\n",
              "}\n",
              "\n",
              ".ee-shut + ul {\n",
              "  display: none;\n",
              "}\n",
              "\n",
              ".ee-open + ul {\n",
              "  display: block;\n",
              "}\n",
              "\n",
              ".ee-shut::before {\n",
              "  display: inline-block;\n",
              "  content: \"▼\";\n",
              "  margin-right: 6px;\n",
              "  transform: rotate(-90deg);\n",
              "  transition: transform 0.2s;\n",
              "}\n",
              "\n",
              ".ee-open::before {\n",
              "  transform: rotate(0deg);\n",
              "  display: inline-block;\n",
              "  content: \"▼\";\n",
              "  margin-right: 6px;\n",
              "  transition: transform 0.2s;\n",
              "}\n",
              "</style><div class='ee'><ul><li><label class='ee-shut'>ImageCollection projects/ee-curuai/assets/Py6S/LD7/ld7_py6s  (2 elements)<input type='checkbox' class='ee-toggle'></label><ul><li><span class='ee-k'>type:</span><span class='ee-v'>ImageCollection</span></li><li><span class='ee-k'>id:</span><span class='ee-v'>projects/ee-curuai/assets/Py6S/LD7/ld7_py6s</span></li><li><span class='ee-k'>version:</span><span class='ee-v'>1715563153459283</span></li><li><label class='ee-shut'>bands: []<input type='checkbox' class='ee-toggle'></label><ul></ul></li><li><label class='ee-shut'>features: List (2 elements)<input type='checkbox' class='ee-toggle'></label><ul><li><label class='ee-shut'>0: Image (6 bands)<input type='checkbox' class='ee-toggle'></label><ul><li><span class='ee-k'>type:</span><span class='ee-v'>Image</span></li><li><label class='ee-shut'>bands: List (6 elements)<input type='checkbox' class='ee-toggle'></label><ul><li><label class='ee-shut'>0: \"blue\", double, EPSG:32721, 3865x1186 px<input type='checkbox' class='ee-toggle'></label><ul><li><span class='ee-k'>id:</span><span class='ee-v'>blue</span></li><li><span class='ee-k'>crs:</span><span class='ee-v'>EPSG:32721</span></li><li><label class='ee-shut'>crs_transform: [30, 0, 610350, 0, -30, 9780030]<input type='checkbox' class='ee-toggle'></label><ul><li><span class='ee-k'>0:</span><span class='ee-v'>30</span></li><li><span class='ee-k'>1:</span><span class='ee-v'>0</span></li><li><span class='ee-k'>2:</span><span class='ee-v'>610350</span></li><li><span class='ee-k'>3:</span><span class='ee-v'>0</span></li><li><span class='ee-k'>4:</span><span class='ee-v'>-30</span></li><li><span class='ee-k'>5:</span><span class='ee-v'>9780030</span></li></ul></li><li><label class='ee-shut'>data_type: double<input type='checkbox' class='ee-toggle'></label><ul><li><span class='ee-k'>type:</span><span class='ee-v'>PixelType</span></li><li><span class='ee-k'>precision:</span><span class='ee-v'>double</span></li></ul></li><li><label class='ee-shut'>dimensions: [3865, 1186]<input type='checkbox' class='ee-toggle'></label><ul><li><span class='ee-k'>0:</span><span class='ee-v'>3865</span></li><li><span class='ee-k'>1:</span><span class='ee-v'>1186</span></li></ul></li></ul></li><li><label class='ee-shut'>1: \"green\", double, EPSG:32721, 3865x1186 px<input type='checkbox' class='ee-toggle'></label><ul><li><span class='ee-k'>id:</span><span class='ee-v'>green</span></li><li><span class='ee-k'>crs:</span><span class='ee-v'>EPSG:32721</span></li><li><label class='ee-shut'>crs_transform: [30, 0, 610350, 0, -30, 9780030]<input type='checkbox' class='ee-toggle'></label><ul><li><span class='ee-k'>0:</span><span class='ee-v'>30</span></li><li><span class='ee-k'>1:</span><span class='ee-v'>0</span></li><li><span class='ee-k'>2:</span><span class='ee-v'>610350</span></li><li><span class='ee-k'>3:</span><span class='ee-v'>0</span></li><li><span class='ee-k'>4:</span><span class='ee-v'>-30</span></li><li><span class='ee-k'>5:</span><span class='ee-v'>9780030</span></li></ul></li><li><label class='ee-shut'>data_type: double<input type='checkbox' class='ee-toggle'></label><ul><li><span class='ee-k'>type:</span><span class='ee-v'>PixelType</span></li><li><span class='ee-k'>precision:</span><span class='ee-v'>double</span></li></ul></li><li><label class='ee-shut'>dimensions: [3865, 1186]<input type='checkbox' class='ee-toggle'></label><ul><li><span class='ee-k'>0:</span><span class='ee-v'>3865</span></li><li><span class='ee-k'>1:</span><span class='ee-v'>1186</span></li></ul></li></ul></li><li><label class='ee-shut'>2: \"red\", double, EPSG:32721, 3865x1186 px<input type='checkbox' class='ee-toggle'></label><ul><li><span class='ee-k'>id:</span><span class='ee-v'>red</span></li><li><span class='ee-k'>crs:</span><span class='ee-v'>EPSG:32721</span></li><li><label class='ee-shut'>crs_transform: [30, 0, 610350, 0, -30, 9780030]<input type='checkbox' class='ee-toggle'></label><ul><li><span class='ee-k'>0:</span><span class='ee-v'>30</span></li><li><span class='ee-k'>1:</span><span class='ee-v'>0</span></li><li><span class='ee-k'>2:</span><span class='ee-v'>610350</span></li><li><span class='ee-k'>3:</span><span class='ee-v'>0</span></li><li><span class='ee-k'>4:</span><span class='ee-v'>-30</span></li><li><span class='ee-k'>5:</span><span class='ee-v'>9780030</span></li></ul></li><li><label class='ee-shut'>data_type: double<input type='checkbox' class='ee-toggle'></label><ul><li><span class='ee-k'>type:</span><span class='ee-v'>PixelType</span></li><li><span class='ee-k'>precision:</span><span class='ee-v'>double</span></li></ul></li><li><label class='ee-shut'>dimensions: [3865, 1186]<input type='checkbox' class='ee-toggle'></label><ul><li><span class='ee-k'>0:</span><span class='ee-v'>3865</span></li><li><span class='ee-k'>1:</span><span class='ee-v'>1186</span></li></ul></li></ul></li><li><label class='ee-shut'>3: \"nir\", double, EPSG:32721, 3865x1186 px<input type='checkbox' class='ee-toggle'></label><ul><li><span class='ee-k'>id:</span><span class='ee-v'>nir</span></li><li><span class='ee-k'>crs:</span><span class='ee-v'>EPSG:32721</span></li><li><label class='ee-shut'>crs_transform: [30, 0, 610350, 0, -30, 9780030]<input type='checkbox' class='ee-toggle'></label><ul><li><span class='ee-k'>0:</span><span class='ee-v'>30</span></li><li><span class='ee-k'>1:</span><span class='ee-v'>0</span></li><li><span class='ee-k'>2:</span><span class='ee-v'>610350</span></li><li><span class='ee-k'>3:</span><span class='ee-v'>0</span></li><li><span class='ee-k'>4:</span><span class='ee-v'>-30</span></li><li><span class='ee-k'>5:</span><span class='ee-v'>9780030</span></li></ul></li><li><label class='ee-shut'>data_type: double<input type='checkbox' class='ee-toggle'></label><ul><li><span class='ee-k'>type:</span><span class='ee-v'>PixelType</span></li><li><span class='ee-k'>precision:</span><span class='ee-v'>double</span></li></ul></li><li><label class='ee-shut'>dimensions: [3865, 1186]<input type='checkbox' class='ee-toggle'></label><ul><li><span class='ee-k'>0:</span><span class='ee-v'>3865</span></li><li><span class='ee-k'>1:</span><span class='ee-v'>1186</span></li></ul></li></ul></li><li><label class='ee-shut'>4: \"swir1\", double, EPSG:32721, 3865x1186 px<input type='checkbox' class='ee-toggle'></label><ul><li><span class='ee-k'>id:</span><span class='ee-v'>swir1</span></li><li><span class='ee-k'>crs:</span><span class='ee-v'>EPSG:32721</span></li><li><label class='ee-shut'>crs_transform: [30, 0, 610350, 0, -30, 9780030]<input type='checkbox' class='ee-toggle'></label><ul><li><span class='ee-k'>0:</span><span class='ee-v'>30</span></li><li><span class='ee-k'>1:</span><span class='ee-v'>0</span></li><li><span class='ee-k'>2:</span><span class='ee-v'>610350</span></li><li><span class='ee-k'>3:</span><span class='ee-v'>0</span></li><li><span class='ee-k'>4:</span><span class='ee-v'>-30</span></li><li><span class='ee-k'>5:</span><span class='ee-v'>9780030</span></li></ul></li><li><label class='ee-shut'>data_type: double<input type='checkbox' class='ee-toggle'></label><ul><li><span class='ee-k'>type:</span><span class='ee-v'>PixelType</span></li><li><span class='ee-k'>precision:</span><span class='ee-v'>double</span></li></ul></li><li><label class='ee-shut'>dimensions: [3865, 1186]<input type='checkbox' class='ee-toggle'></label><ul><li><span class='ee-k'>0:</span><span class='ee-v'>3865</span></li><li><span class='ee-k'>1:</span><span class='ee-v'>1186</span></li></ul></li></ul></li><li><label class='ee-shut'>5: \"swir2\", double, EPSG:32721, 3865x1186 px<input type='checkbox' class='ee-toggle'></label><ul><li><span class='ee-k'>id:</span><span class='ee-v'>swir2</span></li><li><span class='ee-k'>crs:</span><span class='ee-v'>EPSG:32721</span></li><li><label class='ee-shut'>crs_transform: [30, 0, 610350, 0, -30, 9780030]<input type='checkbox' class='ee-toggle'></label><ul><li><span class='ee-k'>0:</span><span class='ee-v'>30</span></li><li><span class='ee-k'>1:</span><span class='ee-v'>0</span></li><li><span class='ee-k'>2:</span><span class='ee-v'>610350</span></li><li><span class='ee-k'>3:</span><span class='ee-v'>0</span></li><li><span class='ee-k'>4:</span><span class='ee-v'>-30</span></li><li><span class='ee-k'>5:</span><span class='ee-v'>9780030</span></li></ul></li><li><label class='ee-shut'>data_type: double<input type='checkbox' class='ee-toggle'></label><ul><li><span class='ee-k'>type:</span><span class='ee-v'>PixelType</span></li><li><span class='ee-k'>precision:</span><span class='ee-v'>double</span></li></ul></li><li><label class='ee-shut'>dimensions: [3865, 1186]<input type='checkbox' class='ee-toggle'></label><ul><li><span class='ee-k'>0:</span><span class='ee-v'>3865</span></li><li><span class='ee-k'>1:</span><span class='ee-v'>1186</span></li></ul></li></ul></li></ul></li><li><label class='ee-shut'>properties: Object (5 properties)<input type='checkbox' class='ee-toggle'></label><ul><li><span class='ee-k'>CLOUD_COVER:</span><span class='ee-v'>65</span></li><li><span class='ee-k'>LANDSAT_PRODUCT_ID:</span><span class='ee-v'>LE07_L1TP_227062_20130512_20200907_02_T1</span></li><li><label class='ee-shut'>system:footprint: LinearRing (19 vertices)<input type='checkbox' class='ee-toggle'></label><ul><li><span class='ee-k'>type:</span><span class='ee-v'>LinearRing</span></li><li><label class='ee-shut'>coordinates: List (19 elements)<input type='checkbox' class='ee-toggle'></label><ul><li><label class='ee-shut'>0: [-56.00790099168393, -1.9899313951966122]<input type='checkbox' class='ee-toggle'></label><ul><li><span class='ee-k'>0:</span><span class='ee-v'>-56.00790099168393</span></li><li><span class='ee-k'>1:</span><span class='ee-v'>-1.9899313951966122</span></li></ul></li><li><label class='ee-shut'>1: [-56.00790303255488, -1.9899651372103422]<input type='checkbox' class='ee-toggle'></label><ul><li><span class='ee-k'>0:</span><span class='ee-v'>-56.00790303255488</span></li><li><span class='ee-k'>1:</span><span class='ee-v'>-1.9899651372103422</span></li></ul></li><li><label class='ee-shut'>2: [-56.007695289133245, -2.311543999976785]<input type='checkbox' class='ee-toggle'></label><ul><li><span class='ee-k'>0:</span><span class='ee-v'>-56.007695289133245</span></li><li><span class='ee-k'>1:</span><span class='ee-v'>-2.311543999976785</span></li></ul></li><li><label class='ee-shut'>3: [-56.00758542256164, -2.311668371300401]<input type='checkbox' class='ee-toggle'></label><ul><li><span class='ee-k'>0:</span><span class='ee-v'>-56.00758542256164</span></li><li><span class='ee-k'>1:</span><span class='ee-v'>-2.311668371300401</span></li></ul></li><li><label class='ee-shut'>4: [-56.007491968050864, -2.311805420122597]<input type='checkbox' class='ee-toggle'></label><ul><li><span class='ee-k'>0:</span><span class='ee-v'>-56.007491968050864</span></li><li><span class='ee-k'>1:</span><span class='ee-v'>-2.311805420122597</span></li></ul></li><li><label class='ee-shut'>5: [-56.007458719016846, -2.311811703970227]<input type='checkbox' class='ee-toggle'></label><ul><li><span class='ee-k'>0:</span><span class='ee-v'>-56.007458719016846</span></li><li><span class='ee-k'>1:</span><span class='ee-v'>-2.311811703970227</span></li></ul></li><li><label class='ee-shut'>6: [-56.00742495977984, -2.311813812762818]<input type='checkbox' class='ee-toggle'></label><ul><li><span class='ee-k'>0:</span><span class='ee-v'>-56.00742495977984</span></li><li><span class='ee-k'>1:</span><span class='ee-v'>-2.311813812762818</span></li></ul></li><li><label class='ee-shut'>7: [-54.96521940588846, -2.3106966854844777]<input type='checkbox' class='ee-toggle'></label><ul><li><span class='ee-k'>0:</span><span class='ee-v'>-54.96521940588846</span></li><li><span class='ee-k'>1:</span><span class='ee-v'>-2.3106966854844777</span></li></ul></li><li><label class='ee-shut'>8: [-54.965095041218675, -2.3105868055625747]<input type='checkbox' class='ee-toggle'></label><ul><li><span class='ee-k'>0:</span><span class='ee-v'>-54.965095041218675</span></li><li><span class='ee-k'>1:</span><span class='ee-v'>-2.3105868055625747</span></li></ul></li><li><label class='ee-shut'>9: [-54.9649579041744, -2.310493389784539]<input type='checkbox' class='ee-toggle'></label><ul><li><span class='ee-k'>0:</span><span class='ee-v'>-54.9649579041744</span></li><li><span class='ee-k'>1:</span><span class='ee-v'>-2.310493389784539</span></li></ul></li><li><label class='ee-shut'>10: [-54.96494958520648, -2.3104489756132134]<input type='checkbox' class='ee-toggle'></label><ul><li><span class='ee-k'>0:</span><span class='ee-v'>-54.96494958520648</span></li><li><span class='ee-k'>1:</span><span class='ee-v'>-2.3104489756132134</span></li></ul></li><li><label class='ee-shut'>11: [-54.96537536616671, -1.9890030781522787]<input type='checkbox' class='ee-toggle'></label><ul><li><span class='ee-k'>0:</span><span class='ee-v'>-54.96537536616671</span></li><li><span class='ee-k'>1:</span><span class='ee-v'>-1.9890030781522787</span></li></ul></li><li><label class='ee-shut'>12: [-54.96548536203257, -1.9888788013913736]<input type='checkbox' class='ee-toggle'></label><ul><li><span class='ee-k'>0:</span><span class='ee-v'>-54.96548536203257</span></li><li><span class='ee-k'>1:</span><span class='ee-v'>-1.9888788013913736</span></li></ul></li><li><label class='ee-shut'>13: [-54.96557880401176, -1.9887418286222167]<input type='checkbox' class='ee-toggle'></label><ul><li><span class='ee-k'>0:</span><span class='ee-v'>-54.96557880401176</span></li><li><span class='ee-k'>1:</span><span class='ee-v'>-1.9887418286222167</span></li></ul></li><li><label class='ee-shut'>14: [-54.96562325621276, -1.9887333958904014]<input type='checkbox' class='ee-toggle'></label><ul><li><span class='ee-k'>0:</span><span class='ee-v'>-54.96562325621276</span></li><li><span class='ee-k'>1:</span><span class='ee-v'>-1.9887333958904014</span></li></ul></li><li><label class='ee-shut'>15: [-56.0076331277673, -1.9896950199386851]<input type='checkbox' class='ee-toggle'></label><ul><li><span class='ee-k'>0:</span><span class='ee-v'>-56.0076331277673</span></li><li><span class='ee-k'>1:</span><span class='ee-v'>-1.9896950199386851</span></li></ul></li><li><label class='ee-shut'>16: [-56.00775753557763, -1.9898048265148425]<input type='checkbox' class='ee-toggle'></label><ul><li><span class='ee-k'>0:</span><span class='ee-v'>-56.00775753557763</span></li><li><span class='ee-k'>1:</span><span class='ee-v'>-1.9898048265148425</span></li></ul></li><li><label class='ee-shut'>17: [-56.00789469899878, -1.9898981788466987]<input type='checkbox' class='ee-toggle'></label><ul><li><span class='ee-k'>0:</span><span class='ee-v'>-56.00789469899878</span></li><li><span class='ee-k'>1:</span><span class='ee-v'>-1.9898981788466987</span></li></ul></li><li><label class='ee-shut'>18: [-56.00790099168393, -1.9899313951966122]<input type='checkbox' class='ee-toggle'></label><ul><li><span class='ee-k'>0:</span><span class='ee-v'>-56.00790099168393</span></li><li><span class='ee-k'>1:</span><span class='ee-v'>-1.9899313951966122</span></li></ul></li></ul></li></ul></li><li><span class='ee-k'>system:index:</span><span class='ee-v'>BOA_LE07_227062_20130512</span></li><li><span class='ee-k'>system:time_start:</span><span class='ee-v'>1368366245398</span></li></ul></li></ul></li><li><label class='ee-shut'>1: Image (6 bands)<input type='checkbox' class='ee-toggle'></label><ul><li><span class='ee-k'>type:</span><span class='ee-v'>Image</span></li><li><label class='ee-shut'>bands: List (6 elements)<input type='checkbox' class='ee-toggle'></label><ul><li><label class='ee-shut'>0: \"blue\", double, EPSG:32721, 3865x1186 px<input type='checkbox' class='ee-toggle'></label><ul><li><span class='ee-k'>id:</span><span class='ee-v'>blue</span></li><li><span class='ee-k'>crs:</span><span class='ee-v'>EPSG:32721</span></li><li><label class='ee-shut'>crs_transform: [30, 0, 610350, 0, -30, 9780030]<input type='checkbox' class='ee-toggle'></label><ul><li><span class='ee-k'>0:</span><span class='ee-v'>30</span></li><li><span class='ee-k'>1:</span><span class='ee-v'>0</span></li><li><span class='ee-k'>2:</span><span class='ee-v'>610350</span></li><li><span class='ee-k'>3:</span><span class='ee-v'>0</span></li><li><span class='ee-k'>4:</span><span class='ee-v'>-30</span></li><li><span class='ee-k'>5:</span><span class='ee-v'>9780030</span></li></ul></li><li><label class='ee-shut'>data_type: double<input type='checkbox' class='ee-toggle'></label><ul><li><span class='ee-k'>type:</span><span class='ee-v'>PixelType</span></li><li><span class='ee-k'>precision:</span><span class='ee-v'>double</span></li></ul></li><li><label class='ee-shut'>dimensions: [3865, 1186]<input type='checkbox' class='ee-toggle'></label><ul><li><span class='ee-k'>0:</span><span class='ee-v'>3865</span></li><li><span class='ee-k'>1:</span><span class='ee-v'>1186</span></li></ul></li></ul></li><li><label class='ee-shut'>1: \"green\", double, EPSG:32721, 3865x1186 px<input type='checkbox' class='ee-toggle'></label><ul><li><span class='ee-k'>id:</span><span class='ee-v'>green</span></li><li><span class='ee-k'>crs:</span><span class='ee-v'>EPSG:32721</span></li><li><label class='ee-shut'>crs_transform: [30, 0, 610350, 0, -30, 9780030]<input type='checkbox' class='ee-toggle'></label><ul><li><span class='ee-k'>0:</span><span class='ee-v'>30</span></li><li><span class='ee-k'>1:</span><span class='ee-v'>0</span></li><li><span class='ee-k'>2:</span><span class='ee-v'>610350</span></li><li><span class='ee-k'>3:</span><span class='ee-v'>0</span></li><li><span class='ee-k'>4:</span><span class='ee-v'>-30</span></li><li><span class='ee-k'>5:</span><span class='ee-v'>9780030</span></li></ul></li><li><label class='ee-shut'>data_type: double<input type='checkbox' class='ee-toggle'></label><ul><li><span class='ee-k'>type:</span><span class='ee-v'>PixelType</span></li><li><span class='ee-k'>precision:</span><span class='ee-v'>double</span></li></ul></li><li><label class='ee-shut'>dimensions: [3865, 1186]<input type='checkbox' class='ee-toggle'></label><ul><li><span class='ee-k'>0:</span><span class='ee-v'>3865</span></li><li><span class='ee-k'>1:</span><span class='ee-v'>1186</span></li></ul></li></ul></li><li><label class='ee-shut'>2: \"red\", double, EPSG:32721, 3865x1186 px<input type='checkbox' class='ee-toggle'></label><ul><li><span class='ee-k'>id:</span><span class='ee-v'>red</span></li><li><span class='ee-k'>crs:</span><span class='ee-v'>EPSG:32721</span></li><li><label class='ee-shut'>crs_transform: [30, 0, 610350, 0, -30, 9780030]<input type='checkbox' class='ee-toggle'></label><ul><li><span class='ee-k'>0:</span><span class='ee-v'>30</span></li><li><span class='ee-k'>1:</span><span class='ee-v'>0</span></li><li><span class='ee-k'>2:</span><span class='ee-v'>610350</span></li><li><span class='ee-k'>3:</span><span class='ee-v'>0</span></li><li><span class='ee-k'>4:</span><span class='ee-v'>-30</span></li><li><span class='ee-k'>5:</span><span class='ee-v'>9780030</span></li></ul></li><li><label class='ee-shut'>data_type: double<input type='checkbox' class='ee-toggle'></label><ul><li><span class='ee-k'>type:</span><span class='ee-v'>PixelType</span></li><li><span class='ee-k'>precision:</span><span class='ee-v'>double</span></li></ul></li><li><label class='ee-shut'>dimensions: [3865, 1186]<input type='checkbox' class='ee-toggle'></label><ul><li><span class='ee-k'>0:</span><span class='ee-v'>3865</span></li><li><span class='ee-k'>1:</span><span class='ee-v'>1186</span></li></ul></li></ul></li><li><label class='ee-shut'>3: \"nir\", double, EPSG:32721, 3865x1186 px<input type='checkbox' class='ee-toggle'></label><ul><li><span class='ee-k'>id:</span><span class='ee-v'>nir</span></li><li><span class='ee-k'>crs:</span><span class='ee-v'>EPSG:32721</span></li><li><label class='ee-shut'>crs_transform: [30, 0, 610350, 0, -30, 9780030]<input type='checkbox' class='ee-toggle'></label><ul><li><span class='ee-k'>0:</span><span class='ee-v'>30</span></li><li><span class='ee-k'>1:</span><span class='ee-v'>0</span></li><li><span class='ee-k'>2:</span><span class='ee-v'>610350</span></li><li><span class='ee-k'>3:</span><span class='ee-v'>0</span></li><li><span class='ee-k'>4:</span><span class='ee-v'>-30</span></li><li><span class='ee-k'>5:</span><span class='ee-v'>9780030</span></li></ul></li><li><label class='ee-shut'>data_type: double<input type='checkbox' class='ee-toggle'></label><ul><li><span class='ee-k'>type:</span><span class='ee-v'>PixelType</span></li><li><span class='ee-k'>precision:</span><span class='ee-v'>double</span></li></ul></li><li><label class='ee-shut'>dimensions: [3865, 1186]<input type='checkbox' class='ee-toggle'></label><ul><li><span class='ee-k'>0:</span><span class='ee-v'>3865</span></li><li><span class='ee-k'>1:</span><span class='ee-v'>1186</span></li></ul></li></ul></li><li><label class='ee-shut'>4: \"swir1\", double, EPSG:32721, 3865x1186 px<input type='checkbox' class='ee-toggle'></label><ul><li><span class='ee-k'>id:</span><span class='ee-v'>swir1</span></li><li><span class='ee-k'>crs:</span><span class='ee-v'>EPSG:32721</span></li><li><label class='ee-shut'>crs_transform: [30, 0, 610350, 0, -30, 9780030]<input type='checkbox' class='ee-toggle'></label><ul><li><span class='ee-k'>0:</span><span class='ee-v'>30</span></li><li><span class='ee-k'>1:</span><span class='ee-v'>0</span></li><li><span class='ee-k'>2:</span><span class='ee-v'>610350</span></li><li><span class='ee-k'>3:</span><span class='ee-v'>0</span></li><li><span class='ee-k'>4:</span><span class='ee-v'>-30</span></li><li><span class='ee-k'>5:</span><span class='ee-v'>9780030</span></li></ul></li><li><label class='ee-shut'>data_type: double<input type='checkbox' class='ee-toggle'></label><ul><li><span class='ee-k'>type:</span><span class='ee-v'>PixelType</span></li><li><span class='ee-k'>precision:</span><span class='ee-v'>double</span></li></ul></li><li><label class='ee-shut'>dimensions: [3865, 1186]<input type='checkbox' class='ee-toggle'></label><ul><li><span class='ee-k'>0:</span><span class='ee-v'>3865</span></li><li><span class='ee-k'>1:</span><span class='ee-v'>1186</span></li></ul></li></ul></li><li><label class='ee-shut'>5: \"swir2\", double, EPSG:32721, 3865x1186 px<input type='checkbox' class='ee-toggle'></label><ul><li><span class='ee-k'>id:</span><span class='ee-v'>swir2</span></li><li><span class='ee-k'>crs:</span><span class='ee-v'>EPSG:32721</span></li><li><label class='ee-shut'>crs_transform: [30, 0, 610350, 0, -30, 9780030]<input type='checkbox' class='ee-toggle'></label><ul><li><span class='ee-k'>0:</span><span class='ee-v'>30</span></li><li><span class='ee-k'>1:</span><span class='ee-v'>0</span></li><li><span class='ee-k'>2:</span><span class='ee-v'>610350</span></li><li><span class='ee-k'>3:</span><span class='ee-v'>0</span></li><li><span class='ee-k'>4:</span><span class='ee-v'>-30</span></li><li><span class='ee-k'>5:</span><span class='ee-v'>9780030</span></li></ul></li><li><label class='ee-shut'>data_type: double<input type='checkbox' class='ee-toggle'></label><ul><li><span class='ee-k'>type:</span><span class='ee-v'>PixelType</span></li><li><span class='ee-k'>precision:</span><span class='ee-v'>double</span></li></ul></li><li><label class='ee-shut'>dimensions: [3865, 1186]<input type='checkbox' class='ee-toggle'></label><ul><li><span class='ee-k'>0:</span><span class='ee-v'>3865</span></li><li><span class='ee-k'>1:</span><span class='ee-v'>1186</span></li></ul></li></ul></li></ul></li><li><label class='ee-shut'>properties: Object (5 properties)<input type='checkbox' class='ee-toggle'></label><ul><li><span class='ee-k'>CLOUD_COVER:</span><span class='ee-v'>13</span></li><li><span class='ee-k'>LANDSAT_PRODUCT_ID:</span><span class='ee-v'>LE07_L1TP_227062_20130715_20200907_02_T1</span></li><li><label class='ee-shut'>system:footprint: LinearRing (19 vertices)<input type='checkbox' class='ee-toggle'></label><ul><li><span class='ee-k'>type:</span><span class='ee-v'>LinearRing</span></li><li><label class='ee-shut'>coordinates: List (19 elements)<input type='checkbox' class='ee-toggle'></label><ul><li><label class='ee-shut'>0: [-56.00790099168393, -1.9899313951966122]<input type='checkbox' class='ee-toggle'></label><ul><li><span class='ee-k'>0:</span><span class='ee-v'>-56.00790099168393</span></li><li><span class='ee-k'>1:</span><span class='ee-v'>-1.9899313951966122</span></li></ul></li><li><label class='ee-shut'>1: [-56.00790303255488, -1.9899651372103422]<input type='checkbox' class='ee-toggle'></label><ul><li><span class='ee-k'>0:</span><span class='ee-v'>-56.00790303255488</span></li><li><span class='ee-k'>1:</span><span class='ee-v'>-1.9899651372103422</span></li></ul></li><li><label class='ee-shut'>2: [-56.007695289133245, -2.311543999976785]<input type='checkbox' class='ee-toggle'></label><ul><li><span class='ee-k'>0:</span><span class='ee-v'>-56.007695289133245</span></li><li><span class='ee-k'>1:</span><span class='ee-v'>-2.311543999976785</span></li></ul></li><li><label class='ee-shut'>3: [-56.00758542256164, -2.311668371300401]<input type='checkbox' class='ee-toggle'></label><ul><li><span class='ee-k'>0:</span><span class='ee-v'>-56.00758542256164</span></li><li><span class='ee-k'>1:</span><span class='ee-v'>-2.311668371300401</span></li></ul></li><li><label class='ee-shut'>4: [-56.007491968050864, -2.311805420122597]<input type='checkbox' class='ee-toggle'></label><ul><li><span class='ee-k'>0:</span><span class='ee-v'>-56.007491968050864</span></li><li><span class='ee-k'>1:</span><span class='ee-v'>-2.311805420122597</span></li></ul></li><li><label class='ee-shut'>5: [-56.007458719016846, -2.311811703970227]<input type='checkbox' class='ee-toggle'></label><ul><li><span class='ee-k'>0:</span><span class='ee-v'>-56.007458719016846</span></li><li><span class='ee-k'>1:</span><span class='ee-v'>-2.311811703970227</span></li></ul></li><li><label class='ee-shut'>6: [-56.00742495977984, -2.311813812762818]<input type='checkbox' class='ee-toggle'></label><ul><li><span class='ee-k'>0:</span><span class='ee-v'>-56.00742495977984</span></li><li><span class='ee-k'>1:</span><span class='ee-v'>-2.311813812762818</span></li></ul></li><li><label class='ee-shut'>7: [-54.96521940588846, -2.3106966854844777]<input type='checkbox' class='ee-toggle'></label><ul><li><span class='ee-k'>0:</span><span class='ee-v'>-54.96521940588846</span></li><li><span class='ee-k'>1:</span><span class='ee-v'>-2.3106966854844777</span></li></ul></li><li><label class='ee-shut'>8: [-54.965095041218675, -2.3105868055625747]<input type='checkbox' class='ee-toggle'></label><ul><li><span class='ee-k'>0:</span><span class='ee-v'>-54.965095041218675</span></li><li><span class='ee-k'>1:</span><span class='ee-v'>-2.3105868055625747</span></li></ul></li><li><label class='ee-shut'>9: [-54.9649579041744, -2.310493389784539]<input type='checkbox' class='ee-toggle'></label><ul><li><span class='ee-k'>0:</span><span class='ee-v'>-54.9649579041744</span></li><li><span class='ee-k'>1:</span><span class='ee-v'>-2.310493389784539</span></li></ul></li><li><label class='ee-shut'>10: [-54.96494958520648, -2.3104489756132134]<input type='checkbox' class='ee-toggle'></label><ul><li><span class='ee-k'>0:</span><span class='ee-v'>-54.96494958520648</span></li><li><span class='ee-k'>1:</span><span class='ee-v'>-2.3104489756132134</span></li></ul></li><li><label class='ee-shut'>11: [-54.96537536616671, -1.9890030781522787]<input type='checkbox' class='ee-toggle'></label><ul><li><span class='ee-k'>0:</span><span class='ee-v'>-54.96537536616671</span></li><li><span class='ee-k'>1:</span><span class='ee-v'>-1.9890030781522787</span></li></ul></li><li><label class='ee-shut'>12: [-54.96548536203257, -1.9888788013913736]<input type='checkbox' class='ee-toggle'></label><ul><li><span class='ee-k'>0:</span><span class='ee-v'>-54.96548536203257</span></li><li><span class='ee-k'>1:</span><span class='ee-v'>-1.9888788013913736</span></li></ul></li><li><label class='ee-shut'>13: [-54.96557880401176, -1.9887418286222167]<input type='checkbox' class='ee-toggle'></label><ul><li><span class='ee-k'>0:</span><span class='ee-v'>-54.96557880401176</span></li><li><span class='ee-k'>1:</span><span class='ee-v'>-1.9887418286222167</span></li></ul></li><li><label class='ee-shut'>14: [-54.96562325621276, -1.9887333958904014]<input type='checkbox' class='ee-toggle'></label><ul><li><span class='ee-k'>0:</span><span class='ee-v'>-54.96562325621276</span></li><li><span class='ee-k'>1:</span><span class='ee-v'>-1.9887333958904014</span></li></ul></li><li><label class='ee-shut'>15: [-56.0076331277673, -1.9896950199386851]<input type='checkbox' class='ee-toggle'></label><ul><li><span class='ee-k'>0:</span><span class='ee-v'>-56.0076331277673</span></li><li><span class='ee-k'>1:</span><span class='ee-v'>-1.9896950199386851</span></li></ul></li><li><label class='ee-shut'>16: [-56.00775753557763, -1.9898048265148425]<input type='checkbox' class='ee-toggle'></label><ul><li><span class='ee-k'>0:</span><span class='ee-v'>-56.00775753557763</span></li><li><span class='ee-k'>1:</span><span class='ee-v'>-1.9898048265148425</span></li></ul></li><li><label class='ee-shut'>17: [-56.00789469899878, -1.9898981788466987]<input type='checkbox' class='ee-toggle'></label><ul><li><span class='ee-k'>0:</span><span class='ee-v'>-56.00789469899878</span></li><li><span class='ee-k'>1:</span><span class='ee-v'>-1.9898981788466987</span></li></ul></li><li><label class='ee-shut'>18: [-56.00790099168393, -1.9899313951966122]<input type='checkbox' class='ee-toggle'></label><ul><li><span class='ee-k'>0:</span><span class='ee-v'>-56.00790099168393</span></li><li><span class='ee-k'>1:</span><span class='ee-v'>-1.9899313951966122</span></li></ul></li></ul></li></ul></li><li><span class='ee-k'>system:index:</span><span class='ee-v'>BOA_LE07_227062_20130715</span></li><li><span class='ee-k'>system:time_start:</span><span class='ee-v'>1373895815971</span></li></ul></li></ul></li></ul></li></ul></li></ul></div><script>function toggleHeader() {\n",
              "    const parent = this.parentElement;\n",
              "    parent.className = parent.className === \"ee-open\" ? \"ee-shut\" : \"ee-open\";\n",
              "}\n",
              "\n",
              "for (let c of document.getElementsByClassName(\"ee-toggle\")) {\n",
              "    c.onclick = toggleHeader;\n",
              "}</script></div>"
            ]
          },
          "metadata": {},
          "execution_count": 58
        }
      ]
    },
    {
      "cell_type": "markdown",
      "metadata": {
        "id": "c6MTfNIk8Ooz"
      },
      "source": [
        "# Transform into remote sensing  reflectance and sunglint correction"
      ]
    },
    {
      "cell_type": "code",
      "execution_count": 59,
      "metadata": {
        "id": "8u58DQ6u3NBT",
        "outputId": "d9ef0d9f-8bc6-437d-b6cf-5af0855b1221",
        "colab": {
          "base_uri": "https://localhost:8080/",
          "height": 17
        }
      },
      "outputs": [
        {
          "output_type": "display_data",
          "data": {
            "text/plain": [
              "<IPython.core.display.HTML object>"
            ],
            "text/html": [
              "\n",
              "            <style>\n",
              "                .geemap-dark {\n",
              "                    --jp-widgets-color: white;\n",
              "                    --jp-widgets-label-color: white;\n",
              "                    --jp-ui-font-color1: white;\n",
              "                    --jp-layout-color2: #454545;\n",
              "                    background-color: #383838;\n",
              "                }\n",
              "\n",
              "                .geemap-dark .jupyter-button {\n",
              "                    --jp-layout-color3: #383838;\n",
              "                }\n",
              "\n",
              "                .geemap-colab {\n",
              "                    background-color: var(--colab-primary-surface-color, white);\n",
              "                }\n",
              "\n",
              "                .geemap-colab .jupyter-button {\n",
              "                    --jp-layout-color3: var(--colab-primary-surface-color, white);\n",
              "                }\n",
              "            </style>\n",
              "            "
            ]
          },
          "metadata": {}
        }
      ],
      "source": [
        "#dividir imagem corrigida por pi\n",
        "# Rrs_sat_ac = Rsat_ac / pi\n",
        "\n",
        "#fazer deglint\n",
        "#Rrs_sat_ac_deglint(VNIR) = Rrs_sat_ac (VNIR) − Rrs_sat_ac (SWIR)\n",
        "#correção no artigo INPE CURUAI\n",
        "def deglint (img):\n",
        "    Rrs = img.divide(math.pi)\n",
        "    deglint = Rrs.select(['blue','green','red','nir'])\\\n",
        "    .subtract(Rrs.select('swir1'))\n",
        "\n",
        "    return (deglint.updateMask(deglint.select(['red']).gt(0))\n",
        "    .copyProperties(img,['system:time_start','CLOUD_COVER',\"system:index\",\"LANDSAT_PRODUCT_ID\",\"GRANULE_ID\",\"CLOUDY_PIXEL_PERCENTAGE\"]))\n"
      ]
    },
    {
      "cell_type": "markdown",
      "source": [
        "### Landsat 7"
      ],
      "metadata": {
        "id": "2JLk9baQe7T5"
      }
    },
    {
      "cell_type": "code",
      "execution_count": 60,
      "metadata": {
        "id": "eoKjzz0Q_YUP",
        "outputId": "284e93af-b584-4c16-f084-9c97a1f53522",
        "colab": {
          "base_uri": "https://localhost:8080/",
          "height": 383
        }
      },
      "outputs": [
        {
          "output_type": "display_data",
          "data": {
            "text/plain": [
              "<IPython.core.display.HTML object>"
            ],
            "text/html": [
              "\n",
              "            <style>\n",
              "                .geemap-dark {\n",
              "                    --jp-widgets-color: white;\n",
              "                    --jp-widgets-label-color: white;\n",
              "                    --jp-ui-font-color1: white;\n",
              "                    --jp-layout-color2: #454545;\n",
              "                    background-color: #383838;\n",
              "                }\n",
              "\n",
              "                .geemap-dark .jupyter-button {\n",
              "                    --jp-layout-color3: #383838;\n",
              "                }\n",
              "\n",
              "                .geemap-colab {\n",
              "                    background-color: var(--colab-primary-surface-color, white);\n",
              "                }\n",
              "\n",
              "                .geemap-colab .jupyter-button {\n",
              "                    --jp-layout-color3: var(--colab-primary-surface-color, white);\n",
              "                }\n",
              "            </style>\n",
              "            "
            ]
          },
          "metadata": {}
        },
        {
          "output_type": "execute_result",
          "data": {
            "text/plain": [
              "<ee.imagecollection.ImageCollection at 0x7cfa2296c6d0>"
            ],
            "text/html": [
              "<div><style>:root {\n",
              "  --font-color-primary: var(--jp-content-font-color0, rgba(0, 0, 0, 1));\n",
              "  --font-color-secondary: var(--jp-content-font-color2, rgba(0, 0, 0, 0.6));\n",
              "  --font-color-accent: rgba(123, 31, 162, 1);\n",
              "  --border-color: var(--jp-border-color2, #e0e0e0);\n",
              "  --background-color: var(--jp-layout-color0, white);\n",
              "  --background-color-row-even: var(--jp-layout-color1, white);\n",
              "  --background-color-row-odd: var(--jp-layout-color2, #eeeeee);\n",
              "}\n",
              "\n",
              "html[theme=\"dark\"],\n",
              "body[data-theme=\"dark\"],\n",
              "body.vscode-dark {\n",
              "  --font-color-primary: rgba(255, 255, 255, 1);\n",
              "  --font-color-secondary: rgba(255, 255, 255, 0.6);\n",
              "  --font-color-accent: rgb(173, 132, 190);\n",
              "  --border-color: #2e2e2e;\n",
              "  --background-color: #111111;\n",
              "  --background-color-row-even: #111111;\n",
              "  --background-color-row-odd: #313131;\n",
              "}\n",
              "\n",
              ".ee {\n",
              "  padding: 1em;\n",
              "  line-height: 1.5em;\n",
              "  min-width: 300px;\n",
              "  max-width: 1200px;\n",
              "  overflow-y: scroll;\n",
              "  max-height: 600px;\n",
              "  border: 1px solid var(--border-color);\n",
              "  font-family: monospace;\n",
              "}\n",
              "\n",
              ".ee li {\n",
              "  list-style-type: none;\n",
              "}\n",
              "\n",
              ".ee ul {\n",
              "  padding-left: 1.5em !important;\n",
              "  margin: 0;\n",
              "}\n",
              "\n",
              ".ee > ul {\n",
              "  padding-left: 0 !important;\n",
              "}\n",
              "\n",
              ".ee-open,\n",
              ".ee-shut {\n",
              "  color: var(--font-color-secondary);\n",
              "  cursor: pointer;\n",
              "  margin: 0;\n",
              "}\n",
              "\n",
              ".ee-open:hover,\n",
              ".ee-shut:hover {\n",
              "  color: var(--font-color-primary);\n",
              "}\n",
              "\n",
              ".ee-k {\n",
              "  color: var(--font-color-accent);\n",
              "  margin-right: 6px;\n",
              "}\n",
              "\n",
              ".ee-v {\n",
              "  color: var(--font-color-primary);\n",
              "}\n",
              "\n",
              ".ee-toggle {\n",
              "  display: none;\n",
              "}\n",
              "\n",
              ".ee-shut + ul {\n",
              "  display: none;\n",
              "}\n",
              "\n",
              ".ee-open + ul {\n",
              "  display: block;\n",
              "}\n",
              "\n",
              ".ee-shut::before {\n",
              "  display: inline-block;\n",
              "  content: \"▼\";\n",
              "  margin-right: 6px;\n",
              "  transform: rotate(-90deg);\n",
              "  transition: transform 0.2s;\n",
              "}\n",
              "\n",
              ".ee-open::before {\n",
              "  transform: rotate(0deg);\n",
              "  display: inline-block;\n",
              "  content: \"▼\";\n",
              "  margin-right: 6px;\n",
              "  transition: transform 0.2s;\n",
              "}\n",
              "</style><div class='ee'><ul><li><label class='ee-shut'>ImageCollection projects/ee-curuai/assets/Py6S/LD7/ld7_py6s  (2 elements)<input type='checkbox' class='ee-toggle'></label><ul><li><span class='ee-k'>type:</span><span class='ee-v'>ImageCollection</span></li><li><span class='ee-k'>id:</span><span class='ee-v'>projects/ee-curuai/assets/Py6S/LD7/ld7_py6s</span></li><li><span class='ee-k'>version:</span><span class='ee-v'>1715563153459283</span></li><li><label class='ee-shut'>bands: []<input type='checkbox' class='ee-toggle'></label><ul></ul></li><li><label class='ee-shut'>features: List (2 elements)<input type='checkbox' class='ee-toggle'></label><ul><li><label class='ee-shut'>0: Image (4 bands)<input type='checkbox' class='ee-toggle'></label><ul><li><span class='ee-k'>type:</span><span class='ee-v'>Image</span></li><li><label class='ee-shut'>bands: List (4 elements)<input type='checkbox' class='ee-toggle'></label><ul><li><label class='ee-shut'>0: \"blue\", double, EPSG:32721, 3865x1186 px<input type='checkbox' class='ee-toggle'></label><ul><li><span class='ee-k'>id:</span><span class='ee-v'>blue</span></li><li><span class='ee-k'>crs:</span><span class='ee-v'>EPSG:32721</span></li><li><label class='ee-shut'>crs_transform: [30, 0, 610350, 0, -30, 9780030]<input type='checkbox' class='ee-toggle'></label><ul><li><span class='ee-k'>0:</span><span class='ee-v'>30</span></li><li><span class='ee-k'>1:</span><span class='ee-v'>0</span></li><li><span class='ee-k'>2:</span><span class='ee-v'>610350</span></li><li><span class='ee-k'>3:</span><span class='ee-v'>0</span></li><li><span class='ee-k'>4:</span><span class='ee-v'>-30</span></li><li><span class='ee-k'>5:</span><span class='ee-v'>9780030</span></li></ul></li><li><label class='ee-shut'>data_type: double<input type='checkbox' class='ee-toggle'></label><ul><li><span class='ee-k'>type:</span><span class='ee-v'>PixelType</span></li><li><span class='ee-k'>precision:</span><span class='ee-v'>double</span></li></ul></li><li><label class='ee-shut'>dimensions: [3865, 1186]<input type='checkbox' class='ee-toggle'></label><ul><li><span class='ee-k'>0:</span><span class='ee-v'>3865</span></li><li><span class='ee-k'>1:</span><span class='ee-v'>1186</span></li></ul></li></ul></li><li><label class='ee-shut'>1: \"green\", double, EPSG:32721, 3865x1186 px<input type='checkbox' class='ee-toggle'></label><ul><li><span class='ee-k'>id:</span><span class='ee-v'>green</span></li><li><span class='ee-k'>crs:</span><span class='ee-v'>EPSG:32721</span></li><li><label class='ee-shut'>crs_transform: [30, 0, 610350, 0, -30, 9780030]<input type='checkbox' class='ee-toggle'></label><ul><li><span class='ee-k'>0:</span><span class='ee-v'>30</span></li><li><span class='ee-k'>1:</span><span class='ee-v'>0</span></li><li><span class='ee-k'>2:</span><span class='ee-v'>610350</span></li><li><span class='ee-k'>3:</span><span class='ee-v'>0</span></li><li><span class='ee-k'>4:</span><span class='ee-v'>-30</span></li><li><span class='ee-k'>5:</span><span class='ee-v'>9780030</span></li></ul></li><li><label class='ee-shut'>data_type: double<input type='checkbox' class='ee-toggle'></label><ul><li><span class='ee-k'>type:</span><span class='ee-v'>PixelType</span></li><li><span class='ee-k'>precision:</span><span class='ee-v'>double</span></li></ul></li><li><label class='ee-shut'>dimensions: [3865, 1186]<input type='checkbox' class='ee-toggle'></label><ul><li><span class='ee-k'>0:</span><span class='ee-v'>3865</span></li><li><span class='ee-k'>1:</span><span class='ee-v'>1186</span></li></ul></li></ul></li><li><label class='ee-shut'>2: \"red\", double, EPSG:32721, 3865x1186 px<input type='checkbox' class='ee-toggle'></label><ul><li><span class='ee-k'>id:</span><span class='ee-v'>red</span></li><li><span class='ee-k'>crs:</span><span class='ee-v'>EPSG:32721</span></li><li><label class='ee-shut'>crs_transform: [30, 0, 610350, 0, -30, 9780030]<input type='checkbox' class='ee-toggle'></label><ul><li><span class='ee-k'>0:</span><span class='ee-v'>30</span></li><li><span class='ee-k'>1:</span><span class='ee-v'>0</span></li><li><span class='ee-k'>2:</span><span class='ee-v'>610350</span></li><li><span class='ee-k'>3:</span><span class='ee-v'>0</span></li><li><span class='ee-k'>4:</span><span class='ee-v'>-30</span></li><li><span class='ee-k'>5:</span><span class='ee-v'>9780030</span></li></ul></li><li><label class='ee-shut'>data_type: double<input type='checkbox' class='ee-toggle'></label><ul><li><span class='ee-k'>type:</span><span class='ee-v'>PixelType</span></li><li><span class='ee-k'>precision:</span><span class='ee-v'>double</span></li></ul></li><li><label class='ee-shut'>dimensions: [3865, 1186]<input type='checkbox' class='ee-toggle'></label><ul><li><span class='ee-k'>0:</span><span class='ee-v'>3865</span></li><li><span class='ee-k'>1:</span><span class='ee-v'>1186</span></li></ul></li></ul></li><li><label class='ee-shut'>3: \"nir\", double, EPSG:32721, 3865x1186 px<input type='checkbox' class='ee-toggle'></label><ul><li><span class='ee-k'>id:</span><span class='ee-v'>nir</span></li><li><span class='ee-k'>crs:</span><span class='ee-v'>EPSG:32721</span></li><li><label class='ee-shut'>crs_transform: [30, 0, 610350, 0, -30, 9780030]<input type='checkbox' class='ee-toggle'></label><ul><li><span class='ee-k'>0:</span><span class='ee-v'>30</span></li><li><span class='ee-k'>1:</span><span class='ee-v'>0</span></li><li><span class='ee-k'>2:</span><span class='ee-v'>610350</span></li><li><span class='ee-k'>3:</span><span class='ee-v'>0</span></li><li><span class='ee-k'>4:</span><span class='ee-v'>-30</span></li><li><span class='ee-k'>5:</span><span class='ee-v'>9780030</span></li></ul></li><li><label class='ee-shut'>data_type: double<input type='checkbox' class='ee-toggle'></label><ul><li><span class='ee-k'>type:</span><span class='ee-v'>PixelType</span></li><li><span class='ee-k'>precision:</span><span class='ee-v'>double</span></li></ul></li><li><label class='ee-shut'>dimensions: [3865, 1186]<input type='checkbox' class='ee-toggle'></label><ul><li><span class='ee-k'>0:</span><span class='ee-v'>3865</span></li><li><span class='ee-k'>1:</span><span class='ee-v'>1186</span></li></ul></li></ul></li></ul></li><li><label class='ee-shut'>properties: Object (5 properties)<input type='checkbox' class='ee-toggle'></label><ul><li><span class='ee-k'>CLOUD_COVER:</span><span class='ee-v'>65</span></li><li><span class='ee-k'>LANDSAT_PRODUCT_ID:</span><span class='ee-v'>LE07_L1TP_227062_20130512_20200907_02_T1</span></li><li><span class='ee-k'>SATELLITE_PRODUCT_ID:</span><span class='ee-v'>LE07_L1TP_227062_20130512_20200907_02_T1</span></li><li><span class='ee-k'>system:index:</span><span class='ee-v'>BOA_LE07_227062_20130512</span></li><li><span class='ee-k'>system:time_start:</span><span class='ee-v'>1368366245398</span></li></ul></li></ul></li><li><label class='ee-shut'>1: Image (4 bands)<input type='checkbox' class='ee-toggle'></label><ul><li><span class='ee-k'>type:</span><span class='ee-v'>Image</span></li><li><label class='ee-shut'>bands: List (4 elements)<input type='checkbox' class='ee-toggle'></label><ul><li><label class='ee-shut'>0: \"blue\", double, EPSG:32721, 3865x1186 px<input type='checkbox' class='ee-toggle'></label><ul><li><span class='ee-k'>id:</span><span class='ee-v'>blue</span></li><li><span class='ee-k'>crs:</span><span class='ee-v'>EPSG:32721</span></li><li><label class='ee-shut'>crs_transform: [30, 0, 610350, 0, -30, 9780030]<input type='checkbox' class='ee-toggle'></label><ul><li><span class='ee-k'>0:</span><span class='ee-v'>30</span></li><li><span class='ee-k'>1:</span><span class='ee-v'>0</span></li><li><span class='ee-k'>2:</span><span class='ee-v'>610350</span></li><li><span class='ee-k'>3:</span><span class='ee-v'>0</span></li><li><span class='ee-k'>4:</span><span class='ee-v'>-30</span></li><li><span class='ee-k'>5:</span><span class='ee-v'>9780030</span></li></ul></li><li><label class='ee-shut'>data_type: double<input type='checkbox' class='ee-toggle'></label><ul><li><span class='ee-k'>type:</span><span class='ee-v'>PixelType</span></li><li><span class='ee-k'>precision:</span><span class='ee-v'>double</span></li></ul></li><li><label class='ee-shut'>dimensions: [3865, 1186]<input type='checkbox' class='ee-toggle'></label><ul><li><span class='ee-k'>0:</span><span class='ee-v'>3865</span></li><li><span class='ee-k'>1:</span><span class='ee-v'>1186</span></li></ul></li></ul></li><li><label class='ee-shut'>1: \"green\", double, EPSG:32721, 3865x1186 px<input type='checkbox' class='ee-toggle'></label><ul><li><span class='ee-k'>id:</span><span class='ee-v'>green</span></li><li><span class='ee-k'>crs:</span><span class='ee-v'>EPSG:32721</span></li><li><label class='ee-shut'>crs_transform: [30, 0, 610350, 0, -30, 9780030]<input type='checkbox' class='ee-toggle'></label><ul><li><span class='ee-k'>0:</span><span class='ee-v'>30</span></li><li><span class='ee-k'>1:</span><span class='ee-v'>0</span></li><li><span class='ee-k'>2:</span><span class='ee-v'>610350</span></li><li><span class='ee-k'>3:</span><span class='ee-v'>0</span></li><li><span class='ee-k'>4:</span><span class='ee-v'>-30</span></li><li><span class='ee-k'>5:</span><span class='ee-v'>9780030</span></li></ul></li><li><label class='ee-shut'>data_type: double<input type='checkbox' class='ee-toggle'></label><ul><li><span class='ee-k'>type:</span><span class='ee-v'>PixelType</span></li><li><span class='ee-k'>precision:</span><span class='ee-v'>double</span></li></ul></li><li><label class='ee-shut'>dimensions: [3865, 1186]<input type='checkbox' class='ee-toggle'></label><ul><li><span class='ee-k'>0:</span><span class='ee-v'>3865</span></li><li><span class='ee-k'>1:</span><span class='ee-v'>1186</span></li></ul></li></ul></li><li><label class='ee-shut'>2: \"red\", double, EPSG:32721, 3865x1186 px<input type='checkbox' class='ee-toggle'></label><ul><li><span class='ee-k'>id:</span><span class='ee-v'>red</span></li><li><span class='ee-k'>crs:</span><span class='ee-v'>EPSG:32721</span></li><li><label class='ee-shut'>crs_transform: [30, 0, 610350, 0, -30, 9780030]<input type='checkbox' class='ee-toggle'></label><ul><li><span class='ee-k'>0:</span><span class='ee-v'>30</span></li><li><span class='ee-k'>1:</span><span class='ee-v'>0</span></li><li><span class='ee-k'>2:</span><span class='ee-v'>610350</span></li><li><span class='ee-k'>3:</span><span class='ee-v'>0</span></li><li><span class='ee-k'>4:</span><span class='ee-v'>-30</span></li><li><span class='ee-k'>5:</span><span class='ee-v'>9780030</span></li></ul></li><li><label class='ee-shut'>data_type: double<input type='checkbox' class='ee-toggle'></label><ul><li><span class='ee-k'>type:</span><span class='ee-v'>PixelType</span></li><li><span class='ee-k'>precision:</span><span class='ee-v'>double</span></li></ul></li><li><label class='ee-shut'>dimensions: [3865, 1186]<input type='checkbox' class='ee-toggle'></label><ul><li><span class='ee-k'>0:</span><span class='ee-v'>3865</span></li><li><span class='ee-k'>1:</span><span class='ee-v'>1186</span></li></ul></li></ul></li><li><label class='ee-shut'>3: \"nir\", double, EPSG:32721, 3865x1186 px<input type='checkbox' class='ee-toggle'></label><ul><li><span class='ee-k'>id:</span><span class='ee-v'>nir</span></li><li><span class='ee-k'>crs:</span><span class='ee-v'>EPSG:32721</span></li><li><label class='ee-shut'>crs_transform: [30, 0, 610350, 0, -30, 9780030]<input type='checkbox' class='ee-toggle'></label><ul><li><span class='ee-k'>0:</span><span class='ee-v'>30</span></li><li><span class='ee-k'>1:</span><span class='ee-v'>0</span></li><li><span class='ee-k'>2:</span><span class='ee-v'>610350</span></li><li><span class='ee-k'>3:</span><span class='ee-v'>0</span></li><li><span class='ee-k'>4:</span><span class='ee-v'>-30</span></li><li><span class='ee-k'>5:</span><span class='ee-v'>9780030</span></li></ul></li><li><label class='ee-shut'>data_type: double<input type='checkbox' class='ee-toggle'></label><ul><li><span class='ee-k'>type:</span><span class='ee-v'>PixelType</span></li><li><span class='ee-k'>precision:</span><span class='ee-v'>double</span></li></ul></li><li><label class='ee-shut'>dimensions: [3865, 1186]<input type='checkbox' class='ee-toggle'></label><ul><li><span class='ee-k'>0:</span><span class='ee-v'>3865</span></li><li><span class='ee-k'>1:</span><span class='ee-v'>1186</span></li></ul></li></ul></li></ul></li><li><label class='ee-shut'>properties: Object (5 properties)<input type='checkbox' class='ee-toggle'></label><ul><li><span class='ee-k'>CLOUD_COVER:</span><span class='ee-v'>13</span></li><li><span class='ee-k'>LANDSAT_PRODUCT_ID:</span><span class='ee-v'>LE07_L1TP_227062_20130715_20200907_02_T1</span></li><li><span class='ee-k'>SATELLITE_PRODUCT_ID:</span><span class='ee-v'>LE07_L1TP_227062_20130715_20200907_02_T1</span></li><li><span class='ee-k'>system:index:</span><span class='ee-v'>BOA_LE07_227062_20130715</span></li><li><span class='ee-k'>system:time_start:</span><span class='ee-v'>1373895815971</span></li></ul></li></ul></li></ul></li></ul></li></ul></div><script>function toggleHeader() {\n",
              "    const parent = this.parentElement;\n",
              "    parent.className = parent.className === \"ee-open\" ? \"ee-shut\" : \"ee-open\";\n",
              "}\n",
              "\n",
              "for (let c of document.getElementsByClassName(\"ee-toggle\")) {\n",
              "    c.onclick = toggleHeader;\n",
              "}</script></div>"
            ]
          },
          "metadata": {},
          "execution_count": 60
        }
      ],
      "source": [
        "landsat7_rs = adj_ld7.map(deglint).map(lambda img : img.set(\"SATELLITE_PRODUCT_ID\",img.get(\"LANDSAT_PRODUCT_ID\")))\n",
        "\n",
        "landsat7_rs.limit(2)"
      ]
    },
    {
      "cell_type": "markdown",
      "source": [
        "### Landsat 8"
      ],
      "metadata": {
        "id": "uoIwJHiMfCNU"
      }
    },
    {
      "cell_type": "code",
      "source": [
        "landsat8_rs = adj_ld8.map(deglint).map(lambda img : img.set(\"SATELLITE_PRODUCT_ID\",img.get(\"LANDSAT_PRODUCT_ID\")))\n",
        "landsat8_rs.limit(2)"
      ],
      "metadata": {
        "id": "SdV0n7_fPZuX",
        "colab": {
          "base_uri": "https://localhost:8080/",
          "height": 383
        },
        "outputId": "f2c13622-9cdd-4ee9-cd10-bd9598195a9f"
      },
      "execution_count": 61,
      "outputs": [
        {
          "output_type": "display_data",
          "data": {
            "text/plain": [
              "<IPython.core.display.HTML object>"
            ],
            "text/html": [
              "\n",
              "            <style>\n",
              "                .geemap-dark {\n",
              "                    --jp-widgets-color: white;\n",
              "                    --jp-widgets-label-color: white;\n",
              "                    --jp-ui-font-color1: white;\n",
              "                    --jp-layout-color2: #454545;\n",
              "                    background-color: #383838;\n",
              "                }\n",
              "\n",
              "                .geemap-dark .jupyter-button {\n",
              "                    --jp-layout-color3: #383838;\n",
              "                }\n",
              "\n",
              "                .geemap-colab {\n",
              "                    background-color: var(--colab-primary-surface-color, white);\n",
              "                }\n",
              "\n",
              "                .geemap-colab .jupyter-button {\n",
              "                    --jp-layout-color3: var(--colab-primary-surface-color, white);\n",
              "                }\n",
              "            </style>\n",
              "            "
            ]
          },
          "metadata": {}
        },
        {
          "output_type": "execute_result",
          "data": {
            "text/plain": [
              "<ee.imagecollection.ImageCollection at 0x7cfa2296ec50>"
            ],
            "text/html": [
              "<div><style>:root {\n",
              "  --font-color-primary: var(--jp-content-font-color0, rgba(0, 0, 0, 1));\n",
              "  --font-color-secondary: var(--jp-content-font-color2, rgba(0, 0, 0, 0.6));\n",
              "  --font-color-accent: rgba(123, 31, 162, 1);\n",
              "  --border-color: var(--jp-border-color2, #e0e0e0);\n",
              "  --background-color: var(--jp-layout-color0, white);\n",
              "  --background-color-row-even: var(--jp-layout-color1, white);\n",
              "  --background-color-row-odd: var(--jp-layout-color2, #eeeeee);\n",
              "}\n",
              "\n",
              "html[theme=\"dark\"],\n",
              "body[data-theme=\"dark\"],\n",
              "body.vscode-dark {\n",
              "  --font-color-primary: rgba(255, 255, 255, 1);\n",
              "  --font-color-secondary: rgba(255, 255, 255, 0.6);\n",
              "  --font-color-accent: rgb(173, 132, 190);\n",
              "  --border-color: #2e2e2e;\n",
              "  --background-color: #111111;\n",
              "  --background-color-row-even: #111111;\n",
              "  --background-color-row-odd: #313131;\n",
              "}\n",
              "\n",
              ".ee {\n",
              "  padding: 1em;\n",
              "  line-height: 1.5em;\n",
              "  min-width: 300px;\n",
              "  max-width: 1200px;\n",
              "  overflow-y: scroll;\n",
              "  max-height: 600px;\n",
              "  border: 1px solid var(--border-color);\n",
              "  font-family: monospace;\n",
              "}\n",
              "\n",
              ".ee li {\n",
              "  list-style-type: none;\n",
              "}\n",
              "\n",
              ".ee ul {\n",
              "  padding-left: 1.5em !important;\n",
              "  margin: 0;\n",
              "}\n",
              "\n",
              ".ee > ul {\n",
              "  padding-left: 0 !important;\n",
              "}\n",
              "\n",
              ".ee-open,\n",
              ".ee-shut {\n",
              "  color: var(--font-color-secondary);\n",
              "  cursor: pointer;\n",
              "  margin: 0;\n",
              "}\n",
              "\n",
              ".ee-open:hover,\n",
              ".ee-shut:hover {\n",
              "  color: var(--font-color-primary);\n",
              "}\n",
              "\n",
              ".ee-k {\n",
              "  color: var(--font-color-accent);\n",
              "  margin-right: 6px;\n",
              "}\n",
              "\n",
              ".ee-v {\n",
              "  color: var(--font-color-primary);\n",
              "}\n",
              "\n",
              ".ee-toggle {\n",
              "  display: none;\n",
              "}\n",
              "\n",
              ".ee-shut + ul {\n",
              "  display: none;\n",
              "}\n",
              "\n",
              ".ee-open + ul {\n",
              "  display: block;\n",
              "}\n",
              "\n",
              ".ee-shut::before {\n",
              "  display: inline-block;\n",
              "  content: \"▼\";\n",
              "  margin-right: 6px;\n",
              "  transform: rotate(-90deg);\n",
              "  transition: transform 0.2s;\n",
              "}\n",
              "\n",
              ".ee-open::before {\n",
              "  transform: rotate(0deg);\n",
              "  display: inline-block;\n",
              "  content: \"▼\";\n",
              "  margin-right: 6px;\n",
              "  transition: transform 0.2s;\n",
              "}\n",
              "</style><div class='ee'><ul><li><label class='ee-shut'>ImageCollection projects/ee-curuai/assets/Py6S/LD8/ld8_py6s  (2 elements)<input type='checkbox' class='ee-toggle'></label><ul><li><span class='ee-k'>type:</span><span class='ee-v'>ImageCollection</span></li><li><span class='ee-k'>id:</span><span class='ee-v'>projects/ee-curuai/assets/Py6S/LD8/ld8_py6s</span></li><li><span class='ee-k'>version:</span><span class='ee-v'>1715556657542412</span></li><li><label class='ee-shut'>bands: []<input type='checkbox' class='ee-toggle'></label><ul></ul></li><li><label class='ee-shut'>features: List (2 elements)<input type='checkbox' class='ee-toggle'></label><ul><li><label class='ee-shut'>0: Image (4 bands)<input type='checkbox' class='ee-toggle'></label><ul><li><span class='ee-k'>type:</span><span class='ee-v'>Image</span></li><li><label class='ee-shut'>bands: List (4 elements)<input type='checkbox' class='ee-toggle'></label><ul><li><label class='ee-shut'>0: \"blue\", double, EPSG:32721, 3864x1186 px<input type='checkbox' class='ee-toggle'></label><ul><li><span class='ee-k'>id:</span><span class='ee-v'>blue</span></li><li><span class='ee-k'>crs:</span><span class='ee-v'>EPSG:32721</span></li><li><label class='ee-shut'>crs_transform: [30, 0, 610350, 0, -30, 9780030]<input type='checkbox' class='ee-toggle'></label><ul><li><span class='ee-k'>0:</span><span class='ee-v'>30</span></li><li><span class='ee-k'>1:</span><span class='ee-v'>0</span></li><li><span class='ee-k'>2:</span><span class='ee-v'>610350</span></li><li><span class='ee-k'>3:</span><span class='ee-v'>0</span></li><li><span class='ee-k'>4:</span><span class='ee-v'>-30</span></li><li><span class='ee-k'>5:</span><span class='ee-v'>9780030</span></li></ul></li><li><label class='ee-shut'>data_type: double<input type='checkbox' class='ee-toggle'></label><ul><li><span class='ee-k'>type:</span><span class='ee-v'>PixelType</span></li><li><span class='ee-k'>precision:</span><span class='ee-v'>double</span></li></ul></li><li><label class='ee-shut'>dimensions: [3864, 1186]<input type='checkbox' class='ee-toggle'></label><ul><li><span class='ee-k'>0:</span><span class='ee-v'>3864</span></li><li><span class='ee-k'>1:</span><span class='ee-v'>1186</span></li></ul></li></ul></li><li><label class='ee-shut'>1: \"green\", double, EPSG:32721, 3864x1186 px<input type='checkbox' class='ee-toggle'></label><ul><li><span class='ee-k'>id:</span><span class='ee-v'>green</span></li><li><span class='ee-k'>crs:</span><span class='ee-v'>EPSG:32721</span></li><li><label class='ee-shut'>crs_transform: [30, 0, 610350, 0, -30, 9780030]<input type='checkbox' class='ee-toggle'></label><ul><li><span class='ee-k'>0:</span><span class='ee-v'>30</span></li><li><span class='ee-k'>1:</span><span class='ee-v'>0</span></li><li><span class='ee-k'>2:</span><span class='ee-v'>610350</span></li><li><span class='ee-k'>3:</span><span class='ee-v'>0</span></li><li><span class='ee-k'>4:</span><span class='ee-v'>-30</span></li><li><span class='ee-k'>5:</span><span class='ee-v'>9780030</span></li></ul></li><li><label class='ee-shut'>data_type: double<input type='checkbox' class='ee-toggle'></label><ul><li><span class='ee-k'>type:</span><span class='ee-v'>PixelType</span></li><li><span class='ee-k'>precision:</span><span class='ee-v'>double</span></li></ul></li><li><label class='ee-shut'>dimensions: [3864, 1186]<input type='checkbox' class='ee-toggle'></label><ul><li><span class='ee-k'>0:</span><span class='ee-v'>3864</span></li><li><span class='ee-k'>1:</span><span class='ee-v'>1186</span></li></ul></li></ul></li><li><label class='ee-shut'>2: \"red\", double, EPSG:32721, 3864x1186 px<input type='checkbox' class='ee-toggle'></label><ul><li><span class='ee-k'>id:</span><span class='ee-v'>red</span></li><li><span class='ee-k'>crs:</span><span class='ee-v'>EPSG:32721</span></li><li><label class='ee-shut'>crs_transform: [30, 0, 610350, 0, -30, 9780030]<input type='checkbox' class='ee-toggle'></label><ul><li><span class='ee-k'>0:</span><span class='ee-v'>30</span></li><li><span class='ee-k'>1:</span><span class='ee-v'>0</span></li><li><span class='ee-k'>2:</span><span class='ee-v'>610350</span></li><li><span class='ee-k'>3:</span><span class='ee-v'>0</span></li><li><span class='ee-k'>4:</span><span class='ee-v'>-30</span></li><li><span class='ee-k'>5:</span><span class='ee-v'>9780030</span></li></ul></li><li><label class='ee-shut'>data_type: double<input type='checkbox' class='ee-toggle'></label><ul><li><span class='ee-k'>type:</span><span class='ee-v'>PixelType</span></li><li><span class='ee-k'>precision:</span><span class='ee-v'>double</span></li></ul></li><li><label class='ee-shut'>dimensions: [3864, 1186]<input type='checkbox' class='ee-toggle'></label><ul><li><span class='ee-k'>0:</span><span class='ee-v'>3864</span></li><li><span class='ee-k'>1:</span><span class='ee-v'>1186</span></li></ul></li></ul></li><li><label class='ee-shut'>3: \"nir\", double, EPSG:32721, 3864x1186 px<input type='checkbox' class='ee-toggle'></label><ul><li><span class='ee-k'>id:</span><span class='ee-v'>nir</span></li><li><span class='ee-k'>crs:</span><span class='ee-v'>EPSG:32721</span></li><li><label class='ee-shut'>crs_transform: [30, 0, 610350, 0, -30, 9780030]<input type='checkbox' class='ee-toggle'></label><ul><li><span class='ee-k'>0:</span><span class='ee-v'>30</span></li><li><span class='ee-k'>1:</span><span class='ee-v'>0</span></li><li><span class='ee-k'>2:</span><span class='ee-v'>610350</span></li><li><span class='ee-k'>3:</span><span class='ee-v'>0</span></li><li><span class='ee-k'>4:</span><span class='ee-v'>-30</span></li><li><span class='ee-k'>5:</span><span class='ee-v'>9780030</span></li></ul></li><li><label class='ee-shut'>data_type: double<input type='checkbox' class='ee-toggle'></label><ul><li><span class='ee-k'>type:</span><span class='ee-v'>PixelType</span></li><li><span class='ee-k'>precision:</span><span class='ee-v'>double</span></li></ul></li><li><label class='ee-shut'>dimensions: [3864, 1186]<input type='checkbox' class='ee-toggle'></label><ul><li><span class='ee-k'>0:</span><span class='ee-v'>3864</span></li><li><span class='ee-k'>1:</span><span class='ee-v'>1186</span></li></ul></li></ul></li></ul></li><li><label class='ee-shut'>properties: Object (5 properties)<input type='checkbox' class='ee-toggle'></label><ul><li><span class='ee-k'>CLOUD_COVER:</span><span class='ee-v'>57.72</span></li><li><span class='ee-k'>LANDSAT_PRODUCT_ID:</span><span class='ee-v'>LC08_L1TP_227062_20130520_20200912_02_T1</span></li><li><span class='ee-k'>SATELLITE_PRODUCT_ID:</span><span class='ee-v'>LC08_L1TP_227062_20130520_20200912_02_T1</span></li><li><span class='ee-k'>system:index:</span><span class='ee-v'>BOA_LC08_227062_20130520</span></li><li><span class='ee-k'>system:time_start:</span><span class='ee-v'>1369057814434</span></li></ul></li></ul></li><li><label class='ee-shut'>1: Image (4 bands)<input type='checkbox' class='ee-toggle'></label><ul><li><span class='ee-k'>type:</span><span class='ee-v'>Image</span></li><li><label class='ee-shut'>bands: List (4 elements)<input type='checkbox' class='ee-toggle'></label><ul><li><label class='ee-shut'>0: \"blue\", double, EPSG:32721, 3864x1186 px<input type='checkbox' class='ee-toggle'></label><ul><li><span class='ee-k'>id:</span><span class='ee-v'>blue</span></li><li><span class='ee-k'>crs:</span><span class='ee-v'>EPSG:32721</span></li><li><label class='ee-shut'>crs_transform: [30, 0, 610350, 0, -30, 9780030]<input type='checkbox' class='ee-toggle'></label><ul><li><span class='ee-k'>0:</span><span class='ee-v'>30</span></li><li><span class='ee-k'>1:</span><span class='ee-v'>0</span></li><li><span class='ee-k'>2:</span><span class='ee-v'>610350</span></li><li><span class='ee-k'>3:</span><span class='ee-v'>0</span></li><li><span class='ee-k'>4:</span><span class='ee-v'>-30</span></li><li><span class='ee-k'>5:</span><span class='ee-v'>9780030</span></li></ul></li><li><label class='ee-shut'>data_type: double<input type='checkbox' class='ee-toggle'></label><ul><li><span class='ee-k'>type:</span><span class='ee-v'>PixelType</span></li><li><span class='ee-k'>precision:</span><span class='ee-v'>double</span></li></ul></li><li><label class='ee-shut'>dimensions: [3864, 1186]<input type='checkbox' class='ee-toggle'></label><ul><li><span class='ee-k'>0:</span><span class='ee-v'>3864</span></li><li><span class='ee-k'>1:</span><span class='ee-v'>1186</span></li></ul></li></ul></li><li><label class='ee-shut'>1: \"green\", double, EPSG:32721, 3864x1186 px<input type='checkbox' class='ee-toggle'></label><ul><li><span class='ee-k'>id:</span><span class='ee-v'>green</span></li><li><span class='ee-k'>crs:</span><span class='ee-v'>EPSG:32721</span></li><li><label class='ee-shut'>crs_transform: [30, 0, 610350, 0, -30, 9780030]<input type='checkbox' class='ee-toggle'></label><ul><li><span class='ee-k'>0:</span><span class='ee-v'>30</span></li><li><span class='ee-k'>1:</span><span class='ee-v'>0</span></li><li><span class='ee-k'>2:</span><span class='ee-v'>610350</span></li><li><span class='ee-k'>3:</span><span class='ee-v'>0</span></li><li><span class='ee-k'>4:</span><span class='ee-v'>-30</span></li><li><span class='ee-k'>5:</span><span class='ee-v'>9780030</span></li></ul></li><li><label class='ee-shut'>data_type: double<input type='checkbox' class='ee-toggle'></label><ul><li><span class='ee-k'>type:</span><span class='ee-v'>PixelType</span></li><li><span class='ee-k'>precision:</span><span class='ee-v'>double</span></li></ul></li><li><label class='ee-shut'>dimensions: [3864, 1186]<input type='checkbox' class='ee-toggle'></label><ul><li><span class='ee-k'>0:</span><span class='ee-v'>3864</span></li><li><span class='ee-k'>1:</span><span class='ee-v'>1186</span></li></ul></li></ul></li><li><label class='ee-shut'>2: \"red\", double, EPSG:32721, 3864x1186 px<input type='checkbox' class='ee-toggle'></label><ul><li><span class='ee-k'>id:</span><span class='ee-v'>red</span></li><li><span class='ee-k'>crs:</span><span class='ee-v'>EPSG:32721</span></li><li><label class='ee-shut'>crs_transform: [30, 0, 610350, 0, -30, 9780030]<input type='checkbox' class='ee-toggle'></label><ul><li><span class='ee-k'>0:</span><span class='ee-v'>30</span></li><li><span class='ee-k'>1:</span><span class='ee-v'>0</span></li><li><span class='ee-k'>2:</span><span class='ee-v'>610350</span></li><li><span class='ee-k'>3:</span><span class='ee-v'>0</span></li><li><span class='ee-k'>4:</span><span class='ee-v'>-30</span></li><li><span class='ee-k'>5:</span><span class='ee-v'>9780030</span></li></ul></li><li><label class='ee-shut'>data_type: double<input type='checkbox' class='ee-toggle'></label><ul><li><span class='ee-k'>type:</span><span class='ee-v'>PixelType</span></li><li><span class='ee-k'>precision:</span><span class='ee-v'>double</span></li></ul></li><li><label class='ee-shut'>dimensions: [3864, 1186]<input type='checkbox' class='ee-toggle'></label><ul><li><span class='ee-k'>0:</span><span class='ee-v'>3864</span></li><li><span class='ee-k'>1:</span><span class='ee-v'>1186</span></li></ul></li></ul></li><li><label class='ee-shut'>3: \"nir\", double, EPSG:32721, 3864x1186 px<input type='checkbox' class='ee-toggle'></label><ul><li><span class='ee-k'>id:</span><span class='ee-v'>nir</span></li><li><span class='ee-k'>crs:</span><span class='ee-v'>EPSG:32721</span></li><li><label class='ee-shut'>crs_transform: [30, 0, 610350, 0, -30, 9780030]<input type='checkbox' class='ee-toggle'></label><ul><li><span class='ee-k'>0:</span><span class='ee-v'>30</span></li><li><span class='ee-k'>1:</span><span class='ee-v'>0</span></li><li><span class='ee-k'>2:</span><span class='ee-v'>610350</span></li><li><span class='ee-k'>3:</span><span class='ee-v'>0</span></li><li><span class='ee-k'>4:</span><span class='ee-v'>-30</span></li><li><span class='ee-k'>5:</span><span class='ee-v'>9780030</span></li></ul></li><li><label class='ee-shut'>data_type: double<input type='checkbox' class='ee-toggle'></label><ul><li><span class='ee-k'>type:</span><span class='ee-v'>PixelType</span></li><li><span class='ee-k'>precision:</span><span class='ee-v'>double</span></li></ul></li><li><label class='ee-shut'>dimensions: [3864, 1186]<input type='checkbox' class='ee-toggle'></label><ul><li><span class='ee-k'>0:</span><span class='ee-v'>3864</span></li><li><span class='ee-k'>1:</span><span class='ee-v'>1186</span></li></ul></li></ul></li></ul></li><li><label class='ee-shut'>properties: Object (5 properties)<input type='checkbox' class='ee-toggle'></label><ul><li><span class='ee-k'>CLOUD_COVER:</span><span class='ee-v'>26.69</span></li><li><span class='ee-k'>LANDSAT_PRODUCT_ID:</span><span class='ee-v'>LC08_L1TP_227062_20130605_20200913_02_T1</span></li><li><span class='ee-k'>SATELLITE_PRODUCT_ID:</span><span class='ee-v'>LC08_L1TP_227062_20130605_20200913_02_T1</span></li><li><span class='ee-k'>system:index:</span><span class='ee-v'>BOA_LC08_227062_20130605</span></li><li><span class='ee-k'>system:time_start:</span><span class='ee-v'>1370440215449</span></li></ul></li></ul></li></ul></li></ul></li></ul></div><script>function toggleHeader() {\n",
              "    const parent = this.parentElement;\n",
              "    parent.className = parent.className === \"ee-open\" ? \"ee-shut\" : \"ee-open\";\n",
              "}\n",
              "\n",
              "for (let c of document.getElementsByClassName(\"ee-toggle\")) {\n",
              "    c.onclick = toggleHeader;\n",
              "}</script></div>"
            ]
          },
          "metadata": {},
          "execution_count": 61
        }
      ]
    },
    {
      "cell_type": "markdown",
      "source": [
        "### Sentinel 2"
      ],
      "metadata": {
        "id": "NUJYfFpHfIKN"
      }
    },
    {
      "cell_type": "code",
      "source": [
        "sentinel2_rs = brdf_s2.map(deglint).map(lambda img : img.set({\"SATELLITE_PRODUCT_ID\":img.get(\"GRANULE_ID\"),\n",
        "                                                          \"CLOUD_COVER\":img.get(\"CLOUDY_PIXEL_PERCENTAGE\")}))\n",
        "\n",
        "sentinel2_rs.limit(2)"
      ],
      "metadata": {
        "id": "9W9zyPeUL0SJ",
        "colab": {
          "base_uri": "https://localhost:8080/",
          "height": 404
        },
        "outputId": "382ff3f8-15ef-4c2a-fa9d-0ef4a76ae6c3"
      },
      "execution_count": 62,
      "outputs": [
        {
          "output_type": "display_data",
          "data": {
            "text/plain": [
              "<IPython.core.display.HTML object>"
            ],
            "text/html": [
              "\n",
              "            <style>\n",
              "                .geemap-dark {\n",
              "                    --jp-widgets-color: white;\n",
              "                    --jp-widgets-label-color: white;\n",
              "                    --jp-ui-font-color1: white;\n",
              "                    --jp-layout-color2: #454545;\n",
              "                    background-color: #383838;\n",
              "                }\n",
              "\n",
              "                .geemap-dark .jupyter-button {\n",
              "                    --jp-layout-color3: #383838;\n",
              "                }\n",
              "\n",
              "                .geemap-colab {\n",
              "                    background-color: var(--colab-primary-surface-color, white);\n",
              "                }\n",
              "\n",
              "                .geemap-colab .jupyter-button {\n",
              "                    --jp-layout-color3: var(--colab-primary-surface-color, white);\n",
              "                }\n",
              "            </style>\n",
              "            "
            ]
          },
          "metadata": {}
        },
        {
          "output_type": "execute_result",
          "data": {
            "text/plain": [
              "<ee.imagecollection.ImageCollection at 0x7cfa2296cb50>"
            ],
            "text/html": [
              "<div><style>:root {\n",
              "  --font-color-primary: var(--jp-content-font-color0, rgba(0, 0, 0, 1));\n",
              "  --font-color-secondary: var(--jp-content-font-color2, rgba(0, 0, 0, 0.6));\n",
              "  --font-color-accent: rgba(123, 31, 162, 1);\n",
              "  --border-color: var(--jp-border-color2, #e0e0e0);\n",
              "  --background-color: var(--jp-layout-color0, white);\n",
              "  --background-color-row-even: var(--jp-layout-color1, white);\n",
              "  --background-color-row-odd: var(--jp-layout-color2, #eeeeee);\n",
              "}\n",
              "\n",
              "html[theme=\"dark\"],\n",
              "body[data-theme=\"dark\"],\n",
              "body.vscode-dark {\n",
              "  --font-color-primary: rgba(255, 255, 255, 1);\n",
              "  --font-color-secondary: rgba(255, 255, 255, 0.6);\n",
              "  --font-color-accent: rgb(173, 132, 190);\n",
              "  --border-color: #2e2e2e;\n",
              "  --background-color: #111111;\n",
              "  --background-color-row-even: #111111;\n",
              "  --background-color-row-odd: #313131;\n",
              "}\n",
              "\n",
              ".ee {\n",
              "  padding: 1em;\n",
              "  line-height: 1.5em;\n",
              "  min-width: 300px;\n",
              "  max-width: 1200px;\n",
              "  overflow-y: scroll;\n",
              "  max-height: 600px;\n",
              "  border: 1px solid var(--border-color);\n",
              "  font-family: monospace;\n",
              "}\n",
              "\n",
              ".ee li {\n",
              "  list-style-type: none;\n",
              "}\n",
              "\n",
              ".ee ul {\n",
              "  padding-left: 1.5em !important;\n",
              "  margin: 0;\n",
              "}\n",
              "\n",
              ".ee > ul {\n",
              "  padding-left: 0 !important;\n",
              "}\n",
              "\n",
              ".ee-open,\n",
              ".ee-shut {\n",
              "  color: var(--font-color-secondary);\n",
              "  cursor: pointer;\n",
              "  margin: 0;\n",
              "}\n",
              "\n",
              ".ee-open:hover,\n",
              ".ee-shut:hover {\n",
              "  color: var(--font-color-primary);\n",
              "}\n",
              "\n",
              ".ee-k {\n",
              "  color: var(--font-color-accent);\n",
              "  margin-right: 6px;\n",
              "}\n",
              "\n",
              ".ee-v {\n",
              "  color: var(--font-color-primary);\n",
              "}\n",
              "\n",
              ".ee-toggle {\n",
              "  display: none;\n",
              "}\n",
              "\n",
              ".ee-shut + ul {\n",
              "  display: none;\n",
              "}\n",
              "\n",
              ".ee-open + ul {\n",
              "  display: block;\n",
              "}\n",
              "\n",
              ".ee-shut::before {\n",
              "  display: inline-block;\n",
              "  content: \"▼\";\n",
              "  margin-right: 6px;\n",
              "  transform: rotate(-90deg);\n",
              "  transition: transform 0.2s;\n",
              "}\n",
              "\n",
              ".ee-open::before {\n",
              "  transform: rotate(0deg);\n",
              "  display: inline-block;\n",
              "  content: \"▼\";\n",
              "  margin-right: 6px;\n",
              "  transition: transform 0.2s;\n",
              "}\n",
              "</style><div class='ee'><ul><li><label class='ee-shut'>ImageCollection projects/ee-curuai/assets/Py6S/S2/s2_py6s  (2 elements)<input type='checkbox' class='ee-toggle'></label><ul><li><span class='ee-k'>type:</span><span class='ee-v'>ImageCollection</span></li><li><span class='ee-k'>id:</span><span class='ee-v'>projects/ee-curuai/assets/Py6S/S2/s2_py6s</span></li><li><span class='ee-k'>version:</span><span class='ee-v'>1715597316511246</span></li><li><label class='ee-shut'>bands: []<input type='checkbox' class='ee-toggle'></label><ul></ul></li><li><label class='ee-shut'>features: List (2 elements)<input type='checkbox' class='ee-toggle'></label><ul><li><label class='ee-shut'>0: Image (4 bands)<input type='checkbox' class='ee-toggle'></label><ul><li><span class='ee-k'>type:</span><span class='ee-v'>Image</span></li><li><label class='ee-shut'>bands: List (4 elements)<input type='checkbox' class='ee-toggle'></label><ul><li><label class='ee-shut'>0: \"blue\", double, EPSG:32721, 3864x1186 px<input type='checkbox' class='ee-toggle'></label><ul><li><span class='ee-k'>id:</span><span class='ee-v'>blue</span></li><li><span class='ee-k'>crs:</span><span class='ee-v'>EPSG:32721</span></li><li><label class='ee-shut'>crs_transform: [30, 0, 610350, 0, -30, 9780030]<input type='checkbox' class='ee-toggle'></label><ul><li><span class='ee-k'>0:</span><span class='ee-v'>30</span></li><li><span class='ee-k'>1:</span><span class='ee-v'>0</span></li><li><span class='ee-k'>2:</span><span class='ee-v'>610350</span></li><li><span class='ee-k'>3:</span><span class='ee-v'>0</span></li><li><span class='ee-k'>4:</span><span class='ee-v'>-30</span></li><li><span class='ee-k'>5:</span><span class='ee-v'>9780030</span></li></ul></li><li><label class='ee-shut'>data_type: double<input type='checkbox' class='ee-toggle'></label><ul><li><span class='ee-k'>type:</span><span class='ee-v'>PixelType</span></li><li><span class='ee-k'>precision:</span><span class='ee-v'>double</span></li></ul></li><li><label class='ee-shut'>dimensions: [3864, 1186]<input type='checkbox' class='ee-toggle'></label><ul><li><span class='ee-k'>0:</span><span class='ee-v'>3864</span></li><li><span class='ee-k'>1:</span><span class='ee-v'>1186</span></li></ul></li></ul></li><li><label class='ee-shut'>1: \"green\", double, EPSG:32721, 3864x1186 px<input type='checkbox' class='ee-toggle'></label><ul><li><span class='ee-k'>id:</span><span class='ee-v'>green</span></li><li><span class='ee-k'>crs:</span><span class='ee-v'>EPSG:32721</span></li><li><label class='ee-shut'>crs_transform: [30, 0, 610350, 0, -30, 9780030]<input type='checkbox' class='ee-toggle'></label><ul><li><span class='ee-k'>0:</span><span class='ee-v'>30</span></li><li><span class='ee-k'>1:</span><span class='ee-v'>0</span></li><li><span class='ee-k'>2:</span><span class='ee-v'>610350</span></li><li><span class='ee-k'>3:</span><span class='ee-v'>0</span></li><li><span class='ee-k'>4:</span><span class='ee-v'>-30</span></li><li><span class='ee-k'>5:</span><span class='ee-v'>9780030</span></li></ul></li><li><label class='ee-shut'>data_type: double<input type='checkbox' class='ee-toggle'></label><ul><li><span class='ee-k'>type:</span><span class='ee-v'>PixelType</span></li><li><span class='ee-k'>precision:</span><span class='ee-v'>double</span></li></ul></li><li><label class='ee-shut'>dimensions: [3864, 1186]<input type='checkbox' class='ee-toggle'></label><ul><li><span class='ee-k'>0:</span><span class='ee-v'>3864</span></li><li><span class='ee-k'>1:</span><span class='ee-v'>1186</span></li></ul></li></ul></li><li><label class='ee-shut'>2: \"red\", double, EPSG:32721, 3864x1186 px<input type='checkbox' class='ee-toggle'></label><ul><li><span class='ee-k'>id:</span><span class='ee-v'>red</span></li><li><span class='ee-k'>crs:</span><span class='ee-v'>EPSG:32721</span></li><li><label class='ee-shut'>crs_transform: [30, 0, 610350, 0, -30, 9780030]<input type='checkbox' class='ee-toggle'></label><ul><li><span class='ee-k'>0:</span><span class='ee-v'>30</span></li><li><span class='ee-k'>1:</span><span class='ee-v'>0</span></li><li><span class='ee-k'>2:</span><span class='ee-v'>610350</span></li><li><span class='ee-k'>3:</span><span class='ee-v'>0</span></li><li><span class='ee-k'>4:</span><span class='ee-v'>-30</span></li><li><span class='ee-k'>5:</span><span class='ee-v'>9780030</span></li></ul></li><li><label class='ee-shut'>data_type: double<input type='checkbox' class='ee-toggle'></label><ul><li><span class='ee-k'>type:</span><span class='ee-v'>PixelType</span></li><li><span class='ee-k'>precision:</span><span class='ee-v'>double</span></li></ul></li><li><label class='ee-shut'>dimensions: [3864, 1186]<input type='checkbox' class='ee-toggle'></label><ul><li><span class='ee-k'>0:</span><span class='ee-v'>3864</span></li><li><span class='ee-k'>1:</span><span class='ee-v'>1186</span></li></ul></li></ul></li><li><label class='ee-shut'>3: \"nir\", double, EPSG:32721, 3864x1186 px<input type='checkbox' class='ee-toggle'></label><ul><li><span class='ee-k'>id:</span><span class='ee-v'>nir</span></li><li><span class='ee-k'>crs:</span><span class='ee-v'>EPSG:32721</span></li><li><label class='ee-shut'>crs_transform: [30, 0, 610350, 0, -30, 9780030]<input type='checkbox' class='ee-toggle'></label><ul><li><span class='ee-k'>0:</span><span class='ee-v'>30</span></li><li><span class='ee-k'>1:</span><span class='ee-v'>0</span></li><li><span class='ee-k'>2:</span><span class='ee-v'>610350</span></li><li><span class='ee-k'>3:</span><span class='ee-v'>0</span></li><li><span class='ee-k'>4:</span><span class='ee-v'>-30</span></li><li><span class='ee-k'>5:</span><span class='ee-v'>9780030</span></li></ul></li><li><label class='ee-shut'>data_type: double<input type='checkbox' class='ee-toggle'></label><ul><li><span class='ee-k'>type:</span><span class='ee-v'>PixelType</span></li><li><span class='ee-k'>precision:</span><span class='ee-v'>double</span></li></ul></li><li><label class='ee-shut'>dimensions: [3864, 1186]<input type='checkbox' class='ee-toggle'></label><ul><li><span class='ee-k'>0:</span><span class='ee-v'>3864</span></li><li><span class='ee-k'>1:</span><span class='ee-v'>1186</span></li></ul></li></ul></li></ul></li><li><label class='ee-shut'>properties: Object (6 properties)<input type='checkbox' class='ee-toggle'></label><ul><li><span class='ee-k'>CLOUDY_PIXEL_PERCENTAGE:</span><span class='ee-v'>2.1521</span></li><li><span class='ee-k'>CLOUD_COVER:</span><span class='ee-v'>2.1521</span></li><li><span class='ee-k'>GRANULE_ID:</span><span class='ee-v'>S2A_OPER_MSI_L1C_TL_EPA__20160427T071221_A000822_T21MXT_N02.01</span></li><li><span class='ee-k'>SATELLITE_PRODUCT_ID:</span><span class='ee-v'>S2A_OPER_MSI_L1C_TL_EPA__20160427T071221_A000822_T21MXT_N02.01</span></li><li><span class='ee-k'>system:index:</span><span class='ee-v'>BOA_S220150819T141044_20160427T071221_T21MXT</span></li><li><span class='ee-k'>system:time_start:</span><span class='ee-v'>1439993444464</span></li></ul></li></ul></li><li><label class='ee-shut'>1: Image (4 bands)<input type='checkbox' class='ee-toggle'></label><ul><li><span class='ee-k'>type:</span><span class='ee-v'>Image</span></li><li><label class='ee-shut'>bands: List (4 elements)<input type='checkbox' class='ee-toggle'></label><ul><li><label class='ee-shut'>0: \"blue\", double, EPSG:32721, 3864x1186 px<input type='checkbox' class='ee-toggle'></label><ul><li><span class='ee-k'>id:</span><span class='ee-v'>blue</span></li><li><span class='ee-k'>crs:</span><span class='ee-v'>EPSG:32721</span></li><li><label class='ee-shut'>crs_transform: [30, 0, 610350, 0, -30, 9780030]<input type='checkbox' class='ee-toggle'></label><ul><li><span class='ee-k'>0:</span><span class='ee-v'>30</span></li><li><span class='ee-k'>1:</span><span class='ee-v'>0</span></li><li><span class='ee-k'>2:</span><span class='ee-v'>610350</span></li><li><span class='ee-k'>3:</span><span class='ee-v'>0</span></li><li><span class='ee-k'>4:</span><span class='ee-v'>-30</span></li><li><span class='ee-k'>5:</span><span class='ee-v'>9780030</span></li></ul></li><li><label class='ee-shut'>data_type: double<input type='checkbox' class='ee-toggle'></label><ul><li><span class='ee-k'>type:</span><span class='ee-v'>PixelType</span></li><li><span class='ee-k'>precision:</span><span class='ee-v'>double</span></li></ul></li><li><label class='ee-shut'>dimensions: [3864, 1186]<input type='checkbox' class='ee-toggle'></label><ul><li><span class='ee-k'>0:</span><span class='ee-v'>3864</span></li><li><span class='ee-k'>1:</span><span class='ee-v'>1186</span></li></ul></li></ul></li><li><label class='ee-shut'>1: \"green\", double, EPSG:32721, 3864x1186 px<input type='checkbox' class='ee-toggle'></label><ul><li><span class='ee-k'>id:</span><span class='ee-v'>green</span></li><li><span class='ee-k'>crs:</span><span class='ee-v'>EPSG:32721</span></li><li><label class='ee-shut'>crs_transform: [30, 0, 610350, 0, -30, 9780030]<input type='checkbox' class='ee-toggle'></label><ul><li><span class='ee-k'>0:</span><span class='ee-v'>30</span></li><li><span class='ee-k'>1:</span><span class='ee-v'>0</span></li><li><span class='ee-k'>2:</span><span class='ee-v'>610350</span></li><li><span class='ee-k'>3:</span><span class='ee-v'>0</span></li><li><span class='ee-k'>4:</span><span class='ee-v'>-30</span></li><li><span class='ee-k'>5:</span><span class='ee-v'>9780030</span></li></ul></li><li><label class='ee-shut'>data_type: double<input type='checkbox' class='ee-toggle'></label><ul><li><span class='ee-k'>type:</span><span class='ee-v'>PixelType</span></li><li><span class='ee-k'>precision:</span><span class='ee-v'>double</span></li></ul></li><li><label class='ee-shut'>dimensions: [3864, 1186]<input type='checkbox' class='ee-toggle'></label><ul><li><span class='ee-k'>0:</span><span class='ee-v'>3864</span></li><li><span class='ee-k'>1:</span><span class='ee-v'>1186</span></li></ul></li></ul></li><li><label class='ee-shut'>2: \"red\", double, EPSG:32721, 3864x1186 px<input type='checkbox' class='ee-toggle'></label><ul><li><span class='ee-k'>id:</span><span class='ee-v'>red</span></li><li><span class='ee-k'>crs:</span><span class='ee-v'>EPSG:32721</span></li><li><label class='ee-shut'>crs_transform: [30, 0, 610350, 0, -30, 9780030]<input type='checkbox' class='ee-toggle'></label><ul><li><span class='ee-k'>0:</span><span class='ee-v'>30</span></li><li><span class='ee-k'>1:</span><span class='ee-v'>0</span></li><li><span class='ee-k'>2:</span><span class='ee-v'>610350</span></li><li><span class='ee-k'>3:</span><span class='ee-v'>0</span></li><li><span class='ee-k'>4:</span><span class='ee-v'>-30</span></li><li><span class='ee-k'>5:</span><span class='ee-v'>9780030</span></li></ul></li><li><label class='ee-shut'>data_type: double<input type='checkbox' class='ee-toggle'></label><ul><li><span class='ee-k'>type:</span><span class='ee-v'>PixelType</span></li><li><span class='ee-k'>precision:</span><span class='ee-v'>double</span></li></ul></li><li><label class='ee-shut'>dimensions: [3864, 1186]<input type='checkbox' class='ee-toggle'></label><ul><li><span class='ee-k'>0:</span><span class='ee-v'>3864</span></li><li><span class='ee-k'>1:</span><span class='ee-v'>1186</span></li></ul></li></ul></li><li><label class='ee-shut'>3: \"nir\", double, EPSG:32721, 3864x1186 px<input type='checkbox' class='ee-toggle'></label><ul><li><span class='ee-k'>id:</span><span class='ee-v'>nir</span></li><li><span class='ee-k'>crs:</span><span class='ee-v'>EPSG:32721</span></li><li><label class='ee-shut'>crs_transform: [30, 0, 610350, 0, -30, 9780030]<input type='checkbox' class='ee-toggle'></label><ul><li><span class='ee-k'>0:</span><span class='ee-v'>30</span></li><li><span class='ee-k'>1:</span><span class='ee-v'>0</span></li><li><span class='ee-k'>2:</span><span class='ee-v'>610350</span></li><li><span class='ee-k'>3:</span><span class='ee-v'>0</span></li><li><span class='ee-k'>4:</span><span class='ee-v'>-30</span></li><li><span class='ee-k'>5:</span><span class='ee-v'>9780030</span></li></ul></li><li><label class='ee-shut'>data_type: double<input type='checkbox' class='ee-toggle'></label><ul><li><span class='ee-k'>type:</span><span class='ee-v'>PixelType</span></li><li><span class='ee-k'>precision:</span><span class='ee-v'>double</span></li></ul></li><li><label class='ee-shut'>dimensions: [3864, 1186]<input type='checkbox' class='ee-toggle'></label><ul><li><span class='ee-k'>0:</span><span class='ee-v'>3864</span></li><li><span class='ee-k'>1:</span><span class='ee-v'>1186</span></li></ul></li></ul></li></ul></li><li><label class='ee-shut'>properties: Object (6 properties)<input type='checkbox' class='ee-toggle'></label><ul><li><span class='ee-k'>CLOUDY_PIXEL_PERCENTAGE:</span><span class='ee-v'>2.9646</span></li><li><span class='ee-k'>CLOUD_COVER:</span><span class='ee-v'>2.9646</span></li><li><span class='ee-k'>GRANULE_ID:</span><span class='ee-v'>S2A_OPER_MSI_L1C_TL_EPA__20160427T071221_A000822_T21MYT_N02.01</span></li><li><span class='ee-k'>SATELLITE_PRODUCT_ID:</span><span class='ee-v'>S2A_OPER_MSI_L1C_TL_EPA__20160427T071221_A000822_T21MYT_N02.01</span></li><li><span class='ee-k'>system:index:</span><span class='ee-v'>BOA_S220150819T141044_20160427T071221_T21MYT</span></li><li><span class='ee-k'>system:time_start:</span><span class='ee-v'>1439993444464</span></li></ul></li></ul></li></ul></li></ul></li></ul></div><script>function toggleHeader() {\n",
              "    const parent = this.parentElement;\n",
              "    parent.className = parent.className === \"ee-open\" ? \"ee-shut\" : \"ee-open\";\n",
              "}\n",
              "\n",
              "for (let c of document.getElementsByClassName(\"ee-toggle\")) {\n",
              "    c.onclick = toggleHeader;\n",
              "}</script></div>"
            ]
          },
          "metadata": {},
          "execution_count": 62
        }
      ]
    },
    {
      "cell_type": "code",
      "execution_count": 63,
      "metadata": {
        "id": "MP28jgso8u0o",
        "outputId": "b627cbfe-f7a8-49d5-ae9b-d08f4b7ce297",
        "colab": {
          "base_uri": "https://localhost:8080/",
          "height": 621,
          "referenced_widgets": [
            "647c4b44950f484fb8173a2833b53117",
            "699991927fd44f35b71f5882f2b89321",
            "53f47df6acf8447c84d8ad1b2ea6b1fc",
            "f5024cfb2c6c441f9bf97f67d57af6f0",
            "8b7d22c9b6254c81af386bba7ff03b44",
            "06cb7cc6ae00441fbc1c0057c48107e9",
            "f5e026aa153346bd962e552e388164ca",
            "fff4feedbe274d1b9a02afc4563dfe45",
            "152497ba0f4d4b3f908f193ce23c39df",
            "9ca896ae742d41709617cb9f21f2b5fb",
            "f1c38a37322c4719a05a77148e8eac9e",
            "c61444db0cd14d938f8682b64bae9f69",
            "190260b839fd464bb3d8e2b89163231d",
            "a1febe7b7a9b4077bbfe73f12596cd19",
            "2045b1080c6141408b3baa25fcb69600",
            "d91aff6b41ab40b99038778a4edcd9e3",
            "fa382beebf5c4cfea80de8e394aa9be7",
            "425ba8c60f784f35934c541af3691814",
            "e4c5eaa0d5d849319a8330b03543f042",
            "1ffe9b0f7ae64638927ad1fee20ca52b",
            "d69d79125bec4d349a1f742cbde4e587",
            "669b48f0311d462cb7d978ac7bde978b",
            "c2eef2b4fb90401a9eac4b1fa0bef2df",
            "0aff773bf42f48928c69f49a50a616da",
            "e1613fff21a846818fe9d97380adef47",
            "ef1c679ba7da4678b659c19908785e05",
            "4c71726e62ed46d78086f57cc6d4b797",
            "8447cfa3f6d84a089383a06ef02d0bff"
          ]
        }
      },
      "outputs": [
        {
          "output_type": "display_data",
          "data": {
            "text/plain": [
              "<IPython.core.display.HTML object>"
            ],
            "text/html": [
              "\n",
              "            <style>\n",
              "                .geemap-dark {\n",
              "                    --jp-widgets-color: white;\n",
              "                    --jp-widgets-label-color: white;\n",
              "                    --jp-ui-font-color1: white;\n",
              "                    --jp-layout-color2: #454545;\n",
              "                    background-color: #383838;\n",
              "                }\n",
              "\n",
              "                .geemap-dark .jupyter-button {\n",
              "                    --jp-layout-color3: #383838;\n",
              "                }\n",
              "\n",
              "                .geemap-colab {\n",
              "                    background-color: var(--colab-primary-surface-color, white);\n",
              "                }\n",
              "\n",
              "                .geemap-colab .jupyter-button {\n",
              "                    --jp-layout-color3: var(--colab-primary-surface-color, white);\n",
              "                }\n",
              "            </style>\n",
              "            "
            ]
          },
          "metadata": {}
        },
        {
          "output_type": "display_data",
          "data": {
            "text/plain": [
              "Map(center=[-2.184599717160098, -55.49304633852027], controls=(WidgetControl(options=['position', 'transparent…"
            ],
            "application/vnd.jupyter.widget-view+json": {
              "version_major": 2,
              "version_minor": 0,
              "model_id": "647c4b44950f484fb8173a2833b53117"
            }
          },
          "metadata": {
            "application/vnd.jupyter.widget-view+json": {
              "colab": {
                "custom_widget_manager": {
                  "url": "https://ssl.gstatic.com/colaboratory-static/widgets/colab-cdn-widget-manager/2b70e893a8ba7c0f/manager.min.js"
                }
              }
            }
          }
        }
      ],
      "source": [
        "Map = geemap.Map(basemap='HYBRID')\n",
        "Map.centerObject(roi_points,10)\n",
        "vis =  {'bands':['red','green','blue'],'min':0.01,'max':0.06}\n",
        "Map.addLayer(landsat7_rs.sort('CLOUD_COVER').first(),vis, 'landsat7')\n",
        "Map.addLayer(landsat8_rs.sort('CLOUD_COVER').first(),vis, 'landsat8')\n",
        "Map.addLayer(sentinel2_rs.first(), vis, 'sentinel2')\n",
        "\n",
        "Map.addLayer(roi_points, {'color':'darkred'}, 'Data Points');\n",
        "# Map.addLayer(roi_poly, {'color':'darkred'}, 'Data polygon');\n",
        "Map"
      ]
    },
    {
      "cell_type": "markdown",
      "metadata": {
        "id": "WH-K6yKxBuoY"
      },
      "source": [
        "# Sample data points pixel values"
      ]
    },
    {
      "cell_type": "markdown",
      "source": [
        "filter images that fall within a 16-day window period from each field point date"
      ],
      "metadata": {
        "id": "-B4lq8SGRMl8"
      }
    },
    {
      "cell_type": "code",
      "execution_count": null,
      "metadata": {
        "id": "6Qj2mZVN_dPw",
        "outputId": "994d4eb7-ee15-4c8c-fbe8-ce14e6cb961c",
        "colab": {
          "base_uri": "https://localhost:8080/",
          "height": 17
        }
      },
      "outputs": [
        {
          "output_type": "display_data",
          "data": {
            "text/plain": [
              "<IPython.core.display.HTML object>"
            ],
            "text/html": [
              "\n",
              "            <style>\n",
              "                .geemap-dark {\n",
              "                    --jp-widgets-color: white;\n",
              "                    --jp-widgets-label-color: white;\n",
              "                    --jp-ui-font-color1: white;\n",
              "                    --jp-layout-color2: #454545;\n",
              "                    background-color: #383838;\n",
              "                }\n",
              "\n",
              "                .geemap-dark .jupyter-button {\n",
              "                    --jp-layout-color3: #383838;\n",
              "                }\n",
              "\n",
              "                .geemap-colab {\n",
              "                    background-color: var(--colab-primary-surface-color, white);\n",
              "                }\n",
              "\n",
              "                .geemap-colab .jupyter-button {\n",
              "                    --jp-layout-color3: var(--colab-primary-surface-color, white);\n",
              "                }\n",
              "            </style>\n",
              "            "
            ]
          },
          "metadata": {}
        }
      ],
      "source": [
        "def imgs_points(collection):\n",
        "    def wrap(feat):\n",
        "        date_point = ee.Date(feat.get('system:time_start'))\n",
        "        data1 = date_point.advance(-16,'day')\\\n",
        "        .format('yyyy-MM-dd')\n",
        "\n",
        "        data2 = date_point.advance(16,'day')\\\n",
        "        .format('yyyy-MM-dd')\n",
        "\n",
        "        filtro = collection.filterDate(data1,data2)\\\n",
        "        .filterBounds(feat.geometry())\\\n",
        "        .map(lambda img: img.set({\n",
        "            'dif_date_point':ee.Date(img.get('system:time_start')).difference(date_point, 'day')})\\\n",
        "            .copyProperties(feat,['ID']))\n",
        "\n",
        "\n",
        "        return ee.ImageCollection(filtro.limit(10))\n",
        "\n",
        "    return wrap"
      ]
    },
    {
      "cell_type": "markdown",
      "source": [
        "obtain statistics for the same location of the field point - with a 3 pixel window - and filter out if more than 4 pixels are masked   "
      ],
      "metadata": {
        "id": "A3RjeCtsRr2h"
      }
    },
    {
      "cell_type": "code",
      "source": [
        "def sample_point(img):\n",
        "  feat = roi_points.filter(ee.Filter.eq('ID',img.get('ID'))).first()\n",
        "  geom = feat.geometry().buffer(45).bounds()\n",
        "\n",
        "  mean = img.reduceRegion(geometry=geom,\n",
        "                          scale=prj.nominalScale(),\n",
        "                          crs=prj.crs(),\n",
        "                          reducer=ee.Reducer.mean())\n",
        "  median = img.reduceRegion(geometry=geom,\n",
        "                            scale=prj.nominalScale(),\n",
        "                            crs=prj.crs(),\n",
        "                            reducer=ee.Reducer.median())\n",
        "  minMax = img.reduceRegion(geometry=geom,\n",
        "                            scale=prj.nominalScale(),\n",
        "                            crs=prj.crs(),\n",
        "                            reducer=ee.Reducer.minMax())\n",
        "  count = img.reduceRegion(geometry=geom,\n",
        "                            scale=prj.nominalScale(),\n",
        "                            crs=prj.crs(),\n",
        "                            reducer=ee.Reducer.count())\n",
        "  return feat.set({\n",
        "      \"SATELLITE_PRODUCT_ID\": img.get('SATELLITE_PRODUCT_ID'),\n",
        "      'CLOUD_COVER':img.get('CLOUD_COVER'),\n",
        "      'img_date':ee.Date(img.get('system:time_start')).format(),\n",
        "      'dif_date_point': img.get('dif_date_point'),\n",
        "      'blue_mean':mean.get('blue'),\n",
        "      'green_mean':mean.get('green'),\n",
        "      'red_mean':mean.get('red'),\n",
        "      'nir_mean':mean.get('nir'),\n",
        "      'blue_median':median.get('blue'),\n",
        "      'green_meadin':median.get('green'),\n",
        "      'red_median':median.get('red'),\n",
        "      'nir_median':median.get('nir'),\n",
        "      'blue_min':minMax.get('blue_min'),\n",
        "      'green_min':minMax.get('green_min'),\n",
        "      'red_min':minMax.get('red_min'),\n",
        "      'nir_min':minMax.get('nir_min'),\n",
        "      'blue_max':minMax.get('blue_max'),\n",
        "      'green_max':minMax.get('green_max'),\n",
        "      'red_max':minMax.get('red_max'),\n",
        "      'nir_max':minMax.get('nir_max'),\n",
        "      \"count_pixel\":count.get('red')\n",
        "      })\n",
        "\n",
        "filter_count = ee.Filter.gt('count_pixel',3)\n",
        "\n",
        "\n"
      ],
      "metadata": {
        "id": "fk_ahS2mn65N",
        "outputId": "a1222708-1611-41cc-ae6a-8e2f9223d664",
        "colab": {
          "base_uri": "https://localhost:8080/",
          "height": 17
        }
      },
      "execution_count": null,
      "outputs": [
        {
          "output_type": "display_data",
          "data": {
            "text/plain": [
              "<IPython.core.display.HTML object>"
            ],
            "text/html": [
              "\n",
              "            <style>\n",
              "                .geemap-dark {\n",
              "                    --jp-widgets-color: white;\n",
              "                    --jp-widgets-label-color: white;\n",
              "                    --jp-ui-font-color1: white;\n",
              "                    --jp-layout-color2: #454545;\n",
              "                    background-color: #383838;\n",
              "                }\n",
              "\n",
              "                .geemap-dark .jupyter-button {\n",
              "                    --jp-layout-color3: #383838;\n",
              "                }\n",
              "\n",
              "                .geemap-colab {\n",
              "                    background-color: var(--colab-primary-surface-color, white);\n",
              "                }\n",
              "\n",
              "                .geemap-colab .jupyter-button {\n",
              "                    --jp-layout-color3: var(--colab-primary-surface-color, white);\n",
              "                }\n",
              "            </style>\n",
              "            "
            ]
          },
          "metadata": {}
        }
      ]
    },
    {
      "cell_type": "markdown",
      "source": [
        "### Landsat 7"
      ],
      "metadata": {
        "id": "oX0L3v-DRbpf"
      }
    },
    {
      "cell_type": "code",
      "execution_count": null,
      "metadata": {
        "id": "rDmbdMyLIBJH",
        "outputId": "376bcd86-338f-4291-d4a5-b9ecd8dffebc",
        "colab": {
          "base_uri": "https://localhost:8080/",
          "height": 17
        }
      },
      "outputs": [
        {
          "output_type": "display_data",
          "data": {
            "text/plain": [
              "<IPython.core.display.HTML object>"
            ],
            "text/html": [
              "\n",
              "            <style>\n",
              "                .geemap-dark {\n",
              "                    --jp-widgets-color: white;\n",
              "                    --jp-widgets-label-color: white;\n",
              "                    --jp-ui-font-color1: white;\n",
              "                    --jp-layout-color2: #454545;\n",
              "                    background-color: #383838;\n",
              "                }\n",
              "\n",
              "                .geemap-dark .jupyter-button {\n",
              "                    --jp-layout-color3: #383838;\n",
              "                }\n",
              "\n",
              "                .geemap-colab {\n",
              "                    background-color: var(--colab-primary-surface-color, white);\n",
              "                }\n",
              "\n",
              "                .geemap-colab .jupyter-button {\n",
              "                    --jp-layout-color3: var(--colab-primary-surface-color, white);\n",
              "                }\n",
              "            </style>\n",
              "            "
            ]
          },
          "metadata": {}
        }
      ],
      "source": [
        "img_pointsLD7 = ee.ImageCollection(roi_points.map(imgs_points(landsat7_rs)).flatten().toList(2000))"
      ]
    },
    {
      "cell_type": "code",
      "execution_count": null,
      "metadata": {
        "id": "HmnUEuH6IUC6",
        "colab": {
          "base_uri": "https://localhost:8080/",
          "height": 68
        },
        "outputId": "1eb9d45d-626f-4abb-9eef-0ec7c88e0f5c"
      },
      "outputs": [
        {
          "output_type": "display_data",
          "data": {
            "text/plain": [
              "<IPython.core.display.HTML object>"
            ],
            "text/html": [
              "\n",
              "            <style>\n",
              "                .geemap-dark {\n",
              "                    --jp-widgets-color: white;\n",
              "                    --jp-widgets-label-color: white;\n",
              "                    --jp-ui-font-color1: white;\n",
              "                    --jp-layout-color2: #454545;\n",
              "                    background-color: #383838;\n",
              "                }\n",
              "\n",
              "                .geemap-dark .jupyter-button {\n",
              "                    --jp-layout-color3: #383838;\n",
              "                }\n",
              "\n",
              "                .geemap-colab {\n",
              "                    background-color: var(--colab-primary-surface-color, white);\n",
              "                }\n",
              "\n",
              "                .geemap-colab .jupyter-button {\n",
              "                    --jp-layout-color3: var(--colab-primary-surface-color, white);\n",
              "                }\n",
              "            </style>\n",
              "            "
            ]
          },
          "metadata": {}
        },
        {
          "output_type": "execute_result",
          "data": {
            "text/plain": [
              "<ee.ee_number.Number at 0x7931ff6a34f0>"
            ],
            "text/html": [
              "<div><style>:root {\n",
              "  --font-color-primary: var(--jp-content-font-color0, rgba(0, 0, 0, 1));\n",
              "  --font-color-secondary: var(--jp-content-font-color2, rgba(0, 0, 0, 0.6));\n",
              "  --font-color-accent: rgba(123, 31, 162, 1);\n",
              "  --border-color: var(--jp-border-color2, #e0e0e0);\n",
              "  --background-color: var(--jp-layout-color0, white);\n",
              "  --background-color-row-even: var(--jp-layout-color1, white);\n",
              "  --background-color-row-odd: var(--jp-layout-color2, #eeeeee);\n",
              "}\n",
              "\n",
              "html[theme=\"dark\"],\n",
              "body[data-theme=\"dark\"],\n",
              "body.vscode-dark {\n",
              "  --font-color-primary: rgba(255, 255, 255, 1);\n",
              "  --font-color-secondary: rgba(255, 255, 255, 0.6);\n",
              "  --font-color-accent: rgb(173, 132, 190);\n",
              "  --border-color: #2e2e2e;\n",
              "  --background-color: #111111;\n",
              "  --background-color-row-even: #111111;\n",
              "  --background-color-row-odd: #313131;\n",
              "}\n",
              "\n",
              ".ee {\n",
              "  padding: 1em;\n",
              "  line-height: 1.5em;\n",
              "  min-width: 300px;\n",
              "  max-width: 1200px;\n",
              "  overflow-y: scroll;\n",
              "  max-height: 600px;\n",
              "  border: 1px solid var(--border-color);\n",
              "  font-family: monospace;\n",
              "}\n",
              "\n",
              ".ee li {\n",
              "  list-style-type: none;\n",
              "}\n",
              "\n",
              ".ee ul {\n",
              "  padding-left: 1.5em !important;\n",
              "  margin: 0;\n",
              "}\n",
              "\n",
              ".ee > ul {\n",
              "  padding-left: 0 !important;\n",
              "}\n",
              "\n",
              ".ee-open,\n",
              ".ee-shut {\n",
              "  color: var(--font-color-secondary);\n",
              "  cursor: pointer;\n",
              "  margin: 0;\n",
              "}\n",
              "\n",
              ".ee-open:hover,\n",
              ".ee-shut:hover {\n",
              "  color: var(--font-color-primary);\n",
              "}\n",
              "\n",
              ".ee-k {\n",
              "  color: var(--font-color-accent);\n",
              "  margin-right: 6px;\n",
              "}\n",
              "\n",
              ".ee-v {\n",
              "  color: var(--font-color-primary);\n",
              "}\n",
              "\n",
              ".ee-toggle {\n",
              "  display: none;\n",
              "}\n",
              "\n",
              ".ee-shut + ul {\n",
              "  display: none;\n",
              "}\n",
              "\n",
              ".ee-open + ul {\n",
              "  display: block;\n",
              "}\n",
              "\n",
              ".ee-shut::before {\n",
              "  display: inline-block;\n",
              "  content: \"▼\";\n",
              "  margin-right: 6px;\n",
              "  transform: rotate(-90deg);\n",
              "  transition: transform 0.2s;\n",
              "}\n",
              "\n",
              ".ee-open::before {\n",
              "  transform: rotate(0deg);\n",
              "  display: inline-block;\n",
              "  content: \"▼\";\n",
              "  margin-right: 6px;\n",
              "  transition: transform 0.2s;\n",
              "}\n",
              "</style><div class='ee'><ul><li><span class='ee-v'>1248</span></li></ul></div><script>function toggleHeader() {\n",
              "    const parent = this.parentElement;\n",
              "    parent.className = parent.className === \"ee-open\" ? \"ee-shut\" : \"ee-open\";\n",
              "}\n",
              "\n",
              "for (let c of document.getElementsByClassName(\"ee-toggle\")) {\n",
              "    c.onclick = toggleHeader;\n",
              "}</script></div>"
            ]
          },
          "metadata": {},
          "execution_count": 94
        }
      ],
      "source": [
        "img_pointsLD7.size()\n"
      ]
    },
    {
      "cell_type": "code",
      "source": [
        "img_pointsLD7.aggregate_count_distinct('ID')"
      ],
      "metadata": {
        "id": "FOTB7ldweviC",
        "colab": {
          "base_uri": "https://localhost:8080/",
          "height": 321
        },
        "outputId": "7555b19f-078b-405c-fb95-ac119cb3c0dd"
      },
      "execution_count": null,
      "outputs": [
        {
          "output_type": "display_data",
          "data": {
            "text/plain": [
              "<IPython.core.display.HTML object>"
            ],
            "text/html": [
              "\n",
              "            <style>\n",
              "                .geemap-dark {\n",
              "                    --jp-widgets-color: white;\n",
              "                    --jp-widgets-label-color: white;\n",
              "                    --jp-ui-font-color1: white;\n",
              "                    --jp-layout-color2: #454545;\n",
              "                    background-color: #383838;\n",
              "                }\n",
              "\n",
              "                .geemap-dark .jupyter-button {\n",
              "                    --jp-layout-color3: #383838;\n",
              "                }\n",
              "\n",
              "                .geemap-colab {\n",
              "                    background-color: var(--colab-primary-surface-color, white);\n",
              "                }\n",
              "\n",
              "                .geemap-colab .jupyter-button {\n",
              "                    --jp-layout-color3: var(--colab-primary-surface-color, white);\n",
              "                }\n",
              "            </style>\n",
              "            "
            ]
          },
          "metadata": {}
        },
        {
          "output_type": "error",
          "ename": "KeyboardInterrupt",
          "evalue": "",
          "traceback": [
            "\u001b[0;31m---------------------------------------------------------------------------\u001b[0m",
            "\u001b[0;31mKeyboardInterrupt\u001b[0m                         Traceback (most recent call last)",
            "\u001b[0;32m<ipython-input-95-42160013b7aa>\u001b[0m in \u001b[0;36m<cell line: 1>\u001b[0;34m()\u001b[0m\n\u001b[0;32m----> 1\u001b[0;31m \u001b[0mimg_pointsLD7\u001b[0m\u001b[0;34m.\u001b[0m\u001b[0maggregate_count_distinct\u001b[0m\u001b[0;34m(\u001b[0m\u001b[0;34m'ID'\u001b[0m\u001b[0;34m)\u001b[0m\u001b[0;34m\u001b[0m\u001b[0;34m\u001b[0m\u001b[0m\n\u001b[0m",
            "\u001b[0;32m/usr/local/lib/python3.10/dist-packages/IPython/core/displayhook.py\u001b[0m in \u001b[0;36m__call__\u001b[0;34m(self, result)\u001b[0m\n\u001b[1;32m    260\u001b[0m             \u001b[0mself\u001b[0m\u001b[0;34m.\u001b[0m\u001b[0mstart_displayhook\u001b[0m\u001b[0;34m(\u001b[0m\u001b[0;34m)\u001b[0m\u001b[0;34m\u001b[0m\u001b[0;34m\u001b[0m\u001b[0m\n\u001b[1;32m    261\u001b[0m             \u001b[0mself\u001b[0m\u001b[0;34m.\u001b[0m\u001b[0mwrite_output_prompt\u001b[0m\u001b[0;34m(\u001b[0m\u001b[0;34m)\u001b[0m\u001b[0;34m\u001b[0m\u001b[0;34m\u001b[0m\u001b[0m\n\u001b[0;32m--> 262\u001b[0;31m             \u001b[0mformat_dict\u001b[0m\u001b[0;34m,\u001b[0m \u001b[0mmd_dict\u001b[0m \u001b[0;34m=\u001b[0m \u001b[0mself\u001b[0m\u001b[0;34m.\u001b[0m\u001b[0mcompute_format_data\u001b[0m\u001b[0;34m(\u001b[0m\u001b[0mresult\u001b[0m\u001b[0;34m)\u001b[0m\u001b[0;34m\u001b[0m\u001b[0;34m\u001b[0m\u001b[0m\n\u001b[0m\u001b[1;32m    263\u001b[0m             \u001b[0mself\u001b[0m\u001b[0;34m.\u001b[0m\u001b[0mupdate_user_ns\u001b[0m\u001b[0;34m(\u001b[0m\u001b[0mresult\u001b[0m\u001b[0;34m)\u001b[0m\u001b[0;34m\u001b[0m\u001b[0;34m\u001b[0m\u001b[0m\n\u001b[1;32m    264\u001b[0m             \u001b[0mself\u001b[0m\u001b[0;34m.\u001b[0m\u001b[0mfill_exec_result\u001b[0m\u001b[0;34m(\u001b[0m\u001b[0mresult\u001b[0m\u001b[0;34m)\u001b[0m\u001b[0;34m\u001b[0m\u001b[0;34m\u001b[0m\u001b[0m\n",
            "\u001b[0;32m/usr/local/lib/python3.10/dist-packages/IPython/core/displayhook.py\u001b[0m in \u001b[0;36mcompute_format_data\u001b[0;34m(self, result)\u001b[0m\n\u001b[1;32m    149\u001b[0m \u001b[0;34m\u001b[0m\u001b[0m\n\u001b[1;32m    150\u001b[0m         \"\"\"\n\u001b[0;32m--> 151\u001b[0;31m         \u001b[0;32mreturn\u001b[0m \u001b[0mself\u001b[0m\u001b[0;34m.\u001b[0m\u001b[0mshell\u001b[0m\u001b[0;34m.\u001b[0m\u001b[0mdisplay_formatter\u001b[0m\u001b[0;34m.\u001b[0m\u001b[0mformat\u001b[0m\u001b[0;34m(\u001b[0m\u001b[0mresult\u001b[0m\u001b[0;34m)\u001b[0m\u001b[0;34m\u001b[0m\u001b[0;34m\u001b[0m\u001b[0m\n\u001b[0m\u001b[1;32m    152\u001b[0m \u001b[0;34m\u001b[0m\u001b[0m\n\u001b[1;32m    153\u001b[0m     \u001b[0;31m# This can be set to True by the write_output_prompt method in a subclass\u001b[0m\u001b[0;34m\u001b[0m\u001b[0;34m\u001b[0m\u001b[0m\n",
            "\u001b[0;32m/usr/local/lib/python3.10/dist-packages/IPython/core/formatters.py\u001b[0m in \u001b[0;36mformat\u001b[0;34m(self, obj, include, exclude)\u001b[0m\n\u001b[1;32m    178\u001b[0m             \u001b[0mmd\u001b[0m \u001b[0;34m=\u001b[0m \u001b[0;32mNone\u001b[0m\u001b[0;34m\u001b[0m\u001b[0;34m\u001b[0m\u001b[0m\n\u001b[1;32m    179\u001b[0m             \u001b[0;32mtry\u001b[0m\u001b[0;34m:\u001b[0m\u001b[0;34m\u001b[0m\u001b[0;34m\u001b[0m\u001b[0m\n\u001b[0;32m--> 180\u001b[0;31m                 \u001b[0mdata\u001b[0m \u001b[0;34m=\u001b[0m \u001b[0mformatter\u001b[0m\u001b[0;34m(\u001b[0m\u001b[0mobj\u001b[0m\u001b[0;34m)\u001b[0m\u001b[0;34m\u001b[0m\u001b[0;34m\u001b[0m\u001b[0m\n\u001b[0m\u001b[1;32m    181\u001b[0m             \u001b[0;32mexcept\u001b[0m\u001b[0;34m:\u001b[0m\u001b[0;34m\u001b[0m\u001b[0;34m\u001b[0m\u001b[0m\n\u001b[1;32m    182\u001b[0m                 \u001b[0;31m# FIXME: log the exception\u001b[0m\u001b[0;34m\u001b[0m\u001b[0;34m\u001b[0m\u001b[0m\n",
            "\u001b[0;32m<decorator-gen-2>\u001b[0m in \u001b[0;36m__call__\u001b[0;34m(self, obj)\u001b[0m\n",
            "\u001b[0;32m/usr/local/lib/python3.10/dist-packages/IPython/core/formatters.py\u001b[0m in \u001b[0;36mcatch_format_error\u001b[0;34m(method, self, *args, **kwargs)\u001b[0m\n\u001b[1;32m    222\u001b[0m     \u001b[0;34m\"\"\"show traceback on failed format call\"\"\"\u001b[0m\u001b[0;34m\u001b[0m\u001b[0;34m\u001b[0m\u001b[0m\n\u001b[1;32m    223\u001b[0m     \u001b[0;32mtry\u001b[0m\u001b[0;34m:\u001b[0m\u001b[0;34m\u001b[0m\u001b[0;34m\u001b[0m\u001b[0m\n\u001b[0;32m--> 224\u001b[0;31m         \u001b[0mr\u001b[0m \u001b[0;34m=\u001b[0m \u001b[0mmethod\u001b[0m\u001b[0;34m(\u001b[0m\u001b[0mself\u001b[0m\u001b[0;34m,\u001b[0m \u001b[0;34m*\u001b[0m\u001b[0margs\u001b[0m\u001b[0;34m,\u001b[0m \u001b[0;34m**\u001b[0m\u001b[0mkwargs\u001b[0m\u001b[0;34m)\u001b[0m\u001b[0;34m\u001b[0m\u001b[0;34m\u001b[0m\u001b[0m\n\u001b[0m\u001b[1;32m    225\u001b[0m     \u001b[0;32mexcept\u001b[0m \u001b[0mNotImplementedError\u001b[0m\u001b[0;34m:\u001b[0m\u001b[0;34m\u001b[0m\u001b[0;34m\u001b[0m\u001b[0m\n\u001b[1;32m    226\u001b[0m         \u001b[0;31m# don't warn on NotImplementedErrors\u001b[0m\u001b[0;34m\u001b[0m\u001b[0;34m\u001b[0m\u001b[0m\n",
            "\u001b[0;32m/usr/local/lib/python3.10/dist-packages/IPython/core/formatters.py\u001b[0m in \u001b[0;36m__call__\u001b[0;34m(self, obj)\u001b[0m\n\u001b[1;32m    343\u001b[0m             \u001b[0mmethod\u001b[0m \u001b[0;34m=\u001b[0m \u001b[0mget_real_method\u001b[0m\u001b[0;34m(\u001b[0m\u001b[0mobj\u001b[0m\u001b[0;34m,\u001b[0m \u001b[0mself\u001b[0m\u001b[0;34m.\u001b[0m\u001b[0mprint_method\u001b[0m\u001b[0;34m)\u001b[0m\u001b[0;34m\u001b[0m\u001b[0;34m\u001b[0m\u001b[0m\n\u001b[1;32m    344\u001b[0m             \u001b[0;32mif\u001b[0m \u001b[0mmethod\u001b[0m \u001b[0;32mis\u001b[0m \u001b[0;32mnot\u001b[0m \u001b[0;32mNone\u001b[0m\u001b[0;34m:\u001b[0m\u001b[0;34m\u001b[0m\u001b[0;34m\u001b[0m\u001b[0m\n\u001b[0;32m--> 345\u001b[0;31m                 \u001b[0;32mreturn\u001b[0m \u001b[0mmethod\u001b[0m\u001b[0;34m(\u001b[0m\u001b[0;34m)\u001b[0m\u001b[0;34m\u001b[0m\u001b[0;34m\u001b[0m\u001b[0m\n\u001b[0m\u001b[1;32m    346\u001b[0m             \u001b[0;32mreturn\u001b[0m \u001b[0;32mNone\u001b[0m\u001b[0;34m\u001b[0m\u001b[0;34m\u001b[0m\u001b[0m\n\u001b[1;32m    347\u001b[0m         \u001b[0;32melse\u001b[0m\u001b[0;34m:\u001b[0m\u001b[0;34m\u001b[0m\u001b[0;34m\u001b[0m\u001b[0m\n",
            "\u001b[0;32m/usr/local/lib/python3.10/dist-packages/eerepr/repr.py\u001b[0m in \u001b[0;36m_ee_repr\u001b[0;34m(obj)\u001b[0m\n\u001b[1;32m     80\u001b[0m         \u001b[0msetattr\u001b[0m\u001b[0;34m(\u001b[0m\u001b[0mobj\u001b[0m\u001b[0;34m,\u001b[0m \u001b[0;34m\"_eerepr_id\"\u001b[0m\u001b[0;34m,\u001b[0m \u001b[0muuid\u001b[0m\u001b[0;34m.\u001b[0m\u001b[0muuid4\u001b[0m\u001b[0;34m(\u001b[0m\u001b[0;34m)\u001b[0m\u001b[0;34m)\u001b[0m\u001b[0;34m\u001b[0m\u001b[0;34m\u001b[0m\u001b[0m\n\u001b[1;32m     81\u001b[0m \u001b[0;34m\u001b[0m\u001b[0m\n\u001b[0;32m---> 82\u001b[0;31m     \u001b[0mrep\u001b[0m \u001b[0;34m=\u001b[0m \u001b[0m_repr_html_\u001b[0m\u001b[0;34m(\u001b[0m\u001b[0mobj\u001b[0m\u001b[0;34m)\u001b[0m\u001b[0;34m\u001b[0m\u001b[0;34m\u001b[0m\u001b[0m\n\u001b[0m\u001b[1;32m     83\u001b[0m     \u001b[0mmbs\u001b[0m \u001b[0;34m=\u001b[0m \u001b[0mlen\u001b[0m\u001b[0;34m(\u001b[0m\u001b[0mrep\u001b[0m\u001b[0;34m)\u001b[0m \u001b[0;34m/\u001b[0m \u001b[0;36m1e6\u001b[0m\u001b[0;34m\u001b[0m\u001b[0;34m\u001b[0m\u001b[0m\n\u001b[1;32m     84\u001b[0m     \u001b[0;32mif\u001b[0m \u001b[0mmbs\u001b[0m \u001b[0;34m>\u001b[0m \u001b[0moptions\u001b[0m\u001b[0;34m.\u001b[0m\u001b[0mmax_repr_mbs\u001b[0m\u001b[0;34m:\u001b[0m\u001b[0;34m\u001b[0m\u001b[0;34m\u001b[0m\u001b[0m\n",
            "\u001b[0;32m/usr/local/lib/python3.10/dist-packages/eerepr/repr.py\u001b[0m in \u001b[0;36m_repr_html_\u001b[0;34m(obj)\u001b[0m\n\u001b[1;32m     52\u001b[0m     \u001b[0;34m\"\"\"Generate an HTML representation of an EE object.\"\"\"\u001b[0m\u001b[0;34m\u001b[0m\u001b[0;34m\u001b[0m\u001b[0m\n\u001b[1;32m     53\u001b[0m     \u001b[0;32mtry\u001b[0m\u001b[0;34m:\u001b[0m\u001b[0;34m\u001b[0m\u001b[0;34m\u001b[0m\u001b[0m\n\u001b[0;32m---> 54\u001b[0;31m         \u001b[0minfo\u001b[0m \u001b[0;34m=\u001b[0m \u001b[0mobj\u001b[0m\u001b[0;34m.\u001b[0m\u001b[0mgetInfo\u001b[0m\u001b[0;34m(\u001b[0m\u001b[0;34m)\u001b[0m\u001b[0;34m\u001b[0m\u001b[0;34m\u001b[0m\u001b[0m\n\u001b[0m\u001b[1;32m     55\u001b[0m     \u001b[0;31m# Fall back to a string repr if getInfo fails\u001b[0m\u001b[0;34m\u001b[0m\u001b[0;34m\u001b[0m\u001b[0m\n\u001b[1;32m     56\u001b[0m     \u001b[0;32mexcept\u001b[0m \u001b[0mee\u001b[0m\u001b[0;34m.\u001b[0m\u001b[0mEEException\u001b[0m \u001b[0;32mas\u001b[0m \u001b[0me\u001b[0m\u001b[0;34m:\u001b[0m\u001b[0;34m\u001b[0m\u001b[0;34m\u001b[0m\u001b[0m\n",
            "\u001b[0;32m/usr/local/lib/python3.10/dist-packages/ee/computedobject.py\u001b[0m in \u001b[0;36mgetInfo\u001b[0;34m(self)\u001b[0m\n\u001b[1;32m    105\u001b[0m       \u001b[0mThe\u001b[0m \u001b[0mobject\u001b[0m \u001b[0mcan\u001b[0m \u001b[0mevaluate\u001b[0m \u001b[0mto\u001b[0m \u001b[0manything\u001b[0m\u001b[0;34m.\u001b[0m\u001b[0;34m\u001b[0m\u001b[0;34m\u001b[0m\u001b[0m\n\u001b[1;32m    106\u001b[0m     \"\"\"\n\u001b[0;32m--> 107\u001b[0;31m     \u001b[0;32mreturn\u001b[0m \u001b[0mdata\u001b[0m\u001b[0;34m.\u001b[0m\u001b[0mcomputeValue\u001b[0m\u001b[0;34m(\u001b[0m\u001b[0mself\u001b[0m\u001b[0;34m)\u001b[0m\u001b[0;34m\u001b[0m\u001b[0;34m\u001b[0m\u001b[0m\n\u001b[0m\u001b[1;32m    108\u001b[0m \u001b[0;34m\u001b[0m\u001b[0m\n\u001b[1;32m    109\u001b[0m   \u001b[0;32mdef\u001b[0m \u001b[0mencode\u001b[0m\u001b[0;34m(\u001b[0m\u001b[0mself\u001b[0m\u001b[0;34m,\u001b[0m \u001b[0mencoder\u001b[0m\u001b[0;34m:\u001b[0m \u001b[0mOptional\u001b[0m\u001b[0;34m[\u001b[0m\u001b[0mCallable\u001b[0m\u001b[0;34m[\u001b[0m\u001b[0;34m...\u001b[0m\u001b[0;34m,\u001b[0m \u001b[0mAny\u001b[0m\u001b[0;34m]\u001b[0m\u001b[0;34m]\u001b[0m\u001b[0;34m)\u001b[0m \u001b[0;34m->\u001b[0m \u001b[0mDict\u001b[0m\u001b[0;34m[\u001b[0m\u001b[0mstr\u001b[0m\u001b[0;34m,\u001b[0m \u001b[0mAny\u001b[0m\u001b[0;34m]\u001b[0m\u001b[0;34m:\u001b[0m\u001b[0;34m\u001b[0m\u001b[0;34m\u001b[0m\u001b[0m\n",
            "\u001b[0;32m/usr/local/lib/python3.10/dist-packages/ee/data.py\u001b[0m in \u001b[0;36mcomputeValue\u001b[0;34m(obj)\u001b[0m\n\u001b[1;32m   1105\u001b[0m   \u001b[0m_maybe_populate_workload_tag\u001b[0m\u001b[0;34m(\u001b[0m\u001b[0mbody\u001b[0m\u001b[0;34m)\u001b[0m\u001b[0;34m\u001b[0m\u001b[0;34m\u001b[0m\u001b[0m\n\u001b[1;32m   1106\u001b[0m \u001b[0;34m\u001b[0m\u001b[0m\n\u001b[0;32m-> 1107\u001b[0;31m   return _execute_cloud_call(\n\u001b[0m\u001b[1;32m   1108\u001b[0m       \u001b[0m_get_cloud_projects\u001b[0m\u001b[0;34m(\u001b[0m\u001b[0;34m)\u001b[0m\u001b[0;34m\u001b[0m\u001b[0;34m\u001b[0m\u001b[0m\n\u001b[1;32m   1109\u001b[0m       \u001b[0;34m.\u001b[0m\u001b[0mvalue\u001b[0m\u001b[0;34m(\u001b[0m\u001b[0;34m)\u001b[0m\u001b[0;34m\u001b[0m\u001b[0;34m\u001b[0m\u001b[0m\n",
            "\u001b[0;32m/usr/local/lib/python3.10/dist-packages/ee/data.py\u001b[0m in \u001b[0;36m_execute_cloud_call\u001b[0;34m(call, num_retries)\u001b[0m\n\u001b[1;32m    400\u001b[0m   \"\"\"\n\u001b[1;32m    401\u001b[0m   \u001b[0;32mtry\u001b[0m\u001b[0;34m:\u001b[0m\u001b[0;34m\u001b[0m\u001b[0;34m\u001b[0m\u001b[0m\n\u001b[0;32m--> 402\u001b[0;31m     \u001b[0;32mreturn\u001b[0m \u001b[0mcall\u001b[0m\u001b[0;34m.\u001b[0m\u001b[0mexecute\u001b[0m\u001b[0;34m(\u001b[0m\u001b[0mnum_retries\u001b[0m\u001b[0;34m=\u001b[0m\u001b[0mnum_retries\u001b[0m\u001b[0;34m)\u001b[0m\u001b[0;34m\u001b[0m\u001b[0;34m\u001b[0m\u001b[0m\n\u001b[0m\u001b[1;32m    403\u001b[0m   \u001b[0;32mexcept\u001b[0m \u001b[0mgoogleapiclient\u001b[0m\u001b[0;34m.\u001b[0m\u001b[0merrors\u001b[0m\u001b[0;34m.\u001b[0m\u001b[0mHttpError\u001b[0m \u001b[0;32mas\u001b[0m \u001b[0me\u001b[0m\u001b[0;34m:\u001b[0m\u001b[0;34m\u001b[0m\u001b[0;34m\u001b[0m\u001b[0m\n\u001b[1;32m    404\u001b[0m     \u001b[0;32mraise\u001b[0m \u001b[0m_translate_cloud_exception\u001b[0m\u001b[0;34m(\u001b[0m\u001b[0me\u001b[0m\u001b[0;34m)\u001b[0m  \u001b[0;31m# pylint: disable=raise-missing-from\u001b[0m\u001b[0;34m\u001b[0m\u001b[0;34m\u001b[0m\u001b[0m\n",
            "\u001b[0;32m/usr/local/lib/python3.10/dist-packages/googleapiclient/_helpers.py\u001b[0m in \u001b[0;36mpositional_wrapper\u001b[0;34m(*args, **kwargs)\u001b[0m\n\u001b[1;32m    128\u001b[0m                 \u001b[0;32melif\u001b[0m \u001b[0mpositional_parameters_enforcement\u001b[0m \u001b[0;34m==\u001b[0m \u001b[0mPOSITIONAL_WARNING\u001b[0m\u001b[0;34m:\u001b[0m\u001b[0;34m\u001b[0m\u001b[0;34m\u001b[0m\u001b[0m\n\u001b[1;32m    129\u001b[0m                     \u001b[0mlogger\u001b[0m\u001b[0;34m.\u001b[0m\u001b[0mwarning\u001b[0m\u001b[0;34m(\u001b[0m\u001b[0mmessage\u001b[0m\u001b[0;34m)\u001b[0m\u001b[0;34m\u001b[0m\u001b[0;34m\u001b[0m\u001b[0m\n\u001b[0;32m--> 130\u001b[0;31m             \u001b[0;32mreturn\u001b[0m \u001b[0mwrapped\u001b[0m\u001b[0;34m(\u001b[0m\u001b[0;34m*\u001b[0m\u001b[0margs\u001b[0m\u001b[0;34m,\u001b[0m \u001b[0;34m**\u001b[0m\u001b[0mkwargs\u001b[0m\u001b[0;34m)\u001b[0m\u001b[0;34m\u001b[0m\u001b[0;34m\u001b[0m\u001b[0m\n\u001b[0m\u001b[1;32m    131\u001b[0m \u001b[0;34m\u001b[0m\u001b[0m\n\u001b[1;32m    132\u001b[0m         \u001b[0;32mreturn\u001b[0m \u001b[0mpositional_wrapper\u001b[0m\u001b[0;34m\u001b[0m\u001b[0;34m\u001b[0m\u001b[0m\n",
            "\u001b[0;32m/usr/local/lib/python3.10/dist-packages/googleapiclient/http.py\u001b[0m in \u001b[0;36mexecute\u001b[0;34m(self, http, num_retries)\u001b[0m\n\u001b[1;32m    921\u001b[0m \u001b[0;34m\u001b[0m\u001b[0m\n\u001b[1;32m    922\u001b[0m         \u001b[0;31m# Handle retries for server-side errors.\u001b[0m\u001b[0;34m\u001b[0m\u001b[0;34m\u001b[0m\u001b[0m\n\u001b[0;32m--> 923\u001b[0;31m         resp, content = _retry_request(\n\u001b[0m\u001b[1;32m    924\u001b[0m             \u001b[0mhttp\u001b[0m\u001b[0;34m,\u001b[0m\u001b[0;34m\u001b[0m\u001b[0;34m\u001b[0m\u001b[0m\n\u001b[1;32m    925\u001b[0m             \u001b[0mnum_retries\u001b[0m\u001b[0;34m,\u001b[0m\u001b[0;34m\u001b[0m\u001b[0;34m\u001b[0m\u001b[0m\n",
            "\u001b[0;32m/usr/local/lib/python3.10/dist-packages/googleapiclient/http.py\u001b[0m in \u001b[0;36m_retry_request\u001b[0;34m(http, num_retries, req_type, sleep, rand, uri, method, *args, **kwargs)\u001b[0m\n\u001b[1;32m    189\u001b[0m         \u001b[0;32mtry\u001b[0m\u001b[0;34m:\u001b[0m\u001b[0;34m\u001b[0m\u001b[0;34m\u001b[0m\u001b[0m\n\u001b[1;32m    190\u001b[0m             \u001b[0mexception\u001b[0m \u001b[0;34m=\u001b[0m \u001b[0;32mNone\u001b[0m\u001b[0;34m\u001b[0m\u001b[0;34m\u001b[0m\u001b[0m\n\u001b[0;32m--> 191\u001b[0;31m             \u001b[0mresp\u001b[0m\u001b[0;34m,\u001b[0m \u001b[0mcontent\u001b[0m \u001b[0;34m=\u001b[0m \u001b[0mhttp\u001b[0m\u001b[0;34m.\u001b[0m\u001b[0mrequest\u001b[0m\u001b[0;34m(\u001b[0m\u001b[0muri\u001b[0m\u001b[0;34m,\u001b[0m \u001b[0mmethod\u001b[0m\u001b[0;34m,\u001b[0m \u001b[0;34m*\u001b[0m\u001b[0margs\u001b[0m\u001b[0;34m,\u001b[0m \u001b[0;34m**\u001b[0m\u001b[0mkwargs\u001b[0m\u001b[0;34m)\u001b[0m\u001b[0;34m\u001b[0m\u001b[0;34m\u001b[0m\u001b[0m\n\u001b[0m\u001b[1;32m    192\u001b[0m         \u001b[0;31m# Retry on SSL errors and socket timeout errors.\u001b[0m\u001b[0;34m\u001b[0m\u001b[0;34m\u001b[0m\u001b[0m\n\u001b[1;32m    193\u001b[0m         \u001b[0;32mexcept\u001b[0m \u001b[0m_ssl_SSLError\u001b[0m \u001b[0;32mas\u001b[0m \u001b[0mssl_error\u001b[0m\u001b[0;34m:\u001b[0m\u001b[0;34m\u001b[0m\u001b[0;34m\u001b[0m\u001b[0m\n",
            "\u001b[0;32m/usr/local/lib/python3.10/dist-packages/google_auth_httplib2.py\u001b[0m in \u001b[0;36mrequest\u001b[0;34m(self, uri, method, body, headers, redirections, connection_type, **kwargs)\u001b[0m\n\u001b[1;32m    216\u001b[0m \u001b[0;34m\u001b[0m\u001b[0m\n\u001b[1;32m    217\u001b[0m         \u001b[0;31m# Make the request.\u001b[0m\u001b[0;34m\u001b[0m\u001b[0;34m\u001b[0m\u001b[0m\n\u001b[0;32m--> 218\u001b[0;31m         response, content = self.http.request(\n\u001b[0m\u001b[1;32m    219\u001b[0m             \u001b[0muri\u001b[0m\u001b[0;34m,\u001b[0m\u001b[0;34m\u001b[0m\u001b[0;34m\u001b[0m\u001b[0m\n\u001b[1;32m    220\u001b[0m             \u001b[0mmethod\u001b[0m\u001b[0;34m,\u001b[0m\u001b[0;34m\u001b[0m\u001b[0;34m\u001b[0m\u001b[0m\n",
            "\u001b[0;32m/usr/local/lib/python3.10/dist-packages/ee/_cloud_api_utils.py\u001b[0m in \u001b[0;36mrequest\u001b[0;34m(***failed resolving arguments***)\u001b[0m\n\u001b[1;32m     68\u001b[0m       \u001b[0;31m# requests errors should be converted to kinds that googleapiclient\u001b[0m\u001b[0;34m\u001b[0m\u001b[0;34m\u001b[0m\u001b[0m\n\u001b[1;32m     69\u001b[0m       \u001b[0;31m# consider transient.\u001b[0m\u001b[0;34m\u001b[0m\u001b[0;34m\u001b[0m\u001b[0m\n\u001b[0;32m---> 70\u001b[0;31m       response = self._session.request(\n\u001b[0m\u001b[1;32m     71\u001b[0m           \u001b[0mmethod\u001b[0m\u001b[0;34m,\u001b[0m \u001b[0muri\u001b[0m\u001b[0;34m,\u001b[0m \u001b[0mdata\u001b[0m\u001b[0;34m=\u001b[0m\u001b[0mbody\u001b[0m\u001b[0;34m,\u001b[0m \u001b[0mheaders\u001b[0m\u001b[0;34m=\u001b[0m\u001b[0mheaders\u001b[0m\u001b[0;34m,\u001b[0m \u001b[0mtimeout\u001b[0m\u001b[0;34m=\u001b[0m\u001b[0mself\u001b[0m\u001b[0;34m.\u001b[0m\u001b[0m_timeout\u001b[0m\u001b[0;34m\u001b[0m\u001b[0;34m\u001b[0m\u001b[0m\n\u001b[1;32m     72\u001b[0m       )\n",
            "\u001b[0;32m/usr/local/lib/python3.10/dist-packages/requests/sessions.py\u001b[0m in \u001b[0;36mrequest\u001b[0;34m(self, method, url, params, data, headers, cookies, files, auth, timeout, allow_redirects, proxies, hooks, stream, verify, cert, json)\u001b[0m\n\u001b[1;32m    587\u001b[0m         }\n\u001b[1;32m    588\u001b[0m         \u001b[0msend_kwargs\u001b[0m\u001b[0;34m.\u001b[0m\u001b[0mupdate\u001b[0m\u001b[0;34m(\u001b[0m\u001b[0msettings\u001b[0m\u001b[0;34m)\u001b[0m\u001b[0;34m\u001b[0m\u001b[0;34m\u001b[0m\u001b[0m\n\u001b[0;32m--> 589\u001b[0;31m         \u001b[0mresp\u001b[0m \u001b[0;34m=\u001b[0m \u001b[0mself\u001b[0m\u001b[0;34m.\u001b[0m\u001b[0msend\u001b[0m\u001b[0;34m(\u001b[0m\u001b[0mprep\u001b[0m\u001b[0;34m,\u001b[0m \u001b[0;34m**\u001b[0m\u001b[0msend_kwargs\u001b[0m\u001b[0;34m)\u001b[0m\u001b[0;34m\u001b[0m\u001b[0;34m\u001b[0m\u001b[0m\n\u001b[0m\u001b[1;32m    590\u001b[0m \u001b[0;34m\u001b[0m\u001b[0m\n\u001b[1;32m    591\u001b[0m         \u001b[0;32mreturn\u001b[0m \u001b[0mresp\u001b[0m\u001b[0;34m\u001b[0m\u001b[0;34m\u001b[0m\u001b[0m\n",
            "\u001b[0;32m/usr/local/lib/python3.10/dist-packages/requests/sessions.py\u001b[0m in \u001b[0;36msend\u001b[0;34m(self, request, **kwargs)\u001b[0m\n\u001b[1;32m    701\u001b[0m \u001b[0;34m\u001b[0m\u001b[0m\n\u001b[1;32m    702\u001b[0m         \u001b[0;31m# Send the request\u001b[0m\u001b[0;34m\u001b[0m\u001b[0;34m\u001b[0m\u001b[0m\n\u001b[0;32m--> 703\u001b[0;31m         \u001b[0mr\u001b[0m \u001b[0;34m=\u001b[0m \u001b[0madapter\u001b[0m\u001b[0;34m.\u001b[0m\u001b[0msend\u001b[0m\u001b[0;34m(\u001b[0m\u001b[0mrequest\u001b[0m\u001b[0;34m,\u001b[0m \u001b[0;34m**\u001b[0m\u001b[0mkwargs\u001b[0m\u001b[0;34m)\u001b[0m\u001b[0;34m\u001b[0m\u001b[0;34m\u001b[0m\u001b[0m\n\u001b[0m\u001b[1;32m    704\u001b[0m \u001b[0;34m\u001b[0m\u001b[0m\n\u001b[1;32m    705\u001b[0m         \u001b[0;31m# Total elapsed time of the request (approximately)\u001b[0m\u001b[0;34m\u001b[0m\u001b[0;34m\u001b[0m\u001b[0m\n",
            "\u001b[0;32m/usr/local/lib/python3.10/dist-packages/requests/adapters.py\u001b[0m in \u001b[0;36msend\u001b[0;34m(self, request, stream, timeout, verify, cert, proxies)\u001b[0m\n\u001b[1;32m    484\u001b[0m \u001b[0;34m\u001b[0m\u001b[0m\n\u001b[1;32m    485\u001b[0m         \u001b[0;32mtry\u001b[0m\u001b[0;34m:\u001b[0m\u001b[0;34m\u001b[0m\u001b[0;34m\u001b[0m\u001b[0m\n\u001b[0;32m--> 486\u001b[0;31m             resp = conn.urlopen(\n\u001b[0m\u001b[1;32m    487\u001b[0m                 \u001b[0mmethod\u001b[0m\u001b[0;34m=\u001b[0m\u001b[0mrequest\u001b[0m\u001b[0;34m.\u001b[0m\u001b[0mmethod\u001b[0m\u001b[0;34m,\u001b[0m\u001b[0;34m\u001b[0m\u001b[0;34m\u001b[0m\u001b[0m\n\u001b[1;32m    488\u001b[0m                 \u001b[0murl\u001b[0m\u001b[0;34m=\u001b[0m\u001b[0murl\u001b[0m\u001b[0;34m,\u001b[0m\u001b[0;34m\u001b[0m\u001b[0;34m\u001b[0m\u001b[0m\n",
            "\u001b[0;32m/usr/local/lib/python3.10/dist-packages/urllib3/connectionpool.py\u001b[0m in \u001b[0;36murlopen\u001b[0;34m(self, method, url, body, headers, retries, redirect, assert_same_host, timeout, pool_timeout, release_conn, chunked, body_pos, preload_content, decode_content, **response_kw)\u001b[0m\n\u001b[1;32m    789\u001b[0m \u001b[0;34m\u001b[0m\u001b[0m\n\u001b[1;32m    790\u001b[0m             \u001b[0;31m# Make the request on the HTTPConnection object\u001b[0m\u001b[0;34m\u001b[0m\u001b[0;34m\u001b[0m\u001b[0m\n\u001b[0;32m--> 791\u001b[0;31m             response = self._make_request(\n\u001b[0m\u001b[1;32m    792\u001b[0m                 \u001b[0mconn\u001b[0m\u001b[0;34m,\u001b[0m\u001b[0;34m\u001b[0m\u001b[0;34m\u001b[0m\u001b[0m\n\u001b[1;32m    793\u001b[0m                 \u001b[0mmethod\u001b[0m\u001b[0;34m,\u001b[0m\u001b[0;34m\u001b[0m\u001b[0;34m\u001b[0m\u001b[0m\n",
            "\u001b[0;32m/usr/local/lib/python3.10/dist-packages/urllib3/connectionpool.py\u001b[0m in \u001b[0;36m_make_request\u001b[0;34m(self, conn, method, url, body, headers, retries, timeout, chunked, response_conn, preload_content, decode_content, enforce_content_length)\u001b[0m\n\u001b[1;32m    535\u001b[0m         \u001b[0;31m# Receive the response from the server\u001b[0m\u001b[0;34m\u001b[0m\u001b[0;34m\u001b[0m\u001b[0m\n\u001b[1;32m    536\u001b[0m         \u001b[0;32mtry\u001b[0m\u001b[0;34m:\u001b[0m\u001b[0;34m\u001b[0m\u001b[0;34m\u001b[0m\u001b[0m\n\u001b[0;32m--> 537\u001b[0;31m             \u001b[0mresponse\u001b[0m \u001b[0;34m=\u001b[0m \u001b[0mconn\u001b[0m\u001b[0;34m.\u001b[0m\u001b[0mgetresponse\u001b[0m\u001b[0;34m(\u001b[0m\u001b[0;34m)\u001b[0m\u001b[0;34m\u001b[0m\u001b[0;34m\u001b[0m\u001b[0m\n\u001b[0m\u001b[1;32m    538\u001b[0m         \u001b[0;32mexcept\u001b[0m \u001b[0;34m(\u001b[0m\u001b[0mBaseSSLError\u001b[0m\u001b[0;34m,\u001b[0m \u001b[0mOSError\u001b[0m\u001b[0;34m)\u001b[0m \u001b[0;32mas\u001b[0m \u001b[0me\u001b[0m\u001b[0;34m:\u001b[0m\u001b[0;34m\u001b[0m\u001b[0;34m\u001b[0m\u001b[0m\n\u001b[1;32m    539\u001b[0m             \u001b[0mself\u001b[0m\u001b[0;34m.\u001b[0m\u001b[0m_raise_timeout\u001b[0m\u001b[0;34m(\u001b[0m\u001b[0merr\u001b[0m\u001b[0;34m=\u001b[0m\u001b[0me\u001b[0m\u001b[0;34m,\u001b[0m \u001b[0murl\u001b[0m\u001b[0;34m=\u001b[0m\u001b[0murl\u001b[0m\u001b[0;34m,\u001b[0m \u001b[0mtimeout_value\u001b[0m\u001b[0;34m=\u001b[0m\u001b[0mread_timeout\u001b[0m\u001b[0;34m)\u001b[0m\u001b[0;34m\u001b[0m\u001b[0;34m\u001b[0m\u001b[0m\n",
            "\u001b[0;32m/usr/local/lib/python3.10/dist-packages/urllib3/connection.py\u001b[0m in \u001b[0;36mgetresponse\u001b[0;34m(self)\u001b[0m\n\u001b[1;32m    459\u001b[0m \u001b[0;34m\u001b[0m\u001b[0m\n\u001b[1;32m    460\u001b[0m         \u001b[0;31m# Get the response from http.client.HTTPConnection\u001b[0m\u001b[0;34m\u001b[0m\u001b[0;34m\u001b[0m\u001b[0m\n\u001b[0;32m--> 461\u001b[0;31m         \u001b[0mhttplib_response\u001b[0m \u001b[0;34m=\u001b[0m \u001b[0msuper\u001b[0m\u001b[0;34m(\u001b[0m\u001b[0;34m)\u001b[0m\u001b[0;34m.\u001b[0m\u001b[0mgetresponse\u001b[0m\u001b[0;34m(\u001b[0m\u001b[0;34m)\u001b[0m\u001b[0;34m\u001b[0m\u001b[0;34m\u001b[0m\u001b[0m\n\u001b[0m\u001b[1;32m    462\u001b[0m \u001b[0;34m\u001b[0m\u001b[0m\n\u001b[1;32m    463\u001b[0m         \u001b[0;32mtry\u001b[0m\u001b[0;34m:\u001b[0m\u001b[0;34m\u001b[0m\u001b[0;34m\u001b[0m\u001b[0m\n",
            "\u001b[0;32m/usr/lib/python3.10/http/client.py\u001b[0m in \u001b[0;36mgetresponse\u001b[0;34m(self)\u001b[0m\n\u001b[1;32m   1373\u001b[0m         \u001b[0;32mtry\u001b[0m\u001b[0;34m:\u001b[0m\u001b[0;34m\u001b[0m\u001b[0;34m\u001b[0m\u001b[0m\n\u001b[1;32m   1374\u001b[0m             \u001b[0;32mtry\u001b[0m\u001b[0;34m:\u001b[0m\u001b[0;34m\u001b[0m\u001b[0;34m\u001b[0m\u001b[0m\n\u001b[0;32m-> 1375\u001b[0;31m                 \u001b[0mresponse\u001b[0m\u001b[0;34m.\u001b[0m\u001b[0mbegin\u001b[0m\u001b[0;34m(\u001b[0m\u001b[0;34m)\u001b[0m\u001b[0;34m\u001b[0m\u001b[0;34m\u001b[0m\u001b[0m\n\u001b[0m\u001b[1;32m   1376\u001b[0m             \u001b[0;32mexcept\u001b[0m \u001b[0mConnectionError\u001b[0m\u001b[0;34m:\u001b[0m\u001b[0;34m\u001b[0m\u001b[0;34m\u001b[0m\u001b[0m\n\u001b[1;32m   1377\u001b[0m                 \u001b[0mself\u001b[0m\u001b[0;34m.\u001b[0m\u001b[0mclose\u001b[0m\u001b[0;34m(\u001b[0m\u001b[0;34m)\u001b[0m\u001b[0;34m\u001b[0m\u001b[0;34m\u001b[0m\u001b[0m\n",
            "\u001b[0;32m/usr/lib/python3.10/http/client.py\u001b[0m in \u001b[0;36mbegin\u001b[0;34m(self)\u001b[0m\n\u001b[1;32m    316\u001b[0m         \u001b[0;31m# read until we get a non-100 response\u001b[0m\u001b[0;34m\u001b[0m\u001b[0;34m\u001b[0m\u001b[0m\n\u001b[1;32m    317\u001b[0m         \u001b[0;32mwhile\u001b[0m \u001b[0;32mTrue\u001b[0m\u001b[0;34m:\u001b[0m\u001b[0;34m\u001b[0m\u001b[0;34m\u001b[0m\u001b[0m\n\u001b[0;32m--> 318\u001b[0;31m             \u001b[0mversion\u001b[0m\u001b[0;34m,\u001b[0m \u001b[0mstatus\u001b[0m\u001b[0;34m,\u001b[0m \u001b[0mreason\u001b[0m \u001b[0;34m=\u001b[0m \u001b[0mself\u001b[0m\u001b[0;34m.\u001b[0m\u001b[0m_read_status\u001b[0m\u001b[0;34m(\u001b[0m\u001b[0;34m)\u001b[0m\u001b[0;34m\u001b[0m\u001b[0;34m\u001b[0m\u001b[0m\n\u001b[0m\u001b[1;32m    319\u001b[0m             \u001b[0;32mif\u001b[0m \u001b[0mstatus\u001b[0m \u001b[0;34m!=\u001b[0m \u001b[0mCONTINUE\u001b[0m\u001b[0;34m:\u001b[0m\u001b[0;34m\u001b[0m\u001b[0;34m\u001b[0m\u001b[0m\n\u001b[1;32m    320\u001b[0m                 \u001b[0;32mbreak\u001b[0m\u001b[0;34m\u001b[0m\u001b[0;34m\u001b[0m\u001b[0m\n",
            "\u001b[0;32m/usr/lib/python3.10/http/client.py\u001b[0m in \u001b[0;36m_read_status\u001b[0;34m(self)\u001b[0m\n\u001b[1;32m    277\u001b[0m \u001b[0;34m\u001b[0m\u001b[0m\n\u001b[1;32m    278\u001b[0m     \u001b[0;32mdef\u001b[0m \u001b[0m_read_status\u001b[0m\u001b[0;34m(\u001b[0m\u001b[0mself\u001b[0m\u001b[0;34m)\u001b[0m\u001b[0;34m:\u001b[0m\u001b[0;34m\u001b[0m\u001b[0;34m\u001b[0m\u001b[0m\n\u001b[0;32m--> 279\u001b[0;31m         \u001b[0mline\u001b[0m \u001b[0;34m=\u001b[0m \u001b[0mstr\u001b[0m\u001b[0;34m(\u001b[0m\u001b[0mself\u001b[0m\u001b[0;34m.\u001b[0m\u001b[0mfp\u001b[0m\u001b[0;34m.\u001b[0m\u001b[0mreadline\u001b[0m\u001b[0;34m(\u001b[0m\u001b[0m_MAXLINE\u001b[0m \u001b[0;34m+\u001b[0m \u001b[0;36m1\u001b[0m\u001b[0;34m)\u001b[0m\u001b[0;34m,\u001b[0m \u001b[0;34m\"iso-8859-1\"\u001b[0m\u001b[0;34m)\u001b[0m\u001b[0;34m\u001b[0m\u001b[0;34m\u001b[0m\u001b[0m\n\u001b[0m\u001b[1;32m    280\u001b[0m         \u001b[0;32mif\u001b[0m \u001b[0mlen\u001b[0m\u001b[0;34m(\u001b[0m\u001b[0mline\u001b[0m\u001b[0;34m)\u001b[0m \u001b[0;34m>\u001b[0m \u001b[0m_MAXLINE\u001b[0m\u001b[0;34m:\u001b[0m\u001b[0;34m\u001b[0m\u001b[0;34m\u001b[0m\u001b[0m\n\u001b[1;32m    281\u001b[0m             \u001b[0;32mraise\u001b[0m \u001b[0mLineTooLong\u001b[0m\u001b[0;34m(\u001b[0m\u001b[0;34m\"status line\"\u001b[0m\u001b[0;34m)\u001b[0m\u001b[0;34m\u001b[0m\u001b[0;34m\u001b[0m\u001b[0m\n",
            "\u001b[0;32m/usr/lib/python3.10/socket.py\u001b[0m in \u001b[0;36mreadinto\u001b[0;34m(self, b)\u001b[0m\n\u001b[1;32m    703\u001b[0m         \u001b[0;32mwhile\u001b[0m \u001b[0;32mTrue\u001b[0m\u001b[0;34m:\u001b[0m\u001b[0;34m\u001b[0m\u001b[0;34m\u001b[0m\u001b[0m\n\u001b[1;32m    704\u001b[0m             \u001b[0;32mtry\u001b[0m\u001b[0;34m:\u001b[0m\u001b[0;34m\u001b[0m\u001b[0;34m\u001b[0m\u001b[0m\n\u001b[0;32m--> 705\u001b[0;31m                 \u001b[0;32mreturn\u001b[0m \u001b[0mself\u001b[0m\u001b[0;34m.\u001b[0m\u001b[0m_sock\u001b[0m\u001b[0;34m.\u001b[0m\u001b[0mrecv_into\u001b[0m\u001b[0;34m(\u001b[0m\u001b[0mb\u001b[0m\u001b[0;34m)\u001b[0m\u001b[0;34m\u001b[0m\u001b[0;34m\u001b[0m\u001b[0m\n\u001b[0m\u001b[1;32m    706\u001b[0m             \u001b[0;32mexcept\u001b[0m \u001b[0mtimeout\u001b[0m\u001b[0;34m:\u001b[0m\u001b[0;34m\u001b[0m\u001b[0;34m\u001b[0m\u001b[0m\n\u001b[1;32m    707\u001b[0m                 \u001b[0mself\u001b[0m\u001b[0;34m.\u001b[0m\u001b[0m_timeout_occurred\u001b[0m \u001b[0;34m=\u001b[0m \u001b[0;32mTrue\u001b[0m\u001b[0;34m\u001b[0m\u001b[0;34m\u001b[0m\u001b[0m\n",
            "\u001b[0;32m/usr/lib/python3.10/ssl.py\u001b[0m in \u001b[0;36mrecv_into\u001b[0;34m(self, buffer, nbytes, flags)\u001b[0m\n\u001b[1;32m   1301\u001b[0m                   \u001b[0;34m\"non-zero flags not allowed in calls to recv_into() on %s\"\u001b[0m \u001b[0;34m%\u001b[0m\u001b[0;34m\u001b[0m\u001b[0;34m\u001b[0m\u001b[0m\n\u001b[1;32m   1302\u001b[0m                   self.__class__)\n\u001b[0;32m-> 1303\u001b[0;31m             \u001b[0;32mreturn\u001b[0m \u001b[0mself\u001b[0m\u001b[0;34m.\u001b[0m\u001b[0mread\u001b[0m\u001b[0;34m(\u001b[0m\u001b[0mnbytes\u001b[0m\u001b[0;34m,\u001b[0m \u001b[0mbuffer\u001b[0m\u001b[0;34m)\u001b[0m\u001b[0;34m\u001b[0m\u001b[0;34m\u001b[0m\u001b[0m\n\u001b[0m\u001b[1;32m   1304\u001b[0m         \u001b[0;32melse\u001b[0m\u001b[0;34m:\u001b[0m\u001b[0;34m\u001b[0m\u001b[0;34m\u001b[0m\u001b[0m\n\u001b[1;32m   1305\u001b[0m             \u001b[0;32mreturn\u001b[0m \u001b[0msuper\u001b[0m\u001b[0;34m(\u001b[0m\u001b[0;34m)\u001b[0m\u001b[0;34m.\u001b[0m\u001b[0mrecv_into\u001b[0m\u001b[0;34m(\u001b[0m\u001b[0mbuffer\u001b[0m\u001b[0;34m,\u001b[0m \u001b[0mnbytes\u001b[0m\u001b[0;34m,\u001b[0m \u001b[0mflags\u001b[0m\u001b[0;34m)\u001b[0m\u001b[0;34m\u001b[0m\u001b[0;34m\u001b[0m\u001b[0m\n",
            "\u001b[0;32m/usr/lib/python3.10/ssl.py\u001b[0m in \u001b[0;36mread\u001b[0;34m(self, len, buffer)\u001b[0m\n\u001b[1;32m   1157\u001b[0m         \u001b[0;32mtry\u001b[0m\u001b[0;34m:\u001b[0m\u001b[0;34m\u001b[0m\u001b[0;34m\u001b[0m\u001b[0m\n\u001b[1;32m   1158\u001b[0m             \u001b[0;32mif\u001b[0m \u001b[0mbuffer\u001b[0m \u001b[0;32mis\u001b[0m \u001b[0;32mnot\u001b[0m \u001b[0;32mNone\u001b[0m\u001b[0;34m:\u001b[0m\u001b[0;34m\u001b[0m\u001b[0;34m\u001b[0m\u001b[0m\n\u001b[0;32m-> 1159\u001b[0;31m                 \u001b[0;32mreturn\u001b[0m \u001b[0mself\u001b[0m\u001b[0;34m.\u001b[0m\u001b[0m_sslobj\u001b[0m\u001b[0;34m.\u001b[0m\u001b[0mread\u001b[0m\u001b[0;34m(\u001b[0m\u001b[0mlen\u001b[0m\u001b[0;34m,\u001b[0m \u001b[0mbuffer\u001b[0m\u001b[0;34m)\u001b[0m\u001b[0;34m\u001b[0m\u001b[0;34m\u001b[0m\u001b[0m\n\u001b[0m\u001b[1;32m   1160\u001b[0m             \u001b[0;32melse\u001b[0m\u001b[0;34m:\u001b[0m\u001b[0;34m\u001b[0m\u001b[0;34m\u001b[0m\u001b[0m\n\u001b[1;32m   1161\u001b[0m                 \u001b[0;32mreturn\u001b[0m \u001b[0mself\u001b[0m\u001b[0;34m.\u001b[0m\u001b[0m_sslobj\u001b[0m\u001b[0;34m.\u001b[0m\u001b[0mread\u001b[0m\u001b[0;34m(\u001b[0m\u001b[0mlen\u001b[0m\u001b[0;34m)\u001b[0m\u001b[0;34m\u001b[0m\u001b[0;34m\u001b[0m\u001b[0m\n",
            "\u001b[0;31mKeyboardInterrupt\u001b[0m: "
          ]
        }
      ]
    },
    {
      "cell_type": "code",
      "source": [
        "img_pointsLD7.limit(5)"
      ],
      "metadata": {
        "id": "lwFy4mjzU7Zf"
      },
      "execution_count": null,
      "outputs": []
    },
    {
      "cell_type": "code",
      "source": [
        "reduced_LD7 = ee.FeatureCollection(img_pointsLD7.map(sample_point)).filter(filter_count)"
      ],
      "metadata": {
        "id": "cTOkf_RDzPNQ"
      },
      "execution_count": null,
      "outputs": []
    },
    {
      "cell_type": "code",
      "source": [
        "reduced_LD7.limit(2)"
      ],
      "metadata": {
        "id": "wVhvOGr022ro"
      },
      "execution_count": null,
      "outputs": []
    },
    {
      "cell_type": "code",
      "execution_count": null,
      "metadata": {
        "id": "JhSKEJc3_h_f"
      },
      "outputs": [],
      "source": [
        "reduced_LD7.size()"
      ]
    },
    {
      "cell_type": "code",
      "source": [
        "reduced_LD7.aggregate_count_distinct('ID')"
      ],
      "metadata": {
        "id": "EM3g-hipoTK7"
      },
      "execution_count": null,
      "outputs": []
    },
    {
      "cell_type": "markdown",
      "source": [
        "## Landsat 8"
      ],
      "metadata": {
        "id": "V2eUphRFSU9O"
      }
    },
    {
      "cell_type": "code",
      "execution_count": null,
      "metadata": {
        "id": "hGJt1ARYTodA"
      },
      "outputs": [],
      "source": [
        "img_pointsLD8 = ee.ImageCollection(roi_points.map(imgs_points(landsat8_rs)).flatten().toList(2000))"
      ]
    },
    {
      "cell_type": "code",
      "execution_count": null,
      "metadata": {
        "id": "Tnh1z0LGTtB4"
      },
      "outputs": [],
      "source": [
        "img_pointsLD8.size()\n"
      ]
    },
    {
      "cell_type": "code",
      "source": [
        "img_pointsLD8.aggregate_count_distinct('ID')"
      ],
      "metadata": {
        "id": "cGh3nOhbpdgK"
      },
      "execution_count": null,
      "outputs": []
    },
    {
      "cell_type": "code",
      "source": [
        "img_pointsLD8.limit(5)"
      ],
      "metadata": {
        "id": "kCpqU9_wqMja"
      },
      "execution_count": null,
      "outputs": []
    },
    {
      "cell_type": "code",
      "execution_count": null,
      "metadata": {
        "id": "g29SCo37Tyu0"
      },
      "outputs": [],
      "source": [
        "reduced_LD8 = ee.FeatureCollection(img_pointsLD8.map(sample_point)).filter(filter_count)"
      ]
    },
    {
      "cell_type": "code",
      "execution_count": null,
      "metadata": {
        "id": "rbjXzUbZT5iM"
      },
      "outputs": [],
      "source": [
        "reduced_LD8.size()\n"
      ]
    },
    {
      "cell_type": "code",
      "source": [
        "reduced_LD8.aggregate_count_distinct('ID')"
      ],
      "metadata": {
        "id": "tQtZMhDCppwW"
      },
      "execution_count": null,
      "outputs": []
    },
    {
      "cell_type": "code",
      "source": [
        "reduced_LD8.limit(2)"
      ],
      "metadata": {
        "id": "jWxk6PJxqcaF"
      },
      "execution_count": null,
      "outputs": []
    },
    {
      "cell_type": "markdown",
      "source": [
        "##Sentinel 2"
      ],
      "metadata": {
        "id": "Vh03oep9SYOZ"
      }
    },
    {
      "cell_type": "code",
      "execution_count": null,
      "metadata": {
        "id": "U4tyq015t5q8"
      },
      "outputs": [],
      "source": [
        "img_pointsS2 = ee.ImageCollection(roi_points.map(imgs_points(sentinel2_rs)).flatten().toList(2000))"
      ]
    },
    {
      "cell_type": "code",
      "execution_count": null,
      "metadata": {
        "id": "BT_mPDtCt52M"
      },
      "outputs": [],
      "source": [
        "img_pointsS2.size()"
      ]
    },
    {
      "cell_type": "code",
      "source": [
        "img_pointsS2.aggregate_count_distinct('ID')"
      ],
      "metadata": {
        "id": "2lBRxwjrtrVW"
      },
      "execution_count": null,
      "outputs": []
    },
    {
      "cell_type": "code",
      "execution_count": null,
      "metadata": {
        "id": "cldn_cGQt59t"
      },
      "outputs": [],
      "source": [
        "reduced_S2 = ee.FeatureCollection(img_pointsS2.map(sample_point)).filter(filter_count)"
      ]
    },
    {
      "cell_type": "code",
      "execution_count": null,
      "metadata": {
        "id": "-pJVT7Tot6FH"
      },
      "outputs": [],
      "source": [
        "reduced_S2.size()\n"
      ]
    },
    {
      "cell_type": "code",
      "source": [
        "reduced_S2.aggregate_count_distinct('ID')"
      ],
      "metadata": {
        "id": "GQQUqUX8t9HA"
      },
      "execution_count": null,
      "outputs": []
    },
    {
      "cell_type": "code",
      "source": [
        "reduced_S2.limit(2)"
      ],
      "metadata": {
        "id": "xXyFi_YLuJHz"
      },
      "execution_count": null,
      "outputs": []
    },
    {
      "cell_type": "markdown",
      "source": [
        "## Visualize sampled image by defining field point ID"
      ],
      "metadata": {
        "id": "R3Tm7XehSd7W"
      }
    },
    {
      "cell_type": "code",
      "execution_count": null,
      "metadata": {
        "id": "AET6sX5H_jr_"
      },
      "outputs": [],
      "source": [
        "Map = geemap.Map()\n",
        "Map.centerObject(roi_points,10)\n",
        "id = 302\n",
        "vis_params={'bands':['red','green','blue'],'min':0,'max':0.05}\n",
        "Map.addLayer(img_pointsLD7.filter(ee.Filter.eq('ID',id)).sort('dif_date_point').first(), vis_params, 'landsat7')\n",
        "Map.addLayer(img_pointsLD8.filter(ee.Filter.eq('ID',id)).sort('dif_date_point').first(), vis_params, 'landsat8')\n",
        "Map.addLayer(img_pointsS2.filter(ee.Filter.eq('ID',id)).sort('dif_date_point').first(), vis_params, 'sentinel2')\n",
        "\n",
        "Map.addLayer(roi_points.filter(ee.Filter.eq('ID',id)), {'color':'darkred'}, 'Data Points');\n",
        "Map"
      ]
    },
    {
      "cell_type": "markdown",
      "source": [
        "# Export data as CSV file"
      ],
      "metadata": {
        "id": "st2x3mUrSo5D"
      }
    },
    {
      "cell_type": "code",
      "source": [
        "#Exportar tabelas\n",
        "#LD7\n",
        "geemap.ee_to_csv(reduced_LD7, '/content/drive/MyDrive/CURUAI_PROCESS/'+mission+'_LD7_ACOLLITE_data.csv', selectors=None, verbose=True, timeout=300, proxies=None)"
      ],
      "metadata": {
        "colab": {
          "base_uri": "https://localhost:8080/",
          "height": 86
        },
        "id": "8e9MR9Vd8ut0",
        "outputId": "abaea011-8d96-4d4f-b60d-fae6460c46f7"
      },
      "execution_count": null,
      "outputs": [
        {
          "output_type": "display_data",
          "data": {
            "text/plain": [
              "<IPython.core.display.HTML object>"
            ],
            "text/html": [
              "\n",
              "            <style>\n",
              "                .geemap-dark {\n",
              "                    --jp-widgets-color: white;\n",
              "                    --jp-widgets-label-color: white;\n",
              "                    --jp-ui-font-color1: white;\n",
              "                    --jp-layout-color2: #454545;\n",
              "                    background-color: #383838;\n",
              "                }\n",
              "                    \n",
              "                .geemap-dark .jupyter-button {\n",
              "                    --jp-layout-color3: #383838;\n",
              "                }\n",
              "                \n",
              "                .geemap-colab {\n",
              "                    background-color: var(--colab-primary-surface-color, white);\n",
              "                }\n",
              "                    \n",
              "                .geemap-colab .jupyter-button {\n",
              "                    --jp-layout-color3: var(--colab-primary-surface-color, white);\n",
              "                }\n",
              "            </style>\n",
              "            "
            ]
          },
          "metadata": {}
        },
        {
          "output_type": "stream",
          "name": "stdout",
          "text": [
            "Generating URL ...\n",
            "Downloading data from https://earthengine.googleapis.com/v1/projects/earthengine-legacy/tables/d8b42fafaf915a7dc6c4fa3405ee958d-f66e441ccbbddab9e570994ea2529232:getFeatures\n",
            "Please wait ...\n",
            "Data downloaded to /content/drive/MyDrive/CURUAI_PROCESS/V_LD7_ACOLLITE_data.csv\n"
          ]
        }
      ]
    },
    {
      "cell_type": "code",
      "source": [
        "geemap.ee_to_csv(reduced_LD8, '/content/drive/MyDrive/CURUAI_PROCESS/'+mission+'_LD8_ACOLLITE_data.csv', selectors=None, verbose=True, timeout=300, proxies=None)"
      ],
      "metadata": {
        "colab": {
          "base_uri": "https://localhost:8080/",
          "height": 86
        },
        "id": "YvRjkRaSAYL6",
        "outputId": "fd6b9526-4e46-48f7-b51b-3dc5bccf5b00"
      },
      "execution_count": null,
      "outputs": [
        {
          "output_type": "display_data",
          "data": {
            "text/plain": [
              "<IPython.core.display.HTML object>"
            ],
            "text/html": [
              "\n",
              "            <style>\n",
              "                .geemap-dark {\n",
              "                    --jp-widgets-color: white;\n",
              "                    --jp-widgets-label-color: white;\n",
              "                    --jp-ui-font-color1: white;\n",
              "                    --jp-layout-color2: #454545;\n",
              "                    background-color: #383838;\n",
              "                }\n",
              "                    \n",
              "                .geemap-dark .jupyter-button {\n",
              "                    --jp-layout-color3: #383838;\n",
              "                }\n",
              "                \n",
              "                .geemap-colab {\n",
              "                    background-color: var(--colab-primary-surface-color, white);\n",
              "                }\n",
              "                    \n",
              "                .geemap-colab .jupyter-button {\n",
              "                    --jp-layout-color3: var(--colab-primary-surface-color, white);\n",
              "                }\n",
              "            </style>\n",
              "            "
            ]
          },
          "metadata": {}
        },
        {
          "output_type": "stream",
          "name": "stdout",
          "text": [
            "Generating URL ...\n",
            "Downloading data from https://earthengine.googleapis.com/v1/projects/earthengine-legacy/tables/3380d1b0a060f28645c4461a9fb0f3bc-98d0a95ab91b1984ce280694be16294b:getFeatures\n",
            "Please wait ...\n",
            "Data downloaded to /content/drive/MyDrive/CURUAI_PROCESS/V_LD8_ACOLLITE_data.csv\n"
          ]
        }
      ]
    },
    {
      "cell_type": "code",
      "source": [
        "geemap.ee_to_csv(reduced_S2, '/content/drive/MyDrive/CURUAI_PROCESS/'+mission+'_LD7_ACOLLITE_data.csv', selectors=None, verbose=True, timeout=300, proxies=None)"
      ],
      "metadata": {
        "colab": {
          "base_uri": "https://localhost:8080/",
          "height": 86
        },
        "id": "S_9w3_F_Af5A",
        "outputId": "4cbc51f1-8ce1-46c5-bd68-8362333a1936"
      },
      "execution_count": null,
      "outputs": [
        {
          "output_type": "display_data",
          "data": {
            "text/plain": [
              "<IPython.core.display.HTML object>"
            ],
            "text/html": [
              "\n",
              "            <style>\n",
              "                .geemap-dark {\n",
              "                    --jp-widgets-color: white;\n",
              "                    --jp-widgets-label-color: white;\n",
              "                    --jp-ui-font-color1: white;\n",
              "                    --jp-layout-color2: #454545;\n",
              "                    background-color: #383838;\n",
              "                }\n",
              "                    \n",
              "                .geemap-dark .jupyter-button {\n",
              "                    --jp-layout-color3: #383838;\n",
              "                }\n",
              "                \n",
              "                .geemap-colab {\n",
              "                    background-color: var(--colab-primary-surface-color, white);\n",
              "                }\n",
              "                    \n",
              "                .geemap-colab .jupyter-button {\n",
              "                    --jp-layout-color3: var(--colab-primary-surface-color, white);\n",
              "                }\n",
              "            </style>\n",
              "            "
            ]
          },
          "metadata": {}
        },
        {
          "output_type": "stream",
          "name": "stdout",
          "text": [
            "Generating URL ...\n",
            "Downloading data from https://earthengine.googleapis.com/v1/projects/earthengine-legacy/tables/4f86bba985360aa467fb0cf2f6017150-dae5fb1f94758da695727c685facea14:getFeatures\n",
            "Please wait ...\n",
            "Data downloaded to /content/drive/MyDrive/CURUAI_PROCESS/VI_S2_DOS_data.csv\n"
          ]
        }
      ]
    },
    {
      "cell_type": "markdown",
      "source": [
        "CORREÇÂO ATM:\n",
        "\n",
        "\n",
        "1.   ACOLITE https://github.com/acolite/acolite\n",
        "2.   6S com imagem da Dinha e parametros do artigo... talvez seja necessaria mais uma correção para isso\n",
        "\n",
        "\n",
        "\n"
      ],
      "metadata": {
        "id": "3-mV3QNe5dbI"
      }
    }
  ],
  "metadata": {
    "colab": {
      "provenance": [],
      "toc_visible": true,
      "include_colab_link": true
    },
    "kernelspec": {
      "display_name": "Python 3 (ipykernel)",
      "language": "python",
      "name": "python3"
    },
    "language_info": {
      "codemirror_mode": {
        "name": "ipython",
        "version": 3
      },
      "file_extension": ".py",
      "mimetype": "text/x-python",
      "name": "python",
      "nbconvert_exporter": "python",
      "pygments_lexer": "ipython3",
      "version": "3.9.18"
    },
    "widgets": {
      "application/vnd.jupyter.widget-state+json": {
        "647c4b44950f484fb8173a2833b53117": {
          "model_module": "jupyter-leaflet",
          "model_name": "LeafletMapModel",
          "model_module_version": "^0.18",
          "state": {
            "_dom_classes": [],
            "_model_module": "jupyter-leaflet",
            "_model_module_version": "^0.18",
            "_model_name": "LeafletMapModel",
            "_view_count": null,
            "_view_module": "jupyter-leaflet",
            "_view_module_version": "^0.18",
            "_view_name": "LeafletMapView",
            "bottom": 530700,
            "bounce_at_zoom_limits": true,
            "box_zoom": true,
            "center": [
              -2.0979197335949116,
              -55.67547786459235
            ],
            "close_popup_on_click": true,
            "controls": [
              "IPY_MODEL_699991927fd44f35b71f5882f2b89321",
              "IPY_MODEL_53f47df6acf8447c84d8ad1b2ea6b1fc",
              "IPY_MODEL_f5024cfb2c6c441f9bf97f67d57af6f0",
              "IPY_MODEL_8b7d22c9b6254c81af386bba7ff03b44",
              "IPY_MODEL_06cb7cc6ae00441fbc1c0057c48107e9",
              "IPY_MODEL_f5e026aa153346bd962e552e388164ca",
              "IPY_MODEL_fff4feedbe274d1b9a02afc4563dfe45",
              "IPY_MODEL_152497ba0f4d4b3f908f193ce23c39df"
            ],
            "crs": {
              "name": "EPSG3857",
              "custom": false
            },
            "default_style": "IPY_MODEL_9ca896ae742d41709617cb9f21f2b5fb",
            "double_click_zoom": true,
            "dragging": true,
            "dragging_style": "IPY_MODEL_f1c38a37322c4719a05a77148e8eac9e",
            "east": -55.48510539755134,
            "fullscreen": false,
            "inertia": true,
            "inertia_deceleration": 3000,
            "inertia_max_speed": 1500,
            "interpolation": "bilinear",
            "keyboard": true,
            "keyboard_pan_offset": 80,
            "keyboard_zoom_offset": 1,
            "layers": [
              "IPY_MODEL_c61444db0cd14d938f8682b64bae9f69",
              "IPY_MODEL_190260b839fd464bb3d8e2b89163231d",
              "IPY_MODEL_a1febe7b7a9b4077bbfe73f12596cd19",
              "IPY_MODEL_2045b1080c6141408b3baa25fcb69600",
              "IPY_MODEL_d91aff6b41ab40b99038778a4edcd9e3"
            ],
            "layout": "IPY_MODEL_fa382beebf5c4cfea80de8e394aa9be7",
            "left": 361566.91700738115,
            "max_zoom": 24,
            "min_zoom": null,
            "modisdate": "2024-05-19",
            "north": -1.9949886123884577,
            "options": [
              "bounce_at_zoom_limits",
              "box_zoom",
              "center",
              "close_popup_on_click",
              "double_click_zoom",
              "dragging",
              "fullscreen",
              "inertia",
              "inertia_deceleration",
              "inertia_max_speed",
              "interpolation",
              "keyboard",
              "keyboard_pan_offset",
              "keyboard_zoom_offset",
              "max_zoom",
              "min_zoom",
              "prefer_canvas",
              "scroll_wheel_zoom",
              "tap",
              "tap_tolerance",
              "touch_zoom",
              "world_copy_jump",
              "zoom",
              "zoom_animation_threshold",
              "zoom_delta",
              "zoom_snap"
            ],
            "panes": {},
            "prefer_canvas": false,
            "right": 362675.91700738115,
            "scroll_wheel_zoom": true,
            "south": -2.2008440814678414,
            "style": "IPY_MODEL_9ca896ae742d41709617cb9f21f2b5fb",
            "tap": true,
            "tap_tolerance": 15,
            "top": 530100,
            "touch_zoom": true,
            "west": -55.86585033163337,
            "window_url": "https://m1kfs61mrbi-496ff2e9c6d22116-0-colab.googleusercontent.com/outputframe.html?vrz=colab_20240517-061230_RC00_634683133",
            "world_copy_jump": false,
            "zoom": 12,
            "zoom_animation_threshold": 4,
            "zoom_delta": 1,
            "zoom_snap": 1
          }
        },
        "699991927fd44f35b71f5882f2b89321": {
          "model_module": "jupyter-leaflet",
          "model_name": "LeafletWidgetControlModel",
          "model_module_version": "^0.18",
          "state": {
            "_model_module": "jupyter-leaflet",
            "_model_module_version": "^0.18",
            "_model_name": "LeafletWidgetControlModel",
            "_view_count": null,
            "_view_module": "jupyter-leaflet",
            "_view_module_version": "^0.18",
            "_view_name": "LeafletWidgetControlView",
            "max_height": null,
            "max_width": null,
            "min_height": null,
            "min_width": null,
            "options": [
              "position",
              "transparent_bg"
            ],
            "position": "topleft",
            "transparent_bg": false,
            "widget": "IPY_MODEL_e4c5eaa0d5d849319a8330b03543f042"
          }
        },
        "53f47df6acf8447c84d8ad1b2ea6b1fc": {
          "model_module": "jupyter-leaflet",
          "model_name": "LeafletZoomControlModel",
          "model_module_version": "^0.18",
          "state": {
            "_model_module": "jupyter-leaflet",
            "_model_module_version": "^0.18",
            "_model_name": "LeafletZoomControlModel",
            "_view_count": null,
            "_view_module": "jupyter-leaflet",
            "_view_module_version": "^0.18",
            "_view_name": "LeafletZoomControlView",
            "options": [
              "position",
              "zoom_in_text",
              "zoom_in_title",
              "zoom_out_text",
              "zoom_out_title"
            ],
            "position": "topleft",
            "zoom_in_text": "+",
            "zoom_in_title": "Zoom in",
            "zoom_out_text": "-",
            "zoom_out_title": "Zoom out"
          }
        },
        "f5024cfb2c6c441f9bf97f67d57af6f0": {
          "model_module": "jupyter-leaflet",
          "model_name": "LeafletFullScreenControlModel",
          "model_module_version": "^0.18",
          "state": {
            "_model_module": "jupyter-leaflet",
            "_model_module_version": "^0.18",
            "_model_name": "LeafletFullScreenControlModel",
            "_view_count": null,
            "_view_module": "jupyter-leaflet",
            "_view_module_version": "^0.18",
            "_view_name": "LeafletFullScreenControlView",
            "options": [
              "position"
            ],
            "position": "topleft"
          }
        },
        "8b7d22c9b6254c81af386bba7ff03b44": {
          "model_module": "jupyter-leaflet",
          "model_name": "LeafletDrawControlModel",
          "model_module_version": "^0.18",
          "state": {
            "_model_module": "jupyter-leaflet",
            "_model_module_version": "^0.18",
            "_model_name": "LeafletDrawControlModel",
            "_view_count": null,
            "_view_module": "jupyter-leaflet",
            "_view_module_version": "^0.18",
            "_view_name": "LeafletDrawControlView",
            "circle": {},
            "circlemarker": {},
            "data": [],
            "edit": true,
            "marker": {
              "shapeOptions": {
                "color": "#3388ff"
              }
            },
            "options": [
              "position"
            ],
            "polygon": {
              "shapeOptions": {}
            },
            "polyline": {
              "shapeOptions": {}
            },
            "position": "topleft",
            "rectangle": {
              "shapeOptions": {
                "color": "#3388ff"
              }
            },
            "remove": true
          }
        },
        "06cb7cc6ae00441fbc1c0057c48107e9": {
          "model_module": "jupyter-leaflet",
          "model_name": "LeafletScaleControlModel",
          "model_module_version": "^0.18",
          "state": {
            "_model_module": "jupyter-leaflet",
            "_model_module_version": "^0.18",
            "_model_name": "LeafletScaleControlModel",
            "_view_count": null,
            "_view_module": "jupyter-leaflet",
            "_view_module_version": "^0.18",
            "_view_name": "LeafletScaleControlView",
            "imperial": true,
            "max_width": 100,
            "metric": true,
            "options": [
              "imperial",
              "max_width",
              "metric",
              "position",
              "update_when_idle"
            ],
            "position": "bottomleft",
            "update_when_idle": false
          }
        },
        "f5e026aa153346bd962e552e388164ca": {
          "model_module": "jupyter-leaflet",
          "model_name": "LeafletMeasureControlModel",
          "model_module_version": "^0.18",
          "state": {
            "_custom_units": {},
            "_model_module": "jupyter-leaflet",
            "_model_module_version": "^0.18",
            "_model_name": "LeafletMeasureControlModel",
            "_view_count": null,
            "_view_module": "jupyter-leaflet",
            "_view_module_version": "^0.18",
            "_view_name": "LeafletMeasureControlView",
            "active_color": "orange",
            "capture_z_index": 10000,
            "completed_color": "#C8F2BE",
            "options": [
              "active_color",
              "capture_z_index",
              "completed_color",
              "popup_options",
              "position",
              "primary_area_unit",
              "primary_length_unit",
              "secondary_area_unit",
              "secondary_length_unit"
            ],
            "popup_options": {
              "className": "leaflet-measure-resultpopup",
              "autoPanPadding": [
                10,
                10
              ]
            },
            "position": "bottomleft",
            "primary_area_unit": "acres",
            "primary_length_unit": "kilometers",
            "secondary_area_unit": null,
            "secondary_length_unit": null
          }
        },
        "fff4feedbe274d1b9a02afc4563dfe45": {
          "model_module": "jupyter-leaflet",
          "model_name": "LeafletWidgetControlModel",
          "model_module_version": "^0.18",
          "state": {
            "_model_module": "jupyter-leaflet",
            "_model_module_version": "^0.18",
            "_model_name": "LeafletWidgetControlModel",
            "_view_count": null,
            "_view_module": "jupyter-leaflet",
            "_view_module_version": "^0.18",
            "_view_name": "LeafletWidgetControlView",
            "max_height": null,
            "max_width": null,
            "min_height": null,
            "min_width": null,
            "options": [
              "position",
              "transparent_bg"
            ],
            "position": "topright",
            "transparent_bg": false,
            "widget": "IPY_MODEL_1ffe9b0f7ae64638927ad1fee20ca52b"
          }
        },
        "152497ba0f4d4b3f908f193ce23c39df": {
          "model_module": "jupyter-leaflet",
          "model_name": "LeafletAttributionControlModel",
          "model_module_version": "^0.18",
          "state": {
            "_model_module": "jupyter-leaflet",
            "_model_module_version": "^0.18",
            "_model_name": "LeafletAttributionControlModel",
            "_view_count": null,
            "_view_module": "jupyter-leaflet",
            "_view_module_version": "^0.18",
            "_view_name": "LeafletAttributionControlView",
            "options": [
              "position",
              "prefix"
            ],
            "position": "bottomright",
            "prefix": "ipyleaflet"
          }
        },
        "9ca896ae742d41709617cb9f21f2b5fb": {
          "model_module": "jupyter-leaflet",
          "model_name": "LeafletMapStyleModel",
          "model_module_version": "^0.18",
          "state": {
            "_model_module": "jupyter-leaflet",
            "_model_module_version": "^0.18",
            "_model_name": "LeafletMapStyleModel",
            "_view_count": null,
            "_view_module": "@jupyter-widgets/base",
            "_view_module_version": "1.2.0",
            "_view_name": "StyleView",
            "cursor": "grab"
          }
        },
        "f1c38a37322c4719a05a77148e8eac9e": {
          "model_module": "jupyter-leaflet",
          "model_name": "LeafletMapStyleModel",
          "model_module_version": "^0.18",
          "state": {
            "_model_module": "jupyter-leaflet",
            "_model_module_version": "^0.18",
            "_model_name": "LeafletMapStyleModel",
            "_view_count": null,
            "_view_module": "@jupyter-widgets/base",
            "_view_module_version": "1.2.0",
            "_view_name": "StyleView",
            "cursor": "move"
          }
        },
        "c61444db0cd14d938f8682b64bae9f69": {
          "model_module": "jupyter-leaflet",
          "model_name": "LeafletTileLayerModel",
          "model_module_version": "^0.18",
          "state": {
            "_model_module": "jupyter-leaflet",
            "_model_module_version": "^0.18",
            "_model_name": "LeafletTileLayerModel",
            "_view_count": null,
            "_view_module": "jupyter-leaflet",
            "_view_module_version": "^0.18",
            "_view_name": "LeafletTileLayerView",
            "attribution": "&copy; <a href=\"https://www.openstreetmap.org/copyright\">OpenStreetMap</a> contributors",
            "base": true,
            "bottom": true,
            "bounds": null,
            "detect_retina": false,
            "loading": false,
            "max_native_zoom": null,
            "max_zoom": 19,
            "min_native_zoom": null,
            "min_zoom": 1,
            "name": "OpenStreetMap.Mapnik",
            "no_wrap": false,
            "opacity": 1,
            "options": [
              "attribution",
              "bounds",
              "detect_retina",
              "max_native_zoom",
              "max_zoom",
              "min_native_zoom",
              "min_zoom",
              "no_wrap",
              "tile_size",
              "tms",
              "zoom_offset"
            ],
            "pane": "",
            "popup": null,
            "popup_max_height": null,
            "popup_max_width": 300,
            "popup_min_width": 50,
            "show_loading": false,
            "subitems": [],
            "tile_size": 256,
            "tms": false,
            "url": "https://tile.openstreetmap.org/{z}/{x}/{y}.png",
            "visible": true,
            "zoom_offset": 0
          }
        },
        "190260b839fd464bb3d8e2b89163231d": {
          "model_module": "jupyter-leaflet",
          "model_name": "LeafletTileLayerModel",
          "model_module_version": "^0.18",
          "state": {
            "_model_module": "jupyter-leaflet",
            "_model_module_version": "^0.18",
            "_model_name": "LeafletTileLayerModel",
            "_view_count": null,
            "_view_module": "jupyter-leaflet",
            "_view_module_version": "^0.18",
            "_view_name": "LeafletTileLayerView",
            "attribution": "Google Earth Engine",
            "base": false,
            "bottom": true,
            "bounds": null,
            "detect_retina": false,
            "loading": false,
            "max_native_zoom": null,
            "max_zoom": 24,
            "min_native_zoom": null,
            "min_zoom": 0,
            "name": "landsat7",
            "no_wrap": false,
            "opacity": 1,
            "options": [
              "attribution",
              "bounds",
              "detect_retina",
              "max_native_zoom",
              "max_zoom",
              "min_native_zoom",
              "min_zoom",
              "no_wrap",
              "tile_size",
              "tms",
              "zoom_offset"
            ],
            "pane": "",
            "popup": null,
            "popup_max_height": null,
            "popup_max_width": 300,
            "popup_min_width": 50,
            "show_loading": false,
            "subitems": [],
            "tile_size": 256,
            "tms": false,
            "url": "https://earthengine.googleapis.com/v1/projects/ee-curuai/maps/b3a052655b5b5f1d7a650964678c7917-91ab4666fd2b6aae8c522a5f2fa8a134/tiles/{z}/{x}/{y}",
            "visible": true,
            "zoom_offset": 0
          }
        },
        "a1febe7b7a9b4077bbfe73f12596cd19": {
          "model_module": "jupyter-leaflet",
          "model_name": "LeafletTileLayerModel",
          "model_module_version": "^0.18",
          "state": {
            "_model_module": "jupyter-leaflet",
            "_model_module_version": "^0.18",
            "_model_name": "LeafletTileLayerModel",
            "_view_count": null,
            "_view_module": "jupyter-leaflet",
            "_view_module_version": "^0.18",
            "_view_name": "LeafletTileLayerView",
            "attribution": "Google Earth Engine",
            "base": false,
            "bottom": true,
            "bounds": null,
            "detect_retina": false,
            "loading": false,
            "max_native_zoom": null,
            "max_zoom": 24,
            "min_native_zoom": null,
            "min_zoom": 0,
            "name": "landsat8",
            "no_wrap": false,
            "opacity": 1,
            "options": [
              "attribution",
              "bounds",
              "detect_retina",
              "max_native_zoom",
              "max_zoom",
              "min_native_zoom",
              "min_zoom",
              "no_wrap",
              "tile_size",
              "tms",
              "zoom_offset"
            ],
            "pane": "",
            "popup": null,
            "popup_max_height": null,
            "popup_max_width": 300,
            "popup_min_width": 50,
            "show_loading": false,
            "subitems": [],
            "tile_size": 256,
            "tms": false,
            "url": "https://earthengine.googleapis.com/v1/projects/ee-curuai/maps/e4f6c1a998d5db1f765f4823a7f4b82f-f5b26dbcb1bc4a742b4475d96cc0c7a7/tiles/{z}/{x}/{y}",
            "visible": true,
            "zoom_offset": 0
          }
        },
        "2045b1080c6141408b3baa25fcb69600": {
          "model_module": "jupyter-leaflet",
          "model_name": "LeafletTileLayerModel",
          "model_module_version": "^0.18",
          "state": {
            "_model_module": "jupyter-leaflet",
            "_model_module_version": "^0.18",
            "_model_name": "LeafletTileLayerModel",
            "_view_count": null,
            "_view_module": "jupyter-leaflet",
            "_view_module_version": "^0.18",
            "_view_name": "LeafletTileLayerView",
            "attribution": "Google Earth Engine",
            "base": false,
            "bottom": true,
            "bounds": null,
            "detect_retina": false,
            "loading": false,
            "max_native_zoom": null,
            "max_zoom": 24,
            "min_native_zoom": null,
            "min_zoom": 0,
            "name": "sentinel2",
            "no_wrap": false,
            "opacity": 1,
            "options": [
              "attribution",
              "bounds",
              "detect_retina",
              "max_native_zoom",
              "max_zoom",
              "min_native_zoom",
              "min_zoom",
              "no_wrap",
              "tile_size",
              "tms",
              "zoom_offset"
            ],
            "pane": "",
            "popup": null,
            "popup_max_height": null,
            "popup_max_width": 300,
            "popup_min_width": 50,
            "show_loading": false,
            "subitems": [],
            "tile_size": 256,
            "tms": false,
            "url": "https://earthengine.googleapis.com/v1/projects/ee-curuai/maps/2c3aa6361ce29d4a79e3b41329cb5ce8-df189218ce77be1ca4f3c43aa64d828e/tiles/{z}/{x}/{y}",
            "visible": true,
            "zoom_offset": 0
          }
        },
        "d91aff6b41ab40b99038778a4edcd9e3": {
          "model_module": "jupyter-leaflet",
          "model_name": "LeafletTileLayerModel",
          "model_module_version": "^0.18",
          "state": {
            "_model_module": "jupyter-leaflet",
            "_model_module_version": "^0.18",
            "_model_name": "LeafletTileLayerModel",
            "_view_count": null,
            "_view_module": "jupyter-leaflet",
            "_view_module_version": "^0.18",
            "_view_name": "LeafletTileLayerView",
            "attribution": "Google Earth Engine",
            "base": false,
            "bottom": true,
            "bounds": null,
            "detect_retina": false,
            "loading": false,
            "max_native_zoom": null,
            "max_zoom": 24,
            "min_native_zoom": null,
            "min_zoom": 0,
            "name": "Data Points",
            "no_wrap": false,
            "opacity": 1,
            "options": [
              "attribution",
              "bounds",
              "detect_retina",
              "max_native_zoom",
              "max_zoom",
              "min_native_zoom",
              "min_zoom",
              "no_wrap",
              "tile_size",
              "tms",
              "zoom_offset"
            ],
            "pane": "",
            "popup": null,
            "popup_max_height": null,
            "popup_max_width": 300,
            "popup_min_width": 50,
            "show_loading": false,
            "subitems": [],
            "tile_size": 256,
            "tms": false,
            "url": "https://earthengine.googleapis.com/v1/projects/ee-curuai/maps/7ceee4c3d8bb30d0f70682dfd68bf06b-b022c98564d8649e750f8458e8931fe2/tiles/{z}/{x}/{y}",
            "visible": true,
            "zoom_offset": 0
          }
        },
        "fa382beebf5c4cfea80de8e394aa9be7": {
          "model_module": "@jupyter-widgets/base",
          "model_name": "LayoutModel",
          "model_module_version": "1.2.0",
          "state": {
            "_model_module": "@jupyter-widgets/base",
            "_model_module_version": "1.2.0",
            "_model_name": "LayoutModel",
            "_view_count": null,
            "_view_module": "@jupyter-widgets/base",
            "_view_module_version": "1.2.0",
            "_view_name": "LayoutView",
            "align_content": null,
            "align_items": null,
            "align_self": null,
            "border": null,
            "bottom": null,
            "display": null,
            "flex": null,
            "flex_flow": null,
            "grid_area": null,
            "grid_auto_columns": null,
            "grid_auto_flow": null,
            "grid_auto_rows": null,
            "grid_column": null,
            "grid_gap": null,
            "grid_row": null,
            "grid_template_areas": null,
            "grid_template_columns": null,
            "grid_template_rows": null,
            "height": "600px",
            "justify_content": null,
            "justify_items": null,
            "left": null,
            "margin": null,
            "max_height": null,
            "max_width": null,
            "min_height": null,
            "min_width": null,
            "object_fit": null,
            "object_position": null,
            "order": null,
            "overflow": null,
            "overflow_x": null,
            "overflow_y": null,
            "padding": null,
            "right": null,
            "top": null,
            "visibility": null,
            "width": null
          }
        },
        "425ba8c60f784f35934c541af3691814": {
          "model_module": "jupyter-leaflet",
          "model_name": "LeafletMapStyleModel",
          "model_module_version": "^0.18",
          "state": {
            "_model_module": "jupyter-leaflet",
            "_model_module_version": "^0.18",
            "_model_name": "LeafletMapStyleModel",
            "_view_count": null,
            "_view_module": "@jupyter-widgets/base",
            "_view_module_version": "1.2.0",
            "_view_name": "StyleView",
            "cursor": "grab"
          }
        },
        "e4c5eaa0d5d849319a8330b03543f042": {
          "model_module": "@jupyter-widgets/controls",
          "model_name": "HBoxModel",
          "model_module_version": "1.5.0",
          "state": {
            "_dom_classes": [
              "geemap-colab"
            ],
            "_model_module": "@jupyter-widgets/controls",
            "_model_module_version": "1.5.0",
            "_model_name": "HBoxModel",
            "_view_count": null,
            "_view_module": "@jupyter-widgets/controls",
            "_view_module_version": "1.5.0",
            "_view_name": "HBoxView",
            "box_style": "",
            "children": [
              "IPY_MODEL_d69d79125bec4d349a1f742cbde4e587"
            ],
            "layout": "IPY_MODEL_669b48f0311d462cb7d978ac7bde978b"
          }
        },
        "1ffe9b0f7ae64638927ad1fee20ca52b": {
          "model_module": "@jupyter-widgets/controls",
          "model_name": "VBoxModel",
          "model_module_version": "1.5.0",
          "state": {
            "_dom_classes": [
              "geemap-colab"
            ],
            "_model_module": "@jupyter-widgets/controls",
            "_model_module_version": "1.5.0",
            "_model_name": "VBoxModel",
            "_view_count": null,
            "_view_module": "@jupyter-widgets/controls",
            "_view_module_version": "1.5.0",
            "_view_name": "VBoxView",
            "box_style": "",
            "children": [
              "IPY_MODEL_c2eef2b4fb90401a9eac4b1fa0bef2df"
            ],
            "layout": "IPY_MODEL_0aff773bf42f48928c69f49a50a616da"
          }
        },
        "d69d79125bec4d349a1f742cbde4e587": {
          "model_module": "@jupyter-widgets/controls",
          "model_name": "ToggleButtonModel",
          "model_module_version": "1.5.0",
          "state": {
            "_dom_classes": [],
            "_model_module": "@jupyter-widgets/controls",
            "_model_module_version": "1.5.0",
            "_model_name": "ToggleButtonModel",
            "_view_count": null,
            "_view_module": "@jupyter-widgets/controls",
            "_view_module_version": "1.5.0",
            "_view_name": "ToggleButtonView",
            "button_style": "",
            "description": "",
            "description_tooltip": null,
            "disabled": false,
            "icon": "globe",
            "layout": "IPY_MODEL_e1613fff21a846818fe9d97380adef47",
            "style": "IPY_MODEL_ef1c679ba7da4678b659c19908785e05",
            "tooltip": "Search location/data",
            "value": false
          }
        },
        "669b48f0311d462cb7d978ac7bde978b": {
          "model_module": "@jupyter-widgets/base",
          "model_name": "LayoutModel",
          "model_module_version": "1.2.0",
          "state": {
            "_model_module": "@jupyter-widgets/base",
            "_model_module_version": "1.2.0",
            "_model_name": "LayoutModel",
            "_view_count": null,
            "_view_module": "@jupyter-widgets/base",
            "_view_module_version": "1.2.0",
            "_view_name": "LayoutView",
            "align_content": null,
            "align_items": null,
            "align_self": null,
            "border": null,
            "bottom": null,
            "display": null,
            "flex": null,
            "flex_flow": null,
            "grid_area": null,
            "grid_auto_columns": null,
            "grid_auto_flow": null,
            "grid_auto_rows": null,
            "grid_column": null,
            "grid_gap": null,
            "grid_row": null,
            "grid_template_areas": null,
            "grid_template_columns": null,
            "grid_template_rows": null,
            "height": null,
            "justify_content": null,
            "justify_items": null,
            "left": null,
            "margin": null,
            "max_height": null,
            "max_width": null,
            "min_height": null,
            "min_width": null,
            "object_fit": null,
            "object_position": null,
            "order": null,
            "overflow": null,
            "overflow_x": null,
            "overflow_y": null,
            "padding": null,
            "right": null,
            "top": null,
            "visibility": null,
            "width": null
          }
        },
        "c2eef2b4fb90401a9eac4b1fa0bef2df": {
          "model_module": "@jupyter-widgets/controls",
          "model_name": "ToggleButtonModel",
          "model_module_version": "1.5.0",
          "state": {
            "_dom_classes": [],
            "_model_module": "@jupyter-widgets/controls",
            "_model_module_version": "1.5.0",
            "_model_name": "ToggleButtonModel",
            "_view_count": null,
            "_view_module": "@jupyter-widgets/controls",
            "_view_module_version": "1.5.0",
            "_view_name": "ToggleButtonView",
            "button_style": "",
            "description": "",
            "description_tooltip": null,
            "disabled": false,
            "icon": "wrench",
            "layout": "IPY_MODEL_4c71726e62ed46d78086f57cc6d4b797",
            "style": "IPY_MODEL_8447cfa3f6d84a089383a06ef02d0bff",
            "tooltip": "Toolbar",
            "value": false
          }
        },
        "0aff773bf42f48928c69f49a50a616da": {
          "model_module": "@jupyter-widgets/base",
          "model_name": "LayoutModel",
          "model_module_version": "1.2.0",
          "state": {
            "_model_module": "@jupyter-widgets/base",
            "_model_module_version": "1.2.0",
            "_model_name": "LayoutModel",
            "_view_count": null,
            "_view_module": "@jupyter-widgets/base",
            "_view_module_version": "1.2.0",
            "_view_name": "LayoutView",
            "align_content": null,
            "align_items": null,
            "align_self": null,
            "border": null,
            "bottom": null,
            "display": null,
            "flex": null,
            "flex_flow": null,
            "grid_area": null,
            "grid_auto_columns": null,
            "grid_auto_flow": null,
            "grid_auto_rows": null,
            "grid_column": null,
            "grid_gap": null,
            "grid_row": null,
            "grid_template_areas": null,
            "grid_template_columns": null,
            "grid_template_rows": null,
            "height": null,
            "justify_content": null,
            "justify_items": null,
            "left": null,
            "margin": null,
            "max_height": null,
            "max_width": null,
            "min_height": null,
            "min_width": null,
            "object_fit": null,
            "object_position": null,
            "order": null,
            "overflow": null,
            "overflow_x": null,
            "overflow_y": null,
            "padding": null,
            "right": null,
            "top": null,
            "visibility": null,
            "width": null
          }
        },
        "e1613fff21a846818fe9d97380adef47": {
          "model_module": "@jupyter-widgets/base",
          "model_name": "LayoutModel",
          "model_module_version": "1.2.0",
          "state": {
            "_model_module": "@jupyter-widgets/base",
            "_model_module_version": "1.2.0",
            "_model_name": "LayoutModel",
            "_view_count": null,
            "_view_module": "@jupyter-widgets/base",
            "_view_module_version": "1.2.0",
            "_view_name": "LayoutView",
            "align_content": null,
            "align_items": null,
            "align_self": null,
            "border": null,
            "bottom": null,
            "display": null,
            "flex": null,
            "flex_flow": null,
            "grid_area": null,
            "grid_auto_columns": null,
            "grid_auto_flow": null,
            "grid_auto_rows": null,
            "grid_column": null,
            "grid_gap": null,
            "grid_row": null,
            "grid_template_areas": null,
            "grid_template_columns": null,
            "grid_template_rows": null,
            "height": "28px",
            "justify_content": null,
            "justify_items": null,
            "left": null,
            "margin": null,
            "max_height": null,
            "max_width": null,
            "min_height": null,
            "min_width": null,
            "object_fit": null,
            "object_position": null,
            "order": null,
            "overflow": null,
            "overflow_x": null,
            "overflow_y": null,
            "padding": "0px 0px 0px 4px",
            "right": null,
            "top": null,
            "visibility": null,
            "width": "28px"
          }
        },
        "ef1c679ba7da4678b659c19908785e05": {
          "model_module": "@jupyter-widgets/controls",
          "model_name": "DescriptionStyleModel",
          "model_module_version": "1.5.0",
          "state": {
            "_model_module": "@jupyter-widgets/controls",
            "_model_module_version": "1.5.0",
            "_model_name": "DescriptionStyleModel",
            "_view_count": null,
            "_view_module": "@jupyter-widgets/base",
            "_view_module_version": "1.2.0",
            "_view_name": "StyleView",
            "description_width": ""
          }
        },
        "4c71726e62ed46d78086f57cc6d4b797": {
          "model_module": "@jupyter-widgets/base",
          "model_name": "LayoutModel",
          "model_module_version": "1.2.0",
          "state": {
            "_model_module": "@jupyter-widgets/base",
            "_model_module_version": "1.2.0",
            "_model_name": "LayoutModel",
            "_view_count": null,
            "_view_module": "@jupyter-widgets/base",
            "_view_module_version": "1.2.0",
            "_view_name": "LayoutView",
            "align_content": null,
            "align_items": null,
            "align_self": null,
            "border": null,
            "bottom": null,
            "display": null,
            "flex": null,
            "flex_flow": null,
            "grid_area": null,
            "grid_auto_columns": null,
            "grid_auto_flow": null,
            "grid_auto_rows": null,
            "grid_column": null,
            "grid_gap": null,
            "grid_row": null,
            "grid_template_areas": null,
            "grid_template_columns": null,
            "grid_template_rows": null,
            "height": "28px",
            "justify_content": null,
            "justify_items": null,
            "left": null,
            "margin": null,
            "max_height": null,
            "max_width": null,
            "min_height": null,
            "min_width": null,
            "object_fit": null,
            "object_position": null,
            "order": null,
            "overflow": null,
            "overflow_x": null,
            "overflow_y": null,
            "padding": "0px 0px 0px 4px",
            "right": null,
            "top": null,
            "visibility": null,
            "width": "28px"
          }
        },
        "8447cfa3f6d84a089383a06ef02d0bff": {
          "model_module": "@jupyter-widgets/controls",
          "model_name": "DescriptionStyleModel",
          "model_module_version": "1.5.0",
          "state": {
            "_model_module": "@jupyter-widgets/controls",
            "_model_module_version": "1.5.0",
            "_model_name": "DescriptionStyleModel",
            "_view_count": null,
            "_view_module": "@jupyter-widgets/base",
            "_view_module_version": "1.2.0",
            "_view_name": "StyleView",
            "description_width": ""
          }
        }
      }
    }
  },
  "nbformat": 4,
  "nbformat_minor": 0
}