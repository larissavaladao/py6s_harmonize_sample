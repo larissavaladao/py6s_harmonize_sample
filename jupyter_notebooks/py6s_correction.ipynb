{
 "cells": [
  {
   "cell_type": "markdown",
   "metadata": {},
   "source": [
    "# Import packages"
   ]
  },
  {
   "cell_type": "code",
   "execution_count": null,
   "metadata": {},
   "outputs": [],
   "source": [
    "#update earth engine if necessary\n",
    "# !pip install earthengine-api --upgrade"
   ]
  },
  {
   "cell_type": "code",
   "execution_count": null,
   "metadata": {},
   "outputs": [
    {
     "data": {
      "text/html": [
       "<p>To authorize access needed by Earth Engine, open the following\n",
       "        URL in a web browser and follow the instructions:</p>\n",
       "        <p><a href=https://code.earthengine.google.com/client-auth?scopes=https%3A//www.googleapis.com/auth/earthengine%20https%3A//www.googleapis.com/auth/devstorage.full_control&request_id=M2iLyMgm06MJxN08xC_-MMbQs2DOJ0l9FgSP18AOoR0&tc=NYfO2s-muF59dB7E0G8fyVyOQ5Ni-p9cByb25W0LBAw&cc=oiyjIFbjUsxFxMDwDWmemq4NuR0bJG-neV4UPDUUQrs>https://code.earthengine.google.com/client-auth?scopes=https%3A//www.googleapis.com/auth/earthengine%20https%3A//www.googleapis.com/auth/devstorage.full_control&request_id=M2iLyMgm06MJxN08xC_-MMbQs2DOJ0l9FgSP18AOoR0&tc=NYfO2s-muF59dB7E0G8fyVyOQ5Ni-p9cByb25W0LBAw&cc=oiyjIFbjUsxFxMDwDWmemq4NuR0bJG-neV4UPDUUQrs</a></p>\n",
       "        <p>The authorization workflow will generate a code, which you should paste in the box below.</p>\n",
       "        "
      ],
      "text/plain": [
       "<IPython.core.display.HTML object>"
      ]
     },
     "metadata": {},
     "output_type": "display_data"
    },
    {
     "name": "stdout",
     "output_type": "stream",
     "text": [
      "Enter verification code: 4/1AfJohXnWTZFRf0Pd6RUYKQktR161BlNByuk9m0Aw7mFYJGoCWwYS_UV6orU\n",
      "\n",
      "Successfully saved authorization token.\n"
     ]
    }
   ],
   "source": [
    "#import all necessary packages\n",
    "import ee\n",
    "from Py6S import *\n",
    "import datetime\n",
    "import math\n",
    "import os\n",
    "import sys\n",
    "sys.path.append(os.path.join(os.path.dirname(os.getcwd()),'bin'))\n",
    "from atmospheric import Atmospheric\n",
    "\n",
    "ee.Authenticate()\n",
    "ee.Initialize(project='ee-curuai') #change project name here"
   ]
  },
  {
   "cell_type": "code",
   "execution_count": null,
   "metadata": {},
   "outputs": [],
   "source": [
    "#function to insert a property with date of the point - Gee date format\n",
    "def insert_date (feat):\n",
    "    return feat.set('system:time_start',ee.Date.parse('YYYY-MM-dd HH:mm:ss',feat.get('DATE')))"
   ]
  },
  {
   "cell_type": "code",
   "execution_count": null,
   "metadata": {},
   "outputs": [],
   "source": [
    "#define the mission number\n",
    "mission = 'I'\n",
    "n = 1"
   ]
  },
  {
   "cell_type": "code",
   "execution_count": null,
   "metadata": {},
   "outputs": [],
   "source": [
    "#filter database by mission and insert a date to the points used\n",
    "dados =ee.FeatureCollection('projects/ee-curuai/assets/curuai_points').filter(ee.Filter.eq('MISSION',mission)).map(insert_date)\n",
    "print(dados.getInfo())"
   ]
  },
  {
   "cell_type": "code",
   "execution_count": null,
   "metadata": {},
   "outputs": [],
   "source": [
    "#set the geometry roi\n",
    "region = dados.geometry() \n",
    "geom = region"
   ]
  },
  {
   "cell_type": "code",
   "execution_count": null,
   "metadata": {},
   "outputs": [],
   "source": [
    "# get the first and last dates os sample collection in the mission and extend the range by 16 days (Landsat interval between images)\n",
    "startDate = ee.Date(dados.sort('system:time_start').first().get('system:time_start')).advance(-16, 'day')\n",
    "endDate = ee.Date(dados.sort('system:time_start',False).first().get('system:time_start')).advance(16, 'day')\n",
    "\n",
    "print('Data inicial de coleta: ',startDate.format().getInfo())\n",
    "print('Data final de coleta: ',endDate.format().getInfo())"
   ]
  },
  {
   "cell_type": "code",
   "execution_count": null,
   "metadata": {},
   "outputs": [],
   "source": [
    "#define a maximum cloud cover of 90% \n",
    "max_cloud_cover = 90"
   ]
  },
  {
   "cell_type": "markdown",
   "metadata": {},
   "source": [
    "# Register images function"
   ]
  },
  {
   "cell_type": "code",
   "execution_count": null,
   "metadata": {},
   "outputs": [],
   "source": [
    "def register_images(imgToregister):\n",
    "    #reference images are Sentinel 2 of orbit T21MXT for displacing Landsat 7 and 8 of orbit 228061 and 228062\n",
    "    #reference images are Sentinel 2 of orbit T21MYT for displacing Landsat 7 and 8 of orbit 227062 \n",
    "    ref = ee.Algorithms.If(ee.Algorithms.IsEqual(imgToregister.getNumber('WRS_PATH'), 227),\n",
    "                           ee.Image(\"COPERNICUS/S2_HARMONIZED/20160405T141300_20160408T012329_T21MYT\"), #change the refence images here\n",
    "                                            ee.Image(\"COPERNICUS/S2_HARMONIZED/20160405T141300_20160408T012329_T21MXT\")) #change the refence images here\n",
    "        \n",
    "    #Use bicubic resampling during registration.\n",
    "    refrig = ee.Image(ref).resample('bicubic')\n",
    "    imgToregisterrig = imgToregister.resample('bicubic')\n",
    "    \n",
    "    #Choose to register using only the Red band.\n",
    "    refRedBand = refrig.select('B4')\n",
    "    imgToregisterRedBand = imgToregisterrig.select('B4')\n",
    "    \n",
    "    #Determine the displacement by matching only the 'R' bands.\n",
    "    displacement = imgToregisterRedBand.displacement(**{\n",
    "        'referenceImage': refRedBand,\n",
    "        'maxOffset': 50.0,\n",
    "    })\n",
    "    #Use the computed displacement to register all original bands.\n",
    "    registered = imgToregisterrig.displace(displacement)\n",
    "    \n",
    "    return registered"
   ]
  },
  {
   "cell_type": "markdown",
   "metadata": {},
   "source": [
    "# Py6S atm Correction"
   ]
  },
  {
   "cell_type": "markdown",
   "metadata": {},
   "source": [
    "## Landsat 7"
   ]
  },
  {
   "cell_type": "code",
   "execution_count": null,
   "metadata": {},
   "outputs": [],
   "source": [
    "def ld7_corr(img):\n",
    "    img = ee.Image(img)\n",
    "    info = img.getInfo()['properties']\n",
    "    scene_date = datetime.datetime.utcfromtimestamp(info['system:time_start']/1000)\n",
    "    solar_elv = img.getInfo()['properties']['SUN_ELEVATION']\n",
    "    solar_z = ee.Number(90).subtract(solar_elv).getInfo()\n",
    "    h2o = Atmospheric.water(geom,img.date()).getInfo()\n",
    "    o3 = Atmospheric.ozone(geom,img.date()).getInfo()\n",
    "    aot = Atmospheric.aerosol(geom,img.date()).getInfo()\n",
    "    SRTM = ee.Image('CGIAR/SRTM90_V4')# Shuttle Radar Topography mission covers *most* of the Earth\n",
    "    alt = SRTM.reduceRegion(reducer = ee.Reducer.mean(),geometry = geom.centroid()).get('elevation').getInfo()\n",
    "    km = alt/1000 # i.e. Py6S uses units of kilometers\n",
    "    # Instantiate\n",
    "    s = SixS()\n",
    "    # Atmospheric constituents\n",
    "    s.atmos_profile = AtmosProfile.UserWaterAndOzone(h2o,o3)\n",
    "    s.aero_profile = AeroProfile.Continental\n",
    "    s.aot550 = aot\n",
    "    # Earth-Sun-satellite geometry\n",
    "    s.geometry = Geometry.User()\n",
    "    s.geometry.view_z = 0               # always NADIR (I think..)\n",
    "    #s.geometry.solar_z = solar_z        # solar zenith angle\n",
    "    s.geometry.solar_z = solar_z # solar zenith angle\n",
    "    s.geometry.month = scene_date.month # month and day used for Earth-Sun distance\n",
    "    s.geometry.day = scene_date.day     # month and day used for Earth-Sun distance\n",
    "    s.altitudes.set_sensor_satellite_level()\n",
    "    s.altitudes.set_target_custom_altitude(km)\n",
    "    #Mission specific for atmospheric correction\n",
    "    #https://github.com/samsammurphy/ee-atmcorr-timeseries/blob/master/atmcorr/mission_specifics.py\n",
    "    def spectralResponseFunction(bandname):        \n",
    "        bandSelect = {\n",
    "            'B1':PredefinedWavelengths.LANDSAT_ETM_B1,\n",
    "            'B2':PredefinedWavelengths.LANDSAT_ETM_B2,\n",
    "            'B3':PredefinedWavelengths.LANDSAT_ETM_B3,\n",
    "            'B4':PredefinedWavelengths.LANDSAT_ETM_B4,\n",
    "            'B5':PredefinedWavelengths.LANDSAT_ETM_B5,\n",
    "            'B7':PredefinedWavelengths.LANDSAT_ETM_B7,\n",
    "                    }\n",
    "        return Wavelength(bandSelect[bandname])\n",
    "    def toa_to_rad(bandname):\n",
    "        ESUN_L7 = [1997, 1812, 1533, 1039, 230.8, 84.9] # PAN =  1362 (removed to match Py6S)\n",
    "        ESUN_BAND = {\n",
    "            'B1':ESUN_L7[0],\n",
    "            'B2':ESUN_L7[1],\n",
    "            'B3':ESUN_L7[2],\n",
    "            'B4':ESUN_L7[3],\n",
    "            'B5':ESUN_L7[4],            \n",
    "            'B7':ESUN_L7[5],\n",
    "           }\n",
    "        solar_angle_correction = math.cos(math.radians(solar_z))\n",
    "        # Earth-Sun distance (from day of year)\n",
    "        doy = scene_date.timetuple().tm_yday\n",
    "        d = 1 - 0.01672 * math.cos(0.9856 * (doy-4))# http://physics.stackexchange.com/questions/177949/earth-sun-distance-on-a-given-day-of-the-year\n",
    "        # conversion factor\n",
    "        multiplier = ESUN_BAND[bandname]*solar_angle_correction/(math.pi*d**2)\n",
    "        # at-sensor radiance\n",
    "        rad = img.select(bandname).multiply(multiplier)\n",
    "        return rad\n",
    "    def surface_reflectance(bandname):\n",
    "        # run 6S for this waveband\n",
    "        s.wavelength = spectralResponseFunction(bandname)\n",
    "        s.run()\n",
    "\n",
    "        # extract 6S outputs\n",
    "        Edir = s.outputs.direct_solar_irradiance             #direct solar irradiance\n",
    "        Edif = s.outputs.diffuse_solar_irradiance            #diffuse solar irradiance\n",
    "        Lp   = s.outputs.atmospheric_intrinsic_radiance      #path radiance\n",
    "        absorb  = s.outputs.trans['global_gas'].upward       #absorption transmissivity\n",
    "        scatter = s.outputs.trans['total_scattering'].upward #scattering transmissivity\n",
    "        tau2 = absorb*scatter                                #total transmissivity\n",
    "\n",
    "        # radiance to surface reflectance\n",
    "        rad = toa_to_rad(bandname)\n",
    "        ref = rad.subtract(Lp).multiply(math.pi).divide(tau2*(Edir+Edif))\n",
    "        return ref\n",
    "    \n",
    "    \n",
    "    blue = ee.Image(surface_reflectance('B1'))\n",
    "    green = ee.Image(surface_reflectance('B2'))\n",
    "    red = ee.Image(surface_reflectance('B3'))\n",
    "    nir = ee.Image(surface_reflectance('B4'))\n",
    "    swir1 = ee.Image(surface_reflectance('B5'))\n",
    "    swir2 = ee.Image(surface_reflectance('B7'))\n",
    "    \n",
    "    ref = img.select('QA_PIXEL').addBands(blue).addBands(green).addBands(red).addBands(nir).addBands(swir1).addBands(swir2)\n",
    "    \n",
    "    dateString = scene_date.strftime(\"%Y-%m-%d\")\n",
    "    ref = ref.copyProperties(img).set({              \n",
    "                  'AC_date':dateString,\n",
    "                  'AC_aerosol_optical_thickness':aot,\n",
    "                  'AC_water_vapour':h2o,\n",
    "                  'AC_version':'py6S',\n",
    "                  'AC_ozone':o3,\n",
    "                  'MISSION':mission})#change properties to set here\n",
    "    \n",
    "\n",
    "    # define YOUR assetID \n",
    "    # export\n",
    "\n",
    "    fname = ee.String(img.get('system:index')).getInfo()\n",
    "    export = ee.batch.Export.image.toAsset(\\\n",
    "        image=ee.Image(ref),\n",
    "        description= 'L7_BOA_'+fname,\n",
    "        assetId = 'projects/ee-curuai/assets/Py6S/mission'+str(n)+'/'+'BOA_'+fname,#change the properties to add in images here\n",
    "        region = region.buffer(50).bounds(),\n",
    "        scale = 30,\n",
    "        maxPixels = 1e13)\n",
    "\n",
    "    # # uncomment to run the export\n",
    "    export.start()\n",
    "    print('exporting ' +fname + '--->done')\n",
    "    return ref"
   ]
  },
  {
   "cell_type": "code",
   "execution_count": null,
   "metadata": {},
   "outputs": [],
   "source": [
    "#filter collection by data, roi and maximum cloud cover. Then apply registering function\n",
    "L7_col = ee.ImageCollection(\"LANDSAT/LE07/C02/T1_TOA\")\\\n",
    "            .filterBounds(region).filterDate(startDate,endDate)\\\n",
    "            .filter(ee.Filter.lt('CLOUD_COVER',max_cloud_cover))\\\n",
    "            .map(register_images)"
   ]
  },
  {
   "cell_type": "code",
   "execution_count": null,
   "metadata": {},
   "outputs": [
    {
     "name": "stdout",
     "output_type": "stream",
     "text": [
      "25\n"
     ]
    }
   ],
   "source": [
    "print(L7_col.size().getInfo())"
   ]
  },
  {
   "cell_type": "code",
   "execution_count": null,
   "metadata": {},
   "outputs": [],
   "source": [
    "col_length = L7_col.size().getInfo()\n",
    "#print(col_length)\n",
    "\n",
    "for i in range(0,col_length):\n",
    "    #print(i)\n",
    "    list = L7_col.toList(col_length)\n",
    "    img = ee.Image(list.get(i))\n",
    "    ld7_corr(img)"
   ]
  },
  {
   "cell_type": "markdown",
   "metadata": {},
   "source": [
    "## Landsat 8"
   ]
  },
  {
   "cell_type": "code",
   "execution_count": null,
   "metadata": {
    "collapsed": true
   },
   "outputs": [],
   "source": [
    "def ld8_corr(img):\n",
    "    img = ee.Image(img)\n",
    "    info = img.getInfo()['properties']\n",
    "    scene_date = datetime.datetime.utcfromtimestamp(info['system:time_start']/1000)\n",
    "    solar_elv = img.getInfo()['properties']['SUN_ELEVATION']\n",
    "    solar_z = ee.Number(90).subtract(solar_elv).getInfo()\n",
    "    h2o = Atmospheric.water(geom,img.date()).getInfo()\n",
    "    o3 = Atmospheric.ozone(geom,img.date()).getInfo()\n",
    "    aot = Atmospheric.aerosol(geom,img.date()).getInfo()\n",
    "    SRTM = ee.Image('CGIAR/SRTM90_V4')# Shuttle Radar Topography mission covers *most* of the Earth\n",
    "    alt = SRTM.reduceRegion(reducer = ee.Reducer.mean(),geometry = geom.centroid()).get('elevation').getInfo()\n",
    "    km = alt/1000 # i.e. Py6S uses units of kilometers\n",
    "    # Instantiate\n",
    "    s = SixS()\n",
    "    # Atmospheric constituents\n",
    "    s.atmos_profile = AtmosProfile.UserWaterAndOzone(h2o,o3)\n",
    "    s.aero_profile = AeroProfile.Continental\n",
    "    s.aot550 = aot\n",
    "    # Earth-Sun-satellite geometry\n",
    "    s.geometry = Geometry.User()\n",
    "    s.geometry.view_z = 0               # always NADIR (I think..)\n",
    "    #s.geometry.solar_z = solar_z        # solar zenith angle\n",
    "    s.geometry.solar_z = solar_z # solar zenith angle\n",
    "    s.geometry.month = scene_date.month # month and day used for Earth-Sun distance\n",
    "    s.geometry.day = scene_date.day     # month and day used for Earth-Sun distance\n",
    "    s.altitudes.set_sensor_satellite_level()\n",
    "    s.altitudes.set_target_custom_altitude(km)\n",
    "    def spectralResponseFunction(bandname):        \n",
    "        bandSelect = {\n",
    "            'B1':PredefinedWavelengths.LANDSAT_OLI_B1,\n",
    "            'B2':PredefinedWavelengths.LANDSAT_OLI_B2,\n",
    "            'B3':PredefinedWavelengths.LANDSAT_OLI_B3,\n",
    "            'B4':PredefinedWavelengths.LANDSAT_OLI_B4,\n",
    "            'B5':PredefinedWavelengths.LANDSAT_OLI_B5,\n",
    "            'B6':PredefinedWavelengths.LANDSAT_OLI_B6,\n",
    "            'B7':PredefinedWavelengths.LANDSAT_OLI_B7,\n",
    "            'B8':PredefinedWavelengths.LANDSAT_OLI_B8,\n",
    "            'B9':PredefinedWavelengths.LANDSAT_OLI_B9,\n",
    "                    }\n",
    "        return Wavelength(bandSelect[bandname])\n",
    "    def toa_to_rad(bandname):\n",
    "        ESUN_L8 = [1895.33, 2004.57, 1820.75, 1549.49, 951.76, 247.55, 85.46, 1723.8, 366.97]\n",
    "        ESUN_BAND = {\n",
    "            'B1':ESUN_L8[0],\n",
    "            'B2':ESUN_L8[1],\n",
    "            'B3':ESUN_L8[2],\n",
    "            'B4':ESUN_L8[3],\n",
    "            'B5':ESUN_L8[4],\n",
    "            'B6':ESUN_L8[5],\n",
    "            'B7':ESUN_L8[6],\n",
    "            'B8':ESUN_L8[7],\n",
    "            'B9':ESUN_L8[8],\n",
    "            }\n",
    "        solar_angle_correction = math.cos(math.radians(solar_z))\n",
    "        # Earth-Sun distance (from day of year)\n",
    "        doy = scene_date.timetuple().tm_yday\n",
    "        d = 1 - 0.01672 * math.cos(0.9856 * (doy-4))# http://physics.stackexchange.com/questions/177949/earth-sun-distance-on-a-given-day-of-the-year\n",
    "        # conversion factor\n",
    "        multiplier = ESUN_BAND[bandname]*solar_angle_correction/(math.pi*d**2)\n",
    "        # at-sensor radiance\n",
    "        rad = img.select(bandname).multiply(multiplier)\n",
    "        return rad\n",
    "    def surface_reflectance(bandname):\n",
    "        # run 6S for this waveband\n",
    "        s.wavelength = spectralResponseFunction(bandname)\n",
    "        s.run()\n",
    "\n",
    "        # extract 6S outputs\n",
    "        Edir = s.outputs.direct_solar_irradiance             #direct solar irradiance\n",
    "        Edif = s.outputs.diffuse_solar_irradiance            #diffuse solar irradiance\n",
    "        Lp   = s.outputs.atmospheric_intrinsic_radiance      #path radiance\n",
    "        absorb  = s.outputs.trans['global_gas'].upward       #absorption transmissivity\n",
    "        scatter = s.outputs.trans['total_scattering'].upward #scattering transmissivity\n",
    "        tau2 = absorb*scatter                                #total transmissivity\n",
    "\n",
    "        # radiance to surface reflectance\n",
    "        rad = toa_to_rad(bandname)\n",
    "        ref = rad.subtract(Lp).multiply(math.pi).divide(tau2*(Edir+Edif))\n",
    "        return ref\n",
    "    \n",
    "    ca  = surface_reflectance('B1')\n",
    "    blue = surface_reflectance('B2')\n",
    "    green = surface_reflectance('B3')\n",
    "    red = surface_reflectance('B4')\n",
    "    nir = surface_reflectance('B5')\n",
    "    swir1 = surface_reflectance('B6')\n",
    "    swir2 = surface_reflectance('B7')\n",
    "    \n",
    "    ref = img.select('QA_PIXEL').addBands(ca).addBands(blue).addBands(green).addBands(red).addBands(nir).addBands(swir1).addBands(swir2)\n",
    "    \n",
    "    dateString = scene_date.strftime(\"%Y-%m-%d\")\n",
    "    ref = ref.copyProperties(img).set({              \n",
    "                  'AC_date':dateString,\n",
    "                  'AC_aerosol_optical_thickness':aot,\n",
    "                  'AC_water_vapour':h2o,\n",
    "                  'AC_version':'py6S',\n",
    "                  'AC_ozone':o3,\n",
    "                  'MISSION':mission})#change the properties to add in images here\n",
    "    \n",
    "\n",
    "    \n",
    "    fname = ee.String(img.get('system:index')).getInfo()\n",
    "    export = ee.batch.Export.image.toAsset(\\\n",
    "        image=ee.Image(ref),\n",
    "        description= 'L8_BOA_'+fname,\n",
    "        assetId = 'projects/ee-curuai/assets/Py6S/mission'+str(n)+'/'+'BOA_'+fname, #change exporting path here\n",
    "        region = region.buffer(50).bounds(),\n",
    "        scale = 30,\n",
    "        maxPixels = 1e13)\n",
    "\n",
    "    # # uncomment to run the export\n",
    "    export.start()\n",
    "    print('exporting ' +fname + '--->done')\n",
    "    return ref"
   ]
  },
  {
   "cell_type": "code",
   "execution_count": null,
   "metadata": {},
   "outputs": [],
   "source": [
    "#filter collection by data, roi and maximum cloud cover. Then apply registering function\n",
    "L8_col = ee.ImageCollection(\"LANDSAT/LC08/C02/T1_TOA\")\\\n",
    "            .filterBounds(region).filterDate(startDate,endDate)\\\n",
    "            .filter(ee.Filter.lt('CLOUD_COVER',max_cloud_cover))\\\n",
    "            .map(register_images)"
   ]
  },
  {
   "cell_type": "code",
   "execution_count": null,
   "metadata": {},
   "outputs": [],
   "source": [
    "print(L8_col.size().getInfo())"
   ]
  },
  {
   "cell_type": "code",
   "execution_count": null,
   "metadata": {},
   "outputs": [],
   "source": [
    "col_length = L8_col.size().getInfo()\n",
    "#print(col_length)\n",
    "\n",
    "for i in range(0,col_length):\n",
    "    #print(i)\n",
    "    list = L8_col.toList(col_length)\n",
    "    img = ee.Image(list.get(i))\n",
    "    ld8_corr(img)"
   ]
  },
  {
   "cell_type": "markdown",
   "metadata": {},
   "source": [
    "## Sentinel 2"
   ]
  },
  {
   "cell_type": "code",
   "execution_count": null,
   "metadata": {},
   "outputs": [],
   "source": [
    "def s2_corr(img):\n",
    "    img = ee.Image(img)\n",
    "    info = img.getInfo()['properties']\n",
    "    scene_date = datetime.datetime.utcfromtimestamp(info['system:time_start']/1000)\n",
    "    solar_z = img.getInfo()['properties']['MEAN_SOLAR_ZENITH_ANGLE']\n",
    "    h2o = Atmospheric.water(geom,img.date()).getInfo()\n",
    "    o3 = Atmospheric.ozone(geom,img.date()).getInfo()\n",
    "    aot = Atmospheric.aerosol(geom,img.date()).getInfo()\n",
    "    SRTM = ee.Image('CGIAR/SRTM90_V4')# Shuttle Radar Topography mission covers *most* of the Earth\n",
    "    alt = SRTM.reduceRegion(reducer = ee.Reducer.mean(),geometry = geom.centroid()).get('elevation').getInfo()\n",
    "    km = alt/1000 # i.e. Py6S uses units of kilometers\n",
    "    # Instantiate\n",
    "    s = SixS()\n",
    "    # Atmospheric constituents\n",
    "    s.atmos_profile = AtmosProfile.UserWaterAndOzone(h2o,o3)\n",
    "    s.aero_profile = AeroProfile.Continental\n",
    "    s.aot550 = aot\n",
    "    # Earth-Sun-satellite geometry\n",
    "    s.geometry = Geometry.User()\n",
    "    s.geometry.view_z = 0               # always NADIR (I think..)\n",
    "    s.geometry.solar_z = solar_z # solar zenith angle\n",
    "    s.geometry.month = scene_date.month # month and day used for Earth-Sun distance\n",
    "    s.geometry.day = scene_date.day     # month and day used for Earth-Sun distance\n",
    "    s.altitudes.set_sensor_satellite_level()\n",
    "    s.altitudes.set_target_custom_altitude(km)\n",
    "    def spectralResponseFunction(bandname):        \n",
    "        \n",
    "        bandSelect = {\n",
    "            'B1':PredefinedWavelengths.S2A_MSI_01,\n",
    "            'B2':PredefinedWavelengths.S2A_MSI_02,\n",
    "            'B3':PredefinedWavelengths.S2A_MSI_03,\n",
    "            'B4':PredefinedWavelengths.S2A_MSI_04,\n",
    "            'B5':PredefinedWavelengths.S2A_MSI_05,\n",
    "            'B6':PredefinedWavelengths.S2A_MSI_06,\n",
    "            'B7':PredefinedWavelengths.S2A_MSI_07,\n",
    "            'B8':PredefinedWavelengths.S2A_MSI_08,\n",
    "            'B8A':PredefinedWavelengths.S2A_MSI_8A,\n",
    "            'B9':PredefinedWavelengths.S2A_MSI_09,\n",
    "            'B10':PredefinedWavelengths.S2A_MSI_10,\n",
    "            'B11':PredefinedWavelengths.S2A_MSI_11,\n",
    "            'B12':PredefinedWavelengths.S2A_MSI_12,\n",
    "                        }\n",
    "        return Wavelength(bandSelect[bandname])\n",
    "    def toa_to_rad(bandname):\n",
    "        ESUN = info['SOLAR_IRRADIANCE_'+bandname]\n",
    "        solar_angle_correction = math.cos(math.radians(solar_z))\n",
    "        # Earth-Sun distance (from day of year)\n",
    "        doy = scene_date.timetuple().tm_yday\n",
    "        d = 1 - 0.01672 * math.cos(0.9856 * (doy-4))# http://physics.stackexchange.com/questions/177949/earth-sun-distance-on-a-given-day-of-the-year\n",
    "        # conversion factor\n",
    "        multiplier = ESUN*solar_angle_correction/(math.pi*d**2)\n",
    "        # at-sensor radiance\n",
    "        rad = img.select(bandname).multiply(multiplier)\n",
    "        return rad\n",
    "    def surface_reflectance(bandname):\n",
    "        # run 6S for this waveband\n",
    "        s.wavelength = spectralResponseFunction(bandname)\n",
    "        s.run()\n",
    "\n",
    "        # extract 6S outputs\n",
    "        Edir = s.outputs.direct_solar_irradiance             #direct solar irradiance\n",
    "        Edif = s.outputs.diffuse_solar_irradiance            #diffuse solar irradiance\n",
    "        Lp   = s.outputs.atmospheric_intrinsic_radiance      #path radiance\n",
    "        absorb  = s.outputs.trans['global_gas'].upward       #absorption transmissivity\n",
    "        scatter = s.outputs.trans['total_scattering'].upward #scattering transmissivity\n",
    "        tau2 = absorb*scatter                                #total transmissivity\n",
    "\n",
    "        # radiance to surface reflectance\n",
    "        rad = toa_to_rad(bandname)\n",
    "        ref = rad.subtract(Lp).multiply(math.pi).divide(tau2*(Edir+Edif))\n",
    "        return ref\n",
    "    \n",
    "    ca  = surface_reflectance('B1')\n",
    "    blue = surface_reflectance('B2')\n",
    "    green = surface_reflectance('B3')\n",
    "    red = surface_reflectance('B4')\n",
    "    nir = surface_reflectance('B8')\n",
    "    swir1 = surface_reflectance('B11')\n",
    "    swir2 = surface_reflectance('B12')\n",
    "    \n",
    "    ref = img.select('QA60').addBands(ca).addBands(blue).addBands(green).addBands(red).addBands(nir).addBands(swir1).addBands(swir2)\n",
    "    \n",
    "    dateString = scene_date.strftime(\"%Y-%m-%d\")\n",
    "    ref = ref.copyProperties(img).set({              \n",
    "                  'AC_date':dateString,\n",
    "                  'AC_aerosol_optical_thickness':aot,\n",
    "                  'AC_water_vapour':h2o,\n",
    "                  'AC_version':'py6S',\n",
    "                  'AC_ozone':o3,\n",
    "                  'MISSION':mission}) #change properties to set here\n",
    "    \n",
    "\n",
    "    # define YOUR assetID \n",
    "    # in my case it was something like this..\n",
    "    #assetID = 'users/samsammurphy/shared/sentinel2/6S/ESRIN_'+dateString\n",
    "    #assetID = 'users/ndminhhus/eLEAF/nt/s2_SIAC/'+fname,\n",
    "    # # export\n",
    "    fname = ee.String(img.get('system:index')).getInfo()\n",
    "    export = ee.batch.Export.image.toAsset(\\\n",
    "        image=ee.Image(ref),\n",
    "        description= 'S2_BOA_'+fname,\n",
    "        assetId = 'projects/ee-curuai/assets/Py6S/mission'+str(n)+'/'+'BOA_'+fname,#change the properties to add in images here\n",
    "        region = region.buffer(50).bounds(),\n",
    "        scale = 10,\n",
    "        maxPixels = 1e13)\n",
    "\n",
    "    # # uncomment to run the export\n",
    "    export.start()\n",
    "    print('exporting ' +fname + '--->done')\n",
    "    return ref"
   ]
  },
  {
   "cell_type": "code",
   "execution_count": null,
   "metadata": {},
   "outputs": [],
   "source": [
    "#filter collection by data, roi and maximum cloud cover. Then apply registering function\n",
    "S2_col = ee.ImageCollection(\"COPERNICUS/S2_HARMONIZED\")\\\n",
    "            .filterBounds(region).filterDate(startDate,endDate)\\\n",
    "            .filter(ee.Filter.lt('CLOUDY_PIXEL_PERCENTAGE',max_cloud_cover))\\\n",
    "            .map(register_images)\n",
    "\n"
   ]
  },
  {
   "cell_type": "code",
   "execution_count": null,
   "metadata": {},
   "outputs": [],
   "source": [
    "print(S2_col.size().getInfo())"
   ]
  },
  {
   "cell_type": "code",
   "execution_count": null,
   "metadata": {},
   "outputs": [],
   "source": [
    "col_length = S2_col.size().getInfo()\n",
    "#print(col_length)\n",
    "\n",
    "for i in range(0,col_length):\n",
    "    #print(i)\n",
    "    list = S2_col.toList(col_length)\n",
    "    img = ee.Image(list.get(i))\n",
    "    s2_corr(img)"
   ]
  }
 ],
 "metadata": {
  "kernelspec": {
   "display_name": "Python 3 (ipykernel)",
   "language": "python",
   "name": "python3"
  },
  "language_info": {
   "codemirror_mode": {
    "name": "ipython",
    "version": 3
   },
   "file_extension": ".py",
   "mimetype": "text/x-python",
   "name": "python",
   "nbconvert_exporter": "python",
   "pygments_lexer": "ipython3",
   "version": "3.11.4"
  }
 },
 "nbformat": 4,
 "nbformat_minor": 2
}
