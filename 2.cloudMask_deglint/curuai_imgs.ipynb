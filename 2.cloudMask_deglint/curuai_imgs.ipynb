{
  "cells": [
    {
      "cell_type": "markdown",
      "metadata": {
        "id": "view-in-github",
        "colab_type": "text"
      },
      "source": [
        "<a href=\"https://colab.research.google.com/github/larissavaladao/colab_curuai/blob/main/curuai_imgs.ipynb\" target=\"_parent\"><img src=\"https://colab.research.google.com/assets/colab-badge.svg\" alt=\"Open In Colab\"/></a>"
      ]
    },
    {
      "cell_type": "markdown",
      "metadata": {
        "id": "S01_UZX51eNe"
      },
      "source": [
        "# Install and import packages"
      ]
    },
    {
      "cell_type": "code",
      "execution_count": 1,
      "metadata": {
        "id": "Ku6HC6109qJT"
      },
      "outputs": [],
      "source": [
        "#import packages used\n",
        "import ee\n",
        "import pandas as pd\n",
        "import geemap\n",
        "import geopandas as gpd\n",
        "import matplotlib.pyplot as plt\n",
        "import json\n",
        "import math"
      ]
    },
    {
      "cell_type": "code",
      "execution_count": 2,
      "metadata": {
        "colab": {
          "base_uri": "https://localhost:8080/",
          "height": 176
        },
        "id": "XCTrkoFo99eh",
        "outputId": "3dead66b-bacf-4547-9724-1fedc8854840"
      },
      "outputs": [
        {
          "output_type": "display_data",
          "data": {
            "text/plain": [
              "<IPython.core.display.HTML object>"
            ],
            "text/html": [
              "\n",
              "            <style>\n",
              "                .geemap-dark {\n",
              "                    --jp-widgets-color: white;\n",
              "                    --jp-widgets-label-color: white;\n",
              "                    --jp-ui-font-color1: white;\n",
              "                    --jp-layout-color2: #454545;\n",
              "                    background-color: #383838;\n",
              "                }\n",
              "                    \n",
              "                .geemap-dark .jupyter-button {\n",
              "                    --jp-layout-color3: #383838;\n",
              "                }\n",
              "                \n",
              "                .geemap-colab {\n",
              "                    background-color: var(--colab-primary-surface-color, white);\n",
              "                }\n",
              "                    \n",
              "                .geemap-colab .jupyter-button {\n",
              "                    --jp-layout-color3: var(--colab-primary-surface-color, white);\n",
              "                }\n",
              "            </style>\n",
              "            "
            ]
          },
          "metadata": {}
        },
        {
          "output_type": "stream",
          "name": "stdout",
          "text": [
            "To authorize access needed by Earth Engine, open the following URL in a web browser and follow the instructions. If the web browser does not start automatically, please manually browse the URL below.\n",
            "\n",
            "    https://code.earthengine.google.com/client-auth?scopes=https%3A//www.googleapis.com/auth/earthengine%20https%3A//www.googleapis.com/auth/devstorage.full_control&request_id=4_Fs9DMrbkRudKvta14IS3nMo0z21sx_Bx7CfQYxDPk&tc=1Ugcx1-x1y41IGqghQWdWEpEaTYcsXNuLuhUhGPckfU&cc=Lcz2Kqthom0nz_wJVdZOfDSHJmk6iWgn6tTtV9Zo-4M\n",
            "\n",
            "The authorization workflow will generate a code, which you should paste in the box below.\n",
            "Enter verification code: 4/1AfJohXkk36PyT8OZLbeazVUt4OL8r1T_RpX7knqnPxqo3t9gIutIyFlODR4\n",
            "\n",
            "Successfully saved authorization token.\n"
          ]
        }
      ],
      "source": [
        "#authenticate and initialize google earth engine (also necessary for geemap)\n",
        "ee.Authenticate()\n",
        "ee.Initialize()"
      ]
    },
    {
      "cell_type": "code",
      "execution_count": 3,
      "metadata": {
        "colab": {
          "base_uri": "https://localhost:8080/",
          "height": 34
        },
        "id": "6Y4_8g9--H8I",
        "outputId": "3c8f38bd-0171-4e29-ad4e-811f314f113f"
      },
      "outputs": [
        {
          "output_type": "display_data",
          "data": {
            "text/plain": [
              "<IPython.core.display.HTML object>"
            ],
            "text/html": [
              "\n",
              "            <style>\n",
              "                .geemap-dark {\n",
              "                    --jp-widgets-color: white;\n",
              "                    --jp-widgets-label-color: white;\n",
              "                    --jp-ui-font-color1: white;\n",
              "                    --jp-layout-color2: #454545;\n",
              "                    background-color: #383838;\n",
              "                }\n",
              "                    \n",
              "                .geemap-dark .jupyter-button {\n",
              "                    --jp-layout-color3: #383838;\n",
              "                }\n",
              "                \n",
              "                .geemap-colab {\n",
              "                    background-color: var(--colab-primary-surface-color, white);\n",
              "                }\n",
              "                    \n",
              "                .geemap-colab .jupyter-button {\n",
              "                    --jp-layout-color3: var(--colab-primary-surface-color, white);\n",
              "                }\n",
              "            </style>\n",
              "            "
            ]
          },
          "metadata": {}
        },
        {
          "output_type": "stream",
          "name": "stdout",
          "text": [
            "Mounted at /content/drive\n"
          ]
        }
      ],
      "source": [
        "from google.colab import drive\n",
        "drive.mount('/content/drive')"
      ]
    },
    {
      "cell_type": "markdown",
      "metadata": {
        "id": "fPoM8H7b1nIq"
      },
      "source": [
        "# Import Curuai dataset"
      ]
    },
    {
      "cell_type": "code",
      "execution_count": 4,
      "metadata": {
        "id": "NKl0xxGL-FG4",
        "outputId": "5562e2a1-8509-46f5-9cec-5ce770490509",
        "colab": {
          "base_uri": "https://localhost:8080/",
          "height": 17
        }
      },
      "outputs": [
        {
          "output_type": "display_data",
          "data": {
            "text/plain": [
              "<IPython.core.display.HTML object>"
            ],
            "text/html": [
              "\n",
              "            <style>\n",
              "                .geemap-dark {\n",
              "                    --jp-widgets-color: white;\n",
              "                    --jp-widgets-label-color: white;\n",
              "                    --jp-ui-font-color1: white;\n",
              "                    --jp-layout-color2: #454545;\n",
              "                    background-color: #383838;\n",
              "                }\n",
              "                    \n",
              "                .geemap-dark .jupyter-button {\n",
              "                    --jp-layout-color3: #383838;\n",
              "                }\n",
              "                \n",
              "                .geemap-colab {\n",
              "                    background-color: var(--colab-primary-surface-color, white);\n",
              "                }\n",
              "                    \n",
              "                .geemap-colab .jupyter-button {\n",
              "                    --jp-layout-color3: var(--colab-primary-surface-color, white);\n",
              "                }\n",
              "            </style>\n",
              "            "
            ]
          },
          "metadata": {}
        }
      ],
      "source": [
        "#import the entire dataset and include ID column\n",
        "dataset = pd.read_excel('/content/drive/MyDrive/CURUAI_PROCESS/Dataset_CFP.xlsx', sheet_name='data',na_values='NaN').loc[:383]\n",
        "# dataset = pd.read_excel('Dataset_CFP.xlsx', sheet_name='data',na_values='NaN').loc[:383]\n",
        "\n",
        "\n",
        "dataset['ID'] = range(len(dataset))\n",
        "dataset['Local_Time'] = dataset['Local Time']\n",
        "dataset['TIME_UTC'] = dataset['TIME UTC']\n",
        "dataset['DEPTH_CLASS'] = dataset['DEPTH CLASS']\n",
        "dataset['SAMPLE_SITE'] = dataset['SAMPLE SITE']\n",
        "dataset['WATER_PERIOD'] = dataset['WATER PERIOD']\n",
        "dataset['TOTAL_DEPTH'] = dataset['TOTAL DEPTH']\n",
        "dataset['SAMPLING_DEPTH'] = dataset['SAMPLING DEPTH']\n",
        "dataset['CHLOROPHYLL_A'] = dataset['CHLOROPHYLL A']\n",
        "dataset['CHLOROPHYLL_B'] = dataset['CHLOROPHYLL B']\n",
        "dataset['ODO'] = dataset['ODO ']"
      ]
    },
    {
      "cell_type": "code",
      "execution_count": 5,
      "metadata": {
        "colab": {
          "base_uri": "https://localhost:8080/",
          "height": 206
        },
        "id": "sYwMBz-F-uCw",
        "outputId": "57923510-d4e1-481c-896b-a75179d2df54"
      },
      "outputs": [
        {
          "output_type": "display_data",
          "data": {
            "text/plain": [
              "<IPython.core.display.HTML object>"
            ],
            "text/html": [
              "\n",
              "            <style>\n",
              "                .geemap-dark {\n",
              "                    --jp-widgets-color: white;\n",
              "                    --jp-widgets-label-color: white;\n",
              "                    --jp-ui-font-color1: white;\n",
              "                    --jp-layout-color2: #454545;\n",
              "                    background-color: #383838;\n",
              "                }\n",
              "                    \n",
              "                .geemap-dark .jupyter-button {\n",
              "                    --jp-layout-color3: #383838;\n",
              "                }\n",
              "                \n",
              "                .geemap-colab {\n",
              "                    background-color: var(--colab-primary-surface-color, white);\n",
              "                }\n",
              "                    \n",
              "                .geemap-colab .jupyter-button {\n",
              "                    --jp-layout-color3: var(--colab-primary-surface-color, white);\n",
              "                }\n",
              "            </style>\n",
              "            "
            ]
          },
          "metadata": {}
        },
        {
          "output_type": "execute_result",
          "data": {
            "text/plain": [
              "   ID                 DATE  LATITUDE  LONGITUDE MISSION\n",
              "0   0  2013-03-08 00:00:00  -2.25127  -55.14622       I\n",
              "1   1  2013-03-08 00:00:00  -2.25127  -55.14622       I\n",
              "2   2  2013-03-09 00:00:00  -2.28422  -55.22023       I\n",
              "3   3  2013-03-09 00:00:00  -2.19696  -55.29953       I\n",
              "4   4  2013-03-09 00:00:00 -2.221738 -55.270194       I"
            ],
            "text/html": [
              "\n",
              "  <div id=\"df-38b5bcf5-8c6f-409c-a121-150636cd3036\" class=\"colab-df-container\">\n",
              "    <div>\n",
              "<style scoped>\n",
              "    .dataframe tbody tr th:only-of-type {\n",
              "        vertical-align: middle;\n",
              "    }\n",
              "\n",
              "    .dataframe tbody tr th {\n",
              "        vertical-align: top;\n",
              "    }\n",
              "\n",
              "    .dataframe thead th {\n",
              "        text-align: right;\n",
              "    }\n",
              "</style>\n",
              "<table border=\"1\" class=\"dataframe\">\n",
              "  <thead>\n",
              "    <tr style=\"text-align: right;\">\n",
              "      <th></th>\n",
              "      <th>ID</th>\n",
              "      <th>DATE</th>\n",
              "      <th>LATITUDE</th>\n",
              "      <th>LONGITUDE</th>\n",
              "      <th>MISSION</th>\n",
              "    </tr>\n",
              "  </thead>\n",
              "  <tbody>\n",
              "    <tr>\n",
              "      <th>0</th>\n",
              "      <td>0</td>\n",
              "      <td>2013-03-08 00:00:00</td>\n",
              "      <td>-2.25127</td>\n",
              "      <td>-55.14622</td>\n",
              "      <td>I</td>\n",
              "    </tr>\n",
              "    <tr>\n",
              "      <th>1</th>\n",
              "      <td>1</td>\n",
              "      <td>2013-03-08 00:00:00</td>\n",
              "      <td>-2.25127</td>\n",
              "      <td>-55.14622</td>\n",
              "      <td>I</td>\n",
              "    </tr>\n",
              "    <tr>\n",
              "      <th>2</th>\n",
              "      <td>2</td>\n",
              "      <td>2013-03-09 00:00:00</td>\n",
              "      <td>-2.28422</td>\n",
              "      <td>-55.22023</td>\n",
              "      <td>I</td>\n",
              "    </tr>\n",
              "    <tr>\n",
              "      <th>3</th>\n",
              "      <td>3</td>\n",
              "      <td>2013-03-09 00:00:00</td>\n",
              "      <td>-2.19696</td>\n",
              "      <td>-55.29953</td>\n",
              "      <td>I</td>\n",
              "    </tr>\n",
              "    <tr>\n",
              "      <th>4</th>\n",
              "      <td>4</td>\n",
              "      <td>2013-03-09 00:00:00</td>\n",
              "      <td>-2.221738</td>\n",
              "      <td>-55.270194</td>\n",
              "      <td>I</td>\n",
              "    </tr>\n",
              "  </tbody>\n",
              "</table>\n",
              "</div>\n",
              "    <div class=\"colab-df-buttons\">\n",
              "\n",
              "  <div class=\"colab-df-container\">\n",
              "    <button class=\"colab-df-convert\" onclick=\"convertToInteractive('df-38b5bcf5-8c6f-409c-a121-150636cd3036')\"\n",
              "            title=\"Convert this dataframe to an interactive table.\"\n",
              "            style=\"display:none;\">\n",
              "\n",
              "  <svg xmlns=\"http://www.w3.org/2000/svg\" height=\"24px\" viewBox=\"0 -960 960 960\">\n",
              "    <path d=\"M120-120v-720h720v720H120Zm60-500h600v-160H180v160Zm220 220h160v-160H400v160Zm0 220h160v-160H400v160ZM180-400h160v-160H180v160Zm440 0h160v-160H620v160ZM180-180h160v-160H180v160Zm440 0h160v-160H620v160Z\"/>\n",
              "  </svg>\n",
              "    </button>\n",
              "\n",
              "  <style>\n",
              "    .colab-df-container {\n",
              "      display:flex;\n",
              "      gap: 12px;\n",
              "    }\n",
              "\n",
              "    .colab-df-convert {\n",
              "      background-color: #E8F0FE;\n",
              "      border: none;\n",
              "      border-radius: 50%;\n",
              "      cursor: pointer;\n",
              "      display: none;\n",
              "      fill: #1967D2;\n",
              "      height: 32px;\n",
              "      padding: 0 0 0 0;\n",
              "      width: 32px;\n",
              "    }\n",
              "\n",
              "    .colab-df-convert:hover {\n",
              "      background-color: #E2EBFA;\n",
              "      box-shadow: 0px 1px 2px rgba(60, 64, 67, 0.3), 0px 1px 3px 1px rgba(60, 64, 67, 0.15);\n",
              "      fill: #174EA6;\n",
              "    }\n",
              "\n",
              "    .colab-df-buttons div {\n",
              "      margin-bottom: 4px;\n",
              "    }\n",
              "\n",
              "    [theme=dark] .colab-df-convert {\n",
              "      background-color: #3B4455;\n",
              "      fill: #D2E3FC;\n",
              "    }\n",
              "\n",
              "    [theme=dark] .colab-df-convert:hover {\n",
              "      background-color: #434B5C;\n",
              "      box-shadow: 0px 1px 3px 1px rgba(0, 0, 0, 0.15);\n",
              "      filter: drop-shadow(0px 1px 2px rgba(0, 0, 0, 0.3));\n",
              "      fill: #FFFFFF;\n",
              "    }\n",
              "  </style>\n",
              "\n",
              "    <script>\n",
              "      const buttonEl =\n",
              "        document.querySelector('#df-38b5bcf5-8c6f-409c-a121-150636cd3036 button.colab-df-convert');\n",
              "      buttonEl.style.display =\n",
              "        google.colab.kernel.accessAllowed ? 'block' : 'none';\n",
              "\n",
              "      async function convertToInteractive(key) {\n",
              "        const element = document.querySelector('#df-38b5bcf5-8c6f-409c-a121-150636cd3036');\n",
              "        const dataTable =\n",
              "          await google.colab.kernel.invokeFunction('convertToInteractive',\n",
              "                                                    [key], {});\n",
              "        if (!dataTable) return;\n",
              "\n",
              "        const docLinkHtml = 'Like what you see? Visit the ' +\n",
              "          '<a target=\"_blank\" href=https://colab.research.google.com/notebooks/data_table.ipynb>data table notebook</a>'\n",
              "          + ' to learn more about interactive tables.';\n",
              "        element.innerHTML = '';\n",
              "        dataTable['output_type'] = 'display_data';\n",
              "        await google.colab.output.renderOutput(dataTable, element);\n",
              "        const docLink = document.createElement('div');\n",
              "        docLink.innerHTML = docLinkHtml;\n",
              "        element.appendChild(docLink);\n",
              "      }\n",
              "    </script>\n",
              "  </div>\n",
              "\n",
              "\n",
              "<div id=\"df-a9f2f013-1eea-4bc7-ba81-0e21d132c592\">\n",
              "  <button class=\"colab-df-quickchart\" onclick=\"quickchart('df-a9f2f013-1eea-4bc7-ba81-0e21d132c592')\"\n",
              "            title=\"Suggest charts.\"\n",
              "            style=\"display:none;\">\n",
              "\n",
              "<svg xmlns=\"http://www.w3.org/2000/svg\" height=\"24px\"viewBox=\"0 0 24 24\"\n",
              "     width=\"24px\">\n",
              "    <g>\n",
              "        <path d=\"M19 3H5c-1.1 0-2 .9-2 2v14c0 1.1.9 2 2 2h14c1.1 0 2-.9 2-2V5c0-1.1-.9-2-2-2zM9 17H7v-7h2v7zm4 0h-2V7h2v10zm4 0h-2v-4h2v4z\"/>\n",
              "    </g>\n",
              "</svg>\n",
              "  </button>\n",
              "\n",
              "<style>\n",
              "  .colab-df-quickchart {\n",
              "      --bg-color: #E8F0FE;\n",
              "      --fill-color: #1967D2;\n",
              "      --hover-bg-color: #E2EBFA;\n",
              "      --hover-fill-color: #174EA6;\n",
              "      --disabled-fill-color: #AAA;\n",
              "      --disabled-bg-color: #DDD;\n",
              "  }\n",
              "\n",
              "  [theme=dark] .colab-df-quickchart {\n",
              "      --bg-color: #3B4455;\n",
              "      --fill-color: #D2E3FC;\n",
              "      --hover-bg-color: #434B5C;\n",
              "      --hover-fill-color: #FFFFFF;\n",
              "      --disabled-bg-color: #3B4455;\n",
              "      --disabled-fill-color: #666;\n",
              "  }\n",
              "\n",
              "  .colab-df-quickchart {\n",
              "    background-color: var(--bg-color);\n",
              "    border: none;\n",
              "    border-radius: 50%;\n",
              "    cursor: pointer;\n",
              "    display: none;\n",
              "    fill: var(--fill-color);\n",
              "    height: 32px;\n",
              "    padding: 0;\n",
              "    width: 32px;\n",
              "  }\n",
              "\n",
              "  .colab-df-quickchart:hover {\n",
              "    background-color: var(--hover-bg-color);\n",
              "    box-shadow: 0 1px 2px rgba(60, 64, 67, 0.3), 0 1px 3px 1px rgba(60, 64, 67, 0.15);\n",
              "    fill: var(--button-hover-fill-color);\n",
              "  }\n",
              "\n",
              "  .colab-df-quickchart-complete:disabled,\n",
              "  .colab-df-quickchart-complete:disabled:hover {\n",
              "    background-color: var(--disabled-bg-color);\n",
              "    fill: var(--disabled-fill-color);\n",
              "    box-shadow: none;\n",
              "  }\n",
              "\n",
              "  .colab-df-spinner {\n",
              "    border: 2px solid var(--fill-color);\n",
              "    border-color: transparent;\n",
              "    border-bottom-color: var(--fill-color);\n",
              "    animation:\n",
              "      spin 1s steps(1) infinite;\n",
              "  }\n",
              "\n",
              "  @keyframes spin {\n",
              "    0% {\n",
              "      border-color: transparent;\n",
              "      border-bottom-color: var(--fill-color);\n",
              "      border-left-color: var(--fill-color);\n",
              "    }\n",
              "    20% {\n",
              "      border-color: transparent;\n",
              "      border-left-color: var(--fill-color);\n",
              "      border-top-color: var(--fill-color);\n",
              "    }\n",
              "    30% {\n",
              "      border-color: transparent;\n",
              "      border-left-color: var(--fill-color);\n",
              "      border-top-color: var(--fill-color);\n",
              "      border-right-color: var(--fill-color);\n",
              "    }\n",
              "    40% {\n",
              "      border-color: transparent;\n",
              "      border-right-color: var(--fill-color);\n",
              "      border-top-color: var(--fill-color);\n",
              "    }\n",
              "    60% {\n",
              "      border-color: transparent;\n",
              "      border-right-color: var(--fill-color);\n",
              "    }\n",
              "    80% {\n",
              "      border-color: transparent;\n",
              "      border-right-color: var(--fill-color);\n",
              "      border-bottom-color: var(--fill-color);\n",
              "    }\n",
              "    90% {\n",
              "      border-color: transparent;\n",
              "      border-bottom-color: var(--fill-color);\n",
              "    }\n",
              "  }\n",
              "</style>\n",
              "\n",
              "  <script>\n",
              "    async function quickchart(key) {\n",
              "      const quickchartButtonEl =\n",
              "        document.querySelector('#' + key + ' button');\n",
              "      quickchartButtonEl.disabled = true;  // To prevent multiple clicks.\n",
              "      quickchartButtonEl.classList.add('colab-df-spinner');\n",
              "      try {\n",
              "        const charts = await google.colab.kernel.invokeFunction(\n",
              "            'suggestCharts', [key], {});\n",
              "      } catch (error) {\n",
              "        console.error('Error during call to suggestCharts:', error);\n",
              "      }\n",
              "      quickchartButtonEl.classList.remove('colab-df-spinner');\n",
              "      quickchartButtonEl.classList.add('colab-df-quickchart-complete');\n",
              "    }\n",
              "    (() => {\n",
              "      let quickchartButtonEl =\n",
              "        document.querySelector('#df-a9f2f013-1eea-4bc7-ba81-0e21d132c592 button');\n",
              "      quickchartButtonEl.style.display =\n",
              "        google.colab.kernel.accessAllowed ? 'block' : 'none';\n",
              "    })();\n",
              "  </script>\n",
              "</div>\n",
              "    </div>\n",
              "  </div>\n"
            ]
          },
          "metadata": {},
          "execution_count": 5
        }
      ],
      "source": [
        "#copy the dataset and select only the variables of interest\n",
        "dataset_att = dataset.copy()\n",
        "dataset_att = dataset_att.loc[:,['ID','DATE', 'LATITUDE','LONGITUDE', 'MISSION']]\n",
        "dataset_att.head()"
      ]
    },
    {
      "cell_type": "code",
      "source": [
        "dataset_att.groupby(['MISSION'])['MISSION'].count()"
      ],
      "metadata": {
        "id": "7l1qXEa-1Pm0",
        "outputId": "4f93a104-92b5-43f3-99cb-5708dc4cf6e2",
        "colab": {
          "base_uri": "https://localhost:8080/",
          "height": 208
        }
      },
      "execution_count": 6,
      "outputs": [
        {
          "output_type": "display_data",
          "data": {
            "text/plain": [
              "<IPython.core.display.HTML object>"
            ],
            "text/html": [
              "\n",
              "            <style>\n",
              "                .geemap-dark {\n",
              "                    --jp-widgets-color: white;\n",
              "                    --jp-widgets-label-color: white;\n",
              "                    --jp-ui-font-color1: white;\n",
              "                    --jp-layout-color2: #454545;\n",
              "                    background-color: #383838;\n",
              "                }\n",
              "                    \n",
              "                .geemap-dark .jupyter-button {\n",
              "                    --jp-layout-color3: #383838;\n",
              "                }\n",
              "                \n",
              "                .geemap-colab {\n",
              "                    background-color: var(--colab-primary-surface-color, white);\n",
              "                }\n",
              "                    \n",
              "                .geemap-colab .jupyter-button {\n",
              "                    --jp-layout-color3: var(--colab-primary-surface-color, white);\n",
              "                }\n",
              "            </style>\n",
              "            "
            ]
          },
          "metadata": {}
        },
        {
          "output_type": "execute_result",
          "data": {
            "text/plain": [
              "MISSION\n",
              "I       71\n",
              "II      73\n",
              "III     74\n",
              "IV      36\n",
              "IX      24\n",
              "V       26\n",
              "VI      25\n",
              "VII     28\n",
              "VIII    27\n",
              "Name: MISSION, dtype: int64"
            ]
          },
          "metadata": {},
          "execution_count": 6
        }
      ]
    },
    {
      "cell_type": "code",
      "execution_count": 7,
      "metadata": {
        "colab": {
          "base_uri": "https://localhost:8080/",
          "height": 34
        },
        "id": "kE9_M6zx-rkw",
        "outputId": "d959cba6-4d3c-4d14-ad43-58f40c86ea39"
      },
      "outputs": [
        {
          "output_type": "display_data",
          "data": {
            "text/plain": [
              "<IPython.core.display.HTML object>"
            ],
            "text/html": [
              "\n",
              "            <style>\n",
              "                .geemap-dark {\n",
              "                    --jp-widgets-color: white;\n",
              "                    --jp-widgets-label-color: white;\n",
              "                    --jp-ui-font-color1: white;\n",
              "                    --jp-layout-color2: #454545;\n",
              "                    background-color: #383838;\n",
              "                }\n",
              "                    \n",
              "                .geemap-dark .jupyter-button {\n",
              "                    --jp-layout-color3: #383838;\n",
              "                }\n",
              "                \n",
              "                .geemap-colab {\n",
              "                    background-color: var(--colab-primary-surface-color, white);\n",
              "                }\n",
              "                    \n",
              "                .geemap-colab .jupyter-button {\n",
              "                    --jp-layout-color3: var(--colab-primary-surface-color, white);\n",
              "                }\n",
              "            </style>\n",
              "            "
            ]
          },
          "metadata": {}
        },
        {
          "output_type": "execute_result",
          "data": {
            "text/plain": [
              "Index(['ID', 'DATE', 'LATITUDE', 'LONGITUDE', 'MISSION'], dtype='object')"
            ]
          },
          "metadata": {},
          "execution_count": 7
        }
      ],
      "source": [
        "#vizualize variables included in the dataset\n",
        "dataset_att.columns"
      ]
    },
    {
      "cell_type": "code",
      "execution_count": 8,
      "metadata": {
        "colab": {
          "base_uri": "https://localhost:8080/",
          "height": 206
        },
        "id": "BaDBl2wC-v8E",
        "outputId": "834142ab-927e-42eb-de42-3e6fef48294d"
      },
      "outputs": [
        {
          "output_type": "display_data",
          "data": {
            "text/plain": [
              "<IPython.core.display.HTML object>"
            ],
            "text/html": [
              "\n",
              "            <style>\n",
              "                .geemap-dark {\n",
              "                    --jp-widgets-color: white;\n",
              "                    --jp-widgets-label-color: white;\n",
              "                    --jp-ui-font-color1: white;\n",
              "                    --jp-layout-color2: #454545;\n",
              "                    background-color: #383838;\n",
              "                }\n",
              "                    \n",
              "                .geemap-dark .jupyter-button {\n",
              "                    --jp-layout-color3: #383838;\n",
              "                }\n",
              "                \n",
              "                .geemap-colab {\n",
              "                    background-color: var(--colab-primary-surface-color, white);\n",
              "                }\n",
              "                    \n",
              "                .geemap-colab .jupyter-button {\n",
              "                    --jp-layout-color3: var(--colab-primary-surface-color, white);\n",
              "                }\n",
              "            </style>\n",
              "            "
            ]
          },
          "metadata": {}
        },
        {
          "output_type": "execute_result",
          "data": {
            "text/plain": [
              "   ID                 DATE  LATITUDE  LONGITUDE MISSION  \\\n",
              "0   0  2013-03-08 00:00:00  -2.25127  -55.14622       I   \n",
              "1   1  2013-03-08 00:00:00  -2.25127  -55.14622       I   \n",
              "2   2  2013-03-09 00:00:00  -2.28422  -55.22023       I   \n",
              "3   3  2013-03-09 00:00:00  -2.19696  -55.29953       I   \n",
              "4   4  2013-03-09 00:00:00 -2.221738 -55.270194       I   \n",
              "\n",
              "                     geometry  \n",
              "0  POINT (-55.14622 -2.25127)  \n",
              "1  POINT (-55.14622 -2.25127)  \n",
              "2  POINT (-55.22023 -2.28422)  \n",
              "3  POINT (-55.29953 -2.19696)  \n",
              "4  POINT (-55.27019 -2.22174)  "
            ],
            "text/html": [
              "\n",
              "  <div id=\"df-87a66078-ebbe-4e12-8f18-32bfd4fcf4d6\" class=\"colab-df-container\">\n",
              "    <div>\n",
              "<style scoped>\n",
              "    .dataframe tbody tr th:only-of-type {\n",
              "        vertical-align: middle;\n",
              "    }\n",
              "\n",
              "    .dataframe tbody tr th {\n",
              "        vertical-align: top;\n",
              "    }\n",
              "\n",
              "    .dataframe thead th {\n",
              "        text-align: right;\n",
              "    }\n",
              "</style>\n",
              "<table border=\"1\" class=\"dataframe\">\n",
              "  <thead>\n",
              "    <tr style=\"text-align: right;\">\n",
              "      <th></th>\n",
              "      <th>ID</th>\n",
              "      <th>DATE</th>\n",
              "      <th>LATITUDE</th>\n",
              "      <th>LONGITUDE</th>\n",
              "      <th>MISSION</th>\n",
              "      <th>geometry</th>\n",
              "    </tr>\n",
              "  </thead>\n",
              "  <tbody>\n",
              "    <tr>\n",
              "      <th>0</th>\n",
              "      <td>0</td>\n",
              "      <td>2013-03-08 00:00:00</td>\n",
              "      <td>-2.25127</td>\n",
              "      <td>-55.14622</td>\n",
              "      <td>I</td>\n",
              "      <td>POINT (-55.14622 -2.25127)</td>\n",
              "    </tr>\n",
              "    <tr>\n",
              "      <th>1</th>\n",
              "      <td>1</td>\n",
              "      <td>2013-03-08 00:00:00</td>\n",
              "      <td>-2.25127</td>\n",
              "      <td>-55.14622</td>\n",
              "      <td>I</td>\n",
              "      <td>POINT (-55.14622 -2.25127)</td>\n",
              "    </tr>\n",
              "    <tr>\n",
              "      <th>2</th>\n",
              "      <td>2</td>\n",
              "      <td>2013-03-09 00:00:00</td>\n",
              "      <td>-2.28422</td>\n",
              "      <td>-55.22023</td>\n",
              "      <td>I</td>\n",
              "      <td>POINT (-55.22023 -2.28422)</td>\n",
              "    </tr>\n",
              "    <tr>\n",
              "      <th>3</th>\n",
              "      <td>3</td>\n",
              "      <td>2013-03-09 00:00:00</td>\n",
              "      <td>-2.19696</td>\n",
              "      <td>-55.29953</td>\n",
              "      <td>I</td>\n",
              "      <td>POINT (-55.29953 -2.19696)</td>\n",
              "    </tr>\n",
              "    <tr>\n",
              "      <th>4</th>\n",
              "      <td>4</td>\n",
              "      <td>2013-03-09 00:00:00</td>\n",
              "      <td>-2.221738</td>\n",
              "      <td>-55.270194</td>\n",
              "      <td>I</td>\n",
              "      <td>POINT (-55.27019 -2.22174)</td>\n",
              "    </tr>\n",
              "  </tbody>\n",
              "</table>\n",
              "</div>\n",
              "    <div class=\"colab-df-buttons\">\n",
              "\n",
              "  <div class=\"colab-df-container\">\n",
              "    <button class=\"colab-df-convert\" onclick=\"convertToInteractive('df-87a66078-ebbe-4e12-8f18-32bfd4fcf4d6')\"\n",
              "            title=\"Convert this dataframe to an interactive table.\"\n",
              "            style=\"display:none;\">\n",
              "\n",
              "  <svg xmlns=\"http://www.w3.org/2000/svg\" height=\"24px\" viewBox=\"0 -960 960 960\">\n",
              "    <path d=\"M120-120v-720h720v720H120Zm60-500h600v-160H180v160Zm220 220h160v-160H400v160Zm0 220h160v-160H400v160ZM180-400h160v-160H180v160Zm440 0h160v-160H620v160ZM180-180h160v-160H180v160Zm440 0h160v-160H620v160Z\"/>\n",
              "  </svg>\n",
              "    </button>\n",
              "\n",
              "  <style>\n",
              "    .colab-df-container {\n",
              "      display:flex;\n",
              "      gap: 12px;\n",
              "    }\n",
              "\n",
              "    .colab-df-convert {\n",
              "      background-color: #E8F0FE;\n",
              "      border: none;\n",
              "      border-radius: 50%;\n",
              "      cursor: pointer;\n",
              "      display: none;\n",
              "      fill: #1967D2;\n",
              "      height: 32px;\n",
              "      padding: 0 0 0 0;\n",
              "      width: 32px;\n",
              "    }\n",
              "\n",
              "    .colab-df-convert:hover {\n",
              "      background-color: #E2EBFA;\n",
              "      box-shadow: 0px 1px 2px rgba(60, 64, 67, 0.3), 0px 1px 3px 1px rgba(60, 64, 67, 0.15);\n",
              "      fill: #174EA6;\n",
              "    }\n",
              "\n",
              "    .colab-df-buttons div {\n",
              "      margin-bottom: 4px;\n",
              "    }\n",
              "\n",
              "    [theme=dark] .colab-df-convert {\n",
              "      background-color: #3B4455;\n",
              "      fill: #D2E3FC;\n",
              "    }\n",
              "\n",
              "    [theme=dark] .colab-df-convert:hover {\n",
              "      background-color: #434B5C;\n",
              "      box-shadow: 0px 1px 3px 1px rgba(0, 0, 0, 0.15);\n",
              "      filter: drop-shadow(0px 1px 2px rgba(0, 0, 0, 0.3));\n",
              "      fill: #FFFFFF;\n",
              "    }\n",
              "  </style>\n",
              "\n",
              "    <script>\n",
              "      const buttonEl =\n",
              "        document.querySelector('#df-87a66078-ebbe-4e12-8f18-32bfd4fcf4d6 button.colab-df-convert');\n",
              "      buttonEl.style.display =\n",
              "        google.colab.kernel.accessAllowed ? 'block' : 'none';\n",
              "\n",
              "      async function convertToInteractive(key) {\n",
              "        const element = document.querySelector('#df-87a66078-ebbe-4e12-8f18-32bfd4fcf4d6');\n",
              "        const dataTable =\n",
              "          await google.colab.kernel.invokeFunction('convertToInteractive',\n",
              "                                                    [key], {});\n",
              "        if (!dataTable) return;\n",
              "\n",
              "        const docLinkHtml = 'Like what you see? Visit the ' +\n",
              "          '<a target=\"_blank\" href=https://colab.research.google.com/notebooks/data_table.ipynb>data table notebook</a>'\n",
              "          + ' to learn more about interactive tables.';\n",
              "        element.innerHTML = '';\n",
              "        dataTable['output_type'] = 'display_data';\n",
              "        await google.colab.output.renderOutput(dataTable, element);\n",
              "        const docLink = document.createElement('div');\n",
              "        docLink.innerHTML = docLinkHtml;\n",
              "        element.appendChild(docLink);\n",
              "      }\n",
              "    </script>\n",
              "  </div>\n",
              "\n",
              "\n",
              "<div id=\"df-96105f9f-3732-4add-804a-9008b2d1a741\">\n",
              "  <button class=\"colab-df-quickchart\" onclick=\"quickchart('df-96105f9f-3732-4add-804a-9008b2d1a741')\"\n",
              "            title=\"Suggest charts.\"\n",
              "            style=\"display:none;\">\n",
              "\n",
              "<svg xmlns=\"http://www.w3.org/2000/svg\" height=\"24px\"viewBox=\"0 0 24 24\"\n",
              "     width=\"24px\">\n",
              "    <g>\n",
              "        <path d=\"M19 3H5c-1.1 0-2 .9-2 2v14c0 1.1.9 2 2 2h14c1.1 0 2-.9 2-2V5c0-1.1-.9-2-2-2zM9 17H7v-7h2v7zm4 0h-2V7h2v10zm4 0h-2v-4h2v4z\"/>\n",
              "    </g>\n",
              "</svg>\n",
              "  </button>\n",
              "\n",
              "<style>\n",
              "  .colab-df-quickchart {\n",
              "      --bg-color: #E8F0FE;\n",
              "      --fill-color: #1967D2;\n",
              "      --hover-bg-color: #E2EBFA;\n",
              "      --hover-fill-color: #174EA6;\n",
              "      --disabled-fill-color: #AAA;\n",
              "      --disabled-bg-color: #DDD;\n",
              "  }\n",
              "\n",
              "  [theme=dark] .colab-df-quickchart {\n",
              "      --bg-color: #3B4455;\n",
              "      --fill-color: #D2E3FC;\n",
              "      --hover-bg-color: #434B5C;\n",
              "      --hover-fill-color: #FFFFFF;\n",
              "      --disabled-bg-color: #3B4455;\n",
              "      --disabled-fill-color: #666;\n",
              "  }\n",
              "\n",
              "  .colab-df-quickchart {\n",
              "    background-color: var(--bg-color);\n",
              "    border: none;\n",
              "    border-radius: 50%;\n",
              "    cursor: pointer;\n",
              "    display: none;\n",
              "    fill: var(--fill-color);\n",
              "    height: 32px;\n",
              "    padding: 0;\n",
              "    width: 32px;\n",
              "  }\n",
              "\n",
              "  .colab-df-quickchart:hover {\n",
              "    background-color: var(--hover-bg-color);\n",
              "    box-shadow: 0 1px 2px rgba(60, 64, 67, 0.3), 0 1px 3px 1px rgba(60, 64, 67, 0.15);\n",
              "    fill: var(--button-hover-fill-color);\n",
              "  }\n",
              "\n",
              "  .colab-df-quickchart-complete:disabled,\n",
              "  .colab-df-quickchart-complete:disabled:hover {\n",
              "    background-color: var(--disabled-bg-color);\n",
              "    fill: var(--disabled-fill-color);\n",
              "    box-shadow: none;\n",
              "  }\n",
              "\n",
              "  .colab-df-spinner {\n",
              "    border: 2px solid var(--fill-color);\n",
              "    border-color: transparent;\n",
              "    border-bottom-color: var(--fill-color);\n",
              "    animation:\n",
              "      spin 1s steps(1) infinite;\n",
              "  }\n",
              "\n",
              "  @keyframes spin {\n",
              "    0% {\n",
              "      border-color: transparent;\n",
              "      border-bottom-color: var(--fill-color);\n",
              "      border-left-color: var(--fill-color);\n",
              "    }\n",
              "    20% {\n",
              "      border-color: transparent;\n",
              "      border-left-color: var(--fill-color);\n",
              "      border-top-color: var(--fill-color);\n",
              "    }\n",
              "    30% {\n",
              "      border-color: transparent;\n",
              "      border-left-color: var(--fill-color);\n",
              "      border-top-color: var(--fill-color);\n",
              "      border-right-color: var(--fill-color);\n",
              "    }\n",
              "    40% {\n",
              "      border-color: transparent;\n",
              "      border-right-color: var(--fill-color);\n",
              "      border-top-color: var(--fill-color);\n",
              "    }\n",
              "    60% {\n",
              "      border-color: transparent;\n",
              "      border-right-color: var(--fill-color);\n",
              "    }\n",
              "    80% {\n",
              "      border-color: transparent;\n",
              "      border-right-color: var(--fill-color);\n",
              "      border-bottom-color: var(--fill-color);\n",
              "    }\n",
              "    90% {\n",
              "      border-color: transparent;\n",
              "      border-bottom-color: var(--fill-color);\n",
              "    }\n",
              "  }\n",
              "</style>\n",
              "\n",
              "  <script>\n",
              "    async function quickchart(key) {\n",
              "      const quickchartButtonEl =\n",
              "        document.querySelector('#' + key + ' button');\n",
              "      quickchartButtonEl.disabled = true;  // To prevent multiple clicks.\n",
              "      quickchartButtonEl.classList.add('colab-df-spinner');\n",
              "      try {\n",
              "        const charts = await google.colab.kernel.invokeFunction(\n",
              "            'suggestCharts', [key], {});\n",
              "      } catch (error) {\n",
              "        console.error('Error during call to suggestCharts:', error);\n",
              "      }\n",
              "      quickchartButtonEl.classList.remove('colab-df-spinner');\n",
              "      quickchartButtonEl.classList.add('colab-df-quickchart-complete');\n",
              "    }\n",
              "    (() => {\n",
              "      let quickchartButtonEl =\n",
              "        document.querySelector('#df-96105f9f-3732-4add-804a-9008b2d1a741 button');\n",
              "      quickchartButtonEl.style.display =\n",
              "        google.colab.kernel.accessAllowed ? 'block' : 'none';\n",
              "    })();\n",
              "  </script>\n",
              "</div>\n",
              "    </div>\n",
              "  </div>\n"
            ]
          },
          "metadata": {},
          "execution_count": 8
        }
      ],
      "source": [
        "#transform dataframe in a geodataframe (geometry column with point location)\n",
        "gdf = gpd.GeoDataFrame(\n",
        "    dataset_att, geometry=gpd.points_from_xy(dataset_att.LONGITUDE, dataset_att.LATITUDE),\n",
        "    crs=\"EPSG:4326\"\n",
        ")\n",
        "gdf.head()"
      ]
    },
    {
      "cell_type": "code",
      "execution_count": 9,
      "metadata": {
        "id": "b-l1r2u1-zZe",
        "outputId": "379a71a8-fea2-44ec-f63e-50984dfcfa33",
        "colab": {
          "base_uri": "https://localhost:8080/",
          "height": 17
        }
      },
      "outputs": [
        {
          "output_type": "display_data",
          "data": {
            "text/plain": [
              "<IPython.core.display.HTML object>"
            ],
            "text/html": [
              "\n",
              "            <style>\n",
              "                .geemap-dark {\n",
              "                    --jp-widgets-color: white;\n",
              "                    --jp-widgets-label-color: white;\n",
              "                    --jp-ui-font-color1: white;\n",
              "                    --jp-layout-color2: #454545;\n",
              "                    background-color: #383838;\n",
              "                }\n",
              "                    \n",
              "                .geemap-dark .jupyter-button {\n",
              "                    --jp-layout-color3: #383838;\n",
              "                }\n",
              "                \n",
              "                .geemap-colab {\n",
              "                    background-color: var(--colab-primary-surface-color, white);\n",
              "                }\n",
              "                    \n",
              "                .geemap-colab .jupyter-button {\n",
              "                    --jp-layout-color3: var(--colab-primary-surface-color, white);\n",
              "                }\n",
              "            </style>\n",
              "            "
            ]
          },
          "metadata": {}
        }
      ],
      "source": [
        "#transform date and time columns in string - necessary to convert to JSON\n",
        "gdf['DATE'] = gdf['DATE'].astype(\"str\")"
      ]
    },
    {
      "cell_type": "code",
      "execution_count": 10,
      "metadata": {
        "id": "Uoyli1H1-1Ls",
        "outputId": "acf7628f-b48d-4f6f-9dd0-f2d535b0f6bb",
        "colab": {
          "base_uri": "https://localhost:8080/",
          "height": 17
        }
      },
      "outputs": [
        {
          "output_type": "display_data",
          "data": {
            "text/plain": [
              "<IPython.core.display.HTML object>"
            ],
            "text/html": [
              "\n",
              "            <style>\n",
              "                .geemap-dark {\n",
              "                    --jp-widgets-color: white;\n",
              "                    --jp-widgets-label-color: white;\n",
              "                    --jp-ui-font-color1: white;\n",
              "                    --jp-layout-color2: #454545;\n",
              "                    background-color: #383838;\n",
              "                }\n",
              "                    \n",
              "                .geemap-dark .jupyter-button {\n",
              "                    --jp-layout-color3: #383838;\n",
              "                }\n",
              "                \n",
              "                .geemap-colab {\n",
              "                    background-color: var(--colab-primary-surface-color, white);\n",
              "                }\n",
              "                    \n",
              "                .geemap-colab .jupyter-button {\n",
              "                    --jp-layout-color3: var(--colab-primary-surface-color, white);\n",
              "                }\n",
              "            </style>\n",
              "            "
            ]
          },
          "metadata": {}
        }
      ],
      "source": [
        "##Convert geodataframe to json - necessary to be read in GEE\n",
        "dataset_json = gdf.to_json()"
      ]
    },
    {
      "cell_type": "code",
      "execution_count": 11,
      "metadata": {
        "id": "zqNOL8Qa-4qU",
        "outputId": "c220d7c6-13b6-4bdc-a8ab-189200ed02f0",
        "colab": {
          "base_uri": "https://localhost:8080/",
          "height": 17
        }
      },
      "outputs": [
        {
          "output_type": "display_data",
          "data": {
            "text/plain": [
              "<IPython.core.display.HTML object>"
            ],
            "text/html": [
              "\n",
              "            <style>\n",
              "                .geemap-dark {\n",
              "                    --jp-widgets-color: white;\n",
              "                    --jp-widgets-label-color: white;\n",
              "                    --jp-ui-font-color1: white;\n",
              "                    --jp-layout-color2: #454545;\n",
              "                    background-color: #383838;\n",
              "                }\n",
              "                    \n",
              "                .geemap-dark .jupyter-button {\n",
              "                    --jp-layout-color3: #383838;\n",
              "                }\n",
              "                \n",
              "                .geemap-colab {\n",
              "                    background-color: var(--colab-primary-surface-color, white);\n",
              "                }\n",
              "                    \n",
              "                .geemap-colab .jupyter-button {\n",
              "                    --jp-layout-color3: var(--colab-primary-surface-color, white);\n",
              "                }\n",
              "            </style>\n",
              "            "
            ]
          },
          "metadata": {}
        }
      ],
      "source": [
        "#load and select the features of the json data\n",
        "data_points = json.loads(dataset_json)\n",
        "data_points = data_points['features']\n",
        "# data_points"
      ]
    },
    {
      "cell_type": "code",
      "execution_count": 12,
      "metadata": {
        "colab": {
          "base_uri": "https://localhost:8080/",
          "height": 34
        },
        "id": "7axz0m_4-5hg",
        "outputId": "a8b008ad-6862-414a-dc65-d1204d58581c"
      },
      "outputs": [
        {
          "output_type": "display_data",
          "data": {
            "text/plain": [
              "<IPython.core.display.HTML object>"
            ],
            "text/html": [
              "\n",
              "            <style>\n",
              "                .geemap-dark {\n",
              "                    --jp-widgets-color: white;\n",
              "                    --jp-widgets-label-color: white;\n",
              "                    --jp-ui-font-color1: white;\n",
              "                    --jp-layout-color2: #454545;\n",
              "                    background-color: #383838;\n",
              "                }\n",
              "                    \n",
              "                .geemap-dark .jupyter-button {\n",
              "                    --jp-layout-color3: #383838;\n",
              "                }\n",
              "                \n",
              "                .geemap-colab {\n",
              "                    background-color: var(--colab-primary-surface-color, white);\n",
              "                }\n",
              "                    \n",
              "                .geemap-colab .jupyter-button {\n",
              "                    --jp-layout-color3: var(--colab-primary-surface-color, white);\n",
              "                }\n",
              "            </style>\n",
              "            "
            ]
          },
          "metadata": {}
        },
        {
          "output_type": "stream",
          "name": "stdout",
          "text": [
            "384\n"
          ]
        }
      ],
      "source": [
        "##transform json in in gee object = feature collection\n",
        "roi_points = ee.FeatureCollection(data_points)\n",
        "print(roi_points.size().getInfo())"
      ]
    },
    {
      "cell_type": "code",
      "execution_count": 13,
      "metadata": {
        "id": "y57TH3LG-7-G",
        "outputId": "852bb280-af1a-4488-d553-26dcd2c227a3",
        "colab": {
          "base_uri": "https://localhost:8080/",
          "height": 17
        }
      },
      "outputs": [
        {
          "output_type": "display_data",
          "data": {
            "text/plain": [
              "<IPython.core.display.HTML object>"
            ],
            "text/html": [
              "\n",
              "            <style>\n",
              "                .geemap-dark {\n",
              "                    --jp-widgets-color: white;\n",
              "                    --jp-widgets-label-color: white;\n",
              "                    --jp-ui-font-color1: white;\n",
              "                    --jp-layout-color2: #454545;\n",
              "                    background-color: #383838;\n",
              "                }\n",
              "                    \n",
              "                .geemap-dark .jupyter-button {\n",
              "                    --jp-layout-color3: #383838;\n",
              "                }\n",
              "                \n",
              "                .geemap-colab {\n",
              "                    background-color: var(--colab-primary-surface-color, white);\n",
              "                }\n",
              "                    \n",
              "                .geemap-colab .jupyter-button {\n",
              "                    --jp-layout-color3: var(--colab-primary-surface-color, white);\n",
              "                }\n",
              "            </style>\n",
              "            "
            ]
          },
          "metadata": {}
        }
      ],
      "source": [
        "#function to insert a property with date of the point - Gee date format\n",
        "def insert_date (feat):\n",
        "    return feat.set('system:time_start',ee.Date.parse('YYYY-MM-dd HH:mm:ss',feat.get('DATE')))"
      ]
    },
    {
      "cell_type": "code",
      "execution_count": 14,
      "metadata": {
        "colab": {
          "base_uri": "https://localhost:8080/",
          "height": 54
        },
        "id": "VX8zWAaN-9pj",
        "outputId": "40f1e1cd-3e14-4c32-b208-4a6ab8408bc8"
      },
      "outputs": [
        {
          "output_type": "display_data",
          "data": {
            "text/plain": [
              "<IPython.core.display.HTML object>"
            ],
            "text/html": [
              "\n",
              "            <style>\n",
              "                .geemap-dark {\n",
              "                    --jp-widgets-color: white;\n",
              "                    --jp-widgets-label-color: white;\n",
              "                    --jp-ui-font-color1: white;\n",
              "                    --jp-layout-color2: #454545;\n",
              "                    background-color: #383838;\n",
              "                }\n",
              "                    \n",
              "                .geemap-dark .jupyter-button {\n",
              "                    --jp-layout-color3: #383838;\n",
              "                }\n",
              "                \n",
              "                .geemap-colab {\n",
              "                    background-color: var(--colab-primary-surface-color, white);\n",
              "                }\n",
              "                    \n",
              "                .geemap-colab .jupyter-button {\n",
              "                    --jp-layout-color3: var(--colab-primary-surface-color, white);\n",
              "                }\n",
              "            </style>\n",
              "            "
            ]
          },
          "metadata": {}
        },
        {
          "output_type": "stream",
          "name": "stdout",
          "text": [
            "{'type': 'Feature', 'geometry': {'type': 'Point', 'coordinates': [-55.14622, -2.25127]}, 'id': '0', 'properties': {'DATE': '2013-03-08 00:00:00', 'ID': 0, 'LATITUDE': -2.25127, 'LONGITUDE': -55.14622, 'MISSION': 'I', 'system:time_start': {'type': 'Date', 'value': 1362700800000}}}\n"
          ]
        }
      ],
      "source": [
        "#apply date function - new system:time_start property\n",
        "roi_points = roi_points.map(insert_date)\n",
        "print(roi_points.first().getInfo())"
      ]
    },
    {
      "cell_type": "code",
      "execution_count": 15,
      "metadata": {
        "id": "xJu6zpel_A6X",
        "outputId": "4703d07a-d6b8-4f5f-e886-0e70f4cf2f23",
        "colab": {
          "base_uri": "https://localhost:8080/",
          "height": 17
        }
      },
      "outputs": [
        {
          "output_type": "display_data",
          "data": {
            "text/plain": [
              "<IPython.core.display.HTML object>"
            ],
            "text/html": [
              "\n",
              "            <style>\n",
              "                .geemap-dark {\n",
              "                    --jp-widgets-color: white;\n",
              "                    --jp-widgets-label-color: white;\n",
              "                    --jp-ui-font-color1: white;\n",
              "                    --jp-layout-color2: #454545;\n",
              "                    background-color: #383838;\n",
              "                }\n",
              "                    \n",
              "                .geemap-dark .jupyter-button {\n",
              "                    --jp-layout-color3: #383838;\n",
              "                }\n",
              "                \n",
              "                .geemap-colab {\n",
              "                    background-color: var(--colab-primary-surface-color, white);\n",
              "                }\n",
              "                    \n",
              "                .geemap-colab .jupyter-button {\n",
              "                    --jp-layout-color3: var(--colab-primary-surface-color, white);\n",
              "                }\n",
              "            </style>\n",
              "            "
            ]
          },
          "metadata": {}
        }
      ],
      "source": [
        "#create a polygon around the floodpalin area - roi\n",
        "roi_poly = roi_points.geometry().buffer(500).bounds()"
      ]
    },
    {
      "cell_type": "markdown",
      "metadata": {
        "id": "LvVL10jL2Pxn"
      },
      "source": [
        "# Import GEE images"
      ]
    },
    {
      "cell_type": "markdown",
      "metadata": {
        "id": "CXlmgv112Ym0"
      },
      "source": [
        "## Cloud Masking functions"
      ]
    },
    {
      "cell_type": "markdown",
      "source": [
        "Sentinel 2 mask"
      ],
      "metadata": {
        "id": "QDWyAMXaQnFi"
      }
    },
    {
      "cell_type": "code",
      "execution_count": 16,
      "metadata": {
        "id": "3peEem3l_C3b",
        "outputId": "acf1a623-e9af-4f93-ec00-af35311717fd",
        "colab": {
          "base_uri": "https://localhost:8080/",
          "height": 17
        }
      },
      "outputs": [
        {
          "output_type": "display_data",
          "data": {
            "text/plain": [
              "<IPython.core.display.HTML object>"
            ],
            "text/html": [
              "\n",
              "            <style>\n",
              "                .geemap-dark {\n",
              "                    --jp-widgets-color: white;\n",
              "                    --jp-widgets-label-color: white;\n",
              "                    --jp-ui-font-color1: white;\n",
              "                    --jp-layout-color2: #454545;\n",
              "                    background-color: #383838;\n",
              "                }\n",
              "                    \n",
              "                .geemap-dark .jupyter-button {\n",
              "                    --jp-layout-color3: #383838;\n",
              "                }\n",
              "                \n",
              "                .geemap-colab {\n",
              "                    background-color: var(--colab-primary-surface-color, white);\n",
              "                }\n",
              "                    \n",
              "                .geemap-colab .jupyter-button {\n",
              "                    --jp-layout-color3: var(--colab-primary-surface-color, white);\n",
              "                }\n",
              "            </style>\n",
              "            "
            ]
          },
          "metadata": {}
        }
      ],
      "source": [
        "#define cloud masking functions\n",
        "#VER NOVA MASCARA DE NUVENS DO EE\n",
        "MAX_CLOUD_PROBABILITY = 20\n",
        "\n",
        "def maskS2_1C(image):\n",
        "    clouds = ee.Image(image.get('cloud_mask')).select('probability')\n",
        "    isNotCloud = clouds.lt(MAX_CLOUD_PROBABILITY)\n",
        "    return image.updateMask(isNotCloud)\n",
        "\n",
        "'''\n",
        " * Function to mask clouds using the Sentinel-2 QA band\n",
        " * @param {ee.Image} image Sentinel-2 image\n",
        " * @return {ee.Image} cloud masked Sentinel-2 image\n",
        "'''\n",
        "def maskS2(image):\n",
        "    qa = image.select('QA60')\n",
        "\n",
        "  # Bits 10 and 11 are clouds and cirrus, respectively.\n",
        "    cloudBitMask = 1 << 10;\n",
        "    cirrusBitMask = 1 << 11;\n",
        "\n",
        "  # Both flags should be set to zero, indicating clear conditions.\n",
        "    mask = qa.bitwiseAnd(cloudBitMask).eq(0)\\\n",
        "      .And(qa.bitwiseAnd(cirrusBitMask).eq(0))\n",
        "\n",
        "    return image.updateMask(mask).divide(10000).copyProperties(image,['system:time_start'])\n"
      ]
    },
    {
      "cell_type": "markdown",
      "source": [
        "Landsat mask"
      ],
      "metadata": {
        "id": "30Ym3yb3QqD-"
      }
    },
    {
      "cell_type": "code",
      "execution_count": 17,
      "metadata": {
        "id": "mJhb7SFiakqM",
        "outputId": "a7f907bc-a297-435b-bad2-a63bddf5ea72",
        "colab": {
          "base_uri": "https://localhost:8080/",
          "height": 17
        }
      },
      "outputs": [
        {
          "output_type": "display_data",
          "data": {
            "text/plain": [
              "<IPython.core.display.HTML object>"
            ],
            "text/html": [
              "\n",
              "            <style>\n",
              "                .geemap-dark {\n",
              "                    --jp-widgets-color: white;\n",
              "                    --jp-widgets-label-color: white;\n",
              "                    --jp-ui-font-color1: white;\n",
              "                    --jp-layout-color2: #454545;\n",
              "                    background-color: #383838;\n",
              "                }\n",
              "                    \n",
              "                .geemap-dark .jupyter-button {\n",
              "                    --jp-layout-color3: #383838;\n",
              "                }\n",
              "                \n",
              "                .geemap-colab {\n",
              "                    background-color: var(--colab-primary-surface-color, white);\n",
              "                }\n",
              "                    \n",
              "                .geemap-colab .jupyter-button {\n",
              "                    --jp-layout-color3: var(--colab-primary-surface-color, white);\n",
              "                }\n",
              "            </style>\n",
              "            "
            ]
          },
          "metadata": {}
        }
      ],
      "source": [
        "#Based on [ee.Algorithms.Landsat.simpleCloudScore](https://developers.google.com/earth-engine/landsat)\n",
        "#This function even calculates percentage of cloud  coverage over a particular region. Useful for screening too cloudy images\n",
        "def scoreL8_TOA (image):\n",
        "  #Add a cloud score band.  It is automatically called 'cloud'.\n",
        "  scored = ee.Algorithms.Landsat.simpleCloudScore(image)\n",
        "  #Create a mask from the cloud score and combine it with the image mask.\n",
        "  mask = scored.select(['cloud']).lte(MAX_CLOUD_PROBABILITY);\n",
        "  #Apply the mask to the image and display the result.\n",
        "  return image.updateMask(mask)\n",
        "#######################################################################\n",
        "# Function to mask clouds using the quality band of Landsat 8.\n",
        "def maskL8 (image):\n",
        "    qa = image.select('QA_PIXEL')\n",
        "  # Check that the cloud bit is off.\n",
        "  # See https://www.usgs.gov/media/files/landsat-8-9-olitirs-collection-2-level-1-data-format-control-book\n",
        "    mask = qa.bitwiseAnd(1 << 3).eq(0)\n",
        "    return image.updateMask(mask)"
      ]
    },
    {
      "cell_type": "markdown",
      "metadata": {
        "id": "E3z3e9652ehP"
      },
      "source": [
        "## define date ranges for filtering images"
      ]
    },
    {
      "cell_type": "code",
      "execution_count": null,
      "metadata": {
        "colab": {
          "base_uri": "https://localhost:8080/",
          "height": 52
        },
        "id": "7wmTty9g_Ex-",
        "outputId": "94a802aa-9ecf-4d93-8e35-48cae96e51c5"
      },
      "outputs": [
        {
          "output_type": "display_data",
          "data": {
            "text/plain": [
              "<IPython.core.display.HTML object>"
            ],
            "text/html": [
              "\n",
              "            <style>\n",
              "                .geemap-dark {\n",
              "                    --jp-widgets-color: white;\n",
              "                    --jp-widgets-label-color: white;\n",
              "                    --jp-ui-font-color1: white;\n",
              "                    --jp-layout-color2: #454545;\n",
              "                    background-color: #383838;\n",
              "                }\n",
              "                    \n",
              "                .geemap-dark .jupyter-button {\n",
              "                    --jp-layout-color3: #383838;\n",
              "                }\n",
              "                \n",
              "                .geemap-colab {\n",
              "                    background-color: var(--colab-primary-surface-color, white);\n",
              "                }\n",
              "                    \n",
              "                .geemap-colab .jupyter-button {\n",
              "                    --jp-layout-color3: var(--colab-primary-surface-color, white);\n",
              "                }\n",
              "            </style>\n",
              "            "
            ]
          },
          "metadata": {}
        },
        {
          "output_type": "stream",
          "name": "stdout",
          "text": [
            "Data inicial de coleta:  2013-03-08T00:00:00\n",
            "Data final de coleta:  2017-09-19T00:00:00\n"
          ]
        }
      ],
      "source": [
        "#define initial and final date to filter the image collection based on the\n",
        "#field points date\n",
        "initial_date = ee.Date(roi_points.sort('system:time_start').first().get('system:time_start'))\n",
        "end_date = ee.Date(roi_points.sort('system:time_start',False).first().get('system:time_start'))\n",
        "\n",
        "print('Data inicial de coleta: ',initial_date.format().getInfo())\n",
        "print('Data final de coleta: ',end_date.format().getInfo())"
      ]
    },
    {
      "cell_type": "code",
      "source": [
        "def date_mission(mission,time):\n",
        "  return ee.Date(roi_points.filter(ee.Filter.eq('MISSION',mission)).sort('system:time_start',time).first().get('system:time_start'))"
      ],
      "metadata": {
        "id": "pP67Wx5zyvBx",
        "outputId": "1197427c-e11b-49fc-d825-5adf5c43505c",
        "colab": {
          "base_uri": "https://localhost:8080/",
          "height": 17
        }
      },
      "execution_count": 18,
      "outputs": [
        {
          "output_type": "display_data",
          "data": {
            "text/plain": [
              "<IPython.core.display.HTML object>"
            ],
            "text/html": [
              "\n",
              "            <style>\n",
              "                .geemap-dark {\n",
              "                    --jp-widgets-color: white;\n",
              "                    --jp-widgets-label-color: white;\n",
              "                    --jp-ui-font-color1: white;\n",
              "                    --jp-layout-color2: #454545;\n",
              "                    background-color: #383838;\n",
              "                }\n",
              "                    \n",
              "                .geemap-dark .jupyter-button {\n",
              "                    --jp-layout-color3: #383838;\n",
              "                }\n",
              "                \n",
              "                .geemap-colab {\n",
              "                    background-color: var(--colab-primary-surface-color, white);\n",
              "                }\n",
              "                    \n",
              "                .geemap-colab .jupyter-button {\n",
              "                    --jp-layout-color3: var(--colab-primary-surface-color, white);\n",
              "                }\n",
              "            </style>\n",
              "            "
            ]
          },
          "metadata": {}
        }
      ]
    },
    {
      "cell_type": "code",
      "source": [
        "mission = 'I'\n",
        "advance = 17"
      ],
      "metadata": {
        "id": "zxlgYxuF2DIz",
        "outputId": "13e9338a-c162-482f-e427-4a9b7e20edf6",
        "colab": {
          "base_uri": "https://localhost:8080/",
          "height": 17
        }
      },
      "execution_count": 224,
      "outputs": [
        {
          "output_type": "display_data",
          "data": {
            "text/plain": [
              "<IPython.core.display.HTML object>"
            ],
            "text/html": [
              "\n",
              "            <style>\n",
              "                .geemap-dark {\n",
              "                    --jp-widgets-color: white;\n",
              "                    --jp-widgets-label-color: white;\n",
              "                    --jp-ui-font-color1: white;\n",
              "                    --jp-layout-color2: #454545;\n",
              "                    background-color: #383838;\n",
              "                }\n",
              "                    \n",
              "                .geemap-dark .jupyter-button {\n",
              "                    --jp-layout-color3: #383838;\n",
              "                }\n",
              "                \n",
              "                .geemap-colab {\n",
              "                    background-color: var(--colab-primary-surface-color, white);\n",
              "                }\n",
              "                    \n",
              "                .geemap-colab .jupyter-button {\n",
              "                    --jp-layout-color3: var(--colab-primary-surface-color, white);\n",
              "                }\n",
              "            </style>\n",
              "            "
            ]
          },
          "metadata": {}
        }
      ]
    },
    {
      "cell_type": "markdown",
      "metadata": {
        "id": "ouVoaP5-3z0n"
      },
      "source": [
        "## Import image collections and apply filters and cloud masks"
      ]
    },
    {
      "cell_type": "markdown",
      "source": [
        "###Landsat 7 collection 2 tier 1 TOA"
      ],
      "metadata": {
        "id": "2OU2MbU7Pmwn"
      }
    },
    {
      "cell_type": "code",
      "execution_count": 225,
      "metadata": {
        "colab": {
          "base_uri": "https://localhost:8080/",
          "height": 52
        },
        "id": "h2uRUkio_HB-",
        "outputId": "a57a7710-bae2-4fc7-cf0f-43c4adc5850d"
      },
      "outputs": [
        {
          "output_type": "display_data",
          "data": {
            "text/plain": [
              "<IPython.core.display.HTML object>"
            ],
            "text/html": [
              "\n",
              "            <style>\n",
              "                .geemap-dark {\n",
              "                    --jp-widgets-color: white;\n",
              "                    --jp-widgets-label-color: white;\n",
              "                    --jp-ui-font-color1: white;\n",
              "                    --jp-layout-color2: #454545;\n",
              "                    background-color: #383838;\n",
              "                }\n",
              "                    \n",
              "                .geemap-dark .jupyter-button {\n",
              "                    --jp-layout-color3: #383838;\n",
              "                }\n",
              "                \n",
              "                .geemap-colab {\n",
              "                    background-color: var(--colab-primary-surface-color, white);\n",
              "                }\n",
              "                    \n",
              "                .geemap-colab .jupyter-button {\n",
              "                    --jp-layout-color3: var(--colab-primary-surface-color, white);\n",
              "                }\n",
              "            </style>\n",
              "            "
            ]
          },
          "metadata": {}
        },
        {
          "output_type": "stream",
          "name": "stdout",
          "text": [
            "2013-03-25T13:44:15\n",
            "2013-04-01T13:50:26\n"
          ]
        }
      ],
      "source": [
        "#Landsat 7 collection 2 tier 1 TOA\n",
        "#filter collection by region and date (2 month prior toi the field dates and one month past) based on field points\n",
        "#mask clouds\n",
        "landsat7 = ee.ImageCollection(\"LANDSAT/LE07/C02/T1_TOA\")\\\n",
        "            .filterBounds(roi_points)\\\n",
        "            .filterDate(date_mission(mission,True).advance(-advance, 'day'),date_mission(mission,False).advance(advance, 'day'))\\\n",
        "            .map(scoreL8_TOA)\\\n",
        "            .map(maskL8)\n",
        "print(ee.Date(landsat7.first().get('system:time_start')).format().getInfo())\n",
        "print(ee.Date(landsat7.sort('system:time_start',False).first().get('system:time_start')).format().getInfo())"
      ]
    },
    {
      "cell_type": "code",
      "source": [
        "print('LD7 size',landsat7.size().getInfo())\n"
      ],
      "metadata": {
        "id": "OCpH-RZOPSJP"
      },
      "execution_count": null,
      "outputs": []
    },
    {
      "cell_type": "markdown",
      "source": [
        "###Landsat 8 collection 2 tier 1 TOA"
      ],
      "metadata": {
        "id": "bgbcOKHcPtyN"
      }
    },
    {
      "cell_type": "code",
      "execution_count": null,
      "metadata": {
        "id": "Vlry8prR_IpJ"
      },
      "outputs": [],
      "source": [
        "#Landsat 8 collection 2 tier 1 TOA\n",
        "#filter collection by region and date (2 month prior toi the field dates and one month past) based on field points\n",
        "#mask clouds\n",
        "landsat8 = ee.ImageCollection(\"LANDSAT/LC08/C02/T1_TOA\")\\\n",
        "            .filterBounds(roi_points)\\\n",
        "            .filterDate(date_mission(mission,True).advance(-advance, 'day'),date_mission(mission,False).advance(advance, 'day'))\\\n",
        "            .map(scoreL8_TOA)\\\n",
        "            .map(maskL8)\n",
        "print(ee.Date(landsat8.first().get('system:time_start')).format().getInfo())\n",
        "print(ee.Date(landsat8.sort('system:time_start',False).first().get('system:time_start')).format().getInfo())"
      ]
    },
    {
      "cell_type": "code",
      "source": [
        "print('LD8 size',landsat8.size().getInfo())\n"
      ],
      "metadata": {
        "id": "z4FpTCN-PFnf"
      },
      "execution_count": null,
      "outputs": []
    },
    {
      "cell_type": "markdown",
      "source": [
        "###Sentinel 2 level 1C harmonized"
      ],
      "metadata": {
        "id": "uAZbfSlKPvM-"
      }
    },
    {
      "cell_type": "code",
      "execution_count": 197,
      "metadata": {
        "id": "CoGI69en_Kps",
        "outputId": "89f8f631-99ce-4d6e-d1bc-dc4a5f91da27",
        "colab": {
          "base_uri": "https://localhost:8080/",
          "height": 17
        }
      },
      "outputs": [
        {
          "output_type": "display_data",
          "data": {
            "text/plain": [
              "<IPython.core.display.HTML object>"
            ],
            "text/html": [
              "\n",
              "            <style>\n",
              "                .geemap-dark {\n",
              "                    --jp-widgets-color: white;\n",
              "                    --jp-widgets-label-color: white;\n",
              "                    --jp-ui-font-color1: white;\n",
              "                    --jp-layout-color2: #454545;\n",
              "                    background-color: #383838;\n",
              "                }\n",
              "                    \n",
              "                .geemap-dark .jupyter-button {\n",
              "                    --jp-layout-color3: #383838;\n",
              "                }\n",
              "                \n",
              "                .geemap-colab {\n",
              "                    background-color: var(--colab-primary-surface-color, white);\n",
              "                }\n",
              "                    \n",
              "                .geemap-colab .jupyter-button {\n",
              "                    --jp-layout-color3: var(--colab-primary-surface-color, white);\n",
              "                }\n",
              "            </style>\n",
              "            "
            ]
          },
          "metadata": {}
        }
      ],
      "source": [
        "#Sentinel 2 level 1C harmonized\n",
        "#filter collection by region and date (2 month prior toi the field dates and one month past) based on field points\n",
        "#mask clouds\n",
        "\n",
        "s2Clouds = ee.ImageCollection('COPERNICUS/S2_CLOUD_PROBABILITY')\\\n",
        "            .filterBounds(roi_points)\\\n",
        "            .filterDate(date_mission(mission,True).advance(-advance, 'day'),date_mission(mission,False).advance(advance, 'day'))\\\n",
        "\n",
        "sentinel2 = ee.ImageCollection(\"COPERNICUS/S2_HARMONIZED\")\\\n",
        "            .filterBounds(roi_points)\\\n",
        "            .filterDate(date_mission(mission,True).advance(-advance, 'day'),date_mission(mission,False).advance(advance, 'day'))\\\n",
        "\n",
        "\n",
        "s2SrWithCloudMask = ee.Join.saveFirst('cloud_mask').apply(primary=sentinel2,\n",
        "  secondary=s2Clouds,condition=ee.Filter.equals(leftField='system:index', rightField='system:index'))"
      ]
    },
    {
      "cell_type": "code",
      "execution_count": null,
      "metadata": {
        "id": "6c64pSx9mwdC"
      },
      "outputs": [],
      "source": [
        "sentinel2 = ee.ImageCollection(s2SrWithCloudMask).map(maskS2_1C).map(maskS2)\n",
        "\n",
        "print(ee.Date(sentinel2.first().get('system:time_start')).format().getInfo())\n",
        "print(ee.Date(sentinel2.sort('system:time_start',False).first().get('system:time_start')).format().getInfo())"
      ]
    },
    {
      "cell_type": "code",
      "source": [
        "print('sentinel 2 size',sentinel2.size().getInfo())"
      ],
      "metadata": {
        "id": "2T70qIH3PFvC"
      },
      "execution_count": null,
      "outputs": []
    },
    {
      "cell_type": "markdown",
      "metadata": {
        "id": "xrvISwqbdQB7"
      },
      "source": [
        "### visualização das imagens"
      ]
    },
    {
      "cell_type": "markdown",
      "source": [
        "comparação LD8/S2 - mosaico de todo periodo da missão"
      ],
      "metadata": {
        "id": "Vm9HW0LUQH8D"
      }
    },
    {
      "cell_type": "code",
      "execution_count": 143,
      "metadata": {
        "id": "vczaSTnx_MgA",
        "outputId": "63c84b96-6220-46ca-ea12-76eb1cb2a29a",
        "colab": {
          "base_uri": "https://localhost:8080/",
          "height": 17
        }
      },
      "outputs": [
        {
          "output_type": "display_data",
          "data": {
            "text/plain": [
              "<IPython.core.display.HTML object>"
            ],
            "text/html": [
              "\n",
              "            <style>\n",
              "                .geemap-dark {\n",
              "                    --jp-widgets-color: white;\n",
              "                    --jp-widgets-label-color: white;\n",
              "                    --jp-ui-font-color1: white;\n",
              "                    --jp-layout-color2: #454545;\n",
              "                    background-color: #383838;\n",
              "                }\n",
              "                    \n",
              "                .geemap-dark .jupyter-button {\n",
              "                    --jp-layout-color3: #383838;\n",
              "                }\n",
              "                \n",
              "                .geemap-colab {\n",
              "                    background-color: var(--colab-primary-surface-color, white);\n",
              "                }\n",
              "                    \n",
              "                .geemap-colab .jupyter-button {\n",
              "                    --jp-layout-color3: var(--colab-primary-surface-color, white);\n",
              "                }\n",
              "            </style>\n",
              "            "
            ]
          },
          "metadata": {}
        }
      ],
      "source": [
        "landsat8_med = landsat8.median().clip(roi_poly)\n",
        "sentinel2_med = sentinel2.median().clip(roi_poly)\n",
        "\n",
        "left_layer = geemap.ee_tile_layer(landsat8_med, {'bands':['B4','B3','B2'],'min':0,'max':0.3}, 'landsat8_med')\n",
        "right_layer = geemap.ee_tile_layer(sentinel2_med,{'bands':['B4','B3','B2'],'min':0,'max':0.3}, 'sentinel2_med')"
      ]
    },
    {
      "cell_type": "code",
      "execution_count": null,
      "metadata": {
        "id": "lP-fQk0H_QRi"
      },
      "outputs": [],
      "source": [
        "Map = geemap.Map()\n",
        "Map.centerObject(roi_points,10)\n",
        "Map.split_map(left_layer, right_layer)\n",
        "Map"
      ]
    },
    {
      "cell_type": "markdown",
      "source": [
        "Primeira imagem com menos nuvens da colação de iamgens disponiveis durante a missão"
      ],
      "metadata": {
        "id": "peRvZs2MQO6_"
      }
    },
    {
      "cell_type": "code",
      "execution_count": null,
      "metadata": {
        "id": "sedm-Vb3_TPb"
      },
      "outputs": [],
      "source": [
        "Map = geemap.Map(basemap='HYBRID')\n",
        "Map.centerObject(roi_points,10)\n",
        "Map.addLayer(landsat7.sort('CLOUD_COVER').first(), {'bands':['B3','B2','B1'],'min':0,'max':0.3}, 'landsat7')\n",
        "Map.addLayer(landsat8.sort('CLOUD_COVER').first(), {'bands':['B4','B3','B2'],'min':0,'max':0.3}, 'landsat8')\n",
        "Map.addLayer(sentinel2.sort('CLOUDY_PIXEL_PERCENTAGE').first(), {'bands':['B4','B3','B2'],'min':0,'max':0.3}, 'sentinel2')\n",
        "\n",
        "Map.addLayer(roi_points, {'color':'darkred'}, 'Data Points');\n",
        "# Map.addLayer(roi_poly, {'color':'darkred'}, 'Data polygon');\n",
        "Map"
      ]
    },
    {
      "cell_type": "markdown",
      "metadata": {
        "id": "fWeQayFM4HUA"
      },
      "source": [
        "# Preprocessing"
      ]
    },
    {
      "cell_type": "markdown",
      "metadata": {
        "id": "J2htEP504MqZ"
      },
      "source": [
        "## Padronize band names and projection"
      ]
    },
    {
      "cell_type": "code",
      "execution_count": null,
      "metadata": {
        "id": "bOj4m7t509TA",
        "colab": {
          "base_uri": "https://localhost:8080/",
          "height": 17
        },
        "outputId": "1501d4db-e141-443a-8d1a-3e5327cf0cfd"
      },
      "outputs": [
        {
          "output_type": "display_data",
          "data": {
            "text/plain": [
              "<IPython.core.display.HTML object>"
            ],
            "text/html": [
              "\n",
              "            <style>\n",
              "                .geemap-dark {\n",
              "                    --jp-widgets-color: white;\n",
              "                    --jp-widgets-label-color: white;\n",
              "                    --jp-ui-font-color1: white;\n",
              "                    --jp-layout-color2: #454545;\n",
              "                    background-color: #383838;\n",
              "                }\n",
              "                    \n",
              "                .geemap-dark .jupyter-button {\n",
              "                    --jp-layout-color3: #383838;\n",
              "                }\n",
              "                \n",
              "                .geemap-colab {\n",
              "                    background-color: var(--colab-primary-surface-color, white);\n",
              "                }\n",
              "                    \n",
              "                .geemap-colab .jupyter-button {\n",
              "                    --jp-layout-color3: var(--colab-primary-surface-color, white);\n",
              "                }\n",
              "            </style>\n",
              "            "
            ]
          },
          "metadata": {}
        }
      ],
      "source": [
        "## unify bands spatial resolution to 30m (mean reducer) and projection\n",
        "#reprojetar para mesmo epsg opção trocando resolução espacial e fazendo resample\n",
        "#agregar pixels - mesma projeção resolução espacial menor\n",
        "# def reproject_reduceResolution(img):\n",
        "#     return img.reduceResolution(reducer=ee.Reducer.mean(),\n",
        "#       maxPixels=1024\n",
        "#     ).reproject(crs=prj.crs(),\n",
        "#                 scale=prj.nominalScale()).copyProperties(img,['system:time_start'])\n",
        "\n",
        "#reamostrar pixels - muda projeção e resolução espacial diferente (pode ser maior)\n",
        "# def reproject_resample(img):\n",
        "#   return img.setDefaultProjection(crs=prj.crs(), scale=prj.nominalScale()).resample('bicubic').reproject(crs=prj.crs(),\n",
        "#   scale=prj.nominalScale()).copyProperties(img,['system:time_start'])\n",
        "\n",
        "\n",
        "# #apenas com reprojecao sem mudar escala nem reamostrar\n",
        "# def reprojectImg(img):\n",
        "#   return img.reproject(crs=prj.crs(),scale=img.select('green').projection().nominalScale()).copyProperties(img,['system:time_start'])"
      ]
    },
    {
      "cell_type": "code",
      "execution_count": 226,
      "metadata": {
        "id": "_OVbYj3AA-P0",
        "outputId": "ea1b3288-801f-4cdc-c037-cbdbca9eb9a3",
        "colab": {
          "base_uri": "https://localhost:8080/",
          "height": 17
        }
      },
      "outputs": [
        {
          "output_type": "display_data",
          "data": {
            "text/plain": [
              "<IPython.core.display.HTML object>"
            ],
            "text/html": [
              "\n",
              "            <style>\n",
              "                .geemap-dark {\n",
              "                    --jp-widgets-color: white;\n",
              "                    --jp-widgets-label-color: white;\n",
              "                    --jp-ui-font-color1: white;\n",
              "                    --jp-layout-color2: #454545;\n",
              "                    background-color: #383838;\n",
              "                }\n",
              "                    \n",
              "                .geemap-dark .jupyter-button {\n",
              "                    --jp-layout-color3: #383838;\n",
              "                }\n",
              "                \n",
              "                .geemap-colab {\n",
              "                    background-color: var(--colab-primary-surface-color, white);\n",
              "                }\n",
              "                    \n",
              "                .geemap-colab .jupyter-button {\n",
              "                    --jp-layout-color3: var(--colab-primary-surface-color, white);\n",
              "                }\n",
              "            </style>\n",
              "            "
            ]
          },
          "metadata": {}
        }
      ],
      "source": [
        "#renomear bandas\n",
        "prj = ee.Image('LANDSAT/LC08/C02/T1_TOA/LC08_228061_20161111').select(['B4']).projection()\n",
        "\n",
        "name_bands = ['blue','green','red','nir','swir']\n",
        "\n",
        "\n",
        "ld7 = landsat7.map(lambda img: img.select(['B1','B2','B3','B4','B5'])\\\n",
        "                        .rename(name_bands)\n",
        "                        .setDefaultProjection(prj))"
      ]
    },
    {
      "cell_type": "code",
      "execution_count": 227,
      "metadata": {
        "colab": {
          "base_uri": "https://localhost:8080/",
          "height": 34
        },
        "id": "7du0ZrTy6PVr",
        "outputId": "9a0f288a-0893-4d56-efce-5cc9ac5ca0b7"
      },
      "outputs": [
        {
          "output_type": "display_data",
          "data": {
            "text/plain": [
              "<IPython.core.display.HTML object>"
            ],
            "text/html": [
              "\n",
              "            <style>\n",
              "                .geemap-dark {\n",
              "                    --jp-widgets-color: white;\n",
              "                    --jp-widgets-label-color: white;\n",
              "                    --jp-ui-font-color1: white;\n",
              "                    --jp-layout-color2: #454545;\n",
              "                    background-color: #383838;\n",
              "                }\n",
              "                    \n",
              "                .geemap-dark .jupyter-button {\n",
              "                    --jp-layout-color3: #383838;\n",
              "                }\n",
              "                \n",
              "                .geemap-colab {\n",
              "                    background-color: var(--colab-primary-surface-color, white);\n",
              "                }\n",
              "                    \n",
              "                .geemap-colab .jupyter-button {\n",
              "                    --jp-layout-color3: var(--colab-primary-surface-color, white);\n",
              "                }\n",
              "            </style>\n",
              "            "
            ]
          },
          "metadata": {}
        },
        {
          "output_type": "stream",
          "name": "stdout",
          "text": [
            "{'type': 'Projection', 'crs': 'EPSG:32621', 'transform': [30, 0, 540285, 0, -30, -44085]}\n"
          ]
        }
      ],
      "source": [
        "print(ld7.first().select('red').projection().getInfo())"
      ]
    },
    {
      "cell_type": "code",
      "source": [
        "ld8 = landsat8.map(lambda img: img.select(['B2','B3','B4','B5','B6'])\\\n",
        "                        .rename(name_bands)\n",
        "                        .setDefaultProjection(prj))"
      ],
      "metadata": {
        "id": "-Rw8JGNKPLda"
      },
      "execution_count": null,
      "outputs": []
    },
    {
      "cell_type": "code",
      "source": [
        "print(ld8.first().select('red').projection().getInfo())"
      ],
      "metadata": {
        "id": "y-zhq3rjPQbo"
      },
      "execution_count": null,
      "outputs": []
    },
    {
      "cell_type": "code",
      "source": [
        "s2 = sentinel2.map(lambda img: img.select(['B2','B3','B4','B8','B11'])\\\n",
        "                        .rename(name_bands)\n",
        "                        .setDefaultProjection(prj))"
      ],
      "metadata": {
        "id": "lXnxSFb-Lq0Z"
      },
      "execution_count": null,
      "outputs": []
    },
    {
      "cell_type": "code",
      "source": [
        "print(s2.first().select('red').projection().getInfo())"
      ],
      "metadata": {
        "id": "W3P9vF6uLuLK"
      },
      "execution_count": null,
      "outputs": []
    },
    {
      "cell_type": "markdown",
      "metadata": {
        "id": "SqVnum7P7Nps"
      },
      "source": [
        "## ATM correction"
      ]
    },
    {
      "cell_type": "markdown",
      "source": [
        "Dark Object Subtraction"
      ],
      "metadata": {
        "id": "CI6Lw8QtQ_mo"
      }
    },
    {
      "cell_type": "code",
      "execution_count": 169,
      "metadata": {
        "id": "TIQ3S4lJnThX",
        "outputId": "2a14fa8a-33e8-4e66-bfec-f721554121ca",
        "colab": {
          "base_uri": "https://localhost:8080/",
          "height": 17
        }
      },
      "outputs": [
        {
          "output_type": "display_data",
          "data": {
            "text/plain": [
              "<IPython.core.display.HTML object>"
            ],
            "text/html": [
              "\n",
              "            <style>\n",
              "                .geemap-dark {\n",
              "                    --jp-widgets-color: white;\n",
              "                    --jp-widgets-label-color: white;\n",
              "                    --jp-ui-font-color1: white;\n",
              "                    --jp-layout-color2: #454545;\n",
              "                    background-color: #383838;\n",
              "                }\n",
              "                    \n",
              "                .geemap-dark .jupyter-button {\n",
              "                    --jp-layout-color3: #383838;\n",
              "                }\n",
              "                \n",
              "                .geemap-colab {\n",
              "                    background-color: var(--colab-primary-surface-color, white);\n",
              "                }\n",
              "                    \n",
              "                .geemap-colab .jupyter-button {\n",
              "                    --jp-layout-color3: var(--colab-primary-surface-color, white);\n",
              "                }\n",
              "            </style>\n",
              "            "
            ]
          },
          "metadata": {}
        }
      ],
      "source": [
        "def darkObjectSubtraction(img):\n",
        "    imgReducedVal = (img.reduceRegion(**{\n",
        "      'reducer': ee.Reducer.mean(),\n",
        "      'geometry': img.geometry(),\n",
        "      'crs': img.select('red').projection().crs(),\n",
        "      'scale': img.select('red').projection().nominalScale(),\n",
        "      'maxPixels': 1e9}))\n",
        "\n",
        "    offset = imgReducedVal.toImage(img.bandNames())\n",
        "\n",
        "    imgAdj = img.subtract(offset)\n",
        "\n",
        "    return imgAdj.set('system:time_start',img.get('system:time_start'))"
      ]
    },
    {
      "cell_type": "code",
      "execution_count": 228,
      "metadata": {
        "id": "LNkOwuK0naoP",
        "outputId": "43f811ff-563f-4989-f3bc-5707bfddd0b7",
        "colab": {
          "base_uri": "https://localhost:8080/",
          "height": 17
        }
      },
      "outputs": [
        {
          "output_type": "display_data",
          "data": {
            "text/plain": [
              "<IPython.core.display.HTML object>"
            ],
            "text/html": [
              "\n",
              "            <style>\n",
              "                .geemap-dark {\n",
              "                    --jp-widgets-color: white;\n",
              "                    --jp-widgets-label-color: white;\n",
              "                    --jp-ui-font-color1: white;\n",
              "                    --jp-layout-color2: #454545;\n",
              "                    background-color: #383838;\n",
              "                }\n",
              "                    \n",
              "                .geemap-dark .jupyter-button {\n",
              "                    --jp-layout-color3: #383838;\n",
              "                }\n",
              "                \n",
              "                .geemap-colab {\n",
              "                    background-color: var(--colab-primary-surface-color, white);\n",
              "                }\n",
              "                    \n",
              "                .geemap-colab .jupyter-button {\n",
              "                    --jp-layout-color3: var(--colab-primary-surface-color, white);\n",
              "                }\n",
              "            </style>\n",
              "            "
            ]
          },
          "metadata": {}
        }
      ],
      "source": [
        "## aplicar correção atm\n",
        "##DOS\n",
        "ld7_cor = ld7.map(darkObjectSubtraction)"
      ]
    },
    {
      "cell_type": "code",
      "source": [
        "ld8_cor = ld8.map(darkObjectSubtraction)"
      ],
      "metadata": {
        "id": "5cbubJL1PV2w"
      },
      "execution_count": null,
      "outputs": []
    },
    {
      "cell_type": "code",
      "source": [
        "s2_cor = s2.map(darkObjectSubtraction)"
      ],
      "metadata": {
        "id": "8SlUrLoFLwBN",
        "outputId": "3b7eed2d-a206-458f-cfe2-7c37f20acc03",
        "colab": {
          "base_uri": "https://localhost:8080/",
          "height": 17
        }
      },
      "execution_count": 170,
      "outputs": [
        {
          "output_type": "display_data",
          "data": {
            "text/plain": [
              "<IPython.core.display.HTML object>"
            ],
            "text/html": [
              "\n",
              "            <style>\n",
              "                .geemap-dark {\n",
              "                    --jp-widgets-color: white;\n",
              "                    --jp-widgets-label-color: white;\n",
              "                    --jp-ui-font-color1: white;\n",
              "                    --jp-layout-color2: #454545;\n",
              "                    background-color: #383838;\n",
              "                }\n",
              "                    \n",
              "                .geemap-dark .jupyter-button {\n",
              "                    --jp-layout-color3: #383838;\n",
              "                }\n",
              "                \n",
              "                .geemap-colab {\n",
              "                    background-color: var(--colab-primary-surface-color, white);\n",
              "                }\n",
              "                    \n",
              "                .geemap-colab .jupyter-button {\n",
              "                    --jp-layout-color3: var(--colab-primary-surface-color, white);\n",
              "                }\n",
              "            </style>\n",
              "            "
            ]
          },
          "metadata": {}
        }
      ]
    },
    {
      "cell_type": "code",
      "execution_count": null,
      "metadata": {
        "id": "_msCilc5r9wv"
      },
      "outputs": [],
      "source": [
        "Map = geemap.Map(basemap='HYBRID')\n",
        "Map.centerObject(roi_points,10)\n",
        "vis =  {'bands':['red','green','blue'],'min':0,'max':0.04}\n",
        "Map.addLayer(ld7_cor.first(),vis, 'landsat7')\n",
        "Map.addLayer(ld8_cor.first(), vis, 'landsat8')\n",
        "Map.addLayer(s2_cor.first(), vis, 'sentinel2')\n",
        "\n",
        "Map.addLayer(roi_points, {'color':'darkred'}, 'Data Points');\n",
        "# Map.addLayer(roi_poly, {'color':'darkred'}, 'Data polygon');\n",
        "Map"
      ]
    },
    {
      "cell_type": "markdown",
      "metadata": {
        "id": "c6MTfNIk8Ooz"
      },
      "source": [
        "## Transform into remote sensing  reflectance and sunglint correction"
      ]
    },
    {
      "cell_type": "code",
      "execution_count": 172,
      "metadata": {
        "id": "8u58DQ6u3NBT",
        "outputId": "b5c7bc6f-af73-49f8-d4db-1fb48ca415c5",
        "colab": {
          "base_uri": "https://localhost:8080/",
          "height": 17
        }
      },
      "outputs": [
        {
          "output_type": "display_data",
          "data": {
            "text/plain": [
              "<IPython.core.display.HTML object>"
            ],
            "text/html": [
              "\n",
              "            <style>\n",
              "                .geemap-dark {\n",
              "                    --jp-widgets-color: white;\n",
              "                    --jp-widgets-label-color: white;\n",
              "                    --jp-ui-font-color1: white;\n",
              "                    --jp-layout-color2: #454545;\n",
              "                    background-color: #383838;\n",
              "                }\n",
              "                    \n",
              "                .geemap-dark .jupyter-button {\n",
              "                    --jp-layout-color3: #383838;\n",
              "                }\n",
              "                \n",
              "                .geemap-colab {\n",
              "                    background-color: var(--colab-primary-surface-color, white);\n",
              "                }\n",
              "                    \n",
              "                .geemap-colab .jupyter-button {\n",
              "                    --jp-layout-color3: var(--colab-primary-surface-color, white);\n",
              "                }\n",
              "            </style>\n",
              "            "
            ]
          },
          "metadata": {}
        }
      ],
      "source": [
        "#dividir imagem corrigida por pi\n",
        "# Rrs_sat_ac = Rsat_ac / pi\n",
        "\n",
        "#fazer deglint\n",
        "#Rrs_sat_ac_deglint(VNIR) = Rrs_sat_ac (VNIR) − Rrs_sat_ac (SWIR)\n",
        "#correção no artigo INPE CURUAI\n",
        "def deglint (img):\n",
        "    Rrs = img.divide(math.pi)\n",
        "    deglint = Rrs.select(['blue','green','red','nir'])\\\n",
        "    .subtract(Rrs.select('swir'))\n",
        "\n",
        "    return (deglint.updateMask(deglint.select(['red']).gt(0))\n",
        "    .copyProperties(img,['system:time_start']))"
      ]
    },
    {
      "cell_type": "code",
      "execution_count": 229,
      "metadata": {
        "id": "eoKjzz0Q_YUP",
        "outputId": "4b26eeab-8568-4a47-b03b-04c231a47a96",
        "colab": {
          "base_uri": "https://localhost:8080/",
          "height": 17
        }
      },
      "outputs": [
        {
          "output_type": "display_data",
          "data": {
            "text/plain": [
              "<IPython.core.display.HTML object>"
            ],
            "text/html": [
              "\n",
              "            <style>\n",
              "                .geemap-dark {\n",
              "                    --jp-widgets-color: white;\n",
              "                    --jp-widgets-label-color: white;\n",
              "                    --jp-ui-font-color1: white;\n",
              "                    --jp-layout-color2: #454545;\n",
              "                    background-color: #383838;\n",
              "                }\n",
              "                    \n",
              "                .geemap-dark .jupyter-button {\n",
              "                    --jp-layout-color3: #383838;\n",
              "                }\n",
              "                \n",
              "                .geemap-colab {\n",
              "                    background-color: var(--colab-primary-surface-color, white);\n",
              "                }\n",
              "                    \n",
              "                .geemap-colab .jupyter-button {\n",
              "                    --jp-layout-color3: var(--colab-primary-surface-color, white);\n",
              "                }\n",
              "            </style>\n",
              "            "
            ]
          },
          "metadata": {}
        }
      ],
      "source": [
        "landsat7_rs = ld7_cor.map(deglint)"
      ]
    },
    {
      "cell_type": "code",
      "source": [
        "landsat8_rs = ld8_cor.map(deglint)"
      ],
      "metadata": {
        "id": "SdV0n7_fPZuX"
      },
      "execution_count": null,
      "outputs": []
    },
    {
      "cell_type": "code",
      "source": [
        "sentinel2_rs = s2_cor.map(deglint)"
      ],
      "metadata": {
        "id": "9W9zyPeUL0SJ"
      },
      "execution_count": null,
      "outputs": []
    },
    {
      "cell_type": "code",
      "execution_count": null,
      "metadata": {
        "id": "MP28jgso8u0o"
      },
      "outputs": [],
      "source": [
        "Map = geemap.Map(basemap='HYBRID')\n",
        "Map.centerObject(roi_points,10)\n",
        "vis =  {'bands':['red','green','blue'],'min':0.01,'max':0.06}\n",
        "Map.addLayer(landsat7_rs.first(),vis, 'landsat7')\n",
        "Map.addLayer(landsat8_rs.first(), vis, 'landsat8')\n",
        "Map.addLayer(sentinel2_rs.first(), vis, 'sentinel2')\n",
        "\n",
        "Map.addLayer(roi_points, {'color':'darkred'}, 'Data Points');\n",
        "# Map.addLayer(roi_poly, {'color':'darkred'}, 'Data polygon');\n",
        "Map"
      ]
    },
    {
      "cell_type": "markdown",
      "metadata": {
        "id": "WH-K6yKxBuoY"
      },
      "source": [
        "# Sample data points pixel values"
      ]
    },
    {
      "cell_type": "markdown",
      "source": [
        "filter images that fall within a 16-day window period from each field point date"
      ],
      "metadata": {
        "id": "-B4lq8SGRMl8"
      }
    },
    {
      "cell_type": "code",
      "execution_count": 150,
      "metadata": {
        "id": "6Qj2mZVN_dPw",
        "outputId": "36bdd25c-2731-4b1d-ae9e-19860fdd8930",
        "colab": {
          "base_uri": "https://localhost:8080/",
          "height": 17
        }
      },
      "outputs": [
        {
          "output_type": "display_data",
          "data": {
            "text/plain": [
              "<IPython.core.display.HTML object>"
            ],
            "text/html": [
              "\n",
              "            <style>\n",
              "                .geemap-dark {\n",
              "                    --jp-widgets-color: white;\n",
              "                    --jp-widgets-label-color: white;\n",
              "                    --jp-ui-font-color1: white;\n",
              "                    --jp-layout-color2: #454545;\n",
              "                    background-color: #383838;\n",
              "                }\n",
              "                    \n",
              "                .geemap-dark .jupyter-button {\n",
              "                    --jp-layout-color3: #383838;\n",
              "                }\n",
              "                \n",
              "                .geemap-colab {\n",
              "                    background-color: var(--colab-primary-surface-color, white);\n",
              "                }\n",
              "                    \n",
              "                .geemap-colab .jupyter-button {\n",
              "                    --jp-layout-color3: var(--colab-primary-surface-color, white);\n",
              "                }\n",
              "            </style>\n",
              "            "
            ]
          },
          "metadata": {}
        }
      ],
      "source": [
        "def imgs_points(collection):\n",
        "    def wrap(feat):\n",
        "        date_point = ee.Date(feat.get('system:time_start'))\n",
        "        data1 = date_point.advance(-16,'day')\\\n",
        "        .format('yyyy-MM-dd')\n",
        "\n",
        "        data2 = date_point.advance(16,'day')\\\n",
        "        .format('yyyy-MM-dd')\n",
        "\n",
        "        filtro = collection.filterDate(data1,data2)\\\n",
        "        .filterBounds(feat.geometry())\\\n",
        "        .map(lambda img: img.set('dif_date_point',ee.Date(img.get('system:time_start')).difference(date_point, 'day'))\\\n",
        "            .copyProperties(feat,['ID']))\n",
        "\n",
        "\n",
        "        return ee.ImageCollection(filtro.limit(4)) ####sera q precisa converter??\n",
        "\n",
        "    return wrap"
      ]
    },
    {
      "cell_type": "markdown",
      "source": [
        "obtain statistics for the same location of the field point - with a 3 pixel window - and filter out if more than 4 pixels are masked   "
      ],
      "metadata": {
        "id": "A3RjeCtsRr2h"
      }
    },
    {
      "cell_type": "code",
      "source": [
        "def sample_point(img):\n",
        "  feat = roi_points.filter(ee.Filter.eq('ID',img.get('ID'))).first()\n",
        "  geom = feat.geometry().buffer(45).bounds()\n",
        "\n",
        "  mean = img.reduceRegion(geometry=geom,\n",
        "                          scale=prj.nominalScale(),\n",
        "                          crs=prj.crs(),\n",
        "                          reducer=ee.Reducer.mean())\n",
        "  median = img.reduceRegion(geometry=geom,\n",
        "                            scale=prj.nominalScale(),\n",
        "                            crs=prj.crs(),\n",
        "                            reducer=ee.Reducer.median())\n",
        "  minMax = img.reduceRegion(geometry=geom,\n",
        "                            scale=prj.nominalScale(),\n",
        "                            crs=prj.crs(),\n",
        "                            reducer=ee.Reducer.minMax())\n",
        "  count = img.reduceRegion(geometry=geom,\n",
        "                            scale=prj.nominalScale(),\n",
        "                            crs=prj.crs(),\n",
        "                            reducer=ee.Reducer.count())\n",
        "  return feat.set({\n",
        "      'dif_date_point': img.get('dif_date_point'),\n",
        "      'blue_mean':mean.get('blue'),\n",
        "      'green_mean':mean.get('green'),\n",
        "      'red_mean':mean.get('red'),\n",
        "      'nir_mean':mean.get('nir'),\n",
        "      'blue_median':median.get('blue'),\n",
        "      'green_meadin':median.get('green'),\n",
        "      'red_median':median.get('red'),\n",
        "      'nir_median':median.get('nir'),\n",
        "      'blue_min':minMax.get('blue_min'),\n",
        "      'green_min':minMax.get('green_min'),\n",
        "      'red_min':minMax.get('red_min'),\n",
        "      'nir_min':minMax.get('nir_min'),\n",
        "      'blue_max':minMax.get('blue_max'),\n",
        "      'green_max':minMax.get('green_max'),\n",
        "      'red_max':minMax.get('red_max'),\n",
        "      'nir_max':minMax.get('nir_max'),\n",
        "      \"count_pixel\":count.get('red')\n",
        "      })\n",
        "  return minMax\n",
        "filter_count = ee.Filter.gt('count_pixel',4)"
      ],
      "metadata": {
        "id": "fk_ahS2mn65N",
        "outputId": "c3fc51e8-48f6-4bbd-b318-2d51cb76eac9",
        "colab": {
          "base_uri": "https://localhost:8080/",
          "height": 17
        }
      },
      "execution_count": 152,
      "outputs": [
        {
          "output_type": "display_data",
          "data": {
            "text/plain": [
              "<IPython.core.display.HTML object>"
            ],
            "text/html": [
              "\n",
              "            <style>\n",
              "                .geemap-dark {\n",
              "                    --jp-widgets-color: white;\n",
              "                    --jp-widgets-label-color: white;\n",
              "                    --jp-ui-font-color1: white;\n",
              "                    --jp-layout-color2: #454545;\n",
              "                    background-color: #383838;\n",
              "                }\n",
              "                    \n",
              "                .geemap-dark .jupyter-button {\n",
              "                    --jp-layout-color3: #383838;\n",
              "                }\n",
              "                \n",
              "                .geemap-colab {\n",
              "                    background-color: var(--colab-primary-surface-color, white);\n",
              "                }\n",
              "                    \n",
              "                .geemap-colab .jupyter-button {\n",
              "                    --jp-layout-color3: var(--colab-primary-surface-color, white);\n",
              "                }\n",
              "            </style>\n",
              "            "
            ]
          },
          "metadata": {}
        }
      ]
    },
    {
      "cell_type": "markdown",
      "source": [
        "### Landsat 7"
      ],
      "metadata": {
        "id": "oX0L3v-DRbpf"
      }
    },
    {
      "cell_type": "code",
      "execution_count": 230,
      "metadata": {
        "id": "rDmbdMyLIBJH",
        "outputId": "b6306cba-c286-45d3-d9c1-226dde592d00",
        "colab": {
          "base_uri": "https://localhost:8080/",
          "height": 17
        }
      },
      "outputs": [
        {
          "output_type": "display_data",
          "data": {
            "text/plain": [
              "<IPython.core.display.HTML object>"
            ],
            "text/html": [
              "\n",
              "            <style>\n",
              "                .geemap-dark {\n",
              "                    --jp-widgets-color: white;\n",
              "                    --jp-widgets-label-color: white;\n",
              "                    --jp-ui-font-color1: white;\n",
              "                    --jp-layout-color2: #454545;\n",
              "                    background-color: #383838;\n",
              "                }\n",
              "                    \n",
              "                .geemap-dark .jupyter-button {\n",
              "                    --jp-layout-color3: #383838;\n",
              "                }\n",
              "                \n",
              "                .geemap-colab {\n",
              "                    background-color: var(--colab-primary-surface-color, white);\n",
              "                }\n",
              "                    \n",
              "                .geemap-colab .jupyter-button {\n",
              "                    --jp-layout-color3: var(--colab-primary-surface-color, white);\n",
              "                }\n",
              "            </style>\n",
              "            "
            ]
          },
          "metadata": {}
        }
      ],
      "source": [
        "img_pointsLD7 = ee.ImageCollection(roi_points.map(imgs_points(landsat7_rs)).flatten().toList(2000))"
      ]
    },
    {
      "cell_type": "code",
      "execution_count": null,
      "metadata": {
        "id": "HmnUEuH6IUC6"
      },
      "outputs": [],
      "source": [
        "img_pointsLD7.size()\n"
      ]
    },
    {
      "cell_type": "code",
      "source": [
        "img_pointsLD7.aggregate_count_distinct('ID')"
      ],
      "metadata": {
        "id": "FOTB7ldweviC"
      },
      "execution_count": null,
      "outputs": []
    },
    {
      "cell_type": "code",
      "source": [
        "img_pointsLD7.limit(5)"
      ],
      "metadata": {
        "id": "lwFy4mjzU7Zf"
      },
      "execution_count": null,
      "outputs": []
    },
    {
      "cell_type": "code",
      "source": [
        "reduced_LD7 = ee.FeatureCollection(img_pointsLD7.map(sample_point)).filter(filter_count)"
      ],
      "metadata": {
        "id": "cTOkf_RDzPNQ",
        "outputId": "dee8f359-f8a2-4e8b-9b91-134ea5295a62",
        "colab": {
          "base_uri": "https://localhost:8080/",
          "height": 17
        }
      },
      "execution_count": 231,
      "outputs": [
        {
          "output_type": "display_data",
          "data": {
            "text/plain": [
              "<IPython.core.display.HTML object>"
            ],
            "text/html": [
              "\n",
              "            <style>\n",
              "                .geemap-dark {\n",
              "                    --jp-widgets-color: white;\n",
              "                    --jp-widgets-label-color: white;\n",
              "                    --jp-ui-font-color1: white;\n",
              "                    --jp-layout-color2: #454545;\n",
              "                    background-color: #383838;\n",
              "                }\n",
              "                    \n",
              "                .geemap-dark .jupyter-button {\n",
              "                    --jp-layout-color3: #383838;\n",
              "                }\n",
              "                \n",
              "                .geemap-colab {\n",
              "                    background-color: var(--colab-primary-surface-color, white);\n",
              "                }\n",
              "                    \n",
              "                .geemap-colab .jupyter-button {\n",
              "                    --jp-layout-color3: var(--colab-primary-surface-color, white);\n",
              "                }\n",
              "            </style>\n",
              "            "
            ]
          },
          "metadata": {}
        }
      ]
    },
    {
      "cell_type": "code",
      "source": [
        "reduced_LD7.limit(2)"
      ],
      "metadata": {
        "id": "wVhvOGr022ro",
        "colab": {
          "base_uri": "https://localhost:8080/",
          "height": 68
        },
        "outputId": "c5de9405-cff6-4314-d4ed-26fa928c94bb"
      },
      "execution_count": 120,
      "outputs": [
        {
          "output_type": "display_data",
          "data": {
            "text/plain": [
              "<IPython.core.display.HTML object>"
            ],
            "text/html": [
              "\n",
              "            <style>\n",
              "                .geemap-dark {\n",
              "                    --jp-widgets-color: white;\n",
              "                    --jp-widgets-label-color: white;\n",
              "                    --jp-ui-font-color1: white;\n",
              "                    --jp-layout-color2: #454545;\n",
              "                    background-color: #383838;\n",
              "                }\n",
              "                    \n",
              "                .geemap-dark .jupyter-button {\n",
              "                    --jp-layout-color3: #383838;\n",
              "                }\n",
              "                \n",
              "                .geemap-colab {\n",
              "                    background-color: var(--colab-primary-surface-color, white);\n",
              "                }\n",
              "                    \n",
              "                .geemap-colab .jupyter-button {\n",
              "                    --jp-layout-color3: var(--colab-primary-surface-color, white);\n",
              "                }\n",
              "            </style>\n",
              "            "
            ]
          },
          "metadata": {}
        },
        {
          "output_type": "execute_result",
          "data": {
            "text/plain": [
              "<ee.featurecollection.FeatureCollection at 0x7d93459331c0>"
            ],
            "text/html": [
              "<div><style>:root {\n",
              "  --font-color-primary: var(--jp-content-font-color0, rgba(0, 0, 0, 1));\n",
              "  --font-color-secondary: var(--jp-content-font-color2, rgba(0, 0, 0, 0.6));\n",
              "  --font-color-accent: rgba(123, 31, 162, 1);\n",
              "  --border-color: var(--jp-border-color2, #e0e0e0);\n",
              "  --background-color: var(--jp-layout-color0, white);\n",
              "  --background-color-row-even: var(--jp-layout-color1, white);\n",
              "  --background-color-row-odd: var(--jp-layout-color2, #eeeeee);\n",
              "}\n",
              "\n",
              "html[theme=\"dark\"],\n",
              "body[data-theme=\"dark\"],\n",
              "body.vscode-dark {\n",
              "  --font-color-primary: rgba(255, 255, 255, 1);\n",
              "  --font-color-secondary: rgba(255, 255, 255, 0.6);\n",
              "  --font-color-accent: rgb(173, 132, 190);\n",
              "  --border-color: #2e2e2e;\n",
              "  --background-color: #111111;\n",
              "  --background-color-row-even: #111111;\n",
              "  --background-color-row-odd: #313131;\n",
              "}\n",
              "\n",
              ".ee {\n",
              "  padding: 1em;\n",
              "  line-height: 1.5em;\n",
              "  min-width: 300px;\n",
              "  max-width: 1200px;\n",
              "  overflow-y: scroll;\n",
              "  max-height: 600px;\n",
              "  border: 1px solid var(--border-color);\n",
              "  font-family: monospace;\n",
              "}\n",
              "\n",
              ".ee li {\n",
              "  list-style-type: none;\n",
              "}\n",
              "\n",
              ".ee ul {\n",
              "  padding-left: 1.5em !important;\n",
              "  margin: 0;\n",
              "}\n",
              "\n",
              ".ee > ul {\n",
              "  padding-left: 0 !important;\n",
              "}\n",
              "\n",
              ".ee-open,\n",
              ".ee-shut {\n",
              "  color: var(--font-color-secondary);\n",
              "  cursor: pointer;\n",
              "  margin: 0;\n",
              "}\n",
              "\n",
              ".ee-open:hover,\n",
              ".ee-shut:hover {\n",
              "  color: var(--font-color-primary);\n",
              "}\n",
              "\n",
              ".ee-k {\n",
              "  color: var(--font-color-accent);\n",
              "  margin-right: 6px;\n",
              "}\n",
              "\n",
              ".ee-v {\n",
              "  color: var(--font-color-primary);\n",
              "}\n",
              "\n",
              ".ee-toggle {\n",
              "  display: none;\n",
              "}\n",
              "\n",
              ".ee-shut + ul {\n",
              "  display: none;\n",
              "}\n",
              "\n",
              ".ee-open + ul {\n",
              "  display: block;\n",
              "}\n",
              "\n",
              ".ee-shut::before {\n",
              "  display: inline-block;\n",
              "  content: \"▼\";\n",
              "  margin-right: 6px;\n",
              "  transform: rotate(-90deg);\n",
              "  transition: transform 0.2s;\n",
              "}\n",
              "\n",
              ".ee-open::before {\n",
              "  transform: rotate(0deg);\n",
              "  display: inline-block;\n",
              "  content: \"▼\";\n",
              "  margin-right: 6px;\n",
              "  transition: transform 0.2s;\n",
              "}\n",
              "</style><div class='ee'><ul><li><label class='ee-shut'>FeatureCollection (2 elements, 25 columns)<input type='checkbox' class='ee-toggle'></label><ul><li><span class='ee-k'>type:</span><span class='ee-v'>FeatureCollection</span></li><li><label class='ee-shut'>columns: Object (25 properties)<input type='checkbox' class='ee-toggle'></label><ul><li><span class='ee-k'>DATE:</span><span class='ee-v'>String</span></li><li><span class='ee-k'>ID:</span><span class='ee-v'>Integer</span></li><li><span class='ee-k'>LATITUDE:</span><span class='ee-v'>Float</span></li><li><span class='ee-k'>LONGITUDE:</span><span class='ee-v'>Float</span></li><li><span class='ee-k'>MISSION:</span><span class='ee-v'>String</span></li><li><span class='ee-k'>blue_max:</span><span class='ee-v'>Object</span></li><li><span class='ee-k'>blue_mean:</span><span class='ee-v'>Object</span></li><li><span class='ee-k'>blue_median:</span><span class='ee-v'>Object</span></li><li><span class='ee-k'>blue_min:</span><span class='ee-v'>Object</span></li><li><span class='ee-k'>count_pixel:</span><span class='ee-v'>Object</span></li><li><span class='ee-k'>dif_date_point:</span><span class='ee-v'>Object</span></li><li><span class='ee-k'>green_max:</span><span class='ee-v'>Object</span></li><li><span class='ee-k'>green_meadin:</span><span class='ee-v'>Object</span></li><li><span class='ee-k'>green_mean:</span><span class='ee-v'>Object</span></li><li><span class='ee-k'>green_min:</span><span class='ee-v'>Object</span></li><li><span class='ee-k'>nir_max:</span><span class='ee-v'>Object</span></li><li><span class='ee-k'>nir_mean:</span><span class='ee-v'>Object</span></li><li><span class='ee-k'>nir_median:</span><span class='ee-v'>Object</span></li><li><span class='ee-k'>nir_min:</span><span class='ee-v'>Object</span></li><li><span class='ee-k'>red_max:</span><span class='ee-v'>Object</span></li><li><span class='ee-k'>red_mean:</span><span class='ee-v'>Object</span></li><li><span class='ee-k'>red_median:</span><span class='ee-v'>Object</span></li><li><span class='ee-k'>red_min:</span><span class='ee-v'>Object</span></li><li><span class='ee-k'>system:index:</span><span class='ee-v'>String</span></li><li><span class='ee-k'>system:time_start:</span><span class='ee-v'>Date</span></li></ul></li><li><label class='ee-shut'>features: List (2 elements)<input type='checkbox' class='ee-toggle'></label><ul><li><label class='ee-shut'>0: Feature (Point, 24 properties)<input type='checkbox' class='ee-toggle'></label><ul><li><span class='ee-k'>type:</span><span class='ee-v'>Feature</span></li><li><span class='ee-k'>id:</span><span class='ee-v'>306_LE07_228061_20161002</span></li><li><label class='ee-shut'>geometry: Point (-55.38, -2.26)<input type='checkbox' class='ee-toggle'></label><ul><li><span class='ee-k'>type:</span><span class='ee-v'>Point</span></li><li><label class='ee-shut'>coordinates: [-55.376673, -2.255185]<input type='checkbox' class='ee-toggle'></label><ul><li><span class='ee-k'>0:</span><span class='ee-v'>-55.376673</span></li><li><span class='ee-k'>1:</span><span class='ee-v'>-2.255185</span></li></ul></li></ul></li><li><label class='ee-shut'>properties: Object (24 properties)<input type='checkbox' class='ee-toggle'></label><ul><li><span class='ee-k'>DATE:</span><span class='ee-v'>2016-09-29 00:00:00</span></li><li><span class='ee-k'>ID:</span><span class='ee-v'>306</span></li><li><span class='ee-k'>LATITUDE:</span><span class='ee-v'>-2.255185</span></li><li><span class='ee-k'>LONGITUDE:</span><span class='ee-v'>-55.376673</span></li><li><span class='ee-k'>MISSION:</span><span class='ee-v'>VII</span></li><li><span class='ee-k'>blue_max:</span><span class='ee-v'>0.04611066261541344</span></li><li><span class='ee-k'>blue_mean:</span><span class='ee-v'>0.04546532752006404</span></li><li><span class='ee-k'>blue_median:</span><span class='ee-v'>0.04547574910019152</span></li><li><span class='ee-k'>blue_min:</span><span class='ee-v'>0.04547574910019152</span></li><li><span class='ee-k'>count_pixel:</span><span class='ee-v'>5</span></li><li><span class='ee-k'>dif_date_point:</span><span class='ee-v'>3.581079548611111</span></li><li><span class='ee-k'>green_max:</span><span class='ee-v'>0.051926519225177006</span></li><li><span class='ee-k'>green_meadin:</span><span class='ee-v'>0.05098175465257615</span></li><li><span class='ee-k'>green_mean:</span><span class='ee-v'>0.05096941900632201</span></li><li><span class='ee-k'>green_min:</span><span class='ee-v'>0.05026809000486136</span></li><li><span class='ee-k'>nir_max:</span><span class='ee-v'>-0.005506502311934641</span></li><li><span class='ee-k'>nir_mean:</span><span class='ee-v'>-0.005755098599231021</span></li><li><span class='ee-k'>nir_median:</span><span class='ee-v'>-0.005552608460425691</span></li><li><span class='ee-k'>nir_min:</span><span class='ee-v'>-0.0064973730330265475</span></li><li><span class='ee-k'>red_max:</span><span class='ee-v'>0.06635836047896979</span></li><li><span class='ee-k'>red_mean:</span><span class='ee-v'>0.06603639511811596</span></li><li><span class='ee-k'>red_median:</span><span class='ee-v'>0.06594978472896262</span></li><li><span class='ee-k'>red_min:</span><span class='ee-v'>0.06594978472896262</span></li><li><label class='ee-shut'>system:time_start: Date (2016-09-29 00:00:00)<input type='checkbox' class='ee-toggle'></label><ul><li><span class='ee-k'>type:</span><span class='ee-v'>Date</span></li><li><span class='ee-k'>value:</span><span class='ee-v'>1475107200000</span></li></ul></li></ul></li></ul></li><li><label class='ee-shut'>1: Feature (Point, 24 properties)<input type='checkbox' class='ee-toggle'></label><ul><li><span class='ee-k'>type:</span><span class='ee-v'>Feature</span></li><li><span class='ee-k'>id:</span><span class='ee-v'>306_LE07_228062_20161002</span></li><li><label class='ee-shut'>geometry: Point (-55.38, -2.26)<input type='checkbox' class='ee-toggle'></label><ul><li><span class='ee-k'>type:</span><span class='ee-v'>Point</span></li><li><label class='ee-shut'>coordinates: [-55.376673, -2.255185]<input type='checkbox' class='ee-toggle'></label><ul><li><span class='ee-k'>0:</span><span class='ee-v'>-55.376673</span></li><li><span class='ee-k'>1:</span><span class='ee-v'>-2.255185</span></li></ul></li></ul></li><li><label class='ee-shut'>properties: Object (24 properties)<input type='checkbox' class='ee-toggle'></label><ul><li><span class='ee-k'>DATE:</span><span class='ee-v'>2016-09-29 00:00:00</span></li><li><span class='ee-k'>ID:</span><span class='ee-v'>306</span></li><li><span class='ee-k'>LATITUDE:</span><span class='ee-v'>-2.255185</span></li><li><span class='ee-k'>LONGITUDE:</span><span class='ee-v'>-55.376673</span></li><li><span class='ee-k'>MISSION:</span><span class='ee-v'>VII</span></li><li><span class='ee-k'>blue_max:</span><span class='ee-v'>0.0414002331521113</span></li><li><span class='ee-k'>blue_mean:</span><span class='ee-v'>0.040622560326192485</span></li><li><span class='ee-k'>blue_median:</span><span class='ee-v'>0.04076488800687933</span></li><li><span class='ee-k'>blue_min:</span><span class='ee-v'>0.04014476374848525</span></li><li><span class='ee-k'>count_pixel:</span><span class='ee-v'>5</span></li><li><span class='ee-k'>dif_date_point:</span><span class='ee-v'>3.581356412037037</span></li><li><span class='ee-k'>green_max:</span><span class='ee-v'>0.04843093371233457</span></li><li><span class='ee-k'>green_meadin:</span><span class='ee-v'>0.04748552643790556</span></li><li><span class='ee-k'>green_mean:</span><span class='ee-v'>0.04734128453060829</span></li><li><span class='ee-k'>green_min:</span><span class='ee-v'>0.045825970710695565</span></li><li><span class='ee-k'>nir_max:</span><span class='ee-v'>-0.005294962570628128</span></li><li><span class='ee-k'>nir_mean:</span><span class='ee-v'>-0.006538200416583252</span></li><li><span class='ee-k'>nir_median:</span><span class='ee-v'>-0.006286511567450109</span></li><li><span class='ee-k'>nir_min:</span><span class='ee-v'>-0.007231918841879119</span></li><li><span class='ee-k'>red_max:</span><span class='ee-v'>0.06338886238250604</span></li><li><span class='ee-k'>red_mean:</span><span class='ee-v'>0.06293477994437624</span></li><li><span class='ee-k'>red_median:</span><span class='ee-v'>0.06298000915606385</span></li><li><span class='ee-k'>red_min:</span><span class='ee-v'>0.06244345510807704</span></li><li><label class='ee-shut'>system:time_start: Date (2016-09-29 00:00:00)<input type='checkbox' class='ee-toggle'></label><ul><li><span class='ee-k'>type:</span><span class='ee-v'>Date</span></li><li><span class='ee-k'>value:</span><span class='ee-v'>1475107200000</span></li></ul></li></ul></li></ul></li></ul></li></ul></li></ul></div><script>function toggleHeader() {\n",
              "    const parent = this.parentElement;\n",
              "    parent.className = parent.className === \"ee-open\" ? \"ee-shut\" : \"ee-open\";\n",
              "}\n",
              "\n",
              "for (let c of document.getElementsByClassName(\"ee-toggle\")) {\n",
              "    c.onclick = toggleHeader;\n",
              "}</script></div>"
            ]
          },
          "metadata": {},
          "execution_count": 120
        }
      ]
    },
    {
      "cell_type": "code",
      "execution_count": 121,
      "metadata": {
        "id": "JhSKEJc3_h_f",
        "colab": {
          "base_uri": "https://localhost:8080/",
          "height": 34
        },
        "outputId": "62893e49-b8e5-4179-9247-4171739e5278"
      },
      "outputs": [
        {
          "output_type": "display_data",
          "data": {
            "text/plain": [
              "<IPython.core.display.HTML object>"
            ],
            "text/html": [
              "\n",
              "            <style>\n",
              "                .geemap-dark {\n",
              "                    --jp-widgets-color: white;\n",
              "                    --jp-widgets-label-color: white;\n",
              "                    --jp-ui-font-color1: white;\n",
              "                    --jp-layout-color2: #454545;\n",
              "                    background-color: #383838;\n",
              "                }\n",
              "                    \n",
              "                .geemap-dark .jupyter-button {\n",
              "                    --jp-layout-color3: #383838;\n",
              "                }\n",
              "                \n",
              "                .geemap-colab {\n",
              "                    background-color: var(--colab-primary-surface-color, white);\n",
              "                }\n",
              "                    \n",
              "                .geemap-colab .jupyter-button {\n",
              "                    --jp-layout-color3: var(--colab-primary-surface-color, white);\n",
              "                }\n",
              "            </style>\n",
              "            "
            ]
          },
          "metadata": {}
        },
        {
          "output_type": "execute_result",
          "data": {
            "text/plain": [
              "66"
            ]
          },
          "metadata": {},
          "execution_count": 121
        }
      ],
      "source": [
        "reduced_LD7.size().getInfo()"
      ]
    },
    {
      "cell_type": "code",
      "source": [
        "reduced_LD7.aggregate_count_distinct('ID').getInfo()"
      ],
      "metadata": {
        "colab": {
          "base_uri": "https://localhost:8080/",
          "height": 34
        },
        "id": "EM3g-hipoTK7",
        "outputId": "55343245-a0a9-4932-bab7-ca1c5243dbae"
      },
      "execution_count": 122,
      "outputs": [
        {
          "output_type": "display_data",
          "data": {
            "text/plain": [
              "<IPython.core.display.HTML object>"
            ],
            "text/html": [
              "\n",
              "            <style>\n",
              "                .geemap-dark {\n",
              "                    --jp-widgets-color: white;\n",
              "                    --jp-widgets-label-color: white;\n",
              "                    --jp-ui-font-color1: white;\n",
              "                    --jp-layout-color2: #454545;\n",
              "                    background-color: #383838;\n",
              "                }\n",
              "                    \n",
              "                .geemap-dark .jupyter-button {\n",
              "                    --jp-layout-color3: #383838;\n",
              "                }\n",
              "                \n",
              "                .geemap-colab {\n",
              "                    background-color: var(--colab-primary-surface-color, white);\n",
              "                }\n",
              "                    \n",
              "                .geemap-colab .jupyter-button {\n",
              "                    --jp-layout-color3: var(--colab-primary-surface-color, white);\n",
              "                }\n",
              "            </style>\n",
              "            "
            ]
          },
          "metadata": {}
        },
        {
          "output_type": "execute_result",
          "data": {
            "text/plain": [
              "26"
            ]
          },
          "metadata": {},
          "execution_count": 122
        }
      ]
    },
    {
      "cell_type": "markdown",
      "source": [
        "## Landsat 8"
      ],
      "metadata": {
        "id": "V2eUphRFSU9O"
      }
    },
    {
      "cell_type": "code",
      "execution_count": null,
      "metadata": {
        "id": "hGJt1ARYTodA"
      },
      "outputs": [],
      "source": [
        "img_pointsLD8 = ee.ImageCollection(roi_points.map(imgs_points(landsat8_rs)).flatten().toList(2000))"
      ]
    },
    {
      "cell_type": "code",
      "execution_count": 189,
      "metadata": {
        "id": "Tnh1z0LGTtB4",
        "colab": {
          "base_uri": "https://localhost:8080/",
          "height": 68
        },
        "outputId": "8ba2ed64-bde0-4c97-f823-da4f20605694"
      },
      "outputs": [
        {
          "output_type": "display_data",
          "data": {
            "text/plain": [
              "<IPython.core.display.HTML object>"
            ],
            "text/html": [
              "\n",
              "            <style>\n",
              "                .geemap-dark {\n",
              "                    --jp-widgets-color: white;\n",
              "                    --jp-widgets-label-color: white;\n",
              "                    --jp-ui-font-color1: white;\n",
              "                    --jp-layout-color2: #454545;\n",
              "                    background-color: #383838;\n",
              "                }\n",
              "                    \n",
              "                .geemap-dark .jupyter-button {\n",
              "                    --jp-layout-color3: #383838;\n",
              "                }\n",
              "                \n",
              "                .geemap-colab {\n",
              "                    background-color: var(--colab-primary-surface-color, white);\n",
              "                }\n",
              "                    \n",
              "                .geemap-colab .jupyter-button {\n",
              "                    --jp-layout-color3: var(--colab-primary-surface-color, white);\n",
              "                }\n",
              "            </style>\n",
              "            "
            ]
          },
          "metadata": {}
        },
        {
          "output_type": "execute_result",
          "data": {
            "text/plain": [
              "<ee.ee_number.Number at 0x7d93459f9cf0>"
            ],
            "text/html": [
              "<div><style>:root {\n",
              "  --font-color-primary: var(--jp-content-font-color0, rgba(0, 0, 0, 1));\n",
              "  --font-color-secondary: var(--jp-content-font-color2, rgba(0, 0, 0, 0.6));\n",
              "  --font-color-accent: rgba(123, 31, 162, 1);\n",
              "  --border-color: var(--jp-border-color2, #e0e0e0);\n",
              "  --background-color: var(--jp-layout-color0, white);\n",
              "  --background-color-row-even: var(--jp-layout-color1, white);\n",
              "  --background-color-row-odd: var(--jp-layout-color2, #eeeeee);\n",
              "}\n",
              "\n",
              "html[theme=\"dark\"],\n",
              "body[data-theme=\"dark\"],\n",
              "body.vscode-dark {\n",
              "  --font-color-primary: rgba(255, 255, 255, 1);\n",
              "  --font-color-secondary: rgba(255, 255, 255, 0.6);\n",
              "  --font-color-accent: rgb(173, 132, 190);\n",
              "  --border-color: #2e2e2e;\n",
              "  --background-color: #111111;\n",
              "  --background-color-row-even: #111111;\n",
              "  --background-color-row-odd: #313131;\n",
              "}\n",
              "\n",
              ".ee {\n",
              "  padding: 1em;\n",
              "  line-height: 1.5em;\n",
              "  min-width: 300px;\n",
              "  max-width: 1200px;\n",
              "  overflow-y: scroll;\n",
              "  max-height: 600px;\n",
              "  border: 1px solid var(--border-color);\n",
              "  font-family: monospace;\n",
              "}\n",
              "\n",
              ".ee li {\n",
              "  list-style-type: none;\n",
              "}\n",
              "\n",
              ".ee ul {\n",
              "  padding-left: 1.5em !important;\n",
              "  margin: 0;\n",
              "}\n",
              "\n",
              ".ee > ul {\n",
              "  padding-left: 0 !important;\n",
              "}\n",
              "\n",
              ".ee-open,\n",
              ".ee-shut {\n",
              "  color: var(--font-color-secondary);\n",
              "  cursor: pointer;\n",
              "  margin: 0;\n",
              "}\n",
              "\n",
              ".ee-open:hover,\n",
              ".ee-shut:hover {\n",
              "  color: var(--font-color-primary);\n",
              "}\n",
              "\n",
              ".ee-k {\n",
              "  color: var(--font-color-accent);\n",
              "  margin-right: 6px;\n",
              "}\n",
              "\n",
              ".ee-v {\n",
              "  color: var(--font-color-primary);\n",
              "}\n",
              "\n",
              ".ee-toggle {\n",
              "  display: none;\n",
              "}\n",
              "\n",
              ".ee-shut + ul {\n",
              "  display: none;\n",
              "}\n",
              "\n",
              ".ee-open + ul {\n",
              "  display: block;\n",
              "}\n",
              "\n",
              ".ee-shut::before {\n",
              "  display: inline-block;\n",
              "  content: \"▼\";\n",
              "  margin-right: 6px;\n",
              "  transform: rotate(-90deg);\n",
              "  transition: transform 0.2s;\n",
              "}\n",
              "\n",
              ".ee-open::before {\n",
              "  transform: rotate(0deg);\n",
              "  display: inline-block;\n",
              "  content: \"▼\";\n",
              "  margin-right: 6px;\n",
              "  transition: transform 0.2s;\n",
              "}\n",
              "</style><div class='ee'><ul><li><span class='ee-v'>104</span></li></ul></div><script>function toggleHeader() {\n",
              "    const parent = this.parentElement;\n",
              "    parent.className = parent.className === \"ee-open\" ? \"ee-shut\" : \"ee-open\";\n",
              "}\n",
              "\n",
              "for (let c of document.getElementsByClassName(\"ee-toggle\")) {\n",
              "    c.onclick = toggleHeader;\n",
              "}</script></div>"
            ]
          },
          "metadata": {},
          "execution_count": 189
        }
      ],
      "source": [
        "img_pointsLD8.size()\n"
      ]
    },
    {
      "cell_type": "code",
      "source": [
        "img_pointsLD8.aggregate_count_distinct('ID')"
      ],
      "metadata": {
        "id": "cGh3nOhbpdgK"
      },
      "execution_count": null,
      "outputs": []
    },
    {
      "cell_type": "code",
      "source": [
        "img_pointsLD8.limit(5)"
      ],
      "metadata": {
        "id": "kCpqU9_wqMja"
      },
      "execution_count": null,
      "outputs": []
    },
    {
      "cell_type": "code",
      "execution_count": null,
      "metadata": {
        "id": "g29SCo37Tyu0"
      },
      "outputs": [],
      "source": [
        "reduced_LD8 = ee.FeatureCollection(img_pointsLD8.map(sample_point)).filter(filter_count)"
      ]
    },
    {
      "cell_type": "code",
      "execution_count": 125,
      "metadata": {
        "colab": {
          "base_uri": "https://localhost:8080/",
          "height": 68
        },
        "id": "rbjXzUbZT5iM",
        "outputId": "c0113841-d802-4628-8a80-be3c3b3c5a63"
      },
      "outputs": [
        {
          "output_type": "display_data",
          "data": {
            "text/plain": [
              "<IPython.core.display.HTML object>"
            ],
            "text/html": [
              "\n",
              "            <style>\n",
              "                .geemap-dark {\n",
              "                    --jp-widgets-color: white;\n",
              "                    --jp-widgets-label-color: white;\n",
              "                    --jp-ui-font-color1: white;\n",
              "                    --jp-layout-color2: #454545;\n",
              "                    background-color: #383838;\n",
              "                }\n",
              "                    \n",
              "                .geemap-dark .jupyter-button {\n",
              "                    --jp-layout-color3: #383838;\n",
              "                }\n",
              "                \n",
              "                .geemap-colab {\n",
              "                    background-color: var(--colab-primary-surface-color, white);\n",
              "                }\n",
              "                    \n",
              "                .geemap-colab .jupyter-button {\n",
              "                    --jp-layout-color3: var(--colab-primary-surface-color, white);\n",
              "                }\n",
              "            </style>\n",
              "            "
            ]
          },
          "metadata": {}
        },
        {
          "output_type": "execute_result",
          "data": {
            "text/plain": [
              "<ee.ee_number.Number at 0x7d9345cd1f30>"
            ],
            "text/html": [
              "<div><style>:root {\n",
              "  --font-color-primary: var(--jp-content-font-color0, rgba(0, 0, 0, 1));\n",
              "  --font-color-secondary: var(--jp-content-font-color2, rgba(0, 0, 0, 0.6));\n",
              "  --font-color-accent: rgba(123, 31, 162, 1);\n",
              "  --border-color: var(--jp-border-color2, #e0e0e0);\n",
              "  --background-color: var(--jp-layout-color0, white);\n",
              "  --background-color-row-even: var(--jp-layout-color1, white);\n",
              "  --background-color-row-odd: var(--jp-layout-color2, #eeeeee);\n",
              "}\n",
              "\n",
              "html[theme=\"dark\"],\n",
              "body[data-theme=\"dark\"],\n",
              "body.vscode-dark {\n",
              "  --font-color-primary: rgba(255, 255, 255, 1);\n",
              "  --font-color-secondary: rgba(255, 255, 255, 0.6);\n",
              "  --font-color-accent: rgb(173, 132, 190);\n",
              "  --border-color: #2e2e2e;\n",
              "  --background-color: #111111;\n",
              "  --background-color-row-even: #111111;\n",
              "  --background-color-row-odd: #313131;\n",
              "}\n",
              "\n",
              ".ee {\n",
              "  padding: 1em;\n",
              "  line-height: 1.5em;\n",
              "  min-width: 300px;\n",
              "  max-width: 1200px;\n",
              "  overflow-y: scroll;\n",
              "  max-height: 600px;\n",
              "  border: 1px solid var(--border-color);\n",
              "  font-family: monospace;\n",
              "}\n",
              "\n",
              ".ee li {\n",
              "  list-style-type: none;\n",
              "}\n",
              "\n",
              ".ee ul {\n",
              "  padding-left: 1.5em !important;\n",
              "  margin: 0;\n",
              "}\n",
              "\n",
              ".ee > ul {\n",
              "  padding-left: 0 !important;\n",
              "}\n",
              "\n",
              ".ee-open,\n",
              ".ee-shut {\n",
              "  color: var(--font-color-secondary);\n",
              "  cursor: pointer;\n",
              "  margin: 0;\n",
              "}\n",
              "\n",
              ".ee-open:hover,\n",
              ".ee-shut:hover {\n",
              "  color: var(--font-color-primary);\n",
              "}\n",
              "\n",
              ".ee-k {\n",
              "  color: var(--font-color-accent);\n",
              "  margin-right: 6px;\n",
              "}\n",
              "\n",
              ".ee-v {\n",
              "  color: var(--font-color-primary);\n",
              "}\n",
              "\n",
              ".ee-toggle {\n",
              "  display: none;\n",
              "}\n",
              "\n",
              ".ee-shut + ul {\n",
              "  display: none;\n",
              "}\n",
              "\n",
              ".ee-open + ul {\n",
              "  display: block;\n",
              "}\n",
              "\n",
              ".ee-shut::before {\n",
              "  display: inline-block;\n",
              "  content: \"▼\";\n",
              "  margin-right: 6px;\n",
              "  transform: rotate(-90deg);\n",
              "  transition: transform 0.2s;\n",
              "}\n",
              "\n",
              ".ee-open::before {\n",
              "  transform: rotate(0deg);\n",
              "  display: inline-block;\n",
              "  content: \"▼\";\n",
              "  margin-right: 6px;\n",
              "  transition: transform 0.2s;\n",
              "}\n",
              "</style><div class='ee'><ul><li><span class='ee-v'>96</span></li></ul></div><script>function toggleHeader() {\n",
              "    const parent = this.parentElement;\n",
              "    parent.className = parent.className === \"ee-open\" ? \"ee-shut\" : \"ee-open\";\n",
              "}\n",
              "\n",
              "for (let c of document.getElementsByClassName(\"ee-toggle\")) {\n",
              "    c.onclick = toggleHeader;\n",
              "}</script></div>"
            ]
          },
          "metadata": {},
          "execution_count": 125
        }
      ],
      "source": [
        "reduced_LD8.size()\n"
      ]
    },
    {
      "cell_type": "code",
      "source": [
        "reduced_LD8.aggregate_count_distinct('ID')"
      ],
      "metadata": {
        "colab": {
          "base_uri": "https://localhost:8080/",
          "height": 68
        },
        "id": "tQtZMhDCppwW",
        "outputId": "d57ad07e-4bde-40d1-b3de-fb41f7909a78"
      },
      "execution_count": 126,
      "outputs": [
        {
          "output_type": "display_data",
          "data": {
            "text/plain": [
              "<IPython.core.display.HTML object>"
            ],
            "text/html": [
              "\n",
              "            <style>\n",
              "                .geemap-dark {\n",
              "                    --jp-widgets-color: white;\n",
              "                    --jp-widgets-label-color: white;\n",
              "                    --jp-ui-font-color1: white;\n",
              "                    --jp-layout-color2: #454545;\n",
              "                    background-color: #383838;\n",
              "                }\n",
              "                    \n",
              "                .geemap-dark .jupyter-button {\n",
              "                    --jp-layout-color3: #383838;\n",
              "                }\n",
              "                \n",
              "                .geemap-colab {\n",
              "                    background-color: var(--colab-primary-surface-color, white);\n",
              "                }\n",
              "                    \n",
              "                .geemap-colab .jupyter-button {\n",
              "                    --jp-layout-color3: var(--colab-primary-surface-color, white);\n",
              "                }\n",
              "            </style>\n",
              "            "
            ]
          },
          "metadata": {}
        },
        {
          "output_type": "execute_result",
          "data": {
            "text/plain": [
              "<ee.ee_number.Number at 0x7d9345cd3130>"
            ],
            "text/html": [
              "<div><style>:root {\n",
              "  --font-color-primary: var(--jp-content-font-color0, rgba(0, 0, 0, 1));\n",
              "  --font-color-secondary: var(--jp-content-font-color2, rgba(0, 0, 0, 0.6));\n",
              "  --font-color-accent: rgba(123, 31, 162, 1);\n",
              "  --border-color: var(--jp-border-color2, #e0e0e0);\n",
              "  --background-color: var(--jp-layout-color0, white);\n",
              "  --background-color-row-even: var(--jp-layout-color1, white);\n",
              "  --background-color-row-odd: var(--jp-layout-color2, #eeeeee);\n",
              "}\n",
              "\n",
              "html[theme=\"dark\"],\n",
              "body[data-theme=\"dark\"],\n",
              "body.vscode-dark {\n",
              "  --font-color-primary: rgba(255, 255, 255, 1);\n",
              "  --font-color-secondary: rgba(255, 255, 255, 0.6);\n",
              "  --font-color-accent: rgb(173, 132, 190);\n",
              "  --border-color: #2e2e2e;\n",
              "  --background-color: #111111;\n",
              "  --background-color-row-even: #111111;\n",
              "  --background-color-row-odd: #313131;\n",
              "}\n",
              "\n",
              ".ee {\n",
              "  padding: 1em;\n",
              "  line-height: 1.5em;\n",
              "  min-width: 300px;\n",
              "  max-width: 1200px;\n",
              "  overflow-y: scroll;\n",
              "  max-height: 600px;\n",
              "  border: 1px solid var(--border-color);\n",
              "  font-family: monospace;\n",
              "}\n",
              "\n",
              ".ee li {\n",
              "  list-style-type: none;\n",
              "}\n",
              "\n",
              ".ee ul {\n",
              "  padding-left: 1.5em !important;\n",
              "  margin: 0;\n",
              "}\n",
              "\n",
              ".ee > ul {\n",
              "  padding-left: 0 !important;\n",
              "}\n",
              "\n",
              ".ee-open,\n",
              ".ee-shut {\n",
              "  color: var(--font-color-secondary);\n",
              "  cursor: pointer;\n",
              "  margin: 0;\n",
              "}\n",
              "\n",
              ".ee-open:hover,\n",
              ".ee-shut:hover {\n",
              "  color: var(--font-color-primary);\n",
              "}\n",
              "\n",
              ".ee-k {\n",
              "  color: var(--font-color-accent);\n",
              "  margin-right: 6px;\n",
              "}\n",
              "\n",
              ".ee-v {\n",
              "  color: var(--font-color-primary);\n",
              "}\n",
              "\n",
              ".ee-toggle {\n",
              "  display: none;\n",
              "}\n",
              "\n",
              ".ee-shut + ul {\n",
              "  display: none;\n",
              "}\n",
              "\n",
              ".ee-open + ul {\n",
              "  display: block;\n",
              "}\n",
              "\n",
              ".ee-shut::before {\n",
              "  display: inline-block;\n",
              "  content: \"▼\";\n",
              "  margin-right: 6px;\n",
              "  transform: rotate(-90deg);\n",
              "  transition: transform 0.2s;\n",
              "}\n",
              "\n",
              ".ee-open::before {\n",
              "  transform: rotate(0deg);\n",
              "  display: inline-block;\n",
              "  content: \"▼\";\n",
              "  margin-right: 6px;\n",
              "  transition: transform 0.2s;\n",
              "}\n",
              "</style><div class='ee'><ul><li><span class='ee-v'>28</span></li></ul></div><script>function toggleHeader() {\n",
              "    const parent = this.parentElement;\n",
              "    parent.className = parent.className === \"ee-open\" ? \"ee-shut\" : \"ee-open\";\n",
              "}\n",
              "\n",
              "for (let c of document.getElementsByClassName(\"ee-toggle\")) {\n",
              "    c.onclick = toggleHeader;\n",
              "}</script></div>"
            ]
          },
          "metadata": {},
          "execution_count": 126
        }
      ]
    },
    {
      "cell_type": "code",
      "source": [
        "reduced_LD8.limit(2)"
      ],
      "metadata": {
        "colab": {
          "base_uri": "https://localhost:8080/",
          "height": 68
        },
        "id": "jWxk6PJxqcaF",
        "outputId": "88d1ec42-9421-48be-9efb-3eff4ae10c36"
      },
      "execution_count": 127,
      "outputs": [
        {
          "output_type": "display_data",
          "data": {
            "text/plain": [
              "<IPython.core.display.HTML object>"
            ],
            "text/html": [
              "\n",
              "            <style>\n",
              "                .geemap-dark {\n",
              "                    --jp-widgets-color: white;\n",
              "                    --jp-widgets-label-color: white;\n",
              "                    --jp-ui-font-color1: white;\n",
              "                    --jp-layout-color2: #454545;\n",
              "                    background-color: #383838;\n",
              "                }\n",
              "                    \n",
              "                .geemap-dark .jupyter-button {\n",
              "                    --jp-layout-color3: #383838;\n",
              "                }\n",
              "                \n",
              "                .geemap-colab {\n",
              "                    background-color: var(--colab-primary-surface-color, white);\n",
              "                }\n",
              "                    \n",
              "                .geemap-colab .jupyter-button {\n",
              "                    --jp-layout-color3: var(--colab-primary-surface-color, white);\n",
              "                }\n",
              "            </style>\n",
              "            "
            ]
          },
          "metadata": {}
        },
        {
          "output_type": "execute_result",
          "data": {
            "text/plain": [
              "<ee.featurecollection.FeatureCollection at 0x7d9345cd33d0>"
            ],
            "text/html": [
              "<div><style>:root {\n",
              "  --font-color-primary: var(--jp-content-font-color0, rgba(0, 0, 0, 1));\n",
              "  --font-color-secondary: var(--jp-content-font-color2, rgba(0, 0, 0, 0.6));\n",
              "  --font-color-accent: rgba(123, 31, 162, 1);\n",
              "  --border-color: var(--jp-border-color2, #e0e0e0);\n",
              "  --background-color: var(--jp-layout-color0, white);\n",
              "  --background-color-row-even: var(--jp-layout-color1, white);\n",
              "  --background-color-row-odd: var(--jp-layout-color2, #eeeeee);\n",
              "}\n",
              "\n",
              "html[theme=\"dark\"],\n",
              "body[data-theme=\"dark\"],\n",
              "body.vscode-dark {\n",
              "  --font-color-primary: rgba(255, 255, 255, 1);\n",
              "  --font-color-secondary: rgba(255, 255, 255, 0.6);\n",
              "  --font-color-accent: rgb(173, 132, 190);\n",
              "  --border-color: #2e2e2e;\n",
              "  --background-color: #111111;\n",
              "  --background-color-row-even: #111111;\n",
              "  --background-color-row-odd: #313131;\n",
              "}\n",
              "\n",
              ".ee {\n",
              "  padding: 1em;\n",
              "  line-height: 1.5em;\n",
              "  min-width: 300px;\n",
              "  max-width: 1200px;\n",
              "  overflow-y: scroll;\n",
              "  max-height: 600px;\n",
              "  border: 1px solid var(--border-color);\n",
              "  font-family: monospace;\n",
              "}\n",
              "\n",
              ".ee li {\n",
              "  list-style-type: none;\n",
              "}\n",
              "\n",
              ".ee ul {\n",
              "  padding-left: 1.5em !important;\n",
              "  margin: 0;\n",
              "}\n",
              "\n",
              ".ee > ul {\n",
              "  padding-left: 0 !important;\n",
              "}\n",
              "\n",
              ".ee-open,\n",
              ".ee-shut {\n",
              "  color: var(--font-color-secondary);\n",
              "  cursor: pointer;\n",
              "  margin: 0;\n",
              "}\n",
              "\n",
              ".ee-open:hover,\n",
              ".ee-shut:hover {\n",
              "  color: var(--font-color-primary);\n",
              "}\n",
              "\n",
              ".ee-k {\n",
              "  color: var(--font-color-accent);\n",
              "  margin-right: 6px;\n",
              "}\n",
              "\n",
              ".ee-v {\n",
              "  color: var(--font-color-primary);\n",
              "}\n",
              "\n",
              ".ee-toggle {\n",
              "  display: none;\n",
              "}\n",
              "\n",
              ".ee-shut + ul {\n",
              "  display: none;\n",
              "}\n",
              "\n",
              ".ee-open + ul {\n",
              "  display: block;\n",
              "}\n",
              "\n",
              ".ee-shut::before {\n",
              "  display: inline-block;\n",
              "  content: \"▼\";\n",
              "  margin-right: 6px;\n",
              "  transform: rotate(-90deg);\n",
              "  transition: transform 0.2s;\n",
              "}\n",
              "\n",
              ".ee-open::before {\n",
              "  transform: rotate(0deg);\n",
              "  display: inline-block;\n",
              "  content: \"▼\";\n",
              "  margin-right: 6px;\n",
              "  transition: transform 0.2s;\n",
              "}\n",
              "</style><div class='ee'><ul><li><label class='ee-shut'>FeatureCollection (2 elements, 25 columns)<input type='checkbox' class='ee-toggle'></label><ul><li><span class='ee-k'>type:</span><span class='ee-v'>FeatureCollection</span></li><li><label class='ee-shut'>columns: Object (25 properties)<input type='checkbox' class='ee-toggle'></label><ul><li><span class='ee-k'>DATE:</span><span class='ee-v'>String</span></li><li><span class='ee-k'>ID:</span><span class='ee-v'>Integer</span></li><li><span class='ee-k'>LATITUDE:</span><span class='ee-v'>Float</span></li><li><span class='ee-k'>LONGITUDE:</span><span class='ee-v'>Float</span></li><li><span class='ee-k'>MISSION:</span><span class='ee-v'>String</span></li><li><span class='ee-k'>blue_max:</span><span class='ee-v'>Object</span></li><li><span class='ee-k'>blue_mean:</span><span class='ee-v'>Object</span></li><li><span class='ee-k'>blue_median:</span><span class='ee-v'>Object</span></li><li><span class='ee-k'>blue_min:</span><span class='ee-v'>Object</span></li><li><span class='ee-k'>count_pixel:</span><span class='ee-v'>Object</span></li><li><span class='ee-k'>dif_date_point:</span><span class='ee-v'>Object</span></li><li><span class='ee-k'>green_max:</span><span class='ee-v'>Object</span></li><li><span class='ee-k'>green_meadin:</span><span class='ee-v'>Object</span></li><li><span class='ee-k'>green_mean:</span><span class='ee-v'>Object</span></li><li><span class='ee-k'>green_min:</span><span class='ee-v'>Object</span></li><li><span class='ee-k'>nir_max:</span><span class='ee-v'>Object</span></li><li><span class='ee-k'>nir_mean:</span><span class='ee-v'>Object</span></li><li><span class='ee-k'>nir_median:</span><span class='ee-v'>Object</span></li><li><span class='ee-k'>nir_min:</span><span class='ee-v'>Object</span></li><li><span class='ee-k'>red_max:</span><span class='ee-v'>Object</span></li><li><span class='ee-k'>red_mean:</span><span class='ee-v'>Object</span></li><li><span class='ee-k'>red_median:</span><span class='ee-v'>Object</span></li><li><span class='ee-k'>red_min:</span><span class='ee-v'>Object</span></li><li><span class='ee-k'>system:index:</span><span class='ee-v'>String</span></li><li><span class='ee-k'>system:time_start:</span><span class='ee-v'>Date</span></li></ul></li><li><label class='ee-shut'>features: List (2 elements)<input type='checkbox' class='ee-toggle'></label><ul><li><label class='ee-shut'>0: Feature (Point, 24 properties)<input type='checkbox' class='ee-toggle'></label><ul><li><span class='ee-k'>type:</span><span class='ee-v'>Feature</span></li><li><span class='ee-k'>id:</span><span class='ee-v'>305_LC08_228061_20160924</span></li><li><label class='ee-shut'>geometry: Point (-55.37, -2.31)<input type='checkbox' class='ee-toggle'></label><ul><li><span class='ee-k'>type:</span><span class='ee-v'>Point</span></li><li><label class='ee-shut'>coordinates: [-55.373301, -2.307096]<input type='checkbox' class='ee-toggle'></label><ul><li><span class='ee-k'>0:</span><span class='ee-v'>-55.373301</span></li><li><span class='ee-k'>1:</span><span class='ee-v'>-2.307096</span></li></ul></li></ul></li><li><label class='ee-shut'>properties: Object (24 properties)<input type='checkbox' class='ee-toggle'></label><ul><li><span class='ee-k'>DATE:</span><span class='ee-v'>2016-09-29 00:00:00</span></li><li><span class='ee-k'>ID:</span><span class='ee-v'>305</span></li><li><span class='ee-k'>LATITUDE:</span><span class='ee-v'>-2.307096</span></li><li><span class='ee-k'>LONGITUDE:</span><span class='ee-v'>-55.373301</span></li><li><span class='ee-k'>MISSION:</span><span class='ee-v'>VII</span></li><li><span class='ee-k'>blue_max:</span><span class='ee-v'>0.042989157387154066</span></li><li><span class='ee-k'>blue_mean:</span><span class='ee-v'>0.04212542902359364</span></li><li><span class='ee-k'>blue_median:</span><span class='ee-v'>0.042054913203149795</span></li><li><span class='ee-k'>blue_min:</span><span class='ee-v'>0.041331404070975034</span></li><li><span class='ee-k'>count_pixel:</span><span class='ee-v'>9</span></li><li><span class='ee-k'>dif_date_point:</span><span class='ee-v'>-4.420671921296297</span></li><li><span class='ee-k'>green_max:</span><span class='ee-v'>0.04717508970108024</span></li><li><span class='ee-k'>green_meadin:</span><span class='ee-v'>0.04626192305396781</span></li><li><span class='ee-k'>green_mean:</span><span class='ee-v'>0.04631928994755732</span></li><li><span class='ee-k'>green_min:</span><span class='ee-v'>0.04584748472492305</span></li><li><span class='ee-k'>nir_max:</span><span class='ee-v'>-0.02404473955085526</span></li><li><span class='ee-k'>nir_mean:</span><span class='ee-v'>-0.024327754017763527</span></li><li><span class='ee-k'>nir_median:</span><span class='ee-v'>-0.024339764591707686</span></li><li><span class='ee-k'>nir_min:</span><span class='ee-v'>-0.02457859116809234</span></li><li><span class='ee-k'>red_max:</span><span class='ee-v'>0.05650518951240378</span></li><li><span class='ee-k'>red_mean:</span><span class='ee-v'>0.05562169010844783</span></li><li><span class='ee-k'>red_median:</span><span class='ee-v'>0.055669289380277126</span></li><li><span class='ee-k'>red_min:</span><span class='ee-v'>0.055016019731660794</span></li><li><label class='ee-shut'>system:time_start: Date (2016-09-29 00:00:00)<input type='checkbox' class='ee-toggle'></label><ul><li><span class='ee-k'>type:</span><span class='ee-v'>Date</span></li><li><span class='ee-k'>value:</span><span class='ee-v'>1475107200000</span></li></ul></li></ul></li></ul></li><li><label class='ee-shut'>1: Feature (Point, 24 properties)<input type='checkbox' class='ee-toggle'></label><ul><li><span class='ee-k'>type:</span><span class='ee-v'>Feature</span></li><li><span class='ee-k'>id:</span><span class='ee-v'>305_LC08_228062_20160924</span></li><li><label class='ee-shut'>geometry: Point (-55.37, -2.31)<input type='checkbox' class='ee-toggle'></label><ul><li><span class='ee-k'>type:</span><span class='ee-v'>Point</span></li><li><label class='ee-shut'>coordinates: [-55.373301, -2.307096]<input type='checkbox' class='ee-toggle'></label><ul><li><span class='ee-k'>0:</span><span class='ee-v'>-55.373301</span></li><li><span class='ee-k'>1:</span><span class='ee-v'>-2.307096</span></li></ul></li></ul></li><li><label class='ee-shut'>properties: Object (24 properties)<input type='checkbox' class='ee-toggle'></label><ul><li><span class='ee-k'>DATE:</span><span class='ee-v'>2016-09-29 00:00:00</span></li><li><span class='ee-k'>ID:</span><span class='ee-v'>305</span></li><li><span class='ee-k'>LATITUDE:</span><span class='ee-v'>-2.307096</span></li><li><span class='ee-k'>LONGITUDE:</span><span class='ee-v'>-55.373301</span></li><li><span class='ee-k'>MISSION:</span><span class='ee-v'>VII</span></li><li><span class='ee-k'>blue_max:</span><span class='ee-v'>0.037079991263784993</span></li><li><span class='ee-k'>blue_mean:</span><span class='ee-v'>0.036213986535281815</span></li><li><span class='ee-k'>blue_median:</span><span class='ee-v'>0.036185859025797046</span></li><li><span class='ee-k'>blue_min:</span><span class='ee-v'>0.03542549533122576</span></li><li><span class='ee-k'>count_pixel:</span><span class='ee-v'>9</span></li><li><span class='ee-k'>dif_date_point:</span><span class='ee-v'>-4.420395057870371</span></li><li><span class='ee-k'>green_max:</span><span class='ee-v'>0.04255626366300831</span></li><li><span class='ee-k'>green_meadin:</span><span class='ee-v'>0.04165509134982898</span></li><li><span class='ee-k'>green_mean:</span><span class='ee-v'>0.04170204771509572</span></li><li><span class='ee-k'>green_min:</span><span class='ee-v'>0.04123266549400485</span></li><li><span class='ee-k'>nir_max:</span><span class='ee-v'>-0.023711295279955403</span></li><li><span class='ee-k'>nir_mean:</span><span class='ee-v'>-0.024030933500837612</span></li><li><span class='ee-k'>nir_median:</span><span class='ee-v'>-0.02409147594144431</span></li><li><span class='ee-k'>nir_min:</span><span class='ee-v'>-0.02428156864378223</span></li><li><span class='ee-k'>red_max:</span><span class='ee-v'>0.05245992552444807</span></li><li><span class='ee-k'>red_mean:</span><span class='ee-v'>0.05158189081744012</span></li><li><span class='ee-k'>red_median:</span><span class='ee-v'>0.051600996034010506</span></li><li><span class='ee-k'>red_min:</span><span class='ee-v'>0.05101664014820745</span></li><li><label class='ee-shut'>system:time_start: Date (2016-09-29 00:00:00)<input type='checkbox' class='ee-toggle'></label><ul><li><span class='ee-k'>type:</span><span class='ee-v'>Date</span></li><li><span class='ee-k'>value:</span><span class='ee-v'>1475107200000</span></li></ul></li></ul></li></ul></li></ul></li></ul></li></ul></div><script>function toggleHeader() {\n",
              "    const parent = this.parentElement;\n",
              "    parent.className = parent.className === \"ee-open\" ? \"ee-shut\" : \"ee-open\";\n",
              "}\n",
              "\n",
              "for (let c of document.getElementsByClassName(\"ee-toggle\")) {\n",
              "    c.onclick = toggleHeader;\n",
              "}</script></div>"
            ]
          },
          "metadata": {},
          "execution_count": 127
        }
      ]
    },
    {
      "cell_type": "markdown",
      "source": [
        "##Sentinel 2"
      ],
      "metadata": {
        "id": "Vh03oep9SYOZ"
      }
    },
    {
      "cell_type": "code",
      "execution_count": 156,
      "metadata": {
        "id": "U4tyq015t5q8",
        "colab": {
          "base_uri": "https://localhost:8080/",
          "height": 17
        },
        "outputId": "6e3b347d-95d6-4f79-f38e-9312f7fd6bae"
      },
      "outputs": [
        {
          "output_type": "display_data",
          "data": {
            "text/plain": [
              "<IPython.core.display.HTML object>"
            ],
            "text/html": [
              "\n",
              "            <style>\n",
              "                .geemap-dark {\n",
              "                    --jp-widgets-color: white;\n",
              "                    --jp-widgets-label-color: white;\n",
              "                    --jp-ui-font-color1: white;\n",
              "                    --jp-layout-color2: #454545;\n",
              "                    background-color: #383838;\n",
              "                }\n",
              "                    \n",
              "                .geemap-dark .jupyter-button {\n",
              "                    --jp-layout-color3: #383838;\n",
              "                }\n",
              "                \n",
              "                .geemap-colab {\n",
              "                    background-color: var(--colab-primary-surface-color, white);\n",
              "                }\n",
              "                    \n",
              "                .geemap-colab .jupyter-button {\n",
              "                    --jp-layout-color3: var(--colab-primary-surface-color, white);\n",
              "                }\n",
              "            </style>\n",
              "            "
            ]
          },
          "metadata": {}
        }
      ],
      "source": [
        "img_pointsS2 = ee.ImageCollection(roi_points.map(imgs_points(sentinel2_rs)).flatten().toList(2000))"
      ]
    },
    {
      "cell_type": "code",
      "execution_count": null,
      "metadata": {
        "id": "BT_mPDtCt52M"
      },
      "outputs": [],
      "source": [
        "img_pointsS2.size()"
      ]
    },
    {
      "cell_type": "code",
      "source": [
        "img_pointsS2.aggregate_count_distinct('ID')"
      ],
      "metadata": {
        "id": "2lBRxwjrtrVW"
      },
      "execution_count": null,
      "outputs": []
    },
    {
      "cell_type": "code",
      "execution_count": 157,
      "metadata": {
        "id": "cldn_cGQt59t",
        "colab": {
          "base_uri": "https://localhost:8080/",
          "height": 17
        },
        "outputId": "3d7eafe7-ffd6-4aa5-fd3b-8960588483a6"
      },
      "outputs": [
        {
          "output_type": "display_data",
          "data": {
            "text/plain": [
              "<IPython.core.display.HTML object>"
            ],
            "text/html": [
              "\n",
              "            <style>\n",
              "                .geemap-dark {\n",
              "                    --jp-widgets-color: white;\n",
              "                    --jp-widgets-label-color: white;\n",
              "                    --jp-ui-font-color1: white;\n",
              "                    --jp-layout-color2: #454545;\n",
              "                    background-color: #383838;\n",
              "                }\n",
              "                    \n",
              "                .geemap-dark .jupyter-button {\n",
              "                    --jp-layout-color3: #383838;\n",
              "                }\n",
              "                \n",
              "                .geemap-colab {\n",
              "                    background-color: var(--colab-primary-surface-color, white);\n",
              "                }\n",
              "                    \n",
              "                .geemap-colab .jupyter-button {\n",
              "                    --jp-layout-color3: var(--colab-primary-surface-color, white);\n",
              "                }\n",
              "            </style>\n",
              "            "
            ]
          },
          "metadata": {}
        }
      ],
      "source": [
        "reduced_S2 = ee.FeatureCollection(img_pointsS2.map(sample_point)).filter(filter_count)"
      ]
    },
    {
      "cell_type": "code",
      "execution_count": 158,
      "metadata": {
        "colab": {
          "base_uri": "https://localhost:8080/",
          "height": 68
        },
        "id": "-pJVT7Tot6FH",
        "outputId": "99736d16-4ad8-41ef-ead5-846d6c9ebe8c"
      },
      "outputs": [
        {
          "output_type": "display_data",
          "data": {
            "text/plain": [
              "<IPython.core.display.HTML object>"
            ],
            "text/html": [
              "\n",
              "            <style>\n",
              "                .geemap-dark {\n",
              "                    --jp-widgets-color: white;\n",
              "                    --jp-widgets-label-color: white;\n",
              "                    --jp-ui-font-color1: white;\n",
              "                    --jp-layout-color2: #454545;\n",
              "                    background-color: #383838;\n",
              "                }\n",
              "                    \n",
              "                .geemap-dark .jupyter-button {\n",
              "                    --jp-layout-color3: #383838;\n",
              "                }\n",
              "                \n",
              "                .geemap-colab {\n",
              "                    background-color: var(--colab-primary-surface-color, white);\n",
              "                }\n",
              "                    \n",
              "                .geemap-colab .jupyter-button {\n",
              "                    --jp-layout-color3: var(--colab-primary-surface-color, white);\n",
              "                }\n",
              "            </style>\n",
              "            "
            ]
          },
          "metadata": {}
        },
        {
          "output_type": "execute_result",
          "data": {
            "text/plain": [
              "<ee.ee_number.Number at 0x7d9345b1fbe0>"
            ],
            "text/html": [
              "<div><style>:root {\n",
              "  --font-color-primary: var(--jp-content-font-color0, rgba(0, 0, 0, 1));\n",
              "  --font-color-secondary: var(--jp-content-font-color2, rgba(0, 0, 0, 0.6));\n",
              "  --font-color-accent: rgba(123, 31, 162, 1);\n",
              "  --border-color: var(--jp-border-color2, #e0e0e0);\n",
              "  --background-color: var(--jp-layout-color0, white);\n",
              "  --background-color-row-even: var(--jp-layout-color1, white);\n",
              "  --background-color-row-odd: var(--jp-layout-color2, #eeeeee);\n",
              "}\n",
              "\n",
              "html[theme=\"dark\"],\n",
              "body[data-theme=\"dark\"],\n",
              "body.vscode-dark {\n",
              "  --font-color-primary: rgba(255, 255, 255, 1);\n",
              "  --font-color-secondary: rgba(255, 255, 255, 0.6);\n",
              "  --font-color-accent: rgb(173, 132, 190);\n",
              "  --border-color: #2e2e2e;\n",
              "  --background-color: #111111;\n",
              "  --background-color-row-even: #111111;\n",
              "  --background-color-row-odd: #313131;\n",
              "}\n",
              "\n",
              ".ee {\n",
              "  padding: 1em;\n",
              "  line-height: 1.5em;\n",
              "  min-width: 300px;\n",
              "  max-width: 1200px;\n",
              "  overflow-y: scroll;\n",
              "  max-height: 600px;\n",
              "  border: 1px solid var(--border-color);\n",
              "  font-family: monospace;\n",
              "}\n",
              "\n",
              ".ee li {\n",
              "  list-style-type: none;\n",
              "}\n",
              "\n",
              ".ee ul {\n",
              "  padding-left: 1.5em !important;\n",
              "  margin: 0;\n",
              "}\n",
              "\n",
              ".ee > ul {\n",
              "  padding-left: 0 !important;\n",
              "}\n",
              "\n",
              ".ee-open,\n",
              ".ee-shut {\n",
              "  color: var(--font-color-secondary);\n",
              "  cursor: pointer;\n",
              "  margin: 0;\n",
              "}\n",
              "\n",
              ".ee-open:hover,\n",
              ".ee-shut:hover {\n",
              "  color: var(--font-color-primary);\n",
              "}\n",
              "\n",
              ".ee-k {\n",
              "  color: var(--font-color-accent);\n",
              "  margin-right: 6px;\n",
              "}\n",
              "\n",
              ".ee-v {\n",
              "  color: var(--font-color-primary);\n",
              "}\n",
              "\n",
              ".ee-toggle {\n",
              "  display: none;\n",
              "}\n",
              "\n",
              ".ee-shut + ul {\n",
              "  display: none;\n",
              "}\n",
              "\n",
              ".ee-open + ul {\n",
              "  display: block;\n",
              "}\n",
              "\n",
              ".ee-shut::before {\n",
              "  display: inline-block;\n",
              "  content: \"▼\";\n",
              "  margin-right: 6px;\n",
              "  transform: rotate(-90deg);\n",
              "  transition: transform 0.2s;\n",
              "}\n",
              "\n",
              ".ee-open::before {\n",
              "  transform: rotate(0deg);\n",
              "  display: inline-block;\n",
              "  content: \"▼\";\n",
              "  margin-right: 6px;\n",
              "  transition: transform 0.2s;\n",
              "}\n",
              "</style><div class='ee'><ul><li><span class='ee-v'>30</span></li></ul></div><script>function toggleHeader() {\n",
              "    const parent = this.parentElement;\n",
              "    parent.className = parent.className === \"ee-open\" ? \"ee-shut\" : \"ee-open\";\n",
              "}\n",
              "\n",
              "for (let c of document.getElementsByClassName(\"ee-toggle\")) {\n",
              "    c.onclick = toggleHeader;\n",
              "}</script></div>"
            ]
          },
          "metadata": {},
          "execution_count": 158
        }
      ],
      "source": [
        "reduced_S2.size()\n"
      ]
    },
    {
      "cell_type": "code",
      "source": [
        "reduced_S2.aggregate_count_distinct('ID')"
      ],
      "metadata": {
        "colab": {
          "base_uri": "https://localhost:8080/",
          "height": 68
        },
        "id": "GQQUqUX8t9HA",
        "outputId": "371b612c-50ef-4fba-e906-b607317e1c61"
      },
      "execution_count": 131,
      "outputs": [
        {
          "output_type": "display_data",
          "data": {
            "text/plain": [
              "<IPython.core.display.HTML object>"
            ],
            "text/html": [
              "\n",
              "            <style>\n",
              "                .geemap-dark {\n",
              "                    --jp-widgets-color: white;\n",
              "                    --jp-widgets-label-color: white;\n",
              "                    --jp-ui-font-color1: white;\n",
              "                    --jp-layout-color2: #454545;\n",
              "                    background-color: #383838;\n",
              "                }\n",
              "                    \n",
              "                .geemap-dark .jupyter-button {\n",
              "                    --jp-layout-color3: #383838;\n",
              "                }\n",
              "                \n",
              "                .geemap-colab {\n",
              "                    background-color: var(--colab-primary-surface-color, white);\n",
              "                }\n",
              "                    \n",
              "                .geemap-colab .jupyter-button {\n",
              "                    --jp-layout-color3: var(--colab-primary-surface-color, white);\n",
              "                }\n",
              "            </style>\n",
              "            "
            ]
          },
          "metadata": {}
        },
        {
          "output_type": "execute_result",
          "data": {
            "text/plain": [
              "<ee.ee_number.Number at 0x7d9345d1bf10>"
            ],
            "text/html": [
              "<div><style>:root {\n",
              "  --font-color-primary: var(--jp-content-font-color0, rgba(0, 0, 0, 1));\n",
              "  --font-color-secondary: var(--jp-content-font-color2, rgba(0, 0, 0, 0.6));\n",
              "  --font-color-accent: rgba(123, 31, 162, 1);\n",
              "  --border-color: var(--jp-border-color2, #e0e0e0);\n",
              "  --background-color: var(--jp-layout-color0, white);\n",
              "  --background-color-row-even: var(--jp-layout-color1, white);\n",
              "  --background-color-row-odd: var(--jp-layout-color2, #eeeeee);\n",
              "}\n",
              "\n",
              "html[theme=\"dark\"],\n",
              "body[data-theme=\"dark\"],\n",
              "body.vscode-dark {\n",
              "  --font-color-primary: rgba(255, 255, 255, 1);\n",
              "  --font-color-secondary: rgba(255, 255, 255, 0.6);\n",
              "  --font-color-accent: rgb(173, 132, 190);\n",
              "  --border-color: #2e2e2e;\n",
              "  --background-color: #111111;\n",
              "  --background-color-row-even: #111111;\n",
              "  --background-color-row-odd: #313131;\n",
              "}\n",
              "\n",
              ".ee {\n",
              "  padding: 1em;\n",
              "  line-height: 1.5em;\n",
              "  min-width: 300px;\n",
              "  max-width: 1200px;\n",
              "  overflow-y: scroll;\n",
              "  max-height: 600px;\n",
              "  border: 1px solid var(--border-color);\n",
              "  font-family: monospace;\n",
              "}\n",
              "\n",
              ".ee li {\n",
              "  list-style-type: none;\n",
              "}\n",
              "\n",
              ".ee ul {\n",
              "  padding-left: 1.5em !important;\n",
              "  margin: 0;\n",
              "}\n",
              "\n",
              ".ee > ul {\n",
              "  padding-left: 0 !important;\n",
              "}\n",
              "\n",
              ".ee-open,\n",
              ".ee-shut {\n",
              "  color: var(--font-color-secondary);\n",
              "  cursor: pointer;\n",
              "  margin: 0;\n",
              "}\n",
              "\n",
              ".ee-open:hover,\n",
              ".ee-shut:hover {\n",
              "  color: var(--font-color-primary);\n",
              "}\n",
              "\n",
              ".ee-k {\n",
              "  color: var(--font-color-accent);\n",
              "  margin-right: 6px;\n",
              "}\n",
              "\n",
              ".ee-v {\n",
              "  color: var(--font-color-primary);\n",
              "}\n",
              "\n",
              ".ee-toggle {\n",
              "  display: none;\n",
              "}\n",
              "\n",
              ".ee-shut + ul {\n",
              "  display: none;\n",
              "}\n",
              "\n",
              ".ee-open + ul {\n",
              "  display: block;\n",
              "}\n",
              "\n",
              ".ee-shut::before {\n",
              "  display: inline-block;\n",
              "  content: \"▼\";\n",
              "  margin-right: 6px;\n",
              "  transform: rotate(-90deg);\n",
              "  transition: transform 0.2s;\n",
              "}\n",
              "\n",
              ".ee-open::before {\n",
              "  transform: rotate(0deg);\n",
              "  display: inline-block;\n",
              "  content: \"▼\";\n",
              "  margin-right: 6px;\n",
              "  transition: transform 0.2s;\n",
              "}\n",
              "</style><div class='ee'><ul><li><span class='ee-v'>28</span></li></ul></div><script>function toggleHeader() {\n",
              "    const parent = this.parentElement;\n",
              "    parent.className = parent.className === \"ee-open\" ? \"ee-shut\" : \"ee-open\";\n",
              "}\n",
              "\n",
              "for (let c of document.getElementsByClassName(\"ee-toggle\")) {\n",
              "    c.onclick = toggleHeader;\n",
              "}</script></div>"
            ]
          },
          "metadata": {},
          "execution_count": 131
        }
      ]
    },
    {
      "cell_type": "code",
      "source": [
        "reduced_S2.limit(2)"
      ],
      "metadata": {
        "colab": {
          "base_uri": "https://localhost:8080/",
          "height": 68
        },
        "id": "xXyFi_YLuJHz",
        "outputId": "519d5aa7-cf48-450b-dcab-3846df9437cb"
      },
      "execution_count": 132,
      "outputs": [
        {
          "output_type": "display_data",
          "data": {
            "text/plain": [
              "<IPython.core.display.HTML object>"
            ],
            "text/html": [
              "\n",
              "            <style>\n",
              "                .geemap-dark {\n",
              "                    --jp-widgets-color: white;\n",
              "                    --jp-widgets-label-color: white;\n",
              "                    --jp-ui-font-color1: white;\n",
              "                    --jp-layout-color2: #454545;\n",
              "                    background-color: #383838;\n",
              "                }\n",
              "                    \n",
              "                .geemap-dark .jupyter-button {\n",
              "                    --jp-layout-color3: #383838;\n",
              "                }\n",
              "                \n",
              "                .geemap-colab {\n",
              "                    background-color: var(--colab-primary-surface-color, white);\n",
              "                }\n",
              "                    \n",
              "                .geemap-colab .jupyter-button {\n",
              "                    --jp-layout-color3: var(--colab-primary-surface-color, white);\n",
              "                }\n",
              "            </style>\n",
              "            "
            ]
          },
          "metadata": {}
        },
        {
          "output_type": "execute_result",
          "data": {
            "text/plain": [
              "<ee.featurecollection.FeatureCollection at 0x7d934599cf70>"
            ],
            "text/html": [
              "<div><style>:root {\n",
              "  --font-color-primary: var(--jp-content-font-color0, rgba(0, 0, 0, 1));\n",
              "  --font-color-secondary: var(--jp-content-font-color2, rgba(0, 0, 0, 0.6));\n",
              "  --font-color-accent: rgba(123, 31, 162, 1);\n",
              "  --border-color: var(--jp-border-color2, #e0e0e0);\n",
              "  --background-color: var(--jp-layout-color0, white);\n",
              "  --background-color-row-even: var(--jp-layout-color1, white);\n",
              "  --background-color-row-odd: var(--jp-layout-color2, #eeeeee);\n",
              "}\n",
              "\n",
              "html[theme=\"dark\"],\n",
              "body[data-theme=\"dark\"],\n",
              "body.vscode-dark {\n",
              "  --font-color-primary: rgba(255, 255, 255, 1);\n",
              "  --font-color-secondary: rgba(255, 255, 255, 0.6);\n",
              "  --font-color-accent: rgb(173, 132, 190);\n",
              "  --border-color: #2e2e2e;\n",
              "  --background-color: #111111;\n",
              "  --background-color-row-even: #111111;\n",
              "  --background-color-row-odd: #313131;\n",
              "}\n",
              "\n",
              ".ee {\n",
              "  padding: 1em;\n",
              "  line-height: 1.5em;\n",
              "  min-width: 300px;\n",
              "  max-width: 1200px;\n",
              "  overflow-y: scroll;\n",
              "  max-height: 600px;\n",
              "  border: 1px solid var(--border-color);\n",
              "  font-family: monospace;\n",
              "}\n",
              "\n",
              ".ee li {\n",
              "  list-style-type: none;\n",
              "}\n",
              "\n",
              ".ee ul {\n",
              "  padding-left: 1.5em !important;\n",
              "  margin: 0;\n",
              "}\n",
              "\n",
              ".ee > ul {\n",
              "  padding-left: 0 !important;\n",
              "}\n",
              "\n",
              ".ee-open,\n",
              ".ee-shut {\n",
              "  color: var(--font-color-secondary);\n",
              "  cursor: pointer;\n",
              "  margin: 0;\n",
              "}\n",
              "\n",
              ".ee-open:hover,\n",
              ".ee-shut:hover {\n",
              "  color: var(--font-color-primary);\n",
              "}\n",
              "\n",
              ".ee-k {\n",
              "  color: var(--font-color-accent);\n",
              "  margin-right: 6px;\n",
              "}\n",
              "\n",
              ".ee-v {\n",
              "  color: var(--font-color-primary);\n",
              "}\n",
              "\n",
              ".ee-toggle {\n",
              "  display: none;\n",
              "}\n",
              "\n",
              ".ee-shut + ul {\n",
              "  display: none;\n",
              "}\n",
              "\n",
              ".ee-open + ul {\n",
              "  display: block;\n",
              "}\n",
              "\n",
              ".ee-shut::before {\n",
              "  display: inline-block;\n",
              "  content: \"▼\";\n",
              "  margin-right: 6px;\n",
              "  transform: rotate(-90deg);\n",
              "  transition: transform 0.2s;\n",
              "}\n",
              "\n",
              ".ee-open::before {\n",
              "  transform: rotate(0deg);\n",
              "  display: inline-block;\n",
              "  content: \"▼\";\n",
              "  margin-right: 6px;\n",
              "  transition: transform 0.2s;\n",
              "}\n",
              "</style><div class='ee'><ul><li><label class='ee-shut'>FeatureCollection (2 elements, 25 columns)<input type='checkbox' class='ee-toggle'></label><ul><li><span class='ee-k'>type:</span><span class='ee-v'>FeatureCollection</span></li><li><label class='ee-shut'>columns: Object (25 properties)<input type='checkbox' class='ee-toggle'></label><ul><li><span class='ee-k'>DATE:</span><span class='ee-v'>String</span></li><li><span class='ee-k'>ID:</span><span class='ee-v'>Integer</span></li><li><span class='ee-k'>LATITUDE:</span><span class='ee-v'>Float</span></li><li><span class='ee-k'>LONGITUDE:</span><span class='ee-v'>Float</span></li><li><span class='ee-k'>MISSION:</span><span class='ee-v'>String</span></li><li><span class='ee-k'>blue_max:</span><span class='ee-v'>Object</span></li><li><span class='ee-k'>blue_mean:</span><span class='ee-v'>Object</span></li><li><span class='ee-k'>blue_median:</span><span class='ee-v'>Object</span></li><li><span class='ee-k'>blue_min:</span><span class='ee-v'>Object</span></li><li><span class='ee-k'>count_pixel:</span><span class='ee-v'>Object</span></li><li><span class='ee-k'>dif_date_point:</span><span class='ee-v'>Object</span></li><li><span class='ee-k'>green_max:</span><span class='ee-v'>Object</span></li><li><span class='ee-k'>green_meadin:</span><span class='ee-v'>Object</span></li><li><span class='ee-k'>green_mean:</span><span class='ee-v'>Object</span></li><li><span class='ee-k'>green_min:</span><span class='ee-v'>Object</span></li><li><span class='ee-k'>nir_max:</span><span class='ee-v'>Object</span></li><li><span class='ee-k'>nir_mean:</span><span class='ee-v'>Object</span></li><li><span class='ee-k'>nir_median:</span><span class='ee-v'>Object</span></li><li><span class='ee-k'>nir_min:</span><span class='ee-v'>Object</span></li><li><span class='ee-k'>red_max:</span><span class='ee-v'>Object</span></li><li><span class='ee-k'>red_mean:</span><span class='ee-v'>Object</span></li><li><span class='ee-k'>red_median:</span><span class='ee-v'>Object</span></li><li><span class='ee-k'>red_min:</span><span class='ee-v'>Object</span></li><li><span class='ee-k'>system:index:</span><span class='ee-v'>String</span></li><li><span class='ee-k'>system:time_start:</span><span class='ee-v'>Date</span></li></ul></li><li><label class='ee-shut'>features: List (2 elements)<input type='checkbox' class='ee-toggle'></label><ul><li><label class='ee-shut'>0: Feature (Point, 24 properties)<input type='checkbox' class='ee-toggle'></label><ul><li><span class='ee-k'>type:</span><span class='ee-v'>Feature</span></li><li><span class='ee-k'>id:</span><span class='ee-v'>305_20160922T141042_20160922T141041_T21MXT</span></li><li><label class='ee-shut'>geometry: Point (-55.37, -2.31)<input type='checkbox' class='ee-toggle'></label><ul><li><span class='ee-k'>type:</span><span class='ee-v'>Point</span></li><li><label class='ee-shut'>coordinates: [-55.373301, -2.307096]<input type='checkbox' class='ee-toggle'></label><ul><li><span class='ee-k'>0:</span><span class='ee-v'>-55.373301</span></li><li><span class='ee-k'>1:</span><span class='ee-v'>-2.307096</span></li></ul></li></ul></li><li><label class='ee-shut'>properties: Object (24 properties)<input type='checkbox' class='ee-toggle'></label><ul><li><span class='ee-k'>DATE:</span><span class='ee-v'>2016-09-29 00:00:00</span></li><li><span class='ee-k'>ID:</span><span class='ee-v'>305</span></li><li><span class='ee-k'>LATITUDE:</span><span class='ee-v'>-2.307096</span></li><li><span class='ee-k'>LONGITUDE:</span><span class='ee-v'>-55.373301</span></li><li><span class='ee-k'>MISSION:</span><span class='ee-v'>VII</span></li><li><span class='ee-k'>blue_max:</span><span class='ee-v'>0.038266397181675474</span></li><li><span class='ee-k'>blue_mean:</span><span class='ee-v'>0.03751940115473418</span></li><li><span class='ee-k'>blue_median:</span><span class='ee-v'>0.03753428444345276</span></li><li><span class='ee-k'>blue_min:</span><span class='ee-v'>0.03696132664832194</span></li><li><span class='ee-k'>count_pixel:</span><span class='ee-v'>9</span></li><li><span class='ee-k'>dif_date_point:</span><span class='ee-v'>-6.409242361111111</span></li><li><span class='ee-k'>green_max:</span><span class='ee-v'>0.041757032075388625</span></li><li><span class='ee-k'>green_meadin:</span><span class='ee-v'>0.04108858131440267</span></li><li><span class='ee-k'>green_mean:</span><span class='ee-v'>0.04101659194882008</span></li><li><span class='ee-k'>green_min:</span><span class='ee-v'>0.04048379253065347</span></li><li><span class='ee-k'>nir_max:</span><span class='ee-v'>-0.006509765817253023</span></li><li><span class='ee-k'>nir_mean:</span><span class='ee-v'>-0.006986547159043032</span></li><li><span class='ee-k'>nir_median:</span><span class='ee-v'>-0.007050892623765459</span></li><li><span class='ee-k'>nir_min:</span><span class='ee-v'>-0.007719343384751422</span></li><li><span class='ee-k'>red_max:</span><span class='ee-v'>0.04911432051004916</span></li><li><span class='ee-k'>red_mean:</span><span class='ee-v'>0.04845614995879667</span></li><li><span class='ee-k'>red_median:</span><span class='ee-v'>0.04841403876044484</span></li><li><span class='ee-k'>red_min:</span><span class='ee-v'>0.04800023590840591</span></li><li><label class='ee-shut'>system:time_start: Date (2016-09-29 00:00:00)<input type='checkbox' class='ee-toggle'></label><ul><li><span class='ee-k'>type:</span><span class='ee-v'>Date</span></li><li><span class='ee-k'>value:</span><span class='ee-v'>1475107200000</span></li></ul></li></ul></li></ul></li><li><label class='ee-shut'>1: Feature (Point, 24 properties)<input type='checkbox' class='ee-toggle'></label><ul><li><span class='ee-k'>type:</span><span class='ee-v'>Feature</span></li><li><span class='ee-k'>id:</span><span class='ee-v'>305_20160922T141042_20160922T190919_T21MXT</span></li><li><label class='ee-shut'>geometry: Point (-55.37, -2.31)<input type='checkbox' class='ee-toggle'></label><ul><li><span class='ee-k'>type:</span><span class='ee-v'>Point</span></li><li><label class='ee-shut'>coordinates: [-55.373301, -2.307096]<input type='checkbox' class='ee-toggle'></label><ul><li><span class='ee-k'>0:</span><span class='ee-v'>-55.373301</span></li><li><span class='ee-k'>1:</span><span class='ee-v'>-2.307096</span></li></ul></li></ul></li><li><label class='ee-shut'>properties: Object (24 properties)<input type='checkbox' class='ee-toggle'></label><ul><li><span class='ee-k'>DATE:</span><span class='ee-v'>2016-09-29 00:00:00</span></li><li><span class='ee-k'>ID:</span><span class='ee-v'>305</span></li><li><span class='ee-k'>LATITUDE:</span><span class='ee-v'>-2.307096</span></li><li><span class='ee-k'>LONGITUDE:</span><span class='ee-v'>-55.373301</span></li><li><span class='ee-k'>MISSION:</span><span class='ee-v'>VII</span></li><li><span class='ee-k'>blue_max:</span><span class='ee-v'>0.038268554413373505</span></li><li><span class='ee-k'>blue_mean:</span><span class='ee-v'>0.0375215583864322</span></li><li><span class='ee-k'>blue_median:</span><span class='ee-v'>0.03753644167515079</span></li><li><span class='ee-k'>blue_min:</span><span class='ee-v'>0.036963483880019965</span></li><li><span class='ee-k'>count_pixel:</span><span class='ee-v'>9</span></li><li><span class='ee-k'>dif_date_point:</span><span class='ee-v'>-6.409242372685185</span></li><li><span class='ee-k'>green_max:</span><span class='ee-v'>0.04175861801994599</span></li><li><span class='ee-k'>green_meadin:</span><span class='ee-v'>0.04109016725896003</span></li><li><span class='ee-k'>green_mean:</span><span class='ee-v'>0.041018177893377444</span></li><li><span class='ee-k'>green_min:</span><span class='ee-v'>0.04048537847521083</span></li><li><span class='ee-k'>nir_max:</span><span class='ee-v'>-0.006513367974653239</span></li><li><span class='ee-k'>nir_mean:</span><span class='ee-v'>-0.00699014931644325</span></li><li><span class='ee-k'>nir_median:</span><span class='ee-v'>-0.007054494781165679</span></li><li><span class='ee-k'>nir_min:</span><span class='ee-v'>-0.007722945542151638</span></li><li><span class='ee-k'>red_max:</span><span class='ee-v'>0.04911667544359359</span></li><li><span class='ee-k'>red_mean:</span><span class='ee-v'>0.04845850489234109</span></li><li><span class='ee-k'>red_median:</span><span class='ee-v'>0.04841639369398926</span></li><li><span class='ee-k'>red_min:</span><span class='ee-v'>0.04800259084195033</span></li><li><label class='ee-shut'>system:time_start: Date (2016-09-29 00:00:00)<input type='checkbox' class='ee-toggle'></label><ul><li><span class='ee-k'>type:</span><span class='ee-v'>Date</span></li><li><span class='ee-k'>value:</span><span class='ee-v'>1475107200000</span></li></ul></li></ul></li></ul></li></ul></li></ul></li></ul></div><script>function toggleHeader() {\n",
              "    const parent = this.parentElement;\n",
              "    parent.className = parent.className === \"ee-open\" ? \"ee-shut\" : \"ee-open\";\n",
              "}\n",
              "\n",
              "for (let c of document.getElementsByClassName(\"ee-toggle\")) {\n",
              "    c.onclick = toggleHeader;\n",
              "}</script></div>"
            ]
          },
          "metadata": {},
          "execution_count": 132
        }
      ]
    },
    {
      "cell_type": "markdown",
      "source": [
        "## Visualize sampled image by defining field point ID"
      ],
      "metadata": {
        "id": "R3Tm7XehSd7W"
      }
    },
    {
      "cell_type": "code",
      "execution_count": null,
      "metadata": {
        "id": "AET6sX5H_jr_"
      },
      "outputs": [],
      "source": [
        "Map = geemap.Map()\n",
        "Map.centerObject(roi_points,10)\n",
        "id = 360\n",
        "vis_params={'bands':['red','green','blue'],'min':0,'max':0.05}\n",
        "Map.addLayer(img_pointsLD7.filter(ee.Filter.eq('ID',id)).sort('dif_date_point').first(), vis_params, 'landsat7')\n",
        "Map.addLayer(img_pointsLD8.filter(ee.Filter.eq('ID',id)).sort('dif_date_point').first(), vis_params, 'landsat8')\n",
        "Map.addLayer(img_pointsS2.filter(ee.Filter.eq('ID',id)).sort('dif_date_point').first(), vis_params, 'sentinel2')\n",
        "\n",
        "Map.addLayer(roi_points.filter(ee.Filter.eq('ID',id)).geometry(), {'color':'darkred'}, 'Data Points');\n",
        "Map"
      ]
    },
    {
      "cell_type": "markdown",
      "source": [
        "# Export data as CSV file"
      ],
      "metadata": {
        "id": "st2x3mUrSo5D"
      }
    },
    {
      "cell_type": "code",
      "source": [
        "import geemap\n",
        "#Exportar tabelas\n",
        "#LD7\n",
        "geemap.ee_to_csv(reduced_LD7, '/content/drive/MyDrive/CURUAI_PROCESS/'+mission+'_LD7_DOS_data.csv', selectors=None, verbose=True, timeout=300, proxies=None)"
      ],
      "metadata": {
        "colab": {
          "base_uri": "https://localhost:8080/",
          "height": 86
        },
        "id": "8e9MR9Vd8ut0",
        "outputId": "2174d0d3-442b-46f6-8f61-f9ab4c89b920"
      },
      "execution_count": 232,
      "outputs": [
        {
          "output_type": "display_data",
          "data": {
            "text/plain": [
              "<IPython.core.display.HTML object>"
            ],
            "text/html": [
              "\n",
              "            <style>\n",
              "                .geemap-dark {\n",
              "                    --jp-widgets-color: white;\n",
              "                    --jp-widgets-label-color: white;\n",
              "                    --jp-ui-font-color1: white;\n",
              "                    --jp-layout-color2: #454545;\n",
              "                    background-color: #383838;\n",
              "                }\n",
              "                    \n",
              "                .geemap-dark .jupyter-button {\n",
              "                    --jp-layout-color3: #383838;\n",
              "                }\n",
              "                \n",
              "                .geemap-colab {\n",
              "                    background-color: var(--colab-primary-surface-color, white);\n",
              "                }\n",
              "                    \n",
              "                .geemap-colab .jupyter-button {\n",
              "                    --jp-layout-color3: var(--colab-primary-surface-color, white);\n",
              "                }\n",
              "            </style>\n",
              "            "
            ]
          },
          "metadata": {}
        },
        {
          "output_type": "stream",
          "name": "stdout",
          "text": [
            "Generating URL ...\n",
            "Downloading data from https://earthengine.googleapis.com/v1/projects/earthengine-legacy/tables/bf04ea726bf2592ba70e3c81021a5e26-9d46e272fe789b4e685ccec00d807934:getFeatures\n",
            "Please wait ...\n",
            "Data downloaded to /content/drive/MyDrive/CURUAI_PROCESS/I_LD7_DOS_data.csv\n"
          ]
        }
      ]
    },
    {
      "cell_type": "code",
      "source": [
        "geemap.ee_to_csv(reduced_LD8, '/content/drive/MyDrive/CURUAI_PROCESS/'+mission+'_LD8_DOS_data.csv', selectors=None, verbose=True, timeout=300, proxies=None)"
      ],
      "metadata": {
        "colab": {
          "base_uri": "https://localhost:8080/",
          "height": 86
        },
        "id": "YvRjkRaSAYL6",
        "outputId": "45a5eca6-65c8-4dc5-a63d-636ebc66ee94"
      },
      "execution_count": 220,
      "outputs": [
        {
          "output_type": "display_data",
          "data": {
            "text/plain": [
              "<IPython.core.display.HTML object>"
            ],
            "text/html": [
              "\n",
              "            <style>\n",
              "                .geemap-dark {\n",
              "                    --jp-widgets-color: white;\n",
              "                    --jp-widgets-label-color: white;\n",
              "                    --jp-ui-font-color1: white;\n",
              "                    --jp-layout-color2: #454545;\n",
              "                    background-color: #383838;\n",
              "                }\n",
              "                    \n",
              "                .geemap-dark .jupyter-button {\n",
              "                    --jp-layout-color3: #383838;\n",
              "                }\n",
              "                \n",
              "                .geemap-colab {\n",
              "                    background-color: var(--colab-primary-surface-color, white);\n",
              "                }\n",
              "                    \n",
              "                .geemap-colab .jupyter-button {\n",
              "                    --jp-layout-color3: var(--colab-primary-surface-color, white);\n",
              "                }\n",
              "            </style>\n",
              "            "
            ]
          },
          "metadata": {}
        },
        {
          "output_type": "stream",
          "name": "stdout",
          "text": [
            "Generating URL ...\n",
            "Downloading data from https://earthengine.googleapis.com/v1/projects/earthengine-legacy/tables/13fb463e3717e89bd6730231df6f5fff-822d38e89d7b75d4d1b2e0cffba9388b:getFeatures\n",
            "Please wait ...\n",
            "Data downloaded to /content/drive/MyDrive/CURUAI_PROCESS/II_LD8_DOS_data.csv\n"
          ]
        }
      ]
    },
    {
      "cell_type": "code",
      "source": [
        "geemap.ee_to_csv(reduced_S2, '/content/drive/MyDrive/CURUAI_PROCESS/'+mission+'_S2_DOS_data.csv', selectors=None, verbose=True, timeout=300, proxies=None)"
      ],
      "metadata": {
        "colab": {
          "base_uri": "https://localhost:8080/",
          "height": 86
        },
        "id": "S_9w3_F_Af5A",
        "outputId": "4cbc51f1-8ce1-46c5-bd68-8362333a1936"
      },
      "execution_count": 161,
      "outputs": [
        {
          "output_type": "display_data",
          "data": {
            "text/plain": [
              "<IPython.core.display.HTML object>"
            ],
            "text/html": [
              "\n",
              "            <style>\n",
              "                .geemap-dark {\n",
              "                    --jp-widgets-color: white;\n",
              "                    --jp-widgets-label-color: white;\n",
              "                    --jp-ui-font-color1: white;\n",
              "                    --jp-layout-color2: #454545;\n",
              "                    background-color: #383838;\n",
              "                }\n",
              "                    \n",
              "                .geemap-dark .jupyter-button {\n",
              "                    --jp-layout-color3: #383838;\n",
              "                }\n",
              "                \n",
              "                .geemap-colab {\n",
              "                    background-color: var(--colab-primary-surface-color, white);\n",
              "                }\n",
              "                    \n",
              "                .geemap-colab .jupyter-button {\n",
              "                    --jp-layout-color3: var(--colab-primary-surface-color, white);\n",
              "                }\n",
              "            </style>\n",
              "            "
            ]
          },
          "metadata": {}
        },
        {
          "output_type": "stream",
          "name": "stdout",
          "text": [
            "Generating URL ...\n",
            "Downloading data from https://earthengine.googleapis.com/v1/projects/earthengine-legacy/tables/4f86bba985360aa467fb0cf2f6017150-dae5fb1f94758da695727c685facea14:getFeatures\n",
            "Please wait ...\n",
            "Data downloaded to /content/drive/MyDrive/CURUAI_PROCESS/VI_S2_DOS_data.csv\n"
          ]
        }
      ]
    },
    {
      "cell_type": "markdown",
      "source": [
        "CORREÇÂO ATM:\n",
        "\n",
        "\n",
        "1.   ACOLITE https://github.com/acolite/acolite\n",
        "2.   6S com imagem da Dinha e parametros do artigo... talvez seja necessaria mais uma correção para isso\n",
        "\n",
        "\n",
        "\n"
      ],
      "metadata": {
        "id": "3-mV3QNe5dbI"
      }
    }
  ],
  "metadata": {
    "colab": {
      "provenance": [],
      "toc_visible": true,
      "include_colab_link": true
    },
    "kernelspec": {
      "display_name": "Python 3 (ipykernel)",
      "language": "python",
      "name": "python3"
    },
    "language_info": {
      "codemirror_mode": {
        "name": "ipython",
        "version": 3
      },
      "file_extension": ".py",
      "mimetype": "text/x-python",
      "name": "python",
      "nbconvert_exporter": "python",
      "pygments_lexer": "ipython3",
      "version": "3.9.18"
    }
  },
  "nbformat": 4,
  "nbformat_minor": 0
}