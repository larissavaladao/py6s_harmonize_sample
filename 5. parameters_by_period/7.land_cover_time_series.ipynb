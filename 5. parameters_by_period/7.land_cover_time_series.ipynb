{
  "nbformat": 4,
  "nbformat_minor": 0,
  "metadata": {
    "colab": {
      "provenance": [],
      "authorship_tag": "ABX9TyPmgnhazhbfJra4FAQKqZRr",
      "include_colab_link": true
    },
    "kernelspec": {
      "name": "python3",
      "display_name": "Python 3"
    },
    "language_info": {
      "name": "python"
    }
  },
  "cells": [
    {
      "cell_type": "markdown",
      "metadata": {
        "id": "view-in-github",
        "colab_type": "text"
      },
      "source": [
        "<a href=\"https://colab.research.google.com/github/larissavaladao/time_series_curuai/blob/main/5.%20parameters_by_period/7.land_cover_time_series.ipynb\" target=\"_parent\"><img src=\"https://colab.research.google.com/assets/colab-badge.svg\" alt=\"Open In Colab\"/></a>"
      ]
    },
    {
      "cell_type": "markdown",
      "source": [
        "# Importar pacotes"
      ],
      "metadata": {
        "id": "jXINN_JiEfA6"
      }
    },
    {
      "cell_type": "code",
      "execution_count": null,
      "metadata": {
        "id": "ZE_Dcsg2_NKx"
      },
      "outputs": [],
      "source": [
        "import geopandas as gpd\n",
        "import pandas as pd\n",
        "import math\n",
        "import ee\n",
        "import geemap\n",
        "import json"
      ]
    },
    {
      "cell_type": "code",
      "source": [
        "ee.Authenticate()\n",
        "ee.Initialize(project='ee-curuai2')"
      ],
      "metadata": {
        "colab": {
          "base_uri": "https://localhost:8080/"
        },
        "id": "Qprxx-PQEhWQ",
        "outputId": "f319de9c-a85c-4896-84fc-2aab6402f87d"
      },
      "execution_count": null,
      "outputs": [
        {
          "output_type": "display_data",
          "data": {
            "text/plain": [
              "<IPython.core.display.HTML object>"
            ],
            "text/html": [
              "\n",
              "            <style>\n",
              "                .geemap-dark {\n",
              "                    --jp-widgets-color: white;\n",
              "                    --jp-widgets-label-color: white;\n",
              "                    --jp-ui-font-color1: white;\n",
              "                    --jp-layout-color2: #454545;\n",
              "                    background-color: #383838;\n",
              "                }\n",
              "\n",
              "                .geemap-dark .jupyter-button {\n",
              "                    --jp-layout-color3: #383838;\n",
              "                }\n",
              "\n",
              "                .geemap-colab {\n",
              "                    background-color: var(--colab-primary-surface-color, white);\n",
              "                }\n",
              "\n",
              "                .geemap-colab .jupyter-button {\n",
              "                    --jp-layout-color3: var(--colab-primary-surface-color, white);\n",
              "                }\n",
              "            </style>\n",
              "            "
            ]
          },
          "metadata": {}
        }
      ]
    },
    {
      "cell_type": "code",
      "source": [
        "\n",
        "\n",
        "from google.colab import drive\n",
        "drive.mount('/content/drive')"
      ],
      "metadata": {
        "colab": {
          "base_uri": "https://localhost:8080/"
        },
        "id": "9MCBtN2dEkOJ",
        "outputId": "838cbeda-3f2d-49fa-de00-2931be3f6af9"
      },
      "execution_count": null,
      "outputs": [
        {
          "output_type": "display_data",
          "data": {
            "text/plain": [
              "<IPython.core.display.HTML object>"
            ],
            "text/html": [
              "\n",
              "            <style>\n",
              "                .geemap-dark {\n",
              "                    --jp-widgets-color: white;\n",
              "                    --jp-widgets-label-color: white;\n",
              "                    --jp-ui-font-color1: white;\n",
              "                    --jp-layout-color2: #454545;\n",
              "                    background-color: #383838;\n",
              "                }\n",
              "\n",
              "                .geemap-dark .jupyter-button {\n",
              "                    --jp-layout-color3: #383838;\n",
              "                }\n",
              "\n",
              "                .geemap-colab {\n",
              "                    background-color: var(--colab-primary-surface-color, white);\n",
              "                }\n",
              "\n",
              "                .geemap-colab .jupyter-button {\n",
              "                    --jp-layout-color3: var(--colab-primary-surface-color, white);\n",
              "                }\n",
              "            </style>\n",
              "            "
            ]
          },
          "metadata": {}
        },
        {
          "output_type": "stream",
          "name": "stdout",
          "text": [
            "Mounted at /content/drive\n"
          ]
        }
      ]
    },
    {
      "cell_type": "markdown",
      "source": [
        "# Import image collections"
      ],
      "metadata": {
        "id": "M0XtIhvAEmXd"
      }
    },
    {
      "cell_type": "markdown",
      "source": [
        "Landsat 7 - PY6S"
      ],
      "metadata": {
        "id": "Z3Ke5M4dEqE1"
      }
    },
    {
      "cell_type": "code",
      "source": [
        "landsat7 = ee.ImageCollection(\"projects/ee-curuai/assets/Py6S/LD7/Landsat7\")\\\n",
        "            .select([ 'B1', 'B2', 'B3', 'B4', 'B5', 'B7'])\n",
        "print(ee.Date(landsat7.sort('system:time_start',True).first().get('system:time_start')).format().getInfo())\n",
        "print(ee.Date(landsat7.sort('system:time_start',False).first().get('system:time_start')).format().getInfo())"
      ],
      "metadata": {
        "colab": {
          "base_uri": "https://localhost:8080/"
        },
        "id": "CXSS9NNoElpO",
        "outputId": "a20d8c26-112e-4dd1-8dc2-a07d3e59f395"
      },
      "execution_count": null,
      "outputs": [
        {
          "output_type": "display_data",
          "data": {
            "text/plain": [
              "<IPython.core.display.HTML object>"
            ],
            "text/html": [
              "\n",
              "            <style>\n",
              "                .geemap-dark {\n",
              "                    --jp-widgets-color: white;\n",
              "                    --jp-widgets-label-color: white;\n",
              "                    --jp-ui-font-color1: white;\n",
              "                    --jp-layout-color2: #454545;\n",
              "                    background-color: #383838;\n",
              "                }\n",
              "\n",
              "                .geemap-dark .jupyter-button {\n",
              "                    --jp-layout-color3: #383838;\n",
              "                }\n",
              "\n",
              "                .geemap-colab {\n",
              "                    background-color: var(--colab-primary-surface-color, white);\n",
              "                }\n",
              "\n",
              "                .geemap-colab .jupyter-button {\n",
              "                    --jp-layout-color3: var(--colab-primary-surface-color, white);\n",
              "                }\n",
              "            </style>\n",
              "            "
            ]
          },
          "metadata": {}
        },
        {
          "output_type": "stream",
          "name": "stdout",
          "text": [
            "2000-01-24T13:46:48\n",
            "2024-01-16T11:16:49\n"
          ]
        }
      ]
    },
    {
      "cell_type": "markdown",
      "source": [
        "Landsat 8 PY6S"
      ],
      "metadata": {
        "id": "qqhvdTaLEx3l"
      }
    },
    {
      "cell_type": "code",
      "source": [
        "landsat8 = (ee.ImageCollection(\"projects/ee-curuai/assets/Py6S/LD8/Landsat8\")\n",
        "            .select(['B2', 'B3', 'B4', 'B5', 'B6', 'B7']))\n",
        "print(ee.Date(landsat8.sort('system:time_start',True).first().get('system:time_start')).format().getInfo())\n",
        "print(ee.Date(landsat8.sort('system:time_start',False).first().get('system:time_start')).format().getInfo())"
      ],
      "metadata": {
        "colab": {
          "base_uri": "https://localhost:8080/"
        },
        "id": "0ImSKqlGEwq0",
        "outputId": "837405f3-f173-407f-abdf-9c6f3ccc9e28"
      },
      "execution_count": null,
      "outputs": [
        {
          "output_type": "display_data",
          "data": {
            "text/plain": [
              "<IPython.core.display.HTML object>"
            ],
            "text/html": [
              "\n",
              "            <style>\n",
              "                .geemap-dark {\n",
              "                    --jp-widgets-color: white;\n",
              "                    --jp-widgets-label-color: white;\n",
              "                    --jp-ui-font-color1: white;\n",
              "                    --jp-layout-color2: #454545;\n",
              "                    background-color: #383838;\n",
              "                }\n",
              "\n",
              "                .geemap-dark .jupyter-button {\n",
              "                    --jp-layout-color3: #383838;\n",
              "                }\n",
              "\n",
              "                .geemap-colab {\n",
              "                    background-color: var(--colab-primary-surface-color, white);\n",
              "                }\n",
              "\n",
              "                .geemap-colab .jupyter-button {\n",
              "                    --jp-layout-color3: var(--colab-primary-surface-color, white);\n",
              "                }\n",
              "            </style>\n",
              "            "
            ]
          },
          "metadata": {}
        },
        {
          "output_type": "stream",
          "name": "stdout",
          "text": [
            "2013-05-11T13:55:54\n",
            "2024-12-12T13:47:48\n"
          ]
        }
      ]
    },
    {
      "cell_type": "markdown",
      "source": [
        "Landsat 9 PY6S"
      ],
      "metadata": {
        "id": "sWHfxsVXE4xv"
      }
    },
    {
      "cell_type": "code",
      "source": [
        "landsat9 = (ee.ImageCollection(\"projects/ee-curuai2/assets/Py6S/LD9/Landsat9\")\n",
        "            .select(['B2', 'B3', 'B4', 'B5', 'B6', 'B7']))\n",
        "print(ee.Date(landsat9.sort('system:time_start',True).first().get('system:time_start')).format().getInfo())\n",
        "print(ee.Date(landsat9.sort('system:time_start',False).first().get('system:time_start')).format().getInfo())"
      ],
      "metadata": {
        "colab": {
          "base_uri": "https://localhost:8080/"
        },
        "id": "rkKNnNq7E6JD",
        "outputId": "780d2750-3622-4728-874c-18298c74b1aa"
      },
      "execution_count": null,
      "outputs": [
        {
          "output_type": "display_data",
          "data": {
            "text/plain": [
              "<IPython.core.display.HTML object>"
            ],
            "text/html": [
              "\n",
              "            <style>\n",
              "                .geemap-dark {\n",
              "                    --jp-widgets-color: white;\n",
              "                    --jp-widgets-label-color: white;\n",
              "                    --jp-ui-font-color1: white;\n",
              "                    --jp-layout-color2: #454545;\n",
              "                    background-color: #383838;\n",
              "                }\n",
              "\n",
              "                .geemap-dark .jupyter-button {\n",
              "                    --jp-layout-color3: #383838;\n",
              "                }\n",
              "\n",
              "                .geemap-colab {\n",
              "                    background-color: var(--colab-primary-surface-color, white);\n",
              "                }\n",
              "\n",
              "                .geemap-colab .jupyter-button {\n",
              "                    --jp-layout-color3: var(--colab-primary-surface-color, white);\n",
              "                }\n",
              "            </style>\n",
              "            "
            ]
          },
          "metadata": {}
        },
        {
          "output_type": "stream",
          "name": "stdout",
          "text": [
            "2021-11-06T13:49:55\n",
            "2024-12-27T13:54:34\n"
          ]
        }
      ]
    },
    {
      "cell_type": "markdown",
      "source": [
        "# Transform into remote sensing reflectance and sunglint correction"
      ],
      "metadata": {
        "id": "TRtTcd33FBKB"
      }
    },
    {
      "cell_type": "code",
      "source": [
        "def rs_reflectance (img):\n",
        "  '''#dividir imagem corrigida por pi\n",
        "  Rrs_sat_ac = Rsat_ac / pi\n",
        "  '''\n",
        "  Rrs = img.divide(math.pi).select(['blue_mean','green_mean','red_mean','nir_mean','swir1','swir2'])\n",
        "\n",
        "\n",
        "  return (Rrs\n",
        "          .copyProperties(img,['system:time_start','CLOUD_COVER',\"system:index\"]))"
      ],
      "metadata": {
        "colab": {
          "base_uri": "https://localhost:8080/",
          "height": 17
        },
        "id": "vKgUMxQuE-Qg",
        "outputId": "f5a162de-d899-4218-8120-0295ec8af76f"
      },
      "execution_count": null,
      "outputs": [
        {
          "output_type": "display_data",
          "data": {
            "text/plain": [
              "<IPython.core.display.HTML object>"
            ],
            "text/html": [
              "\n",
              "            <style>\n",
              "                .geemap-dark {\n",
              "                    --jp-widgets-color: white;\n",
              "                    --jp-widgets-label-color: white;\n",
              "                    --jp-ui-font-color1: white;\n",
              "                    --jp-layout-color2: #454545;\n",
              "                    background-color: #383838;\n",
              "                }\n",
              "\n",
              "                .geemap-dark .jupyter-button {\n",
              "                    --jp-layout-color3: #383838;\n",
              "                }\n",
              "\n",
              "                .geemap-colab {\n",
              "                    background-color: var(--colab-primary-surface-color, white);\n",
              "                }\n",
              "\n",
              "                .geemap-colab .jupyter-button {\n",
              "                    --jp-layout-color3: var(--colab-primary-surface-color, white);\n",
              "                }\n",
              "            </style>\n",
              "            "
            ]
          },
          "metadata": {}
        }
      ]
    },
    {
      "cell_type": "markdown",
      "source": [
        "# Padronize band names"
      ],
      "metadata": {
        "id": "Tjapb9vxFTN4"
      }
    },
    {
      "cell_type": "code",
      "source": [
        "name_bands = ['blue_mean','green_mean','red_mean','nir_mean','swir1','swir2']"
      ],
      "metadata": {
        "colab": {
          "base_uri": "https://localhost:8080/",
          "height": 17
        },
        "id": "VQsBJT_aFUlG",
        "outputId": "78241ff7-f67e-42c2-b810-a7acebe9b499"
      },
      "execution_count": null,
      "outputs": [
        {
          "output_type": "display_data",
          "data": {
            "text/plain": [
              "<IPython.core.display.HTML object>"
            ],
            "text/html": [
              "\n",
              "            <style>\n",
              "                .geemap-dark {\n",
              "                    --jp-widgets-color: white;\n",
              "                    --jp-widgets-label-color: white;\n",
              "                    --jp-ui-font-color1: white;\n",
              "                    --jp-layout-color2: #454545;\n",
              "                    background-color: #383838;\n",
              "                }\n",
              "\n",
              "                .geemap-dark .jupyter-button {\n",
              "                    --jp-layout-color3: #383838;\n",
              "                }\n",
              "\n",
              "                .geemap-colab {\n",
              "                    background-color: var(--colab-primary-surface-color, white);\n",
              "                }\n",
              "\n",
              "                .geemap-colab .jupyter-button {\n",
              "                    --jp-layout-color3: var(--colab-primary-surface-color, white);\n",
              "                }\n",
              "            </style>\n",
              "            "
            ]
          },
          "metadata": {}
        }
      ]
    },
    {
      "cell_type": "markdown",
      "source": [
        "Landsat 7"
      ],
      "metadata": {
        "id": "8AAjrppqFeMC"
      }
    },
    {
      "cell_type": "code",
      "source": [
        "#renomear bandas\n",
        "\n",
        "ld7 = landsat7.map(lambda img: img.rename(name_bands))\n",
        "display(ld7.size().getInfo())"
      ],
      "metadata": {
        "colab": {
          "base_uri": "https://localhost:8080/",
          "height": 35
        },
        "id": "ldaOXtQHFg1_",
        "outputId": "93e2cdb0-065f-4335-8bd9-b37076e87dfd"
      },
      "execution_count": null,
      "outputs": [
        {
          "output_type": "display_data",
          "data": {
            "text/plain": [
              "<IPython.core.display.HTML object>"
            ],
            "text/html": [
              "\n",
              "            <style>\n",
              "                .geemap-dark {\n",
              "                    --jp-widgets-color: white;\n",
              "                    --jp-widgets-label-color: white;\n",
              "                    --jp-ui-font-color1: white;\n",
              "                    --jp-layout-color2: #454545;\n",
              "                    background-color: #383838;\n",
              "                }\n",
              "\n",
              "                .geemap-dark .jupyter-button {\n",
              "                    --jp-layout-color3: #383838;\n",
              "                }\n",
              "\n",
              "                .geemap-colab {\n",
              "                    background-color: var(--colab-primary-surface-color, white);\n",
              "                }\n",
              "\n",
              "                .geemap-colab .jupyter-button {\n",
              "                    --jp-layout-color3: var(--colab-primary-surface-color, white);\n",
              "                }\n",
              "            </style>\n",
              "            "
            ]
          },
          "metadata": {}
        },
        {
          "output_type": "display_data",
          "data": {
            "text/plain": [
              "1366"
            ]
          },
          "metadata": {}
        }
      ]
    },
    {
      "cell_type": "markdown",
      "source": [
        "Landsat 8"
      ],
      "metadata": {
        "id": "8bWtYh6SFoI-"
      }
    },
    {
      "cell_type": "code",
      "source": [
        "ld8 = landsat8.map(lambda img: img.rename(name_bands))\n",
        "display(ld8.size().getInfo())"
      ],
      "metadata": {
        "colab": {
          "base_uri": "https://localhost:8080/",
          "height": 35
        },
        "id": "pBD1H3f4FoqW",
        "outputId": "070af2f1-987b-45bf-b490-2a22d8b25bb4"
      },
      "execution_count": null,
      "outputs": [
        {
          "output_type": "display_data",
          "data": {
            "text/plain": [
              "<IPython.core.display.HTML object>"
            ],
            "text/html": [
              "\n",
              "            <style>\n",
              "                .geemap-dark {\n",
              "                    --jp-widgets-color: white;\n",
              "                    --jp-widgets-label-color: white;\n",
              "                    --jp-ui-font-color1: white;\n",
              "                    --jp-layout-color2: #454545;\n",
              "                    background-color: #383838;\n",
              "                }\n",
              "\n",
              "                .geemap-dark .jupyter-button {\n",
              "                    --jp-layout-color3: #383838;\n",
              "                }\n",
              "\n",
              "                .geemap-colab {\n",
              "                    background-color: var(--colab-primary-surface-color, white);\n",
              "                }\n",
              "\n",
              "                .geemap-colab .jupyter-button {\n",
              "                    --jp-layout-color3: var(--colab-primary-surface-color, white);\n",
              "                }\n",
              "            </style>\n",
              "            "
            ]
          },
          "metadata": {}
        },
        {
          "output_type": "display_data",
          "data": {
            "text/plain": [
              "743"
            ]
          },
          "metadata": {}
        }
      ]
    },
    {
      "cell_type": "markdown",
      "source": [
        "landsat 9"
      ],
      "metadata": {
        "id": "sKZe8eETFrxN"
      }
    },
    {
      "cell_type": "code",
      "source": [
        "ld9 = landsat9.map(lambda img: img.rename(name_bands))\n",
        "display(ld9.size().getInfo())"
      ],
      "metadata": {
        "colab": {
          "base_uri": "https://localhost:8080/",
          "height": 35
        },
        "id": "UBSClalbFslE",
        "outputId": "73fb0c70-4d43-4f12-ce17-91b15080db23"
      },
      "execution_count": null,
      "outputs": [
        {
          "output_type": "display_data",
          "data": {
            "text/plain": [
              "<IPython.core.display.HTML object>"
            ],
            "text/html": [
              "\n",
              "            <style>\n",
              "                .geemap-dark {\n",
              "                    --jp-widgets-color: white;\n",
              "                    --jp-widgets-label-color: white;\n",
              "                    --jp-ui-font-color1: white;\n",
              "                    --jp-layout-color2: #454545;\n",
              "                    background-color: #383838;\n",
              "                }\n",
              "\n",
              "                .geemap-dark .jupyter-button {\n",
              "                    --jp-layout-color3: #383838;\n",
              "                }\n",
              "\n",
              "                .geemap-colab {\n",
              "                    background-color: var(--colab-primary-surface-color, white);\n",
              "                }\n",
              "\n",
              "                .geemap-colab .jupyter-button {\n",
              "                    --jp-layout-color3: var(--colab-primary-surface-color, white);\n",
              "                }\n",
              "            </style>\n",
              "            "
            ]
          },
          "metadata": {}
        },
        {
          "output_type": "display_data",
          "data": {
            "text/plain": [
              "208"
            ]
          },
          "metadata": {}
        }
      ]
    },
    {
      "cell_type": "code",
      "source": [
        "merge_col = ld8.merge(ld7).merge(ld9).sort('system:time_start').map(rs_reflectance)\n",
        "merge_col.limit(5)"
      ],
      "metadata": {
        "colab": {
          "base_uri": "https://localhost:8080/",
          "height": 68
        },
        "id": "HMWTAOdnFu3x",
        "outputId": "280c613d-d9ca-4f54-c843-9439ed26213e"
      },
      "execution_count": null,
      "outputs": [
        {
          "output_type": "display_data",
          "data": {
            "text/plain": [
              "<IPython.core.display.HTML object>"
            ],
            "text/html": [
              "\n",
              "            <style>\n",
              "                .geemap-dark {\n",
              "                    --jp-widgets-color: white;\n",
              "                    --jp-widgets-label-color: white;\n",
              "                    --jp-ui-font-color1: white;\n",
              "                    --jp-layout-color2: #454545;\n",
              "                    background-color: #383838;\n",
              "                }\n",
              "\n",
              "                .geemap-dark .jupyter-button {\n",
              "                    --jp-layout-color3: #383838;\n",
              "                }\n",
              "\n",
              "                .geemap-colab {\n",
              "                    background-color: var(--colab-primary-surface-color, white);\n",
              "                }\n",
              "\n",
              "                .geemap-colab .jupyter-button {\n",
              "                    --jp-layout-color3: var(--colab-primary-surface-color, white);\n",
              "                }\n",
              "            </style>\n",
              "            "
            ]
          },
          "metadata": {}
        },
        {
          "output_type": "execute_result",
          "data": {
            "text/plain": [
              "<ee.imagecollection.ImageCollection at 0x7bd4dda6d350>"
            ],
            "text/html": [
              "<div><style>:root {\n",
              "  --font-color-primary: var(--jp-content-font-color0, rgba(0, 0, 0, 1));\n",
              "  --font-color-secondary: var(--jp-content-font-color2, rgba(0, 0, 0, 0.7));\n",
              "  --font-color-accent: rgba(123, 31, 162, 1);\n",
              "  --border-color: var(--jp-border-color2, #e0e0e0);\n",
              "  --background-color: var(--jp-layout-color0, white);\n",
              "  --background-color-row-even: var(--jp-layout-color1, white);\n",
              "  --background-color-row-odd: var(--jp-layout-color2, #eeeeee);\n",
              "}\n",
              "\n",
              "html[theme=\"dark\"],\n",
              "body[data-theme=\"dark\"],\n",
              "body.vscode-dark {\n",
              "  --font-color-primary: rgba(255, 255, 255, 1);\n",
              "  --font-color-secondary: rgba(255, 255, 255, 0.7);\n",
              "  --font-color-accent: rgb(173, 132, 190);\n",
              "  --border-color: #2e2e2e;\n",
              "  --background-color: #111111;\n",
              "  --background-color-row-even: #111111;\n",
              "  --background-color-row-odd: #313131;\n",
              "}\n",
              "\n",
              ".eerepr {\n",
              "  padding: 1em;\n",
              "  line-height: 1.5em;\n",
              "  min-width: 300px;\n",
              "  max-width: 1200px;\n",
              "  overflow-y: scroll;\n",
              "  max-height: 600px;\n",
              "  border: 1px solid var(--border-color);\n",
              "  font-family: monospace;\n",
              "  font-size: 14px;\n",
              "}\n",
              "\n",
              ".eerepr li {\n",
              "  list-style-type: none;\n",
              "  margin: 0;\n",
              "}\n",
              "\n",
              ".eerepr ul {\n",
              "  padding-left: 1.5em !important;\n",
              "  margin: 0;\n",
              "}\n",
              "\n",
              ".eerepr > ul {\n",
              "  padding-left: 0 !important;\n",
              "}\n",
              "\n",
              ".eerepr summary {\n",
              "  color: var(--font-color-secondary);\n",
              "  cursor: pointer;\n",
              "  margin: 0;\n",
              "}\n",
              "\n",
              ".eerepr summary:hover {\n",
              "  color: var(--font-color-primary);\n",
              "  background-color: var(--background-color-row-odd)\n",
              "}\n",
              "\n",
              ".ee-k {\n",
              "  color: var(--font-color-accent);\n",
              "  margin-right: 6px;\n",
              "}\n",
              "\n",
              ".ee-v {\n",
              "  color: var(--font-color-primary);\n",
              "}\n",
              "\n",
              ".eerepr details > summary::before {\n",
              "  content: '▼';\n",
              "  display: inline-block;\n",
              "  margin-right: 6px;\n",
              "  transition: transform 0.2s;\n",
              "  transform: rotate(-90deg);\n",
              "}\n",
              "\n",
              ".eerepr details[open] > summary::before {\n",
              "  transform: rotate(0deg);\n",
              "}\n",
              "\n",
              ".eerepr details summary::-webkit-details-marker {\n",
              "  display:none;\n",
              "}\n",
              "\n",
              ".eerepr details summary {\n",
              "  list-style-type: none;\n",
              "}\n",
              "</style><div class='eerepr'><ul><li><details><summary>ImageCollection (5 elements)</summary><ul><li><span class='ee-k'>type:</span><span class='ee-v'>ImageCollection</span></li><li><details><summary>bands: []</summary><ul></ul></details></li><li><details><summary>features: List (5 elements)</summary><ul><li><details><summary>0: Image (6 bands)</summary><ul><li><span class='ee-k'>type:</span><span class='ee-v'>Image</span></li><li><details><summary>bands: List (6 elements)</summary><ul><li><details><summary>0: \"blue_mean\", double, EPSG:32621, 4256x2110 px</summary><ul><li><span class='ee-k'>id:</span><span class='ee-v'>blue_mean</span></li><li><span class='ee-k'>crs:</span><span class='ee-v'>EPSG:32621</span></li><li><details><summary>crs_transform: [30, 0, 598620, 0, -30, -211440]</summary><ul><li><span class='ee-k'>0:</span><span class='ee-v'>30</span></li><li><span class='ee-k'>1:</span><span class='ee-v'>0</span></li><li><span class='ee-k'>2:</span><span class='ee-v'>598620</span></li><li><span class='ee-k'>3:</span><span class='ee-v'>0</span></li><li><span class='ee-k'>4:</span><span class='ee-v'>-30</span></li><li><span class='ee-k'>5:</span><span class='ee-v'>-211440</span></li></ul></details></li><li><details><summary>data_type: double</summary><ul><li><span class='ee-k'>type:</span><span class='ee-v'>PixelType</span></li><li><span class='ee-k'>precision:</span><span class='ee-v'>double</span></li></ul></details></li><li><details><summary>dimensions: [4256, 2110]</summary><ul><li><span class='ee-k'>0:</span><span class='ee-v'>4256</span></li><li><span class='ee-k'>1:</span><span class='ee-v'>2110</span></li></ul></details></li></ul></details></li><li><details><summary>1: \"green_mean\", double, EPSG:32621, 4256x2110 px</summary><ul><li><span class='ee-k'>id:</span><span class='ee-v'>green_mean</span></li><li><span class='ee-k'>crs:</span><span class='ee-v'>EPSG:32621</span></li><li><details><summary>crs_transform: [30, 0, 598620, 0, -30, -211440]</summary><ul><li><span class='ee-k'>0:</span><span class='ee-v'>30</span></li><li><span class='ee-k'>1:</span><span class='ee-v'>0</span></li><li><span class='ee-k'>2:</span><span class='ee-v'>598620</span></li><li><span class='ee-k'>3:</span><span class='ee-v'>0</span></li><li><span class='ee-k'>4:</span><span class='ee-v'>-30</span></li><li><span class='ee-k'>5:</span><span class='ee-v'>-211440</span></li></ul></details></li><li><details><summary>data_type: double</summary><ul><li><span class='ee-k'>type:</span><span class='ee-v'>PixelType</span></li><li><span class='ee-k'>precision:</span><span class='ee-v'>double</span></li></ul></details></li><li><details><summary>dimensions: [4256, 2110]</summary><ul><li><span class='ee-k'>0:</span><span class='ee-v'>4256</span></li><li><span class='ee-k'>1:</span><span class='ee-v'>2110</span></li></ul></details></li></ul></details></li><li><details><summary>2: \"red_mean\", double, EPSG:32621, 4256x2110 px</summary><ul><li><span class='ee-k'>id:</span><span class='ee-v'>red_mean</span></li><li><span class='ee-k'>crs:</span><span class='ee-v'>EPSG:32621</span></li><li><details><summary>crs_transform: [30, 0, 598620, 0, -30, -211440]</summary><ul><li><span class='ee-k'>0:</span><span class='ee-v'>30</span></li><li><span class='ee-k'>1:</span><span class='ee-v'>0</span></li><li><span class='ee-k'>2:</span><span class='ee-v'>598620</span></li><li><span class='ee-k'>3:</span><span class='ee-v'>0</span></li><li><span class='ee-k'>4:</span><span class='ee-v'>-30</span></li><li><span class='ee-k'>5:</span><span class='ee-v'>-211440</span></li></ul></details></li><li><details><summary>data_type: double</summary><ul><li><span class='ee-k'>type:</span><span class='ee-v'>PixelType</span></li><li><span class='ee-k'>precision:</span><span class='ee-v'>double</span></li></ul></details></li><li><details><summary>dimensions: [4256, 2110]</summary><ul><li><span class='ee-k'>0:</span><span class='ee-v'>4256</span></li><li><span class='ee-k'>1:</span><span class='ee-v'>2110</span></li></ul></details></li></ul></details></li><li><details><summary>3: \"nir_mean\", double, EPSG:32621, 4256x2110 px</summary><ul><li><span class='ee-k'>id:</span><span class='ee-v'>nir_mean</span></li><li><span class='ee-k'>crs:</span><span class='ee-v'>EPSG:32621</span></li><li><details><summary>crs_transform: [30, 0, 598620, 0, -30, -211440]</summary><ul><li><span class='ee-k'>0:</span><span class='ee-v'>30</span></li><li><span class='ee-k'>1:</span><span class='ee-v'>0</span></li><li><span class='ee-k'>2:</span><span class='ee-v'>598620</span></li><li><span class='ee-k'>3:</span><span class='ee-v'>0</span></li><li><span class='ee-k'>4:</span><span class='ee-v'>-30</span></li><li><span class='ee-k'>5:</span><span class='ee-v'>-211440</span></li></ul></details></li><li><details><summary>data_type: double</summary><ul><li><span class='ee-k'>type:</span><span class='ee-v'>PixelType</span></li><li><span class='ee-k'>precision:</span><span class='ee-v'>double</span></li></ul></details></li><li><details><summary>dimensions: [4256, 2110]</summary><ul><li><span class='ee-k'>0:</span><span class='ee-v'>4256</span></li><li><span class='ee-k'>1:</span><span class='ee-v'>2110</span></li></ul></details></li></ul></details></li><li><details><summary>4: \"swir1\", double, EPSG:32621, 4256x2110 px</summary><ul><li><span class='ee-k'>id:</span><span class='ee-v'>swir1</span></li><li><span class='ee-k'>crs:</span><span class='ee-v'>EPSG:32621</span></li><li><details><summary>crs_transform: [30, 0, 598620, 0, -30, -211440]</summary><ul><li><span class='ee-k'>0:</span><span class='ee-v'>30</span></li><li><span class='ee-k'>1:</span><span class='ee-v'>0</span></li><li><span class='ee-k'>2:</span><span class='ee-v'>598620</span></li><li><span class='ee-k'>3:</span><span class='ee-v'>0</span></li><li><span class='ee-k'>4:</span><span class='ee-v'>-30</span></li><li><span class='ee-k'>5:</span><span class='ee-v'>-211440</span></li></ul></details></li><li><details><summary>data_type: double</summary><ul><li><span class='ee-k'>type:</span><span class='ee-v'>PixelType</span></li><li><span class='ee-k'>precision:</span><span class='ee-v'>double</span></li></ul></details></li><li><details><summary>dimensions: [4256, 2110]</summary><ul><li><span class='ee-k'>0:</span><span class='ee-v'>4256</span></li><li><span class='ee-k'>1:</span><span class='ee-v'>2110</span></li></ul></details></li></ul></details></li><li><details><summary>5: \"swir2\", double, EPSG:32621, 4256x2110 px</summary><ul><li><span class='ee-k'>id:</span><span class='ee-v'>swir2</span></li><li><span class='ee-k'>crs:</span><span class='ee-v'>EPSG:32621</span></li><li><details><summary>crs_transform: [30, 0, 598620, 0, -30, -211440]</summary><ul><li><span class='ee-k'>0:</span><span class='ee-v'>30</span></li><li><span class='ee-k'>1:</span><span class='ee-v'>0</span></li><li><span class='ee-k'>2:</span><span class='ee-v'>598620</span></li><li><span class='ee-k'>3:</span><span class='ee-v'>0</span></li><li><span class='ee-k'>4:</span><span class='ee-v'>-30</span></li><li><span class='ee-k'>5:</span><span class='ee-v'>-211440</span></li></ul></details></li><li><details><summary>data_type: double</summary><ul><li><span class='ee-k'>type:</span><span class='ee-v'>PixelType</span></li><li><span class='ee-k'>precision:</span><span class='ee-v'>double</span></li></ul></details></li><li><details><summary>dimensions: [4256, 2110]</summary><ul><li><span class='ee-k'>0:</span><span class='ee-v'>4256</span></li><li><span class='ee-k'>1:</span><span class='ee-v'>2110</span></li></ul></details></li></ul></details></li></ul></details></li><li><details><summary>properties: Object (4 properties)</summary><ul><li><span class='ee-k'>CLOUD_COVER:</span><span class='ee-v'>71</span></li><li><details><summary>system:footprint: LinearRing (19 vertices)</summary><ul><li><span class='ee-k'>type:</span><span class='ee-v'>LinearRing</span></li><li><details><summary>coordinates: List (19 elements)</summary><ul><li><details><summary>0: [-56.11340480193698, -1.91282840978306]</summary><ul><li><span class='ee-k'>0:</span><span class='ee-v'>-56.11340480193698</span></li><li><span class='ee-k'>1:</span><span class='ee-v'>-1.91282840978306</span></li></ul></details></li><li><details><summary>1: [-56.11340693028853, -1.912862183677517]</summary><ul><li><span class='ee-k'>0:</span><span class='ee-v'>-56.11340693028853</span></li><li><span class='ee-k'>1:</span><span class='ee-v'>-1.912862183677517</span></li></ul></details></li><li><details><summary>2: [-56.11306903381254, -2.4852081387761458]</summary><ul><li><span class='ee-k'>0:</span><span class='ee-v'>-56.11306903381254</span></li><li><span class='ee-k'>1:</span><span class='ee-v'>-2.4852081387761458</span></li></ul></details></li><li><details><summary>3: [-56.11295912620575, -2.485332514788806]</summary><ul><li><span class='ee-k'>0:</span><span class='ee-v'>-56.11295912620575</span></li><li><span class='ee-k'>1:</span><span class='ee-v'>-2.485332514788806</span></li></ul></details></li><li><details><summary>4: [-56.11286564950616, -2.4854696065130955]</summary><ul><li><span class='ee-k'>0:</span><span class='ee-v'>-56.11286564950616</span></li><li><span class='ee-k'>1:</span><span class='ee-v'>-2.4854696065130955</span></li></ul></details></li><li><details><summary>5: [-56.112832447422555, -2.485475868727011]</summary><ul><li><span class='ee-k'>0:</span><span class='ee-v'>-56.112832447422555</span></li><li><span class='ee-k'>1:</span><span class='ee-v'>-2.485475868727011</span></li></ul></details></li><li><details><summary>6: [-56.11279864941639, -2.4854779921569072]</summary><ul><li><span class='ee-k'>0:</span><span class='ee-v'>-56.11279864941639</span></li><li><span class='ee-k'>1:</span><span class='ee-v'>-2.4854779921569072</span></li></ul></details></li><li><details><summary>7: [-54.96496294597355, -2.4842013829440095]</summary><ul><li><span class='ee-k'>0:</span><span class='ee-v'>-54.96496294597355</span></li><li><span class='ee-k'>1:</span><span class='ee-v'>-2.4842013829440095</span></li></ul></details></li><li><details><summary>8: [-54.96483866571287, -2.4840915072711636]</summary><ul><li><span class='ee-k'>0:</span><span class='ee-v'>-54.96483866571287</span></li><li><span class='ee-k'>1:</span><span class='ee-v'>-2.4840915072711636</span></li></ul></details></li><li><details><summary>9: [-54.964701529086646, -2.483998017888572]</summary><ul><li><span class='ee-k'>0:</span><span class='ee-v'>-54.964701529086646</span></li><li><span class='ee-k'>1:</span><span class='ee-v'>-2.483998017888572</span></li></ul></details></li><li><details><summary>10: [-54.964693126114376, -2.4839536319545417]</summary><ul><li><span class='ee-k'>0:</span><span class='ee-v'>-54.964693126114376</span></li><li><span class='ee-k'>1:</span><span class='ee-v'>-2.4839536319545417</span></li></ul></details></li><li><details><summary>11: [-54.96546805174926, -1.9118792977975483]</summary><ul><li><span class='ee-k'>0:</span><span class='ee-v'>-54.96546805174926</span></li><li><span class='ee-k'>1:</span><span class='ee-v'>-1.9118792977975483</span></li></ul></details></li><li><details><summary>12: [-54.96557796370573, -1.9117551204452632]</summary><ul><li><span class='ee-k'>0:</span><span class='ee-v'>-54.96557796370573</span></li><li><span class='ee-k'>1:</span><span class='ee-v'>-1.9117551204452632</span></li></ul></details></li><li><details><summary>13: [-54.965671489818504, -1.9116181074776328]</summary><ul><li><span class='ee-k'>0:</span><span class='ee-v'>-54.965671489818504</span></li><li><span class='ee-k'>1:</span><span class='ee-v'>-1.9116181074776328</span></li></ul></details></li><li><details><summary>14: [-54.96571585803776, -1.9116097125510987]</summary><ul><li><span class='ee-k'>0:</span><span class='ee-v'>-54.96571585803776</span></li><li><span class='ee-k'>1:</span><span class='ee-v'>-1.9116097125510987</span></li></ul></details></li><li><details><summary>15: [-56.11313697057071, -1.912592072806675]</summary><ul><li><span class='ee-k'>0:</span><span class='ee-v'>-56.11313697057071</span></li><li><span class='ee-k'>1:</span><span class='ee-v'>-1.912592072806675</span></li></ul></details></li><li><details><summary>16: [-56.11326135115614, -1.9127018456262928]</summary><ul><li><span class='ee-k'>0:</span><span class='ee-v'>-56.11326135115614</span></li><li><span class='ee-k'>1:</span><span class='ee-v'>-1.9127018456262928</span></li></ul></details></li><li><details><summary>17: [-56.1133985020167, -1.9127952294692054]</summary><ul><li><span class='ee-k'>0:</span><span class='ee-v'>-56.1133985020167</span></li><li><span class='ee-k'>1:</span><span class='ee-v'>-1.9127952294692054</span></li></ul></details></li><li><details><summary>18: [-56.11340480193698, -1.91282840978306]</summary><ul><li><span class='ee-k'>0:</span><span class='ee-v'>-56.11340480193698</span></li><li><span class='ee-k'>1:</span><span class='ee-v'>-1.91282840978306</span></li></ul></details></li></ul></details></li></ul></details></li><li><span class='ee-k'>system:index:</span><span class='ee-v'>1_2_BOA_LE07_228061_20000124</span></li><li><span class='ee-k'>system:time_start:</span><span class='ee-v'>948721608082</span></li></ul></details></li></ul></details></li><li><details><summary>1: Image (6 bands)</summary><ul><li><span class='ee-k'>type:</span><span class='ee-v'>Image</span></li><li><details><summary>bands: List (6 elements)</summary><ul><li><details><summary>0: \"blue_mean\", double, EPSG:32621, 4256x2110 px</summary><ul><li><span class='ee-k'>id:</span><span class='ee-v'>blue_mean</span></li><li><span class='ee-k'>crs:</span><span class='ee-v'>EPSG:32621</span></li><li><details><summary>crs_transform: [30, 0, 598620, 0, -30, -211440]</summary><ul><li><span class='ee-k'>0:</span><span class='ee-v'>30</span></li><li><span class='ee-k'>1:</span><span class='ee-v'>0</span></li><li><span class='ee-k'>2:</span><span class='ee-v'>598620</span></li><li><span class='ee-k'>3:</span><span class='ee-v'>0</span></li><li><span class='ee-k'>4:</span><span class='ee-v'>-30</span></li><li><span class='ee-k'>5:</span><span class='ee-v'>-211440</span></li></ul></details></li><li><details><summary>data_type: double</summary><ul><li><span class='ee-k'>type:</span><span class='ee-v'>PixelType</span></li><li><span class='ee-k'>precision:</span><span class='ee-v'>double</span></li></ul></details></li><li><details><summary>dimensions: [4256, 2110]</summary><ul><li><span class='ee-k'>0:</span><span class='ee-v'>4256</span></li><li><span class='ee-k'>1:</span><span class='ee-v'>2110</span></li></ul></details></li></ul></details></li><li><details><summary>1: \"green_mean\", double, EPSG:32621, 4256x2110 px</summary><ul><li><span class='ee-k'>id:</span><span class='ee-v'>green_mean</span></li><li><span class='ee-k'>crs:</span><span class='ee-v'>EPSG:32621</span></li><li><details><summary>crs_transform: [30, 0, 598620, 0, -30, -211440]</summary><ul><li><span class='ee-k'>0:</span><span class='ee-v'>30</span></li><li><span class='ee-k'>1:</span><span class='ee-v'>0</span></li><li><span class='ee-k'>2:</span><span class='ee-v'>598620</span></li><li><span class='ee-k'>3:</span><span class='ee-v'>0</span></li><li><span class='ee-k'>4:</span><span class='ee-v'>-30</span></li><li><span class='ee-k'>5:</span><span class='ee-v'>-211440</span></li></ul></details></li><li><details><summary>data_type: double</summary><ul><li><span class='ee-k'>type:</span><span class='ee-v'>PixelType</span></li><li><span class='ee-k'>precision:</span><span class='ee-v'>double</span></li></ul></details></li><li><details><summary>dimensions: [4256, 2110]</summary><ul><li><span class='ee-k'>0:</span><span class='ee-v'>4256</span></li><li><span class='ee-k'>1:</span><span class='ee-v'>2110</span></li></ul></details></li></ul></details></li><li><details><summary>2: \"red_mean\", double, EPSG:32621, 4256x2110 px</summary><ul><li><span class='ee-k'>id:</span><span class='ee-v'>red_mean</span></li><li><span class='ee-k'>crs:</span><span class='ee-v'>EPSG:32621</span></li><li><details><summary>crs_transform: [30, 0, 598620, 0, -30, -211440]</summary><ul><li><span class='ee-k'>0:</span><span class='ee-v'>30</span></li><li><span class='ee-k'>1:</span><span class='ee-v'>0</span></li><li><span class='ee-k'>2:</span><span class='ee-v'>598620</span></li><li><span class='ee-k'>3:</span><span class='ee-v'>0</span></li><li><span class='ee-k'>4:</span><span class='ee-v'>-30</span></li><li><span class='ee-k'>5:</span><span class='ee-v'>-211440</span></li></ul></details></li><li><details><summary>data_type: double</summary><ul><li><span class='ee-k'>type:</span><span class='ee-v'>PixelType</span></li><li><span class='ee-k'>precision:</span><span class='ee-v'>double</span></li></ul></details></li><li><details><summary>dimensions: [4256, 2110]</summary><ul><li><span class='ee-k'>0:</span><span class='ee-v'>4256</span></li><li><span class='ee-k'>1:</span><span class='ee-v'>2110</span></li></ul></details></li></ul></details></li><li><details><summary>3: \"nir_mean\", double, EPSG:32621, 4256x2110 px</summary><ul><li><span class='ee-k'>id:</span><span class='ee-v'>nir_mean</span></li><li><span class='ee-k'>crs:</span><span class='ee-v'>EPSG:32621</span></li><li><details><summary>crs_transform: [30, 0, 598620, 0, -30, -211440]</summary><ul><li><span class='ee-k'>0:</span><span class='ee-v'>30</span></li><li><span class='ee-k'>1:</span><span class='ee-v'>0</span></li><li><span class='ee-k'>2:</span><span class='ee-v'>598620</span></li><li><span class='ee-k'>3:</span><span class='ee-v'>0</span></li><li><span class='ee-k'>4:</span><span class='ee-v'>-30</span></li><li><span class='ee-k'>5:</span><span class='ee-v'>-211440</span></li></ul></details></li><li><details><summary>data_type: double</summary><ul><li><span class='ee-k'>type:</span><span class='ee-v'>PixelType</span></li><li><span class='ee-k'>precision:</span><span class='ee-v'>double</span></li></ul></details></li><li><details><summary>dimensions: [4256, 2110]</summary><ul><li><span class='ee-k'>0:</span><span class='ee-v'>4256</span></li><li><span class='ee-k'>1:</span><span class='ee-v'>2110</span></li></ul></details></li></ul></details></li><li><details><summary>4: \"swir1\", double, EPSG:32621, 4256x2110 px</summary><ul><li><span class='ee-k'>id:</span><span class='ee-v'>swir1</span></li><li><span class='ee-k'>crs:</span><span class='ee-v'>EPSG:32621</span></li><li><details><summary>crs_transform: [30, 0, 598620, 0, -30, -211440]</summary><ul><li><span class='ee-k'>0:</span><span class='ee-v'>30</span></li><li><span class='ee-k'>1:</span><span class='ee-v'>0</span></li><li><span class='ee-k'>2:</span><span class='ee-v'>598620</span></li><li><span class='ee-k'>3:</span><span class='ee-v'>0</span></li><li><span class='ee-k'>4:</span><span class='ee-v'>-30</span></li><li><span class='ee-k'>5:</span><span class='ee-v'>-211440</span></li></ul></details></li><li><details><summary>data_type: double</summary><ul><li><span class='ee-k'>type:</span><span class='ee-v'>PixelType</span></li><li><span class='ee-k'>precision:</span><span class='ee-v'>double</span></li></ul></details></li><li><details><summary>dimensions: [4256, 2110]</summary><ul><li><span class='ee-k'>0:</span><span class='ee-v'>4256</span></li><li><span class='ee-k'>1:</span><span class='ee-v'>2110</span></li></ul></details></li></ul></details></li><li><details><summary>5: \"swir2\", double, EPSG:32621, 4256x2110 px</summary><ul><li><span class='ee-k'>id:</span><span class='ee-v'>swir2</span></li><li><span class='ee-k'>crs:</span><span class='ee-v'>EPSG:32621</span></li><li><details><summary>crs_transform: [30, 0, 598620, 0, -30, -211440]</summary><ul><li><span class='ee-k'>0:</span><span class='ee-v'>30</span></li><li><span class='ee-k'>1:</span><span class='ee-v'>0</span></li><li><span class='ee-k'>2:</span><span class='ee-v'>598620</span></li><li><span class='ee-k'>3:</span><span class='ee-v'>0</span></li><li><span class='ee-k'>4:</span><span class='ee-v'>-30</span></li><li><span class='ee-k'>5:</span><span class='ee-v'>-211440</span></li></ul></details></li><li><details><summary>data_type: double</summary><ul><li><span class='ee-k'>type:</span><span class='ee-v'>PixelType</span></li><li><span class='ee-k'>precision:</span><span class='ee-v'>double</span></li></ul></details></li><li><details><summary>dimensions: [4256, 2110]</summary><ul><li><span class='ee-k'>0:</span><span class='ee-v'>4256</span></li><li><span class='ee-k'>1:</span><span class='ee-v'>2110</span></li></ul></details></li></ul></details></li></ul></details></li><li><details><summary>properties: Object (4 properties)</summary><ul><li><span class='ee-k'>CLOUD_COVER:</span><span class='ee-v'>54</span></li><li><details><summary>system:footprint: LinearRing (19 vertices)</summary><ul><li><span class='ee-k'>type:</span><span class='ee-v'>LinearRing</span></li><li><details><summary>coordinates: List (19 elements)</summary><ul><li><details><summary>0: [-56.11340480193698, -1.91282840978306]</summary><ul><li><span class='ee-k'>0:</span><span class='ee-v'>-56.11340480193698</span></li><li><span class='ee-k'>1:</span><span class='ee-v'>-1.91282840978306</span></li></ul></details></li><li><details><summary>1: [-56.11340693028853, -1.912862183677517]</summary><ul><li><span class='ee-k'>0:</span><span class='ee-v'>-56.11340693028853</span></li><li><span class='ee-k'>1:</span><span class='ee-v'>-1.912862183677517</span></li></ul></details></li><li><details><summary>2: [-56.11306903381254, -2.4852081387761458]</summary><ul><li><span class='ee-k'>0:</span><span class='ee-v'>-56.11306903381254</span></li><li><span class='ee-k'>1:</span><span class='ee-v'>-2.4852081387761458</span></li></ul></details></li><li><details><summary>3: [-56.11295912620575, -2.485332514788806]</summary><ul><li><span class='ee-k'>0:</span><span class='ee-v'>-56.11295912620575</span></li><li><span class='ee-k'>1:</span><span class='ee-v'>-2.485332514788806</span></li></ul></details></li><li><details><summary>4: [-56.11286564950616, -2.4854696065130955]</summary><ul><li><span class='ee-k'>0:</span><span class='ee-v'>-56.11286564950616</span></li><li><span class='ee-k'>1:</span><span class='ee-v'>-2.4854696065130955</span></li></ul></details></li><li><details><summary>5: [-56.112832447422555, -2.485475868727011]</summary><ul><li><span class='ee-k'>0:</span><span class='ee-v'>-56.112832447422555</span></li><li><span class='ee-k'>1:</span><span class='ee-v'>-2.485475868727011</span></li></ul></details></li><li><details><summary>6: [-56.11279864941639, -2.4854779921569072]</summary><ul><li><span class='ee-k'>0:</span><span class='ee-v'>-56.11279864941639</span></li><li><span class='ee-k'>1:</span><span class='ee-v'>-2.4854779921569072</span></li></ul></details></li><li><details><summary>7: [-54.96496294597355, -2.4842013829440095]</summary><ul><li><span class='ee-k'>0:</span><span class='ee-v'>-54.96496294597355</span></li><li><span class='ee-k'>1:</span><span class='ee-v'>-2.4842013829440095</span></li></ul></details></li><li><details><summary>8: [-54.96483866571287, -2.4840915072711636]</summary><ul><li><span class='ee-k'>0:</span><span class='ee-v'>-54.96483866571287</span></li><li><span class='ee-k'>1:</span><span class='ee-v'>-2.4840915072711636</span></li></ul></details></li><li><details><summary>9: [-54.964701529086646, -2.483998017888572]</summary><ul><li><span class='ee-k'>0:</span><span class='ee-v'>-54.964701529086646</span></li><li><span class='ee-k'>1:</span><span class='ee-v'>-2.483998017888572</span></li></ul></details></li><li><details><summary>10: [-54.964693126114376, -2.4839536319545417]</summary><ul><li><span class='ee-k'>0:</span><span class='ee-v'>-54.964693126114376</span></li><li><span class='ee-k'>1:</span><span class='ee-v'>-2.4839536319545417</span></li></ul></details></li><li><details><summary>11: [-54.96546805174926, -1.9118792977975483]</summary><ul><li><span class='ee-k'>0:</span><span class='ee-v'>-54.96546805174926</span></li><li><span class='ee-k'>1:</span><span class='ee-v'>-1.9118792977975483</span></li></ul></details></li><li><details><summary>12: [-54.96557796370573, -1.9117551204452632]</summary><ul><li><span class='ee-k'>0:</span><span class='ee-v'>-54.96557796370573</span></li><li><span class='ee-k'>1:</span><span class='ee-v'>-1.9117551204452632</span></li></ul></details></li><li><details><summary>13: [-54.965671489818504, -1.9116181074776328]</summary><ul><li><span class='ee-k'>0:</span><span class='ee-v'>-54.965671489818504</span></li><li><span class='ee-k'>1:</span><span class='ee-v'>-1.9116181074776328</span></li></ul></details></li><li><details><summary>14: [-54.96571585803776, -1.9116097125510987]</summary><ul><li><span class='ee-k'>0:</span><span class='ee-v'>-54.96571585803776</span></li><li><span class='ee-k'>1:</span><span class='ee-v'>-1.9116097125510987</span></li></ul></details></li><li><details><summary>15: [-56.11313697057071, -1.912592072806675]</summary><ul><li><span class='ee-k'>0:</span><span class='ee-v'>-56.11313697057071</span></li><li><span class='ee-k'>1:</span><span class='ee-v'>-1.912592072806675</span></li></ul></details></li><li><details><summary>16: [-56.11326135115614, -1.9127018456262928]</summary><ul><li><span class='ee-k'>0:</span><span class='ee-v'>-56.11326135115614</span></li><li><span class='ee-k'>1:</span><span class='ee-v'>-1.9127018456262928</span></li></ul></details></li><li><details><summary>17: [-56.1133985020167, -1.9127952294692054]</summary><ul><li><span class='ee-k'>0:</span><span class='ee-v'>-56.1133985020167</span></li><li><span class='ee-k'>1:</span><span class='ee-v'>-1.9127952294692054</span></li></ul></details></li><li><details><summary>18: [-56.11340480193698, -1.91282840978306]</summary><ul><li><span class='ee-k'>0:</span><span class='ee-v'>-56.11340480193698</span></li><li><span class='ee-k'>1:</span><span class='ee-v'>-1.91282840978306</span></li></ul></details></li></ul></details></li></ul></details></li><li><span class='ee-k'>system:index:</span><span class='ee-v'>1_2_BOA_LE07_228062_20000124</span></li><li><span class='ee-k'>system:time_start:</span><span class='ee-v'>948721631943</span></li></ul></details></li></ul></details></li><li><details><summary>2: Image (6 bands)</summary><ul><li><span class='ee-k'>type:</span><span class='ee-v'>Image</span></li><li><details><summary>bands: List (6 elements)</summary><ul><li><details><summary>0: \"blue_mean\", double, EPSG:32621, 4256x2110 px</summary><ul><li><span class='ee-k'>id:</span><span class='ee-v'>blue_mean</span></li><li><span class='ee-k'>crs:</span><span class='ee-v'>EPSG:32621</span></li><li><details><summary>crs_transform: [30, 0, 598620, 0, -30, -211440]</summary><ul><li><span class='ee-k'>0:</span><span class='ee-v'>30</span></li><li><span class='ee-k'>1:</span><span class='ee-v'>0</span></li><li><span class='ee-k'>2:</span><span class='ee-v'>598620</span></li><li><span class='ee-k'>3:</span><span class='ee-v'>0</span></li><li><span class='ee-k'>4:</span><span class='ee-v'>-30</span></li><li><span class='ee-k'>5:</span><span class='ee-v'>-211440</span></li></ul></details></li><li><details><summary>data_type: double</summary><ul><li><span class='ee-k'>type:</span><span class='ee-v'>PixelType</span></li><li><span class='ee-k'>precision:</span><span class='ee-v'>double</span></li></ul></details></li><li><details><summary>dimensions: [4256, 2110]</summary><ul><li><span class='ee-k'>0:</span><span class='ee-v'>4256</span></li><li><span class='ee-k'>1:</span><span class='ee-v'>2110</span></li></ul></details></li></ul></details></li><li><details><summary>1: \"green_mean\", double, EPSG:32621, 4256x2110 px</summary><ul><li><span class='ee-k'>id:</span><span class='ee-v'>green_mean</span></li><li><span class='ee-k'>crs:</span><span class='ee-v'>EPSG:32621</span></li><li><details><summary>crs_transform: [30, 0, 598620, 0, -30, -211440]</summary><ul><li><span class='ee-k'>0:</span><span class='ee-v'>30</span></li><li><span class='ee-k'>1:</span><span class='ee-v'>0</span></li><li><span class='ee-k'>2:</span><span class='ee-v'>598620</span></li><li><span class='ee-k'>3:</span><span class='ee-v'>0</span></li><li><span class='ee-k'>4:</span><span class='ee-v'>-30</span></li><li><span class='ee-k'>5:</span><span class='ee-v'>-211440</span></li></ul></details></li><li><details><summary>data_type: double</summary><ul><li><span class='ee-k'>type:</span><span class='ee-v'>PixelType</span></li><li><span class='ee-k'>precision:</span><span class='ee-v'>double</span></li></ul></details></li><li><details><summary>dimensions: [4256, 2110]</summary><ul><li><span class='ee-k'>0:</span><span class='ee-v'>4256</span></li><li><span class='ee-k'>1:</span><span class='ee-v'>2110</span></li></ul></details></li></ul></details></li><li><details><summary>2: \"red_mean\", double, EPSG:32621, 4256x2110 px</summary><ul><li><span class='ee-k'>id:</span><span class='ee-v'>red_mean</span></li><li><span class='ee-k'>crs:</span><span class='ee-v'>EPSG:32621</span></li><li><details><summary>crs_transform: [30, 0, 598620, 0, -30, -211440]</summary><ul><li><span class='ee-k'>0:</span><span class='ee-v'>30</span></li><li><span class='ee-k'>1:</span><span class='ee-v'>0</span></li><li><span class='ee-k'>2:</span><span class='ee-v'>598620</span></li><li><span class='ee-k'>3:</span><span class='ee-v'>0</span></li><li><span class='ee-k'>4:</span><span class='ee-v'>-30</span></li><li><span class='ee-k'>5:</span><span class='ee-v'>-211440</span></li></ul></details></li><li><details><summary>data_type: double</summary><ul><li><span class='ee-k'>type:</span><span class='ee-v'>PixelType</span></li><li><span class='ee-k'>precision:</span><span class='ee-v'>double</span></li></ul></details></li><li><details><summary>dimensions: [4256, 2110]</summary><ul><li><span class='ee-k'>0:</span><span class='ee-v'>4256</span></li><li><span class='ee-k'>1:</span><span class='ee-v'>2110</span></li></ul></details></li></ul></details></li><li><details><summary>3: \"nir_mean\", double, EPSG:32621, 4256x2110 px</summary><ul><li><span class='ee-k'>id:</span><span class='ee-v'>nir_mean</span></li><li><span class='ee-k'>crs:</span><span class='ee-v'>EPSG:32621</span></li><li><details><summary>crs_transform: [30, 0, 598620, 0, -30, -211440]</summary><ul><li><span class='ee-k'>0:</span><span class='ee-v'>30</span></li><li><span class='ee-k'>1:</span><span class='ee-v'>0</span></li><li><span class='ee-k'>2:</span><span class='ee-v'>598620</span></li><li><span class='ee-k'>3:</span><span class='ee-v'>0</span></li><li><span class='ee-k'>4:</span><span class='ee-v'>-30</span></li><li><span class='ee-k'>5:</span><span class='ee-v'>-211440</span></li></ul></details></li><li><details><summary>data_type: double</summary><ul><li><span class='ee-k'>type:</span><span class='ee-v'>PixelType</span></li><li><span class='ee-k'>precision:</span><span class='ee-v'>double</span></li></ul></details></li><li><details><summary>dimensions: [4256, 2110]</summary><ul><li><span class='ee-k'>0:</span><span class='ee-v'>4256</span></li><li><span class='ee-k'>1:</span><span class='ee-v'>2110</span></li></ul></details></li></ul></details></li><li><details><summary>4: \"swir1\", double, EPSG:32621, 4256x2110 px</summary><ul><li><span class='ee-k'>id:</span><span class='ee-v'>swir1</span></li><li><span class='ee-k'>crs:</span><span class='ee-v'>EPSG:32621</span></li><li><details><summary>crs_transform: [30, 0, 598620, 0, -30, -211440]</summary><ul><li><span class='ee-k'>0:</span><span class='ee-v'>30</span></li><li><span class='ee-k'>1:</span><span class='ee-v'>0</span></li><li><span class='ee-k'>2:</span><span class='ee-v'>598620</span></li><li><span class='ee-k'>3:</span><span class='ee-v'>0</span></li><li><span class='ee-k'>4:</span><span class='ee-v'>-30</span></li><li><span class='ee-k'>5:</span><span class='ee-v'>-211440</span></li></ul></details></li><li><details><summary>data_type: double</summary><ul><li><span class='ee-k'>type:</span><span class='ee-v'>PixelType</span></li><li><span class='ee-k'>precision:</span><span class='ee-v'>double</span></li></ul></details></li><li><details><summary>dimensions: [4256, 2110]</summary><ul><li><span class='ee-k'>0:</span><span class='ee-v'>4256</span></li><li><span class='ee-k'>1:</span><span class='ee-v'>2110</span></li></ul></details></li></ul></details></li><li><details><summary>5: \"swir2\", double, EPSG:32621, 4256x2110 px</summary><ul><li><span class='ee-k'>id:</span><span class='ee-v'>swir2</span></li><li><span class='ee-k'>crs:</span><span class='ee-v'>EPSG:32621</span></li><li><details><summary>crs_transform: [30, 0, 598620, 0, -30, -211440]</summary><ul><li><span class='ee-k'>0:</span><span class='ee-v'>30</span></li><li><span class='ee-k'>1:</span><span class='ee-v'>0</span></li><li><span class='ee-k'>2:</span><span class='ee-v'>598620</span></li><li><span class='ee-k'>3:</span><span class='ee-v'>0</span></li><li><span class='ee-k'>4:</span><span class='ee-v'>-30</span></li><li><span class='ee-k'>5:</span><span class='ee-v'>-211440</span></li></ul></details></li><li><details><summary>data_type: double</summary><ul><li><span class='ee-k'>type:</span><span class='ee-v'>PixelType</span></li><li><span class='ee-k'>precision:</span><span class='ee-v'>double</span></li></ul></details></li><li><details><summary>dimensions: [4256, 2110]</summary><ul><li><span class='ee-k'>0:</span><span class='ee-v'>4256</span></li><li><span class='ee-k'>1:</span><span class='ee-v'>2110</span></li></ul></details></li></ul></details></li></ul></details></li><li><details><summary>properties: Object (4 properties)</summary><ul><li><span class='ee-k'>CLOUD_COVER:</span><span class='ee-v'>67</span></li><li><details><summary>system:footprint: LinearRing (19 vertices)</summary><ul><li><span class='ee-k'>type:</span><span class='ee-v'>LinearRing</span></li><li><details><summary>coordinates: List (19 elements)</summary><ul><li><details><summary>0: [-56.11340480193698, -1.91282840978306]</summary><ul><li><span class='ee-k'>0:</span><span class='ee-v'>-56.11340480193698</span></li><li><span class='ee-k'>1:</span><span class='ee-v'>-1.91282840978306</span></li></ul></details></li><li><details><summary>1: [-56.11340693028853, -1.912862183677517]</summary><ul><li><span class='ee-k'>0:</span><span class='ee-v'>-56.11340693028853</span></li><li><span class='ee-k'>1:</span><span class='ee-v'>-1.912862183677517</span></li></ul></details></li><li><details><summary>2: [-56.11306903381254, -2.4852081387761458]</summary><ul><li><span class='ee-k'>0:</span><span class='ee-v'>-56.11306903381254</span></li><li><span class='ee-k'>1:</span><span class='ee-v'>-2.4852081387761458</span></li></ul></details></li><li><details><summary>3: [-56.11295912620575, -2.485332514788806]</summary><ul><li><span class='ee-k'>0:</span><span class='ee-v'>-56.11295912620575</span></li><li><span class='ee-k'>1:</span><span class='ee-v'>-2.485332514788806</span></li></ul></details></li><li><details><summary>4: [-56.11286564950616, -2.4854696065130955]</summary><ul><li><span class='ee-k'>0:</span><span class='ee-v'>-56.11286564950616</span></li><li><span class='ee-k'>1:</span><span class='ee-v'>-2.4854696065130955</span></li></ul></details></li><li><details><summary>5: [-56.112832447422555, -2.485475868727011]</summary><ul><li><span class='ee-k'>0:</span><span class='ee-v'>-56.112832447422555</span></li><li><span class='ee-k'>1:</span><span class='ee-v'>-2.485475868727011</span></li></ul></details></li><li><details><summary>6: [-56.11279864941639, -2.4854779921569072]</summary><ul><li><span class='ee-k'>0:</span><span class='ee-v'>-56.11279864941639</span></li><li><span class='ee-k'>1:</span><span class='ee-v'>-2.4854779921569072</span></li></ul></details></li><li><details><summary>7: [-54.96496294597355, -2.4842013829440095]</summary><ul><li><span class='ee-k'>0:</span><span class='ee-v'>-54.96496294597355</span></li><li><span class='ee-k'>1:</span><span class='ee-v'>-2.4842013829440095</span></li></ul></details></li><li><details><summary>8: [-54.96483866571287, -2.4840915072711636]</summary><ul><li><span class='ee-k'>0:</span><span class='ee-v'>-54.96483866571287</span></li><li><span class='ee-k'>1:</span><span class='ee-v'>-2.4840915072711636</span></li></ul></details></li><li><details><summary>9: [-54.964701529086646, -2.483998017888572]</summary><ul><li><span class='ee-k'>0:</span><span class='ee-v'>-54.964701529086646</span></li><li><span class='ee-k'>1:</span><span class='ee-v'>-2.483998017888572</span></li></ul></details></li><li><details><summary>10: [-54.964693126114376, -2.4839536319545417]</summary><ul><li><span class='ee-k'>0:</span><span class='ee-v'>-54.964693126114376</span></li><li><span class='ee-k'>1:</span><span class='ee-v'>-2.4839536319545417</span></li></ul></details></li><li><details><summary>11: [-54.96546805174926, -1.9118792977975483]</summary><ul><li><span class='ee-k'>0:</span><span class='ee-v'>-54.96546805174926</span></li><li><span class='ee-k'>1:</span><span class='ee-v'>-1.9118792977975483</span></li></ul></details></li><li><details><summary>12: [-54.96557796370573, -1.9117551204452632]</summary><ul><li><span class='ee-k'>0:</span><span class='ee-v'>-54.96557796370573</span></li><li><span class='ee-k'>1:</span><span class='ee-v'>-1.9117551204452632</span></li></ul></details></li><li><details><summary>13: [-54.965671489818504, -1.9116181074776328]</summary><ul><li><span class='ee-k'>0:</span><span class='ee-v'>-54.965671489818504</span></li><li><span class='ee-k'>1:</span><span class='ee-v'>-1.9116181074776328</span></li></ul></details></li><li><details><summary>14: [-54.96571585803776, -1.9116097125510987]</summary><ul><li><span class='ee-k'>0:</span><span class='ee-v'>-54.96571585803776</span></li><li><span class='ee-k'>1:</span><span class='ee-v'>-1.9116097125510987</span></li></ul></details></li><li><details><summary>15: [-56.11313697057071, -1.912592072806675]</summary><ul><li><span class='ee-k'>0:</span><span class='ee-v'>-56.11313697057071</span></li><li><span class='ee-k'>1:</span><span class='ee-v'>-1.912592072806675</span></li></ul></details></li><li><details><summary>16: [-56.11326135115614, -1.9127018456262928]</summary><ul><li><span class='ee-k'>0:</span><span class='ee-v'>-56.11326135115614</span></li><li><span class='ee-k'>1:</span><span class='ee-v'>-1.9127018456262928</span></li></ul></details></li><li><details><summary>17: [-56.1133985020167, -1.9127952294692054]</summary><ul><li><span class='ee-k'>0:</span><span class='ee-v'>-56.1133985020167</span></li><li><span class='ee-k'>1:</span><span class='ee-v'>-1.9127952294692054</span></li></ul></details></li><li><details><summary>18: [-56.11340480193698, -1.91282840978306]</summary><ul><li><span class='ee-k'>0:</span><span class='ee-v'>-56.11340480193698</span></li><li><span class='ee-k'>1:</span><span class='ee-v'>-1.91282840978306</span></li></ul></details></li></ul></details></li></ul></details></li><li><span class='ee-k'>system:index:</span><span class='ee-v'>1_2_BOA_LE07_228061_20000209</span></li><li><span class='ee-k'>system:time_start:</span><span class='ee-v'>950104003458</span></li></ul></details></li></ul></details></li><li><details><summary>3: Image (6 bands)</summary><ul><li><span class='ee-k'>type:</span><span class='ee-v'>Image</span></li><li><details><summary>bands: List (6 elements)</summary><ul><li><details><summary>0: \"blue_mean\", double, EPSG:32621, 4256x2110 px</summary><ul><li><span class='ee-k'>id:</span><span class='ee-v'>blue_mean</span></li><li><span class='ee-k'>crs:</span><span class='ee-v'>EPSG:32621</span></li><li><details><summary>crs_transform: [30, 0, 598620, 0, -30, -211440]</summary><ul><li><span class='ee-k'>0:</span><span class='ee-v'>30</span></li><li><span class='ee-k'>1:</span><span class='ee-v'>0</span></li><li><span class='ee-k'>2:</span><span class='ee-v'>598620</span></li><li><span class='ee-k'>3:</span><span class='ee-v'>0</span></li><li><span class='ee-k'>4:</span><span class='ee-v'>-30</span></li><li><span class='ee-k'>5:</span><span class='ee-v'>-211440</span></li></ul></details></li><li><details><summary>data_type: double</summary><ul><li><span class='ee-k'>type:</span><span class='ee-v'>PixelType</span></li><li><span class='ee-k'>precision:</span><span class='ee-v'>double</span></li></ul></details></li><li><details><summary>dimensions: [4256, 2110]</summary><ul><li><span class='ee-k'>0:</span><span class='ee-v'>4256</span></li><li><span class='ee-k'>1:</span><span class='ee-v'>2110</span></li></ul></details></li></ul></details></li><li><details><summary>1: \"green_mean\", double, EPSG:32621, 4256x2110 px</summary><ul><li><span class='ee-k'>id:</span><span class='ee-v'>green_mean</span></li><li><span class='ee-k'>crs:</span><span class='ee-v'>EPSG:32621</span></li><li><details><summary>crs_transform: [30, 0, 598620, 0, -30, -211440]</summary><ul><li><span class='ee-k'>0:</span><span class='ee-v'>30</span></li><li><span class='ee-k'>1:</span><span class='ee-v'>0</span></li><li><span class='ee-k'>2:</span><span class='ee-v'>598620</span></li><li><span class='ee-k'>3:</span><span class='ee-v'>0</span></li><li><span class='ee-k'>4:</span><span class='ee-v'>-30</span></li><li><span class='ee-k'>5:</span><span class='ee-v'>-211440</span></li></ul></details></li><li><details><summary>data_type: double</summary><ul><li><span class='ee-k'>type:</span><span class='ee-v'>PixelType</span></li><li><span class='ee-k'>precision:</span><span class='ee-v'>double</span></li></ul></details></li><li><details><summary>dimensions: [4256, 2110]</summary><ul><li><span class='ee-k'>0:</span><span class='ee-v'>4256</span></li><li><span class='ee-k'>1:</span><span class='ee-v'>2110</span></li></ul></details></li></ul></details></li><li><details><summary>2: \"red_mean\", double, EPSG:32621, 4256x2110 px</summary><ul><li><span class='ee-k'>id:</span><span class='ee-v'>red_mean</span></li><li><span class='ee-k'>crs:</span><span class='ee-v'>EPSG:32621</span></li><li><details><summary>crs_transform: [30, 0, 598620, 0, -30, -211440]</summary><ul><li><span class='ee-k'>0:</span><span class='ee-v'>30</span></li><li><span class='ee-k'>1:</span><span class='ee-v'>0</span></li><li><span class='ee-k'>2:</span><span class='ee-v'>598620</span></li><li><span class='ee-k'>3:</span><span class='ee-v'>0</span></li><li><span class='ee-k'>4:</span><span class='ee-v'>-30</span></li><li><span class='ee-k'>5:</span><span class='ee-v'>-211440</span></li></ul></details></li><li><details><summary>data_type: double</summary><ul><li><span class='ee-k'>type:</span><span class='ee-v'>PixelType</span></li><li><span class='ee-k'>precision:</span><span class='ee-v'>double</span></li></ul></details></li><li><details><summary>dimensions: [4256, 2110]</summary><ul><li><span class='ee-k'>0:</span><span class='ee-v'>4256</span></li><li><span class='ee-k'>1:</span><span class='ee-v'>2110</span></li></ul></details></li></ul></details></li><li><details><summary>3: \"nir_mean\", double, EPSG:32621, 4256x2110 px</summary><ul><li><span class='ee-k'>id:</span><span class='ee-v'>nir_mean</span></li><li><span class='ee-k'>crs:</span><span class='ee-v'>EPSG:32621</span></li><li><details><summary>crs_transform: [30, 0, 598620, 0, -30, -211440]</summary><ul><li><span class='ee-k'>0:</span><span class='ee-v'>30</span></li><li><span class='ee-k'>1:</span><span class='ee-v'>0</span></li><li><span class='ee-k'>2:</span><span class='ee-v'>598620</span></li><li><span class='ee-k'>3:</span><span class='ee-v'>0</span></li><li><span class='ee-k'>4:</span><span class='ee-v'>-30</span></li><li><span class='ee-k'>5:</span><span class='ee-v'>-211440</span></li></ul></details></li><li><details><summary>data_type: double</summary><ul><li><span class='ee-k'>type:</span><span class='ee-v'>PixelType</span></li><li><span class='ee-k'>precision:</span><span class='ee-v'>double</span></li></ul></details></li><li><details><summary>dimensions: [4256, 2110]</summary><ul><li><span class='ee-k'>0:</span><span class='ee-v'>4256</span></li><li><span class='ee-k'>1:</span><span class='ee-v'>2110</span></li></ul></details></li></ul></details></li><li><details><summary>4: \"swir1\", double, EPSG:32621, 4256x2110 px</summary><ul><li><span class='ee-k'>id:</span><span class='ee-v'>swir1</span></li><li><span class='ee-k'>crs:</span><span class='ee-v'>EPSG:32621</span></li><li><details><summary>crs_transform: [30, 0, 598620, 0, -30, -211440]</summary><ul><li><span class='ee-k'>0:</span><span class='ee-v'>30</span></li><li><span class='ee-k'>1:</span><span class='ee-v'>0</span></li><li><span class='ee-k'>2:</span><span class='ee-v'>598620</span></li><li><span class='ee-k'>3:</span><span class='ee-v'>0</span></li><li><span class='ee-k'>4:</span><span class='ee-v'>-30</span></li><li><span class='ee-k'>5:</span><span class='ee-v'>-211440</span></li></ul></details></li><li><details><summary>data_type: double</summary><ul><li><span class='ee-k'>type:</span><span class='ee-v'>PixelType</span></li><li><span class='ee-k'>precision:</span><span class='ee-v'>double</span></li></ul></details></li><li><details><summary>dimensions: [4256, 2110]</summary><ul><li><span class='ee-k'>0:</span><span class='ee-v'>4256</span></li><li><span class='ee-k'>1:</span><span class='ee-v'>2110</span></li></ul></details></li></ul></details></li><li><details><summary>5: \"swir2\", double, EPSG:32621, 4256x2110 px</summary><ul><li><span class='ee-k'>id:</span><span class='ee-v'>swir2</span></li><li><span class='ee-k'>crs:</span><span class='ee-v'>EPSG:32621</span></li><li><details><summary>crs_transform: [30, 0, 598620, 0, -30, -211440]</summary><ul><li><span class='ee-k'>0:</span><span class='ee-v'>30</span></li><li><span class='ee-k'>1:</span><span class='ee-v'>0</span></li><li><span class='ee-k'>2:</span><span class='ee-v'>598620</span></li><li><span class='ee-k'>3:</span><span class='ee-v'>0</span></li><li><span class='ee-k'>4:</span><span class='ee-v'>-30</span></li><li><span class='ee-k'>5:</span><span class='ee-v'>-211440</span></li></ul></details></li><li><details><summary>data_type: double</summary><ul><li><span class='ee-k'>type:</span><span class='ee-v'>PixelType</span></li><li><span class='ee-k'>precision:</span><span class='ee-v'>double</span></li></ul></details></li><li><details><summary>dimensions: [4256, 2110]</summary><ul><li><span class='ee-k'>0:</span><span class='ee-v'>4256</span></li><li><span class='ee-k'>1:</span><span class='ee-v'>2110</span></li></ul></details></li></ul></details></li></ul></details></li><li><details><summary>properties: Object (4 properties)</summary><ul><li><span class='ee-k'>CLOUD_COVER:</span><span class='ee-v'>75</span></li><li><details><summary>system:footprint: LinearRing (19 vertices)</summary><ul><li><span class='ee-k'>type:</span><span class='ee-v'>LinearRing</span></li><li><details><summary>coordinates: List (19 elements)</summary><ul><li><details><summary>0: [-56.11340480193698, -1.91282840978306]</summary><ul><li><span class='ee-k'>0:</span><span class='ee-v'>-56.11340480193698</span></li><li><span class='ee-k'>1:</span><span class='ee-v'>-1.91282840978306</span></li></ul></details></li><li><details><summary>1: [-56.11340693028853, -1.912862183677517]</summary><ul><li><span class='ee-k'>0:</span><span class='ee-v'>-56.11340693028853</span></li><li><span class='ee-k'>1:</span><span class='ee-v'>-1.912862183677517</span></li></ul></details></li><li><details><summary>2: [-56.11306903381254, -2.4852081387761458]</summary><ul><li><span class='ee-k'>0:</span><span class='ee-v'>-56.11306903381254</span></li><li><span class='ee-k'>1:</span><span class='ee-v'>-2.4852081387761458</span></li></ul></details></li><li><details><summary>3: [-56.11295912620575, -2.485332514788806]</summary><ul><li><span class='ee-k'>0:</span><span class='ee-v'>-56.11295912620575</span></li><li><span class='ee-k'>1:</span><span class='ee-v'>-2.485332514788806</span></li></ul></details></li><li><details><summary>4: [-56.11286564950616, -2.4854696065130955]</summary><ul><li><span class='ee-k'>0:</span><span class='ee-v'>-56.11286564950616</span></li><li><span class='ee-k'>1:</span><span class='ee-v'>-2.4854696065130955</span></li></ul></details></li><li><details><summary>5: [-56.112832447422555, -2.485475868727011]</summary><ul><li><span class='ee-k'>0:</span><span class='ee-v'>-56.112832447422555</span></li><li><span class='ee-k'>1:</span><span class='ee-v'>-2.485475868727011</span></li></ul></details></li><li><details><summary>6: [-56.11279864941639, -2.4854779921569072]</summary><ul><li><span class='ee-k'>0:</span><span class='ee-v'>-56.11279864941639</span></li><li><span class='ee-k'>1:</span><span class='ee-v'>-2.4854779921569072</span></li></ul></details></li><li><details><summary>7: [-54.96496294597355, -2.4842013829440095]</summary><ul><li><span class='ee-k'>0:</span><span class='ee-v'>-54.96496294597355</span></li><li><span class='ee-k'>1:</span><span class='ee-v'>-2.4842013829440095</span></li></ul></details></li><li><details><summary>8: [-54.96483866571287, -2.4840915072711636]</summary><ul><li><span class='ee-k'>0:</span><span class='ee-v'>-54.96483866571287</span></li><li><span class='ee-k'>1:</span><span class='ee-v'>-2.4840915072711636</span></li></ul></details></li><li><details><summary>9: [-54.964701529086646, -2.483998017888572]</summary><ul><li><span class='ee-k'>0:</span><span class='ee-v'>-54.964701529086646</span></li><li><span class='ee-k'>1:</span><span class='ee-v'>-2.483998017888572</span></li></ul></details></li><li><details><summary>10: [-54.964693126114376, -2.4839536319545417]</summary><ul><li><span class='ee-k'>0:</span><span class='ee-v'>-54.964693126114376</span></li><li><span class='ee-k'>1:</span><span class='ee-v'>-2.4839536319545417</span></li></ul></details></li><li><details><summary>11: [-54.96546805174926, -1.9118792977975483]</summary><ul><li><span class='ee-k'>0:</span><span class='ee-v'>-54.96546805174926</span></li><li><span class='ee-k'>1:</span><span class='ee-v'>-1.9118792977975483</span></li></ul></details></li><li><details><summary>12: [-54.96557796370573, -1.9117551204452632]</summary><ul><li><span class='ee-k'>0:</span><span class='ee-v'>-54.96557796370573</span></li><li><span class='ee-k'>1:</span><span class='ee-v'>-1.9117551204452632</span></li></ul></details></li><li><details><summary>13: [-54.965671489818504, -1.9116181074776328]</summary><ul><li><span class='ee-k'>0:</span><span class='ee-v'>-54.965671489818504</span></li><li><span class='ee-k'>1:</span><span class='ee-v'>-1.9116181074776328</span></li></ul></details></li><li><details><summary>14: [-54.96571585803776, -1.9116097125510987]</summary><ul><li><span class='ee-k'>0:</span><span class='ee-v'>-54.96571585803776</span></li><li><span class='ee-k'>1:</span><span class='ee-v'>-1.9116097125510987</span></li></ul></details></li><li><details><summary>15: [-56.11313697057071, -1.912592072806675]</summary><ul><li><span class='ee-k'>0:</span><span class='ee-v'>-56.11313697057071</span></li><li><span class='ee-k'>1:</span><span class='ee-v'>-1.912592072806675</span></li></ul></details></li><li><details><summary>16: [-56.11326135115614, -1.9127018456262928]</summary><ul><li><span class='ee-k'>0:</span><span class='ee-v'>-56.11326135115614</span></li><li><span class='ee-k'>1:</span><span class='ee-v'>-1.9127018456262928</span></li></ul></details></li><li><details><summary>17: [-56.1133985020167, -1.9127952294692054]</summary><ul><li><span class='ee-k'>0:</span><span class='ee-v'>-56.1133985020167</span></li><li><span class='ee-k'>1:</span><span class='ee-v'>-1.9127952294692054</span></li></ul></details></li><li><details><summary>18: [-56.11340480193698, -1.91282840978306]</summary><ul><li><span class='ee-k'>0:</span><span class='ee-v'>-56.11340480193698</span></li><li><span class='ee-k'>1:</span><span class='ee-v'>-1.91282840978306</span></li></ul></details></li></ul></details></li></ul></details></li><li><span class='ee-k'>system:index:</span><span class='ee-v'>1_2_BOA_LE07_228062_20000209</span></li><li><span class='ee-k'>system:time_start:</span><span class='ee-v'>950104027379</span></li></ul></details></li></ul></details></li><li><details><summary>4: Image (6 bands)</summary><ul><li><span class='ee-k'>type:</span><span class='ee-v'>Image</span></li><li><details><summary>bands: List (6 elements)</summary><ul><li><details><summary>0: \"blue_mean\", double, EPSG:32621, 4256x2110 px</summary><ul><li><span class='ee-k'>id:</span><span class='ee-v'>blue_mean</span></li><li><span class='ee-k'>crs:</span><span class='ee-v'>EPSG:32621</span></li><li><details><summary>crs_transform: [30, 0, 598620, 0, -30, -211440]</summary><ul><li><span class='ee-k'>0:</span><span class='ee-v'>30</span></li><li><span class='ee-k'>1:</span><span class='ee-v'>0</span></li><li><span class='ee-k'>2:</span><span class='ee-v'>598620</span></li><li><span class='ee-k'>3:</span><span class='ee-v'>0</span></li><li><span class='ee-k'>4:</span><span class='ee-v'>-30</span></li><li><span class='ee-k'>5:</span><span class='ee-v'>-211440</span></li></ul></details></li><li><details><summary>data_type: double</summary><ul><li><span class='ee-k'>type:</span><span class='ee-v'>PixelType</span></li><li><span class='ee-k'>precision:</span><span class='ee-v'>double</span></li></ul></details></li><li><details><summary>dimensions: [4256, 2110]</summary><ul><li><span class='ee-k'>0:</span><span class='ee-v'>4256</span></li><li><span class='ee-k'>1:</span><span class='ee-v'>2110</span></li></ul></details></li></ul></details></li><li><details><summary>1: \"green_mean\", double, EPSG:32621, 4256x2110 px</summary><ul><li><span class='ee-k'>id:</span><span class='ee-v'>green_mean</span></li><li><span class='ee-k'>crs:</span><span class='ee-v'>EPSG:32621</span></li><li><details><summary>crs_transform: [30, 0, 598620, 0, -30, -211440]</summary><ul><li><span class='ee-k'>0:</span><span class='ee-v'>30</span></li><li><span class='ee-k'>1:</span><span class='ee-v'>0</span></li><li><span class='ee-k'>2:</span><span class='ee-v'>598620</span></li><li><span class='ee-k'>3:</span><span class='ee-v'>0</span></li><li><span class='ee-k'>4:</span><span class='ee-v'>-30</span></li><li><span class='ee-k'>5:</span><span class='ee-v'>-211440</span></li></ul></details></li><li><details><summary>data_type: double</summary><ul><li><span class='ee-k'>type:</span><span class='ee-v'>PixelType</span></li><li><span class='ee-k'>precision:</span><span class='ee-v'>double</span></li></ul></details></li><li><details><summary>dimensions: [4256, 2110]</summary><ul><li><span class='ee-k'>0:</span><span class='ee-v'>4256</span></li><li><span class='ee-k'>1:</span><span class='ee-v'>2110</span></li></ul></details></li></ul></details></li><li><details><summary>2: \"red_mean\", double, EPSG:32621, 4256x2110 px</summary><ul><li><span class='ee-k'>id:</span><span class='ee-v'>red_mean</span></li><li><span class='ee-k'>crs:</span><span class='ee-v'>EPSG:32621</span></li><li><details><summary>crs_transform: [30, 0, 598620, 0, -30, -211440]</summary><ul><li><span class='ee-k'>0:</span><span class='ee-v'>30</span></li><li><span class='ee-k'>1:</span><span class='ee-v'>0</span></li><li><span class='ee-k'>2:</span><span class='ee-v'>598620</span></li><li><span class='ee-k'>3:</span><span class='ee-v'>0</span></li><li><span class='ee-k'>4:</span><span class='ee-v'>-30</span></li><li><span class='ee-k'>5:</span><span class='ee-v'>-211440</span></li></ul></details></li><li><details><summary>data_type: double</summary><ul><li><span class='ee-k'>type:</span><span class='ee-v'>PixelType</span></li><li><span class='ee-k'>precision:</span><span class='ee-v'>double</span></li></ul></details></li><li><details><summary>dimensions: [4256, 2110]</summary><ul><li><span class='ee-k'>0:</span><span class='ee-v'>4256</span></li><li><span class='ee-k'>1:</span><span class='ee-v'>2110</span></li></ul></details></li></ul></details></li><li><details><summary>3: \"nir_mean\", double, EPSG:32621, 4256x2110 px</summary><ul><li><span class='ee-k'>id:</span><span class='ee-v'>nir_mean</span></li><li><span class='ee-k'>crs:</span><span class='ee-v'>EPSG:32621</span></li><li><details><summary>crs_transform: [30, 0, 598620, 0, -30, -211440]</summary><ul><li><span class='ee-k'>0:</span><span class='ee-v'>30</span></li><li><span class='ee-k'>1:</span><span class='ee-v'>0</span></li><li><span class='ee-k'>2:</span><span class='ee-v'>598620</span></li><li><span class='ee-k'>3:</span><span class='ee-v'>0</span></li><li><span class='ee-k'>4:</span><span class='ee-v'>-30</span></li><li><span class='ee-k'>5:</span><span class='ee-v'>-211440</span></li></ul></details></li><li><details><summary>data_type: double</summary><ul><li><span class='ee-k'>type:</span><span class='ee-v'>PixelType</span></li><li><span class='ee-k'>precision:</span><span class='ee-v'>double</span></li></ul></details></li><li><details><summary>dimensions: [4256, 2110]</summary><ul><li><span class='ee-k'>0:</span><span class='ee-v'>4256</span></li><li><span class='ee-k'>1:</span><span class='ee-v'>2110</span></li></ul></details></li></ul></details></li><li><details><summary>4: \"swir1\", double, EPSG:32621, 4256x2110 px</summary><ul><li><span class='ee-k'>id:</span><span class='ee-v'>swir1</span></li><li><span class='ee-k'>crs:</span><span class='ee-v'>EPSG:32621</span></li><li><details><summary>crs_transform: [30, 0, 598620, 0, -30, -211440]</summary><ul><li><span class='ee-k'>0:</span><span class='ee-v'>30</span></li><li><span class='ee-k'>1:</span><span class='ee-v'>0</span></li><li><span class='ee-k'>2:</span><span class='ee-v'>598620</span></li><li><span class='ee-k'>3:</span><span class='ee-v'>0</span></li><li><span class='ee-k'>4:</span><span class='ee-v'>-30</span></li><li><span class='ee-k'>5:</span><span class='ee-v'>-211440</span></li></ul></details></li><li><details><summary>data_type: double</summary><ul><li><span class='ee-k'>type:</span><span class='ee-v'>PixelType</span></li><li><span class='ee-k'>precision:</span><span class='ee-v'>double</span></li></ul></details></li><li><details><summary>dimensions: [4256, 2110]</summary><ul><li><span class='ee-k'>0:</span><span class='ee-v'>4256</span></li><li><span class='ee-k'>1:</span><span class='ee-v'>2110</span></li></ul></details></li></ul></details></li><li><details><summary>5: \"swir2\", double, EPSG:32621, 4256x2110 px</summary><ul><li><span class='ee-k'>id:</span><span class='ee-v'>swir2</span></li><li><span class='ee-k'>crs:</span><span class='ee-v'>EPSG:32621</span></li><li><details><summary>crs_transform: [30, 0, 598620, 0, -30, -211440]</summary><ul><li><span class='ee-k'>0:</span><span class='ee-v'>30</span></li><li><span class='ee-k'>1:</span><span class='ee-v'>0</span></li><li><span class='ee-k'>2:</span><span class='ee-v'>598620</span></li><li><span class='ee-k'>3:</span><span class='ee-v'>0</span></li><li><span class='ee-k'>4:</span><span class='ee-v'>-30</span></li><li><span class='ee-k'>5:</span><span class='ee-v'>-211440</span></li></ul></details></li><li><details><summary>data_type: double</summary><ul><li><span class='ee-k'>type:</span><span class='ee-v'>PixelType</span></li><li><span class='ee-k'>precision:</span><span class='ee-v'>double</span></li></ul></details></li><li><details><summary>dimensions: [4256, 2110]</summary><ul><li><span class='ee-k'>0:</span><span class='ee-v'>4256</span></li><li><span class='ee-k'>1:</span><span class='ee-v'>2110</span></li></ul></details></li></ul></details></li></ul></details></li><li><details><summary>properties: Object (4 properties)</summary><ul><li><span class='ee-k'>CLOUD_COVER:</span><span class='ee-v'>74</span></li><li><details><summary>system:footprint: LinearRing (19 vertices)</summary><ul><li><span class='ee-k'>type:</span><span class='ee-v'>LinearRing</span></li><li><details><summary>coordinates: List (19 elements)</summary><ul><li><details><summary>0: [-56.11340480193698, -1.91282840978306]</summary><ul><li><span class='ee-k'>0:</span><span class='ee-v'>-56.11340480193698</span></li><li><span class='ee-k'>1:</span><span class='ee-v'>-1.91282840978306</span></li></ul></details></li><li><details><summary>1: [-56.11340693028853, -1.912862183677517]</summary><ul><li><span class='ee-k'>0:</span><span class='ee-v'>-56.11340693028853</span></li><li><span class='ee-k'>1:</span><span class='ee-v'>-1.912862183677517</span></li></ul></details></li><li><details><summary>2: [-56.11306903381254, -2.4852081387761458]</summary><ul><li><span class='ee-k'>0:</span><span class='ee-v'>-56.11306903381254</span></li><li><span class='ee-k'>1:</span><span class='ee-v'>-2.4852081387761458</span></li></ul></details></li><li><details><summary>3: [-56.11295912620575, -2.485332514788806]</summary><ul><li><span class='ee-k'>0:</span><span class='ee-v'>-56.11295912620575</span></li><li><span class='ee-k'>1:</span><span class='ee-v'>-2.485332514788806</span></li></ul></details></li><li><details><summary>4: [-56.11286564950616, -2.4854696065130955]</summary><ul><li><span class='ee-k'>0:</span><span class='ee-v'>-56.11286564950616</span></li><li><span class='ee-k'>1:</span><span class='ee-v'>-2.4854696065130955</span></li></ul></details></li><li><details><summary>5: [-56.112832447422555, -2.485475868727011]</summary><ul><li><span class='ee-k'>0:</span><span class='ee-v'>-56.112832447422555</span></li><li><span class='ee-k'>1:</span><span class='ee-v'>-2.485475868727011</span></li></ul></details></li><li><details><summary>6: [-56.11279864941639, -2.4854779921569072]</summary><ul><li><span class='ee-k'>0:</span><span class='ee-v'>-56.11279864941639</span></li><li><span class='ee-k'>1:</span><span class='ee-v'>-2.4854779921569072</span></li></ul></details></li><li><details><summary>7: [-54.96496294597355, -2.4842013829440095]</summary><ul><li><span class='ee-k'>0:</span><span class='ee-v'>-54.96496294597355</span></li><li><span class='ee-k'>1:</span><span class='ee-v'>-2.4842013829440095</span></li></ul></details></li><li><details><summary>8: [-54.96483866571287, -2.4840915072711636]</summary><ul><li><span class='ee-k'>0:</span><span class='ee-v'>-54.96483866571287</span></li><li><span class='ee-k'>1:</span><span class='ee-v'>-2.4840915072711636</span></li></ul></details></li><li><details><summary>9: [-54.964701529086646, -2.483998017888572]</summary><ul><li><span class='ee-k'>0:</span><span class='ee-v'>-54.964701529086646</span></li><li><span class='ee-k'>1:</span><span class='ee-v'>-2.483998017888572</span></li></ul></details></li><li><details><summary>10: [-54.964693126114376, -2.4839536319545417]</summary><ul><li><span class='ee-k'>0:</span><span class='ee-v'>-54.964693126114376</span></li><li><span class='ee-k'>1:</span><span class='ee-v'>-2.4839536319545417</span></li></ul></details></li><li><details><summary>11: [-54.96546805174926, -1.9118792977975483]</summary><ul><li><span class='ee-k'>0:</span><span class='ee-v'>-54.96546805174926</span></li><li><span class='ee-k'>1:</span><span class='ee-v'>-1.9118792977975483</span></li></ul></details></li><li><details><summary>12: [-54.96557796370573, -1.9117551204452632]</summary><ul><li><span class='ee-k'>0:</span><span class='ee-v'>-54.96557796370573</span></li><li><span class='ee-k'>1:</span><span class='ee-v'>-1.9117551204452632</span></li></ul></details></li><li><details><summary>13: [-54.965671489818504, -1.9116181074776328]</summary><ul><li><span class='ee-k'>0:</span><span class='ee-v'>-54.965671489818504</span></li><li><span class='ee-k'>1:</span><span class='ee-v'>-1.9116181074776328</span></li></ul></details></li><li><details><summary>14: [-54.96571585803776, -1.9116097125510987]</summary><ul><li><span class='ee-k'>0:</span><span class='ee-v'>-54.96571585803776</span></li><li><span class='ee-k'>1:</span><span class='ee-v'>-1.9116097125510987</span></li></ul></details></li><li><details><summary>15: [-56.11313697057071, -1.912592072806675]</summary><ul><li><span class='ee-k'>0:</span><span class='ee-v'>-56.11313697057071</span></li><li><span class='ee-k'>1:</span><span class='ee-v'>-1.912592072806675</span></li></ul></details></li><li><details><summary>16: [-56.11326135115614, -1.9127018456262928]</summary><ul><li><span class='ee-k'>0:</span><span class='ee-v'>-56.11326135115614</span></li><li><span class='ee-k'>1:</span><span class='ee-v'>-1.9127018456262928</span></li></ul></details></li><li><details><summary>17: [-56.1133985020167, -1.9127952294692054]</summary><ul><li><span class='ee-k'>0:</span><span class='ee-v'>-56.1133985020167</span></li><li><span class='ee-k'>1:</span><span class='ee-v'>-1.9127952294692054</span></li></ul></details></li><li><details><summary>18: [-56.11340480193698, -1.91282840978306]</summary><ul><li><span class='ee-k'>0:</span><span class='ee-v'>-56.11340480193698</span></li><li><span class='ee-k'>1:</span><span class='ee-v'>-1.91282840978306</span></li></ul></details></li></ul></details></li></ul></details></li><li><span class='ee-k'>system:index:</span><span class='ee-v'>1_2_BOA_LE07_227061_20000218</span></li><li><span class='ee-k'>system:time_start:</span><span class='ee-v'>950881229653</span></li></ul></details></li></ul></details></li></ul></details></li></ul></details></li></ul></div></div>"
            ]
          },
          "metadata": {},
          "execution_count": 13
        }
      ]
    },
    {
      "cell_type": "code",
      "source": [
        "merge_col.size()"
      ],
      "metadata": {
        "colab": {
          "base_uri": "https://localhost:8080/",
          "height": 68
        },
        "id": "xg1djxeOF50O",
        "outputId": "70715905-635e-4ac0-dbd9-f84bdabadd70"
      },
      "execution_count": null,
      "outputs": [
        {
          "output_type": "display_data",
          "data": {
            "text/plain": [
              "<IPython.core.display.HTML object>"
            ],
            "text/html": [
              "\n",
              "            <style>\n",
              "                .geemap-dark {\n",
              "                    --jp-widgets-color: white;\n",
              "                    --jp-widgets-label-color: white;\n",
              "                    --jp-ui-font-color1: white;\n",
              "                    --jp-layout-color2: #454545;\n",
              "                    background-color: #383838;\n",
              "                }\n",
              "\n",
              "                .geemap-dark .jupyter-button {\n",
              "                    --jp-layout-color3: #383838;\n",
              "                }\n",
              "\n",
              "                .geemap-colab {\n",
              "                    background-color: var(--colab-primary-surface-color, white);\n",
              "                }\n",
              "\n",
              "                .geemap-colab .jupyter-button {\n",
              "                    --jp-layout-color3: var(--colab-primary-surface-color, white);\n",
              "                }\n",
              "            </style>\n",
              "            "
            ]
          },
          "metadata": {}
        },
        {
          "output_type": "execute_result",
          "data": {
            "text/plain": [
              "<ee.ee_number.Number at 0x7bd4d3ebe7d0>"
            ],
            "text/html": [
              "<div><style>:root {\n",
              "  --font-color-primary: var(--jp-content-font-color0, rgba(0, 0, 0, 1));\n",
              "  --font-color-secondary: var(--jp-content-font-color2, rgba(0, 0, 0, 0.7));\n",
              "  --font-color-accent: rgba(123, 31, 162, 1);\n",
              "  --border-color: var(--jp-border-color2, #e0e0e0);\n",
              "  --background-color: var(--jp-layout-color0, white);\n",
              "  --background-color-row-even: var(--jp-layout-color1, white);\n",
              "  --background-color-row-odd: var(--jp-layout-color2, #eeeeee);\n",
              "}\n",
              "\n",
              "html[theme=\"dark\"],\n",
              "body[data-theme=\"dark\"],\n",
              "body.vscode-dark {\n",
              "  --font-color-primary: rgba(255, 255, 255, 1);\n",
              "  --font-color-secondary: rgba(255, 255, 255, 0.7);\n",
              "  --font-color-accent: rgb(173, 132, 190);\n",
              "  --border-color: #2e2e2e;\n",
              "  --background-color: #111111;\n",
              "  --background-color-row-even: #111111;\n",
              "  --background-color-row-odd: #313131;\n",
              "}\n",
              "\n",
              ".eerepr {\n",
              "  padding: 1em;\n",
              "  line-height: 1.5em;\n",
              "  min-width: 300px;\n",
              "  max-width: 1200px;\n",
              "  overflow-y: scroll;\n",
              "  max-height: 600px;\n",
              "  border: 1px solid var(--border-color);\n",
              "  font-family: monospace;\n",
              "  font-size: 14px;\n",
              "}\n",
              "\n",
              ".eerepr li {\n",
              "  list-style-type: none;\n",
              "  margin: 0;\n",
              "}\n",
              "\n",
              ".eerepr ul {\n",
              "  padding-left: 1.5em !important;\n",
              "  margin: 0;\n",
              "}\n",
              "\n",
              ".eerepr > ul {\n",
              "  padding-left: 0 !important;\n",
              "}\n",
              "\n",
              ".eerepr summary {\n",
              "  color: var(--font-color-secondary);\n",
              "  cursor: pointer;\n",
              "  margin: 0;\n",
              "}\n",
              "\n",
              ".eerepr summary:hover {\n",
              "  color: var(--font-color-primary);\n",
              "  background-color: var(--background-color-row-odd)\n",
              "}\n",
              "\n",
              ".ee-k {\n",
              "  color: var(--font-color-accent);\n",
              "  margin-right: 6px;\n",
              "}\n",
              "\n",
              ".ee-v {\n",
              "  color: var(--font-color-primary);\n",
              "}\n",
              "\n",
              ".eerepr details > summary::before {\n",
              "  content: '▼';\n",
              "  display: inline-block;\n",
              "  margin-right: 6px;\n",
              "  transition: transform 0.2s;\n",
              "  transform: rotate(-90deg);\n",
              "}\n",
              "\n",
              ".eerepr details[open] > summary::before {\n",
              "  transform: rotate(0deg);\n",
              "}\n",
              "\n",
              ".eerepr details summary::-webkit-details-marker {\n",
              "  display:none;\n",
              "}\n",
              "\n",
              ".eerepr details summary {\n",
              "  list-style-type: none;\n",
              "}\n",
              "</style><div class='eerepr'><ul><li><span class='ee-v'>2317</span></li></ul></div></div>"
            ]
          },
          "metadata": {},
          "execution_count": 14
        }
      ]
    },
    {
      "cell_type": "markdown",
      "source": [
        "# Importar dados de periodo baseado na vazao de obidos"
      ],
      "metadata": {
        "id": "u_Up7lQDF_RR"
      }
    },
    {
      "cell_type": "code",
      "source": [
        "#import period dates\n",
        "df_period_limits = pd.read_csv('/content/drive/MyDrive/CURUAI_PROCESS/water_period_limits.csv').drop(columns=['Unnamed: 0'])\n",
        "# df_period_limits['Data'] = pd.to_datetime(df_period_limits['Data'])\n",
        "df_period_limits"
      ],
      "metadata": {
        "colab": {
          "base_uri": "https://localhost:8080/"
        },
        "id": "3rpFHzW3GAes",
        "outputId": "3ea8ce67-85e9-48bf-d450-7d740be3a83b"
      },
      "execution_count": null,
      "outputs": [
        {
          "output_type": "display_data",
          "data": {
            "text/plain": [
              "<IPython.core.display.HTML object>"
            ],
            "text/html": [
              "\n",
              "            <style>\n",
              "                .geemap-dark {\n",
              "                    --jp-widgets-color: white;\n",
              "                    --jp-widgets-label-color: white;\n",
              "                    --jp-ui-font-color1: white;\n",
              "                    --jp-layout-color2: #454545;\n",
              "                    background-color: #383838;\n",
              "                }\n",
              "\n",
              "                .geemap-dark .jupyter-button {\n",
              "                    --jp-layout-color3: #383838;\n",
              "                }\n",
              "\n",
              "                .geemap-colab {\n",
              "                    background-color: var(--colab-primary-surface-color, white);\n",
              "                }\n",
              "\n",
              "                .geemap-colab .jupyter-button {\n",
              "                    --jp-layout-color3: var(--colab-primary-surface-color, white);\n",
              "                }\n",
              "            </style>\n",
              "            "
            ]
          },
          "metadata": {}
        },
        {
          "output_type": "execute_result",
          "data": {
            "text/plain": [
              "                             Data     type  day  month  year  longitude  \\\n",
              "0   2000-01-13 10:43:38.181818240  LW_to_R   13      1  2000   -55.5131   \n",
              "1   2000-02-29 18:17:42.295081984  R_to_HW   29      2  2000   -55.5131   \n",
              "2   2000-08-24 20:45:42.857142784  HW_to_F   24      8  2000   -55.5131   \n",
              "3   2000-09-28 10:23:44.598930432  F_to_LW   28      9  2000   -55.5131   \n",
              "4   2001-01-05 16:27:54.418604672  LW_to_R    5      1  2001   -55.5131   \n",
              "..                            ...      ...  ...    ...   ...        ...   \n",
              "95  2023-08-25 18:37:31.737451520  F_to_LW   25      8  2023   -55.5131   \n",
              "96  2024-01-26 18:57:28.739495680  LW_to_R   26      1  2024   -55.5131   \n",
              "97  2024-03-25 23:32:02.330097152  R_to_HW   25      3  2024   -55.5131   \n",
              "98  2024-04-06 10:42:51.428571648  HW_to_F    6      4  2024   -55.5131   \n",
              "99  2024-05-30 21:51:25.714285824   F_to_L   30      5  2024   -55.5131   \n",
              "\n",
              "    latitude  \n",
              "0    -1.9192  \n",
              "1    -1.9192  \n",
              "2    -1.9192  \n",
              "3    -1.9192  \n",
              "4    -1.9192  \n",
              "..       ...  \n",
              "95   -1.9192  \n",
              "96   -1.9192  \n",
              "97   -1.9192  \n",
              "98   -1.9192  \n",
              "99   -1.9192  \n",
              "\n",
              "[100 rows x 7 columns]"
            ],
            "text/html": [
              "\n",
              "  <div id=\"df-35c9a252-451d-4362-be89-9963581e4a14\" class=\"colab-df-container\">\n",
              "    <div>\n",
              "<style scoped>\n",
              "    .dataframe tbody tr th:only-of-type {\n",
              "        vertical-align: middle;\n",
              "    }\n",
              "\n",
              "    .dataframe tbody tr th {\n",
              "        vertical-align: top;\n",
              "    }\n",
              "\n",
              "    .dataframe thead th {\n",
              "        text-align: right;\n",
              "    }\n",
              "</style>\n",
              "<table border=\"1\" class=\"dataframe\">\n",
              "  <thead>\n",
              "    <tr style=\"text-align: right;\">\n",
              "      <th></th>\n",
              "      <th>Data</th>\n",
              "      <th>type</th>\n",
              "      <th>day</th>\n",
              "      <th>month</th>\n",
              "      <th>year</th>\n",
              "      <th>longitude</th>\n",
              "      <th>latitude</th>\n",
              "    </tr>\n",
              "  </thead>\n",
              "  <tbody>\n",
              "    <tr>\n",
              "      <th>0</th>\n",
              "      <td>2000-01-13 10:43:38.181818240</td>\n",
              "      <td>LW_to_R</td>\n",
              "      <td>13</td>\n",
              "      <td>1</td>\n",
              "      <td>2000</td>\n",
              "      <td>-55.5131</td>\n",
              "      <td>-1.9192</td>\n",
              "    </tr>\n",
              "    <tr>\n",
              "      <th>1</th>\n",
              "      <td>2000-02-29 18:17:42.295081984</td>\n",
              "      <td>R_to_HW</td>\n",
              "      <td>29</td>\n",
              "      <td>2</td>\n",
              "      <td>2000</td>\n",
              "      <td>-55.5131</td>\n",
              "      <td>-1.9192</td>\n",
              "    </tr>\n",
              "    <tr>\n",
              "      <th>2</th>\n",
              "      <td>2000-08-24 20:45:42.857142784</td>\n",
              "      <td>HW_to_F</td>\n",
              "      <td>24</td>\n",
              "      <td>8</td>\n",
              "      <td>2000</td>\n",
              "      <td>-55.5131</td>\n",
              "      <td>-1.9192</td>\n",
              "    </tr>\n",
              "    <tr>\n",
              "      <th>3</th>\n",
              "      <td>2000-09-28 10:23:44.598930432</td>\n",
              "      <td>F_to_LW</td>\n",
              "      <td>28</td>\n",
              "      <td>9</td>\n",
              "      <td>2000</td>\n",
              "      <td>-55.5131</td>\n",
              "      <td>-1.9192</td>\n",
              "    </tr>\n",
              "    <tr>\n",
              "      <th>4</th>\n",
              "      <td>2001-01-05 16:27:54.418604672</td>\n",
              "      <td>LW_to_R</td>\n",
              "      <td>5</td>\n",
              "      <td>1</td>\n",
              "      <td>2001</td>\n",
              "      <td>-55.5131</td>\n",
              "      <td>-1.9192</td>\n",
              "    </tr>\n",
              "    <tr>\n",
              "      <th>...</th>\n",
              "      <td>...</td>\n",
              "      <td>...</td>\n",
              "      <td>...</td>\n",
              "      <td>...</td>\n",
              "      <td>...</td>\n",
              "      <td>...</td>\n",
              "      <td>...</td>\n",
              "    </tr>\n",
              "    <tr>\n",
              "      <th>95</th>\n",
              "      <td>2023-08-25 18:37:31.737451520</td>\n",
              "      <td>F_to_LW</td>\n",
              "      <td>25</td>\n",
              "      <td>8</td>\n",
              "      <td>2023</td>\n",
              "      <td>-55.5131</td>\n",
              "      <td>-1.9192</td>\n",
              "    </tr>\n",
              "    <tr>\n",
              "      <th>96</th>\n",
              "      <td>2024-01-26 18:57:28.739495680</td>\n",
              "      <td>LW_to_R</td>\n",
              "      <td>26</td>\n",
              "      <td>1</td>\n",
              "      <td>2024</td>\n",
              "      <td>-55.5131</td>\n",
              "      <td>-1.9192</td>\n",
              "    </tr>\n",
              "    <tr>\n",
              "      <th>97</th>\n",
              "      <td>2024-03-25 23:32:02.330097152</td>\n",
              "      <td>R_to_HW</td>\n",
              "      <td>25</td>\n",
              "      <td>3</td>\n",
              "      <td>2024</td>\n",
              "      <td>-55.5131</td>\n",
              "      <td>-1.9192</td>\n",
              "    </tr>\n",
              "    <tr>\n",
              "      <th>98</th>\n",
              "      <td>2024-04-06 10:42:51.428571648</td>\n",
              "      <td>HW_to_F</td>\n",
              "      <td>6</td>\n",
              "      <td>4</td>\n",
              "      <td>2024</td>\n",
              "      <td>-55.5131</td>\n",
              "      <td>-1.9192</td>\n",
              "    </tr>\n",
              "    <tr>\n",
              "      <th>99</th>\n",
              "      <td>2024-05-30 21:51:25.714285824</td>\n",
              "      <td>F_to_L</td>\n",
              "      <td>30</td>\n",
              "      <td>5</td>\n",
              "      <td>2024</td>\n",
              "      <td>-55.5131</td>\n",
              "      <td>-1.9192</td>\n",
              "    </tr>\n",
              "  </tbody>\n",
              "</table>\n",
              "<p>100 rows × 7 columns</p>\n",
              "</div>\n",
              "    <div class=\"colab-df-buttons\">\n",
              "\n",
              "  <div class=\"colab-df-container\">\n",
              "    <button class=\"colab-df-convert\" onclick=\"convertToInteractive('df-35c9a252-451d-4362-be89-9963581e4a14')\"\n",
              "            title=\"Convert this dataframe to an interactive table.\"\n",
              "            style=\"display:none;\">\n",
              "\n",
              "  <svg xmlns=\"http://www.w3.org/2000/svg\" height=\"24px\" viewBox=\"0 -960 960 960\">\n",
              "    <path d=\"M120-120v-720h720v720H120Zm60-500h600v-160H180v160Zm220 220h160v-160H400v160Zm0 220h160v-160H400v160ZM180-400h160v-160H180v160Zm440 0h160v-160H620v160ZM180-180h160v-160H180v160Zm440 0h160v-160H620v160Z\"/>\n",
              "  </svg>\n",
              "    </button>\n",
              "\n",
              "  <style>\n",
              "    .colab-df-container {\n",
              "      display:flex;\n",
              "      gap: 12px;\n",
              "    }\n",
              "\n",
              "    .colab-df-convert {\n",
              "      background-color: #E8F0FE;\n",
              "      border: none;\n",
              "      border-radius: 50%;\n",
              "      cursor: pointer;\n",
              "      display: none;\n",
              "      fill: #1967D2;\n",
              "      height: 32px;\n",
              "      padding: 0 0 0 0;\n",
              "      width: 32px;\n",
              "    }\n",
              "\n",
              "    .colab-df-convert:hover {\n",
              "      background-color: #E2EBFA;\n",
              "      box-shadow: 0px 1px 2px rgba(60, 64, 67, 0.3), 0px 1px 3px 1px rgba(60, 64, 67, 0.15);\n",
              "      fill: #174EA6;\n",
              "    }\n",
              "\n",
              "    .colab-df-buttons div {\n",
              "      margin-bottom: 4px;\n",
              "    }\n",
              "\n",
              "    [theme=dark] .colab-df-convert {\n",
              "      background-color: #3B4455;\n",
              "      fill: #D2E3FC;\n",
              "    }\n",
              "\n",
              "    [theme=dark] .colab-df-convert:hover {\n",
              "      background-color: #434B5C;\n",
              "      box-shadow: 0px 1px 3px 1px rgba(0, 0, 0, 0.15);\n",
              "      filter: drop-shadow(0px 1px 2px rgba(0, 0, 0, 0.3));\n",
              "      fill: #FFFFFF;\n",
              "    }\n",
              "  </style>\n",
              "\n",
              "    <script>\n",
              "      const buttonEl =\n",
              "        document.querySelector('#df-35c9a252-451d-4362-be89-9963581e4a14 button.colab-df-convert');\n",
              "      buttonEl.style.display =\n",
              "        google.colab.kernel.accessAllowed ? 'block' : 'none';\n",
              "\n",
              "      async function convertToInteractive(key) {\n",
              "        const element = document.querySelector('#df-35c9a252-451d-4362-be89-9963581e4a14');\n",
              "        const dataTable =\n",
              "          await google.colab.kernel.invokeFunction('convertToInteractive',\n",
              "                                                    [key], {});\n",
              "        if (!dataTable) return;\n",
              "\n",
              "        const docLinkHtml = 'Like what you see? Visit the ' +\n",
              "          '<a target=\"_blank\" href=https://colab.research.google.com/notebooks/data_table.ipynb>data table notebook</a>'\n",
              "          + ' to learn more about interactive tables.';\n",
              "        element.innerHTML = '';\n",
              "        dataTable['output_type'] = 'display_data';\n",
              "        await google.colab.output.renderOutput(dataTable, element);\n",
              "        const docLink = document.createElement('div');\n",
              "        docLink.innerHTML = docLinkHtml;\n",
              "        element.appendChild(docLink);\n",
              "      }\n",
              "    </script>\n",
              "  </div>\n",
              "\n",
              "\n",
              "    <div id=\"df-ba186327-97e7-40f2-a7d0-124f1d8511a0\">\n",
              "      <button class=\"colab-df-quickchart\" onclick=\"quickchart('df-ba186327-97e7-40f2-a7d0-124f1d8511a0')\"\n",
              "                title=\"Suggest charts\"\n",
              "                style=\"display:none;\">\n",
              "\n",
              "<svg xmlns=\"http://www.w3.org/2000/svg\" height=\"24px\"viewBox=\"0 0 24 24\"\n",
              "     width=\"24px\">\n",
              "    <g>\n",
              "        <path d=\"M19 3H5c-1.1 0-2 .9-2 2v14c0 1.1.9 2 2 2h14c1.1 0 2-.9 2-2V5c0-1.1-.9-2-2-2zM9 17H7v-7h2v7zm4 0h-2V7h2v10zm4 0h-2v-4h2v4z\"/>\n",
              "    </g>\n",
              "</svg>\n",
              "      </button>\n",
              "\n",
              "<style>\n",
              "  .colab-df-quickchart {\n",
              "      --bg-color: #E8F0FE;\n",
              "      --fill-color: #1967D2;\n",
              "      --hover-bg-color: #E2EBFA;\n",
              "      --hover-fill-color: #174EA6;\n",
              "      --disabled-fill-color: #AAA;\n",
              "      --disabled-bg-color: #DDD;\n",
              "  }\n",
              "\n",
              "  [theme=dark] .colab-df-quickchart {\n",
              "      --bg-color: #3B4455;\n",
              "      --fill-color: #D2E3FC;\n",
              "      --hover-bg-color: #434B5C;\n",
              "      --hover-fill-color: #FFFFFF;\n",
              "      --disabled-bg-color: #3B4455;\n",
              "      --disabled-fill-color: #666;\n",
              "  }\n",
              "\n",
              "  .colab-df-quickchart {\n",
              "    background-color: var(--bg-color);\n",
              "    border: none;\n",
              "    border-radius: 50%;\n",
              "    cursor: pointer;\n",
              "    display: none;\n",
              "    fill: var(--fill-color);\n",
              "    height: 32px;\n",
              "    padding: 0;\n",
              "    width: 32px;\n",
              "  }\n",
              "\n",
              "  .colab-df-quickchart:hover {\n",
              "    background-color: var(--hover-bg-color);\n",
              "    box-shadow: 0 1px 2px rgba(60, 64, 67, 0.3), 0 1px 3px 1px rgba(60, 64, 67, 0.15);\n",
              "    fill: var(--button-hover-fill-color);\n",
              "  }\n",
              "\n",
              "  .colab-df-quickchart-complete:disabled,\n",
              "  .colab-df-quickchart-complete:disabled:hover {\n",
              "    background-color: var(--disabled-bg-color);\n",
              "    fill: var(--disabled-fill-color);\n",
              "    box-shadow: none;\n",
              "  }\n",
              "\n",
              "  .colab-df-spinner {\n",
              "    border: 2px solid var(--fill-color);\n",
              "    border-color: transparent;\n",
              "    border-bottom-color: var(--fill-color);\n",
              "    animation:\n",
              "      spin 1s steps(1) infinite;\n",
              "  }\n",
              "\n",
              "  @keyframes spin {\n",
              "    0% {\n",
              "      border-color: transparent;\n",
              "      border-bottom-color: var(--fill-color);\n",
              "      border-left-color: var(--fill-color);\n",
              "    }\n",
              "    20% {\n",
              "      border-color: transparent;\n",
              "      border-left-color: var(--fill-color);\n",
              "      border-top-color: var(--fill-color);\n",
              "    }\n",
              "    30% {\n",
              "      border-color: transparent;\n",
              "      border-left-color: var(--fill-color);\n",
              "      border-top-color: var(--fill-color);\n",
              "      border-right-color: var(--fill-color);\n",
              "    }\n",
              "    40% {\n",
              "      border-color: transparent;\n",
              "      border-right-color: var(--fill-color);\n",
              "      border-top-color: var(--fill-color);\n",
              "    }\n",
              "    60% {\n",
              "      border-color: transparent;\n",
              "      border-right-color: var(--fill-color);\n",
              "    }\n",
              "    80% {\n",
              "      border-color: transparent;\n",
              "      border-right-color: var(--fill-color);\n",
              "      border-bottom-color: var(--fill-color);\n",
              "    }\n",
              "    90% {\n",
              "      border-color: transparent;\n",
              "      border-bottom-color: var(--fill-color);\n",
              "    }\n",
              "  }\n",
              "</style>\n",
              "\n",
              "      <script>\n",
              "        async function quickchart(key) {\n",
              "          const quickchartButtonEl =\n",
              "            document.querySelector('#' + key + ' button');\n",
              "          quickchartButtonEl.disabled = true;  // To prevent multiple clicks.\n",
              "          quickchartButtonEl.classList.add('colab-df-spinner');\n",
              "          try {\n",
              "            const charts = await google.colab.kernel.invokeFunction(\n",
              "                'suggestCharts', [key], {});\n",
              "          } catch (error) {\n",
              "            console.error('Error during call to suggestCharts:', error);\n",
              "          }\n",
              "          quickchartButtonEl.classList.remove('colab-df-spinner');\n",
              "          quickchartButtonEl.classList.add('colab-df-quickchart-complete');\n",
              "        }\n",
              "        (() => {\n",
              "          let quickchartButtonEl =\n",
              "            document.querySelector('#df-ba186327-97e7-40f2-a7d0-124f1d8511a0 button');\n",
              "          quickchartButtonEl.style.display =\n",
              "            google.colab.kernel.accessAllowed ? 'block' : 'none';\n",
              "        })();\n",
              "      </script>\n",
              "    </div>\n",
              "\n",
              "  <div id=\"id_8ddaf98b-f1fb-4703-98e6-e8d4f2267f9f\">\n",
              "    <style>\n",
              "      .colab-df-generate {\n",
              "        background-color: #E8F0FE;\n",
              "        border: none;\n",
              "        border-radius: 50%;\n",
              "        cursor: pointer;\n",
              "        display: none;\n",
              "        fill: #1967D2;\n",
              "        height: 32px;\n",
              "        padding: 0 0 0 0;\n",
              "        width: 32px;\n",
              "      }\n",
              "\n",
              "      .colab-df-generate:hover {\n",
              "        background-color: #E2EBFA;\n",
              "        box-shadow: 0px 1px 2px rgba(60, 64, 67, 0.3), 0px 1px 3px 1px rgba(60, 64, 67, 0.15);\n",
              "        fill: #174EA6;\n",
              "      }\n",
              "\n",
              "      [theme=dark] .colab-df-generate {\n",
              "        background-color: #3B4455;\n",
              "        fill: #D2E3FC;\n",
              "      }\n",
              "\n",
              "      [theme=dark] .colab-df-generate:hover {\n",
              "        background-color: #434B5C;\n",
              "        box-shadow: 0px 1px 3px 1px rgba(0, 0, 0, 0.15);\n",
              "        filter: drop-shadow(0px 1px 2px rgba(0, 0, 0, 0.3));\n",
              "        fill: #FFFFFF;\n",
              "      }\n",
              "    </style>\n",
              "    <button class=\"colab-df-generate\" onclick=\"generateWithVariable('df_period_limits')\"\n",
              "            title=\"Generate code using this dataframe.\"\n",
              "            style=\"display:none;\">\n",
              "\n",
              "  <svg xmlns=\"http://www.w3.org/2000/svg\" height=\"24px\"viewBox=\"0 0 24 24\"\n",
              "       width=\"24px\">\n",
              "    <path d=\"M7,19H8.4L18.45,9,17,7.55,7,17.6ZM5,21V16.75L18.45,3.32a2,2,0,0,1,2.83,0l1.4,1.43a1.91,1.91,0,0,1,.58,1.4,1.91,1.91,0,0,1-.58,1.4L9.25,21ZM18.45,9,17,7.55Zm-12,3A5.31,5.31,0,0,0,4.9,8.1,5.31,5.31,0,0,0,1,6.5,5.31,5.31,0,0,0,4.9,4.9,5.31,5.31,0,0,0,6.5,1,5.31,5.31,0,0,0,8.1,4.9,5.31,5.31,0,0,0,12,6.5,5.46,5.46,0,0,0,6.5,12Z\"/>\n",
              "  </svg>\n",
              "    </button>\n",
              "    <script>\n",
              "      (() => {\n",
              "      const buttonEl =\n",
              "        document.querySelector('#id_8ddaf98b-f1fb-4703-98e6-e8d4f2267f9f button.colab-df-generate');\n",
              "      buttonEl.style.display =\n",
              "        google.colab.kernel.accessAllowed ? 'block' : 'none';\n",
              "\n",
              "      buttonEl.onclick = () => {\n",
              "        google.colab.notebook.generateWithVariable('df_period_limits');\n",
              "      }\n",
              "      })();\n",
              "    </script>\n",
              "  </div>\n",
              "\n",
              "    </div>\n",
              "  </div>\n"
            ],
            "application/vnd.google.colaboratory.intrinsic+json": {
              "type": "dataframe",
              "variable_name": "df_period_limits",
              "summary": "{\n  \"name\": \"df_period_limits\",\n  \"rows\": 100,\n  \"fields\": [\n    {\n      \"column\": \"Data\",\n      \"properties\": {\n        \"dtype\": \"object\",\n        \"num_unique_values\": 100,\n        \"samples\": [\n          \"2020-09-04 21:40:49.070631936\",\n          \"2013-02-12 01:22:32.866242048\",\n          \"2017-08-03 19:22:52.075471872\"\n        ],\n        \"semantic_type\": \"\",\n        \"description\": \"\"\n      }\n    },\n    {\n      \"column\": \"type\",\n      \"properties\": {\n        \"dtype\": \"category\",\n        \"num_unique_values\": 5,\n        \"samples\": [\n          \"R_to_HW\",\n          \"F_to_L\",\n          \"HW_to_F\"\n        ],\n        \"semantic_type\": \"\",\n        \"description\": \"\"\n      }\n    },\n    {\n      \"column\": \"day\",\n      \"properties\": {\n        \"dtype\": \"number\",\n        \"std\": 9,\n        \"min\": 1,\n        \"max\": 31,\n        \"num_unique_values\": 31,\n        \"samples\": [\n          16,\n          23,\n          20\n        ],\n        \"semantic_type\": \"\",\n        \"description\": \"\"\n      }\n    },\n    {\n      \"column\": \"month\",\n      \"properties\": {\n        \"dtype\": \"number\",\n        \"std\": 3,\n        \"min\": 1,\n        \"max\": 12,\n        \"num_unique_values\": 10,\n        \"samples\": [\n          11,\n          2,\n          3\n        ],\n        \"semantic_type\": \"\",\n        \"description\": \"\"\n      }\n    },\n    {\n      \"column\": \"year\",\n      \"properties\": {\n        \"dtype\": \"number\",\n        \"std\": 7,\n        \"min\": 2000,\n        \"max\": 2024,\n        \"num_unique_values\": 25,\n        \"samples\": [\n          2008,\n          2016,\n          2000\n        ],\n        \"semantic_type\": \"\",\n        \"description\": \"\"\n      }\n    },\n    {\n      \"column\": \"longitude\",\n      \"properties\": {\n        \"dtype\": \"number\",\n        \"std\": 5.712978550373078e-14,\n        \"min\": -55.5131,\n        \"max\": -55.5131,\n        \"num_unique_values\": 1,\n        \"samples\": [\n          -55.5131\n        ],\n        \"semantic_type\": \"\",\n        \"description\": \"\"\n      }\n    },\n    {\n      \"column\": \"latitude\",\n      \"properties\": {\n        \"dtype\": \"number\",\n        \"std\": 1.785305796991587e-15,\n        \"min\": -1.9192,\n        \"max\": -1.9192,\n        \"num_unique_values\": 1,\n        \"samples\": [\n          -1.9192\n        ],\n        \"semantic_type\": \"\",\n        \"description\": \"\"\n      }\n    }\n  ]\n}"
            }
          },
          "metadata": {},
          "execution_count": 15
        }
      ]
    },
    {
      "cell_type": "markdown",
      "source": [
        "# Fazer mosaico definido por cota"
      ],
      "metadata": {
        "id": "Z-v2PnWNGEm6"
      }
    },
    {
      "cell_type": "code",
      "source": [
        "list_images = []\n",
        "for i in range(0,len(df_period_limits)-1):\n",
        "  # print(df_period_limits['Data'][i][0:10])\n",
        "  # print(df_period_limits['Data'][i+1][0:10])\n",
        "\n",
        "  image = (merge_col.filter(ee.Filter.date(df_period_limits['Data'][i][0:10],df_period_limits['Data'][i+1][0:10]))\n",
        "              .median())\n",
        "  if int(image.bandNames().length().getInfo()) > 0:\n",
        "    list_images.append(image\n",
        "              .set('year', str(df_period_limits['year'][i]))\n",
        "              .set('month_init', str(df_period_limits['month'][i]))\n",
        "              .set('month_end', str(df_period_limits['month'][i+1]))\n",
        "              .set('system:time_start', ee.Date.parse('yyyy-MM-dd',str(df_period_limits['Data'][i][0:10])))\n",
        "              .set('time_start', str(df_period_limits['Data'][i][0:10]))\n",
        "              .set('time_finish', str(df_period_limits['Data'][i+1][0:10]))\n",
        "              .set('band_count',image.bandNames().length()))\n",
        "\n",
        "\n",
        "\n",
        "len(list_images)"
      ],
      "metadata": {
        "colab": {
          "base_uri": "https://localhost:8080/",
          "height": 35
        },
        "id": "tOkrmuX8GD6T",
        "outputId": "d1f87f7d-a51d-4002-c200-f6c177e8aa49"
      },
      "execution_count": null,
      "outputs": [
        {
          "output_type": "display_data",
          "data": {
            "text/plain": [
              "<IPython.core.display.HTML object>"
            ],
            "text/html": [
              "\n",
              "            <style>\n",
              "                .geemap-dark {\n",
              "                    --jp-widgets-color: white;\n",
              "                    --jp-widgets-label-color: white;\n",
              "                    --jp-ui-font-color1: white;\n",
              "                    --jp-layout-color2: #454545;\n",
              "                    background-color: #383838;\n",
              "                }\n",
              "\n",
              "                .geemap-dark .jupyter-button {\n",
              "                    --jp-layout-color3: #383838;\n",
              "                }\n",
              "\n",
              "                .geemap-colab {\n",
              "                    background-color: var(--colab-primary-surface-color, white);\n",
              "                }\n",
              "\n",
              "                .geemap-colab .jupyter-button {\n",
              "                    --jp-layout-color3: var(--colab-primary-surface-color, white);\n",
              "                }\n",
              "            </style>\n",
              "            "
            ]
          },
          "metadata": {}
        },
        {
          "output_type": "execute_result",
          "data": {
            "text/plain": [
              "98"
            ]
          },
          "metadata": {},
          "execution_count": 16
        }
      ]
    },
    {
      "cell_type": "code",
      "source": [
        "list_images.append(merge_col.filterDate('2024-05-30','2025-01-01').median()\n",
        "              .set('year', str(2024))\n",
        "              .set('month_init', str('05'))\n",
        "              .set('month_end', str(12))\n",
        "              .set('system:time_start', ee.Date.parse('yyyy-MM-dd',str('2024-05-30')))\n",
        "              .set('time_start', str('2024-05-30'))\n",
        "              .set('time_finish', str('2025-01-01'))\n",
        "              .set('band_count',image.bandNames().length()))"
      ],
      "metadata": {
        "colab": {
          "base_uri": "https://localhost:8080/",
          "height": 17
        },
        "id": "Alhji7D2GK2f",
        "outputId": "07f1a74c-d267-436e-8633-144eea1bf8e2"
      },
      "execution_count": null,
      "outputs": [
        {
          "output_type": "display_data",
          "data": {
            "text/plain": [
              "<IPython.core.display.HTML object>"
            ],
            "text/html": [
              "\n",
              "            <style>\n",
              "                .geemap-dark {\n",
              "                    --jp-widgets-color: white;\n",
              "                    --jp-widgets-label-color: white;\n",
              "                    --jp-ui-font-color1: white;\n",
              "                    --jp-layout-color2: #454545;\n",
              "                    background-color: #383838;\n",
              "                }\n",
              "\n",
              "                .geemap-dark .jupyter-button {\n",
              "                    --jp-layout-color3: #383838;\n",
              "                }\n",
              "\n",
              "                .geemap-colab {\n",
              "                    background-color: var(--colab-primary-surface-color, white);\n",
              "                }\n",
              "\n",
              "                .geemap-colab .jupyter-button {\n",
              "                    --jp-layout-color3: var(--colab-primary-surface-color, white);\n",
              "                }\n",
              "            </style>\n",
              "            "
            ]
          },
          "metadata": {}
        }
      ]
    },
    {
      "cell_type": "code",
      "source": [
        "period_mosaics =  ee.ImageCollection.fromImages(ee.List(list_images))\n",
        "period_mosaics.size()"
      ],
      "metadata": {
        "colab": {
          "base_uri": "https://localhost:8080/",
          "height": 68
        },
        "id": "VTSAD5YAGMtI",
        "outputId": "df67c1d4-6520-494b-c527-ee001af4686f"
      },
      "execution_count": null,
      "outputs": [
        {
          "output_type": "display_data",
          "data": {
            "text/plain": [
              "<IPython.core.display.HTML object>"
            ],
            "text/html": [
              "\n",
              "            <style>\n",
              "                .geemap-dark {\n",
              "                    --jp-widgets-color: white;\n",
              "                    --jp-widgets-label-color: white;\n",
              "                    --jp-ui-font-color1: white;\n",
              "                    --jp-layout-color2: #454545;\n",
              "                    background-color: #383838;\n",
              "                }\n",
              "\n",
              "                .geemap-dark .jupyter-button {\n",
              "                    --jp-layout-color3: #383838;\n",
              "                }\n",
              "\n",
              "                .geemap-colab {\n",
              "                    background-color: var(--colab-primary-surface-color, white);\n",
              "                }\n",
              "\n",
              "                .geemap-colab .jupyter-button {\n",
              "                    --jp-layout-color3: var(--colab-primary-surface-color, white);\n",
              "                }\n",
              "            </style>\n",
              "            "
            ]
          },
          "metadata": {}
        },
        {
          "output_type": "execute_result",
          "data": {
            "text/plain": [
              "<ee.ee_number.Number at 0x7bd4d3e2e090>"
            ],
            "text/html": [
              "<div><style>:root {\n",
              "  --font-color-primary: var(--jp-content-font-color0, rgba(0, 0, 0, 1));\n",
              "  --font-color-secondary: var(--jp-content-font-color2, rgba(0, 0, 0, 0.7));\n",
              "  --font-color-accent: rgba(123, 31, 162, 1);\n",
              "  --border-color: var(--jp-border-color2, #e0e0e0);\n",
              "  --background-color: var(--jp-layout-color0, white);\n",
              "  --background-color-row-even: var(--jp-layout-color1, white);\n",
              "  --background-color-row-odd: var(--jp-layout-color2, #eeeeee);\n",
              "}\n",
              "\n",
              "html[theme=\"dark\"],\n",
              "body[data-theme=\"dark\"],\n",
              "body.vscode-dark {\n",
              "  --font-color-primary: rgba(255, 255, 255, 1);\n",
              "  --font-color-secondary: rgba(255, 255, 255, 0.7);\n",
              "  --font-color-accent: rgb(173, 132, 190);\n",
              "  --border-color: #2e2e2e;\n",
              "  --background-color: #111111;\n",
              "  --background-color-row-even: #111111;\n",
              "  --background-color-row-odd: #313131;\n",
              "}\n",
              "\n",
              ".eerepr {\n",
              "  padding: 1em;\n",
              "  line-height: 1.5em;\n",
              "  min-width: 300px;\n",
              "  max-width: 1200px;\n",
              "  overflow-y: scroll;\n",
              "  max-height: 600px;\n",
              "  border: 1px solid var(--border-color);\n",
              "  font-family: monospace;\n",
              "  font-size: 14px;\n",
              "}\n",
              "\n",
              ".eerepr li {\n",
              "  list-style-type: none;\n",
              "  margin: 0;\n",
              "}\n",
              "\n",
              ".eerepr ul {\n",
              "  padding-left: 1.5em !important;\n",
              "  margin: 0;\n",
              "}\n",
              "\n",
              ".eerepr > ul {\n",
              "  padding-left: 0 !important;\n",
              "}\n",
              "\n",
              ".eerepr summary {\n",
              "  color: var(--font-color-secondary);\n",
              "  cursor: pointer;\n",
              "  margin: 0;\n",
              "}\n",
              "\n",
              ".eerepr summary:hover {\n",
              "  color: var(--font-color-primary);\n",
              "  background-color: var(--background-color-row-odd)\n",
              "}\n",
              "\n",
              ".ee-k {\n",
              "  color: var(--font-color-accent);\n",
              "  margin-right: 6px;\n",
              "}\n",
              "\n",
              ".ee-v {\n",
              "  color: var(--font-color-primary);\n",
              "}\n",
              "\n",
              ".eerepr details > summary::before {\n",
              "  content: '▼';\n",
              "  display: inline-block;\n",
              "  margin-right: 6px;\n",
              "  transition: transform 0.2s;\n",
              "  transform: rotate(-90deg);\n",
              "}\n",
              "\n",
              ".eerepr details[open] > summary::before {\n",
              "  transform: rotate(0deg);\n",
              "}\n",
              "\n",
              ".eerepr details summary::-webkit-details-marker {\n",
              "  display:none;\n",
              "}\n",
              "\n",
              ".eerepr details summary {\n",
              "  list-style-type: none;\n",
              "}\n",
              "</style><div class='eerepr'><ul><li><span class='ee-v'>99</span></li></ul></div></div>"
            ]
          },
          "metadata": {},
          "execution_count": 18
        }
      ]
    },
    {
      "cell_type": "markdown",
      "source": [
        "# Classificar Imagens"
      ],
      "metadata": {
        "id": "mvL7nc0ZGSMg"
      }
    },
    {
      "cell_type": "markdown",
      "source": [
        "Desmistura espectral? k means? random forest? indice espectral?"
      ],
      "metadata": {
        "id": "QS7sr6DxKTme"
      }
    }
  ]
}