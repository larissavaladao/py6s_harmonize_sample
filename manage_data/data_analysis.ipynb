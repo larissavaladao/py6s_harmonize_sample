{
  "nbformat": 4,
  "nbformat_minor": 0,
  "metadata": {
    "colab": {
      "provenance": [],
      "mount_file_id": "10yESpTPRgxzhnSALG2f1fYFcIf86smc0",
      "authorship_tag": "ABX9TyMzVyO4k5d7tHQ4T0EQD8KY",
      "include_colab_link": true
    },
    "kernelspec": {
      "name": "python3",
      "display_name": "Python 3"
    },
    "language_info": {
      "name": "python"
    }
  },
  "cells": [
    {
      "cell_type": "markdown",
      "metadata": {
        "id": "view-in-github",
        "colab_type": "text"
      },
      "source": [
        "<a href=\"https://colab.research.google.com/github/larissavaladao/py6s_harmonize_sample/blob/main/manage_data/data_analysis.ipynb\" target=\"_parent\"><img src=\"https://colab.research.google.com/assets/colab-badge.svg\" alt=\"Open In Colab\"/></a>"
      ]
    },
    {
      "cell_type": "code",
      "execution_count": 1,
      "metadata": {
        "id": "Ms3YqksaTGCn"
      },
      "outputs": [],
      "source": [
        "import pandas as pd\n",
        "import seaborn as sns"
      ]
    },
    {
      "cell_type": "code",
      "source": [
        "ld7_path = '/content/drive/MyDrive/CURUAI_PROCESS/py6s_LD7_data.csv'\n",
        "ld8_path = '/content/drive/MyDrive/CURUAI_PROCESS/py6s_LD8_data.csv'"
      ],
      "metadata": {
        "id": "drfL2rJJTsdH"
      },
      "execution_count": 2,
      "outputs": []
    },
    {
      "cell_type": "code",
      "source": [
        "ld8_df = pd.read_csv(ld8_path)\n",
        "ld8_df = ld8_df.loc[(ld8_df['DEPTH_CLASS']==1)].copy()\n",
        "ld8_df"
      ],
      "metadata": {
        "colab": {
          "base_uri": "https://localhost:8080/",
          "height": 424
        },
        "id": "qTC0npv_UFJ-",
        "outputId": "97d515c7-53f8-4ebf-c37c-164c1f971630"
      },
      "execution_count": 3,
      "outputs": [
        {
          "output_type": "execute_result",
          "data": {
            "text/plain": [
              "     CHLOROPHYLL  CHLOROPHYLL_A       CHLOROPHYLL_B  CLOUD_COVER  \\\n",
              "0       1.906667       9.326880  0.9149999999999994        22.92   \n",
              "1       1.906667       9.326880  0.9149999999999994        28.02   \n",
              "2       2.770000      43.918860   5.135179999999999        22.92   \n",
              "3       2.770000      43.918860   5.135179999999999        28.02   \n",
              "4       2.216667      44.738425  0.8987750000000037        22.92   \n",
              "..           ...            ...                 ...          ...   \n",
              "382     1.965000      28.245740   0.652440000000002        78.77   \n",
              "383     1.415000      20.927660              2.9448        60.80   \n",
              "384     1.415000      20.927660              2.9448        78.77   \n",
              "385     1.693333      47.550140    4.95269999999999        60.80   \n",
              "386     1.693333      47.550140    4.95269999999999        78.77   \n",
              "\n",
              "                    DATE  DEPTH_CLASS    DOC   ID  LATITUDE LOCATION  ...  \\\n",
              "0    2013-09-08 00:00:00            1  3.890   71 -2.258797       PQ  ...   \n",
              "1    2013-09-08 00:00:00            1  3.890   71 -2.258797       PQ  ...   \n",
              "2    2013-09-08 00:00:00            1  4.128   72 -2.274821       PQ  ...   \n",
              "3    2013-09-08 00:00:00            1  4.128   72 -2.274821       PQ  ...   \n",
              "4    2013-09-09 00:00:00            1  4.380   73 -2.251349       PQ  ...   \n",
              "..                   ...          ...    ...  ...       ...      ...  ...   \n",
              "382  2017-04-11 00:00:00            1  6.237  337 -2.135144       GP  ...   \n",
              "383  2017-04-11 00:00:00            1  6.458  338 -2.113672       GP  ...   \n",
              "384  2017-04-11 00:00:00            1  6.458  338 -2.113672       GP  ...   \n",
              "385  2017-04-18 00:00:00            1  6.693  356 -2.245385       LG  ...   \n",
              "386  2017-04-18 00:00:00            1  6.693  356 -2.245385       LG  ...   \n",
              "\n",
              "     red_mean red_median   red_min  red_stdDev swir1_max swir1_mean  \\\n",
              "0    0.016346   0.016296  0.015931    0.000274  0.001309   0.001033   \n",
              "1    0.016570   0.016562  0.016166    0.000299  0.001356   0.001042   \n",
              "2    0.002647   0.002738  0.001403    0.000821  0.004521   0.003330   \n",
              "3    0.002856   0.003506  0.000321    0.001295  0.007359   0.003341   \n",
              "4    0.014612   0.014511  0.013753    0.000433  0.004788   0.003737   \n",
              "..        ...        ...       ...         ...       ...        ...   \n",
              "382  0.026322   0.026524  0.024744    0.000795  0.004916   0.002524   \n",
              "383  0.022228   0.022542  0.020000    0.001660  0.002781   0.002019   \n",
              "384  0.020196   0.020754  0.017658    0.001332  0.003225   0.001776   \n",
              "385  0.029736   0.030981  0.024184    0.003265  0.005700   0.004109   \n",
              "386  0.029481   0.029886  0.026921    0.000966  0.005186   0.004031   \n",
              "\n",
              "     swir1_median  swir1_min  swir1_stdDev                  system_index  \n",
              "0        0.001150   0.000626      0.000211   71_BOA_LC08_228061_20130916  \n",
              "1        0.001169   0.000614      0.000227   71_BOA_LC08_228062_20130916  \n",
              "2        0.004062   0.001570      0.001338   72_BOA_LC08_228061_20130916  \n",
              "3        0.002768   0.001490      0.001967   72_BOA_LC08_228062_20130916  \n",
              "4        0.004146   0.003694      0.000346   73_BOA_LC08_228061_20130916  \n",
              "..            ...        ...           ...                           ...  \n",
              "382      0.002283   0.001522      0.001149  337_BOA_LC08_228062_20170404  \n",
              "383      0.002054   0.001393      0.000412  338_BOA_LC08_228061_20170404  \n",
              "384      0.001557   0.000885      0.000701  338_BOA_LC08_228062_20170404  \n",
              "385      0.003656   0.003148      0.000892  356_BOA_LC08_228061_20170404  \n",
              "386      0.003835   0.003375      0.000499  356_BOA_LC08_228062_20170404  \n",
              "\n",
              "[291 rows x 54 columns]"
            ],
            "text/html": [
              "\n",
              "  <div id=\"df-cecae906-ec41-4ef1-a1b1-1ad171350587\" class=\"colab-df-container\">\n",
              "    <div>\n",
              "<style scoped>\n",
              "    .dataframe tbody tr th:only-of-type {\n",
              "        vertical-align: middle;\n",
              "    }\n",
              "\n",
              "    .dataframe tbody tr th {\n",
              "        vertical-align: top;\n",
              "    }\n",
              "\n",
              "    .dataframe thead th {\n",
              "        text-align: right;\n",
              "    }\n",
              "</style>\n",
              "<table border=\"1\" class=\"dataframe\">\n",
              "  <thead>\n",
              "    <tr style=\"text-align: right;\">\n",
              "      <th></th>\n",
              "      <th>CHLOROPHYLL</th>\n",
              "      <th>CHLOROPHYLL_A</th>\n",
              "      <th>CHLOROPHYLL_B</th>\n",
              "      <th>CLOUD_COVER</th>\n",
              "      <th>DATE</th>\n",
              "      <th>DEPTH_CLASS</th>\n",
              "      <th>DOC</th>\n",
              "      <th>ID</th>\n",
              "      <th>LATITUDE</th>\n",
              "      <th>LOCATION</th>\n",
              "      <th>...</th>\n",
              "      <th>red_mean</th>\n",
              "      <th>red_median</th>\n",
              "      <th>red_min</th>\n",
              "      <th>red_stdDev</th>\n",
              "      <th>swir1_max</th>\n",
              "      <th>swir1_mean</th>\n",
              "      <th>swir1_median</th>\n",
              "      <th>swir1_min</th>\n",
              "      <th>swir1_stdDev</th>\n",
              "      <th>system_index</th>\n",
              "    </tr>\n",
              "  </thead>\n",
              "  <tbody>\n",
              "    <tr>\n",
              "      <th>0</th>\n",
              "      <td>1.906667</td>\n",
              "      <td>9.326880</td>\n",
              "      <td>0.9149999999999994</td>\n",
              "      <td>22.92</td>\n",
              "      <td>2013-09-08 00:00:00</td>\n",
              "      <td>1</td>\n",
              "      <td>3.890</td>\n",
              "      <td>71</td>\n",
              "      <td>-2.258797</td>\n",
              "      <td>PQ</td>\n",
              "      <td>...</td>\n",
              "      <td>0.016346</td>\n",
              "      <td>0.016296</td>\n",
              "      <td>0.015931</td>\n",
              "      <td>0.000274</td>\n",
              "      <td>0.001309</td>\n",
              "      <td>0.001033</td>\n",
              "      <td>0.001150</td>\n",
              "      <td>0.000626</td>\n",
              "      <td>0.000211</td>\n",
              "      <td>71_BOA_LC08_228061_20130916</td>\n",
              "    </tr>\n",
              "    <tr>\n",
              "      <th>1</th>\n",
              "      <td>1.906667</td>\n",
              "      <td>9.326880</td>\n",
              "      <td>0.9149999999999994</td>\n",
              "      <td>28.02</td>\n",
              "      <td>2013-09-08 00:00:00</td>\n",
              "      <td>1</td>\n",
              "      <td>3.890</td>\n",
              "      <td>71</td>\n",
              "      <td>-2.258797</td>\n",
              "      <td>PQ</td>\n",
              "      <td>...</td>\n",
              "      <td>0.016570</td>\n",
              "      <td>0.016562</td>\n",
              "      <td>0.016166</td>\n",
              "      <td>0.000299</td>\n",
              "      <td>0.001356</td>\n",
              "      <td>0.001042</td>\n",
              "      <td>0.001169</td>\n",
              "      <td>0.000614</td>\n",
              "      <td>0.000227</td>\n",
              "      <td>71_BOA_LC08_228062_20130916</td>\n",
              "    </tr>\n",
              "    <tr>\n",
              "      <th>2</th>\n",
              "      <td>2.770000</td>\n",
              "      <td>43.918860</td>\n",
              "      <td>5.135179999999999</td>\n",
              "      <td>22.92</td>\n",
              "      <td>2013-09-08 00:00:00</td>\n",
              "      <td>1</td>\n",
              "      <td>4.128</td>\n",
              "      <td>72</td>\n",
              "      <td>-2.274821</td>\n",
              "      <td>PQ</td>\n",
              "      <td>...</td>\n",
              "      <td>0.002647</td>\n",
              "      <td>0.002738</td>\n",
              "      <td>0.001403</td>\n",
              "      <td>0.000821</td>\n",
              "      <td>0.004521</td>\n",
              "      <td>0.003330</td>\n",
              "      <td>0.004062</td>\n",
              "      <td>0.001570</td>\n",
              "      <td>0.001338</td>\n",
              "      <td>72_BOA_LC08_228061_20130916</td>\n",
              "    </tr>\n",
              "    <tr>\n",
              "      <th>3</th>\n",
              "      <td>2.770000</td>\n",
              "      <td>43.918860</td>\n",
              "      <td>5.135179999999999</td>\n",
              "      <td>28.02</td>\n",
              "      <td>2013-09-08 00:00:00</td>\n",
              "      <td>1</td>\n",
              "      <td>4.128</td>\n",
              "      <td>72</td>\n",
              "      <td>-2.274821</td>\n",
              "      <td>PQ</td>\n",
              "      <td>...</td>\n",
              "      <td>0.002856</td>\n",
              "      <td>0.003506</td>\n",
              "      <td>0.000321</td>\n",
              "      <td>0.001295</td>\n",
              "      <td>0.007359</td>\n",
              "      <td>0.003341</td>\n",
              "      <td>0.002768</td>\n",
              "      <td>0.001490</td>\n",
              "      <td>0.001967</td>\n",
              "      <td>72_BOA_LC08_228062_20130916</td>\n",
              "    </tr>\n",
              "    <tr>\n",
              "      <th>4</th>\n",
              "      <td>2.216667</td>\n",
              "      <td>44.738425</td>\n",
              "      <td>0.8987750000000037</td>\n",
              "      <td>22.92</td>\n",
              "      <td>2013-09-09 00:00:00</td>\n",
              "      <td>1</td>\n",
              "      <td>4.380</td>\n",
              "      <td>73</td>\n",
              "      <td>-2.251349</td>\n",
              "      <td>PQ</td>\n",
              "      <td>...</td>\n",
              "      <td>0.014612</td>\n",
              "      <td>0.014511</td>\n",
              "      <td>0.013753</td>\n",
              "      <td>0.000433</td>\n",
              "      <td>0.004788</td>\n",
              "      <td>0.003737</td>\n",
              "      <td>0.004146</td>\n",
              "      <td>0.003694</td>\n",
              "      <td>0.000346</td>\n",
              "      <td>73_BOA_LC08_228061_20130916</td>\n",
              "    </tr>\n",
              "    <tr>\n",
              "      <th>...</th>\n",
              "      <td>...</td>\n",
              "      <td>...</td>\n",
              "      <td>...</td>\n",
              "      <td>...</td>\n",
              "      <td>...</td>\n",
              "      <td>...</td>\n",
              "      <td>...</td>\n",
              "      <td>...</td>\n",
              "      <td>...</td>\n",
              "      <td>...</td>\n",
              "      <td>...</td>\n",
              "      <td>...</td>\n",
              "      <td>...</td>\n",
              "      <td>...</td>\n",
              "      <td>...</td>\n",
              "      <td>...</td>\n",
              "      <td>...</td>\n",
              "      <td>...</td>\n",
              "      <td>...</td>\n",
              "      <td>...</td>\n",
              "      <td>...</td>\n",
              "    </tr>\n",
              "    <tr>\n",
              "      <th>382</th>\n",
              "      <td>1.965000</td>\n",
              "      <td>28.245740</td>\n",
              "      <td>0.652440000000002</td>\n",
              "      <td>78.77</td>\n",
              "      <td>2017-04-11 00:00:00</td>\n",
              "      <td>1</td>\n",
              "      <td>6.237</td>\n",
              "      <td>337</td>\n",
              "      <td>-2.135144</td>\n",
              "      <td>GP</td>\n",
              "      <td>...</td>\n",
              "      <td>0.026322</td>\n",
              "      <td>0.026524</td>\n",
              "      <td>0.024744</td>\n",
              "      <td>0.000795</td>\n",
              "      <td>0.004916</td>\n",
              "      <td>0.002524</td>\n",
              "      <td>0.002283</td>\n",
              "      <td>0.001522</td>\n",
              "      <td>0.001149</td>\n",
              "      <td>337_BOA_LC08_228062_20170404</td>\n",
              "    </tr>\n",
              "    <tr>\n",
              "      <th>383</th>\n",
              "      <td>1.415000</td>\n",
              "      <td>20.927660</td>\n",
              "      <td>2.9448</td>\n",
              "      <td>60.80</td>\n",
              "      <td>2017-04-11 00:00:00</td>\n",
              "      <td>1</td>\n",
              "      <td>6.458</td>\n",
              "      <td>338</td>\n",
              "      <td>-2.113672</td>\n",
              "      <td>GP</td>\n",
              "      <td>...</td>\n",
              "      <td>0.022228</td>\n",
              "      <td>0.022542</td>\n",
              "      <td>0.020000</td>\n",
              "      <td>0.001660</td>\n",
              "      <td>0.002781</td>\n",
              "      <td>0.002019</td>\n",
              "      <td>0.002054</td>\n",
              "      <td>0.001393</td>\n",
              "      <td>0.000412</td>\n",
              "      <td>338_BOA_LC08_228061_20170404</td>\n",
              "    </tr>\n",
              "    <tr>\n",
              "      <th>384</th>\n",
              "      <td>1.415000</td>\n",
              "      <td>20.927660</td>\n",
              "      <td>2.9448</td>\n",
              "      <td>78.77</td>\n",
              "      <td>2017-04-11 00:00:00</td>\n",
              "      <td>1</td>\n",
              "      <td>6.458</td>\n",
              "      <td>338</td>\n",
              "      <td>-2.113672</td>\n",
              "      <td>GP</td>\n",
              "      <td>...</td>\n",
              "      <td>0.020196</td>\n",
              "      <td>0.020754</td>\n",
              "      <td>0.017658</td>\n",
              "      <td>0.001332</td>\n",
              "      <td>0.003225</td>\n",
              "      <td>0.001776</td>\n",
              "      <td>0.001557</td>\n",
              "      <td>0.000885</td>\n",
              "      <td>0.000701</td>\n",
              "      <td>338_BOA_LC08_228062_20170404</td>\n",
              "    </tr>\n",
              "    <tr>\n",
              "      <th>385</th>\n",
              "      <td>1.693333</td>\n",
              "      <td>47.550140</td>\n",
              "      <td>4.95269999999999</td>\n",
              "      <td>60.80</td>\n",
              "      <td>2017-04-18 00:00:00</td>\n",
              "      <td>1</td>\n",
              "      <td>6.693</td>\n",
              "      <td>356</td>\n",
              "      <td>-2.245385</td>\n",
              "      <td>LG</td>\n",
              "      <td>...</td>\n",
              "      <td>0.029736</td>\n",
              "      <td>0.030981</td>\n",
              "      <td>0.024184</td>\n",
              "      <td>0.003265</td>\n",
              "      <td>0.005700</td>\n",
              "      <td>0.004109</td>\n",
              "      <td>0.003656</td>\n",
              "      <td>0.003148</td>\n",
              "      <td>0.000892</td>\n",
              "      <td>356_BOA_LC08_228061_20170404</td>\n",
              "    </tr>\n",
              "    <tr>\n",
              "      <th>386</th>\n",
              "      <td>1.693333</td>\n",
              "      <td>47.550140</td>\n",
              "      <td>4.95269999999999</td>\n",
              "      <td>78.77</td>\n",
              "      <td>2017-04-18 00:00:00</td>\n",
              "      <td>1</td>\n",
              "      <td>6.693</td>\n",
              "      <td>356</td>\n",
              "      <td>-2.245385</td>\n",
              "      <td>LG</td>\n",
              "      <td>...</td>\n",
              "      <td>0.029481</td>\n",
              "      <td>0.029886</td>\n",
              "      <td>0.026921</td>\n",
              "      <td>0.000966</td>\n",
              "      <td>0.005186</td>\n",
              "      <td>0.004031</td>\n",
              "      <td>0.003835</td>\n",
              "      <td>0.003375</td>\n",
              "      <td>0.000499</td>\n",
              "      <td>356_BOA_LC08_228062_20170404</td>\n",
              "    </tr>\n",
              "  </tbody>\n",
              "</table>\n",
              "<p>291 rows × 54 columns</p>\n",
              "</div>\n",
              "    <div class=\"colab-df-buttons\">\n",
              "\n",
              "  <div class=\"colab-df-container\">\n",
              "    <button class=\"colab-df-convert\" onclick=\"convertToInteractive('df-cecae906-ec41-4ef1-a1b1-1ad171350587')\"\n",
              "            title=\"Convert this dataframe to an interactive table.\"\n",
              "            style=\"display:none;\">\n",
              "\n",
              "  <svg xmlns=\"http://www.w3.org/2000/svg\" height=\"24px\" viewBox=\"0 -960 960 960\">\n",
              "    <path d=\"M120-120v-720h720v720H120Zm60-500h600v-160H180v160Zm220 220h160v-160H400v160Zm0 220h160v-160H400v160ZM180-400h160v-160H180v160Zm440 0h160v-160H620v160ZM180-180h160v-160H180v160Zm440 0h160v-160H620v160Z\"/>\n",
              "  </svg>\n",
              "    </button>\n",
              "\n",
              "  <style>\n",
              "    .colab-df-container {\n",
              "      display:flex;\n",
              "      gap: 12px;\n",
              "    }\n",
              "\n",
              "    .colab-df-convert {\n",
              "      background-color: #E8F0FE;\n",
              "      border: none;\n",
              "      border-radius: 50%;\n",
              "      cursor: pointer;\n",
              "      display: none;\n",
              "      fill: #1967D2;\n",
              "      height: 32px;\n",
              "      padding: 0 0 0 0;\n",
              "      width: 32px;\n",
              "    }\n",
              "\n",
              "    .colab-df-convert:hover {\n",
              "      background-color: #E2EBFA;\n",
              "      box-shadow: 0px 1px 2px rgba(60, 64, 67, 0.3), 0px 1px 3px 1px rgba(60, 64, 67, 0.15);\n",
              "      fill: #174EA6;\n",
              "    }\n",
              "\n",
              "    .colab-df-buttons div {\n",
              "      margin-bottom: 4px;\n",
              "    }\n",
              "\n",
              "    [theme=dark] .colab-df-convert {\n",
              "      background-color: #3B4455;\n",
              "      fill: #D2E3FC;\n",
              "    }\n",
              "\n",
              "    [theme=dark] .colab-df-convert:hover {\n",
              "      background-color: #434B5C;\n",
              "      box-shadow: 0px 1px 3px 1px rgba(0, 0, 0, 0.15);\n",
              "      filter: drop-shadow(0px 1px 2px rgba(0, 0, 0, 0.3));\n",
              "      fill: #FFFFFF;\n",
              "    }\n",
              "  </style>\n",
              "\n",
              "    <script>\n",
              "      const buttonEl =\n",
              "        document.querySelector('#df-cecae906-ec41-4ef1-a1b1-1ad171350587 button.colab-df-convert');\n",
              "      buttonEl.style.display =\n",
              "        google.colab.kernel.accessAllowed ? 'block' : 'none';\n",
              "\n",
              "      async function convertToInteractive(key) {\n",
              "        const element = document.querySelector('#df-cecae906-ec41-4ef1-a1b1-1ad171350587');\n",
              "        const dataTable =\n",
              "          await google.colab.kernel.invokeFunction('convertToInteractive',\n",
              "                                                    [key], {});\n",
              "        if (!dataTable) return;\n",
              "\n",
              "        const docLinkHtml = 'Like what you see? Visit the ' +\n",
              "          '<a target=\"_blank\" href=https://colab.research.google.com/notebooks/data_table.ipynb>data table notebook</a>'\n",
              "          + ' to learn more about interactive tables.';\n",
              "        element.innerHTML = '';\n",
              "        dataTable['output_type'] = 'display_data';\n",
              "        await google.colab.output.renderOutput(dataTable, element);\n",
              "        const docLink = document.createElement('div');\n",
              "        docLink.innerHTML = docLinkHtml;\n",
              "        element.appendChild(docLink);\n",
              "      }\n",
              "    </script>\n",
              "  </div>\n",
              "\n",
              "\n",
              "<div id=\"df-871253f5-d6c0-4865-a700-9a0c50a2579c\">\n",
              "  <button class=\"colab-df-quickchart\" onclick=\"quickchart('df-871253f5-d6c0-4865-a700-9a0c50a2579c')\"\n",
              "            title=\"Suggest charts\"\n",
              "            style=\"display:none;\">\n",
              "\n",
              "<svg xmlns=\"http://www.w3.org/2000/svg\" height=\"24px\"viewBox=\"0 0 24 24\"\n",
              "     width=\"24px\">\n",
              "    <g>\n",
              "        <path d=\"M19 3H5c-1.1 0-2 .9-2 2v14c0 1.1.9 2 2 2h14c1.1 0 2-.9 2-2V5c0-1.1-.9-2-2-2zM9 17H7v-7h2v7zm4 0h-2V7h2v10zm4 0h-2v-4h2v4z\"/>\n",
              "    </g>\n",
              "</svg>\n",
              "  </button>\n",
              "\n",
              "<style>\n",
              "  .colab-df-quickchart {\n",
              "      --bg-color: #E8F0FE;\n",
              "      --fill-color: #1967D2;\n",
              "      --hover-bg-color: #E2EBFA;\n",
              "      --hover-fill-color: #174EA6;\n",
              "      --disabled-fill-color: #AAA;\n",
              "      --disabled-bg-color: #DDD;\n",
              "  }\n",
              "\n",
              "  [theme=dark] .colab-df-quickchart {\n",
              "      --bg-color: #3B4455;\n",
              "      --fill-color: #D2E3FC;\n",
              "      --hover-bg-color: #434B5C;\n",
              "      --hover-fill-color: #FFFFFF;\n",
              "      --disabled-bg-color: #3B4455;\n",
              "      --disabled-fill-color: #666;\n",
              "  }\n",
              "\n",
              "  .colab-df-quickchart {\n",
              "    background-color: var(--bg-color);\n",
              "    border: none;\n",
              "    border-radius: 50%;\n",
              "    cursor: pointer;\n",
              "    display: none;\n",
              "    fill: var(--fill-color);\n",
              "    height: 32px;\n",
              "    padding: 0;\n",
              "    width: 32px;\n",
              "  }\n",
              "\n",
              "  .colab-df-quickchart:hover {\n",
              "    background-color: var(--hover-bg-color);\n",
              "    box-shadow: 0 1px 2px rgba(60, 64, 67, 0.3), 0 1px 3px 1px rgba(60, 64, 67, 0.15);\n",
              "    fill: var(--button-hover-fill-color);\n",
              "  }\n",
              "\n",
              "  .colab-df-quickchart-complete:disabled,\n",
              "  .colab-df-quickchart-complete:disabled:hover {\n",
              "    background-color: var(--disabled-bg-color);\n",
              "    fill: var(--disabled-fill-color);\n",
              "    box-shadow: none;\n",
              "  }\n",
              "\n",
              "  .colab-df-spinner {\n",
              "    border: 2px solid var(--fill-color);\n",
              "    border-color: transparent;\n",
              "    border-bottom-color: var(--fill-color);\n",
              "    animation:\n",
              "      spin 1s steps(1) infinite;\n",
              "  }\n",
              "\n",
              "  @keyframes spin {\n",
              "    0% {\n",
              "      border-color: transparent;\n",
              "      border-bottom-color: var(--fill-color);\n",
              "      border-left-color: var(--fill-color);\n",
              "    }\n",
              "    20% {\n",
              "      border-color: transparent;\n",
              "      border-left-color: var(--fill-color);\n",
              "      border-top-color: var(--fill-color);\n",
              "    }\n",
              "    30% {\n",
              "      border-color: transparent;\n",
              "      border-left-color: var(--fill-color);\n",
              "      border-top-color: var(--fill-color);\n",
              "      border-right-color: var(--fill-color);\n",
              "    }\n",
              "    40% {\n",
              "      border-color: transparent;\n",
              "      border-right-color: var(--fill-color);\n",
              "      border-top-color: var(--fill-color);\n",
              "    }\n",
              "    60% {\n",
              "      border-color: transparent;\n",
              "      border-right-color: var(--fill-color);\n",
              "    }\n",
              "    80% {\n",
              "      border-color: transparent;\n",
              "      border-right-color: var(--fill-color);\n",
              "      border-bottom-color: var(--fill-color);\n",
              "    }\n",
              "    90% {\n",
              "      border-color: transparent;\n",
              "      border-bottom-color: var(--fill-color);\n",
              "    }\n",
              "  }\n",
              "</style>\n",
              "\n",
              "  <script>\n",
              "    async function quickchart(key) {\n",
              "      const quickchartButtonEl =\n",
              "        document.querySelector('#' + key + ' button');\n",
              "      quickchartButtonEl.disabled = true;  // To prevent multiple clicks.\n",
              "      quickchartButtonEl.classList.add('colab-df-spinner');\n",
              "      try {\n",
              "        const charts = await google.colab.kernel.invokeFunction(\n",
              "            'suggestCharts', [key], {});\n",
              "      } catch (error) {\n",
              "        console.error('Error during call to suggestCharts:', error);\n",
              "      }\n",
              "      quickchartButtonEl.classList.remove('colab-df-spinner');\n",
              "      quickchartButtonEl.classList.add('colab-df-quickchart-complete');\n",
              "    }\n",
              "    (() => {\n",
              "      let quickchartButtonEl =\n",
              "        document.querySelector('#df-871253f5-d6c0-4865-a700-9a0c50a2579c button');\n",
              "      quickchartButtonEl.style.display =\n",
              "        google.colab.kernel.accessAllowed ? 'block' : 'none';\n",
              "    })();\n",
              "  </script>\n",
              "</div>\n",
              "\n",
              "  <div id=\"id_14276c67-900a-42af-a3f8-f73adc006ab6\">\n",
              "    <style>\n",
              "      .colab-df-generate {\n",
              "        background-color: #E8F0FE;\n",
              "        border: none;\n",
              "        border-radius: 50%;\n",
              "        cursor: pointer;\n",
              "        display: none;\n",
              "        fill: #1967D2;\n",
              "        height: 32px;\n",
              "        padding: 0 0 0 0;\n",
              "        width: 32px;\n",
              "      }\n",
              "\n",
              "      .colab-df-generate:hover {\n",
              "        background-color: #E2EBFA;\n",
              "        box-shadow: 0px 1px 2px rgba(60, 64, 67, 0.3), 0px 1px 3px 1px rgba(60, 64, 67, 0.15);\n",
              "        fill: #174EA6;\n",
              "      }\n",
              "\n",
              "      [theme=dark] .colab-df-generate {\n",
              "        background-color: #3B4455;\n",
              "        fill: #D2E3FC;\n",
              "      }\n",
              "\n",
              "      [theme=dark] .colab-df-generate:hover {\n",
              "        background-color: #434B5C;\n",
              "        box-shadow: 0px 1px 3px 1px rgba(0, 0, 0, 0.15);\n",
              "        filter: drop-shadow(0px 1px 2px rgba(0, 0, 0, 0.3));\n",
              "        fill: #FFFFFF;\n",
              "      }\n",
              "    </style>\n",
              "    <button class=\"colab-df-generate\" onclick=\"generateWithVariable('ld8_df')\"\n",
              "            title=\"Generate code using this dataframe.\"\n",
              "            style=\"display:none;\">\n",
              "\n",
              "  <svg xmlns=\"http://www.w3.org/2000/svg\" height=\"24px\"viewBox=\"0 0 24 24\"\n",
              "       width=\"24px\">\n",
              "    <path d=\"M7,19H8.4L18.45,9,17,7.55,7,17.6ZM5,21V16.75L18.45,3.32a2,2,0,0,1,2.83,0l1.4,1.43a1.91,1.91,0,0,1,.58,1.4,1.91,1.91,0,0,1-.58,1.4L9.25,21ZM18.45,9,17,7.55Zm-12,3A5.31,5.31,0,0,0,4.9,8.1,5.31,5.31,0,0,0,1,6.5,5.31,5.31,0,0,0,4.9,4.9,5.31,5.31,0,0,0,6.5,1,5.31,5.31,0,0,0,8.1,4.9,5.31,5.31,0,0,0,12,6.5,5.46,5.46,0,0,0,6.5,12Z\"/>\n",
              "  </svg>\n",
              "    </button>\n",
              "    <script>\n",
              "      (() => {\n",
              "      const buttonEl =\n",
              "        document.querySelector('#id_14276c67-900a-42af-a3f8-f73adc006ab6 button.colab-df-generate');\n",
              "      buttonEl.style.display =\n",
              "        google.colab.kernel.accessAllowed ? 'block' : 'none';\n",
              "\n",
              "      buttonEl.onclick = () => {\n",
              "        google.colab.notebook.generateWithVariable('ld8_df');\n",
              "      }\n",
              "      })();\n",
              "    </script>\n",
              "  </div>\n",
              "\n",
              "    </div>\n",
              "  </div>\n"
            ],
            "application/vnd.google.colaboratory.intrinsic+json": {
              "type": "dataframe",
              "variable_name": "ld8_df"
            }
          },
          "metadata": {},
          "execution_count": 3
        }
      ]
    },
    {
      "cell_type": "code",
      "source": [
        "ld7_df = pd.read_csv(ld7_path)\n",
        "ld7_df = ld7_df.loc[(ld7_df['DEPTH_CLASS']==1) & (ld7_df['blue_stdDev'] < 0.025) & (ld7_df['green_stdDev'] < 0.025)].copy()\n",
        "ld7_df['dif_date_point_abs'] = ld7_df['dif_date_point'].apply(lambda x : abs(x))\n",
        "ld7_df.columns"
      ],
      "metadata": {
        "colab": {
          "base_uri": "https://localhost:8080/"
        },
        "id": "Uy2L0YaXUJsq",
        "outputId": "554e399e-b45a-42d5-ba85-6f476c8a98af"
      },
      "execution_count": 97,
      "outputs": [
        {
          "output_type": "execute_result",
          "data": {
            "text/plain": [
              "Index(['CHLOROPHYLL', 'CHLOROPHYLL_A', 'CHLOROPHYLL_B', 'CLOUD_COVER', 'DATE',\n",
              "       'DEPTH_CLASS', 'DOC', 'ID', 'LATITUDE', 'LOCATION', 'LONGITUDE',\n",
              "       'MISSION', 'N_TOTAL', 'N_TOTAL_DISSOLVED', 'POC', 'P_ORGANIC',\n",
              "       'P_TOTAL', 'SAMPLE_SITE', 'SAMPLING_DEPTH', 'SILICA', 'SPM', 'TOC',\n",
              "       'TOTAL_DEPTH', 'TURBIDITY', 'WATER_PERIOD', 'blue_max', 'blue_mean',\n",
              "       'blue_median', 'blue_min', 'blue_stdDev', 'count_pixel',\n",
              "       'dif_date_point', 'green_max', 'green_mean', 'green_median',\n",
              "       'green_min', 'green_stdDev', 'img_date', 'nir_max', 'nir_mean',\n",
              "       'nir_median', 'nir_min', 'nir_stdDev', 'red_max', 'red_mean',\n",
              "       'red_median', 'red_min', 'red_stdDev', 'swir1_max', 'swir1_mean',\n",
              "       'swir1_median', 'swir1_min', 'swir1_stdDev', 'system_index',\n",
              "       'dif_date_point_abs'],\n",
              "      dtype='object')"
            ]
          },
          "metadata": {},
          "execution_count": 97
        }
      ]
    },
    {
      "cell_type": "code",
      "source": [
        "ID_ld7 = ld7_df['ID'].unique()\n",
        "ID_ld8 = ld8_df['ID'].unique()\n",
        "\n",
        "DATE_ld7 = ld7_df['DATE'].unique()\n",
        "DATE_ld8 = ld8_df['DATE'].unique()\n",
        "\n",
        "\n",
        "SAMPLE_SITE_ld7 = ld7_df['SAMPLE_SITE'].unique()\n",
        "SAMPLE_SITE_ld8 = ld8_df['SAMPLE_SITE'].unique()\n"
      ],
      "metadata": {
        "id": "dxnEvcfyVa47"
      },
      "execution_count": 100,
      "outputs": []
    },
    {
      "cell_type": "code",
      "source": [
        "x = ld7_df.groupby(['DATE','SAMPLE_SITE'])['system_index'].count()\n",
        "z = x.loc[(x<2)]\n",
        "z.count()"
      ],
      "metadata": {
        "colab": {
          "base_uri": "https://localhost:8080/"
        },
        "id": "SzFsveZmmdYM",
        "outputId": "5dca4381-b795-4687-907a-aa8b8ab6d692"
      },
      "execution_count": 101,
      "outputs": [
        {
          "output_type": "execute_result",
          "data": {
            "text/plain": [
              "30"
            ]
          },
          "metadata": {},
          "execution_count": 101
        }
      ]
    },
    {
      "cell_type": "code",
      "source": [
        "y = x.loc[(x>2)]\n",
        "y.count()"
      ],
      "metadata": {
        "colab": {
          "base_uri": "https://localhost:8080/"
        },
        "id": "N5k2iIZboFDF",
        "outputId": "85c86bdd-60c8-4c8b-8aa2-f12ad4d8fc92"
      },
      "execution_count": 102,
      "outputs": [
        {
          "output_type": "execute_result",
          "data": {
            "text/plain": [
              "37"
            ]
          },
          "metadata": {},
          "execution_count": 102
        }
      ]
    },
    {
      "cell_type": "code",
      "source": [
        "v = x.loc[(x==2)]\n",
        "v.count()"
      ],
      "metadata": {
        "colab": {
          "base_uri": "https://localhost:8080/"
        },
        "id": "hLFUY7rPo-Jc",
        "outputId": "505db03b-35d7-45ca-a6e0-2eb6ce0c30b5"
      },
      "execution_count": 103,
      "outputs": [
        {
          "output_type": "execute_result",
          "data": {
            "text/plain": [
              "113"
            ]
          },
          "metadata": {},
          "execution_count": 103
        }
      ]
    },
    {
      "cell_type": "code",
      "source": [
        "list_duplicatesld7 = []\n",
        "list_multipleld7 = []\n",
        "list_ld7 = []\n",
        "for i in DATE_ld7:\n",
        "  for j in SAMPLE_SITE_ld7:\n",
        "    gdf = ld7_df.loc[(ld7_df['DATE'] == i) & (ld7_df['SAMPLE_SITE'] == j)].copy()\n",
        "    gdf = gdf.loc[gdf['dif_date_point_abs'] == gdf['dif_date_point_abs'].min()].copy()\n",
        "    if len(gdf) == 2:\n",
        "      list_duplicatesld7.append(gdf)\n",
        "    elif len(gdf) > 2:\n",
        "      list_multipleld7.append(gdf)\n",
        "    elif len(gdf) ==1:\n",
        "      list_ld7.append(gdf)\n",
        "print(len(list_duplicatesld7))\n",
        "print(len(list_multipleld7))\n",
        "print(len(list_ld7))"
      ],
      "metadata": {
        "colab": {
          "base_uri": "https://localhost:8080/"
        },
        "id": "Y_h_54zsbnUt",
        "outputId": "ff7f9fe6-7454-42fe-ab2b-17a178d55177"
      },
      "execution_count": 110,
      "outputs": [
        {
          "output_type": "stream",
          "name": "stdout",
          "text": [
            "0\n",
            "0\n",
            "180\n"
          ]
        }
      ]
    },
    {
      "cell_type": "code",
      "source": [
        "list_ld7[35][['SAMPLE_SITE','dif_date_point_abs','count_pixel','system_index','swir1_stdDev','nir_stdDev','red_stdDev','green_stdDev','blue_stdDev']]"
      ],
      "metadata": {
        "colab": {
          "base_uri": "https://localhost:8080/",
          "height": 81
        },
        "id": "BtQ1qIyplXCH",
        "outputId": "e760c9cd-4f12-49f2-a2a8-7cd6c5f4e5ec"
      },
      "execution_count": 112,
      "outputs": [
        {
          "output_type": "execute_result",
          "data": {
            "text/plain": [
              "     SAMPLE_SITE  dif_date_point_abs  count_pixel  \\\n",
              "111           28           12.576193            9   \n",
              "\n",
              "                     system_index  swir1_stdDev  nir_stdDev  red_stdDev  \\\n",
              "111  103_BOA_LE07_228061_20130924      0.001351    0.000664    0.000888   \n",
              "\n",
              "     green_stdDev  blue_stdDev  \n",
              "111       0.00069     0.000688  "
            ],
            "text/html": [
              "\n",
              "  <div id=\"df-dd37f91f-a844-478c-b1c6-d34594c0b17e\" class=\"colab-df-container\">\n",
              "    <div>\n",
              "<style scoped>\n",
              "    .dataframe tbody tr th:only-of-type {\n",
              "        vertical-align: middle;\n",
              "    }\n",
              "\n",
              "    .dataframe tbody tr th {\n",
              "        vertical-align: top;\n",
              "    }\n",
              "\n",
              "    .dataframe thead th {\n",
              "        text-align: right;\n",
              "    }\n",
              "</style>\n",
              "<table border=\"1\" class=\"dataframe\">\n",
              "  <thead>\n",
              "    <tr style=\"text-align: right;\">\n",
              "      <th></th>\n",
              "      <th>SAMPLE_SITE</th>\n",
              "      <th>dif_date_point_abs</th>\n",
              "      <th>count_pixel</th>\n",
              "      <th>system_index</th>\n",
              "      <th>swir1_stdDev</th>\n",
              "      <th>nir_stdDev</th>\n",
              "      <th>red_stdDev</th>\n",
              "      <th>green_stdDev</th>\n",
              "      <th>blue_stdDev</th>\n",
              "    </tr>\n",
              "  </thead>\n",
              "  <tbody>\n",
              "    <tr>\n",
              "      <th>111</th>\n",
              "      <td>28</td>\n",
              "      <td>12.576193</td>\n",
              "      <td>9</td>\n",
              "      <td>103_BOA_LE07_228061_20130924</td>\n",
              "      <td>0.001351</td>\n",
              "      <td>0.000664</td>\n",
              "      <td>0.000888</td>\n",
              "      <td>0.00069</td>\n",
              "      <td>0.000688</td>\n",
              "    </tr>\n",
              "  </tbody>\n",
              "</table>\n",
              "</div>\n",
              "    <div class=\"colab-df-buttons\">\n",
              "\n",
              "  <div class=\"colab-df-container\">\n",
              "    <button class=\"colab-df-convert\" onclick=\"convertToInteractive('df-dd37f91f-a844-478c-b1c6-d34594c0b17e')\"\n",
              "            title=\"Convert this dataframe to an interactive table.\"\n",
              "            style=\"display:none;\">\n",
              "\n",
              "  <svg xmlns=\"http://www.w3.org/2000/svg\" height=\"24px\" viewBox=\"0 -960 960 960\">\n",
              "    <path d=\"M120-120v-720h720v720H120Zm60-500h600v-160H180v160Zm220 220h160v-160H400v160Zm0 220h160v-160H400v160ZM180-400h160v-160H180v160Zm440 0h160v-160H620v160ZM180-180h160v-160H180v160Zm440 0h160v-160H620v160Z\"/>\n",
              "  </svg>\n",
              "    </button>\n",
              "\n",
              "  <style>\n",
              "    .colab-df-container {\n",
              "      display:flex;\n",
              "      gap: 12px;\n",
              "    }\n",
              "\n",
              "    .colab-df-convert {\n",
              "      background-color: #E8F0FE;\n",
              "      border: none;\n",
              "      border-radius: 50%;\n",
              "      cursor: pointer;\n",
              "      display: none;\n",
              "      fill: #1967D2;\n",
              "      height: 32px;\n",
              "      padding: 0 0 0 0;\n",
              "      width: 32px;\n",
              "    }\n",
              "\n",
              "    .colab-df-convert:hover {\n",
              "      background-color: #E2EBFA;\n",
              "      box-shadow: 0px 1px 2px rgba(60, 64, 67, 0.3), 0px 1px 3px 1px rgba(60, 64, 67, 0.15);\n",
              "      fill: #174EA6;\n",
              "    }\n",
              "\n",
              "    .colab-df-buttons div {\n",
              "      margin-bottom: 4px;\n",
              "    }\n",
              "\n",
              "    [theme=dark] .colab-df-convert {\n",
              "      background-color: #3B4455;\n",
              "      fill: #D2E3FC;\n",
              "    }\n",
              "\n",
              "    [theme=dark] .colab-df-convert:hover {\n",
              "      background-color: #434B5C;\n",
              "      box-shadow: 0px 1px 3px 1px rgba(0, 0, 0, 0.15);\n",
              "      filter: drop-shadow(0px 1px 2px rgba(0, 0, 0, 0.3));\n",
              "      fill: #FFFFFF;\n",
              "    }\n",
              "  </style>\n",
              "\n",
              "    <script>\n",
              "      const buttonEl =\n",
              "        document.querySelector('#df-dd37f91f-a844-478c-b1c6-d34594c0b17e button.colab-df-convert');\n",
              "      buttonEl.style.display =\n",
              "        google.colab.kernel.accessAllowed ? 'block' : 'none';\n",
              "\n",
              "      async function convertToInteractive(key) {\n",
              "        const element = document.querySelector('#df-dd37f91f-a844-478c-b1c6-d34594c0b17e');\n",
              "        const dataTable =\n",
              "          await google.colab.kernel.invokeFunction('convertToInteractive',\n",
              "                                                    [key], {});\n",
              "        if (!dataTable) return;\n",
              "\n",
              "        const docLinkHtml = 'Like what you see? Visit the ' +\n",
              "          '<a target=\"_blank\" href=https://colab.research.google.com/notebooks/data_table.ipynb>data table notebook</a>'\n",
              "          + ' to learn more about interactive tables.';\n",
              "        element.innerHTML = '';\n",
              "        dataTable['output_type'] = 'display_data';\n",
              "        await google.colab.output.renderOutput(dataTable, element);\n",
              "        const docLink = document.createElement('div');\n",
              "        docLink.innerHTML = docLinkHtml;\n",
              "        element.appendChild(docLink);\n",
              "      }\n",
              "    </script>\n",
              "  </div>\n",
              "\n",
              "\n",
              "    </div>\n",
              "  </div>\n"
            ],
            "application/vnd.google.colaboratory.intrinsic+json": {
              "type": "dataframe",
              "summary": "{\n  \"name\": \"list_ld7[35][['SAMPLE_SITE','dif_date_point_abs','count_pixel','system_index','swir1_stdDev','nir_stdDev','red_stdDev','green_stdDev','blue_stdDev']]\",\n  \"rows\": 1,\n  \"fields\": [\n    {\n      \"column\": \"SAMPLE_SITE\",\n      \"properties\": {\n        \"dtype\": \"number\",\n        \"std\": null,\n        \"min\": 28,\n        \"max\": 28,\n        \"num_unique_values\": 1,\n        \"samples\": [\n          28\n        ],\n        \"semantic_type\": \"\",\n        \"description\": \"\"\n      }\n    },\n    {\n      \"column\": \"dif_date_point_abs\",\n      \"properties\": {\n        \"dtype\": \"number\",\n        \"std\": null,\n        \"min\": 12.576193472222222,\n        \"max\": 12.576193472222222,\n        \"num_unique_values\": 1,\n        \"samples\": [\n          12.576193472222222\n        ],\n        \"semantic_type\": \"\",\n        \"description\": \"\"\n      }\n    },\n    {\n      \"column\": \"count_pixel\",\n      \"properties\": {\n        \"dtype\": \"number\",\n        \"std\": null,\n        \"min\": 9,\n        \"max\": 9,\n        \"num_unique_values\": 1,\n        \"samples\": [\n          9\n        ],\n        \"semantic_type\": \"\",\n        \"description\": \"\"\n      }\n    },\n    {\n      \"column\": \"system_index\",\n      \"properties\": {\n        \"dtype\": \"string\",\n        \"num_unique_values\": 1,\n        \"samples\": [\n          \"103_BOA_LE07_228061_20130924\"\n        ],\n        \"semantic_type\": \"\",\n        \"description\": \"\"\n      }\n    },\n    {\n      \"column\": \"swir1_stdDev\",\n      \"properties\": {\n        \"dtype\": \"number\",\n        \"std\": null,\n        \"min\": 0.001351186497928,\n        \"max\": 0.001351186497928,\n        \"num_unique_values\": 1,\n        \"samples\": [\n          0.001351186497928\n        ],\n        \"semantic_type\": \"\",\n        \"description\": \"\"\n      }\n    },\n    {\n      \"column\": \"nir_stdDev\",\n      \"properties\": {\n        \"dtype\": \"number\",\n        \"std\": null,\n        \"min\": 0.0006640962053443,\n        \"max\": 0.0006640962053443,\n        \"num_unique_values\": 1,\n        \"samples\": [\n          0.0006640962053443\n        ],\n        \"semantic_type\": \"\",\n        \"description\": \"\"\n      }\n    },\n    {\n      \"column\": \"red_stdDev\",\n      \"properties\": {\n        \"dtype\": \"number\",\n        \"std\": null,\n        \"min\": 0.0008877768380239,\n        \"max\": 0.0008877768380239,\n        \"num_unique_values\": 1,\n        \"samples\": [\n          0.0008877768380239\n        ],\n        \"semantic_type\": \"\",\n        \"description\": \"\"\n      }\n    },\n    {\n      \"column\": \"green_stdDev\",\n      \"properties\": {\n        \"dtype\": \"number\",\n        \"std\": null,\n        \"min\": 0.0006900508857463,\n        \"max\": 0.0006900508857463,\n        \"num_unique_values\": 1,\n        \"samples\": [\n          0.0006900508857463\n        ],\n        \"semantic_type\": \"\",\n        \"description\": \"\"\n      }\n    },\n    {\n      \"column\": \"blue_stdDev\",\n      \"properties\": {\n        \"dtype\": \"number\",\n        \"std\": null,\n        \"min\": 0.0006881419059336,\n        \"max\": 0.0006881419059336,\n        \"num_unique_values\": 1,\n        \"samples\": [\n          0.0006881419059336\n        ],\n        \"semantic_type\": \"\",\n        \"description\": \"\"\n      }\n    }\n  ]\n}"
            }
          },
          "metadata": {},
          "execution_count": 112
        }
      ]
    },
    {
      "cell_type": "code",
      "source": [
        "list_multipleld7[15][['dif_date_point']].min()"
      ],
      "metadata": {
        "colab": {
          "base_uri": "https://localhost:8080/",
          "height": 116
        },
        "id": "zfTU5hblLR0c",
        "outputId": "aea03c14-98ef-4a89-c306-557bf9f96da2"
      },
      "execution_count": 96,
      "outputs": [
        {
          "output_type": "execute_result",
          "data": {
            "text/plain": [
              "dif_date_point   -15.422048\n",
              "dtype: float64"
            ],
            "text/html": [
              "<div>\n",
              "<style scoped>\n",
              "    .dataframe tbody tr th:only-of-type {\n",
              "        vertical-align: middle;\n",
              "    }\n",
              "\n",
              "    .dataframe tbody tr th {\n",
              "        vertical-align: top;\n",
              "    }\n",
              "\n",
              "    .dataframe thead th {\n",
              "        text-align: right;\n",
              "    }\n",
              "</style>\n",
              "<table border=\"1\" class=\"dataframe\">\n",
              "  <thead>\n",
              "    <tr style=\"text-align: right;\">\n",
              "      <th></th>\n",
              "      <th>0</th>\n",
              "    </tr>\n",
              "  </thead>\n",
              "  <tbody>\n",
              "    <tr>\n",
              "      <th>dif_date_point</th>\n",
              "      <td>-15.422048</td>\n",
              "    </tr>\n",
              "  </tbody>\n",
              "</table>\n",
              "</div><br><label><b>dtype:</b> float64</label>"
            ]
          },
          "metadata": {},
          "execution_count": 96
        }
      ]
    },
    {
      "cell_type": "code",
      "source": [
        "sns.scatterplot(data=ld7_df, x=\"SPM\", y=\"red_stdDev\")"
      ],
      "metadata": {
        "colab": {
          "base_uri": "https://localhost:8080/",
          "height": 466
        },
        "id": "FFNfo5hWjkRK",
        "outputId": "4676566d-c34f-483c-88eb-cd973c6776cf"
      },
      "execution_count": 28,
      "outputs": [
        {
          "output_type": "execute_result",
          "data": {
            "text/plain": [
              "<Axes: xlabel='SPM', ylabel='red_stdDev'>"
            ]
          },
          "metadata": {},
          "execution_count": 28
        },
        {
          "output_type": "display_data",
          "data": {
            "text/plain": [
              "<Figure size 640x480 with 1 Axes>"
            ],
            "image/png": "[encoded data removed]"
          },
          "metadata": {}
        }
      ]
    },
    {
      "cell_type": "code",
      "source": [
        "sns.scatterplot(data=ld7_df, x=\"SPM\", y=\"blue_stdDev\")"
      ],
      "metadata": {
        "colab": {
          "base_uri": "https://localhost:8080/",
          "height": 466
        },
        "id": "wyiLGcxxj2si",
        "outputId": "26b55d6d-9b90-4e80-87db-b71dd7b3f656"
      },
      "execution_count": 29,
      "outputs": [
        {
          "output_type": "execute_result",
          "data": {
            "text/plain": [
              "<Axes: xlabel='SPM', ylabel='blue_stdDev'>"
            ]
          },
          "metadata": {},
          "execution_count": 29
        },
        {
          "output_type": "display_data",
          "data": {
            "text/plain": [
              "<Figure size 640x480 with 1 Axes>"
            ],
            "image/png": "[encoded data removed]"
          },
          "metadata": {}
        }
      ]
    },
    {
      "cell_type": "code",
      "source": [
        "sns.scatterplot(data=ld7_df, x=\"SPM\", y=\"green_stdDev\")"
      ],
      "metadata": {
        "colab": {
          "base_uri": "https://localhost:8080/",
          "height": 466
        },
        "id": "x_sporOhj9pQ",
        "outputId": "448cd5df-ba39-4449-8c07-33b427829a0d"
      },
      "execution_count": 30,
      "outputs": [
        {
          "output_type": "execute_result",
          "data": {
            "text/plain": [
              "<Axes: xlabel='SPM', ylabel='green_stdDev'>"
            ]
          },
          "metadata": {},
          "execution_count": 30
        },
        {
          "output_type": "display_data",
          "data": {
            "text/plain": [
              "<Figure size 640x480 with 1 Axes>"
            ],
            "image/png": "[encoded data removed]"
          },
          "metadata": {}
        }
      ]
    },
    {
      "cell_type": "code",
      "source": [
        "sns.scatterplot(data=ld7_df, x=\"SPM\", y=\"nir_stdDev\")"
      ],
      "metadata": {
        "colab": {
          "base_uri": "https://localhost:8080/",
          "height": 466
        },
        "id": "cEYiDF1-kBSX",
        "outputId": "9c528253-ae41-407d-9931-967247ed3245"
      },
      "execution_count": 31,
      "outputs": [
        {
          "output_type": "execute_result",
          "data": {
            "text/plain": [
              "<Axes: xlabel='SPM', ylabel='nir_stdDev'>"
            ]
          },
          "metadata": {},
          "execution_count": 31
        },
        {
          "output_type": "display_data",
          "data": {
            "text/plain": [
              "<Figure size 640x480 with 1 Axes>"
            ],
            "image/png": "[encoded data removed]"
          },
          "metadata": {}
        }
      ]
    },
    {
      "cell_type": "code",
      "source": [
        "sns.scatterplot(data=ld7_df, x=\"SPM\", y=\"swir1_stdDev\")"
      ],
      "metadata": {
        "colab": {
          "base_uri": "https://localhost:8080/",
          "height": 466
        },
        "id": "Bq1ryKUikIMb",
        "outputId": "5eecc15d-faa3-471f-8a34-49c5b7142755"
      },
      "execution_count": 32,
      "outputs": [
        {
          "output_type": "execute_result",
          "data": {
            "text/plain": [
              "<Axes: xlabel='SPM', ylabel='swir1_stdDev'>"
            ]
          },
          "metadata": {},
          "execution_count": 32
        },
        {
          "output_type": "display_data",
          "data": {
            "text/plain": [
              "<Figure size 640x480 with 1 Axes>"
            ],
            "image/png": "[encoded data removed]"
          },
          "metadata": {}
        }
      ]
    }
  ]
}