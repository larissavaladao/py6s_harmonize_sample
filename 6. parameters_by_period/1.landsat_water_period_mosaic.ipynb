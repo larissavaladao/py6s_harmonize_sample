{
  "cells": [
    {
      "cell_type": "markdown",
      "metadata": {
        "id": "view-in-github",
        "colab_type": "text"
      },
      "source": [
        "<a href=\"https://colab.research.google.com/github/larissavaladao/time_series_curuai/blob/main/6.%20parameters_by_period/1.landsat_water_period_mosaic.ipynb\" target=\"_parent\"><img src=\"https://colab.research.google.com/assets/colab-badge.svg\" alt=\"Open In Colab\"/></a>"
      ]
    },
    {
      "cell_type": "code",
      "execution_count": 1,
      "metadata": {
        "id": "j9tzG_v0PsNr"
      },
      "outputs": [],
      "source": [
        "import geopandas as gpd\n",
        "import pandas as pd\n",
        "import math\n",
        "import ee\n",
        "import geemap\n",
        "import json"
      ]
    },
    {
      "cell_type": "code",
      "execution_count": 2,
      "metadata": {
        "colab": {
          "base_uri": "https://localhost:8080/",
          "height": 17
        },
        "id": "c1jYliSHPsNs",
        "outputId": "f2dc40e6-782d-4e72-f90a-c5b50c6ef7e3"
      },
      "outputs": [
        {
          "output_type": "display_data",
          "data": {
            "text/plain": [
              "<IPython.core.display.HTML object>"
            ],
            "text/html": [
              "\n",
              "            <style>\n",
              "                .geemap-dark {\n",
              "                    --jp-widgets-color: white;\n",
              "                    --jp-widgets-label-color: white;\n",
              "                    --jp-ui-font-color1: white;\n",
              "                    --jp-layout-color2: #454545;\n",
              "                    background-color: #383838;\n",
              "                }\n",
              "\n",
              "                .geemap-dark .jupyter-button {\n",
              "                    --jp-layout-color3: #383838;\n",
              "                }\n",
              "\n",
              "                .geemap-colab {\n",
              "                    background-color: var(--colab-primary-surface-color, white);\n",
              "                }\n",
              "\n",
              "                .geemap-colab .jupyter-button {\n",
              "                    --jp-layout-color3: var(--colab-primary-surface-color, white);\n",
              "                }\n",
              "            </style>\n",
              "            "
            ]
          },
          "metadata": {}
        }
      ],
      "source": [
        "ee.Authenticate()\n",
        "ee.Initialize(project='ee-curuai2')"
      ]
    },
    {
      "cell_type": "code",
      "execution_count": 3,
      "metadata": {
        "colab": {
          "base_uri": "https://localhost:8080/",
          "height": 54
        },
        "id": "3ZA7T5nPPsNt",
        "outputId": "07c9be73-2d12-4d96-94a4-24347076737f"
      },
      "outputs": [
        {
          "output_type": "display_data",
          "data": {
            "text/plain": [
              "<IPython.core.display.HTML object>"
            ],
            "text/html": [
              "\n",
              "            <style>\n",
              "                .geemap-dark {\n",
              "                    --jp-widgets-color: white;\n",
              "                    --jp-widgets-label-color: white;\n",
              "                    --jp-ui-font-color1: white;\n",
              "                    --jp-layout-color2: #454545;\n",
              "                    background-color: #383838;\n",
              "                }\n",
              "\n",
              "                .geemap-dark .jupyter-button {\n",
              "                    --jp-layout-color3: #383838;\n",
              "                }\n",
              "\n",
              "                .geemap-colab {\n",
              "                    background-color: var(--colab-primary-surface-color, white);\n",
              "                }\n",
              "\n",
              "                .geemap-colab .jupyter-button {\n",
              "                    --jp-layout-color3: var(--colab-primary-surface-color, white);\n",
              "                }\n",
              "            </style>\n",
              "            "
            ]
          },
          "metadata": {}
        },
        {
          "output_type": "stream",
          "name": "stdout",
          "text": [
            "Drive already mounted at /content/drive; to attempt to forcibly remount, call drive.mount(\"/content/drive\", force_remount=True).\n"
          ]
        }
      ],
      "source": [
        "from google.colab import drive\n",
        "drive.mount('/content/drive')"
      ]
    },
    {
      "cell_type": "markdown",
      "metadata": {
        "id": "tDL2BheXPsNt"
      },
      "source": [
        "# Import image collections"
      ]
    },
    {
      "cell_type": "markdown",
      "metadata": {
        "id": "4vvm1wxjPsNu"
      },
      "source": [
        "Landsat 7 - PY6S"
      ]
    },
    {
      "cell_type": "code",
      "execution_count": 4,
      "metadata": {
        "colab": {
          "base_uri": "https://localhost:8080/",
          "height": 0
        },
        "id": "nodKpsDSPsNu",
        "outputId": "3d941592-d986-4656-a1e1-407bdc8d9817"
      },
      "outputs": [
        {
          "output_type": "display_data",
          "data": {
            "text/plain": [
              "<IPython.core.display.HTML object>"
            ],
            "text/html": [
              "\n",
              "            <style>\n",
              "                .geemap-dark {\n",
              "                    --jp-widgets-color: white;\n",
              "                    --jp-widgets-label-color: white;\n",
              "                    --jp-ui-font-color1: white;\n",
              "                    --jp-layout-color2: #454545;\n",
              "                    background-color: #383838;\n",
              "                }\n",
              "\n",
              "                .geemap-dark .jupyter-button {\n",
              "                    --jp-layout-color3: #383838;\n",
              "                }\n",
              "\n",
              "                .geemap-colab {\n",
              "                    background-color: var(--colab-primary-surface-color, white);\n",
              "                }\n",
              "\n",
              "                .geemap-colab .jupyter-button {\n",
              "                    --jp-layout-color3: var(--colab-primary-surface-color, white);\n",
              "                }\n",
              "            </style>\n",
              "            "
            ]
          },
          "metadata": {}
        },
        {
          "output_type": "stream",
          "name": "stdout",
          "text": [
            "2000-01-24T13:46:48\n",
            "2024-01-16T11:16:49\n"
          ]
        }
      ],
      "source": [
        "landsat7 = ee.ImageCollection(\"projects/ee-curuai/assets/Py6S/LD7/Landsat7\")\\\n",
        "            .select([ 'B1', 'B2', 'B3', 'B4', 'B5', 'B7'])\n",
        "print(ee.Date(landsat7.sort('system:time_start',True).first().get('system:time_start')).format().getInfo())\n",
        "print(ee.Date(landsat7.sort('system:time_start',False).first().get('system:time_start')).format().getInfo())"
      ]
    },
    {
      "cell_type": "code",
      "execution_count": 5,
      "metadata": {
        "colab": {
          "base_uri": "https://localhost:8080/",
          "height": 0
        },
        "id": "4BLH7eniPsNu",
        "outputId": "d77c8a8a-9bdd-4f80-db02-5ab3e58628c3"
      },
      "outputs": [
        {
          "output_type": "display_data",
          "data": {
            "text/plain": [
              "<IPython.core.display.HTML object>"
            ],
            "text/html": [
              "\n",
              "            <style>\n",
              "                .geemap-dark {\n",
              "                    --jp-widgets-color: white;\n",
              "                    --jp-widgets-label-color: white;\n",
              "                    --jp-ui-font-color1: white;\n",
              "                    --jp-layout-color2: #454545;\n",
              "                    background-color: #383838;\n",
              "                }\n",
              "\n",
              "                .geemap-dark .jupyter-button {\n",
              "                    --jp-layout-color3: #383838;\n",
              "                }\n",
              "\n",
              "                .geemap-colab {\n",
              "                    background-color: var(--colab-primary-surface-color, white);\n",
              "                }\n",
              "\n",
              "                .geemap-colab .jupyter-button {\n",
              "                    --jp-layout-color3: var(--colab-primary-surface-color, white);\n",
              "                }\n",
              "            </style>\n",
              "            "
            ]
          },
          "metadata": {}
        },
        {
          "output_type": "stream",
          "name": "stdout",
          "text": [
            "{'227.0': 624, '228.0': 729, '229.0': 13}\n",
            "{'61.0': 685, '62.0': 681}\n"
          ]
        }
      ],
      "source": [
        "print(landsat7.aggregate_histogram('WRS_PATH').getInfo())\n",
        "print(landsat7.aggregate_histogram('WRS_ROW').getInfo())"
      ]
    },
    {
      "cell_type": "code",
      "execution_count": 6,
      "metadata": {
        "colab": {
          "base_uri": "https://localhost:8080/",
          "height": 0
        },
        "id": "sbw5dmBOPsNv",
        "outputId": "ef0e5351-b923-487d-abe1-21dd00b10fdd"
      },
      "outputs": [
        {
          "output_type": "display_data",
          "data": {
            "text/plain": [
              "<IPython.core.display.HTML object>"
            ],
            "text/html": [
              "\n",
              "            <style>\n",
              "                .geemap-dark {\n",
              "                    --jp-widgets-color: white;\n",
              "                    --jp-widgets-label-color: white;\n",
              "                    --jp-ui-font-color1: white;\n",
              "                    --jp-layout-color2: #454545;\n",
              "                    background-color: #383838;\n",
              "                }\n",
              "\n",
              "                .geemap-dark .jupyter-button {\n",
              "                    --jp-layout-color3: #383838;\n",
              "                }\n",
              "\n",
              "                .geemap-colab {\n",
              "                    background-color: var(--colab-primary-surface-color, white);\n",
              "                }\n",
              "\n",
              "                .geemap-colab .jupyter-button {\n",
              "                    --jp-layout-color3: var(--colab-primary-surface-color, white);\n",
              "                }\n",
              "            </style>\n",
              "            "
            ]
          },
          "metadata": {}
        },
        {
          "output_type": "stream",
          "name": "stdout",
          "text": [
            "{'61.0': 298, '62.0': 326}\n",
            "{'61.0': 380, '62.0': 349}\n"
          ]
        }
      ],
      "source": [
        "print(landsat7.filter(ee.Filter.eq('WRS_PATH',227.0)).aggregate_histogram('WRS_ROW').getInfo())\n",
        "print(landsat7.filter(ee.Filter.eq('WRS_PATH',228.0)).aggregate_histogram('WRS_ROW').getInfo())"
      ]
    },
    {
      "cell_type": "markdown",
      "metadata": {
        "id": "tsct5Lw7PsNv"
      },
      "source": [
        "Landsat 8 PY6S"
      ]
    },
    {
      "cell_type": "code",
      "execution_count": 7,
      "metadata": {
        "colab": {
          "base_uri": "https://localhost:8080/",
          "height": 0
        },
        "id": "rIJRM-pwPsNv",
        "outputId": "b4f1dd07-59b2-4777-b009-782fa0c75baa"
      },
      "outputs": [
        {
          "output_type": "display_data",
          "data": {
            "text/plain": [
              "<IPython.core.display.HTML object>"
            ],
            "text/html": [
              "\n",
              "            <style>\n",
              "                .geemap-dark {\n",
              "                    --jp-widgets-color: white;\n",
              "                    --jp-widgets-label-color: white;\n",
              "                    --jp-ui-font-color1: white;\n",
              "                    --jp-layout-color2: #454545;\n",
              "                    background-color: #383838;\n",
              "                }\n",
              "\n",
              "                .geemap-dark .jupyter-button {\n",
              "                    --jp-layout-color3: #383838;\n",
              "                }\n",
              "\n",
              "                .geemap-colab {\n",
              "                    background-color: var(--colab-primary-surface-color, white);\n",
              "                }\n",
              "\n",
              "                .geemap-colab .jupyter-button {\n",
              "                    --jp-layout-color3: var(--colab-primary-surface-color, white);\n",
              "                }\n",
              "            </style>\n",
              "            "
            ]
          },
          "metadata": {}
        },
        {
          "output_type": "stream",
          "name": "stdout",
          "text": [
            "2013-05-11T13:55:54\n",
            "2024-12-12T13:47:48\n"
          ]
        }
      ],
      "source": [
        "landsat8 = (ee.ImageCollection(\"projects/ee-curuai/assets/Py6S/LD8/Landsat8\")\n",
        "            .select(['B2', 'B3', 'B4', 'B5', 'B6', 'B7']))\n",
        "print(ee.Date(landsat8.sort('system:time_start',True).first().get('system:time_start')).format().getInfo())\n",
        "print(ee.Date(landsat8.sort('system:time_start',False).first().get('system:time_start')).format().getInfo())"
      ]
    },
    {
      "cell_type": "code",
      "execution_count": 8,
      "metadata": {
        "colab": {
          "base_uri": "https://localhost:8080/",
          "height": 0
        },
        "id": "rnyQZ65nPsNw",
        "outputId": "4bc20f9d-7aaf-4ced-995a-174defc7caff"
      },
      "outputs": [
        {
          "output_type": "display_data",
          "data": {
            "text/plain": [
              "<IPython.core.display.HTML object>"
            ],
            "text/html": [
              "\n",
              "            <style>\n",
              "                .geemap-dark {\n",
              "                    --jp-widgets-color: white;\n",
              "                    --jp-widgets-label-color: white;\n",
              "                    --jp-ui-font-color1: white;\n",
              "                    --jp-layout-color2: #454545;\n",
              "                    background-color: #383838;\n",
              "                }\n",
              "\n",
              "                .geemap-dark .jupyter-button {\n",
              "                    --jp-layout-color3: #383838;\n",
              "                }\n",
              "\n",
              "                .geemap-colab {\n",
              "                    background-color: var(--colab-primary-surface-color, white);\n",
              "                }\n",
              "\n",
              "                .geemap-colab .jupyter-button {\n",
              "                    --jp-layout-color3: var(--colab-primary-surface-color, white);\n",
              "                }\n",
              "            </style>\n",
              "            "
            ]
          },
          "metadata": {}
        },
        {
          "output_type": "stream",
          "name": "stdout",
          "text": [
            "{'227.0': 364, '228.0': 379}\n",
            "{'61.0': 372, '62.0': 371}\n"
          ]
        }
      ],
      "source": [
        "print(landsat8.aggregate_histogram('WRS_PATH').getInfo())\n",
        "print(landsat8.aggregate_histogram('WRS_ROW').getInfo())"
      ]
    },
    {
      "cell_type": "code",
      "execution_count": 9,
      "metadata": {
        "colab": {
          "base_uri": "https://localhost:8080/",
          "height": 0
        },
        "id": "UqBX8ipfPsNw",
        "outputId": "c5b8ca31-e8d0-4de0-a36a-383da1a57c54"
      },
      "outputs": [
        {
          "output_type": "display_data",
          "data": {
            "text/plain": [
              "<IPython.core.display.HTML object>"
            ],
            "text/html": [
              "\n",
              "            <style>\n",
              "                .geemap-dark {\n",
              "                    --jp-widgets-color: white;\n",
              "                    --jp-widgets-label-color: white;\n",
              "                    --jp-ui-font-color1: white;\n",
              "                    --jp-layout-color2: #454545;\n",
              "                    background-color: #383838;\n",
              "                }\n",
              "\n",
              "                .geemap-dark .jupyter-button {\n",
              "                    --jp-layout-color3: #383838;\n",
              "                }\n",
              "\n",
              "                .geemap-colab {\n",
              "                    background-color: var(--colab-primary-surface-color, white);\n",
              "                }\n",
              "\n",
              "                .geemap-colab .jupyter-button {\n",
              "                    --jp-layout-color3: var(--colab-primary-surface-color, white);\n",
              "                }\n",
              "            </style>\n",
              "            "
            ]
          },
          "metadata": {}
        },
        {
          "output_type": "stream",
          "name": "stdout",
          "text": [
            "{'61.0': 180, '62.0': 184}\n",
            "{'61.0': 192, '62.0': 187}\n"
          ]
        }
      ],
      "source": [
        "print(landsat8.filter(ee.Filter.eq('WRS_PATH',227.0)).aggregate_histogram('WRS_ROW').getInfo())\n",
        "print(landsat8.filter(ee.Filter.eq('WRS_PATH',228.0)).aggregate_histogram('WRS_ROW').getInfo())"
      ]
    },
    {
      "cell_type": "markdown",
      "metadata": {
        "id": "viLs2-w0Qu_P"
      },
      "source": [
        "Landsat 9 PY6S"
      ]
    },
    {
      "cell_type": "code",
      "execution_count": 10,
      "metadata": {
        "outputId": "872df73c-0676-4b5c-9deb-764a63857b8a",
        "colab": {
          "base_uri": "https://localhost:8080/",
          "height": 0
        },
        "id": "Qtc9kPP3Qu_Q"
      },
      "outputs": [
        {
          "output_type": "display_data",
          "data": {
            "text/plain": [
              "<IPython.core.display.HTML object>"
            ],
            "text/html": [
              "\n",
              "            <style>\n",
              "                .geemap-dark {\n",
              "                    --jp-widgets-color: white;\n",
              "                    --jp-widgets-label-color: white;\n",
              "                    --jp-ui-font-color1: white;\n",
              "                    --jp-layout-color2: #454545;\n",
              "                    background-color: #383838;\n",
              "                }\n",
              "\n",
              "                .geemap-dark .jupyter-button {\n",
              "                    --jp-layout-color3: #383838;\n",
              "                }\n",
              "\n",
              "                .geemap-colab {\n",
              "                    background-color: var(--colab-primary-surface-color, white);\n",
              "                }\n",
              "\n",
              "                .geemap-colab .jupyter-button {\n",
              "                    --jp-layout-color3: var(--colab-primary-surface-color, white);\n",
              "                }\n",
              "            </style>\n",
              "            "
            ]
          },
          "metadata": {}
        },
        {
          "output_type": "stream",
          "name": "stdout",
          "text": [
            "2021-11-06T13:49:55\n",
            "2024-12-27T13:54:34\n"
          ]
        }
      ],
      "source": [
        "landsat9 = (ee.ImageCollection(\"projects/ee-curuai2/assets/Py6S/LD9/Landsat9\")\n",
        "            .select(['B2', 'B3', 'B4', 'B5', 'B6', 'B7']))\n",
        "print(ee.Date(landsat9.sort('system:time_start',True).first().get('system:time_start')).format().getInfo())\n",
        "print(ee.Date(landsat9.sort('system:time_start',False).first().get('system:time_start')).format().getInfo())"
      ]
    },
    {
      "cell_type": "code",
      "execution_count": 11,
      "metadata": {
        "outputId": "908a18d1-c47b-4614-d32a-ee597b03fd5d",
        "colab": {
          "base_uri": "https://localhost:8080/",
          "height": 0
        },
        "id": "24tcj-QIQu_Q"
      },
      "outputs": [
        {
          "output_type": "display_data",
          "data": {
            "text/plain": [
              "<IPython.core.display.HTML object>"
            ],
            "text/html": [
              "\n",
              "            <style>\n",
              "                .geemap-dark {\n",
              "                    --jp-widgets-color: white;\n",
              "                    --jp-widgets-label-color: white;\n",
              "                    --jp-ui-font-color1: white;\n",
              "                    --jp-layout-color2: #454545;\n",
              "                    background-color: #383838;\n",
              "                }\n",
              "\n",
              "                .geemap-dark .jupyter-button {\n",
              "                    --jp-layout-color3: #383838;\n",
              "                }\n",
              "\n",
              "                .geemap-colab {\n",
              "                    background-color: var(--colab-primary-surface-color, white);\n",
              "                }\n",
              "\n",
              "                .geemap-colab .jupyter-button {\n",
              "                    --jp-layout-color3: var(--colab-primary-surface-color, white);\n",
              "                }\n",
              "            </style>\n",
              "            "
            ]
          },
          "metadata": {}
        },
        {
          "output_type": "stream",
          "name": "stdout",
          "text": [
            "{'227.0': 101, '228.0': 105, '229.0': 2}\n",
            "{'61.0': 104, '62.0': 104}\n"
          ]
        }
      ],
      "source": [
        "print(landsat9.aggregate_histogram('WRS_PATH').getInfo())\n",
        "print(landsat9.aggregate_histogram('WRS_ROW').getInfo())"
      ]
    },
    {
      "cell_type": "code",
      "execution_count": 12,
      "metadata": {
        "outputId": "c2583163-db44-421f-f2bf-2a475ddc2b09",
        "colab": {
          "base_uri": "https://localhost:8080/",
          "height": 0
        },
        "id": "qbNhsfL8Qu_R"
      },
      "outputs": [
        {
          "output_type": "display_data",
          "data": {
            "text/plain": [
              "<IPython.core.display.HTML object>"
            ],
            "text/html": [
              "\n",
              "            <style>\n",
              "                .geemap-dark {\n",
              "                    --jp-widgets-color: white;\n",
              "                    --jp-widgets-label-color: white;\n",
              "                    --jp-ui-font-color1: white;\n",
              "                    --jp-layout-color2: #454545;\n",
              "                    background-color: #383838;\n",
              "                }\n",
              "\n",
              "                .geemap-dark .jupyter-button {\n",
              "                    --jp-layout-color3: #383838;\n",
              "                }\n",
              "\n",
              "                .geemap-colab {\n",
              "                    background-color: var(--colab-primary-surface-color, white);\n",
              "                }\n",
              "\n",
              "                .geemap-colab .jupyter-button {\n",
              "                    --jp-layout-color3: var(--colab-primary-surface-color, white);\n",
              "                }\n",
              "            </style>\n",
              "            "
            ]
          },
          "metadata": {}
        },
        {
          "output_type": "stream",
          "name": "stdout",
          "text": [
            "{'61.0': 50, '62.0': 51}\n",
            "{'61.0': 53, '62.0': 52}\n"
          ]
        }
      ],
      "source": [
        "print(landsat9.filter(ee.Filter.eq('WRS_PATH',227.0)).aggregate_histogram('WRS_ROW').getInfo())\n",
        "print(landsat9.filter(ee.Filter.eq('WRS_PATH',228.0)).aggregate_histogram('WRS_ROW').getInfo())"
      ]
    },
    {
      "cell_type": "markdown",
      "metadata": {
        "id": "Us4kaIOcPsNw"
      },
      "source": [
        "# Transform into remote sensing reflectance and sunglint correction"
      ]
    },
    {
      "cell_type": "code",
      "execution_count": 13,
      "metadata": {
        "colab": {
          "base_uri": "https://localhost:8080/",
          "height": 0
        },
        "id": "EhdLU4KyPsNw",
        "outputId": "e7d17824-3df1-4cdf-959c-27a7824e59f0"
      },
      "outputs": [
        {
          "output_type": "display_data",
          "data": {
            "text/plain": [
              "<IPython.core.display.HTML object>"
            ],
            "text/html": [
              "\n",
              "            <style>\n",
              "                .geemap-dark {\n",
              "                    --jp-widgets-color: white;\n",
              "                    --jp-widgets-label-color: white;\n",
              "                    --jp-ui-font-color1: white;\n",
              "                    --jp-layout-color2: #454545;\n",
              "                    background-color: #383838;\n",
              "                }\n",
              "\n",
              "                .geemap-dark .jupyter-button {\n",
              "                    --jp-layout-color3: #383838;\n",
              "                }\n",
              "\n",
              "                .geemap-colab {\n",
              "                    background-color: var(--colab-primary-surface-color, white);\n",
              "                }\n",
              "\n",
              "                .geemap-colab .jupyter-button {\n",
              "                    --jp-layout-color3: var(--colab-primary-surface-color, white);\n",
              "                }\n",
              "            </style>\n",
              "            "
            ]
          },
          "metadata": {}
        }
      ],
      "source": [
        "def deglint (img):\n",
        "  '''#dividir imagem corrigida por pi\n",
        "  Rrs_sat_ac = Rsat_ac / pi\n",
        "  fazer deglint\n",
        "  Rrs_sat_ac_deglint(VNIR) = Rrs_sat_ac (VNIR) − Rrs_sat_ac (SWIR)\n",
        "  correção no artigo INPE CURUAI'''\n",
        "  Rrs = img.divide(math.pi)\n",
        "  deglint = Rrs.select(['blue_mean','green_mean','red_mean','nir_mean','swir1','swir2'])\\\n",
        "    .subtract(Rrs.select('swir1'))\n",
        "\n",
        "  return (deglint\n",
        "          .copyProperties(img,['system:time_start','CLOUD_COVER',\"system:index\"]))"
      ]
    },
    {
      "cell_type": "markdown",
      "metadata": {
        "id": "iDwx63n8PsNw"
      },
      "source": [
        "## Padronize band names"
      ]
    },
    {
      "cell_type": "code",
      "execution_count": 14,
      "metadata": {
        "colab": {
          "base_uri": "https://localhost:8080/",
          "height": 0
        },
        "id": "GbKfzy3GPsNw",
        "outputId": "f104cf94-98f5-49bb-af01-12e517624ea4"
      },
      "outputs": [
        {
          "output_type": "display_data",
          "data": {
            "text/plain": [
              "<IPython.core.display.HTML object>"
            ],
            "text/html": [
              "\n",
              "            <style>\n",
              "                .geemap-dark {\n",
              "                    --jp-widgets-color: white;\n",
              "                    --jp-widgets-label-color: white;\n",
              "                    --jp-ui-font-color1: white;\n",
              "                    --jp-layout-color2: #454545;\n",
              "                    background-color: #383838;\n",
              "                }\n",
              "\n",
              "                .geemap-dark .jupyter-button {\n",
              "                    --jp-layout-color3: #383838;\n",
              "                }\n",
              "\n",
              "                .geemap-colab {\n",
              "                    background-color: var(--colab-primary-surface-color, white);\n",
              "                }\n",
              "\n",
              "                .geemap-colab .jupyter-button {\n",
              "                    --jp-layout-color3: var(--colab-primary-surface-color, white);\n",
              "                }\n",
              "            </style>\n",
              "            "
            ]
          },
          "metadata": {}
        }
      ],
      "source": [
        "name_bands = ['blue_mean','green_mean','red_mean','nir_mean','swir1','swir2']"
      ]
    },
    {
      "cell_type": "markdown",
      "metadata": {
        "id": "QSpwdyzmPsNx"
      },
      "source": [
        "Landsat 7"
      ]
    },
    {
      "cell_type": "code",
      "execution_count": 15,
      "metadata": {
        "colab": {
          "base_uri": "https://localhost:8080/",
          "height": 0
        },
        "id": "MzYyjmt0PsNx",
        "outputId": "39929d32-4e0e-465a-fff6-4aad60211945"
      },
      "outputs": [
        {
          "output_type": "display_data",
          "data": {
            "text/plain": [
              "<IPython.core.display.HTML object>"
            ],
            "text/html": [
              "\n",
              "            <style>\n",
              "                .geemap-dark {\n",
              "                    --jp-widgets-color: white;\n",
              "                    --jp-widgets-label-color: white;\n",
              "                    --jp-ui-font-color1: white;\n",
              "                    --jp-layout-color2: #454545;\n",
              "                    background-color: #383838;\n",
              "                }\n",
              "\n",
              "                .geemap-dark .jupyter-button {\n",
              "                    --jp-layout-color3: #383838;\n",
              "                }\n",
              "\n",
              "                .geemap-colab {\n",
              "                    background-color: var(--colab-primary-surface-color, white);\n",
              "                }\n",
              "\n",
              "                .geemap-colab .jupyter-button {\n",
              "                    --jp-layout-color3: var(--colab-primary-surface-color, white);\n",
              "                }\n",
              "            </style>\n",
              "            "
            ]
          },
          "metadata": {}
        },
        {
          "output_type": "display_data",
          "data": {
            "text/plain": [
              "1366"
            ]
          },
          "metadata": {}
        }
      ],
      "source": [
        "#renomear bandas\n",
        "\n",
        "ld7 = landsat7.map(lambda img: img.rename(name_bands))\n",
        "display(ld7.size().getInfo())"
      ]
    },
    {
      "cell_type": "markdown",
      "metadata": {
        "id": "NQVoWPg0PsNx"
      },
      "source": [
        "Landsat 8"
      ]
    },
    {
      "cell_type": "code",
      "execution_count": 16,
      "metadata": {
        "colab": {
          "base_uri": "https://localhost:8080/",
          "height": 0
        },
        "id": "hmKBtd6DPsNx",
        "outputId": "4e7223fb-5523-4dab-a93e-70a9ef331d75"
      },
      "outputs": [
        {
          "output_type": "display_data",
          "data": {
            "text/plain": [
              "<IPython.core.display.HTML object>"
            ],
            "text/html": [
              "\n",
              "            <style>\n",
              "                .geemap-dark {\n",
              "                    --jp-widgets-color: white;\n",
              "                    --jp-widgets-label-color: white;\n",
              "                    --jp-ui-font-color1: white;\n",
              "                    --jp-layout-color2: #454545;\n",
              "                    background-color: #383838;\n",
              "                }\n",
              "\n",
              "                .geemap-dark .jupyter-button {\n",
              "                    --jp-layout-color3: #383838;\n",
              "                }\n",
              "\n",
              "                .geemap-colab {\n",
              "                    background-color: var(--colab-primary-surface-color, white);\n",
              "                }\n",
              "\n",
              "                .geemap-colab .jupyter-button {\n",
              "                    --jp-layout-color3: var(--colab-primary-surface-color, white);\n",
              "                }\n",
              "            </style>\n",
              "            "
            ]
          },
          "metadata": {}
        },
        {
          "output_type": "display_data",
          "data": {
            "text/plain": [
              "743"
            ]
          },
          "metadata": {}
        }
      ],
      "source": [
        "ld8 = landsat8.map(lambda img: img.rename(name_bands))\n",
        "display(ld8.size().getInfo())"
      ]
    },
    {
      "cell_type": "markdown",
      "source": [
        "landsat 9"
      ],
      "metadata": {
        "id": "bVGHbSZCTDXS"
      }
    },
    {
      "cell_type": "code",
      "source": [
        "ld9 = landsat9.map(lambda img: img.rename(name_bands))\n",
        "display(ld9.size().getInfo())"
      ],
      "metadata": {
        "colab": {
          "base_uri": "https://localhost:8080/",
          "height": 0
        },
        "id": "5NWHIsv0TEXX",
        "outputId": "d036c81d-9fd3-45aa-b6ee-215187107082"
      },
      "execution_count": 17,
      "outputs": [
        {
          "output_type": "display_data",
          "data": {
            "text/plain": [
              "<IPython.core.display.HTML object>"
            ],
            "text/html": [
              "\n",
              "            <style>\n",
              "                .geemap-dark {\n",
              "                    --jp-widgets-color: white;\n",
              "                    --jp-widgets-label-color: white;\n",
              "                    --jp-ui-font-color1: white;\n",
              "                    --jp-layout-color2: #454545;\n",
              "                    background-color: #383838;\n",
              "                }\n",
              "\n",
              "                .geemap-dark .jupyter-button {\n",
              "                    --jp-layout-color3: #383838;\n",
              "                }\n",
              "\n",
              "                .geemap-colab {\n",
              "                    background-color: var(--colab-primary-surface-color, white);\n",
              "                }\n",
              "\n",
              "                .geemap-colab .jupyter-button {\n",
              "                    --jp-layout-color3: var(--colab-primary-surface-color, white);\n",
              "                }\n",
              "            </style>\n",
              "            "
            ]
          },
          "metadata": {}
        },
        {
          "output_type": "display_data",
          "data": {
            "text/plain": [
              "208"
            ]
          },
          "metadata": {}
        }
      ]
    },
    {
      "cell_type": "code",
      "execution_count": 18,
      "metadata": {
        "colab": {
          "base_uri": "https://localhost:8080/",
          "height": 0
        },
        "id": "Q5I0E6QePsNx",
        "outputId": "e4b435f3-36fe-4bfa-f766-b42d740efa95"
      },
      "outputs": [
        {
          "output_type": "display_data",
          "data": {
            "text/plain": [
              "<IPython.core.display.HTML object>"
            ],
            "text/html": [
              "\n",
              "            <style>\n",
              "                .geemap-dark {\n",
              "                    --jp-widgets-color: white;\n",
              "                    --jp-widgets-label-color: white;\n",
              "                    --jp-ui-font-color1: white;\n",
              "                    --jp-layout-color2: #454545;\n",
              "                    background-color: #383838;\n",
              "                }\n",
              "\n",
              "                .geemap-dark .jupyter-button {\n",
              "                    --jp-layout-color3: #383838;\n",
              "                }\n",
              "\n",
              "                .geemap-colab {\n",
              "                    background-color: var(--colab-primary-surface-color, white);\n",
              "                }\n",
              "\n",
              "                .geemap-colab .jupyter-button {\n",
              "                    --jp-layout-color3: var(--colab-primary-surface-color, white);\n",
              "                }\n",
              "            </style>\n",
              "            "
            ]
          },
          "metadata": {}
        },
        {
          "output_type": "execute_result",
          "data": {
            "text/plain": [
              "<ee.imagecollection.ImageCollection at 0x7d6e072772d0>"
            ],
            "text/html": [
              "<div><style>:root {\n",
              "  --font-color-primary: var(--jp-content-font-color0, rgba(0, 0, 0, 1));\n",
              "  --font-color-secondary: var(--jp-content-font-color2, rgba(0, 0, 0, 0.7));\n",
              "  --font-color-accent: rgba(123, 31, 162, 1);\n",
              "  --border-color: var(--jp-border-color2, #e0e0e0);\n",
              "  --background-color: var(--jp-layout-color0, white);\n",
              "  --background-color-row-even: var(--jp-layout-color1, white);\n",
              "  --background-color-row-odd: var(--jp-layout-color2, #eeeeee);\n",
              "}\n",
              "\n",
              "html[theme=\"dark\"],\n",
              "body[data-theme=\"dark\"],\n",
              "body.vscode-dark {\n",
              "  --font-color-primary: rgba(255, 255, 255, 1);\n",
              "  --font-color-secondary: rgba(255, 255, 255, 0.7);\n",
              "  --font-color-accent: rgb(173, 132, 190);\n",
              "  --border-color: #2e2e2e;\n",
              "  --background-color: #111111;\n",
              "  --background-color-row-even: #111111;\n",
              "  --background-color-row-odd: #313131;\n",
              "}\n",
              "\n",
              ".eerepr {\n",
              "  padding: 1em;\n",
              "  line-height: 1.5em;\n",
              "  min-width: 300px;\n",
              "  max-width: 1200px;\n",
              "  overflow-y: scroll;\n",
              "  max-height: 600px;\n",
              "  border: 1px solid var(--border-color);\n",
              "  font-family: monospace;\n",
              "  font-size: 14px;\n",
              "}\n",
              "\n",
              ".eerepr li {\n",
              "  list-style-type: none;\n",
              "  margin: 0;\n",
              "}\n",
              "\n",
              ".eerepr ul {\n",
              "  padding-left: 1.5em !important;\n",
              "  margin: 0;\n",
              "}\n",
              "\n",
              ".eerepr > ul {\n",
              "  padding-left: 0 !important;\n",
              "}\n",
              "\n",
              ".eerepr summary {\n",
              "  color: var(--font-color-secondary);\n",
              "  cursor: pointer;\n",
              "  margin: 0;\n",
              "}\n",
              "\n",
              ".eerepr summary:hover {\n",
              "  color: var(--font-color-primary);\n",
              "  background-color: var(--background-color-row-odd)\n",
              "}\n",
              "\n",
              ".ee-k {\n",
              "  color: var(--font-color-accent);\n",
              "  margin-right: 6px;\n",
              "}\n",
              "\n",
              ".ee-v {\n",
              "  color: var(--font-color-primary);\n",
              "}\n",
              "\n",
              ".eerepr details > summary::before {\n",
              "  content: '▼';\n",
              "  display: inline-block;\n",
              "  margin-right: 6px;\n",
              "  transition: transform 0.2s;\n",
              "  transform: rotate(-90deg);\n",
              "}\n",
              "\n",
              ".eerepr details[open] > summary::before {\n",
              "  transform: rotate(0deg);\n",
              "}\n",
              "\n",
              ".eerepr details summary::-webkit-details-marker {\n",
              "  display:none;\n",
              "}\n",
              "\n",
              ".eerepr details summary {\n",
              "  list-style-type: none;\n",
              "}\n",
              "</style><div class='eerepr'><ul><li><details><summary>ImageCollection (5 elements)</summary><ul><li><span class='ee-k'>type:</span><span class='ee-v'>ImageCollection</span></li><li><details><summary>bands: []</summary><ul></ul></details></li><li><details><summary>features: List (5 elements)</summary><ul><li><details><summary>0: Image (6 bands)</summary><ul><li><span class='ee-k'>type:</span><span class='ee-v'>Image</span></li><li><details><summary>bands: List (6 elements)</summary><ul><li><details><summary>0: \"blue_mean\", double, EPSG:32621, 4256x2110 px</summary><ul><li><span class='ee-k'>id:</span><span class='ee-v'>blue_mean</span></li><li><span class='ee-k'>crs:</span><span class='ee-v'>EPSG:32621</span></li><li><details><summary>crs_transform: [30, 0, 598620, 0, -30, -211440]</summary><ul><li><span class='ee-k'>0:</span><span class='ee-v'>30</span></li><li><span class='ee-k'>1:</span><span class='ee-v'>0</span></li><li><span class='ee-k'>2:</span><span class='ee-v'>598620</span></li><li><span class='ee-k'>3:</span><span class='ee-v'>0</span></li><li><span class='ee-k'>4:</span><span class='ee-v'>-30</span></li><li><span class='ee-k'>5:</span><span class='ee-v'>-211440</span></li></ul></details></li><li><details><summary>data_type: double</summary><ul><li><span class='ee-k'>type:</span><span class='ee-v'>PixelType</span></li><li><span class='ee-k'>precision:</span><span class='ee-v'>double</span></li></ul></details></li><li><details><summary>dimensions: [4256, 2110]</summary><ul><li><span class='ee-k'>0:</span><span class='ee-v'>4256</span></li><li><span class='ee-k'>1:</span><span class='ee-v'>2110</span></li></ul></details></li></ul></details></li><li><details><summary>1: \"green_mean\", double, EPSG:32621, 4256x2110 px</summary><ul><li><span class='ee-k'>id:</span><span class='ee-v'>green_mean</span></li><li><span class='ee-k'>crs:</span><span class='ee-v'>EPSG:32621</span></li><li><details><summary>crs_transform: [30, 0, 598620, 0, -30, -211440]</summary><ul><li><span class='ee-k'>0:</span><span class='ee-v'>30</span></li><li><span class='ee-k'>1:</span><span class='ee-v'>0</span></li><li><span class='ee-k'>2:</span><span class='ee-v'>598620</span></li><li><span class='ee-k'>3:</span><span class='ee-v'>0</span></li><li><span class='ee-k'>4:</span><span class='ee-v'>-30</span></li><li><span class='ee-k'>5:</span><span class='ee-v'>-211440</span></li></ul></details></li><li><details><summary>data_type: double</summary><ul><li><span class='ee-k'>type:</span><span class='ee-v'>PixelType</span></li><li><span class='ee-k'>precision:</span><span class='ee-v'>double</span></li></ul></details></li><li><details><summary>dimensions: [4256, 2110]</summary><ul><li><span class='ee-k'>0:</span><span class='ee-v'>4256</span></li><li><span class='ee-k'>1:</span><span class='ee-v'>2110</span></li></ul></details></li></ul></details></li><li><details><summary>2: \"red_mean\", double, EPSG:32621, 4256x2110 px</summary><ul><li><span class='ee-k'>id:</span><span class='ee-v'>red_mean</span></li><li><span class='ee-k'>crs:</span><span class='ee-v'>EPSG:32621</span></li><li><details><summary>crs_transform: [30, 0, 598620, 0, -30, -211440]</summary><ul><li><span class='ee-k'>0:</span><span class='ee-v'>30</span></li><li><span class='ee-k'>1:</span><span class='ee-v'>0</span></li><li><span class='ee-k'>2:</span><span class='ee-v'>598620</span></li><li><span class='ee-k'>3:</span><span class='ee-v'>0</span></li><li><span class='ee-k'>4:</span><span class='ee-v'>-30</span></li><li><span class='ee-k'>5:</span><span class='ee-v'>-211440</span></li></ul></details></li><li><details><summary>data_type: double</summary><ul><li><span class='ee-k'>type:</span><span class='ee-v'>PixelType</span></li><li><span class='ee-k'>precision:</span><span class='ee-v'>double</span></li></ul></details></li><li><details><summary>dimensions: [4256, 2110]</summary><ul><li><span class='ee-k'>0:</span><span class='ee-v'>4256</span></li><li><span class='ee-k'>1:</span><span class='ee-v'>2110</span></li></ul></details></li></ul></details></li><li><details><summary>3: \"nir_mean\", double, EPSG:32621, 4256x2110 px</summary><ul><li><span class='ee-k'>id:</span><span class='ee-v'>nir_mean</span></li><li><span class='ee-k'>crs:</span><span class='ee-v'>EPSG:32621</span></li><li><details><summary>crs_transform: [30, 0, 598620, 0, -30, -211440]</summary><ul><li><span class='ee-k'>0:</span><span class='ee-v'>30</span></li><li><span class='ee-k'>1:</span><span class='ee-v'>0</span></li><li><span class='ee-k'>2:</span><span class='ee-v'>598620</span></li><li><span class='ee-k'>3:</span><span class='ee-v'>0</span></li><li><span class='ee-k'>4:</span><span class='ee-v'>-30</span></li><li><span class='ee-k'>5:</span><span class='ee-v'>-211440</span></li></ul></details></li><li><details><summary>data_type: double</summary><ul><li><span class='ee-k'>type:</span><span class='ee-v'>PixelType</span></li><li><span class='ee-k'>precision:</span><span class='ee-v'>double</span></li></ul></details></li><li><details><summary>dimensions: [4256, 2110]</summary><ul><li><span class='ee-k'>0:</span><span class='ee-v'>4256</span></li><li><span class='ee-k'>1:</span><span class='ee-v'>2110</span></li></ul></details></li></ul></details></li><li><details><summary>4: \"swir1\", double, EPSG:32621, 4256x2110 px</summary><ul><li><span class='ee-k'>id:</span><span class='ee-v'>swir1</span></li><li><span class='ee-k'>crs:</span><span class='ee-v'>EPSG:32621</span></li><li><details><summary>crs_transform: [30, 0, 598620, 0, -30, -211440]</summary><ul><li><span class='ee-k'>0:</span><span class='ee-v'>30</span></li><li><span class='ee-k'>1:</span><span class='ee-v'>0</span></li><li><span class='ee-k'>2:</span><span class='ee-v'>598620</span></li><li><span class='ee-k'>3:</span><span class='ee-v'>0</span></li><li><span class='ee-k'>4:</span><span class='ee-v'>-30</span></li><li><span class='ee-k'>5:</span><span class='ee-v'>-211440</span></li></ul></details></li><li><details><summary>data_type: double</summary><ul><li><span class='ee-k'>type:</span><span class='ee-v'>PixelType</span></li><li><span class='ee-k'>precision:</span><span class='ee-v'>double</span></li></ul></details></li><li><details><summary>dimensions: [4256, 2110]</summary><ul><li><span class='ee-k'>0:</span><span class='ee-v'>4256</span></li><li><span class='ee-k'>1:</span><span class='ee-v'>2110</span></li></ul></details></li></ul></details></li><li><details><summary>5: \"swir2\", double, EPSG:32621, 4256x2110 px</summary><ul><li><span class='ee-k'>id:</span><span class='ee-v'>swir2</span></li><li><span class='ee-k'>crs:</span><span class='ee-v'>EPSG:32621</span></li><li><details><summary>crs_transform: [30, 0, 598620, 0, -30, -211440]</summary><ul><li><span class='ee-k'>0:</span><span class='ee-v'>30</span></li><li><span class='ee-k'>1:</span><span class='ee-v'>0</span></li><li><span class='ee-k'>2:</span><span class='ee-v'>598620</span></li><li><span class='ee-k'>3:</span><span class='ee-v'>0</span></li><li><span class='ee-k'>4:</span><span class='ee-v'>-30</span></li><li><span class='ee-k'>5:</span><span class='ee-v'>-211440</span></li></ul></details></li><li><details><summary>data_type: double</summary><ul><li><span class='ee-k'>type:</span><span class='ee-v'>PixelType</span></li><li><span class='ee-k'>precision:</span><span class='ee-v'>double</span></li></ul></details></li><li><details><summary>dimensions: [4256, 2110]</summary><ul><li><span class='ee-k'>0:</span><span class='ee-v'>4256</span></li><li><span class='ee-k'>1:</span><span class='ee-v'>2110</span></li></ul></details></li></ul></details></li></ul></details></li><li><details><summary>properties: Object (3 properties)</summary><ul><li><span class='ee-k'>CLOUD_COVER:</span><span class='ee-v'>71</span></li><li><span class='ee-k'>system:index:</span><span class='ee-v'>1_2_BOA_LE07_228061_20000124</span></li><li><span class='ee-k'>system:time_start:</span><span class='ee-v'>948721608082</span></li></ul></details></li></ul></details></li><li><details><summary>1: Image (6 bands)</summary><ul><li><span class='ee-k'>type:</span><span class='ee-v'>Image</span></li><li><details><summary>bands: List (6 elements)</summary><ul><li><details><summary>0: \"blue_mean\", double, EPSG:32621, 4256x2110 px</summary><ul><li><span class='ee-k'>id:</span><span class='ee-v'>blue_mean</span></li><li><span class='ee-k'>crs:</span><span class='ee-v'>EPSG:32621</span></li><li><details><summary>crs_transform: [30, 0, 598620, 0, -30, -211440]</summary><ul><li><span class='ee-k'>0:</span><span class='ee-v'>30</span></li><li><span class='ee-k'>1:</span><span class='ee-v'>0</span></li><li><span class='ee-k'>2:</span><span class='ee-v'>598620</span></li><li><span class='ee-k'>3:</span><span class='ee-v'>0</span></li><li><span class='ee-k'>4:</span><span class='ee-v'>-30</span></li><li><span class='ee-k'>5:</span><span class='ee-v'>-211440</span></li></ul></details></li><li><details><summary>data_type: double</summary><ul><li><span class='ee-k'>type:</span><span class='ee-v'>PixelType</span></li><li><span class='ee-k'>precision:</span><span class='ee-v'>double</span></li></ul></details></li><li><details><summary>dimensions: [4256, 2110]</summary><ul><li><span class='ee-k'>0:</span><span class='ee-v'>4256</span></li><li><span class='ee-k'>1:</span><span class='ee-v'>2110</span></li></ul></details></li></ul></details></li><li><details><summary>1: \"green_mean\", double, EPSG:32621, 4256x2110 px</summary><ul><li><span class='ee-k'>id:</span><span class='ee-v'>green_mean</span></li><li><span class='ee-k'>crs:</span><span class='ee-v'>EPSG:32621</span></li><li><details><summary>crs_transform: [30, 0, 598620, 0, -30, -211440]</summary><ul><li><span class='ee-k'>0:</span><span class='ee-v'>30</span></li><li><span class='ee-k'>1:</span><span class='ee-v'>0</span></li><li><span class='ee-k'>2:</span><span class='ee-v'>598620</span></li><li><span class='ee-k'>3:</span><span class='ee-v'>0</span></li><li><span class='ee-k'>4:</span><span class='ee-v'>-30</span></li><li><span class='ee-k'>5:</span><span class='ee-v'>-211440</span></li></ul></details></li><li><details><summary>data_type: double</summary><ul><li><span class='ee-k'>type:</span><span class='ee-v'>PixelType</span></li><li><span class='ee-k'>precision:</span><span class='ee-v'>double</span></li></ul></details></li><li><details><summary>dimensions: [4256, 2110]</summary><ul><li><span class='ee-k'>0:</span><span class='ee-v'>4256</span></li><li><span class='ee-k'>1:</span><span class='ee-v'>2110</span></li></ul></details></li></ul></details></li><li><details><summary>2: \"red_mean\", double, EPSG:32621, 4256x2110 px</summary><ul><li><span class='ee-k'>id:</span><span class='ee-v'>red_mean</span></li><li><span class='ee-k'>crs:</span><span class='ee-v'>EPSG:32621</span></li><li><details><summary>crs_transform: [30, 0, 598620, 0, -30, -211440]</summary><ul><li><span class='ee-k'>0:</span><span class='ee-v'>30</span></li><li><span class='ee-k'>1:</span><span class='ee-v'>0</span></li><li><span class='ee-k'>2:</span><span class='ee-v'>598620</span></li><li><span class='ee-k'>3:</span><span class='ee-v'>0</span></li><li><span class='ee-k'>4:</span><span class='ee-v'>-30</span></li><li><span class='ee-k'>5:</span><span class='ee-v'>-211440</span></li></ul></details></li><li><details><summary>data_type: double</summary><ul><li><span class='ee-k'>type:</span><span class='ee-v'>PixelType</span></li><li><span class='ee-k'>precision:</span><span class='ee-v'>double</span></li></ul></details></li><li><details><summary>dimensions: [4256, 2110]</summary><ul><li><span class='ee-k'>0:</span><span class='ee-v'>4256</span></li><li><span class='ee-k'>1:</span><span class='ee-v'>2110</span></li></ul></details></li></ul></details></li><li><details><summary>3: \"nir_mean\", double, EPSG:32621, 4256x2110 px</summary><ul><li><span class='ee-k'>id:</span><span class='ee-v'>nir_mean</span></li><li><span class='ee-k'>crs:</span><span class='ee-v'>EPSG:32621</span></li><li><details><summary>crs_transform: [30, 0, 598620, 0, -30, -211440]</summary><ul><li><span class='ee-k'>0:</span><span class='ee-v'>30</span></li><li><span class='ee-k'>1:</span><span class='ee-v'>0</span></li><li><span class='ee-k'>2:</span><span class='ee-v'>598620</span></li><li><span class='ee-k'>3:</span><span class='ee-v'>0</span></li><li><span class='ee-k'>4:</span><span class='ee-v'>-30</span></li><li><span class='ee-k'>5:</span><span class='ee-v'>-211440</span></li></ul></details></li><li><details><summary>data_type: double</summary><ul><li><span class='ee-k'>type:</span><span class='ee-v'>PixelType</span></li><li><span class='ee-k'>precision:</span><span class='ee-v'>double</span></li></ul></details></li><li><details><summary>dimensions: [4256, 2110]</summary><ul><li><span class='ee-k'>0:</span><span class='ee-v'>4256</span></li><li><span class='ee-k'>1:</span><span class='ee-v'>2110</span></li></ul></details></li></ul></details></li><li><details><summary>4: \"swir1\", double, EPSG:32621, 4256x2110 px</summary><ul><li><span class='ee-k'>id:</span><span class='ee-v'>swir1</span></li><li><span class='ee-k'>crs:</span><span class='ee-v'>EPSG:32621</span></li><li><details><summary>crs_transform: [30, 0, 598620, 0, -30, -211440]</summary><ul><li><span class='ee-k'>0:</span><span class='ee-v'>30</span></li><li><span class='ee-k'>1:</span><span class='ee-v'>0</span></li><li><span class='ee-k'>2:</span><span class='ee-v'>598620</span></li><li><span class='ee-k'>3:</span><span class='ee-v'>0</span></li><li><span class='ee-k'>4:</span><span class='ee-v'>-30</span></li><li><span class='ee-k'>5:</span><span class='ee-v'>-211440</span></li></ul></details></li><li><details><summary>data_type: double</summary><ul><li><span class='ee-k'>type:</span><span class='ee-v'>PixelType</span></li><li><span class='ee-k'>precision:</span><span class='ee-v'>double</span></li></ul></details></li><li><details><summary>dimensions: [4256, 2110]</summary><ul><li><span class='ee-k'>0:</span><span class='ee-v'>4256</span></li><li><span class='ee-k'>1:</span><span class='ee-v'>2110</span></li></ul></details></li></ul></details></li><li><details><summary>5: \"swir2\", double, EPSG:32621, 4256x2110 px</summary><ul><li><span class='ee-k'>id:</span><span class='ee-v'>swir2</span></li><li><span class='ee-k'>crs:</span><span class='ee-v'>EPSG:32621</span></li><li><details><summary>crs_transform: [30, 0, 598620, 0, -30, -211440]</summary><ul><li><span class='ee-k'>0:</span><span class='ee-v'>30</span></li><li><span class='ee-k'>1:</span><span class='ee-v'>0</span></li><li><span class='ee-k'>2:</span><span class='ee-v'>598620</span></li><li><span class='ee-k'>3:</span><span class='ee-v'>0</span></li><li><span class='ee-k'>4:</span><span class='ee-v'>-30</span></li><li><span class='ee-k'>5:</span><span class='ee-v'>-211440</span></li></ul></details></li><li><details><summary>data_type: double</summary><ul><li><span class='ee-k'>type:</span><span class='ee-v'>PixelType</span></li><li><span class='ee-k'>precision:</span><span class='ee-v'>double</span></li></ul></details></li><li><details><summary>dimensions: [4256, 2110]</summary><ul><li><span class='ee-k'>0:</span><span class='ee-v'>4256</span></li><li><span class='ee-k'>1:</span><span class='ee-v'>2110</span></li></ul></details></li></ul></details></li></ul></details></li><li><details><summary>properties: Object (3 properties)</summary><ul><li><span class='ee-k'>CLOUD_COVER:</span><span class='ee-v'>54</span></li><li><span class='ee-k'>system:index:</span><span class='ee-v'>1_2_BOA_LE07_228062_20000124</span></li><li><span class='ee-k'>system:time_start:</span><span class='ee-v'>948721631943</span></li></ul></details></li></ul></details></li><li><details><summary>2: Image (6 bands)</summary><ul><li><span class='ee-k'>type:</span><span class='ee-v'>Image</span></li><li><details><summary>bands: List (6 elements)</summary><ul><li><details><summary>0: \"blue_mean\", double, EPSG:32621, 4256x2110 px</summary><ul><li><span class='ee-k'>id:</span><span class='ee-v'>blue_mean</span></li><li><span class='ee-k'>crs:</span><span class='ee-v'>EPSG:32621</span></li><li><details><summary>crs_transform: [30, 0, 598620, 0, -30, -211440]</summary><ul><li><span class='ee-k'>0:</span><span class='ee-v'>30</span></li><li><span class='ee-k'>1:</span><span class='ee-v'>0</span></li><li><span class='ee-k'>2:</span><span class='ee-v'>598620</span></li><li><span class='ee-k'>3:</span><span class='ee-v'>0</span></li><li><span class='ee-k'>4:</span><span class='ee-v'>-30</span></li><li><span class='ee-k'>5:</span><span class='ee-v'>-211440</span></li></ul></details></li><li><details><summary>data_type: double</summary><ul><li><span class='ee-k'>type:</span><span class='ee-v'>PixelType</span></li><li><span class='ee-k'>precision:</span><span class='ee-v'>double</span></li></ul></details></li><li><details><summary>dimensions: [4256, 2110]</summary><ul><li><span class='ee-k'>0:</span><span class='ee-v'>4256</span></li><li><span class='ee-k'>1:</span><span class='ee-v'>2110</span></li></ul></details></li></ul></details></li><li><details><summary>1: \"green_mean\", double, EPSG:32621, 4256x2110 px</summary><ul><li><span class='ee-k'>id:</span><span class='ee-v'>green_mean</span></li><li><span class='ee-k'>crs:</span><span class='ee-v'>EPSG:32621</span></li><li><details><summary>crs_transform: [30, 0, 598620, 0, -30, -211440]</summary><ul><li><span class='ee-k'>0:</span><span class='ee-v'>30</span></li><li><span class='ee-k'>1:</span><span class='ee-v'>0</span></li><li><span class='ee-k'>2:</span><span class='ee-v'>598620</span></li><li><span class='ee-k'>3:</span><span class='ee-v'>0</span></li><li><span class='ee-k'>4:</span><span class='ee-v'>-30</span></li><li><span class='ee-k'>5:</span><span class='ee-v'>-211440</span></li></ul></details></li><li><details><summary>data_type: double</summary><ul><li><span class='ee-k'>type:</span><span class='ee-v'>PixelType</span></li><li><span class='ee-k'>precision:</span><span class='ee-v'>double</span></li></ul></details></li><li><details><summary>dimensions: [4256, 2110]</summary><ul><li><span class='ee-k'>0:</span><span class='ee-v'>4256</span></li><li><span class='ee-k'>1:</span><span class='ee-v'>2110</span></li></ul></details></li></ul></details></li><li><details><summary>2: \"red_mean\", double, EPSG:32621, 4256x2110 px</summary><ul><li><span class='ee-k'>id:</span><span class='ee-v'>red_mean</span></li><li><span class='ee-k'>crs:</span><span class='ee-v'>EPSG:32621</span></li><li><details><summary>crs_transform: [30, 0, 598620, 0, -30, -211440]</summary><ul><li><span class='ee-k'>0:</span><span class='ee-v'>30</span></li><li><span class='ee-k'>1:</span><span class='ee-v'>0</span></li><li><span class='ee-k'>2:</span><span class='ee-v'>598620</span></li><li><span class='ee-k'>3:</span><span class='ee-v'>0</span></li><li><span class='ee-k'>4:</span><span class='ee-v'>-30</span></li><li><span class='ee-k'>5:</span><span class='ee-v'>-211440</span></li></ul></details></li><li><details><summary>data_type: double</summary><ul><li><span class='ee-k'>type:</span><span class='ee-v'>PixelType</span></li><li><span class='ee-k'>precision:</span><span class='ee-v'>double</span></li></ul></details></li><li><details><summary>dimensions: [4256, 2110]</summary><ul><li><span class='ee-k'>0:</span><span class='ee-v'>4256</span></li><li><span class='ee-k'>1:</span><span class='ee-v'>2110</span></li></ul></details></li></ul></details></li><li><details><summary>3: \"nir_mean\", double, EPSG:32621, 4256x2110 px</summary><ul><li><span class='ee-k'>id:</span><span class='ee-v'>nir_mean</span></li><li><span class='ee-k'>crs:</span><span class='ee-v'>EPSG:32621</span></li><li><details><summary>crs_transform: [30, 0, 598620, 0, -30, -211440]</summary><ul><li><span class='ee-k'>0:</span><span class='ee-v'>30</span></li><li><span class='ee-k'>1:</span><span class='ee-v'>0</span></li><li><span class='ee-k'>2:</span><span class='ee-v'>598620</span></li><li><span class='ee-k'>3:</span><span class='ee-v'>0</span></li><li><span class='ee-k'>4:</span><span class='ee-v'>-30</span></li><li><span class='ee-k'>5:</span><span class='ee-v'>-211440</span></li></ul></details></li><li><details><summary>data_type: double</summary><ul><li><span class='ee-k'>type:</span><span class='ee-v'>PixelType</span></li><li><span class='ee-k'>precision:</span><span class='ee-v'>double</span></li></ul></details></li><li><details><summary>dimensions: [4256, 2110]</summary><ul><li><span class='ee-k'>0:</span><span class='ee-v'>4256</span></li><li><span class='ee-k'>1:</span><span class='ee-v'>2110</span></li></ul></details></li></ul></details></li><li><details><summary>4: \"swir1\", double, EPSG:32621, 4256x2110 px</summary><ul><li><span class='ee-k'>id:</span><span class='ee-v'>swir1</span></li><li><span class='ee-k'>crs:</span><span class='ee-v'>EPSG:32621</span></li><li><details><summary>crs_transform: [30, 0, 598620, 0, -30, -211440]</summary><ul><li><span class='ee-k'>0:</span><span class='ee-v'>30</span></li><li><span class='ee-k'>1:</span><span class='ee-v'>0</span></li><li><span class='ee-k'>2:</span><span class='ee-v'>598620</span></li><li><span class='ee-k'>3:</span><span class='ee-v'>0</span></li><li><span class='ee-k'>4:</span><span class='ee-v'>-30</span></li><li><span class='ee-k'>5:</span><span class='ee-v'>-211440</span></li></ul></details></li><li><details><summary>data_type: double</summary><ul><li><span class='ee-k'>type:</span><span class='ee-v'>PixelType</span></li><li><span class='ee-k'>precision:</span><span class='ee-v'>double</span></li></ul></details></li><li><details><summary>dimensions: [4256, 2110]</summary><ul><li><span class='ee-k'>0:</span><span class='ee-v'>4256</span></li><li><span class='ee-k'>1:</span><span class='ee-v'>2110</span></li></ul></details></li></ul></details></li><li><details><summary>5: \"swir2\", double, EPSG:32621, 4256x2110 px</summary><ul><li><span class='ee-k'>id:</span><span class='ee-v'>swir2</span></li><li><span class='ee-k'>crs:</span><span class='ee-v'>EPSG:32621</span></li><li><details><summary>crs_transform: [30, 0, 598620, 0, -30, -211440]</summary><ul><li><span class='ee-k'>0:</span><span class='ee-v'>30</span></li><li><span class='ee-k'>1:</span><span class='ee-v'>0</span></li><li><span class='ee-k'>2:</span><span class='ee-v'>598620</span></li><li><span class='ee-k'>3:</span><span class='ee-v'>0</span></li><li><span class='ee-k'>4:</span><span class='ee-v'>-30</span></li><li><span class='ee-k'>5:</span><span class='ee-v'>-211440</span></li></ul></details></li><li><details><summary>data_type: double</summary><ul><li><span class='ee-k'>type:</span><span class='ee-v'>PixelType</span></li><li><span class='ee-k'>precision:</span><span class='ee-v'>double</span></li></ul></details></li><li><details><summary>dimensions: [4256, 2110]</summary><ul><li><span class='ee-k'>0:</span><span class='ee-v'>4256</span></li><li><span class='ee-k'>1:</span><span class='ee-v'>2110</span></li></ul></details></li></ul></details></li></ul></details></li><li><details><summary>properties: Object (3 properties)</summary><ul><li><span class='ee-k'>CLOUD_COVER:</span><span class='ee-v'>67</span></li><li><span class='ee-k'>system:index:</span><span class='ee-v'>1_2_BOA_LE07_228061_20000209</span></li><li><span class='ee-k'>system:time_start:</span><span class='ee-v'>950104003458</span></li></ul></details></li></ul></details></li><li><details><summary>3: Image (6 bands)</summary><ul><li><span class='ee-k'>type:</span><span class='ee-v'>Image</span></li><li><details><summary>bands: List (6 elements)</summary><ul><li><details><summary>0: \"blue_mean\", double, EPSG:32621, 4256x2110 px</summary><ul><li><span class='ee-k'>id:</span><span class='ee-v'>blue_mean</span></li><li><span class='ee-k'>crs:</span><span class='ee-v'>EPSG:32621</span></li><li><details><summary>crs_transform: [30, 0, 598620, 0, -30, -211440]</summary><ul><li><span class='ee-k'>0:</span><span class='ee-v'>30</span></li><li><span class='ee-k'>1:</span><span class='ee-v'>0</span></li><li><span class='ee-k'>2:</span><span class='ee-v'>598620</span></li><li><span class='ee-k'>3:</span><span class='ee-v'>0</span></li><li><span class='ee-k'>4:</span><span class='ee-v'>-30</span></li><li><span class='ee-k'>5:</span><span class='ee-v'>-211440</span></li></ul></details></li><li><details><summary>data_type: double</summary><ul><li><span class='ee-k'>type:</span><span class='ee-v'>PixelType</span></li><li><span class='ee-k'>precision:</span><span class='ee-v'>double</span></li></ul></details></li><li><details><summary>dimensions: [4256, 2110]</summary><ul><li><span class='ee-k'>0:</span><span class='ee-v'>4256</span></li><li><span class='ee-k'>1:</span><span class='ee-v'>2110</span></li></ul></details></li></ul></details></li><li><details><summary>1: \"green_mean\", double, EPSG:32621, 4256x2110 px</summary><ul><li><span class='ee-k'>id:</span><span class='ee-v'>green_mean</span></li><li><span class='ee-k'>crs:</span><span class='ee-v'>EPSG:32621</span></li><li><details><summary>crs_transform: [30, 0, 598620, 0, -30, -211440]</summary><ul><li><span class='ee-k'>0:</span><span class='ee-v'>30</span></li><li><span class='ee-k'>1:</span><span class='ee-v'>0</span></li><li><span class='ee-k'>2:</span><span class='ee-v'>598620</span></li><li><span class='ee-k'>3:</span><span class='ee-v'>0</span></li><li><span class='ee-k'>4:</span><span class='ee-v'>-30</span></li><li><span class='ee-k'>5:</span><span class='ee-v'>-211440</span></li></ul></details></li><li><details><summary>data_type: double</summary><ul><li><span class='ee-k'>type:</span><span class='ee-v'>PixelType</span></li><li><span class='ee-k'>precision:</span><span class='ee-v'>double</span></li></ul></details></li><li><details><summary>dimensions: [4256, 2110]</summary><ul><li><span class='ee-k'>0:</span><span class='ee-v'>4256</span></li><li><span class='ee-k'>1:</span><span class='ee-v'>2110</span></li></ul></details></li></ul></details></li><li><details><summary>2: \"red_mean\", double, EPSG:32621, 4256x2110 px</summary><ul><li><span class='ee-k'>id:</span><span class='ee-v'>red_mean</span></li><li><span class='ee-k'>crs:</span><span class='ee-v'>EPSG:32621</span></li><li><details><summary>crs_transform: [30, 0, 598620, 0, -30, -211440]</summary><ul><li><span class='ee-k'>0:</span><span class='ee-v'>30</span></li><li><span class='ee-k'>1:</span><span class='ee-v'>0</span></li><li><span class='ee-k'>2:</span><span class='ee-v'>598620</span></li><li><span class='ee-k'>3:</span><span class='ee-v'>0</span></li><li><span class='ee-k'>4:</span><span class='ee-v'>-30</span></li><li><span class='ee-k'>5:</span><span class='ee-v'>-211440</span></li></ul></details></li><li><details><summary>data_type: double</summary><ul><li><span class='ee-k'>type:</span><span class='ee-v'>PixelType</span></li><li><span class='ee-k'>precision:</span><span class='ee-v'>double</span></li></ul></details></li><li><details><summary>dimensions: [4256, 2110]</summary><ul><li><span class='ee-k'>0:</span><span class='ee-v'>4256</span></li><li><span class='ee-k'>1:</span><span class='ee-v'>2110</span></li></ul></details></li></ul></details></li><li><details><summary>3: \"nir_mean\", double, EPSG:32621, 4256x2110 px</summary><ul><li><span class='ee-k'>id:</span><span class='ee-v'>nir_mean</span></li><li><span class='ee-k'>crs:</span><span class='ee-v'>EPSG:32621</span></li><li><details><summary>crs_transform: [30, 0, 598620, 0, -30, -211440]</summary><ul><li><span class='ee-k'>0:</span><span class='ee-v'>30</span></li><li><span class='ee-k'>1:</span><span class='ee-v'>0</span></li><li><span class='ee-k'>2:</span><span class='ee-v'>598620</span></li><li><span class='ee-k'>3:</span><span class='ee-v'>0</span></li><li><span class='ee-k'>4:</span><span class='ee-v'>-30</span></li><li><span class='ee-k'>5:</span><span class='ee-v'>-211440</span></li></ul></details></li><li><details><summary>data_type: double</summary><ul><li><span class='ee-k'>type:</span><span class='ee-v'>PixelType</span></li><li><span class='ee-k'>precision:</span><span class='ee-v'>double</span></li></ul></details></li><li><details><summary>dimensions: [4256, 2110]</summary><ul><li><span class='ee-k'>0:</span><span class='ee-v'>4256</span></li><li><span class='ee-k'>1:</span><span class='ee-v'>2110</span></li></ul></details></li></ul></details></li><li><details><summary>4: \"swir1\", double, EPSG:32621, 4256x2110 px</summary><ul><li><span class='ee-k'>id:</span><span class='ee-v'>swir1</span></li><li><span class='ee-k'>crs:</span><span class='ee-v'>EPSG:32621</span></li><li><details><summary>crs_transform: [30, 0, 598620, 0, -30, -211440]</summary><ul><li><span class='ee-k'>0:</span><span class='ee-v'>30</span></li><li><span class='ee-k'>1:</span><span class='ee-v'>0</span></li><li><span class='ee-k'>2:</span><span class='ee-v'>598620</span></li><li><span class='ee-k'>3:</span><span class='ee-v'>0</span></li><li><span class='ee-k'>4:</span><span class='ee-v'>-30</span></li><li><span class='ee-k'>5:</span><span class='ee-v'>-211440</span></li></ul></details></li><li><details><summary>data_type: double</summary><ul><li><span class='ee-k'>type:</span><span class='ee-v'>PixelType</span></li><li><span class='ee-k'>precision:</span><span class='ee-v'>double</span></li></ul></details></li><li><details><summary>dimensions: [4256, 2110]</summary><ul><li><span class='ee-k'>0:</span><span class='ee-v'>4256</span></li><li><span class='ee-k'>1:</span><span class='ee-v'>2110</span></li></ul></details></li></ul></details></li><li><details><summary>5: \"swir2\", double, EPSG:32621, 4256x2110 px</summary><ul><li><span class='ee-k'>id:</span><span class='ee-v'>swir2</span></li><li><span class='ee-k'>crs:</span><span class='ee-v'>EPSG:32621</span></li><li><details><summary>crs_transform: [30, 0, 598620, 0, -30, -211440]</summary><ul><li><span class='ee-k'>0:</span><span class='ee-v'>30</span></li><li><span class='ee-k'>1:</span><span class='ee-v'>0</span></li><li><span class='ee-k'>2:</span><span class='ee-v'>598620</span></li><li><span class='ee-k'>3:</span><span class='ee-v'>0</span></li><li><span class='ee-k'>4:</span><span class='ee-v'>-30</span></li><li><span class='ee-k'>5:</span><span class='ee-v'>-211440</span></li></ul></details></li><li><details><summary>data_type: double</summary><ul><li><span class='ee-k'>type:</span><span class='ee-v'>PixelType</span></li><li><span class='ee-k'>precision:</span><span class='ee-v'>double</span></li></ul></details></li><li><details><summary>dimensions: [4256, 2110]</summary><ul><li><span class='ee-k'>0:</span><span class='ee-v'>4256</span></li><li><span class='ee-k'>1:</span><span class='ee-v'>2110</span></li></ul></details></li></ul></details></li></ul></details></li><li><details><summary>properties: Object (3 properties)</summary><ul><li><span class='ee-k'>CLOUD_COVER:</span><span class='ee-v'>75</span></li><li><span class='ee-k'>system:index:</span><span class='ee-v'>1_2_BOA_LE07_228062_20000209</span></li><li><span class='ee-k'>system:time_start:</span><span class='ee-v'>950104027379</span></li></ul></details></li></ul></details></li><li><details><summary>4: Image (6 bands)</summary><ul><li><span class='ee-k'>type:</span><span class='ee-v'>Image</span></li><li><details><summary>bands: List (6 elements)</summary><ul><li><details><summary>0: \"blue_mean\", double, EPSG:32621, 4256x2110 px</summary><ul><li><span class='ee-k'>id:</span><span class='ee-v'>blue_mean</span></li><li><span class='ee-k'>crs:</span><span class='ee-v'>EPSG:32621</span></li><li><details><summary>crs_transform: [30, 0, 598620, 0, -30, -211440]</summary><ul><li><span class='ee-k'>0:</span><span class='ee-v'>30</span></li><li><span class='ee-k'>1:</span><span class='ee-v'>0</span></li><li><span class='ee-k'>2:</span><span class='ee-v'>598620</span></li><li><span class='ee-k'>3:</span><span class='ee-v'>0</span></li><li><span class='ee-k'>4:</span><span class='ee-v'>-30</span></li><li><span class='ee-k'>5:</span><span class='ee-v'>-211440</span></li></ul></details></li><li><details><summary>data_type: double</summary><ul><li><span class='ee-k'>type:</span><span class='ee-v'>PixelType</span></li><li><span class='ee-k'>precision:</span><span class='ee-v'>double</span></li></ul></details></li><li><details><summary>dimensions: [4256, 2110]</summary><ul><li><span class='ee-k'>0:</span><span class='ee-v'>4256</span></li><li><span class='ee-k'>1:</span><span class='ee-v'>2110</span></li></ul></details></li></ul></details></li><li><details><summary>1: \"green_mean\", double, EPSG:32621, 4256x2110 px</summary><ul><li><span class='ee-k'>id:</span><span class='ee-v'>green_mean</span></li><li><span class='ee-k'>crs:</span><span class='ee-v'>EPSG:32621</span></li><li><details><summary>crs_transform: [30, 0, 598620, 0, -30, -211440]</summary><ul><li><span class='ee-k'>0:</span><span class='ee-v'>30</span></li><li><span class='ee-k'>1:</span><span class='ee-v'>0</span></li><li><span class='ee-k'>2:</span><span class='ee-v'>598620</span></li><li><span class='ee-k'>3:</span><span class='ee-v'>0</span></li><li><span class='ee-k'>4:</span><span class='ee-v'>-30</span></li><li><span class='ee-k'>5:</span><span class='ee-v'>-211440</span></li></ul></details></li><li><details><summary>data_type: double</summary><ul><li><span class='ee-k'>type:</span><span class='ee-v'>PixelType</span></li><li><span class='ee-k'>precision:</span><span class='ee-v'>double</span></li></ul></details></li><li><details><summary>dimensions: [4256, 2110]</summary><ul><li><span class='ee-k'>0:</span><span class='ee-v'>4256</span></li><li><span class='ee-k'>1:</span><span class='ee-v'>2110</span></li></ul></details></li></ul></details></li><li><details><summary>2: \"red_mean\", double, EPSG:32621, 4256x2110 px</summary><ul><li><span class='ee-k'>id:</span><span class='ee-v'>red_mean</span></li><li><span class='ee-k'>crs:</span><span class='ee-v'>EPSG:32621</span></li><li><details><summary>crs_transform: [30, 0, 598620, 0, -30, -211440]</summary><ul><li><span class='ee-k'>0:</span><span class='ee-v'>30</span></li><li><span class='ee-k'>1:</span><span class='ee-v'>0</span></li><li><span class='ee-k'>2:</span><span class='ee-v'>598620</span></li><li><span class='ee-k'>3:</span><span class='ee-v'>0</span></li><li><span class='ee-k'>4:</span><span class='ee-v'>-30</span></li><li><span class='ee-k'>5:</span><span class='ee-v'>-211440</span></li></ul></details></li><li><details><summary>data_type: double</summary><ul><li><span class='ee-k'>type:</span><span class='ee-v'>PixelType</span></li><li><span class='ee-k'>precision:</span><span class='ee-v'>double</span></li></ul></details></li><li><details><summary>dimensions: [4256, 2110]</summary><ul><li><span class='ee-k'>0:</span><span class='ee-v'>4256</span></li><li><span class='ee-k'>1:</span><span class='ee-v'>2110</span></li></ul></details></li></ul></details></li><li><details><summary>3: \"nir_mean\", double, EPSG:32621, 4256x2110 px</summary><ul><li><span class='ee-k'>id:</span><span class='ee-v'>nir_mean</span></li><li><span class='ee-k'>crs:</span><span class='ee-v'>EPSG:32621</span></li><li><details><summary>crs_transform: [30, 0, 598620, 0, -30, -211440]</summary><ul><li><span class='ee-k'>0:</span><span class='ee-v'>30</span></li><li><span class='ee-k'>1:</span><span class='ee-v'>0</span></li><li><span class='ee-k'>2:</span><span class='ee-v'>598620</span></li><li><span class='ee-k'>3:</span><span class='ee-v'>0</span></li><li><span class='ee-k'>4:</span><span class='ee-v'>-30</span></li><li><span class='ee-k'>5:</span><span class='ee-v'>-211440</span></li></ul></details></li><li><details><summary>data_type: double</summary><ul><li><span class='ee-k'>type:</span><span class='ee-v'>PixelType</span></li><li><span class='ee-k'>precision:</span><span class='ee-v'>double</span></li></ul></details></li><li><details><summary>dimensions: [4256, 2110]</summary><ul><li><span class='ee-k'>0:</span><span class='ee-v'>4256</span></li><li><span class='ee-k'>1:</span><span class='ee-v'>2110</span></li></ul></details></li></ul></details></li><li><details><summary>4: \"swir1\", double, EPSG:32621, 4256x2110 px</summary><ul><li><span class='ee-k'>id:</span><span class='ee-v'>swir1</span></li><li><span class='ee-k'>crs:</span><span class='ee-v'>EPSG:32621</span></li><li><details><summary>crs_transform: [30, 0, 598620, 0, -30, -211440]</summary><ul><li><span class='ee-k'>0:</span><span class='ee-v'>30</span></li><li><span class='ee-k'>1:</span><span class='ee-v'>0</span></li><li><span class='ee-k'>2:</span><span class='ee-v'>598620</span></li><li><span class='ee-k'>3:</span><span class='ee-v'>0</span></li><li><span class='ee-k'>4:</span><span class='ee-v'>-30</span></li><li><span class='ee-k'>5:</span><span class='ee-v'>-211440</span></li></ul></details></li><li><details><summary>data_type: double</summary><ul><li><span class='ee-k'>type:</span><span class='ee-v'>PixelType</span></li><li><span class='ee-k'>precision:</span><span class='ee-v'>double</span></li></ul></details></li><li><details><summary>dimensions: [4256, 2110]</summary><ul><li><span class='ee-k'>0:</span><span class='ee-v'>4256</span></li><li><span class='ee-k'>1:</span><span class='ee-v'>2110</span></li></ul></details></li></ul></details></li><li><details><summary>5: \"swir2\", double, EPSG:32621, 4256x2110 px</summary><ul><li><span class='ee-k'>id:</span><span class='ee-v'>swir2</span></li><li><span class='ee-k'>crs:</span><span class='ee-v'>EPSG:32621</span></li><li><details><summary>crs_transform: [30, 0, 598620, 0, -30, -211440]</summary><ul><li><span class='ee-k'>0:</span><span class='ee-v'>30</span></li><li><span class='ee-k'>1:</span><span class='ee-v'>0</span></li><li><span class='ee-k'>2:</span><span class='ee-v'>598620</span></li><li><span class='ee-k'>3:</span><span class='ee-v'>0</span></li><li><span class='ee-k'>4:</span><span class='ee-v'>-30</span></li><li><span class='ee-k'>5:</span><span class='ee-v'>-211440</span></li></ul></details></li><li><details><summary>data_type: double</summary><ul><li><span class='ee-k'>type:</span><span class='ee-v'>PixelType</span></li><li><span class='ee-k'>precision:</span><span class='ee-v'>double</span></li></ul></details></li><li><details><summary>dimensions: [4256, 2110]</summary><ul><li><span class='ee-k'>0:</span><span class='ee-v'>4256</span></li><li><span class='ee-k'>1:</span><span class='ee-v'>2110</span></li></ul></details></li></ul></details></li></ul></details></li><li><details><summary>properties: Object (3 properties)</summary><ul><li><span class='ee-k'>CLOUD_COVER:</span><span class='ee-v'>74</span></li><li><span class='ee-k'>system:index:</span><span class='ee-v'>1_2_BOA_LE07_227061_20000218</span></li><li><span class='ee-k'>system:time_start:</span><span class='ee-v'>950881229653</span></li></ul></details></li></ul></details></li></ul></details></li></ul></details></li></ul></div></div>"
            ]
          },
          "metadata": {},
          "execution_count": 18
        }
      ],
      "source": [
        "merge_col = ld8.merge(ld7).merge(ld9).sort('system:time_start').map(deglint)\n",
        "merge_col.limit(5)"
      ]
    },
    {
      "cell_type": "code",
      "source": [
        "merge_col.size()"
      ],
      "metadata": {
        "id": "VzD8yWun3qda",
        "outputId": "8b9a3094-ff25-4d43-c146-48eaa9492571",
        "colab": {
          "base_uri": "https://localhost:8080/",
          "height": 0
        }
      },
      "execution_count": 19,
      "outputs": [
        {
          "output_type": "display_data",
          "data": {
            "text/plain": [
              "<IPython.core.display.HTML object>"
            ],
            "text/html": [
              "\n",
              "            <style>\n",
              "                .geemap-dark {\n",
              "                    --jp-widgets-color: white;\n",
              "                    --jp-widgets-label-color: white;\n",
              "                    --jp-ui-font-color1: white;\n",
              "                    --jp-layout-color2: #454545;\n",
              "                    background-color: #383838;\n",
              "                }\n",
              "\n",
              "                .geemap-dark .jupyter-button {\n",
              "                    --jp-layout-color3: #383838;\n",
              "                }\n",
              "\n",
              "                .geemap-colab {\n",
              "                    background-color: var(--colab-primary-surface-color, white);\n",
              "                }\n",
              "\n",
              "                .geemap-colab .jupyter-button {\n",
              "                    --jp-layout-color3: var(--colab-primary-surface-color, white);\n",
              "                }\n",
              "            </style>\n",
              "            "
            ]
          },
          "metadata": {}
        },
        {
          "output_type": "execute_result",
          "data": {
            "text/plain": [
              "<ee.ee_number.Number at 0x7d6e072e0c10>"
            ],
            "text/html": [
              "<div><style>:root {\n",
              "  --font-color-primary: var(--jp-content-font-color0, rgba(0, 0, 0, 1));\n",
              "  --font-color-secondary: var(--jp-content-font-color2, rgba(0, 0, 0, 0.7));\n",
              "  --font-color-accent: rgba(123, 31, 162, 1);\n",
              "  --border-color: var(--jp-border-color2, #e0e0e0);\n",
              "  --background-color: var(--jp-layout-color0, white);\n",
              "  --background-color-row-even: var(--jp-layout-color1, white);\n",
              "  --background-color-row-odd: var(--jp-layout-color2, #eeeeee);\n",
              "}\n",
              "\n",
              "html[theme=\"dark\"],\n",
              "body[data-theme=\"dark\"],\n",
              "body.vscode-dark {\n",
              "  --font-color-primary: rgba(255, 255, 255, 1);\n",
              "  --font-color-secondary: rgba(255, 255, 255, 0.7);\n",
              "  --font-color-accent: rgb(173, 132, 190);\n",
              "  --border-color: #2e2e2e;\n",
              "  --background-color: #111111;\n",
              "  --background-color-row-even: #111111;\n",
              "  --background-color-row-odd: #313131;\n",
              "}\n",
              "\n",
              ".eerepr {\n",
              "  padding: 1em;\n",
              "  line-height: 1.5em;\n",
              "  min-width: 300px;\n",
              "  max-width: 1200px;\n",
              "  overflow-y: scroll;\n",
              "  max-height: 600px;\n",
              "  border: 1px solid var(--border-color);\n",
              "  font-family: monospace;\n",
              "  font-size: 14px;\n",
              "}\n",
              "\n",
              ".eerepr li {\n",
              "  list-style-type: none;\n",
              "  margin: 0;\n",
              "}\n",
              "\n",
              ".eerepr ul {\n",
              "  padding-left: 1.5em !important;\n",
              "  margin: 0;\n",
              "}\n",
              "\n",
              ".eerepr > ul {\n",
              "  padding-left: 0 !important;\n",
              "}\n",
              "\n",
              ".eerepr summary {\n",
              "  color: var(--font-color-secondary);\n",
              "  cursor: pointer;\n",
              "  margin: 0;\n",
              "}\n",
              "\n",
              ".eerepr summary:hover {\n",
              "  color: var(--font-color-primary);\n",
              "  background-color: var(--background-color-row-odd)\n",
              "}\n",
              "\n",
              ".ee-k {\n",
              "  color: var(--font-color-accent);\n",
              "  margin-right: 6px;\n",
              "}\n",
              "\n",
              ".ee-v {\n",
              "  color: var(--font-color-primary);\n",
              "}\n",
              "\n",
              ".eerepr details > summary::before {\n",
              "  content: '▼';\n",
              "  display: inline-block;\n",
              "  margin-right: 6px;\n",
              "  transition: transform 0.2s;\n",
              "  transform: rotate(-90deg);\n",
              "}\n",
              "\n",
              ".eerepr details[open] > summary::before {\n",
              "  transform: rotate(0deg);\n",
              "}\n",
              "\n",
              ".eerepr details summary::-webkit-details-marker {\n",
              "  display:none;\n",
              "}\n",
              "\n",
              ".eerepr details summary {\n",
              "  list-style-type: none;\n",
              "}\n",
              "</style><div class='eerepr'><ul><li><span class='ee-v'>2317</span></li></ul></div></div>"
            ]
          },
          "metadata": {},
          "execution_count": 19
        }
      ]
    },
    {
      "cell_type": "markdown",
      "source": [
        "# Importar dados de periodo baseado na vazao de obidos"
      ],
      "metadata": {
        "id": "2qTZ3sT33uK6"
      }
    },
    {
      "cell_type": "code",
      "source": [
        "#import period dates\n",
        "df_period_limits = pd.read_csv('/content/drive/MyDrive/CURUAI_PROCESS/water_period_limits.csv').drop(columns=['Unnamed: 0'])\n",
        "# df_period_limits['Data'] = pd.to_datetime(df_period_limits['Data'])\n",
        "df_period_limits\n"
      ],
      "metadata": {
        "id": "N6bXVsj_9Ib3",
        "outputId": "064ef6b7-ee0b-49d4-d130-8d8569b05b6c",
        "colab": {
          "base_uri": "https://localhost:8080/",
          "height": 423
        }
      },
      "execution_count": 20,
      "outputs": [
        {
          "output_type": "display_data",
          "data": {
            "text/plain": [
              "<IPython.core.display.HTML object>"
            ],
            "text/html": [
              "\n",
              "            <style>\n",
              "                .geemap-dark {\n",
              "                    --jp-widgets-color: white;\n",
              "                    --jp-widgets-label-color: white;\n",
              "                    --jp-ui-font-color1: white;\n",
              "                    --jp-layout-color2: #454545;\n",
              "                    background-color: #383838;\n",
              "                }\n",
              "\n",
              "                .geemap-dark .jupyter-button {\n",
              "                    --jp-layout-color3: #383838;\n",
              "                }\n",
              "\n",
              "                .geemap-colab {\n",
              "                    background-color: var(--colab-primary-surface-color, white);\n",
              "                }\n",
              "\n",
              "                .geemap-colab .jupyter-button {\n",
              "                    --jp-layout-color3: var(--colab-primary-surface-color, white);\n",
              "                }\n",
              "            </style>\n",
              "            "
            ]
          },
          "metadata": {}
        },
        {
          "output_type": "execute_result",
          "data": {
            "text/plain": [
              "                             Data     type  day  month  year  longitude  \\\n",
              "0   2000-01-13 10:43:38.181818240  LW_to_R   13      1  2000   -55.5131   \n",
              "1   2000-02-29 18:17:42.295081984  R_to_HW   29      2  2000   -55.5131   \n",
              "2   2000-08-24 20:45:42.857142784  HW_to_F   24      8  2000   -55.5131   \n",
              "3   2000-09-28 10:23:44.598930432  F_to_LW   28      9  2000   -55.5131   \n",
              "4   2001-01-05 16:27:54.418604672  LW_to_R    5      1  2001   -55.5131   \n",
              "..                            ...      ...  ...    ...   ...        ...   \n",
              "95  2023-08-25 18:37:31.737451520  F_to_LW   25      8  2023   -55.5131   \n",
              "96  2024-01-26 18:57:28.739495680  LW_to_R   26      1  2024   -55.5131   \n",
              "97  2024-03-25 23:32:02.330097152  R_to_HW   25      3  2024   -55.5131   \n",
              "98  2024-04-06 10:42:51.428571648  HW_to_F    6      4  2024   -55.5131   \n",
              "99  2024-05-30 21:51:25.714285824   F_to_L   30      5  2024   -55.5131   \n",
              "\n",
              "    latitude  \n",
              "0    -1.9192  \n",
              "1    -1.9192  \n",
              "2    -1.9192  \n",
              "3    -1.9192  \n",
              "4    -1.9192  \n",
              "..       ...  \n",
              "95   -1.9192  \n",
              "96   -1.9192  \n",
              "97   -1.9192  \n",
              "98   -1.9192  \n",
              "99   -1.9192  \n",
              "\n",
              "[100 rows x 7 columns]"
            ],
            "text/html": [
              "\n",
              "  <div id=\"df-f78217d8-61b6-4779-91c1-c32e9e99821b\" class=\"colab-df-container\">\n",
              "    <div>\n",
              "<style scoped>\n",
              "    .dataframe tbody tr th:only-of-type {\n",
              "        vertical-align: middle;\n",
              "    }\n",
              "\n",
              "    .dataframe tbody tr th {\n",
              "        vertical-align: top;\n",
              "    }\n",
              "\n",
              "    .dataframe thead th {\n",
              "        text-align: right;\n",
              "    }\n",
              "</style>\n",
              "<table border=\"1\" class=\"dataframe\">\n",
              "  <thead>\n",
              "    <tr style=\"text-align: right;\">\n",
              "      <th></th>\n",
              "      <th>Data</th>\n",
              "      <th>type</th>\n",
              "      <th>day</th>\n",
              "      <th>month</th>\n",
              "      <th>year</th>\n",
              "      <th>longitude</th>\n",
              "      <th>latitude</th>\n",
              "    </tr>\n",
              "  </thead>\n",
              "  <tbody>\n",
              "    <tr>\n",
              "      <th>0</th>\n",
              "      <td>2000-01-13 10:43:38.181818240</td>\n",
              "      <td>LW_to_R</td>\n",
              "      <td>13</td>\n",
              "      <td>1</td>\n",
              "      <td>2000</td>\n",
              "      <td>-55.5131</td>\n",
              "      <td>-1.9192</td>\n",
              "    </tr>\n",
              "    <tr>\n",
              "      <th>1</th>\n",
              "      <td>2000-02-29 18:17:42.295081984</td>\n",
              "      <td>R_to_HW</td>\n",
              "      <td>29</td>\n",
              "      <td>2</td>\n",
              "      <td>2000</td>\n",
              "      <td>-55.5131</td>\n",
              "      <td>-1.9192</td>\n",
              "    </tr>\n",
              "    <tr>\n",
              "      <th>2</th>\n",
              "      <td>2000-08-24 20:45:42.857142784</td>\n",
              "      <td>HW_to_F</td>\n",
              "      <td>24</td>\n",
              "      <td>8</td>\n",
              "      <td>2000</td>\n",
              "      <td>-55.5131</td>\n",
              "      <td>-1.9192</td>\n",
              "    </tr>\n",
              "    <tr>\n",
              "      <th>3</th>\n",
              "      <td>2000-09-28 10:23:44.598930432</td>\n",
              "      <td>F_to_LW</td>\n",
              "      <td>28</td>\n",
              "      <td>9</td>\n",
              "      <td>2000</td>\n",
              "      <td>-55.5131</td>\n",
              "      <td>-1.9192</td>\n",
              "    </tr>\n",
              "    <tr>\n",
              "      <th>4</th>\n",
              "      <td>2001-01-05 16:27:54.418604672</td>\n",
              "      <td>LW_to_R</td>\n",
              "      <td>5</td>\n",
              "      <td>1</td>\n",
              "      <td>2001</td>\n",
              "      <td>-55.5131</td>\n",
              "      <td>-1.9192</td>\n",
              "    </tr>\n",
              "    <tr>\n",
              "      <th>...</th>\n",
              "      <td>...</td>\n",
              "      <td>...</td>\n",
              "      <td>...</td>\n",
              "      <td>...</td>\n",
              "      <td>...</td>\n",
              "      <td>...</td>\n",
              "      <td>...</td>\n",
              "    </tr>\n",
              "    <tr>\n",
              "      <th>95</th>\n",
              "      <td>2023-08-25 18:37:31.737451520</td>\n",
              "      <td>F_to_LW</td>\n",
              "      <td>25</td>\n",
              "      <td>8</td>\n",
              "      <td>2023</td>\n",
              "      <td>-55.5131</td>\n",
              "      <td>-1.9192</td>\n",
              "    </tr>\n",
              "    <tr>\n",
              "      <th>96</th>\n",
              "      <td>2024-01-26 18:57:28.739495680</td>\n",
              "      <td>LW_to_R</td>\n",
              "      <td>26</td>\n",
              "      <td>1</td>\n",
              "      <td>2024</td>\n",
              "      <td>-55.5131</td>\n",
              "      <td>-1.9192</td>\n",
              "    </tr>\n",
              "    <tr>\n",
              "      <th>97</th>\n",
              "      <td>2024-03-25 23:32:02.330097152</td>\n",
              "      <td>R_to_HW</td>\n",
              "      <td>25</td>\n",
              "      <td>3</td>\n",
              "      <td>2024</td>\n",
              "      <td>-55.5131</td>\n",
              "      <td>-1.9192</td>\n",
              "    </tr>\n",
              "    <tr>\n",
              "      <th>98</th>\n",
              "      <td>2024-04-06 10:42:51.428571648</td>\n",
              "      <td>HW_to_F</td>\n",
              "      <td>6</td>\n",
              "      <td>4</td>\n",
              "      <td>2024</td>\n",
              "      <td>-55.5131</td>\n",
              "      <td>-1.9192</td>\n",
              "    </tr>\n",
              "    <tr>\n",
              "      <th>99</th>\n",
              "      <td>2024-05-30 21:51:25.714285824</td>\n",
              "      <td>F_to_L</td>\n",
              "      <td>30</td>\n",
              "      <td>5</td>\n",
              "      <td>2024</td>\n",
              "      <td>-55.5131</td>\n",
              "      <td>-1.9192</td>\n",
              "    </tr>\n",
              "  </tbody>\n",
              "</table>\n",
              "<p>100 rows × 7 columns</p>\n",
              "</div>\n",
              "    <div class=\"colab-df-buttons\">\n",
              "\n",
              "  <div class=\"colab-df-container\">\n",
              "    <button class=\"colab-df-convert\" onclick=\"convertToInteractive('df-f78217d8-61b6-4779-91c1-c32e9e99821b')\"\n",
              "            title=\"Convert this dataframe to an interactive table.\"\n",
              "            style=\"display:none;\">\n",
              "\n",
              "  <svg xmlns=\"http://www.w3.org/2000/svg\" height=\"24px\" viewBox=\"0 -960 960 960\">\n",
              "    <path d=\"M120-120v-720h720v720H120Zm60-500h600v-160H180v160Zm220 220h160v-160H400v160Zm0 220h160v-160H400v160ZM180-400h160v-160H180v160Zm440 0h160v-160H620v160ZM180-180h160v-160H180v160Zm440 0h160v-160H620v160Z\"/>\n",
              "  </svg>\n",
              "    </button>\n",
              "\n",
              "  <style>\n",
              "    .colab-df-container {\n",
              "      display:flex;\n",
              "      gap: 12px;\n",
              "    }\n",
              "\n",
              "    .colab-df-convert {\n",
              "      background-color: #E8F0FE;\n",
              "      border: none;\n",
              "      border-radius: 50%;\n",
              "      cursor: pointer;\n",
              "      display: none;\n",
              "      fill: #1967D2;\n",
              "      height: 32px;\n",
              "      padding: 0 0 0 0;\n",
              "      width: 32px;\n",
              "    }\n",
              "\n",
              "    .colab-df-convert:hover {\n",
              "      background-color: #E2EBFA;\n",
              "      box-shadow: 0px 1px 2px rgba(60, 64, 67, 0.3), 0px 1px 3px 1px rgba(60, 64, 67, 0.15);\n",
              "      fill: #174EA6;\n",
              "    }\n",
              "\n",
              "    .colab-df-buttons div {\n",
              "      margin-bottom: 4px;\n",
              "    }\n",
              "\n",
              "    [theme=dark] .colab-df-convert {\n",
              "      background-color: #3B4455;\n",
              "      fill: #D2E3FC;\n",
              "    }\n",
              "\n",
              "    [theme=dark] .colab-df-convert:hover {\n",
              "      background-color: #434B5C;\n",
              "      box-shadow: 0px 1px 3px 1px rgba(0, 0, 0, 0.15);\n",
              "      filter: drop-shadow(0px 1px 2px rgba(0, 0, 0, 0.3));\n",
              "      fill: #FFFFFF;\n",
              "    }\n",
              "  </style>\n",
              "\n",
              "    <script>\n",
              "      const buttonEl =\n",
              "        document.querySelector('#df-f78217d8-61b6-4779-91c1-c32e9e99821b button.colab-df-convert');\n",
              "      buttonEl.style.display =\n",
              "        google.colab.kernel.accessAllowed ? 'block' : 'none';\n",
              "\n",
              "      async function convertToInteractive(key) {\n",
              "        const element = document.querySelector('#df-f78217d8-61b6-4779-91c1-c32e9e99821b');\n",
              "        const dataTable =\n",
              "          await google.colab.kernel.invokeFunction('convertToInteractive',\n",
              "                                                    [key], {});\n",
              "        if (!dataTable) return;\n",
              "\n",
              "        const docLinkHtml = 'Like what you see? Visit the ' +\n",
              "          '<a target=\"_blank\" href=https://colab.research.google.com/notebooks/data_table.ipynb>data table notebook</a>'\n",
              "          + ' to learn more about interactive tables.';\n",
              "        element.innerHTML = '';\n",
              "        dataTable['output_type'] = 'display_data';\n",
              "        await google.colab.output.renderOutput(dataTable, element);\n",
              "        const docLink = document.createElement('div');\n",
              "        docLink.innerHTML = docLinkHtml;\n",
              "        element.appendChild(docLink);\n",
              "      }\n",
              "    </script>\n",
              "  </div>\n",
              "\n",
              "\n",
              "<div id=\"df-bc505ba9-f8c9-4dbd-abd7-c229e7b0605a\">\n",
              "  <button class=\"colab-df-quickchart\" onclick=\"quickchart('df-bc505ba9-f8c9-4dbd-abd7-c229e7b0605a')\"\n",
              "            title=\"Suggest charts\"\n",
              "            style=\"display:none;\">\n",
              "\n",
              "<svg xmlns=\"http://www.w3.org/2000/svg\" height=\"24px\"viewBox=\"0 0 24 24\"\n",
              "     width=\"24px\">\n",
              "    <g>\n",
              "        <path d=\"M19 3H5c-1.1 0-2 .9-2 2v14c0 1.1.9 2 2 2h14c1.1 0 2-.9 2-2V5c0-1.1-.9-2-2-2zM9 17H7v-7h2v7zm4 0h-2V7h2v10zm4 0h-2v-4h2v4z\"/>\n",
              "    </g>\n",
              "</svg>\n",
              "  </button>\n",
              "\n",
              "<style>\n",
              "  .colab-df-quickchart {\n",
              "      --bg-color: #E8F0FE;\n",
              "      --fill-color: #1967D2;\n",
              "      --hover-bg-color: #E2EBFA;\n",
              "      --hover-fill-color: #174EA6;\n",
              "      --disabled-fill-color: #AAA;\n",
              "      --disabled-bg-color: #DDD;\n",
              "  }\n",
              "\n",
              "  [theme=dark] .colab-df-quickchart {\n",
              "      --bg-color: #3B4455;\n",
              "      --fill-color: #D2E3FC;\n",
              "      --hover-bg-color: #434B5C;\n",
              "      --hover-fill-color: #FFFFFF;\n",
              "      --disabled-bg-color: #3B4455;\n",
              "      --disabled-fill-color: #666;\n",
              "  }\n",
              "\n",
              "  .colab-df-quickchart {\n",
              "    background-color: var(--bg-color);\n",
              "    border: none;\n",
              "    border-radius: 50%;\n",
              "    cursor: pointer;\n",
              "    display: none;\n",
              "    fill: var(--fill-color);\n",
              "    height: 32px;\n",
              "    padding: 0;\n",
              "    width: 32px;\n",
              "  }\n",
              "\n",
              "  .colab-df-quickchart:hover {\n",
              "    background-color: var(--hover-bg-color);\n",
              "    box-shadow: 0 1px 2px rgba(60, 64, 67, 0.3), 0 1px 3px 1px rgba(60, 64, 67, 0.15);\n",
              "    fill: var(--button-hover-fill-color);\n",
              "  }\n",
              "\n",
              "  .colab-df-quickchart-complete:disabled,\n",
              "  .colab-df-quickchart-complete:disabled:hover {\n",
              "    background-color: var(--disabled-bg-color);\n",
              "    fill: var(--disabled-fill-color);\n",
              "    box-shadow: none;\n",
              "  }\n",
              "\n",
              "  .colab-df-spinner {\n",
              "    border: 2px solid var(--fill-color);\n",
              "    border-color: transparent;\n",
              "    border-bottom-color: var(--fill-color);\n",
              "    animation:\n",
              "      spin 1s steps(1) infinite;\n",
              "  }\n",
              "\n",
              "  @keyframes spin {\n",
              "    0% {\n",
              "      border-color: transparent;\n",
              "      border-bottom-color: var(--fill-color);\n",
              "      border-left-color: var(--fill-color);\n",
              "    }\n",
              "    20% {\n",
              "      border-color: transparent;\n",
              "      border-left-color: var(--fill-color);\n",
              "      border-top-color: var(--fill-color);\n",
              "    }\n",
              "    30% {\n",
              "      border-color: transparent;\n",
              "      border-left-color: var(--fill-color);\n",
              "      border-top-color: var(--fill-color);\n",
              "      border-right-color: var(--fill-color);\n",
              "    }\n",
              "    40% {\n",
              "      border-color: transparent;\n",
              "      border-right-color: var(--fill-color);\n",
              "      border-top-color: var(--fill-color);\n",
              "    }\n",
              "    60% {\n",
              "      border-color: transparent;\n",
              "      border-right-color: var(--fill-color);\n",
              "    }\n",
              "    80% {\n",
              "      border-color: transparent;\n",
              "      border-right-color: var(--fill-color);\n",
              "      border-bottom-color: var(--fill-color);\n",
              "    }\n",
              "    90% {\n",
              "      border-color: transparent;\n",
              "      border-bottom-color: var(--fill-color);\n",
              "    }\n",
              "  }\n",
              "</style>\n",
              "\n",
              "  <script>\n",
              "    async function quickchart(key) {\n",
              "      const quickchartButtonEl =\n",
              "        document.querySelector('#' + key + ' button');\n",
              "      quickchartButtonEl.disabled = true;  // To prevent multiple clicks.\n",
              "      quickchartButtonEl.classList.add('colab-df-spinner');\n",
              "      try {\n",
              "        const charts = await google.colab.kernel.invokeFunction(\n",
              "            'suggestCharts', [key], {});\n",
              "      } catch (error) {\n",
              "        console.error('Error during call to suggestCharts:', error);\n",
              "      }\n",
              "      quickchartButtonEl.classList.remove('colab-df-spinner');\n",
              "      quickchartButtonEl.classList.add('colab-df-quickchart-complete');\n",
              "    }\n",
              "    (() => {\n",
              "      let quickchartButtonEl =\n",
              "        document.querySelector('#df-bc505ba9-f8c9-4dbd-abd7-c229e7b0605a button');\n",
              "      quickchartButtonEl.style.display =\n",
              "        google.colab.kernel.accessAllowed ? 'block' : 'none';\n",
              "    })();\n",
              "  </script>\n",
              "</div>\n",
              "\n",
              "  <div id=\"id_c981a4c8-7a3e-49ec-95f0-0ae91d45e6a7\">\n",
              "    <style>\n",
              "      .colab-df-generate {\n",
              "        background-color: #E8F0FE;\n",
              "        border: none;\n",
              "        border-radius: 50%;\n",
              "        cursor: pointer;\n",
              "        display: none;\n",
              "        fill: #1967D2;\n",
              "        height: 32px;\n",
              "        padding: 0 0 0 0;\n",
              "        width: 32px;\n",
              "      }\n",
              "\n",
              "      .colab-df-generate:hover {\n",
              "        background-color: #E2EBFA;\n",
              "        box-shadow: 0px 1px 2px rgba(60, 64, 67, 0.3), 0px 1px 3px 1px rgba(60, 64, 67, 0.15);\n",
              "        fill: #174EA6;\n",
              "      }\n",
              "\n",
              "      [theme=dark] .colab-df-generate {\n",
              "        background-color: #3B4455;\n",
              "        fill: #D2E3FC;\n",
              "      }\n",
              "\n",
              "      [theme=dark] .colab-df-generate:hover {\n",
              "        background-color: #434B5C;\n",
              "        box-shadow: 0px 1px 3px 1px rgba(0, 0, 0, 0.15);\n",
              "        filter: drop-shadow(0px 1px 2px rgba(0, 0, 0, 0.3));\n",
              "        fill: #FFFFFF;\n",
              "      }\n",
              "    </style>\n",
              "    <button class=\"colab-df-generate\" onclick=\"generateWithVariable('df_period_limits')\"\n",
              "            title=\"Generate code using this dataframe.\"\n",
              "            style=\"display:none;\">\n",
              "\n",
              "  <svg xmlns=\"http://www.w3.org/2000/svg\" height=\"24px\"viewBox=\"0 0 24 24\"\n",
              "       width=\"24px\">\n",
              "    <path d=\"M7,19H8.4L18.45,9,17,7.55,7,17.6ZM5,21V16.75L18.45,3.32a2,2,0,0,1,2.83,0l1.4,1.43a1.91,1.91,0,0,1,.58,1.4,1.91,1.91,0,0,1-.58,1.4L9.25,21ZM18.45,9,17,7.55Zm-12,3A5.31,5.31,0,0,0,4.9,8.1,5.31,5.31,0,0,0,1,6.5,5.31,5.31,0,0,0,4.9,4.9,5.31,5.31,0,0,0,6.5,1,5.31,5.31,0,0,0,8.1,4.9,5.31,5.31,0,0,0,12,6.5,5.46,5.46,0,0,0,6.5,12Z\"/>\n",
              "  </svg>\n",
              "    </button>\n",
              "    <script>\n",
              "      (() => {\n",
              "      const buttonEl =\n",
              "        document.querySelector('#id_c981a4c8-7a3e-49ec-95f0-0ae91d45e6a7 button.colab-df-generate');\n",
              "      buttonEl.style.display =\n",
              "        google.colab.kernel.accessAllowed ? 'block' : 'none';\n",
              "\n",
              "      buttonEl.onclick = () => {\n",
              "        google.colab.notebook.generateWithVariable('df_period_limits');\n",
              "      }\n",
              "      })();\n",
              "    </script>\n",
              "  </div>\n",
              "\n",
              "    </div>\n",
              "  </div>\n"
            ],
            "application/vnd.google.colaboratory.intrinsic+json": {
              "type": "dataframe",
              "variable_name": "df_period_limits",
              "summary": "{\n  \"name\": \"df_period_limits\",\n  \"rows\": 100,\n  \"fields\": [\n    {\n      \"column\": \"Data\",\n      \"properties\": {\n        \"dtype\": \"object\",\n        \"num_unique_values\": 100,\n        \"samples\": [\n          \"2020-09-04 21:40:49.070631936\",\n          \"2013-02-12 01:22:32.866242048\",\n          \"2017-08-03 19:22:52.075471872\"\n        ],\n        \"semantic_type\": \"\",\n        \"description\": \"\"\n      }\n    },\n    {\n      \"column\": \"type\",\n      \"properties\": {\n        \"dtype\": \"category\",\n        \"num_unique_values\": 5,\n        \"samples\": [\n          \"R_to_HW\",\n          \"F_to_L\",\n          \"HW_to_F\"\n        ],\n        \"semantic_type\": \"\",\n        \"description\": \"\"\n      }\n    },\n    {\n      \"column\": \"day\",\n      \"properties\": {\n        \"dtype\": \"number\",\n        \"std\": 9,\n        \"min\": 1,\n        \"max\": 31,\n        \"num_unique_values\": 31,\n        \"samples\": [\n          16,\n          23,\n          20\n        ],\n        \"semantic_type\": \"\",\n        \"description\": \"\"\n      }\n    },\n    {\n      \"column\": \"month\",\n      \"properties\": {\n        \"dtype\": \"number\",\n        \"std\": 3,\n        \"min\": 1,\n        \"max\": 12,\n        \"num_unique_values\": 10,\n        \"samples\": [\n          11,\n          2,\n          3\n        ],\n        \"semantic_type\": \"\",\n        \"description\": \"\"\n      }\n    },\n    {\n      \"column\": \"year\",\n      \"properties\": {\n        \"dtype\": \"number\",\n        \"std\": 7,\n        \"min\": 2000,\n        \"max\": 2024,\n        \"num_unique_values\": 25,\n        \"samples\": [\n          2008,\n          2016,\n          2000\n        ],\n        \"semantic_type\": \"\",\n        \"description\": \"\"\n      }\n    },\n    {\n      \"column\": \"longitude\",\n      \"properties\": {\n        \"dtype\": \"number\",\n        \"std\": 5.712978550373078e-14,\n        \"min\": -55.5131,\n        \"max\": -55.5131,\n        \"num_unique_values\": 1,\n        \"samples\": [\n          -55.5131\n        ],\n        \"semantic_type\": \"\",\n        \"description\": \"\"\n      }\n    },\n    {\n      \"column\": \"latitude\",\n      \"properties\": {\n        \"dtype\": \"number\",\n        \"std\": 1.785305796991587e-15,\n        \"min\": -1.9192,\n        \"max\": -1.9192,\n        \"num_unique_values\": 1,\n        \"samples\": [\n          -1.9192\n        ],\n        \"semantic_type\": \"\",\n        \"description\": \"\"\n      }\n    }\n  ]\n}"
            }
          },
          "metadata": {},
          "execution_count": 20
        }
      ]
    },
    {
      "cell_type": "markdown",
      "metadata": {
        "id": "LZLpj0vjPsNx"
      },
      "source": [
        "# Fazer mosaico por periodo - definido por meses"
      ]
    },
    {
      "cell_type": "code",
      "execution_count": 28,
      "metadata": {
        "colab": {
          "base_uri": "https://localhost:8080/",
          "height": 34
        },
        "id": "mCgFDdw7PsNx",
        "outputId": "2942bcd5-46f4-4095-96ba-5a4360baf6bf"
      },
      "outputs": [
        {
          "output_type": "display_data",
          "data": {
            "text/plain": [
              "<IPython.core.display.HTML object>"
            ],
            "text/html": [
              "\n",
              "            <style>\n",
              "                .geemap-dark {\n",
              "                    --jp-widgets-color: white;\n",
              "                    --jp-widgets-label-color: white;\n",
              "                    --jp-ui-font-color1: white;\n",
              "                    --jp-layout-color2: #454545;\n",
              "                    background-color: #383838;\n",
              "                }\n",
              "\n",
              "                .geemap-dark .jupyter-button {\n",
              "                    --jp-layout-color3: #383838;\n",
              "                }\n",
              "\n",
              "                .geemap-colab {\n",
              "                    background-color: var(--colab-primary-surface-color, white);\n",
              "                }\n",
              "\n",
              "                .geemap-colab .jupyter-button {\n",
              "                    --jp-layout-color3: var(--colab-primary-surface-color, white);\n",
              "                }\n",
              "            </style>\n",
              "            "
            ]
          },
          "metadata": {}
        },
        {
          "output_type": "display_data",
          "data": {
            "text/plain": [
              "[1, 4, 7, 10]"
            ]
          },
          "metadata": {}
        }
      ],
      "source": [
        "years = ee.List.sequence(2000,2024);\n",
        "months = ee.List.sequence(1,12,3);\n",
        "display(months.getInfo())"
      ]
    },
    {
      "cell_type": "code",
      "execution_count": 29,
      "metadata": {
        "colab": {
          "base_uri": "https://localhost:8080/",
          "height": 34
        },
        "id": "RNGX4wz8PsNx",
        "outputId": "dcf662d0-7cdb-44b5-de36-43fe2180fa91"
      },
      "outputs": [
        {
          "output_type": "display_data",
          "data": {
            "text/plain": [
              "<IPython.core.display.HTML object>"
            ],
            "text/html": [
              "\n",
              "            <style>\n",
              "                .geemap-dark {\n",
              "                    --jp-widgets-color: white;\n",
              "                    --jp-widgets-label-color: white;\n",
              "                    --jp-ui-font-color1: white;\n",
              "                    --jp-layout-color2: #454545;\n",
              "                    background-color: #383838;\n",
              "                }\n",
              "\n",
              "                .geemap-dark .jupyter-button {\n",
              "                    --jp-layout-color3: #383838;\n",
              "                }\n",
              "\n",
              "                .geemap-colab {\n",
              "                    background-color: var(--colab-primary-surface-color, white);\n",
              "                }\n",
              "\n",
              "                .geemap-colab .jupyter-button {\n",
              "                    --jp-layout-color3: var(--colab-primary-surface-color, white);\n",
              "                }\n",
              "            </style>\n",
              "            "
            ]
          },
          "metadata": {}
        },
        {
          "output_type": "display_data",
          "data": {
            "text/plain": [
              "100"
            ]
          },
          "metadata": {}
        }
      ],
      "source": [
        "monthly_mosaics =  ee.ImageCollection.fromImages(\n",
        "    years.map(lambda y: months.map(lambda m: merge_col.filter(ee.Filter.calendarRange(y, y, 'year'))\n",
        "    .filter(ee.Filter.calendarRange(m, ee.Number(m).add(2), 'month')).median()\n",
        "    .set('year', y).set('month_init', m).set('month_end', ee.Number(m).add(2)).set('system:time_start', ee.Date.fromYMD(y, m, 1)).set('timestamp', ee.Date.fromYMD(y, m, 1).format('yyyy-MM-dd'))\n",
        "    )).flatten());\n",
        "display(monthly_mosaics.size().getInfo())"
      ]
    },
    {
      "cell_type": "code",
      "execution_count": 30,
      "metadata": {
        "colab": {
          "base_uri": "https://localhost:8080/",
          "height": 1000
        },
        "id": "-wuL-oDZPsNx",
        "outputId": "bd1c7dff-5751-4b1f-9ff0-42b2b42760ee"
      },
      "outputs": [
        {
          "output_type": "display_data",
          "data": {
            "text/plain": [
              "<IPython.core.display.HTML object>"
            ],
            "text/html": [
              "\n",
              "            <style>\n",
              "                .geemap-dark {\n",
              "                    --jp-widgets-color: white;\n",
              "                    --jp-widgets-label-color: white;\n",
              "                    --jp-ui-font-color1: white;\n",
              "                    --jp-layout-color2: #454545;\n",
              "                    background-color: #383838;\n",
              "                }\n",
              "\n",
              "                .geemap-dark .jupyter-button {\n",
              "                    --jp-layout-color3: #383838;\n",
              "                }\n",
              "\n",
              "                .geemap-colab {\n",
              "                    background-color: var(--colab-primary-surface-color, white);\n",
              "                }\n",
              "\n",
              "                .geemap-colab .jupyter-button {\n",
              "                    --jp-layout-color3: var(--colab-primary-surface-color, white);\n",
              "                }\n",
              "            </style>\n",
              "            "
            ]
          },
          "metadata": {}
        },
        {
          "output_type": "display_data",
          "data": {
            "text/plain": [
              "100"
            ]
          },
          "metadata": {}
        },
        {
          "output_type": "display_data",
          "data": {
            "text/plain": [
              "{'type': 'ImageCollection',\n",
              " 'bands': [],\n",
              " 'features': [{'type': 'Image',\n",
              "   'bands': [{'id': 'blue_mean',\n",
              "     'data_type': {'type': 'PixelType', 'precision': 'double'},\n",
              "     'crs': 'EPSG:4326',\n",
              "     'crs_transform': [1, 0, 0, 0, 1, 0]},\n",
              "    {'id': 'green_mean',\n",
              "     'data_type': {'type': 'PixelType', 'precision': 'double'},\n",
              "     'crs': 'EPSG:4326',\n",
              "     'crs_transform': [1, 0, 0, 0, 1, 0]},\n",
              "    {'id': 'red_mean',\n",
              "     'data_type': {'type': 'PixelType', 'precision': 'double'},\n",
              "     'crs': 'EPSG:4326',\n",
              "     'crs_transform': [1, 0, 0, 0, 1, 0]},\n",
              "    {'id': 'nir_mean',\n",
              "     'data_type': {'type': 'PixelType', 'precision': 'double'},\n",
              "     'crs': 'EPSG:4326',\n",
              "     'crs_transform': [1, 0, 0, 0, 1, 0]},\n",
              "    {'id': 'swir1',\n",
              "     'data_type': {'type': 'PixelType', 'precision': 'double'},\n",
              "     'crs': 'EPSG:4326',\n",
              "     'crs_transform': [1, 0, 0, 0, 1, 0]},\n",
              "    {'id': 'swir2',\n",
              "     'data_type': {'type': 'PixelType', 'precision': 'double'},\n",
              "     'crs': 'EPSG:4326',\n",
              "     'crs_transform': [1, 0, 0, 0, 1, 0]}],\n",
              "   'properties': {'band_count': 6,\n",
              "    'system:index': '0',\n",
              "    'system:time_start': {'type': 'Date', 'value': 946684800000},\n",
              "    'year': 2000,\n",
              "    'month_init': 1,\n",
              "    'month_end': 3,\n",
              "    'timestamp': '2000-01-01'}},\n",
              "  {'type': 'Image',\n",
              "   'bands': [{'id': 'blue_mean',\n",
              "     'data_type': {'type': 'PixelType', 'precision': 'double'},\n",
              "     'crs': 'EPSG:4326',\n",
              "     'crs_transform': [1, 0, 0, 0, 1, 0]},\n",
              "    {'id': 'green_mean',\n",
              "     'data_type': {'type': 'PixelType', 'precision': 'double'},\n",
              "     'crs': 'EPSG:4326',\n",
              "     'crs_transform': [1, 0, 0, 0, 1, 0]},\n",
              "    {'id': 'red_mean',\n",
              "     'data_type': {'type': 'PixelType', 'precision': 'double'},\n",
              "     'crs': 'EPSG:4326',\n",
              "     'crs_transform': [1, 0, 0, 0, 1, 0]},\n",
              "    {'id': 'nir_mean',\n",
              "     'data_type': {'type': 'PixelType', 'precision': 'double'},\n",
              "     'crs': 'EPSG:4326',\n",
              "     'crs_transform': [1, 0, 0, 0, 1, 0]},\n",
              "    {'id': 'swir1',\n",
              "     'data_type': {'type': 'PixelType', 'precision': 'double'},\n",
              "     'crs': 'EPSG:4326',\n",
              "     'crs_transform': [1, 0, 0, 0, 1, 0]},\n",
              "    {'id': 'swir2',\n",
              "     'data_type': {'type': 'PixelType', 'precision': 'double'},\n",
              "     'crs': 'EPSG:4326',\n",
              "     'crs_transform': [1, 0, 0, 0, 1, 0]}],\n",
              "   'properties': {'band_count': 6,\n",
              "    'system:index': '1',\n",
              "    'system:time_start': {'type': 'Date', 'value': 954547200000},\n",
              "    'year': 2000,\n",
              "    'month_init': 4,\n",
              "    'month_end': 6,\n",
              "    'timestamp': '2000-04-01'}}]}"
            ]
          },
          "metadata": {}
        }
      ],
      "source": [
        "monthly_mosaic = monthly_mosaics.map(lambda img: img.set('band_count',img.bandNames().length())).filter(ee.Filter.gt('band_count',0))\n",
        "display(monthly_mosaic.size().getInfo())\n",
        "display(monthly_mosaic.limit(2).getInfo())"
      ]
    },
    {
      "cell_type": "markdown",
      "source": [
        "# Fazer mosaico definido por vazao"
      ],
      "metadata": {
        "id": "sFCFOfJZ0VAR"
      }
    },
    {
      "cell_type": "code",
      "source": [
        "list_images = []\n",
        "for i in range(0,len(df_period_limits)-1):\n",
        "  # print(df_period_limits['Data'][i][0:10])\n",
        "  # print(df_period_limits['Data'][i+1][0:10])\n",
        "\n",
        "  image = (merge_col.filter(ee.Filter.date(df_period_limits['Data'][i][0:10],df_period_limits['Data'][i+1][0:10]))\n",
        "              .median()\n",
        "              .set('year', str(df_period_limits['year'][i]))\n",
        "              .set('month_init', str(df_period_limits['month'][i]))\n",
        "              .set('month_end', str(df_period_limits['month'][i+1]))\n",
        "              .set('system:time_start', ee.Date.parse('yyyy-MM-dd',str(df_period_limits['Data'][i][0:10])))\n",
        "              .set('time_start', str(df_period_limits['Data'][i][0:10]))\n",
        "              .set('time_finish', str(df_period_limits['Data'][i+1][0:10]))\n",
        "  )\n",
        "  list_images.append(image)\n",
        "\n"
      ],
      "metadata": {
        "id": "vHnvVzm56dXe",
        "outputId": "32e5b155-6e43-4f8e-b184-3e95a720dc30",
        "colab": {
          "base_uri": "https://localhost:8080/",
          "height": 17
        }
      },
      "execution_count": 44,
      "outputs": [
        {
          "output_type": "display_data",
          "data": {
            "text/plain": [
              "<IPython.core.display.HTML object>"
            ],
            "text/html": [
              "\n",
              "            <style>\n",
              "                .geemap-dark {\n",
              "                    --jp-widgets-color: white;\n",
              "                    --jp-widgets-label-color: white;\n",
              "                    --jp-ui-font-color1: white;\n",
              "                    --jp-layout-color2: #454545;\n",
              "                    background-color: #383838;\n",
              "                }\n",
              "\n",
              "                .geemap-dark .jupyter-button {\n",
              "                    --jp-layout-color3: #383838;\n",
              "                }\n",
              "\n",
              "                .geemap-colab {\n",
              "                    background-color: var(--colab-primary-surface-color, white);\n",
              "                }\n",
              "\n",
              "                .geemap-colab .jupyter-button {\n",
              "                    --jp-layout-color3: var(--colab-primary-surface-color, white);\n",
              "                }\n",
              "            </style>\n",
              "            "
            ]
          },
          "metadata": {}
        }
      ]
    },
    {
      "cell_type": "code",
      "source": [
        "period_mosaics =  ee.ImageCollection.fromImages(list_images)\n",
        "period_mosaics.size()"
      ],
      "metadata": {
        "id": "IJwQfuHB0Yz9",
        "outputId": "681b832c-0823-45bd-b173-6bba291248ff",
        "colab": {
          "base_uri": "https://localhost:8080/",
          "height": 158
        }
      },
      "execution_count": 45,
      "outputs": [
        {
          "output_type": "display_data",
          "data": {
            "text/plain": [
              "<IPython.core.display.HTML object>"
            ],
            "text/html": [
              "\n",
              "            <style>\n",
              "                .geemap-dark {\n",
              "                    --jp-widgets-color: white;\n",
              "                    --jp-widgets-label-color: white;\n",
              "                    --jp-ui-font-color1: white;\n",
              "                    --jp-layout-color2: #454545;\n",
              "                    background-color: #383838;\n",
              "                }\n",
              "\n",
              "                .geemap-dark .jupyter-button {\n",
              "                    --jp-layout-color3: #383838;\n",
              "                }\n",
              "\n",
              "                .geemap-colab {\n",
              "                    background-color: var(--colab-primary-surface-color, white);\n",
              "                }\n",
              "\n",
              "                .geemap-colab .jupyter-button {\n",
              "                    --jp-layout-color3: var(--colab-primary-surface-color, white);\n",
              "                }\n",
              "            </style>\n",
              "            "
            ]
          },
          "metadata": {}
        },
        {
          "output_type": "error",
          "ename": "AttributeError",
          "evalue": "'list' object has no attribute 'flatten'",
          "traceback": [
            "\u001b[0;31m---------------------------------------------------------------------------\u001b[0m",
            "\u001b[0;31mAttributeError\u001b[0m                            Traceback (most recent call last)",
            "\u001b[0;32m<ipython-input-45-7738c6023bf3>\u001b[0m in \u001b[0;36m<cell line: 0>\u001b[0;34m()\u001b[0m\n\u001b[0;32m----> 1\u001b[0;31m \u001b[0mperiod_mosaics\u001b[0m \u001b[0;34m=\u001b[0m  \u001b[0mee\u001b[0m\u001b[0;34m.\u001b[0m\u001b[0mImageCollection\u001b[0m\u001b[0;34m.\u001b[0m\u001b[0mfromImages\u001b[0m\u001b[0;34m(\u001b[0m\u001b[0mlist_images\u001b[0m\u001b[0;34m.\u001b[0m\u001b[0mflatten\u001b[0m\u001b[0;34m(\u001b[0m\u001b[0;34m)\u001b[0m\u001b[0;34m)\u001b[0m\u001b[0;34m\u001b[0m\u001b[0;34m\u001b[0m\u001b[0m\n\u001b[0m\u001b[1;32m      2\u001b[0m \u001b[0mperiod_mosaics\u001b[0m\u001b[0;34m.\u001b[0m\u001b[0msize\u001b[0m\u001b[0;34m(\u001b[0m\u001b[0;34m)\u001b[0m\u001b[0;34m\u001b[0m\u001b[0;34m\u001b[0m\u001b[0m\n",
            "\u001b[0;31mAttributeError\u001b[0m: 'list' object has no attribute 'flatten'"
          ]
        }
      ]
    },
    {
      "cell_type": "code",
      "source": [
        "period_mosaics = period_mosaics.map(lambda img: img.set('band_count',img.bandNames().length())).filter(ee.Filter.gt('band_count',0))\n",
        "display(period_mosaics.size().getInfo())\n",
        "period_mosaics.limit(2)"
      ],
      "metadata": {
        "id": "-EotJobdB-PW",
        "outputId": "90da7b3d-90fd-49c8-b33a-7122f946995a",
        "colab": {
          "base_uri": "https://localhost:8080/",
          "height": 190
        }
      },
      "execution_count": 36,
      "outputs": [
        {
          "output_type": "display_data",
          "data": {
            "text/plain": [
              "<IPython.core.display.HTML object>"
            ],
            "text/html": [
              "\n",
              "            <style>\n",
              "                .geemap-dark {\n",
              "                    --jp-widgets-color: white;\n",
              "                    --jp-widgets-label-color: white;\n",
              "                    --jp-ui-font-color1: white;\n",
              "                    --jp-layout-color2: #454545;\n",
              "                    background-color: #383838;\n",
              "                }\n",
              "\n",
              "                .geemap-dark .jupyter-button {\n",
              "                    --jp-layout-color3: #383838;\n",
              "                }\n",
              "\n",
              "                .geemap-colab {\n",
              "                    background-color: var(--colab-primary-surface-color, white);\n",
              "                }\n",
              "\n",
              "                .geemap-colab .jupyter-button {\n",
              "                    --jp-layout-color3: var(--colab-primary-surface-color, white);\n",
              "                }\n",
              "            </style>\n",
              "            "
            ]
          },
          "metadata": {}
        },
        {
          "output_type": "display_data",
          "data": {
            "text/plain": [
              "98"
            ]
          },
          "metadata": {}
        },
        {
          "output_type": "execute_result",
          "data": {
            "text/plain": [
              "<ee.imagecollection.ImageCollection at 0x7d6e0744b7d0>"
            ],
            "text/html": [
              "<div><style>:root {\n",
              "  --font-color-primary: var(--jp-content-font-color0, rgba(0, 0, 0, 1));\n",
              "  --font-color-secondary: var(--jp-content-font-color2, rgba(0, 0, 0, 0.7));\n",
              "  --font-color-accent: rgba(123, 31, 162, 1);\n",
              "  --border-color: var(--jp-border-color2, #e0e0e0);\n",
              "  --background-color: var(--jp-layout-color0, white);\n",
              "  --background-color-row-even: var(--jp-layout-color1, white);\n",
              "  --background-color-row-odd: var(--jp-layout-color2, #eeeeee);\n",
              "}\n",
              "\n",
              "html[theme=\"dark\"],\n",
              "body[data-theme=\"dark\"],\n",
              "body.vscode-dark {\n",
              "  --font-color-primary: rgba(255, 255, 255, 1);\n",
              "  --font-color-secondary: rgba(255, 255, 255, 0.7);\n",
              "  --font-color-accent: rgb(173, 132, 190);\n",
              "  --border-color: #2e2e2e;\n",
              "  --background-color: #111111;\n",
              "  --background-color-row-even: #111111;\n",
              "  --background-color-row-odd: #313131;\n",
              "}\n",
              "\n",
              ".eerepr {\n",
              "  padding: 1em;\n",
              "  line-height: 1.5em;\n",
              "  min-width: 300px;\n",
              "  max-width: 1200px;\n",
              "  overflow-y: scroll;\n",
              "  max-height: 600px;\n",
              "  border: 1px solid var(--border-color);\n",
              "  font-family: monospace;\n",
              "  font-size: 14px;\n",
              "}\n",
              "\n",
              ".eerepr li {\n",
              "  list-style-type: none;\n",
              "  margin: 0;\n",
              "}\n",
              "\n",
              ".eerepr ul {\n",
              "  padding-left: 1.5em !important;\n",
              "  margin: 0;\n",
              "}\n",
              "\n",
              ".eerepr > ul {\n",
              "  padding-left: 0 !important;\n",
              "}\n",
              "\n",
              ".eerepr summary {\n",
              "  color: var(--font-color-secondary);\n",
              "  cursor: pointer;\n",
              "  margin: 0;\n",
              "}\n",
              "\n",
              ".eerepr summary:hover {\n",
              "  color: var(--font-color-primary);\n",
              "  background-color: var(--background-color-row-odd)\n",
              "}\n",
              "\n",
              ".ee-k {\n",
              "  color: var(--font-color-accent);\n",
              "  margin-right: 6px;\n",
              "}\n",
              "\n",
              ".ee-v {\n",
              "  color: var(--font-color-primary);\n",
              "}\n",
              "\n",
              ".eerepr details > summary::before {\n",
              "  content: '▼';\n",
              "  display: inline-block;\n",
              "  margin-right: 6px;\n",
              "  transition: transform 0.2s;\n",
              "  transform: rotate(-90deg);\n",
              "}\n",
              "\n",
              ".eerepr details[open] > summary::before {\n",
              "  transform: rotate(0deg);\n",
              "}\n",
              "\n",
              ".eerepr details summary::-webkit-details-marker {\n",
              "  display:none;\n",
              "}\n",
              "\n",
              ".eerepr details summary {\n",
              "  list-style-type: none;\n",
              "}\n",
              "</style><div class='eerepr'><ul><li><details><summary>ImageCollection (2 elements)</summary><ul><li><span class='ee-k'>type:</span><span class='ee-v'>ImageCollection</span></li><li><details><summary>bands: []</summary><ul></ul></details></li><li><details><summary>features: List (2 elements)</summary><ul><li><details><summary>0: Image (6 bands)</summary><ul><li><span class='ee-k'>type:</span><span class='ee-v'>Image</span></li><li><details><summary>bands: List (6 elements)</summary><ul><li><details><summary>0: \"blue_mean\", double, EPSG:4326</summary><ul><li><span class='ee-k'>id:</span><span class='ee-v'>blue_mean</span></li><li><span class='ee-k'>crs:</span><span class='ee-v'>EPSG:4326</span></li><li><details><summary>crs_transform: [1, 0, 0, 0, 1, 0]</summary><ul><li><span class='ee-k'>0:</span><span class='ee-v'>1</span></li><li><span class='ee-k'>1:</span><span class='ee-v'>0</span></li><li><span class='ee-k'>2:</span><span class='ee-v'>0</span></li><li><span class='ee-k'>3:</span><span class='ee-v'>0</span></li><li><span class='ee-k'>4:</span><span class='ee-v'>1</span></li><li><span class='ee-k'>5:</span><span class='ee-v'>0</span></li></ul></details></li><li><details><summary>data_type: double</summary><ul><li><span class='ee-k'>type:</span><span class='ee-v'>PixelType</span></li><li><span class='ee-k'>precision:</span><span class='ee-v'>double</span></li></ul></details></li></ul></details></li><li><details><summary>1: \"green_mean\", double, EPSG:4326</summary><ul><li><span class='ee-k'>id:</span><span class='ee-v'>green_mean</span></li><li><span class='ee-k'>crs:</span><span class='ee-v'>EPSG:4326</span></li><li><details><summary>crs_transform: [1, 0, 0, 0, 1, 0]</summary><ul><li><span class='ee-k'>0:</span><span class='ee-v'>1</span></li><li><span class='ee-k'>1:</span><span class='ee-v'>0</span></li><li><span class='ee-k'>2:</span><span class='ee-v'>0</span></li><li><span class='ee-k'>3:</span><span class='ee-v'>0</span></li><li><span class='ee-k'>4:</span><span class='ee-v'>1</span></li><li><span class='ee-k'>5:</span><span class='ee-v'>0</span></li></ul></details></li><li><details><summary>data_type: double</summary><ul><li><span class='ee-k'>type:</span><span class='ee-v'>PixelType</span></li><li><span class='ee-k'>precision:</span><span class='ee-v'>double</span></li></ul></details></li></ul></details></li><li><details><summary>2: \"red_mean\", double, EPSG:4326</summary><ul><li><span class='ee-k'>id:</span><span class='ee-v'>red_mean</span></li><li><span class='ee-k'>crs:</span><span class='ee-v'>EPSG:4326</span></li><li><details><summary>crs_transform: [1, 0, 0, 0, 1, 0]</summary><ul><li><span class='ee-k'>0:</span><span class='ee-v'>1</span></li><li><span class='ee-k'>1:</span><span class='ee-v'>0</span></li><li><span class='ee-k'>2:</span><span class='ee-v'>0</span></li><li><span class='ee-k'>3:</span><span class='ee-v'>0</span></li><li><span class='ee-k'>4:</span><span class='ee-v'>1</span></li><li><span class='ee-k'>5:</span><span class='ee-v'>0</span></li></ul></details></li><li><details><summary>data_type: double</summary><ul><li><span class='ee-k'>type:</span><span class='ee-v'>PixelType</span></li><li><span class='ee-k'>precision:</span><span class='ee-v'>double</span></li></ul></details></li></ul></details></li><li><details><summary>3: \"nir_mean\", double, EPSG:4326</summary><ul><li><span class='ee-k'>id:</span><span class='ee-v'>nir_mean</span></li><li><span class='ee-k'>crs:</span><span class='ee-v'>EPSG:4326</span></li><li><details><summary>crs_transform: [1, 0, 0, 0, 1, 0]</summary><ul><li><span class='ee-k'>0:</span><span class='ee-v'>1</span></li><li><span class='ee-k'>1:</span><span class='ee-v'>0</span></li><li><span class='ee-k'>2:</span><span class='ee-v'>0</span></li><li><span class='ee-k'>3:</span><span class='ee-v'>0</span></li><li><span class='ee-k'>4:</span><span class='ee-v'>1</span></li><li><span class='ee-k'>5:</span><span class='ee-v'>0</span></li></ul></details></li><li><details><summary>data_type: double</summary><ul><li><span class='ee-k'>type:</span><span class='ee-v'>PixelType</span></li><li><span class='ee-k'>precision:</span><span class='ee-v'>double</span></li></ul></details></li></ul></details></li><li><details><summary>4: \"swir1\", double, EPSG:4326</summary><ul><li><span class='ee-k'>id:</span><span class='ee-v'>swir1</span></li><li><span class='ee-k'>crs:</span><span class='ee-v'>EPSG:4326</span></li><li><details><summary>crs_transform: [1, 0, 0, 0, 1, 0]</summary><ul><li><span class='ee-k'>0:</span><span class='ee-v'>1</span></li><li><span class='ee-k'>1:</span><span class='ee-v'>0</span></li><li><span class='ee-k'>2:</span><span class='ee-v'>0</span></li><li><span class='ee-k'>3:</span><span class='ee-v'>0</span></li><li><span class='ee-k'>4:</span><span class='ee-v'>1</span></li><li><span class='ee-k'>5:</span><span class='ee-v'>0</span></li></ul></details></li><li><details><summary>data_type: double</summary><ul><li><span class='ee-k'>type:</span><span class='ee-v'>PixelType</span></li><li><span class='ee-k'>precision:</span><span class='ee-v'>double</span></li></ul></details></li></ul></details></li><li><details><summary>5: \"swir2\", double, EPSG:4326</summary><ul><li><span class='ee-k'>id:</span><span class='ee-v'>swir2</span></li><li><span class='ee-k'>crs:</span><span class='ee-v'>EPSG:4326</span></li><li><details><summary>crs_transform: [1, 0, 0, 0, 1, 0]</summary><ul><li><span class='ee-k'>0:</span><span class='ee-v'>1</span></li><li><span class='ee-k'>1:</span><span class='ee-v'>0</span></li><li><span class='ee-k'>2:</span><span class='ee-v'>0</span></li><li><span class='ee-k'>3:</span><span class='ee-v'>0</span></li><li><span class='ee-k'>4:</span><span class='ee-v'>1</span></li><li><span class='ee-k'>5:</span><span class='ee-v'>0</span></li></ul></details></li><li><details><summary>data_type: double</summary><ul><li><span class='ee-k'>type:</span><span class='ee-v'>PixelType</span></li><li><span class='ee-k'>precision:</span><span class='ee-v'>double</span></li></ul></details></li></ul></details></li></ul></details></li><li><details><summary>properties: Object (8 properties)</summary><ul><li><span class='ee-k'>band_count:</span><span class='ee-v'>6</span></li><li><span class='ee-k'>month_end:</span><span class='ee-v'>2</span></li><li><span class='ee-k'>month_init:</span><span class='ee-v'>1</span></li><li><span class='ee-k'>system:index:</span><span class='ee-v'>0</span></li><li><details><summary>system:time_start: Date (2000-01-13 00:00:00)</summary><ul><li><span class='ee-k'>type:</span><span class='ee-v'>Date</span></li><li><span class='ee-k'>value:</span><span class='ee-v'>947721600000</span></li></ul></details></li><li><span class='ee-k'>time_finish:</span><span class='ee-v'>2000-02-29</span></li><li><span class='ee-k'>time_start:</span><span class='ee-v'>2000-01-13</span></li><li><span class='ee-k'>year:</span><span class='ee-v'>2000</span></li></ul></details></li></ul></details></li><li><details><summary>1: Image (6 bands)</summary><ul><li><span class='ee-k'>type:</span><span class='ee-v'>Image</span></li><li><details><summary>bands: List (6 elements)</summary><ul><li><details><summary>0: \"blue_mean\", double, EPSG:4326</summary><ul><li><span class='ee-k'>id:</span><span class='ee-v'>blue_mean</span></li><li><span class='ee-k'>crs:</span><span class='ee-v'>EPSG:4326</span></li><li><details><summary>crs_transform: [1, 0, 0, 0, 1, 0]</summary><ul><li><span class='ee-k'>0:</span><span class='ee-v'>1</span></li><li><span class='ee-k'>1:</span><span class='ee-v'>0</span></li><li><span class='ee-k'>2:</span><span class='ee-v'>0</span></li><li><span class='ee-k'>3:</span><span class='ee-v'>0</span></li><li><span class='ee-k'>4:</span><span class='ee-v'>1</span></li><li><span class='ee-k'>5:</span><span class='ee-v'>0</span></li></ul></details></li><li><details><summary>data_type: double</summary><ul><li><span class='ee-k'>type:</span><span class='ee-v'>PixelType</span></li><li><span class='ee-k'>precision:</span><span class='ee-v'>double</span></li></ul></details></li></ul></details></li><li><details><summary>1: \"green_mean\", double, EPSG:4326</summary><ul><li><span class='ee-k'>id:</span><span class='ee-v'>green_mean</span></li><li><span class='ee-k'>crs:</span><span class='ee-v'>EPSG:4326</span></li><li><details><summary>crs_transform: [1, 0, 0, 0, 1, 0]</summary><ul><li><span class='ee-k'>0:</span><span class='ee-v'>1</span></li><li><span class='ee-k'>1:</span><span class='ee-v'>0</span></li><li><span class='ee-k'>2:</span><span class='ee-v'>0</span></li><li><span class='ee-k'>3:</span><span class='ee-v'>0</span></li><li><span class='ee-k'>4:</span><span class='ee-v'>1</span></li><li><span class='ee-k'>5:</span><span class='ee-v'>0</span></li></ul></details></li><li><details><summary>data_type: double</summary><ul><li><span class='ee-k'>type:</span><span class='ee-v'>PixelType</span></li><li><span class='ee-k'>precision:</span><span class='ee-v'>double</span></li></ul></details></li></ul></details></li><li><details><summary>2: \"red_mean\", double, EPSG:4326</summary><ul><li><span class='ee-k'>id:</span><span class='ee-v'>red_mean</span></li><li><span class='ee-k'>crs:</span><span class='ee-v'>EPSG:4326</span></li><li><details><summary>crs_transform: [1, 0, 0, 0, 1, 0]</summary><ul><li><span class='ee-k'>0:</span><span class='ee-v'>1</span></li><li><span class='ee-k'>1:</span><span class='ee-v'>0</span></li><li><span class='ee-k'>2:</span><span class='ee-v'>0</span></li><li><span class='ee-k'>3:</span><span class='ee-v'>0</span></li><li><span class='ee-k'>4:</span><span class='ee-v'>1</span></li><li><span class='ee-k'>5:</span><span class='ee-v'>0</span></li></ul></details></li><li><details><summary>data_type: double</summary><ul><li><span class='ee-k'>type:</span><span class='ee-v'>PixelType</span></li><li><span class='ee-k'>precision:</span><span class='ee-v'>double</span></li></ul></details></li></ul></details></li><li><details><summary>3: \"nir_mean\", double, EPSG:4326</summary><ul><li><span class='ee-k'>id:</span><span class='ee-v'>nir_mean</span></li><li><span class='ee-k'>crs:</span><span class='ee-v'>EPSG:4326</span></li><li><details><summary>crs_transform: [1, 0, 0, 0, 1, 0]</summary><ul><li><span class='ee-k'>0:</span><span class='ee-v'>1</span></li><li><span class='ee-k'>1:</span><span class='ee-v'>0</span></li><li><span class='ee-k'>2:</span><span class='ee-v'>0</span></li><li><span class='ee-k'>3:</span><span class='ee-v'>0</span></li><li><span class='ee-k'>4:</span><span class='ee-v'>1</span></li><li><span class='ee-k'>5:</span><span class='ee-v'>0</span></li></ul></details></li><li><details><summary>data_type: double</summary><ul><li><span class='ee-k'>type:</span><span class='ee-v'>PixelType</span></li><li><span class='ee-k'>precision:</span><span class='ee-v'>double</span></li></ul></details></li></ul></details></li><li><details><summary>4: \"swir1\", double, EPSG:4326</summary><ul><li><span class='ee-k'>id:</span><span class='ee-v'>swir1</span></li><li><span class='ee-k'>crs:</span><span class='ee-v'>EPSG:4326</span></li><li><details><summary>crs_transform: [1, 0, 0, 0, 1, 0]</summary><ul><li><span class='ee-k'>0:</span><span class='ee-v'>1</span></li><li><span class='ee-k'>1:</span><span class='ee-v'>0</span></li><li><span class='ee-k'>2:</span><span class='ee-v'>0</span></li><li><span class='ee-k'>3:</span><span class='ee-v'>0</span></li><li><span class='ee-k'>4:</span><span class='ee-v'>1</span></li><li><span class='ee-k'>5:</span><span class='ee-v'>0</span></li></ul></details></li><li><details><summary>data_type: double</summary><ul><li><span class='ee-k'>type:</span><span class='ee-v'>PixelType</span></li><li><span class='ee-k'>precision:</span><span class='ee-v'>double</span></li></ul></details></li></ul></details></li><li><details><summary>5: \"swir2\", double, EPSG:4326</summary><ul><li><span class='ee-k'>id:</span><span class='ee-v'>swir2</span></li><li><span class='ee-k'>crs:</span><span class='ee-v'>EPSG:4326</span></li><li><details><summary>crs_transform: [1, 0, 0, 0, 1, 0]</summary><ul><li><span class='ee-k'>0:</span><span class='ee-v'>1</span></li><li><span class='ee-k'>1:</span><span class='ee-v'>0</span></li><li><span class='ee-k'>2:</span><span class='ee-v'>0</span></li><li><span class='ee-k'>3:</span><span class='ee-v'>0</span></li><li><span class='ee-k'>4:</span><span class='ee-v'>1</span></li><li><span class='ee-k'>5:</span><span class='ee-v'>0</span></li></ul></details></li><li><details><summary>data_type: double</summary><ul><li><span class='ee-k'>type:</span><span class='ee-v'>PixelType</span></li><li><span class='ee-k'>precision:</span><span class='ee-v'>double</span></li></ul></details></li></ul></details></li></ul></details></li><li><details><summary>properties: Object (8 properties)</summary><ul><li><span class='ee-k'>band_count:</span><span class='ee-v'>6</span></li><li><span class='ee-k'>month_end:</span><span class='ee-v'>8</span></li><li><span class='ee-k'>month_init:</span><span class='ee-v'>2</span></li><li><span class='ee-k'>system:index:</span><span class='ee-v'>1</span></li><li><details><summary>system:time_start: Date (2000-02-29 00:00:00)</summary><ul><li><span class='ee-k'>type:</span><span class='ee-v'>Date</span></li><li><span class='ee-k'>value:</span><span class='ee-v'>951782400000</span></li></ul></details></li><li><span class='ee-k'>time_finish:</span><span class='ee-v'>2000-08-24</span></li><li><span class='ee-k'>time_start:</span><span class='ee-v'>2000-02-29</span></li><li><span class='ee-k'>year:</span><span class='ee-v'>2000</span></li></ul></details></li></ul></details></li></ul></details></li></ul></details></li></ul></div></div>"
            ]
          },
          "metadata": {},
          "execution_count": 36
        }
      ]
    },
    {
      "cell_type": "markdown",
      "metadata": {
        "id": "GHrjQO0ZPsNx"
      },
      "source": [
        "# Mask land"
      ]
    },
    {
      "cell_type": "code",
      "execution_count": 37,
      "metadata": {
        "colab": {
          "base_uri": "https://localhost:8080/",
          "height": 17
        },
        "id": "d5ievHBxPsNx",
        "outputId": "af50eb50-03e9-4e3e-9ed8-29a6fddffacc"
      },
      "outputs": [
        {
          "output_type": "display_data",
          "data": {
            "text/plain": [
              "<IPython.core.display.HTML object>"
            ],
            "text/html": [
              "\n",
              "            <style>\n",
              "                .geemap-dark {\n",
              "                    --jp-widgets-color: white;\n",
              "                    --jp-widgets-label-color: white;\n",
              "                    --jp-ui-font-color1: white;\n",
              "                    --jp-layout-color2: #454545;\n",
              "                    background-color: #383838;\n",
              "                }\n",
              "\n",
              "                .geemap-dark .jupyter-button {\n",
              "                    --jp-layout-color3: #383838;\n",
              "                }\n",
              "\n",
              "                .geemap-colab {\n",
              "                    background-color: var(--colab-primary-surface-color, white);\n",
              "                }\n",
              "\n",
              "                .geemap-colab .jupyter-button {\n",
              "                    --jp-layout-color3: var(--colab-primary-surface-color, white);\n",
              "                }\n",
              "            </style>\n",
              "            "
            ]
          },
          "metadata": {}
        }
      ],
      "source": [
        "def hsvComposite (image):\n",
        "    composite = image.select(['blue_mean','green_mean','red_mean']).rgbToHsv()#.clip(limits);\n",
        "    hue = composite.select(\"hue\");\n",
        "    max_mask = hue.lte(0.9)\n",
        "    min_mask = hue.gte(0.3)\n",
        "    return image.updateMask(max_mask).updateMask(min_mask).select(['blue_mean','green_mean','red_mean','nir_mean']);"
      ]
    },
    {
      "cell_type": "markdown",
      "metadata": {
        "id": "GYWH6diCPsNy"
      },
      "source": [
        "# calculate area"
      ]
    },
    {
      "cell_type": "code",
      "execution_count": 38,
      "metadata": {
        "colab": {
          "base_uri": "https://localhost:8080/",
          "height": 17
        },
        "id": "s5ZkM_IhPsNy",
        "outputId": "e0910a89-afdc-4764-aa04-1c62110eae9b"
      },
      "outputs": [
        {
          "output_type": "display_data",
          "data": {
            "text/plain": [
              "<IPython.core.display.HTML object>"
            ],
            "text/html": [
              "\n",
              "            <style>\n",
              "                .geemap-dark {\n",
              "                    --jp-widgets-color: white;\n",
              "                    --jp-widgets-label-color: white;\n",
              "                    --jp-ui-font-color1: white;\n",
              "                    --jp-layout-color2: #454545;\n",
              "                    background-color: #383838;\n",
              "                }\n",
              "\n",
              "                .geemap-dark .jupyter-button {\n",
              "                    --jp-layout-color3: #383838;\n",
              "                }\n",
              "\n",
              "                .geemap-colab {\n",
              "                    background-color: var(--colab-primary-surface-color, white);\n",
              "                }\n",
              "\n",
              "                .geemap-colab .jupyter-button {\n",
              "                    --jp-layout-color3: var(--colab-primary-surface-color, white);\n",
              "                }\n",
              "            </style>\n",
              "            "
            ]
          },
          "metadata": {}
        }
      ],
      "source": [
        "def area_calc(img):\n",
        "  '''receives an image of curuai and returns water surface area in km2 within the floodplain limits\n",
        "  as a property of the input image'''\n",
        "\n",
        "  # Get a pixel area image.\n",
        "  pixel_area = ee.Image.pixelArea()\n",
        "\n",
        "  floodplain = ee.FeatureCollection('projects/ee-curuai2/assets/varzea_alagavel')\n",
        "  image = hsvComposite(img)\n",
        "  img_mask = image.gt(0)\n",
        "\n",
        "  areaImage = img_mask.multiply(pixel_area)\n",
        "\n",
        "  area = areaImage.reduceRegion(**{\n",
        "    'reducer': ee.Reducer.sum(),\n",
        "    'geometry': floodplain.geometry(),\n",
        "    'scale': 30,\n",
        "    'maxPixels': 1e10\n",
        "    })\n",
        "  return image.set('area_km2',ee.Number(area.get('red_mean')).divide(1e6))\n"
      ]
    },
    {
      "cell_type": "code",
      "execution_count": 39,
      "metadata": {
        "colab": {
          "base_uri": "https://localhost:8080/",
          "height": 299
        },
        "id": "VeItZbNcPsNy",
        "outputId": "bd2745d4-c188-4f51-ba87-7fecaaf9bd43"
      },
      "outputs": [
        {
          "output_type": "display_data",
          "data": {
            "text/plain": [
              "<IPython.core.display.HTML object>"
            ],
            "text/html": [
              "\n",
              "            <style>\n",
              "                .geemap-dark {\n",
              "                    --jp-widgets-color: white;\n",
              "                    --jp-widgets-label-color: white;\n",
              "                    --jp-ui-font-color1: white;\n",
              "                    --jp-layout-color2: #454545;\n",
              "                    background-color: #383838;\n",
              "                }\n",
              "\n",
              "                .geemap-dark .jupyter-button {\n",
              "                    --jp-layout-color3: #383838;\n",
              "                }\n",
              "\n",
              "                .geemap-colab {\n",
              "                    background-color: var(--colab-primary-surface-color, white);\n",
              "                }\n",
              "\n",
              "                .geemap-colab .jupyter-button {\n",
              "                    --jp-layout-color3: var(--colab-primary-surface-color, white);\n",
              "                }\n",
              "            </style>\n",
              "            "
            ]
          },
          "metadata": {}
        },
        {
          "output_type": "execute_result",
          "data": {
            "text/plain": [
              "<ee.image.Image at 0x7d6e0757a550>"
            ],
            "text/html": [
              "<div><style>:root {\n",
              "  --font-color-primary: var(--jp-content-font-color0, rgba(0, 0, 0, 1));\n",
              "  --font-color-secondary: var(--jp-content-font-color2, rgba(0, 0, 0, 0.7));\n",
              "  --font-color-accent: rgba(123, 31, 162, 1);\n",
              "  --border-color: var(--jp-border-color2, #e0e0e0);\n",
              "  --background-color: var(--jp-layout-color0, white);\n",
              "  --background-color-row-even: var(--jp-layout-color1, white);\n",
              "  --background-color-row-odd: var(--jp-layout-color2, #eeeeee);\n",
              "}\n",
              "\n",
              "html[theme=\"dark\"],\n",
              "body[data-theme=\"dark\"],\n",
              "body.vscode-dark {\n",
              "  --font-color-primary: rgba(255, 255, 255, 1);\n",
              "  --font-color-secondary: rgba(255, 255, 255, 0.7);\n",
              "  --font-color-accent: rgb(173, 132, 190);\n",
              "  --border-color: #2e2e2e;\n",
              "  --background-color: #111111;\n",
              "  --background-color-row-even: #111111;\n",
              "  --background-color-row-odd: #313131;\n",
              "}\n",
              "\n",
              ".eerepr {\n",
              "  padding: 1em;\n",
              "  line-height: 1.5em;\n",
              "  min-width: 300px;\n",
              "  max-width: 1200px;\n",
              "  overflow-y: scroll;\n",
              "  max-height: 600px;\n",
              "  border: 1px solid var(--border-color);\n",
              "  font-family: monospace;\n",
              "  font-size: 14px;\n",
              "}\n",
              "\n",
              ".eerepr li {\n",
              "  list-style-type: none;\n",
              "  margin: 0;\n",
              "}\n",
              "\n",
              ".eerepr ul {\n",
              "  padding-left: 1.5em !important;\n",
              "  margin: 0;\n",
              "}\n",
              "\n",
              ".eerepr > ul {\n",
              "  padding-left: 0 !important;\n",
              "}\n",
              "\n",
              ".eerepr summary {\n",
              "  color: var(--font-color-secondary);\n",
              "  cursor: pointer;\n",
              "  margin: 0;\n",
              "}\n",
              "\n",
              ".eerepr summary:hover {\n",
              "  color: var(--font-color-primary);\n",
              "  background-color: var(--background-color-row-odd)\n",
              "}\n",
              "\n",
              ".ee-k {\n",
              "  color: var(--font-color-accent);\n",
              "  margin-right: 6px;\n",
              "}\n",
              "\n",
              ".ee-v {\n",
              "  color: var(--font-color-primary);\n",
              "}\n",
              "\n",
              ".eerepr details > summary::before {\n",
              "  content: '▼';\n",
              "  display: inline-block;\n",
              "  margin-right: 6px;\n",
              "  transition: transform 0.2s;\n",
              "  transform: rotate(-90deg);\n",
              "}\n",
              "\n",
              ".eerepr details[open] > summary::before {\n",
              "  transform: rotate(0deg);\n",
              "}\n",
              "\n",
              ".eerepr details summary::-webkit-details-marker {\n",
              "  display:none;\n",
              "}\n",
              "\n",
              ".eerepr details summary {\n",
              "  list-style-type: none;\n",
              "}\n",
              "</style><div class='eerepr'><ul><li><details><summary>Image (4 bands)</summary><ul><li><span class='ee-k'>type:</span><span class='ee-v'>Image</span></li><li><details><summary>bands: List (4 elements)</summary><ul><li><details><summary>0: \"blue_mean\", double, EPSG:4326</summary><ul><li><span class='ee-k'>id:</span><span class='ee-v'>blue_mean</span></li><li><span class='ee-k'>crs:</span><span class='ee-v'>EPSG:4326</span></li><li><details><summary>crs_transform: [1, 0, 0, 0, 1, 0]</summary><ul><li><span class='ee-k'>0:</span><span class='ee-v'>1</span></li><li><span class='ee-k'>1:</span><span class='ee-v'>0</span></li><li><span class='ee-k'>2:</span><span class='ee-v'>0</span></li><li><span class='ee-k'>3:</span><span class='ee-v'>0</span></li><li><span class='ee-k'>4:</span><span class='ee-v'>1</span></li><li><span class='ee-k'>5:</span><span class='ee-v'>0</span></li></ul></details></li><li><details><summary>data_type: double</summary><ul><li><span class='ee-k'>type:</span><span class='ee-v'>PixelType</span></li><li><span class='ee-k'>precision:</span><span class='ee-v'>double</span></li></ul></details></li></ul></details></li><li><details><summary>1: \"green_mean\", double, EPSG:4326</summary><ul><li><span class='ee-k'>id:</span><span class='ee-v'>green_mean</span></li><li><span class='ee-k'>crs:</span><span class='ee-v'>EPSG:4326</span></li><li><details><summary>crs_transform: [1, 0, 0, 0, 1, 0]</summary><ul><li><span class='ee-k'>0:</span><span class='ee-v'>1</span></li><li><span class='ee-k'>1:</span><span class='ee-v'>0</span></li><li><span class='ee-k'>2:</span><span class='ee-v'>0</span></li><li><span class='ee-k'>3:</span><span class='ee-v'>0</span></li><li><span class='ee-k'>4:</span><span class='ee-v'>1</span></li><li><span class='ee-k'>5:</span><span class='ee-v'>0</span></li></ul></details></li><li><details><summary>data_type: double</summary><ul><li><span class='ee-k'>type:</span><span class='ee-v'>PixelType</span></li><li><span class='ee-k'>precision:</span><span class='ee-v'>double</span></li></ul></details></li></ul></details></li><li><details><summary>2: \"red_mean\", double, EPSG:4326</summary><ul><li><span class='ee-k'>id:</span><span class='ee-v'>red_mean</span></li><li><span class='ee-k'>crs:</span><span class='ee-v'>EPSG:4326</span></li><li><details><summary>crs_transform: [1, 0, 0, 0, 1, 0]</summary><ul><li><span class='ee-k'>0:</span><span class='ee-v'>1</span></li><li><span class='ee-k'>1:</span><span class='ee-v'>0</span></li><li><span class='ee-k'>2:</span><span class='ee-v'>0</span></li><li><span class='ee-k'>3:</span><span class='ee-v'>0</span></li><li><span class='ee-k'>4:</span><span class='ee-v'>1</span></li><li><span class='ee-k'>5:</span><span class='ee-v'>0</span></li></ul></details></li><li><details><summary>data_type: double</summary><ul><li><span class='ee-k'>type:</span><span class='ee-v'>PixelType</span></li><li><span class='ee-k'>precision:</span><span class='ee-v'>double</span></li></ul></details></li></ul></details></li><li><details><summary>3: \"nir_mean\", double, EPSG:4326</summary><ul><li><span class='ee-k'>id:</span><span class='ee-v'>nir_mean</span></li><li><span class='ee-k'>crs:</span><span class='ee-v'>EPSG:4326</span></li><li><details><summary>crs_transform: [1, 0, 0, 0, 1, 0]</summary><ul><li><span class='ee-k'>0:</span><span class='ee-v'>1</span></li><li><span class='ee-k'>1:</span><span class='ee-v'>0</span></li><li><span class='ee-k'>2:</span><span class='ee-v'>0</span></li><li><span class='ee-k'>3:</span><span class='ee-v'>0</span></li><li><span class='ee-k'>4:</span><span class='ee-v'>1</span></li><li><span class='ee-k'>5:</span><span class='ee-v'>0</span></li></ul></details></li><li><details><summary>data_type: double</summary><ul><li><span class='ee-k'>type:</span><span class='ee-v'>PixelType</span></li><li><span class='ee-k'>precision:</span><span class='ee-v'>double</span></li></ul></details></li></ul></details></li></ul></details></li><li><details><summary>properties: Object (8 properties)</summary><ul><li><span class='ee-k'>area_km2:</span><span class='ee-v'>989.0847583660595</span></li><li><span class='ee-k'>band_count:</span><span class='ee-v'>6</span></li><li><span class='ee-k'>month_end:</span><span class='ee-v'>3</span></li><li><span class='ee-k'>month_init:</span><span class='ee-v'>1</span></li><li><span class='ee-k'>system:index:</span><span class='ee-v'>0</span></li><li><details><summary>system:time_start: Date (2000-01-01 00:00:00)</summary><ul><li><span class='ee-k'>type:</span><span class='ee-v'>Date</span></li><li><span class='ee-k'>value:</span><span class='ee-v'>946684800000</span></li></ul></details></li><li><span class='ee-k'>timestamp:</span><span class='ee-v'>2000-01-01</span></li><li><span class='ee-k'>year:</span><span class='ee-v'>2000</span></li></ul></details></li></ul></details></li></ul></div></div>"
            ]
          },
          "metadata": {},
          "execution_count": 39
        }
      ],
      "source": [
        "monthly_area = monthly_mosaic.map(hsvComposite).map(area_calc)\n",
        "monthly_area.first()"
      ]
    },
    {
      "cell_type": "code",
      "source": [
        "period_area = period_mosaics.map(hsvComposite).map(area_calc)\n",
        "\n",
        "period_area.first()"
      ],
      "metadata": {
        "id": "ecB4iXdOCMus",
        "outputId": "f0bedf8c-4db7-47ff-da39-eb334911f1ba",
        "colab": {
          "base_uri": "https://localhost:8080/",
          "height": 89
        }
      },
      "execution_count": 40,
      "outputs": [
        {
          "output_type": "display_data",
          "data": {
            "text/plain": [
              "<IPython.core.display.HTML object>"
            ],
            "text/html": [
              "\n",
              "            <style>\n",
              "                .geemap-dark {\n",
              "                    --jp-widgets-color: white;\n",
              "                    --jp-widgets-label-color: white;\n",
              "                    --jp-ui-font-color1: white;\n",
              "                    --jp-layout-color2: #454545;\n",
              "                    background-color: #383838;\n",
              "                }\n",
              "\n",
              "                .geemap-dark .jupyter-button {\n",
              "                    --jp-layout-color3: #383838;\n",
              "                }\n",
              "\n",
              "                .geemap-colab {\n",
              "                    background-color: var(--colab-primary-surface-color, white);\n",
              "                }\n",
              "\n",
              "                .geemap-colab .jupyter-button {\n",
              "                    --jp-layout-color3: var(--colab-primary-surface-color, white);\n",
              "                }\n",
              "            </style>\n",
              "            "
            ]
          },
          "metadata": {}
        },
        {
          "output_type": "stream",
          "name": "stderr",
          "text": [
            "/usr/local/lib/python3.11/dist-packages/IPython/core/formatters.py:345: UserWarning: Getting info failed with: 'User memory limit exceeded.'. Falling back to string repr.\n",
            "  return method()\n"
          ]
        },
        {
          "output_type": "execute_result",
          "data": {
            "text/plain": [
              "<ee.image.Image at 0x7d6e066115d0>"
            ],
            "text/html": [
              "<pre>&lt;ee.image.Image object at 0x7d6e066115d0&gt;</pre>"
            ]
          },
          "metadata": {},
          "execution_count": 40
        }
      ]
    },
    {
      "cell_type": "markdown",
      "metadata": {
        "id": "YWN7rgHhPsNy"
      },
      "source": [
        "# Import Model and Classify Images"
      ]
    },
    {
      "cell_type": "code",
      "execution_count": 41,
      "metadata": {
        "colab": {
          "base_uri": "https://localhost:8080/",
          "height": 34
        },
        "id": "jqxRupUkPsNy",
        "outputId": "a5d719c9-fcda-4e1f-878f-37922cf028f5"
      },
      "outputs": [
        {
          "output_type": "display_data",
          "data": {
            "text/plain": [
              "<IPython.core.display.HTML object>"
            ],
            "text/html": [
              "\n",
              "            <style>\n",
              "                .geemap-dark {\n",
              "                    --jp-widgets-color: white;\n",
              "                    --jp-widgets-label-color: white;\n",
              "                    --jp-ui-font-color1: white;\n",
              "                    --jp-layout-color2: #454545;\n",
              "                    background-color: #383838;\n",
              "                }\n",
              "\n",
              "                .geemap-dark .jupyter-button {\n",
              "                    --jp-layout-color3: #383838;\n",
              "                }\n",
              "\n",
              "                .geemap-colab {\n",
              "                    background-color: var(--colab-primary-surface-color, white);\n",
              "                }\n",
              "\n",
              "                .geemap-colab .jupyter-button {\n",
              "                    --jp-layout-color3: var(--colab-primary-surface-color, white);\n",
              "                }\n",
              "            </style>\n",
              "            "
            ]
          },
          "metadata": {}
        },
        {
          "output_type": "stream",
          "name": "stdout",
          "text": [
            "{'type': 'Classifier.load', 'id': 'projects/ee-curuai2/assets/RF_GEE_regressor'}\n"
          ]
        }
      ],
      "source": [
        "classifier = ee.Classifier.load('projects/ee-curuai2/assets/RF_GEE_regressor')\n",
        "print(classifier.getInfo())"
      ]
    },
    {
      "cell_type": "code",
      "execution_count": 42,
      "metadata": {
        "colab": {
          "base_uri": "https://localhost:8080/",
          "height": 52
        },
        "id": "fMy30qJ1PsNy",
        "outputId": "6abb68f2-e0c0-4201-e014-8180cf735389"
      },
      "outputs": [
        {
          "output_type": "display_data",
          "data": {
            "text/plain": [
              "<IPython.core.display.HTML object>"
            ],
            "text/html": [
              "\n",
              "            <style>\n",
              "                .geemap-dark {\n",
              "                    --jp-widgets-color: white;\n",
              "                    --jp-widgets-label-color: white;\n",
              "                    --jp-ui-font-color1: white;\n",
              "                    --jp-layout-color2: #454545;\n",
              "                    background-color: #383838;\n",
              "                }\n",
              "\n",
              "                .geemap-dark .jupyter-button {\n",
              "                    --jp-layout-color3: #383838;\n",
              "                }\n",
              "\n",
              "                .geemap-colab {\n",
              "                    background-color: var(--colab-primary-surface-color, white);\n",
              "                }\n",
              "\n",
              "                .geemap-colab .jupyter-button {\n",
              "                    --jp-layout-color3: var(--colab-primary-surface-color, white);\n",
              "                }\n",
              "            </style>\n",
              "            "
            ]
          },
          "metadata": {}
        },
        {
          "output_type": "display_data",
          "data": {
            "text/plain": [
              "100"
            ]
          },
          "metadata": {}
        },
        {
          "output_type": "display_data",
          "data": {
            "text/plain": [
              "98"
            ]
          },
          "metadata": {}
        }
      ],
      "source": [
        "predictors = ['blue_mean', 'green_mean','red_mean', 'nir_mean']\n",
        "spm_classified = monthly_area.select(predictors).map(lambda img: img.addBands(img.classify(classifier=classifier)))\n",
        "spm_period_classified = period_area.select(predictors).map(lambda img: img.addBands(img.classify(classifier=classifier)))\n",
        "display(spm_classified.size().getInfo())\n",
        "display(spm_period_classified.size().getInfo())"
      ]
    },
    {
      "cell_type": "code",
      "source": [
        "spm_period_classified.limit(5)"
      ],
      "metadata": {
        "id": "c1L9E4PpCrIZ"
      },
      "execution_count": null,
      "outputs": []
    },
    {
      "cell_type": "code",
      "source": [
        "spm_classified.limit(5)"
      ],
      "metadata": {
        "id": "gl8IQfMfjVv2"
      },
      "execution_count": null,
      "outputs": []
    },
    {
      "cell_type": "markdown",
      "metadata": {
        "id": "ZW_POia2PsNy"
      },
      "source": [
        "# Export as Asset: Image Collection"
      ]
    },
    {
      "cell_type": "code",
      "execution_count": null,
      "metadata": {
        "id": "T_P9DCVpPsNy"
      },
      "outputs": [],
      "source": [
        "prj = landsat8.first().select('B4').projection().getInfo()\n",
        "scale = landsat8.first().select('B4').projection().nominalScale().getInfo()"
      ]
    },
    {
      "cell_type": "code",
      "execution_count": null,
      "metadata": {
        "id": "RU3uD7gMPsNy"
      },
      "outputs": [],
      "source": [
        "def export_img(img):\n",
        "      # define YOUR assetID\n",
        "    # export\n",
        "\n",
        "    fname = ee.String(img.get('timestamp')).getInfo()\n",
        "    export = ee.batch.Export.image.toAsset(\\\n",
        "        image=ee.Image(img),\n",
        "        description= 'ld_mosaic_'+fname,\n",
        "        assetId = 'projects/ee-curuai2/assets/landsat_water_period/water_period/mosaic_'+fname,#change the properties to add in images here\n",
        "        region = ee.FeatureCollection(ee.List([ee.Feature(ee.FeatureCollection('projects/ee-curuai2/assets/lim_varzea').geometry().buffer(30)),ee.Feature(ee.FeatureCollection('projects/ee-curuai2/assets/points_curuai').geometry().bounds().buffer(30))])).geometry().bounds(),\n",
        "        crs = prj['crs'],\n",
        "        scale = scale,\n",
        "        maxPixels = 1e13)\n",
        "\n",
        "    # # uncomment to run the export\n",
        "    export.start()\n",
        "    print('exporting ' +fname + '--->done')\n",
        "    return img"
      ]
    },
    {
      "cell_type": "code",
      "source": [
        "col_length = spm_classified.size().getInfo()\n",
        "#print(col_length)\n",
        "# cannot map the function because we run things in the function in bothe client and server sides so we need to make a loop\n",
        "# for very big time series It is recomendable to break the series and export data in parts\n",
        "# not only because of the loop but also because of how exporting to assets works in google earth engine\n",
        "# and you can run into problems if too much information is exported at the same time\n",
        "for i in range(0,col_length):\n",
        "    #print(i)\n",
        "    list = spm_classified.toList(col_length)\n",
        "    img = ee.Image(list.get(i))\n",
        "    export_img(img)"
      ],
      "metadata": {
        "collapsed": true,
        "colab": {
          "base_uri": "https://localhost:8080/",
          "height": 1000
        },
        "id": "aqw2MP70kqF5",
        "outputId": "f90ece1d-216c-47ee-df94-583dbe2bd33d"
      },
      "execution_count": null,
      "outputs": [
        {
          "output_type": "display_data",
          "data": {
            "text/plain": [
              "<IPython.core.display.HTML object>"
            ],
            "text/html": [
              "\n",
              "            <style>\n",
              "                .geemap-dark {\n",
              "                    --jp-widgets-color: white;\n",
              "                    --jp-widgets-label-color: white;\n",
              "                    --jp-ui-font-color1: white;\n",
              "                    --jp-layout-color2: #454545;\n",
              "                    background-color: #383838;\n",
              "                }\n",
              "\n",
              "                .geemap-dark .jupyter-button {\n",
              "                    --jp-layout-color3: #383838;\n",
              "                }\n",
              "\n",
              "                .geemap-colab {\n",
              "                    background-color: var(--colab-primary-surface-color, white);\n",
              "                }\n",
              "\n",
              "                .geemap-colab .jupyter-button {\n",
              "                    --jp-layout-color3: var(--colab-primary-surface-color, white);\n",
              "                }\n",
              "            </style>\n",
              "            "
            ]
          },
          "metadata": {}
        },
        {
          "output_type": "stream",
          "name": "stdout",
          "text": [
            "exporting 2000-01-01--->done\n",
            "exporting 2000-04-01--->done\n",
            "exporting 2000-07-01--->done\n",
            "exporting 2000-10-01--->done\n",
            "exporting 2001-01-01--->done\n",
            "exporting 2001-04-01--->done\n",
            "exporting 2001-07-01--->done\n",
            "exporting 2001-10-01--->done\n",
            "exporting 2002-01-01--->done\n",
            "exporting 2002-04-01--->done\n",
            "exporting 2002-07-01--->done\n",
            "exporting 2002-10-01--->done\n",
            "exporting 2003-01-01--->done\n",
            "exporting 2003-04-01--->done\n",
            "exporting 2003-07-01--->done\n",
            "exporting 2003-10-01--->done\n",
            "exporting 2004-01-01--->done\n",
            "exporting 2004-04-01--->done\n",
            "exporting 2004-07-01--->done\n",
            "exporting 2004-10-01--->done\n",
            "exporting 2005-01-01--->done\n",
            "exporting 2005-04-01--->done\n",
            "exporting 2005-07-01--->done\n",
            "exporting 2005-10-01--->done\n",
            "exporting 2006-01-01--->done\n",
            "exporting 2006-04-01--->done\n",
            "exporting 2006-07-01--->done\n",
            "exporting 2006-10-01--->done\n",
            "exporting 2007-01-01--->done\n",
            "exporting 2007-04-01--->done\n",
            "exporting 2007-07-01--->done\n",
            "exporting 2007-10-01--->done\n",
            "exporting 2008-01-01--->done\n",
            "exporting 2008-04-01--->done\n",
            "exporting 2008-07-01--->done\n",
            "exporting 2008-10-01--->done\n",
            "exporting 2009-01-01--->done\n",
            "exporting 2009-04-01--->done\n",
            "exporting 2009-07-01--->done\n",
            "exporting 2009-10-01--->done\n",
            "exporting 2010-01-01--->done\n",
            "exporting 2010-04-01--->done\n",
            "exporting 2010-07-01--->done\n",
            "exporting 2010-10-01--->done\n",
            "exporting 2011-01-01--->done\n",
            "exporting 2011-04-01--->done\n",
            "exporting 2011-07-01--->done\n",
            "exporting 2011-10-01--->done\n",
            "exporting 2012-01-01--->done\n",
            "exporting 2012-04-01--->done\n",
            "exporting 2012-07-01--->done\n",
            "exporting 2012-10-01--->done\n",
            "exporting 2013-01-01--->done\n",
            "exporting 2013-04-01--->done\n",
            "exporting 2013-07-01--->done\n",
            "exporting 2013-10-01--->done\n",
            "exporting 2014-01-01--->done\n",
            "exporting 2014-04-01--->done\n",
            "exporting 2014-07-01--->done\n",
            "exporting 2014-10-01--->done\n",
            "exporting 2015-01-01--->done\n",
            "exporting 2015-04-01--->done\n",
            "exporting 2015-07-01--->done\n",
            "exporting 2015-10-01--->done\n",
            "exporting 2016-01-01--->done\n",
            "exporting 2016-04-01--->done\n",
            "exporting 2016-07-01--->done\n",
            "exporting 2016-10-01--->done\n",
            "exporting 2017-01-01--->done\n",
            "exporting 2017-04-01--->done\n",
            "exporting 2017-07-01--->done\n",
            "exporting 2017-10-01--->done\n",
            "exporting 2018-01-01--->done\n",
            "exporting 2018-04-01--->done\n",
            "exporting 2018-07-01--->done\n",
            "exporting 2018-10-01--->done\n",
            "exporting 2019-01-01--->done\n",
            "exporting 2019-04-01--->done\n",
            "exporting 2019-07-01--->done\n",
            "exporting 2019-10-01--->done\n",
            "exporting 2020-01-01--->done\n",
            "exporting 2020-04-01--->done\n",
            "exporting 2020-07-01--->done\n",
            "exporting 2020-10-01--->done\n",
            "exporting 2021-01-01--->done\n",
            "exporting 2021-04-01--->done\n",
            "exporting 2021-07-01--->done\n",
            "exporting 2021-10-01--->done\n",
            "exporting 2022-01-01--->done\n",
            "exporting 2022-04-01--->done\n",
            "exporting 2022-07-01--->done\n",
            "exporting 2022-10-01--->done\n",
            "exporting 2023-01-01--->done\n",
            "exporting 2023-04-01--->done\n",
            "exporting 2023-07-01--->done\n",
            "exporting 2023-10-01--->done\n",
            "exporting 2024-01-01--->done\n",
            "exporting 2024-04-01--->done\n",
            "exporting 2024-07-01--->done\n",
            "exporting 2024-10-01--->done\n"
          ]
        }
      ]
    },
    {
      "cell_type": "markdown",
      "source": [
        "# Visualize gif"
      ],
      "metadata": {
        "id": "aStmHpZIl-AM"
      }
    },
    {
      "cell_type": "code",
      "source": [
        "# Define arguments for animation function parameters.\n",
        "video_args = {\n",
        "    \"dimensions\": 768,\n",
        "    \"region\": ee.FeatureCollection(ee.List([ee.Feature(ee.FeatureCollection('projects/ee-curuai2/assets/lim_varzea').geometry().buffer(30)),ee.Feature(ee.FeatureCollection('projects/ee-curuai2/assets/points_curuai').geometry().bounds().buffer(30))])).geometry().bounds(),\n",
        "    \"framesPerSecond\": 5,\n",
        "    \"bands\": [\"classification\"],\n",
        "    \"min\": 1,\n",
        "    \"max\": 350,\n",
        "    \"palette\": ['blue','green', 'yellow', 'orange','red'],\n",
        "}"
      ],
      "metadata": {
        "colab": {
          "base_uri": "https://localhost:8080/",
          "height": 17
        },
        "id": "xHqcw6wKmDr4",
        "outputId": "44b5d14a-b3ba-413f-908e-8b5105b025ab"
      },
      "execution_count": null,
      "outputs": [
        {
          "output_type": "display_data",
          "data": {
            "text/plain": [
              "<IPython.core.display.HTML object>"
            ],
            "text/html": [
              "\n",
              "            <style>\n",
              "                .geemap-dark {\n",
              "                    --jp-widgets-color: white;\n",
              "                    --jp-widgets-label-color: white;\n",
              "                    --jp-ui-font-color1: white;\n",
              "                    --jp-layout-color2: #454545;\n",
              "                    background-color: #383838;\n",
              "                }\n",
              "\n",
              "                .geemap-dark .jupyter-button {\n",
              "                    --jp-layout-color3: #383838;\n",
              "                }\n",
              "\n",
              "                .geemap-colab {\n",
              "                    background-color: var(--colab-primary-surface-color, white);\n",
              "                }\n",
              "\n",
              "                .geemap-colab .jupyter-button {\n",
              "                    --jp-layout-color3: var(--colab-primary-surface-color, white);\n",
              "                }\n",
              "            </style>\n",
              "            "
            ]
          },
          "metadata": {}
        }
      ]
    },
    {
      "cell_type": "code",
      "source": [
        "geemap.download_ee_video(spm_classified, video_args, '/content/classification_SPM.gif')"
      ],
      "metadata": {
        "colab": {
          "base_uri": "https://localhost:8080/",
          "height": 53
        },
        "id": "lJVzdWC0nErw",
        "outputId": "322fdfb8-9de3-47b0-cd39-188a77898ff8"
      },
      "execution_count": null,
      "outputs": [
        {
          "output_type": "display_data",
          "data": {
            "text/plain": [
              "<IPython.core.display.HTML object>"
            ],
            "text/html": [
              "\n",
              "            <style>\n",
              "                .geemap-dark {\n",
              "                    --jp-widgets-color: white;\n",
              "                    --jp-widgets-label-color: white;\n",
              "                    --jp-ui-font-color1: white;\n",
              "                    --jp-layout-color2: #454545;\n",
              "                    background-color: #383838;\n",
              "                }\n",
              "\n",
              "                .geemap-dark .jupyter-button {\n",
              "                    --jp-layout-color3: #383838;\n",
              "                }\n",
              "\n",
              "                .geemap-colab {\n",
              "                    background-color: var(--colab-primary-surface-color, white);\n",
              "                }\n",
              "\n",
              "                .geemap-colab .jupyter-button {\n",
              "                    --jp-layout-color3: var(--colab-primary-surface-color, white);\n",
              "                }\n",
              "            </style>\n",
              "            "
            ]
          },
          "metadata": {}
        },
        {
          "output_type": "stream",
          "name": "stdout",
          "text": [
            "Generating URL...\n",
            "Total request size (29414400 pixels) must be less than or equal to 26214400 pixels.\n"
          ]
        }
      ]
    },
    {
      "cell_type": "code",
      "source": [
        "geemap.add_text_to_gif(\n",
        "    '/content/classification_SPM.gif',\n",
        "    '/content/classification_SPM_text.gif',\n",
        "    xy=(\"3%\", \"5%\"),\n",
        "    text_sequence=spm_classified.aggregate_array('timestamp').getInfo(),\n",
        "    font_size=30,\n",
        "    font_color=\"#ffffff\",\n",
        "    add_progress_bar=True,\n",
        ")"
      ],
      "metadata": {
        "colab": {
          "base_uri": "https://localhost:8080/",
          "height": 35
        },
        "id": "pVEXYpoBoFTx",
        "outputId": "7f453f14-f458-45ce-cac6-5fadc8f29520"
      },
      "execution_count": null,
      "outputs": [
        {
          "output_type": "display_data",
          "data": {
            "text/plain": [
              "<IPython.core.display.HTML object>"
            ],
            "text/html": [
              "\n",
              "            <style>\n",
              "                .geemap-dark {\n",
              "                    --jp-widgets-color: white;\n",
              "                    --jp-widgets-label-color: white;\n",
              "                    --jp-ui-font-color1: white;\n",
              "                    --jp-layout-color2: #454545;\n",
              "                    background-color: #383838;\n",
              "                }\n",
              "\n",
              "                .geemap-dark .jupyter-button {\n",
              "                    --jp-layout-color3: #383838;\n",
              "                }\n",
              "\n",
              "                .geemap-colab {\n",
              "                    background-color: var(--colab-primary-surface-color, white);\n",
              "                }\n",
              "\n",
              "                .geemap-colab .jupyter-button {\n",
              "                    --jp-layout-color3: var(--colab-primary-surface-color, white);\n",
              "                }\n",
              "            </style>\n",
              "            "
            ]
          },
          "metadata": {}
        },
        {
          "output_type": "stream",
          "name": "stdout",
          "text": [
            "The length of the text sequence must be equal to the number (72) of frames in the gif.\n"
          ]
        }
      ]
    },
    {
      "cell_type": "code",
      "source": [
        "# Define arguments for animation function parameters.\n",
        "video_args = {\n",
        "    \"dimensions\": 768,\n",
        "    \"region\": ee.FeatureCollection(ee.List([ee.Feature(ee.FeatureCollection('projects/ee-curuai2/assets/lim_varzea').geometry().buffer(30)),ee.Feature(ee.FeatureCollection('projects/ee-curuai2/assets/points_curuai').geometry().bounds().buffer(30))])).geometry().bounds(),\n",
        "    \"framesPerSecond\": 5,\n",
        "    \"bands\": [\"red_mean\",'green_mean','blue_mean'],\n",
        "    \"min\": 0,\n",
        "    \"max\": 0.07,\n",
        "}"
      ],
      "metadata": {
        "colab": {
          "base_uri": "https://localhost:8080/",
          "height": 17
        },
        "id": "I-9Dam1Mpvkc",
        "outputId": "a6109dd9-1c07-40ee-c7df-9383d3e422c8"
      },
      "execution_count": null,
      "outputs": [
        {
          "output_type": "display_data",
          "data": {
            "text/plain": [
              "<IPython.core.display.HTML object>"
            ],
            "text/html": [
              "\n",
              "            <style>\n",
              "                .geemap-dark {\n",
              "                    --jp-widgets-color: white;\n",
              "                    --jp-widgets-label-color: white;\n",
              "                    --jp-ui-font-color1: white;\n",
              "                    --jp-layout-color2: #454545;\n",
              "                    background-color: #383838;\n",
              "                }\n",
              "\n",
              "                .geemap-dark .jupyter-button {\n",
              "                    --jp-layout-color3: #383838;\n",
              "                }\n",
              "\n",
              "                .geemap-colab {\n",
              "                    background-color: var(--colab-primary-surface-color, white);\n",
              "                }\n",
              "\n",
              "                .geemap-colab .jupyter-button {\n",
              "                    --jp-layout-color3: var(--colab-primary-surface-color, white);\n",
              "                }\n",
              "            </style>\n",
              "            "
            ]
          },
          "metadata": {}
        }
      ]
    },
    {
      "cell_type": "code",
      "source": [
        "geemap.download_ee_video(spm_classified, video_args, '/content/water_period.gif')"
      ],
      "metadata": {
        "colab": {
          "base_uri": "https://localhost:8080/",
          "height": 53
        },
        "id": "lo8e8J0CrRfS",
        "outputId": "7579e52e-616f-4962-91e8-2613e1fb5e79"
      },
      "execution_count": null,
      "outputs": [
        {
          "output_type": "display_data",
          "data": {
            "text/plain": [
              "<IPython.core.display.HTML object>"
            ],
            "text/html": [
              "\n",
              "            <style>\n",
              "                .geemap-dark {\n",
              "                    --jp-widgets-color: white;\n",
              "                    --jp-widgets-label-color: white;\n",
              "                    --jp-ui-font-color1: white;\n",
              "                    --jp-layout-color2: #454545;\n",
              "                    background-color: #383838;\n",
              "                }\n",
              "\n",
              "                .geemap-dark .jupyter-button {\n",
              "                    --jp-layout-color3: #383838;\n",
              "                }\n",
              "\n",
              "                .geemap-colab {\n",
              "                    background-color: var(--colab-primary-surface-color, white);\n",
              "                }\n",
              "\n",
              "                .geemap-colab .jupyter-button {\n",
              "                    --jp-layout-color3: var(--colab-primary-surface-color, white);\n",
              "                }\n",
              "            </style>\n",
              "            "
            ]
          },
          "metadata": {}
        },
        {
          "output_type": "stream",
          "name": "stdout",
          "text": [
            "Generating URL...\n",
            "Total request size (29414400 pixels) must be less than or equal to 26214400 pixels.\n"
          ]
        }
      ]
    },
    {
      "cell_type": "code",
      "source": [
        "geemap.add_text_to_gif(\n",
        "    '/content/water_period.gif',\n",
        "    '/content/water_period_text.gif',\n",
        "    xy=(\"3%\", \"5%\"),\n",
        "    text_sequence=spm_classified.aggregate_array('timestamp').getInfo(),\n",
        "    font_size=30,\n",
        "    font_color=\"#ffffff\",\n",
        "    add_progress_bar=True,\n",
        ")"
      ],
      "metadata": {
        "colab": {
          "base_uri": "https://localhost:8080/",
          "height": 35
        },
        "id": "oDCSz95hrcP_",
        "outputId": "fa503b2a-c276-4a75-9f28-6015a5b72565"
      },
      "execution_count": null,
      "outputs": [
        {
          "output_type": "display_data",
          "data": {
            "text/plain": [
              "<IPython.core.display.HTML object>"
            ],
            "text/html": [
              "\n",
              "            <style>\n",
              "                .geemap-dark {\n",
              "                    --jp-widgets-color: white;\n",
              "                    --jp-widgets-label-color: white;\n",
              "                    --jp-ui-font-color1: white;\n",
              "                    --jp-layout-color2: #454545;\n",
              "                    background-color: #383838;\n",
              "                }\n",
              "\n",
              "                .geemap-dark .jupyter-button {\n",
              "                    --jp-layout-color3: #383838;\n",
              "                }\n",
              "\n",
              "                .geemap-colab {\n",
              "                    background-color: var(--colab-primary-surface-color, white);\n",
              "                }\n",
              "\n",
              "                .geemap-colab .jupyter-button {\n",
              "                    --jp-layout-color3: var(--colab-primary-surface-color, white);\n",
              "                }\n",
              "            </style>\n",
              "            "
            ]
          },
          "metadata": {}
        },
        {
          "output_type": "stream",
          "name": "stdout",
          "text": [
            "The length of the text sequence must be equal to the number (72) of frames in the gif.\n"
          ]
        }
      ]
    }
  ],
  "metadata": {
    "language_info": {
      "name": "python"
    },
    "colab": {
      "provenance": [],
      "toc_visible": true,
      "include_colab_link": true
    },
    "kernelspec": {
      "name": "python3",
      "display_name": "Python 3"
    }
  },
  "nbformat": 4,
  "nbformat_minor": 0
}