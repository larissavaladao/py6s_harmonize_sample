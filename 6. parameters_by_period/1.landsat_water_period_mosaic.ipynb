{
  "cells": [
    {
      "cell_type": "code",
      "execution_count": 1,
      "metadata": {
        "id": "j9tzG_v0PsNr"
      },
      "outputs": [],
      "source": [
        "import geopandas as gpd\n",
        "import pandas as pd\n",
        "import math\n",
        "import ee\n",
        "import geemap"
      ]
    },
    {
      "cell_type": "code",
      "execution_count": 2,
      "metadata": {
        "colab": {
          "base_uri": "https://localhost:8080/",
          "height": 17
        },
        "id": "c1jYliSHPsNs",
        "outputId": "91926bfd-7504-4617-8f73-33b48e8c48b5"
      },
      "outputs": [
        {
          "output_type": "display_data",
          "data": {
            "text/plain": [
              "<IPython.core.display.HTML object>"
            ],
            "text/html": [
              "\n",
              "            <style>\n",
              "                .geemap-dark {\n",
              "                    --jp-widgets-color: white;\n",
              "                    --jp-widgets-label-color: white;\n",
              "                    --jp-ui-font-color1: white;\n",
              "                    --jp-layout-color2: #454545;\n",
              "                    background-color: #383838;\n",
              "                }\n",
              "\n",
              "                .geemap-dark .jupyter-button {\n",
              "                    --jp-layout-color3: #383838;\n",
              "                }\n",
              "\n",
              "                .geemap-colab {\n",
              "                    background-color: var(--colab-primary-surface-color, white);\n",
              "                }\n",
              "\n",
              "                .geemap-colab .jupyter-button {\n",
              "                    --jp-layout-color3: var(--colab-primary-surface-color, white);\n",
              "                }\n",
              "            </style>\n",
              "            "
            ]
          },
          "metadata": {}
        }
      ],
      "source": [
        "ee.Authenticate()\n",
        "ee.Initialize(project='ee-curuai2')"
      ]
    },
    {
      "cell_type": "code",
      "execution_count": 3,
      "metadata": {
        "colab": {
          "base_uri": "https://localhost:8080/",
          "height": 316
        },
        "id": "3ZA7T5nPPsNt",
        "outputId": "0dc230f9-7699-42ad-a625-7c01427506d2"
      },
      "outputs": [
        {
          "output_type": "display_data",
          "data": {
            "text/plain": [
              "<IPython.core.display.HTML object>"
            ],
            "text/html": [
              "\n",
              "            <style>\n",
              "                .geemap-dark {\n",
              "                    --jp-widgets-color: white;\n",
              "                    --jp-widgets-label-color: white;\n",
              "                    --jp-ui-font-color1: white;\n",
              "                    --jp-layout-color2: #454545;\n",
              "                    background-color: #383838;\n",
              "                }\n",
              "\n",
              "                .geemap-dark .jupyter-button {\n",
              "                    --jp-layout-color3: #383838;\n",
              "                }\n",
              "\n",
              "                .geemap-colab {\n",
              "                    background-color: var(--colab-primary-surface-color, white);\n",
              "                }\n",
              "\n",
              "                .geemap-colab .jupyter-button {\n",
              "                    --jp-layout-color3: var(--colab-primary-surface-color, white);\n",
              "                }\n",
              "            </style>\n",
              "            "
            ]
          },
          "metadata": {}
        },
        {
          "output_type": "error",
          "ename": "MessageError",
          "evalue": "Error: credential propagation was unsuccessful",
          "traceback": [
            "\u001b[0;31m---------------------------------------------------------------------------\u001b[0m",
            "\u001b[0;31mMessageError\u001b[0m                              Traceback (most recent call last)",
            "\u001b[0;32m<ipython-input-3-d5df0069828e>\u001b[0m in \u001b[0;36m<cell line: 0>\u001b[0;34m()\u001b[0m\n\u001b[1;32m      1\u001b[0m \u001b[0;32mfrom\u001b[0m \u001b[0mgoogle\u001b[0m\u001b[0;34m.\u001b[0m\u001b[0mcolab\u001b[0m \u001b[0;32mimport\u001b[0m \u001b[0mdrive\u001b[0m\u001b[0;34m\u001b[0m\u001b[0;34m\u001b[0m\u001b[0m\n\u001b[0;32m----> 2\u001b[0;31m \u001b[0mdrive\u001b[0m\u001b[0;34m.\u001b[0m\u001b[0mmount\u001b[0m\u001b[0;34m(\u001b[0m\u001b[0;34m'/content/drive'\u001b[0m\u001b[0;34m)\u001b[0m\u001b[0;34m\u001b[0m\u001b[0;34m\u001b[0m\u001b[0m\n\u001b[0m",
            "\u001b[0;32m/usr/local/lib/python3.11/dist-packages/google/colab/drive.py\u001b[0m in \u001b[0;36mmount\u001b[0;34m(mountpoint, force_remount, timeout_ms, readonly)\u001b[0m\n\u001b[1;32m     98\u001b[0m \u001b[0;32mdef\u001b[0m \u001b[0mmount\u001b[0m\u001b[0;34m(\u001b[0m\u001b[0mmountpoint\u001b[0m\u001b[0;34m,\u001b[0m \u001b[0mforce_remount\u001b[0m\u001b[0;34m=\u001b[0m\u001b[0;32mFalse\u001b[0m\u001b[0;34m,\u001b[0m \u001b[0mtimeout_ms\u001b[0m\u001b[0;34m=\u001b[0m\u001b[0;36m120000\u001b[0m\u001b[0;34m,\u001b[0m \u001b[0mreadonly\u001b[0m\u001b[0;34m=\u001b[0m\u001b[0;32mFalse\u001b[0m\u001b[0;34m)\u001b[0m\u001b[0;34m:\u001b[0m\u001b[0;34m\u001b[0m\u001b[0;34m\u001b[0m\u001b[0m\n\u001b[1;32m     99\u001b[0m   \u001b[0;34m\"\"\"Mount your Google Drive at the specified mountpoint path.\"\"\"\u001b[0m\u001b[0;34m\u001b[0m\u001b[0;34m\u001b[0m\u001b[0m\n\u001b[0;32m--> 100\u001b[0;31m   return _mount(\n\u001b[0m\u001b[1;32m    101\u001b[0m       \u001b[0mmountpoint\u001b[0m\u001b[0;34m,\u001b[0m\u001b[0;34m\u001b[0m\u001b[0;34m\u001b[0m\u001b[0m\n\u001b[1;32m    102\u001b[0m       \u001b[0mforce_remount\u001b[0m\u001b[0;34m=\u001b[0m\u001b[0mforce_remount\u001b[0m\u001b[0;34m,\u001b[0m\u001b[0;34m\u001b[0m\u001b[0;34m\u001b[0m\u001b[0m\n",
            "\u001b[0;32m/usr/local/lib/python3.11/dist-packages/google/colab/drive.py\u001b[0m in \u001b[0;36m_mount\u001b[0;34m(mountpoint, force_remount, timeout_ms, ephemeral, readonly)\u001b[0m\n\u001b[1;32m    135\u001b[0m   )\n\u001b[1;32m    136\u001b[0m   \u001b[0;32mif\u001b[0m \u001b[0mephemeral\u001b[0m\u001b[0;34m:\u001b[0m\u001b[0;34m\u001b[0m\u001b[0;34m\u001b[0m\u001b[0m\n\u001b[0;32m--> 137\u001b[0;31m     _message.blocking_request(\n\u001b[0m\u001b[1;32m    138\u001b[0m         \u001b[0;34m'request_auth'\u001b[0m\u001b[0;34m,\u001b[0m\u001b[0;34m\u001b[0m\u001b[0;34m\u001b[0m\u001b[0m\n\u001b[1;32m    139\u001b[0m         \u001b[0mrequest\u001b[0m\u001b[0;34m=\u001b[0m\u001b[0;34m{\u001b[0m\u001b[0;34m'authType'\u001b[0m\u001b[0;34m:\u001b[0m \u001b[0;34m'dfs_ephemeral'\u001b[0m\u001b[0;34m}\u001b[0m\u001b[0;34m,\u001b[0m\u001b[0;34m\u001b[0m\u001b[0;34m\u001b[0m\u001b[0m\n",
            "\u001b[0;32m/usr/local/lib/python3.11/dist-packages/google/colab/_message.py\u001b[0m in \u001b[0;36mblocking_request\u001b[0;34m(request_type, request, timeout_sec, parent)\u001b[0m\n\u001b[1;32m    174\u001b[0m       \u001b[0mrequest_type\u001b[0m\u001b[0;34m,\u001b[0m \u001b[0mrequest\u001b[0m\u001b[0;34m,\u001b[0m \u001b[0mparent\u001b[0m\u001b[0;34m=\u001b[0m\u001b[0mparent\u001b[0m\u001b[0;34m,\u001b[0m \u001b[0mexpect_reply\u001b[0m\u001b[0;34m=\u001b[0m\u001b[0;32mTrue\u001b[0m\u001b[0;34m\u001b[0m\u001b[0;34m\u001b[0m\u001b[0m\n\u001b[1;32m    175\u001b[0m   )\n\u001b[0;32m--> 176\u001b[0;31m   \u001b[0;32mreturn\u001b[0m \u001b[0mread_reply_from_input\u001b[0m\u001b[0;34m(\u001b[0m\u001b[0mrequest_id\u001b[0m\u001b[0;34m,\u001b[0m \u001b[0mtimeout_sec\u001b[0m\u001b[0;34m)\u001b[0m\u001b[0;34m\u001b[0m\u001b[0;34m\u001b[0m\u001b[0m\n\u001b[0m",
            "\u001b[0;32m/usr/local/lib/python3.11/dist-packages/google/colab/_message.py\u001b[0m in \u001b[0;36mread_reply_from_input\u001b[0;34m(message_id, timeout_sec)\u001b[0m\n\u001b[1;32m    101\u001b[0m     ):\n\u001b[1;32m    102\u001b[0m       \u001b[0;32mif\u001b[0m \u001b[0;34m'error'\u001b[0m \u001b[0;32min\u001b[0m \u001b[0mreply\u001b[0m\u001b[0;34m:\u001b[0m\u001b[0;34m\u001b[0m\u001b[0;34m\u001b[0m\u001b[0m\n\u001b[0;32m--> 103\u001b[0;31m         \u001b[0;32mraise\u001b[0m \u001b[0mMessageError\u001b[0m\u001b[0;34m(\u001b[0m\u001b[0mreply\u001b[0m\u001b[0;34m[\u001b[0m\u001b[0;34m'error'\u001b[0m\u001b[0;34m]\u001b[0m\u001b[0;34m)\u001b[0m\u001b[0;34m\u001b[0m\u001b[0;34m\u001b[0m\u001b[0m\n\u001b[0m\u001b[1;32m    104\u001b[0m       \u001b[0;32mreturn\u001b[0m \u001b[0mreply\u001b[0m\u001b[0;34m.\u001b[0m\u001b[0mget\u001b[0m\u001b[0;34m(\u001b[0m\u001b[0;34m'data'\u001b[0m\u001b[0;34m,\u001b[0m \u001b[0;32mNone\u001b[0m\u001b[0;34m)\u001b[0m\u001b[0;34m\u001b[0m\u001b[0;34m\u001b[0m\u001b[0m\n\u001b[1;32m    105\u001b[0m \u001b[0;34m\u001b[0m\u001b[0m\n",
            "\u001b[0;31mMessageError\u001b[0m: Error: credential propagation was unsuccessful"
          ]
        }
      ],
      "source": [
        "from google.colab import drive\n",
        "drive.mount('/content/drive')"
      ]
    },
    {
      "cell_type": "markdown",
      "metadata": {
        "id": "tDL2BheXPsNt"
      },
      "source": [
        "# Import image collections"
      ]
    },
    {
      "cell_type": "markdown",
      "metadata": {
        "id": "4vvm1wxjPsNu"
      },
      "source": [
        "Landsat 7 - PY6S"
      ]
    },
    {
      "cell_type": "code",
      "execution_count": 4,
      "metadata": {
        "colab": {
          "base_uri": "https://localhost:8080/",
          "height": 0
        },
        "id": "nodKpsDSPsNu",
        "outputId": "6ec29135-bb9f-436c-fd6f-9b29a7339b13"
      },
      "outputs": [
        {
          "output_type": "display_data",
          "data": {
            "text/plain": [
              "<IPython.core.display.HTML object>"
            ],
            "text/html": [
              "\n",
              "            <style>\n",
              "                .geemap-dark {\n",
              "                    --jp-widgets-color: white;\n",
              "                    --jp-widgets-label-color: white;\n",
              "                    --jp-ui-font-color1: white;\n",
              "                    --jp-layout-color2: #454545;\n",
              "                    background-color: #383838;\n",
              "                }\n",
              "\n",
              "                .geemap-dark .jupyter-button {\n",
              "                    --jp-layout-color3: #383838;\n",
              "                }\n",
              "\n",
              "                .geemap-colab {\n",
              "                    background-color: var(--colab-primary-surface-color, white);\n",
              "                }\n",
              "\n",
              "                .geemap-colab .jupyter-button {\n",
              "                    --jp-layout-color3: var(--colab-primary-surface-color, white);\n",
              "                }\n",
              "            </style>\n",
              "            "
            ]
          },
          "metadata": {}
        },
        {
          "output_type": "stream",
          "name": "stdout",
          "text": [
            "2000-01-24T13:46:48\n",
            "2024-01-16T11:16:49\n"
          ]
        }
      ],
      "source": [
        "landsat7 = ee.ImageCollection(\"projects/ee-curuai/assets/Py6S/LD7/Landsat7\")\\\n",
        "            .select([ 'B1', 'B2', 'B3', 'B4', 'B5', 'B7'])\n",
        "print(ee.Date(landsat7.sort('system:time_start',True).first().get('system:time_start')).format().getInfo())\n",
        "print(ee.Date(landsat7.sort('system:time_start',False).first().get('system:time_start')).format().getInfo())"
      ]
    },
    {
      "cell_type": "code",
      "execution_count": 5,
      "metadata": {
        "colab": {
          "base_uri": "https://localhost:8080/",
          "height": 0
        },
        "id": "4BLH7eniPsNu",
        "outputId": "47ced44b-5812-4fbc-c353-f07448c97ee3"
      },
      "outputs": [
        {
          "output_type": "display_data",
          "data": {
            "text/plain": [
              "<IPython.core.display.HTML object>"
            ],
            "text/html": [
              "\n",
              "            <style>\n",
              "                .geemap-dark {\n",
              "                    --jp-widgets-color: white;\n",
              "                    --jp-widgets-label-color: white;\n",
              "                    --jp-ui-font-color1: white;\n",
              "                    --jp-layout-color2: #454545;\n",
              "                    background-color: #383838;\n",
              "                }\n",
              "\n",
              "                .geemap-dark .jupyter-button {\n",
              "                    --jp-layout-color3: #383838;\n",
              "                }\n",
              "\n",
              "                .geemap-colab {\n",
              "                    background-color: var(--colab-primary-surface-color, white);\n",
              "                }\n",
              "\n",
              "                .geemap-colab .jupyter-button {\n",
              "                    --jp-layout-color3: var(--colab-primary-surface-color, white);\n",
              "                }\n",
              "            </style>\n",
              "            "
            ]
          },
          "metadata": {}
        },
        {
          "output_type": "stream",
          "name": "stdout",
          "text": [
            "{'227.0': 624, '228.0': 729, '229.0': 13}\n",
            "{'61.0': 685, '62.0': 681}\n"
          ]
        }
      ],
      "source": [
        "print(landsat7.aggregate_histogram('WRS_PATH').getInfo())\n",
        "print(landsat7.aggregate_histogram('WRS_ROW').getInfo())"
      ]
    },
    {
      "cell_type": "code",
      "execution_count": 6,
      "metadata": {
        "colab": {
          "base_uri": "https://localhost:8080/",
          "height": 0
        },
        "id": "sbw5dmBOPsNv",
        "outputId": "e3b02ece-606f-40ee-d8fa-262efd4c883f"
      },
      "outputs": [
        {
          "output_type": "display_data",
          "data": {
            "text/plain": [
              "<IPython.core.display.HTML object>"
            ],
            "text/html": [
              "\n",
              "            <style>\n",
              "                .geemap-dark {\n",
              "                    --jp-widgets-color: white;\n",
              "                    --jp-widgets-label-color: white;\n",
              "                    --jp-ui-font-color1: white;\n",
              "                    --jp-layout-color2: #454545;\n",
              "                    background-color: #383838;\n",
              "                }\n",
              "\n",
              "                .geemap-dark .jupyter-button {\n",
              "                    --jp-layout-color3: #383838;\n",
              "                }\n",
              "\n",
              "                .geemap-colab {\n",
              "                    background-color: var(--colab-primary-surface-color, white);\n",
              "                }\n",
              "\n",
              "                .geemap-colab .jupyter-button {\n",
              "                    --jp-layout-color3: var(--colab-primary-surface-color, white);\n",
              "                }\n",
              "            </style>\n",
              "            "
            ]
          },
          "metadata": {}
        },
        {
          "output_type": "stream",
          "name": "stdout",
          "text": [
            "{'61.0': 298, '62.0': 326}\n",
            "{'61.0': 380, '62.0': 349}\n"
          ]
        }
      ],
      "source": [
        "print(landsat7.filter(ee.Filter.eq('WRS_PATH',227.0)).aggregate_histogram('WRS_ROW').getInfo())\n",
        "print(landsat7.filter(ee.Filter.eq('WRS_PATH',228.0)).aggregate_histogram('WRS_ROW').getInfo())"
      ]
    },
    {
      "cell_type": "markdown",
      "metadata": {
        "id": "tsct5Lw7PsNv"
      },
      "source": [
        "Landsat 8 PY6S"
      ]
    },
    {
      "cell_type": "code",
      "execution_count": 7,
      "metadata": {
        "colab": {
          "base_uri": "https://localhost:8080/",
          "height": 0
        },
        "id": "rIJRM-pwPsNv",
        "outputId": "d7504aa8-047e-4f13-f1a5-17a95e915601"
      },
      "outputs": [
        {
          "output_type": "display_data",
          "data": {
            "text/plain": [
              "<IPython.core.display.HTML object>"
            ],
            "text/html": [
              "\n",
              "            <style>\n",
              "                .geemap-dark {\n",
              "                    --jp-widgets-color: white;\n",
              "                    --jp-widgets-label-color: white;\n",
              "                    --jp-ui-font-color1: white;\n",
              "                    --jp-layout-color2: #454545;\n",
              "                    background-color: #383838;\n",
              "                }\n",
              "\n",
              "                .geemap-dark .jupyter-button {\n",
              "                    --jp-layout-color3: #383838;\n",
              "                }\n",
              "\n",
              "                .geemap-colab {\n",
              "                    background-color: var(--colab-primary-surface-color, white);\n",
              "                }\n",
              "\n",
              "                .geemap-colab .jupyter-button {\n",
              "                    --jp-layout-color3: var(--colab-primary-surface-color, white);\n",
              "                }\n",
              "            </style>\n",
              "            "
            ]
          },
          "metadata": {}
        },
        {
          "output_type": "stream",
          "name": "stdout",
          "text": [
            "2013-05-11T13:55:54\n",
            "2024-12-12T13:47:48\n"
          ]
        }
      ],
      "source": [
        "landsat8 = (ee.ImageCollection(\"projects/ee-curuai/assets/Py6S/LD8/Landsat8\")\n",
        "            .select(['B2', 'B3', 'B4', 'B5', 'B6', 'B7']))\n",
        "print(ee.Date(landsat8.sort('system:time_start',True).first().get('system:time_start')).format().getInfo())\n",
        "print(ee.Date(landsat8.sort('system:time_start',False).first().get('system:time_start')).format().getInfo())"
      ]
    },
    {
      "cell_type": "code",
      "execution_count": 8,
      "metadata": {
        "colab": {
          "base_uri": "https://localhost:8080/",
          "height": 0
        },
        "id": "rnyQZ65nPsNw",
        "outputId": "68d6f130-9b37-49c7-ac32-f1304476031a"
      },
      "outputs": [
        {
          "output_type": "display_data",
          "data": {
            "text/plain": [
              "<IPython.core.display.HTML object>"
            ],
            "text/html": [
              "\n",
              "            <style>\n",
              "                .geemap-dark {\n",
              "                    --jp-widgets-color: white;\n",
              "                    --jp-widgets-label-color: white;\n",
              "                    --jp-ui-font-color1: white;\n",
              "                    --jp-layout-color2: #454545;\n",
              "                    background-color: #383838;\n",
              "                }\n",
              "\n",
              "                .geemap-dark .jupyter-button {\n",
              "                    --jp-layout-color3: #383838;\n",
              "                }\n",
              "\n",
              "                .geemap-colab {\n",
              "                    background-color: var(--colab-primary-surface-color, white);\n",
              "                }\n",
              "\n",
              "                .geemap-colab .jupyter-button {\n",
              "                    --jp-layout-color3: var(--colab-primary-surface-color, white);\n",
              "                }\n",
              "            </style>\n",
              "            "
            ]
          },
          "metadata": {}
        },
        {
          "output_type": "stream",
          "name": "stdout",
          "text": [
            "{'227.0': 364, '228.0': 379}\n",
            "{'61.0': 372, '62.0': 371}\n"
          ]
        }
      ],
      "source": [
        "print(landsat8.aggregate_histogram('WRS_PATH').getInfo())\n",
        "print(landsat8.aggregate_histogram('WRS_ROW').getInfo())"
      ]
    },
    {
      "cell_type": "code",
      "execution_count": 9,
      "metadata": {
        "colab": {
          "base_uri": "https://localhost:8080/",
          "height": 0
        },
        "id": "UqBX8ipfPsNw",
        "outputId": "d76166ea-7859-4a0e-cbfd-5a691981fd43"
      },
      "outputs": [
        {
          "output_type": "display_data",
          "data": {
            "text/plain": [
              "<IPython.core.display.HTML object>"
            ],
            "text/html": [
              "\n",
              "            <style>\n",
              "                .geemap-dark {\n",
              "                    --jp-widgets-color: white;\n",
              "                    --jp-widgets-label-color: white;\n",
              "                    --jp-ui-font-color1: white;\n",
              "                    --jp-layout-color2: #454545;\n",
              "                    background-color: #383838;\n",
              "                }\n",
              "\n",
              "                .geemap-dark .jupyter-button {\n",
              "                    --jp-layout-color3: #383838;\n",
              "                }\n",
              "\n",
              "                .geemap-colab {\n",
              "                    background-color: var(--colab-primary-surface-color, white);\n",
              "                }\n",
              "\n",
              "                .geemap-colab .jupyter-button {\n",
              "                    --jp-layout-color3: var(--colab-primary-surface-color, white);\n",
              "                }\n",
              "            </style>\n",
              "            "
            ]
          },
          "metadata": {}
        },
        {
          "output_type": "stream",
          "name": "stdout",
          "text": [
            "{'61.0': 180, '62.0': 184}\n",
            "{'61.0': 192, '62.0': 187}\n"
          ]
        }
      ],
      "source": [
        "print(landsat8.filter(ee.Filter.eq('WRS_PATH',227.0)).aggregate_histogram('WRS_ROW').getInfo())\n",
        "print(landsat8.filter(ee.Filter.eq('WRS_PATH',228.0)).aggregate_histogram('WRS_ROW').getInfo())"
      ]
    },
    {
      "cell_type": "markdown",
      "metadata": {
        "id": "viLs2-w0Qu_P"
      },
      "source": [
        "Landsat 9 PY6S"
      ]
    },
    {
      "cell_type": "code",
      "execution_count": 10,
      "metadata": {
        "outputId": "371da22f-8a21-47f7-b0d9-67fec8ec985e",
        "colab": {
          "base_uri": "https://localhost:8080/",
          "height": 0
        },
        "id": "Qtc9kPP3Qu_Q"
      },
      "outputs": [
        {
          "output_type": "display_data",
          "data": {
            "text/plain": [
              "<IPython.core.display.HTML object>"
            ],
            "text/html": [
              "\n",
              "            <style>\n",
              "                .geemap-dark {\n",
              "                    --jp-widgets-color: white;\n",
              "                    --jp-widgets-label-color: white;\n",
              "                    --jp-ui-font-color1: white;\n",
              "                    --jp-layout-color2: #454545;\n",
              "                    background-color: #383838;\n",
              "                }\n",
              "\n",
              "                .geemap-dark .jupyter-button {\n",
              "                    --jp-layout-color3: #383838;\n",
              "                }\n",
              "\n",
              "                .geemap-colab {\n",
              "                    background-color: var(--colab-primary-surface-color, white);\n",
              "                }\n",
              "\n",
              "                .geemap-colab .jupyter-button {\n",
              "                    --jp-layout-color3: var(--colab-primary-surface-color, white);\n",
              "                }\n",
              "            </style>\n",
              "            "
            ]
          },
          "metadata": {}
        },
        {
          "output_type": "stream",
          "name": "stdout",
          "text": [
            "2021-11-06T13:49:55\n",
            "2024-12-27T13:54:34\n"
          ]
        }
      ],
      "source": [
        "landsat9 = (ee.ImageCollection(\"projects/ee-curuai2/assets/Py6S/LD9/Landsat9\")\n",
        "            .select(['B2', 'B3', 'B4', 'B5', 'B6', 'B7']))\n",
        "print(ee.Date(landsat9.sort('system:time_start',True).first().get('system:time_start')).format().getInfo())\n",
        "print(ee.Date(landsat9.sort('system:time_start',False).first().get('system:time_start')).format().getInfo())"
      ]
    },
    {
      "cell_type": "code",
      "execution_count": 11,
      "metadata": {
        "outputId": "f33aad2c-ce9f-48a2-bf1e-c455e6a6a0a4",
        "colab": {
          "base_uri": "https://localhost:8080/",
          "height": 0
        },
        "id": "24tcj-QIQu_Q"
      },
      "outputs": [
        {
          "output_type": "display_data",
          "data": {
            "text/plain": [
              "<IPython.core.display.HTML object>"
            ],
            "text/html": [
              "\n",
              "            <style>\n",
              "                .geemap-dark {\n",
              "                    --jp-widgets-color: white;\n",
              "                    --jp-widgets-label-color: white;\n",
              "                    --jp-ui-font-color1: white;\n",
              "                    --jp-layout-color2: #454545;\n",
              "                    background-color: #383838;\n",
              "                }\n",
              "\n",
              "                .geemap-dark .jupyter-button {\n",
              "                    --jp-layout-color3: #383838;\n",
              "                }\n",
              "\n",
              "                .geemap-colab {\n",
              "                    background-color: var(--colab-primary-surface-color, white);\n",
              "                }\n",
              "\n",
              "                .geemap-colab .jupyter-button {\n",
              "                    --jp-layout-color3: var(--colab-primary-surface-color, white);\n",
              "                }\n",
              "            </style>\n",
              "            "
            ]
          },
          "metadata": {}
        },
        {
          "output_type": "stream",
          "name": "stdout",
          "text": [
            "{'227.0': 101, '228.0': 105, '229.0': 2}\n",
            "{'61.0': 104, '62.0': 104}\n"
          ]
        }
      ],
      "source": [
        "print(landsat9.aggregate_histogram('WRS_PATH').getInfo())\n",
        "print(landsat9.aggregate_histogram('WRS_ROW').getInfo())"
      ]
    },
    {
      "cell_type": "code",
      "execution_count": 12,
      "metadata": {
        "outputId": "d6f94c18-5331-4676-ab70-e575aecbce56",
        "colab": {
          "base_uri": "https://localhost:8080/",
          "height": 0
        },
        "id": "qbNhsfL8Qu_R"
      },
      "outputs": [
        {
          "output_type": "display_data",
          "data": {
            "text/plain": [
              "<IPython.core.display.HTML object>"
            ],
            "text/html": [
              "\n",
              "            <style>\n",
              "                .geemap-dark {\n",
              "                    --jp-widgets-color: white;\n",
              "                    --jp-widgets-label-color: white;\n",
              "                    --jp-ui-font-color1: white;\n",
              "                    --jp-layout-color2: #454545;\n",
              "                    background-color: #383838;\n",
              "                }\n",
              "\n",
              "                .geemap-dark .jupyter-button {\n",
              "                    --jp-layout-color3: #383838;\n",
              "                }\n",
              "\n",
              "                .geemap-colab {\n",
              "                    background-color: var(--colab-primary-surface-color, white);\n",
              "                }\n",
              "\n",
              "                .geemap-colab .jupyter-button {\n",
              "                    --jp-layout-color3: var(--colab-primary-surface-color, white);\n",
              "                }\n",
              "            </style>\n",
              "            "
            ]
          },
          "metadata": {}
        },
        {
          "output_type": "stream",
          "name": "stdout",
          "text": [
            "{'61.0': 50, '62.0': 51}\n",
            "{'61.0': 53, '62.0': 52}\n"
          ]
        }
      ],
      "source": [
        "print(landsat9.filter(ee.Filter.eq('WRS_PATH',227.0)).aggregate_histogram('WRS_ROW').getInfo())\n",
        "print(landsat9.filter(ee.Filter.eq('WRS_PATH',228.0)).aggregate_histogram('WRS_ROW').getInfo())"
      ]
    },
    {
      "cell_type": "markdown",
      "metadata": {
        "id": "Us4kaIOcPsNw"
      },
      "source": [
        "# Transform into remote sensing reflectance and sunglint correction"
      ]
    },
    {
      "cell_type": "code",
      "execution_count": 13,
      "metadata": {
        "colab": {
          "base_uri": "https://localhost:8080/",
          "height": 0
        },
        "id": "EhdLU4KyPsNw",
        "outputId": "b2c9567e-a341-45c9-a2b3-b91d3fec8844"
      },
      "outputs": [
        {
          "output_type": "display_data",
          "data": {
            "text/plain": [
              "<IPython.core.display.HTML object>"
            ],
            "text/html": [
              "\n",
              "            <style>\n",
              "                .geemap-dark {\n",
              "                    --jp-widgets-color: white;\n",
              "                    --jp-widgets-label-color: white;\n",
              "                    --jp-ui-font-color1: white;\n",
              "                    --jp-layout-color2: #454545;\n",
              "                    background-color: #383838;\n",
              "                }\n",
              "\n",
              "                .geemap-dark .jupyter-button {\n",
              "                    --jp-layout-color3: #383838;\n",
              "                }\n",
              "\n",
              "                .geemap-colab {\n",
              "                    background-color: var(--colab-primary-surface-color, white);\n",
              "                }\n",
              "\n",
              "                .geemap-colab .jupyter-button {\n",
              "                    --jp-layout-color3: var(--colab-primary-surface-color, white);\n",
              "                }\n",
              "            </style>\n",
              "            "
            ]
          },
          "metadata": {}
        }
      ],
      "source": [
        "def deglint (img):\n",
        "  '''#dividir imagem corrigida por pi\n",
        "  Rrs_sat_ac = Rsat_ac / pi\n",
        "  fazer deglint\n",
        "  Rrs_sat_ac_deglint(VNIR) = Rrs_sat_ac (VNIR) − Rrs_sat_ac (SWIR)\n",
        "  correção no artigo INPE CURUAI'''\n",
        "  Rrs = img.divide(math.pi)\n",
        "  deglint = Rrs.select(['blue_mean','green_mean','red_mean','nir_mean','swir1','swir2'])\\\n",
        "    .subtract(Rrs.select('swir1'))\n",
        "\n",
        "  return (deglint\n",
        "          .copyProperties(img,['system:time_start','CLOUD_COVER',\"system:index\"]))"
      ]
    },
    {
      "cell_type": "markdown",
      "metadata": {
        "id": "iDwx63n8PsNw"
      },
      "source": [
        "## Padronize band names"
      ]
    },
    {
      "cell_type": "code",
      "execution_count": 14,
      "metadata": {
        "colab": {
          "base_uri": "https://localhost:8080/",
          "height": 0
        },
        "id": "GbKfzy3GPsNw",
        "outputId": "0fd70f2a-5349-45eb-fda4-dace6d352c5d"
      },
      "outputs": [
        {
          "output_type": "display_data",
          "data": {
            "text/plain": [
              "<IPython.core.display.HTML object>"
            ],
            "text/html": [
              "\n",
              "            <style>\n",
              "                .geemap-dark {\n",
              "                    --jp-widgets-color: white;\n",
              "                    --jp-widgets-label-color: white;\n",
              "                    --jp-ui-font-color1: white;\n",
              "                    --jp-layout-color2: #454545;\n",
              "                    background-color: #383838;\n",
              "                }\n",
              "\n",
              "                .geemap-dark .jupyter-button {\n",
              "                    --jp-layout-color3: #383838;\n",
              "                }\n",
              "\n",
              "                .geemap-colab {\n",
              "                    background-color: var(--colab-primary-surface-color, white);\n",
              "                }\n",
              "\n",
              "                .geemap-colab .jupyter-button {\n",
              "                    --jp-layout-color3: var(--colab-primary-surface-color, white);\n",
              "                }\n",
              "            </style>\n",
              "            "
            ]
          },
          "metadata": {}
        }
      ],
      "source": [
        "name_bands = ['blue_mean','green_mean','red_mean','nir_mean','swir1','swir2']"
      ]
    },
    {
      "cell_type": "markdown",
      "metadata": {
        "id": "QSpwdyzmPsNx"
      },
      "source": [
        "Landsat 7"
      ]
    },
    {
      "cell_type": "code",
      "execution_count": 15,
      "metadata": {
        "colab": {
          "base_uri": "https://localhost:8080/",
          "height": 0
        },
        "id": "MzYyjmt0PsNx",
        "outputId": "16aaedf7-1589-4554-a800-bacaeb7254e6"
      },
      "outputs": [
        {
          "output_type": "display_data",
          "data": {
            "text/plain": [
              "<IPython.core.display.HTML object>"
            ],
            "text/html": [
              "\n",
              "            <style>\n",
              "                .geemap-dark {\n",
              "                    --jp-widgets-color: white;\n",
              "                    --jp-widgets-label-color: white;\n",
              "                    --jp-ui-font-color1: white;\n",
              "                    --jp-layout-color2: #454545;\n",
              "                    background-color: #383838;\n",
              "                }\n",
              "\n",
              "                .geemap-dark .jupyter-button {\n",
              "                    --jp-layout-color3: #383838;\n",
              "                }\n",
              "\n",
              "                .geemap-colab {\n",
              "                    background-color: var(--colab-primary-surface-color, white);\n",
              "                }\n",
              "\n",
              "                .geemap-colab .jupyter-button {\n",
              "                    --jp-layout-color3: var(--colab-primary-surface-color, white);\n",
              "                }\n",
              "            </style>\n",
              "            "
            ]
          },
          "metadata": {}
        },
        {
          "output_type": "display_data",
          "data": {
            "text/plain": [
              "1366"
            ]
          },
          "metadata": {}
        }
      ],
      "source": [
        "#renomear bandas\n",
        "\n",
        "ld7 = landsat7.map(lambda img: img.rename(name_bands))\n",
        "display(ld7.size().getInfo())"
      ]
    },
    {
      "cell_type": "markdown",
      "metadata": {
        "id": "NQVoWPg0PsNx"
      },
      "source": [
        "Landsat 8"
      ]
    },
    {
      "cell_type": "code",
      "execution_count": 16,
      "metadata": {
        "colab": {
          "base_uri": "https://localhost:8080/",
          "height": 0
        },
        "id": "hmKBtd6DPsNx",
        "outputId": "12c291d9-9d63-45ce-e02b-736152dd831f"
      },
      "outputs": [
        {
          "output_type": "display_data",
          "data": {
            "text/plain": [
              "<IPython.core.display.HTML object>"
            ],
            "text/html": [
              "\n",
              "            <style>\n",
              "                .geemap-dark {\n",
              "                    --jp-widgets-color: white;\n",
              "                    --jp-widgets-label-color: white;\n",
              "                    --jp-ui-font-color1: white;\n",
              "                    --jp-layout-color2: #454545;\n",
              "                    background-color: #383838;\n",
              "                }\n",
              "\n",
              "                .geemap-dark .jupyter-button {\n",
              "                    --jp-layout-color3: #383838;\n",
              "                }\n",
              "\n",
              "                .geemap-colab {\n",
              "                    background-color: var(--colab-primary-surface-color, white);\n",
              "                }\n",
              "\n",
              "                .geemap-colab .jupyter-button {\n",
              "                    --jp-layout-color3: var(--colab-primary-surface-color, white);\n",
              "                }\n",
              "            </style>\n",
              "            "
            ]
          },
          "metadata": {}
        },
        {
          "output_type": "display_data",
          "data": {
            "text/plain": [
              "743"
            ]
          },
          "metadata": {}
        }
      ],
      "source": [
        "ld8 = landsat8.map(lambda img: img.rename(name_bands))\n",
        "display(ld8.size().getInfo())"
      ]
    },
    {
      "cell_type": "markdown",
      "source": [
        "landsat 9"
      ],
      "metadata": {
        "id": "bVGHbSZCTDXS"
      }
    },
    {
      "cell_type": "code",
      "source": [
        "ld9 = landsat9.map(lambda img: img.rename(name_bands))\n",
        "display(ld9.size().getInfo())"
      ],
      "metadata": {
        "colab": {
          "base_uri": "https://localhost:8080/",
          "height": 0
        },
        "id": "5NWHIsv0TEXX",
        "outputId": "5315bcd0-bdb5-486f-f2e7-5e52f8d8c171"
      },
      "execution_count": 17,
      "outputs": [
        {
          "output_type": "display_data",
          "data": {
            "text/plain": [
              "<IPython.core.display.HTML object>"
            ],
            "text/html": [
              "\n",
              "            <style>\n",
              "                .geemap-dark {\n",
              "                    --jp-widgets-color: white;\n",
              "                    --jp-widgets-label-color: white;\n",
              "                    --jp-ui-font-color1: white;\n",
              "                    --jp-layout-color2: #454545;\n",
              "                    background-color: #383838;\n",
              "                }\n",
              "\n",
              "                .geemap-dark .jupyter-button {\n",
              "                    --jp-layout-color3: #383838;\n",
              "                }\n",
              "\n",
              "                .geemap-colab {\n",
              "                    background-color: var(--colab-primary-surface-color, white);\n",
              "                }\n",
              "\n",
              "                .geemap-colab .jupyter-button {\n",
              "                    --jp-layout-color3: var(--colab-primary-surface-color, white);\n",
              "                }\n",
              "            </style>\n",
              "            "
            ]
          },
          "metadata": {}
        },
        {
          "output_type": "display_data",
          "data": {
            "text/plain": [
              "208"
            ]
          },
          "metadata": {}
        }
      ]
    },
    {
      "cell_type": "code",
      "execution_count": 18,
      "metadata": {
        "colab": {
          "base_uri": "https://localhost:8080/",
          "height": 0
        },
        "id": "Q5I0E6QePsNx",
        "outputId": "ffae90c1-ad44-49b5-a511-8821375db806"
      },
      "outputs": [
        {
          "output_type": "display_data",
          "data": {
            "text/plain": [
              "<IPython.core.display.HTML object>"
            ],
            "text/html": [
              "\n",
              "            <style>\n",
              "                .geemap-dark {\n",
              "                    --jp-widgets-color: white;\n",
              "                    --jp-widgets-label-color: white;\n",
              "                    --jp-ui-font-color1: white;\n",
              "                    --jp-layout-color2: #454545;\n",
              "                    background-color: #383838;\n",
              "                }\n",
              "\n",
              "                .geemap-dark .jupyter-button {\n",
              "                    --jp-layout-color3: #383838;\n",
              "                }\n",
              "\n",
              "                .geemap-colab {\n",
              "                    background-color: var(--colab-primary-surface-color, white);\n",
              "                }\n",
              "\n",
              "                .geemap-colab .jupyter-button {\n",
              "                    --jp-layout-color3: var(--colab-primary-surface-color, white);\n",
              "                }\n",
              "            </style>\n",
              "            "
            ]
          },
          "metadata": {}
        },
        {
          "output_type": "execute_result",
          "data": {
            "text/plain": [
              "<ee.imagecollection.ImageCollection at 0x796be1af54d0>"
            ],
            "text/html": [
              "<div><style>:root {\n",
              "  --font-color-primary: var(--jp-content-font-color0, rgba(0, 0, 0, 1));\n",
              "  --font-color-secondary: var(--jp-content-font-color2, rgba(0, 0, 0, 0.7));\n",
              "  --font-color-accent: rgba(123, 31, 162, 1);\n",
              "  --border-color: var(--jp-border-color2, #e0e0e0);\n",
              "  --background-color: var(--jp-layout-color0, white);\n",
              "  --background-color-row-even: var(--jp-layout-color1, white);\n",
              "  --background-color-row-odd: var(--jp-layout-color2, #eeeeee);\n",
              "}\n",
              "\n",
              "html[theme=\"dark\"],\n",
              "body[data-theme=\"dark\"],\n",
              "body.vscode-dark {\n",
              "  --font-color-primary: rgba(255, 255, 255, 1);\n",
              "  --font-color-secondary: rgba(255, 255, 255, 0.7);\n",
              "  --font-color-accent: rgb(173, 132, 190);\n",
              "  --border-color: #2e2e2e;\n",
              "  --background-color: #111111;\n",
              "  --background-color-row-even: #111111;\n",
              "  --background-color-row-odd: #313131;\n",
              "}\n",
              "\n",
              ".eerepr {\n",
              "  padding: 1em;\n",
              "  line-height: 1.5em;\n",
              "  min-width: 300px;\n",
              "  max-width: 1200px;\n",
              "  overflow-y: scroll;\n",
              "  max-height: 600px;\n",
              "  border: 1px solid var(--border-color);\n",
              "  font-family: monospace;\n",
              "  font-size: 14px;\n",
              "}\n",
              "\n",
              ".eerepr li {\n",
              "  list-style-type: none;\n",
              "  margin: 0;\n",
              "}\n",
              "\n",
              ".eerepr ul {\n",
              "  padding-left: 1.5em !important;\n",
              "  margin: 0;\n",
              "}\n",
              "\n",
              ".eerepr > ul {\n",
              "  padding-left: 0 !important;\n",
              "}\n",
              "\n",
              ".eerepr summary {\n",
              "  color: var(--font-color-secondary);\n",
              "  cursor: pointer;\n",
              "  margin: 0;\n",
              "}\n",
              "\n",
              ".eerepr summary:hover {\n",
              "  color: var(--font-color-primary);\n",
              "  background-color: var(--background-color-row-odd)\n",
              "}\n",
              "\n",
              ".ee-k {\n",
              "  color: var(--font-color-accent);\n",
              "  margin-right: 6px;\n",
              "}\n",
              "\n",
              ".ee-v {\n",
              "  color: var(--font-color-primary);\n",
              "}\n",
              "\n",
              ".eerepr details > summary::before {\n",
              "  content: '▼';\n",
              "  display: inline-block;\n",
              "  margin-right: 6px;\n",
              "  transition: transform 0.2s;\n",
              "  transform: rotate(-90deg);\n",
              "}\n",
              "\n",
              ".eerepr details[open] > summary::before {\n",
              "  transform: rotate(0deg);\n",
              "}\n",
              "\n",
              ".eerepr details summary::-webkit-details-marker {\n",
              "  display:none;\n",
              "}\n",
              "\n",
              ".eerepr details summary {\n",
              "  list-style-type: none;\n",
              "}\n",
              "</style><div class='eerepr'><ul><li><details><summary>ImageCollection (5 elements)</summary><ul><li><span class='ee-k'>type:</span><span class='ee-v'>ImageCollection</span></li><li><details><summary>bands: []</summary><ul></ul></details></li><li><details><summary>features: List (5 elements)</summary><ul><li><details><summary>0: Image (6 bands)</summary><ul><li><span class='ee-k'>type:</span><span class='ee-v'>Image</span></li><li><details><summary>bands: List (6 elements)</summary><ul><li><details><summary>0: \"blue_mean\", double, EPSG:32621, 4256x2110 px</summary><ul><li><span class='ee-k'>id:</span><span class='ee-v'>blue_mean</span></li><li><span class='ee-k'>crs:</span><span class='ee-v'>EPSG:32621</span></li><li><details><summary>crs_transform: [30, 0, 598620, 0, -30, -211440]</summary><ul><li><span class='ee-k'>0:</span><span class='ee-v'>30</span></li><li><span class='ee-k'>1:</span><span class='ee-v'>0</span></li><li><span class='ee-k'>2:</span><span class='ee-v'>598620</span></li><li><span class='ee-k'>3:</span><span class='ee-v'>0</span></li><li><span class='ee-k'>4:</span><span class='ee-v'>-30</span></li><li><span class='ee-k'>5:</span><span class='ee-v'>-211440</span></li></ul></details></li><li><details><summary>data_type: double</summary><ul><li><span class='ee-k'>type:</span><span class='ee-v'>PixelType</span></li><li><span class='ee-k'>precision:</span><span class='ee-v'>double</span></li></ul></details></li><li><details><summary>dimensions: [4256, 2110]</summary><ul><li><span class='ee-k'>0:</span><span class='ee-v'>4256</span></li><li><span class='ee-k'>1:</span><span class='ee-v'>2110</span></li></ul></details></li></ul></details></li><li><details><summary>1: \"green_mean\", double, EPSG:32621, 4256x2110 px</summary><ul><li><span class='ee-k'>id:</span><span class='ee-v'>green_mean</span></li><li><span class='ee-k'>crs:</span><span class='ee-v'>EPSG:32621</span></li><li><details><summary>crs_transform: [30, 0, 598620, 0, -30, -211440]</summary><ul><li><span class='ee-k'>0:</span><span class='ee-v'>30</span></li><li><span class='ee-k'>1:</span><span class='ee-v'>0</span></li><li><span class='ee-k'>2:</span><span class='ee-v'>598620</span></li><li><span class='ee-k'>3:</span><span class='ee-v'>0</span></li><li><span class='ee-k'>4:</span><span class='ee-v'>-30</span></li><li><span class='ee-k'>5:</span><span class='ee-v'>-211440</span></li></ul></details></li><li><details><summary>data_type: double</summary><ul><li><span class='ee-k'>type:</span><span class='ee-v'>PixelType</span></li><li><span class='ee-k'>precision:</span><span class='ee-v'>double</span></li></ul></details></li><li><details><summary>dimensions: [4256, 2110]</summary><ul><li><span class='ee-k'>0:</span><span class='ee-v'>4256</span></li><li><span class='ee-k'>1:</span><span class='ee-v'>2110</span></li></ul></details></li></ul></details></li><li><details><summary>2: \"red_mean\", double, EPSG:32621, 4256x2110 px</summary><ul><li><span class='ee-k'>id:</span><span class='ee-v'>red_mean</span></li><li><span class='ee-k'>crs:</span><span class='ee-v'>EPSG:32621</span></li><li><details><summary>crs_transform: [30, 0, 598620, 0, -30, -211440]</summary><ul><li><span class='ee-k'>0:</span><span class='ee-v'>30</span></li><li><span class='ee-k'>1:</span><span class='ee-v'>0</span></li><li><span class='ee-k'>2:</span><span class='ee-v'>598620</span></li><li><span class='ee-k'>3:</span><span class='ee-v'>0</span></li><li><span class='ee-k'>4:</span><span class='ee-v'>-30</span></li><li><span class='ee-k'>5:</span><span class='ee-v'>-211440</span></li></ul></details></li><li><details><summary>data_type: double</summary><ul><li><span class='ee-k'>type:</span><span class='ee-v'>PixelType</span></li><li><span class='ee-k'>precision:</span><span class='ee-v'>double</span></li></ul></details></li><li><details><summary>dimensions: [4256, 2110]</summary><ul><li><span class='ee-k'>0:</span><span class='ee-v'>4256</span></li><li><span class='ee-k'>1:</span><span class='ee-v'>2110</span></li></ul></details></li></ul></details></li><li><details><summary>3: \"nir_mean\", double, EPSG:32621, 4256x2110 px</summary><ul><li><span class='ee-k'>id:</span><span class='ee-v'>nir_mean</span></li><li><span class='ee-k'>crs:</span><span class='ee-v'>EPSG:32621</span></li><li><details><summary>crs_transform: [30, 0, 598620, 0, -30, -211440]</summary><ul><li><span class='ee-k'>0:</span><span class='ee-v'>30</span></li><li><span class='ee-k'>1:</span><span class='ee-v'>0</span></li><li><span class='ee-k'>2:</span><span class='ee-v'>598620</span></li><li><span class='ee-k'>3:</span><span class='ee-v'>0</span></li><li><span class='ee-k'>4:</span><span class='ee-v'>-30</span></li><li><span class='ee-k'>5:</span><span class='ee-v'>-211440</span></li></ul></details></li><li><details><summary>data_type: double</summary><ul><li><span class='ee-k'>type:</span><span class='ee-v'>PixelType</span></li><li><span class='ee-k'>precision:</span><span class='ee-v'>double</span></li></ul></details></li><li><details><summary>dimensions: [4256, 2110]</summary><ul><li><span class='ee-k'>0:</span><span class='ee-v'>4256</span></li><li><span class='ee-k'>1:</span><span class='ee-v'>2110</span></li></ul></details></li></ul></details></li><li><details><summary>4: \"swir1\", double, EPSG:32621, 4256x2110 px</summary><ul><li><span class='ee-k'>id:</span><span class='ee-v'>swir1</span></li><li><span class='ee-k'>crs:</span><span class='ee-v'>EPSG:32621</span></li><li><details><summary>crs_transform: [30, 0, 598620, 0, -30, -211440]</summary><ul><li><span class='ee-k'>0:</span><span class='ee-v'>30</span></li><li><span class='ee-k'>1:</span><span class='ee-v'>0</span></li><li><span class='ee-k'>2:</span><span class='ee-v'>598620</span></li><li><span class='ee-k'>3:</span><span class='ee-v'>0</span></li><li><span class='ee-k'>4:</span><span class='ee-v'>-30</span></li><li><span class='ee-k'>5:</span><span class='ee-v'>-211440</span></li></ul></details></li><li><details><summary>data_type: double</summary><ul><li><span class='ee-k'>type:</span><span class='ee-v'>PixelType</span></li><li><span class='ee-k'>precision:</span><span class='ee-v'>double</span></li></ul></details></li><li><details><summary>dimensions: [4256, 2110]</summary><ul><li><span class='ee-k'>0:</span><span class='ee-v'>4256</span></li><li><span class='ee-k'>1:</span><span class='ee-v'>2110</span></li></ul></details></li></ul></details></li><li><details><summary>5: \"swir2\", double, EPSG:32621, 4256x2110 px</summary><ul><li><span class='ee-k'>id:</span><span class='ee-v'>swir2</span></li><li><span class='ee-k'>crs:</span><span class='ee-v'>EPSG:32621</span></li><li><details><summary>crs_transform: [30, 0, 598620, 0, -30, -211440]</summary><ul><li><span class='ee-k'>0:</span><span class='ee-v'>30</span></li><li><span class='ee-k'>1:</span><span class='ee-v'>0</span></li><li><span class='ee-k'>2:</span><span class='ee-v'>598620</span></li><li><span class='ee-k'>3:</span><span class='ee-v'>0</span></li><li><span class='ee-k'>4:</span><span class='ee-v'>-30</span></li><li><span class='ee-k'>5:</span><span class='ee-v'>-211440</span></li></ul></details></li><li><details><summary>data_type: double</summary><ul><li><span class='ee-k'>type:</span><span class='ee-v'>PixelType</span></li><li><span class='ee-k'>precision:</span><span class='ee-v'>double</span></li></ul></details></li><li><details><summary>dimensions: [4256, 2110]</summary><ul><li><span class='ee-k'>0:</span><span class='ee-v'>4256</span></li><li><span class='ee-k'>1:</span><span class='ee-v'>2110</span></li></ul></details></li></ul></details></li></ul></details></li><li><details><summary>properties: Object (3 properties)</summary><ul><li><span class='ee-k'>CLOUD_COVER:</span><span class='ee-v'>71</span></li><li><span class='ee-k'>system:index:</span><span class='ee-v'>1_2_BOA_LE07_228061_20000124</span></li><li><span class='ee-k'>system:time_start:</span><span class='ee-v'>948721608082</span></li></ul></details></li></ul></details></li><li><details><summary>1: Image (6 bands)</summary><ul><li><span class='ee-k'>type:</span><span class='ee-v'>Image</span></li><li><details><summary>bands: List (6 elements)</summary><ul><li><details><summary>0: \"blue_mean\", double, EPSG:32621, 4256x2110 px</summary><ul><li><span class='ee-k'>id:</span><span class='ee-v'>blue_mean</span></li><li><span class='ee-k'>crs:</span><span class='ee-v'>EPSG:32621</span></li><li><details><summary>crs_transform: [30, 0, 598620, 0, -30, -211440]</summary><ul><li><span class='ee-k'>0:</span><span class='ee-v'>30</span></li><li><span class='ee-k'>1:</span><span class='ee-v'>0</span></li><li><span class='ee-k'>2:</span><span class='ee-v'>598620</span></li><li><span class='ee-k'>3:</span><span class='ee-v'>0</span></li><li><span class='ee-k'>4:</span><span class='ee-v'>-30</span></li><li><span class='ee-k'>5:</span><span class='ee-v'>-211440</span></li></ul></details></li><li><details><summary>data_type: double</summary><ul><li><span class='ee-k'>type:</span><span class='ee-v'>PixelType</span></li><li><span class='ee-k'>precision:</span><span class='ee-v'>double</span></li></ul></details></li><li><details><summary>dimensions: [4256, 2110]</summary><ul><li><span class='ee-k'>0:</span><span class='ee-v'>4256</span></li><li><span class='ee-k'>1:</span><span class='ee-v'>2110</span></li></ul></details></li></ul></details></li><li><details><summary>1: \"green_mean\", double, EPSG:32621, 4256x2110 px</summary><ul><li><span class='ee-k'>id:</span><span class='ee-v'>green_mean</span></li><li><span class='ee-k'>crs:</span><span class='ee-v'>EPSG:32621</span></li><li><details><summary>crs_transform: [30, 0, 598620, 0, -30, -211440]</summary><ul><li><span class='ee-k'>0:</span><span class='ee-v'>30</span></li><li><span class='ee-k'>1:</span><span class='ee-v'>0</span></li><li><span class='ee-k'>2:</span><span class='ee-v'>598620</span></li><li><span class='ee-k'>3:</span><span class='ee-v'>0</span></li><li><span class='ee-k'>4:</span><span class='ee-v'>-30</span></li><li><span class='ee-k'>5:</span><span class='ee-v'>-211440</span></li></ul></details></li><li><details><summary>data_type: double</summary><ul><li><span class='ee-k'>type:</span><span class='ee-v'>PixelType</span></li><li><span class='ee-k'>precision:</span><span class='ee-v'>double</span></li></ul></details></li><li><details><summary>dimensions: [4256, 2110]</summary><ul><li><span class='ee-k'>0:</span><span class='ee-v'>4256</span></li><li><span class='ee-k'>1:</span><span class='ee-v'>2110</span></li></ul></details></li></ul></details></li><li><details><summary>2: \"red_mean\", double, EPSG:32621, 4256x2110 px</summary><ul><li><span class='ee-k'>id:</span><span class='ee-v'>red_mean</span></li><li><span class='ee-k'>crs:</span><span class='ee-v'>EPSG:32621</span></li><li><details><summary>crs_transform: [30, 0, 598620, 0, -30, -211440]</summary><ul><li><span class='ee-k'>0:</span><span class='ee-v'>30</span></li><li><span class='ee-k'>1:</span><span class='ee-v'>0</span></li><li><span class='ee-k'>2:</span><span class='ee-v'>598620</span></li><li><span class='ee-k'>3:</span><span class='ee-v'>0</span></li><li><span class='ee-k'>4:</span><span class='ee-v'>-30</span></li><li><span class='ee-k'>5:</span><span class='ee-v'>-211440</span></li></ul></details></li><li><details><summary>data_type: double</summary><ul><li><span class='ee-k'>type:</span><span class='ee-v'>PixelType</span></li><li><span class='ee-k'>precision:</span><span class='ee-v'>double</span></li></ul></details></li><li><details><summary>dimensions: [4256, 2110]</summary><ul><li><span class='ee-k'>0:</span><span class='ee-v'>4256</span></li><li><span class='ee-k'>1:</span><span class='ee-v'>2110</span></li></ul></details></li></ul></details></li><li><details><summary>3: \"nir_mean\", double, EPSG:32621, 4256x2110 px</summary><ul><li><span class='ee-k'>id:</span><span class='ee-v'>nir_mean</span></li><li><span class='ee-k'>crs:</span><span class='ee-v'>EPSG:32621</span></li><li><details><summary>crs_transform: [30, 0, 598620, 0, -30, -211440]</summary><ul><li><span class='ee-k'>0:</span><span class='ee-v'>30</span></li><li><span class='ee-k'>1:</span><span class='ee-v'>0</span></li><li><span class='ee-k'>2:</span><span class='ee-v'>598620</span></li><li><span class='ee-k'>3:</span><span class='ee-v'>0</span></li><li><span class='ee-k'>4:</span><span class='ee-v'>-30</span></li><li><span class='ee-k'>5:</span><span class='ee-v'>-211440</span></li></ul></details></li><li><details><summary>data_type: double</summary><ul><li><span class='ee-k'>type:</span><span class='ee-v'>PixelType</span></li><li><span class='ee-k'>precision:</span><span class='ee-v'>double</span></li></ul></details></li><li><details><summary>dimensions: [4256, 2110]</summary><ul><li><span class='ee-k'>0:</span><span class='ee-v'>4256</span></li><li><span class='ee-k'>1:</span><span class='ee-v'>2110</span></li></ul></details></li></ul></details></li><li><details><summary>4: \"swir1\", double, EPSG:32621, 4256x2110 px</summary><ul><li><span class='ee-k'>id:</span><span class='ee-v'>swir1</span></li><li><span class='ee-k'>crs:</span><span class='ee-v'>EPSG:32621</span></li><li><details><summary>crs_transform: [30, 0, 598620, 0, -30, -211440]</summary><ul><li><span class='ee-k'>0:</span><span class='ee-v'>30</span></li><li><span class='ee-k'>1:</span><span class='ee-v'>0</span></li><li><span class='ee-k'>2:</span><span class='ee-v'>598620</span></li><li><span class='ee-k'>3:</span><span class='ee-v'>0</span></li><li><span class='ee-k'>4:</span><span class='ee-v'>-30</span></li><li><span class='ee-k'>5:</span><span class='ee-v'>-211440</span></li></ul></details></li><li><details><summary>data_type: double</summary><ul><li><span class='ee-k'>type:</span><span class='ee-v'>PixelType</span></li><li><span class='ee-k'>precision:</span><span class='ee-v'>double</span></li></ul></details></li><li><details><summary>dimensions: [4256, 2110]</summary><ul><li><span class='ee-k'>0:</span><span class='ee-v'>4256</span></li><li><span class='ee-k'>1:</span><span class='ee-v'>2110</span></li></ul></details></li></ul></details></li><li><details><summary>5: \"swir2\", double, EPSG:32621, 4256x2110 px</summary><ul><li><span class='ee-k'>id:</span><span class='ee-v'>swir2</span></li><li><span class='ee-k'>crs:</span><span class='ee-v'>EPSG:32621</span></li><li><details><summary>crs_transform: [30, 0, 598620, 0, -30, -211440]</summary><ul><li><span class='ee-k'>0:</span><span class='ee-v'>30</span></li><li><span class='ee-k'>1:</span><span class='ee-v'>0</span></li><li><span class='ee-k'>2:</span><span class='ee-v'>598620</span></li><li><span class='ee-k'>3:</span><span class='ee-v'>0</span></li><li><span class='ee-k'>4:</span><span class='ee-v'>-30</span></li><li><span class='ee-k'>5:</span><span class='ee-v'>-211440</span></li></ul></details></li><li><details><summary>data_type: double</summary><ul><li><span class='ee-k'>type:</span><span class='ee-v'>PixelType</span></li><li><span class='ee-k'>precision:</span><span class='ee-v'>double</span></li></ul></details></li><li><details><summary>dimensions: [4256, 2110]</summary><ul><li><span class='ee-k'>0:</span><span class='ee-v'>4256</span></li><li><span class='ee-k'>1:</span><span class='ee-v'>2110</span></li></ul></details></li></ul></details></li></ul></details></li><li><details><summary>properties: Object (3 properties)</summary><ul><li><span class='ee-k'>CLOUD_COVER:</span><span class='ee-v'>54</span></li><li><span class='ee-k'>system:index:</span><span class='ee-v'>1_2_BOA_LE07_228062_20000124</span></li><li><span class='ee-k'>system:time_start:</span><span class='ee-v'>948721631943</span></li></ul></details></li></ul></details></li><li><details><summary>2: Image (6 bands)</summary><ul><li><span class='ee-k'>type:</span><span class='ee-v'>Image</span></li><li><details><summary>bands: List (6 elements)</summary><ul><li><details><summary>0: \"blue_mean\", double, EPSG:32621, 4256x2110 px</summary><ul><li><span class='ee-k'>id:</span><span class='ee-v'>blue_mean</span></li><li><span class='ee-k'>crs:</span><span class='ee-v'>EPSG:32621</span></li><li><details><summary>crs_transform: [30, 0, 598620, 0, -30, -211440]</summary><ul><li><span class='ee-k'>0:</span><span class='ee-v'>30</span></li><li><span class='ee-k'>1:</span><span class='ee-v'>0</span></li><li><span class='ee-k'>2:</span><span class='ee-v'>598620</span></li><li><span class='ee-k'>3:</span><span class='ee-v'>0</span></li><li><span class='ee-k'>4:</span><span class='ee-v'>-30</span></li><li><span class='ee-k'>5:</span><span class='ee-v'>-211440</span></li></ul></details></li><li><details><summary>data_type: double</summary><ul><li><span class='ee-k'>type:</span><span class='ee-v'>PixelType</span></li><li><span class='ee-k'>precision:</span><span class='ee-v'>double</span></li></ul></details></li><li><details><summary>dimensions: [4256, 2110]</summary><ul><li><span class='ee-k'>0:</span><span class='ee-v'>4256</span></li><li><span class='ee-k'>1:</span><span class='ee-v'>2110</span></li></ul></details></li></ul></details></li><li><details><summary>1: \"green_mean\", double, EPSG:32621, 4256x2110 px</summary><ul><li><span class='ee-k'>id:</span><span class='ee-v'>green_mean</span></li><li><span class='ee-k'>crs:</span><span class='ee-v'>EPSG:32621</span></li><li><details><summary>crs_transform: [30, 0, 598620, 0, -30, -211440]</summary><ul><li><span class='ee-k'>0:</span><span class='ee-v'>30</span></li><li><span class='ee-k'>1:</span><span class='ee-v'>0</span></li><li><span class='ee-k'>2:</span><span class='ee-v'>598620</span></li><li><span class='ee-k'>3:</span><span class='ee-v'>0</span></li><li><span class='ee-k'>4:</span><span class='ee-v'>-30</span></li><li><span class='ee-k'>5:</span><span class='ee-v'>-211440</span></li></ul></details></li><li><details><summary>data_type: double</summary><ul><li><span class='ee-k'>type:</span><span class='ee-v'>PixelType</span></li><li><span class='ee-k'>precision:</span><span class='ee-v'>double</span></li></ul></details></li><li><details><summary>dimensions: [4256, 2110]</summary><ul><li><span class='ee-k'>0:</span><span class='ee-v'>4256</span></li><li><span class='ee-k'>1:</span><span class='ee-v'>2110</span></li></ul></details></li></ul></details></li><li><details><summary>2: \"red_mean\", double, EPSG:32621, 4256x2110 px</summary><ul><li><span class='ee-k'>id:</span><span class='ee-v'>red_mean</span></li><li><span class='ee-k'>crs:</span><span class='ee-v'>EPSG:32621</span></li><li><details><summary>crs_transform: [30, 0, 598620, 0, -30, -211440]</summary><ul><li><span class='ee-k'>0:</span><span class='ee-v'>30</span></li><li><span class='ee-k'>1:</span><span class='ee-v'>0</span></li><li><span class='ee-k'>2:</span><span class='ee-v'>598620</span></li><li><span class='ee-k'>3:</span><span class='ee-v'>0</span></li><li><span class='ee-k'>4:</span><span class='ee-v'>-30</span></li><li><span class='ee-k'>5:</span><span class='ee-v'>-211440</span></li></ul></details></li><li><details><summary>data_type: double</summary><ul><li><span class='ee-k'>type:</span><span class='ee-v'>PixelType</span></li><li><span class='ee-k'>precision:</span><span class='ee-v'>double</span></li></ul></details></li><li><details><summary>dimensions: [4256, 2110]</summary><ul><li><span class='ee-k'>0:</span><span class='ee-v'>4256</span></li><li><span class='ee-k'>1:</span><span class='ee-v'>2110</span></li></ul></details></li></ul></details></li><li><details><summary>3: \"nir_mean\", double, EPSG:32621, 4256x2110 px</summary><ul><li><span class='ee-k'>id:</span><span class='ee-v'>nir_mean</span></li><li><span class='ee-k'>crs:</span><span class='ee-v'>EPSG:32621</span></li><li><details><summary>crs_transform: [30, 0, 598620, 0, -30, -211440]</summary><ul><li><span class='ee-k'>0:</span><span class='ee-v'>30</span></li><li><span class='ee-k'>1:</span><span class='ee-v'>0</span></li><li><span class='ee-k'>2:</span><span class='ee-v'>598620</span></li><li><span class='ee-k'>3:</span><span class='ee-v'>0</span></li><li><span class='ee-k'>4:</span><span class='ee-v'>-30</span></li><li><span class='ee-k'>5:</span><span class='ee-v'>-211440</span></li></ul></details></li><li><details><summary>data_type: double</summary><ul><li><span class='ee-k'>type:</span><span class='ee-v'>PixelType</span></li><li><span class='ee-k'>precision:</span><span class='ee-v'>double</span></li></ul></details></li><li><details><summary>dimensions: [4256, 2110]</summary><ul><li><span class='ee-k'>0:</span><span class='ee-v'>4256</span></li><li><span class='ee-k'>1:</span><span class='ee-v'>2110</span></li></ul></details></li></ul></details></li><li><details><summary>4: \"swir1\", double, EPSG:32621, 4256x2110 px</summary><ul><li><span class='ee-k'>id:</span><span class='ee-v'>swir1</span></li><li><span class='ee-k'>crs:</span><span class='ee-v'>EPSG:32621</span></li><li><details><summary>crs_transform: [30, 0, 598620, 0, -30, -211440]</summary><ul><li><span class='ee-k'>0:</span><span class='ee-v'>30</span></li><li><span class='ee-k'>1:</span><span class='ee-v'>0</span></li><li><span class='ee-k'>2:</span><span class='ee-v'>598620</span></li><li><span class='ee-k'>3:</span><span class='ee-v'>0</span></li><li><span class='ee-k'>4:</span><span class='ee-v'>-30</span></li><li><span class='ee-k'>5:</span><span class='ee-v'>-211440</span></li></ul></details></li><li><details><summary>data_type: double</summary><ul><li><span class='ee-k'>type:</span><span class='ee-v'>PixelType</span></li><li><span class='ee-k'>precision:</span><span class='ee-v'>double</span></li></ul></details></li><li><details><summary>dimensions: [4256, 2110]</summary><ul><li><span class='ee-k'>0:</span><span class='ee-v'>4256</span></li><li><span class='ee-k'>1:</span><span class='ee-v'>2110</span></li></ul></details></li></ul></details></li><li><details><summary>5: \"swir2\", double, EPSG:32621, 4256x2110 px</summary><ul><li><span class='ee-k'>id:</span><span class='ee-v'>swir2</span></li><li><span class='ee-k'>crs:</span><span class='ee-v'>EPSG:32621</span></li><li><details><summary>crs_transform: [30, 0, 598620, 0, -30, -211440]</summary><ul><li><span class='ee-k'>0:</span><span class='ee-v'>30</span></li><li><span class='ee-k'>1:</span><span class='ee-v'>0</span></li><li><span class='ee-k'>2:</span><span class='ee-v'>598620</span></li><li><span class='ee-k'>3:</span><span class='ee-v'>0</span></li><li><span class='ee-k'>4:</span><span class='ee-v'>-30</span></li><li><span class='ee-k'>5:</span><span class='ee-v'>-211440</span></li></ul></details></li><li><details><summary>data_type: double</summary><ul><li><span class='ee-k'>type:</span><span class='ee-v'>PixelType</span></li><li><span class='ee-k'>precision:</span><span class='ee-v'>double</span></li></ul></details></li><li><details><summary>dimensions: [4256, 2110]</summary><ul><li><span class='ee-k'>0:</span><span class='ee-v'>4256</span></li><li><span class='ee-k'>1:</span><span class='ee-v'>2110</span></li></ul></details></li></ul></details></li></ul></details></li><li><details><summary>properties: Object (3 properties)</summary><ul><li><span class='ee-k'>CLOUD_COVER:</span><span class='ee-v'>67</span></li><li><span class='ee-k'>system:index:</span><span class='ee-v'>1_2_BOA_LE07_228061_20000209</span></li><li><span class='ee-k'>system:time_start:</span><span class='ee-v'>950104003458</span></li></ul></details></li></ul></details></li><li><details><summary>3: Image (6 bands)</summary><ul><li><span class='ee-k'>type:</span><span class='ee-v'>Image</span></li><li><details><summary>bands: List (6 elements)</summary><ul><li><details><summary>0: \"blue_mean\", double, EPSG:32621, 4256x2110 px</summary><ul><li><span class='ee-k'>id:</span><span class='ee-v'>blue_mean</span></li><li><span class='ee-k'>crs:</span><span class='ee-v'>EPSG:32621</span></li><li><details><summary>crs_transform: [30, 0, 598620, 0, -30, -211440]</summary><ul><li><span class='ee-k'>0:</span><span class='ee-v'>30</span></li><li><span class='ee-k'>1:</span><span class='ee-v'>0</span></li><li><span class='ee-k'>2:</span><span class='ee-v'>598620</span></li><li><span class='ee-k'>3:</span><span class='ee-v'>0</span></li><li><span class='ee-k'>4:</span><span class='ee-v'>-30</span></li><li><span class='ee-k'>5:</span><span class='ee-v'>-211440</span></li></ul></details></li><li><details><summary>data_type: double</summary><ul><li><span class='ee-k'>type:</span><span class='ee-v'>PixelType</span></li><li><span class='ee-k'>precision:</span><span class='ee-v'>double</span></li></ul></details></li><li><details><summary>dimensions: [4256, 2110]</summary><ul><li><span class='ee-k'>0:</span><span class='ee-v'>4256</span></li><li><span class='ee-k'>1:</span><span class='ee-v'>2110</span></li></ul></details></li></ul></details></li><li><details><summary>1: \"green_mean\", double, EPSG:32621, 4256x2110 px</summary><ul><li><span class='ee-k'>id:</span><span class='ee-v'>green_mean</span></li><li><span class='ee-k'>crs:</span><span class='ee-v'>EPSG:32621</span></li><li><details><summary>crs_transform: [30, 0, 598620, 0, -30, -211440]</summary><ul><li><span class='ee-k'>0:</span><span class='ee-v'>30</span></li><li><span class='ee-k'>1:</span><span class='ee-v'>0</span></li><li><span class='ee-k'>2:</span><span class='ee-v'>598620</span></li><li><span class='ee-k'>3:</span><span class='ee-v'>0</span></li><li><span class='ee-k'>4:</span><span class='ee-v'>-30</span></li><li><span class='ee-k'>5:</span><span class='ee-v'>-211440</span></li></ul></details></li><li><details><summary>data_type: double</summary><ul><li><span class='ee-k'>type:</span><span class='ee-v'>PixelType</span></li><li><span class='ee-k'>precision:</span><span class='ee-v'>double</span></li></ul></details></li><li><details><summary>dimensions: [4256, 2110]</summary><ul><li><span class='ee-k'>0:</span><span class='ee-v'>4256</span></li><li><span class='ee-k'>1:</span><span class='ee-v'>2110</span></li></ul></details></li></ul></details></li><li><details><summary>2: \"red_mean\", double, EPSG:32621, 4256x2110 px</summary><ul><li><span class='ee-k'>id:</span><span class='ee-v'>red_mean</span></li><li><span class='ee-k'>crs:</span><span class='ee-v'>EPSG:32621</span></li><li><details><summary>crs_transform: [30, 0, 598620, 0, -30, -211440]</summary><ul><li><span class='ee-k'>0:</span><span class='ee-v'>30</span></li><li><span class='ee-k'>1:</span><span class='ee-v'>0</span></li><li><span class='ee-k'>2:</span><span class='ee-v'>598620</span></li><li><span class='ee-k'>3:</span><span class='ee-v'>0</span></li><li><span class='ee-k'>4:</span><span class='ee-v'>-30</span></li><li><span class='ee-k'>5:</span><span class='ee-v'>-211440</span></li></ul></details></li><li><details><summary>data_type: double</summary><ul><li><span class='ee-k'>type:</span><span class='ee-v'>PixelType</span></li><li><span class='ee-k'>precision:</span><span class='ee-v'>double</span></li></ul></details></li><li><details><summary>dimensions: [4256, 2110]</summary><ul><li><span class='ee-k'>0:</span><span class='ee-v'>4256</span></li><li><span class='ee-k'>1:</span><span class='ee-v'>2110</span></li></ul></details></li></ul></details></li><li><details><summary>3: \"nir_mean\", double, EPSG:32621, 4256x2110 px</summary><ul><li><span class='ee-k'>id:</span><span class='ee-v'>nir_mean</span></li><li><span class='ee-k'>crs:</span><span class='ee-v'>EPSG:32621</span></li><li><details><summary>crs_transform: [30, 0, 598620, 0, -30, -211440]</summary><ul><li><span class='ee-k'>0:</span><span class='ee-v'>30</span></li><li><span class='ee-k'>1:</span><span class='ee-v'>0</span></li><li><span class='ee-k'>2:</span><span class='ee-v'>598620</span></li><li><span class='ee-k'>3:</span><span class='ee-v'>0</span></li><li><span class='ee-k'>4:</span><span class='ee-v'>-30</span></li><li><span class='ee-k'>5:</span><span class='ee-v'>-211440</span></li></ul></details></li><li><details><summary>data_type: double</summary><ul><li><span class='ee-k'>type:</span><span class='ee-v'>PixelType</span></li><li><span class='ee-k'>precision:</span><span class='ee-v'>double</span></li></ul></details></li><li><details><summary>dimensions: [4256, 2110]</summary><ul><li><span class='ee-k'>0:</span><span class='ee-v'>4256</span></li><li><span class='ee-k'>1:</span><span class='ee-v'>2110</span></li></ul></details></li></ul></details></li><li><details><summary>4: \"swir1\", double, EPSG:32621, 4256x2110 px</summary><ul><li><span class='ee-k'>id:</span><span class='ee-v'>swir1</span></li><li><span class='ee-k'>crs:</span><span class='ee-v'>EPSG:32621</span></li><li><details><summary>crs_transform: [30, 0, 598620, 0, -30, -211440]</summary><ul><li><span class='ee-k'>0:</span><span class='ee-v'>30</span></li><li><span class='ee-k'>1:</span><span class='ee-v'>0</span></li><li><span class='ee-k'>2:</span><span class='ee-v'>598620</span></li><li><span class='ee-k'>3:</span><span class='ee-v'>0</span></li><li><span class='ee-k'>4:</span><span class='ee-v'>-30</span></li><li><span class='ee-k'>5:</span><span class='ee-v'>-211440</span></li></ul></details></li><li><details><summary>data_type: double</summary><ul><li><span class='ee-k'>type:</span><span class='ee-v'>PixelType</span></li><li><span class='ee-k'>precision:</span><span class='ee-v'>double</span></li></ul></details></li><li><details><summary>dimensions: [4256, 2110]</summary><ul><li><span class='ee-k'>0:</span><span class='ee-v'>4256</span></li><li><span class='ee-k'>1:</span><span class='ee-v'>2110</span></li></ul></details></li></ul></details></li><li><details><summary>5: \"swir2\", double, EPSG:32621, 4256x2110 px</summary><ul><li><span class='ee-k'>id:</span><span class='ee-v'>swir2</span></li><li><span class='ee-k'>crs:</span><span class='ee-v'>EPSG:32621</span></li><li><details><summary>crs_transform: [30, 0, 598620, 0, -30, -211440]</summary><ul><li><span class='ee-k'>0:</span><span class='ee-v'>30</span></li><li><span class='ee-k'>1:</span><span class='ee-v'>0</span></li><li><span class='ee-k'>2:</span><span class='ee-v'>598620</span></li><li><span class='ee-k'>3:</span><span class='ee-v'>0</span></li><li><span class='ee-k'>4:</span><span class='ee-v'>-30</span></li><li><span class='ee-k'>5:</span><span class='ee-v'>-211440</span></li></ul></details></li><li><details><summary>data_type: double</summary><ul><li><span class='ee-k'>type:</span><span class='ee-v'>PixelType</span></li><li><span class='ee-k'>precision:</span><span class='ee-v'>double</span></li></ul></details></li><li><details><summary>dimensions: [4256, 2110]</summary><ul><li><span class='ee-k'>0:</span><span class='ee-v'>4256</span></li><li><span class='ee-k'>1:</span><span class='ee-v'>2110</span></li></ul></details></li></ul></details></li></ul></details></li><li><details><summary>properties: Object (3 properties)</summary><ul><li><span class='ee-k'>CLOUD_COVER:</span><span class='ee-v'>75</span></li><li><span class='ee-k'>system:index:</span><span class='ee-v'>1_2_BOA_LE07_228062_20000209</span></li><li><span class='ee-k'>system:time_start:</span><span class='ee-v'>950104027379</span></li></ul></details></li></ul></details></li><li><details><summary>4: Image (6 bands)</summary><ul><li><span class='ee-k'>type:</span><span class='ee-v'>Image</span></li><li><details><summary>bands: List (6 elements)</summary><ul><li><details><summary>0: \"blue_mean\", double, EPSG:32621, 4256x2110 px</summary><ul><li><span class='ee-k'>id:</span><span class='ee-v'>blue_mean</span></li><li><span class='ee-k'>crs:</span><span class='ee-v'>EPSG:32621</span></li><li><details><summary>crs_transform: [30, 0, 598620, 0, -30, -211440]</summary><ul><li><span class='ee-k'>0:</span><span class='ee-v'>30</span></li><li><span class='ee-k'>1:</span><span class='ee-v'>0</span></li><li><span class='ee-k'>2:</span><span class='ee-v'>598620</span></li><li><span class='ee-k'>3:</span><span class='ee-v'>0</span></li><li><span class='ee-k'>4:</span><span class='ee-v'>-30</span></li><li><span class='ee-k'>5:</span><span class='ee-v'>-211440</span></li></ul></details></li><li><details><summary>data_type: double</summary><ul><li><span class='ee-k'>type:</span><span class='ee-v'>PixelType</span></li><li><span class='ee-k'>precision:</span><span class='ee-v'>double</span></li></ul></details></li><li><details><summary>dimensions: [4256, 2110]</summary><ul><li><span class='ee-k'>0:</span><span class='ee-v'>4256</span></li><li><span class='ee-k'>1:</span><span class='ee-v'>2110</span></li></ul></details></li></ul></details></li><li><details><summary>1: \"green_mean\", double, EPSG:32621, 4256x2110 px</summary><ul><li><span class='ee-k'>id:</span><span class='ee-v'>green_mean</span></li><li><span class='ee-k'>crs:</span><span class='ee-v'>EPSG:32621</span></li><li><details><summary>crs_transform: [30, 0, 598620, 0, -30, -211440]</summary><ul><li><span class='ee-k'>0:</span><span class='ee-v'>30</span></li><li><span class='ee-k'>1:</span><span class='ee-v'>0</span></li><li><span class='ee-k'>2:</span><span class='ee-v'>598620</span></li><li><span class='ee-k'>3:</span><span class='ee-v'>0</span></li><li><span class='ee-k'>4:</span><span class='ee-v'>-30</span></li><li><span class='ee-k'>5:</span><span class='ee-v'>-211440</span></li></ul></details></li><li><details><summary>data_type: double</summary><ul><li><span class='ee-k'>type:</span><span class='ee-v'>PixelType</span></li><li><span class='ee-k'>precision:</span><span class='ee-v'>double</span></li></ul></details></li><li><details><summary>dimensions: [4256, 2110]</summary><ul><li><span class='ee-k'>0:</span><span class='ee-v'>4256</span></li><li><span class='ee-k'>1:</span><span class='ee-v'>2110</span></li></ul></details></li></ul></details></li><li><details><summary>2: \"red_mean\", double, EPSG:32621, 4256x2110 px</summary><ul><li><span class='ee-k'>id:</span><span class='ee-v'>red_mean</span></li><li><span class='ee-k'>crs:</span><span class='ee-v'>EPSG:32621</span></li><li><details><summary>crs_transform: [30, 0, 598620, 0, -30, -211440]</summary><ul><li><span class='ee-k'>0:</span><span class='ee-v'>30</span></li><li><span class='ee-k'>1:</span><span class='ee-v'>0</span></li><li><span class='ee-k'>2:</span><span class='ee-v'>598620</span></li><li><span class='ee-k'>3:</span><span class='ee-v'>0</span></li><li><span class='ee-k'>4:</span><span class='ee-v'>-30</span></li><li><span class='ee-k'>5:</span><span class='ee-v'>-211440</span></li></ul></details></li><li><details><summary>data_type: double</summary><ul><li><span class='ee-k'>type:</span><span class='ee-v'>PixelType</span></li><li><span class='ee-k'>precision:</span><span class='ee-v'>double</span></li></ul></details></li><li><details><summary>dimensions: [4256, 2110]</summary><ul><li><span class='ee-k'>0:</span><span class='ee-v'>4256</span></li><li><span class='ee-k'>1:</span><span class='ee-v'>2110</span></li></ul></details></li></ul></details></li><li><details><summary>3: \"nir_mean\", double, EPSG:32621, 4256x2110 px</summary><ul><li><span class='ee-k'>id:</span><span class='ee-v'>nir_mean</span></li><li><span class='ee-k'>crs:</span><span class='ee-v'>EPSG:32621</span></li><li><details><summary>crs_transform: [30, 0, 598620, 0, -30, -211440]</summary><ul><li><span class='ee-k'>0:</span><span class='ee-v'>30</span></li><li><span class='ee-k'>1:</span><span class='ee-v'>0</span></li><li><span class='ee-k'>2:</span><span class='ee-v'>598620</span></li><li><span class='ee-k'>3:</span><span class='ee-v'>0</span></li><li><span class='ee-k'>4:</span><span class='ee-v'>-30</span></li><li><span class='ee-k'>5:</span><span class='ee-v'>-211440</span></li></ul></details></li><li><details><summary>data_type: double</summary><ul><li><span class='ee-k'>type:</span><span class='ee-v'>PixelType</span></li><li><span class='ee-k'>precision:</span><span class='ee-v'>double</span></li></ul></details></li><li><details><summary>dimensions: [4256, 2110]</summary><ul><li><span class='ee-k'>0:</span><span class='ee-v'>4256</span></li><li><span class='ee-k'>1:</span><span class='ee-v'>2110</span></li></ul></details></li></ul></details></li><li><details><summary>4: \"swir1\", double, EPSG:32621, 4256x2110 px</summary><ul><li><span class='ee-k'>id:</span><span class='ee-v'>swir1</span></li><li><span class='ee-k'>crs:</span><span class='ee-v'>EPSG:32621</span></li><li><details><summary>crs_transform: [30, 0, 598620, 0, -30, -211440]</summary><ul><li><span class='ee-k'>0:</span><span class='ee-v'>30</span></li><li><span class='ee-k'>1:</span><span class='ee-v'>0</span></li><li><span class='ee-k'>2:</span><span class='ee-v'>598620</span></li><li><span class='ee-k'>3:</span><span class='ee-v'>0</span></li><li><span class='ee-k'>4:</span><span class='ee-v'>-30</span></li><li><span class='ee-k'>5:</span><span class='ee-v'>-211440</span></li></ul></details></li><li><details><summary>data_type: double</summary><ul><li><span class='ee-k'>type:</span><span class='ee-v'>PixelType</span></li><li><span class='ee-k'>precision:</span><span class='ee-v'>double</span></li></ul></details></li><li><details><summary>dimensions: [4256, 2110]</summary><ul><li><span class='ee-k'>0:</span><span class='ee-v'>4256</span></li><li><span class='ee-k'>1:</span><span class='ee-v'>2110</span></li></ul></details></li></ul></details></li><li><details><summary>5: \"swir2\", double, EPSG:32621, 4256x2110 px</summary><ul><li><span class='ee-k'>id:</span><span class='ee-v'>swir2</span></li><li><span class='ee-k'>crs:</span><span class='ee-v'>EPSG:32621</span></li><li><details><summary>crs_transform: [30, 0, 598620, 0, -30, -211440]</summary><ul><li><span class='ee-k'>0:</span><span class='ee-v'>30</span></li><li><span class='ee-k'>1:</span><span class='ee-v'>0</span></li><li><span class='ee-k'>2:</span><span class='ee-v'>598620</span></li><li><span class='ee-k'>3:</span><span class='ee-v'>0</span></li><li><span class='ee-k'>4:</span><span class='ee-v'>-30</span></li><li><span class='ee-k'>5:</span><span class='ee-v'>-211440</span></li></ul></details></li><li><details><summary>data_type: double</summary><ul><li><span class='ee-k'>type:</span><span class='ee-v'>PixelType</span></li><li><span class='ee-k'>precision:</span><span class='ee-v'>double</span></li></ul></details></li><li><details><summary>dimensions: [4256, 2110]</summary><ul><li><span class='ee-k'>0:</span><span class='ee-v'>4256</span></li><li><span class='ee-k'>1:</span><span class='ee-v'>2110</span></li></ul></details></li></ul></details></li></ul></details></li><li><details><summary>properties: Object (3 properties)</summary><ul><li><span class='ee-k'>CLOUD_COVER:</span><span class='ee-v'>74</span></li><li><span class='ee-k'>system:index:</span><span class='ee-v'>1_2_BOA_LE07_227061_20000218</span></li><li><span class='ee-k'>system:time_start:</span><span class='ee-v'>950881229653</span></li></ul></details></li></ul></details></li></ul></details></li></ul></details></li></ul></div></div>"
            ]
          },
          "metadata": {},
          "execution_count": 18
        }
      ],
      "source": [
        "merge_col = ld8.merge(ld7).merge(ld9).sort('system:time_start').map(deglint)\n",
        "merge_col.limit(5)"
      ]
    },
    {
      "cell_type": "code",
      "source": [
        "merge_col.size()"
      ],
      "metadata": {
        "id": "VzD8yWun3qda",
        "outputId": "8586a546-e7eb-4cb3-cfa5-6b2ff341cc77",
        "colab": {
          "base_uri": "https://localhost:8080/",
          "height": 0
        }
      },
      "execution_count": 19,
      "outputs": [
        {
          "output_type": "display_data",
          "data": {
            "text/plain": [
              "<IPython.core.display.HTML object>"
            ],
            "text/html": [
              "\n",
              "            <style>\n",
              "                .geemap-dark {\n",
              "                    --jp-widgets-color: white;\n",
              "                    --jp-widgets-label-color: white;\n",
              "                    --jp-ui-font-color1: white;\n",
              "                    --jp-layout-color2: #454545;\n",
              "                    background-color: #383838;\n",
              "                }\n",
              "\n",
              "                .geemap-dark .jupyter-button {\n",
              "                    --jp-layout-color3: #383838;\n",
              "                }\n",
              "\n",
              "                .geemap-colab {\n",
              "                    background-color: var(--colab-primary-surface-color, white);\n",
              "                }\n",
              "\n",
              "                .geemap-colab .jupyter-button {\n",
              "                    --jp-layout-color3: var(--colab-primary-surface-color, white);\n",
              "                }\n",
              "            </style>\n",
              "            "
            ]
          },
          "metadata": {}
        },
        {
          "output_type": "execute_result",
          "data": {
            "text/plain": [
              "<ee.ee_number.Number at 0x796be1795cd0>"
            ],
            "text/html": [
              "<div><style>:root {\n",
              "  --font-color-primary: var(--jp-content-font-color0, rgba(0, 0, 0, 1));\n",
              "  --font-color-secondary: var(--jp-content-font-color2, rgba(0, 0, 0, 0.7));\n",
              "  --font-color-accent: rgba(123, 31, 162, 1);\n",
              "  --border-color: var(--jp-border-color2, #e0e0e0);\n",
              "  --background-color: var(--jp-layout-color0, white);\n",
              "  --background-color-row-even: var(--jp-layout-color1, white);\n",
              "  --background-color-row-odd: var(--jp-layout-color2, #eeeeee);\n",
              "}\n",
              "\n",
              "html[theme=\"dark\"],\n",
              "body[data-theme=\"dark\"],\n",
              "body.vscode-dark {\n",
              "  --font-color-primary: rgba(255, 255, 255, 1);\n",
              "  --font-color-secondary: rgba(255, 255, 255, 0.7);\n",
              "  --font-color-accent: rgb(173, 132, 190);\n",
              "  --border-color: #2e2e2e;\n",
              "  --background-color: #111111;\n",
              "  --background-color-row-even: #111111;\n",
              "  --background-color-row-odd: #313131;\n",
              "}\n",
              "\n",
              ".eerepr {\n",
              "  padding: 1em;\n",
              "  line-height: 1.5em;\n",
              "  min-width: 300px;\n",
              "  max-width: 1200px;\n",
              "  overflow-y: scroll;\n",
              "  max-height: 600px;\n",
              "  border: 1px solid var(--border-color);\n",
              "  font-family: monospace;\n",
              "  font-size: 14px;\n",
              "}\n",
              "\n",
              ".eerepr li {\n",
              "  list-style-type: none;\n",
              "  margin: 0;\n",
              "}\n",
              "\n",
              ".eerepr ul {\n",
              "  padding-left: 1.5em !important;\n",
              "  margin: 0;\n",
              "}\n",
              "\n",
              ".eerepr > ul {\n",
              "  padding-left: 0 !important;\n",
              "}\n",
              "\n",
              ".eerepr summary {\n",
              "  color: var(--font-color-secondary);\n",
              "  cursor: pointer;\n",
              "  margin: 0;\n",
              "}\n",
              "\n",
              ".eerepr summary:hover {\n",
              "  color: var(--font-color-primary);\n",
              "  background-color: var(--background-color-row-odd)\n",
              "}\n",
              "\n",
              ".ee-k {\n",
              "  color: var(--font-color-accent);\n",
              "  margin-right: 6px;\n",
              "}\n",
              "\n",
              ".ee-v {\n",
              "  color: var(--font-color-primary);\n",
              "}\n",
              "\n",
              ".eerepr details > summary::before {\n",
              "  content: '▼';\n",
              "  display: inline-block;\n",
              "  margin-right: 6px;\n",
              "  transition: transform 0.2s;\n",
              "  transform: rotate(-90deg);\n",
              "}\n",
              "\n",
              ".eerepr details[open] > summary::before {\n",
              "  transform: rotate(0deg);\n",
              "}\n",
              "\n",
              ".eerepr details summary::-webkit-details-marker {\n",
              "  display:none;\n",
              "}\n",
              "\n",
              ".eerepr details summary {\n",
              "  list-style-type: none;\n",
              "}\n",
              "</style><div class='eerepr'><ul><li><span class='ee-v'>2317</span></li></ul></div></div>"
            ]
          },
          "metadata": {},
          "execution_count": 19
        }
      ]
    },
    {
      "cell_type": "markdown",
      "source": [
        "# Importar dados de vazão"
      ],
      "metadata": {
        "id": "2qTZ3sT33uK6"
      }
    },
    {
      "cell_type": "code",
      "source": [
        "\n",
        "dfHw.to_csv('/content/drive/MyDrive/CURUAI_PROCESS/hw_limits.csv')\n",
        "dfLw.to_csv('/content/drive/MyDrive/CURUAI_PROCESS/lw_limits.csv')"
      ],
      "metadata": {
        "id": "N6bXVsj_9Ib3"
      },
      "execution_count": null,
      "outputs": []
    },
    {
      "cell_type": "code",
      "source": [
        "outflow_timeseries = pd.read_csv('/content/drive/MyDrive/CURUAI_PROCESS/vazao_obidos.csv').drop(columns=['Unnamed: 0'])\n",
        "gdf_outflow = gpd.GeoDataFrame(outflow_timeseries, geometry=gpd.points_from_xy(outflow_timeseries.longitude, outflow_timeseries.latitude),crs='EPSG:4326')\n",
        "gdf_outflow\n",
        "\n",
        "outflow_ee = geemap.gdf_to_ee(gdf_outflow).map(lambda feat: feat.set('system:time_start', ee.Date.parse(\"yyyy-MM-dd\",feat.get('Data'))))\n",
        "outflow_ee"
      ],
      "metadata": {
        "id": "OX_AwCrv3wUS",
        "outputId": "331b9510-9fa5-40d5-c901-5c626fd2053b",
        "colab": {
          "base_uri": "https://localhost:8080/",
          "height": 647
        }
      },
      "execution_count": 85,
      "outputs": [
        {
          "output_type": "display_data",
          "data": {
            "text/plain": [
              "<IPython.core.display.HTML object>"
            ],
            "text/html": [
              "\n",
              "            <style>\n",
              "                .geemap-dark {\n",
              "                    --jp-widgets-color: white;\n",
              "                    --jp-widgets-label-color: white;\n",
              "                    --jp-ui-font-color1: white;\n",
              "                    --jp-layout-color2: #454545;\n",
              "                    background-color: #383838;\n",
              "                }\n",
              "\n",
              "                .geemap-dark .jupyter-button {\n",
              "                    --jp-layout-color3: #383838;\n",
              "                }\n",
              "\n",
              "                .geemap-colab {\n",
              "                    background-color: var(--colab-primary-surface-color, white);\n",
              "                }\n",
              "\n",
              "                .geemap-colab .jupyter-button {\n",
              "                    --jp-layout-color3: var(--colab-primary-surface-color, white);\n",
              "                }\n",
              "            </style>\n",
              "            "
            ]
          },
          "metadata": {}
        },
        {
          "output_type": "execute_result",
          "data": {
            "text/plain": [
              "<ee.featurecollection.FeatureCollection at 0x7bebcc400cd0>"
            ],
            "text/html": [
              "<div><style>:root {\n",
              "  --font-color-primary: var(--jp-content-font-color0, rgba(0, 0, 0, 1));\n",
              "  --font-color-secondary: var(--jp-content-font-color2, rgba(0, 0, 0, 0.7));\n",
              "  --font-color-accent: rgba(123, 31, 162, 1);\n",
              "  --border-color: var(--jp-border-color2, #e0e0e0);\n",
              "  --background-color: var(--jp-layout-color0, white);\n",
              "  --background-color-row-even: var(--jp-layout-color1, white);\n",
              "  --background-color-row-odd: var(--jp-layout-color2, #eeeeee);\n",
              "}\n",
              "\n",
              "html[theme=\"dark\"],\n",
              "body[data-theme=\"dark\"],\n",
              "body.vscode-dark {\n",
              "  --font-color-primary: rgba(255, 255, 255, 1);\n",
              "  --font-color-secondary: rgba(255, 255, 255, 0.7);\n",
              "  --font-color-accent: rgb(173, 132, 190);\n",
              "  --border-color: #2e2e2e;\n",
              "  --background-color: #111111;\n",
              "  --background-color-row-even: #111111;\n",
              "  --background-color-row-odd: #313131;\n",
              "}\n",
              "\n",
              ".eerepr {\n",
              "  padding: 1em;\n",
              "  line-height: 1.5em;\n",
              "  min-width: 300px;\n",
              "  max-width: 1200px;\n",
              "  overflow-y: scroll;\n",
              "  max-height: 600px;\n",
              "  border: 1px solid var(--border-color);\n",
              "  font-family: monospace;\n",
              "  font-size: 14px;\n",
              "}\n",
              "\n",
              ".eerepr li {\n",
              "  list-style-type: none;\n",
              "  margin: 0;\n",
              "}\n",
              "\n",
              ".eerepr ul {\n",
              "  padding-left: 1.5em !important;\n",
              "  margin: 0;\n",
              "}\n",
              "\n",
              ".eerepr > ul {\n",
              "  padding-left: 0 !important;\n",
              "}\n",
              "\n",
              ".eerepr summary {\n",
              "  color: var(--font-color-secondary);\n",
              "  cursor: pointer;\n",
              "  margin: 0;\n",
              "}\n",
              "\n",
              ".eerepr summary:hover {\n",
              "  color: var(--font-color-primary);\n",
              "  background-color: var(--background-color-row-odd)\n",
              "}\n",
              "\n",
              ".ee-k {\n",
              "  color: var(--font-color-accent);\n",
              "  margin-right: 6px;\n",
              "}\n",
              "\n",
              ".ee-v {\n",
              "  color: var(--font-color-primary);\n",
              "}\n",
              "\n",
              ".eerepr details > summary::before {\n",
              "  content: '▼';\n",
              "  display: inline-block;\n",
              "  margin-right: 6px;\n",
              "  transition: transform 0.2s;\n",
              "  transform: rotate(-90deg);\n",
              "}\n",
              "\n",
              ".eerepr details[open] > summary::before {\n",
              "  transform: rotate(0deg);\n",
              "}\n",
              "\n",
              ".eerepr details summary::-webkit-details-marker {\n",
              "  display:none;\n",
              "}\n",
              "\n",
              ".eerepr details summary {\n",
              "  list-style-type: none;\n",
              "}\n",
              "</style><div class='eerepr'><ul><li><details><summary>FeatureCollection (293 elements, 13 columns)</summary><ul><li><span class='ee-k'>type:</span><span class='ee-v'>FeatureCollection</span></li><li><details><summary>columns: Object (13 properties)</summary><ul><li><span class='ee-k'>Data:</span><span class='ee-v'>String</span></li><li><span class='ee-k'>EstacaoCodigo:</span><span class='ee-v'>Integer</span></li><li><span class='ee-k'>Maxima:</span><span class='ee-v'>Integer</span></li><li><span class='ee-k'>Media:</span><span class='ee-v'>Integer</span></li><li><span class='ee-k'>Minima:</span><span class='ee-v'>Integer</span></li><li><span class='ee-k'>fall:</span><span class='ee-v'>Object</span></li><li><span class='ee-k'>latitude:</span><span class='ee-v'>Float</span></li><li><span class='ee-k'>longitude:</span><span class='ee-v'>Float</span></li><li><span class='ee-k'>rise:</span><span class='ee-v'>Object</span></li><li><span class='ee-k'>system:index:</span><span class='ee-v'>String</span></li><li><span class='ee-k'>system:time_start:</span><span class='ee-v'>Date</span></li><li><span class='ee-k'>water_period:</span><span class='ee-v'>String</span></li><li><span class='ee-k'>water_period3:</span><span class='ee-v'>String</span></li></ul></details></li><li><details><summary>features: List (293 elements)</summary><ul><li><details><summary>0: Feature (Point, 10 properties)</summary><ul><li><span class='ee-k'>type:</span><span class='ee-v'>Feature</span></li><li><span class='ee-k'>id:</span><span class='ee-v'>0</span></li><li><details><summary>geometry: Point (-55.51, -1.92)</summary><ul><li><span class='ee-k'>type:</span><span class='ee-v'>Point</span></li><li><details><summary>coordinates: [-55.5131, -1.9192]</summary><ul><li><span class='ee-k'>0:</span><span class='ee-v'>-55.5131</span></li><li><span class='ee-k'>1:</span><span class='ee-v'>-1.9192</span></li></ul></details></li></ul></details></li><li><details><summary>properties: Object (10 properties)</summary><ul><li><span class='ee-k'>Data:</span><span class='ee-v'>2024-10-01</span></li><li><span class='ee-k'>EstacaoCodigo:</span><span class='ee-v'>17050001</span></li><li><span class='ee-k'>Maxima:</span><span class='ee-v'>-64</span></li><li><span class='ee-k'>Media:</span><span class='ee-v'>-102</span></li><li><span class='ee-k'>Minima:</span><span class='ee-v'>-128</span></li><li><span class='ee-k'>latitude:</span><span class='ee-v'>-1.9192</span></li><li><span class='ee-k'>longitude:</span><span class='ee-v'>-55.5131</span></li><li><details><summary>system:time_start: Date (2024-10-01 00:00:00)</summary><ul><li><span class='ee-k'>type:</span><span class='ee-v'>Date</span></li><li><span class='ee-k'>value:</span><span class='ee-v'>1727740800000</span></li></ul></details></li><li><span class='ee-k'>water_period:</span><span class='ee-v'>LW</span></li><li><span class='ee-k'>water_period3:</span><span class='ee-v'>LW</span></li></ul></details></li></ul></details></li><li><details><summary>1: Feature (Point, 10 properties)</summary><ul><li><span class='ee-k'>type:</span><span class='ee-v'>Feature</span></li><li><span class='ee-k'>id:</span><span class='ee-v'>1</span></li><li><details><summary>geometry: Point (-55.51, -1.92)</summary><ul><li><span class='ee-k'>type:</span><span class='ee-v'>Point</span></li><li><details><summary>coordinates: [-55.5131, -1.9192]</summary><ul><li><span class='ee-k'>0:</span><span class='ee-v'>-55.5131</span></li><li><span class='ee-k'>1:</span><span class='ee-v'>-1.9192</span></li></ul></details></li></ul></details></li><li><details><summary>properties: Object (10 properties)</summary><ul><li><span class='ee-k'>Data:</span><span class='ee-v'>2024-04-01</span></li><li><span class='ee-k'>EstacaoCodigo:</span><span class='ee-v'>17050001</span></li><li><span class='ee-k'>Maxima:</span><span class='ee-v'>628</span></li><li><span class='ee-k'>Media:</span><span class='ee-v'>570</span></li><li><span class='ee-k'>Minima:</span><span class='ee-v'>510</span></li><li><span class='ee-k'>latitude:</span><span class='ee-v'>-1.9192</span></li><li><span class='ee-k'>longitude:</span><span class='ee-v'>-55.5131</span></li><li><details><summary>system:time_start: Date (2024-04-01 00:00:00)</summary><ul><li><span class='ee-k'>type:</span><span class='ee-v'>Date</span></li><li><span class='ee-k'>value:</span><span class='ee-v'>1711929600000</span></li></ul></details></li><li><span class='ee-k'>water_period:</span><span class='ee-v'>HW</span></li><li><span class='ee-k'>water_period3:</span><span class='ee-v'>HW</span></li></ul></details></li></ul></details></li><li><details><summary>2: Feature (Point, 12 properties)</summary><ul><li><span class='ee-k'>type:</span><span class='ee-v'>Feature</span></li><li><span class='ee-k'>id:</span><span class='ee-v'>2</span></li><li><details><summary>geometry: Point (-55.51, -1.92)</summary><ul><li><span class='ee-k'>type:</span><span class='ee-v'>Point</span></li><li><details><summary>coordinates: [-55.5131, -1.9192]</summary><ul><li><span class='ee-k'>0:</span><span class='ee-v'>-55.5131</span></li><li><span class='ee-k'>1:</span><span class='ee-v'>-1.9192</span></li></ul></details></li></ul></details></li><li><details><summary>properties: Object (12 properties)</summary><ul><li><span class='ee-k'>Data:</span><span class='ee-v'>2024-03-01</span></li><li><span class='ee-k'>EstacaoCodigo:</span><span class='ee-v'>17050001</span></li><li><span class='ee-k'>Maxima:</span><span class='ee-v'>510</span></li><li><span class='ee-k'>Media:</span><span class='ee-v'>467</span></li><li><span class='ee-k'>Minima:</span><span class='ee-v'>414</span></li><li><span class='ee-k'>fall:</span><span class='ee-v'>True</span></li><li><span class='ee-k'>latitude:</span><span class='ee-v'>-1.9192</span></li><li><span class='ee-k'>longitude:</span><span class='ee-v'>-55.5131</span></li><li><span class='ee-k'>rise:</span><span class='ee-v'>False</span></li><li><details><summary>system:time_start: Date (2024-03-01 00:00:00)</summary><ul><li><span class='ee-k'>type:</span><span class='ee-v'>Date</span></li><li><span class='ee-k'>value:</span><span class='ee-v'>1709251200000</span></li></ul></details></li><li><span class='ee-k'>water_period:</span><span class='ee-v'>F</span></li><li><span class='ee-k'>water_period3:</span><span class='ee-v'>T</span></li></ul></details></li></ul></details></li><li><details><summary>3: Feature (Point, 12 properties)</summary><ul><li><span class='ee-k'>type:</span><span class='ee-v'>Feature</span></li><li><span class='ee-k'>id:</span><span class='ee-v'>3</span></li><li><details><summary>geometry: Point (-55.51, -1.92)</summary><ul><li><span class='ee-k'>type:</span><span class='ee-v'>Point</span></li><li><details><summary>coordinates: [-55.5131, -1.9192]</summary><ul><li><span class='ee-k'>0:</span><span class='ee-v'>-55.5131</span></li><li><span class='ee-k'>1:</span><span class='ee-v'>-1.9192</span></li></ul></details></li></ul></details></li><li><details><summary>properties: Object (12 properties)</summary><ul><li><span class='ee-k'>Data:</span><span class='ee-v'>2024-02-01</span></li><li><span class='ee-k'>EstacaoCodigo:</span><span class='ee-v'>17050001</span></li><li><span class='ee-k'>Maxima:</span><span class='ee-v'>412</span></li><li><span class='ee-k'>Media:</span><span class='ee-v'>370</span></li><li><span class='ee-k'>Minima:</span><span class='ee-v'>320</span></li><li><span class='ee-k'>fall:</span><span class='ee-v'>True</span></li><li><span class='ee-k'>latitude:</span><span class='ee-v'>-1.9192</span></li><li><span class='ee-k'>longitude:</span><span class='ee-v'>-55.5131</span></li><li><span class='ee-k'>rise:</span><span class='ee-v'>False</span></li><li><details><summary>system:time_start: Date (2024-02-01 00:00:00)</summary><ul><li><span class='ee-k'>type:</span><span class='ee-v'>Date</span></li><li><span class='ee-k'>value:</span><span class='ee-v'>1706745600000</span></li></ul></details></li><li><span class='ee-k'>water_period:</span><span class='ee-v'>F</span></li><li><span class='ee-k'>water_period3:</span><span class='ee-v'>T</span></li></ul></details></li></ul></details></li><li><details><summary>4: Feature (Point, 10 properties)</summary><ul><li><span class='ee-k'>type:</span><span class='ee-v'>Feature</span></li><li><span class='ee-k'>id:</span><span class='ee-v'>4</span></li><li><details><summary>geometry: Point (-55.51, -1.92)</summary><ul><li><span class='ee-k'>type:</span><span class='ee-v'>Point</span></li><li><details><summary>coordinates: [-55.5131, -1.9192]</summary><ul><li><span class='ee-k'>0:</span><span class='ee-v'>-55.5131</span></li><li><span class='ee-k'>1:</span><span class='ee-v'>-1.9192</span></li></ul></details></li></ul></details></li><li><details><summary>properties: Object (10 properties)</summary><ul><li><span class='ee-k'>Data:</span><span class='ee-v'>2024-01-01</span></li><li><span class='ee-k'>EstacaoCodigo:</span><span class='ee-v'>17050001</span></li><li><span class='ee-k'>Maxima:</span><span class='ee-v'>318</span></li><li><span class='ee-k'>Media:</span><span class='ee-v'>251</span></li><li><span class='ee-k'>Minima:</span><span class='ee-v'>160</span></li><li><span class='ee-k'>latitude:</span><span class='ee-v'>-1.9192</span></li><li><span class='ee-k'>longitude:</span><span class='ee-v'>-55.5131</span></li><li><details><summary>system:time_start: Date (2024-01-01 00:00:00)</summary><ul><li><span class='ee-k'>type:</span><span class='ee-v'>Date</span></li><li><span class='ee-k'>value:</span><span class='ee-v'>1704067200000</span></li></ul></details></li><li><span class='ee-k'>water_period:</span><span class='ee-v'>LW</span></li><li><span class='ee-k'>water_period3:</span><span class='ee-v'>LW</span></li></ul></details></li></ul></details></li><li><details><summary>5: Feature (Point, 10 properties)</summary><ul><li><span class='ee-k'>type:</span><span class='ee-v'>Feature</span></li><li><span class='ee-k'>id:</span><span class='ee-v'>5</span></li><li><details><summary>geometry: Point (-55.51, -1.92)</summary><ul><li><span class='ee-k'>type:</span><span class='ee-v'>Point</span></li><li><details><summary>coordinates: [-55.5131, -1.9192]</summary><ul><li><span class='ee-k'>0:</span><span class='ee-v'>-55.5131</span></li><li><span class='ee-k'>1:</span><span class='ee-v'>-1.9192</span></li></ul></details></li></ul></details></li><li><details><summary>properties: Object (10 properties)</summary><ul><li><span class='ee-k'>Data:</span><span class='ee-v'>2023-12-01</span></li><li><span class='ee-k'>EstacaoCodigo:</span><span class='ee-v'>17050001</span></li><li><span class='ee-k'>Maxima:</span><span class='ee-v'>156</span></li><li><span class='ee-k'>Media:</span><span class='ee-v'>47</span></li><li><span class='ee-k'>Minima:</span><span class='ee-v'>-30</span></li><li><span class='ee-k'>latitude:</span><span class='ee-v'>-1.9192</span></li><li><span class='ee-k'>longitude:</span><span class='ee-v'>-55.5131</span></li><li><details><summary>system:time_start: Date (2023-12-01 00:00:00)</summary><ul><li><span class='ee-k'>type:</span><span class='ee-v'>Date</span></li><li><span class='ee-k'>value:</span><span class='ee-v'>1701388800000</span></li></ul></details></li><li><span class='ee-k'>water_period:</span><span class='ee-v'>LW</span></li><li><span class='ee-k'>water_period3:</span><span class='ee-v'>LW</span></li></ul></details></li></ul></details></li><li><details><summary>6: Feature (Point, 10 properties)</summary><ul><li><span class='ee-k'>type:</span><span class='ee-v'>Feature</span></li><li><span class='ee-k'>id:</span><span class='ee-v'>6</span></li><li><details><summary>geometry: Point (-55.51, -1.92)</summary><ul><li><span class='ee-k'>type:</span><span class='ee-v'>Point</span></li><li><details><summary>coordinates: [-55.5131, -1.9192]</summary><ul><li><span class='ee-k'>0:</span><span class='ee-v'>-55.5131</span></li><li><span class='ee-k'>1:</span><span class='ee-v'>-1.9192</span></li></ul></details></li></ul></details></li><li><details><summary>properties: Object (10 properties)</summary><ul><li><span class='ee-k'>Data:</span><span class='ee-v'>2023-11-01</span></li><li><span class='ee-k'>EstacaoCodigo:</span><span class='ee-v'>17050001</span></li><li><span class='ee-k'>Maxima:</span><span class='ee-v'>-18</span></li><li><span class='ee-k'>Media:</span><span class='ee-v'>-67</span></li><li><span class='ee-k'>Minima:</span><span class='ee-v'>-90</span></li><li><span class='ee-k'>latitude:</span><span class='ee-v'>-1.9192</span></li><li><span class='ee-k'>longitude:</span><span class='ee-v'>-55.5131</span></li><li><details><summary>system:time_start: Date (2023-11-01 00:00:00)</summary><ul><li><span class='ee-k'>type:</span><span class='ee-v'>Date</span></li><li><span class='ee-k'>value:</span><span class='ee-v'>1698796800000</span></li></ul></details></li><li><span class='ee-k'>water_period:</span><span class='ee-v'>LW</span></li><li><span class='ee-k'>water_period3:</span><span class='ee-v'>LW</span></li></ul></details></li></ul></details></li><li><details><summary>7: Feature (Point, 10 properties)</summary><ul><li><span class='ee-k'>type:</span><span class='ee-v'>Feature</span></li><li><span class='ee-k'>id:</span><span class='ee-v'>7</span></li><li><details><summary>geometry: Point (-55.51, -1.92)</summary><ul><li><span class='ee-k'>type:</span><span class='ee-v'>Point</span></li><li><details><summary>coordinates: [-55.5131, -1.9192]</summary><ul><li><span class='ee-k'>0:</span><span class='ee-v'>-55.5131</span></li><li><span class='ee-k'>1:</span><span class='ee-v'>-1.9192</span></li></ul></details></li></ul></details></li><li><details><summary>properties: Object (10 properties)</summary><ul><li><span class='ee-k'>Data:</span><span class='ee-v'>2023-10-01</span></li><li><span class='ee-k'>EstacaoCodigo:</span><span class='ee-v'>17050001</span></li><li><span class='ee-k'>Maxima:</span><span class='ee-v'>94</span></li><li><span class='ee-k'>Media:</span><span class='ee-v'>-27</span></li><li><span class='ee-k'>Minima:</span><span class='ee-v'>-92</span></li><li><span class='ee-k'>latitude:</span><span class='ee-v'>-1.9192</span></li><li><span class='ee-k'>longitude:</span><span class='ee-v'>-55.5131</span></li><li><details><summary>system:time_start: Date (2023-10-01 00:00:00)</summary><ul><li><span class='ee-k'>type:</span><span class='ee-v'>Date</span></li><li><span class='ee-k'>value:</span><span class='ee-v'>1696118400000</span></li></ul></details></li><li><span class='ee-k'>water_period:</span><span class='ee-v'>LW</span></li><li><span class='ee-k'>water_period3:</span><span class='ee-v'>LW</span></li></ul></details></li></ul></details></li><li><details><summary>8: Feature (Point, 10 properties)</summary><ul><li><span class='ee-k'>type:</span><span class='ee-v'>Feature</span></li><li><span class='ee-k'>id:</span><span class='ee-v'>8</span></li><li><details><summary>geometry: Point (-55.51, -1.92)</summary><ul><li><span class='ee-k'>type:</span><span class='ee-v'>Point</span></li><li><details><summary>coordinates: [-55.5131, -1.9192]</summary><ul><li><span class='ee-k'>0:</span><span class='ee-v'>-55.5131</span></li><li><span class='ee-k'>1:</span><span class='ee-v'>-1.9192</span></li></ul></details></li></ul></details></li><li><details><summary>properties: Object (10 properties)</summary><ul><li><span class='ee-k'>Data:</span><span class='ee-v'>2023-09-01</span></li><li><span class='ee-k'>EstacaoCodigo:</span><span class='ee-v'>17050001</span></li><li><span class='ee-k'>Maxima:</span><span class='ee-v'>464</span></li><li><span class='ee-k'>Media:</span><span class='ee-v'>298</span></li><li><span class='ee-k'>Minima:</span><span class='ee-v'>98</span></li><li><span class='ee-k'>latitude:</span><span class='ee-v'>-1.9192</span></li><li><span class='ee-k'>longitude:</span><span class='ee-v'>-55.5131</span></li><li><details><summary>system:time_start: Date (2023-09-01 00:00:00)</summary><ul><li><span class='ee-k'>type:</span><span class='ee-v'>Date</span></li><li><span class='ee-k'>value:</span><span class='ee-v'>1693526400000</span></li></ul></details></li><li><span class='ee-k'>water_period:</span><span class='ee-v'>LW</span></li><li><span class='ee-k'>water_period3:</span><span class='ee-v'>LW</span></li></ul></details></li></ul></details></li><li><details><summary>9: Feature (Point, 10 properties)</summary><ul><li><span class='ee-k'>type:</span><span class='ee-v'>Feature</span></li><li><span class='ee-k'>id:</span><span class='ee-v'>9</span></li><li><details><summary>geometry: Point (-55.51, -1.92)</summary><ul><li><span class='ee-k'>type:</span><span class='ee-v'>Point</span></li><li><details><summary>coordinates: [-55.5131, -1.9192]</summary><ul><li><span class='ee-k'>0:</span><span class='ee-v'>-55.5131</span></li><li><span class='ee-k'>1:</span><span class='ee-v'>-1.9192</span></li></ul></details></li></ul></details></li><li><details><summary>properties: Object (10 properties)</summary><ul><li><span class='ee-k'>Data:</span><span class='ee-v'>2023-08-01</span></li><li><span class='ee-k'>EstacaoCodigo:</span><span class='ee-v'>17050001</span></li><li><span class='ee-k'>Maxima:</span><span class='ee-v'>624</span></li><li><span class='ee-k'>Media:</span><span class='ee-v'>557</span></li><li><span class='ee-k'>Minima:</span><span class='ee-v'>466</span></li><li><span class='ee-k'>latitude:</span><span class='ee-v'>-1.9192</span></li><li><span class='ee-k'>longitude:</span><span class='ee-v'>-55.5131</span></li><li><details><summary>system:time_start: Date (2023-08-01 00:00:00)</summary><ul><li><span class='ee-k'>type:</span><span class='ee-v'>Date</span></li><li><span class='ee-k'>value:</span><span class='ee-v'>1690848000000</span></li></ul></details></li><li><span class='ee-k'>water_period:</span><span class='ee-v'>HW</span></li><li><span class='ee-k'>water_period3:</span><span class='ee-v'>HW</span></li></ul></details></li></ul></details></li><li><details><summary>10: Feature (Point, 10 properties)</summary><ul><li><span class='ee-k'>type:</span><span class='ee-v'>Feature</span></li><li><span class='ee-k'>id:</span><span class='ee-v'>10</span></li><li><details><summary>geometry: Point (-55.51, -1.92)</summary><ul><li><span class='ee-k'>type:</span><span class='ee-v'>Point</span></li><li><details><summary>coordinates: [-55.5131, -1.9192]</summary><ul><li><span class='ee-k'>0:</span><span class='ee-v'>-55.5131</span></li><li><span class='ee-k'>1:</span><span class='ee-v'>-1.9192</span></li></ul></details></li></ul></details></li><li><details><summary>properties: Object (10 properties)</summary><ul><li><span class='ee-k'>Data:</span><span class='ee-v'>2023-07-01</span></li><li><span class='ee-k'>EstacaoCodigo:</span><span class='ee-v'>17050001</span></li><li><span class='ee-k'>Maxima:</span><span class='ee-v'>712</span></li><li><span class='ee-k'>Media:</span><span class='ee-v'>678</span></li><li><span class='ee-k'>Minima:</span><span class='ee-v'>624</span></li><li><span class='ee-k'>latitude:</span><span class='ee-v'>-1.9192</span></li><li><span class='ee-k'>longitude:</span><span class='ee-v'>-55.5131</span></li><li><details><summary>system:time_start: Date (2023-07-01 00:00:00)</summary><ul><li><span class='ee-k'>type:</span><span class='ee-v'>Date</span></li><li><span class='ee-k'>value:</span><span class='ee-v'>1688169600000</span></li></ul></details></li><li><span class='ee-k'>water_period:</span><span class='ee-v'>HW</span></li><li><span class='ee-k'>water_period3:</span><span class='ee-v'>HW</span></li></ul></details></li></ul></details></li><li><details><summary>11: Feature (Point, 10 properties)</summary><ul><li><span class='ee-k'>type:</span><span class='ee-v'>Feature</span></li><li><span class='ee-k'>id:</span><span class='ee-v'>11</span></li><li><details><summary>geometry: Point (-55.51, -1.92)</summary><ul><li><span class='ee-k'>type:</span><span class='ee-v'>Point</span></li><li><details><summary>coordinates: [-55.5131, -1.9192]</summary><ul><li><span class='ee-k'>0:</span><span class='ee-v'>-55.5131</span></li><li><span class='ee-k'>1:</span><span class='ee-v'>-1.9192</span></li></ul></details></li></ul></details></li><li><details><summary>properties: Object (10 properties)</summary><ul><li><span class='ee-k'>Data:</span><span class='ee-v'>2023-06-01</span></li><li><span class='ee-k'>EstacaoCodigo:</span><span class='ee-v'>17050001</span></li><li><span class='ee-k'>Maxima:</span><span class='ee-v'>750</span></li><li><span class='ee-k'>Media:</span><span class='ee-v'>738</span></li><li><span class='ee-k'>Minima:</span><span class='ee-v'>714</span></li><li><span class='ee-k'>latitude:</span><span class='ee-v'>-1.9192</span></li><li><span class='ee-k'>longitude:</span><span class='ee-v'>-55.5131</span></li><li><details><summary>system:time_start: Date (2023-06-01 00:00:00)</summary><ul><li><span class='ee-k'>type:</span><span class='ee-v'>Date</span></li><li><span class='ee-k'>value:</span><span class='ee-v'>1685577600000</span></li></ul></details></li><li><span class='ee-k'>water_period:</span><span class='ee-v'>HW</span></li><li><span class='ee-k'>water_period3:</span><span class='ee-v'>HW</span></li></ul></details></li></ul></details></li><li><details><summary>12: Feature (Point, 10 properties)</summary><ul><li><span class='ee-k'>type:</span><span class='ee-v'>Feature</span></li><li><span class='ee-k'>id:</span><span class='ee-v'>12</span></li><li><details><summary>geometry: Point (-55.51, -1.92)</summary><ul><li><span class='ee-k'>type:</span><span class='ee-v'>Point</span></li><li><details><summary>coordinates: [-55.5131, -1.9192]</summary><ul><li><span class='ee-k'>0:</span><span class='ee-v'>-55.5131</span></li><li><span class='ee-k'>1:</span><span class='ee-v'>-1.9192</span></li></ul></details></li></ul></details></li><li><details><summary>properties: Object (10 properties)</summary><ul><li><span class='ee-k'>Data:</span><span class='ee-v'>2023-05-01</span></li><li><span class='ee-k'>EstacaoCodigo:</span><span class='ee-v'>17050001</span></li><li><span class='ee-k'>Maxima:</span><span class='ee-v'>764</span></li><li><span class='ee-k'>Media:</span><span class='ee-v'>756</span></li><li><span class='ee-k'>Minima:</span><span class='ee-v'>742</span></li><li><span class='ee-k'>latitude:</span><span class='ee-v'>-1.9192</span></li><li><span class='ee-k'>longitude:</span><span class='ee-v'>-55.5131</span></li><li><details><summary>system:time_start: Date (2023-05-01 00:00:00)</summary><ul><li><span class='ee-k'>type:</span><span class='ee-v'>Date</span></li><li><span class='ee-k'>value:</span><span class='ee-v'>1682899200000</span></li></ul></details></li><li><span class='ee-k'>water_period:</span><span class='ee-v'>HW</span></li><li><span class='ee-k'>water_period3:</span><span class='ee-v'>HW</span></li></ul></details></li></ul></details></li><li><details><summary>13: Feature (Point, 10 properties)</summary><ul><li><span class='ee-k'>type:</span><span class='ee-v'>Feature</span></li><li><span class='ee-k'>id:</span><span class='ee-v'>13</span></li><li><details><summary>geometry: Point (-55.51, -1.92)</summary><ul><li><span class='ee-k'>type:</span><span class='ee-v'>Point</span></li><li><details><summary>coordinates: [-55.5131, -1.9192]</summary><ul><li><span class='ee-k'>0:</span><span class='ee-v'>-55.5131</span></li><li><span class='ee-k'>1:</span><span class='ee-v'>-1.9192</span></li></ul></details></li></ul></details></li><li><details><summary>properties: Object (10 properties)</summary><ul><li><span class='ee-k'>Data:</span><span class='ee-v'>2023-04-01</span></li><li><span class='ee-k'>EstacaoCodigo:</span><span class='ee-v'>17050001</span></li><li><span class='ee-k'>Maxima:</span><span class='ee-v'>740</span></li><li><span class='ee-k'>Media:</span><span class='ee-v'>716</span></li><li><span class='ee-k'>Minima:</span><span class='ee-v'>680</span></li><li><span class='ee-k'>latitude:</span><span class='ee-v'>-1.9192</span></li><li><span class='ee-k'>longitude:</span><span class='ee-v'>-55.5131</span></li><li><details><summary>system:time_start: Date (2023-04-01 00:00:00)</summary><ul><li><span class='ee-k'>type:</span><span class='ee-v'>Date</span></li><li><span class='ee-k'>value:</span><span class='ee-v'>1680307200000</span></li></ul></details></li><li><span class='ee-k'>water_period:</span><span class='ee-v'>HW</span></li><li><span class='ee-k'>water_period3:</span><span class='ee-v'>HW</span></li></ul></details></li></ul></details></li><li><details><summary>14: Feature (Point, 10 properties)</summary><ul><li><span class='ee-k'>type:</span><span class='ee-v'>Feature</span></li><li><span class='ee-k'>id:</span><span class='ee-v'>14</span></li><li><details><summary>geometry: Point (-55.51, -1.92)</summary><ul><li><span class='ee-k'>type:</span><span class='ee-v'>Point</span></li><li><details><summary>coordinates: [-55.5131, -1.9192]</summary><ul><li><span class='ee-k'>0:</span><span class='ee-v'>-55.5131</span></li><li><span class='ee-k'>1:</span><span class='ee-v'>-1.9192</span></li></ul></details></li></ul></details></li><li><details><summary>properties: Object (10 properties)</summary><ul><li><span class='ee-k'>Data:</span><span class='ee-v'>2023-03-01</span></li><li><span class='ee-k'>EstacaoCodigo:</span><span class='ee-v'>17050001</span></li><li><span class='ee-k'>Maxima:</span><span class='ee-v'>678</span></li><li><span class='ee-k'>Media:</span><span class='ee-v'>625</span></li><li><span class='ee-k'>Minima:</span><span class='ee-v'>564</span></li><li><span class='ee-k'>latitude:</span><span class='ee-v'>-1.9192</span></li><li><span class='ee-k'>longitude:</span><span class='ee-v'>-55.5131</span></li><li><details><summary>system:time_start: Date (2023-03-01 00:00:00)</summary><ul><li><span class='ee-k'>type:</span><span class='ee-v'>Date</span></li><li><span class='ee-k'>value:</span><span class='ee-v'>1677628800000</span></li></ul></details></li><li><span class='ee-k'>water_period:</span><span class='ee-v'>HW</span></li><li><span class='ee-k'>water_period3:</span><span class='ee-v'>HW</span></li></ul></details></li></ul></details></li><li><details><summary>15: Feature (Point, 12 properties)</summary><ul><li><span class='ee-k'>type:</span><span class='ee-v'>Feature</span></li><li><span class='ee-k'>id:</span><span class='ee-v'>15</span></li><li><details><summary>geometry: Point (-55.51, -1.92)</summary><ul><li><span class='ee-k'>type:</span><span class='ee-v'>Point</span></li><li><details><summary>coordinates: [-55.5131, -1.9192]</summary><ul><li><span class='ee-k'>0:</span><span class='ee-v'>-55.5131</span></li><li><span class='ee-k'>1:</span><span class='ee-v'>-1.9192</span></li></ul></details></li></ul></details></li><li><details><summary>properties: Object (12 properties)</summary><ul><li><span class='ee-k'>Data:</span><span class='ee-v'>2023-02-01</span></li><li><span class='ee-k'>EstacaoCodigo:</span><span class='ee-v'>17050001</span></li><li><span class='ee-k'>Maxima:</span><span class='ee-v'>562</span></li><li><span class='ee-k'>Media:</span><span class='ee-v'>471</span></li><li><span class='ee-k'>Minima:</span><span class='ee-v'>384</span></li><li><span class='ee-k'>fall:</span><span class='ee-v'>True</span></li><li><span class='ee-k'>latitude:</span><span class='ee-v'>-1.9192</span></li><li><span class='ee-k'>longitude:</span><span class='ee-v'>-55.5131</span></li><li><span class='ee-k'>rise:</span><span class='ee-v'>False</span></li><li><details><summary>system:time_start: Date (2023-02-01 00:00:00)</summary><ul><li><span class='ee-k'>type:</span><span class='ee-v'>Date</span></li><li><span class='ee-k'>value:</span><span class='ee-v'>1675209600000</span></li></ul></details></li><li><span class='ee-k'>water_period:</span><span class='ee-v'>F</span></li><li><span class='ee-k'>water_period3:</span><span class='ee-v'>T</span></li></ul></details></li></ul></details></li><li><details><summary>16: Feature (Point, 10 properties)</summary><ul><li><span class='ee-k'>type:</span><span class='ee-v'>Feature</span></li><li><span class='ee-k'>id:</span><span class='ee-v'>16</span></li><li><details><summary>geometry: Point (-55.51, -1.92)</summary><ul><li><span class='ee-k'>type:</span><span class='ee-v'>Point</span></li><li><details><summary>coordinates: [-55.5131, -1.9192]</summary><ul><li><span class='ee-k'>0:</span><span class='ee-v'>-55.5131</span></li><li><span class='ee-k'>1:</span><span class='ee-v'>-1.9192</span></li></ul></details></li></ul></details></li><li><details><summary>properties: Object (10 properties)</summary><ul><li><span class='ee-k'>Data:</span><span class='ee-v'>2023-01-01</span></li><li><span class='ee-k'>EstacaoCodigo:</span><span class='ee-v'>17050001</span></li><li><span class='ee-k'>Maxima:</span><span class='ee-v'>384</span></li><li><span class='ee-k'>Media:</span><span class='ee-v'>307</span></li><li><span class='ee-k'>Minima:</span><span class='ee-v'>236</span></li><li><span class='ee-k'>latitude:</span><span class='ee-v'>-1.9192</span></li><li><span class='ee-k'>longitude:</span><span class='ee-v'>-55.5131</span></li><li><details><summary>system:time_start: Date (2023-01-01 00:00:00)</summary><ul><li><span class='ee-k'>type:</span><span class='ee-v'>Date</span></li><li><span class='ee-k'>value:</span><span class='ee-v'>1672531200000</span></li></ul></details></li><li><span class='ee-k'>water_period:</span><span class='ee-v'>LW</span></li><li><span class='ee-k'>water_period3:</span><span class='ee-v'>LW</span></li></ul></details></li></ul></details></li><li><details><summary>17: Feature (Point, 10 properties)</summary><ul><li><span class='ee-k'>type:</span><span class='ee-v'>Feature</span></li><li><span class='ee-k'>id:</span><span class='ee-v'>17</span></li><li><details><summary>geometry: Point (-55.51, -1.92)</summary><ul><li><span class='ee-k'>type:</span><span class='ee-v'>Point</span></li><li><details><summary>coordinates: [-55.5131, -1.9192]</summary><ul><li><span class='ee-k'>0:</span><span class='ee-v'>-55.5131</span></li><li><span class='ee-k'>1:</span><span class='ee-v'>-1.9192</span></li></ul></details></li></ul></details></li><li><details><summary>properties: Object (10 properties)</summary><ul><li><span class='ee-k'>Data:</span><span class='ee-v'>2022-12-01</span></li><li><span class='ee-k'>EstacaoCodigo:</span><span class='ee-v'>17050001</span></li><li><span class='ee-k'>Maxima:</span><span class='ee-v'>234</span></li><li><span class='ee-k'>Media:</span><span class='ee-v'>196</span></li><li><span class='ee-k'>Minima:</span><span class='ee-v'>158</span></li><li><span class='ee-k'>latitude:</span><span class='ee-v'>-1.9192</span></li><li><span class='ee-k'>longitude:</span><span class='ee-v'>-55.5131</span></li><li><details><summary>system:time_start: Date (2022-12-01 00:00:00)</summary><ul><li><span class='ee-k'>type:</span><span class='ee-v'>Date</span></li><li><span class='ee-k'>value:</span><span class='ee-v'>1669852800000</span></li></ul></details></li><li><span class='ee-k'>water_period:</span><span class='ee-v'>LW</span></li><li><span class='ee-k'>water_period3:</span><span class='ee-v'>LW</span></li></ul></details></li></ul></details></li><li><details><summary>18: Feature (Point, 10 properties)</summary><ul><li><span class='ee-k'>type:</span><span class='ee-v'>Feature</span></li><li><span class='ee-k'>id:</span><span class='ee-v'>18</span></li><li><details><summary>geometry: Point (-55.51, -1.92)</summary><ul><li><span class='ee-k'>type:</span><span class='ee-v'>Point</span></li><li><details><summary>coordinates: [-55.5131, -1.9192]</summary><ul><li><span class='ee-k'>0:</span><span class='ee-v'>-55.5131</span></li><li><span class='ee-k'>1:</span><span class='ee-v'>-1.9192</span></li></ul></details></li></ul></details></li><li><details><summary>properties: Object (10 properties)</summary><ul><li><span class='ee-k'>Data:</span><span class='ee-v'>2022-11-01</span></li><li><span class='ee-k'>EstacaoCodigo:</span><span class='ee-v'>17050001</span></li><li><span class='ee-k'>Maxima:</span><span class='ee-v'>168</span></li><li><span class='ee-k'>Media:</span><span class='ee-v'>129</span></li><li><span class='ee-k'>Minima:</span><span class='ee-v'>80</span></li><li><span class='ee-k'>latitude:</span><span class='ee-v'>-1.9192</span></li><li><span class='ee-k'>longitude:</span><span class='ee-v'>-55.5131</span></li><li><details><summary>system:time_start: Date (2022-11-01 00:00:00)</summary><ul><li><span class='ee-k'>type:</span><span class='ee-v'>Date</span></li><li><span class='ee-k'>value:</span><span class='ee-v'>1667260800000</span></li></ul></details></li><li><span class='ee-k'>water_period:</span><span class='ee-v'>LW</span></li><li><span class='ee-k'>water_period3:</span><span class='ee-v'>LW</span></li></ul></details></li></ul></details></li><li><details><summary>19: Feature (Point, 10 properties)</summary><ul><li><span class='ee-k'>type:</span><span class='ee-v'>Feature</span></li><li><span class='ee-k'>id:</span><span class='ee-v'>19</span></li><li><details><summary>geometry: Point (-55.51, -1.92)</summary><ul><li><span class='ee-k'>type:</span><span class='ee-v'>Point</span></li><li><details><summary>coordinates: [-55.5131, -1.9192]</summary><ul><li><span class='ee-k'>0:</span><span class='ee-v'>-55.5131</span></li><li><span class='ee-k'>1:</span><span class='ee-v'>-1.9192</span></li></ul></details></li></ul></details></li><li><details><summary>properties: Object (10 properties)</summary><ul><li><span class='ee-k'>Data:</span><span class='ee-v'>2022-10-01</span></li><li><span class='ee-k'>EstacaoCodigo:</span><span class='ee-v'>17050001</span></li><li><span class='ee-k'>Maxima:</span><span class='ee-v'>378</span></li><li><span class='ee-k'>Media:</span><span class='ee-v'>201</span></li><li><span class='ee-k'>Minima:</span><span class='ee-v'>92</span></li><li><span class='ee-k'>latitude:</span><span class='ee-v'>-1.9192</span></li><li><span class='ee-k'>longitude:</span><span class='ee-v'>-55.5131</span></li><li><details><summary>system:time_start: Date (2022-10-01 00:00:00)</summary><ul><li><span class='ee-k'>type:</span><span class='ee-v'>Date</span></li><li><span class='ee-k'>value:</span><span class='ee-v'>1664582400000</span></li></ul></details></li><li><span class='ee-k'>water_period:</span><span class='ee-v'>LW</span></li><li><span class='ee-k'>water_period3:</span><span class='ee-v'>LW</span></li></ul></details></li></ul></details></li><li><details><summary>20: Feature (Point, 12 properties)</summary><ul><li><span class='ee-k'>type:</span><span class='ee-v'>Feature</span></li><li><span class='ee-k'>id:</span><span class='ee-v'>20</span></li><li><details><summary>geometry: Point (-55.51, -1.92)</summary><ul><li><span class='ee-k'>type:</span><span class='ee-v'>Point</span></li><li><details><summary>coordinates: [-55.5131, -1.9192]</summary><ul><li><span class='ee-k'>0:</span><span class='ee-v'>-55.5131</span></li><li><span class='ee-k'>1:</span><span class='ee-v'>-1.9192</span></li></ul></details></li></ul></details></li><li><details><summary>properties: Object (12 properties)</summary><ul><li><span class='ee-k'>Data:</span><span class='ee-v'>2022-09-01</span></li><li><span class='ee-k'>EstacaoCodigo:</span><span class='ee-v'>17050001</span></li><li><span class='ee-k'>Maxima:</span><span class='ee-v'>610</span></li><li><span class='ee-k'>Media:</span><span class='ee-v'>512</span></li><li><span class='ee-k'>Minima:</span><span class='ee-v'>382</span></li><li><span class='ee-k'>fall:</span><span class='ee-v'>False</span></li><li><span class='ee-k'>latitude:</span><span class='ee-v'>-1.9192</span></li><li><span class='ee-k'>longitude:</span><span class='ee-v'>-55.5131</span></li><li><span class='ee-k'>rise:</span><span class='ee-v'>True</span></li><li><details><summary>system:time_start: Date (2022-09-01 00:00:00)</summary><ul><li><span class='ee-k'>type:</span><span class='ee-v'>Date</span></li><li><span class='ee-k'>value:</span><span class='ee-v'>1661990400000</span></li></ul></details></li><li><span class='ee-k'>water_period:</span><span class='ee-v'>R</span></li><li><span class='ee-k'>water_period3:</span><span class='ee-v'>T</span></li></ul></details></li></ul></details></li><li><details><summary>21: Feature (Point, 10 properties)</summary><ul><li><span class='ee-k'>type:</span><span class='ee-v'>Feature</span></li><li><span class='ee-k'>id:</span><span class='ee-v'>21</span></li><li><details><summary>geometry: Point (-55.51, -1.92)</summary><ul><li><span class='ee-k'>type:</span><span class='ee-v'>Point</span></li><li><details><summary>coordinates: [-55.5131, -1.9192]</summary><ul><li><span class='ee-k'>0:</span><span class='ee-v'>-55.5131</span></li><li><span class='ee-k'>1:</span><span class='ee-v'>-1.9192</span></li></ul></details></li></ul></details></li><li><details><summary>properties: Object (10 properties)</summary><ul><li><span class='ee-k'>Data:</span><span class='ee-v'>2022-08-01</span></li><li><span class='ee-k'>EstacaoCodigo:</span><span class='ee-v'>17050001</span></li><li><span class='ee-k'>Maxima:</span><span class='ee-v'>728</span></li><li><span class='ee-k'>Media:</span><span class='ee-v'>673</span></li><li><span class='ee-k'>Minima:</span><span class='ee-v'>610</span></li><li><span class='ee-k'>latitude:</span><span class='ee-v'>-1.9192</span></li><li><span class='ee-k'>longitude:</span><span class='ee-v'>-55.5131</span></li><li><details><summary>system:time_start: Date (2022-08-01 00:00:00)</summary><ul><li><span class='ee-k'>type:</span><span class='ee-v'>Date</span></li><li><span class='ee-k'>value:</span><span class='ee-v'>1659312000000</span></li></ul></details></li><li><span class='ee-k'>water_period:</span><span class='ee-v'>HW</span></li><li><span class='ee-k'>water_period3:</span><span class='ee-v'>HW</span></li></ul></details></li></ul></details></li><li><details><summary>22: Feature (Point, 10 properties)</summary><ul><li><span class='ee-k'>type:</span><span class='ee-v'>Feature</span></li><li><span class='ee-k'>id:</span><span class='ee-v'>22</span></li><li><details><summary>geometry: Point (-55.51, -1.92)</summary><ul><li><span class='ee-k'>type:</span><span class='ee-v'>Point</span></li><li><details><summary>coordinates: [-55.5131, -1.9192]</summary><ul><li><span class='ee-k'>0:</span><span class='ee-v'>-55.5131</span></li><li><span class='ee-k'>1:</span><span class='ee-v'>-1.9192</span></li></ul></details></li></ul></details></li><li><details><summary>properties: Object (10 properties)</summary><ul><li><span class='ee-k'>Data:</span><span class='ee-v'>2022-07-01</span></li><li><span class='ee-k'>EstacaoCodigo:</span><span class='ee-v'>17050001</span></li><li><span class='ee-k'>Maxima:</span><span class='ee-v'>806</span></li><li><span class='ee-k'>Media:</span><span class='ee-v'>774</span></li><li><span class='ee-k'>Minima:</span><span class='ee-v'>728</span></li><li><span class='ee-k'>latitude:</span><span class='ee-v'>-1.9192</span></li><li><span class='ee-k'>longitude:</span><span class='ee-v'>-55.5131</span></li><li><details><summary>system:time_start: Date (2022-07-01 00:00:00)</summary><ul><li><span class='ee-k'>type:</span><span class='ee-v'>Date</span></li><li><span class='ee-k'>value:</span><span class='ee-v'>1656633600000</span></li></ul></details></li><li><span class='ee-k'>water_period:</span><span class='ee-v'>HW</span></li><li><span class='ee-k'>water_period3:</span><span class='ee-v'>HW</span></li></ul></details></li></ul></details></li><li><details><summary>23: Feature (Point, 10 properties)</summary><ul><li><span class='ee-k'>type:</span><span class='ee-v'>Feature</span></li><li><span class='ee-k'>id:</span><span class='ee-v'>23</span></li><li><details><summary>geometry: Point (-55.51, -1.92)</summary><ul><li><span class='ee-k'>type:</span><span class='ee-v'>Point</span></li><li><details><summary>coordinates: [-55.5131, -1.9192]</summary><ul><li><span class='ee-k'>0:</span><span class='ee-v'>-55.5131</span></li><li><span class='ee-k'>1:</span><span class='ee-v'>-1.9192</span></li></ul></details></li></ul></details></li><li><details><summary>properties: Object (10 properties)</summary><ul><li><span class='ee-k'>Data:</span><span class='ee-v'>2022-06-01</span></li><li><span class='ee-k'>EstacaoCodigo:</span><span class='ee-v'>17050001</span></li><li><span class='ee-k'>Maxima:</span><span class='ee-v'>830</span></li><li><span class='ee-k'>Media:</span><span class='ee-v'>824</span></li><li><span class='ee-k'>Minima:</span><span class='ee-v'>808</span></li><li><span class='ee-k'>latitude:</span><span class='ee-v'>-1.9192</span></li><li><span class='ee-k'>longitude:</span><span class='ee-v'>-55.5131</span></li><li><details><summary>system:time_start: Date (2022-06-01 00:00:00)</summary><ul><li><span class='ee-k'>type:</span><span class='ee-v'>Date</span></li><li><span class='ee-k'>value:</span><span class='ee-v'>1654041600000</span></li></ul></details></li><li><span class='ee-k'>water_period:</span><span class='ee-v'>HW</span></li><li><span class='ee-k'>water_period3:</span><span class='ee-v'>HW</span></li></ul></details></li></ul></details></li><li><details><summary>24: Feature (Point, 10 properties)</summary><ul><li><span class='ee-k'>type:</span><span class='ee-v'>Feature</span></li><li><span class='ee-k'>id:</span><span class='ee-v'>24</span></li><li><details><summary>geometry: Point (-55.51, -1.92)</summary><ul><li><span class='ee-k'>type:</span><span class='ee-v'>Point</span></li><li><details><summary>coordinates: [-55.5131, -1.9192]</summary><ul><li><span class='ee-k'>0:</span><span class='ee-v'>-55.5131</span></li><li><span class='ee-k'>1:</span><span class='ee-v'>-1.9192</span></li></ul></details></li></ul></details></li><li><details><summary>properties: Object (10 properties)</summary><ul><li><span class='ee-k'>Data:</span><span class='ee-v'>2022-05-01</span></li><li><span class='ee-k'>EstacaoCodigo:</span><span class='ee-v'>17050001</span></li><li><span class='ee-k'>Maxima:</span><span class='ee-v'>848</span></li><li><span class='ee-k'>Media:</span><span class='ee-v'>837</span></li><li><span class='ee-k'>Minima:</span><span class='ee-v'>828</span></li><li><span class='ee-k'>latitude:</span><span class='ee-v'>-1.9192</span></li><li><span class='ee-k'>longitude:</span><span class='ee-v'>-55.5131</span></li><li><details><summary>system:time_start: Date (2022-05-01 00:00:00)</summary><ul><li><span class='ee-k'>type:</span><span class='ee-v'>Date</span></li><li><span class='ee-k'>value:</span><span class='ee-v'>1651363200000</span></li></ul></details></li><li><span class='ee-k'>water_period:</span><span class='ee-v'>HW</span></li><li><span class='ee-k'>water_period3:</span><span class='ee-v'>HW</span></li></ul></details></li></ul></details></li><li><details><summary>25: Feature (Point, 10 properties)</summary><ul><li><span class='ee-k'>type:</span><span class='ee-v'>Feature</span></li><li><span class='ee-k'>id:</span><span class='ee-v'>25</span></li><li><details><summary>geometry: Point (-55.51, -1.92)</summary><ul><li><span class='ee-k'>type:</span><span class='ee-v'>Point</span></li><li><details><summary>coordinates: [-55.5131, -1.9192]</summary><ul><li><span class='ee-k'>0:</span><span class='ee-v'>-55.5131</span></li><li><span class='ee-k'>1:</span><span class='ee-v'>-1.9192</span></li></ul></details></li></ul></details></li><li><details><summary>properties: Object (10 properties)</summary><ul><li><span class='ee-k'>Data:</span><span class='ee-v'>2022-04-01</span></li><li><span class='ee-k'>EstacaoCodigo:</span><span class='ee-v'>17050001</span></li><li><span class='ee-k'>Maxima:</span><span class='ee-v'>832</span></li><li><span class='ee-k'>Media:</span><span class='ee-v'>805</span></li><li><span class='ee-k'>Minima:</span><span class='ee-v'>756</span></li><li><span class='ee-k'>latitude:</span><span class='ee-v'>-1.9192</span></li><li><span class='ee-k'>longitude:</span><span class='ee-v'>-55.5131</span></li><li><details><summary>system:time_start: Date (2022-04-01 00:00:00)</summary><ul><li><span class='ee-k'>type:</span><span class='ee-v'>Date</span></li><li><span class='ee-k'>value:</span><span class='ee-v'>1648771200000</span></li></ul></details></li><li><span class='ee-k'>water_period:</span><span class='ee-v'>HW</span></li><li><span class='ee-k'>water_period3:</span><span class='ee-v'>HW</span></li></ul></details></li></ul></details></li><li><details><summary>26: Feature (Point, 10 properties)</summary><ul><li><span class='ee-k'>type:</span><span class='ee-v'>Feature</span></li><li><span class='ee-k'>id:</span><span class='ee-v'>26</span></li><li><details><summary>geometry: Point (-55.51, -1.92)</summary><ul><li><span class='ee-k'>type:</span><span class='ee-v'>Point</span></li><li><details><summary>coordinates: [-55.5131, -1.9192]</summary><ul><li><span class='ee-k'>0:</span><span class='ee-v'>-55.5131</span></li><li><span class='ee-k'>1:</span><span class='ee-v'>-1.9192</span></li></ul></details></li></ul></details></li><li><details><summary>properties: Object (10 properties)</summary><ul><li><span class='ee-k'>Data:</span><span class='ee-v'>2022-03-01</span></li><li><span class='ee-k'>EstacaoCodigo:</span><span class='ee-v'>17050001</span></li><li><span class='ee-k'>Maxima:</span><span class='ee-v'>756</span></li><li><span class='ee-k'>Media:</span><span class='ee-v'>677</span></li><li><span class='ee-k'>Minima:</span><span class='ee-v'>620</span></li><li><span class='ee-k'>latitude:</span><span class='ee-v'>-1.9192</span></li><li><span class='ee-k'>longitude:</span><span class='ee-v'>-55.5131</span></li><li><details><summary>system:time_start: Date (2022-03-01 00:00:00)</summary><ul><li><span class='ee-k'>type:</span><span class='ee-v'>Date</span></li><li><span class='ee-k'>value:</span><span class='ee-v'>1646092800000</span></li></ul></details></li><li><span class='ee-k'>water_period:</span><span class='ee-v'>HW</span></li><li><span class='ee-k'>water_period3:</span><span class='ee-v'>HW</span></li></ul></details></li></ul></details></li><li><details><summary>27: Feature (Point, 10 properties)</summary><ul><li><span class='ee-k'>type:</span><span class='ee-v'>Feature</span></li><li><span class='ee-k'>id:</span><span class='ee-v'>27</span></li><li><details><summary>geometry: Point (-55.51, -1.92)</summary><ul><li><span class='ee-k'>type:</span><span class='ee-v'>Point</span></li><li><details><summary>coordinates: [-55.5131, -1.9192]</summary><ul><li><span class='ee-k'>0:</span><span class='ee-v'>-55.5131</span></li><li><span class='ee-k'>1:</span><span class='ee-v'>-1.9192</span></li></ul></details></li></ul></details></li><li><details><summary>properties: Object (10 properties)</summary><ul><li><span class='ee-k'>Data:</span><span class='ee-v'>2022-02-01</span></li><li><span class='ee-k'>EstacaoCodigo:</span><span class='ee-v'>17050001</span></li><li><span class='ee-k'>Maxima:</span><span class='ee-v'>618</span></li><li><span class='ee-k'>Media:</span><span class='ee-v'>586</span></li><li><span class='ee-k'>Minima:</span><span class='ee-v'>572</span></li><li><span class='ee-k'>latitude:</span><span class='ee-v'>-1.9192</span></li><li><span class='ee-k'>longitude:</span><span class='ee-v'>-55.5131</span></li><li><details><summary>system:time_start: Date (2022-02-01 00:00:00)</summary><ul><li><span class='ee-k'>type:</span><span class='ee-v'>Date</span></li><li><span class='ee-k'>value:</span><span class='ee-v'>1643673600000</span></li></ul></details></li><li><span class='ee-k'>water_period:</span><span class='ee-v'>HW</span></li><li><span class='ee-k'>water_period3:</span><span class='ee-v'>HW</span></li></ul></details></li></ul></details></li><li><details><summary>28: Feature (Point, 12 properties)</summary><ul><li><span class='ee-k'>type:</span><span class='ee-v'>Feature</span></li><li><span class='ee-k'>id:</span><span class='ee-v'>28</span></li><li><details><summary>geometry: Point (-55.51, -1.92)</summary><ul><li><span class='ee-k'>type:</span><span class='ee-v'>Point</span></li><li><details><summary>coordinates: [-55.5131, -1.9192]</summary><ul><li><span class='ee-k'>0:</span><span class='ee-v'>-55.5131</span></li><li><span class='ee-k'>1:</span><span class='ee-v'>-1.9192</span></li></ul></details></li></ul></details></li><li><details><summary>properties: Object (12 properties)</summary><ul><li><span class='ee-k'>Data:</span><span class='ee-v'>2022-01-01</span></li><li><span class='ee-k'>EstacaoCodigo:</span><span class='ee-v'>17050001</span></li><li><span class='ee-k'>Maxima:</span><span class='ee-v'>574</span></li><li><span class='ee-k'>Media:</span><span class='ee-v'>550</span></li><li><span class='ee-k'>Minima:</span><span class='ee-v'>484</span></li><li><span class='ee-k'>fall:</span><span class='ee-v'>True</span></li><li><span class='ee-k'>latitude:</span><span class='ee-v'>-1.9192</span></li><li><span class='ee-k'>longitude:</span><span class='ee-v'>-55.5131</span></li><li><span class='ee-k'>rise:</span><span class='ee-v'>False</span></li><li><details><summary>system:time_start: Date (2022-01-01 00:00:00)</summary><ul><li><span class='ee-k'>type:</span><span class='ee-v'>Date</span></li><li><span class='ee-k'>value:</span><span class='ee-v'>1640995200000</span></li></ul></details></li><li><span class='ee-k'>water_period:</span><span class='ee-v'>F</span></li><li><span class='ee-k'>water_period3:</span><span class='ee-v'>T</span></li></ul></details></li></ul></details></li><li><details><summary>29: Feature (Point, 12 properties)</summary><ul><li><span class='ee-k'>type:</span><span class='ee-v'>Feature</span></li><li><span class='ee-k'>id:</span><span class='ee-v'>29</span></li><li><details><summary>geometry: Point (-55.51, -1.92)</summary><ul><li><span class='ee-k'>type:</span><span class='ee-v'>Point</span></li><li><details><summary>coordinates: [-55.5131, -1.9192]</summary><ul><li><span class='ee-k'>0:</span><span class='ee-v'>-55.5131</span></li><li><span class='ee-k'>1:</span><span class='ee-v'>-1.9192</span></li></ul></details></li></ul></details></li><li><details><summary>properties: Object (12 properties)</summary><ul><li><span class='ee-k'>Data:</span><span class='ee-v'>2021-12-01</span></li><li><span class='ee-k'>EstacaoCodigo:</span><span class='ee-v'>17050001</span></li><li><span class='ee-k'>Maxima:</span><span class='ee-v'>478</span></li><li><span class='ee-k'>Media:</span><span class='ee-v'>392</span></li><li><span class='ee-k'>Minima:</span><span class='ee-v'>300</span></li><li><span class='ee-k'>fall:</span><span class='ee-v'>True</span></li><li><span class='ee-k'>latitude:</span><span class='ee-v'>-1.9192</span></li><li><span class='ee-k'>longitude:</span><span class='ee-v'>-55.5131</span></li><li><span class='ee-k'>rise:</span><span class='ee-v'>False</span></li><li><details><summary>system:time_start: Date (2021-12-01 00:00:00)</summary><ul><li><span class='ee-k'>type:</span><span class='ee-v'>Date</span></li><li><span class='ee-k'>value:</span><span class='ee-v'>1638316800000</span></li></ul></details></li><li><span class='ee-k'>water_period:</span><span class='ee-v'>F</span></li><li><span class='ee-k'>water_period3:</span><span class='ee-v'>T</span></li></ul></details></li></ul></details></li><li><details><summary>30: Feature (Point, 10 properties)</summary><ul><li><span class='ee-k'>type:</span><span class='ee-v'>Feature</span></li><li><span class='ee-k'>id:</span><span class='ee-v'>30</span></li><li><details><summary>geometry: Point (-55.51, -1.92)</summary><ul><li><span class='ee-k'>type:</span><span class='ee-v'>Point</span></li><li><details><summary>coordinates: [-55.5131, -1.9192]</summary><ul><li><span class='ee-k'>0:</span><span class='ee-v'>-55.5131</span></li><li><span class='ee-k'>1:</span><span class='ee-v'>-1.9192</span></li></ul></details></li></ul></details></li><li><details><summary>properties: Object (10 properties)</summary><ul><li><span class='ee-k'>Data:</span><span class='ee-v'>2021-11-01</span></li><li><span class='ee-k'>EstacaoCodigo:</span><span class='ee-v'>17050001</span></li><li><span class='ee-k'>Maxima:</span><span class='ee-v'>298</span></li><li><span class='ee-k'>Media:</span><span class='ee-v'>247</span></li><li><span class='ee-k'>Minima:</span><span class='ee-v'>218</span></li><li><span class='ee-k'>latitude:</span><span class='ee-v'>-1.9192</span></li><li><span class='ee-k'>longitude:</span><span class='ee-v'>-55.5131</span></li><li><details><summary>system:time_start: Date (2021-11-01 00:00:00)</summary><ul><li><span class='ee-k'>type:</span><span class='ee-v'>Date</span></li><li><span class='ee-k'>value:</span><span class='ee-v'>1635724800000</span></li></ul></details></li><li><span class='ee-k'>water_period:</span><span class='ee-v'>LW</span></li><li><span class='ee-k'>water_period3:</span><span class='ee-v'>LW</span></li></ul></details></li></ul></details></li><li><details><summary>31: Feature (Point, 10 properties)</summary><ul><li><span class='ee-k'>type:</span><span class='ee-v'>Feature</span></li><li><span class='ee-k'>id:</span><span class='ee-v'>31</span></li><li><details><summary>geometry: Point (-55.51, -1.92)</summary><ul><li><span class='ee-k'>type:</span><span class='ee-v'>Point</span></li><li><details><summary>coordinates: [-55.5131, -1.9192]</summary><ul><li><span class='ee-k'>0:</span><span class='ee-v'>-55.5131</span></li><li><span class='ee-k'>1:</span><span class='ee-v'>-1.9192</span></li></ul></details></li></ul></details></li><li><details><summary>properties: Object (10 properties)</summary><ul><li><span class='ee-k'>Data:</span><span class='ee-v'>2021-10-01</span></li><li><span class='ee-k'>EstacaoCodigo:</span><span class='ee-v'>17050001</span></li><li><span class='ee-k'>Maxima:</span><span class='ee-v'>424</span></li><li><span class='ee-k'>Media:</span><span class='ee-v'>317</span></li><li><span class='ee-k'>Minima:</span><span class='ee-v'>222</span></li><li><span class='ee-k'>latitude:</span><span class='ee-v'>-1.9192</span></li><li><span class='ee-k'>longitude:</span><span class='ee-v'>-55.5131</span></li><li><details><summary>system:time_start: Date (2021-10-01 00:00:00)</summary><ul><li><span class='ee-k'>type:</span><span class='ee-v'>Date</span></li><li><span class='ee-k'>value:</span><span class='ee-v'>1633046400000</span></li></ul></details></li><li><span class='ee-k'>water_period:</span><span class='ee-v'>LW</span></li><li><span class='ee-k'>water_period3:</span><span class='ee-v'>LW</span></li></ul></details></li></ul></details></li><li><details><summary>32: Feature (Point, 12 properties)</summary><ul><li><span class='ee-k'>type:</span><span class='ee-v'>Feature</span></li><li><span class='ee-k'>id:</span><span class='ee-v'>32</span></li><li><details><summary>geometry: Point (-55.51, -1.92)</summary><ul><li><span class='ee-k'>type:</span><span class='ee-v'>Point</span></li><li><details><summary>coordinates: [-55.5131, -1.9192]</summary><ul><li><span class='ee-k'>0:</span><span class='ee-v'>-55.5131</span></li><li><span class='ee-k'>1:</span><span class='ee-v'>-1.9192</span></li></ul></details></li></ul></details></li><li><details><summary>properties: Object (12 properties)</summary><ul><li><span class='ee-k'>Data:</span><span class='ee-v'>2021-09-01</span></li><li><span class='ee-k'>EstacaoCodigo:</span><span class='ee-v'>17050001</span></li><li><span class='ee-k'>Maxima:</span><span class='ee-v'>635</span></li><li><span class='ee-k'>Media:</span><span class='ee-v'>543</span></li><li><span class='ee-k'>Minima:</span><span class='ee-v'>432</span></li><li><span class='ee-k'>fall:</span><span class='ee-v'>False</span></li><li><span class='ee-k'>latitude:</span><span class='ee-v'>-1.9192</span></li><li><span class='ee-k'>longitude:</span><span class='ee-v'>-55.5131</span></li><li><span class='ee-k'>rise:</span><span class='ee-v'>True</span></li><li><details><summary>system:time_start: Date (2021-09-01 00:00:00)</summary><ul><li><span class='ee-k'>type:</span><span class='ee-v'>Date</span></li><li><span class='ee-k'>value:</span><span class='ee-v'>1630454400000</span></li></ul></details></li><li><span class='ee-k'>water_period:</span><span class='ee-v'>R</span></li><li><span class='ee-k'>water_period3:</span><span class='ee-v'>T</span></li></ul></details></li></ul></details></li><li><details><summary>33: Feature (Point, 10 properties)</summary><ul><li><span class='ee-k'>type:</span><span class='ee-v'>Feature</span></li><li><span class='ee-k'>id:</span><span class='ee-v'>33</span></li><li><details><summary>geometry: Point (-55.51, -1.92)</summary><ul><li><span class='ee-k'>type:</span><span class='ee-v'>Point</span></li><li><details><summary>coordinates: [-55.5131, -1.9192]</summary><ul><li><span class='ee-k'>0:</span><span class='ee-v'>-55.5131</span></li><li><span class='ee-k'>1:</span><span class='ee-v'>-1.9192</span></li></ul></details></li></ul></details></li><li><details><summary>properties: Object (10 properties)</summary><ul><li><span class='ee-k'>Data:</span><span class='ee-v'>2021-08-01</span></li><li><span class='ee-k'>EstacaoCodigo:</span><span class='ee-v'>17050001</span></li><li><span class='ee-k'>Maxima:</span><span class='ee-v'>755</span></li><li><span class='ee-k'>Media:</span><span class='ee-v'>698</span></li><li><span class='ee-k'>Minima:</span><span class='ee-v'>640</span></li><li><span class='ee-k'>latitude:</span><span class='ee-v'>-1.9192</span></li><li><span class='ee-k'>longitude:</span><span class='ee-v'>-55.5131</span></li><li><details><summary>system:time_start: Date (2021-08-01 00:00:00)</summary><ul><li><span class='ee-k'>type:</span><span class='ee-v'>Date</span></li><li><span class='ee-k'>value:</span><span class='ee-v'>1627776000000</span></li></ul></details></li><li><span class='ee-k'>water_period:</span><span class='ee-v'>HW</span></li><li><span class='ee-k'>water_period3:</span><span class='ee-v'>HW</span></li></ul></details></li></ul></details></li><li><details><summary>34: Feature (Point, 10 properties)</summary><ul><li><span class='ee-k'>type:</span><span class='ee-v'>Feature</span></li><li><span class='ee-k'>id:</span><span class='ee-v'>34</span></li><li><details><summary>geometry: Point (-55.51, -1.92)</summary><ul><li><span class='ee-k'>type:</span><span class='ee-v'>Point</span></li><li><details><summary>coordinates: [-55.5131, -1.9192]</summary><ul><li><span class='ee-k'>0:</span><span class='ee-v'>-55.5131</span></li><li><span class='ee-k'>1:</span><span class='ee-v'>-1.9192</span></li></ul></details></li></ul></details></li><li><details><summary>properties: Object (10 properties)</summary><ul><li><span class='ee-k'>Data:</span><span class='ee-v'>2021-07-01</span></li><li><span class='ee-k'>EstacaoCodigo:</span><span class='ee-v'>17050001</span></li><li><span class='ee-k'>Maxima:</span><span class='ee-v'>821</span></li><li><span class='ee-k'>Media:</span><span class='ee-v'>793</span></li><li><span class='ee-k'>Minima:</span><span class='ee-v'>758</span></li><li><span class='ee-k'>latitude:</span><span class='ee-v'>-1.9192</span></li><li><span class='ee-k'>longitude:</span><span class='ee-v'>-55.5131</span></li><li><details><summary>system:time_start: Date (2021-07-01 00:00:00)</summary><ul><li><span class='ee-k'>type:</span><span class='ee-v'>Date</span></li><li><span class='ee-k'>value:</span><span class='ee-v'>1625097600000</span></li></ul></details></li><li><span class='ee-k'>water_period:</span><span class='ee-v'>HW</span></li><li><span class='ee-k'>water_period3:</span><span class='ee-v'>HW</span></li></ul></details></li></ul></details></li><li><details><summary>35: Feature (Point, 10 properties)</summary><ul><li><span class='ee-k'>type:</span><span class='ee-v'>Feature</span></li><li><span class='ee-k'>id:</span><span class='ee-v'>35</span></li><li><details><summary>geometry: Point (-55.51, -1.92)</summary><ul><li><span class='ee-k'>type:</span><span class='ee-v'>Point</span></li><li><details><summary>coordinates: [-55.5131, -1.9192]</summary><ul><li><span class='ee-k'>0:</span><span class='ee-v'>-55.5131</span></li><li><span class='ee-k'>1:</span><span class='ee-v'>-1.9192</span></li></ul></details></li></ul></details></li><li><details><summary>properties: Object (10 properties)</summary><ul><li><span class='ee-k'>Data:</span><span class='ee-v'>2021-06-01</span></li><li><span class='ee-k'>EstacaoCodigo:</span><span class='ee-v'>17050001</span></li><li><span class='ee-k'>Maxima:</span><span class='ee-v'>846</span></li><li><span class='ee-k'>Media:</span><span class='ee-v'>833</span></li><li><span class='ee-k'>Minima:</span><span class='ee-v'>824</span></li><li><span class='ee-k'>latitude:</span><span class='ee-v'>-1.9192</span></li><li><span class='ee-k'>longitude:</span><span class='ee-v'>-55.5131</span></li><li><details><summary>system:time_start: Date (2021-06-01 00:00:00)</summary><ul><li><span class='ee-k'>type:</span><span class='ee-v'>Date</span></li><li><span class='ee-k'>value:</span><span class='ee-v'>1622505600000</span></li></ul></details></li><li><span class='ee-k'>water_period:</span><span class='ee-v'>HW</span></li><li><span class='ee-k'>water_period3:</span><span class='ee-v'>HW</span></li></ul></details></li></ul></details></li><li><details><summary>36: Feature (Point, 10 properties)</summary><ul><li><span class='ee-k'>type:</span><span class='ee-v'>Feature</span></li><li><span class='ee-k'>id:</span><span class='ee-v'>36</span></li><li><details><summary>geometry: Point (-55.51, -1.92)</summary><ul><li><span class='ee-k'>type:</span><span class='ee-v'>Point</span></li><li><details><summary>coordinates: [-55.5131, -1.9192]</summary><ul><li><span class='ee-k'>0:</span><span class='ee-v'>-55.5131</span></li><li><span class='ee-k'>1:</span><span class='ee-v'>-1.9192</span></li></ul></details></li></ul></details></li><li><details><summary>properties: Object (10 properties)</summary><ul><li><span class='ee-k'>Data:</span><span class='ee-v'>2021-05-01</span></li><li><span class='ee-k'>EstacaoCodigo:</span><span class='ee-v'>17050001</span></li><li><span class='ee-k'>Maxima:</span><span class='ee-v'>850</span></li><li><span class='ee-k'>Media:</span><span class='ee-v'>840</span></li><li><span class='ee-k'>Minima:</span><span class='ee-v'>818</span></li><li><span class='ee-k'>latitude:</span><span class='ee-v'>-1.9192</span></li><li><span class='ee-k'>longitude:</span><span class='ee-v'>-55.5131</span></li><li><details><summary>system:time_start: Date (2021-05-01 00:00:00)</summary><ul><li><span class='ee-k'>type:</span><span class='ee-v'>Date</span></li><li><span class='ee-k'>value:</span><span class='ee-v'>1619827200000</span></li></ul></details></li><li><span class='ee-k'>water_period:</span><span class='ee-v'>HW</span></li><li><span class='ee-k'>water_period3:</span><span class='ee-v'>HW</span></li></ul></details></li></ul></details></li><li><details><summary>37: Feature (Point, 10 properties)</summary><ul><li><span class='ee-k'>type:</span><span class='ee-v'>Feature</span></li><li><span class='ee-k'>id:</span><span class='ee-v'>37</span></li><li><details><summary>geometry: Point (-55.51, -1.92)</summary><ul><li><span class='ee-k'>type:</span><span class='ee-v'>Point</span></li><li><details><summary>coordinates: [-55.5131, -1.9192]</summary><ul><li><span class='ee-k'>0:</span><span class='ee-v'>-55.5131</span></li><li><span class='ee-k'>1:</span><span class='ee-v'>-1.9192</span></li></ul></details></li></ul></details></li><li><details><summary>properties: Object (10 properties)</summary><ul><li><span class='ee-k'>Data:</span><span class='ee-v'>2021-04-01</span></li><li><span class='ee-k'>EstacaoCodigo:</span><span class='ee-v'>17050001</span></li><li><span class='ee-k'>Maxima:</span><span class='ee-v'>812</span></li><li><span class='ee-k'>Media:</span><span class='ee-v'>781</span></li><li><span class='ee-k'>Minima:</span><span class='ee-v'>756</span></li><li><span class='ee-k'>latitude:</span><span class='ee-v'>-1.9192</span></li><li><span class='ee-k'>longitude:</span><span class='ee-v'>-55.5131</span></li><li><details><summary>system:time_start: Date (2021-04-01 00:00:00)</summary><ul><li><span class='ee-k'>type:</span><span class='ee-v'>Date</span></li><li><span class='ee-k'>value:</span><span class='ee-v'>1617235200000</span></li></ul></details></li><li><span class='ee-k'>water_period:</span><span class='ee-v'>HW</span></li><li><span class='ee-k'>water_period3:</span><span class='ee-v'>HW</span></li></ul></details></li></ul></details></li><li><details><summary>38: Feature (Point, 10 properties)</summary><ul><li><span class='ee-k'>type:</span><span class='ee-v'>Feature</span></li><li><span class='ee-k'>id:</span><span class='ee-v'>38</span></li><li><details><summary>geometry: Point (-55.51, -1.92)</summary><ul><li><span class='ee-k'>type:</span><span class='ee-v'>Point</span></li><li><details><summary>coordinates: [-55.5131, -1.9192]</summary><ul><li><span class='ee-k'>0:</span><span class='ee-v'>-55.5131</span></li><li><span class='ee-k'>1:</span><span class='ee-v'>-1.9192</span></li></ul></details></li></ul></details></li><li><details><summary>properties: Object (10 properties)</summary><ul><li><span class='ee-k'>Data:</span><span class='ee-v'>2021-03-01</span></li><li><span class='ee-k'>EstacaoCodigo:</span><span class='ee-v'>17050001</span></li><li><span class='ee-k'>Maxima:</span><span class='ee-v'>749</span></li><li><span class='ee-k'>Media:</span><span class='ee-v'>701</span></li><li><span class='ee-k'>Minima:</span><span class='ee-v'>641</span></li><li><span class='ee-k'>latitude:</span><span class='ee-v'>-1.9192</span></li><li><span class='ee-k'>longitude:</span><span class='ee-v'>-55.5131</span></li><li><details><summary>system:time_start: Date (2021-03-01 00:00:00)</summary><ul><li><span class='ee-k'>type:</span><span class='ee-v'>Date</span></li><li><span class='ee-k'>value:</span><span class='ee-v'>1614556800000</span></li></ul></details></li><li><span class='ee-k'>water_period:</span><span class='ee-v'>HW</span></li><li><span class='ee-k'>water_period3:</span><span class='ee-v'>HW</span></li></ul></details></li></ul></details></li><li><details><summary>39: Feature (Point, 10 properties)</summary><ul><li><span class='ee-k'>type:</span><span class='ee-v'>Feature</span></li><li><span class='ee-k'>id:</span><span class='ee-v'>39</span></li><li><details><summary>geometry: Point (-55.51, -1.92)</summary><ul><li><span class='ee-k'>type:</span><span class='ee-v'>Point</span></li><li><details><summary>coordinates: [-55.5131, -1.9192]</summary><ul><li><span class='ee-k'>0:</span><span class='ee-v'>-55.5131</span></li><li><span class='ee-k'>1:</span><span class='ee-v'>-1.9192</span></li></ul></details></li></ul></details></li><li><details><summary>properties: Object (10 properties)</summary><ul><li><span class='ee-k'>Data:</span><span class='ee-v'>2021-02-01</span></li><li><span class='ee-k'>EstacaoCodigo:</span><span class='ee-v'>17050001</span></li><li><span class='ee-k'>Maxima:</span><span class='ee-v'>633</span></li><li><span class='ee-k'>Media:</span><span class='ee-v'>574</span></li><li><span class='ee-k'>Minima:</span><span class='ee-v'>515</span></li><li><span class='ee-k'>latitude:</span><span class='ee-v'>-1.9192</span></li><li><span class='ee-k'>longitude:</span><span class='ee-v'>-55.5131</span></li><li><details><summary>system:time_start: Date (2021-02-01 00:00:00)</summary><ul><li><span class='ee-k'>type:</span><span class='ee-v'>Date</span></li><li><span class='ee-k'>value:</span><span class='ee-v'>1612137600000</span></li></ul></details></li><li><span class='ee-k'>water_period:</span><span class='ee-v'>HW</span></li><li><span class='ee-k'>water_period3:</span><span class='ee-v'>HW</span></li></ul></details></li></ul></details></li><li><details><summary>40: Feature (Point, 12 properties)</summary><ul><li><span class='ee-k'>type:</span><span class='ee-v'>Feature</span></li><li><span class='ee-k'>id:</span><span class='ee-v'>40</span></li><li><details><summary>geometry: Point (-55.51, -1.92)</summary><ul><li><span class='ee-k'>type:</span><span class='ee-v'>Point</span></li><li><details><summary>coordinates: [-55.5131, -1.9192]</summary><ul><li><span class='ee-k'>0:</span><span class='ee-v'>-55.5131</span></li><li><span class='ee-k'>1:</span><span class='ee-v'>-1.9192</span></li></ul></details></li></ul></details></li><li><details><summary>properties: Object (12 properties)</summary><ul><li><span class='ee-k'>Data:</span><span class='ee-v'>2021-01-01</span></li><li><span class='ee-k'>EstacaoCodigo:</span><span class='ee-v'>17050001</span></li><li><span class='ee-k'>Maxima:</span><span class='ee-v'>510</span></li><li><span class='ee-k'>Media:</span><span class='ee-v'>407</span></li><li><span class='ee-k'>Minima:</span><span class='ee-v'>296</span></li><li><span class='ee-k'>fall:</span><span class='ee-v'>True</span></li><li><span class='ee-k'>latitude:</span><span class='ee-v'>-1.9192</span></li><li><span class='ee-k'>longitude:</span><span class='ee-v'>-55.5131</span></li><li><span class='ee-k'>rise:</span><span class='ee-v'>False</span></li><li><details><summary>system:time_start: Date (2021-01-01 00:00:00)</summary><ul><li><span class='ee-k'>type:</span><span class='ee-v'>Date</span></li><li><span class='ee-k'>value:</span><span class='ee-v'>1609459200000</span></li></ul></details></li><li><span class='ee-k'>water_period:</span><span class='ee-v'>F</span></li><li><span class='ee-k'>water_period3:</span><span class='ee-v'>T</span></li></ul></details></li></ul></details></li><li><details><summary>41: Feature (Point, 10 properties)</summary><ul><li><span class='ee-k'>type:</span><span class='ee-v'>Feature</span></li><li><span class='ee-k'>id:</span><span class='ee-v'>41</span></li><li><details><summary>geometry: Point (-55.51, -1.92)</summary><ul><li><span class='ee-k'>type:</span><span class='ee-v'>Point</span></li><li><details><summary>coordinates: [-55.5131, -1.9192]</summary><ul><li><span class='ee-k'>0:</span><span class='ee-v'>-55.5131</span></li><li><span class='ee-k'>1:</span><span class='ee-v'>-1.9192</span></li></ul></details></li></ul></details></li><li><details><summary>properties: Object (10 properties)</summary><ul><li><span class='ee-k'>Data:</span><span class='ee-v'>2020-12-01</span></li><li><span class='ee-k'>EstacaoCodigo:</span><span class='ee-v'>17050001</span></li><li><span class='ee-k'>Maxima:</span><span class='ee-v'>288</span></li><li><span class='ee-k'>Media:</span><span class='ee-v'>191</span></li><li><span class='ee-k'>Minima:</span><span class='ee-v'>119</span></li><li><span class='ee-k'>latitude:</span><span class='ee-v'>-1.9192</span></li><li><span class='ee-k'>longitude:</span><span class='ee-v'>-55.5131</span></li><li><details><summary>system:time_start: Date (2020-12-01 00:00:00)</summary><ul><li><span class='ee-k'>type:</span><span class='ee-v'>Date</span></li><li><span class='ee-k'>value:</span><span class='ee-v'>1606780800000</span></li></ul></details></li><li><span class='ee-k'>water_period:</span><span class='ee-v'>LW</span></li><li><span class='ee-k'>water_period3:</span><span class='ee-v'>LW</span></li></ul></details></li></ul></details></li><li><details><summary>42: Feature (Point, 10 properties)</summary><ul><li><span class='ee-k'>type:</span><span class='ee-v'>Feature</span></li><li><span class='ee-k'>id:</span><span class='ee-v'>42</span></li><li><details><summary>geometry: Point (-55.51, -1.92)</summary><ul><li><span class='ee-k'>type:</span><span class='ee-v'>Point</span></li><li><details><summary>coordinates: [-55.5131, -1.9192]</summary><ul><li><span class='ee-k'>0:</span><span class='ee-v'>-55.5131</span></li><li><span class='ee-k'>1:</span><span class='ee-v'>-1.9192</span></li></ul></details></li></ul></details></li><li><details><summary>properties: Object (10 properties)</summary><ul><li><span class='ee-k'>Data:</span><span class='ee-v'>2020-11-01</span></li><li><span class='ee-k'>EstacaoCodigo:</span><span class='ee-v'>17050001</span></li><li><span class='ee-k'>Maxima:</span><span class='ee-v'>111</span></li><li><span class='ee-k'>Media:</span><span class='ee-v'>85</span></li><li><span class='ee-k'>Minima:</span><span class='ee-v'>62</span></li><li><span class='ee-k'>latitude:</span><span class='ee-v'>-1.9192</span></li><li><span class='ee-k'>longitude:</span><span class='ee-v'>-55.5131</span></li><li><details><summary>system:time_start: Date (2020-11-01 00:00:00)</summary><ul><li><span class='ee-k'>type:</span><span class='ee-v'>Date</span></li><li><span class='ee-k'>value:</span><span class='ee-v'>1604188800000</span></li></ul></details></li><li><span class='ee-k'>water_period:</span><span class='ee-v'>LW</span></li><li><span class='ee-k'>water_period3:</span><span class='ee-v'>LW</span></li></ul></details></li></ul></details></li><li><details><summary>43: Feature (Point, 10 properties)</summary><ul><li><span class='ee-k'>type:</span><span class='ee-v'>Feature</span></li><li><span class='ee-k'>id:</span><span class='ee-v'>43</span></li><li><details><summary>geometry: Point (-55.51, -1.92)</summary><ul><li><span class='ee-k'>type:</span><span class='ee-v'>Point</span></li><li><details><summary>coordinates: [-55.5131, -1.9192]</summary><ul><li><span class='ee-k'>0:</span><span class='ee-v'>-55.5131</span></li><li><span class='ee-k'>1:</span><span class='ee-v'>-1.9192</span></li></ul></details></li></ul></details></li><li><details><summary>properties: Object (10 properties)</summary><ul><li><span class='ee-k'>Data:</span><span class='ee-v'>2020-10-01</span></li><li><span class='ee-k'>EstacaoCodigo:</span><span class='ee-v'>17050001</span></li><li><span class='ee-k'>Maxima:</span><span class='ee-v'>200</span></li><li><span class='ee-k'>Media:</span><span class='ee-v'>116</span></li><li><span class='ee-k'>Minima:</span><span class='ee-v'>80</span></li><li><span class='ee-k'>latitude:</span><span class='ee-v'>-1.9192</span></li><li><span class='ee-k'>longitude:</span><span class='ee-v'>-55.5131</span></li><li><details><summary>system:time_start: Date (2020-10-01 00:00:00)</summary><ul><li><span class='ee-k'>type:</span><span class='ee-v'>Date</span></li><li><span class='ee-k'>value:</span><span class='ee-v'>1601510400000</span></li></ul></details></li><li><span class='ee-k'>water_period:</span><span class='ee-v'>LW</span></li><li><span class='ee-k'>water_period3:</span><span class='ee-v'>LW</span></li></ul></details></li></ul></details></li><li><details><summary>44: Feature (Point, 12 properties)</summary><ul><li><span class='ee-k'>type:</span><span class='ee-v'>Feature</span></li><li><span class='ee-k'>id:</span><span class='ee-v'>44</span></li><li><details><summary>geometry: Point (-55.51, -1.92)</summary><ul><li><span class='ee-k'>type:</span><span class='ee-v'>Point</span></li><li><details><summary>coordinates: [-55.5131, -1.9192]</summary><ul><li><span class='ee-k'>0:</span><span class='ee-v'>-55.5131</span></li><li><span class='ee-k'>1:</span><span class='ee-v'>-1.9192</span></li></ul></details></li></ul></details></li><li><details><summary>properties: Object (12 properties)</summary><ul><li><span class='ee-k'>Data:</span><span class='ee-v'>2020-09-01</span></li><li><span class='ee-k'>EstacaoCodigo:</span><span class='ee-v'>17050001</span></li><li><span class='ee-k'>Maxima:</span><span class='ee-v'>526</span></li><li><span class='ee-k'>Media:</span><span class='ee-v'>385</span></li><li><span class='ee-k'>Minima:</span><span class='ee-v'>211</span></li><li><span class='ee-k'>fall:</span><span class='ee-v'>False</span></li><li><span class='ee-k'>latitude:</span><span class='ee-v'>-1.9192</span></li><li><span class='ee-k'>longitude:</span><span class='ee-v'>-55.5131</span></li><li><span class='ee-k'>rise:</span><span class='ee-v'>True</span></li><li><details><summary>system:time_start: Date (2020-09-01 00:00:00)</summary><ul><li><span class='ee-k'>type:</span><span class='ee-v'>Date</span></li><li><span class='ee-k'>value:</span><span class='ee-v'>1598918400000</span></li></ul></details></li><li><span class='ee-k'>water_period:</span><span class='ee-v'>R</span></li><li><span class='ee-k'>water_period3:</span><span class='ee-v'>T</span></li></ul></details></li></ul></details></li><li><details><summary>45: Feature (Point, 10 properties)</summary><ul><li><span class='ee-k'>type:</span><span class='ee-v'>Feature</span></li><li><span class='ee-k'>id:</span><span class='ee-v'>45</span></li><li><details><summary>geometry: Point (-55.51, -1.92)</summary><ul><li><span class='ee-k'>type:</span><span class='ee-v'>Point</span></li><li><details><summary>coordinates: [-55.5131, -1.9192]</summary><ul><li><span class='ee-k'>0:</span><span class='ee-v'>-55.5131</span></li><li><span class='ee-k'>1:</span><span class='ee-v'>-1.9192</span></li></ul></details></li></ul></details></li><li><details><summary>properties: Object (10 properties)</summary><ul><li><span class='ee-k'>Data:</span><span class='ee-v'>2020-08-01</span></li><li><span class='ee-k'>EstacaoCodigo:</span><span class='ee-v'>17050001</span></li><li><span class='ee-k'>Maxima:</span><span class='ee-v'>657</span></li><li><span class='ee-k'>Media:</span><span class='ee-v'>601</span></li><li><span class='ee-k'>Minima:</span><span class='ee-v'>530</span></li><li><span class='ee-k'>latitude:</span><span class='ee-v'>-1.9192</span></li><li><span class='ee-k'>longitude:</span><span class='ee-v'>-55.5131</span></li><li><details><summary>system:time_start: Date (2020-08-01 00:00:00)</summary><ul><li><span class='ee-k'>type:</span><span class='ee-v'>Date</span></li><li><span class='ee-k'>value:</span><span class='ee-v'>1596240000000</span></li></ul></details></li><li><span class='ee-k'>water_period:</span><span class='ee-v'>HW</span></li><li><span class='ee-k'>water_period3:</span><span class='ee-v'>HW</span></li></ul></details></li></ul></details></li><li><details><summary>46: Feature (Point, 10 properties)</summary><ul><li><span class='ee-k'>type:</span><span class='ee-v'>Feature</span></li><li><span class='ee-k'>id:</span><span class='ee-v'>46</span></li><li><details><summary>geometry: Point (-55.51, -1.92)</summary><ul><li><span class='ee-k'>type:</span><span class='ee-v'>Point</span></li><li><details><summary>coordinates: [-55.5131, -1.9192]</summary><ul><li><span class='ee-k'>0:</span><span class='ee-v'>-55.5131</span></li><li><span class='ee-k'>1:</span><span class='ee-v'>-1.9192</span></li></ul></details></li></ul></details></li><li><details><summary>properties: Object (10 properties)</summary><ul><li><span class='ee-k'>Data:</span><span class='ee-v'>2020-07-01</span></li><li><span class='ee-k'>EstacaoCodigo:</span><span class='ee-v'>17050001</span></li><li><span class='ee-k'>Maxima:</span><span class='ee-v'>733</span></li><li><span class='ee-k'>Media:</span><span class='ee-v'>700</span></li><li><span class='ee-k'>Minima:</span><span class='ee-v'>659</span></li><li><span class='ee-k'>latitude:</span><span class='ee-v'>-1.9192</span></li><li><span class='ee-k'>longitude:</span><span class='ee-v'>-55.5131</span></li><li><details><summary>system:time_start: Date (2020-07-01 00:00:00)</summary><ul><li><span class='ee-k'>type:</span><span class='ee-v'>Date</span></li><li><span class='ee-k'>value:</span><span class='ee-v'>1593561600000</span></li></ul></details></li><li><span class='ee-k'>water_period:</span><span class='ee-v'>HW</span></li><li><span class='ee-k'>water_period3:</span><span class='ee-v'>HW</span></li></ul></details></li></ul></details></li><li><details><summary>47: Feature (Point, 10 properties)</summary><ul><li><span class='ee-k'>type:</span><span class='ee-v'>Feature</span></li><li><span class='ee-k'>id:</span><span class='ee-v'>47</span></li><li><details><summary>geometry: Point (-55.51, -1.92)</summary><ul><li><span class='ee-k'>type:</span><span class='ee-v'>Point</span></li><li><details><summary>coordinates: [-55.5131, -1.9192]</summary><ul><li><span class='ee-k'>0:</span><span class='ee-v'>-55.5131</span></li><li><span class='ee-k'>1:</span><span class='ee-v'>-1.9192</span></li></ul></details></li></ul></details></li><li><details><summary>properties: Object (10 properties)</summary><ul><li><span class='ee-k'>Data:</span><span class='ee-v'>2020-06-01</span></li><li><span class='ee-k'>EstacaoCodigo:</span><span class='ee-v'>17050001</span></li><li><span class='ee-k'>Maxima:</span><span class='ee-v'>764</span></li><li><span class='ee-k'>Media:</span><span class='ee-v'>754</span></li><li><span class='ee-k'>Minima:</span><span class='ee-v'>736</span></li><li><span class='ee-k'>latitude:</span><span class='ee-v'>-1.9192</span></li><li><span class='ee-k'>longitude:</span><span class='ee-v'>-55.5131</span></li><li><details><summary>system:time_start: Date (2020-06-01 00:00:00)</summary><ul><li><span class='ee-k'>type:</span><span class='ee-v'>Date</span></li><li><span class='ee-k'>value:</span><span class='ee-v'>1590969600000</span></li></ul></details></li><li><span class='ee-k'>water_period:</span><span class='ee-v'>HW</span></li><li><span class='ee-k'>water_period3:</span><span class='ee-v'>HW</span></li></ul></details></li></ul></details></li><li><details><summary>48: Feature (Point, 10 properties)</summary><ul><li><span class='ee-k'>type:</span><span class='ee-v'>Feature</span></li><li><span class='ee-k'>id:</span><span class='ee-v'>48</span></li><li><details><summary>geometry: Point (-55.51, -1.92)</summary><ul><li><span class='ee-k'>type:</span><span class='ee-v'>Point</span></li><li><details><summary>coordinates: [-55.5131, -1.9192]</summary><ul><li><span class='ee-k'>0:</span><span class='ee-v'>-55.5131</span></li><li><span class='ee-k'>1:</span><span class='ee-v'>-1.9192</span></li></ul></details></li></ul></details></li><li><details><summary>properties: Object (10 properties)</summary><ul><li><span class='ee-k'>Data:</span><span class='ee-v'>2020-05-01</span></li><li><span class='ee-k'>EstacaoCodigo:</span><span class='ee-v'>17050001</span></li><li><span class='ee-k'>Maxima:</span><span class='ee-v'>759</span></li><li><span class='ee-k'>Media:</span><span class='ee-v'>742</span></li><li><span class='ee-k'>Minima:</span><span class='ee-v'>714</span></li><li><span class='ee-k'>latitude:</span><span class='ee-v'>-1.9192</span></li><li><span class='ee-k'>longitude:</span><span class='ee-v'>-55.5131</span></li><li><details><summary>system:time_start: Date (2020-05-01 00:00:00)</summary><ul><li><span class='ee-k'>type:</span><span class='ee-v'>Date</span></li><li><span class='ee-k'>value:</span><span class='ee-v'>1588291200000</span></li></ul></details></li><li><span class='ee-k'>water_period:</span><span class='ee-v'>HW</span></li><li><span class='ee-k'>water_period3:</span><span class='ee-v'>HW</span></li></ul></details></li></ul></details></li><li><details><summary>49: Feature (Point, 10 properties)</summary><ul><li><span class='ee-k'>type:</span><span class='ee-v'>Feature</span></li><li><span class='ee-k'>id:</span><span class='ee-v'>49</span></li><li><details><summary>geometry: Point (-55.51, -1.92)</summary><ul><li><span class='ee-k'>type:</span><span class='ee-v'>Point</span></li><li><details><summary>coordinates: [-55.5131, -1.9192]</summary><ul><li><span class='ee-k'>0:</span><span class='ee-v'>-55.5131</span></li><li><span class='ee-k'>1:</span><span class='ee-v'>-1.9192</span></li></ul></details></li></ul></details></li><li><details><summary>properties: Object (10 properties)</summary><ul><li><span class='ee-k'>Data:</span><span class='ee-v'>2020-04-01</span></li><li><span class='ee-k'>EstacaoCodigo:</span><span class='ee-v'>17050001</span></li><li><span class='ee-k'>Maxima:</span><span class='ee-v'>712</span></li><li><span class='ee-k'>Media:</span><span class='ee-v'>678</span></li><li><span class='ee-k'>Minima:</span><span class='ee-v'>645</span></li><li><span class='ee-k'>latitude:</span><span class='ee-v'>-1.9192</span></li><li><span class='ee-k'>longitude:</span><span class='ee-v'>-55.5131</span></li><li><details><summary>system:time_start: Date (2020-04-01 00:00:00)</summary><ul><li><span class='ee-k'>type:</span><span class='ee-v'>Date</span></li><li><span class='ee-k'>value:</span><span class='ee-v'>1585699200000</span></li></ul></details></li><li><span class='ee-k'>water_period:</span><span class='ee-v'>HW</span></li><li><span class='ee-k'>water_period3:</span><span class='ee-v'>HW</span></li></ul></details></li></ul></details></li><li><details><summary>50: Feature (Point, 10 properties)</summary><ul><li><span class='ee-k'>type:</span><span class='ee-v'>Feature</span></li><li><span class='ee-k'>id:</span><span class='ee-v'>50</span></li><li><details><summary>geometry: Point (-55.51, -1.92)</summary><ul><li><span class='ee-k'>type:</span><span class='ee-v'>Point</span></li><li><details><summary>coordinates: [-55.5131, -1.9192]</summary><ul><li><span class='ee-k'>0:</span><span class='ee-v'>-55.5131</span></li><li><span class='ee-k'>1:</span><span class='ee-v'>-1.9192</span></li></ul></details></li></ul></details></li><li><details><summary>properties: Object (10 properties)</summary><ul><li><span class='ee-k'>Data:</span><span class='ee-v'>2020-03-01</span></li><li><span class='ee-k'>EstacaoCodigo:</span><span class='ee-v'>17050001</span></li><li><span class='ee-k'>Maxima:</span><span class='ee-v'>644</span></li><li><span class='ee-k'>Media:</span><span class='ee-v'>601</span></li><li><span class='ee-k'>Minima:</span><span class='ee-v'>565</span></li><li><span class='ee-k'>latitude:</span><span class='ee-v'>-1.9192</span></li><li><span class='ee-k'>longitude:</span><span class='ee-v'>-55.5131</span></li><li><details><summary>system:time_start: Date (2020-03-01 00:00:00)</summary><ul><li><span class='ee-k'>type:</span><span class='ee-v'>Date</span></li><li><span class='ee-k'>value:</span><span class='ee-v'>1583020800000</span></li></ul></details></li><li><span class='ee-k'>water_period:</span><span class='ee-v'>HW</span></li><li><span class='ee-k'>water_period3:</span><span class='ee-v'>HW</span></li></ul></details></li></ul></details></li><li><details><summary>51: Feature (Point, 12 properties)</summary><ul><li><span class='ee-k'>type:</span><span class='ee-v'>Feature</span></li><li><span class='ee-k'>id:</span><span class='ee-v'>51</span></li><li><details><summary>geometry: Point (-55.51, -1.92)</summary><ul><li><span class='ee-k'>type:</span><span class='ee-v'>Point</span></li><li><details><summary>coordinates: [-55.5131, -1.9192]</summary><ul><li><span class='ee-k'>0:</span><span class='ee-v'>-55.5131</span></li><li><span class='ee-k'>1:</span><span class='ee-v'>-1.9192</span></li></ul></details></li></ul></details></li><li><details><summary>properties: Object (12 properties)</summary><ul><li><span class='ee-k'>Data:</span><span class='ee-v'>2020-02-01</span></li><li><span class='ee-k'>EstacaoCodigo:</span><span class='ee-v'>17050001</span></li><li><span class='ee-k'>Maxima:</span><span class='ee-v'>562</span></li><li><span class='ee-k'>Media:</span><span class='ee-v'>535</span></li><li><span class='ee-k'>Minima:</span><span class='ee-v'>512</span></li><li><span class='ee-k'>fall:</span><span class='ee-v'>True</span></li><li><span class='ee-k'>latitude:</span><span class='ee-v'>-1.9192</span></li><li><span class='ee-k'>longitude:</span><span class='ee-v'>-55.5131</span></li><li><span class='ee-k'>rise:</span><span class='ee-v'>False</span></li><li><details><summary>system:time_start: Date (2020-02-01 00:00:00)</summary><ul><li><span class='ee-k'>type:</span><span class='ee-v'>Date</span></li><li><span class='ee-k'>value:</span><span class='ee-v'>1580515200000</span></li></ul></details></li><li><span class='ee-k'>water_period:</span><span class='ee-v'>F</span></li><li><span class='ee-k'>water_period3:</span><span class='ee-v'>T</span></li></ul></details></li></ul></details></li><li><details><summary>52: Feature (Point, 12 properties)</summary><ul><li><span class='ee-k'>type:</span><span class='ee-v'>Feature</span></li><li><span class='ee-k'>id:</span><span class='ee-v'>52</span></li><li><details><summary>geometry: Point (-55.51, -1.92)</summary><ul><li><span class='ee-k'>type:</span><span class='ee-v'>Point</span></li><li><details><summary>coordinates: [-55.5131, -1.9192]</summary><ul><li><span class='ee-k'>0:</span><span class='ee-v'>-55.5131</span></li><li><span class='ee-k'>1:</span><span class='ee-v'>-1.9192</span></li></ul></details></li></ul></details></li><li><details><summary>properties: Object (12 properties)</summary><ul><li><span class='ee-k'>Data:</span><span class='ee-v'>2020-01-01</span></li><li><span class='ee-k'>EstacaoCodigo:</span><span class='ee-v'>17050001</span></li><li><span class='ee-k'>Maxima:</span><span class='ee-v'>516</span></li><li><span class='ee-k'>Media:</span><span class='ee-v'>472</span></li><li><span class='ee-k'>Minima:</span><span class='ee-v'>405</span></li><li><span class='ee-k'>fall:</span><span class='ee-v'>True</span></li><li><span class='ee-k'>latitude:</span><span class='ee-v'>-1.9192</span></li><li><span class='ee-k'>longitude:</span><span class='ee-v'>-55.5131</span></li><li><span class='ee-k'>rise:</span><span class='ee-v'>False</span></li><li><details><summary>system:time_start: Date (2020-01-01 00:00:00)</summary><ul><li><span class='ee-k'>type:</span><span class='ee-v'>Date</span></li><li><span class='ee-k'>value:</span><span class='ee-v'>1577836800000</span></li></ul></details></li><li><span class='ee-k'>water_period:</span><span class='ee-v'>F</span></li><li><span class='ee-k'>water_period3:</span><span class='ee-v'>T</span></li></ul></details></li></ul></details></li><li><details><summary>53: Feature (Point, 10 properties)</summary><ul><li><span class='ee-k'>type:</span><span class='ee-v'>Feature</span></li><li><span class='ee-k'>id:</span><span class='ee-v'>53</span></li><li><details><summary>geometry: Point (-55.51, -1.92)</summary><ul><li><span class='ee-k'>type:</span><span class='ee-v'>Point</span></li><li><details><summary>coordinates: [-55.5131, -1.9192]</summary><ul><li><span class='ee-k'>0:</span><span class='ee-v'>-55.5131</span></li><li><span class='ee-k'>1:</span><span class='ee-v'>-1.9192</span></li></ul></details></li></ul></details></li><li><details><summary>properties: Object (10 properties)</summary><ul><li><span class='ee-k'>Data:</span><span class='ee-v'>2019-12-01</span></li><li><span class='ee-k'>EstacaoCodigo:</span><span class='ee-v'>17050001</span></li><li><span class='ee-k'>Maxima:</span><span class='ee-v'>401</span></li><li><span class='ee-k'>Media:</span><span class='ee-v'>319</span></li><li><span class='ee-k'>Minima:</span><span class='ee-v'>257</span></li><li><span class='ee-k'>latitude:</span><span class='ee-v'>-1.9192</span></li><li><span class='ee-k'>longitude:</span><span class='ee-v'>-55.5131</span></li><li><details><summary>system:time_start: Date (2019-12-01 00:00:00)</summary><ul><li><span class='ee-k'>type:</span><span class='ee-v'>Date</span></li><li><span class='ee-k'>value:</span><span class='ee-v'>1575158400000</span></li></ul></details></li><li><span class='ee-k'>water_period:</span><span class='ee-v'>LW</span></li><li><span class='ee-k'>water_period3:</span><span class='ee-v'>LW</span></li></ul></details></li></ul></details></li><li><details><summary>54: Feature (Point, 10 properties)</summary><ul><li><span class='ee-k'>type:</span><span class='ee-v'>Feature</span></li><li><span class='ee-k'>id:</span><span class='ee-v'>54</span></li><li><details><summary>geometry: Point (-55.51, -1.92)</summary><ul><li><span class='ee-k'>type:</span><span class='ee-v'>Point</span></li><li><details><summary>coordinates: [-55.5131, -1.9192]</summary><ul><li><span class='ee-k'>0:</span><span class='ee-v'>-55.5131</span></li><li><span class='ee-k'>1:</span><span class='ee-v'>-1.9192</span></li></ul></details></li></ul></details></li><li><details><summary>properties: Object (10 properties)</summary><ul><li><span class='ee-k'>Data:</span><span class='ee-v'>2019-11-01</span></li><li><span class='ee-k'>EstacaoCodigo:</span><span class='ee-v'>17050001</span></li><li><span class='ee-k'>Maxima:</span><span class='ee-v'>253</span></li><li><span class='ee-k'>Media:</span><span class='ee-v'>198</span></li><li><span class='ee-k'>Minima:</span><span class='ee-v'>170</span></li><li><span class='ee-k'>latitude:</span><span class='ee-v'>-1.9192</span></li><li><span class='ee-k'>longitude:</span><span class='ee-v'>-55.5131</span></li><li><details><summary>system:time_start: Date (2019-11-01 00:00:00)</summary><ul><li><span class='ee-k'>type:</span><span class='ee-v'>Date</span></li><li><span class='ee-k'>value:</span><span class='ee-v'>1572566400000</span></li></ul></details></li><li><span class='ee-k'>water_period:</span><span class='ee-v'>LW</span></li><li><span class='ee-k'>water_period3:</span><span class='ee-v'>LW</span></li></ul></details></li></ul></details></li><li><details><summary>55: Feature (Point, 10 properties)</summary><ul><li><span class='ee-k'>type:</span><span class='ee-v'>Feature</span></li><li><span class='ee-k'>id:</span><span class='ee-v'>55</span></li><li><details><summary>geometry: Point (-55.51, -1.92)</summary><ul><li><span class='ee-k'>type:</span><span class='ee-v'>Point</span></li><li><details><summary>coordinates: [-55.5131, -1.9192]</summary><ul><li><span class='ee-k'>0:</span><span class='ee-v'>-55.5131</span></li><li><span class='ee-k'>1:</span><span class='ee-v'>-1.9192</span></li></ul></details></li></ul></details></li><li><details><summary>properties: Object (10 properties)</summary><ul><li><span class='ee-k'>Data:</span><span class='ee-v'>2019-10-01</span></li><li><span class='ee-k'>EstacaoCodigo:</span><span class='ee-v'>17050001</span></li><li><span class='ee-k'>Maxima:</span><span class='ee-v'>372</span></li><li><span class='ee-k'>Media:</span><span class='ee-v'>235</span></li><li><span class='ee-k'>Minima:</span><span class='ee-v'>164</span></li><li><span class='ee-k'>latitude:</span><span class='ee-v'>-1.9192</span></li><li><span class='ee-k'>longitude:</span><span class='ee-v'>-55.5131</span></li><li><details><summary>system:time_start: Date (2019-10-01 00:00:00)</summary><ul><li><span class='ee-k'>type:</span><span class='ee-v'>Date</span></li><li><span class='ee-k'>value:</span><span class='ee-v'>1569888000000</span></li></ul></details></li><li><span class='ee-k'>water_period:</span><span class='ee-v'>LW</span></li><li><span class='ee-k'>water_period3:</span><span class='ee-v'>LW</span></li></ul></details></li></ul></details></li><li><details><summary>56: Feature (Point, 12 properties)</summary><ul><li><span class='ee-k'>type:</span><span class='ee-v'>Feature</span></li><li><span class='ee-k'>id:</span><span class='ee-v'>56</span></li><li><details><summary>geometry: Point (-55.51, -1.92)</summary><ul><li><span class='ee-k'>type:</span><span class='ee-v'>Point</span></li><li><details><summary>coordinates: [-55.5131, -1.9192]</summary><ul><li><span class='ee-k'>0:</span><span class='ee-v'>-55.5131</span></li><li><span class='ee-k'>1:</span><span class='ee-v'>-1.9192</span></li></ul></details></li></ul></details></li><li><details><summary>properties: Object (12 properties)</summary><ul><li><span class='ee-k'>Data:</span><span class='ee-v'>2019-09-01</span></li><li><span class='ee-k'>EstacaoCodigo:</span><span class='ee-v'>17050001</span></li><li><span class='ee-k'>Maxima:</span><span class='ee-v'>593</span></li><li><span class='ee-k'>Media:</span><span class='ee-v'>503</span></li><li><span class='ee-k'>Minima:</span><span class='ee-v'>383</span></li><li><span class='ee-k'>fall:</span><span class='ee-v'>False</span></li><li><span class='ee-k'>latitude:</span><span class='ee-v'>-1.9192</span></li><li><span class='ee-k'>longitude:</span><span class='ee-v'>-55.5131</span></li><li><span class='ee-k'>rise:</span><span class='ee-v'>True</span></li><li><details><summary>system:time_start: Date (2019-09-01 00:00:00)</summary><ul><li><span class='ee-k'>type:</span><span class='ee-v'>Date</span></li><li><span class='ee-k'>value:</span><span class='ee-v'>1567296000000</span></li></ul></details></li><li><span class='ee-k'>water_period:</span><span class='ee-v'>R</span></li><li><span class='ee-k'>water_period3:</span><span class='ee-v'>T</span></li></ul></details></li></ul></details></li><li><details><summary>57: Feature (Point, 10 properties)</summary><ul><li><span class='ee-k'>type:</span><span class='ee-v'>Feature</span></li><li><span class='ee-k'>id:</span><span class='ee-v'>57</span></li><li><details><summary>geometry: Point (-55.51, -1.92)</summary><ul><li><span class='ee-k'>type:</span><span class='ee-v'>Point</span></li><li><details><summary>coordinates: [-55.5131, -1.9192]</summary><ul><li><span class='ee-k'>0:</span><span class='ee-v'>-55.5131</span></li><li><span class='ee-k'>1:</span><span class='ee-v'>-1.9192</span></li></ul></details></li></ul></details></li><li><details><summary>properties: Object (10 properties)</summary><ul><li><span class='ee-k'>Data:</span><span class='ee-v'>2019-08-01</span></li><li><span class='ee-k'>EstacaoCodigo:</span><span class='ee-v'>17050001</span></li><li><span class='ee-k'>Maxima:</span><span class='ee-v'>705</span></li><li><span class='ee-k'>Media:</span><span class='ee-v'>658</span></li><li><span class='ee-k'>Minima:</span><span class='ee-v'>597</span></li><li><span class='ee-k'>latitude:</span><span class='ee-v'>-1.9192</span></li><li><span class='ee-k'>longitude:</span><span class='ee-v'>-55.5131</span></li><li><details><summary>system:time_start: Date (2019-08-01 00:00:00)</summary><ul><li><span class='ee-k'>type:</span><span class='ee-v'>Date</span></li><li><span class='ee-k'>value:</span><span class='ee-v'>1564617600000</span></li></ul></details></li><li><span class='ee-k'>water_period:</span><span class='ee-v'>HW</span></li><li><span class='ee-k'>water_period3:</span><span class='ee-v'>HW</span></li></ul></details></li></ul></details></li><li><details><summary>58: Feature (Point, 10 properties)</summary><ul><li><span class='ee-k'>type:</span><span class='ee-v'>Feature</span></li><li><span class='ee-k'>id:</span><span class='ee-v'>58</span></li><li><details><summary>geometry: Point (-55.51, -1.92)</summary><ul><li><span class='ee-k'>type:</span><span class='ee-v'>Point</span></li><li><details><summary>coordinates: [-55.5131, -1.9192]</summary><ul><li><span class='ee-k'>0:</span><span class='ee-v'>-55.5131</span></li><li><span class='ee-k'>1:</span><span class='ee-v'>-1.9192</span></li></ul></details></li></ul></details></li><li><details><summary>properties: Object (10 properties)</summary><ul><li><span class='ee-k'>Data:</span><span class='ee-v'>2019-07-01</span></li><li><span class='ee-k'>EstacaoCodigo:</span><span class='ee-v'>17050001</span></li><li><span class='ee-k'>Maxima:</span><span class='ee-v'>780</span></li><li><span class='ee-k'>Media:</span><span class='ee-v'>752</span></li><li><span class='ee-k'>Minima:</span><span class='ee-v'>707</span></li><li><span class='ee-k'>latitude:</span><span class='ee-v'>-1.9192</span></li><li><span class='ee-k'>longitude:</span><span class='ee-v'>-55.5131</span></li><li><details><summary>system:time_start: Date (2019-07-01 00:00:00)</summary><ul><li><span class='ee-k'>type:</span><span class='ee-v'>Date</span></li><li><span class='ee-k'>value:</span><span class='ee-v'>1561939200000</span></li></ul></details></li><li><span class='ee-k'>water_period:</span><span class='ee-v'>HW</span></li><li><span class='ee-k'>water_period3:</span><span class='ee-v'>HW</span></li></ul></details></li></ul></details></li><li><details><summary>59: Feature (Point, 10 properties)</summary><ul><li><span class='ee-k'>type:</span><span class='ee-v'>Feature</span></li><li><span class='ee-k'>id:</span><span class='ee-v'>59</span></li><li><details><summary>geometry: Point (-55.51, -1.92)</summary><ul><li><span class='ee-k'>type:</span><span class='ee-v'>Point</span></li><li><details><summary>coordinates: [-55.5131, -1.9192]</summary><ul><li><span class='ee-k'>0:</span><span class='ee-v'>-55.5131</span></li><li><span class='ee-k'>1:</span><span class='ee-v'>-1.9192</span></li></ul></details></li></ul></details></li><li><details><summary>properties: Object (10 properties)</summary><ul><li><span class='ee-k'>Data:</span><span class='ee-v'>2019-06-01</span></li><li><span class='ee-k'>EstacaoCodigo:</span><span class='ee-v'>17050001</span></li><li><span class='ee-k'>Maxima:</span><span class='ee-v'>808</span></li><li><span class='ee-k'>Media:</span><span class='ee-v'>800</span></li><li><span class='ee-k'>Minima:</span><span class='ee-v'>782</span></li><li><span class='ee-k'>latitude:</span><span class='ee-v'>-1.9192</span></li><li><span class='ee-k'>longitude:</span><span class='ee-v'>-55.5131</span></li><li><details><summary>system:time_start: Date (2019-06-01 00:00:00)</summary><ul><li><span class='ee-k'>type:</span><span class='ee-v'>Date</span></li><li><span class='ee-k'>value:</span><span class='ee-v'>1559347200000</span></li></ul></details></li><li><span class='ee-k'>water_period:</span><span class='ee-v'>HW</span></li><li><span class='ee-k'>water_period3:</span><span class='ee-v'>HW</span></li></ul></details></li></ul></details></li><li><details><summary>60: Feature (Point, 10 properties)</summary><ul><li><span class='ee-k'>type:</span><span class='ee-v'>Feature</span></li><li><span class='ee-k'>id:</span><span class='ee-v'>60</span></li><li><details><summary>geometry: Point (-55.51, -1.92)</summary><ul><li><span class='ee-k'>type:</span><span class='ee-v'>Point</span></li><li><details><summary>coordinates: [-55.5131, -1.9192]</summary><ul><li><span class='ee-k'>0:</span><span class='ee-v'>-55.5131</span></li><li><span class='ee-k'>1:</span><span class='ee-v'>-1.9192</span></li></ul></details></li></ul></details></li><li><details><summary>properties: Object (10 properties)</summary><ul><li><span class='ee-k'>Data:</span><span class='ee-v'>2019-05-01</span></li><li><span class='ee-k'>EstacaoCodigo:</span><span class='ee-v'>17050001</span></li><li><span class='ee-k'>Maxima:</span><span class='ee-v'>800</span></li><li><span class='ee-k'>Media:</span><span class='ee-v'>783</span></li><li><span class='ee-k'>Minima:</span><span class='ee-v'>765</span></li><li><span class='ee-k'>latitude:</span><span class='ee-v'>-1.9192</span></li><li><span class='ee-k'>longitude:</span><span class='ee-v'>-55.5131</span></li><li><details><summary>system:time_start: Date (2019-05-01 00:00:00)</summary><ul><li><span class='ee-k'>type:</span><span class='ee-v'>Date</span></li><li><span class='ee-k'>value:</span><span class='ee-v'>1556668800000</span></li></ul></details></li><li><span class='ee-k'>water_period:</span><span class='ee-v'>HW</span></li><li><span class='ee-k'>water_period3:</span><span class='ee-v'>HW</span></li></ul></details></li></ul></details></li><li><details><summary>61: Feature (Point, 10 properties)</summary><ul><li><span class='ee-k'>type:</span><span class='ee-v'>Feature</span></li><li><span class='ee-k'>id:</span><span class='ee-v'>61</span></li><li><details><summary>geometry: Point (-55.51, -1.92)</summary><ul><li><span class='ee-k'>type:</span><span class='ee-v'>Point</span></li><li><details><summary>coordinates: [-55.5131, -1.9192]</summary><ul><li><span class='ee-k'>0:</span><span class='ee-v'>-55.5131</span></li><li><span class='ee-k'>1:</span><span class='ee-v'>-1.9192</span></li></ul></details></li></ul></details></li><li><details><summary>properties: Object (10 properties)</summary><ul><li><span class='ee-k'>Data:</span><span class='ee-v'>2019-04-01</span></li><li><span class='ee-k'>EstacaoCodigo:</span><span class='ee-v'>17050001</span></li><li><span class='ee-k'>Maxima:</span><span class='ee-v'>764</span></li><li><span class='ee-k'>Media:</span><span class='ee-v'>733</span></li><li><span class='ee-k'>Minima:</span><span class='ee-v'>698</span></li><li><span class='ee-k'>latitude:</span><span class='ee-v'>-1.9192</span></li><li><span class='ee-k'>longitude:</span><span class='ee-v'>-55.5131</span></li><li><details><summary>system:time_start: Date (2019-04-01 00:00:00)</summary><ul><li><span class='ee-k'>type:</span><span class='ee-v'>Date</span></li><li><span class='ee-k'>value:</span><span class='ee-v'>1554076800000</span></li></ul></details></li><li><span class='ee-k'>water_period:</span><span class='ee-v'>HW</span></li><li><span class='ee-k'>water_period3:</span><span class='ee-v'>HW</span></li></ul></details></li></ul></details></li><li><details><summary>62: Feature (Point, 10 properties)</summary><ul><li><span class='ee-k'>type:</span><span class='ee-v'>Feature</span></li><li><span class='ee-k'>id:</span><span class='ee-v'>62</span></li><li><details><summary>geometry: Point (-55.51, -1.92)</summary><ul><li><span class='ee-k'>type:</span><span class='ee-v'>Point</span></li><li><details><summary>coordinates: [-55.5131, -1.9192]</summary><ul><li><span class='ee-k'>0:</span><span class='ee-v'>-55.5131</span></li><li><span class='ee-k'>1:</span><span class='ee-v'>-1.9192</span></li></ul></details></li></ul></details></li><li><details><summary>properties: Object (10 properties)</summary><ul><li><span class='ee-k'>Data:</span><span class='ee-v'>2019-03-01</span></li><li><span class='ee-k'>EstacaoCodigo:</span><span class='ee-v'>17050001</span></li><li><span class='ee-k'>Maxima:</span><span class='ee-v'>700</span></li><li><span class='ee-k'>Media:</span><span class='ee-v'>668</span></li><li><span class='ee-k'>Minima:</span><span class='ee-v'>636</span></li><li><span class='ee-k'>latitude:</span><span class='ee-v'>-1.9192</span></li><li><span class='ee-k'>longitude:</span><span class='ee-v'>-55.5131</span></li><li><details><summary>system:time_start: Date (2019-03-01 00:00:00)</summary><ul><li><span class='ee-k'>type:</span><span class='ee-v'>Date</span></li><li><span class='ee-k'>value:</span><span class='ee-v'>1551398400000</span></li></ul></details></li><li><span class='ee-k'>water_period:</span><span class='ee-v'>HW</span></li><li><span class='ee-k'>water_period3:</span><span class='ee-v'>HW</span></li></ul></details></li></ul></details></li><li><details><summary>63: Feature (Point, 10 properties)</summary><ul><li><span class='ee-k'>type:</span><span class='ee-v'>Feature</span></li><li><span class='ee-k'>id:</span><span class='ee-v'>63</span></li><li><details><summary>geometry: Point (-55.51, -1.92)</summary><ul><li><span class='ee-k'>type:</span><span class='ee-v'>Point</span></li><li><details><summary>coordinates: [-55.5131, -1.9192]</summary><ul><li><span class='ee-k'>0:</span><span class='ee-v'>-55.5131</span></li><li><span class='ee-k'>1:</span><span class='ee-v'>-1.9192</span></li></ul></details></li></ul></details></li><li><details><summary>properties: Object (10 properties)</summary><ul><li><span class='ee-k'>Data:</span><span class='ee-v'>2019-02-01</span></li><li><span class='ee-k'>EstacaoCodigo:</span><span class='ee-v'>17050001</span></li><li><span class='ee-k'>Maxima:</span><span class='ee-v'>634</span></li><li><span class='ee-k'>Media:</span><span class='ee-v'>577</span></li><li><span class='ee-k'>Minima:</span><span class='ee-v'>530</span></li><li><span class='ee-k'>latitude:</span><span class='ee-v'>-1.9192</span></li><li><span class='ee-k'>longitude:</span><span class='ee-v'>-55.5131</span></li><li><details><summary>system:time_start: Date (2019-02-01 00:00:00)</summary><ul><li><span class='ee-k'>type:</span><span class='ee-v'>Date</span></li><li><span class='ee-k'>value:</span><span class='ee-v'>1548979200000</span></li></ul></details></li><li><span class='ee-k'>water_period:</span><span class='ee-v'>HW</span></li><li><span class='ee-k'>water_period3:</span><span class='ee-v'>HW</span></li></ul></details></li></ul></details></li><li><details><summary>64: Feature (Point, 12 properties)</summary><ul><li><span class='ee-k'>type:</span><span class='ee-v'>Feature</span></li><li><span class='ee-k'>id:</span><span class='ee-v'>64</span></li><li><details><summary>geometry: Point (-55.51, -1.92)</summary><ul><li><span class='ee-k'>type:</span><span class='ee-v'>Point</span></li><li><details><summary>coordinates: [-55.5131, -1.9192]</summary><ul><li><span class='ee-k'>0:</span><span class='ee-v'>-55.5131</span></li><li><span class='ee-k'>1:</span><span class='ee-v'>-1.9192</span></li></ul></details></li></ul></details></li><li><details><summary>properties: Object (12 properties)</summary><ul><li><span class='ee-k'>Data:</span><span class='ee-v'>2019-01-01</span></li><li><span class='ee-k'>EstacaoCodigo:</span><span class='ee-v'>17050001</span></li><li><span class='ee-k'>Maxima:</span><span class='ee-v'>529</span></li><li><span class='ee-k'>Media:</span><span class='ee-v'>473</span></li><li><span class='ee-k'>Minima:</span><span class='ee-v'>410</span></li><li><span class='ee-k'>fall:</span><span class='ee-v'>True</span></li><li><span class='ee-k'>latitude:</span><span class='ee-v'>-1.9192</span></li><li><span class='ee-k'>longitude:</span><span class='ee-v'>-55.5131</span></li><li><span class='ee-k'>rise:</span><span class='ee-v'>False</span></li><li><details><summary>system:time_start: Date (2019-01-01 00:00:00)</summary><ul><li><span class='ee-k'>type:</span><span class='ee-v'>Date</span></li><li><span class='ee-k'>value:</span><span class='ee-v'>1546300800000</span></li></ul></details></li><li><span class='ee-k'>water_period:</span><span class='ee-v'>F</span></li><li><span class='ee-k'>water_period3:</span><span class='ee-v'>T</span></li></ul></details></li></ul></details></li><li><details><summary>65: Feature (Point, 10 properties)</summary><ul><li><span class='ee-k'>type:</span><span class='ee-v'>Feature</span></li><li><span class='ee-k'>id:</span><span class='ee-v'>65</span></li><li><details><summary>geometry: Point (-55.51, -1.92)</summary><ul><li><span class='ee-k'>type:</span><span class='ee-v'>Point</span></li><li><details><summary>coordinates: [-55.5131, -1.9192]</summary><ul><li><span class='ee-k'>0:</span><span class='ee-v'>-55.5131</span></li><li><span class='ee-k'>1:</span><span class='ee-v'>-1.9192</span></li></ul></details></li></ul></details></li><li><details><summary>properties: Object (10 properties)</summary><ul><li><span class='ee-k'>Data:</span><span class='ee-v'>2018-12-01</span></li><li><span class='ee-k'>EstacaoCodigo:</span><span class='ee-v'>17050001</span></li><li><span class='ee-k'>Maxima:</span><span class='ee-v'>407</span></li><li><span class='ee-k'>Media:</span><span class='ee-v'>301</span></li><li><span class='ee-k'>Minima:</span><span class='ee-v'>170</span></li><li><span class='ee-k'>latitude:</span><span class='ee-v'>-1.9192</span></li><li><span class='ee-k'>longitude:</span><span class='ee-v'>-55.5131</span></li><li><details><summary>system:time_start: Date (2018-12-01 00:00:00)</summary><ul><li><span class='ee-k'>type:</span><span class='ee-v'>Date</span></li><li><span class='ee-k'>value:</span><span class='ee-v'>1543622400000</span></li></ul></details></li><li><span class='ee-k'>water_period:</span><span class='ee-v'>LW</span></li><li><span class='ee-k'>water_period3:</span><span class='ee-v'>LW</span></li></ul></details></li></ul></details></li><li><details><summary>66: Feature (Point, 10 properties)</summary><ul><li><span class='ee-k'>type:</span><span class='ee-v'>Feature</span></li><li><span class='ee-k'>id:</span><span class='ee-v'>66</span></li><li><details><summary>geometry: Point (-55.51, -1.92)</summary><ul><li><span class='ee-k'>type:</span><span class='ee-v'>Point</span></li><li><details><summary>coordinates: [-55.5131, -1.9192]</summary><ul><li><span class='ee-k'>0:</span><span class='ee-v'>-55.5131</span></li><li><span class='ee-k'>1:</span><span class='ee-v'>-1.9192</span></li></ul></details></li></ul></details></li><li><details><summary>properties: Object (10 properties)</summary><ul><li><span class='ee-k'>Data:</span><span class='ee-v'>2018-11-01</span></li><li><span class='ee-k'>EstacaoCodigo:</span><span class='ee-v'>17050001</span></li><li><span class='ee-k'>Maxima:</span><span class='ee-v'>162</span></li><li><span class='ee-k'>Media:</span><span class='ee-v'>112</span></li><li><span class='ee-k'>Minima:</span><span class='ee-v'>90</span></li><li><span class='ee-k'>latitude:</span><span class='ee-v'>-1.9192</span></li><li><span class='ee-k'>longitude:</span><span class='ee-v'>-55.5131</span></li><li><details><summary>system:time_start: Date (2018-11-01 00:00:00)</summary><ul><li><span class='ee-k'>type:</span><span class='ee-v'>Date</span></li><li><span class='ee-k'>value:</span><span class='ee-v'>1541030400000</span></li></ul></details></li><li><span class='ee-k'>water_period:</span><span class='ee-v'>LW</span></li><li><span class='ee-k'>water_period3:</span><span class='ee-v'>LW</span></li></ul></details></li></ul></details></li><li><details><summary>67: Feature (Point, 10 properties)</summary><ul><li><span class='ee-k'>type:</span><span class='ee-v'>Feature</span></li><li><span class='ee-k'>id:</span><span class='ee-v'>67</span></li><li><details><summary>geometry: Point (-55.51, -1.92)</summary><ul><li><span class='ee-k'>type:</span><span class='ee-v'>Point</span></li><li><details><summary>coordinates: [-55.5131, -1.9192]</summary><ul><li><span class='ee-k'>0:</span><span class='ee-v'>-55.5131</span></li><li><span class='ee-k'>1:</span><span class='ee-v'>-1.9192</span></li></ul></details></li></ul></details></li><li><details><summary>properties: Object (10 properties)</summary><ul><li><span class='ee-k'>Data:</span><span class='ee-v'>2018-10-01</span></li><li><span class='ee-k'>EstacaoCodigo:</span><span class='ee-v'>17050001</span></li><li><span class='ee-k'>Maxima:</span><span class='ee-v'>380</span></li><li><span class='ee-k'>Media:</span><span class='ee-v'>230</span></li><li><span class='ee-k'>Minima:</span><span class='ee-v'>105</span></li><li><span class='ee-k'>latitude:</span><span class='ee-v'>-1.9192</span></li><li><span class='ee-k'>longitude:</span><span class='ee-v'>-55.5131</span></li><li><details><summary>system:time_start: Date (2018-10-01 00:00:00)</summary><ul><li><span class='ee-k'>type:</span><span class='ee-v'>Date</span></li><li><span class='ee-k'>value:</span><span class='ee-v'>1538352000000</span></li></ul></details></li><li><span class='ee-k'>water_period:</span><span class='ee-v'>LW</span></li><li><span class='ee-k'>water_period3:</span><span class='ee-v'>LW</span></li></ul></details></li></ul></details></li><li><details><summary>68: Feature (Point, 12 properties)</summary><ul><li><span class='ee-k'>type:</span><span class='ee-v'>Feature</span></li><li><span class='ee-k'>id:</span><span class='ee-v'>68</span></li><li><details><summary>geometry: Point (-55.51, -1.92)</summary><ul><li><span class='ee-k'>type:</span><span class='ee-v'>Point</span></li><li><details><summary>coordinates: [-55.5131, -1.9192]</summary><ul><li><span class='ee-k'>0:</span><span class='ee-v'>-55.5131</span></li><li><span class='ee-k'>1:</span><span class='ee-v'>-1.9192</span></li></ul></details></li></ul></details></li><li><details><summary>properties: Object (12 properties)</summary><ul><li><span class='ee-k'>Data:</span><span class='ee-v'>2018-09-01</span></li><li><span class='ee-k'>EstacaoCodigo:</span><span class='ee-v'>17050001</span></li><li><span class='ee-k'>Maxima:</span><span class='ee-v'>548</span></li><li><span class='ee-k'>Media:</span><span class='ee-v'>475</span></li><li><span class='ee-k'>Minima:</span><span class='ee-v'>388</span></li><li><span class='ee-k'>fall:</span><span class='ee-v'>False</span></li><li><span class='ee-k'>latitude:</span><span class='ee-v'>-1.9192</span></li><li><span class='ee-k'>longitude:</span><span class='ee-v'>-55.5131</span></li><li><span class='ee-k'>rise:</span><span class='ee-v'>True</span></li><li><details><summary>system:time_start: Date (2018-09-01 00:00:00)</summary><ul><li><span class='ee-k'>type:</span><span class='ee-v'>Date</span></li><li><span class='ee-k'>value:</span><span class='ee-v'>1535760000000</span></li></ul></details></li><li><span class='ee-k'>water_period:</span><span class='ee-v'>R</span></li><li><span class='ee-k'>water_period3:</span><span class='ee-v'>T</span></li></ul></details></li></ul></details></li><li><details><summary>69: Feature (Point, 10 properties)</summary><ul><li><span class='ee-k'>type:</span><span class='ee-v'>Feature</span></li><li><span class='ee-k'>id:</span><span class='ee-v'>69</span></li><li><details><summary>geometry: Point (-55.51, -1.92)</summary><ul><li><span class='ee-k'>type:</span><span class='ee-v'>Point</span></li><li><details><summary>coordinates: [-55.5131, -1.9192]</summary><ul><li><span class='ee-k'>0:</span><span class='ee-v'>-55.5131</span></li><li><span class='ee-k'>1:</span><span class='ee-v'>-1.9192</span></li></ul></details></li></ul></details></li><li><details><summary>properties: Object (10 properties)</summary><ul><li><span class='ee-k'>Data:</span><span class='ee-v'>2018-08-01</span></li><li><span class='ee-k'>EstacaoCodigo:</span><span class='ee-v'>17050001</span></li><li><span class='ee-k'>Maxima:</span><span class='ee-v'>663</span></li><li><span class='ee-k'>Media:</span><span class='ee-v'>612</span></li><li><span class='ee-k'>Minima:</span><span class='ee-v'>553</span></li><li><span class='ee-k'>latitude:</span><span class='ee-v'>-1.9192</span></li><li><span class='ee-k'>longitude:</span><span class='ee-v'>-55.5131</span></li><li><details><summary>system:time_start: Date (2018-08-01 00:00:00)</summary><ul><li><span class='ee-k'>type:</span><span class='ee-v'>Date</span></li><li><span class='ee-k'>value:</span><span class='ee-v'>1533081600000</span></li></ul></details></li><li><span class='ee-k'>water_period:</span><span class='ee-v'>HW</span></li><li><span class='ee-k'>water_period3:</span><span class='ee-v'>HW</span></li></ul></details></li></ul></details></li><li><details><summary>70: Feature (Point, 10 properties)</summary><ul><li><span class='ee-k'>type:</span><span class='ee-v'>Feature</span></li><li><span class='ee-k'>id:</span><span class='ee-v'>70</span></li><li><details><summary>geometry: Point (-55.51, -1.92)</summary><ul><li><span class='ee-k'>type:</span><span class='ee-v'>Point</span></li><li><details><summary>coordinates: [-55.5131, -1.9192]</summary><ul><li><span class='ee-k'>0:</span><span class='ee-v'>-55.5131</span></li><li><span class='ee-k'>1:</span><span class='ee-v'>-1.9192</span></li></ul></details></li></ul></details></li><li><details><summary>properties: Object (10 properties)</summary><ul><li><span class='ee-k'>Data:</span><span class='ee-v'>2018-07-01</span></li><li><span class='ee-k'>EstacaoCodigo:</span><span class='ee-v'>17050001</span></li><li><span class='ee-k'>Maxima:</span><span class='ee-v'>714</span></li><li><span class='ee-k'>Media:</span><span class='ee-v'>692</span></li><li><span class='ee-k'>Minima:</span><span class='ee-v'>665</span></li><li><span class='ee-k'>latitude:</span><span class='ee-v'>-1.9192</span></li><li><span class='ee-k'>longitude:</span><span class='ee-v'>-55.5131</span></li><li><details><summary>system:time_start: Date (2018-07-01 00:00:00)</summary><ul><li><span class='ee-k'>type:</span><span class='ee-v'>Date</span></li><li><span class='ee-k'>value:</span><span class='ee-v'>1530403200000</span></li></ul></details></li><li><span class='ee-k'>water_period:</span><span class='ee-v'>HW</span></li><li><span class='ee-k'>water_period3:</span><span class='ee-v'>HW</span></li></ul></details></li></ul></details></li><li><details><summary>71: Feature (Point, 10 properties)</summary><ul><li><span class='ee-k'>type:</span><span class='ee-v'>Feature</span></li><li><span class='ee-k'>id:</span><span class='ee-v'>71</span></li><li><details><summary>geometry: Point (-55.51, -1.92)</summary><ul><li><span class='ee-k'>type:</span><span class='ee-v'>Point</span></li><li><details><summary>coordinates: [-55.5131, -1.9192]</summary><ul><li><span class='ee-k'>0:</span><span class='ee-v'>-55.5131</span></li><li><span class='ee-k'>1:</span><span class='ee-v'>-1.9192</span></li></ul></details></li></ul></details></li><li><details><summary>properties: Object (10 properties)</summary><ul><li><span class='ee-k'>Data:</span><span class='ee-v'>2018-06-01</span></li><li><span class='ee-k'>EstacaoCodigo:</span><span class='ee-v'>17050001</span></li><li><span class='ee-k'>Maxima:</span><span class='ee-v'>732</span></li><li><span class='ee-k'>Media:</span><span class='ee-v'>727</span></li><li><span class='ee-k'>Minima:</span><span class='ee-v'>716</span></li><li><span class='ee-k'>latitude:</span><span class='ee-v'>-1.9192</span></li><li><span class='ee-k'>longitude:</span><span class='ee-v'>-55.5131</span></li><li><details><summary>system:time_start: Date (2018-06-01 00:00:00)</summary><ul><li><span class='ee-k'>type:</span><span class='ee-v'>Date</span></li><li><span class='ee-k'>value:</span><span class='ee-v'>1527811200000</span></li></ul></details></li><li><span class='ee-k'>water_period:</span><span class='ee-v'>HW</span></li><li><span class='ee-k'>water_period3:</span><span class='ee-v'>HW</span></li></ul></details></li></ul></details></li><li><details><summary>72: Feature (Point, 10 properties)</summary><ul><li><span class='ee-k'>type:</span><span class='ee-v'>Feature</span></li><li><span class='ee-k'>id:</span><span class='ee-v'>72</span></li><li><details><summary>geometry: Point (-55.51, -1.92)</summary><ul><li><span class='ee-k'>type:</span><span class='ee-v'>Point</span></li><li><details><summary>coordinates: [-55.5131, -1.9192]</summary><ul><li><span class='ee-k'>0:</span><span class='ee-v'>-55.5131</span></li><li><span class='ee-k'>1:</span><span class='ee-v'>-1.9192</span></li></ul></details></li></ul></details></li><li><details><summary>properties: Object (10 properties)</summary><ul><li><span class='ee-k'>Data:</span><span class='ee-v'>2018-05-01</span></li><li><span class='ee-k'>EstacaoCodigo:</span><span class='ee-v'>17050001</span></li><li><span class='ee-k'>Maxima:</span><span class='ee-v'>730</span></li><li><span class='ee-k'>Media:</span><span class='ee-v'>711</span></li><li><span class='ee-k'>Minima:</span><span class='ee-v'>687</span></li><li><span class='ee-k'>latitude:</span><span class='ee-v'>-1.9192</span></li><li><span class='ee-k'>longitude:</span><span class='ee-v'>-55.5131</span></li><li><details><summary>system:time_start: Date (2018-05-01 00:00:00)</summary><ul><li><span class='ee-k'>type:</span><span class='ee-v'>Date</span></li><li><span class='ee-k'>value:</span><span class='ee-v'>1525132800000</span></li></ul></details></li><li><span class='ee-k'>water_period:</span><span class='ee-v'>HW</span></li><li><span class='ee-k'>water_period3:</span><span class='ee-v'>HW</span></li></ul></details></li></ul></details></li><li><details><summary>73: Feature (Point, 10 properties)</summary><ul><li><span class='ee-k'>type:</span><span class='ee-v'>Feature</span></li><li><span class='ee-k'>id:</span><span class='ee-v'>73</span></li><li><details><summary>geometry: Point (-55.51, -1.92)</summary><ul><li><span class='ee-k'>type:</span><span class='ee-v'>Point</span></li><li><details><summary>coordinates: [-55.5131, -1.9192]</summary><ul><li><span class='ee-k'>0:</span><span class='ee-v'>-55.5131</span></li><li><span class='ee-k'>1:</span><span class='ee-v'>-1.9192</span></li></ul></details></li></ul></details></li><li><details><summary>properties: Object (10 properties)</summary><ul><li><span class='ee-k'>Data:</span><span class='ee-v'>2018-04-01</span></li><li><span class='ee-k'>EstacaoCodigo:</span><span class='ee-v'>17050001</span></li><li><span class='ee-k'>Maxima:</span><span class='ee-v'>685</span></li><li><span class='ee-k'>Media:</span><span class='ee-v'>646</span></li><li><span class='ee-k'>Minima:</span><span class='ee-v'>603</span></li><li><span class='ee-k'>latitude:</span><span class='ee-v'>-1.9192</span></li><li><span class='ee-k'>longitude:</span><span class='ee-v'>-55.5131</span></li><li><details><summary>system:time_start: Date (2018-04-01 00:00:00)</summary><ul><li><span class='ee-k'>type:</span><span class='ee-v'>Date</span></li><li><span class='ee-k'>value:</span><span class='ee-v'>1522540800000</span></li></ul></details></li><li><span class='ee-k'>water_period:</span><span class='ee-v'>HW</span></li><li><span class='ee-k'>water_period3:</span><span class='ee-v'>HW</span></li></ul></details></li></ul></details></li><li><details><summary>74: Feature (Point, 10 properties)</summary><ul><li><span class='ee-k'>type:</span><span class='ee-v'>Feature</span></li><li><span class='ee-k'>id:</span><span class='ee-v'>74</span></li><li><details><summary>geometry: Point (-55.51, -1.92)</summary><ul><li><span class='ee-k'>type:</span><span class='ee-v'>Point</span></li><li><details><summary>coordinates: [-55.5131, -1.9192]</summary><ul><li><span class='ee-k'>0:</span><span class='ee-v'>-55.5131</span></li><li><span class='ee-k'>1:</span><span class='ee-v'>-1.9192</span></li></ul></details></li></ul></details></li><li><details><summary>properties: Object (10 properties)</summary><ul><li><span class='ee-k'>Data:</span><span class='ee-v'>2018-03-01</span></li><li><span class='ee-k'>EstacaoCodigo:</span><span class='ee-v'>17050001</span></li><li><span class='ee-k'>Maxima:</span><span class='ee-v'>600</span></li><li><span class='ee-k'>Media:</span><span class='ee-v'>588</span></li><li><span class='ee-k'>Minima:</span><span class='ee-v'>564</span></li><li><span class='ee-k'>latitude:</span><span class='ee-v'>-1.9192</span></li><li><span class='ee-k'>longitude:</span><span class='ee-v'>-55.5131</span></li><li><details><summary>system:time_start: Date (2018-03-01 00:00:00)</summary><ul><li><span class='ee-k'>type:</span><span class='ee-v'>Date</span></li><li><span class='ee-k'>value:</span><span class='ee-v'>1519862400000</span></li></ul></details></li><li><span class='ee-k'>water_period:</span><span class='ee-v'>HW</span></li><li><span class='ee-k'>water_period3:</span><span class='ee-v'>HW</span></li></ul></details></li></ul></details></li><li><details><summary>75: Feature (Point, 12 properties)</summary><ul><li><span class='ee-k'>type:</span><span class='ee-v'>Feature</span></li><li><span class='ee-k'>id:</span><span class='ee-v'>75</span></li><li><details><summary>geometry: Point (-55.51, -1.92)</summary><ul><li><span class='ee-k'>type:</span><span class='ee-v'>Point</span></li><li><details><summary>coordinates: [-55.5131, -1.9192]</summary><ul><li><span class='ee-k'>0:</span><span class='ee-v'>-55.5131</span></li><li><span class='ee-k'>1:</span><span class='ee-v'>-1.9192</span></li></ul></details></li></ul></details></li><li><details><summary>properties: Object (12 properties)</summary><ul><li><span class='ee-k'>Data:</span><span class='ee-v'>2018-02-01</span></li><li><span class='ee-k'>EstacaoCodigo:</span><span class='ee-v'>17050001</span></li><li><span class='ee-k'>Maxima:</span><span class='ee-v'>561</span></li><li><span class='ee-k'>Media:</span><span class='ee-v'>493</span></li><li><span class='ee-k'>Minima:</span><span class='ee-v'>422</span></li><li><span class='ee-k'>fall:</span><span class='ee-v'>True</span></li><li><span class='ee-k'>latitude:</span><span class='ee-v'>-1.9192</span></li><li><span class='ee-k'>longitude:</span><span class='ee-v'>-55.5131</span></li><li><span class='ee-k'>rise:</span><span class='ee-v'>False</span></li><li><details><summary>system:time_start: Date (2018-02-01 00:00:00)</summary><ul><li><span class='ee-k'>type:</span><span class='ee-v'>Date</span></li><li><span class='ee-k'>value:</span><span class='ee-v'>1517443200000</span></li></ul></details></li><li><span class='ee-k'>water_period:</span><span class='ee-v'>F</span></li><li><span class='ee-k'>water_period3:</span><span class='ee-v'>T</span></li></ul></details></li></ul></details></li><li><details><summary>76: Feature (Point, 12 properties)</summary><ul><li><span class='ee-k'>type:</span><span class='ee-v'>Feature</span></li><li><span class='ee-k'>id:</span><span class='ee-v'>76</span></li><li><details><summary>geometry: Point (-55.51, -1.92)</summary><ul><li><span class='ee-k'>type:</span><span class='ee-v'>Point</span></li><li><details><summary>coordinates: [-55.5131, -1.9192]</summary><ul><li><span class='ee-k'>0:</span><span class='ee-v'>-55.5131</span></li><li><span class='ee-k'>1:</span><span class='ee-v'>-1.9192</span></li></ul></details></li></ul></details></li><li><details><summary>properties: Object (12 properties)</summary><ul><li><span class='ee-k'>Data:</span><span class='ee-v'>2018-01-01</span></li><li><span class='ee-k'>EstacaoCodigo:</span><span class='ee-v'>17050001</span></li><li><span class='ee-k'>Maxima:</span><span class='ee-v'>417</span></li><li><span class='ee-k'>Media:</span><span class='ee-v'>354</span></li><li><span class='ee-k'>Minima:</span><span class='ee-v'>279</span></li><li><span class='ee-k'>fall:</span><span class='ee-v'>True</span></li><li><span class='ee-k'>latitude:</span><span class='ee-v'>-1.9192</span></li><li><span class='ee-k'>longitude:</span><span class='ee-v'>-55.5131</span></li><li><span class='ee-k'>rise:</span><span class='ee-v'>False</span></li><li><details><summary>system:time_start: Date (2018-01-01 00:00:00)</summary><ul><li><span class='ee-k'>type:</span><span class='ee-v'>Date</span></li><li><span class='ee-k'>value:</span><span class='ee-v'>1514764800000</span></li></ul></details></li><li><span class='ee-k'>water_period:</span><span class='ee-v'>F</span></li><li><span class='ee-k'>water_period3:</span><span class='ee-v'>T</span></li></ul></details></li></ul></details></li><li><details><summary>77: Feature (Point, 10 properties)</summary><ul><li><span class='ee-k'>type:</span><span class='ee-v'>Feature</span></li><li><span class='ee-k'>id:</span><span class='ee-v'>77</span></li><li><details><summary>geometry: Point (-55.51, -1.92)</summary><ul><li><span class='ee-k'>type:</span><span class='ee-v'>Point</span></li><li><details><summary>coordinates: [-55.5131, -1.9192]</summary><ul><li><span class='ee-k'>0:</span><span class='ee-v'>-55.5131</span></li><li><span class='ee-k'>1:</span><span class='ee-v'>-1.9192</span></li></ul></details></li></ul></details></li><li><details><summary>properties: Object (10 properties)</summary><ul><li><span class='ee-k'>Data:</span><span class='ee-v'>2017-12-01</span></li><li><span class='ee-k'>EstacaoCodigo:</span><span class='ee-v'>17050001</span></li><li><span class='ee-k'>Maxima:</span><span class='ee-v'>272</span></li><li><span class='ee-k'>Media:</span><span class='ee-v'>224</span></li><li><span class='ee-k'>Minima:</span><span class='ee-v'>184</span></li><li><span class='ee-k'>latitude:</span><span class='ee-v'>-1.9192</span></li><li><span class='ee-k'>longitude:</span><span class='ee-v'>-55.5131</span></li><li><details><summary>system:time_start: Date (2017-12-01 00:00:00)</summary><ul><li><span class='ee-k'>type:</span><span class='ee-v'>Date</span></li><li><span class='ee-k'>value:</span><span class='ee-v'>1512086400000</span></li></ul></details></li><li><span class='ee-k'>water_period:</span><span class='ee-v'>LW</span></li><li><span class='ee-k'>water_period3:</span><span class='ee-v'>LW</span></li></ul></details></li></ul></details></li><li><details><summary>78: Feature (Point, 10 properties)</summary><ul><li><span class='ee-k'>type:</span><span class='ee-v'>Feature</span></li><li><span class='ee-k'>id:</span><span class='ee-v'>78</span></li><li><details><summary>geometry: Point (-55.51, -1.92)</summary><ul><li><span class='ee-k'>type:</span><span class='ee-v'>Point</span></li><li><details><summary>coordinates: [-55.5131, -1.9192]</summary><ul><li><span class='ee-k'>0:</span><span class='ee-v'>-55.5131</span></li><li><span class='ee-k'>1:</span><span class='ee-v'>-1.9192</span></li></ul></details></li></ul></details></li><li><details><summary>properties: Object (10 properties)</summary><ul><li><span class='ee-k'>Data:</span><span class='ee-v'>2017-11-01</span></li><li><span class='ee-k'>EstacaoCodigo:</span><span class='ee-v'>17050001</span></li><li><span class='ee-k'>Maxima:</span><span class='ee-v'>179</span></li><li><span class='ee-k'>Media:</span><span class='ee-v'>143</span></li><li><span class='ee-k'>Minima:</span><span class='ee-v'>95</span></li><li><span class='ee-k'>latitude:</span><span class='ee-v'>-1.9192</span></li><li><span class='ee-k'>longitude:</span><span class='ee-v'>-55.5131</span></li><li><details><summary>system:time_start: Date (2017-11-01 00:00:00)</summary><ul><li><span class='ee-k'>type:</span><span class='ee-v'>Date</span></li><li><span class='ee-k'>value:</span><span class='ee-v'>1509494400000</span></li></ul></details></li><li><span class='ee-k'>water_period:</span><span class='ee-v'>LW</span></li><li><span class='ee-k'>water_period3:</span><span class='ee-v'>LW</span></li></ul></details></li></ul></details></li><li><details><summary>79: Feature (Point, 10 properties)</summary><ul><li><span class='ee-k'>type:</span><span class='ee-v'>Feature</span></li><li><span class='ee-k'>id:</span><span class='ee-v'>79</span></li><li><details><summary>geometry: Point (-55.51, -1.92)</summary><ul><li><span class='ee-k'>type:</span><span class='ee-v'>Point</span></li><li><details><summary>coordinates: [-55.5131, -1.9192]</summary><ul><li><span class='ee-k'>0:</span><span class='ee-v'>-55.5131</span></li><li><span class='ee-k'>1:</span><span class='ee-v'>-1.9192</span></li></ul></details></li></ul></details></li><li><details><summary>properties: Object (10 properties)</summary><ul><li><span class='ee-k'>Data:</span><span class='ee-v'>2017-10-01</span></li><li><span class='ee-k'>EstacaoCodigo:</span><span class='ee-v'>17050001</span></li><li><span class='ee-k'>Maxima:</span><span class='ee-v'>140</span></li><li><span class='ee-k'>Media:</span><span class='ee-v'>117</span></li><li><span class='ee-k'>Minima:</span><span class='ee-v'>97</span></li><li><span class='ee-k'>latitude:</span><span class='ee-v'>-1.9192</span></li><li><span class='ee-k'>longitude:</span><span class='ee-v'>-55.5131</span></li><li><details><summary>system:time_start: Date (2017-10-01 00:00:00)</summary><ul><li><span class='ee-k'>type:</span><span class='ee-v'>Date</span></li><li><span class='ee-k'>value:</span><span class='ee-v'>1506816000000</span></li></ul></details></li><li><span class='ee-k'>water_period:</span><span class='ee-v'>LW</span></li><li><span class='ee-k'>water_period3:</span><span class='ee-v'>LW</span></li></ul></details></li></ul></details></li><li><details><summary>80: Feature (Point, 10 properties)</summary><ul><li><span class='ee-k'>type:</span><span class='ee-v'>Feature</span></li><li><span class='ee-k'>id:</span><span class='ee-v'>80</span></li><li><details><summary>geometry: Point (-55.51, -1.92)</summary><ul><li><span class='ee-k'>type:</span><span class='ee-v'>Point</span></li><li><details><summary>coordinates: [-55.5131, -1.9192]</summary><ul><li><span class='ee-k'>0:</span><span class='ee-v'>-55.5131</span></li><li><span class='ee-k'>1:</span><span class='ee-v'>-1.9192</span></li></ul></details></li></ul></details></li><li><details><summary>properties: Object (10 properties)</summary><ul><li><span class='ee-k'>Data:</span><span class='ee-v'>2017-09-01</span></li><li><span class='ee-k'>EstacaoCodigo:</span><span class='ee-v'>17050001</span></li><li><span class='ee-k'>Maxima:</span><span class='ee-v'>466</span></li><li><span class='ee-k'>Media:</span><span class='ee-v'>309</span></li><li><span class='ee-k'>Minima:</span><span class='ee-v'>152</span></li><li><span class='ee-k'>latitude:</span><span class='ee-v'>-1.9192</span></li><li><span class='ee-k'>longitude:</span><span class='ee-v'>-55.5131</span></li><li><details><summary>system:time_start: Date (2017-09-01 00:00:00)</summary><ul><li><span class='ee-k'>type:</span><span class='ee-v'>Date</span></li><li><span class='ee-k'>value:</span><span class='ee-v'>1504224000000</span></li></ul></details></li><li><span class='ee-k'>water_period:</span><span class='ee-v'>LW</span></li><li><span class='ee-k'>water_period3:</span><span class='ee-v'>LW</span></li></ul></details></li></ul></details></li><li><details><summary>81: Feature (Point, 10 properties)</summary><ul><li><span class='ee-k'>type:</span><span class='ee-v'>Feature</span></li><li><span class='ee-k'>id:</span><span class='ee-v'>81</span></li><li><details><summary>geometry: Point (-55.51, -1.92)</summary><ul><li><span class='ee-k'>type:</span><span class='ee-v'>Point</span></li><li><details><summary>coordinates: [-55.5131, -1.9192]</summary><ul><li><span class='ee-k'>0:</span><span class='ee-v'>-55.5131</span></li><li><span class='ee-k'>1:</span><span class='ee-v'>-1.9192</span></li></ul></details></li></ul></details></li><li><details><summary>properties: Object (10 properties)</summary><ul><li><span class='ee-k'>Data:</span><span class='ee-v'>2017-08-01</span></li><li><span class='ee-k'>EstacaoCodigo:</span><span class='ee-v'>17050001</span></li><li><span class='ee-k'>Maxima:</span><span class='ee-v'>647</span></li><li><span class='ee-k'>Media:</span><span class='ee-v'>574</span></li><li><span class='ee-k'>Minima:</span><span class='ee-v'>475</span></li><li><span class='ee-k'>latitude:</span><span class='ee-v'>-1.9192</span></li><li><span class='ee-k'>longitude:</span><span class='ee-v'>-55.5131</span></li><li><details><summary>system:time_start: Date (2017-08-01 00:00:00)</summary><ul><li><span class='ee-k'>type:</span><span class='ee-v'>Date</span></li><li><span class='ee-k'>value:</span><span class='ee-v'>1501545600000</span></li></ul></details></li><li><span class='ee-k'>water_period:</span><span class='ee-v'>HW</span></li><li><span class='ee-k'>water_period3:</span><span class='ee-v'>HW</span></li></ul></details></li></ul></details></li><li><details><summary>82: Feature (Point, 10 properties)</summary><ul><li><span class='ee-k'>type:</span><span class='ee-v'>Feature</span></li><li><span class='ee-k'>id:</span><span class='ee-v'>82</span></li><li><details><summary>geometry: Point (-55.51, -1.92)</summary><ul><li><span class='ee-k'>type:</span><span class='ee-v'>Point</span></li><li><details><summary>coordinates: [-55.5131, -1.9192]</summary><ul><li><span class='ee-k'>0:</span><span class='ee-v'>-55.5131</span></li><li><span class='ee-k'>1:</span><span class='ee-v'>-1.9192</span></li></ul></details></li></ul></details></li><li><details><summary>properties: Object (10 properties)</summary><ul><li><span class='ee-k'>Data:</span><span class='ee-v'>2017-07-01</span></li><li><span class='ee-k'>EstacaoCodigo:</span><span class='ee-v'>17050001</span></li><li><span class='ee-k'>Maxima:</span><span class='ee-v'>727</span></li><li><span class='ee-k'>Media:</span><span class='ee-v'>691</span></li><li><span class='ee-k'>Minima:</span><span class='ee-v'>651</span></li><li><span class='ee-k'>latitude:</span><span class='ee-v'>-1.9192</span></li><li><span class='ee-k'>longitude:</span><span class='ee-v'>-55.5131</span></li><li><details><summary>system:time_start: Date (2017-07-01 00:00:00)</summary><ul><li><span class='ee-k'>type:</span><span class='ee-v'>Date</span></li><li><span class='ee-k'>value:</span><span class='ee-v'>1498867200000</span></li></ul></details></li><li><span class='ee-k'>water_period:</span><span class='ee-v'>HW</span></li><li><span class='ee-k'>water_period3:</span><span class='ee-v'>HW</span></li></ul></details></li></ul></details></li><li><details><summary>83: Feature (Point, 10 properties)</summary><ul><li><span class='ee-k'>type:</span><span class='ee-v'>Feature</span></li><li><span class='ee-k'>id:</span><span class='ee-v'>83</span></li><li><details><summary>geometry: Point (-55.51, -1.92)</summary><ul><li><span class='ee-k'>type:</span><span class='ee-v'>Point</span></li><li><details><summary>coordinates: [-55.5131, -1.9192]</summary><ul><li><span class='ee-k'>0:</span><span class='ee-v'>-55.5131</span></li><li><span class='ee-k'>1:</span><span class='ee-v'>-1.9192</span></li></ul></details></li></ul></details></li><li><details><summary>properties: Object (10 properties)</summary><ul><li><span class='ee-k'>Data:</span><span class='ee-v'>2017-06-01</span></li><li><span class='ee-k'>EstacaoCodigo:</span><span class='ee-v'>17050001</span></li><li><span class='ee-k'>Maxima:</span><span class='ee-v'>774</span></li><li><span class='ee-k'>Media:</span><span class='ee-v'>752</span></li><li><span class='ee-k'>Minima:</span><span class='ee-v'>730</span></li><li><span class='ee-k'>latitude:</span><span class='ee-v'>-1.9192</span></li><li><span class='ee-k'>longitude:</span><span class='ee-v'>-55.5131</span></li><li><details><summary>system:time_start: Date (2017-06-01 00:00:00)</summary><ul><li><span class='ee-k'>type:</span><span class='ee-v'>Date</span></li><li><span class='ee-k'>value:</span><span class='ee-v'>1496275200000</span></li></ul></details></li><li><span class='ee-k'>water_period:</span><span class='ee-v'>HW</span></li><li><span class='ee-k'>water_period3:</span><span class='ee-v'>HW</span></li></ul></details></li></ul></details></li><li><details><summary>84: Feature (Point, 10 properties)</summary><ul><li><span class='ee-k'>type:</span><span class='ee-v'>Feature</span></li><li><span class='ee-k'>id:</span><span class='ee-v'>84</span></li><li><details><summary>geometry: Point (-55.51, -1.92)</summary><ul><li><span class='ee-k'>type:</span><span class='ee-v'>Point</span></li><li><details><summary>coordinates: [-55.5131, -1.9192]</summary><ul><li><span class='ee-k'>0:</span><span class='ee-v'>-55.5131</span></li><li><span class='ee-k'>1:</span><span class='ee-v'>-1.9192</span></li></ul></details></li></ul></details></li><li><details><summary>properties: Object (10 properties)</summary><ul><li><span class='ee-k'>Data:</span><span class='ee-v'>2017-05-01</span></li><li><span class='ee-k'>EstacaoCodigo:</span><span class='ee-v'>17050001</span></li><li><span class='ee-k'>Maxima:</span><span class='ee-v'>796</span></li><li><span class='ee-k'>Media:</span><span class='ee-v'>787</span></li><li><span class='ee-k'>Minima:</span><span class='ee-v'>774</span></li><li><span class='ee-k'>latitude:</span><span class='ee-v'>-1.9192</span></li><li><span class='ee-k'>longitude:</span><span class='ee-v'>-55.5131</span></li><li><details><summary>system:time_start: Date (2017-05-01 00:00:00)</summary><ul><li><span class='ee-k'>type:</span><span class='ee-v'>Date</span></li><li><span class='ee-k'>value:</span><span class='ee-v'>1493596800000</span></li></ul></details></li><li><span class='ee-k'>water_period:</span><span class='ee-v'>HW</span></li><li><span class='ee-k'>water_period3:</span><span class='ee-v'>HW</span></li></ul></details></li></ul></details></li><li><details><summary>85: Feature (Point, 10 properties)</summary><ul><li><span class='ee-k'>type:</span><span class='ee-v'>Feature</span></li><li><span class='ee-k'>id:</span><span class='ee-v'>85</span></li><li><details><summary>geometry: Point (-55.51, -1.92)</summary><ul><li><span class='ee-k'>type:</span><span class='ee-v'>Point</span></li><li><details><summary>coordinates: [-55.5131, -1.9192]</summary><ul><li><span class='ee-k'>0:</span><span class='ee-v'>-55.5131</span></li><li><span class='ee-k'>1:</span><span class='ee-v'>-1.9192</span></li></ul></details></li></ul></details></li><li><details><summary>properties: Object (10 properties)</summary><ul><li><span class='ee-k'>Data:</span><span class='ee-v'>2017-04-01</span></li><li><span class='ee-k'>EstacaoCodigo:</span><span class='ee-v'>17050001</span></li><li><span class='ee-k'>Maxima:</span><span class='ee-v'>784</span></li><li><span class='ee-k'>Media:</span><span class='ee-v'>758</span></li><li><span class='ee-k'>Minima:</span><span class='ee-v'>729</span></li><li><span class='ee-k'>latitude:</span><span class='ee-v'>-1.9192</span></li><li><span class='ee-k'>longitude:</span><span class='ee-v'>-55.5131</span></li><li><details><summary>system:time_start: Date (2017-04-01 00:00:00)</summary><ul><li><span class='ee-k'>type:</span><span class='ee-v'>Date</span></li><li><span class='ee-k'>value:</span><span class='ee-v'>1491004800000</span></li></ul></details></li><li><span class='ee-k'>water_period:</span><span class='ee-v'>HW</span></li><li><span class='ee-k'>water_period3:</span><span class='ee-v'>HW</span></li></ul></details></li></ul></details></li><li><details><summary>86: Feature (Point, 10 properties)</summary><ul><li><span class='ee-k'>type:</span><span class='ee-v'>Feature</span></li><li><span class='ee-k'>id:</span><span class='ee-v'>86</span></li><li><details><summary>geometry: Point (-55.51, -1.92)</summary><ul><li><span class='ee-k'>type:</span><span class='ee-v'>Point</span></li><li><details><summary>coordinates: [-55.5131, -1.9192]</summary><ul><li><span class='ee-k'>0:</span><span class='ee-v'>-55.5131</span></li><li><span class='ee-k'>1:</span><span class='ee-v'>-1.9192</span></li></ul></details></li></ul></details></li><li><details><summary>properties: Object (10 properties)</summary><ul><li><span class='ee-k'>Data:</span><span class='ee-v'>2017-03-01</span></li><li><span class='ee-k'>EstacaoCodigo:</span><span class='ee-v'>17050001</span></li><li><span class='ee-k'>Maxima:</span><span class='ee-v'>725</span></li><li><span class='ee-k'>Media:</span><span class='ee-v'>677</span></li><li><span class='ee-k'>Minima:</span><span class='ee-v'>616</span></li><li><span class='ee-k'>latitude:</span><span class='ee-v'>-1.9192</span></li><li><span class='ee-k'>longitude:</span><span class='ee-v'>-55.5131</span></li><li><details><summary>system:time_start: Date (2017-03-01 00:00:00)</summary><ul><li><span class='ee-k'>type:</span><span class='ee-v'>Date</span></li><li><span class='ee-k'>value:</span><span class='ee-v'>1488326400000</span></li></ul></details></li><li><span class='ee-k'>water_period:</span><span class='ee-v'>HW</span></li><li><span class='ee-k'>water_period3:</span><span class='ee-v'>HW</span></li></ul></details></li></ul></details></li><li><details><summary>87: Feature (Point, 12 properties)</summary><ul><li><span class='ee-k'>type:</span><span class='ee-v'>Feature</span></li><li><span class='ee-k'>id:</span><span class='ee-v'>87</span></li><li><details><summary>geometry: Point (-55.51, -1.92)</summary><ul><li><span class='ee-k'>type:</span><span class='ee-v'>Point</span></li><li><details><summary>coordinates: [-55.5131, -1.9192]</summary><ul><li><span class='ee-k'>0:</span><span class='ee-v'>-55.5131</span></li><li><span class='ee-k'>1:</span><span class='ee-v'>-1.9192</span></li></ul></details></li></ul></details></li><li><details><summary>properties: Object (12 properties)</summary><ul><li><span class='ee-k'>Data:</span><span class='ee-v'>2017-02-01</span></li><li><span class='ee-k'>EstacaoCodigo:</span><span class='ee-v'>17050001</span></li><li><span class='ee-k'>Maxima:</span><span class='ee-v'>612</span></li><li><span class='ee-k'>Media:</span><span class='ee-v'>546</span></li><li><span class='ee-k'>Minima:</span><span class='ee-v'>468</span></li><li><span class='ee-k'>fall:</span><span class='ee-v'>True</span></li><li><span class='ee-k'>latitude:</span><span class='ee-v'>-1.9192</span></li><li><span class='ee-k'>longitude:</span><span class='ee-v'>-55.5131</span></li><li><span class='ee-k'>rise:</span><span class='ee-v'>False</span></li><li><details><summary>system:time_start: Date (2017-02-01 00:00:00)</summary><ul><li><span class='ee-k'>type:</span><span class='ee-v'>Date</span></li><li><span class='ee-k'>value:</span><span class='ee-v'>1485907200000</span></li></ul></details></li><li><span class='ee-k'>water_period:</span><span class='ee-v'>F</span></li><li><span class='ee-k'>water_period3:</span><span class='ee-v'>T</span></li></ul></details></li></ul></details></li><li><details><summary>88: Feature (Point, 12 properties)</summary><ul><li><span class='ee-k'>type:</span><span class='ee-v'>Feature</span></li><li><span class='ee-k'>id:</span><span class='ee-v'>88</span></li><li><details><summary>geometry: Point (-55.51, -1.92)</summary><ul><li><span class='ee-k'>type:</span><span class='ee-v'>Point</span></li><li><details><summary>coordinates: [-55.5131, -1.9192]</summary><ul><li><span class='ee-k'>0:</span><span class='ee-v'>-55.5131</span></li><li><span class='ee-k'>1:</span><span class='ee-v'>-1.9192</span></li></ul></details></li></ul></details></li><li><details><summary>properties: Object (12 properties)</summary><ul><li><span class='ee-k'>Data:</span><span class='ee-v'>2017-01-01</span></li><li><span class='ee-k'>EstacaoCodigo:</span><span class='ee-v'>17050001</span></li><li><span class='ee-k'>Maxima:</span><span class='ee-v'>461</span></li><li><span class='ee-k'>Media:</span><span class='ee-v'>350</span></li><li><span class='ee-k'>Minima:</span><span class='ee-v'>233</span></li><li><span class='ee-k'>fall:</span><span class='ee-v'>True</span></li><li><span class='ee-k'>latitude:</span><span class='ee-v'>-1.9192</span></li><li><span class='ee-k'>longitude:</span><span class='ee-v'>-55.5131</span></li><li><span class='ee-k'>rise:</span><span class='ee-v'>False</span></li><li><details><summary>system:time_start: Date (2017-01-01 00:00:00)</summary><ul><li><span class='ee-k'>type:</span><span class='ee-v'>Date</span></li><li><span class='ee-k'>value:</span><span class='ee-v'>1483228800000</span></li></ul></details></li><li><span class='ee-k'>water_period:</span><span class='ee-v'>F</span></li><li><span class='ee-k'>water_period3:</span><span class='ee-v'>T</span></li></ul></details></li></ul></details></li><li><details><summary>89: Feature (Point, 10 properties)</summary><ul><li><span class='ee-k'>type:</span><span class='ee-v'>Feature</span></li><li><span class='ee-k'>id:</span><span class='ee-v'>89</span></li><li><details><summary>geometry: Point (-55.51, -1.92)</summary><ul><li><span class='ee-k'>type:</span><span class='ee-v'>Point</span></li><li><details><summary>coordinates: [-55.5131, -1.9192]</summary><ul><li><span class='ee-k'>0:</span><span class='ee-v'>-55.5131</span></li><li><span class='ee-k'>1:</span><span class='ee-v'>-1.9192</span></li></ul></details></li></ul></details></li><li><details><summary>properties: Object (10 properties)</summary><ul><li><span class='ee-k'>Data:</span><span class='ee-v'>2016-12-01</span></li><li><span class='ee-k'>EstacaoCodigo:</span><span class='ee-v'>17050001</span></li><li><span class='ee-k'>Maxima:</span><span class='ee-v'>219</span></li><li><span class='ee-k'>Media:</span><span class='ee-v'>136</span></li><li><span class='ee-k'>Minima:</span><span class='ee-v'>106</span></li><li><span class='ee-k'>latitude:</span><span class='ee-v'>-1.9192</span></li><li><span class='ee-k'>longitude:</span><span class='ee-v'>-55.5131</span></li><li><details><summary>system:time_start: Date (2016-12-01 00:00:00)</summary><ul><li><span class='ee-k'>type:</span><span class='ee-v'>Date</span></li><li><span class='ee-k'>value:</span><span class='ee-v'>1480550400000</span></li></ul></details></li><li><span class='ee-k'>water_period:</span><span class='ee-v'>LW</span></li><li><span class='ee-k'>water_period3:</span><span class='ee-v'>LW</span></li></ul></details></li></ul></details></li><li><details><summary>90: Feature (Point, 10 properties)</summary><ul><li><span class='ee-k'>type:</span><span class='ee-v'>Feature</span></li><li><span class='ee-k'>id:</span><span class='ee-v'>90</span></li><li><details><summary>geometry: Point (-55.51, -1.92)</summary><ul><li><span class='ee-k'>type:</span><span class='ee-v'>Point</span></li><li><details><summary>coordinates: [-55.5131, -1.9192]</summary><ul><li><span class='ee-k'>0:</span><span class='ee-v'>-55.5131</span></li><li><span class='ee-k'>1:</span><span class='ee-v'>-1.9192</span></li></ul></details></li></ul></details></li><li><details><summary>properties: Object (10 properties)</summary><ul><li><span class='ee-k'>Data:</span><span class='ee-v'>2016-11-01</span></li><li><span class='ee-k'>EstacaoCodigo:</span><span class='ee-v'>17050001</span></li><li><span class='ee-k'>Maxima:</span><span class='ee-v'>146</span></li><li><span class='ee-k'>Media:</span><span class='ee-v'>130</span></li><li><span class='ee-k'>Minima:</span><span class='ee-v'>123</span></li><li><span class='ee-k'>latitude:</span><span class='ee-v'>-1.9192</span></li><li><span class='ee-k'>longitude:</span><span class='ee-v'>-55.5131</span></li><li><details><summary>system:time_start: Date (2016-11-01 00:00:00)</summary><ul><li><span class='ee-k'>type:</span><span class='ee-v'>Date</span></li><li><span class='ee-k'>value:</span><span class='ee-v'>1477958400000</span></li></ul></details></li><li><span class='ee-k'>water_period:</span><span class='ee-v'>LW</span></li><li><span class='ee-k'>water_period3:</span><span class='ee-v'>LW</span></li></ul></details></li></ul></details></li><li><details><summary>91: Feature (Point, 10 properties)</summary><ul><li><span class='ee-k'>type:</span><span class='ee-v'>Feature</span></li><li><span class='ee-k'>id:</span><span class='ee-v'>91</span></li><li><details><summary>geometry: Point (-55.51, -1.92)</summary><ul><li><span class='ee-k'>type:</span><span class='ee-v'>Point</span></li><li><details><summary>coordinates: [-55.5131, -1.9192]</summary><ul><li><span class='ee-k'>0:</span><span class='ee-v'>-55.5131</span></li><li><span class='ee-k'>1:</span><span class='ee-v'>-1.9192</span></li></ul></details></li></ul></details></li><li><details><summary>properties: Object (10 properties)</summary><ul><li><span class='ee-k'>Data:</span><span class='ee-v'>2016-10-01</span></li><li><span class='ee-k'>EstacaoCodigo:</span><span class='ee-v'>17050001</span></li><li><span class='ee-k'>Maxima:</span><span class='ee-v'>222</span></li><li><span class='ee-k'>Media:</span><span class='ee-v'>152</span></li><li><span class='ee-k'>Minima:</span><span class='ee-v'>121</span></li><li><span class='ee-k'>latitude:</span><span class='ee-v'>-1.9192</span></li><li><span class='ee-k'>longitude:</span><span class='ee-v'>-55.5131</span></li><li><details><summary>system:time_start: Date (2016-10-01 00:00:00)</summary><ul><li><span class='ee-k'>type:</span><span class='ee-v'>Date</span></li><li><span class='ee-k'>value:</span><span class='ee-v'>1475280000000</span></li></ul></details></li><li><span class='ee-k'>water_period:</span><span class='ee-v'>LW</span></li><li><span class='ee-k'>water_period3:</span><span class='ee-v'>LW</span></li></ul></details></li></ul></details></li><li><details><summary>92: Feature (Point, 12 properties)</summary><ul><li><span class='ee-k'>type:</span><span class='ee-v'>Feature</span></li><li><span class='ee-k'>id:</span><span class='ee-v'>92</span></li><li><details><summary>geometry: Point (-55.51, -1.92)</summary><ul><li><span class='ee-k'>type:</span><span class='ee-v'>Point</span></li><li><details><summary>coordinates: [-55.5131, -1.9192]</summary><ul><li><span class='ee-k'>0:</span><span class='ee-v'>-55.5131</span></li><li><span class='ee-k'>1:</span><span class='ee-v'>-1.9192</span></li></ul></details></li></ul></details></li><li><details><summary>properties: Object (12 properties)</summary><ul><li><span class='ee-k'>Data:</span><span class='ee-v'>2016-09-01</span></li><li><span class='ee-k'>EstacaoCodigo:</span><span class='ee-v'>17050001</span></li><li><span class='ee-k'>Maxima:</span><span class='ee-v'>463</span></li><li><span class='ee-k'>Media:</span><span class='ee-v'>360</span></li><li><span class='ee-k'>Minima:</span><span class='ee-v'>232</span></li><li><span class='ee-k'>fall:</span><span class='ee-v'>False</span></li><li><span class='ee-k'>latitude:</span><span class='ee-v'>-1.9192</span></li><li><span class='ee-k'>longitude:</span><span class='ee-v'>-55.5131</span></li><li><span class='ee-k'>rise:</span><span class='ee-v'>True</span></li><li><details><summary>system:time_start: Date (2016-09-01 00:00:00)</summary><ul><li><span class='ee-k'>type:</span><span class='ee-v'>Date</span></li><li><span class='ee-k'>value:</span><span class='ee-v'>1472688000000</span></li></ul></details></li><li><span class='ee-k'>water_period:</span><span class='ee-v'>R</span></li><li><span class='ee-k'>water_period3:</span><span class='ee-v'>T</span></li></ul></details></li></ul></details></li><li><details><summary>93: Feature (Point, 12 properties)</summary><ul><li><span class='ee-k'>type:</span><span class='ee-v'>Feature</span></li><li><span class='ee-k'>id:</span><span class='ee-v'>93</span></li><li><details><summary>geometry: Point (-55.51, -1.92)</summary><ul><li><span class='ee-k'>type:</span><span class='ee-v'>Point</span></li><li><details><summary>coordinates: [-55.5131, -1.9192]</summary><ul><li><span class='ee-k'>0:</span><span class='ee-v'>-55.5131</span></li><li><span class='ee-k'>1:</span><span class='ee-v'>-1.9192</span></li></ul></details></li></ul></details></li><li><details><summary>properties: Object (12 properties)</summary><ul><li><span class='ee-k'>Data:</span><span class='ee-v'>2016-08-01</span></li><li><span class='ee-k'>EstacaoCodigo:</span><span class='ee-v'>17050001</span></li><li><span class='ee-k'>Maxima:</span><span class='ee-v'>569</span></li><li><span class='ee-k'>Media:</span><span class='ee-v'>523</span></li><li><span class='ee-k'>Minima:</span><span class='ee-v'>468</span></li><li><span class='ee-k'>fall:</span><span class='ee-v'>False</span></li><li><span class='ee-k'>latitude:</span><span class='ee-v'>-1.9192</span></li><li><span class='ee-k'>longitude:</span><span class='ee-v'>-55.5131</span></li><li><span class='ee-k'>rise:</span><span class='ee-v'>True</span></li><li><details><summary>system:time_start: Date (2016-08-01 00:00:00)</summary><ul><li><span class='ee-k'>type:</span><span class='ee-v'>Date</span></li><li><span class='ee-k'>value:</span><span class='ee-v'>1470009600000</span></li></ul></details></li><li><span class='ee-k'>water_period:</span><span class='ee-v'>R</span></li><li><span class='ee-k'>water_period3:</span><span class='ee-v'>T</span></li></ul></details></li></ul></details></li><li><details><summary>94: Feature (Point, 10 properties)</summary><ul><li><span class='ee-k'>type:</span><span class='ee-v'>Feature</span></li><li><span class='ee-k'>id:</span><span class='ee-v'>94</span></li><li><details><summary>geometry: Point (-55.51, -1.92)</summary><ul><li><span class='ee-k'>type:</span><span class='ee-v'>Point</span></li><li><details><summary>coordinates: [-55.5131, -1.9192]</summary><ul><li><span class='ee-k'>0:</span><span class='ee-v'>-55.5131</span></li><li><span class='ee-k'>1:</span><span class='ee-v'>-1.9192</span></li></ul></details></li></ul></details></li><li><details><summary>properties: Object (10 properties)</summary><ul><li><span class='ee-k'>Data:</span><span class='ee-v'>2016-07-01</span></li><li><span class='ee-k'>EstacaoCodigo:</span><span class='ee-v'>17050001</span></li><li><span class='ee-k'>Maxima:</span><span class='ee-v'>615</span></li><li><span class='ee-k'>Media:</span><span class='ee-v'>599</span></li><li><span class='ee-k'>Minima:</span><span class='ee-v'>571</span></li><li><span class='ee-k'>latitude:</span><span class='ee-v'>-1.9192</span></li><li><span class='ee-k'>longitude:</span><span class='ee-v'>-55.5131</span></li><li><details><summary>system:time_start: Date (2016-07-01 00:00:00)</summary><ul><li><span class='ee-k'>type:</span><span class='ee-v'>Date</span></li><li><span class='ee-k'>value:</span><span class='ee-v'>1467331200000</span></li></ul></details></li><li><span class='ee-k'>water_period:</span><span class='ee-v'>HW</span></li><li><span class='ee-k'>water_period3:</span><span class='ee-v'>HW</span></li></ul></details></li></ul></details></li><li><details><summary>95: Feature (Point, 10 properties)</summary><ul><li><span class='ee-k'>type:</span><span class='ee-v'>Feature</span></li><li><span class='ee-k'>id:</span><span class='ee-v'>95</span></li><li><details><summary>geometry: Point (-55.51, -1.92)</summary><ul><li><span class='ee-k'>type:</span><span class='ee-v'>Point</span></li><li><details><summary>coordinates: [-55.5131, -1.9192]</summary><ul><li><span class='ee-k'>0:</span><span class='ee-v'>-55.5131</span></li><li><span class='ee-k'>1:</span><span class='ee-v'>-1.9192</span></li></ul></details></li></ul></details></li><li><details><summary>properties: Object (10 properties)</summary><ul><li><span class='ee-k'>Data:</span><span class='ee-v'>2016-06-01</span></li><li><span class='ee-k'>EstacaoCodigo:</span><span class='ee-v'>17050001</span></li><li><span class='ee-k'>Maxima:</span><span class='ee-v'>630</span></li><li><span class='ee-k'>Media:</span><span class='ee-v'>624</span></li><li><span class='ee-k'>Minima:</span><span class='ee-v'>618</span></li><li><span class='ee-k'>latitude:</span><span class='ee-v'>-1.9192</span></li><li><span class='ee-k'>longitude:</span><span class='ee-v'>-55.5131</span></li><li><details><summary>system:time_start: Date (2016-06-01 00:00:00)</summary><ul><li><span class='ee-k'>type:</span><span class='ee-v'>Date</span></li><li><span class='ee-k'>value:</span><span class='ee-v'>1464739200000</span></li></ul></details></li><li><span class='ee-k'>water_period:</span><span class='ee-v'>HW</span></li><li><span class='ee-k'>water_period3:</span><span class='ee-v'>HW</span></li></ul></details></li></ul></details></li><li><details><summary>96: Feature (Point, 10 properties)</summary><ul><li><span class='ee-k'>type:</span><span class='ee-v'>Feature</span></li><li><span class='ee-k'>id:</span><span class='ee-v'>96</span></li><li><details><summary>geometry: Point (-55.51, -1.92)</summary><ul><li><span class='ee-k'>type:</span><span class='ee-v'>Point</span></li><li><details><summary>coordinates: [-55.5131, -1.9192]</summary><ul><li><span class='ee-k'>0:</span><span class='ee-v'>-55.5131</span></li><li><span class='ee-k'>1:</span><span class='ee-v'>-1.9192</span></li></ul></details></li></ul></details></li><li><details><summary>properties: Object (10 properties)</summary><ul><li><span class='ee-k'>Data:</span><span class='ee-v'>2016-05-01</span></li><li><span class='ee-k'>EstacaoCodigo:</span><span class='ee-v'>17050001</span></li><li><span class='ee-k'>Maxima:</span><span class='ee-v'>627</span></li><li><span class='ee-k'>Media:</span><span class='ee-v'>614</span></li><li><span class='ee-k'>Minima:</span><span class='ee-v'>585</span></li><li><span class='ee-k'>latitude:</span><span class='ee-v'>-1.9192</span></li><li><span class='ee-k'>longitude:</span><span class='ee-v'>-55.5131</span></li><li><details><summary>system:time_start: Date (2016-05-01 00:00:00)</summary><ul><li><span class='ee-k'>type:</span><span class='ee-v'>Date</span></li><li><span class='ee-k'>value:</span><span class='ee-v'>1462060800000</span></li></ul></details></li><li><span class='ee-k'>water_period:</span><span class='ee-v'>HW</span></li><li><span class='ee-k'>water_period3:</span><span class='ee-v'>HW</span></li></ul></details></li></ul></details></li><li><details><summary>97: Feature (Point, 12 properties)</summary><ul><li><span class='ee-k'>type:</span><span class='ee-v'>Feature</span></li><li><span class='ee-k'>id:</span><span class='ee-v'>97</span></li><li><details><summary>geometry: Point (-55.51, -1.92)</summary><ul><li><span class='ee-k'>type:</span><span class='ee-v'>Point</span></li><li><details><summary>coordinates: [-55.5131, -1.9192]</summary><ul><li><span class='ee-k'>0:</span><span class='ee-v'>-55.5131</span></li><li><span class='ee-k'>1:</span><span class='ee-v'>-1.9192</span></li></ul></details></li></ul></details></li><li><details><summary>properties: Object (12 properties)</summary><ul><li><span class='ee-k'>Data:</span><span class='ee-v'>2016-04-01</span></li><li><span class='ee-k'>EstacaoCodigo:</span><span class='ee-v'>17050001</span></li><li><span class='ee-k'>Maxima:</span><span class='ee-v'>583</span></li><li><span class='ee-k'>Media:</span><span class='ee-v'>547</span></li><li><span class='ee-k'>Minima:</span><span class='ee-v'>488</span></li><li><span class='ee-k'>fall:</span><span class='ee-v'>True</span></li><li><span class='ee-k'>latitude:</span><span class='ee-v'>-1.9192</span></li><li><span class='ee-k'>longitude:</span><span class='ee-v'>-55.5131</span></li><li><span class='ee-k'>rise:</span><span class='ee-v'>False</span></li><li><details><summary>system:time_start: Date (2016-04-01 00:00:00)</summary><ul><li><span class='ee-k'>type:</span><span class='ee-v'>Date</span></li><li><span class='ee-k'>value:</span><span class='ee-v'>1459468800000</span></li></ul></details></li><li><span class='ee-k'>water_period:</span><span class='ee-v'>F</span></li><li><span class='ee-k'>water_period3:</span><span class='ee-v'>T</span></li></ul></details></li></ul></details></li><li><details><summary>98: Feature (Point, 12 properties)</summary><ul><li><span class='ee-k'>type:</span><span class='ee-v'>Feature</span></li><li><span class='ee-k'>id:</span><span class='ee-v'>98</span></li><li><details><summary>geometry: Point (-55.51, -1.92)</summary><ul><li><span class='ee-k'>type:</span><span class='ee-v'>Point</span></li><li><details><summary>coordinates: [-55.5131, -1.9192]</summary><ul><li><span class='ee-k'>0:</span><span class='ee-v'>-55.5131</span></li><li><span class='ee-k'>1:</span><span class='ee-v'>-1.9192</span></li></ul></details></li></ul></details></li><li><details><summary>properties: Object (12 properties)</summary><ul><li><span class='ee-k'>Data:</span><span class='ee-v'>2016-03-01</span></li><li><span class='ee-k'>EstacaoCodigo:</span><span class='ee-v'>17050001</span></li><li><span class='ee-k'>Maxima:</span><span class='ee-v'>482</span></li><li><span class='ee-k'>Media:</span><span class='ee-v'>372</span></li><li><span class='ee-k'>Minima:</span><span class='ee-v'>279</span></li><li><span class='ee-k'>fall:</span><span class='ee-v'>True</span></li><li><span class='ee-k'>latitude:</span><span class='ee-v'>-1.9192</span></li><li><span class='ee-k'>longitude:</span><span class='ee-v'>-55.5131</span></li><li><span class='ee-k'>rise:</span><span class='ee-v'>False</span></li><li><details><summary>system:time_start: Date (2016-03-01 00:00:00)</summary><ul><li><span class='ee-k'>type:</span><span class='ee-v'>Date</span></li><li><span class='ee-k'>value:</span><span class='ee-v'>1456790400000</span></li></ul></details></li><li><span class='ee-k'>water_period:</span><span class='ee-v'>F</span></li><li><span class='ee-k'>water_period3:</span><span class='ee-v'>T</span></li></ul></details></li></ul></details></li><li><details><summary>99: Feature (Point, 10 properties)</summary><ul><li><span class='ee-k'>type:</span><span class='ee-v'>Feature</span></li><li><span class='ee-k'>id:</span><span class='ee-v'>99</span></li><li><details><summary>geometry: Point (-55.51, -1.92)</summary><ul><li><span class='ee-k'>type:</span><span class='ee-v'>Point</span></li><li><details><summary>coordinates: [-55.5131, -1.9192]</summary><ul><li><span class='ee-k'>0:</span><span class='ee-v'>-55.5131</span></li><li><span class='ee-k'>1:</span><span class='ee-v'>-1.9192</span></li></ul></details></li></ul></details></li><li><details><summary>properties: Object (10 properties)</summary><ul><li><span class='ee-k'>Data:</span><span class='ee-v'>2016-02-01</span></li><li><span class='ee-k'>EstacaoCodigo:</span><span class='ee-v'>17050001</span></li><li><span class='ee-k'>Maxima:</span><span class='ee-v'>281</span></li><li><span class='ee-k'>Media:</span><span class='ee-v'>268</span></li><li><span class='ee-k'>Minima:</span><span class='ee-v'>249</span></li><li><span class='ee-k'>latitude:</span><span class='ee-v'>-1.9192</span></li><li><span class='ee-k'>longitude:</span><span class='ee-v'>-55.5131</span></li><li><details><summary>system:time_start: Date (2016-02-01 00:00:00)</summary><ul><li><span class='ee-k'>type:</span><span class='ee-v'>Date</span></li><li><span class='ee-k'>value:</span><span class='ee-v'>1454284800000</span></li></ul></details></li><li><span class='ee-k'>water_period:</span><span class='ee-v'>LW</span></li><li><span class='ee-k'>water_period3:</span><span class='ee-v'>LW</span></li></ul></details></li></ul></details></li><li><details><summary>100: Feature (Point, 10 properties)</summary><ul><li><span class='ee-k'>type:</span><span class='ee-v'>Feature</span></li><li><span class='ee-k'>id:</span><span class='ee-v'>100</span></li><li><details><summary>geometry: Point (-55.51, -1.92)</summary><ul><li><span class='ee-k'>type:</span><span class='ee-v'>Point</span></li><li><details><summary>coordinates: [-55.5131, -1.9192]</summary><ul><li><span class='ee-k'>0:</span><span class='ee-v'>-55.5131</span></li><li><span class='ee-k'>1:</span><span class='ee-v'>-1.9192</span></li></ul></details></li></ul></details></li><li><details><summary>properties: Object (10 properties)</summary><ul><li><span class='ee-k'>Data:</span><span class='ee-v'>2016-01-01</span></li><li><span class='ee-k'>EstacaoCodigo:</span><span class='ee-v'>17050001</span></li><li><span class='ee-k'>Maxima:</span><span class='ee-v'>253</span></li><li><span class='ee-k'>Media:</span><span class='ee-v'>179</span></li><li><span class='ee-k'>Minima:</span><span class='ee-v'>103</span></li><li><span class='ee-k'>latitude:</span><span class='ee-v'>-1.9192</span></li><li><span class='ee-k'>longitude:</span><span class='ee-v'>-55.5131</span></li><li><details><summary>system:time_start: Date (2016-01-01 00:00:00)</summary><ul><li><span class='ee-k'>type:</span><span class='ee-v'>Date</span></li><li><span class='ee-k'>value:</span><span class='ee-v'>1451606400000</span></li></ul></details></li><li><span class='ee-k'>water_period:</span><span class='ee-v'>LW</span></li><li><span class='ee-k'>water_period3:</span><span class='ee-v'>LW</span></li></ul></details></li></ul></details></li><li><details><summary>101: Feature (Point, 10 properties)</summary><ul><li><span class='ee-k'>type:</span><span class='ee-v'>Feature</span></li><li><span class='ee-k'>id:</span><span class='ee-v'>101</span></li><li><details><summary>geometry: Point (-55.51, -1.92)</summary><ul><li><span class='ee-k'>type:</span><span class='ee-v'>Point</span></li><li><details><summary>coordinates: [-55.5131, -1.9192]</summary><ul><li><span class='ee-k'>0:</span><span class='ee-v'>-55.5131</span></li><li><span class='ee-k'>1:</span><span class='ee-v'>-1.9192</span></li></ul></details></li></ul></details></li><li><details><summary>properties: Object (10 properties)</summary><ul><li><span class='ee-k'>Data:</span><span class='ee-v'>2015-12-01</span></li><li><span class='ee-k'>EstacaoCodigo:</span><span class='ee-v'>17050001</span></li><li><span class='ee-k'>Maxima:</span><span class='ee-v'>113</span></li><li><span class='ee-k'>Media:</span><span class='ee-v'>89</span></li><li><span class='ee-k'>Minima:</span><span class='ee-v'>66</span></li><li><span class='ee-k'>latitude:</span><span class='ee-v'>-1.9192</span></li><li><span class='ee-k'>longitude:</span><span class='ee-v'>-55.5131</span></li><li><details><summary>system:time_start: Date (2015-12-01 00:00:00)</summary><ul><li><span class='ee-k'>type:</span><span class='ee-v'>Date</span></li><li><span class='ee-k'>value:</span><span class='ee-v'>1448928000000</span></li></ul></details></li><li><span class='ee-k'>water_period:</span><span class='ee-v'>LW</span></li><li><span class='ee-k'>water_period3:</span><span class='ee-v'>LW</span></li></ul></details></li></ul></details></li><li><details><summary>102: Feature (Point, 10 properties)</summary><ul><li><span class='ee-k'>type:</span><span class='ee-v'>Feature</span></li><li><span class='ee-k'>id:</span><span class='ee-v'>102</span></li><li><details><summary>geometry: Point (-55.51, -1.92)</summary><ul><li><span class='ee-k'>type:</span><span class='ee-v'>Point</span></li><li><details><summary>coordinates: [-55.5131, -1.9192]</summary><ul><li><span class='ee-k'>0:</span><span class='ee-v'>-55.5131</span></li><li><span class='ee-k'>1:</span><span class='ee-v'>-1.9192</span></li></ul></details></li></ul></details></li><li><details><summary>properties: Object (10 properties)</summary><ul><li><span class='ee-k'>Data:</span><span class='ee-v'>2015-11-01</span></li><li><span class='ee-k'>EstacaoCodigo:</span><span class='ee-v'>17050001</span></li><li><span class='ee-k'>Maxima:</span><span class='ee-v'>84</span></li><li><span class='ee-k'>Media:</span><span class='ee-v'>61</span></li><li><span class='ee-k'>Minima:</span><span class='ee-v'>46</span></li><li><span class='ee-k'>latitude:</span><span class='ee-v'>-1.9192</span></li><li><span class='ee-k'>longitude:</span><span class='ee-v'>-55.5131</span></li><li><details><summary>system:time_start: Date (2015-11-01 00:00:00)</summary><ul><li><span class='ee-k'>type:</span><span class='ee-v'>Date</span></li><li><span class='ee-k'>value:</span><span class='ee-v'>1446336000000</span></li></ul></details></li><li><span class='ee-k'>water_period:</span><span class='ee-v'>LW</span></li><li><span class='ee-k'>water_period3:</span><span class='ee-v'>LW</span></li></ul></details></li></ul></details></li><li><details><summary>103: Feature (Point, 10 properties)</summary><ul><li><span class='ee-k'>type:</span><span class='ee-v'>Feature</span></li><li><span class='ee-k'>id:</span><span class='ee-v'>103</span></li><li><details><summary>geometry: Point (-55.51, -1.92)</summary><ul><li><span class='ee-k'>type:</span><span class='ee-v'>Point</span></li><li><details><summary>coordinates: [-55.5131, -1.9192]</summary><ul><li><span class='ee-k'>0:</span><span class='ee-v'>-55.5131</span></li><li><span class='ee-k'>1:</span><span class='ee-v'>-1.9192</span></li></ul></details></li></ul></details></li><li><details><summary>properties: Object (10 properties)</summary><ul><li><span class='ee-k'>Data:</span><span class='ee-v'>2015-10-01</span></li><li><span class='ee-k'>EstacaoCodigo:</span><span class='ee-v'>17050001</span></li><li><span class='ee-k'>Maxima:</span><span class='ee-v'>458</span></li><li><span class='ee-k'>Media:</span><span class='ee-v'>244</span></li><li><span class='ee-k'>Minima:</span><span class='ee-v'>74</span></li><li><span class='ee-k'>latitude:</span><span class='ee-v'>-1.9192</span></li><li><span class='ee-k'>longitude:</span><span class='ee-v'>-55.5131</span></li><li><details><summary>system:time_start: Date (2015-10-01 00:00:00)</summary><ul><li><span class='ee-k'>type:</span><span class='ee-v'>Date</span></li><li><span class='ee-k'>value:</span><span class='ee-v'>1443657600000</span></li></ul></details></li><li><span class='ee-k'>water_period:</span><span class='ee-v'>LW</span></li><li><span class='ee-k'>water_period3:</span><span class='ee-v'>LW</span></li></ul></details></li></ul></details></li><li><details><summary>104: Feature (Point, 10 properties)</summary><ul><li><span class='ee-k'>type:</span><span class='ee-v'>Feature</span></li><li><span class='ee-k'>id:</span><span class='ee-v'>104</span></li><li><details><summary>geometry: Point (-55.51, -1.92)</summary><ul><li><span class='ee-k'>type:</span><span class='ee-v'>Point</span></li><li><details><summary>coordinates: [-55.5131, -1.9192]</summary><ul><li><span class='ee-k'>0:</span><span class='ee-v'>-55.5131</span></li><li><span class='ee-k'>1:</span><span class='ee-v'>-1.9192</span></li></ul></details></li></ul></details></li><li><details><summary>properties: Object (10 properties)</summary><ul><li><span class='ee-k'>Data:</span><span class='ee-v'>2015-09-01</span></li><li><span class='ee-k'>EstacaoCodigo:</span><span class='ee-v'>17050001</span></li><li><span class='ee-k'>Maxima:</span><span class='ee-v'>646</span></li><li><span class='ee-k'>Media:</span><span class='ee-v'>566</span></li><li><span class='ee-k'>Minima:</span><span class='ee-v'>468</span></li><li><span class='ee-k'>latitude:</span><span class='ee-v'>-1.9192</span></li><li><span class='ee-k'>longitude:</span><span class='ee-v'>-55.5131</span></li><li><details><summary>system:time_start: Date (2015-09-01 00:00:00)</summary><ul><li><span class='ee-k'>type:</span><span class='ee-v'>Date</span></li><li><span class='ee-k'>value:</span><span class='ee-v'>1441065600000</span></li></ul></details></li><li><span class='ee-k'>water_period:</span><span class='ee-v'>HW</span></li><li><span class='ee-k'>water_period3:</span><span class='ee-v'>HW</span></li></ul></details></li></ul></details></li><li><details><summary>105: Feature (Point, 10 properties)</summary><ul><li><span class='ee-k'>type:</span><span class='ee-v'>Feature</span></li><li><span class='ee-k'>id:</span><span class='ee-v'>105</span></li><li><details><summary>geometry: Point (-55.51, -1.92)</summary><ul><li><span class='ee-k'>type:</span><span class='ee-v'>Point</span></li><li><details><summary>coordinates: [-55.5131, -1.9192]</summary><ul><li><span class='ee-k'>0:</span><span class='ee-v'>-55.5131</span></li><li><span class='ee-k'>1:</span><span class='ee-v'>-1.9192</span></li></ul></details></li></ul></details></li><li><details><summary>properties: Object (10 properties)</summary><ul><li><span class='ee-k'>Data:</span><span class='ee-v'>2015-08-01</span></li><li><span class='ee-k'>EstacaoCodigo:</span><span class='ee-v'>17050001</span></li><li><span class='ee-k'>Maxima:</span><span class='ee-v'>747</span></li><li><span class='ee-k'>Media:</span><span class='ee-v'>703</span></li><li><span class='ee-k'>Minima:</span><span class='ee-v'>649</span></li><li><span class='ee-k'>latitude:</span><span class='ee-v'>-1.9192</span></li><li><span class='ee-k'>longitude:</span><span class='ee-v'>-55.5131</span></li><li><details><summary>system:time_start: Date (2015-08-01 00:00:00)</summary><ul><li><span class='ee-k'>type:</span><span class='ee-v'>Date</span></li><li><span class='ee-k'>value:</span><span class='ee-v'>1438387200000</span></li></ul></details></li><li><span class='ee-k'>water_period:</span><span class='ee-v'>HW</span></li><li><span class='ee-k'>water_period3:</span><span class='ee-v'>HW</span></li></ul></details></li></ul></details></li><li><details><summary>106: Feature (Point, 10 properties)</summary><ul><li><span class='ee-k'>type:</span><span class='ee-v'>Feature</span></li><li><span class='ee-k'>id:</span><span class='ee-v'>106</span></li><li><details><summary>geometry: Point (-55.51, -1.92)</summary><ul><li><span class='ee-k'>type:</span><span class='ee-v'>Point</span></li><li><details><summary>coordinates: [-55.5131, -1.9192]</summary><ul><li><span class='ee-k'>0:</span><span class='ee-v'>-55.5131</span></li><li><span class='ee-k'>1:</span><span class='ee-v'>-1.9192</span></li></ul></details></li></ul></details></li><li><details><summary>properties: Object (10 properties)</summary><ul><li><span class='ee-k'>Data:</span><span class='ee-v'>2015-07-01</span></li><li><span class='ee-k'>EstacaoCodigo:</span><span class='ee-v'>17050001</span></li><li><span class='ee-k'>Maxima:</span><span class='ee-v'>797</span></li><li><span class='ee-k'>Media:</span><span class='ee-v'>776</span></li><li><span class='ee-k'>Minima:</span><span class='ee-v'>749</span></li><li><span class='ee-k'>latitude:</span><span class='ee-v'>-1.9192</span></li><li><span class='ee-k'>longitude:</span><span class='ee-v'>-55.5131</span></li><li><details><summary>system:time_start: Date (2015-07-01 00:00:00)</summary><ul><li><span class='ee-k'>type:</span><span class='ee-v'>Date</span></li><li><span class='ee-k'>value:</span><span class='ee-v'>1435708800000</span></li></ul></details></li><li><span class='ee-k'>water_period:</span><span class='ee-v'>HW</span></li><li><span class='ee-k'>water_period3:</span><span class='ee-v'>HW</span></li></ul></details></li></ul></details></li><li><details><summary>107: Feature (Point, 10 properties)</summary><ul><li><span class='ee-k'>type:</span><span class='ee-v'>Feature</span></li><li><span class='ee-k'>id:</span><span class='ee-v'>107</span></li><li><details><summary>geometry: Point (-55.51, -1.92)</summary><ul><li><span class='ee-k'>type:</span><span class='ee-v'>Point</span></li><li><details><summary>coordinates: [-55.5131, -1.9192]</summary><ul><li><span class='ee-k'>0:</span><span class='ee-v'>-55.5131</span></li><li><span class='ee-k'>1:</span><span class='ee-v'>-1.9192</span></li></ul></details></li></ul></details></li><li><details><summary>properties: Object (10 properties)</summary><ul><li><span class='ee-k'>Data:</span><span class='ee-v'>2015-06-01</span></li><li><span class='ee-k'>EstacaoCodigo:</span><span class='ee-v'>17050001</span></li><li><span class='ee-k'>Maxima:</span><span class='ee-v'>816</span></li><li><span class='ee-k'>Media:</span><span class='ee-v'>809</span></li><li><span class='ee-k'>Minima:</span><span class='ee-v'>798</span></li><li><span class='ee-k'>latitude:</span><span class='ee-v'>-1.9192</span></li><li><span class='ee-k'>longitude:</span><span class='ee-v'>-55.5131</span></li><li><details><summary>system:time_start: Date (2015-06-01 00:00:00)</summary><ul><li><span class='ee-k'>type:</span><span class='ee-v'>Date</span></li><li><span class='ee-k'>value:</span><span class='ee-v'>1433116800000</span></li></ul></details></li><li><span class='ee-k'>water_period:</span><span class='ee-v'>HW</span></li><li><span class='ee-k'>water_period3:</span><span class='ee-v'>HW</span></li></ul></details></li></ul></details></li><li><details><summary>108: Feature (Point, 10 properties)</summary><ul><li><span class='ee-k'>type:</span><span class='ee-v'>Feature</span></li><li><span class='ee-k'>id:</span><span class='ee-v'>108</span></li><li><details><summary>geometry: Point (-55.51, -1.92)</summary><ul><li><span class='ee-k'>type:</span><span class='ee-v'>Point</span></li><li><details><summary>coordinates: [-55.5131, -1.9192]</summary><ul><li><span class='ee-k'>0:</span><span class='ee-v'>-55.5131</span></li><li><span class='ee-k'>1:</span><span class='ee-v'>-1.9192</span></li></ul></details></li></ul></details></li><li><details><summary>properties: Object (10 properties)</summary><ul><li><span class='ee-k'>Data:</span><span class='ee-v'>2015-05-01</span></li><li><span class='ee-k'>EstacaoCodigo:</span><span class='ee-v'>17050001</span></li><li><span class='ee-k'>Maxima:</span><span class='ee-v'>818</span></li><li><span class='ee-k'>Media:</span><span class='ee-v'>800</span></li><li><span class='ee-k'>Minima:</span><span class='ee-v'>766</span></li><li><span class='ee-k'>latitude:</span><span class='ee-v'>-1.9192</span></li><li><span class='ee-k'>longitude:</span><span class='ee-v'>-55.5131</span></li><li><details><summary>system:time_start: Date (2015-05-01 00:00:00)</summary><ul><li><span class='ee-k'>type:</span><span class='ee-v'>Date</span></li><li><span class='ee-k'>value:</span><span class='ee-v'>1430438400000</span></li></ul></details></li><li><span class='ee-k'>water_period:</span><span class='ee-v'>HW</span></li><li><span class='ee-k'>water_period3:</span><span class='ee-v'>HW</span></li></ul></details></li></ul></details></li><li><details><summary>109: Feature (Point, 10 properties)</summary><ul><li><span class='ee-k'>type:</span><span class='ee-v'>Feature</span></li><li><span class='ee-k'>id:</span><span class='ee-v'>109</span></li><li><details><summary>geometry: Point (-55.51, -1.92)</summary><ul><li><span class='ee-k'>type:</span><span class='ee-v'>Point</span></li><li><details><summary>coordinates: [-55.5131, -1.9192]</summary><ul><li><span class='ee-k'>0:</span><span class='ee-v'>-55.5131</span></li><li><span class='ee-k'>1:</span><span class='ee-v'>-1.9192</span></li></ul></details></li></ul></details></li><li><details><summary>properties: Object (10 properties)</summary><ul><li><span class='ee-k'>Data:</span><span class='ee-v'>2015-04-01</span></li><li><span class='ee-k'>EstacaoCodigo:</span><span class='ee-v'>17050001</span></li><li><span class='ee-k'>Maxima:</span><span class='ee-v'>764</span></li><li><span class='ee-k'>Media:</span><span class='ee-v'>735</span></li><li><span class='ee-k'>Minima:</span><span class='ee-v'>694</span></li><li><span class='ee-k'>latitude:</span><span class='ee-v'>-1.9192</span></li><li><span class='ee-k'>longitude:</span><span class='ee-v'>-55.5131</span></li><li><details><summary>system:time_start: Date (2015-04-01 00:00:00)</summary><ul><li><span class='ee-k'>type:</span><span class='ee-v'>Date</span></li><li><span class='ee-k'>value:</span><span class='ee-v'>1427846400000</span></li></ul></details></li><li><span class='ee-k'>water_period:</span><span class='ee-v'>HW</span></li><li><span class='ee-k'>water_period3:</span><span class='ee-v'>HW</span></li></ul></details></li></ul></details></li><li><details><summary>110: Feature (Point, 10 properties)</summary><ul><li><span class='ee-k'>type:</span><span class='ee-v'>Feature</span></li><li><span class='ee-k'>id:</span><span class='ee-v'>110</span></li><li><details><summary>geometry: Point (-55.51, -1.92)</summary><ul><li><span class='ee-k'>type:</span><span class='ee-v'>Point</span></li><li><details><summary>coordinates: [-55.5131, -1.9192]</summary><ul><li><span class='ee-k'>0:</span><span class='ee-v'>-55.5131</span></li><li><span class='ee-k'>1:</span><span class='ee-v'>-1.9192</span></li></ul></details></li></ul></details></li><li><details><summary>properties: Object (10 properties)</summary><ul><li><span class='ee-k'>Data:</span><span class='ee-v'>2015-03-01</span></li><li><span class='ee-k'>EstacaoCodigo:</span><span class='ee-v'>17050001</span></li><li><span class='ee-k'>Maxima:</span><span class='ee-v'>687</span></li><li><span class='ee-k'>Media:</span><span class='ee-v'>628</span></li><li><span class='ee-k'>Minima:</span><span class='ee-v'>568</span></li><li><span class='ee-k'>latitude:</span><span class='ee-v'>-1.9192</span></li><li><span class='ee-k'>longitude:</span><span class='ee-v'>-55.5131</span></li><li><details><summary>system:time_start: Date (2015-03-01 00:00:00)</summary><ul><li><span class='ee-k'>type:</span><span class='ee-v'>Date</span></li><li><span class='ee-k'>value:</span><span class='ee-v'>1425168000000</span></li></ul></details></li><li><span class='ee-k'>water_period:</span><span class='ee-v'>HW</span></li><li><span class='ee-k'>water_period3:</span><span class='ee-v'>HW</span></li></ul></details></li></ul></details></li><li><details><summary>111: Feature (Point, 12 properties)</summary><ul><li><span class='ee-k'>type:</span><span class='ee-v'>Feature</span></li><li><span class='ee-k'>id:</span><span class='ee-v'>111</span></li><li><details><summary>geometry: Point (-55.51, -1.92)</summary><ul><li><span class='ee-k'>type:</span><span class='ee-v'>Point</span></li><li><details><summary>coordinates: [-55.5131, -1.9192]</summary><ul><li><span class='ee-k'>0:</span><span class='ee-v'>-55.5131</span></li><li><span class='ee-k'>1:</span><span class='ee-v'>-1.9192</span></li></ul></details></li></ul></details></li><li><details><summary>properties: Object (12 properties)</summary><ul><li><span class='ee-k'>Data:</span><span class='ee-v'>2015-02-01</span></li><li><span class='ee-k'>EstacaoCodigo:</span><span class='ee-v'>17050001</span></li><li><span class='ee-k'>Maxima:</span><span class='ee-v'>566</span></li><li><span class='ee-k'>Media:</span><span class='ee-v'>511</span></li><li><span class='ee-k'>Minima:</span><span class='ee-v'>453</span></li><li><span class='ee-k'>fall:</span><span class='ee-v'>True</span></li><li><span class='ee-k'>latitude:</span><span class='ee-v'>-1.9192</span></li><li><span class='ee-k'>longitude:</span><span class='ee-v'>-55.5131</span></li><li><span class='ee-k'>rise:</span><span class='ee-v'>False</span></li><li><details><summary>system:time_start: Date (2015-02-01 00:00:00)</summary><ul><li><span class='ee-k'>type:</span><span class='ee-v'>Date</span></li><li><span class='ee-k'>value:</span><span class='ee-v'>1422748800000</span></li></ul></details></li><li><span class='ee-k'>water_period:</span><span class='ee-v'>F</span></li><li><span class='ee-k'>water_period3:</span><span class='ee-v'>T</span></li></ul></details></li></ul></details></li><li><details><summary>112: Feature (Point, 12 properties)</summary><ul><li><span class='ee-k'>type:</span><span class='ee-v'>Feature</span></li><li><span class='ee-k'>id:</span><span class='ee-v'>112</span></li><li><details><summary>geometry: Point (-55.51, -1.92)</summary><ul><li><span class='ee-k'>type:</span><span class='ee-v'>Point</span></li><li><details><summary>coordinates: [-55.5131, -1.9192]</summary><ul><li><span class='ee-k'>0:</span><span class='ee-v'>-55.5131</span></li><li><span class='ee-k'>1:</span><span class='ee-v'>-1.9192</span></li></ul></details></li></ul></details></li><li><details><summary>properties: Object (12 properties)</summary><ul><li><span class='ee-k'>Data:</span><span class='ee-v'>2015-01-01</span></li><li><span class='ee-k'>EstacaoCodigo:</span><span class='ee-v'>17050001</span></li><li><span class='ee-k'>Maxima:</span><span class='ee-v'>449</span></li><li><span class='ee-k'>Media:</span><span class='ee-v'>388</span></li><li><span class='ee-k'>Minima:</span><span class='ee-v'>339</span></li><li><span class='ee-k'>fall:</span><span class='ee-v'>True</span></li><li><span class='ee-k'>latitude:</span><span class='ee-v'>-1.9192</span></li><li><span class='ee-k'>longitude:</span><span class='ee-v'>-55.5131</span></li><li><span class='ee-k'>rise:</span><span class='ee-v'>False</span></li><li><details><summary>system:time_start: Date (2015-01-01 00:00:00)</summary><ul><li><span class='ee-k'>type:</span><span class='ee-v'>Date</span></li><li><span class='ee-k'>value:</span><span class='ee-v'>1420070400000</span></li></ul></details></li><li><span class='ee-k'>water_period:</span><span class='ee-v'>F</span></li><li><span class='ee-k'>water_period3:</span><span class='ee-v'>T</span></li></ul></details></li></ul></details></li><li><details><summary>113: Feature (Point, 10 properties)</summary><ul><li><span class='ee-k'>type:</span><span class='ee-v'>Feature</span></li><li><span class='ee-k'>id:</span><span class='ee-v'>113</span></li><li><details><summary>geometry: Point (-55.51, -1.92)</summary><ul><li><span class='ee-k'>type:</span><span class='ee-v'>Point</span></li><li><details><summary>coordinates: [-55.5131, -1.9192]</summary><ul><li><span class='ee-k'>0:</span><span class='ee-v'>-55.5131</span></li><li><span class='ee-k'>1:</span><span class='ee-v'>-1.9192</span></li></ul></details></li></ul></details></li><li><details><summary>properties: Object (10 properties)</summary><ul><li><span class='ee-k'>Data:</span><span class='ee-v'>2014-12-01</span></li><li><span class='ee-k'>EstacaoCodigo:</span><span class='ee-v'>17050001</span></li><li><span class='ee-k'>Maxima:</span><span class='ee-v'>338</span></li><li><span class='ee-k'>Media:</span><span class='ee-v'>300</span></li><li><span class='ee-k'>Minima:</span><span class='ee-v'>256</span></li><li><span class='ee-k'>latitude:</span><span class='ee-v'>-1.9192</span></li><li><span class='ee-k'>longitude:</span><span class='ee-v'>-55.5131</span></li><li><details><summary>system:time_start: Date (2014-12-01 00:00:00)</summary><ul><li><span class='ee-k'>type:</span><span class='ee-v'>Date</span></li><li><span class='ee-k'>value:</span><span class='ee-v'>1417392000000</span></li></ul></details></li><li><span class='ee-k'>water_period:</span><span class='ee-v'>LW</span></li><li><span class='ee-k'>water_period3:</span><span class='ee-v'>LW</span></li></ul></details></li></ul></details></li><li><details><summary>114: Feature (Point, 10 properties)</summary><ul><li><span class='ee-k'>type:</span><span class='ee-v'>Feature</span></li><li><span class='ee-k'>id:</span><span class='ee-v'>114</span></li><li><details><summary>geometry: Point (-55.51, -1.92)</summary><ul><li><span class='ee-k'>type:</span><span class='ee-v'>Point</span></li><li><details><summary>coordinates: [-55.5131, -1.9192]</summary><ul><li><span class='ee-k'>0:</span><span class='ee-v'>-55.5131</span></li><li><span class='ee-k'>1:</span><span class='ee-v'>-1.9192</span></li></ul></details></li></ul></details></li><li><details><summary>properties: Object (10 properties)</summary><ul><li><span class='ee-k'>Data:</span><span class='ee-v'>2014-11-01</span></li><li><span class='ee-k'>EstacaoCodigo:</span><span class='ee-v'>17050001</span></li><li><span class='ee-k'>Maxima:</span><span class='ee-v'>255</span></li><li><span class='ee-k'>Media:</span><span class='ee-v'>236</span></li><li><span class='ee-k'>Minima:</span><span class='ee-v'>225</span></li><li><span class='ee-k'>latitude:</span><span class='ee-v'>-1.9192</span></li><li><span class='ee-k'>longitude:</span><span class='ee-v'>-55.5131</span></li><li><details><summary>system:time_start: Date (2014-11-01 00:00:00)</summary><ul><li><span class='ee-k'>type:</span><span class='ee-v'>Date</span></li><li><span class='ee-k'>value:</span><span class='ee-v'>1414800000000</span></li></ul></details></li><li><span class='ee-k'>water_period:</span><span class='ee-v'>LW</span></li><li><span class='ee-k'>water_period3:</span><span class='ee-v'>LW</span></li></ul></details></li></ul></details></li><li><details><summary>115: Feature (Point, 10 properties)</summary><ul><li><span class='ee-k'>type:</span><span class='ee-v'>Feature</span></li><li><span class='ee-k'>id:</span><span class='ee-v'>115</span></li><li><details><summary>geometry: Point (-55.51, -1.92)</summary><ul><li><span class='ee-k'>type:</span><span class='ee-v'>Point</span></li><li><details><summary>coordinates: [-55.5131, -1.9192]</summary><ul><li><span class='ee-k'>0:</span><span class='ee-v'>-55.5131</span></li><li><span class='ee-k'>1:</span><span class='ee-v'>-1.9192</span></li></ul></details></li></ul></details></li><li><details><summary>properties: Object (10 properties)</summary><ul><li><span class='ee-k'>Data:</span><span class='ee-v'>2014-10-01</span></li><li><span class='ee-k'>EstacaoCodigo:</span><span class='ee-v'>17050001</span></li><li><span class='ee-k'>Maxima:</span><span class='ee-v'>453</span></li><li><span class='ee-k'>Media:</span><span class='ee-v'>335</span></li><li><span class='ee-k'>Minima:</span><span class='ee-v'>232</span></li><li><span class='ee-k'>latitude:</span><span class='ee-v'>-1.9192</span></li><li><span class='ee-k'>longitude:</span><span class='ee-v'>-55.5131</span></li><li><details><summary>system:time_start: Date (2014-10-01 00:00:00)</summary><ul><li><span class='ee-k'>type:</span><span class='ee-v'>Date</span></li><li><span class='ee-k'>value:</span><span class='ee-v'>1412121600000</span></li></ul></details></li><li><span class='ee-k'>water_period:</span><span class='ee-v'>LW</span></li><li><span class='ee-k'>water_period3:</span><span class='ee-v'>LW</span></li></ul></details></li></ul></details></li><li><details><summary>116: Feature (Point, 10 properties)</summary><ul><li><span class='ee-k'>type:</span><span class='ee-v'>Feature</span></li><li><span class='ee-k'>id:</span><span class='ee-v'>116</span></li><li><details><summary>geometry: Point (-55.51, -1.92)</summary><ul><li><span class='ee-k'>type:</span><span class='ee-v'>Point</span></li><li><details><summary>coordinates: [-55.5131, -1.9192]</summary><ul><li><span class='ee-k'>0:</span><span class='ee-v'>-55.5131</span></li><li><span class='ee-k'>1:</span><span class='ee-v'>-1.9192</span></li></ul></details></li></ul></details></li><li><details><summary>properties: Object (10 properties)</summary><ul><li><span class='ee-k'>Data:</span><span class='ee-v'>2014-09-01</span></li><li><span class='ee-k'>EstacaoCodigo:</span><span class='ee-v'>17050001</span></li><li><span class='ee-k'>Maxima:</span><span class='ee-v'>645</span></li><li><span class='ee-k'>Media:</span><span class='ee-v'>560</span></li><li><span class='ee-k'>Minima:</span><span class='ee-v'>462</span></li><li><span class='ee-k'>latitude:</span><span class='ee-v'>-1.9192</span></li><li><span class='ee-k'>longitude:</span><span class='ee-v'>-55.5131</span></li><li><details><summary>system:time_start: Date (2014-09-01 00:00:00)</summary><ul><li><span class='ee-k'>type:</span><span class='ee-v'>Date</span></li><li><span class='ee-k'>value:</span><span class='ee-v'>1409529600000</span></li></ul></details></li><li><span class='ee-k'>water_period:</span><span class='ee-v'>HW</span></li><li><span class='ee-k'>water_period3:</span><span class='ee-v'>HW</span></li></ul></details></li></ul></details></li><li><details><summary>117: Feature (Point, 10 properties)</summary><ul><li><span class='ee-k'>type:</span><span class='ee-v'>Feature</span></li><li><span class='ee-k'>id:</span><span class='ee-v'>117</span></li><li><details><summary>geometry: Point (-55.51, -1.92)</summary><ul><li><span class='ee-k'>type:</span><span class='ee-v'>Point</span></li><li><details><summary>coordinates: [-55.5131, -1.9192]</summary><ul><li><span class='ee-k'>0:</span><span class='ee-v'>-55.5131</span></li><li><span class='ee-k'>1:</span><span class='ee-v'>-1.9192</span></li></ul></details></li></ul></details></li><li><details><summary>properties: Object (10 properties)</summary><ul><li><span class='ee-k'>Data:</span><span class='ee-v'>2014-08-01</span></li><li><span class='ee-k'>EstacaoCodigo:</span><span class='ee-v'>17050001</span></li><li><span class='ee-k'>Maxima:</span><span class='ee-v'>759</span></li><li><span class='ee-k'>Media:</span><span class='ee-v'>710</span></li><li><span class='ee-k'>Minima:</span><span class='ee-v'>650</span></li><li><span class='ee-k'>latitude:</span><span class='ee-v'>-1.9192</span></li><li><span class='ee-k'>longitude:</span><span class='ee-v'>-55.5131</span></li><li><details><summary>system:time_start: Date (2014-08-01 00:00:00)</summary><ul><li><span class='ee-k'>type:</span><span class='ee-v'>Date</span></li><li><span class='ee-k'>value:</span><span class='ee-v'>1406851200000</span></li></ul></details></li><li><span class='ee-k'>water_period:</span><span class='ee-v'>HW</span></li><li><span class='ee-k'>water_period3:</span><span class='ee-v'>HW</span></li></ul></details></li></ul></details></li><li><details><summary>118: Feature (Point, 10 properties)</summary><ul><li><span class='ee-k'>type:</span><span class='ee-v'>Feature</span></li><li><span class='ee-k'>id:</span><span class='ee-v'>118</span></li><li><details><summary>geometry: Point (-55.51, -1.92)</summary><ul><li><span class='ee-k'>type:</span><span class='ee-v'>Point</span></li><li><details><summary>coordinates: [-55.5131, -1.9192]</summary><ul><li><span class='ee-k'>0:</span><span class='ee-v'>-55.5131</span></li><li><span class='ee-k'>1:</span><span class='ee-v'>-1.9192</span></li></ul></details></li></ul></details></li><li><details><summary>properties: Object (10 properties)</summary><ul><li><span class='ee-k'>Data:</span><span class='ee-v'>2014-07-01</span></li><li><span class='ee-k'>EstacaoCodigo:</span><span class='ee-v'>17050001</span></li><li><span class='ee-k'>Maxima:</span><span class='ee-v'>810</span></li><li><span class='ee-k'>Media:</span><span class='ee-v'>789</span></li><li><span class='ee-k'>Minima:</span><span class='ee-v'>762</span></li><li><span class='ee-k'>latitude:</span><span class='ee-v'>-1.9192</span></li><li><span class='ee-k'>longitude:</span><span class='ee-v'>-55.5131</span></li><li><details><summary>system:time_start: Date (2014-07-01 00:00:00)</summary><ul><li><span class='ee-k'>type:</span><span class='ee-v'>Date</span></li><li><span class='ee-k'>value:</span><span class='ee-v'>1404172800000</span></li></ul></details></li><li><span class='ee-k'>water_period:</span><span class='ee-v'>HW</span></li><li><span class='ee-k'>water_period3:</span><span class='ee-v'>HW</span></li></ul></details></li></ul></details></li><li><details><summary>119: Feature (Point, 10 properties)</summary><ul><li><span class='ee-k'>type:</span><span class='ee-v'>Feature</span></li><li><span class='ee-k'>id:</span><span class='ee-v'>119</span></li><li><details><summary>geometry: Point (-55.51, -1.92)</summary><ul><li><span class='ee-k'>type:</span><span class='ee-v'>Point</span></li><li><details><summary>coordinates: [-55.5131, -1.9192]</summary><ul><li><span class='ee-k'>0:</span><span class='ee-v'>-55.5131</span></li><li><span class='ee-k'>1:</span><span class='ee-v'>-1.9192</span></li></ul></details></li></ul></details></li><li><details><summary>properties: Object (10 properties)</summary><ul><li><span class='ee-k'>Data:</span><span class='ee-v'>2014-06-01</span></li><li><span class='ee-k'>EstacaoCodigo:</span><span class='ee-v'>17050001</span></li><li><span class='ee-k'>Maxima:</span><span class='ee-v'>840</span></li><li><span class='ee-k'>Media:</span><span class='ee-v'>828</span></li><li><span class='ee-k'>Minima:</span><span class='ee-v'>810</span></li><li><span class='ee-k'>latitude:</span><span class='ee-v'>-1.9192</span></li><li><span class='ee-k'>longitude:</span><span class='ee-v'>-55.5131</span></li><li><details><summary>system:time_start: Date (2014-06-01 00:00:00)</summary><ul><li><span class='ee-k'>type:</span><span class='ee-v'>Date</span></li><li><span class='ee-k'>value:</span><span class='ee-v'>1401580800000</span></li></ul></details></li><li><span class='ee-k'>water_period:</span><span class='ee-v'>HW</span></li><li><span class='ee-k'>water_period3:</span><span class='ee-v'>HW</span></li></ul></details></li></ul></details></li><li><details><summary>120: Feature (Point, 10 properties)</summary><ul><li><span class='ee-k'>type:</span><span class='ee-v'>Feature</span></li><li><span class='ee-k'>id:</span><span class='ee-v'>120</span></li><li><details><summary>geometry: Point (-55.51, -1.92)</summary><ul><li><span class='ee-k'>type:</span><span class='ee-v'>Point</span></li><li><details><summary>coordinates: [-55.5131, -1.9192]</summary><ul><li><span class='ee-k'>0:</span><span class='ee-v'>-55.5131</span></li><li><span class='ee-k'>1:</span><span class='ee-v'>-1.9192</span></li></ul></details></li></ul></details></li><li><details><summary>properties: Object (10 properties)</summary><ul><li><span class='ee-k'>Data:</span><span class='ee-v'>2014-05-01</span></li><li><span class='ee-k'>EstacaoCodigo:</span><span class='ee-v'>17050001</span></li><li><span class='ee-k'>Maxima:</span><span class='ee-v'>840</span></li><li><span class='ee-k'>Media:</span><span class='ee-v'>832</span></li><li><span class='ee-k'>Minima:</span><span class='ee-v'>815</span></li><li><span class='ee-k'>latitude:</span><span class='ee-v'>-1.9192</span></li><li><span class='ee-k'>longitude:</span><span class='ee-v'>-55.5131</span></li><li><details><summary>system:time_start: Date (2014-05-01 00:00:00)</summary><ul><li><span class='ee-k'>type:</span><span class='ee-v'>Date</span></li><li><span class='ee-k'>value:</span><span class='ee-v'>1398902400000</span></li></ul></details></li><li><span class='ee-k'>water_period:</span><span class='ee-v'>HW</span></li><li><span class='ee-k'>water_period3:</span><span class='ee-v'>HW</span></li></ul></details></li></ul></details></li><li><details><summary>121: Feature (Point, 10 properties)</summary><ul><li><span class='ee-k'>type:</span><span class='ee-v'>Feature</span></li><li><span class='ee-k'>id:</span><span class='ee-v'>121</span></li><li><details><summary>geometry: Point (-55.51, -1.92)</summary><ul><li><span class='ee-k'>type:</span><span class='ee-v'>Point</span></li><li><details><summary>coordinates: [-55.5131, -1.9192]</summary><ul><li><span class='ee-k'>0:</span><span class='ee-v'>-55.5131</span></li><li><span class='ee-k'>1:</span><span class='ee-v'>-1.9192</span></li></ul></details></li></ul></details></li><li><details><summary>properties: Object (10 properties)</summary><ul><li><span class='ee-k'>Data:</span><span class='ee-v'>2014-04-01</span></li><li><span class='ee-k'>EstacaoCodigo:</span><span class='ee-v'>17050001</span></li><li><span class='ee-k'>Maxima:</span><span class='ee-v'>812</span></li><li><span class='ee-k'>Media:</span><span class='ee-v'>781</span></li><li><span class='ee-k'>Minima:</span><span class='ee-v'>746</span></li><li><span class='ee-k'>latitude:</span><span class='ee-v'>-1.9192</span></li><li><span class='ee-k'>longitude:</span><span class='ee-v'>-55.5131</span></li><li><details><summary>system:time_start: Date (2014-04-01 00:00:00)</summary><ul><li><span class='ee-k'>type:</span><span class='ee-v'>Date</span></li><li><span class='ee-k'>value:</span><span class='ee-v'>1396310400000</span></li></ul></details></li><li><span class='ee-k'>water_period:</span><span class='ee-v'>HW</span></li><li><span class='ee-k'>water_period3:</span><span class='ee-v'>HW</span></li></ul></details></li></ul></details></li><li><details><summary>122: Feature (Point, 10 properties)</summary><ul><li><span class='ee-k'>type:</span><span class='ee-v'>Feature</span></li><li><span class='ee-k'>id:</span><span class='ee-v'>122</span></li><li><details><summary>geometry: Point (-55.51, -1.92)</summary><ul><li><span class='ee-k'>type:</span><span class='ee-v'>Point</span></li><li><details><summary>coordinates: [-55.5131, -1.9192]</summary><ul><li><span class='ee-k'>0:</span><span class='ee-v'>-55.5131</span></li><li><span class='ee-k'>1:</span><span class='ee-v'>-1.9192</span></li></ul></details></li></ul></details></li><li><details><summary>properties: Object (10 properties)</summary><ul><li><span class='ee-k'>Data:</span><span class='ee-v'>2014-03-01</span></li><li><span class='ee-k'>EstacaoCodigo:</span><span class='ee-v'>17050001</span></li><li><span class='ee-k'>Maxima:</span><span class='ee-v'>741</span></li><li><span class='ee-k'>Media:</span><span class='ee-v'>677</span></li><li><span class='ee-k'>Minima:</span><span class='ee-v'>601</span></li><li><span class='ee-k'>latitude:</span><span class='ee-v'>-1.9192</span></li><li><span class='ee-k'>longitude:</span><span class='ee-v'>-55.5131</span></li><li><details><summary>system:time_start: Date (2014-03-01 00:00:00)</summary><ul><li><span class='ee-k'>type:</span><span class='ee-v'>Date</span></li><li><span class='ee-k'>value:</span><span class='ee-v'>1393632000000</span></li></ul></details></li><li><span class='ee-k'>water_period:</span><span class='ee-v'>HW</span></li><li><span class='ee-k'>water_period3:</span><span class='ee-v'>HW</span></li></ul></details></li></ul></details></li><li><details><summary>123: Feature (Point, 12 properties)</summary><ul><li><span class='ee-k'>type:</span><span class='ee-v'>Feature</span></li><li><span class='ee-k'>id:</span><span class='ee-v'>123</span></li><li><details><summary>geometry: Point (-55.51, -1.92)</summary><ul><li><span class='ee-k'>type:</span><span class='ee-v'>Point</span></li><li><details><summary>coordinates: [-55.5131, -1.9192]</summary><ul><li><span class='ee-k'>0:</span><span class='ee-v'>-55.5131</span></li><li><span class='ee-k'>1:</span><span class='ee-v'>-1.9192</span></li></ul></details></li></ul></details></li><li><details><summary>properties: Object (12 properties)</summary><ul><li><span class='ee-k'>Data:</span><span class='ee-v'>2014-02-01</span></li><li><span class='ee-k'>EstacaoCodigo:</span><span class='ee-v'>17050001</span></li><li><span class='ee-k'>Maxima:</span><span class='ee-v'>598</span></li><li><span class='ee-k'>Media:</span><span class='ee-v'>545</span></li><li><span class='ee-k'>Minima:</span><span class='ee-v'>487</span></li><li><span class='ee-k'>fall:</span><span class='ee-v'>True</span></li><li><span class='ee-k'>latitude:</span><span class='ee-v'>-1.9192</span></li><li><span class='ee-k'>longitude:</span><span class='ee-v'>-55.5131</span></li><li><span class='ee-k'>rise:</span><span class='ee-v'>False</span></li><li><details><summary>system:time_start: Date (2014-02-01 00:00:00)</summary><ul><li><span class='ee-k'>type:</span><span class='ee-v'>Date</span></li><li><span class='ee-k'>value:</span><span class='ee-v'>1391212800000</span></li></ul></details></li><li><span class='ee-k'>water_period:</span><span class='ee-v'>F</span></li><li><span class='ee-k'>water_period3:</span><span class='ee-v'>T</span></li></ul></details></li></ul></details></li><li><details><summary>124: Feature (Point, 12 properties)</summary><ul><li><span class='ee-k'>type:</span><span class='ee-v'>Feature</span></li><li><span class='ee-k'>id:</span><span class='ee-v'>124</span></li><li><details><summary>geometry: Point (-55.51, -1.92)</summary><ul><li><span class='ee-k'>type:</span><span class='ee-v'>Point</span></li><li><details><summary>coordinates: [-55.5131, -1.9192]</summary><ul><li><span class='ee-k'>0:</span><span class='ee-v'>-55.5131</span></li><li><span class='ee-k'>1:</span><span class='ee-v'>-1.9192</span></li></ul></details></li></ul></details></li><li><details><summary>properties: Object (12 properties)</summary><ul><li><span class='ee-k'>Data:</span><span class='ee-v'>2014-01-01</span></li><li><span class='ee-k'>EstacaoCodigo:</span><span class='ee-v'>17050001</span></li><li><span class='ee-k'>Maxima:</span><span class='ee-v'>482</span></li><li><span class='ee-k'>Media:</span><span class='ee-v'>442</span></li><li><span class='ee-k'>Minima:</span><span class='ee-v'>396</span></li><li><span class='ee-k'>fall:</span><span class='ee-v'>True</span></li><li><span class='ee-k'>latitude:</span><span class='ee-v'>-1.9192</span></li><li><span class='ee-k'>longitude:</span><span class='ee-v'>-55.5131</span></li><li><span class='ee-k'>rise:</span><span class='ee-v'>False</span></li><li><details><summary>system:time_start: Date (2014-01-01 00:00:00)</summary><ul><li><span class='ee-k'>type:</span><span class='ee-v'>Date</span></li><li><span class='ee-k'>value:</span><span class='ee-v'>1388534400000</span></li></ul></details></li><li><span class='ee-k'>water_period:</span><span class='ee-v'>F</span></li><li><span class='ee-k'>water_period3:</span><span class='ee-v'>T</span></li></ul></details></li></ul></details></li><li><details><summary>125: Feature (Point, 10 properties)</summary><ul><li><span class='ee-k'>type:</span><span class='ee-v'>Feature</span></li><li><span class='ee-k'>id:</span><span class='ee-v'>125</span></li><li><details><summary>geometry: Point (-55.51, -1.92)</summary><ul><li><span class='ee-k'>type:</span><span class='ee-v'>Point</span></li><li><details><summary>coordinates: [-55.5131, -1.9192]</summary><ul><li><span class='ee-k'>0:</span><span class='ee-v'>-55.5131</span></li><li><span class='ee-k'>1:</span><span class='ee-v'>-1.9192</span></li></ul></details></li></ul></details></li><li><details><summary>properties: Object (10 properties)</summary><ul><li><span class='ee-k'>Data:</span><span class='ee-v'>2013-12-01</span></li><li><span class='ee-k'>EstacaoCodigo:</span><span class='ee-v'>17050001</span></li><li><span class='ee-k'>Maxima:</span><span class='ee-v'>389</span></li><li><span class='ee-k'>Media:</span><span class='ee-v'>334</span></li><li><span class='ee-k'>Minima:</span><span class='ee-v'>278</span></li><li><span class='ee-k'>latitude:</span><span class='ee-v'>-1.9192</span></li><li><span class='ee-k'>longitude:</span><span class='ee-v'>-55.5131</span></li><li><details><summary>system:time_start: Date (2013-12-01 00:00:00)</summary><ul><li><span class='ee-k'>type:</span><span class='ee-v'>Date</span></li><li><span class='ee-k'>value:</span><span class='ee-v'>1385856000000</span></li></ul></details></li><li><span class='ee-k'>water_period:</span><span class='ee-v'>LW</span></li><li><span class='ee-k'>water_period3:</span><span class='ee-v'>LW</span></li></ul></details></li></ul></details></li><li><details><summary>126: Feature (Point, 10 properties)</summary><ul><li><span class='ee-k'>type:</span><span class='ee-v'>Feature</span></li><li><span class='ee-k'>id:</span><span class='ee-v'>126</span></li><li><details><summary>geometry: Point (-55.51, -1.92)</summary><ul><li><span class='ee-k'>type:</span><span class='ee-v'>Point</span></li><li><details><summary>coordinates: [-55.5131, -1.9192]</summary><ul><li><span class='ee-k'>0:</span><span class='ee-v'>-55.5131</span></li><li><span class='ee-k'>1:</span><span class='ee-v'>-1.9192</span></li></ul></details></li></ul></details></li><li><details><summary>properties: Object (10 properties)</summary><ul><li><span class='ee-k'>Data:</span><span class='ee-v'>2013-11-01</span></li><li><span class='ee-k'>EstacaoCodigo:</span><span class='ee-v'>17050001</span></li><li><span class='ee-k'>Maxima:</span><span class='ee-v'>271</span></li><li><span class='ee-k'>Media:</span><span class='ee-v'>243</span></li><li><span class='ee-k'>Minima:</span><span class='ee-v'>214</span></li><li><span class='ee-k'>latitude:</span><span class='ee-v'>-1.9192</span></li><li><span class='ee-k'>longitude:</span><span class='ee-v'>-55.5131</span></li><li><details><summary>system:time_start: Date (2013-11-01 00:00:00)</summary><ul><li><span class='ee-k'>type:</span><span class='ee-v'>Date</span></li><li><span class='ee-k'>value:</span><span class='ee-v'>1383264000000</span></li></ul></details></li><li><span class='ee-k'>water_period:</span><span class='ee-v'>LW</span></li><li><span class='ee-k'>water_period3:</span><span class='ee-v'>LW</span></li></ul></details></li></ul></details></li><li><details><summary>127: Feature (Point, 10 properties)</summary><ul><li><span class='ee-k'>type:</span><span class='ee-v'>Feature</span></li><li><span class='ee-k'>id:</span><span class='ee-v'>127</span></li><li><details><summary>geometry: Point (-55.51, -1.92)</summary><ul><li><span class='ee-k'>type:</span><span class='ee-v'>Point</span></li><li><details><summary>coordinates: [-55.5131, -1.9192]</summary><ul><li><span class='ee-k'>0:</span><span class='ee-v'>-55.5131</span></li><li><span class='ee-k'>1:</span><span class='ee-v'>-1.9192</span></li></ul></details></li></ul></details></li><li><details><summary>properties: Object (10 properties)</summary><ul><li><span class='ee-k'>Data:</span><span class='ee-v'>2013-10-01</span></li><li><span class='ee-k'>EstacaoCodigo:</span><span class='ee-v'>17050001</span></li><li><span class='ee-k'>Maxima:</span><span class='ee-v'>412</span></li><li><span class='ee-k'>Media:</span><span class='ee-v'>311</span></li><li><span class='ee-k'>Minima:</span><span class='ee-v'>213</span></li><li><span class='ee-k'>latitude:</span><span class='ee-v'>-1.9192</span></li><li><span class='ee-k'>longitude:</span><span class='ee-v'>-55.5131</span></li><li><details><summary>system:time_start: Date (2013-10-01 00:00:00)</summary><ul><li><span class='ee-k'>type:</span><span class='ee-v'>Date</span></li><li><span class='ee-k'>value:</span><span class='ee-v'>1380585600000</span></li></ul></details></li><li><span class='ee-k'>water_period:</span><span class='ee-v'>LW</span></li><li><span class='ee-k'>water_period3:</span><span class='ee-v'>LW</span></li></ul></details></li></ul></details></li><li><details><summary>128: Feature (Point, 12 properties)</summary><ul><li><span class='ee-k'>type:</span><span class='ee-v'>Feature</span></li><li><span class='ee-k'>id:</span><span class='ee-v'>128</span></li><li><details><summary>geometry: Point (-55.51, -1.92)</summary><ul><li><span class='ee-k'>type:</span><span class='ee-v'>Point</span></li><li><details><summary>coordinates: [-55.5131, -1.9192]</summary><ul><li><span class='ee-k'>0:</span><span class='ee-v'>-55.5131</span></li><li><span class='ee-k'>1:</span><span class='ee-v'>-1.9192</span></li></ul></details></li></ul></details></li><li><details><summary>properties: Object (12 properties)</summary><ul><li><span class='ee-k'>Data:</span><span class='ee-v'>2013-09-01</span></li><li><span class='ee-k'>EstacaoCodigo:</span><span class='ee-v'>17050001</span></li><li><span class='ee-k'>Maxima:</span><span class='ee-v'>568</span></li><li><span class='ee-k'>Media:</span><span class='ee-v'>503</span></li><li><span class='ee-k'>Minima:</span><span class='ee-v'>418</span></li><li><span class='ee-k'>fall:</span><span class='ee-v'>False</span></li><li><span class='ee-k'>latitude:</span><span class='ee-v'>-1.9192</span></li><li><span class='ee-k'>longitude:</span><span class='ee-v'>-55.5131</span></li><li><span class='ee-k'>rise:</span><span class='ee-v'>True</span></li><li><details><summary>system:time_start: Date (2013-09-01 00:00:00)</summary><ul><li><span class='ee-k'>type:</span><span class='ee-v'>Date</span></li><li><span class='ee-k'>value:</span><span class='ee-v'>1377993600000</span></li></ul></details></li><li><span class='ee-k'>water_period:</span><span class='ee-v'>R</span></li><li><span class='ee-k'>water_period3:</span><span class='ee-v'>T</span></li></ul></details></li></ul></details></li><li><details><summary>129: Feature (Point, 10 properties)</summary><ul><li><span class='ee-k'>type:</span><span class='ee-v'>Feature</span></li><li><span class='ee-k'>id:</span><span class='ee-v'>129</span></li><li><details><summary>geometry: Point (-55.51, -1.92)</summary><ul><li><span class='ee-k'>type:</span><span class='ee-v'>Point</span></li><li><details><summary>coordinates: [-55.5131, -1.9192]</summary><ul><li><span class='ee-k'>0:</span><span class='ee-v'>-55.5131</span></li><li><span class='ee-k'>1:</span><span class='ee-v'>-1.9192</span></li></ul></details></li></ul></details></li><li><details><summary>properties: Object (10 properties)</summary><ul><li><span class='ee-k'>Data:</span><span class='ee-v'>2013-08-01</span></li><li><span class='ee-k'>EstacaoCodigo:</span><span class='ee-v'>17050001</span></li><li><span class='ee-k'>Maxima:</span><span class='ee-v'>691</span></li><li><span class='ee-k'>Media:</span><span class='ee-v'>633</span></li><li><span class='ee-k'>Minima:</span><span class='ee-v'>573</span></li><li><span class='ee-k'>latitude:</span><span class='ee-v'>-1.9192</span></li><li><span class='ee-k'>longitude:</span><span class='ee-v'>-55.5131</span></li><li><details><summary>system:time_start: Date (2013-08-01 00:00:00)</summary><ul><li><span class='ee-k'>type:</span><span class='ee-v'>Date</span></li><li><span class='ee-k'>value:</span><span class='ee-v'>1375315200000</span></li></ul></details></li><li><span class='ee-k'>water_period:</span><span class='ee-v'>HW</span></li><li><span class='ee-k'>water_period3:</span><span class='ee-v'>HW</span></li></ul></details></li></ul></details></li><li><details><summary>130: Feature (Point, 10 properties)</summary><ul><li><span class='ee-k'>type:</span><span class='ee-v'>Feature</span></li><li><span class='ee-k'>id:</span><span class='ee-v'>130</span></li><li><details><summary>geometry: Point (-55.51, -1.92)</summary><ul><li><span class='ee-k'>type:</span><span class='ee-v'>Point</span></li><li><details><summary>coordinates: [-55.5131, -1.9192]</summary><ul><li><span class='ee-k'>0:</span><span class='ee-v'>-55.5131</span></li><li><span class='ee-k'>1:</span><span class='ee-v'>-1.9192</span></li></ul></details></li></ul></details></li><li><details><summary>properties: Object (10 properties)</summary><ul><li><span class='ee-k'>Data:</span><span class='ee-v'>2013-07-01</span></li><li><span class='ee-k'>EstacaoCodigo:</span><span class='ee-v'>17050001</span></li><li><span class='ee-k'>Maxima:</span><span class='ee-v'>770</span></li><li><span class='ee-k'>Media:</span><span class='ee-v'>734</span></li><li><span class='ee-k'>Minima:</span><span class='ee-v'>697</span></li><li><span class='ee-k'>latitude:</span><span class='ee-v'>-1.9192</span></li><li><span class='ee-k'>longitude:</span><span class='ee-v'>-55.5131</span></li><li><details><summary>system:time_start: Date (2013-07-01 00:00:00)</summary><ul><li><span class='ee-k'>type:</span><span class='ee-v'>Date</span></li><li><span class='ee-k'>value:</span><span class='ee-v'>1372636800000</span></li></ul></details></li><li><span class='ee-k'>water_period:</span><span class='ee-v'>HW</span></li><li><span class='ee-k'>water_period3:</span><span class='ee-v'>HW</span></li></ul></details></li></ul></details></li><li><details><summary>131: Feature (Point, 10 properties)</summary><ul><li><span class='ee-k'>type:</span><span class='ee-v'>Feature</span></li><li><span class='ee-k'>id:</span><span class='ee-v'>131</span></li><li><details><summary>geometry: Point (-55.51, -1.92)</summary><ul><li><span class='ee-k'>type:</span><span class='ee-v'>Point</span></li><li><details><summary>coordinates: [-55.5131, -1.9192]</summary><ul><li><span class='ee-k'>0:</span><span class='ee-v'>-55.5131</span></li><li><span class='ee-k'>1:</span><span class='ee-v'>-1.9192</span></li></ul></details></li></ul></details></li><li><details><summary>properties: Object (10 properties)</summary><ul><li><span class='ee-k'>Data:</span><span class='ee-v'>2013-06-01</span></li><li><span class='ee-k'>EstacaoCodigo:</span><span class='ee-v'>17050001</span></li><li><span class='ee-k'>Maxima:</span><span class='ee-v'>820</span></li><li><span class='ee-k'>Media:</span><span class='ee-v'>795</span></li><li><span class='ee-k'>Minima:</span><span class='ee-v'>770</span></li><li><span class='ee-k'>latitude:</span><span class='ee-v'>-1.9192</span></li><li><span class='ee-k'>longitude:</span><span class='ee-v'>-55.5131</span></li><li><details><summary>system:time_start: Date (2013-06-01 00:00:00)</summary><ul><li><span class='ee-k'>type:</span><span class='ee-v'>Date</span></li><li><span class='ee-k'>value:</span><span class='ee-v'>1370044800000</span></li></ul></details></li><li><span class='ee-k'>water_period:</span><span class='ee-v'>HW</span></li><li><span class='ee-k'>water_period3:</span><span class='ee-v'>HW</span></li></ul></details></li></ul></details></li><li><details><summary>132: Feature (Point, 10 properties)</summary><ul><li><span class='ee-k'>type:</span><span class='ee-v'>Feature</span></li><li><span class='ee-k'>id:</span><span class='ee-v'>132</span></li><li><details><summary>geometry: Point (-55.51, -1.92)</summary><ul><li><span class='ee-k'>type:</span><span class='ee-v'>Point</span></li><li><details><summary>coordinates: [-55.5131, -1.9192]</summary><ul><li><span class='ee-k'>0:</span><span class='ee-v'>-55.5131</span></li><li><span class='ee-k'>1:</span><span class='ee-v'>-1.9192</span></li></ul></details></li></ul></details></li><li><details><summary>properties: Object (10 properties)</summary><ul><li><span class='ee-k'>Data:</span><span class='ee-v'>2013-05-01</span></li><li><span class='ee-k'>EstacaoCodigo:</span><span class='ee-v'>17050001</span></li><li><span class='ee-k'>Maxima:</span><span class='ee-v'>820</span></li><li><span class='ee-k'>Media:</span><span class='ee-v'>803</span></li><li><span class='ee-k'>Minima:</span><span class='ee-v'>777</span></li><li><span class='ee-k'>latitude:</span><span class='ee-v'>-1.9192</span></li><li><span class='ee-k'>longitude:</span><span class='ee-v'>-55.5131</span></li><li><details><summary>system:time_start: Date (2013-05-01 00:00:00)</summary><ul><li><span class='ee-k'>type:</span><span class='ee-v'>Date</span></li><li><span class='ee-k'>value:</span><span class='ee-v'>1367366400000</span></li></ul></details></li><li><span class='ee-k'>water_period:</span><span class='ee-v'>HW</span></li><li><span class='ee-k'>water_period3:</span><span class='ee-v'>HW</span></li></ul></details></li></ul></details></li><li><details><summary>133: Feature (Point, 10 properties)</summary><ul><li><span class='ee-k'>type:</span><span class='ee-v'>Feature</span></li><li><span class='ee-k'>id:</span><span class='ee-v'>133</span></li><li><details><summary>geometry: Point (-55.51, -1.92)</summary><ul><li><span class='ee-k'>type:</span><span class='ee-v'>Point</span></li><li><details><summary>coordinates: [-55.5131, -1.9192]</summary><ul><li><span class='ee-k'>0:</span><span class='ee-v'>-55.5131</span></li><li><span class='ee-k'>1:</span><span class='ee-v'>-1.9192</span></li></ul></details></li></ul></details></li><li><details><summary>properties: Object (10 properties)</summary><ul><li><span class='ee-k'>Data:</span><span class='ee-v'>2013-04-01</span></li><li><span class='ee-k'>EstacaoCodigo:</span><span class='ee-v'>17050001</span></li><li><span class='ee-k'>Maxima:</span><span class='ee-v'>773</span></li><li><span class='ee-k'>Media:</span><span class='ee-v'>750</span></li><li><span class='ee-k'>Minima:</span><span class='ee-v'>717</span></li><li><span class='ee-k'>latitude:</span><span class='ee-v'>-1.9192</span></li><li><span class='ee-k'>longitude:</span><span class='ee-v'>-55.5131</span></li><li><details><summary>system:time_start: Date (2013-04-01 00:00:00)</summary><ul><li><span class='ee-k'>type:</span><span class='ee-v'>Date</span></li><li><span class='ee-k'>value:</span><span class='ee-v'>1364774400000</span></li></ul></details></li><li><span class='ee-k'>water_period:</span><span class='ee-v'>HW</span></li><li><span class='ee-k'>water_period3:</span><span class='ee-v'>HW</span></li></ul></details></li></ul></details></li><li><details><summary>134: Feature (Point, 10 properties)</summary><ul><li><span class='ee-k'>type:</span><span class='ee-v'>Feature</span></li><li><span class='ee-k'>id:</span><span class='ee-v'>134</span></li><li><details><summary>geometry: Point (-55.51, -1.92)</summary><ul><li><span class='ee-k'>type:</span><span class='ee-v'>Point</span></li><li><details><summary>coordinates: [-55.5131, -1.9192]</summary><ul><li><span class='ee-k'>0:</span><span class='ee-v'>-55.5131</span></li><li><span class='ee-k'>1:</span><span class='ee-v'>-1.9192</span></li></ul></details></li></ul></details></li><li><details><summary>properties: Object (10 properties)</summary><ul><li><span class='ee-k'>Data:</span><span class='ee-v'>2013-03-01</span></li><li><span class='ee-k'>EstacaoCodigo:</span><span class='ee-v'>17050001</span></li><li><span class='ee-k'>Maxima:</span><span class='ee-v'>712</span></li><li><span class='ee-k'>Media:</span><span class='ee-v'>645</span></li><li><span class='ee-k'>Minima:</span><span class='ee-v'>572</span></li><li><span class='ee-k'>latitude:</span><span class='ee-v'>-1.9192</span></li><li><span class='ee-k'>longitude:</span><span class='ee-v'>-55.5131</span></li><li><details><summary>system:time_start: Date (2013-03-01 00:00:00)</summary><ul><li><span class='ee-k'>type:</span><span class='ee-v'>Date</span></li><li><span class='ee-k'>value:</span><span class='ee-v'>1362096000000</span></li></ul></details></li><li><span class='ee-k'>water_period:</span><span class='ee-v'>HW</span></li><li><span class='ee-k'>water_period3:</span><span class='ee-v'>HW</span></li></ul></details></li></ul></details></li><li><details><summary>135: Feature (Point, 12 properties)</summary><ul><li><span class='ee-k'>type:</span><span class='ee-v'>Feature</span></li><li><span class='ee-k'>id:</span><span class='ee-v'>135</span></li><li><details><summary>geometry: Point (-55.51, -1.92)</summary><ul><li><span class='ee-k'>type:</span><span class='ee-v'>Point</span></li><li><details><summary>coordinates: [-55.5131, -1.9192]</summary><ul><li><span class='ee-k'>0:</span><span class='ee-v'>-55.5131</span></li><li><span class='ee-k'>1:</span><span class='ee-v'>-1.9192</span></li></ul></details></li></ul></details></li><li><details><summary>properties: Object (12 properties)</summary><ul><li><span class='ee-k'>Data:</span><span class='ee-v'>2013-02-01</span></li><li><span class='ee-k'>EstacaoCodigo:</span><span class='ee-v'>17050001</span></li><li><span class='ee-k'>Maxima:</span><span class='ee-v'>565</span></li><li><span class='ee-k'>Media:</span><span class='ee-v'>488</span></li><li><span class='ee-k'>Minima:</span><span class='ee-v'>416</span></li><li><span class='ee-k'>fall:</span><span class='ee-v'>True</span></li><li><span class='ee-k'>latitude:</span><span class='ee-v'>-1.9192</span></li><li><span class='ee-k'>longitude:</span><span class='ee-v'>-55.5131</span></li><li><span class='ee-k'>rise:</span><span class='ee-v'>False</span></li><li><details><summary>system:time_start: Date (2013-02-01 00:00:00)</summary><ul><li><span class='ee-k'>type:</span><span class='ee-v'>Date</span></li><li><span class='ee-k'>value:</span><span class='ee-v'>1359676800000</span></li></ul></details></li><li><span class='ee-k'>water_period:</span><span class='ee-v'>F</span></li><li><span class='ee-k'>water_period3:</span><span class='ee-v'>T</span></li></ul></details></li></ul></details></li><li><details><summary>136: Feature (Point, 10 properties)</summary><ul><li><span class='ee-k'>type:</span><span class='ee-v'>Feature</span></li><li><span class='ee-k'>id:</span><span class='ee-v'>136</span></li><li><details><summary>geometry: Point (-55.51, -1.92)</summary><ul><li><span class='ee-k'>type:</span><span class='ee-v'>Point</span></li><li><details><summary>coordinates: [-55.5131, -1.9192]</summary><ul><li><span class='ee-k'>0:</span><span class='ee-v'>-55.5131</span></li><li><span class='ee-k'>1:</span><span class='ee-v'>-1.9192</span></li></ul></details></li></ul></details></li><li><details><summary>properties: Object (10 properties)</summary><ul><li><span class='ee-k'>Data:</span><span class='ee-v'>2013-01-01</span></li><li><span class='ee-k'>EstacaoCodigo:</span><span class='ee-v'>17050001</span></li><li><span class='ee-k'>Maxima:</span><span class='ee-v'>413</span></li><li><span class='ee-k'>Media:</span><span class='ee-v'>303</span></li><li><span class='ee-k'>Minima:</span><span class='ee-v'>193</span></li><li><span class='ee-k'>latitude:</span><span class='ee-v'>-1.9192</span></li><li><span class='ee-k'>longitude:</span><span class='ee-v'>-55.5131</span></li><li><details><summary>system:time_start: Date (2013-01-01 00:00:00)</summary><ul><li><span class='ee-k'>type:</span><span class='ee-v'>Date</span></li><li><span class='ee-k'>value:</span><span class='ee-v'>1356998400000</span></li></ul></details></li><li><span class='ee-k'>water_period:</span><span class='ee-v'>LW</span></li><li><span class='ee-k'>water_period3:</span><span class='ee-v'>LW</span></li></ul></details></li></ul></details></li><li><details><summary>137: Feature (Point, 10 properties)</summary><ul><li><span class='ee-k'>type:</span><span class='ee-v'>Feature</span></li><li><span class='ee-k'>id:</span><span class='ee-v'>137</span></li><li><details><summary>geometry: Point (-55.51, -1.92)</summary><ul><li><span class='ee-k'>type:</span><span class='ee-v'>Point</span></li><li><details><summary>coordinates: [-55.5131, -1.9192]</summary><ul><li><span class='ee-k'>0:</span><span class='ee-v'>-55.5131</span></li><li><span class='ee-k'>1:</span><span class='ee-v'>-1.9192</span></li></ul></details></li></ul></details></li><li><details><summary>properties: Object (10 properties)</summary><ul><li><span class='ee-k'>Data:</span><span class='ee-v'>2012-12-01</span></li><li><span class='ee-k'>EstacaoCodigo:</span><span class='ee-v'>17050001</span></li><li><span class='ee-k'>Maxima:</span><span class='ee-v'>187</span></li><li><span class='ee-k'>Media:</span><span class='ee-v'>121</span></li><li><span class='ee-k'>Minima:</span><span class='ee-v'>55</span></li><li><span class='ee-k'>latitude:</span><span class='ee-v'>-1.9192</span></li><li><span class='ee-k'>longitude:</span><span class='ee-v'>-55.5131</span></li><li><details><summary>system:time_start: Date (2012-12-01 00:00:00)</summary><ul><li><span class='ee-k'>type:</span><span class='ee-v'>Date</span></li><li><span class='ee-k'>value:</span><span class='ee-v'>1354320000000</span></li></ul></details></li><li><span class='ee-k'>water_period:</span><span class='ee-v'>LW</span></li><li><span class='ee-k'>water_period3:</span><span class='ee-v'>LW</span></li></ul></details></li></ul></details></li><li><details><summary>138: Feature (Point, 10 properties)</summary><ul><li><span class='ee-k'>type:</span><span class='ee-v'>Feature</span></li><li><span class='ee-k'>id:</span><span class='ee-v'>138</span></li><li><details><summary>geometry: Point (-55.51, -1.92)</summary><ul><li><span class='ee-k'>type:</span><span class='ee-v'>Point</span></li><li><details><summary>coordinates: [-55.5131, -1.9192]</summary><ul><li><span class='ee-k'>0:</span><span class='ee-v'>-55.5131</span></li><li><span class='ee-k'>1:</span><span class='ee-v'>-1.9192</span></li></ul></details></li></ul></details></li><li><details><summary>properties: Object (10 properties)</summary><ul><li><span class='ee-k'>Data:</span><span class='ee-v'>2012-11-01</span></li><li><span class='ee-k'>EstacaoCodigo:</span><span class='ee-v'>17050001</span></li><li><span class='ee-k'>Maxima:</span><span class='ee-v'>90</span></li><li><span class='ee-k'>Media:</span><span class='ee-v'>70</span></li><li><span class='ee-k'>Minima:</span><span class='ee-v'>46</span></li><li><span class='ee-k'>latitude:</span><span class='ee-v'>-1.9192</span></li><li><span class='ee-k'>longitude:</span><span class='ee-v'>-55.5131</span></li><li><details><summary>system:time_start: Date (2012-11-01 00:00:00)</summary><ul><li><span class='ee-k'>type:</span><span class='ee-v'>Date</span></li><li><span class='ee-k'>value:</span><span class='ee-v'>1351728000000</span></li></ul></details></li><li><span class='ee-k'>water_period:</span><span class='ee-v'>LW</span></li><li><span class='ee-k'>water_period3:</span><span class='ee-v'>LW</span></li></ul></details></li></ul></details></li><li><details><summary>139: Feature (Point, 10 properties)</summary><ul><li><span class='ee-k'>type:</span><span class='ee-v'>Feature</span></li><li><span class='ee-k'>id:</span><span class='ee-v'>139</span></li><li><details><summary>geometry: Point (-55.51, -1.92)</summary><ul><li><span class='ee-k'>type:</span><span class='ee-v'>Point</span></li><li><details><summary>coordinates: [-55.5131, -1.9192]</summary><ul><li><span class='ee-k'>0:</span><span class='ee-v'>-55.5131</span></li><li><span class='ee-k'>1:</span><span class='ee-v'>-1.9192</span></li></ul></details></li></ul></details></li><li><details><summary>properties: Object (10 properties)</summary><ul><li><span class='ee-k'>Data:</span><span class='ee-v'>2012-10-01</span></li><li><span class='ee-k'>EstacaoCodigo:</span><span class='ee-v'>17050001</span></li><li><span class='ee-k'>Maxima:</span><span class='ee-v'>236</span></li><li><span class='ee-k'>Media:</span><span class='ee-v'>127</span></li><li><span class='ee-k'>Minima:</span><span class='ee-v'>84</span></li><li><span class='ee-k'>latitude:</span><span class='ee-v'>-1.9192</span></li><li><span class='ee-k'>longitude:</span><span class='ee-v'>-55.5131</span></li><li><details><summary>system:time_start: Date (2012-10-01 00:00:00)</summary><ul><li><span class='ee-k'>type:</span><span class='ee-v'>Date</span></li><li><span class='ee-k'>value:</span><span class='ee-v'>1349049600000</span></li></ul></details></li><li><span class='ee-k'>water_period:</span><span class='ee-v'>LW</span></li><li><span class='ee-k'>water_period3:</span><span class='ee-v'>LW</span></li></ul></details></li></ul></details></li><li><details><summary>140: Feature (Point, 12 properties)</summary><ul><li><span class='ee-k'>type:</span><span class='ee-v'>Feature</span></li><li><span class='ee-k'>id:</span><span class='ee-v'>140</span></li><li><details><summary>geometry: Point (-55.51, -1.92)</summary><ul><li><span class='ee-k'>type:</span><span class='ee-v'>Point</span></li><li><details><summary>coordinates: [-55.5131, -1.9192]</summary><ul><li><span class='ee-k'>0:</span><span class='ee-v'>-55.5131</span></li><li><span class='ee-k'>1:</span><span class='ee-v'>-1.9192</span></li></ul></details></li></ul></details></li><li><details><summary>properties: Object (12 properties)</summary><ul><li><span class='ee-k'>Data:</span><span class='ee-v'>2012-09-01</span></li><li><span class='ee-k'>EstacaoCodigo:</span><span class='ee-v'>17050001</span></li><li><span class='ee-k'>Maxima:</span><span class='ee-v'>532</span></li><li><span class='ee-k'>Media:</span><span class='ee-v'>388</span></li><li><span class='ee-k'>Minima:</span><span class='ee-v'>246</span></li><li><span class='ee-k'>fall:</span><span class='ee-v'>False</span></li><li><span class='ee-k'>latitude:</span><span class='ee-v'>-1.9192</span></li><li><span class='ee-k'>longitude:</span><span class='ee-v'>-55.5131</span></li><li><span class='ee-k'>rise:</span><span class='ee-v'>True</span></li><li><details><summary>system:time_start: Date (2012-09-01 00:00:00)</summary><ul><li><span class='ee-k'>type:</span><span class='ee-v'>Date</span></li><li><span class='ee-k'>value:</span><span class='ee-v'>1346457600000</span></li></ul></details></li><li><span class='ee-k'>water_period:</span><span class='ee-v'>R</span></li><li><span class='ee-k'>water_period3:</span><span class='ee-v'>T</span></li></ul></details></li></ul></details></li><li><details><summary>141: Feature (Point, 10 properties)</summary><ul><li><span class='ee-k'>type:</span><span class='ee-v'>Feature</span></li><li><span class='ee-k'>id:</span><span class='ee-v'>141</span></li><li><details><summary>geometry: Point (-55.51, -1.92)</summary><ul><li><span class='ee-k'>type:</span><span class='ee-v'>Point</span></li><li><details><summary>coordinates: [-55.5131, -1.9192]</summary><ul><li><span class='ee-k'>0:</span><span class='ee-v'>-55.5131</span></li><li><span class='ee-k'>1:</span><span class='ee-v'>-1.9192</span></li></ul></details></li></ul></details></li><li><details><summary>properties: Object (10 properties)</summary><ul><li><span class='ee-k'>Data:</span><span class='ee-v'>2012-08-01</span></li><li><span class='ee-k'>EstacaoCodigo:</span><span class='ee-v'>17050001</span></li><li><span class='ee-k'>Maxima:</span><span class='ee-v'>699</span></li><li><span class='ee-k'>Media:</span><span class='ee-v'>628</span></li><li><span class='ee-k'>Minima:</span><span class='ee-v'>538</span></li><li><span class='ee-k'>latitude:</span><span class='ee-v'>-1.9192</span></li><li><span class='ee-k'>longitude:</span><span class='ee-v'>-55.5131</span></li><li><details><summary>system:time_start: Date (2012-08-01 00:00:00)</summary><ul><li><span class='ee-k'>type:</span><span class='ee-v'>Date</span></li><li><span class='ee-k'>value:</span><span class='ee-v'>1343779200000</span></li></ul></details></li><li><span class='ee-k'>water_period:</span><span class='ee-v'>HW</span></li><li><span class='ee-k'>water_period3:</span><span class='ee-v'>HW</span></li></ul></details></li></ul></details></li><li><details><summary>142: Feature (Point, 10 properties)</summary><ul><li><span class='ee-k'>type:</span><span class='ee-v'>Feature</span></li><li><span class='ee-k'>id:</span><span class='ee-v'>142</span></li><li><details><summary>geometry: Point (-55.51, -1.92)</summary><ul><li><span class='ee-k'>type:</span><span class='ee-v'>Point</span></li><li><details><summary>coordinates: [-55.5131, -1.9192]</summary><ul><li><span class='ee-k'>0:</span><span class='ee-v'>-55.5131</span></li><li><span class='ee-k'>1:</span><span class='ee-v'>-1.9192</span></li></ul></details></li></ul></details></li><li><details><summary>properties: Object (10 properties)</summary><ul><li><span class='ee-k'>Data:</span><span class='ee-v'>2012-07-01</span></li><li><span class='ee-k'>EstacaoCodigo:</span><span class='ee-v'>17050001</span></li><li><span class='ee-k'>Maxima:</span><span class='ee-v'>770</span></li><li><span class='ee-k'>Media:</span><span class='ee-v'>740</span></li><li><span class='ee-k'>Minima:</span><span class='ee-v'>703</span></li><li><span class='ee-k'>latitude:</span><span class='ee-v'>-1.9192</span></li><li><span class='ee-k'>longitude:</span><span class='ee-v'>-55.5131</span></li><li><details><summary>system:time_start: Date (2012-07-01 00:00:00)</summary><ul><li><span class='ee-k'>type:</span><span class='ee-v'>Date</span></li><li><span class='ee-k'>value:</span><span class='ee-v'>1341100800000</span></li></ul></details></li><li><span class='ee-k'>water_period:</span><span class='ee-v'>HW</span></li><li><span class='ee-k'>water_period3:</span><span class='ee-v'>HW</span></li></ul></details></li></ul></details></li><li><details><summary>143: Feature (Point, 10 properties)</summary><ul><li><span class='ee-k'>type:</span><span class='ee-v'>Feature</span></li><li><span class='ee-k'>id:</span><span class='ee-v'>143</span></li><li><details><summary>geometry: Point (-55.51, -1.92)</summary><ul><li><span class='ee-k'>type:</span><span class='ee-v'>Point</span></li><li><details><summary>coordinates: [-55.5131, -1.9192]</summary><ul><li><span class='ee-k'>0:</span><span class='ee-v'>-55.5131</span></li><li><span class='ee-k'>1:</span><span class='ee-v'>-1.9192</span></li></ul></details></li></ul></details></li><li><details><summary>properties: Object (10 properties)</summary><ul><li><span class='ee-k'>Data:</span><span class='ee-v'>2012-06-01</span></li><li><span class='ee-k'>EstacaoCodigo:</span><span class='ee-v'>17050001</span></li><li><span class='ee-k'>Maxima:</span><span class='ee-v'>825</span></li><li><span class='ee-k'>Media:</span><span class='ee-v'>806</span></li><li><span class='ee-k'>Minima:</span><span class='ee-v'>773</span></li><li><span class='ee-k'>latitude:</span><span class='ee-v'>-1.9192</span></li><li><span class='ee-k'>longitude:</span><span class='ee-v'>-55.5131</span></li><li><details><summary>system:time_start: Date (2012-06-01 00:00:00)</summary><ul><li><span class='ee-k'>type:</span><span class='ee-v'>Date</span></li><li><span class='ee-k'>value:</span><span class='ee-v'>1338508800000</span></li></ul></details></li><li><span class='ee-k'>water_period:</span><span class='ee-v'>HW</span></li><li><span class='ee-k'>water_period3:</span><span class='ee-v'>HW</span></li></ul></details></li></ul></details></li><li><details><summary>144: Feature (Point, 10 properties)</summary><ul><li><span class='ee-k'>type:</span><span class='ee-v'>Feature</span></li><li><span class='ee-k'>id:</span><span class='ee-v'>144</span></li><li><details><summary>geometry: Point (-55.51, -1.92)</summary><ul><li><span class='ee-k'>type:</span><span class='ee-v'>Point</span></li><li><details><summary>coordinates: [-55.5131, -1.9192]</summary><ul><li><span class='ee-k'>0:</span><span class='ee-v'>-55.5131</span></li><li><span class='ee-k'>1:</span><span class='ee-v'>-1.9192</span></li></ul></details></li></ul></details></li><li><details><summary>properties: Object (10 properties)</summary><ul><li><span class='ee-k'>Data:</span><span class='ee-v'>2012-05-01</span></li><li><span class='ee-k'>EstacaoCodigo:</span><span class='ee-v'>17050001</span></li><li><span class='ee-k'>Maxima:</span><span class='ee-v'>843</span></li><li><span class='ee-k'>Media:</span><span class='ee-v'>833</span></li><li><span class='ee-k'>Minima:</span><span class='ee-v'>819</span></li><li><span class='ee-k'>latitude:</span><span class='ee-v'>-1.9192</span></li><li><span class='ee-k'>longitude:</span><span class='ee-v'>-55.5131</span></li><li><details><summary>system:time_start: Date (2012-05-01 00:00:00)</summary><ul><li><span class='ee-k'>type:</span><span class='ee-v'>Date</span></li><li><span class='ee-k'>value:</span><span class='ee-v'>1335830400000</span></li></ul></details></li><li><span class='ee-k'>water_period:</span><span class='ee-v'>HW</span></li><li><span class='ee-k'>water_period3:</span><span class='ee-v'>HW</span></li></ul></details></li></ul></details></li><li><details><summary>145: Feature (Point, 10 properties)</summary><ul><li><span class='ee-k'>type:</span><span class='ee-v'>Feature</span></li><li><span class='ee-k'>id:</span><span class='ee-v'>145</span></li><li><details><summary>geometry: Point (-55.51, -1.92)</summary><ul><li><span class='ee-k'>type:</span><span class='ee-v'>Point</span></li><li><details><summary>coordinates: [-55.5131, -1.9192]</summary><ul><li><span class='ee-k'>0:</span><span class='ee-v'>-55.5131</span></li><li><span class='ee-k'>1:</span><span class='ee-v'>-1.9192</span></li></ul></details></li></ul></details></li><li><details><summary>properties: Object (10 properties)</summary><ul><li><span class='ee-k'>Data:</span><span class='ee-v'>2012-04-01</span></li><li><span class='ee-k'>EstacaoCodigo:</span><span class='ee-v'>17050001</span></li><li><span class='ee-k'>Maxima:</span><span class='ee-v'>818</span></li><li><span class='ee-k'>Media:</span><span class='ee-v'>795</span></li><li><span class='ee-k'>Minima:</span><span class='ee-v'>766</span></li><li><span class='ee-k'>latitude:</span><span class='ee-v'>-1.9192</span></li><li><span class='ee-k'>longitude:</span><span class='ee-v'>-55.5131</span></li><li><details><summary>system:time_start: Date (2012-04-01 00:00:00)</summary><ul><li><span class='ee-k'>type:</span><span class='ee-v'>Date</span></li><li><span class='ee-k'>value:</span><span class='ee-v'>1333238400000</span></li></ul></details></li><li><span class='ee-k'>water_period:</span><span class='ee-v'>HW</span></li><li><span class='ee-k'>water_period3:</span><span class='ee-v'>HW</span></li></ul></details></li></ul></details></li><li><details><summary>146: Feature (Point, 10 properties)</summary><ul><li><span class='ee-k'>type:</span><span class='ee-v'>Feature</span></li><li><span class='ee-k'>id:</span><span class='ee-v'>146</span></li><li><details><summary>geometry: Point (-55.51, -1.92)</summary><ul><li><span class='ee-k'>type:</span><span class='ee-v'>Point</span></li><li><details><summary>coordinates: [-55.5131, -1.9192]</summary><ul><li><span class='ee-k'>0:</span><span class='ee-v'>-55.5131</span></li><li><span class='ee-k'>1:</span><span class='ee-v'>-1.9192</span></li></ul></details></li></ul></details></li><li><details><summary>properties: Object (10 properties)</summary><ul><li><span class='ee-k'>Data:</span><span class='ee-v'>2012-03-01</span></li><li><span class='ee-k'>EstacaoCodigo:</span><span class='ee-v'>17050001</span></li><li><span class='ee-k'>Maxima:</span><span class='ee-v'>765</span></li><li><span class='ee-k'>Media:</span><span class='ee-v'>722</span></li><li><span class='ee-k'>Minima:</span><span class='ee-v'>665</span></li><li><span class='ee-k'>latitude:</span><span class='ee-v'>-1.9192</span></li><li><span class='ee-k'>longitude:</span><span class='ee-v'>-55.5131</span></li><li><details><summary>system:time_start: Date (2012-03-01 00:00:00)</summary><ul><li><span class='ee-k'>type:</span><span class='ee-v'>Date</span></li><li><span class='ee-k'>value:</span><span class='ee-v'>1330560000000</span></li></ul></details></li><li><span class='ee-k'>water_period:</span><span class='ee-v'>HW</span></li><li><span class='ee-k'>water_period3:</span><span class='ee-v'>HW</span></li></ul></details></li></ul></details></li><li><details><summary>147: Feature (Point, 10 properties)</summary><ul><li><span class='ee-k'>type:</span><span class='ee-v'>Feature</span></li><li><span class='ee-k'>id:</span><span class='ee-v'>147</span></li><li><details><summary>geometry: Point (-55.51, -1.92)</summary><ul><li><span class='ee-k'>type:</span><span class='ee-v'>Point</span></li><li><details><summary>coordinates: [-55.5131, -1.9192]</summary><ul><li><span class='ee-k'>0:</span><span class='ee-v'>-55.5131</span></li><li><span class='ee-k'>1:</span><span class='ee-v'>-1.9192</span></li></ul></details></li></ul></details></li><li><details><summary>properties: Object (10 properties)</summary><ul><li><span class='ee-k'>Data:</span><span class='ee-v'>2012-02-01</span></li><li><span class='ee-k'>EstacaoCodigo:</span><span class='ee-v'>17050001</span></li><li><span class='ee-k'>Maxima:</span><span class='ee-v'>660</span></li><li><span class='ee-k'>Media:</span><span class='ee-v'>583</span></li><li><span class='ee-k'>Minima:</span><span class='ee-v'>506</span></li><li><span class='ee-k'>latitude:</span><span class='ee-v'>-1.9192</span></li><li><span class='ee-k'>longitude:</span><span class='ee-v'>-55.5131</span></li><li><details><summary>system:time_start: Date (2012-02-01 00:00:00)</summary><ul><li><span class='ee-k'>type:</span><span class='ee-v'>Date</span></li><li><span class='ee-k'>value:</span><span class='ee-v'>1328054400000</span></li></ul></details></li><li><span class='ee-k'>water_period:</span><span class='ee-v'>HW</span></li><li><span class='ee-k'>water_period3:</span><span class='ee-v'>HW</span></li></ul></details></li></ul></details></li><li><details><summary>148: Feature (Point, 12 properties)</summary><ul><li><span class='ee-k'>type:</span><span class='ee-v'>Feature</span></li><li><span class='ee-k'>id:</span><span class='ee-v'>148</span></li><li><details><summary>geometry: Point (-55.51, -1.92)</summary><ul><li><span class='ee-k'>type:</span><span class='ee-v'>Point</span></li><li><details><summary>coordinates: [-55.5131, -1.9192]</summary><ul><li><span class='ee-k'>0:</span><span class='ee-v'>-55.5131</span></li><li><span class='ee-k'>1:</span><span class='ee-v'>-1.9192</span></li></ul></details></li></ul></details></li><li><details><summary>properties: Object (12 properties)</summary><ul><li><span class='ee-k'>Data:</span><span class='ee-v'>2012-01-01</span></li><li><span class='ee-k'>EstacaoCodigo:</span><span class='ee-v'>17050001</span></li><li><span class='ee-k'>Maxima:</span><span class='ee-v'>500</span></li><li><span class='ee-k'>Media:</span><span class='ee-v'>383</span></li><li><span class='ee-k'>Minima:</span><span class='ee-v'>274</span></li><li><span class='ee-k'>fall:</span><span class='ee-v'>True</span></li><li><span class='ee-k'>latitude:</span><span class='ee-v'>-1.9192</span></li><li><span class='ee-k'>longitude:</span><span class='ee-v'>-55.5131</span></li><li><span class='ee-k'>rise:</span><span class='ee-v'>False</span></li><li><details><summary>system:time_start: Date (2012-01-01 00:00:00)</summary><ul><li><span class='ee-k'>type:</span><span class='ee-v'>Date</span></li><li><span class='ee-k'>value:</span><span class='ee-v'>1325376000000</span></li></ul></details></li><li><span class='ee-k'>water_period:</span><span class='ee-v'>F</span></li><li><span class='ee-k'>water_period3:</span><span class='ee-v'>T</span></li></ul></details></li></ul></details></li><li><details><summary>149: Feature (Point, 10 properties)</summary><ul><li><span class='ee-k'>type:</span><span class='ee-v'>Feature</span></li><li><span class='ee-k'>id:</span><span class='ee-v'>149</span></li><li><details><summary>geometry: Point (-55.51, -1.92)</summary><ul><li><span class='ee-k'>type:</span><span class='ee-v'>Point</span></li><li><details><summary>coordinates: [-55.5131, -1.9192]</summary><ul><li><span class='ee-k'>0:</span><span class='ee-v'>-55.5131</span></li><li><span class='ee-k'>1:</span><span class='ee-v'>-1.9192</span></li></ul></details></li></ul></details></li><li><details><summary>properties: Object (10 properties)</summary><ul><li><span class='ee-k'>Data:</span><span class='ee-v'>2011-12-01</span></li><li><span class='ee-k'>EstacaoCodigo:</span><span class='ee-v'>17050001</span></li><li><span class='ee-k'>Maxima:</span><span class='ee-v'>270</span></li><li><span class='ee-k'>Media:</span><span class='ee-v'>194</span></li><li><span class='ee-k'>Minima:</span><span class='ee-v'>136</span></li><li><span class='ee-k'>latitude:</span><span class='ee-v'>-1.9192</span></li><li><span class='ee-k'>longitude:</span><span class='ee-v'>-55.5131</span></li><li><details><summary>system:time_start: Date (2011-12-01 00:00:00)</summary><ul><li><span class='ee-k'>type:</span><span class='ee-v'>Date</span></li><li><span class='ee-k'>value:</span><span class='ee-v'>1322697600000</span></li></ul></details></li><li><span class='ee-k'>water_period:</span><span class='ee-v'>LW</span></li><li><span class='ee-k'>water_period3:</span><span class='ee-v'>LW</span></li></ul></details></li></ul></details></li><li><details><summary>150: Feature (Point, 10 properties)</summary><ul><li><span class='ee-k'>type:</span><span class='ee-v'>Feature</span></li><li><span class='ee-k'>id:</span><span class='ee-v'>150</span></li><li><details><summary>geometry: Point (-55.51, -1.92)</summary><ul><li><span class='ee-k'>type:</span><span class='ee-v'>Point</span></li><li><details><summary>coordinates: [-55.5131, -1.9192]</summary><ul><li><span class='ee-k'>0:</span><span class='ee-v'>-55.5131</span></li><li><span class='ee-k'>1:</span><span class='ee-v'>-1.9192</span></li></ul></details></li></ul></details></li><li><details><summary>properties: Object (10 properties)</summary><ul><li><span class='ee-k'>Data:</span><span class='ee-v'>2011-11-01</span></li><li><span class='ee-k'>EstacaoCodigo:</span><span class='ee-v'>17050001</span></li><li><span class='ee-k'>Maxima:</span><span class='ee-v'>141</span></li><li><span class='ee-k'>Media:</span><span class='ee-v'>125</span></li><li><span class='ee-k'>Minima:</span><span class='ee-v'>110</span></li><li><span class='ee-k'>latitude:</span><span class='ee-v'>-1.9192</span></li><li><span class='ee-k'>longitude:</span><span class='ee-v'>-55.5131</span></li><li><details><summary>system:time_start: Date (2011-11-01 00:00:00)</summary><ul><li><span class='ee-k'>type:</span><span class='ee-v'>Date</span></li><li><span class='ee-k'>value:</span><span class='ee-v'>1320105600000</span></li></ul></details></li><li><span class='ee-k'>water_period:</span><span class='ee-v'>LW</span></li><li><span class='ee-k'>water_period3:</span><span class='ee-v'>LW</span></li></ul></details></li></ul></details></li><li><details><summary>151: Feature (Point, 10 properties)</summary><ul><li><span class='ee-k'>type:</span><span class='ee-v'>Feature</span></li><li><span class='ee-k'>id:</span><span class='ee-v'>151</span></li><li><details><summary>geometry: Point (-55.51, -1.92)</summary><ul><li><span class='ee-k'>type:</span><span class='ee-v'>Point</span></li><li><details><summary>coordinates: [-55.5131, -1.9192]</summary><ul><li><span class='ee-k'>0:</span><span class='ee-v'>-55.5131</span></li><li><span class='ee-k'>1:</span><span class='ee-v'>-1.9192</span></li></ul></details></li></ul></details></li><li><details><summary>properties: Object (10 properties)</summary><ul><li><span class='ee-k'>Data:</span><span class='ee-v'>2011-10-01</span></li><li><span class='ee-k'>EstacaoCodigo:</span><span class='ee-v'>17050001</span></li><li><span class='ee-k'>Maxima:</span><span class='ee-v'>161</span></li><li><span class='ee-k'>Media:</span><span class='ee-v'>109</span></li><li><span class='ee-k'>Minima:</span><span class='ee-v'>84</span></li><li><span class='ee-k'>latitude:</span><span class='ee-v'>-1.9192</span></li><li><span class='ee-k'>longitude:</span><span class='ee-v'>-55.5131</span></li><li><details><summary>system:time_start: Date (2011-10-01 00:00:00)</summary><ul><li><span class='ee-k'>type:</span><span class='ee-v'>Date</span></li><li><span class='ee-k'>value:</span><span class='ee-v'>1317427200000</span></li></ul></details></li><li><span class='ee-k'>water_period:</span><span class='ee-v'>LW</span></li><li><span class='ee-k'>water_period3:</span><span class='ee-v'>LW</span></li></ul></details></li></ul></details></li><li><details><summary>152: Feature (Point, 10 properties)</summary><ul><li><span class='ee-k'>type:</span><span class='ee-v'>Feature</span></li><li><span class='ee-k'>id:</span><span class='ee-v'>152</span></li><li><details><summary>geometry: Point (-55.51, -1.92)</summary><ul><li><span class='ee-k'>type:</span><span class='ee-v'>Point</span></li><li><details><summary>coordinates: [-55.5131, -1.9192]</summary><ul><li><span class='ee-k'>0:</span><span class='ee-v'>-55.5131</span></li><li><span class='ee-k'>1:</span><span class='ee-v'>-1.9192</span></li></ul></details></li></ul></details></li><li><details><summary>properties: Object (10 properties)</summary><ul><li><span class='ee-k'>Data:</span><span class='ee-v'>2011-09-01</span></li><li><span class='ee-k'>EstacaoCodigo:</span><span class='ee-v'>17050001</span></li><li><span class='ee-k'>Maxima:</span><span class='ee-v'>511</span></li><li><span class='ee-k'>Media:</span><span class='ee-v'>347</span></li><li><span class='ee-k'>Minima:</span><span class='ee-v'>168</span></li><li><span class='ee-k'>latitude:</span><span class='ee-v'>-1.9192</span></li><li><span class='ee-k'>longitude:</span><span class='ee-v'>-55.5131</span></li><li><details><summary>system:time_start: Date (2011-09-01 00:00:00)</summary><ul><li><span class='ee-k'>type:</span><span class='ee-v'>Date</span></li><li><span class='ee-k'>value:</span><span class='ee-v'>1314835200000</span></li></ul></details></li><li><span class='ee-k'>water_period:</span><span class='ee-v'>LW</span></li><li><span class='ee-k'>water_period3:</span><span class='ee-v'>LW</span></li></ul></details></li></ul></details></li><li><details><summary>153: Feature (Point, 10 properties)</summary><ul><li><span class='ee-k'>type:</span><span class='ee-v'>Feature</span></li><li><span class='ee-k'>id:</span><span class='ee-v'>153</span></li><li><details><summary>geometry: Point (-55.51, -1.92)</summary><ul><li><span class='ee-k'>type:</span><span class='ee-v'>Point</span></li><li><details><summary>coordinates: [-55.5131, -1.9192]</summary><ul><li><span class='ee-k'>0:</span><span class='ee-v'>-55.5131</span></li><li><span class='ee-k'>1:</span><span class='ee-v'>-1.9192</span></li></ul></details></li></ul></details></li><li><details><summary>properties: Object (10 properties)</summary><ul><li><span class='ee-k'>Data:</span><span class='ee-v'>2011-08-01</span></li><li><span class='ee-k'>EstacaoCodigo:</span><span class='ee-v'>17050001</span></li><li><span class='ee-k'>Maxima:</span><span class='ee-v'>663</span></li><li><span class='ee-k'>Media:</span><span class='ee-v'>600</span></li><li><span class='ee-k'>Minima:</span><span class='ee-v'>523</span></li><li><span class='ee-k'>latitude:</span><span class='ee-v'>-1.9192</span></li><li><span class='ee-k'>longitude:</span><span class='ee-v'>-55.5131</span></li><li><details><summary>system:time_start: Date (2011-08-01 00:00:00)</summary><ul><li><span class='ee-k'>type:</span><span class='ee-v'>Date</span></li><li><span class='ee-k'>value:</span><span class='ee-v'>1312156800000</span></li></ul></details></li><li><span class='ee-k'>water_period:</span><span class='ee-v'>HW</span></li><li><span class='ee-k'>water_period3:</span><span class='ee-v'>HW</span></li></ul></details></li></ul></details></li><li><details><summary>154: Feature (Point, 10 properties)</summary><ul><li><span class='ee-k'>type:</span><span class='ee-v'>Feature</span></li><li><span class='ee-k'>id:</span><span class='ee-v'>154</span></li><li><details><summary>geometry: Point (-55.51, -1.92)</summary><ul><li><span class='ee-k'>type:</span><span class='ee-v'>Point</span></li><li><details><summary>coordinates: [-55.5131, -1.9192]</summary><ul><li><span class='ee-k'>0:</span><span class='ee-v'>-55.5131</span></li><li><span class='ee-k'>1:</span><span class='ee-v'>-1.9192</span></li></ul></details></li></ul></details></li><li><details><summary>properties: Object (10 properties)</summary><ul><li><span class='ee-k'>Data:</span><span class='ee-v'>2011-07-01</span></li><li><span class='ee-k'>EstacaoCodigo:</span><span class='ee-v'>17050001</span></li><li><span class='ee-k'>Maxima:</span><span class='ee-v'>744</span></li><li><span class='ee-k'>Media:</span><span class='ee-v'>713</span></li><li><span class='ee-k'>Minima:</span><span class='ee-v'>666</span></li><li><span class='ee-k'>latitude:</span><span class='ee-v'>-1.9192</span></li><li><span class='ee-k'>longitude:</span><span class='ee-v'>-55.5131</span></li><li><details><summary>system:time_start: Date (2011-07-01 00:00:00)</summary><ul><li><span class='ee-k'>type:</span><span class='ee-v'>Date</span></li><li><span class='ee-k'>value:</span><span class='ee-v'>1309478400000</span></li></ul></details></li><li><span class='ee-k'>water_period:</span><span class='ee-v'>HW</span></li><li><span class='ee-k'>water_period3:</span><span class='ee-v'>HW</span></li></ul></details></li></ul></details></li><li><details><summary>155: Feature (Point, 10 properties)</summary><ul><li><span class='ee-k'>type:</span><span class='ee-v'>Feature</span></li><li><span class='ee-k'>id:</span><span class='ee-v'>155</span></li><li><details><summary>geometry: Point (-55.51, -1.92)</summary><ul><li><span class='ee-k'>type:</span><span class='ee-v'>Point</span></li><li><details><summary>coordinates: [-55.5131, -1.9192]</summary><ul><li><span class='ee-k'>0:</span><span class='ee-v'>-55.5131</span></li><li><span class='ee-k'>1:</span><span class='ee-v'>-1.9192</span></li></ul></details></li></ul></details></li><li><details><summary>properties: Object (10 properties)</summary><ul><li><span class='ee-k'>Data:</span><span class='ee-v'>2011-06-01</span></li><li><span class='ee-k'>EstacaoCodigo:</span><span class='ee-v'>17050001</span></li><li><span class='ee-k'>Maxima:</span><span class='ee-v'>780</span></li><li><span class='ee-k'>Media:</span><span class='ee-v'>768</span></li><li><span class='ee-k'>Minima:</span><span class='ee-v'>745</span></li><li><span class='ee-k'>latitude:</span><span class='ee-v'>-1.9192</span></li><li><span class='ee-k'>longitude:</span><span class='ee-v'>-55.5131</span></li><li><details><summary>system:time_start: Date (2011-06-01 00:00:00)</summary><ul><li><span class='ee-k'>type:</span><span class='ee-v'>Date</span></li><li><span class='ee-k'>value:</span><span class='ee-v'>1306886400000</span></li></ul></details></li><li><span class='ee-k'>water_period:</span><span class='ee-v'>HW</span></li><li><span class='ee-k'>water_period3:</span><span class='ee-v'>HW</span></li></ul></details></li></ul></details></li><li><details><summary>156: Feature (Point, 10 properties)</summary><ul><li><span class='ee-k'>type:</span><span class='ee-v'>Feature</span></li><li><span class='ee-k'>id:</span><span class='ee-v'>156</span></li><li><details><summary>geometry: Point (-55.51, -1.92)</summary><ul><li><span class='ee-k'>type:</span><span class='ee-v'>Point</span></li><li><details><summary>coordinates: [-55.5131, -1.9192]</summary><ul><li><span class='ee-k'>0:</span><span class='ee-v'>-55.5131</span></li><li><span class='ee-k'>1:</span><span class='ee-v'>-1.9192</span></li></ul></details></li></ul></details></li><li><details><summary>properties: Object (10 properties)</summary><ul><li><span class='ee-k'>Data:</span><span class='ee-v'>2011-05-01</span></li><li><span class='ee-k'>EstacaoCodigo:</span><span class='ee-v'>17050001</span></li><li><span class='ee-k'>Maxima:</span><span class='ee-v'>779</span></li><li><span class='ee-k'>Media:</span><span class='ee-v'>767</span></li><li><span class='ee-k'>Minima:</span><span class='ee-v'>748</span></li><li><span class='ee-k'>latitude:</span><span class='ee-v'>-1.9192</span></li><li><span class='ee-k'>longitude:</span><span class='ee-v'>-55.5131</span></li><li><details><summary>system:time_start: Date (2011-05-01 00:00:00)</summary><ul><li><span class='ee-k'>type:</span><span class='ee-v'>Date</span></li><li><span class='ee-k'>value:</span><span class='ee-v'>1304208000000</span></li></ul></details></li><li><span class='ee-k'>water_period:</span><span class='ee-v'>HW</span></li><li><span class='ee-k'>water_period3:</span><span class='ee-v'>HW</span></li></ul></details></li></ul></details></li><li><details><summary>157: Feature (Point, 10 properties)</summary><ul><li><span class='ee-k'>type:</span><span class='ee-v'>Feature</span></li><li><span class='ee-k'>id:</span><span class='ee-v'>157</span></li><li><details><summary>geometry: Point (-55.51, -1.92)</summary><ul><li><span class='ee-k'>type:</span><span class='ee-v'>Point</span></li><li><details><summary>coordinates: [-55.5131, -1.9192]</summary><ul><li><span class='ee-k'>0:</span><span class='ee-v'>-55.5131</span></li><li><span class='ee-k'>1:</span><span class='ee-v'>-1.9192</span></li></ul></details></li></ul></details></li><li><details><summary>properties: Object (10 properties)</summary><ul><li><span class='ee-k'>Data:</span><span class='ee-v'>2011-04-01</span></li><li><span class='ee-k'>EstacaoCodigo:</span><span class='ee-v'>17050001</span></li><li><span class='ee-k'>Maxima:</span><span class='ee-v'>747</span></li><li><span class='ee-k'>Media:</span><span class='ee-v'>699</span></li><li><span class='ee-k'>Minima:</span><span class='ee-v'>645</span></li><li><span class='ee-k'>latitude:</span><span class='ee-v'>-1.9192</span></li><li><span class='ee-k'>longitude:</span><span class='ee-v'>-55.5131</span></li><li><details><summary>system:time_start: Date (2011-04-01 00:00:00)</summary><ul><li><span class='ee-k'>type:</span><span class='ee-v'>Date</span></li><li><span class='ee-k'>value:</span><span class='ee-v'>1301616000000</span></li></ul></details></li><li><span class='ee-k'>water_period:</span><span class='ee-v'>HW</span></li><li><span class='ee-k'>water_period3:</span><span class='ee-v'>HW</span></li></ul></details></li></ul></details></li><li><details><summary>158: Feature (Point, 10 properties)</summary><ul><li><span class='ee-k'>type:</span><span class='ee-v'>Feature</span></li><li><span class='ee-k'>id:</span><span class='ee-v'>158</span></li><li><details><summary>geometry: Point (-55.51, -1.92)</summary><ul><li><span class='ee-k'>type:</span><span class='ee-v'>Point</span></li><li><details><summary>coordinates: [-55.5131, -1.9192]</summary><ul><li><span class='ee-k'>0:</span><span class='ee-v'>-55.5131</span></li><li><span class='ee-k'>1:</span><span class='ee-v'>-1.9192</span></li></ul></details></li></ul></details></li><li><details><summary>properties: Object (10 properties)</summary><ul><li><span class='ee-k'>Data:</span><span class='ee-v'>2011-03-01</span></li><li><span class='ee-k'>EstacaoCodigo:</span><span class='ee-v'>17050001</span></li><li><span class='ee-k'>Maxima:</span><span class='ee-v'>643</span></li><li><span class='ee-k'>Media:</span><span class='ee-v'>579</span></li><li><span class='ee-k'>Minima:</span><span class='ee-v'>510</span></li><li><span class='ee-k'>latitude:</span><span class='ee-v'>-1.9192</span></li><li><span class='ee-k'>longitude:</span><span class='ee-v'>-55.5131</span></li><li><details><summary>system:time_start: Date (2011-03-01 00:00:00)</summary><ul><li><span class='ee-k'>type:</span><span class='ee-v'>Date</span></li><li><span class='ee-k'>value:</span><span class='ee-v'>1298937600000</span></li></ul></details></li><li><span class='ee-k'>water_period:</span><span class='ee-v'>HW</span></li><li><span class='ee-k'>water_period3:</span><span class='ee-v'>HW</span></li></ul></details></li></ul></details></li><li><details><summary>159: Feature (Point, 12 properties)</summary><ul><li><span class='ee-k'>type:</span><span class='ee-v'>Feature</span></li><li><span class='ee-k'>id:</span><span class='ee-v'>159</span></li><li><details><summary>geometry: Point (-55.51, -1.92)</summary><ul><li><span class='ee-k'>type:</span><span class='ee-v'>Point</span></li><li><details><summary>coordinates: [-55.5131, -1.9192]</summary><ul><li><span class='ee-k'>0:</span><span class='ee-v'>-55.5131</span></li><li><span class='ee-k'>1:</span><span class='ee-v'>-1.9192</span></li></ul></details></li></ul></details></li><li><details><summary>properties: Object (12 properties)</summary><ul><li><span class='ee-k'>Data:</span><span class='ee-v'>2011-02-01</span></li><li><span class='ee-k'>EstacaoCodigo:</span><span class='ee-v'>17050001</span></li><li><span class='ee-k'>Maxima:</span><span class='ee-v'>508</span></li><li><span class='ee-k'>Media:</span><span class='ee-v'>430</span></li><li><span class='ee-k'>Minima:</span><span class='ee-v'>352</span></li><li><span class='ee-k'>fall:</span><span class='ee-v'>True</span></li><li><span class='ee-k'>latitude:</span><span class='ee-v'>-1.9192</span></li><li><span class='ee-k'>longitude:</span><span class='ee-v'>-55.5131</span></li><li><span class='ee-k'>rise:</span><span class='ee-v'>False</span></li><li><details><summary>system:time_start: Date (2011-02-01 00:00:00)</summary><ul><li><span class='ee-k'>type:</span><span class='ee-v'>Date</span></li><li><span class='ee-k'>value:</span><span class='ee-v'>1296518400000</span></li></ul></details></li><li><span class='ee-k'>water_period:</span><span class='ee-v'>F</span></li><li><span class='ee-k'>water_period3:</span><span class='ee-v'>T</span></li></ul></details></li></ul></details></li><li><details><summary>160: Feature (Point, 10 properties)</summary><ul><li><span class='ee-k'>type:</span><span class='ee-v'>Feature</span></li><li><span class='ee-k'>id:</span><span class='ee-v'>160</span></li><li><details><summary>geometry: Point (-55.51, -1.92)</summary><ul><li><span class='ee-k'>type:</span><span class='ee-v'>Point</span></li><li><details><summary>coordinates: [-55.5131, -1.9192]</summary><ul><li><span class='ee-k'>0:</span><span class='ee-v'>-55.5131</span></li><li><span class='ee-k'>1:</span><span class='ee-v'>-1.9192</span></li></ul></details></li></ul></details></li><li><details><summary>properties: Object (10 properties)</summary><ul><li><span class='ee-k'>Data:</span><span class='ee-v'>2011-01-01</span></li><li><span class='ee-k'>EstacaoCodigo:</span><span class='ee-v'>17050001</span></li><li><span class='ee-k'>Maxima:</span><span class='ee-v'>343</span></li><li><span class='ee-k'>Media:</span><span class='ee-v'>257</span></li><li><span class='ee-k'>Minima:</span><span class='ee-v'>188</span></li><li><span class='ee-k'>latitude:</span><span class='ee-v'>-1.9192</span></li><li><span class='ee-k'>longitude:</span><span class='ee-v'>-55.5131</span></li><li><details><summary>system:time_start: Date (2011-01-01 00:00:00)</summary><ul><li><span class='ee-k'>type:</span><span class='ee-v'>Date</span></li><li><span class='ee-k'>value:</span><span class='ee-v'>1293840000000</span></li></ul></details></li><li><span class='ee-k'>water_period:</span><span class='ee-v'>LW</span></li><li><span class='ee-k'>water_period3:</span><span class='ee-v'>LW</span></li></ul></details></li></ul></details></li><li><details><summary>161: Feature (Point, 10 properties)</summary><ul><li><span class='ee-k'>type:</span><span class='ee-v'>Feature</span></li><li><span class='ee-k'>id:</span><span class='ee-v'>161</span></li><li><details><summary>geometry: Point (-55.51, -1.92)</summary><ul><li><span class='ee-k'>type:</span><span class='ee-v'>Point</span></li><li><details><summary>coordinates: [-55.5131, -1.9192]</summary><ul><li><span class='ee-k'>0:</span><span class='ee-v'>-55.5131</span></li><li><span class='ee-k'>1:</span><span class='ee-v'>-1.9192</span></li></ul></details></li></ul></details></li><li><details><summary>properties: Object (10 properties)</summary><ul><li><span class='ee-k'>Data:</span><span class='ee-v'>2010-12-01</span></li><li><span class='ee-k'>EstacaoCodigo:</span><span class='ee-v'>17050001</span></li><li><span class='ee-k'>Maxima:</span><span class='ee-v'>185</span></li><li><span class='ee-k'>Media:</span><span class='ee-v'>121</span></li><li><span class='ee-k'>Minima:</span><span class='ee-v'>49</span></li><li><span class='ee-k'>latitude:</span><span class='ee-v'>-1.9192</span></li><li><span class='ee-k'>longitude:</span><span class='ee-v'>-55.5131</span></li><li><details><summary>system:time_start: Date (2010-12-01 00:00:00)</summary><ul><li><span class='ee-k'>type:</span><span class='ee-v'>Date</span></li><li><span class='ee-k'>value:</span><span class='ee-v'>1291161600000</span></li></ul></details></li><li><span class='ee-k'>water_period:</span><span class='ee-v'>LW</span></li><li><span class='ee-k'>water_period3:</span><span class='ee-v'>LW</span></li></ul></details></li></ul></details></li><li><details><summary>162: Feature (Point, 10 properties)</summary><ul><li><span class='ee-k'>type:</span><span class='ee-v'>Feature</span></li><li><span class='ee-k'>id:</span><span class='ee-v'>162</span></li><li><details><summary>geometry: Point (-55.51, -1.92)</summary><ul><li><span class='ee-k'>type:</span><span class='ee-v'>Point</span></li><li><details><summary>coordinates: [-55.5131, -1.9192]</summary><ul><li><span class='ee-k'>0:</span><span class='ee-v'>-55.5131</span></li><li><span class='ee-k'>1:</span><span class='ee-v'>-1.9192</span></li></ul></details></li></ul></details></li><li><details><summary>properties: Object (10 properties)</summary><ul><li><span class='ee-k'>Data:</span><span class='ee-v'>2010-11-01</span></li><li><span class='ee-k'>EstacaoCodigo:</span><span class='ee-v'>17050001</span></li><li><span class='ee-k'>Maxima:</span><span class='ee-v'>57</span></li><li><span class='ee-k'>Media:</span><span class='ee-v'>31</span></li><li><span class='ee-k'>Minima:</span><span class='ee-v'>2</span></li><li><span class='ee-k'>latitude:</span><span class='ee-v'>-1.9192</span></li><li><span class='ee-k'>longitude:</span><span class='ee-v'>-55.5131</span></li><li><details><summary>system:time_start: Date (2010-11-01 00:00:00)</summary><ul><li><span class='ee-k'>type:</span><span class='ee-v'>Date</span></li><li><span class='ee-k'>value:</span><span class='ee-v'>1288569600000</span></li></ul></details></li><li><span class='ee-k'>water_period:</span><span class='ee-v'>LW</span></li><li><span class='ee-k'>water_period3:</span><span class='ee-v'>LW</span></li></ul></details></li></ul></details></li><li><details><summary>163: Feature (Point, 10 properties)</summary><ul><li><span class='ee-k'>type:</span><span class='ee-v'>Feature</span></li><li><span class='ee-k'>id:</span><span class='ee-v'>163</span></li><li><details><summary>geometry: Point (-55.51, -1.92)</summary><ul><li><span class='ee-k'>type:</span><span class='ee-v'>Point</span></li><li><details><summary>coordinates: [-55.5131, -1.9192]</summary><ul><li><span class='ee-k'>0:</span><span class='ee-v'>-55.5131</span></li><li><span class='ee-k'>1:</span><span class='ee-v'>-1.9192</span></li></ul></details></li></ul></details></li><li><details><summary>properties: Object (10 properties)</summary><ul><li><span class='ee-k'>Data:</span><span class='ee-v'>2010-10-01</span></li><li><span class='ee-k'>EstacaoCodigo:</span><span class='ee-v'>17050001</span></li><li><span class='ee-k'>Maxima:</span><span class='ee-v'>86</span></li><li><span class='ee-k'>Media:</span><span class='ee-v'>49</span></li><li><span class='ee-k'>Minima:</span><span class='ee-v'>3</span></li><li><span class='ee-k'>latitude:</span><span class='ee-v'>-1.9192</span></li><li><span class='ee-k'>longitude:</span><span class='ee-v'>-55.5131</span></li><li><details><summary>system:time_start: Date (2010-10-01 00:00:00)</summary><ul><li><span class='ee-k'>type:</span><span class='ee-v'>Date</span></li><li><span class='ee-k'>value:</span><span class='ee-v'>1285891200000</span></li></ul></details></li><li><span class='ee-k'>water_period:</span><span class='ee-v'>LW</span></li><li><span class='ee-k'>water_period3:</span><span class='ee-v'>LW</span></li></ul></details></li></ul></details></li><li><details><summary>164: Feature (Point, 10 properties)</summary><ul><li><span class='ee-k'>type:</span><span class='ee-v'>Feature</span></li><li><span class='ee-k'>id:</span><span class='ee-v'>164</span></li><li><details><summary>geometry: Point (-55.51, -1.92)</summary><ul><li><span class='ee-k'>type:</span><span class='ee-v'>Point</span></li><li><details><summary>coordinates: [-55.5131, -1.9192]</summary><ul><li><span class='ee-k'>0:</span><span class='ee-v'>-55.5131</span></li><li><span class='ee-k'>1:</span><span class='ee-v'>-1.9192</span></li></ul></details></li></ul></details></li><li><details><summary>properties: Object (10 properties)</summary><ul><li><span class='ee-k'>Data:</span><span class='ee-v'>2010-09-01</span></li><li><span class='ee-k'>EstacaoCodigo:</span><span class='ee-v'>17050001</span></li><li><span class='ee-k'>Maxima:</span><span class='ee-v'>406</span></li><li><span class='ee-k'>Media:</span><span class='ee-v'>245</span></li><li><span class='ee-k'>Minima:</span><span class='ee-v'>99</span></li><li><span class='ee-k'>latitude:</span><span class='ee-v'>-1.9192</span></li><li><span class='ee-k'>longitude:</span><span class='ee-v'>-55.5131</span></li><li><details><summary>system:time_start: Date (2010-09-01 00:00:00)</summary><ul><li><span class='ee-k'>type:</span><span class='ee-v'>Date</span></li><li><span class='ee-k'>value:</span><span class='ee-v'>1283299200000</span></li></ul></details></li><li><span class='ee-k'>water_period:</span><span class='ee-v'>LW</span></li><li><span class='ee-k'>water_period3:</span><span class='ee-v'>LW</span></li></ul></details></li></ul></details></li><li><details><summary>165: Feature (Point, 12 properties)</summary><ul><li><span class='ee-k'>type:</span><span class='ee-v'>Feature</span></li><li><span class='ee-k'>id:</span><span class='ee-v'>165</span></li><li><details><summary>geometry: Point (-55.51, -1.92)</summary><ul><li><span class='ee-k'>type:</span><span class='ee-v'>Point</span></li><li><details><summary>coordinates: [-55.5131, -1.9192]</summary><ul><li><span class='ee-k'>0:</span><span class='ee-v'>-55.5131</span></li><li><span class='ee-k'>1:</span><span class='ee-v'>-1.9192</span></li></ul></details></li></ul></details></li><li><details><summary>properties: Object (12 properties)</summary><ul><li><span class='ee-k'>Data:</span><span class='ee-v'>2010-08-01</span></li><li><span class='ee-k'>EstacaoCodigo:</span><span class='ee-v'>17050001</span></li><li><span class='ee-k'>Maxima:</span><span class='ee-v'>596</span></li><li><span class='ee-k'>Media:</span><span class='ee-v'>519</span></li><li><span class='ee-k'>Minima:</span><span class='ee-v'>419</span></li><li><span class='ee-k'>fall:</span><span class='ee-v'>False</span></li><li><span class='ee-k'>latitude:</span><span class='ee-v'>-1.9192</span></li><li><span class='ee-k'>longitude:</span><span class='ee-v'>-55.5131</span></li><li><span class='ee-k'>rise:</span><span class='ee-v'>True</span></li><li><details><summary>system:time_start: Date (2010-08-01 00:00:00)</summary><ul><li><span class='ee-k'>type:</span><span class='ee-v'>Date</span></li><li><span class='ee-k'>value:</span><span class='ee-v'>1280620800000</span></li></ul></details></li><li><span class='ee-k'>water_period:</span><span class='ee-v'>R</span></li><li><span class='ee-k'>water_period3:</span><span class='ee-v'>T</span></li></ul></details></li></ul></details></li><li><details><summary>166: Feature (Point, 10 properties)</summary><ul><li><span class='ee-k'>type:</span><span class='ee-v'>Feature</span></li><li><span class='ee-k'>id:</span><span class='ee-v'>166</span></li><li><details><summary>geometry: Point (-55.51, -1.92)</summary><ul><li><span class='ee-k'>type:</span><span class='ee-v'>Point</span></li><li><details><summary>coordinates: [-55.5131, -1.9192]</summary><ul><li><span class='ee-k'>0:</span><span class='ee-v'>-55.5131</span></li><li><span class='ee-k'>1:</span><span class='ee-v'>-1.9192</span></li></ul></details></li></ul></details></li><li><details><summary>properties: Object (10 properties)</summary><ul><li><span class='ee-k'>Data:</span><span class='ee-v'>2010-07-01</span></li><li><span class='ee-k'>EstacaoCodigo:</span><span class='ee-v'>17050001</span></li><li><span class='ee-k'>Maxima:</span><span class='ee-v'>684</span></li><li><span class='ee-k'>Media:</span><span class='ee-v'>645</span></li><li><span class='ee-k'>Minima:</span><span class='ee-v'>601</span></li><li><span class='ee-k'>latitude:</span><span class='ee-v'>-1.9192</span></li><li><span class='ee-k'>longitude:</span><span class='ee-v'>-55.5131</span></li><li><details><summary>system:time_start: Date (2010-07-01 00:00:00)</summary><ul><li><span class='ee-k'>type:</span><span class='ee-v'>Date</span></li><li><span class='ee-k'>value:</span><span class='ee-v'>1277942400000</span></li></ul></details></li><li><span class='ee-k'>water_period:</span><span class='ee-v'>HW</span></li><li><span class='ee-k'>water_period3:</span><span class='ee-v'>HW</span></li></ul></details></li></ul></details></li><li><details><summary>167: Feature (Point, 10 properties)</summary><ul><li><span class='ee-k'>type:</span><span class='ee-v'>Feature</span></li><li><span class='ee-k'>id:</span><span class='ee-v'>167</span></li><li><details><summary>geometry: Point (-55.51, -1.92)</summary><ul><li><span class='ee-k'>type:</span><span class='ee-v'>Point</span></li><li><details><summary>coordinates: [-55.5131, -1.9192]</summary><ul><li><span class='ee-k'>0:</span><span class='ee-v'>-55.5131</span></li><li><span class='ee-k'>1:</span><span class='ee-v'>-1.9192</span></li></ul></details></li></ul></details></li><li><details><summary>properties: Object (10 properties)</summary><ul><li><span class='ee-k'>Data:</span><span class='ee-v'>2010-06-01</span></li><li><span class='ee-k'>EstacaoCodigo:</span><span class='ee-v'>17050001</span></li><li><span class='ee-k'>Maxima:</span><span class='ee-v'>730</span></li><li><span class='ee-k'>Media:</span><span class='ee-v'>715</span></li><li><span class='ee-k'>Minima:</span><span class='ee-v'>687</span></li><li><span class='ee-k'>latitude:</span><span class='ee-v'>-1.9192</span></li><li><span class='ee-k'>longitude:</span><span class='ee-v'>-55.5131</span></li><li><details><summary>system:time_start: Date (2010-06-01 00:00:00)</summary><ul><li><span class='ee-k'>type:</span><span class='ee-v'>Date</span></li><li><span class='ee-k'>value:</span><span class='ee-v'>1275350400000</span></li></ul></details></li><li><span class='ee-k'>water_period:</span><span class='ee-v'>HW</span></li><li><span class='ee-k'>water_period3:</span><span class='ee-v'>HW</span></li></ul></details></li></ul></details></li><li><details><summary>168: Feature (Point, 10 properties)</summary><ul><li><span class='ee-k'>type:</span><span class='ee-v'>Feature</span></li><li><span class='ee-k'>id:</span><span class='ee-v'>168</span></li><li><details><summary>geometry: Point (-55.51, -1.92)</summary><ul><li><span class='ee-k'>type:</span><span class='ee-v'>Point</span></li><li><details><summary>coordinates: [-55.5131, -1.9192]</summary><ul><li><span class='ee-k'>0:</span><span class='ee-v'>-55.5131</span></li><li><span class='ee-k'>1:</span><span class='ee-v'>-1.9192</span></li></ul></details></li></ul></details></li><li><details><summary>properties: Object (10 properties)</summary><ul><li><span class='ee-k'>Data:</span><span class='ee-v'>2010-05-01</span></li><li><span class='ee-k'>EstacaoCodigo:</span><span class='ee-v'>17050001</span></li><li><span class='ee-k'>Maxima:</span><span class='ee-v'>734</span></li><li><span class='ee-k'>Media:</span><span class='ee-v'>716</span></li><li><span class='ee-k'>Minima:</span><span class='ee-v'>696</span></li><li><span class='ee-k'>latitude:</span><span class='ee-v'>-1.9192</span></li><li><span class='ee-k'>longitude:</span><span class='ee-v'>-55.5131</span></li><li><details><summary>system:time_start: Date (2010-05-01 00:00:00)</summary><ul><li><span class='ee-k'>type:</span><span class='ee-v'>Date</span></li><li><span class='ee-k'>value:</span><span class='ee-v'>1272672000000</span></li></ul></details></li><li><span class='ee-k'>water_period:</span><span class='ee-v'>HW</span></li><li><span class='ee-k'>water_period3:</span><span class='ee-v'>HW</span></li></ul></details></li></ul></details></li><li><details><summary>169: Feature (Point, 10 properties)</summary><ul><li><span class='ee-k'>type:</span><span class='ee-v'>Feature</span></li><li><span class='ee-k'>id:</span><span class='ee-v'>169</span></li><li><details><summary>geometry: Point (-55.51, -1.92)</summary><ul><li><span class='ee-k'>type:</span><span class='ee-v'>Point</span></li><li><details><summary>coordinates: [-55.5131, -1.9192]</summary><ul><li><span class='ee-k'>0:</span><span class='ee-v'>-55.5131</span></li><li><span class='ee-k'>1:</span><span class='ee-v'>-1.9192</span></li></ul></details></li></ul></details></li><li><details><summary>properties: Object (10 properties)</summary><ul><li><span class='ee-k'>Data:</span><span class='ee-v'>2010-04-01</span></li><li><span class='ee-k'>EstacaoCodigo:</span><span class='ee-v'>17050001</span></li><li><span class='ee-k'>Maxima:</span><span class='ee-v'>693</span></li><li><span class='ee-k'>Media:</span><span class='ee-v'>633</span></li><li><span class='ee-k'>Minima:</span><span class='ee-v'>566</span></li><li><span class='ee-k'>latitude:</span><span class='ee-v'>-1.9192</span></li><li><span class='ee-k'>longitude:</span><span class='ee-v'>-55.5131</span></li><li><details><summary>system:time_start: Date (2010-04-01 00:00:00)</summary><ul><li><span class='ee-k'>type:</span><span class='ee-v'>Date</span></li><li><span class='ee-k'>value:</span><span class='ee-v'>1270080000000</span></li></ul></details></li><li><span class='ee-k'>water_period:</span><span class='ee-v'>HW</span></li><li><span class='ee-k'>water_period3:</span><span class='ee-v'>HW</span></li></ul></details></li></ul></details></li><li><details><summary>170: Feature (Point, 12 properties)</summary><ul><li><span class='ee-k'>type:</span><span class='ee-v'>Feature</span></li><li><span class='ee-k'>id:</span><span class='ee-v'>170</span></li><li><details><summary>geometry: Point (-55.51, -1.92)</summary><ul><li><span class='ee-k'>type:</span><span class='ee-v'>Point</span></li><li><details><summary>coordinates: [-55.5131, -1.9192]</summary><ul><li><span class='ee-k'>0:</span><span class='ee-v'>-55.5131</span></li><li><span class='ee-k'>1:</span><span class='ee-v'>-1.9192</span></li></ul></details></li></ul></details></li><li><details><summary>properties: Object (12 properties)</summary><ul><li><span class='ee-k'>Data:</span><span class='ee-v'>2010-03-01</span></li><li><span class='ee-k'>EstacaoCodigo:</span><span class='ee-v'>17050001</span></li><li><span class='ee-k'>Maxima:</span><span class='ee-v'>561</span></li><li><span class='ee-k'>Media:</span><span class='ee-v'>528</span></li><li><span class='ee-k'>Minima:</span><span class='ee-v'>500</span></li><li><span class='ee-k'>fall:</span><span class='ee-v'>True</span></li><li><span class='ee-k'>latitude:</span><span class='ee-v'>-1.9192</span></li><li><span class='ee-k'>longitude:</span><span class='ee-v'>-55.5131</span></li><li><span class='ee-k'>rise:</span><span class='ee-v'>False</span></li><li><details><summary>system:time_start: Date (2010-03-01 00:00:00)</summary><ul><li><span class='ee-k'>type:</span><span class='ee-v'>Date</span></li><li><span class='ee-k'>value:</span><span class='ee-v'>1267401600000</span></li></ul></details></li><li><span class='ee-k'>water_period:</span><span class='ee-v'>F</span></li><li><span class='ee-k'>water_period3:</span><span class='ee-v'>T</span></li></ul></details></li></ul></details></li><li><details><summary>171: Feature (Point, 12 properties)</summary><ul><li><span class='ee-k'>type:</span><span class='ee-v'>Feature</span></li><li><span class='ee-k'>id:</span><span class='ee-v'>171</span></li><li><details><summary>geometry: Point (-55.51, -1.92)</summary><ul><li><span class='ee-k'>type:</span><span class='ee-v'>Point</span></li><li><details><summary>coordinates: [-55.5131, -1.9192]</summary><ul><li><span class='ee-k'>0:</span><span class='ee-v'>-55.5131</span></li><li><span class='ee-k'>1:</span><span class='ee-v'>-1.9192</span></li></ul></details></li></ul></details></li><li><details><summary>properties: Object (12 properties)</summary><ul><li><span class='ee-k'>Data:</span><span class='ee-v'>2010-02-01</span></li><li><span class='ee-k'>EstacaoCodigo:</span><span class='ee-v'>17050001</span></li><li><span class='ee-k'>Maxima:</span><span class='ee-v'>497</span></li><li><span class='ee-k'>Media:</span><span class='ee-v'>465</span></li><li><span class='ee-k'>Minima:</span><span class='ee-v'>419</span></li><li><span class='ee-k'>fall:</span><span class='ee-v'>True</span></li><li><span class='ee-k'>latitude:</span><span class='ee-v'>-1.9192</span></li><li><span class='ee-k'>longitude:</span><span class='ee-v'>-55.5131</span></li><li><span class='ee-k'>rise:</span><span class='ee-v'>False</span></li><li><details><summary>system:time_start: Date (2010-02-01 00:00:00)</summary><ul><li><span class='ee-k'>type:</span><span class='ee-v'>Date</span></li><li><span class='ee-k'>value:</span><span class='ee-v'>1264982400000</span></li></ul></details></li><li><span class='ee-k'>water_period:</span><span class='ee-v'>F</span></li><li><span class='ee-k'>water_period3:</span><span class='ee-v'>T</span></li></ul></details></li></ul></details></li><li><details><summary>172: Feature (Point, 10 properties)</summary><ul><li><span class='ee-k'>type:</span><span class='ee-v'>Feature</span></li><li><span class='ee-k'>id:</span><span class='ee-v'>172</span></li><li><details><summary>geometry: Point (-55.51, -1.92)</summary><ul><li><span class='ee-k'>type:</span><span class='ee-v'>Point</span></li><li><details><summary>coordinates: [-55.5131, -1.9192]</summary><ul><li><span class='ee-k'>0:</span><span class='ee-v'>-55.5131</span></li><li><span class='ee-k'>1:</span><span class='ee-v'>-1.9192</span></li></ul></details></li></ul></details></li><li><details><summary>properties: Object (10 properties)</summary><ul><li><span class='ee-k'>Data:</span><span class='ee-v'>2010-01-01</span></li><li><span class='ee-k'>EstacaoCodigo:</span><span class='ee-v'>17050001</span></li><li><span class='ee-k'>Maxima:</span><span class='ee-v'>414</span></li><li><span class='ee-k'>Media:</span><span class='ee-v'>344</span></li><li><span class='ee-k'>Minima:</span><span class='ee-v'>261</span></li><li><span class='ee-k'>latitude:</span><span class='ee-v'>-1.9192</span></li><li><span class='ee-k'>longitude:</span><span class='ee-v'>-55.5131</span></li><li><details><summary>system:time_start: Date (2010-01-01 00:00:00)</summary><ul><li><span class='ee-k'>type:</span><span class='ee-v'>Date</span></li><li><span class='ee-k'>value:</span><span class='ee-v'>1262304000000</span></li></ul></details></li><li><span class='ee-k'>water_period:</span><span class='ee-v'>LW</span></li><li><span class='ee-k'>water_period3:</span><span class='ee-v'>LW</span></li></ul></details></li></ul></details></li><li><details><summary>173: Feature (Point, 10 properties)</summary><ul><li><span class='ee-k'>type:</span><span class='ee-v'>Feature</span></li><li><span class='ee-k'>id:</span><span class='ee-v'>173</span></li><li><details><summary>geometry: Point (-55.51, -1.92)</summary><ul><li><span class='ee-k'>type:</span><span class='ee-v'>Point</span></li><li><details><summary>coordinates: [-55.5131, -1.9192]</summary><ul><li><span class='ee-k'>0:</span><span class='ee-v'>-55.5131</span></li><li><span class='ee-k'>1:</span><span class='ee-v'>-1.9192</span></li></ul></details></li></ul></details></li><li><details><summary>properties: Object (10 properties)</summary><ul><li><span class='ee-k'>Data:</span><span class='ee-v'>2009-12-01</span></li><li><span class='ee-k'>EstacaoCodigo:</span><span class='ee-v'>17050001</span></li><li><span class='ee-k'>Maxima:</span><span class='ee-v'>251</span></li><li><span class='ee-k'>Media:</span><span class='ee-v'>130</span></li><li><span class='ee-k'>Minima:</span><span class='ee-v'>56</span></li><li><span class='ee-k'>latitude:</span><span class='ee-v'>-1.9192</span></li><li><span class='ee-k'>longitude:</span><span class='ee-v'>-55.5131</span></li><li><details><summary>system:time_start: Date (2009-12-01 00:00:00)</summary><ul><li><span class='ee-k'>type:</span><span class='ee-v'>Date</span></li><li><span class='ee-k'>value:</span><span class='ee-v'>1259625600000</span></li></ul></details></li><li><span class='ee-k'>water_period:</span><span class='ee-v'>LW</span></li><li><span class='ee-k'>water_period3:</span><span class='ee-v'>LW</span></li></ul></details></li></ul></details></li><li><details><summary>174: Feature (Point, 10 properties)</summary><ul><li><span class='ee-k'>type:</span><span class='ee-v'>Feature</span></li><li><span class='ee-k'>id:</span><span class='ee-v'>174</span></li><li><details><summary>geometry: Point (-55.51, -1.92)</summary><ul><li><span class='ee-k'>type:</span><span class='ee-v'>Point</span></li><li><details><summary>coordinates: [-55.5131, -1.9192]</summary><ul><li><span class='ee-k'>0:</span><span class='ee-v'>-55.5131</span></li><li><span class='ee-k'>1:</span><span class='ee-v'>-1.9192</span></li></ul></details></li></ul></details></li><li><details><summary>properties: Object (10 properties)</summary><ul><li><span class='ee-k'>Data:</span><span class='ee-v'>2009-11-01</span></li><li><span class='ee-k'>EstacaoCodigo:</span><span class='ee-v'>17050001</span></li><li><span class='ee-k'>Maxima:</span><span class='ee-v'>139</span></li><li><span class='ee-k'>Media:</span><span class='ee-v'>109</span></li><li><span class='ee-k'>Minima:</span><span class='ee-v'>56</span></li><li><span class='ee-k'>latitude:</span><span class='ee-v'>-1.9192</span></li><li><span class='ee-k'>longitude:</span><span class='ee-v'>-55.5131</span></li><li><details><summary>system:time_start: Date (2009-11-01 00:00:00)</summary><ul><li><span class='ee-k'>type:</span><span class='ee-v'>Date</span></li><li><span class='ee-k'>value:</span><span class='ee-v'>1257033600000</span></li></ul></details></li><li><span class='ee-k'>water_period:</span><span class='ee-v'>LW</span></li><li><span class='ee-k'>water_period3:</span><span class='ee-v'>LW</span></li></ul></details></li></ul></details></li><li><details><summary>175: Feature (Point, 10 properties)</summary><ul><li><span class='ee-k'>type:</span><span class='ee-v'>Feature</span></li><li><span class='ee-k'>id:</span><span class='ee-v'>175</span></li><li><details><summary>geometry: Point (-55.51, -1.92)</summary><ul><li><span class='ee-k'>type:</span><span class='ee-v'>Point</span></li><li><details><summary>coordinates: [-55.5131, -1.9192]</summary><ul><li><span class='ee-k'>0:</span><span class='ee-v'>-55.5131</span></li><li><span class='ee-k'>1:</span><span class='ee-v'>-1.9192</span></li></ul></details></li></ul></details></li><li><details><summary>properties: Object (10 properties)</summary><ul><li><span class='ee-k'>Data:</span><span class='ee-v'>2009-10-01</span></li><li><span class='ee-k'>EstacaoCodigo:</span><span class='ee-v'>17050001</span></li><li><span class='ee-k'>Maxima:</span><span class='ee-v'>393</span></li><li><span class='ee-k'>Media:</span><span class='ee-v'>241</span></li><li><span class='ee-k'>Minima:</span><span class='ee-v'>130</span></li><li><span class='ee-k'>latitude:</span><span class='ee-v'>-1.9192</span></li><li><span class='ee-k'>longitude:</span><span class='ee-v'>-55.5131</span></li><li><details><summary>system:time_start: Date (2009-10-01 00:00:00)</summary><ul><li><span class='ee-k'>type:</span><span class='ee-v'>Date</span></li><li><span class='ee-k'>value:</span><span class='ee-v'>1254355200000</span></li></ul></details></li><li><span class='ee-k'>water_period:</span><span class='ee-v'>LW</span></li><li><span class='ee-k'>water_period3:</span><span class='ee-v'>LW</span></li></ul></details></li></ul></details></li><li><details><summary>176: Feature (Point, 12 properties)</summary><ul><li><span class='ee-k'>type:</span><span class='ee-v'>Feature</span></li><li><span class='ee-k'>id:</span><span class='ee-v'>176</span></li><li><details><summary>geometry: Point (-55.51, -1.92)</summary><ul><li><span class='ee-k'>type:</span><span class='ee-v'>Point</span></li><li><details><summary>coordinates: [-55.5131, -1.9192]</summary><ul><li><span class='ee-k'>0:</span><span class='ee-v'>-55.5131</span></li><li><span class='ee-k'>1:</span><span class='ee-v'>-1.9192</span></li></ul></details></li></ul></details></li><li><details><summary>properties: Object (12 properties)</summary><ul><li><span class='ee-k'>Data:</span><span class='ee-v'>2009-09-01</span></li><li><span class='ee-k'>EstacaoCodigo:</span><span class='ee-v'>17050001</span></li><li><span class='ee-k'>Maxima:</span><span class='ee-v'>635</span></li><li><span class='ee-k'>Media:</span><span class='ee-v'>537</span></li><li><span class='ee-k'>Minima:</span><span class='ee-v'>407</span></li><li><span class='ee-k'>fall:</span><span class='ee-v'>False</span></li><li><span class='ee-k'>latitude:</span><span class='ee-v'>-1.9192</span></li><li><span class='ee-k'>longitude:</span><span class='ee-v'>-55.5131</span></li><li><span class='ee-k'>rise:</span><span class='ee-v'>True</span></li><li><details><summary>system:time_start: Date (2009-09-01 00:00:00)</summary><ul><li><span class='ee-k'>type:</span><span class='ee-v'>Date</span></li><li><span class='ee-k'>value:</span><span class='ee-v'>1251763200000</span></li></ul></details></li><li><span class='ee-k'>water_period:</span><span class='ee-v'>R</span></li><li><span class='ee-k'>water_period3:</span><span class='ee-v'>T</span></li></ul></details></li></ul></details></li><li><details><summary>177: Feature (Point, 10 properties)</summary><ul><li><span class='ee-k'>type:</span><span class='ee-v'>Feature</span></li><li><span class='ee-k'>id:</span><span class='ee-v'>177</span></li><li><details><summary>geometry: Point (-55.51, -1.92)</summary><ul><li><span class='ee-k'>type:</span><span class='ee-v'>Point</span></li><li><details><summary>coordinates: [-55.5131, -1.9192]</summary><ul><li><span class='ee-k'>0:</span><span class='ee-v'>-55.5131</span></li><li><span class='ee-k'>1:</span><span class='ee-v'>-1.9192</span></li></ul></details></li></ul></details></li><li><details><summary>properties: Object (10 properties)</summary><ul><li><span class='ee-k'>Data:</span><span class='ee-v'>2009-08-01</span></li><li><span class='ee-k'>EstacaoCodigo:</span><span class='ee-v'>17050001</span></li><li><span class='ee-k'>Maxima:</span><span class='ee-v'>769</span></li><li><span class='ee-k'>Media:</span><span class='ee-v'>710</span></li><li><span class='ee-k'>Minima:</span><span class='ee-v'>642</span></li><li><span class='ee-k'>latitude:</span><span class='ee-v'>-1.9192</span></li><li><span class='ee-k'>longitude:</span><span class='ee-v'>-55.5131</span></li><li><details><summary>system:time_start: Date (2009-08-01 00:00:00)</summary><ul><li><span class='ee-k'>type:</span><span class='ee-v'>Date</span></li><li><span class='ee-k'>value:</span><span class='ee-v'>1249084800000</span></li></ul></details></li><li><span class='ee-k'>water_period:</span><span class='ee-v'>HW</span></li><li><span class='ee-k'>water_period3:</span><span class='ee-v'>HW</span></li></ul></details></li></ul></details></li><li><details><summary>178: Feature (Point, 10 properties)</summary><ul><li><span class='ee-k'>type:</span><span class='ee-v'>Feature</span></li><li><span class='ee-k'>id:</span><span class='ee-v'>178</span></li><li><details><summary>geometry: Point (-55.51, -1.92)</summary><ul><li><span class='ee-k'>type:</span><span class='ee-v'>Point</span></li><li><details><summary>coordinates: [-55.5131, -1.9192]</summary><ul><li><span class='ee-k'>0:</span><span class='ee-v'>-55.5131</span></li><li><span class='ee-k'>1:</span><span class='ee-v'>-1.9192</span></li></ul></details></li></ul></details></li><li><details><summary>properties: Object (10 properties)</summary><ul><li><span class='ee-k'>Data:</span><span class='ee-v'>2009-07-01</span></li><li><span class='ee-k'>EstacaoCodigo:</span><span class='ee-v'>17050001</span></li><li><span class='ee-k'>Maxima:</span><span class='ee-v'>837</span></li><li><span class='ee-k'>Media:</span><span class='ee-v'>805</span></li><li><span class='ee-k'>Minima:</span><span class='ee-v'>773</span></li><li><span class='ee-k'>latitude:</span><span class='ee-v'>-1.9192</span></li><li><span class='ee-k'>longitude:</span><span class='ee-v'>-55.5131</span></li><li><details><summary>system:time_start: Date (2009-07-01 00:00:00)</summary><ul><li><span class='ee-k'>type:</span><span class='ee-v'>Date</span></li><li><span class='ee-k'>value:</span><span class='ee-v'>1246406400000</span></li></ul></details></li><li><span class='ee-k'>water_period:</span><span class='ee-v'>HW</span></li><li><span class='ee-k'>water_period3:</span><span class='ee-v'>HW</span></li></ul></details></li></ul></details></li><li><details><summary>179: Feature (Point, 10 properties)</summary><ul><li><span class='ee-k'>type:</span><span class='ee-v'>Feature</span></li><li><span class='ee-k'>id:</span><span class='ee-v'>179</span></li><li><details><summary>geometry: Point (-55.51, -1.92)</summary><ul><li><span class='ee-k'>type:</span><span class='ee-v'>Point</span></li><li><details><summary>coordinates: [-55.5131, -1.9192]</summary><ul><li><span class='ee-k'>0:</span><span class='ee-v'>-55.5131</span></li><li><span class='ee-k'>1:</span><span class='ee-v'>-1.9192</span></li></ul></details></li></ul></details></li><li><details><summary>properties: Object (10 properties)</summary><ul><li><span class='ee-k'>Data:</span><span class='ee-v'>2009-06-01</span></li><li><span class='ee-k'>EstacaoCodigo:</span><span class='ee-v'>17050001</span></li><li><span class='ee-k'>Maxima:</span><span class='ee-v'>860</span></li><li><span class='ee-k'>Media:</span><span class='ee-v'>848</span></li><li><span class='ee-k'>Minima:</span><span class='ee-v'>839</span></li><li><span class='ee-k'>latitude:</span><span class='ee-v'>-1.9192</span></li><li><span class='ee-k'>longitude:</span><span class='ee-v'>-55.5131</span></li><li><details><summary>system:time_start: Date (2009-06-01 00:00:00)</summary><ul><li><span class='ee-k'>type:</span><span class='ee-v'>Date</span></li><li><span class='ee-k'>value:</span><span class='ee-v'>1243814400000</span></li></ul></details></li><li><span class='ee-k'>water_period:</span><span class='ee-v'>HW</span></li><li><span class='ee-k'>water_period3:</span><span class='ee-v'>HW</span></li></ul></details></li></ul></details></li><li><details><summary>180: Feature (Point, 10 properties)</summary><ul><li><span class='ee-k'>type:</span><span class='ee-v'>Feature</span></li><li><span class='ee-k'>id:</span><span class='ee-v'>180</span></li><li><details><summary>geometry: Point (-55.51, -1.92)</summary><ul><li><span class='ee-k'>type:</span><span class='ee-v'>Point</span></li><li><details><summary>coordinates: [-55.5131, -1.9192]</summary><ul><li><span class='ee-k'>0:</span><span class='ee-v'>-55.5131</span></li><li><span class='ee-k'>1:</span><span class='ee-v'>-1.9192</span></li></ul></details></li></ul></details></li><li><details><summary>properties: Object (10 properties)</summary><ul><li><span class='ee-k'>Data:</span><span class='ee-v'>2009-05-01</span></li><li><span class='ee-k'>EstacaoCodigo:</span><span class='ee-v'>17050001</span></li><li><span class='ee-k'>Maxima:</span><span class='ee-v'>860</span></li><li><span class='ee-k'>Media:</span><span class='ee-v'>850</span></li><li><span class='ee-k'>Minima:</span><span class='ee-v'>839</span></li><li><span class='ee-k'>latitude:</span><span class='ee-v'>-1.9192</span></li><li><span class='ee-k'>longitude:</span><span class='ee-v'>-55.5131</span></li><li><details><summary>system:time_start: Date (2009-05-01 00:00:00)</summary><ul><li><span class='ee-k'>type:</span><span class='ee-v'>Date</span></li><li><span class='ee-k'>value:</span><span class='ee-v'>1241136000000</span></li></ul></details></li><li><span class='ee-k'>water_period:</span><span class='ee-v'>HW</span></li><li><span class='ee-k'>water_period3:</span><span class='ee-v'>HW</span></li></ul></details></li></ul></details></li><li><details><summary>181: Feature (Point, 10 properties)</summary><ul><li><span class='ee-k'>type:</span><span class='ee-v'>Feature</span></li><li><span class='ee-k'>id:</span><span class='ee-v'>181</span></li><li><details><summary>geometry: Point (-55.51, -1.92)</summary><ul><li><span class='ee-k'>type:</span><span class='ee-v'>Point</span></li><li><details><summary>coordinates: [-55.5131, -1.9192]</summary><ul><li><span class='ee-k'>0:</span><span class='ee-v'>-55.5131</span></li><li><span class='ee-k'>1:</span><span class='ee-v'>-1.9192</span></li></ul></details></li></ul></details></li><li><details><summary>properties: Object (10 properties)</summary><ul><li><span class='ee-k'>Data:</span><span class='ee-v'>2009-04-01</span></li><li><span class='ee-k'>EstacaoCodigo:</span><span class='ee-v'>17050001</span></li><li><span class='ee-k'>Maxima:</span><span class='ee-v'>829</span></li><li><span class='ee-k'>Media:</span><span class='ee-v'>800</span></li><li><span class='ee-k'>Minima:</span><span class='ee-v'>771</span></li><li><span class='ee-k'>latitude:</span><span class='ee-v'>-1.9192</span></li><li><span class='ee-k'>longitude:</span><span class='ee-v'>-55.5131</span></li><li><details><summary>system:time_start: Date (2009-04-01 00:00:00)</summary><ul><li><span class='ee-k'>type:</span><span class='ee-v'>Date</span></li><li><span class='ee-k'>value:</span><span class='ee-v'>1238544000000</span></li></ul></details></li><li><span class='ee-k'>water_period:</span><span class='ee-v'>HW</span></li><li><span class='ee-k'>water_period3:</span><span class='ee-v'>HW</span></li></ul></details></li></ul></details></li><li><details><summary>182: Feature (Point, 10 properties)</summary><ul><li><span class='ee-k'>type:</span><span class='ee-v'>Feature</span></li><li><span class='ee-k'>id:</span><span class='ee-v'>182</span></li><li><details><summary>geometry: Point (-55.51, -1.92)</summary><ul><li><span class='ee-k'>type:</span><span class='ee-v'>Point</span></li><li><details><summary>coordinates: [-55.5131, -1.9192]</summary><ul><li><span class='ee-k'>0:</span><span class='ee-v'>-55.5131</span></li><li><span class='ee-k'>1:</span><span class='ee-v'>-1.9192</span></li></ul></details></li></ul></details></li><li><details><summary>properties: Object (10 properties)</summary><ul><li><span class='ee-k'>Data:</span><span class='ee-v'>2009-03-01</span></li><li><span class='ee-k'>EstacaoCodigo:</span><span class='ee-v'>17050001</span></li><li><span class='ee-k'>Maxima:</span><span class='ee-v'>769</span></li><li><span class='ee-k'>Media:</span><span class='ee-v'>723</span></li><li><span class='ee-k'>Minima:</span><span class='ee-v'>665</span></li><li><span class='ee-k'>latitude:</span><span class='ee-v'>-1.9192</span></li><li><span class='ee-k'>longitude:</span><span class='ee-v'>-55.5131</span></li><li><details><summary>system:time_start: Date (2009-03-01 00:00:00)</summary><ul><li><span class='ee-k'>type:</span><span class='ee-v'>Date</span></li><li><span class='ee-k'>value:</span><span class='ee-v'>1235865600000</span></li></ul></details></li><li><span class='ee-k'>water_period:</span><span class='ee-v'>HW</span></li><li><span class='ee-k'>water_period3:</span><span class='ee-v'>HW</span></li></ul></details></li></ul></details></li><li><details><summary>183: Feature (Point, 10 properties)</summary><ul><li><span class='ee-k'>type:</span><span class='ee-v'>Feature</span></li><li><span class='ee-k'>id:</span><span class='ee-v'>183</span></li><li><details><summary>geometry: Point (-55.51, -1.92)</summary><ul><li><span class='ee-k'>type:</span><span class='ee-v'>Point</span></li><li><details><summary>coordinates: [-55.5131, -1.9192]</summary><ul><li><span class='ee-k'>0:</span><span class='ee-v'>-55.5131</span></li><li><span class='ee-k'>1:</span><span class='ee-v'>-1.9192</span></li></ul></details></li></ul></details></li><li><details><summary>properties: Object (10 properties)</summary><ul><li><span class='ee-k'>Data:</span><span class='ee-v'>2009-02-01</span></li><li><span class='ee-k'>EstacaoCodigo:</span><span class='ee-v'>17050001</span></li><li><span class='ee-k'>Maxima:</span><span class='ee-v'>659</span></li><li><span class='ee-k'>Media:</span><span class='ee-v'>598</span></li><li><span class='ee-k'>Minima:</span><span class='ee-v'>533</span></li><li><span class='ee-k'>latitude:</span><span class='ee-v'>-1.9192</span></li><li><span class='ee-k'>longitude:</span><span class='ee-v'>-55.5131</span></li><li><details><summary>system:time_start: Date (2009-02-01 00:00:00)</summary><ul><li><span class='ee-k'>type:</span><span class='ee-v'>Date</span></li><li><span class='ee-k'>value:</span><span class='ee-v'>1233446400000</span></li></ul></details></li><li><span class='ee-k'>water_period:</span><span class='ee-v'>HW</span></li><li><span class='ee-k'>water_period3:</span><span class='ee-v'>HW</span></li></ul></details></li></ul></details></li><li><details><summary>184: Feature (Point, 12 properties)</summary><ul><li><span class='ee-k'>type:</span><span class='ee-v'>Feature</span></li><li><span class='ee-k'>id:</span><span class='ee-v'>184</span></li><li><details><summary>geometry: Point (-55.51, -1.92)</summary><ul><li><span class='ee-k'>type:</span><span class='ee-v'>Point</span></li><li><details><summary>coordinates: [-55.5131, -1.9192]</summary><ul><li><span class='ee-k'>0:</span><span class='ee-v'>-55.5131</span></li><li><span class='ee-k'>1:</span><span class='ee-v'>-1.9192</span></li></ul></details></li></ul></details></li><li><details><summary>properties: Object (12 properties)</summary><ul><li><span class='ee-k'>Data:</span><span class='ee-v'>2009-01-01</span></li><li><span class='ee-k'>EstacaoCodigo:</span><span class='ee-v'>17050001</span></li><li><span class='ee-k'>Maxima:</span><span class='ee-v'>526</span></li><li><span class='ee-k'>Media:</span><span class='ee-v'>450</span></li><li><span class='ee-k'>Minima:</span><span class='ee-v'>374</span></li><li><span class='ee-k'>fall:</span><span class='ee-v'>True</span></li><li><span class='ee-k'>latitude:</span><span class='ee-v'>-1.9192</span></li><li><span class='ee-k'>longitude:</span><span class='ee-v'>-55.5131</span></li><li><span class='ee-k'>rise:</span><span class='ee-v'>False</span></li><li><details><summary>system:time_start: Date (2009-01-01 00:00:00)</summary><ul><li><span class='ee-k'>type:</span><span class='ee-v'>Date</span></li><li><span class='ee-k'>value:</span><span class='ee-v'>1230768000000</span></li></ul></details></li><li><span class='ee-k'>water_period:</span><span class='ee-v'>F</span></li><li><span class='ee-k'>water_period3:</span><span class='ee-v'>T</span></li></ul></details></li></ul></details></li><li><details><summary>185: Feature (Point, 10 properties)</summary><ul><li><span class='ee-k'>type:</span><span class='ee-v'>Feature</span></li><li><span class='ee-k'>id:</span><span class='ee-v'>185</span></li><li><details><summary>geometry: Point (-55.51, -1.92)</summary><ul><li><span class='ee-k'>type:</span><span class='ee-v'>Point</span></li><li><details><summary>coordinates: [-55.5131, -1.9192]</summary><ul><li><span class='ee-k'>0:</span><span class='ee-v'>-55.5131</span></li><li><span class='ee-k'>1:</span><span class='ee-v'>-1.9192</span></li></ul></details></li></ul></details></li><li><details><summary>properties: Object (10 properties)</summary><ul><li><span class='ee-k'>Data:</span><span class='ee-v'>2008-12-01</span></li><li><span class='ee-k'>EstacaoCodigo:</span><span class='ee-v'>17050001</span></li><li><span class='ee-k'>Maxima:</span><span class='ee-v'>368</span></li><li><span class='ee-k'>Media:</span><span class='ee-v'>296</span></li><li><span class='ee-k'>Minima:</span><span class='ee-v'>238</span></li><li><span class='ee-k'>latitude:</span><span class='ee-v'>-1.9192</span></li><li><span class='ee-k'>longitude:</span><span class='ee-v'>-55.5131</span></li><li><details><summary>system:time_start: Date (2008-12-01 00:00:00)</summary><ul><li><span class='ee-k'>type:</span><span class='ee-v'>Date</span></li><li><span class='ee-k'>value:</span><span class='ee-v'>1228089600000</span></li></ul></details></li><li><span class='ee-k'>water_period:</span><span class='ee-v'>LW</span></li><li><span class='ee-k'>water_period3:</span><span class='ee-v'>LW</span></li></ul></details></li></ul></details></li><li><details><summary>186: Feature (Point, 10 properties)</summary><ul><li><span class='ee-k'>type:</span><span class='ee-v'>Feature</span></li><li><span class='ee-k'>id:</span><span class='ee-v'>186</span></li><li><details><summary>geometry: Point (-55.51, -1.92)</summary><ul><li><span class='ee-k'>type:</span><span class='ee-v'>Point</span></li><li><details><summary>coordinates: [-55.5131, -1.9192]</summary><ul><li><span class='ee-k'>0:</span><span class='ee-v'>-55.5131</span></li><li><span class='ee-k'>1:</span><span class='ee-v'>-1.9192</span></li></ul></details></li></ul></details></li><li><details><summary>properties: Object (10 properties)</summary><ul><li><span class='ee-k'>Data:</span><span class='ee-v'>2008-11-01</span></li><li><span class='ee-k'>EstacaoCodigo:</span><span class='ee-v'>17050001</span></li><li><span class='ee-k'>Maxima:</span><span class='ee-v'>235</span></li><li><span class='ee-k'>Media:</span><span class='ee-v'>195</span></li><li><span class='ee-k'>Minima:</span><span class='ee-v'>160</span></li><li><span class='ee-k'>latitude:</span><span class='ee-v'>-1.9192</span></li><li><span class='ee-k'>longitude:</span><span class='ee-v'>-55.5131</span></li><li><details><summary>system:time_start: Date (2008-11-01 00:00:00)</summary><ul><li><span class='ee-k'>type:</span><span class='ee-v'>Date</span></li><li><span class='ee-k'>value:</span><span class='ee-v'>1225497600000</span></li></ul></details></li><li><span class='ee-k'>water_period:</span><span class='ee-v'>LW</span></li><li><span class='ee-k'>water_period3:</span><span class='ee-v'>LW</span></li></ul></details></li></ul></details></li><li><details><summary>187: Feature (Point, 10 properties)</summary><ul><li><span class='ee-k'>type:</span><span class='ee-v'>Feature</span></li><li><span class='ee-k'>id:</span><span class='ee-v'>187</span></li><li><details><summary>geometry: Point (-55.51, -1.92)</summary><ul><li><span class='ee-k'>type:</span><span class='ee-v'>Point</span></li><li><details><summary>coordinates: [-55.5131, -1.9192]</summary><ul><li><span class='ee-k'>0:</span><span class='ee-v'>-55.5131</span></li><li><span class='ee-k'>1:</span><span class='ee-v'>-1.9192</span></li></ul></details></li></ul></details></li><li><details><summary>properties: Object (10 properties)</summary><ul><li><span class='ee-k'>Data:</span><span class='ee-v'>2008-10-01</span></li><li><span class='ee-k'>EstacaoCodigo:</span><span class='ee-v'>17050001</span></li><li><span class='ee-k'>Maxima:</span><span class='ee-v'>257</span></li><li><span class='ee-k'>Media:</span><span class='ee-v'>196</span></li><li><span class='ee-k'>Minima:</span><span class='ee-v'>164</span></li><li><span class='ee-k'>latitude:</span><span class='ee-v'>-1.9192</span></li><li><span class='ee-k'>longitude:</span><span class='ee-v'>-55.5131</span></li><li><details><summary>system:time_start: Date (2008-10-01 00:00:00)</summary><ul><li><span class='ee-k'>type:</span><span class='ee-v'>Date</span></li><li><span class='ee-k'>value:</span><span class='ee-v'>1222819200000</span></li></ul></details></li><li><span class='ee-k'>water_period:</span><span class='ee-v'>LW</span></li><li><span class='ee-k'>water_period3:</span><span class='ee-v'>LW</span></li></ul></details></li></ul></details></li><li><details><summary>188: Feature (Point, 12 properties)</summary><ul><li><span class='ee-k'>type:</span><span class='ee-v'>Feature</span></li><li><span class='ee-k'>id:</span><span class='ee-v'>188</span></li><li><details><summary>geometry: Point (-55.51, -1.92)</summary><ul><li><span class='ee-k'>type:</span><span class='ee-v'>Point</span></li><li><details><summary>coordinates: [-55.5131, -1.9192]</summary><ul><li><span class='ee-k'>0:</span><span class='ee-v'>-55.5131</span></li><li><span class='ee-k'>1:</span><span class='ee-v'>-1.9192</span></li></ul></details></li></ul></details></li><li><details><summary>properties: Object (12 properties)</summary><ul><li><span class='ee-k'>Data:</span><span class='ee-v'>2008-09-01</span></li><li><span class='ee-k'>EstacaoCodigo:</span><span class='ee-v'>17050001</span></li><li><span class='ee-k'>Maxima:</span><span class='ee-v'>508</span></li><li><span class='ee-k'>Media:</span><span class='ee-v'>387</span></li><li><span class='ee-k'>Minima:</span><span class='ee-v'>262</span></li><li><span class='ee-k'>fall:</span><span class='ee-v'>False</span></li><li><span class='ee-k'>latitude:</span><span class='ee-v'>-1.9192</span></li><li><span class='ee-k'>longitude:</span><span class='ee-v'>-55.5131</span></li><li><span class='ee-k'>rise:</span><span class='ee-v'>True</span></li><li><details><summary>system:time_start: Date (2008-09-01 00:00:00)</summary><ul><li><span class='ee-k'>type:</span><span class='ee-v'>Date</span></li><li><span class='ee-k'>value:</span><span class='ee-v'>1220227200000</span></li></ul></details></li><li><span class='ee-k'>water_period:</span><span class='ee-v'>R</span></li><li><span class='ee-k'>water_period3:</span><span class='ee-v'>T</span></li></ul></details></li></ul></details></li><li><details><summary>189: Feature (Point, 10 properties)</summary><ul><li><span class='ee-k'>type:</span><span class='ee-v'>Feature</span></li><li><span class='ee-k'>id:</span><span class='ee-v'>189</span></li><li><details><summary>geometry: Point (-55.51, -1.92)</summary><ul><li><span class='ee-k'>type:</span><span class='ee-v'>Point</span></li><li><details><summary>coordinates: [-55.5131, -1.9192]</summary><ul><li><span class='ee-k'>0:</span><span class='ee-v'>-55.5131</span></li><li><span class='ee-k'>1:</span><span class='ee-v'>-1.9192</span></li></ul></details></li></ul></details></li><li><details><summary>properties: Object (10 properties)</summary><ul><li><span class='ee-k'>Data:</span><span class='ee-v'>2008-08-01</span></li><li><span class='ee-k'>EstacaoCodigo:</span><span class='ee-v'>17050001</span></li><li><span class='ee-k'>Maxima:</span><span class='ee-v'>665</span></li><li><span class='ee-k'>Media:</span><span class='ee-v'>595</span></li><li><span class='ee-k'>Minima:</span><span class='ee-v'>516</span></li><li><span class='ee-k'>latitude:</span><span class='ee-v'>-1.9192</span></li><li><span class='ee-k'>longitude:</span><span class='ee-v'>-55.5131</span></li><li><details><summary>system:time_start: Date (2008-08-01 00:00:00)</summary><ul><li><span class='ee-k'>type:</span><span class='ee-v'>Date</span></li><li><span class='ee-k'>value:</span><span class='ee-v'>1217548800000</span></li></ul></details></li><li><span class='ee-k'>water_period:</span><span class='ee-v'>HW</span></li><li><span class='ee-k'>water_period3:</span><span class='ee-v'>HW</span></li></ul></details></li></ul></details></li><li><details><summary>190: Feature (Point, 10 properties)</summary><ul><li><span class='ee-k'>type:</span><span class='ee-v'>Feature</span></li><li><span class='ee-k'>id:</span><span class='ee-v'>190</span></li><li><details><summary>geometry: Point (-55.51, -1.92)</summary><ul><li><span class='ee-k'>type:</span><span class='ee-v'>Point</span></li><li><details><summary>coordinates: [-55.5131, -1.9192]</summary><ul><li><span class='ee-k'>0:</span><span class='ee-v'>-55.5131</span></li><li><span class='ee-k'>1:</span><span class='ee-v'>-1.9192</span></li></ul></details></li></ul></details></li><li><details><summary>properties: Object (10 properties)</summary><ul><li><span class='ee-k'>Data:</span><span class='ee-v'>2008-07-01</span></li><li><span class='ee-k'>EstacaoCodigo:</span><span class='ee-v'>17050001</span></li><li><span class='ee-k'>Maxima:</span><span class='ee-v'>761</span></li><li><span class='ee-k'>Media:</span><span class='ee-v'>718</span></li><li><span class='ee-k'>Minima:</span><span class='ee-v'>666</span></li><li><span class='ee-k'>latitude:</span><span class='ee-v'>-1.9192</span></li><li><span class='ee-k'>longitude:</span><span class='ee-v'>-55.5131</span></li><li><details><summary>system:time_start: Date (2008-07-01 00:00:00)</summary><ul><li><span class='ee-k'>type:</span><span class='ee-v'>Date</span></li><li><span class='ee-k'>value:</span><span class='ee-v'>1214870400000</span></li></ul></details></li><li><span class='ee-k'>water_period:</span><span class='ee-v'>HW</span></li><li><span class='ee-k'>water_period3:</span><span class='ee-v'>HW</span></li></ul></details></li></ul></details></li><li><details><summary>191: Feature (Point, 10 properties)</summary><ul><li><span class='ee-k'>type:</span><span class='ee-v'>Feature</span></li><li><span class='ee-k'>id:</span><span class='ee-v'>191</span></li><li><details><summary>geometry: Point (-55.51, -1.92)</summary><ul><li><span class='ee-k'>type:</span><span class='ee-v'>Point</span></li><li><details><summary>coordinates: [-55.5131, -1.9192]</summary><ul><li><span class='ee-k'>0:</span><span class='ee-v'>-55.5131</span></li><li><span class='ee-k'>1:</span><span class='ee-v'>-1.9192</span></li></ul></details></li></ul></details></li><li><details><summary>properties: Object (10 properties)</summary><ul><li><span class='ee-k'>Data:</span><span class='ee-v'>2008-06-01</span></li><li><span class='ee-k'>EstacaoCodigo:</span><span class='ee-v'>17050001</span></li><li><span class='ee-k'>Maxima:</span><span class='ee-v'>785</span></li><li><span class='ee-k'>Media:</span><span class='ee-v'>777</span></li><li><span class='ee-k'>Minima:</span><span class='ee-v'>764</span></li><li><span class='ee-k'>latitude:</span><span class='ee-v'>-1.9192</span></li><li><span class='ee-k'>longitude:</span><span class='ee-v'>-55.5131</span></li><li><details><summary>system:time_start: Date (2008-06-01 00:00:00)</summary><ul><li><span class='ee-k'>type:</span><span class='ee-v'>Date</span></li><li><span class='ee-k'>value:</span><span class='ee-v'>1212278400000</span></li></ul></details></li><li><span class='ee-k'>water_period:</span><span class='ee-v'>HW</span></li><li><span class='ee-k'>water_period3:</span><span class='ee-v'>HW</span></li></ul></details></li></ul></details></li><li><details><summary>192: Feature (Point, 10 properties)</summary><ul><li><span class='ee-k'>type:</span><span class='ee-v'>Feature</span></li><li><span class='ee-k'>id:</span><span class='ee-v'>192</span></li><li><details><summary>geometry: Point (-55.51, -1.92)</summary><ul><li><span class='ee-k'>type:</span><span class='ee-v'>Point</span></li><li><details><summary>coordinates: [-55.5131, -1.9192]</summary><ul><li><span class='ee-k'>0:</span><span class='ee-v'>-55.5131</span></li><li><span class='ee-k'>1:</span><span class='ee-v'>-1.9192</span></li></ul></details></li></ul></details></li><li><details><summary>properties: Object (10 properties)</summary><ul><li><span class='ee-k'>Data:</span><span class='ee-v'>2008-05-01</span></li><li><span class='ee-k'>EstacaoCodigo:</span><span class='ee-v'>17050001</span></li><li><span class='ee-k'>Maxima:</span><span class='ee-v'>784</span></li><li><span class='ee-k'>Media:</span><span class='ee-v'>775</span></li><li><span class='ee-k'>Minima:</span><span class='ee-v'>757</span></li><li><span class='ee-k'>latitude:</span><span class='ee-v'>-1.9192</span></li><li><span class='ee-k'>longitude:</span><span class='ee-v'>-55.5131</span></li><li><details><summary>system:time_start: Date (2008-05-01 00:00:00)</summary><ul><li><span class='ee-k'>type:</span><span class='ee-v'>Date</span></li><li><span class='ee-k'>value:</span><span class='ee-v'>1209600000000</span></li></ul></details></li><li><span class='ee-k'>water_period:</span><span class='ee-v'>HW</span></li><li><span class='ee-k'>water_period3:</span><span class='ee-v'>HW</span></li></ul></details></li></ul></details></li><li><details><summary>193: Feature (Point, 10 properties)</summary><ul><li><span class='ee-k'>type:</span><span class='ee-v'>Feature</span></li><li><span class='ee-k'>id:</span><span class='ee-v'>193</span></li><li><details><summary>geometry: Point (-55.51, -1.92)</summary><ul><li><span class='ee-k'>type:</span><span class='ee-v'>Point</span></li><li><details><summary>coordinates: [-55.5131, -1.9192]</summary><ul><li><span class='ee-k'>0:</span><span class='ee-v'>-55.5131</span></li><li><span class='ee-k'>1:</span><span class='ee-v'>-1.9192</span></li></ul></details></li></ul></details></li><li><details><summary>properties: Object (10 properties)</summary><ul><li><span class='ee-k'>Data:</span><span class='ee-v'>2008-04-01</span></li><li><span class='ee-k'>EstacaoCodigo:</span><span class='ee-v'>17050001</span></li><li><span class='ee-k'>Maxima:</span><span class='ee-v'>759</span></li><li><span class='ee-k'>Media:</span><span class='ee-v'>740</span></li><li><span class='ee-k'>Minima:</span><span class='ee-v'>716</span></li><li><span class='ee-k'>latitude:</span><span class='ee-v'>-1.9192</span></li><li><span class='ee-k'>longitude:</span><span class='ee-v'>-55.5131</span></li><li><details><summary>system:time_start: Date (2008-04-01 00:00:00)</summary><ul><li><span class='ee-k'>type:</span><span class='ee-v'>Date</span></li><li><span class='ee-k'>value:</span><span class='ee-v'>1207008000000</span></li></ul></details></li><li><span class='ee-k'>water_period:</span><span class='ee-v'>HW</span></li><li><span class='ee-k'>water_period3:</span><span class='ee-v'>HW</span></li></ul></details></li></ul></details></li><li><details><summary>194: Feature (Point, 10 properties)</summary><ul><li><span class='ee-k'>type:</span><span class='ee-v'>Feature</span></li><li><span class='ee-k'>id:</span><span class='ee-v'>194</span></li><li><details><summary>geometry: Point (-55.51, -1.92)</summary><ul><li><span class='ee-k'>type:</span><span class='ee-v'>Point</span></li><li><details><summary>coordinates: [-55.5131, -1.9192]</summary><ul><li><span class='ee-k'>0:</span><span class='ee-v'>-55.5131</span></li><li><span class='ee-k'>1:</span><span class='ee-v'>-1.9192</span></li></ul></details></li></ul></details></li><li><details><summary>properties: Object (10 properties)</summary><ul><li><span class='ee-k'>Data:</span><span class='ee-v'>2008-03-01</span></li><li><span class='ee-k'>EstacaoCodigo:</span><span class='ee-v'>17050001</span></li><li><span class='ee-k'>Maxima:</span><span class='ee-v'>716</span></li><li><span class='ee-k'>Media:</span><span class='ee-v'>667</span></li><li><span class='ee-k'>Minima:</span><span class='ee-v'>619</span></li><li><span class='ee-k'>latitude:</span><span class='ee-v'>-1.9192</span></li><li><span class='ee-k'>longitude:</span><span class='ee-v'>-55.5131</span></li><li><details><summary>system:time_start: Date (2008-03-01 00:00:00)</summary><ul><li><span class='ee-k'>type:</span><span class='ee-v'>Date</span></li><li><span class='ee-k'>value:</span><span class='ee-v'>1204329600000</span></li></ul></details></li><li><span class='ee-k'>water_period:</span><span class='ee-v'>HW</span></li><li><span class='ee-k'>water_period3:</span><span class='ee-v'>HW</span></li></ul></details></li></ul></details></li><li><details><summary>195: Feature (Point, 10 properties)</summary><ul><li><span class='ee-k'>type:</span><span class='ee-v'>Feature</span></li><li><span class='ee-k'>id:</span><span class='ee-v'>195</span></li><li><details><summary>geometry: Point (-55.51, -1.92)</summary><ul><li><span class='ee-k'>type:</span><span class='ee-v'>Point</span></li><li><details><summary>coordinates: [-55.5131, -1.9192]</summary><ul><li><span class='ee-k'>0:</span><span class='ee-v'>-55.5131</span></li><li><span class='ee-k'>1:</span><span class='ee-v'>-1.9192</span></li></ul></details></li></ul></details></li><li><details><summary>properties: Object (10 properties)</summary><ul><li><span class='ee-k'>Data:</span><span class='ee-v'>2008-02-01</span></li><li><span class='ee-k'>EstacaoCodigo:</span><span class='ee-v'>17050001</span></li><li><span class='ee-k'>Maxima:</span><span class='ee-v'>612</span></li><li><span class='ee-k'>Media:</span><span class='ee-v'>558</span></li><li><span class='ee-k'>Minima:</span><span class='ee-v'>505</span></li><li><span class='ee-k'>latitude:</span><span class='ee-v'>-1.9192</span></li><li><span class='ee-k'>longitude:</span><span class='ee-v'>-55.5131</span></li><li><details><summary>system:time_start: Date (2008-02-01 00:00:00)</summary><ul><li><span class='ee-k'>type:</span><span class='ee-v'>Date</span></li><li><span class='ee-k'>value:</span><span class='ee-v'>1201824000000</span></li></ul></details></li><li><span class='ee-k'>water_period:</span><span class='ee-v'>HW</span></li><li><span class='ee-k'>water_period3:</span><span class='ee-v'>HW</span></li></ul></details></li></ul></details></li><li><details><summary>196: Feature (Point, 12 properties)</summary><ul><li><span class='ee-k'>type:</span><span class='ee-v'>Feature</span></li><li><span class='ee-k'>id:</span><span class='ee-v'>196</span></li><li><details><summary>geometry: Point (-55.51, -1.92)</summary><ul><li><span class='ee-k'>type:</span><span class='ee-v'>Point</span></li><li><details><summary>coordinates: [-55.5131, -1.9192]</summary><ul><li><span class='ee-k'>0:</span><span class='ee-v'>-55.5131</span></li><li><span class='ee-k'>1:</span><span class='ee-v'>-1.9192</span></li></ul></details></li></ul></details></li><li><details><summary>properties: Object (12 properties)</summary><ul><li><span class='ee-k'>Data:</span><span class='ee-v'>2008-01-01</span></li><li><span class='ee-k'>EstacaoCodigo:</span><span class='ee-v'>17050001</span></li><li><span class='ee-k'>Maxima:</span><span class='ee-v'>502</span></li><li><span class='ee-k'>Media:</span><span class='ee-v'>412</span></li><li><span class='ee-k'>Minima:</span><span class='ee-v'>330</span></li><li><span class='ee-k'>fall:</span><span class='ee-v'>True</span></li><li><span class='ee-k'>latitude:</span><span class='ee-v'>-1.9192</span></li><li><span class='ee-k'>longitude:</span><span class='ee-v'>-55.5131</span></li><li><span class='ee-k'>rise:</span><span class='ee-v'>False</span></li><li><details><summary>system:time_start: Date (2008-01-01 00:00:00)</summary><ul><li><span class='ee-k'>type:</span><span class='ee-v'>Date</span></li><li><span class='ee-k'>value:</span><span class='ee-v'>1199145600000</span></li></ul></details></li><li><span class='ee-k'>water_period:</span><span class='ee-v'>F</span></li><li><span class='ee-k'>water_period3:</span><span class='ee-v'>T</span></li></ul></details></li></ul></details></li><li><details><summary>197: Feature (Point, 10 properties)</summary><ul><li><span class='ee-k'>type:</span><span class='ee-v'>Feature</span></li><li><span class='ee-k'>id:</span><span class='ee-v'>197</span></li><li><details><summary>geometry: Point (-55.51, -1.92)</summary><ul><li><span class='ee-k'>type:</span><span class='ee-v'>Point</span></li><li><details><summary>coordinates: [-55.5131, -1.9192]</summary><ul><li><span class='ee-k'>0:</span><span class='ee-v'>-55.5131</span></li><li><span class='ee-k'>1:</span><span class='ee-v'>-1.9192</span></li></ul></details></li></ul></details></li><li><details><summary>properties: Object (10 properties)</summary><ul><li><span class='ee-k'>Data:</span><span class='ee-v'>2007-12-01</span></li><li><span class='ee-k'>EstacaoCodigo:</span><span class='ee-v'>17050001</span></li><li><span class='ee-k'>Maxima:</span><span class='ee-v'>326</span></li><li><span class='ee-k'>Media:</span><span class='ee-v'>256</span></li><li><span class='ee-k'>Minima:</span><span class='ee-v'>189</span></li><li><span class='ee-k'>latitude:</span><span class='ee-v'>-1.9192</span></li><li><span class='ee-k'>longitude:</span><span class='ee-v'>-55.5131</span></li><li><details><summary>system:time_start: Date (2007-12-01 00:00:00)</summary><ul><li><span class='ee-k'>type:</span><span class='ee-v'>Date</span></li><li><span class='ee-k'>value:</span><span class='ee-v'>1196467200000</span></li></ul></details></li><li><span class='ee-k'>water_period:</span><span class='ee-v'>LW</span></li><li><span class='ee-k'>water_period3:</span><span class='ee-v'>LW</span></li></ul></details></li></ul></details></li><li><details><summary>198: Feature (Point, 10 properties)</summary><ul><li><span class='ee-k'>type:</span><span class='ee-v'>Feature</span></li><li><span class='ee-k'>id:</span><span class='ee-v'>198</span></li><li><details><summary>geometry: Point (-55.51, -1.92)</summary><ul><li><span class='ee-k'>type:</span><span class='ee-v'>Point</span></li><li><details><summary>coordinates: [-55.5131, -1.9192]</summary><ul><li><span class='ee-k'>0:</span><span class='ee-v'>-55.5131</span></li><li><span class='ee-k'>1:</span><span class='ee-v'>-1.9192</span></li></ul></details></li></ul></details></li><li><details><summary>properties: Object (10 properties)</summary><ul><li><span class='ee-k'>Data:</span><span class='ee-v'>2007-11-01</span></li><li><span class='ee-k'>EstacaoCodigo:</span><span class='ee-v'>17050001</span></li><li><span class='ee-k'>Maxima:</span><span class='ee-v'>192</span></li><li><span class='ee-k'>Media:</span><span class='ee-v'>148</span></li><li><span class='ee-k'>Minima:</span><span class='ee-v'>114</span></li><li><span class='ee-k'>latitude:</span><span class='ee-v'>-1.9192</span></li><li><span class='ee-k'>longitude:</span><span class='ee-v'>-55.5131</span></li><li><details><summary>system:time_start: Date (2007-11-01 00:00:00)</summary><ul><li><span class='ee-k'>type:</span><span class='ee-v'>Date</span></li><li><span class='ee-k'>value:</span><span class='ee-v'>1193875200000</span></li></ul></details></li><li><span class='ee-k'>water_period:</span><span class='ee-v'>LW</span></li><li><span class='ee-k'>water_period3:</span><span class='ee-v'>LW</span></li></ul></details></li></ul></details></li><li><details><summary>199: Feature (Point, 10 properties)</summary><ul><li><span class='ee-k'>type:</span><span class='ee-v'>Feature</span></li><li><span class='ee-k'>id:</span><span class='ee-v'>199</span></li><li><details><summary>geometry: Point (-55.51, -1.92)</summary><ul><li><span class='ee-k'>type:</span><span class='ee-v'>Point</span></li><li><details><summary>coordinates: [-55.5131, -1.9192]</summary><ul><li><span class='ee-k'>0:</span><span class='ee-v'>-55.5131</span></li><li><span class='ee-k'>1:</span><span class='ee-v'>-1.9192</span></li></ul></details></li></ul></details></li><li><details><summary>properties: Object (10 properties)</summary><ul><li><span class='ee-k'>Data:</span><span class='ee-v'>2007-10-01</span></li><li><span class='ee-k'>EstacaoCodigo:</span><span class='ee-v'>17050001</span></li><li><span class='ee-k'>Maxima:</span><span class='ee-v'>245</span></li><li><span class='ee-k'>Media:</span><span class='ee-v'>158</span></li><li><span class='ee-k'>Minima:</span><span class='ee-v'>112</span></li><li><span class='ee-k'>latitude:</span><span class='ee-v'>-1.9192</span></li><li><span class='ee-k'>longitude:</span><span class='ee-v'>-55.5131</span></li><li><details><summary>system:time_start: Date (2007-10-01 00:00:00)</summary><ul><li><span class='ee-k'>type:</span><span class='ee-v'>Date</span></li><li><span class='ee-k'>value:</span><span class='ee-v'>1191196800000</span></li></ul></details></li><li><span class='ee-k'>water_period:</span><span class='ee-v'>LW</span></li><li><span class='ee-k'>water_period3:</span><span class='ee-v'>LW</span></li></ul></details></li></ul></details></li><li><details><summary>200: Feature (Point, 12 properties)</summary><ul><li><span class='ee-k'>type:</span><span class='ee-v'>Feature</span></li><li><span class='ee-k'>id:</span><span class='ee-v'>200</span></li><li><details><summary>geometry: Point (-55.51, -1.92)</summary><ul><li><span class='ee-k'>type:</span><span class='ee-v'>Point</span></li><li><details><summary>coordinates: [-55.5131, -1.9192]</summary><ul><li><span class='ee-k'>0:</span><span class='ee-v'>-55.5131</span></li><li><span class='ee-k'>1:</span><span class='ee-v'>-1.9192</span></li></ul></details></li></ul></details></li><li><details><summary>properties: Object (12 properties)</summary><ul><li><span class='ee-k'>Data:</span><span class='ee-v'>2007-09-01</span></li><li><span class='ee-k'>EstacaoCodigo:</span><span class='ee-v'>17050001</span></li><li><span class='ee-k'>Maxima:</span><span class='ee-v'>508</span></li><li><span class='ee-k'>Media:</span><span class='ee-v'>375</span></li><li><span class='ee-k'>Minima:</span><span class='ee-v'>253</span></li><li><span class='ee-k'>fall:</span><span class='ee-v'>False</span></li><li><span class='ee-k'>latitude:</span><span class='ee-v'>-1.9192</span></li><li><span class='ee-k'>longitude:</span><span class='ee-v'>-55.5131</span></li><li><span class='ee-k'>rise:</span><span class='ee-v'>True</span></li><li><details><summary>system:time_start: Date (2007-09-01 00:00:00)</summary><ul><li><span class='ee-k'>type:</span><span class='ee-v'>Date</span></li><li><span class='ee-k'>value:</span><span class='ee-v'>1188604800000</span></li></ul></details></li><li><span class='ee-k'>water_period:</span><span class='ee-v'>R</span></li><li><span class='ee-k'>water_period3:</span><span class='ee-v'>T</span></li></ul></details></li></ul></details></li><li><details><summary>201: Feature (Point, 10 properties)</summary><ul><li><span class='ee-k'>type:</span><span class='ee-v'>Feature</span></li><li><span class='ee-k'>id:</span><span class='ee-v'>201</span></li><li><details><summary>geometry: Point (-55.51, -1.92)</summary><ul><li><span class='ee-k'>type:</span><span class='ee-v'>Point</span></li><li><details><summary>coordinates: [-55.5131, -1.9192]</summary><ul><li><span class='ee-k'>0:</span><span class='ee-v'>-55.5131</span></li><li><span class='ee-k'>1:</span><span class='ee-v'>-1.9192</span></li></ul></details></li></ul></details></li><li><details><summary>properties: Object (10 properties)</summary><ul><li><span class='ee-k'>Data:</span><span class='ee-v'>2007-08-01</span></li><li><span class='ee-k'>EstacaoCodigo:</span><span class='ee-v'>17050001</span></li><li><span class='ee-k'>Maxima:</span><span class='ee-v'>642</span></li><li><span class='ee-k'>Media:</span><span class='ee-v'>588</span></li><li><span class='ee-k'>Minima:</span><span class='ee-v'>514</span></li><li><span class='ee-k'>latitude:</span><span class='ee-v'>-1.9192</span></li><li><span class='ee-k'>longitude:</span><span class='ee-v'>-55.5131</span></li><li><details><summary>system:time_start: Date (2007-08-01 00:00:00)</summary><ul><li><span class='ee-k'>type:</span><span class='ee-v'>Date</span></li><li><span class='ee-k'>value:</span><span class='ee-v'>1185926400000</span></li></ul></details></li><li><span class='ee-k'>water_period:</span><span class='ee-v'>HW</span></li><li><span class='ee-k'>water_period3:</span><span class='ee-v'>HW</span></li></ul></details></li></ul></details></li><li><details><summary>202: Feature (Point, 10 properties)</summary><ul><li><span class='ee-k'>type:</span><span class='ee-v'>Feature</span></li><li><span class='ee-k'>id:</span><span class='ee-v'>202</span></li><li><details><summary>geometry: Point (-55.51, -1.92)</summary><ul><li><span class='ee-k'>type:</span><span class='ee-v'>Point</span></li><li><details><summary>coordinates: [-55.5131, -1.9192]</summary><ul><li><span class='ee-k'>0:</span><span class='ee-v'>-55.5131</span></li><li><span class='ee-k'>1:</span><span class='ee-v'>-1.9192</span></li></ul></details></li></ul></details></li><li><details><summary>properties: Object (10 properties)</summary><ul><li><span class='ee-k'>Data:</span><span class='ee-v'>2007-07-01</span></li><li><span class='ee-k'>EstacaoCodigo:</span><span class='ee-v'>17050001</span></li><li><span class='ee-k'>Maxima:</span><span class='ee-v'>710</span></li><li><span class='ee-k'>Media:</span><span class='ee-v'>683</span></li><li><span class='ee-k'>Minima:</span><span class='ee-v'>646</span></li><li><span class='ee-k'>latitude:</span><span class='ee-v'>-1.9192</span></li><li><span class='ee-k'>longitude:</span><span class='ee-v'>-55.5131</span></li><li><details><summary>system:time_start: Date (2007-07-01 00:00:00)</summary><ul><li><span class='ee-k'>type:</span><span class='ee-v'>Date</span></li><li><span class='ee-k'>value:</span><span class='ee-v'>1183248000000</span></li></ul></details></li><li><span class='ee-k'>water_period:</span><span class='ee-v'>HW</span></li><li><span class='ee-k'>water_period3:</span><span class='ee-v'>HW</span></li></ul></details></li></ul></details></li><li><details><summary>203: Feature (Point, 10 properties)</summary><ul><li><span class='ee-k'>type:</span><span class='ee-v'>Feature</span></li><li><span class='ee-k'>id:</span><span class='ee-v'>203</span></li><li><details><summary>geometry: Point (-55.51, -1.92)</summary><ul><li><span class='ee-k'>type:</span><span class='ee-v'>Point</span></li><li><details><summary>coordinates: [-55.5131, -1.9192]</summary><ul><li><span class='ee-k'>0:</span><span class='ee-v'>-55.5131</span></li><li><span class='ee-k'>1:</span><span class='ee-v'>-1.9192</span></li></ul></details></li></ul></details></li><li><details><summary>properties: Object (10 properties)</summary><ul><li><span class='ee-k'>Data:</span><span class='ee-v'>2007-06-01</span></li><li><span class='ee-k'>EstacaoCodigo:</span><span class='ee-v'>17050001</span></li><li><span class='ee-k'>Maxima:</span><span class='ee-v'>738</span></li><li><span class='ee-k'>Media:</span><span class='ee-v'>731</span></li><li><span class='ee-k'>Minima:</span><span class='ee-v'>712</span></li><li><span class='ee-k'>latitude:</span><span class='ee-v'>-1.9192</span></li><li><span class='ee-k'>longitude:</span><span class='ee-v'>-55.5131</span></li><li><details><summary>system:time_start: Date (2007-06-01 00:00:00)</summary><ul><li><span class='ee-k'>type:</span><span class='ee-v'>Date</span></li><li><span class='ee-k'>value:</span><span class='ee-v'>1180656000000</span></li></ul></details></li><li><span class='ee-k'>water_period:</span><span class='ee-v'>HW</span></li><li><span class='ee-k'>water_period3:</span><span class='ee-v'>HW</span></li></ul></details></li></ul></details></li><li><details><summary>204: Feature (Point, 10 properties)</summary><ul><li><span class='ee-k'>type:</span><span class='ee-v'>Feature</span></li><li><span class='ee-k'>id:</span><span class='ee-v'>204</span></li><li><details><summary>geometry: Point (-55.51, -1.92)</summary><ul><li><span class='ee-k'>type:</span><span class='ee-v'>Point</span></li><li><details><summary>coordinates: [-55.5131, -1.9192]</summary><ul><li><span class='ee-k'>0:</span><span class='ee-v'>-55.5131</span></li><li><span class='ee-k'>1:</span><span class='ee-v'>-1.9192</span></li></ul></details></li></ul></details></li><li><details><summary>properties: Object (10 properties)</summary><ul><li><span class='ee-k'>Data:</span><span class='ee-v'>2007-05-01</span></li><li><span class='ee-k'>EstacaoCodigo:</span><span class='ee-v'>17050001</span></li><li><span class='ee-k'>Maxima:</span><span class='ee-v'>734</span></li><li><span class='ee-k'>Media:</span><span class='ee-v'>709</span></li><li><span class='ee-k'>Minima:</span><span class='ee-v'>677</span></li><li><span class='ee-k'>latitude:</span><span class='ee-v'>-1.9192</span></li><li><span class='ee-k'>longitude:</span><span class='ee-v'>-55.5131</span></li><li><details><summary>system:time_start: Date (2007-05-01 00:00:00)</summary><ul><li><span class='ee-k'>type:</span><span class='ee-v'>Date</span></li><li><span class='ee-k'>value:</span><span class='ee-v'>1177977600000</span></li></ul></details></li><li><span class='ee-k'>water_period:</span><span class='ee-v'>HW</span></li><li><span class='ee-k'>water_period3:</span><span class='ee-v'>HW</span></li></ul></details></li></ul></details></li><li><details><summary>205: Feature (Point, 10 properties)</summary><ul><li><span class='ee-k'>type:</span><span class='ee-v'>Feature</span></li><li><span class='ee-k'>id:</span><span class='ee-v'>205</span></li><li><details><summary>geometry: Point (-55.51, -1.92)</summary><ul><li><span class='ee-k'>type:</span><span class='ee-v'>Point</span></li><li><details><summary>coordinates: [-55.5131, -1.9192]</summary><ul><li><span class='ee-k'>0:</span><span class='ee-v'>-55.5131</span></li><li><span class='ee-k'>1:</span><span class='ee-v'>-1.9192</span></li></ul></details></li></ul></details></li><li><details><summary>properties: Object (10 properties)</summary><ul><li><span class='ee-k'>Data:</span><span class='ee-v'>2007-04-01</span></li><li><span class='ee-k'>EstacaoCodigo:</span><span class='ee-v'>17050001</span></li><li><span class='ee-k'>Maxima:</span><span class='ee-v'>675</span></li><li><span class='ee-k'>Media:</span><span class='ee-v'>630</span></li><li><span class='ee-k'>Minima:</span><span class='ee-v'>588</span></li><li><span class='ee-k'>latitude:</span><span class='ee-v'>-1.9192</span></li><li><span class='ee-k'>longitude:</span><span class='ee-v'>-55.5131</span></li><li><details><summary>system:time_start: Date (2007-04-01 00:00:00)</summary><ul><li><span class='ee-k'>type:</span><span class='ee-v'>Date</span></li><li><span class='ee-k'>value:</span><span class='ee-v'>1175385600000</span></li></ul></details></li><li><span class='ee-k'>water_period:</span><span class='ee-v'>HW</span></li><li><span class='ee-k'>water_period3:</span><span class='ee-v'>HW</span></li></ul></details></li></ul></details></li><li><details><summary>206: Feature (Point, 10 properties)</summary><ul><li><span class='ee-k'>type:</span><span class='ee-v'>Feature</span></li><li><span class='ee-k'>id:</span><span class='ee-v'>206</span></li><li><details><summary>geometry: Point (-55.51, -1.92)</summary><ul><li><span class='ee-k'>type:</span><span class='ee-v'>Point</span></li><li><details><summary>coordinates: [-55.5131, -1.9192]</summary><ul><li><span class='ee-k'>0:</span><span class='ee-v'>-55.5131</span></li><li><span class='ee-k'>1:</span><span class='ee-v'>-1.9192</span></li></ul></details></li></ul></details></li><li><details><summary>properties: Object (10 properties)</summary><ul><li><span class='ee-k'>Data:</span><span class='ee-v'>2007-03-01</span></li><li><span class='ee-k'>EstacaoCodigo:</span><span class='ee-v'>17050001</span></li><li><span class='ee-k'>Maxima:</span><span class='ee-v'>585</span></li><li><span class='ee-k'>Media:</span><span class='ee-v'>560</span></li><li><span class='ee-k'>Minima:</span><span class='ee-v'>530</span></li><li><span class='ee-k'>latitude:</span><span class='ee-v'>-1.9192</span></li><li><span class='ee-k'>longitude:</span><span class='ee-v'>-55.5131</span></li><li><details><summary>system:time_start: Date (2007-03-01 00:00:00)</summary><ul><li><span class='ee-k'>type:</span><span class='ee-v'>Date</span></li><li><span class='ee-k'>value:</span><span class='ee-v'>1172707200000</span></li></ul></details></li><li><span class='ee-k'>water_period:</span><span class='ee-v'>HW</span></li><li><span class='ee-k'>water_period3:</span><span class='ee-v'>HW</span></li></ul></details></li></ul></details></li><li><details><summary>207: Feature (Point, 12 properties)</summary><ul><li><span class='ee-k'>type:</span><span class='ee-v'>Feature</span></li><li><span class='ee-k'>id:</span><span class='ee-v'>207</span></li><li><details><summary>geometry: Point (-55.51, -1.92)</summary><ul><li><span class='ee-k'>type:</span><span class='ee-v'>Point</span></li><li><details><summary>coordinates: [-55.5131, -1.9192]</summary><ul><li><span class='ee-k'>0:</span><span class='ee-v'>-55.5131</span></li><li><span class='ee-k'>1:</span><span class='ee-v'>-1.9192</span></li></ul></details></li></ul></details></li><li><details><summary>properties: Object (12 properties)</summary><ul><li><span class='ee-k'>Data:</span><span class='ee-v'>2007-02-01</span></li><li><span class='ee-k'>EstacaoCodigo:</span><span class='ee-v'>17050001</span></li><li><span class='ee-k'>Maxima:</span><span class='ee-v'>527</span></li><li><span class='ee-k'>Media:</span><span class='ee-v'>496</span></li><li><span class='ee-k'>Minima:</span><span class='ee-v'>458</span></li><li><span class='ee-k'>fall:</span><span class='ee-v'>True</span></li><li><span class='ee-k'>latitude:</span><span class='ee-v'>-1.9192</span></li><li><span class='ee-k'>longitude:</span><span class='ee-v'>-55.5131</span></li><li><span class='ee-k'>rise:</span><span class='ee-v'>False</span></li><li><details><summary>system:time_start: Date (2007-02-01 00:00:00)</summary><ul><li><span class='ee-k'>type:</span><span class='ee-v'>Date</span></li><li><span class='ee-k'>value:</span><span class='ee-v'>1170288000000</span></li></ul></details></li><li><span class='ee-k'>water_period:</span><span class='ee-v'>F</span></li><li><span class='ee-k'>water_period3:</span><span class='ee-v'>T</span></li></ul></details></li></ul></details></li><li><details><summary>208: Feature (Point, 12 properties)</summary><ul><li><span class='ee-k'>type:</span><span class='ee-v'>Feature</span></li><li><span class='ee-k'>id:</span><span class='ee-v'>208</span></li><li><details><summary>geometry: Point (-55.51, -1.92)</summary><ul><li><span class='ee-k'>type:</span><span class='ee-v'>Point</span></li><li><details><summary>coordinates: [-55.5131, -1.9192]</summary><ul><li><span class='ee-k'>0:</span><span class='ee-v'>-55.5131</span></li><li><span class='ee-k'>1:</span><span class='ee-v'>-1.9192</span></li></ul></details></li></ul></details></li><li><details><summary>properties: Object (12 properties)</summary><ul><li><span class='ee-k'>Data:</span><span class='ee-v'>2007-01-01</span></li><li><span class='ee-k'>EstacaoCodigo:</span><span class='ee-v'>17050001</span></li><li><span class='ee-k'>Maxima:</span><span class='ee-v'>450</span></li><li><span class='ee-k'>Media:</span><span class='ee-v'>389</span></li><li><span class='ee-k'>Minima:</span><span class='ee-v'>324</span></li><li><span class='ee-k'>fall:</span><span class='ee-v'>True</span></li><li><span class='ee-k'>latitude:</span><span class='ee-v'>-1.9192</span></li><li><span class='ee-k'>longitude:</span><span class='ee-v'>-55.5131</span></li><li><span class='ee-k'>rise:</span><span class='ee-v'>False</span></li><li><details><summary>system:time_start: Date (2007-01-01 00:00:00)</summary><ul><li><span class='ee-k'>type:</span><span class='ee-v'>Date</span></li><li><span class='ee-k'>value:</span><span class='ee-v'>1167609600000</span></li></ul></details></li><li><span class='ee-k'>water_period:</span><span class='ee-v'>F</span></li><li><span class='ee-k'>water_period3:</span><span class='ee-v'>T</span></li></ul></details></li></ul></details></li><li><details><summary>209: Feature (Point, 10 properties)</summary><ul><li><span class='ee-k'>type:</span><span class='ee-v'>Feature</span></li><li><span class='ee-k'>id:</span><span class='ee-v'>209</span></li><li><details><summary>geometry: Point (-55.51, -1.92)</summary><ul><li><span class='ee-k'>type:</span><span class='ee-v'>Point</span></li><li><details><summary>coordinates: [-55.5131, -1.9192]</summary><ul><li><span class='ee-k'>0:</span><span class='ee-v'>-55.5131</span></li><li><span class='ee-k'>1:</span><span class='ee-v'>-1.9192</span></li></ul></details></li></ul></details></li><li><details><summary>properties: Object (10 properties)</summary><ul><li><span class='ee-k'>Data:</span><span class='ee-v'>2006-12-01</span></li><li><span class='ee-k'>EstacaoCodigo:</span><span class='ee-v'>17050001</span></li><li><span class='ee-k'>Maxima:</span><span class='ee-v'>319</span></li><li><span class='ee-k'>Media:</span><span class='ee-v'>252</span></li><li><span class='ee-k'>Minima:</span><span class='ee-v'>178</span></li><li><span class='ee-k'>latitude:</span><span class='ee-v'>-1.9192</span></li><li><span class='ee-k'>longitude:</span><span class='ee-v'>-55.5131</span></li><li><details><summary>system:time_start: Date (2006-12-01 00:00:00)</summary><ul><li><span class='ee-k'>type:</span><span class='ee-v'>Date</span></li><li><span class='ee-k'>value:</span><span class='ee-v'>1164931200000</span></li></ul></details></li><li><span class='ee-k'>water_period:</span><span class='ee-v'>LW</span></li><li><span class='ee-k'>water_period3:</span><span class='ee-v'>LW</span></li></ul></details></li></ul></details></li><li><details><summary>210: Feature (Point, 10 properties)</summary><ul><li><span class='ee-k'>type:</span><span class='ee-v'>Feature</span></li><li><span class='ee-k'>id:</span><span class='ee-v'>210</span></li><li><details><summary>geometry: Point (-55.51, -1.92)</summary><ul><li><span class='ee-k'>type:</span><span class='ee-v'>Point</span></li><li><details><summary>coordinates: [-55.5131, -1.9192]</summary><ul><li><span class='ee-k'>0:</span><span class='ee-v'>-55.5131</span></li><li><span class='ee-k'>1:</span><span class='ee-v'>-1.9192</span></li></ul></details></li></ul></details></li><li><details><summary>properties: Object (10 properties)</summary><ul><li><span class='ee-k'>Data:</span><span class='ee-v'>2006-11-01</span></li><li><span class='ee-k'>EstacaoCodigo:</span><span class='ee-v'>17050001</span></li><li><span class='ee-k'>Maxima:</span><span class='ee-v'>171</span></li><li><span class='ee-k'>Media:</span><span class='ee-v'>121</span></li><li><span class='ee-k'>Minima:</span><span class='ee-v'>72</span></li><li><span class='ee-k'>latitude:</span><span class='ee-v'>-1.9192</span></li><li><span class='ee-k'>longitude:</span><span class='ee-v'>-55.5131</span></li><li><details><summary>system:time_start: Date (2006-11-01 00:00:00)</summary><ul><li><span class='ee-k'>type:</span><span class='ee-v'>Date</span></li><li><span class='ee-k'>value:</span><span class='ee-v'>1162339200000</span></li></ul></details></li><li><span class='ee-k'>water_period:</span><span class='ee-v'>LW</span></li><li><span class='ee-k'>water_period3:</span><span class='ee-v'>LW</span></li></ul></details></li></ul></details></li><li><details><summary>211: Feature (Point, 10 properties)</summary><ul><li><span class='ee-k'>type:</span><span class='ee-v'>Feature</span></li><li><span class='ee-k'>id:</span><span class='ee-v'>211</span></li><li><details><summary>geometry: Point (-55.51, -1.92)</summary><ul><li><span class='ee-k'>type:</span><span class='ee-v'>Point</span></li><li><details><summary>coordinates: [-55.5131, -1.9192]</summary><ul><li><span class='ee-k'>0:</span><span class='ee-v'>-55.5131</span></li><li><span class='ee-k'>1:</span><span class='ee-v'>-1.9192</span></li></ul></details></li></ul></details></li><li><details><summary>properties: Object (10 properties)</summary><ul><li><span class='ee-k'>Data:</span><span class='ee-v'>2006-10-01</span></li><li><span class='ee-k'>EstacaoCodigo:</span><span class='ee-v'>17050001</span></li><li><span class='ee-k'>Maxima:</span><span class='ee-v'>201</span></li><li><span class='ee-k'>Media:</span><span class='ee-v'>125</span></li><li><span class='ee-k'>Minima:</span><span class='ee-v'>72</span></li><li><span class='ee-k'>latitude:</span><span class='ee-v'>-1.9192</span></li><li><span class='ee-k'>longitude:</span><span class='ee-v'>-55.5131</span></li><li><details><summary>system:time_start: Date (2006-10-01 00:00:00)</summary><ul><li><span class='ee-k'>type:</span><span class='ee-v'>Date</span></li><li><span class='ee-k'>value:</span><span class='ee-v'>1159660800000</span></li></ul></details></li><li><span class='ee-k'>water_period:</span><span class='ee-v'>LW</span></li><li><span class='ee-k'>water_period3:</span><span class='ee-v'>LW</span></li></ul></details></li></ul></details></li><li><details><summary>212: Feature (Point, 10 properties)</summary><ul><li><span class='ee-k'>type:</span><span class='ee-v'>Feature</span></li><li><span class='ee-k'>id:</span><span class='ee-v'>212</span></li><li><details><summary>geometry: Point (-55.51, -1.92)</summary><ul><li><span class='ee-k'>type:</span><span class='ee-v'>Point</span></li><li><details><summary>coordinates: [-55.5131, -1.9192]</summary><ul><li><span class='ee-k'>0:</span><span class='ee-v'>-55.5131</span></li><li><span class='ee-k'>1:</span><span class='ee-v'>-1.9192</span></li></ul></details></li></ul></details></li><li><details><summary>properties: Object (10 properties)</summary><ul><li><span class='ee-k'>Data:</span><span class='ee-v'>2006-09-01</span></li><li><span class='ee-k'>EstacaoCodigo:</span><span class='ee-v'>17050001</span></li><li><span class='ee-k'>Maxima:</span><span class='ee-v'>458</span></li><li><span class='ee-k'>Media:</span><span class='ee-v'>337</span></li><li><span class='ee-k'>Minima:</span><span class='ee-v'>212</span></li><li><span class='ee-k'>latitude:</span><span class='ee-v'>-1.9192</span></li><li><span class='ee-k'>longitude:</span><span class='ee-v'>-55.5131</span></li><li><details><summary>system:time_start: Date (2006-09-01 00:00:00)</summary><ul><li><span class='ee-k'>type:</span><span class='ee-v'>Date</span></li><li><span class='ee-k'>value:</span><span class='ee-v'>1157068800000</span></li></ul></details></li><li><span class='ee-k'>water_period:</span><span class='ee-v'>LW</span></li><li><span class='ee-k'>water_period3:</span><span class='ee-v'>LW</span></li></ul></details></li></ul></details></li><li><details><summary>213: Feature (Point, 10 properties)</summary><ul><li><span class='ee-k'>type:</span><span class='ee-v'>Feature</span></li><li><span class='ee-k'>id:</span><span class='ee-v'>213</span></li><li><details><summary>geometry: Point (-55.51, -1.92)</summary><ul><li><span class='ee-k'>type:</span><span class='ee-v'>Point</span></li><li><details><summary>coordinates: [-55.5131, -1.9192]</summary><ul><li><span class='ee-k'>0:</span><span class='ee-v'>-55.5131</span></li><li><span class='ee-k'>1:</span><span class='ee-v'>-1.9192</span></li></ul></details></li></ul></details></li><li><details><summary>properties: Object (10 properties)</summary><ul><li><span class='ee-k'>Data:</span><span class='ee-v'>2006-08-01</span></li><li><span class='ee-k'>EstacaoCodigo:</span><span class='ee-v'>17050001</span></li><li><span class='ee-k'>Maxima:</span><span class='ee-v'>647</span></li><li><span class='ee-k'>Media:</span><span class='ee-v'>565</span></li><li><span class='ee-k'>Minima:</span><span class='ee-v'>469</span></li><li><span class='ee-k'>latitude:</span><span class='ee-v'>-1.9192</span></li><li><span class='ee-k'>longitude:</span><span class='ee-v'>-55.5131</span></li><li><details><summary>system:time_start: Date (2006-08-01 00:00:00)</summary><ul><li><span class='ee-k'>type:</span><span class='ee-v'>Date</span></li><li><span class='ee-k'>value:</span><span class='ee-v'>1154390400000</span></li></ul></details></li><li><span class='ee-k'>water_period:</span><span class='ee-v'>HW</span></li><li><span class='ee-k'>water_period3:</span><span class='ee-v'>HW</span></li></ul></details></li></ul></details></li><li><details><summary>214: Feature (Point, 10 properties)</summary><ul><li><span class='ee-k'>type:</span><span class='ee-v'>Feature</span></li><li><span class='ee-k'>id:</span><span class='ee-v'>214</span></li><li><details><summary>geometry: Point (-55.51, -1.92)</summary><ul><li><span class='ee-k'>type:</span><span class='ee-v'>Point</span></li><li><details><summary>coordinates: [-55.5131, -1.9192]</summary><ul><li><span class='ee-k'>0:</span><span class='ee-v'>-55.5131</span></li><li><span class='ee-k'>1:</span><span class='ee-v'>-1.9192</span></li></ul></details></li></ul></details></li><li><details><summary>properties: Object (10 properties)</summary><ul><li><span class='ee-k'>Data:</span><span class='ee-v'>2006-07-01</span></li><li><span class='ee-k'>EstacaoCodigo:</span><span class='ee-v'>17050001</span></li><li><span class='ee-k'>Maxima:</span><span class='ee-v'>755</span></li><li><span class='ee-k'>Media:</span><span class='ee-v'>706</span></li><li><span class='ee-k'>Minima:</span><span class='ee-v'>651</span></li><li><span class='ee-k'>latitude:</span><span class='ee-v'>-1.9192</span></li><li><span class='ee-k'>longitude:</span><span class='ee-v'>-55.5131</span></li><li><details><summary>system:time_start: Date (2006-07-01 00:00:00)</summary><ul><li><span class='ee-k'>type:</span><span class='ee-v'>Date</span></li><li><span class='ee-k'>value:</span><span class='ee-v'>1151712000000</span></li></ul></details></li><li><span class='ee-k'>water_period:</span><span class='ee-v'>HW</span></li><li><span class='ee-k'>water_period3:</span><span class='ee-v'>HW</span></li></ul></details></li></ul></details></li><li><details><summary>215: Feature (Point, 10 properties)</summary><ul><li><span class='ee-k'>type:</span><span class='ee-v'>Feature</span></li><li><span class='ee-k'>id:</span><span class='ee-v'>215</span></li><li><details><summary>geometry: Point (-55.51, -1.92)</summary><ul><li><span class='ee-k'>type:</span><span class='ee-v'>Point</span></li><li><details><summary>coordinates: [-55.5131, -1.9192]</summary><ul><li><span class='ee-k'>0:</span><span class='ee-v'>-55.5131</span></li><li><span class='ee-k'>1:</span><span class='ee-v'>-1.9192</span></li></ul></details></li></ul></details></li><li><details><summary>properties: Object (10 properties)</summary><ul><li><span class='ee-k'>Data:</span><span class='ee-v'>2006-06-01</span></li><li><span class='ee-k'>EstacaoCodigo:</span><span class='ee-v'>17050001</span></li><li><span class='ee-k'>Maxima:</span><span class='ee-v'>808</span></li><li><span class='ee-k'>Media:</span><span class='ee-v'>785</span></li><li><span class='ee-k'>Minima:</span><span class='ee-v'>759</span></li><li><span class='ee-k'>latitude:</span><span class='ee-v'>-1.9192</span></li><li><span class='ee-k'>longitude:</span><span class='ee-v'>-55.5131</span></li><li><details><summary>system:time_start: Date (2006-06-01 00:00:00)</summary><ul><li><span class='ee-k'>type:</span><span class='ee-v'>Date</span></li><li><span class='ee-k'>value:</span><span class='ee-v'>1149120000000</span></li></ul></details></li><li><span class='ee-k'>water_period:</span><span class='ee-v'>HW</span></li><li><span class='ee-k'>water_period3:</span><span class='ee-v'>HW</span></li></ul></details></li></ul></details></li><li><details><summary>216: Feature (Point, 10 properties)</summary><ul><li><span class='ee-k'>type:</span><span class='ee-v'>Feature</span></li><li><span class='ee-k'>id:</span><span class='ee-v'>216</span></li><li><details><summary>geometry: Point (-55.51, -1.92)</summary><ul><li><span class='ee-k'>type:</span><span class='ee-v'>Point</span></li><li><details><summary>coordinates: [-55.5131, -1.9192]</summary><ul><li><span class='ee-k'>0:</span><span class='ee-v'>-55.5131</span></li><li><span class='ee-k'>1:</span><span class='ee-v'>-1.9192</span></li></ul></details></li></ul></details></li><li><details><summary>properties: Object (10 properties)</summary><ul><li><span class='ee-k'>Data:</span><span class='ee-v'>2006-05-01</span></li><li><span class='ee-k'>EstacaoCodigo:</span><span class='ee-v'>17050001</span></li><li><span class='ee-k'>Maxima:</span><span class='ee-v'>810</span></li><li><span class='ee-k'>Media:</span><span class='ee-v'>792</span></li><li><span class='ee-k'>Minima:</span><span class='ee-v'>764</span></li><li><span class='ee-k'>latitude:</span><span class='ee-v'>-1.9192</span></li><li><span class='ee-k'>longitude:</span><span class='ee-v'>-55.5131</span></li><li><details><summary>system:time_start: Date (2006-05-01 00:00:00)</summary><ul><li><span class='ee-k'>type:</span><span class='ee-v'>Date</span></li><li><span class='ee-k'>value:</span><span class='ee-v'>1146441600000</span></li></ul></details></li><li><span class='ee-k'>water_period:</span><span class='ee-v'>HW</span></li><li><span class='ee-k'>water_period3:</span><span class='ee-v'>HW</span></li></ul></details></li></ul></details></li><li><details><summary>217: Feature (Point, 10 properties)</summary><ul><li><span class='ee-k'>type:</span><span class='ee-v'>Feature</span></li><li><span class='ee-k'>id:</span><span class='ee-v'>217</span></li><li><details><summary>geometry: Point (-55.51, -1.92)</summary><ul><li><span class='ee-k'>type:</span><span class='ee-v'>Point</span></li><li><details><summary>coordinates: [-55.5131, -1.9192]</summary><ul><li><span class='ee-k'>0:</span><span class='ee-v'>-55.5131</span></li><li><span class='ee-k'>1:</span><span class='ee-v'>-1.9192</span></li></ul></details></li></ul></details></li><li><details><summary>properties: Object (10 properties)</summary><ul><li><span class='ee-k'>Data:</span><span class='ee-v'>2006-04-01</span></li><li><span class='ee-k'>EstacaoCodigo:</span><span class='ee-v'>17050001</span></li><li><span class='ee-k'>Maxima:</span><span class='ee-v'>762</span></li><li><span class='ee-k'>Media:</span><span class='ee-v'>730</span></li><li><span class='ee-k'>Minima:</span><span class='ee-v'>710</span></li><li><span class='ee-k'>latitude:</span><span class='ee-v'>-1.9192</span></li><li><span class='ee-k'>longitude:</span><span class='ee-v'>-55.5131</span></li><li><details><summary>system:time_start: Date (2006-04-01 00:00:00)</summary><ul><li><span class='ee-k'>type:</span><span class='ee-v'>Date</span></li><li><span class='ee-k'>value:</span><span class='ee-v'>1143849600000</span></li></ul></details></li><li><span class='ee-k'>water_period:</span><span class='ee-v'>HW</span></li><li><span class='ee-k'>water_period3:</span><span class='ee-v'>HW</span></li></ul></details></li></ul></details></li><li><details><summary>218: Feature (Point, 10 properties)</summary><ul><li><span class='ee-k'>type:</span><span class='ee-v'>Feature</span></li><li><span class='ee-k'>id:</span><span class='ee-v'>218</span></li><li><details><summary>geometry: Point (-55.51, -1.92)</summary><ul><li><span class='ee-k'>type:</span><span class='ee-v'>Point</span></li><li><details><summary>coordinates: [-55.5131, -1.9192]</summary><ul><li><span class='ee-k'>0:</span><span class='ee-v'>-55.5131</span></li><li><span class='ee-k'>1:</span><span class='ee-v'>-1.9192</span></li></ul></details></li></ul></details></li><li><details><summary>properties: Object (10 properties)</summary><ul><li><span class='ee-k'>Data:</span><span class='ee-v'>2006-03-01</span></li><li><span class='ee-k'>EstacaoCodigo:</span><span class='ee-v'>17050001</span></li><li><span class='ee-k'>Maxima:</span><span class='ee-v'>708</span></li><li><span class='ee-k'>Media:</span><span class='ee-v'>668</span></li><li><span class='ee-k'>Minima:</span><span class='ee-v'>617</span></li><li><span class='ee-k'>latitude:</span><span class='ee-v'>-1.9192</span></li><li><span class='ee-k'>longitude:</span><span class='ee-v'>-55.5131</span></li><li><details><summary>system:time_start: Date (2006-03-01 00:00:00)</summary><ul><li><span class='ee-k'>type:</span><span class='ee-v'>Date</span></li><li><span class='ee-k'>value:</span><span class='ee-v'>1141171200000</span></li></ul></details></li><li><span class='ee-k'>water_period:</span><span class='ee-v'>HW</span></li><li><span class='ee-k'>water_period3:</span><span class='ee-v'>HW</span></li></ul></details></li></ul></details></li><li><details><summary>219: Feature (Point, 12 properties)</summary><ul><li><span class='ee-k'>type:</span><span class='ee-v'>Feature</span></li><li><span class='ee-k'>id:</span><span class='ee-v'>219</span></li><li><details><summary>geometry: Point (-55.51, -1.92)</summary><ul><li><span class='ee-k'>type:</span><span class='ee-v'>Point</span></li><li><details><summary>coordinates: [-55.5131, -1.9192]</summary><ul><li><span class='ee-k'>0:</span><span class='ee-v'>-55.5131</span></li><li><span class='ee-k'>1:</span><span class='ee-v'>-1.9192</span></li></ul></details></li></ul></details></li><li><details><summary>properties: Object (12 properties)</summary><ul><li><span class='ee-k'>Data:</span><span class='ee-v'>2006-02-01</span></li><li><span class='ee-k'>EstacaoCodigo:</span><span class='ee-v'>17050001</span></li><li><span class='ee-k'>Maxima:</span><span class='ee-v'>610</span></li><li><span class='ee-k'>Media:</span><span class='ee-v'>543</span></li><li><span class='ee-k'>Minima:</span><span class='ee-v'>478</span></li><li><span class='ee-k'>fall:</span><span class='ee-v'>True</span></li><li><span class='ee-k'>latitude:</span><span class='ee-v'>-1.9192</span></li><li><span class='ee-k'>longitude:</span><span class='ee-v'>-55.5131</span></li><li><span class='ee-k'>rise:</span><span class='ee-v'>False</span></li><li><details><summary>system:time_start: Date (2006-02-01 00:00:00)</summary><ul><li><span class='ee-k'>type:</span><span class='ee-v'>Date</span></li><li><span class='ee-k'>value:</span><span class='ee-v'>1138752000000</span></li></ul></details></li><li><span class='ee-k'>water_period:</span><span class='ee-v'>F</span></li><li><span class='ee-k'>water_period3:</span><span class='ee-v'>T</span></li></ul></details></li></ul></details></li><li><details><summary>220: Feature (Point, 12 properties)</summary><ul><li><span class='ee-k'>type:</span><span class='ee-v'>Feature</span></li><li><span class='ee-k'>id:</span><span class='ee-v'>220</span></li><li><details><summary>geometry: Point (-55.51, -1.92)</summary><ul><li><span class='ee-k'>type:</span><span class='ee-v'>Point</span></li><li><details><summary>coordinates: [-55.5131, -1.9192]</summary><ul><li><span class='ee-k'>0:</span><span class='ee-v'>-55.5131</span></li><li><span class='ee-k'>1:</span><span class='ee-v'>-1.9192</span></li></ul></details></li></ul></details></li><li><details><summary>properties: Object (12 properties)</summary><ul><li><span class='ee-k'>Data:</span><span class='ee-v'>2006-01-01</span></li><li><span class='ee-k'>EstacaoCodigo:</span><span class='ee-v'>17050001</span></li><li><span class='ee-k'>Maxima:</span><span class='ee-v'>472</span></li><li><span class='ee-k'>Media:</span><span class='ee-v'>396</span></li><li><span class='ee-k'>Minima:</span><span class='ee-v'>301</span></li><li><span class='ee-k'>fall:</span><span class='ee-v'>True</span></li><li><span class='ee-k'>latitude:</span><span class='ee-v'>-1.9192</span></li><li><span class='ee-k'>longitude:</span><span class='ee-v'>-55.5131</span></li><li><span class='ee-k'>rise:</span><span class='ee-v'>False</span></li><li><details><summary>system:time_start: Date (2006-01-01 00:00:00)</summary><ul><li><span class='ee-k'>type:</span><span class='ee-v'>Date</span></li><li><span class='ee-k'>value:</span><span class='ee-v'>1136073600000</span></li></ul></details></li><li><span class='ee-k'>water_period:</span><span class='ee-v'>F</span></li><li><span class='ee-k'>water_period3:</span><span class='ee-v'>T</span></li></ul></details></li></ul></details></li><li><details><summary>221: Feature (Point, 10 properties)</summary><ul><li><span class='ee-k'>type:</span><span class='ee-v'>Feature</span></li><li><span class='ee-k'>id:</span><span class='ee-v'>221</span></li><li><details><summary>geometry: Point (-55.51, -1.92)</summary><ul><li><span class='ee-k'>type:</span><span class='ee-v'>Point</span></li><li><details><summary>coordinates: [-55.5131, -1.9192]</summary><ul><li><span class='ee-k'>0:</span><span class='ee-v'>-55.5131</span></li><li><span class='ee-k'>1:</span><span class='ee-v'>-1.9192</span></li></ul></details></li></ul></details></li><li><details><summary>properties: Object (10 properties)</summary><ul><li><span class='ee-k'>Data:</span><span class='ee-v'>2005-12-01</span></li><li><span class='ee-k'>EstacaoCodigo:</span><span class='ee-v'>17050001</span></li><li><span class='ee-k'>Maxima:</span><span class='ee-v'>287</span></li><li><span class='ee-k'>Media:</span><span class='ee-v'>219</span></li><li><span class='ee-k'>Minima:</span><span class='ee-v'>144</span></li><li><span class='ee-k'>latitude:</span><span class='ee-v'>-1.9192</span></li><li><span class='ee-k'>longitude:</span><span class='ee-v'>-55.5131</span></li><li><details><summary>system:time_start: Date (2005-12-01 00:00:00)</summary><ul><li><span class='ee-k'>type:</span><span class='ee-v'>Date</span></li><li><span class='ee-k'>value:</span><span class='ee-v'>1133395200000</span></li></ul></details></li><li><span class='ee-k'>water_period:</span><span class='ee-v'>LW</span></li><li><span class='ee-k'>water_period3:</span><span class='ee-v'>LW</span></li></ul></details></li></ul></details></li><li><details><summary>222: Feature (Point, 10 properties)</summary><ul><li><span class='ee-k'>type:</span><span class='ee-v'>Feature</span></li><li><span class='ee-k'>id:</span><span class='ee-v'>222</span></li><li><details><summary>geometry: Point (-55.51, -1.92)</summary><ul><li><span class='ee-k'>type:</span><span class='ee-v'>Point</span></li><li><details><summary>coordinates: [-55.5131, -1.9192]</summary><ul><li><span class='ee-k'>0:</span><span class='ee-v'>-55.5131</span></li><li><span class='ee-k'>1:</span><span class='ee-v'>-1.9192</span></li></ul></details></li></ul></details></li><li><details><summary>properties: Object (10 properties)</summary><ul><li><span class='ee-k'>Data:</span><span class='ee-v'>2005-11-01</span></li><li><span class='ee-k'>EstacaoCodigo:</span><span class='ee-v'>17050001</span></li><li><span class='ee-k'>Maxima:</span><span class='ee-v'>137</span></li><li><span class='ee-k'>Media:</span><span class='ee-v'>67</span></li><li><span class='ee-k'>Minima:</span><span class='ee-v'>-12</span></li><li><span class='ee-k'>latitude:</span><span class='ee-v'>-1.9192</span></li><li><span class='ee-k'>longitude:</span><span class='ee-v'>-55.5131</span></li><li><details><summary>system:time_start: Date (2005-11-01 00:00:00)</summary><ul><li><span class='ee-k'>type:</span><span class='ee-v'>Date</span></li><li><span class='ee-k'>value:</span><span class='ee-v'>1130803200000</span></li></ul></details></li><li><span class='ee-k'>water_period:</span><span class='ee-v'>LW</span></li><li><span class='ee-k'>water_period3:</span><span class='ee-v'>LW</span></li></ul></details></li></ul></details></li><li><details><summary>223: Feature (Point, 10 properties)</summary><ul><li><span class='ee-k'>type:</span><span class='ee-v'>Feature</span></li><li><span class='ee-k'>id:</span><span class='ee-v'>223</span></li><li><details><summary>geometry: Point (-55.51, -1.92)</summary><ul><li><span class='ee-k'>type:</span><span class='ee-v'>Point</span></li><li><details><summary>coordinates: [-55.5131, -1.9192]</summary><ul><li><span class='ee-k'>0:</span><span class='ee-v'>-55.5131</span></li><li><span class='ee-k'>1:</span><span class='ee-v'>-1.9192</span></li></ul></details></li></ul></details></li><li><details><summary>properties: Object (10 properties)</summary><ul><li><span class='ee-k'>Data:</span><span class='ee-v'>2005-10-01</span></li><li><span class='ee-k'>EstacaoCodigo:</span><span class='ee-v'>17050001</span></li><li><span class='ee-k'>Maxima:</span><span class='ee-v'>60</span></li><li><span class='ee-k'>Media:</span><span class='ee-v'>13</span></li><li><span class='ee-k'>Minima:</span><span class='ee-v'>-39</span></li><li><span class='ee-k'>latitude:</span><span class='ee-v'>-1.9192</span></li><li><span class='ee-k'>longitude:</span><span class='ee-v'>-55.5131</span></li><li><details><summary>system:time_start: Date (2005-10-01 00:00:00)</summary><ul><li><span class='ee-k'>type:</span><span class='ee-v'>Date</span></li><li><span class='ee-k'>value:</span><span class='ee-v'>1128124800000</span></li></ul></details></li><li><span class='ee-k'>water_period:</span><span class='ee-v'>LW</span></li><li><span class='ee-k'>water_period3:</span><span class='ee-v'>LW</span></li></ul></details></li></ul></details></li><li><details><summary>224: Feature (Point, 10 properties)</summary><ul><li><span class='ee-k'>type:</span><span class='ee-v'>Feature</span></li><li><span class='ee-k'>id:</span><span class='ee-v'>224</span></li><li><details><summary>geometry: Point (-55.51, -1.92)</summary><ul><li><span class='ee-k'>type:</span><span class='ee-v'>Point</span></li><li><details><summary>coordinates: [-55.5131, -1.9192]</summary><ul><li><span class='ee-k'>0:</span><span class='ee-v'>-55.5131</span></li><li><span class='ee-k'>1:</span><span class='ee-v'>-1.9192</span></li></ul></details></li></ul></details></li><li><details><summary>properties: Object (10 properties)</summary><ul><li><span class='ee-k'>Data:</span><span class='ee-v'>2005-09-01</span></li><li><span class='ee-k'>EstacaoCodigo:</span><span class='ee-v'>17050001</span></li><li><span class='ee-k'>Maxima:</span><span class='ee-v'>304</span></li><li><span class='ee-k'>Media:</span><span class='ee-v'>184</span></li><li><span class='ee-k'>Minima:</span><span class='ee-v'>61</span></li><li><span class='ee-k'>latitude:</span><span class='ee-v'>-1.9192</span></li><li><span class='ee-k'>longitude:</span><span class='ee-v'>-55.5131</span></li><li><details><summary>system:time_start: Date (2005-09-01 00:00:00)</summary><ul><li><span class='ee-k'>type:</span><span class='ee-v'>Date</span></li><li><span class='ee-k'>value:</span><span class='ee-v'>1125532800000</span></li></ul></details></li><li><span class='ee-k'>water_period:</span><span class='ee-v'>LW</span></li><li><span class='ee-k'>water_period3:</span><span class='ee-v'>LW</span></li></ul></details></li></ul></details></li><li><details><summary>225: Feature (Point, 12 properties)</summary><ul><li><span class='ee-k'>type:</span><span class='ee-v'>Feature</span></li><li><span class='ee-k'>id:</span><span class='ee-v'>225</span></li><li><details><summary>geometry: Point (-55.51, -1.92)</summary><ul><li><span class='ee-k'>type:</span><span class='ee-v'>Point</span></li><li><details><summary>coordinates: [-55.5131, -1.9192]</summary><ul><li><span class='ee-k'>0:</span><span class='ee-v'>-55.5131</span></li><li><span class='ee-k'>1:</span><span class='ee-v'>-1.9192</span></li></ul></details></li></ul></details></li><li><details><summary>properties: Object (12 properties)</summary><ul><li><span class='ee-k'>Data:</span><span class='ee-v'>2005-08-01</span></li><li><span class='ee-k'>EstacaoCodigo:</span><span class='ee-v'>17050001</span></li><li><span class='ee-k'>Maxima:</span><span class='ee-v'>553</span></li><li><span class='ee-k'>Media:</span><span class='ee-v'>451</span></li><li><span class='ee-k'>Minima:</span><span class='ee-v'>315</span></li><li><span class='ee-k'>fall:</span><span class='ee-v'>False</span></li><li><span class='ee-k'>latitude:</span><span class='ee-v'>-1.9192</span></li><li><span class='ee-k'>longitude:</span><span class='ee-v'>-55.5131</span></li><li><span class='ee-k'>rise:</span><span class='ee-v'>True</span></li><li><details><summary>system:time_start: Date (2005-08-01 00:00:00)</summary><ul><li><span class='ee-k'>type:</span><span class='ee-v'>Date</span></li><li><span class='ee-k'>value:</span><span class='ee-v'>1122854400000</span></li></ul></details></li><li><span class='ee-k'>water_period:</span><span class='ee-v'>R</span></li><li><span class='ee-k'>water_period3:</span><span class='ee-v'>T</span></li></ul></details></li></ul></details></li><li><details><summary>226: Feature (Point, 10 properties)</summary><ul><li><span class='ee-k'>type:</span><span class='ee-v'>Feature</span></li><li><span class='ee-k'>id:</span><span class='ee-v'>226</span></li><li><details><summary>geometry: Point (-55.51, -1.92)</summary><ul><li><span class='ee-k'>type:</span><span class='ee-v'>Point</span></li><li><details><summary>coordinates: [-55.5131, -1.9192]</summary><ul><li><span class='ee-k'>0:</span><span class='ee-v'>-55.5131</span></li><li><span class='ee-k'>1:</span><span class='ee-v'>-1.9192</span></li></ul></details></li></ul></details></li><li><details><summary>properties: Object (10 properties)</summary><ul><li><span class='ee-k'>Data:</span><span class='ee-v'>2005-07-01</span></li><li><span class='ee-k'>EstacaoCodigo:</span><span class='ee-v'>17050001</span></li><li><span class='ee-k'>Maxima:</span><span class='ee-v'>665</span></li><li><span class='ee-k'>Media:</span><span class='ee-v'>616</span></li><li><span class='ee-k'>Minima:</span><span class='ee-v'>558</span></li><li><span class='ee-k'>latitude:</span><span class='ee-v'>-1.9192</span></li><li><span class='ee-k'>longitude:</span><span class='ee-v'>-55.5131</span></li><li><details><summary>system:time_start: Date (2005-07-01 00:00:00)</summary><ul><li><span class='ee-k'>type:</span><span class='ee-v'>Date</span></li><li><span class='ee-k'>value:</span><span class='ee-v'>1120176000000</span></li></ul></details></li><li><span class='ee-k'>water_period:</span><span class='ee-v'>HW</span></li><li><span class='ee-k'>water_period3:</span><span class='ee-v'>HW</span></li></ul></details></li></ul></details></li><li><details><summary>227: Feature (Point, 10 properties)</summary><ul><li><span class='ee-k'>type:</span><span class='ee-v'>Feature</span></li><li><span class='ee-k'>id:</span><span class='ee-v'>227</span></li><li><details><summary>geometry: Point (-55.51, -1.92)</summary><ul><li><span class='ee-k'>type:</span><span class='ee-v'>Point</span></li><li><details><summary>coordinates: [-55.5131, -1.9192]</summary><ul><li><span class='ee-k'>0:</span><span class='ee-v'>-55.5131</span></li><li><span class='ee-k'>1:</span><span class='ee-v'>-1.9192</span></li></ul></details></li></ul></details></li><li><details><summary>properties: Object (10 properties)</summary><ul><li><span class='ee-k'>Data:</span><span class='ee-v'>2005-06-01</span></li><li><span class='ee-k'>EstacaoCodigo:</span><span class='ee-v'>17050001</span></li><li><span class='ee-k'>Maxima:</span><span class='ee-v'>728</span></li><li><span class='ee-k'>Media:</span><span class='ee-v'>698</span></li><li><span class='ee-k'>Minima:</span><span class='ee-v'>666</span></li><li><span class='ee-k'>latitude:</span><span class='ee-v'>-1.9192</span></li><li><span class='ee-k'>longitude:</span><span class='ee-v'>-55.5131</span></li><li><details><summary>system:time_start: Date (2005-06-01 00:00:00)</summary><ul><li><span class='ee-k'>type:</span><span class='ee-v'>Date</span></li><li><span class='ee-k'>value:</span><span class='ee-v'>1117584000000</span></li></ul></details></li><li><span class='ee-k'>water_period:</span><span class='ee-v'>HW</span></li><li><span class='ee-k'>water_period3:</span><span class='ee-v'>HW</span></li></ul></details></li></ul></details></li><li><details><summary>228: Feature (Point, 10 properties)</summary><ul><li><span class='ee-k'>type:</span><span class='ee-v'>Feature</span></li><li><span class='ee-k'>id:</span><span class='ee-v'>228</span></li><li><details><summary>geometry: Point (-55.51, -1.92)</summary><ul><li><span class='ee-k'>type:</span><span class='ee-v'>Point</span></li><li><details><summary>coordinates: [-55.5131, -1.9192]</summary><ul><li><span class='ee-k'>0:</span><span class='ee-v'>-55.5131</span></li><li><span class='ee-k'>1:</span><span class='ee-v'>-1.9192</span></li></ul></details></li></ul></details></li><li><details><summary>properties: Object (10 properties)</summary><ul><li><span class='ee-k'>Data:</span><span class='ee-v'>2005-05-01</span></li><li><span class='ee-k'>EstacaoCodigo:</span><span class='ee-v'>17050001</span></li><li><span class='ee-k'>Maxima:</span><span class='ee-v'>736</span></li><li><span class='ee-k'>Media:</span><span class='ee-v'>727</span></li><li><span class='ee-k'>Minima:</span><span class='ee-v'>706</span></li><li><span class='ee-k'>latitude:</span><span class='ee-v'>-1.9192</span></li><li><span class='ee-k'>longitude:</span><span class='ee-v'>-55.5131</span></li><li><details><summary>system:time_start: Date (2005-05-01 00:00:00)</summary><ul><li><span class='ee-k'>type:</span><span class='ee-v'>Date</span></li><li><span class='ee-k'>value:</span><span class='ee-v'>1114905600000</span></li></ul></details></li><li><span class='ee-k'>water_period:</span><span class='ee-v'>HW</span></li><li><span class='ee-k'>water_period3:</span><span class='ee-v'>HW</span></li></ul></details></li></ul></details></li><li><details><summary>229: Feature (Point, 10 properties)</summary><ul><li><span class='ee-k'>type:</span><span class='ee-v'>Feature</span></li><li><span class='ee-k'>id:</span><span class='ee-v'>229</span></li><li><details><summary>geometry: Point (-55.51, -1.92)</summary><ul><li><span class='ee-k'>type:</span><span class='ee-v'>Point</span></li><li><details><summary>coordinates: [-55.5131, -1.9192]</summary><ul><li><span class='ee-k'>0:</span><span class='ee-v'>-55.5131</span></li><li><span class='ee-k'>1:</span><span class='ee-v'>-1.9192</span></li></ul></details></li></ul></details></li><li><details><summary>properties: Object (10 properties)</summary><ul><li><span class='ee-k'>Data:</span><span class='ee-v'>2005-04-01</span></li><li><span class='ee-k'>EstacaoCodigo:</span><span class='ee-v'>17050001</span></li><li><span class='ee-k'>Maxima:</span><span class='ee-v'>706</span></li><li><span class='ee-k'>Media:</span><span class='ee-v'>689</span></li><li><span class='ee-k'>Minima:</span><span class='ee-v'>664</span></li><li><span class='ee-k'>latitude:</span><span class='ee-v'>-1.9192</span></li><li><span class='ee-k'>longitude:</span><span class='ee-v'>-55.5131</span></li><li><details><summary>system:time_start: Date (2005-04-01 00:00:00)</summary><ul><li><span class='ee-k'>type:</span><span class='ee-v'>Date</span></li><li><span class='ee-k'>value:</span><span class='ee-v'>1112313600000</span></li></ul></details></li><li><span class='ee-k'>water_period:</span><span class='ee-v'>HW</span></li><li><span class='ee-k'>water_period3:</span><span class='ee-v'>HW</span></li></ul></details></li></ul></details></li><li><details><summary>230: Feature (Point, 10 properties)</summary><ul><li><span class='ee-k'>type:</span><span class='ee-v'>Feature</span></li><li><span class='ee-k'>id:</span><span class='ee-v'>230</span></li><li><details><summary>geometry: Point (-55.51, -1.92)</summary><ul><li><span class='ee-k'>type:</span><span class='ee-v'>Point</span></li><li><details><summary>coordinates: [-55.5131, -1.9192]</summary><ul><li><span class='ee-k'>0:</span><span class='ee-v'>-55.5131</span></li><li><span class='ee-k'>1:</span><span class='ee-v'>-1.9192</span></li></ul></details></li></ul></details></li><li><details><summary>properties: Object (10 properties)</summary><ul><li><span class='ee-k'>Data:</span><span class='ee-v'>2005-03-01</span></li><li><span class='ee-k'>EstacaoCodigo:</span><span class='ee-v'>17050001</span></li><li><span class='ee-k'>Maxima:</span><span class='ee-v'>662</span></li><li><span class='ee-k'>Media:</span><span class='ee-v'>576</span></li><li><span class='ee-k'>Minima:</span><span class='ee-v'>483</span></li><li><span class='ee-k'>latitude:</span><span class='ee-v'>-1.9192</span></li><li><span class='ee-k'>longitude:</span><span class='ee-v'>-55.5131</span></li><li><details><summary>system:time_start: Date (2005-03-01 00:00:00)</summary><ul><li><span class='ee-k'>type:</span><span class='ee-v'>Date</span></li><li><span class='ee-k'>value:</span><span class='ee-v'>1109635200000</span></li></ul></details></li><li><span class='ee-k'>water_period:</span><span class='ee-v'>HW</span></li><li><span class='ee-k'>water_period3:</span><span class='ee-v'>HW</span></li></ul></details></li></ul></details></li><li><details><summary>231: Feature (Point, 12 properties)</summary><ul><li><span class='ee-k'>type:</span><span class='ee-v'>Feature</span></li><li><span class='ee-k'>id:</span><span class='ee-v'>231</span></li><li><details><summary>geometry: Point (-55.51, -1.92)</summary><ul><li><span class='ee-k'>type:</span><span class='ee-v'>Point</span></li><li><details><summary>coordinates: [-55.5131, -1.9192]</summary><ul><li><span class='ee-k'>0:</span><span class='ee-v'>-55.5131</span></li><li><span class='ee-k'>1:</span><span class='ee-v'>-1.9192</span></li></ul></details></li></ul></details></li><li><details><summary>properties: Object (12 properties)</summary><ul><li><span class='ee-k'>Data:</span><span class='ee-v'>2005-02-01</span></li><li><span class='ee-k'>EstacaoCodigo:</span><span class='ee-v'>17050001</span></li><li><span class='ee-k'>Maxima:</span><span class='ee-v'>474</span></li><li><span class='ee-k'>Media:</span><span class='ee-v'>414</span></li><li><span class='ee-k'>Minima:</span><span class='ee-v'>371</span></li><li><span class='ee-k'>fall:</span><span class='ee-v'>True</span></li><li><span class='ee-k'>latitude:</span><span class='ee-v'>-1.9192</span></li><li><span class='ee-k'>longitude:</span><span class='ee-v'>-55.5131</span></li><li><span class='ee-k'>rise:</span><span class='ee-v'>False</span></li><li><details><summary>system:time_start: Date (2005-02-01 00:00:00)</summary><ul><li><span class='ee-k'>type:</span><span class='ee-v'>Date</span></li><li><span class='ee-k'>value:</span><span class='ee-v'>1107216000000</span></li></ul></details></li><li><span class='ee-k'>water_period:</span><span class='ee-v'>F</span></li><li><span class='ee-k'>water_period3:</span><span class='ee-v'>T</span></li></ul></details></li></ul></details></li><li><details><summary>232: Feature (Point, 10 properties)</summary><ul><li><span class='ee-k'>type:</span><span class='ee-v'>Feature</span></li><li><span class='ee-k'>id:</span><span class='ee-v'>232</span></li><li><details><summary>geometry: Point (-55.51, -1.92)</summary><ul><li><span class='ee-k'>type:</span><span class='ee-v'>Point</span></li><li><details><summary>coordinates: [-55.5131, -1.9192]</summary><ul><li><span class='ee-k'>0:</span><span class='ee-v'>-55.5131</span></li><li><span class='ee-k'>1:</span><span class='ee-v'>-1.9192</span></li></ul></details></li></ul></details></li><li><details><summary>properties: Object (10 properties)</summary><ul><li><span class='ee-k'>Data:</span><span class='ee-v'>2005-01-01</span></li><li><span class='ee-k'>EstacaoCodigo:</span><span class='ee-v'>17050001</span></li><li><span class='ee-k'>Maxima:</span><span class='ee-v'>368</span></li><li><span class='ee-k'>Media:</span><span class='ee-v'>331</span></li><li><span class='ee-k'>Minima:</span><span class='ee-v'>286</span></li><li><span class='ee-k'>latitude:</span><span class='ee-v'>-1.9192</span></li><li><span class='ee-k'>longitude:</span><span class='ee-v'>-55.5131</span></li><li><details><summary>system:time_start: Date (2005-01-01 00:00:00)</summary><ul><li><span class='ee-k'>type:</span><span class='ee-v'>Date</span></li><li><span class='ee-k'>value:</span><span class='ee-v'>1104537600000</span></li></ul></details></li><li><span class='ee-k'>water_period:</span><span class='ee-v'>LW</span></li><li><span class='ee-k'>water_period3:</span><span class='ee-v'>LW</span></li></ul></details></li></ul></details></li><li><details><summary>233: Feature (Point, 10 properties)</summary><ul><li><span class='ee-k'>type:</span><span class='ee-v'>Feature</span></li><li><span class='ee-k'>id:</span><span class='ee-v'>233</span></li><li><details><summary>geometry: Point (-55.51, -1.92)</summary><ul><li><span class='ee-k'>type:</span><span class='ee-v'>Point</span></li><li><details><summary>coordinates: [-55.5131, -1.9192]</summary><ul><li><span class='ee-k'>0:</span><span class='ee-v'>-55.5131</span></li><li><span class='ee-k'>1:</span><span class='ee-v'>-1.9192</span></li></ul></details></li></ul></details></li><li><details><summary>properties: Object (10 properties)</summary><ul><li><span class='ee-k'>Data:</span><span class='ee-v'>2004-12-01</span></li><li><span class='ee-k'>EstacaoCodigo:</span><span class='ee-v'>17050001</span></li><li><span class='ee-k'>Maxima:</span><span class='ee-v'>284</span></li><li><span class='ee-k'>Media:</span><span class='ee-v'>233</span></li><li><span class='ee-k'>Minima:</span><span class='ee-v'>192</span></li><li><span class='ee-k'>latitude:</span><span class='ee-v'>-1.9192</span></li><li><span class='ee-k'>longitude:</span><span class='ee-v'>-55.5131</span></li><li><details><summary>system:time_start: Date (2004-12-01 00:00:00)</summary><ul><li><span class='ee-k'>type:</span><span class='ee-v'>Date</span></li><li><span class='ee-k'>value:</span><span class='ee-v'>1101859200000</span></li></ul></details></li><li><span class='ee-k'>water_period:</span><span class='ee-v'>LW</span></li><li><span class='ee-k'>water_period3:</span><span class='ee-v'>LW</span></li></ul></details></li></ul></details></li><li><details><summary>234: Feature (Point, 10 properties)</summary><ul><li><span class='ee-k'>type:</span><span class='ee-v'>Feature</span></li><li><span class='ee-k'>id:</span><span class='ee-v'>234</span></li><li><details><summary>geometry: Point (-55.51, -1.92)</summary><ul><li><span class='ee-k'>type:</span><span class='ee-v'>Point</span></li><li><details><summary>coordinates: [-55.5131, -1.9192]</summary><ul><li><span class='ee-k'>0:</span><span class='ee-v'>-55.5131</span></li><li><span class='ee-k'>1:</span><span class='ee-v'>-1.9192</span></li></ul></details></li></ul></details></li><li><details><summary>properties: Object (10 properties)</summary><ul><li><span class='ee-k'>Data:</span><span class='ee-v'>2004-11-01</span></li><li><span class='ee-k'>EstacaoCodigo:</span><span class='ee-v'>17050001</span></li><li><span class='ee-k'>Maxima:</span><span class='ee-v'>208</span></li><li><span class='ee-k'>Media:</span><span class='ee-v'>188</span></li><li><span class='ee-k'>Minima:</span><span class='ee-v'>177</span></li><li><span class='ee-k'>latitude:</span><span class='ee-v'>-1.9192</span></li><li><span class='ee-k'>longitude:</span><span class='ee-v'>-55.5131</span></li><li><details><summary>system:time_start: Date (2004-11-01 00:00:00)</summary><ul><li><span class='ee-k'>type:</span><span class='ee-v'>Date</span></li><li><span class='ee-k'>value:</span><span class='ee-v'>1099267200000</span></li></ul></details></li><li><span class='ee-k'>water_period:</span><span class='ee-v'>LW</span></li><li><span class='ee-k'>water_period3:</span><span class='ee-v'>LW</span></li></ul></details></li></ul></details></li><li><details><summary>235: Feature (Point, 10 properties)</summary><ul><li><span class='ee-k'>type:</span><span class='ee-v'>Feature</span></li><li><span class='ee-k'>id:</span><span class='ee-v'>235</span></li><li><details><summary>geometry: Point (-55.51, -1.92)</summary><ul><li><span class='ee-k'>type:</span><span class='ee-v'>Point</span></li><li><details><summary>coordinates: [-55.5131, -1.9192]</summary><ul><li><span class='ee-k'>0:</span><span class='ee-v'>-55.5131</span></li><li><span class='ee-k'>1:</span><span class='ee-v'>-1.9192</span></li></ul></details></li></ul></details></li><li><details><summary>properties: Object (10 properties)</summary><ul><li><span class='ee-k'>Data:</span><span class='ee-v'>2004-10-01</span></li><li><span class='ee-k'>EstacaoCodigo:</span><span class='ee-v'>17050001</span></li><li><span class='ee-k'>Maxima:</span><span class='ee-v'>313</span></li><li><span class='ee-k'>Media:</span><span class='ee-v'>250</span></li><li><span class='ee-k'>Minima:</span><span class='ee-v'>210</span></li><li><span class='ee-k'>latitude:</span><span class='ee-v'>-1.9192</span></li><li><span class='ee-k'>longitude:</span><span class='ee-v'>-55.5131</span></li><li><details><summary>system:time_start: Date (2004-10-01 00:00:00)</summary><ul><li><span class='ee-k'>type:</span><span class='ee-v'>Date</span></li><li><span class='ee-k'>value:</span><span class='ee-v'>1096588800000</span></li></ul></details></li><li><span class='ee-k'>water_period:</span><span class='ee-v'>LW</span></li><li><span class='ee-k'>water_period3:</span><span class='ee-v'>LW</span></li></ul></details></li></ul></details></li><li><details><summary>236: Feature (Point, 12 properties)</summary><ul><li><span class='ee-k'>type:</span><span class='ee-v'>Feature</span></li><li><span class='ee-k'>id:</span><span class='ee-v'>236</span></li><li><details><summary>geometry: Point (-55.51, -1.92)</summary><ul><li><span class='ee-k'>type:</span><span class='ee-v'>Point</span></li><li><details><summary>coordinates: [-55.5131, -1.9192]</summary><ul><li><span class='ee-k'>0:</span><span class='ee-v'>-55.5131</span></li><li><span class='ee-k'>1:</span><span class='ee-v'>-1.9192</span></li></ul></details></li></ul></details></li><li><details><summary>properties: Object (12 properties)</summary><ul><li><span class='ee-k'>Data:</span><span class='ee-v'>2004-09-01</span></li><li><span class='ee-k'>EstacaoCodigo:</span><span class='ee-v'>17050001</span></li><li><span class='ee-k'>Maxima:</span><span class='ee-v'>467</span></li><li><span class='ee-k'>Media:</span><span class='ee-v'>394</span></li><li><span class='ee-k'>Minima:</span><span class='ee-v'>316</span></li><li><span class='ee-k'>fall:</span><span class='ee-v'>False</span></li><li><span class='ee-k'>latitude:</span><span class='ee-v'>-1.9192</span></li><li><span class='ee-k'>longitude:</span><span class='ee-v'>-55.5131</span></li><li><span class='ee-k'>rise:</span><span class='ee-v'>True</span></li><li><details><summary>system:time_start: Date (2004-09-01 00:00:00)</summary><ul><li><span class='ee-k'>type:</span><span class='ee-v'>Date</span></li><li><span class='ee-k'>value:</span><span class='ee-v'>1093996800000</span></li></ul></details></li><li><span class='ee-k'>water_period:</span><span class='ee-v'>R</span></li><li><span class='ee-k'>water_period3:</span><span class='ee-v'>T</span></li></ul></details></li></ul></details></li><li><details><summary>237: Feature (Point, 12 properties)</summary><ul><li><span class='ee-k'>type:</span><span class='ee-v'>Feature</span></li><li><span class='ee-k'>id:</span><span class='ee-v'>237</span></li><li><details><summary>geometry: Point (-55.51, -1.92)</summary><ul><li><span class='ee-k'>type:</span><span class='ee-v'>Point</span></li><li><details><summary>coordinates: [-55.5131, -1.9192]</summary><ul><li><span class='ee-k'>0:</span><span class='ee-v'>-55.5131</span></li><li><span class='ee-k'>1:</span><span class='ee-v'>-1.9192</span></li></ul></details></li></ul></details></li><li><details><summary>properties: Object (12 properties)</summary><ul><li><span class='ee-k'>Data:</span><span class='ee-v'>2004-08-01</span></li><li><span class='ee-k'>EstacaoCodigo:</span><span class='ee-v'>17050001</span></li><li><span class='ee-k'>Maxima:</span><span class='ee-v'>559</span></li><li><span class='ee-k'>Media:</span><span class='ee-v'>520</span></li><li><span class='ee-k'>Minima:</span><span class='ee-v'>471</span></li><li><span class='ee-k'>fall:</span><span class='ee-v'>False</span></li><li><span class='ee-k'>latitude:</span><span class='ee-v'>-1.9192</span></li><li><span class='ee-k'>longitude:</span><span class='ee-v'>-55.5131</span></li><li><span class='ee-k'>rise:</span><span class='ee-v'>True</span></li><li><details><summary>system:time_start: Date (2004-08-01 00:00:00)</summary><ul><li><span class='ee-k'>type:</span><span class='ee-v'>Date</span></li><li><span class='ee-k'>value:</span><span class='ee-v'>1091318400000</span></li></ul></details></li><li><span class='ee-k'>water_period:</span><span class='ee-v'>R</span></li><li><span class='ee-k'>water_period3:</span><span class='ee-v'>T</span></li></ul></details></li></ul></details></li><li><details><summary>238: Feature (Point, 10 properties)</summary><ul><li><span class='ee-k'>type:</span><span class='ee-v'>Feature</span></li><li><span class='ee-k'>id:</span><span class='ee-v'>238</span></li><li><details><summary>geometry: Point (-55.51, -1.92)</summary><ul><li><span class='ee-k'>type:</span><span class='ee-v'>Point</span></li><li><details><summary>coordinates: [-55.5131, -1.9192]</summary><ul><li><span class='ee-k'>0:</span><span class='ee-v'>-55.5131</span></li><li><span class='ee-k'>1:</span><span class='ee-v'>-1.9192</span></li></ul></details></li></ul></details></li><li><details><summary>properties: Object (10 properties)</summary><ul><li><span class='ee-k'>Data:</span><span class='ee-v'>2004-07-01</span></li><li><span class='ee-k'>EstacaoCodigo:</span><span class='ee-v'>17050001</span></li><li><span class='ee-k'>Maxima:</span><span class='ee-v'>623</span></li><li><span class='ee-k'>Media:</span><span class='ee-v'>594</span></li><li><span class='ee-k'>Minima:</span><span class='ee-v'>560</span></li><li><span class='ee-k'>latitude:</span><span class='ee-v'>-1.9192</span></li><li><span class='ee-k'>longitude:</span><span class='ee-v'>-55.5131</span></li><li><details><summary>system:time_start: Date (2004-07-01 00:00:00)</summary><ul><li><span class='ee-k'>type:</span><span class='ee-v'>Date</span></li><li><span class='ee-k'>value:</span><span class='ee-v'>1088640000000</span></li></ul></details></li><li><span class='ee-k'>water_period:</span><span class='ee-v'>HW</span></li><li><span class='ee-k'>water_period3:</span><span class='ee-v'>HW</span></li></ul></details></li></ul></details></li><li><details><summary>239: Feature (Point, 10 properties)</summary><ul><li><span class='ee-k'>type:</span><span class='ee-v'>Feature</span></li><li><span class='ee-k'>id:</span><span class='ee-v'>239</span></li><li><details><summary>geometry: Point (-55.51, -1.92)</summary><ul><li><span class='ee-k'>type:</span><span class='ee-v'>Point</span></li><li><details><summary>coordinates: [-55.5131, -1.9192]</summary><ul><li><span class='ee-k'>0:</span><span class='ee-v'>-55.5131</span></li><li><span class='ee-k'>1:</span><span class='ee-v'>-1.9192</span></li></ul></details></li></ul></details></li><li><details><summary>properties: Object (10 properties)</summary><ul><li><span class='ee-k'>Data:</span><span class='ee-v'>2004-06-01</span></li><li><span class='ee-k'>EstacaoCodigo:</span><span class='ee-v'>17050001</span></li><li><span class='ee-k'>Maxima:</span><span class='ee-v'>662</span></li><li><span class='ee-k'>Media:</span><span class='ee-v'>648</span></li><li><span class='ee-k'>Minima:</span><span class='ee-v'>626</span></li><li><span class='ee-k'>latitude:</span><span class='ee-v'>-1.9192</span></li><li><span class='ee-k'>longitude:</span><span class='ee-v'>-55.5131</span></li><li><details><summary>system:time_start: Date (2004-06-01 00:00:00)</summary><ul><li><span class='ee-k'>type:</span><span class='ee-v'>Date</span></li><li><span class='ee-k'>value:</span><span class='ee-v'>1086048000000</span></li></ul></details></li><li><span class='ee-k'>water_period:</span><span class='ee-v'>HW</span></li><li><span class='ee-k'>water_period3:</span><span class='ee-v'>HW</span></li></ul></details></li></ul></details></li><li><details><summary>240: Feature (Point, 10 properties)</summary><ul><li><span class='ee-k'>type:</span><span class='ee-v'>Feature</span></li><li><span class='ee-k'>id:</span><span class='ee-v'>240</span></li><li><details><summary>geometry: Point (-55.51, -1.92)</summary><ul><li><span class='ee-k'>type:</span><span class='ee-v'>Point</span></li><li><details><summary>coordinates: [-55.5131, -1.9192]</summary><ul><li><span class='ee-k'>0:</span><span class='ee-v'>-55.5131</span></li><li><span class='ee-k'>1:</span><span class='ee-v'>-1.9192</span></li></ul></details></li></ul></details></li><li><details><summary>properties: Object (10 properties)</summary><ul><li><span class='ee-k'>Data:</span><span class='ee-v'>2004-05-01</span></li><li><span class='ee-k'>EstacaoCodigo:</span><span class='ee-v'>17050001</span></li><li><span class='ee-k'>Maxima:</span><span class='ee-v'>676</span></li><li><span class='ee-k'>Media:</span><span class='ee-v'>669</span></li><li><span class='ee-k'>Minima:</span><span class='ee-v'>650</span></li><li><span class='ee-k'>latitude:</span><span class='ee-v'>-1.9192</span></li><li><span class='ee-k'>longitude:</span><span class='ee-v'>-55.5131</span></li><li><details><summary>system:time_start: Date (2004-05-01 00:00:00)</summary><ul><li><span class='ee-k'>type:</span><span class='ee-v'>Date</span></li><li><span class='ee-k'>value:</span><span class='ee-v'>1083369600000</span></li></ul></details></li><li><span class='ee-k'>water_period:</span><span class='ee-v'>HW</span></li><li><span class='ee-k'>water_period3:</span><span class='ee-v'>HW</span></li></ul></details></li></ul></details></li><li><details><summary>241: Feature (Point, 10 properties)</summary><ul><li><span class='ee-k'>type:</span><span class='ee-v'>Feature</span></li><li><span class='ee-k'>id:</span><span class='ee-v'>241</span></li><li><details><summary>geometry: Point (-55.51, -1.92)</summary><ul><li><span class='ee-k'>type:</span><span class='ee-v'>Point</span></li><li><details><summary>coordinates: [-55.5131, -1.9192]</summary><ul><li><span class='ee-k'>0:</span><span class='ee-v'>-55.5131</span></li><li><span class='ee-k'>1:</span><span class='ee-v'>-1.9192</span></li></ul></details></li></ul></details></li><li><details><summary>properties: Object (10 properties)</summary><ul><li><span class='ee-k'>Data:</span><span class='ee-v'>2004-04-01</span></li><li><span class='ee-k'>EstacaoCodigo:</span><span class='ee-v'>17050001</span></li><li><span class='ee-k'>Maxima:</span><span class='ee-v'>648</span></li><li><span class='ee-k'>Media:</span><span class='ee-v'>623</span></li><li><span class='ee-k'>Minima:</span><span class='ee-v'>585</span></li><li><span class='ee-k'>latitude:</span><span class='ee-v'>-1.9192</span></li><li><span class='ee-k'>longitude:</span><span class='ee-v'>-55.5131</span></li><li><details><summary>system:time_start: Date (2004-04-01 00:00:00)</summary><ul><li><span class='ee-k'>type:</span><span class='ee-v'>Date</span></li><li><span class='ee-k'>value:</span><span class='ee-v'>1080777600000</span></li></ul></details></li><li><span class='ee-k'>water_period:</span><span class='ee-v'>HW</span></li><li><span class='ee-k'>water_period3:</span><span class='ee-v'>HW</span></li></ul></details></li></ul></details></li><li><details><summary>242: Feature (Point, 12 properties)</summary><ul><li><span class='ee-k'>type:</span><span class='ee-v'>Feature</span></li><li><span class='ee-k'>id:</span><span class='ee-v'>242</span></li><li><details><summary>geometry: Point (-55.51, -1.92)</summary><ul><li><span class='ee-k'>type:</span><span class='ee-v'>Point</span></li><li><details><summary>coordinates: [-55.5131, -1.9192]</summary><ul><li><span class='ee-k'>0:</span><span class='ee-v'>-55.5131</span></li><li><span class='ee-k'>1:</span><span class='ee-v'>-1.9192</span></li></ul></details></li></ul></details></li><li><details><summary>properties: Object (12 properties)</summary><ul><li><span class='ee-k'>Data:</span><span class='ee-v'>2004-03-01</span></li><li><span class='ee-k'>EstacaoCodigo:</span><span class='ee-v'>17050001</span></li><li><span class='ee-k'>Maxima:</span><span class='ee-v'>583</span></li><li><span class='ee-k'>Media:</span><span class='ee-v'>527</span></li><li><span class='ee-k'>Minima:</span><span class='ee-v'>480</span></li><li><span class='ee-k'>fall:</span><span class='ee-v'>True</span></li><li><span class='ee-k'>latitude:</span><span class='ee-v'>-1.9192</span></li><li><span class='ee-k'>longitude:</span><span class='ee-v'>-55.5131</span></li><li><span class='ee-k'>rise:</span><span class='ee-v'>False</span></li><li><details><summary>system:time_start: Date (2004-03-01 00:00:00)</summary><ul><li><span class='ee-k'>type:</span><span class='ee-v'>Date</span></li><li><span class='ee-k'>value:</span><span class='ee-v'>1078099200000</span></li></ul></details></li><li><span class='ee-k'>water_period:</span><span class='ee-v'>F</span></li><li><span class='ee-k'>water_period3:</span><span class='ee-v'>T</span></li></ul></details></li></ul></details></li><li><details><summary>243: Feature (Point, 12 properties)</summary><ul><li><span class='ee-k'>type:</span><span class='ee-v'>Feature</span></li><li><span class='ee-k'>id:</span><span class='ee-v'>243</span></li><li><details><summary>geometry: Point (-55.51, -1.92)</summary><ul><li><span class='ee-k'>type:</span><span class='ee-v'>Point</span></li><li><details><summary>coordinates: [-55.5131, -1.9192]</summary><ul><li><span class='ee-k'>0:</span><span class='ee-v'>-55.5131</span></li><li><span class='ee-k'>1:</span><span class='ee-v'>-1.9192</span></li></ul></details></li></ul></details></li><li><details><summary>properties: Object (12 properties)</summary><ul><li><span class='ee-k'>Data:</span><span class='ee-v'>2004-02-01</span></li><li><span class='ee-k'>EstacaoCodigo:</span><span class='ee-v'>17050001</span></li><li><span class='ee-k'>Maxima:</span><span class='ee-v'>480</span></li><li><span class='ee-k'>Media:</span><span class='ee-v'>443</span></li><li><span class='ee-k'>Minima:</span><span class='ee-v'>398</span></li><li><span class='ee-k'>fall:</span><span class='ee-v'>True</span></li><li><span class='ee-k'>latitude:</span><span class='ee-v'>-1.9192</span></li><li><span class='ee-k'>longitude:</span><span class='ee-v'>-55.5131</span></li><li><span class='ee-k'>rise:</span><span class='ee-v'>False</span></li><li><details><summary>system:time_start: Date (2004-02-01 00:00:00)</summary><ul><li><span class='ee-k'>type:</span><span class='ee-v'>Date</span></li><li><span class='ee-k'>value:</span><span class='ee-v'>1075593600000</span></li></ul></details></li><li><span class='ee-k'>water_period:</span><span class='ee-v'>F</span></li><li><span class='ee-k'>water_period3:</span><span class='ee-v'>T</span></li></ul></details></li></ul></details></li><li><details><summary>244: Feature (Point, 10 properties)</summary><ul><li><span class='ee-k'>type:</span><span class='ee-v'>Feature</span></li><li><span class='ee-k'>id:</span><span class='ee-v'>244</span></li><li><details><summary>geometry: Point (-55.51, -1.92)</summary><ul><li><span class='ee-k'>type:</span><span class='ee-v'>Point</span></li><li><details><summary>coordinates: [-55.5131, -1.9192]</summary><ul><li><span class='ee-k'>0:</span><span class='ee-v'>-55.5131</span></li><li><span class='ee-k'>1:</span><span class='ee-v'>-1.9192</span></li></ul></details></li></ul></details></li><li><details><summary>properties: Object (10 properties)</summary><ul><li><span class='ee-k'>Data:</span><span class='ee-v'>2004-01-01</span></li><li><span class='ee-k'>EstacaoCodigo:</span><span class='ee-v'>17050001</span></li><li><span class='ee-k'>Maxima:</span><span class='ee-v'>397</span></li><li><span class='ee-k'>Media:</span><span class='ee-v'>298</span></li><li><span class='ee-k'>Minima:</span><span class='ee-v'>204</span></li><li><span class='ee-k'>latitude:</span><span class='ee-v'>-1.9192</span></li><li><span class='ee-k'>longitude:</span><span class='ee-v'>-55.5131</span></li><li><details><summary>system:time_start: Date (2004-01-01 00:00:00)</summary><ul><li><span class='ee-k'>type:</span><span class='ee-v'>Date</span></li><li><span class='ee-k'>value:</span><span class='ee-v'>1072915200000</span></li></ul></details></li><li><span class='ee-k'>water_period:</span><span class='ee-v'>LW</span></li><li><span class='ee-k'>water_period3:</span><span class='ee-v'>LW</span></li></ul></details></li></ul></details></li><li><details><summary>245: Feature (Point, 10 properties)</summary><ul><li><span class='ee-k'>type:</span><span class='ee-v'>Feature</span></li><li><span class='ee-k'>id:</span><span class='ee-v'>245</span></li><li><details><summary>geometry: Point (-55.51, -1.92)</summary><ul><li><span class='ee-k'>type:</span><span class='ee-v'>Point</span></li><li><details><summary>coordinates: [-55.5131, -1.9192]</summary><ul><li><span class='ee-k'>0:</span><span class='ee-v'>-55.5131</span></li><li><span class='ee-k'>1:</span><span class='ee-v'>-1.9192</span></li></ul></details></li></ul></details></li><li><details><summary>properties: Object (10 properties)</summary><ul><li><span class='ee-k'>Data:</span><span class='ee-v'>2003-12-01</span></li><li><span class='ee-k'>EstacaoCodigo:</span><span class='ee-v'>17050001</span></li><li><span class='ee-k'>Maxima:</span><span class='ee-v'>211</span></li><li><span class='ee-k'>Media:</span><span class='ee-v'>194</span></li><li><span class='ee-k'>Minima:</span><span class='ee-v'>186</span></li><li><span class='ee-k'>latitude:</span><span class='ee-v'>-1.9192</span></li><li><span class='ee-k'>longitude:</span><span class='ee-v'>-55.5131</span></li><li><details><summary>system:time_start: Date (2003-12-01 00:00:00)</summary><ul><li><span class='ee-k'>type:</span><span class='ee-v'>Date</span></li><li><span class='ee-k'>value:</span><span class='ee-v'>1070236800000</span></li></ul></details></li><li><span class='ee-k'>water_period:</span><span class='ee-v'>LW</span></li><li><span class='ee-k'>water_period3:</span><span class='ee-v'>LW</span></li></ul></details></li></ul></details></li><li><details><summary>246: Feature (Point, 10 properties)</summary><ul><li><span class='ee-k'>type:</span><span class='ee-v'>Feature</span></li><li><span class='ee-k'>id:</span><span class='ee-v'>246</span></li><li><details><summary>geometry: Point (-55.51, -1.92)</summary><ul><li><span class='ee-k'>type:</span><span class='ee-v'>Point</span></li><li><details><summary>coordinates: [-55.5131, -1.9192]</summary><ul><li><span class='ee-k'>0:</span><span class='ee-v'>-55.5131</span></li><li><span class='ee-k'>1:</span><span class='ee-v'>-1.9192</span></li></ul></details></li></ul></details></li><li><details><summary>properties: Object (10 properties)</summary><ul><li><span class='ee-k'>Data:</span><span class='ee-v'>2003-11-01</span></li><li><span class='ee-k'>EstacaoCodigo:</span><span class='ee-v'>17050001</span></li><li><span class='ee-k'>Maxima:</span><span class='ee-v'>198</span></li><li><span class='ee-k'>Media:</span><span class='ee-v'>182</span></li><li><span class='ee-k'>Minima:</span><span class='ee-v'>168</span></li><li><span class='ee-k'>latitude:</span><span class='ee-v'>-1.9192</span></li><li><span class='ee-k'>longitude:</span><span class='ee-v'>-55.5131</span></li><li><details><summary>system:time_start: Date (2003-11-01 00:00:00)</summary><ul><li><span class='ee-k'>type:</span><span class='ee-v'>Date</span></li><li><span class='ee-k'>value:</span><span class='ee-v'>1067644800000</span></li></ul></details></li><li><span class='ee-k'>water_period:</span><span class='ee-v'>LW</span></li><li><span class='ee-k'>water_period3:</span><span class='ee-v'>LW</span></li></ul></details></li></ul></details></li><li><details><summary>247: Feature (Point, 10 properties)</summary><ul><li><span class='ee-k'>type:</span><span class='ee-v'>Feature</span></li><li><span class='ee-k'>id:</span><span class='ee-v'>247</span></li><li><details><summary>geometry: Point (-55.51, -1.92)</summary><ul><li><span class='ee-k'>type:</span><span class='ee-v'>Point</span></li><li><details><summary>coordinates: [-55.5131, -1.9192]</summary><ul><li><span class='ee-k'>0:</span><span class='ee-v'>-55.5131</span></li><li><span class='ee-k'>1:</span><span class='ee-v'>-1.9192</span></li></ul></details></li></ul></details></li><li><details><summary>properties: Object (10 properties)</summary><ul><li><span class='ee-k'>Data:</span><span class='ee-v'>2003-10-01</span></li><li><span class='ee-k'>EstacaoCodigo:</span><span class='ee-v'>17050001</span></li><li><span class='ee-k'>Maxima:</span><span class='ee-v'>369</span></li><li><span class='ee-k'>Media:</span><span class='ee-v'>258</span></li><li><span class='ee-k'>Minima:</span><span class='ee-v'>196</span></li><li><span class='ee-k'>latitude:</span><span class='ee-v'>-1.9192</span></li><li><span class='ee-k'>longitude:</span><span class='ee-v'>-55.5131</span></li><li><details><summary>system:time_start: Date (2003-10-01 00:00:00)</summary><ul><li><span class='ee-k'>type:</span><span class='ee-v'>Date</span></li><li><span class='ee-k'>value:</span><span class='ee-v'>1064966400000</span></li></ul></details></li><li><span class='ee-k'>water_period:</span><span class='ee-v'>LW</span></li><li><span class='ee-k'>water_period3:</span><span class='ee-v'>LW</span></li></ul></details></li></ul></details></li><li><details><summary>248: Feature (Point, 12 properties)</summary><ul><li><span class='ee-k'>type:</span><span class='ee-v'>Feature</span></li><li><span class='ee-k'>id:</span><span class='ee-v'>248</span></li><li><details><summary>geometry: Point (-55.51, -1.92)</summary><ul><li><span class='ee-k'>type:</span><span class='ee-v'>Point</span></li><li><details><summary>coordinates: [-55.5131, -1.9192]</summary><ul><li><span class='ee-k'>0:</span><span class='ee-v'>-55.5131</span></li><li><span class='ee-k'>1:</span><span class='ee-v'>-1.9192</span></li></ul></details></li></ul></details></li><li><details><summary>properties: Object (12 properties)</summary><ul><li><span class='ee-k'>Data:</span><span class='ee-v'>2003-09-01</span></li><li><span class='ee-k'>EstacaoCodigo:</span><span class='ee-v'>17050001</span></li><li><span class='ee-k'>Maxima:</span><span class='ee-v'>550</span></li><li><span class='ee-k'>Media:</span><span class='ee-v'>472</span></li><li><span class='ee-k'>Minima:</span><span class='ee-v'>378</span></li><li><span class='ee-k'>fall:</span><span class='ee-v'>False</span></li><li><span class='ee-k'>latitude:</span><span class='ee-v'>-1.9192</span></li><li><span class='ee-k'>longitude:</span><span class='ee-v'>-55.5131</span></li><li><span class='ee-k'>rise:</span><span class='ee-v'>True</span></li><li><details><summary>system:time_start: Date (2003-09-01 00:00:00)</summary><ul><li><span class='ee-k'>type:</span><span class='ee-v'>Date</span></li><li><span class='ee-k'>value:</span><span class='ee-v'>1062374400000</span></li></ul></details></li><li><span class='ee-k'>water_period:</span><span class='ee-v'>R</span></li><li><span class='ee-k'>water_period3:</span><span class='ee-v'>T</span></li></ul></details></li></ul></details></li><li><details><summary>249: Feature (Point, 10 properties)</summary><ul><li><span class='ee-k'>type:</span><span class='ee-v'>Feature</span></li><li><span class='ee-k'>id:</span><span class='ee-v'>249</span></li><li><details><summary>geometry: Point (-55.51, -1.92)</summary><ul><li><span class='ee-k'>type:</span><span class='ee-v'>Point</span></li><li><details><summary>coordinates: [-55.5131, -1.9192]</summary><ul><li><span class='ee-k'>0:</span><span class='ee-v'>-55.5131</span></li><li><span class='ee-k'>1:</span><span class='ee-v'>-1.9192</span></li></ul></details></li></ul></details></li><li><details><summary>properties: Object (10 properties)</summary><ul><li><span class='ee-k'>Data:</span><span class='ee-v'>2003-08-01</span></li><li><span class='ee-k'>EstacaoCodigo:</span><span class='ee-v'>17050001</span></li><li><span class='ee-k'>Maxima:</span><span class='ee-v'>636</span></li><li><span class='ee-k'>Media:</span><span class='ee-v'>598</span></li><li><span class='ee-k'>Minima:</span><span class='ee-v'>551</span></li><li><span class='ee-k'>latitude:</span><span class='ee-v'>-1.9192</span></li><li><span class='ee-k'>longitude:</span><span class='ee-v'>-55.5131</span></li><li><details><summary>system:time_start: Date (2003-08-01 00:00:00)</summary><ul><li><span class='ee-k'>type:</span><span class='ee-v'>Date</span></li><li><span class='ee-k'>value:</span><span class='ee-v'>1059696000000</span></li></ul></details></li><li><span class='ee-k'>water_period:</span><span class='ee-v'>HW</span></li><li><span class='ee-k'>water_period3:</span><span class='ee-v'>HW</span></li></ul></details></li></ul></details></li><li><details><summary>250: Feature (Point, 10 properties)</summary><ul><li><span class='ee-k'>type:</span><span class='ee-v'>Feature</span></li><li><span class='ee-k'>id:</span><span class='ee-v'>250</span></li><li><details><summary>geometry: Point (-55.51, -1.92)</summary><ul><li><span class='ee-k'>type:</span><span class='ee-v'>Point</span></li><li><details><summary>coordinates: [-55.5131, -1.9192]</summary><ul><li><span class='ee-k'>0:</span><span class='ee-v'>-55.5131</span></li><li><span class='ee-k'>1:</span><span class='ee-v'>-1.9192</span></li></ul></details></li></ul></details></li><li><details><summary>properties: Object (10 properties)</summary><ul><li><span class='ee-k'>Data:</span><span class='ee-v'>2003-07-01</span></li><li><span class='ee-k'>EstacaoCodigo:</span><span class='ee-v'>17050001</span></li><li><span class='ee-k'>Maxima:</span><span class='ee-v'>684</span></li><li><span class='ee-k'>Media:</span><span class='ee-v'>664</span></li><li><span class='ee-k'>Minima:</span><span class='ee-v'>636</span></li><li><span class='ee-k'>latitude:</span><span class='ee-v'>-1.9192</span></li><li><span class='ee-k'>longitude:</span><span class='ee-v'>-55.5131</span></li><li><details><summary>system:time_start: Date (2003-07-01 00:00:00)</summary><ul><li><span class='ee-k'>type:</span><span class='ee-v'>Date</span></li><li><span class='ee-k'>value:</span><span class='ee-v'>1057017600000</span></li></ul></details></li><li><span class='ee-k'>water_period:</span><span class='ee-v'>HW</span></li><li><span class='ee-k'>water_period3:</span><span class='ee-v'>HW</span></li></ul></details></li></ul></details></li><li><details><summary>251: Feature (Point, 10 properties)</summary><ul><li><span class='ee-k'>type:</span><span class='ee-v'>Feature</span></li><li><span class='ee-k'>id:</span><span class='ee-v'>251</span></li><li><details><summary>geometry: Point (-55.51, -1.92)</summary><ul><li><span class='ee-k'>type:</span><span class='ee-v'>Point</span></li><li><details><summary>coordinates: [-55.5131, -1.9192]</summary><ul><li><span class='ee-k'>0:</span><span class='ee-v'>-55.5131</span></li><li><span class='ee-k'>1:</span><span class='ee-v'>-1.9192</span></li></ul></details></li></ul></details></li><li><details><summary>properties: Object (10 properties)</summary><ul><li><span class='ee-k'>Data:</span><span class='ee-v'>2003-06-01</span></li><li><span class='ee-k'>EstacaoCodigo:</span><span class='ee-v'>17050001</span></li><li><span class='ee-k'>Maxima:</span><span class='ee-v'>698</span></li><li><span class='ee-k'>Media:</span><span class='ee-v'>691</span></li><li><span class='ee-k'>Minima:</span><span class='ee-v'>686</span></li><li><span class='ee-k'>latitude:</span><span class='ee-v'>-1.9192</span></li><li><span class='ee-k'>longitude:</span><span class='ee-v'>-55.5131</span></li><li><details><summary>system:time_start: Date (2003-06-01 00:00:00)</summary><ul><li><span class='ee-k'>type:</span><span class='ee-v'>Date</span></li><li><span class='ee-k'>value:</span><span class='ee-v'>1054425600000</span></li></ul></details></li><li><span class='ee-k'>water_period:</span><span class='ee-v'>HW</span></li><li><span class='ee-k'>water_period3:</span><span class='ee-v'>HW</span></li></ul></details></li></ul></details></li><li><details><summary>252: Feature (Point, 10 properties)</summary><ul><li><span class='ee-k'>type:</span><span class='ee-v'>Feature</span></li><li><span class='ee-k'>id:</span><span class='ee-v'>252</span></li><li><details><summary>geometry: Point (-55.51, -1.92)</summary><ul><li><span class='ee-k'>type:</span><span class='ee-v'>Point</span></li><li><details><summary>coordinates: [-55.5131, -1.9192]</summary><ul><li><span class='ee-k'>0:</span><span class='ee-v'>-55.5131</span></li><li><span class='ee-k'>1:</span><span class='ee-v'>-1.9192</span></li></ul></details></li></ul></details></li><li><details><summary>properties: Object (10 properties)</summary><ul><li><span class='ee-k'>Data:</span><span class='ee-v'>2003-05-01</span></li><li><span class='ee-k'>EstacaoCodigo:</span><span class='ee-v'>17050001</span></li><li><span class='ee-k'>Maxima:</span><span class='ee-v'>686</span></li><li><span class='ee-k'>Media:</span><span class='ee-v'>679</span></li><li><span class='ee-k'>Minima:</span><span class='ee-v'>662</span></li><li><span class='ee-k'>latitude:</span><span class='ee-v'>-1.9192</span></li><li><span class='ee-k'>longitude:</span><span class='ee-v'>-55.5131</span></li><li><details><summary>system:time_start: Date (2003-05-01 00:00:00)</summary><ul><li><span class='ee-k'>type:</span><span class='ee-v'>Date</span></li><li><span class='ee-k'>value:</span><span class='ee-v'>1051747200000</span></li></ul></details></li><li><span class='ee-k'>water_period:</span><span class='ee-v'>HW</span></li><li><span class='ee-k'>water_period3:</span><span class='ee-v'>HW</span></li></ul></details></li></ul></details></li><li><details><summary>253: Feature (Point, 10 properties)</summary><ul><li><span class='ee-k'>type:</span><span class='ee-v'>Feature</span></li><li><span class='ee-k'>id:</span><span class='ee-v'>253</span></li><li><details><summary>geometry: Point (-55.51, -1.92)</summary><ul><li><span class='ee-k'>type:</span><span class='ee-v'>Point</span></li><li><details><summary>coordinates: [-55.5131, -1.9192]</summary><ul><li><span class='ee-k'>0:</span><span class='ee-v'>-55.5131</span></li><li><span class='ee-k'>1:</span><span class='ee-v'>-1.9192</span></li></ul></details></li></ul></details></li><li><details><summary>properties: Object (10 properties)</summary><ul><li><span class='ee-k'>Data:</span><span class='ee-v'>2003-04-01</span></li><li><span class='ee-k'>EstacaoCodigo:</span><span class='ee-v'>17050001</span></li><li><span class='ee-k'>Maxima:</span><span class='ee-v'>659</span></li><li><span class='ee-k'>Media:</span><span class='ee-v'>611</span></li><li><span class='ee-k'>Minima:</span><span class='ee-v'>548</span></li><li><span class='ee-k'>latitude:</span><span class='ee-v'>-1.9192</span></li><li><span class='ee-k'>longitude:</span><span class='ee-v'>-55.5131</span></li><li><details><summary>system:time_start: Date (2003-04-01 00:00:00)</summary><ul><li><span class='ee-k'>type:</span><span class='ee-v'>Date</span></li><li><span class='ee-k'>value:</span><span class='ee-v'>1049155200000</span></li></ul></details></li><li><span class='ee-k'>water_period:</span><span class='ee-v'>HW</span></li><li><span class='ee-k'>water_period3:</span><span class='ee-v'>HW</span></li></ul></details></li></ul></details></li><li><details><summary>254: Feature (Point, 12 properties)</summary><ul><li><span class='ee-k'>type:</span><span class='ee-v'>Feature</span></li><li><span class='ee-k'>id:</span><span class='ee-v'>254</span></li><li><details><summary>geometry: Point (-55.51, -1.92)</summary><ul><li><span class='ee-k'>type:</span><span class='ee-v'>Point</span></li><li><details><summary>coordinates: [-55.5131, -1.9192]</summary><ul><li><span class='ee-k'>0:</span><span class='ee-v'>-55.5131</span></li><li><span class='ee-k'>1:</span><span class='ee-v'>-1.9192</span></li></ul></details></li></ul></details></li><li><details><summary>properties: Object (12 properties)</summary><ul><li><span class='ee-k'>Data:</span><span class='ee-v'>2003-03-01</span></li><li><span class='ee-k'>EstacaoCodigo:</span><span class='ee-v'>17050001</span></li><li><span class='ee-k'>Maxima:</span><span class='ee-v'>542</span></li><li><span class='ee-k'>Media:</span><span class='ee-v'>502</span></li><li><span class='ee-k'>Minima:</span><span class='ee-v'>467</span></li><li><span class='ee-k'>fall:</span><span class='ee-v'>True</span></li><li><span class='ee-k'>latitude:</span><span class='ee-v'>-1.9192</span></li><li><span class='ee-k'>longitude:</span><span class='ee-v'>-55.5131</span></li><li><span class='ee-k'>rise:</span><span class='ee-v'>False</span></li><li><details><summary>system:time_start: Date (2003-03-01 00:00:00)</summary><ul><li><span class='ee-k'>type:</span><span class='ee-v'>Date</span></li><li><span class='ee-k'>value:</span><span class='ee-v'>1046476800000</span></li></ul></details></li><li><span class='ee-k'>water_period:</span><span class='ee-v'>F</span></li><li><span class='ee-k'>water_period3:</span><span class='ee-v'>T</span></li></ul></details></li></ul></details></li><li><details><summary>255: Feature (Point, 12 properties)</summary><ul><li><span class='ee-k'>type:</span><span class='ee-v'>Feature</span></li><li><span class='ee-k'>id:</span><span class='ee-v'>255</span></li><li><details><summary>geometry: Point (-55.51, -1.92)</summary><ul><li><span class='ee-k'>type:</span><span class='ee-v'>Point</span></li><li><details><summary>coordinates: [-55.5131, -1.9192]</summary><ul><li><span class='ee-k'>0:</span><span class='ee-v'>-55.5131</span></li><li><span class='ee-k'>1:</span><span class='ee-v'>-1.9192</span></li></ul></details></li></ul></details></li><li><details><summary>properties: Object (12 properties)</summary><ul><li><span class='ee-k'>Data:</span><span class='ee-v'>2003-02-01</span></li><li><span class='ee-k'>EstacaoCodigo:</span><span class='ee-v'>17050001</span></li><li><span class='ee-k'>Maxima:</span><span class='ee-v'>464</span></li><li><span class='ee-k'>Media:</span><span class='ee-v'>429</span></li><li><span class='ee-k'>Minima:</span><span class='ee-v'>390</span></li><li><span class='ee-k'>fall:</span><span class='ee-v'>True</span></li><li><span class='ee-k'>latitude:</span><span class='ee-v'>-1.9192</span></li><li><span class='ee-k'>longitude:</span><span class='ee-v'>-55.5131</span></li><li><span class='ee-k'>rise:</span><span class='ee-v'>False</span></li><li><details><summary>system:time_start: Date (2003-02-01 00:00:00)</summary><ul><li><span class='ee-k'>type:</span><span class='ee-v'>Date</span></li><li><span class='ee-k'>value:</span><span class='ee-v'>1044057600000</span></li></ul></details></li><li><span class='ee-k'>water_period:</span><span class='ee-v'>F</span></li><li><span class='ee-k'>water_period3:</span><span class='ee-v'>T</span></li></ul></details></li></ul></details></li><li><details><summary>256: Feature (Point, 12 properties)</summary><ul><li><span class='ee-k'>type:</span><span class='ee-v'>Feature</span></li><li><span class='ee-k'>id:</span><span class='ee-v'>256</span></li><li><details><summary>geometry: Point (-55.51, -1.92)</summary><ul><li><span class='ee-k'>type:</span><span class='ee-v'>Point</span></li><li><details><summary>coordinates: [-55.5131, -1.9192]</summary><ul><li><span class='ee-k'>0:</span><span class='ee-v'>-55.5131</span></li><li><span class='ee-k'>1:</span><span class='ee-v'>-1.9192</span></li></ul></details></li></ul></details></li><li><details><summary>properties: Object (12 properties)</summary><ul><li><span class='ee-k'>Data:</span><span class='ee-v'>2003-01-01</span></li><li><span class='ee-k'>EstacaoCodigo:</span><span class='ee-v'>17050001</span></li><li><span class='ee-k'>Maxima:</span><span class='ee-v'>385</span></li><li><span class='ee-k'>Media:</span><span class='ee-v'>353</span></li><li><span class='ee-k'>Minima:</span><span class='ee-v'>315</span></li><li><span class='ee-k'>fall:</span><span class='ee-v'>True</span></li><li><span class='ee-k'>latitude:</span><span class='ee-v'>-1.9192</span></li><li><span class='ee-k'>longitude:</span><span class='ee-v'>-55.5131</span></li><li><span class='ee-k'>rise:</span><span class='ee-v'>False</span></li><li><details><summary>system:time_start: Date (2003-01-01 00:00:00)</summary><ul><li><span class='ee-k'>type:</span><span class='ee-v'>Date</span></li><li><span class='ee-k'>value:</span><span class='ee-v'>1041379200000</span></li></ul></details></li><li><span class='ee-k'>water_period:</span><span class='ee-v'>F</span></li><li><span class='ee-k'>water_period3:</span><span class='ee-v'>T</span></li></ul></details></li></ul></details></li><li><details><summary>257: Feature (Point, 10 properties)</summary><ul><li><span class='ee-k'>type:</span><span class='ee-v'>Feature</span></li><li><span class='ee-k'>id:</span><span class='ee-v'>257</span></li><li><details><summary>geometry: Point (-55.51, -1.92)</summary><ul><li><span class='ee-k'>type:</span><span class='ee-v'>Point</span></li><li><details><summary>coordinates: [-55.5131, -1.9192]</summary><ul><li><span class='ee-k'>0:</span><span class='ee-v'>-55.5131</span></li><li><span class='ee-k'>1:</span><span class='ee-v'>-1.9192</span></li></ul></details></li></ul></details></li><li><details><summary>properties: Object (10 properties)</summary><ul><li><span class='ee-k'>Data:</span><span class='ee-v'>2002-12-01</span></li><li><span class='ee-k'>EstacaoCodigo:</span><span class='ee-v'>17050001</span></li><li><span class='ee-k'>Maxima:</span><span class='ee-v'>311</span></li><li><span class='ee-k'>Media:</span><span class='ee-v'>251</span></li><li><span class='ee-k'>Minima:</span><span class='ee-v'>198</span></li><li><span class='ee-k'>latitude:</span><span class='ee-v'>-1.9192</span></li><li><span class='ee-k'>longitude:</span><span class='ee-v'>-55.5131</span></li><li><details><summary>system:time_start: Date (2002-12-01 00:00:00)</summary><ul><li><span class='ee-k'>type:</span><span class='ee-v'>Date</span></li><li><span class='ee-k'>value:</span><span class='ee-v'>1038700800000</span></li></ul></details></li><li><span class='ee-k'>water_period:</span><span class='ee-v'>LW</span></li><li><span class='ee-k'>water_period3:</span><span class='ee-v'>LW</span></li></ul></details></li></ul></details></li><li><details><summary>258: Feature (Point, 10 properties)</summary><ul><li><span class='ee-k'>type:</span><span class='ee-v'>Feature</span></li><li><span class='ee-k'>id:</span><span class='ee-v'>258</span></li><li><details><summary>geometry: Point (-55.51, -1.92)</summary><ul><li><span class='ee-k'>type:</span><span class='ee-v'>Point</span></li><li><details><summary>coordinates: [-55.5131, -1.9192]</summary><ul><li><span class='ee-k'>0:</span><span class='ee-v'>-55.5131</span></li><li><span class='ee-k'>1:</span><span class='ee-v'>-1.9192</span></li></ul></details></li></ul></details></li><li><details><summary>properties: Object (10 properties)</summary><ul><li><span class='ee-k'>Data:</span><span class='ee-v'>2002-11-01</span></li><li><span class='ee-k'>EstacaoCodigo:</span><span class='ee-v'>17050001</span></li><li><span class='ee-k'>Maxima:</span><span class='ee-v'>190</span></li><li><span class='ee-k'>Media:</span><span class='ee-v'>145</span></li><li><span class='ee-k'>Minima:</span><span class='ee-v'>102</span></li><li><span class='ee-k'>latitude:</span><span class='ee-v'>-1.9192</span></li><li><span class='ee-k'>longitude:</span><span class='ee-v'>-55.5131</span></li><li><details><summary>system:time_start: Date (2002-11-01 00:00:00)</summary><ul><li><span class='ee-k'>type:</span><span class='ee-v'>Date</span></li><li><span class='ee-k'>value:</span><span class='ee-v'>1036108800000</span></li></ul></details></li><li><span class='ee-k'>water_period:</span><span class='ee-v'>LW</span></li><li><span class='ee-k'>water_period3:</span><span class='ee-v'>LW</span></li></ul></details></li></ul></details></li><li><details><summary>259: Feature (Point, 10 properties)</summary><ul><li><span class='ee-k'>type:</span><span class='ee-v'>Feature</span></li><li><span class='ee-k'>id:</span><span class='ee-v'>259</span></li><li><details><summary>geometry: Point (-55.51, -1.92)</summary><ul><li><span class='ee-k'>type:</span><span class='ee-v'>Point</span></li><li><details><summary>coordinates: [-55.5131, -1.9192]</summary><ul><li><span class='ee-k'>0:</span><span class='ee-v'>-55.5131</span></li><li><span class='ee-k'>1:</span><span class='ee-v'>-1.9192</span></li></ul></details></li></ul></details></li><li><details><summary>properties: Object (10 properties)</summary><ul><li><span class='ee-k'>Data:</span><span class='ee-v'>2002-10-01</span></li><li><span class='ee-k'>EstacaoCodigo:</span><span class='ee-v'>17050001</span></li><li><span class='ee-k'>Maxima:</span><span class='ee-v'>394</span></li><li><span class='ee-k'>Media:</span><span class='ee-v'>253</span></li><li><span class='ee-k'>Minima:</span><span class='ee-v'>106</span></li><li><span class='ee-k'>latitude:</span><span class='ee-v'>-1.9192</span></li><li><span class='ee-k'>longitude:</span><span class='ee-v'>-55.5131</span></li><li><details><summary>system:time_start: Date (2002-10-01 00:00:00)</summary><ul><li><span class='ee-k'>type:</span><span class='ee-v'>Date</span></li><li><span class='ee-k'>value:</span><span class='ee-v'>1033430400000</span></li></ul></details></li><li><span class='ee-k'>water_period:</span><span class='ee-v'>LW</span></li><li><span class='ee-k'>water_period3:</span><span class='ee-v'>LW</span></li></ul></details></li></ul></details></li><li><details><summary>260: Feature (Point, 12 properties)</summary><ul><li><span class='ee-k'>type:</span><span class='ee-v'>Feature</span></li><li><span class='ee-k'>id:</span><span class='ee-v'>260</span></li><li><details><summary>geometry: Point (-55.51, -1.92)</summary><ul><li><span class='ee-k'>type:</span><span class='ee-v'>Point</span></li><li><details><summary>coordinates: [-55.5131, -1.9192]</summary><ul><li><span class='ee-k'>0:</span><span class='ee-v'>-55.5131</span></li><li><span class='ee-k'>1:</span><span class='ee-v'>-1.9192</span></li></ul></details></li></ul></details></li><li><details><summary>properties: Object (12 properties)</summary><ul><li><span class='ee-k'>Data:</span><span class='ee-v'>2002-09-01</span></li><li><span class='ee-k'>EstacaoCodigo:</span><span class='ee-v'>17050001</span></li><li><span class='ee-k'>Maxima:</span><span class='ee-v'>568</span></li><li><span class='ee-k'>Media:</span><span class='ee-v'>494</span></li><li><span class='ee-k'>Minima:</span><span class='ee-v'>402</span></li><li><span class='ee-k'>fall:</span><span class='ee-v'>False</span></li><li><span class='ee-k'>latitude:</span><span class='ee-v'>-1.9192</span></li><li><span class='ee-k'>longitude:</span><span class='ee-v'>-55.5131</span></li><li><span class='ee-k'>rise:</span><span class='ee-v'>True</span></li><li><details><summary>system:time_start: Date (2002-09-01 00:00:00)</summary><ul><li><span class='ee-k'>type:</span><span class='ee-v'>Date</span></li><li><span class='ee-k'>value:</span><span class='ee-v'>1030838400000</span></li></ul></details></li><li><span class='ee-k'>water_period:</span><span class='ee-v'>R</span></li><li><span class='ee-k'>water_period3:</span><span class='ee-v'>T</span></li></ul></details></li></ul></details></li><li><details><summary>261: Feature (Point, 10 properties)</summary><ul><li><span class='ee-k'>type:</span><span class='ee-v'>Feature</span></li><li><span class='ee-k'>id:</span><span class='ee-v'>261</span></li><li><details><summary>geometry: Point (-55.51, -1.92)</summary><ul><li><span class='ee-k'>type:</span><span class='ee-v'>Point</span></li><li><details><summary>coordinates: [-55.5131, -1.9192]</summary><ul><li><span class='ee-k'>0:</span><span class='ee-v'>-55.5131</span></li><li><span class='ee-k'>1:</span><span class='ee-v'>-1.9192</span></li></ul></details></li></ul></details></li><li><details><summary>properties: Object (10 properties)</summary><ul><li><span class='ee-k'>Data:</span><span class='ee-v'>2002-08-01</span></li><li><span class='ee-k'>EstacaoCodigo:</span><span class='ee-v'>17050001</span></li><li><span class='ee-k'>Maxima:</span><span class='ee-v'>676</span></li><li><span class='ee-k'>Media:</span><span class='ee-v'>629</span></li><li><span class='ee-k'>Minima:</span><span class='ee-v'>574</span></li><li><span class='ee-k'>latitude:</span><span class='ee-v'>-1.9192</span></li><li><span class='ee-k'>longitude:</span><span class='ee-v'>-55.5131</span></li><li><details><summary>system:time_start: Date (2002-08-01 00:00:00)</summary><ul><li><span class='ee-k'>type:</span><span class='ee-v'>Date</span></li><li><span class='ee-k'>value:</span><span class='ee-v'>1028160000000</span></li></ul></details></li><li><span class='ee-k'>water_period:</span><span class='ee-v'>HW</span></li><li><span class='ee-k'>water_period3:</span><span class='ee-v'>HW</span></li></ul></details></li></ul></details></li><li><details><summary>262: Feature (Point, 10 properties)</summary><ul><li><span class='ee-k'>type:</span><span class='ee-v'>Feature</span></li><li><span class='ee-k'>id:</span><span class='ee-v'>262</span></li><li><details><summary>geometry: Point (-55.51, -1.92)</summary><ul><li><span class='ee-k'>type:</span><span class='ee-v'>Point</span></li><li><details><summary>coordinates: [-55.5131, -1.9192]</summary><ul><li><span class='ee-k'>0:</span><span class='ee-v'>-55.5131</span></li><li><span class='ee-k'>1:</span><span class='ee-v'>-1.9192</span></li></ul></details></li></ul></details></li><li><details><summary>properties: Object (10 properties)</summary><ul><li><span class='ee-k'>Data:</span><span class='ee-v'>2002-07-01</span></li><li><span class='ee-k'>EstacaoCodigo:</span><span class='ee-v'>17050001</span></li><li><span class='ee-k'>Maxima:</span><span class='ee-v'>722</span></li><li><span class='ee-k'>Media:</span><span class='ee-v'>701</span></li><li><span class='ee-k'>Minima:</span><span class='ee-v'>678</span></li><li><span class='ee-k'>latitude:</span><span class='ee-v'>-1.9192</span></li><li><span class='ee-k'>longitude:</span><span class='ee-v'>-55.5131</span></li><li><details><summary>system:time_start: Date (2002-07-01 00:00:00)</summary><ul><li><span class='ee-k'>type:</span><span class='ee-v'>Date</span></li><li><span class='ee-k'>value:</span><span class='ee-v'>1025481600000</span></li></ul></details></li><li><span class='ee-k'>water_period:</span><span class='ee-v'>HW</span></li><li><span class='ee-k'>water_period3:</span><span class='ee-v'>HW</span></li></ul></details></li></ul></details></li><li><details><summary>263: Feature (Point, 10 properties)</summary><ul><li><span class='ee-k'>type:</span><span class='ee-v'>Feature</span></li><li><span class='ee-k'>id:</span><span class='ee-v'>263</span></li><li><details><summary>geometry: Point (-55.51, -1.92)</summary><ul><li><span class='ee-k'>type:</span><span class='ee-v'>Point</span></li><li><details><summary>coordinates: [-55.5131, -1.9192]</summary><ul><li><span class='ee-k'>0:</span><span class='ee-v'>-55.5131</span></li><li><span class='ee-k'>1:</span><span class='ee-v'>-1.9192</span></li></ul></details></li></ul></details></li><li><details><summary>properties: Object (10 properties)</summary><ul><li><span class='ee-k'>Data:</span><span class='ee-v'>2002-06-01</span></li><li><span class='ee-k'>EstacaoCodigo:</span><span class='ee-v'>17050001</span></li><li><span class='ee-k'>Maxima:</span><span class='ee-v'>726</span></li><li><span class='ee-k'>Media:</span><span class='ee-v'>720</span></li><li><span class='ee-k'>Minima:</span><span class='ee-v'>714</span></li><li><span class='ee-k'>latitude:</span><span class='ee-v'>-1.9192</span></li><li><span class='ee-k'>longitude:</span><span class='ee-v'>-55.5131</span></li><li><details><summary>system:time_start: Date (2002-06-01 00:00:00)</summary><ul><li><span class='ee-k'>type:</span><span class='ee-v'>Date</span></li><li><span class='ee-k'>value:</span><span class='ee-v'>1022889600000</span></li></ul></details></li><li><span class='ee-k'>water_period:</span><span class='ee-v'>HW</span></li><li><span class='ee-k'>water_period3:</span><span class='ee-v'>HW</span></li></ul></details></li></ul></details></li><li><details><summary>264: Feature (Point, 10 properties)</summary><ul><li><span class='ee-k'>type:</span><span class='ee-v'>Feature</span></li><li><span class='ee-k'>id:</span><span class='ee-v'>264</span></li><li><details><summary>geometry: Point (-55.51, -1.92)</summary><ul><li><span class='ee-k'>type:</span><span class='ee-v'>Point</span></li><li><details><summary>coordinates: [-55.5131, -1.9192]</summary><ul><li><span class='ee-k'>0:</span><span class='ee-v'>-55.5131</span></li><li><span class='ee-k'>1:</span><span class='ee-v'>-1.9192</span></li></ul></details></li></ul></details></li><li><details><summary>properties: Object (10 properties)</summary><ul><li><span class='ee-k'>Data:</span><span class='ee-v'>2002-05-01</span></li><li><span class='ee-k'>EstacaoCodigo:</span><span class='ee-v'>17050001</span></li><li><span class='ee-k'>Maxima:</span><span class='ee-v'>712</span></li><li><span class='ee-k'>Media:</span><span class='ee-v'>695</span></li><li><span class='ee-k'>Minima:</span><span class='ee-v'>682</span></li><li><span class='ee-k'>latitude:</span><span class='ee-v'>-1.9192</span></li><li><span class='ee-k'>longitude:</span><span class='ee-v'>-55.5131</span></li><li><details><summary>system:time_start: Date (2002-05-01 00:00:00)</summary><ul><li><span class='ee-k'>type:</span><span class='ee-v'>Date</span></li><li><span class='ee-k'>value:</span><span class='ee-v'>1020211200000</span></li></ul></details></li><li><span class='ee-k'>water_period:</span><span class='ee-v'>HW</span></li><li><span class='ee-k'>water_period3:</span><span class='ee-v'>HW</span></li></ul></details></li></ul></details></li><li><details><summary>265: Feature (Point, 10 properties)</summary><ul><li><span class='ee-k'>type:</span><span class='ee-v'>Feature</span></li><li><span class='ee-k'>id:</span><span class='ee-v'>265</span></li><li><details><summary>geometry: Point (-55.51, -1.92)</summary><ul><li><span class='ee-k'>type:</span><span class='ee-v'>Point</span></li><li><details><summary>coordinates: [-55.5131, -1.9192]</summary><ul><li><span class='ee-k'>0:</span><span class='ee-v'>-55.5131</span></li><li><span class='ee-k'>1:</span><span class='ee-v'>-1.9192</span></li></ul></details></li></ul></details></li><li><details><summary>properties: Object (10 properties)</summary><ul><li><span class='ee-k'>Data:</span><span class='ee-v'>2002-04-01</span></li><li><span class='ee-k'>EstacaoCodigo:</span><span class='ee-v'>17050001</span></li><li><span class='ee-k'>Maxima:</span><span class='ee-v'>682</span></li><li><span class='ee-k'>Media:</span><span class='ee-v'>645</span></li><li><span class='ee-k'>Minima:</span><span class='ee-v'>602</span></li><li><span class='ee-k'>latitude:</span><span class='ee-v'>-1.9192</span></li><li><span class='ee-k'>longitude:</span><span class='ee-v'>-55.5131</span></li><li><details><summary>system:time_start: Date (2002-04-01 00:00:00)</summary><ul><li><span class='ee-k'>type:</span><span class='ee-v'>Date</span></li><li><span class='ee-k'>value:</span><span class='ee-v'>1017619200000</span></li></ul></details></li><li><span class='ee-k'>water_period:</span><span class='ee-v'>HW</span></li><li><span class='ee-k'>water_period3:</span><span class='ee-v'>HW</span></li></ul></details></li></ul></details></li><li><details><summary>266: Feature (Point, 10 properties)</summary><ul><li><span class='ee-k'>type:</span><span class='ee-v'>Feature</span></li><li><span class='ee-k'>id:</span><span class='ee-v'>266</span></li><li><details><summary>geometry: Point (-55.51, -1.92)</summary><ul><li><span class='ee-k'>type:</span><span class='ee-v'>Point</span></li><li><details><summary>coordinates: [-55.5131, -1.9192]</summary><ul><li><span class='ee-k'>0:</span><span class='ee-v'>-55.5131</span></li><li><span class='ee-k'>1:</span><span class='ee-v'>-1.9192</span></li></ul></details></li></ul></details></li><li><details><summary>properties: Object (10 properties)</summary><ul><li><span class='ee-k'>Data:</span><span class='ee-v'>2002-03-01</span></li><li><span class='ee-k'>EstacaoCodigo:</span><span class='ee-v'>17050001</span></li><li><span class='ee-k'>Maxima:</span><span class='ee-v'>598</span></li><li><span class='ee-k'>Media:</span><span class='ee-v'>560</span></li><li><span class='ee-k'>Minima:</span><span class='ee-v'>510</span></li><li><span class='ee-k'>latitude:</span><span class='ee-v'>-1.9192</span></li><li><span class='ee-k'>longitude:</span><span class='ee-v'>-55.5131</span></li><li><details><summary>system:time_start: Date (2002-03-01 00:00:00)</summary><ul><li><span class='ee-k'>type:</span><span class='ee-v'>Date</span></li><li><span class='ee-k'>value:</span><span class='ee-v'>1014940800000</span></li></ul></details></li><li><span class='ee-k'>water_period:</span><span class='ee-v'>HW</span></li><li><span class='ee-k'>water_period3:</span><span class='ee-v'>HW</span></li></ul></details></li></ul></details></li><li><details><summary>267: Feature (Point, 12 properties)</summary><ul><li><span class='ee-k'>type:</span><span class='ee-v'>Feature</span></li><li><span class='ee-k'>id:</span><span class='ee-v'>267</span></li><li><details><summary>geometry: Point (-55.51, -1.92)</summary><ul><li><span class='ee-k'>type:</span><span class='ee-v'>Point</span></li><li><details><summary>coordinates: [-55.5131, -1.9192]</summary><ul><li><span class='ee-k'>0:</span><span class='ee-v'>-55.5131</span></li><li><span class='ee-k'>1:</span><span class='ee-v'>-1.9192</span></li></ul></details></li></ul></details></li><li><details><summary>properties: Object (12 properties)</summary><ul><li><span class='ee-k'>Data:</span><span class='ee-v'>2002-02-01</span></li><li><span class='ee-k'>EstacaoCodigo:</span><span class='ee-v'>17050001</span></li><li><span class='ee-k'>Maxima:</span><span class='ee-v'>504</span></li><li><span class='ee-k'>Media:</span><span class='ee-v'>455</span></li><li><span class='ee-k'>Minima:</span><span class='ee-v'>434</span></li><li><span class='ee-k'>fall:</span><span class='ee-v'>True</span></li><li><span class='ee-k'>latitude:</span><span class='ee-v'>-1.9192</span></li><li><span class='ee-k'>longitude:</span><span class='ee-v'>-55.5131</span></li><li><span class='ee-k'>rise:</span><span class='ee-v'>False</span></li><li><details><summary>system:time_start: Date (2002-02-01 00:00:00)</summary><ul><li><span class='ee-k'>type:</span><span class='ee-v'>Date</span></li><li><span class='ee-k'>value:</span><span class='ee-v'>1012521600000</span></li></ul></details></li><li><span class='ee-k'>water_period:</span><span class='ee-v'>F</span></li><li><span class='ee-k'>water_period3:</span><span class='ee-v'>T</span></li></ul></details></li></ul></details></li><li><details><summary>268: Feature (Point, 12 properties)</summary><ul><li><span class='ee-k'>type:</span><span class='ee-v'>Feature</span></li><li><span class='ee-k'>id:</span><span class='ee-v'>268</span></li><li><details><summary>geometry: Point (-55.51, -1.92)</summary><ul><li><span class='ee-k'>type:</span><span class='ee-v'>Point</span></li><li><details><summary>coordinates: [-55.5131, -1.9192]</summary><ul><li><span class='ee-k'>0:</span><span class='ee-v'>-55.5131</span></li><li><span class='ee-k'>1:</span><span class='ee-v'>-1.9192</span></li></ul></details></li></ul></details></li><li><details><summary>properties: Object (12 properties)</summary><ul><li><span class='ee-k'>Data:</span><span class='ee-v'>2002-01-01</span></li><li><span class='ee-k'>EstacaoCodigo:</span><span class='ee-v'>17050001</span></li><li><span class='ee-k'>Maxima:</span><span class='ee-v'>445</span></li><li><span class='ee-k'>Media:</span><span class='ee-v'>382</span></li><li><span class='ee-k'>Minima:</span><span class='ee-v'>275</span></li><li><span class='ee-k'>fall:</span><span class='ee-v'>True</span></li><li><span class='ee-k'>latitude:</span><span class='ee-v'>-1.9192</span></li><li><span class='ee-k'>longitude:</span><span class='ee-v'>-55.5131</span></li><li><span class='ee-k'>rise:</span><span class='ee-v'>False</span></li><li><details><summary>system:time_start: Date (2002-01-01 00:00:00)</summary><ul><li><span class='ee-k'>type:</span><span class='ee-v'>Date</span></li><li><span class='ee-k'>value:</span><span class='ee-v'>1009843200000</span></li></ul></details></li><li><span class='ee-k'>water_period:</span><span class='ee-v'>F</span></li><li><span class='ee-k'>water_period3:</span><span class='ee-v'>T</span></li></ul></details></li></ul></details></li><li><details><summary>269: Feature (Point, 10 properties)</summary><ul><li><span class='ee-k'>type:</span><span class='ee-v'>Feature</span></li><li><span class='ee-k'>id:</span><span class='ee-v'>269</span></li><li><details><summary>geometry: Point (-55.51, -1.92)</summary><ul><li><span class='ee-k'>type:</span><span class='ee-v'>Point</span></li><li><details><summary>coordinates: [-55.5131, -1.9192]</summary><ul><li><span class='ee-k'>0:</span><span class='ee-v'>-55.5131</span></li><li><span class='ee-k'>1:</span><span class='ee-v'>-1.9192</span></li></ul></details></li></ul></details></li><li><details><summary>properties: Object (10 properties)</summary><ul><li><span class='ee-k'>Data:</span><span class='ee-v'>2001-12-01</span></li><li><span class='ee-k'>EstacaoCodigo:</span><span class='ee-v'>17050001</span></li><li><span class='ee-k'>Maxima:</span><span class='ee-v'>264</span></li><li><span class='ee-k'>Media:</span><span class='ee-v'>177</span></li><li><span class='ee-k'>Minima:</span><span class='ee-v'>124</span></li><li><span class='ee-k'>latitude:</span><span class='ee-v'>-1.9192</span></li><li><span class='ee-k'>longitude:</span><span class='ee-v'>-55.5131</span></li><li><details><summary>system:time_start: Date (2001-12-01 00:00:00)</summary><ul><li><span class='ee-k'>type:</span><span class='ee-v'>Date</span></li><li><span class='ee-k'>value:</span><span class='ee-v'>1007164800000</span></li></ul></details></li><li><span class='ee-k'>water_period:</span><span class='ee-v'>LW</span></li><li><span class='ee-k'>water_period3:</span><span class='ee-v'>LW</span></li></ul></details></li></ul></details></li><li><details><summary>270: Feature (Point, 10 properties)</summary><ul><li><span class='ee-k'>type:</span><span class='ee-v'>Feature</span></li><li><span class='ee-k'>id:</span><span class='ee-v'>270</span></li><li><details><summary>geometry: Point (-55.51, -1.92)</summary><ul><li><span class='ee-k'>type:</span><span class='ee-v'>Point</span></li><li><details><summary>coordinates: [-55.5131, -1.9192]</summary><ul><li><span class='ee-k'>0:</span><span class='ee-v'>-55.5131</span></li><li><span class='ee-k'>1:</span><span class='ee-v'>-1.9192</span></li></ul></details></li></ul></details></li><li><details><summary>properties: Object (10 properties)</summary><ul><li><span class='ee-k'>Data:</span><span class='ee-v'>2001-11-01</span></li><li><span class='ee-k'>EstacaoCodigo:</span><span class='ee-v'>17050001</span></li><li><span class='ee-k'>Maxima:</span><span class='ee-v'>122</span></li><li><span class='ee-k'>Media:</span><span class='ee-v'>101</span></li><li><span class='ee-k'>Minima:</span><span class='ee-v'>80</span></li><li><span class='ee-k'>latitude:</span><span class='ee-v'>-1.9192</span></li><li><span class='ee-k'>longitude:</span><span class='ee-v'>-55.5131</span></li><li><details><summary>system:time_start: Date (2001-11-01 00:00:00)</summary><ul><li><span class='ee-k'>type:</span><span class='ee-v'>Date</span></li><li><span class='ee-k'>value:</span><span class='ee-v'>1004572800000</span></li></ul></details></li><li><span class='ee-k'>water_period:</span><span class='ee-v'>LW</span></li><li><span class='ee-k'>water_period3:</span><span class='ee-v'>LW</span></li></ul></details></li></ul></details></li><li><details><summary>271: Feature (Point, 10 properties)</summary><ul><li><span class='ee-k'>type:</span><span class='ee-v'>Feature</span></li><li><span class='ee-k'>id:</span><span class='ee-v'>271</span></li><li><details><summary>geometry: Point (-55.51, -1.92)</summary><ul><li><span class='ee-k'>type:</span><span class='ee-v'>Point</span></li><li><details><summary>coordinates: [-55.5131, -1.9192]</summary><ul><li><span class='ee-k'>0:</span><span class='ee-v'>-55.5131</span></li><li><span class='ee-k'>1:</span><span class='ee-v'>-1.9192</span></li></ul></details></li></ul></details></li><li><details><summary>properties: Object (10 properties)</summary><ul><li><span class='ee-k'>Data:</span><span class='ee-v'>2001-10-01</span></li><li><span class='ee-k'>EstacaoCodigo:</span><span class='ee-v'>17050001</span></li><li><span class='ee-k'>Maxima:</span><span class='ee-v'>278</span></li><li><span class='ee-k'>Media:</span><span class='ee-v'>182</span></li><li><span class='ee-k'>Minima:</span><span class='ee-v'>86</span></li><li><span class='ee-k'>latitude:</span><span class='ee-v'>-1.9192</span></li><li><span class='ee-k'>longitude:</span><span class='ee-v'>-55.5131</span></li><li><details><summary>system:time_start: Date (2001-10-01 00:00:00)</summary><ul><li><span class='ee-k'>type:</span><span class='ee-v'>Date</span></li><li><span class='ee-k'>value:</span><span class='ee-v'>1001894400000</span></li></ul></details></li><li><span class='ee-k'>water_period:</span><span class='ee-v'>LW</span></li><li><span class='ee-k'>water_period3:</span><span class='ee-v'>LW</span></li></ul></details></li></ul></details></li><li><details><summary>272: Feature (Point, 12 properties)</summary><ul><li><span class='ee-k'>type:</span><span class='ee-v'>Feature</span></li><li><span class='ee-k'>id:</span><span class='ee-v'>272</span></li><li><details><summary>geometry: Point (-55.51, -1.92)</summary><ul><li><span class='ee-k'>type:</span><span class='ee-v'>Point</span></li><li><details><summary>coordinates: [-55.5131, -1.9192]</summary><ul><li><span class='ee-k'>0:</span><span class='ee-v'>-55.5131</span></li><li><span class='ee-k'>1:</span><span class='ee-v'>-1.9192</span></li></ul></details></li></ul></details></li><li><details><summary>properties: Object (12 properties)</summary><ul><li><span class='ee-k'>Data:</span><span class='ee-v'>2001-09-01</span></li><li><span class='ee-k'>EstacaoCodigo:</span><span class='ee-v'>17050001</span></li><li><span class='ee-k'>Maxima:</span><span class='ee-v'>495</span></li><li><span class='ee-k'>Media:</span><span class='ee-v'>395</span></li><li><span class='ee-k'>Minima:</span><span class='ee-v'>286</span></li><li><span class='ee-k'>fall:</span><span class='ee-v'>False</span></li><li><span class='ee-k'>latitude:</span><span class='ee-v'>-1.9192</span></li><li><span class='ee-k'>longitude:</span><span class='ee-v'>-55.5131</span></li><li><span class='ee-k'>rise:</span><span class='ee-v'>True</span></li><li><details><summary>system:time_start: Date (2001-09-01 00:00:00)</summary><ul><li><span class='ee-k'>type:</span><span class='ee-v'>Date</span></li><li><span class='ee-k'>value:</span><span class='ee-v'>999302400000</span></li></ul></details></li><li><span class='ee-k'>water_period:</span><span class='ee-v'>R</span></li><li><span class='ee-k'>water_period3:</span><span class='ee-v'>T</span></li></ul></details></li></ul></details></li><li><details><summary>273: Feature (Point, 10 properties)</summary><ul><li><span class='ee-k'>type:</span><span class='ee-v'>Feature</span></li><li><span class='ee-k'>id:</span><span class='ee-v'>273</span></li><li><details><summary>geometry: Point (-55.51, -1.92)</summary><ul><li><span class='ee-k'>type:</span><span class='ee-v'>Point</span></li><li><details><summary>coordinates: [-55.5131, -1.9192]</summary><ul><li><span class='ee-k'>0:</span><span class='ee-v'>-55.5131</span></li><li><span class='ee-k'>1:</span><span class='ee-v'>-1.9192</span></li></ul></details></li></ul></details></li><li><details><summary>properties: Object (10 properties)</summary><ul><li><span class='ee-k'>Data:</span><span class='ee-v'>2001-08-01</span></li><li><span class='ee-k'>EstacaoCodigo:</span><span class='ee-v'>17050001</span></li><li><span class='ee-k'>Maxima:</span><span class='ee-v'>631</span></li><li><span class='ee-k'>Media:</span><span class='ee-v'>573</span></li><li><span class='ee-k'>Minima:</span><span class='ee-v'>501</span></li><li><span class='ee-k'>latitude:</span><span class='ee-v'>-1.9192</span></li><li><span class='ee-k'>longitude:</span><span class='ee-v'>-55.5131</span></li><li><details><summary>system:time_start: Date (2001-08-01 00:00:00)</summary><ul><li><span class='ee-k'>type:</span><span class='ee-v'>Date</span></li><li><span class='ee-k'>value:</span><span class='ee-v'>996624000000</span></li></ul></details></li><li><span class='ee-k'>water_period:</span><span class='ee-v'>HW</span></li><li><span class='ee-k'>water_period3:</span><span class='ee-v'>HW</span></li></ul></details></li></ul></details></li><li><details><summary>274: Feature (Point, 10 properties)</summary><ul><li><span class='ee-k'>type:</span><span class='ee-v'>Feature</span></li><li><span class='ee-k'>id:</span><span class='ee-v'>274</span></li><li><details><summary>geometry: Point (-55.51, -1.92)</summary><ul><li><span class='ee-k'>type:</span><span class='ee-v'>Point</span></li><li><details><summary>coordinates: [-55.5131, -1.9192]</summary><ul><li><span class='ee-k'>0:</span><span class='ee-v'>-55.5131</span></li><li><span class='ee-k'>1:</span><span class='ee-v'>-1.9192</span></li></ul></details></li></ul></details></li><li><details><summary>properties: Object (10 properties)</summary><ul><li><span class='ee-k'>Data:</span><span class='ee-v'>2001-07-01</span></li><li><span class='ee-k'>EstacaoCodigo:</span><span class='ee-v'>17050001</span></li><li><span class='ee-k'>Maxima:</span><span class='ee-v'>714</span></li><li><span class='ee-k'>Media:</span><span class='ee-v'>679</span></li><li><span class='ee-k'>Minima:</span><span class='ee-v'>636</span></li><li><span class='ee-k'>latitude:</span><span class='ee-v'>-1.9192</span></li><li><span class='ee-k'>longitude:</span><span class='ee-v'>-55.5131</span></li><li><details><summary>system:time_start: Date (2001-07-01 00:00:00)</summary><ul><li><span class='ee-k'>type:</span><span class='ee-v'>Date</span></li><li><span class='ee-k'>value:</span><span class='ee-v'>993945600000</span></li></ul></details></li><li><span class='ee-k'>water_period:</span><span class='ee-v'>HW</span></li><li><span class='ee-k'>water_period3:</span><span class='ee-v'>HW</span></li></ul></details></li></ul></details></li><li><details><summary>275: Feature (Point, 10 properties)</summary><ul><li><span class='ee-k'>type:</span><span class='ee-v'>Feature</span></li><li><span class='ee-k'>id:</span><span class='ee-v'>275</span></li><li><details><summary>geometry: Point (-55.51, -1.92)</summary><ul><li><span class='ee-k'>type:</span><span class='ee-v'>Point</span></li><li><details><summary>coordinates: [-55.5131, -1.9192]</summary><ul><li><span class='ee-k'>0:</span><span class='ee-v'>-55.5131</span></li><li><span class='ee-k'>1:</span><span class='ee-v'>-1.9192</span></li></ul></details></li></ul></details></li><li><details><summary>properties: Object (10 properties)</summary><ul><li><span class='ee-k'>Data:</span><span class='ee-v'>2001-06-01</span></li><li><span class='ee-k'>EstacaoCodigo:</span><span class='ee-v'>17050001</span></li><li><span class='ee-k'>Maxima:</span><span class='ee-v'>729</span></li><li><span class='ee-k'>Media:</span><span class='ee-v'>721</span></li><li><span class='ee-k'>Minima:</span><span class='ee-v'>714</span></li><li><span class='ee-k'>latitude:</span><span class='ee-v'>-1.9192</span></li><li><span class='ee-k'>longitude:</span><span class='ee-v'>-55.5131</span></li><li><details><summary>system:time_start: Date (2001-06-01 00:00:00)</summary><ul><li><span class='ee-k'>type:</span><span class='ee-v'>Date</span></li><li><span class='ee-k'>value:</span><span class='ee-v'>991353600000</span></li></ul></details></li><li><span class='ee-k'>water_period:</span><span class='ee-v'>HW</span></li><li><span class='ee-k'>water_period3:</span><span class='ee-v'>HW</span></li></ul></details></li></ul></details></li><li><details><summary>276: Feature (Point, 10 properties)</summary><ul><li><span class='ee-k'>type:</span><span class='ee-v'>Feature</span></li><li><span class='ee-k'>id:</span><span class='ee-v'>276</span></li><li><details><summary>geometry: Point (-55.51, -1.92)</summary><ul><li><span class='ee-k'>type:</span><span class='ee-v'>Point</span></li><li><details><summary>coordinates: [-55.5131, -1.9192]</summary><ul><li><span class='ee-k'>0:</span><span class='ee-v'>-55.5131</span></li><li><span class='ee-k'>1:</span><span class='ee-v'>-1.9192</span></li></ul></details></li></ul></details></li><li><details><summary>properties: Object (10 properties)</summary><ul><li><span class='ee-k'>Data:</span><span class='ee-v'>2001-05-01</span></li><li><span class='ee-k'>EstacaoCodigo:</span><span class='ee-v'>17050001</span></li><li><span class='ee-k'>Maxima:</span><span class='ee-v'>739</span></li><li><span class='ee-k'>Media:</span><span class='ee-v'>732</span></li><li><span class='ee-k'>Minima:</span><span class='ee-v'>728</span></li><li><span class='ee-k'>latitude:</span><span class='ee-v'>-1.9192</span></li><li><span class='ee-k'>longitude:</span><span class='ee-v'>-55.5131</span></li><li><details><summary>system:time_start: Date (2001-05-01 00:00:00)</summary><ul><li><span class='ee-k'>type:</span><span class='ee-v'>Date</span></li><li><span class='ee-k'>value:</span><span class='ee-v'>988675200000</span></li></ul></details></li><li><span class='ee-k'>water_period:</span><span class='ee-v'>HW</span></li><li><span class='ee-k'>water_period3:</span><span class='ee-v'>HW</span></li></ul></details></li></ul></details></li><li><details><summary>277: Feature (Point, 10 properties)</summary><ul><li><span class='ee-k'>type:</span><span class='ee-v'>Feature</span></li><li><span class='ee-k'>id:</span><span class='ee-v'>277</span></li><li><details><summary>geometry: Point (-55.51, -1.92)</summary><ul><li><span class='ee-k'>type:</span><span class='ee-v'>Point</span></li><li><details><summary>coordinates: [-55.5131, -1.9192]</summary><ul><li><span class='ee-k'>0:</span><span class='ee-v'>-55.5131</span></li><li><span class='ee-k'>1:</span><span class='ee-v'>-1.9192</span></li></ul></details></li></ul></details></li><li><details><summary>properties: Object (10 properties)</summary><ul><li><span class='ee-k'>Data:</span><span class='ee-v'>2001-04-01</span></li><li><span class='ee-k'>EstacaoCodigo:</span><span class='ee-v'>17050001</span></li><li><span class='ee-k'>Maxima:</span><span class='ee-v'>729</span></li><li><span class='ee-k'>Media:</span><span class='ee-v'>706</span></li><li><span class='ee-k'>Minima:</span><span class='ee-v'>664</span></li><li><span class='ee-k'>latitude:</span><span class='ee-v'>-1.9192</span></li><li><span class='ee-k'>longitude:</span><span class='ee-v'>-55.5131</span></li><li><details><summary>system:time_start: Date (2001-04-01 00:00:00)</summary><ul><li><span class='ee-k'>type:</span><span class='ee-v'>Date</span></li><li><span class='ee-k'>value:</span><span class='ee-v'>986083200000</span></li></ul></details></li><li><span class='ee-k'>water_period:</span><span class='ee-v'>HW</span></li><li><span class='ee-k'>water_period3:</span><span class='ee-v'>HW</span></li></ul></details></li></ul></details></li><li><details><summary>278: Feature (Point, 10 properties)</summary><ul><li><span class='ee-k'>type:</span><span class='ee-v'>Feature</span></li><li><span class='ee-k'>id:</span><span class='ee-v'>278</span></li><li><details><summary>geometry: Point (-55.51, -1.92)</summary><ul><li><span class='ee-k'>type:</span><span class='ee-v'>Point</span></li><li><details><summary>coordinates: [-55.5131, -1.9192]</summary><ul><li><span class='ee-k'>0:</span><span class='ee-v'>-55.5131</span></li><li><span class='ee-k'>1:</span><span class='ee-v'>-1.9192</span></li></ul></details></li></ul></details></li><li><details><summary>properties: Object (10 properties)</summary><ul><li><span class='ee-k'>Data:</span><span class='ee-v'>2001-03-01</span></li><li><span class='ee-k'>EstacaoCodigo:</span><span class='ee-v'>17050001</span></li><li><span class='ee-k'>Maxima:</span><span class='ee-v'>660</span></li><li><span class='ee-k'>Media:</span><span class='ee-v'>611</span></li><li><span class='ee-k'>Minima:</span><span class='ee-v'>556</span></li><li><span class='ee-k'>latitude:</span><span class='ee-v'>-1.9192</span></li><li><span class='ee-k'>longitude:</span><span class='ee-v'>-55.5131</span></li><li><details><summary>system:time_start: Date (2001-03-01 00:00:00)</summary><ul><li><span class='ee-k'>type:</span><span class='ee-v'>Date</span></li><li><span class='ee-k'>value:</span><span class='ee-v'>983404800000</span></li></ul></details></li><li><span class='ee-k'>water_period:</span><span class='ee-v'>HW</span></li><li><span class='ee-k'>water_period3:</span><span class='ee-v'>HW</span></li></ul></details></li></ul></details></li><li><details><summary>279: Feature (Point, 12 properties)</summary><ul><li><span class='ee-k'>type:</span><span class='ee-v'>Feature</span></li><li><span class='ee-k'>id:</span><span class='ee-v'>279</span></li><li><details><summary>geometry: Point (-55.51, -1.92)</summary><ul><li><span class='ee-k'>type:</span><span class='ee-v'>Point</span></li><li><details><summary>coordinates: [-55.5131, -1.9192]</summary><ul><li><span class='ee-k'>0:</span><span class='ee-v'>-55.5131</span></li><li><span class='ee-k'>1:</span><span class='ee-v'>-1.9192</span></li></ul></details></li></ul></details></li><li><details><summary>properties: Object (12 properties)</summary><ul><li><span class='ee-k'>Data:</span><span class='ee-v'>2001-02-01</span></li><li><span class='ee-k'>EstacaoCodigo:</span><span class='ee-v'>17050001</span></li><li><span class='ee-k'>Maxima:</span><span class='ee-v'>551</span></li><li><span class='ee-k'>Media:</span><span class='ee-v'>496</span></li><li><span class='ee-k'>Minima:</span><span class='ee-v'>428</span></li><li><span class='ee-k'>fall:</span><span class='ee-v'>True</span></li><li><span class='ee-k'>latitude:</span><span class='ee-v'>-1.9192</span></li><li><span class='ee-k'>longitude:</span><span class='ee-v'>-55.5131</span></li><li><span class='ee-k'>rise:</span><span class='ee-v'>False</span></li><li><details><summary>system:time_start: Date (2001-02-01 00:00:00)</summary><ul><li><span class='ee-k'>type:</span><span class='ee-v'>Date</span></li><li><span class='ee-k'>value:</span><span class='ee-v'>980985600000</span></li></ul></details></li><li><span class='ee-k'>water_period:</span><span class='ee-v'>F</span></li><li><span class='ee-k'>water_period3:</span><span class='ee-v'>T</span></li></ul></details></li></ul></details></li><li><details><summary>280: Feature (Point, 10 properties)</summary><ul><li><span class='ee-k'>type:</span><span class='ee-v'>Feature</span></li><li><span class='ee-k'>id:</span><span class='ee-v'>280</span></li><li><details><summary>geometry: Point (-55.51, -1.92)</summary><ul><li><span class='ee-k'>type:</span><span class='ee-v'>Point</span></li><li><details><summary>coordinates: [-55.5131, -1.9192]</summary><ul><li><span class='ee-k'>0:</span><span class='ee-v'>-55.5131</span></li><li><span class='ee-k'>1:</span><span class='ee-v'>-1.9192</span></li></ul></details></li></ul></details></li><li><details><summary>properties: Object (10 properties)</summary><ul><li><span class='ee-k'>Data:</span><span class='ee-v'>2001-01-01</span></li><li><span class='ee-k'>EstacaoCodigo:</span><span class='ee-v'>17050001</span></li><li><span class='ee-k'>Maxima:</span><span class='ee-v'>422</span></li><li><span class='ee-k'>Media:</span><span class='ee-v'>324</span></li><li><span class='ee-k'>Minima:</span><span class='ee-v'>264</span></li><li><span class='ee-k'>latitude:</span><span class='ee-v'>-1.9192</span></li><li><span class='ee-k'>longitude:</span><span class='ee-v'>-55.5131</span></li><li><details><summary>system:time_start: Date (2001-01-01 00:00:00)</summary><ul><li><span class='ee-k'>type:</span><span class='ee-v'>Date</span></li><li><span class='ee-k'>value:</span><span class='ee-v'>978307200000</span></li></ul></details></li><li><span class='ee-k'>water_period:</span><span class='ee-v'>LW</span></li><li><span class='ee-k'>water_period3:</span><span class='ee-v'>LW</span></li></ul></details></li></ul></details></li><li><details><summary>281: Feature (Point, 10 properties)</summary><ul><li><span class='ee-k'>type:</span><span class='ee-v'>Feature</span></li><li><span class='ee-k'>id:</span><span class='ee-v'>281</span></li><li><details><summary>geometry: Point (-55.51, -1.92)</summary><ul><li><span class='ee-k'>type:</span><span class='ee-v'>Point</span></li><li><details><summary>coordinates: [-55.5131, -1.9192]</summary><ul><li><span class='ee-k'>0:</span><span class='ee-v'>-55.5131</span></li><li><span class='ee-k'>1:</span><span class='ee-v'>-1.9192</span></li></ul></details></li></ul></details></li><li><details><summary>properties: Object (10 properties)</summary><ul><li><span class='ee-k'>Data:</span><span class='ee-v'>2000-12-01</span></li><li><span class='ee-k'>EstacaoCodigo:</span><span class='ee-v'>17050001</span></li><li><span class='ee-k'>Maxima:</span><span class='ee-v'>265</span></li><li><span class='ee-k'>Media:</span><span class='ee-v'>207</span></li><li><span class='ee-k'>Minima:</span><span class='ee-v'>172</span></li><li><span class='ee-k'>latitude:</span><span class='ee-v'>-1.9192</span></li><li><span class='ee-k'>longitude:</span><span class='ee-v'>-55.5131</span></li><li><details><summary>system:time_start: Date (2000-12-01 00:00:00)</summary><ul><li><span class='ee-k'>type:</span><span class='ee-v'>Date</span></li><li><span class='ee-k'>value:</span><span class='ee-v'>975628800000</span></li></ul></details></li><li><span class='ee-k'>water_period:</span><span class='ee-v'>LW</span></li><li><span class='ee-k'>water_period3:</span><span class='ee-v'>LW</span></li></ul></details></li></ul></details></li><li><details><summary>282: Feature (Point, 10 properties)</summary><ul><li><span class='ee-k'>type:</span><span class='ee-v'>Feature</span></li><li><span class='ee-k'>id:</span><span class='ee-v'>282</span></li><li><details><summary>geometry: Point (-55.51, -1.92)</summary><ul><li><span class='ee-k'>type:</span><span class='ee-v'>Point</span></li><li><details><summary>coordinates: [-55.5131, -1.9192]</summary><ul><li><span class='ee-k'>0:</span><span class='ee-v'>-55.5131</span></li><li><span class='ee-k'>1:</span><span class='ee-v'>-1.9192</span></li></ul></details></li></ul></details></li><li><details><summary>properties: Object (10 properties)</summary><ul><li><span class='ee-k'>Data:</span><span class='ee-v'>2000-11-01</span></li><li><span class='ee-k'>EstacaoCodigo:</span><span class='ee-v'>17050001</span></li><li><span class='ee-k'>Maxima:</span><span class='ee-v'>266</span></li><li><span class='ee-k'>Media:</span><span class='ee-v'>235</span></li><li><span class='ee-k'>Minima:</span><span class='ee-v'>221</span></li><li><span class='ee-k'>latitude:</span><span class='ee-v'>-1.9192</span></li><li><span class='ee-k'>longitude:</span><span class='ee-v'>-55.5131</span></li><li><details><summary>system:time_start: Date (2000-11-01 00:00:00)</summary><ul><li><span class='ee-k'>type:</span><span class='ee-v'>Date</span></li><li><span class='ee-k'>value:</span><span class='ee-v'>973036800000</span></li></ul></details></li><li><span class='ee-k'>water_period:</span><span class='ee-v'>LW</span></li><li><span class='ee-k'>water_period3:</span><span class='ee-v'>LW</span></li></ul></details></li></ul></details></li><li><details><summary>283: Feature (Point, 10 properties)</summary><ul><li><span class='ee-k'>type:</span><span class='ee-v'>Feature</span></li><li><span class='ee-k'>id:</span><span class='ee-v'>283</span></li><li><details><summary>geometry: Point (-55.51, -1.92)</summary><ul><li><span class='ee-k'>type:</span><span class='ee-v'>Point</span></li><li><details><summary>coordinates: [-55.5131, -1.9192]</summary><ul><li><span class='ee-k'>0:</span><span class='ee-v'>-55.5131</span></li><li><span class='ee-k'>1:</span><span class='ee-v'>-1.9192</span></li></ul></details></li></ul></details></li><li><details><summary>properties: Object (10 properties)</summary><ul><li><span class='ee-k'>Data:</span><span class='ee-v'>2000-10-01</span></li><li><span class='ee-k'>EstacaoCodigo:</span><span class='ee-v'>17050001</span></li><li><span class='ee-k'>Maxima:</span><span class='ee-v'>434</span></li><li><span class='ee-k'>Media:</span><span class='ee-v'>334</span></li><li><span class='ee-k'>Minima:</span><span class='ee-v'>271</span></li><li><span class='ee-k'>latitude:</span><span class='ee-v'>-1.9192</span></li><li><span class='ee-k'>longitude:</span><span class='ee-v'>-55.5131</span></li><li><details><summary>system:time_start: Date (2000-10-01 00:00:00)</summary><ul><li><span class='ee-k'>type:</span><span class='ee-v'>Date</span></li><li><span class='ee-k'>value:</span><span class='ee-v'>970358400000</span></li></ul></details></li><li><span class='ee-k'>water_period:</span><span class='ee-v'>LW</span></li><li><span class='ee-k'>water_period3:</span><span class='ee-v'>LW</span></li></ul></details></li></ul></details></li><li><details><summary>284: Feature (Point, 12 properties)</summary><ul><li><span class='ee-k'>type:</span><span class='ee-v'>Feature</span></li><li><span class='ee-k'>id:</span><span class='ee-v'>284</span></li><li><details><summary>geometry: Point (-55.51, -1.92)</summary><ul><li><span class='ee-k'>type:</span><span class='ee-v'>Point</span></li><li><details><summary>coordinates: [-55.5131, -1.9192]</summary><ul><li><span class='ee-k'>0:</span><span class='ee-v'>-55.5131</span></li><li><span class='ee-k'>1:</span><span class='ee-v'>-1.9192</span></li></ul></details></li></ul></details></li><li><details><summary>properties: Object (12 properties)</summary><ul><li><span class='ee-k'>Data:</span><span class='ee-v'>2000-09-01</span></li><li><span class='ee-k'>EstacaoCodigo:</span><span class='ee-v'>17050001</span></li><li><span class='ee-k'>Maxima:</span><span class='ee-v'>598</span></li><li><span class='ee-k'>Media:</span><span class='ee-v'>521</span></li><li><span class='ee-k'>Minima:</span><span class='ee-v'>442</span></li><li><span class='ee-k'>fall:</span><span class='ee-v'>False</span></li><li><span class='ee-k'>latitude:</span><span class='ee-v'>-1.9192</span></li><li><span class='ee-k'>longitude:</span><span class='ee-v'>-55.5131</span></li><li><span class='ee-k'>rise:</span><span class='ee-v'>True</span></li><li><details><summary>system:time_start: Date (2000-09-01 00:00:00)</summary><ul><li><span class='ee-k'>type:</span><span class='ee-v'>Date</span></li><li><span class='ee-k'>value:</span><span class='ee-v'>967766400000</span></li></ul></details></li><li><span class='ee-k'>water_period:</span><span class='ee-v'>R</span></li><li><span class='ee-k'>water_period3:</span><span class='ee-v'>T</span></li></ul></details></li></ul></details></li><li><details><summary>285: Feature (Point, 10 properties)</summary><ul><li><span class='ee-k'>type:</span><span class='ee-v'>Feature</span></li><li><span class='ee-k'>id:</span><span class='ee-v'>285</span></li><li><details><summary>geometry: Point (-55.51, -1.92)</summary><ul><li><span class='ee-k'>type:</span><span class='ee-v'>Point</span></li><li><details><summary>coordinates: [-55.5131, -1.9192]</summary><ul><li><span class='ee-k'>0:</span><span class='ee-v'>-55.5131</span></li><li><span class='ee-k'>1:</span><span class='ee-v'>-1.9192</span></li></ul></details></li></ul></details></li><li><details><summary>properties: Object (10 properties)</summary><ul><li><span class='ee-k'>Data:</span><span class='ee-v'>2000-08-01</span></li><li><span class='ee-k'>EstacaoCodigo:</span><span class='ee-v'>17050001</span></li><li><span class='ee-k'>Maxima:</span><span class='ee-v'>689</span></li><li><span class='ee-k'>Media:</span><span class='ee-v'>647</span></li><li><span class='ee-k'>Minima:</span><span class='ee-v'>599</span></li><li><span class='ee-k'>latitude:</span><span class='ee-v'>-1.9192</span></li><li><span class='ee-k'>longitude:</span><span class='ee-v'>-55.5131</span></li><li><details><summary>system:time_start: Date (2000-08-01 00:00:00)</summary><ul><li><span class='ee-k'>type:</span><span class='ee-v'>Date</span></li><li><span class='ee-k'>value:</span><span class='ee-v'>965088000000</span></li></ul></details></li><li><span class='ee-k'>water_period:</span><span class='ee-v'>HW</span></li><li><span class='ee-k'>water_period3:</span><span class='ee-v'>HW</span></li></ul></details></li></ul></details></li><li><details><summary>286: Feature (Point, 10 properties)</summary><ul><li><span class='ee-k'>type:</span><span class='ee-v'>Feature</span></li><li><span class='ee-k'>id:</span><span class='ee-v'>286</span></li><li><details><summary>geometry: Point (-55.51, -1.92)</summary><ul><li><span class='ee-k'>type:</span><span class='ee-v'>Point</span></li><li><details><summary>coordinates: [-55.5131, -1.9192]</summary><ul><li><span class='ee-k'>0:</span><span class='ee-v'>-55.5131</span></li><li><span class='ee-k'>1:</span><span class='ee-v'>-1.9192</span></li></ul></details></li></ul></details></li><li><details><summary>properties: Object (10 properties)</summary><ul><li><span class='ee-k'>Data:</span><span class='ee-v'>2000-07-01</span></li><li><span class='ee-k'>EstacaoCodigo:</span><span class='ee-v'>17050001</span></li><li><span class='ee-k'>Maxima:</span><span class='ee-v'>726</span></li><li><span class='ee-k'>Media:</span><span class='ee-v'>711</span></li><li><span class='ee-k'>Minima:</span><span class='ee-v'>690</span></li><li><span class='ee-k'>latitude:</span><span class='ee-v'>-1.9192</span></li><li><span class='ee-k'>longitude:</span><span class='ee-v'>-55.5131</span></li><li><details><summary>system:time_start: Date (2000-07-01 00:00:00)</summary><ul><li><span class='ee-k'>type:</span><span class='ee-v'>Date</span></li><li><span class='ee-k'>value:</span><span class='ee-v'>962409600000</span></li></ul></details></li><li><span class='ee-k'>water_period:</span><span class='ee-v'>HW</span></li><li><span class='ee-k'>water_period3:</span><span class='ee-v'>HW</span></li></ul></details></li></ul></details></li><li><details><summary>287: Feature (Point, 10 properties)</summary><ul><li><span class='ee-k'>type:</span><span class='ee-v'>Feature</span></li><li><span class='ee-k'>id:</span><span class='ee-v'>287</span></li><li><details><summary>geometry: Point (-55.51, -1.92)</summary><ul><li><span class='ee-k'>type:</span><span class='ee-v'>Point</span></li><li><details><summary>coordinates: [-55.5131, -1.9192]</summary><ul><li><span class='ee-k'>0:</span><span class='ee-v'>-55.5131</span></li><li><span class='ee-k'>1:</span><span class='ee-v'>-1.9192</span></li></ul></details></li></ul></details></li><li><details><summary>properties: Object (10 properties)</summary><ul><li><span class='ee-k'>Data:</span><span class='ee-v'>2000-06-01</span></li><li><span class='ee-k'>EstacaoCodigo:</span><span class='ee-v'>17050001</span></li><li><span class='ee-k'>Maxima:</span><span class='ee-v'>756</span></li><li><span class='ee-k'>Media:</span><span class='ee-v'>741</span></li><li><span class='ee-k'>Minima:</span><span class='ee-v'>725</span></li><li><span class='ee-k'>latitude:</span><span class='ee-v'>-1.9192</span></li><li><span class='ee-k'>longitude:</span><span class='ee-v'>-55.5131</span></li><li><details><summary>system:time_start: Date (2000-06-01 00:00:00)</summary><ul><li><span class='ee-k'>type:</span><span class='ee-v'>Date</span></li><li><span class='ee-k'>value:</span><span class='ee-v'>959817600000</span></li></ul></details></li><li><span class='ee-k'>water_period:</span><span class='ee-v'>HW</span></li><li><span class='ee-k'>water_period3:</span><span class='ee-v'>HW</span></li></ul></details></li></ul></details></li><li><details><summary>288: Feature (Point, 10 properties)</summary><ul><li><span class='ee-k'>type:</span><span class='ee-v'>Feature</span></li><li><span class='ee-k'>id:</span><span class='ee-v'>288</span></li><li><details><summary>geometry: Point (-55.51, -1.92)</summary><ul><li><span class='ee-k'>type:</span><span class='ee-v'>Point</span></li><li><details><summary>coordinates: [-55.5131, -1.9192]</summary><ul><li><span class='ee-k'>0:</span><span class='ee-v'>-55.5131</span></li><li><span class='ee-k'>1:</span><span class='ee-v'>-1.9192</span></li></ul></details></li></ul></details></li><li><details><summary>properties: Object (10 properties)</summary><ul><li><span class='ee-k'>Data:</span><span class='ee-v'>2000-05-01</span></li><li><span class='ee-k'>EstacaoCodigo:</span><span class='ee-v'>17050001</span></li><li><span class='ee-k'>Maxima:</span><span class='ee-v'>753</span></li><li><span class='ee-k'>Media:</span><span class='ee-v'>738</span></li><li><span class='ee-k'>Minima:</span><span class='ee-v'>713</span></li><li><span class='ee-k'>latitude:</span><span class='ee-v'>-1.9192</span></li><li><span class='ee-k'>longitude:</span><span class='ee-v'>-55.5131</span></li><li><details><summary>system:time_start: Date (2000-05-01 00:00:00)</summary><ul><li><span class='ee-k'>type:</span><span class='ee-v'>Date</span></li><li><span class='ee-k'>value:</span><span class='ee-v'>957139200000</span></li></ul></details></li><li><span class='ee-k'>water_period:</span><span class='ee-v'>HW</span></li><li><span class='ee-k'>water_period3:</span><span class='ee-v'>HW</span></li></ul></details></li></ul></details></li><li><details><summary>289: Feature (Point, 10 properties)</summary><ul><li><span class='ee-k'>type:</span><span class='ee-v'>Feature</span></li><li><span class='ee-k'>id:</span><span class='ee-v'>289</span></li><li><details><summary>geometry: Point (-55.51, -1.92)</summary><ul><li><span class='ee-k'>type:</span><span class='ee-v'>Point</span></li><li><details><summary>coordinates: [-55.5131, -1.9192]</summary><ul><li><span class='ee-k'>0:</span><span class='ee-v'>-55.5131</span></li><li><span class='ee-k'>1:</span><span class='ee-v'>-1.9192</span></li></ul></details></li></ul></details></li><li><details><summary>properties: Object (10 properties)</summary><ul><li><span class='ee-k'>Data:</span><span class='ee-v'>2000-04-01</span></li><li><span class='ee-k'>EstacaoCodigo:</span><span class='ee-v'>17050001</span></li><li><span class='ee-k'>Maxima:</span><span class='ee-v'>710</span></li><li><span class='ee-k'>Media:</span><span class='ee-v'>665</span></li><li><span class='ee-k'>Minima:</span><span class='ee-v'>614</span></li><li><span class='ee-k'>latitude:</span><span class='ee-v'>-1.9192</span></li><li><span class='ee-k'>longitude:</span><span class='ee-v'>-55.5131</span></li><li><details><summary>system:time_start: Date (2000-04-01 00:00:00)</summary><ul><li><span class='ee-k'>type:</span><span class='ee-v'>Date</span></li><li><span class='ee-k'>value:</span><span class='ee-v'>954547200000</span></li></ul></details></li><li><span class='ee-k'>water_period:</span><span class='ee-v'>HW</span></li><li><span class='ee-k'>water_period3:</span><span class='ee-v'>HW</span></li></ul></details></li></ul></details></li><li><details><summary>290: Feature (Point, 10 properties)</summary><ul><li><span class='ee-k'>type:</span><span class='ee-v'>Feature</span></li><li><span class='ee-k'>id:</span><span class='ee-v'>290</span></li><li><details><summary>geometry: Point (-55.51, -1.92)</summary><ul><li><span class='ee-k'>type:</span><span class='ee-v'>Point</span></li><li><details><summary>coordinates: [-55.5131, -1.9192]</summary><ul><li><span class='ee-k'>0:</span><span class='ee-v'>-55.5131</span></li><li><span class='ee-k'>1:</span><span class='ee-v'>-1.9192</span></li></ul></details></li></ul></details></li><li><details><summary>properties: Object (10 properties)</summary><ul><li><span class='ee-k'>Data:</span><span class='ee-v'>2000-03-01</span></li><li><span class='ee-k'>EstacaoCodigo:</span><span class='ee-v'>17050001</span></li><li><span class='ee-k'>Maxima:</span><span class='ee-v'>613</span></li><li><span class='ee-k'>Media:</span><span class='ee-v'>551</span></li><li><span class='ee-k'>Minima:</span><span class='ee-v'>484</span></li><li><span class='ee-k'>latitude:</span><span class='ee-v'>-1.9192</span></li><li><span class='ee-k'>longitude:</span><span class='ee-v'>-55.5131</span></li><li><details><summary>system:time_start: Date (2000-03-01 00:00:00)</summary><ul><li><span class='ee-k'>type:</span><span class='ee-v'>Date</span></li><li><span class='ee-k'>value:</span><span class='ee-v'>951868800000</span></li></ul></details></li><li><span class='ee-k'>water_period:</span><span class='ee-v'>HW</span></li><li><span class='ee-k'>water_period3:</span><span class='ee-v'>HW</span></li></ul></details></li></ul></details></li><li><details><summary>291: Feature (Point, 12 properties)</summary><ul><li><span class='ee-k'>type:</span><span class='ee-v'>Feature</span></li><li><span class='ee-k'>id:</span><span class='ee-v'>291</span></li><li><details><summary>geometry: Point (-55.51, -1.92)</summary><ul><li><span class='ee-k'>type:</span><span class='ee-v'>Point</span></li><li><details><summary>coordinates: [-55.5131, -1.9192]</summary><ul><li><span class='ee-k'>0:</span><span class='ee-v'>-55.5131</span></li><li><span class='ee-k'>1:</span><span class='ee-v'>-1.9192</span></li></ul></details></li></ul></details></li><li><details><summary>properties: Object (12 properties)</summary><ul><li><span class='ee-k'>Data:</span><span class='ee-v'>2000-02-01</span></li><li><span class='ee-k'>EstacaoCodigo:</span><span class='ee-v'>17050001</span></li><li><span class='ee-k'>Maxima:</span><span class='ee-v'>487</span></li><li><span class='ee-k'>Media:</span><span class='ee-v'>429</span></li><li><span class='ee-k'>Minima:</span><span class='ee-v'>366</span></li><li><span class='ee-k'>fall:</span><span class='ee-v'>True</span></li><li><span class='ee-k'>latitude:</span><span class='ee-v'>-1.9192</span></li><li><span class='ee-k'>longitude:</span><span class='ee-v'>-55.5131</span></li><li><span class='ee-k'>rise:</span><span class='ee-v'>False</span></li><li><details><summary>system:time_start: Date (2000-02-01 00:00:00)</summary><ul><li><span class='ee-k'>type:</span><span class='ee-v'>Date</span></li><li><span class='ee-k'>value:</span><span class='ee-v'>949363200000</span></li></ul></details></li><li><span class='ee-k'>water_period:</span><span class='ee-v'>F</span></li><li><span class='ee-k'>water_period3:</span><span class='ee-v'>T</span></li></ul></details></li></ul></details></li><li><details><summary>292: Feature (Point, 10 properties)</summary><ul><li><span class='ee-k'>type:</span><span class='ee-v'>Feature</span></li><li><span class='ee-k'>id:</span><span class='ee-v'>292</span></li><li><details><summary>geometry: Point (-55.51, -1.92)</summary><ul><li><span class='ee-k'>type:</span><span class='ee-v'>Point</span></li><li><details><summary>coordinates: [-55.5131, -1.9192]</summary><ul><li><span class='ee-k'>0:</span><span class='ee-v'>-55.5131</span></li><li><span class='ee-k'>1:</span><span class='ee-v'>-1.9192</span></li></ul></details></li></ul></details></li><li><details><summary>properties: Object (10 properties)</summary><ul><li><span class='ee-k'>Data:</span><span class='ee-v'>2000-01-01</span></li><li><span class='ee-k'>EstacaoCodigo:</span><span class='ee-v'>17050001</span></li><li><span class='ee-k'>Maxima:</span><span class='ee-v'>366</span></li><li><span class='ee-k'>Media:</span><span class='ee-v'>297</span></li><li><span class='ee-k'>Minima:</span><span class='ee-v'>195</span></li><li><span class='ee-k'>latitude:</span><span class='ee-v'>-1.9192</span></li><li><span class='ee-k'>longitude:</span><span class='ee-v'>-55.5131</span></li><li><details><summary>system:time_start: Date (2000-01-01 00:00:00)</summary><ul><li><span class='ee-k'>type:</span><span class='ee-v'>Date</span></li><li><span class='ee-k'>value:</span><span class='ee-v'>946684800000</span></li></ul></details></li><li><span class='ee-k'>water_period:</span><span class='ee-v'>LW</span></li><li><span class='ee-k'>water_period3:</span><span class='ee-v'>LW</span></li></ul></details></li></ul></details></li></ul></details></li></ul></details></li></ul></div></div>"
            ]
          },
          "metadata": {},
          "execution_count": 85
        }
      ]
    },
    {
      "cell_type": "code",
      "source": [
        "\n",
        "for i in gdf_outflow['Data']:\n",
        "  print(ee.Date(i))\n",
        "  # mosaic = merge_col.filter()"
      ],
      "metadata": {
        "id": "w7yEN5o-B9uV",
        "outputId": "f4373673-642a-4ef6-b232-d75a52e1c322",
        "colab": {
          "base_uri": "https://localhost:8080/",
          "height": 1000
        }
      },
      "execution_count": 95,
      "outputs": [
        {
          "output_type": "display_data",
          "data": {
            "text/plain": [
              "<IPython.core.display.HTML object>"
            ],
            "text/html": [
              "\n",
              "            <style>\n",
              "                .geemap-dark {\n",
              "                    --jp-widgets-color: white;\n",
              "                    --jp-widgets-label-color: white;\n",
              "                    --jp-ui-font-color1: white;\n",
              "                    --jp-layout-color2: #454545;\n",
              "                    background-color: #383838;\n",
              "                }\n",
              "\n",
              "                .geemap-dark .jupyter-button {\n",
              "                    --jp-layout-color3: #383838;\n",
              "                }\n",
              "\n",
              "                .geemap-colab {\n",
              "                    background-color: var(--colab-primary-surface-color, white);\n",
              "                }\n",
              "\n",
              "                .geemap-colab .jupyter-button {\n",
              "                    --jp-layout-color3: var(--colab-primary-surface-color, white);\n",
              "                }\n",
              "            </style>\n",
              "            "
            ]
          },
          "metadata": {}
        },
        {
          "output_type": "stream",
          "name": "stdout",
          "text": [
            "2024-10-01\n",
            "2024-04-01\n",
            "2024-03-01\n",
            "2024-02-01\n",
            "2024-01-01\n",
            "2023-12-01\n",
            "2023-11-01\n",
            "2023-10-01\n",
            "2023-09-01\n",
            "2023-08-01\n",
            "2023-07-01\n",
            "2023-06-01\n",
            "2023-05-01\n",
            "2023-04-01\n",
            "2023-03-01\n",
            "2023-02-01\n",
            "2023-01-01\n",
            "2022-12-01\n",
            "2022-11-01\n",
            "2022-10-01\n",
            "2022-09-01\n",
            "2022-08-01\n",
            "2022-07-01\n",
            "2022-06-01\n",
            "2022-05-01\n",
            "2022-04-01\n",
            "2022-03-01\n",
            "2022-02-01\n",
            "2022-01-01\n",
            "2021-12-01\n",
            "2021-11-01\n",
            "2021-10-01\n",
            "2021-09-01\n",
            "2021-08-01\n",
            "2021-07-01\n",
            "2021-06-01\n",
            "2021-05-01\n",
            "2021-04-01\n",
            "2021-03-01\n",
            "2021-02-01\n",
            "2021-01-01\n",
            "2020-12-01\n",
            "2020-11-01\n",
            "2020-10-01\n",
            "2020-09-01\n",
            "2020-08-01\n",
            "2020-07-01\n",
            "2020-06-01\n",
            "2020-05-01\n",
            "2020-04-01\n",
            "2020-03-01\n",
            "2020-02-01\n",
            "2020-01-01\n",
            "2019-12-01\n",
            "2019-11-01\n",
            "2019-10-01\n",
            "2019-09-01\n",
            "2019-08-01\n",
            "2019-07-01\n",
            "2019-06-01\n",
            "2019-05-01\n",
            "2019-04-01\n",
            "2019-03-01\n",
            "2019-02-01\n",
            "2019-01-01\n",
            "2018-12-01\n",
            "2018-11-01\n",
            "2018-10-01\n",
            "2018-09-01\n",
            "2018-08-01\n",
            "2018-07-01\n",
            "2018-06-01\n",
            "2018-05-01\n",
            "2018-04-01\n",
            "2018-03-01\n",
            "2018-02-01\n",
            "2018-01-01\n",
            "2017-12-01\n",
            "2017-11-01\n",
            "2017-10-01\n",
            "2017-09-01\n",
            "2017-08-01\n",
            "2017-07-01\n",
            "2017-06-01\n",
            "2017-05-01\n",
            "2017-04-01\n",
            "2017-03-01\n",
            "2017-02-01\n",
            "2017-01-01\n",
            "2016-12-01\n",
            "2016-11-01\n",
            "2016-10-01\n",
            "2016-09-01\n",
            "2016-08-01\n",
            "2016-07-01\n",
            "2016-06-01\n",
            "2016-05-01\n",
            "2016-04-01\n",
            "2016-03-01\n",
            "2016-02-01\n",
            "2016-01-01\n",
            "2015-12-01\n",
            "2015-11-01\n",
            "2015-10-01\n",
            "2015-09-01\n",
            "2015-08-01\n",
            "2015-07-01\n",
            "2015-06-01\n",
            "2015-05-01\n",
            "2015-04-01\n",
            "2015-03-01\n",
            "2015-02-01\n",
            "2015-01-01\n",
            "2014-12-01\n",
            "2014-11-01\n",
            "2014-10-01\n",
            "2014-09-01\n",
            "2014-08-01\n",
            "2014-07-01\n",
            "2014-06-01\n",
            "2014-05-01\n",
            "2014-04-01\n",
            "2014-03-01\n",
            "2014-02-01\n",
            "2014-01-01\n",
            "2013-12-01\n",
            "2013-11-01\n",
            "2013-10-01\n",
            "2013-09-01\n",
            "2013-08-01\n",
            "2013-07-01\n",
            "2013-06-01\n",
            "2013-05-01\n",
            "2013-04-01\n",
            "2013-03-01\n",
            "2013-02-01\n",
            "2013-01-01\n",
            "2012-12-01\n",
            "2012-11-01\n",
            "2012-10-01\n",
            "2012-09-01\n",
            "2012-08-01\n",
            "2012-07-01\n",
            "2012-06-01\n",
            "2012-05-01\n",
            "2012-04-01\n",
            "2012-03-01\n",
            "2012-02-01\n",
            "2012-01-01\n",
            "2011-12-01\n",
            "2011-11-01\n",
            "2011-10-01\n",
            "2011-09-01\n",
            "2011-08-01\n",
            "2011-07-01\n",
            "2011-06-01\n",
            "2011-05-01\n",
            "2011-04-01\n",
            "2011-03-01\n",
            "2011-02-01\n",
            "2011-01-01\n",
            "2010-12-01\n",
            "2010-11-01\n",
            "2010-10-01\n",
            "2010-09-01\n",
            "2010-08-01\n",
            "2010-07-01\n",
            "2010-06-01\n",
            "2010-05-01\n",
            "2010-04-01\n",
            "2010-03-01\n",
            "2010-02-01\n",
            "2010-01-01\n",
            "2009-12-01\n",
            "2009-11-01\n",
            "2009-10-01\n",
            "2009-09-01\n",
            "2009-08-01\n",
            "2009-07-01\n",
            "2009-06-01\n",
            "2009-05-01\n",
            "2009-04-01\n",
            "2009-03-01\n",
            "2009-02-01\n",
            "2009-01-01\n",
            "2008-12-01\n",
            "2008-11-01\n",
            "2008-10-01\n",
            "2008-09-01\n",
            "2008-08-01\n",
            "2008-07-01\n",
            "2008-06-01\n",
            "2008-05-01\n",
            "2008-04-01\n",
            "2008-03-01\n",
            "2008-02-01\n",
            "2008-01-01\n",
            "2007-12-01\n",
            "2007-11-01\n",
            "2007-10-01\n",
            "2007-09-01\n",
            "2007-08-01\n",
            "2007-07-01\n",
            "2007-06-01\n",
            "2007-05-01\n",
            "2007-04-01\n",
            "2007-03-01\n",
            "2007-02-01\n",
            "2007-01-01\n",
            "2006-12-01\n",
            "2006-11-01\n",
            "2006-10-01\n",
            "2006-09-01\n",
            "2006-08-01\n",
            "2006-07-01\n",
            "2006-06-01\n",
            "2006-05-01\n",
            "2006-04-01\n",
            "2006-03-01\n",
            "2006-02-01\n",
            "2006-01-01\n",
            "2005-12-01\n",
            "2005-11-01\n",
            "2005-10-01\n",
            "2005-09-01\n",
            "2005-08-01\n",
            "2005-07-01\n",
            "2005-06-01\n",
            "2005-05-01\n",
            "2005-04-01\n",
            "2005-03-01\n",
            "2005-02-01\n",
            "2005-01-01\n",
            "2004-12-01\n",
            "2004-11-01\n",
            "2004-10-01\n",
            "2004-09-01\n",
            "2004-08-01\n",
            "2004-07-01\n",
            "2004-06-01\n",
            "2004-05-01\n",
            "2004-04-01\n",
            "2004-03-01\n",
            "2004-02-01\n",
            "2004-01-01\n",
            "2003-12-01\n",
            "2003-11-01\n",
            "2003-10-01\n",
            "2003-09-01\n",
            "2003-08-01\n",
            "2003-07-01\n",
            "2003-06-01\n",
            "2003-05-01\n",
            "2003-04-01\n",
            "2003-03-01\n",
            "2003-02-01\n",
            "2003-01-01\n",
            "2002-12-01\n",
            "2002-11-01\n",
            "2002-10-01\n",
            "2002-09-01\n",
            "2002-08-01\n",
            "2002-07-01\n",
            "2002-06-01\n",
            "2002-05-01\n",
            "2002-04-01\n",
            "2002-03-01\n",
            "2002-02-01\n",
            "2002-01-01\n",
            "2001-12-01\n",
            "2001-11-01\n",
            "2001-10-01\n",
            "2001-09-01\n",
            "2001-08-01\n",
            "2001-07-01\n",
            "2001-06-01\n",
            "2001-05-01\n",
            "2001-04-01\n",
            "2001-03-01\n",
            "2001-02-01\n",
            "2001-01-01\n",
            "2000-12-01\n",
            "2000-11-01\n",
            "2000-10-01\n",
            "2000-09-01\n",
            "2000-08-01\n",
            "2000-07-01\n",
            "2000-06-01\n",
            "2000-05-01\n",
            "2000-04-01\n",
            "2000-03-01\n",
            "2000-02-01\n",
            "2000-01-01\n"
          ]
        }
      ]
    },
    {
      "cell_type": "markdown",
      "metadata": {
        "id": "LZLpj0vjPsNx"
      },
      "source": [
        "# Fazer mosaico por mes"
      ]
    },
    {
      "cell_type": "code",
      "execution_count": null,
      "metadata": {
        "colab": {
          "base_uri": "https://localhost:8080/",
          "height": 35
        },
        "id": "mCgFDdw7PsNx",
        "outputId": "3b1613ef-83fd-496a-afac-009882085c12"
      },
      "outputs": [
        {
          "output_type": "display_data",
          "data": {
            "text/plain": [
              "<IPython.core.display.HTML object>"
            ],
            "text/html": [
              "\n",
              "            <style>\n",
              "                .geemap-dark {\n",
              "                    --jp-widgets-color: white;\n",
              "                    --jp-widgets-label-color: white;\n",
              "                    --jp-ui-font-color1: white;\n",
              "                    --jp-layout-color2: #454545;\n",
              "                    background-color: #383838;\n",
              "                }\n",
              "\n",
              "                .geemap-dark .jupyter-button {\n",
              "                    --jp-layout-color3: #383838;\n",
              "                }\n",
              "\n",
              "                .geemap-colab {\n",
              "                    background-color: var(--colab-primary-surface-color, white);\n",
              "                }\n",
              "\n",
              "                .geemap-colab .jupyter-button {\n",
              "                    --jp-layout-color3: var(--colab-primary-surface-color, white);\n",
              "                }\n",
              "            </style>\n",
              "            "
            ]
          },
          "metadata": {}
        },
        {
          "output_type": "display_data",
          "data": {
            "text/plain": [
              "[1, 4, 7, 10]"
            ]
          },
          "metadata": {}
        }
      ],
      "source": [
        "years = ee.List.sequence(2000,2024);\n",
        "months = ee.List.sequence(1,12,3);\n",
        "display(months.getInfo())"
      ]
    },
    {
      "cell_type": "code",
      "execution_count": null,
      "metadata": {
        "colab": {
          "base_uri": "https://localhost:8080/",
          "height": 35
        },
        "id": "RNGX4wz8PsNx",
        "outputId": "b03b8a0d-63e6-4cf8-8f3f-7112059bb893"
      },
      "outputs": [
        {
          "output_type": "display_data",
          "data": {
            "text/plain": [
              "<IPython.core.display.HTML object>"
            ],
            "text/html": [
              "\n",
              "            <style>\n",
              "                .geemap-dark {\n",
              "                    --jp-widgets-color: white;\n",
              "                    --jp-widgets-label-color: white;\n",
              "                    --jp-ui-font-color1: white;\n",
              "                    --jp-layout-color2: #454545;\n",
              "                    background-color: #383838;\n",
              "                }\n",
              "\n",
              "                .geemap-dark .jupyter-button {\n",
              "                    --jp-layout-color3: #383838;\n",
              "                }\n",
              "\n",
              "                .geemap-colab {\n",
              "                    background-color: var(--colab-primary-surface-color, white);\n",
              "                }\n",
              "\n",
              "                .geemap-colab .jupyter-button {\n",
              "                    --jp-layout-color3: var(--colab-primary-surface-color, white);\n",
              "                }\n",
              "            </style>\n",
              "            "
            ]
          },
          "metadata": {}
        },
        {
          "output_type": "display_data",
          "data": {
            "text/plain": [
              "100"
            ]
          },
          "metadata": {}
        }
      ],
      "source": [
        "monthly_mosaics =  ee.ImageCollection.fromImages(\n",
        "    years.map(lambda y: months.map(lambda m: merge_col.filter(ee.Filter.calendarRange(y, y, 'year'))\n",
        "    .filter(ee.Filter.calendarRange(m, ee.Number(m).add(2), 'month')).median()\n",
        "    .set('year', y).set('month_init', m).set('month_end', ee.Number(m).add(2)).set('system:time_start', ee.Date.fromYMD(y, m, 1)).set('timestamp', ee.Date.fromYMD(y, m, 1).format('yyyy-MM-dd'))\n",
        "    )).flatten());\n",
        "display(monthly_mosaics.size().getInfo())"
      ]
    },
    {
      "cell_type": "code",
      "execution_count": null,
      "metadata": {
        "colab": {
          "base_uri": "https://localhost:8080/",
          "height": 1000
        },
        "id": "-wuL-oDZPsNx",
        "outputId": "77eaa110-7e77-4d7d-8314-420e42e821ba"
      },
      "outputs": [
        {
          "output_type": "display_data",
          "data": {
            "text/plain": [
              "<IPython.core.display.HTML object>"
            ],
            "text/html": [
              "\n",
              "            <style>\n",
              "                .geemap-dark {\n",
              "                    --jp-widgets-color: white;\n",
              "                    --jp-widgets-label-color: white;\n",
              "                    --jp-ui-font-color1: white;\n",
              "                    --jp-layout-color2: #454545;\n",
              "                    background-color: #383838;\n",
              "                }\n",
              "\n",
              "                .geemap-dark .jupyter-button {\n",
              "                    --jp-layout-color3: #383838;\n",
              "                }\n",
              "\n",
              "                .geemap-colab {\n",
              "                    background-color: var(--colab-primary-surface-color, white);\n",
              "                }\n",
              "\n",
              "                .geemap-colab .jupyter-button {\n",
              "                    --jp-layout-color3: var(--colab-primary-surface-color, white);\n",
              "                }\n",
              "            </style>\n",
              "            "
            ]
          },
          "metadata": {}
        },
        {
          "output_type": "display_data",
          "data": {
            "text/plain": [
              "100"
            ]
          },
          "metadata": {}
        },
        {
          "output_type": "display_data",
          "data": {
            "text/plain": [
              "{'type': 'ImageCollection',\n",
              " 'bands': [],\n",
              " 'features': [{'type': 'Image',\n",
              "   'bands': [{'id': 'blue_mean',\n",
              "     'data_type': {'type': 'PixelType', 'precision': 'double'},\n",
              "     'crs': 'EPSG:4326',\n",
              "     'crs_transform': [1, 0, 0, 0, 1, 0]},\n",
              "    {'id': 'green_mean',\n",
              "     'data_type': {'type': 'PixelType', 'precision': 'double'},\n",
              "     'crs': 'EPSG:4326',\n",
              "     'crs_transform': [1, 0, 0, 0, 1, 0]},\n",
              "    {'id': 'red_mean',\n",
              "     'data_type': {'type': 'PixelType', 'precision': 'double'},\n",
              "     'crs': 'EPSG:4326',\n",
              "     'crs_transform': [1, 0, 0, 0, 1, 0]},\n",
              "    {'id': 'nir_mean',\n",
              "     'data_type': {'type': 'PixelType', 'precision': 'double'},\n",
              "     'crs': 'EPSG:4326',\n",
              "     'crs_transform': [1, 0, 0, 0, 1, 0]},\n",
              "    {'id': 'swir1',\n",
              "     'data_type': {'type': 'PixelType', 'precision': 'double'},\n",
              "     'crs': 'EPSG:4326',\n",
              "     'crs_transform': [1, 0, 0, 0, 1, 0]},\n",
              "    {'id': 'swir2',\n",
              "     'data_type': {'type': 'PixelType', 'precision': 'double'},\n",
              "     'crs': 'EPSG:4326',\n",
              "     'crs_transform': [1, 0, 0, 0, 1, 0]}],\n",
              "   'properties': {'band_count': 6,\n",
              "    'system:index': '0',\n",
              "    'system:time_start': {'type': 'Date', 'value': 946684800000},\n",
              "    'year': 2000,\n",
              "    'month_init': 1,\n",
              "    'month_end': 3,\n",
              "    'timestamp': '2000-01-01'}},\n",
              "  {'type': 'Image',\n",
              "   'bands': [{'id': 'blue_mean',\n",
              "     'data_type': {'type': 'PixelType', 'precision': 'double'},\n",
              "     'crs': 'EPSG:4326',\n",
              "     'crs_transform': [1, 0, 0, 0, 1, 0]},\n",
              "    {'id': 'green_mean',\n",
              "     'data_type': {'type': 'PixelType', 'precision': 'double'},\n",
              "     'crs': 'EPSG:4326',\n",
              "     'crs_transform': [1, 0, 0, 0, 1, 0]},\n",
              "    {'id': 'red_mean',\n",
              "     'data_type': {'type': 'PixelType', 'precision': 'double'},\n",
              "     'crs': 'EPSG:4326',\n",
              "     'crs_transform': [1, 0, 0, 0, 1, 0]},\n",
              "    {'id': 'nir_mean',\n",
              "     'data_type': {'type': 'PixelType', 'precision': 'double'},\n",
              "     'crs': 'EPSG:4326',\n",
              "     'crs_transform': [1, 0, 0, 0, 1, 0]},\n",
              "    {'id': 'swir1',\n",
              "     'data_type': {'type': 'PixelType', 'precision': 'double'},\n",
              "     'crs': 'EPSG:4326',\n",
              "     'crs_transform': [1, 0, 0, 0, 1, 0]},\n",
              "    {'id': 'swir2',\n",
              "     'data_type': {'type': 'PixelType', 'precision': 'double'},\n",
              "     'crs': 'EPSG:4326',\n",
              "     'crs_transform': [1, 0, 0, 0, 1, 0]}],\n",
              "   'properties': {'band_count': 6,\n",
              "    'system:index': '1',\n",
              "    'system:time_start': {'type': 'Date', 'value': 954547200000},\n",
              "    'year': 2000,\n",
              "    'month_init': 4,\n",
              "    'month_end': 6,\n",
              "    'timestamp': '2000-04-01'}}]}"
            ]
          },
          "metadata": {}
        }
      ],
      "source": [
        "monthly_mosaic = monthly_mosaics.map(lambda img: img.set('band_count',img.bandNames().length())).filter(ee.Filter.gt('band_count',0))\n",
        "display(monthly_mosaic.size().getInfo())\n",
        "display(monthly_mosaic.limit(2).getInfo())"
      ]
    },
    {
      "cell_type": "markdown",
      "metadata": {
        "id": "GHrjQO0ZPsNx"
      },
      "source": [
        "# Mask land"
      ]
    },
    {
      "cell_type": "code",
      "execution_count": null,
      "metadata": {
        "colab": {
          "base_uri": "https://localhost:8080/",
          "height": 17
        },
        "id": "d5ievHBxPsNx",
        "outputId": "4881bea3-e9eb-487b-9d01-0f8c233bcb6b"
      },
      "outputs": [
        {
          "output_type": "display_data",
          "data": {
            "text/plain": [
              "<IPython.core.display.HTML object>"
            ],
            "text/html": [
              "\n",
              "            <style>\n",
              "                .geemap-dark {\n",
              "                    --jp-widgets-color: white;\n",
              "                    --jp-widgets-label-color: white;\n",
              "                    --jp-ui-font-color1: white;\n",
              "                    --jp-layout-color2: #454545;\n",
              "                    background-color: #383838;\n",
              "                }\n",
              "\n",
              "                .geemap-dark .jupyter-button {\n",
              "                    --jp-layout-color3: #383838;\n",
              "                }\n",
              "\n",
              "                .geemap-colab {\n",
              "                    background-color: var(--colab-primary-surface-color, white);\n",
              "                }\n",
              "\n",
              "                .geemap-colab .jupyter-button {\n",
              "                    --jp-layout-color3: var(--colab-primary-surface-color, white);\n",
              "                }\n",
              "            </style>\n",
              "            "
            ]
          },
          "metadata": {}
        }
      ],
      "source": [
        "def hsvComposite (image):\n",
        "    composite = image.select(['blue_mean','green_mean','red_mean']).rgbToHsv()#.clip(limits);\n",
        "    hue = composite.select(\"hue\");\n",
        "    max_mask = hue.lte(0.9)\n",
        "    min_mask = hue.gte(0.3)\n",
        "    return image.updateMask(max_mask).updateMask(min_mask).select(['blue_mean','green_mean','red_mean','nir_mean']);"
      ]
    },
    {
      "cell_type": "markdown",
      "metadata": {
        "id": "GYWH6diCPsNy"
      },
      "source": [
        "# calculate area"
      ]
    },
    {
      "cell_type": "code",
      "execution_count": null,
      "metadata": {
        "colab": {
          "base_uri": "https://localhost:8080/",
          "height": 17
        },
        "id": "s5ZkM_IhPsNy",
        "outputId": "058ec611-b0e3-4249-b1d9-202450b75ca6"
      },
      "outputs": [
        {
          "output_type": "display_data",
          "data": {
            "text/plain": [
              "<IPython.core.display.HTML object>"
            ],
            "text/html": [
              "\n",
              "            <style>\n",
              "                .geemap-dark {\n",
              "                    --jp-widgets-color: white;\n",
              "                    --jp-widgets-label-color: white;\n",
              "                    --jp-ui-font-color1: white;\n",
              "                    --jp-layout-color2: #454545;\n",
              "                    background-color: #383838;\n",
              "                }\n",
              "\n",
              "                .geemap-dark .jupyter-button {\n",
              "                    --jp-layout-color3: #383838;\n",
              "                }\n",
              "\n",
              "                .geemap-colab {\n",
              "                    background-color: var(--colab-primary-surface-color, white);\n",
              "                }\n",
              "\n",
              "                .geemap-colab .jupyter-button {\n",
              "                    --jp-layout-color3: var(--colab-primary-surface-color, white);\n",
              "                }\n",
              "            </style>\n",
              "            "
            ]
          },
          "metadata": {}
        }
      ],
      "source": [
        "def area_calc(img):\n",
        "  '''receives an image of curuai and returns water surface area in km2 within the floodplain limits\n",
        "  as a property of the input image'''\n",
        "\n",
        "  # Get a pixel area image.\n",
        "  pixel_area = ee.Image.pixelArea()\n",
        "\n",
        "  floodplain = ee.FeatureCollection('projects/ee-curuai2/assets/varzea_alagavel')\n",
        "  image = hsvComposite(img)\n",
        "  img_mask = image.gt(0)\n",
        "\n",
        "  areaImage = img_mask.multiply(pixel_area)\n",
        "\n",
        "  area = areaImage.reduceRegion(**{\n",
        "    'reducer': ee.Reducer.sum(),\n",
        "    'geometry': floodplain.geometry(),\n",
        "    'scale': 30,\n",
        "    'maxPixels': 1e10\n",
        "    })\n",
        "  return image.set('area_km2',ee.Number(area.get('red_mean')).divide(1e6))\n"
      ]
    },
    {
      "cell_type": "code",
      "execution_count": null,
      "metadata": {
        "colab": {
          "base_uri": "https://localhost:8080/",
          "height": 473
        },
        "id": "VeItZbNcPsNy",
        "outputId": "782c1aa5-fecc-4364-fd35-9073eaa694e6"
      },
      "outputs": [
        {
          "output_type": "display_data",
          "data": {
            "text/plain": [
              "<IPython.core.display.HTML object>"
            ],
            "text/html": [
              "\n",
              "            <style>\n",
              "                .geemap-dark {\n",
              "                    --jp-widgets-color: white;\n",
              "                    --jp-widgets-label-color: white;\n",
              "                    --jp-ui-font-color1: white;\n",
              "                    --jp-layout-color2: #454545;\n",
              "                    background-color: #383838;\n",
              "                }\n",
              "\n",
              "                .geemap-dark .jupyter-button {\n",
              "                    --jp-layout-color3: #383838;\n",
              "                }\n",
              "\n",
              "                .geemap-colab {\n",
              "                    background-color: var(--colab-primary-surface-color, white);\n",
              "                }\n",
              "\n",
              "                .geemap-colab .jupyter-button {\n",
              "                    --jp-layout-color3: var(--colab-primary-surface-color, white);\n",
              "                }\n",
              "            </style>\n",
              "            "
            ]
          },
          "metadata": {}
        },
        {
          "output_type": "display_data",
          "data": {
            "text/plain": [
              "{'type': 'Image',\n",
              " 'bands': [{'id': 'blue_mean',\n",
              "   'data_type': {'type': 'PixelType', 'precision': 'double'},\n",
              "   'crs': 'EPSG:4326',\n",
              "   'crs_transform': [1, 0, 0, 0, 1, 0]},\n",
              "  {'id': 'green_mean',\n",
              "   'data_type': {'type': 'PixelType', 'precision': 'double'},\n",
              "   'crs': 'EPSG:4326',\n",
              "   'crs_transform': [1, 0, 0, 0, 1, 0]},\n",
              "  {'id': 'red_mean',\n",
              "   'data_type': {'type': 'PixelType', 'precision': 'double'},\n",
              "   'crs': 'EPSG:4326',\n",
              "   'crs_transform': [1, 0, 0, 0, 1, 0]},\n",
              "  {'id': 'nir_mean',\n",
              "   'data_type': {'type': 'PixelType', 'precision': 'double'},\n",
              "   'crs': 'EPSG:4326',\n",
              "   'crs_transform': [1, 0, 0, 0, 1, 0]}],\n",
              " 'properties': {'band_count': 6,\n",
              "  'area_km2': 989.0847583660595,\n",
              "  'system:index': '0',\n",
              "  'system:time_start': {'type': 'Date', 'value': 946684800000},\n",
              "  'year': 2000,\n",
              "  'month_init': 1,\n",
              "  'month_end': 3,\n",
              "  'timestamp': '2000-01-01'}}"
            ]
          },
          "metadata": {}
        }
      ],
      "source": [
        "monthly_area = monthly_mosaic.map(hsvComposite).map(area_calc)\n",
        "\n",
        "display(monthly_area.first().getInfo())"
      ]
    },
    {
      "cell_type": "markdown",
      "metadata": {
        "id": "YWN7rgHhPsNy"
      },
      "source": [
        "# Import Model and Classify Images"
      ]
    },
    {
      "cell_type": "code",
      "execution_count": null,
      "metadata": {
        "colab": {
          "base_uri": "https://localhost:8080/",
          "height": 35
        },
        "id": "jqxRupUkPsNy",
        "outputId": "9c5129a7-c990-481a-c00d-36fad22a0f9e"
      },
      "outputs": [
        {
          "output_type": "display_data",
          "data": {
            "text/plain": [
              "<IPython.core.display.HTML object>"
            ],
            "text/html": [
              "\n",
              "            <style>\n",
              "                .geemap-dark {\n",
              "                    --jp-widgets-color: white;\n",
              "                    --jp-widgets-label-color: white;\n",
              "                    --jp-ui-font-color1: white;\n",
              "                    --jp-layout-color2: #454545;\n",
              "                    background-color: #383838;\n",
              "                }\n",
              "\n",
              "                .geemap-dark .jupyter-button {\n",
              "                    --jp-layout-color3: #383838;\n",
              "                }\n",
              "\n",
              "                .geemap-colab {\n",
              "                    background-color: var(--colab-primary-surface-color, white);\n",
              "                }\n",
              "\n",
              "                .geemap-colab .jupyter-button {\n",
              "                    --jp-layout-color3: var(--colab-primary-surface-color, white);\n",
              "                }\n",
              "            </style>\n",
              "            "
            ]
          },
          "metadata": {}
        },
        {
          "output_type": "stream",
          "name": "stdout",
          "text": [
            "{'type': 'Classifier.load', 'id': 'projects/ee-curuai2/assets/RF_GEE_regressor'}\n"
          ]
        }
      ],
      "source": [
        "classifier = ee.Classifier.load('projects/ee-curuai2/assets/RF_GEE_regressor')\n",
        "print(classifier.getInfo())"
      ]
    },
    {
      "cell_type": "code",
      "execution_count": null,
      "metadata": {
        "colab": {
          "base_uri": "https://localhost:8080/",
          "height": 35
        },
        "id": "fMy30qJ1PsNy",
        "outputId": "7545a222-3554-45b5-d0c0-a140ea8f07d7"
      },
      "outputs": [
        {
          "output_type": "display_data",
          "data": {
            "text/plain": [
              "<IPython.core.display.HTML object>"
            ],
            "text/html": [
              "\n",
              "            <style>\n",
              "                .geemap-dark {\n",
              "                    --jp-widgets-color: white;\n",
              "                    --jp-widgets-label-color: white;\n",
              "                    --jp-ui-font-color1: white;\n",
              "                    --jp-layout-color2: #454545;\n",
              "                    background-color: #383838;\n",
              "                }\n",
              "\n",
              "                .geemap-dark .jupyter-button {\n",
              "                    --jp-layout-color3: #383838;\n",
              "                }\n",
              "\n",
              "                .geemap-colab {\n",
              "                    background-color: var(--colab-primary-surface-color, white);\n",
              "                }\n",
              "\n",
              "                .geemap-colab .jupyter-button {\n",
              "                    --jp-layout-color3: var(--colab-primary-surface-color, white);\n",
              "                }\n",
              "            </style>\n",
              "            "
            ]
          },
          "metadata": {}
        },
        {
          "output_type": "display_data",
          "data": {
            "text/plain": [
              "100"
            ]
          },
          "metadata": {}
        }
      ],
      "source": [
        "predictors = ['blue_mean', 'green_mean','red_mean', 'nir_mean']\n",
        "spm_classified = monthly_area.select(predictors).map(lambda img: img.addBands(img.classify(classifier=classifier)))\n",
        "display(spm_classified.size().getInfo())"
      ]
    },
    {
      "cell_type": "code",
      "source": [
        "display(spm_classified.first().getInfo())"
      ],
      "metadata": {
        "colab": {
          "base_uri": "https://localhost:8080/",
          "height": 546
        },
        "id": "gl8IQfMfjVv2",
        "outputId": "6b203dba-fa50-4ca3-972b-28b0d2b47b30"
      },
      "execution_count": null,
      "outputs": [
        {
          "output_type": "display_data",
          "data": {
            "text/plain": [
              "<IPython.core.display.HTML object>"
            ],
            "text/html": [
              "\n",
              "            <style>\n",
              "                .geemap-dark {\n",
              "                    --jp-widgets-color: white;\n",
              "                    --jp-widgets-label-color: white;\n",
              "                    --jp-ui-font-color1: white;\n",
              "                    --jp-layout-color2: #454545;\n",
              "                    background-color: #383838;\n",
              "                }\n",
              "\n",
              "                .geemap-dark .jupyter-button {\n",
              "                    --jp-layout-color3: #383838;\n",
              "                }\n",
              "\n",
              "                .geemap-colab {\n",
              "                    background-color: var(--colab-primary-surface-color, white);\n",
              "                }\n",
              "\n",
              "                .geemap-colab .jupyter-button {\n",
              "                    --jp-layout-color3: var(--colab-primary-surface-color, white);\n",
              "                }\n",
              "            </style>\n",
              "            "
            ]
          },
          "metadata": {}
        },
        {
          "output_type": "display_data",
          "data": {
            "text/plain": [
              "{'type': 'Image',\n",
              " 'bands': [{'id': 'blue_mean',\n",
              "   'data_type': {'type': 'PixelType', 'precision': 'double'},\n",
              "   'crs': 'EPSG:4326',\n",
              "   'crs_transform': [1, 0, 0, 0, 1, 0]},\n",
              "  {'id': 'green_mean',\n",
              "   'data_type': {'type': 'PixelType', 'precision': 'double'},\n",
              "   'crs': 'EPSG:4326',\n",
              "   'crs_transform': [1, 0, 0, 0, 1, 0]},\n",
              "  {'id': 'red_mean',\n",
              "   'data_type': {'type': 'PixelType', 'precision': 'double'},\n",
              "   'crs': 'EPSG:4326',\n",
              "   'crs_transform': [1, 0, 0, 0, 1, 0]},\n",
              "  {'id': 'nir_mean',\n",
              "   'data_type': {'type': 'PixelType', 'precision': 'double'},\n",
              "   'crs': 'EPSG:4326',\n",
              "   'crs_transform': [1, 0, 0, 0, 1, 0]},\n",
              "  {'id': 'classification',\n",
              "   'data_type': {'type': 'PixelType', 'precision': 'float'},\n",
              "   'crs': 'EPSG:4326',\n",
              "   'crs_transform': [1, 0, 0, 0, 1, 0]}],\n",
              " 'properties': {'band_count': 6,\n",
              "  'area_km2': 989.0847583660595,\n",
              "  'system:index': '0',\n",
              "  'system:time_start': {'type': 'Date', 'value': 946684800000},\n",
              "  'year': 2000,\n",
              "  'month_init': 1,\n",
              "  'month_end': 3,\n",
              "  'timestamp': '2000-01-01'}}"
            ]
          },
          "metadata": {}
        }
      ]
    },
    {
      "cell_type": "markdown",
      "metadata": {
        "id": "ZW_POia2PsNy"
      },
      "source": [
        "# Export as Asset: Image Collection"
      ]
    },
    {
      "cell_type": "code",
      "execution_count": null,
      "metadata": {
        "colab": {
          "base_uri": "https://localhost:8080/",
          "height": 17
        },
        "id": "T_P9DCVpPsNy",
        "outputId": "009f79b9-ecaf-4631-86fd-c3eb8b568596"
      },
      "outputs": [
        {
          "output_type": "display_data",
          "data": {
            "text/plain": [
              "<IPython.core.display.HTML object>"
            ],
            "text/html": [
              "\n",
              "            <style>\n",
              "                .geemap-dark {\n",
              "                    --jp-widgets-color: white;\n",
              "                    --jp-widgets-label-color: white;\n",
              "                    --jp-ui-font-color1: white;\n",
              "                    --jp-layout-color2: #454545;\n",
              "                    background-color: #383838;\n",
              "                }\n",
              "\n",
              "                .geemap-dark .jupyter-button {\n",
              "                    --jp-layout-color3: #383838;\n",
              "                }\n",
              "\n",
              "                .geemap-colab {\n",
              "                    background-color: var(--colab-primary-surface-color, white);\n",
              "                }\n",
              "\n",
              "                .geemap-colab .jupyter-button {\n",
              "                    --jp-layout-color3: var(--colab-primary-surface-color, white);\n",
              "                }\n",
              "            </style>\n",
              "            "
            ]
          },
          "metadata": {}
        }
      ],
      "source": [
        "prj = landsat8.first().select('B4').projection().getInfo()\n",
        "scale = landsat8.first().select('B4').projection().nominalScale().getInfo()"
      ]
    },
    {
      "cell_type": "code",
      "execution_count": null,
      "metadata": {
        "colab": {
          "base_uri": "https://localhost:8080/",
          "height": 17
        },
        "id": "RU3uD7gMPsNy",
        "outputId": "c1cef2b5-1b09-43c0-bb47-a24d9e3482f4"
      },
      "outputs": [
        {
          "output_type": "display_data",
          "data": {
            "text/plain": [
              "<IPython.core.display.HTML object>"
            ],
            "text/html": [
              "\n",
              "            <style>\n",
              "                .geemap-dark {\n",
              "                    --jp-widgets-color: white;\n",
              "                    --jp-widgets-label-color: white;\n",
              "                    --jp-ui-font-color1: white;\n",
              "                    --jp-layout-color2: #454545;\n",
              "                    background-color: #383838;\n",
              "                }\n",
              "\n",
              "                .geemap-dark .jupyter-button {\n",
              "                    --jp-layout-color3: #383838;\n",
              "                }\n",
              "\n",
              "                .geemap-colab {\n",
              "                    background-color: var(--colab-primary-surface-color, white);\n",
              "                }\n",
              "\n",
              "                .geemap-colab .jupyter-button {\n",
              "                    --jp-layout-color3: var(--colab-primary-surface-color, white);\n",
              "                }\n",
              "            </style>\n",
              "            "
            ]
          },
          "metadata": {}
        }
      ],
      "source": [
        "def export_img(img):\n",
        "      # define YOUR assetID\n",
        "    # export\n",
        "\n",
        "    fname = ee.String(img.get('timestamp')).getInfo()\n",
        "    export = ee.batch.Export.image.toAsset(\\\n",
        "        image=ee.Image(img),\n",
        "        description= 'ld_mosaic_'+fname,\n",
        "        assetId = 'projects/ee-curuai2/assets/landsat_water_period/water_period/mosaic_'+fname,#change the properties to add in images here\n",
        "        region = ee.FeatureCollection(ee.List([ee.Feature(ee.FeatureCollection('projects/ee-curuai2/assets/lim_varzea').geometry().buffer(30)),ee.Feature(ee.FeatureCollection('projects/ee-curuai2/assets/points_curuai').geometry().bounds().buffer(30))])).geometry().bounds(),\n",
        "        crs = prj['crs'],\n",
        "        scale = scale,\n",
        "        maxPixels = 1e13)\n",
        "\n",
        "    # # uncomment to run the export\n",
        "    export.start()\n",
        "    print('exporting ' +fname + '--->done')\n",
        "    return img"
      ]
    },
    {
      "cell_type": "code",
      "source": [
        "col_length = spm_classified.size().getInfo()\n",
        "#print(col_length)\n",
        "# cannot map the function because we run things in the function in bothe client and server sides so we need to make a loop\n",
        "# for very big time series It is recomendable to break the series and export data in parts\n",
        "# not only because of the loop but also because of how exporting to assets works in google earth engine\n",
        "# and you can run into problems if too much information is exported at the same time\n",
        "for i in range(0,col_length):\n",
        "    #print(i)\n",
        "    list = spm_classified.toList(col_length)\n",
        "    img = ee.Image(list.get(i))\n",
        "    export_img(img)"
      ],
      "metadata": {
        "collapsed": true,
        "colab": {
          "base_uri": "https://localhost:8080/",
          "height": 1000
        },
        "id": "aqw2MP70kqF5",
        "outputId": "f90ece1d-216c-47ee-df94-583dbe2bd33d"
      },
      "execution_count": null,
      "outputs": [
        {
          "output_type": "display_data",
          "data": {
            "text/plain": [
              "<IPython.core.display.HTML object>"
            ],
            "text/html": [
              "\n",
              "            <style>\n",
              "                .geemap-dark {\n",
              "                    --jp-widgets-color: white;\n",
              "                    --jp-widgets-label-color: white;\n",
              "                    --jp-ui-font-color1: white;\n",
              "                    --jp-layout-color2: #454545;\n",
              "                    background-color: #383838;\n",
              "                }\n",
              "\n",
              "                .geemap-dark .jupyter-button {\n",
              "                    --jp-layout-color3: #383838;\n",
              "                }\n",
              "\n",
              "                .geemap-colab {\n",
              "                    background-color: var(--colab-primary-surface-color, white);\n",
              "                }\n",
              "\n",
              "                .geemap-colab .jupyter-button {\n",
              "                    --jp-layout-color3: var(--colab-primary-surface-color, white);\n",
              "                }\n",
              "            </style>\n",
              "            "
            ]
          },
          "metadata": {}
        },
        {
          "output_type": "stream",
          "name": "stdout",
          "text": [
            "exporting 2000-01-01--->done\n",
            "exporting 2000-04-01--->done\n",
            "exporting 2000-07-01--->done\n",
            "exporting 2000-10-01--->done\n",
            "exporting 2001-01-01--->done\n",
            "exporting 2001-04-01--->done\n",
            "exporting 2001-07-01--->done\n",
            "exporting 2001-10-01--->done\n",
            "exporting 2002-01-01--->done\n",
            "exporting 2002-04-01--->done\n",
            "exporting 2002-07-01--->done\n",
            "exporting 2002-10-01--->done\n",
            "exporting 2003-01-01--->done\n",
            "exporting 2003-04-01--->done\n",
            "exporting 2003-07-01--->done\n",
            "exporting 2003-10-01--->done\n",
            "exporting 2004-01-01--->done\n",
            "exporting 2004-04-01--->done\n",
            "exporting 2004-07-01--->done\n",
            "exporting 2004-10-01--->done\n",
            "exporting 2005-01-01--->done\n",
            "exporting 2005-04-01--->done\n",
            "exporting 2005-07-01--->done\n",
            "exporting 2005-10-01--->done\n",
            "exporting 2006-01-01--->done\n",
            "exporting 2006-04-01--->done\n",
            "exporting 2006-07-01--->done\n",
            "exporting 2006-10-01--->done\n",
            "exporting 2007-01-01--->done\n",
            "exporting 2007-04-01--->done\n",
            "exporting 2007-07-01--->done\n",
            "exporting 2007-10-01--->done\n",
            "exporting 2008-01-01--->done\n",
            "exporting 2008-04-01--->done\n",
            "exporting 2008-07-01--->done\n",
            "exporting 2008-10-01--->done\n",
            "exporting 2009-01-01--->done\n",
            "exporting 2009-04-01--->done\n",
            "exporting 2009-07-01--->done\n",
            "exporting 2009-10-01--->done\n",
            "exporting 2010-01-01--->done\n",
            "exporting 2010-04-01--->done\n",
            "exporting 2010-07-01--->done\n",
            "exporting 2010-10-01--->done\n",
            "exporting 2011-01-01--->done\n",
            "exporting 2011-04-01--->done\n",
            "exporting 2011-07-01--->done\n",
            "exporting 2011-10-01--->done\n",
            "exporting 2012-01-01--->done\n",
            "exporting 2012-04-01--->done\n",
            "exporting 2012-07-01--->done\n",
            "exporting 2012-10-01--->done\n",
            "exporting 2013-01-01--->done\n",
            "exporting 2013-04-01--->done\n",
            "exporting 2013-07-01--->done\n",
            "exporting 2013-10-01--->done\n",
            "exporting 2014-01-01--->done\n",
            "exporting 2014-04-01--->done\n",
            "exporting 2014-07-01--->done\n",
            "exporting 2014-10-01--->done\n",
            "exporting 2015-01-01--->done\n",
            "exporting 2015-04-01--->done\n",
            "exporting 2015-07-01--->done\n",
            "exporting 2015-10-01--->done\n",
            "exporting 2016-01-01--->done\n",
            "exporting 2016-04-01--->done\n",
            "exporting 2016-07-01--->done\n",
            "exporting 2016-10-01--->done\n",
            "exporting 2017-01-01--->done\n",
            "exporting 2017-04-01--->done\n",
            "exporting 2017-07-01--->done\n",
            "exporting 2017-10-01--->done\n",
            "exporting 2018-01-01--->done\n",
            "exporting 2018-04-01--->done\n",
            "exporting 2018-07-01--->done\n",
            "exporting 2018-10-01--->done\n",
            "exporting 2019-01-01--->done\n",
            "exporting 2019-04-01--->done\n",
            "exporting 2019-07-01--->done\n",
            "exporting 2019-10-01--->done\n",
            "exporting 2020-01-01--->done\n",
            "exporting 2020-04-01--->done\n",
            "exporting 2020-07-01--->done\n",
            "exporting 2020-10-01--->done\n",
            "exporting 2021-01-01--->done\n",
            "exporting 2021-04-01--->done\n",
            "exporting 2021-07-01--->done\n",
            "exporting 2021-10-01--->done\n",
            "exporting 2022-01-01--->done\n",
            "exporting 2022-04-01--->done\n",
            "exporting 2022-07-01--->done\n",
            "exporting 2022-10-01--->done\n",
            "exporting 2023-01-01--->done\n",
            "exporting 2023-04-01--->done\n",
            "exporting 2023-07-01--->done\n",
            "exporting 2023-10-01--->done\n",
            "exporting 2024-01-01--->done\n",
            "exporting 2024-04-01--->done\n",
            "exporting 2024-07-01--->done\n",
            "exporting 2024-10-01--->done\n"
          ]
        }
      ]
    },
    {
      "cell_type": "markdown",
      "source": [
        "# Visualize gif"
      ],
      "metadata": {
        "id": "aStmHpZIl-AM"
      }
    },
    {
      "cell_type": "code",
      "source": [
        "# Define arguments for animation function parameters.\n",
        "video_args = {\n",
        "    \"dimensions\": 768,\n",
        "    \"region\": ee.FeatureCollection(ee.List([ee.Feature(ee.FeatureCollection('projects/ee-curuai2/assets/lim_varzea').geometry().buffer(30)),ee.Feature(ee.FeatureCollection('projects/ee-curuai2/assets/points_curuai').geometry().bounds().buffer(30))])).geometry().bounds(),\n",
        "    \"framesPerSecond\": 5,\n",
        "    \"bands\": [\"classification\"],\n",
        "    \"min\": 1,\n",
        "    \"max\": 350,\n",
        "    \"palette\": ['blue','green', 'yellow', 'orange','red'],\n",
        "}"
      ],
      "metadata": {
        "colab": {
          "base_uri": "https://localhost:8080/",
          "height": 17
        },
        "id": "xHqcw6wKmDr4",
        "outputId": "44b5d14a-b3ba-413f-908e-8b5105b025ab"
      },
      "execution_count": null,
      "outputs": [
        {
          "output_type": "display_data",
          "data": {
            "text/plain": [
              "<IPython.core.display.HTML object>"
            ],
            "text/html": [
              "\n",
              "            <style>\n",
              "                .geemap-dark {\n",
              "                    --jp-widgets-color: white;\n",
              "                    --jp-widgets-label-color: white;\n",
              "                    --jp-ui-font-color1: white;\n",
              "                    --jp-layout-color2: #454545;\n",
              "                    background-color: #383838;\n",
              "                }\n",
              "\n",
              "                .geemap-dark .jupyter-button {\n",
              "                    --jp-layout-color3: #383838;\n",
              "                }\n",
              "\n",
              "                .geemap-colab {\n",
              "                    background-color: var(--colab-primary-surface-color, white);\n",
              "                }\n",
              "\n",
              "                .geemap-colab .jupyter-button {\n",
              "                    --jp-layout-color3: var(--colab-primary-surface-color, white);\n",
              "                }\n",
              "            </style>\n",
              "            "
            ]
          },
          "metadata": {}
        }
      ]
    },
    {
      "cell_type": "code",
      "source": [
        "geemap.download_ee_video(spm_classified, video_args, '/content/classification_SPM.gif')"
      ],
      "metadata": {
        "colab": {
          "base_uri": "https://localhost:8080/",
          "height": 53
        },
        "id": "lJVzdWC0nErw",
        "outputId": "322fdfb8-9de3-47b0-cd39-188a77898ff8"
      },
      "execution_count": null,
      "outputs": [
        {
          "output_type": "display_data",
          "data": {
            "text/plain": [
              "<IPython.core.display.HTML object>"
            ],
            "text/html": [
              "\n",
              "            <style>\n",
              "                .geemap-dark {\n",
              "                    --jp-widgets-color: white;\n",
              "                    --jp-widgets-label-color: white;\n",
              "                    --jp-ui-font-color1: white;\n",
              "                    --jp-layout-color2: #454545;\n",
              "                    background-color: #383838;\n",
              "                }\n",
              "\n",
              "                .geemap-dark .jupyter-button {\n",
              "                    --jp-layout-color3: #383838;\n",
              "                }\n",
              "\n",
              "                .geemap-colab {\n",
              "                    background-color: var(--colab-primary-surface-color, white);\n",
              "                }\n",
              "\n",
              "                .geemap-colab .jupyter-button {\n",
              "                    --jp-layout-color3: var(--colab-primary-surface-color, white);\n",
              "                }\n",
              "            </style>\n",
              "            "
            ]
          },
          "metadata": {}
        },
        {
          "output_type": "stream",
          "name": "stdout",
          "text": [
            "Generating URL...\n",
            "Total request size (29414400 pixels) must be less than or equal to 26214400 pixels.\n"
          ]
        }
      ]
    },
    {
      "cell_type": "code",
      "source": [
        "geemap.add_text_to_gif(\n",
        "    '/content/classification_SPM.gif',\n",
        "    '/content/classification_SPM_text.gif',\n",
        "    xy=(\"3%\", \"5%\"),\n",
        "    text_sequence=spm_classified.aggregate_array('timestamp').getInfo(),\n",
        "    font_size=30,\n",
        "    font_color=\"#ffffff\",\n",
        "    add_progress_bar=True,\n",
        ")"
      ],
      "metadata": {
        "colab": {
          "base_uri": "https://localhost:8080/",
          "height": 35
        },
        "id": "pVEXYpoBoFTx",
        "outputId": "7f453f14-f458-45ce-cac6-5fadc8f29520"
      },
      "execution_count": null,
      "outputs": [
        {
          "output_type": "display_data",
          "data": {
            "text/plain": [
              "<IPython.core.display.HTML object>"
            ],
            "text/html": [
              "\n",
              "            <style>\n",
              "                .geemap-dark {\n",
              "                    --jp-widgets-color: white;\n",
              "                    --jp-widgets-label-color: white;\n",
              "                    --jp-ui-font-color1: white;\n",
              "                    --jp-layout-color2: #454545;\n",
              "                    background-color: #383838;\n",
              "                }\n",
              "\n",
              "                .geemap-dark .jupyter-button {\n",
              "                    --jp-layout-color3: #383838;\n",
              "                }\n",
              "\n",
              "                .geemap-colab {\n",
              "                    background-color: var(--colab-primary-surface-color, white);\n",
              "                }\n",
              "\n",
              "                .geemap-colab .jupyter-button {\n",
              "                    --jp-layout-color3: var(--colab-primary-surface-color, white);\n",
              "                }\n",
              "            </style>\n",
              "            "
            ]
          },
          "metadata": {}
        },
        {
          "output_type": "stream",
          "name": "stdout",
          "text": [
            "The length of the text sequence must be equal to the number (72) of frames in the gif.\n"
          ]
        }
      ]
    },
    {
      "cell_type": "code",
      "source": [
        "# Define arguments for animation function parameters.\n",
        "video_args = {\n",
        "    \"dimensions\": 768,\n",
        "    \"region\": ee.FeatureCollection(ee.List([ee.Feature(ee.FeatureCollection('projects/ee-curuai2/assets/lim_varzea').geometry().buffer(30)),ee.Feature(ee.FeatureCollection('projects/ee-curuai2/assets/points_curuai').geometry().bounds().buffer(30))])).geometry().bounds(),\n",
        "    \"framesPerSecond\": 5,\n",
        "    \"bands\": [\"red_mean\",'green_mean','blue_mean'],\n",
        "    \"min\": 0,\n",
        "    \"max\": 0.07,\n",
        "}"
      ],
      "metadata": {
        "colab": {
          "base_uri": "https://localhost:8080/",
          "height": 17
        },
        "id": "I-9Dam1Mpvkc",
        "outputId": "a6109dd9-1c07-40ee-c7df-9383d3e422c8"
      },
      "execution_count": null,
      "outputs": [
        {
          "output_type": "display_data",
          "data": {
            "text/plain": [
              "<IPython.core.display.HTML object>"
            ],
            "text/html": [
              "\n",
              "            <style>\n",
              "                .geemap-dark {\n",
              "                    --jp-widgets-color: white;\n",
              "                    --jp-widgets-label-color: white;\n",
              "                    --jp-ui-font-color1: white;\n",
              "                    --jp-layout-color2: #454545;\n",
              "                    background-color: #383838;\n",
              "                }\n",
              "\n",
              "                .geemap-dark .jupyter-button {\n",
              "                    --jp-layout-color3: #383838;\n",
              "                }\n",
              "\n",
              "                .geemap-colab {\n",
              "                    background-color: var(--colab-primary-surface-color, white);\n",
              "                }\n",
              "\n",
              "                .geemap-colab .jupyter-button {\n",
              "                    --jp-layout-color3: var(--colab-primary-surface-color, white);\n",
              "                }\n",
              "            </style>\n",
              "            "
            ]
          },
          "metadata": {}
        }
      ]
    },
    {
      "cell_type": "code",
      "source": [
        "geemap.download_ee_video(spm_classified, video_args, '/content/water_period.gif')"
      ],
      "metadata": {
        "colab": {
          "base_uri": "https://localhost:8080/",
          "height": 53
        },
        "id": "lo8e8J0CrRfS",
        "outputId": "7579e52e-616f-4962-91e8-2613e1fb5e79"
      },
      "execution_count": null,
      "outputs": [
        {
          "output_type": "display_data",
          "data": {
            "text/plain": [
              "<IPython.core.display.HTML object>"
            ],
            "text/html": [
              "\n",
              "            <style>\n",
              "                .geemap-dark {\n",
              "                    --jp-widgets-color: white;\n",
              "                    --jp-widgets-label-color: white;\n",
              "                    --jp-ui-font-color1: white;\n",
              "                    --jp-layout-color2: #454545;\n",
              "                    background-color: #383838;\n",
              "                }\n",
              "\n",
              "                .geemap-dark .jupyter-button {\n",
              "                    --jp-layout-color3: #383838;\n",
              "                }\n",
              "\n",
              "                .geemap-colab {\n",
              "                    background-color: var(--colab-primary-surface-color, white);\n",
              "                }\n",
              "\n",
              "                .geemap-colab .jupyter-button {\n",
              "                    --jp-layout-color3: var(--colab-primary-surface-color, white);\n",
              "                }\n",
              "            </style>\n",
              "            "
            ]
          },
          "metadata": {}
        },
        {
          "output_type": "stream",
          "name": "stdout",
          "text": [
            "Generating URL...\n",
            "Total request size (29414400 pixels) must be less than or equal to 26214400 pixels.\n"
          ]
        }
      ]
    },
    {
      "cell_type": "code",
      "source": [
        "geemap.add_text_to_gif(\n",
        "    '/content/water_period.gif',\n",
        "    '/content/water_period_text.gif',\n",
        "    xy=(\"3%\", \"5%\"),\n",
        "    text_sequence=spm_classified.aggregate_array('timestamp').getInfo(),\n",
        "    font_size=30,\n",
        "    font_color=\"#ffffff\",\n",
        "    add_progress_bar=True,\n",
        ")"
      ],
      "metadata": {
        "colab": {
          "base_uri": "https://localhost:8080/",
          "height": 35
        },
        "id": "oDCSz95hrcP_",
        "outputId": "fa503b2a-c276-4a75-9f28-6015a5b72565"
      },
      "execution_count": null,
      "outputs": [
        {
          "output_type": "display_data",
          "data": {
            "text/plain": [
              "<IPython.core.display.HTML object>"
            ],
            "text/html": [
              "\n",
              "            <style>\n",
              "                .geemap-dark {\n",
              "                    --jp-widgets-color: white;\n",
              "                    --jp-widgets-label-color: white;\n",
              "                    --jp-ui-font-color1: white;\n",
              "                    --jp-layout-color2: #454545;\n",
              "                    background-color: #383838;\n",
              "                }\n",
              "\n",
              "                .geemap-dark .jupyter-button {\n",
              "                    --jp-layout-color3: #383838;\n",
              "                }\n",
              "\n",
              "                .geemap-colab {\n",
              "                    background-color: var(--colab-primary-surface-color, white);\n",
              "                }\n",
              "\n",
              "                .geemap-colab .jupyter-button {\n",
              "                    --jp-layout-color3: var(--colab-primary-surface-color, white);\n",
              "                }\n",
              "            </style>\n",
              "            "
            ]
          },
          "metadata": {}
        },
        {
          "output_type": "stream",
          "name": "stdout",
          "text": [
            "The length of the text sequence must be equal to the number (72) of frames in the gif.\n"
          ]
        }
      ]
    }
  ],
  "metadata": {
    "language_info": {
      "name": "python"
    },
    "colab": {
      "provenance": [],
      "toc_visible": true
    },
    "kernelspec": {
      "name": "python3",
      "display_name": "Python 3"
    }
  },
  "nbformat": 4,
  "nbformat_minor": 0
}