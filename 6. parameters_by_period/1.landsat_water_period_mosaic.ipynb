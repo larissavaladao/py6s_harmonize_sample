{
  "cells": [
    {
      "cell_type": "markdown",
      "metadata": {
        "id": "view-in-github",
        "colab_type": "text"
      },
      "source": [
        "<a href=\"https://colab.research.google.com/github/larissavaladao/time_series_curuai/blob/main/6.%20parameters_by_period/1.landsat_water_period_mosaic.ipynb\" target=\"_parent\"><img src=\"https://colab.research.google.com/assets/colab-badge.svg\" alt=\"Open In Colab\"/></a>"
      ]
    },
    {
      "cell_type": "code",
      "execution_count": null,
      "metadata": {
        "id": "j9tzG_v0PsNr"
      },
      "outputs": [],
      "source": [
        "import geopandas as gpd\n",
        "import pandas as pd\n",
        "import math\n",
        "import ee\n",
        "import geemap\n",
        "import json"
      ]
    },
    {
      "cell_type": "code",
      "execution_count": null,
      "metadata": {
        "id": "c1jYliSHPsNs"
      },
      "outputs": [],
      "source": [
        "ee.Authenticate()\n",
        "ee.Initialize(project='ee-curuai2')"
      ]
    },
    {
      "cell_type": "code",
      "execution_count": null,
      "metadata": {
        "id": "3ZA7T5nPPsNt"
      },
      "outputs": [],
      "source": [
        "from google.colab import drive\n",
        "drive.mount('/content/drive')"
      ]
    },
    {
      "cell_type": "markdown",
      "metadata": {
        "id": "tDL2BheXPsNt"
      },
      "source": [
        "# Import image collections"
      ]
    },
    {
      "cell_type": "markdown",
      "metadata": {
        "id": "4vvm1wxjPsNu"
      },
      "source": [
        "Landsat 7 - PY6S"
      ]
    },
    {
      "cell_type": "code",
      "execution_count": null,
      "metadata": {
        "id": "nodKpsDSPsNu"
      },
      "outputs": [],
      "source": [
        "landsat7 = ee.ImageCollection(\"projects/ee-curuai/assets/Py6S/LD7/Landsat7\")\\\n",
        "            .select([ 'B1', 'B2', 'B3', 'B4', 'B5', 'B7'])\n",
        "print(ee.Date(landsat7.sort('system:time_start',True).first().get('system:time_start')).format().getInfo())\n",
        "print(ee.Date(landsat7.sort('system:time_start',False).first().get('system:time_start')).format().getInfo())"
      ]
    },
    {
      "cell_type": "code",
      "execution_count": null,
      "metadata": {
        "id": "4BLH7eniPsNu"
      },
      "outputs": [],
      "source": [
        "print(landsat7.aggregate_histogram('WRS_PATH').getInfo())\n",
        "print(landsat7.aggregate_histogram('WRS_ROW').getInfo())"
      ]
    },
    {
      "cell_type": "code",
      "execution_count": null,
      "metadata": {
        "id": "sbw5dmBOPsNv"
      },
      "outputs": [],
      "source": [
        "print(landsat7.filter(ee.Filter.eq('WRS_PATH',227.0)).aggregate_histogram('WRS_ROW').getInfo())\n",
        "print(landsat7.filter(ee.Filter.eq('WRS_PATH',228.0)).aggregate_histogram('WRS_ROW').getInfo())"
      ]
    },
    {
      "cell_type": "markdown",
      "metadata": {
        "id": "tsct5Lw7PsNv"
      },
      "source": [
        "Landsat 8 PY6S"
      ]
    },
    {
      "cell_type": "code",
      "execution_count": null,
      "metadata": {
        "id": "rIJRM-pwPsNv"
      },
      "outputs": [],
      "source": [
        "landsat8 = (ee.ImageCollection(\"projects/ee-curuai/assets/Py6S/LD8/Landsat8\")\n",
        "            .select(['B2', 'B3', 'B4', 'B5', 'B6', 'B7']))\n",
        "print(ee.Date(landsat8.sort('system:time_start',True).first().get('system:time_start')).format().getInfo())\n",
        "print(ee.Date(landsat8.sort('system:time_start',False).first().get('system:time_start')).format().getInfo())"
      ]
    },
    {
      "cell_type": "code",
      "execution_count": null,
      "metadata": {
        "id": "rnyQZ65nPsNw"
      },
      "outputs": [],
      "source": [
        "print(landsat8.aggregate_histogram('WRS_PATH').getInfo())\n",
        "print(landsat8.aggregate_histogram('WRS_ROW').getInfo())"
      ]
    },
    {
      "cell_type": "code",
      "execution_count": null,
      "metadata": {
        "id": "UqBX8ipfPsNw"
      },
      "outputs": [],
      "source": [
        "print(landsat8.filter(ee.Filter.eq('WRS_PATH',227.0)).aggregate_histogram('WRS_ROW').getInfo())\n",
        "print(landsat8.filter(ee.Filter.eq('WRS_PATH',228.0)).aggregate_histogram('WRS_ROW').getInfo())"
      ]
    },
    {
      "cell_type": "markdown",
      "metadata": {
        "id": "viLs2-w0Qu_P"
      },
      "source": [
        "Landsat 9 PY6S"
      ]
    },
    {
      "cell_type": "code",
      "execution_count": null,
      "metadata": {
        "id": "Qtc9kPP3Qu_Q"
      },
      "outputs": [],
      "source": [
        "landsat9 = (ee.ImageCollection(\"projects/ee-curuai2/assets/Py6S/LD9/Landsat9\")\n",
        "            .select(['B2', 'B3', 'B4', 'B5', 'B6', 'B7']))\n",
        "print(ee.Date(landsat9.sort('system:time_start',True).first().get('system:time_start')).format().getInfo())\n",
        "print(ee.Date(landsat9.sort('system:time_start',False).first().get('system:time_start')).format().getInfo())"
      ]
    },
    {
      "cell_type": "code",
      "execution_count": null,
      "metadata": {
        "id": "24tcj-QIQu_Q"
      },
      "outputs": [],
      "source": [
        "print(landsat9.aggregate_histogram('WRS_PATH').getInfo())\n",
        "print(landsat9.aggregate_histogram('WRS_ROW').getInfo())"
      ]
    },
    {
      "cell_type": "code",
      "execution_count": null,
      "metadata": {
        "id": "qbNhsfL8Qu_R"
      },
      "outputs": [],
      "source": [
        "print(landsat9.filter(ee.Filter.eq('WRS_PATH',227.0)).aggregate_histogram('WRS_ROW').getInfo())\n",
        "print(landsat9.filter(ee.Filter.eq('WRS_PATH',228.0)).aggregate_histogram('WRS_ROW').getInfo())"
      ]
    },
    {
      "cell_type": "markdown",
      "metadata": {
        "id": "Us4kaIOcPsNw"
      },
      "source": [
        "# Transform into remote sensing reflectance and sunglint correction"
      ]
    },
    {
      "cell_type": "code",
      "execution_count": null,
      "metadata": {
        "id": "EhdLU4KyPsNw"
      },
      "outputs": [],
      "source": [
        "def deglint (img):\n",
        "  '''#dividir imagem corrigida por pi\n",
        "  Rrs_sat_ac = Rsat_ac / pi\n",
        "  fazer deglint\n",
        "  Rrs_sat_ac_deglint(VNIR) = Rrs_sat_ac (VNIR) − Rrs_sat_ac (SWIR)\n",
        "  correção no artigo INPE CURUAI'''\n",
        "  Rrs = img.divide(math.pi)\n",
        "  deglint = Rrs.select(['blue_mean','green_mean','red_mean','nir_mean','swir1','swir2'])\\\n",
        "    .subtract(Rrs.select('swir1'))\n",
        "\n",
        "  return (deglint\n",
        "          .copyProperties(img,['system:time_start','CLOUD_COVER',\"system:index\"]))"
      ]
    },
    {
      "cell_type": "markdown",
      "metadata": {
        "id": "iDwx63n8PsNw"
      },
      "source": [
        "## Padronize band names"
      ]
    },
    {
      "cell_type": "code",
      "execution_count": null,
      "metadata": {
        "id": "GbKfzy3GPsNw"
      },
      "outputs": [],
      "source": [
        "name_bands = ['blue_mean','green_mean','red_mean','nir_mean','swir1','swir2']"
      ]
    },
    {
      "cell_type": "markdown",
      "metadata": {
        "id": "QSpwdyzmPsNx"
      },
      "source": [
        "Landsat 7"
      ]
    },
    {
      "cell_type": "code",
      "execution_count": null,
      "metadata": {
        "id": "MzYyjmt0PsNx"
      },
      "outputs": [],
      "source": [
        "#renomear bandas\n",
        "\n",
        "ld7 = landsat7.map(lambda img: img.rename(name_bands))\n",
        "display(ld7.size().getInfo())"
      ]
    },
    {
      "cell_type": "markdown",
      "metadata": {
        "id": "NQVoWPg0PsNx"
      },
      "source": [
        "Landsat 8"
      ]
    },
    {
      "cell_type": "code",
      "execution_count": null,
      "metadata": {
        "id": "hmKBtd6DPsNx"
      },
      "outputs": [],
      "source": [
        "ld8 = landsat8.map(lambda img: img.rename(name_bands))\n",
        "display(ld8.size().getInfo())"
      ]
    },
    {
      "cell_type": "markdown",
      "source": [
        "landsat 9"
      ],
      "metadata": {
        "id": "bVGHbSZCTDXS"
      }
    },
    {
      "cell_type": "code",
      "source": [
        "ld9 = landsat9.map(lambda img: img.rename(name_bands))\n",
        "display(ld9.size().getInfo())"
      ],
      "metadata": {
        "id": "5NWHIsv0TEXX"
      },
      "execution_count": null,
      "outputs": []
    },
    {
      "cell_type": "code",
      "execution_count": null,
      "metadata": {
        "id": "Q5I0E6QePsNx"
      },
      "outputs": [],
      "source": [
        "merge_col = ld8.merge(ld7).merge(ld9).sort('system:time_start').map(deglint)\n",
        "merge_col.limit(5)"
      ]
    },
    {
      "cell_type": "code",
      "source": [
        "merge_col.size()"
      ],
      "metadata": {
        "id": "VzD8yWun3qda"
      },
      "execution_count": null,
      "outputs": []
    },
    {
      "cell_type": "markdown",
      "source": [
        "# Importar dados de periodo baseado na vazao de obidos"
      ],
      "metadata": {
        "id": "2qTZ3sT33uK6"
      }
    },
    {
      "cell_type": "code",
      "source": [
        "#import period dates\n",
        "df_period_limits = pd.read_csv('/content/drive/MyDrive/CURUAI_PROCESS/water_period_limits.csv').drop(columns=['Unnamed: 0'])\n",
        "# df_period_limits['Data'] = pd.to_datetime(df_period_limits['Data'])\n",
        "df_period_limits\n"
      ],
      "metadata": {
        "id": "N6bXVsj_9Ib3"
      },
      "execution_count": null,
      "outputs": []
    },
    {
      "cell_type": "markdown",
      "metadata": {
        "id": "LZLpj0vjPsNx"
      },
      "source": [
        "# Fazer mosaico por periodo - definido por meses"
      ]
    },
    {
      "cell_type": "code",
      "execution_count": null,
      "metadata": {
        "id": "mCgFDdw7PsNx"
      },
      "outputs": [],
      "source": [
        "years = ee.List.sequence(2000,2024);\n",
        "months = ee.List.sequence(1,12,3);\n",
        "display(months.getInfo())"
      ]
    },
    {
      "cell_type": "code",
      "execution_count": null,
      "metadata": {
        "id": "RNGX4wz8PsNx"
      },
      "outputs": [],
      "source": [
        "monthly_mosaics =  ee.ImageCollection.fromImages(\n",
        "    years.map(lambda y: months.map(lambda m: merge_col.filter(ee.Filter.calendarRange(y, y, 'year'))\n",
        "    .filter(ee.Filter.calendarRange(m, ee.Number(m).add(2), 'month')).median()\n",
        "    .set('year', y).set('month_init', m).set('month_end', ee.Number(m).add(2)).set('system:time_start', ee.Date.fromYMD(y, m, 1)).set('timestamp', ee.Date.fromYMD(y, m, 1).format('yyyy-MM-dd'))\n",
        "    )).flatten());\n",
        "display(monthly_mosaics.size().getInfo())"
      ]
    },
    {
      "cell_type": "code",
      "execution_count": null,
      "metadata": {
        "id": "-wuL-oDZPsNx"
      },
      "outputs": [],
      "source": [
        "monthly_mosaic = monthly_mosaics.map(lambda img: img.set('band_count',img.bandNames().length())).filter(ee.Filter.gt('band_count',0))\n",
        "display(monthly_mosaic.size().getInfo())\n",
        "display(monthly_mosaic.limit(2).getInfo())"
      ]
    },
    {
      "cell_type": "markdown",
      "source": [
        "# Fazer mosaico definido por vazao"
      ],
      "metadata": {
        "id": "sFCFOfJZ0VAR"
      }
    },
    {
      "cell_type": "code",
      "source": [
        "list_images = []\n",
        "for i in range(0,len(df_period_limits)-1):\n",
        "  # print(df_period_limits['Data'][i][0:10])\n",
        "  # print(df_period_limits['Data'][i+1][0:10])\n",
        "\n",
        "  image = (merge_col.filter(ee.Filter.date(df_period_limits['Data'][i][0:10],df_period_limits['Data'][i+1][0:10]))\n",
        "              .median()\n",
        "              .set('year', str(df_period_limits['year'][i]))\n",
        "              .set('month_init', str(df_period_limits['month'][i]))\n",
        "              .set('month_end', str(df_period_limits['month'][i+1]))\n",
        "              .set('system:time_start', ee.Date.parse('yyyy-MM-dd',str(df_period_limits['Data'][i][0:10])))\n",
        "              .set('time_start', str(df_period_limits['Data'][i][0:10]))\n",
        "              .set('time_finish', str(df_period_limits['Data'][i+1][0:10]))\n",
        "  )\n",
        "  list_images.append(image)\n",
        "\n"
      ],
      "metadata": {
        "id": "vHnvVzm56dXe"
      },
      "execution_count": null,
      "outputs": []
    },
    {
      "cell_type": "code",
      "source": [
        "period_mosaics =  ee.ImageCollection.fromImages(ee.List(list_images))\n",
        "period_mosaics.limit(2)"
      ],
      "metadata": {
        "id": "IJwQfuHB0Yz9"
      },
      "execution_count": null,
      "outputs": []
    },
    {
      "cell_type": "code",
      "source": [
        "period_mosaics = period_mosaics.map(lambda img: img.set('band_count',img.bandNames().length())).filter(ee.Filter.gt('band_count',0))\n",
        "display(period_mosaics.size().getInfo())\n",
        "period_mosaics.limit(2)"
      ],
      "metadata": {
        "id": "-EotJobdB-PW"
      },
      "execution_count": null,
      "outputs": []
    },
    {
      "cell_type": "markdown",
      "metadata": {
        "id": "GHrjQO0ZPsNx"
      },
      "source": [
        "# Mask land"
      ]
    },
    {
      "cell_type": "code",
      "execution_count": null,
      "metadata": {
        "id": "d5ievHBxPsNx"
      },
      "outputs": [],
      "source": [
        "def hsvComposite (image):\n",
        "    composite = image.select(['blue_mean','green_mean','red_mean']).rgbToHsv()#.clip(limits);\n",
        "    hue = composite.select(\"hue\");\n",
        "    max_mask = hue.lte(0.9)\n",
        "    min_mask = hue.gte(0.3)\n",
        "    return image.updateMask(max_mask).updateMask(min_mask).select(['blue_mean','green_mean','red_mean','nir_mean']);"
      ]
    },
    {
      "cell_type": "markdown",
      "metadata": {
        "id": "GYWH6diCPsNy"
      },
      "source": [
        "# calculate area"
      ]
    },
    {
      "cell_type": "code",
      "execution_count": null,
      "metadata": {
        "id": "s5ZkM_IhPsNy"
      },
      "outputs": [],
      "source": [
        "def area_calc(img):\n",
        "  '''receives an image of curuai and returns water surface area in km2 within the floodplain limits\n",
        "  as a property of the input image'''\n",
        "\n",
        "  # Get a pixel area image.\n",
        "  pixel_area = ee.Image.pixelArea()\n",
        "\n",
        "  floodplain = ee.FeatureCollection('projects/ee-curuai2/assets/varzea_alagavel')\n",
        "  image = hsvComposite(img)\n",
        "  img_mask = image.gt(0)\n",
        "\n",
        "  areaImage = img_mask.multiply(pixel_area)\n",
        "\n",
        "  area = areaImage.reduceRegion(**{\n",
        "    'reducer': ee.Reducer.sum(),\n",
        "    'geometry': floodplain.geometry(),\n",
        "    'scale': 30,\n",
        "    'maxPixels': 1e10\n",
        "    })\n",
        "  return image.set('area_km2',ee.Number(area.get('red_mean')).divide(1e6))\n"
      ]
    },
    {
      "cell_type": "code",
      "execution_count": null,
      "metadata": {
        "id": "VeItZbNcPsNy"
      },
      "outputs": [],
      "source": [
        "monthly_area = monthly_mosaic.map(area_calc)\n",
        "monthly_area.first()"
      ]
    },
    {
      "cell_type": "code",
      "source": [
        "period_area = period_mosaics.map(area_calc)\n",
        "\n",
        "period_area.limit(3)"
      ],
      "metadata": {
        "id": "ecB4iXdOCMus"
      },
      "execution_count": null,
      "outputs": []
    },
    {
      "cell_type": "markdown",
      "metadata": {
        "id": "YWN7rgHhPsNy"
      },
      "source": [
        "# Import Model and Classify Images"
      ]
    },
    {
      "cell_type": "code",
      "execution_count": null,
      "metadata": {
        "id": "jqxRupUkPsNy"
      },
      "outputs": [],
      "source": [
        "classifier = ee.Classifier.load('projects/ee-curuai2/assets/RF_GEE_regressor')\n",
        "print(classifier.getInfo())"
      ]
    },
    {
      "cell_type": "code",
      "execution_count": null,
      "metadata": {
        "id": "fMy30qJ1PsNy"
      },
      "outputs": [],
      "source": [
        "predictors = ['blue_mean', 'green_mean','red_mean', 'nir_mean']\n",
        "spm_classified = monthly_area.select(predictors).map(lambda img: img.addBands(img.classify(classifier=classifier)))\n",
        "spm_period_classified = period_area.select(predictors).map(lambda img: img.addBands(img.classify(classifier=classifier)))\n",
        "display(spm_classified.size().getInfo())\n",
        "display(spm_period_classified.size().getInfo())"
      ]
    },
    {
      "cell_type": "code",
      "source": [
        "spm_period_classified.limit(5)"
      ],
      "metadata": {
        "id": "c1L9E4PpCrIZ"
      },
      "execution_count": null,
      "outputs": []
    },
    {
      "cell_type": "code",
      "source": [
        "spm_classified.limit(5)"
      ],
      "metadata": {
        "id": "gl8IQfMfjVv2"
      },
      "execution_count": null,
      "outputs": []
    },
    {
      "cell_type": "markdown",
      "metadata": {
        "id": "ZW_POia2PsNy"
      },
      "source": [
        "# Export as Asset: Image Collection"
      ]
    },
    {
      "cell_type": "code",
      "execution_count": null,
      "metadata": {
        "id": "T_P9DCVpPsNy"
      },
      "outputs": [],
      "source": [
        "prj = landsat8.first().select('B4').projection().getInfo()\n",
        "scale = landsat8.first().select('B4').projection().nominalScale().getInfo()"
      ]
    },
    {
      "cell_type": "code",
      "execution_count": null,
      "metadata": {
        "id": "RU3uD7gMPsNy"
      },
      "outputs": [],
      "source": [
        "def export_img(img):\n",
        "      # define YOUR assetID\n",
        "    # export\n",
        "\n",
        "    fname = ee.String(img.get('timestamp')).getInfo()\n",
        "    export = ee.batch.Export.image.toAsset(\\\n",
        "        image=ee.Image(img),\n",
        "        description= 'ld_mosaic_'+fname,\n",
        "        assetId = 'projects/ee-curuai2/assets/landsat_water_period/water_period/mosaic_'+fname,#change the properties to add in images here\n",
        "        region = ee.FeatureCollection(ee.List([ee.Feature(ee.FeatureCollection('projects/ee-curuai2/assets/lim_varzea').geometry().buffer(30)),ee.Feature(ee.FeatureCollection('projects/ee-curuai2/assets/points_curuai').geometry().bounds().buffer(30))])).geometry().bounds(),\n",
        "        crs = prj['crs'],\n",
        "        scale = scale,\n",
        "        maxPixels = 1e13)\n",
        "\n",
        "    # # uncomment to run the export\n",
        "    export.start()\n",
        "    print('exporting ' +fname + '--->done')\n",
        "    return img"
      ]
    },
    {
      "cell_type": "code",
      "source": [
        "col_length = spm_classified.size().getInfo()\n",
        "#print(col_length)\n",
        "# cannot map the function because we run things in the function in bothe client and server sides so we need to make a loop\n",
        "# for very big time series It is recomendable to break the series and export data in parts\n",
        "# not only because of the loop but also because of how exporting to assets works in google earth engine\n",
        "# and you can run into problems if too much information is exported at the same time\n",
        "for i in range(0,col_length):\n",
        "    #print(i)\n",
        "    list = spm_classified.toList(col_length)\n",
        "    img = ee.Image(list.get(i))\n",
        "    export_img(img)"
      ],
      "metadata": {
        "collapsed": true,
        "id": "aqw2MP70kqF5"
      },
      "execution_count": null,
      "outputs": []
    },
    {
      "cell_type": "markdown",
      "source": [
        "# Visualize gif"
      ],
      "metadata": {
        "id": "aStmHpZIl-AM"
      }
    },
    {
      "cell_type": "code",
      "source": [
        "# Define arguments for animation function parameters.\n",
        "video_args = {\n",
        "    \"dimensions\": 768,\n",
        "    \"region\": ee.FeatureCollection(ee.List([ee.Feature(ee.FeatureCollection('projects/ee-curuai2/assets/lim_varzea').geometry().buffer(30)),ee.Feature(ee.FeatureCollection('projects/ee-curuai2/assets/points_curuai').geometry().bounds().buffer(30))])).geometry().bounds(),\n",
        "    \"framesPerSecond\": 5,\n",
        "    \"bands\": [\"classification\"],\n",
        "    \"min\": 1,\n",
        "    \"max\": 350,\n",
        "    \"palette\": ['blue','green', 'yellow', 'orange','red'],\n",
        "}"
      ],
      "metadata": {
        "id": "xHqcw6wKmDr4"
      },
      "execution_count": null,
      "outputs": []
    },
    {
      "cell_type": "code",
      "source": [
        "geemap.download_ee_video(spm_classified, video_args, '/content/classification_SPM.gif')"
      ],
      "metadata": {
        "id": "lJVzdWC0nErw"
      },
      "execution_count": null,
      "outputs": []
    },
    {
      "cell_type": "code",
      "source": [
        "geemap.add_text_to_gif(\n",
        "    '/content/classification_SPM.gif',\n",
        "    '/content/classification_SPM_text.gif',\n",
        "    xy=(\"3%\", \"5%\"),\n",
        "    text_sequence=spm_classified.aggregate_array('timestamp').getInfo(),\n",
        "    font_size=30,\n",
        "    font_color=\"#ffffff\",\n",
        "    add_progress_bar=True,\n",
        ")"
      ],
      "metadata": {
        "id": "pVEXYpoBoFTx"
      },
      "execution_count": null,
      "outputs": []
    },
    {
      "cell_type": "code",
      "source": [
        "# Define arguments for animation function parameters.\n",
        "video_args = {\n",
        "    \"dimensions\": 768,\n",
        "    \"region\": ee.FeatureCollection(ee.List([ee.Feature(ee.FeatureCollection('projects/ee-curuai2/assets/lim_varzea').geometry().buffer(30)),ee.Feature(ee.FeatureCollection('projects/ee-curuai2/assets/points_curuai').geometry().bounds().buffer(30))])).geometry().bounds(),\n",
        "    \"framesPerSecond\": 5,\n",
        "    \"bands\": [\"red_mean\",'green_mean','blue_mean'],\n",
        "    \"min\": 0,\n",
        "    \"max\": 0.07,\n",
        "}"
      ],
      "metadata": {
        "id": "I-9Dam1Mpvkc"
      },
      "execution_count": null,
      "outputs": []
    },
    {
      "cell_type": "code",
      "source": [
        "geemap.download_ee_video(spm_classified, video_args, '/content/water_period.gif')"
      ],
      "metadata": {
        "id": "lo8e8J0CrRfS"
      },
      "execution_count": null,
      "outputs": []
    },
    {
      "cell_type": "code",
      "source": [
        "geemap.add_text_to_gif(\n",
        "    '/content/water_period.gif',\n",
        "    '/content/water_period_text.gif',\n",
        "    xy=(\"3%\", \"5%\"),\n",
        "    text_sequence=spm_classified.aggregate_array('timestamp').getInfo(),\n",
        "    font_size=30,\n",
        "    font_color=\"#ffffff\",\n",
        "    add_progress_bar=True,\n",
        ")"
      ],
      "metadata": {
        "id": "oDCSz95hrcP_"
      },
      "execution_count": null,
      "outputs": []
    }
  ],
  "metadata": {
    "language_info": {
      "name": "python"
    },
    "colab": {
      "provenance": [],
      "toc_visible": true,
      "include_colab_link": true
    },
    "kernelspec": {
      "name": "python3",
      "display_name": "Python 3"
    }
  },
  "nbformat": 4,
  "nbformat_minor": 0
}