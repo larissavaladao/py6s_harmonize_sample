{
 "cells": [
  {
   "cell_type": "markdown",
   "metadata": {},
   "source": [
    "# importar para a pasta os dados de vazão de óbidos\n",
    "# agregar por periodo de água - média? soma? min/max desv pad\n",
    "# exportar"
   ]
  },
  {
   "cell_type": "code",
   "execution_count": null,
   "metadata": {
    "vscode": {
     "languageId": "plaintext"
    }
   },
   "outputs": [],
   "source": [
    "# pensar em como trabalhar com a vazão regional... talvez pegar a vazão da foz do rio amazonas?"
   ]
  }
 ],
 "metadata": {
  "language_info": {
   "name": "python"
  }
 },
 "nbformat": 4,
 "nbformat_minor": 2
}
