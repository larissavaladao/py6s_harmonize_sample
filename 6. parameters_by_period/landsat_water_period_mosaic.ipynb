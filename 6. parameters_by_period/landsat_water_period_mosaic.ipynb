{
  "cells": [
    {
      "cell_type": "code",
      "execution_count": 1,
      "metadata": {
        "id": "j9tzG_v0PsNr"
      },
      "outputs": [],
      "source": [
        "import geopandas as gpd\n",
        "import pandas as pd\n",
        "import math\n",
        "import ee\n",
        "import geemap"
      ]
    },
    {
      "cell_type": "code",
      "execution_count": 2,
      "metadata": {
        "colab": {
          "base_uri": "https://localhost:8080/",
          "height": 17
        },
        "id": "c1jYliSHPsNs",
        "outputId": "d0b6e869-961e-4fb4-a290-8712ebf1affd"
      },
      "outputs": [
        {
          "output_type": "display_data",
          "data": {
            "text/plain": [
              "<IPython.core.display.HTML object>"
            ],
            "text/html": [
              "\n",
              "            <style>\n",
              "                .geemap-dark {\n",
              "                    --jp-widgets-color: white;\n",
              "                    --jp-widgets-label-color: white;\n",
              "                    --jp-ui-font-color1: white;\n",
              "                    --jp-layout-color2: #454545;\n",
              "                    background-color: #383838;\n",
              "                }\n",
              "\n",
              "                .geemap-dark .jupyter-button {\n",
              "                    --jp-layout-color3: #383838;\n",
              "                }\n",
              "\n",
              "                .geemap-colab {\n",
              "                    background-color: var(--colab-primary-surface-color, white);\n",
              "                }\n",
              "\n",
              "                .geemap-colab .jupyter-button {\n",
              "                    --jp-layout-color3: var(--colab-primary-surface-color, white);\n",
              "                }\n",
              "            </style>\n",
              "            "
            ]
          },
          "metadata": {}
        }
      ],
      "source": [
        "ee.Authenticate()\n",
        "ee.Initialize(project='ee-curuai2')"
      ]
    },
    {
      "cell_type": "code",
      "execution_count": 3,
      "metadata": {
        "colab": {
          "base_uri": "https://localhost:8080/",
          "height": 35
        },
        "id": "3ZA7T5nPPsNt",
        "outputId": "d04a9e34-22bb-441d-afb8-f30723db8845"
      },
      "outputs": [
        {
          "output_type": "display_data",
          "data": {
            "text/plain": [
              "<IPython.core.display.HTML object>"
            ],
            "text/html": [
              "\n",
              "            <style>\n",
              "                .geemap-dark {\n",
              "                    --jp-widgets-color: white;\n",
              "                    --jp-widgets-label-color: white;\n",
              "                    --jp-ui-font-color1: white;\n",
              "                    --jp-layout-color2: #454545;\n",
              "                    background-color: #383838;\n",
              "                }\n",
              "\n",
              "                .geemap-dark .jupyter-button {\n",
              "                    --jp-layout-color3: #383838;\n",
              "                }\n",
              "\n",
              "                .geemap-colab {\n",
              "                    background-color: var(--colab-primary-surface-color, white);\n",
              "                }\n",
              "\n",
              "                .geemap-colab .jupyter-button {\n",
              "                    --jp-layout-color3: var(--colab-primary-surface-color, white);\n",
              "                }\n",
              "            </style>\n",
              "            "
            ]
          },
          "metadata": {}
        },
        {
          "output_type": "stream",
          "name": "stdout",
          "text": [
            "Mounted at /content/drive\n"
          ]
        }
      ],
      "source": [
        "from google.colab import drive\n",
        "drive.mount('/content/drive')"
      ]
    },
    {
      "cell_type": "markdown",
      "metadata": {
        "id": "tDL2BheXPsNt"
      },
      "source": [
        "# Import image collections"
      ]
    },
    {
      "cell_type": "markdown",
      "metadata": {
        "id": "4vvm1wxjPsNu"
      },
      "source": [
        "Landsat 7 - PY6S"
      ]
    },
    {
      "cell_type": "code",
      "execution_count": 54,
      "metadata": {
        "colab": {
          "base_uri": "https://localhost:8080/",
          "height": 53
        },
        "id": "nodKpsDSPsNu",
        "outputId": "769e7a77-f377-4039-afee-1bc476e6ba6c"
      },
      "outputs": [
        {
          "output_type": "display_data",
          "data": {
            "text/plain": [
              "<IPython.core.display.HTML object>"
            ],
            "text/html": [
              "\n",
              "            <style>\n",
              "                .geemap-dark {\n",
              "                    --jp-widgets-color: white;\n",
              "                    --jp-widgets-label-color: white;\n",
              "                    --jp-ui-font-color1: white;\n",
              "                    --jp-layout-color2: #454545;\n",
              "                    background-color: #383838;\n",
              "                }\n",
              "\n",
              "                .geemap-dark .jupyter-button {\n",
              "                    --jp-layout-color3: #383838;\n",
              "                }\n",
              "\n",
              "                .geemap-colab {\n",
              "                    background-color: var(--colab-primary-surface-color, white);\n",
              "                }\n",
              "\n",
              "                .geemap-colab .jupyter-button {\n",
              "                    --jp-layout-color3: var(--colab-primary-surface-color, white);\n",
              "                }\n",
              "            </style>\n",
              "            "
            ]
          },
          "metadata": {}
        },
        {
          "output_type": "stream",
          "name": "stdout",
          "text": [
            "2000-01-24T13:46:48\n",
            "2024-01-16T11:16:49\n"
          ]
        }
      ],
      "source": [
        "landsat7 = ee.ImageCollection(\"projects/ee-curuai/assets/Py6S/LD7/Landsat7\")\\\n",
        "            .select([ 'B1', 'B2', 'B3', 'B4', 'B5', 'B7'])\n",
        "print(ee.Date(landsat7.sort('system:time_start',True).first().get('system:time_start')).format().getInfo())\n",
        "print(ee.Date(landsat7.sort('system:time_start',False).first().get('system:time_start')).format().getInfo())"
      ]
    },
    {
      "cell_type": "code",
      "execution_count": 45,
      "metadata": {
        "colab": {
          "base_uri": "https://localhost:8080/",
          "height": 53
        },
        "id": "4BLH7eniPsNu",
        "outputId": "fb53ce18-c18b-40a7-d311-81641c0148ff"
      },
      "outputs": [
        {
          "output_type": "display_data",
          "data": {
            "text/plain": [
              "<IPython.core.display.HTML object>"
            ],
            "text/html": [
              "\n",
              "            <style>\n",
              "                .geemap-dark {\n",
              "                    --jp-widgets-color: white;\n",
              "                    --jp-widgets-label-color: white;\n",
              "                    --jp-ui-font-color1: white;\n",
              "                    --jp-layout-color2: #454545;\n",
              "                    background-color: #383838;\n",
              "                }\n",
              "\n",
              "                .geemap-dark .jupyter-button {\n",
              "                    --jp-layout-color3: #383838;\n",
              "                }\n",
              "\n",
              "                .geemap-colab {\n",
              "                    background-color: var(--colab-primary-surface-color, white);\n",
              "                }\n",
              "\n",
              "                .geemap-colab .jupyter-button {\n",
              "                    --jp-layout-color3: var(--colab-primary-surface-color, white);\n",
              "                }\n",
              "            </style>\n",
              "            "
            ]
          },
          "metadata": {}
        },
        {
          "output_type": "stream",
          "name": "stdout",
          "text": [
            "{'227.0': 624, '228.0': 729, '229.0': 13}\n",
            "{'61.0': 685, '62.0': 681}\n"
          ]
        }
      ],
      "source": [
        "print(landsat7.aggregate_histogram('WRS_PATH').getInfo())\n",
        "print(landsat7.aggregate_histogram('WRS_ROW').getInfo())"
      ]
    },
    {
      "cell_type": "code",
      "execution_count": 46,
      "metadata": {
        "colab": {
          "base_uri": "https://localhost:8080/",
          "height": 53
        },
        "id": "sbw5dmBOPsNv",
        "outputId": "07281c19-b013-4c6d-babc-67c945dd750f"
      },
      "outputs": [
        {
          "output_type": "display_data",
          "data": {
            "text/plain": [
              "<IPython.core.display.HTML object>"
            ],
            "text/html": [
              "\n",
              "            <style>\n",
              "                .geemap-dark {\n",
              "                    --jp-widgets-color: white;\n",
              "                    --jp-widgets-label-color: white;\n",
              "                    --jp-ui-font-color1: white;\n",
              "                    --jp-layout-color2: #454545;\n",
              "                    background-color: #383838;\n",
              "                }\n",
              "\n",
              "                .geemap-dark .jupyter-button {\n",
              "                    --jp-layout-color3: #383838;\n",
              "                }\n",
              "\n",
              "                .geemap-colab {\n",
              "                    background-color: var(--colab-primary-surface-color, white);\n",
              "                }\n",
              "\n",
              "                .geemap-colab .jupyter-button {\n",
              "                    --jp-layout-color3: var(--colab-primary-surface-color, white);\n",
              "                }\n",
              "            </style>\n",
              "            "
            ]
          },
          "metadata": {}
        },
        {
          "output_type": "stream",
          "name": "stdout",
          "text": [
            "{'61.0': 298, '62.0': 326}\n",
            "{'61.0': 380, '62.0': 349}\n"
          ]
        }
      ],
      "source": [
        "print(landsat7.filter(ee.Filter.eq('WRS_PATH',227.0)).aggregate_histogram('WRS_ROW').getInfo())\n",
        "print(landsat7.filter(ee.Filter.eq('WRS_PATH',228.0)).aggregate_histogram('WRS_ROW').getInfo())"
      ]
    },
    {
      "cell_type": "markdown",
      "metadata": {
        "id": "tsct5Lw7PsNv"
      },
      "source": [
        "Landsat 8 PY6S"
      ]
    },
    {
      "cell_type": "code",
      "execution_count": 55,
      "metadata": {
        "colab": {
          "base_uri": "https://localhost:8080/",
          "height": 53
        },
        "id": "rIJRM-pwPsNv",
        "outputId": "7b405e4c-30f6-457f-e75e-f9052cf65589"
      },
      "outputs": [
        {
          "output_type": "display_data",
          "data": {
            "text/plain": [
              "<IPython.core.display.HTML object>"
            ],
            "text/html": [
              "\n",
              "            <style>\n",
              "                .geemap-dark {\n",
              "                    --jp-widgets-color: white;\n",
              "                    --jp-widgets-label-color: white;\n",
              "                    --jp-ui-font-color1: white;\n",
              "                    --jp-layout-color2: #454545;\n",
              "                    background-color: #383838;\n",
              "                }\n",
              "\n",
              "                .geemap-dark .jupyter-button {\n",
              "                    --jp-layout-color3: #383838;\n",
              "                }\n",
              "\n",
              "                .geemap-colab {\n",
              "                    background-color: var(--colab-primary-surface-color, white);\n",
              "                }\n",
              "\n",
              "                .geemap-colab .jupyter-button {\n",
              "                    --jp-layout-color3: var(--colab-primary-surface-color, white);\n",
              "                }\n",
              "            </style>\n",
              "            "
            ]
          },
          "metadata": {}
        },
        {
          "output_type": "stream",
          "name": "stdout",
          "text": [
            "2013-05-11T13:55:54\n",
            "2024-12-12T13:47:48\n"
          ]
        }
      ],
      "source": [
        "landsat8 = (ee.ImageCollection(\"projects/ee-curuai/assets/Py6S/LD8/Landsat8\")\n",
        "            .select(['B2', 'B3', 'B4', 'B5', 'B6', 'B7']))\n",
        "print(ee.Date(landsat8.sort('system:time_start',True).first().get('system:time_start')).format().getInfo())\n",
        "print(ee.Date(landsat8.sort('system:time_start',False).first().get('system:time_start')).format().getInfo())"
      ]
    },
    {
      "cell_type": "code",
      "execution_count": 48,
      "metadata": {
        "colab": {
          "base_uri": "https://localhost:8080/",
          "height": 53
        },
        "id": "rnyQZ65nPsNw",
        "outputId": "55cd6236-051a-4559-c162-1b1b76503e0c"
      },
      "outputs": [
        {
          "output_type": "display_data",
          "data": {
            "text/plain": [
              "<IPython.core.display.HTML object>"
            ],
            "text/html": [
              "\n",
              "            <style>\n",
              "                .geemap-dark {\n",
              "                    --jp-widgets-color: white;\n",
              "                    --jp-widgets-label-color: white;\n",
              "                    --jp-ui-font-color1: white;\n",
              "                    --jp-layout-color2: #454545;\n",
              "                    background-color: #383838;\n",
              "                }\n",
              "\n",
              "                .geemap-dark .jupyter-button {\n",
              "                    --jp-layout-color3: #383838;\n",
              "                }\n",
              "\n",
              "                .geemap-colab {\n",
              "                    background-color: var(--colab-primary-surface-color, white);\n",
              "                }\n",
              "\n",
              "                .geemap-colab .jupyter-button {\n",
              "                    --jp-layout-color3: var(--colab-primary-surface-color, white);\n",
              "                }\n",
              "            </style>\n",
              "            "
            ]
          },
          "metadata": {}
        },
        {
          "output_type": "stream",
          "name": "stdout",
          "text": [
            "{'227.0': 364, '228.0': 379}\n",
            "{'61.0': 372, '62.0': 371}\n"
          ]
        }
      ],
      "source": [
        "print(landsat8.aggregate_histogram('WRS_PATH').getInfo())\n",
        "print(landsat8.aggregate_histogram('WRS_ROW').getInfo())"
      ]
    },
    {
      "cell_type": "code",
      "execution_count": 49,
      "metadata": {
        "colab": {
          "base_uri": "https://localhost:8080/",
          "height": 53
        },
        "id": "UqBX8ipfPsNw",
        "outputId": "74c9e7aa-f299-466d-ad1a-497f338a9656"
      },
      "outputs": [
        {
          "output_type": "display_data",
          "data": {
            "text/plain": [
              "<IPython.core.display.HTML object>"
            ],
            "text/html": [
              "\n",
              "            <style>\n",
              "                .geemap-dark {\n",
              "                    --jp-widgets-color: white;\n",
              "                    --jp-widgets-label-color: white;\n",
              "                    --jp-ui-font-color1: white;\n",
              "                    --jp-layout-color2: #454545;\n",
              "                    background-color: #383838;\n",
              "                }\n",
              "\n",
              "                .geemap-dark .jupyter-button {\n",
              "                    --jp-layout-color3: #383838;\n",
              "                }\n",
              "\n",
              "                .geemap-colab {\n",
              "                    background-color: var(--colab-primary-surface-color, white);\n",
              "                }\n",
              "\n",
              "                .geemap-colab .jupyter-button {\n",
              "                    --jp-layout-color3: var(--colab-primary-surface-color, white);\n",
              "                }\n",
              "            </style>\n",
              "            "
            ]
          },
          "metadata": {}
        },
        {
          "output_type": "stream",
          "name": "stdout",
          "text": [
            "{'61.0': 180, '62.0': 184}\n",
            "{'61.0': 192, '62.0': 187}\n"
          ]
        }
      ],
      "source": [
        "print(landsat8.filter(ee.Filter.eq('WRS_PATH',227.0)).aggregate_histogram('WRS_ROW').getInfo())\n",
        "print(landsat8.filter(ee.Filter.eq('WRS_PATH',228.0)).aggregate_histogram('WRS_ROW').getInfo())"
      ]
    },
    {
      "cell_type": "markdown",
      "metadata": {
        "id": "viLs2-w0Qu_P"
      },
      "source": [
        "Landsat 9 PY6S"
      ]
    },
    {
      "cell_type": "code",
      "execution_count": 53,
      "metadata": {
        "outputId": "2522f899-f98c-4bfd-f6c3-0a3e6046a94b",
        "colab": {
          "base_uri": "https://localhost:8080/",
          "height": 53
        },
        "id": "Qtc9kPP3Qu_Q"
      },
      "outputs": [
        {
          "output_type": "display_data",
          "data": {
            "text/plain": [
              "<IPython.core.display.HTML object>"
            ],
            "text/html": [
              "\n",
              "            <style>\n",
              "                .geemap-dark {\n",
              "                    --jp-widgets-color: white;\n",
              "                    --jp-widgets-label-color: white;\n",
              "                    --jp-ui-font-color1: white;\n",
              "                    --jp-layout-color2: #454545;\n",
              "                    background-color: #383838;\n",
              "                }\n",
              "\n",
              "                .geemap-dark .jupyter-button {\n",
              "                    --jp-layout-color3: #383838;\n",
              "                }\n",
              "\n",
              "                .geemap-colab {\n",
              "                    background-color: var(--colab-primary-surface-color, white);\n",
              "                }\n",
              "\n",
              "                .geemap-colab .jupyter-button {\n",
              "                    --jp-layout-color3: var(--colab-primary-surface-color, white);\n",
              "                }\n",
              "            </style>\n",
              "            "
            ]
          },
          "metadata": {}
        },
        {
          "output_type": "stream",
          "name": "stdout",
          "text": [
            "2021-11-06T13:49:55\n",
            "2024-12-27T13:54:34\n"
          ]
        }
      ],
      "source": [
        "landsat9 = (ee.ImageCollection(\"projects/ee-curuai2/assets/Py6S/LD9/Landsat9\")\n",
        "            .select(['B2', 'B3', 'B4', 'B5', 'B6', 'B7']))\n",
        "print(ee.Date(landsat9.sort('system:time_start',True).first().get('system:time_start')).format().getInfo())\n",
        "print(ee.Date(landsat9.sort('system:time_start',False).first().get('system:time_start')).format().getInfo())"
      ]
    },
    {
      "cell_type": "code",
      "execution_count": 51,
      "metadata": {
        "outputId": "d287f001-7a19-49d3-ba3a-8584ebc6adc4",
        "colab": {
          "base_uri": "https://localhost:8080/",
          "height": 53
        },
        "id": "24tcj-QIQu_Q"
      },
      "outputs": [
        {
          "output_type": "display_data",
          "data": {
            "text/plain": [
              "<IPython.core.display.HTML object>"
            ],
            "text/html": [
              "\n",
              "            <style>\n",
              "                .geemap-dark {\n",
              "                    --jp-widgets-color: white;\n",
              "                    --jp-widgets-label-color: white;\n",
              "                    --jp-ui-font-color1: white;\n",
              "                    --jp-layout-color2: #454545;\n",
              "                    background-color: #383838;\n",
              "                }\n",
              "\n",
              "                .geemap-dark .jupyter-button {\n",
              "                    --jp-layout-color3: #383838;\n",
              "                }\n",
              "\n",
              "                .geemap-colab {\n",
              "                    background-color: var(--colab-primary-surface-color, white);\n",
              "                }\n",
              "\n",
              "                .geemap-colab .jupyter-button {\n",
              "                    --jp-layout-color3: var(--colab-primary-surface-color, white);\n",
              "                }\n",
              "            </style>\n",
              "            "
            ]
          },
          "metadata": {}
        },
        {
          "output_type": "stream",
          "name": "stdout",
          "text": [
            "{'227.0': 101, '228.0': 105, '229.0': 2}\n",
            "{'61.0': 104, '62.0': 104}\n"
          ]
        }
      ],
      "source": [
        "print(landsat9.aggregate_histogram('WRS_PATH').getInfo())\n",
        "print(landsat9.aggregate_histogram('WRS_ROW').getInfo())"
      ]
    },
    {
      "cell_type": "code",
      "execution_count": 52,
      "metadata": {
        "outputId": "d8cf3457-7597-4116-95e2-970f6f0168eb",
        "colab": {
          "base_uri": "https://localhost:8080/",
          "height": 53
        },
        "id": "qbNhsfL8Qu_R"
      },
      "outputs": [
        {
          "output_type": "display_data",
          "data": {
            "text/plain": [
              "<IPython.core.display.HTML object>"
            ],
            "text/html": [
              "\n",
              "            <style>\n",
              "                .geemap-dark {\n",
              "                    --jp-widgets-color: white;\n",
              "                    --jp-widgets-label-color: white;\n",
              "                    --jp-ui-font-color1: white;\n",
              "                    --jp-layout-color2: #454545;\n",
              "                    background-color: #383838;\n",
              "                }\n",
              "\n",
              "                .geemap-dark .jupyter-button {\n",
              "                    --jp-layout-color3: #383838;\n",
              "                }\n",
              "\n",
              "                .geemap-colab {\n",
              "                    background-color: var(--colab-primary-surface-color, white);\n",
              "                }\n",
              "\n",
              "                .geemap-colab .jupyter-button {\n",
              "                    --jp-layout-color3: var(--colab-primary-surface-color, white);\n",
              "                }\n",
              "            </style>\n",
              "            "
            ]
          },
          "metadata": {}
        },
        {
          "output_type": "stream",
          "name": "stdout",
          "text": [
            "{'61.0': 50, '62.0': 51}\n",
            "{'61.0': 53, '62.0': 52}\n"
          ]
        }
      ],
      "source": [
        "print(landsat9.filter(ee.Filter.eq('WRS_PATH',227.0)).aggregate_histogram('WRS_ROW').getInfo())\n",
        "print(landsat9.filter(ee.Filter.eq('WRS_PATH',228.0)).aggregate_histogram('WRS_ROW').getInfo())"
      ]
    },
    {
      "cell_type": "markdown",
      "metadata": {
        "id": "Us4kaIOcPsNw"
      },
      "source": [
        "# Transform into remote sensing reflectance and sunglint correction"
      ]
    },
    {
      "cell_type": "code",
      "execution_count": 57,
      "metadata": {
        "colab": {
          "base_uri": "https://localhost:8080/",
          "height": 17
        },
        "id": "EhdLU4KyPsNw",
        "outputId": "bfc00c7f-dc35-4c30-cab6-7e73f4f655c9"
      },
      "outputs": [
        {
          "output_type": "display_data",
          "data": {
            "text/plain": [
              "<IPython.core.display.HTML object>"
            ],
            "text/html": [
              "\n",
              "            <style>\n",
              "                .geemap-dark {\n",
              "                    --jp-widgets-color: white;\n",
              "                    --jp-widgets-label-color: white;\n",
              "                    --jp-ui-font-color1: white;\n",
              "                    --jp-layout-color2: #454545;\n",
              "                    background-color: #383838;\n",
              "                }\n",
              "\n",
              "                .geemap-dark .jupyter-button {\n",
              "                    --jp-layout-color3: #383838;\n",
              "                }\n",
              "\n",
              "                .geemap-colab {\n",
              "                    background-color: var(--colab-primary-surface-color, white);\n",
              "                }\n",
              "\n",
              "                .geemap-colab .jupyter-button {\n",
              "                    --jp-layout-color3: var(--colab-primary-surface-color, white);\n",
              "                }\n",
              "            </style>\n",
              "            "
            ]
          },
          "metadata": {}
        }
      ],
      "source": [
        "def deglint (img):\n",
        "  '''#dividir imagem corrigida por pi\n",
        "  Rrs_sat_ac = Rsat_ac / pi\n",
        "  fazer deglint\n",
        "  Rrs_sat_ac_deglint(VNIR) = Rrs_sat_ac (VNIR) − Rrs_sat_ac (SWIR)\n",
        "  correção no artigo INPE CURUAI'''\n",
        "  Rrs = img.divide(math.pi)\n",
        "  deglint = Rrs.select(['blue_mean','green_mean','red_mean','nir_mean','swir1','swir2'])\\\n",
        "    .subtract(Rrs.select('swir1'))\n",
        "\n",
        "  return (deglint\n",
        "          .copyProperties(img,['system:time_start','CLOUD_COVER',\"system:index\"]))"
      ]
    },
    {
      "cell_type": "markdown",
      "metadata": {
        "id": "iDwx63n8PsNw"
      },
      "source": [
        "## Padronize band names"
      ]
    },
    {
      "cell_type": "code",
      "execution_count": 58,
      "metadata": {
        "colab": {
          "base_uri": "https://localhost:8080/",
          "height": 17
        },
        "id": "GbKfzy3GPsNw",
        "outputId": "894323d2-f490-4d7f-adfb-81354b5f6afa"
      },
      "outputs": [
        {
          "output_type": "display_data",
          "data": {
            "text/plain": [
              "<IPython.core.display.HTML object>"
            ],
            "text/html": [
              "\n",
              "            <style>\n",
              "                .geemap-dark {\n",
              "                    --jp-widgets-color: white;\n",
              "                    --jp-widgets-label-color: white;\n",
              "                    --jp-ui-font-color1: white;\n",
              "                    --jp-layout-color2: #454545;\n",
              "                    background-color: #383838;\n",
              "                }\n",
              "\n",
              "                .geemap-dark .jupyter-button {\n",
              "                    --jp-layout-color3: #383838;\n",
              "                }\n",
              "\n",
              "                .geemap-colab {\n",
              "                    background-color: var(--colab-primary-surface-color, white);\n",
              "                }\n",
              "\n",
              "                .geemap-colab .jupyter-button {\n",
              "                    --jp-layout-color3: var(--colab-primary-surface-color, white);\n",
              "                }\n",
              "            </style>\n",
              "            "
            ]
          },
          "metadata": {}
        }
      ],
      "source": [
        "name_bands = ['blue_mean','green_mean','red_mean','nir_mean','swir1','swir2']"
      ]
    },
    {
      "cell_type": "markdown",
      "metadata": {
        "id": "QSpwdyzmPsNx"
      },
      "source": [
        "Landsat 7"
      ]
    },
    {
      "cell_type": "code",
      "execution_count": 59,
      "metadata": {
        "colab": {
          "base_uri": "https://localhost:8080/",
          "height": 35
        },
        "id": "MzYyjmt0PsNx",
        "outputId": "16fcddd0-8982-4937-a473-d64ffd7d465d"
      },
      "outputs": [
        {
          "output_type": "display_data",
          "data": {
            "text/plain": [
              "<IPython.core.display.HTML object>"
            ],
            "text/html": [
              "\n",
              "            <style>\n",
              "                .geemap-dark {\n",
              "                    --jp-widgets-color: white;\n",
              "                    --jp-widgets-label-color: white;\n",
              "                    --jp-ui-font-color1: white;\n",
              "                    --jp-layout-color2: #454545;\n",
              "                    background-color: #383838;\n",
              "                }\n",
              "\n",
              "                .geemap-dark .jupyter-button {\n",
              "                    --jp-layout-color3: #383838;\n",
              "                }\n",
              "\n",
              "                .geemap-colab {\n",
              "                    background-color: var(--colab-primary-surface-color, white);\n",
              "                }\n",
              "\n",
              "                .geemap-colab .jupyter-button {\n",
              "                    --jp-layout-color3: var(--colab-primary-surface-color, white);\n",
              "                }\n",
              "            </style>\n",
              "            "
            ]
          },
          "metadata": {}
        },
        {
          "output_type": "display_data",
          "data": {
            "text/plain": [
              "1366"
            ]
          },
          "metadata": {}
        }
      ],
      "source": [
        "#renomear bandas\n",
        "\n",
        "ld7 = landsat7.map(lambda img: img.rename(name_bands))\n",
        "display(ld7.size().getInfo())"
      ]
    },
    {
      "cell_type": "markdown",
      "metadata": {
        "id": "NQVoWPg0PsNx"
      },
      "source": [
        "Landsat 8"
      ]
    },
    {
      "cell_type": "code",
      "execution_count": 60,
      "metadata": {
        "colab": {
          "base_uri": "https://localhost:8080/",
          "height": 35
        },
        "id": "hmKBtd6DPsNx",
        "outputId": "74c72992-b6cc-4782-a7f9-d3698a559dea"
      },
      "outputs": [
        {
          "output_type": "display_data",
          "data": {
            "text/plain": [
              "<IPython.core.display.HTML object>"
            ],
            "text/html": [
              "\n",
              "            <style>\n",
              "                .geemap-dark {\n",
              "                    --jp-widgets-color: white;\n",
              "                    --jp-widgets-label-color: white;\n",
              "                    --jp-ui-font-color1: white;\n",
              "                    --jp-layout-color2: #454545;\n",
              "                    background-color: #383838;\n",
              "                }\n",
              "\n",
              "                .geemap-dark .jupyter-button {\n",
              "                    --jp-layout-color3: #383838;\n",
              "                }\n",
              "\n",
              "                .geemap-colab {\n",
              "                    background-color: var(--colab-primary-surface-color, white);\n",
              "                }\n",
              "\n",
              "                .geemap-colab .jupyter-button {\n",
              "                    --jp-layout-color3: var(--colab-primary-surface-color, white);\n",
              "                }\n",
              "            </style>\n",
              "            "
            ]
          },
          "metadata": {}
        },
        {
          "output_type": "display_data",
          "data": {
            "text/plain": [
              "743"
            ]
          },
          "metadata": {}
        }
      ],
      "source": [
        "ld8 = landsat8.map(lambda img: img.rename(name_bands))\n",
        "display(ld8.size().getInfo())"
      ]
    },
    {
      "cell_type": "markdown",
      "source": [
        "landsat 9"
      ],
      "metadata": {
        "id": "bVGHbSZCTDXS"
      }
    },
    {
      "cell_type": "code",
      "source": [
        "ld9 = landsat9.map(lambda img: img.rename(name_bands))\n",
        "display(ld9.size().getInfo())"
      ],
      "metadata": {
        "colab": {
          "base_uri": "https://localhost:8080/",
          "height": 35
        },
        "id": "5NWHIsv0TEXX",
        "outputId": "4a3a60f6-3f52-49c1-8de1-edca33eb37d5"
      },
      "execution_count": 61,
      "outputs": [
        {
          "output_type": "display_data",
          "data": {
            "text/plain": [
              "<IPython.core.display.HTML object>"
            ],
            "text/html": [
              "\n",
              "            <style>\n",
              "                .geemap-dark {\n",
              "                    --jp-widgets-color: white;\n",
              "                    --jp-widgets-label-color: white;\n",
              "                    --jp-ui-font-color1: white;\n",
              "                    --jp-layout-color2: #454545;\n",
              "                    background-color: #383838;\n",
              "                }\n",
              "\n",
              "                .geemap-dark .jupyter-button {\n",
              "                    --jp-layout-color3: #383838;\n",
              "                }\n",
              "\n",
              "                .geemap-colab {\n",
              "                    background-color: var(--colab-primary-surface-color, white);\n",
              "                }\n",
              "\n",
              "                .geemap-colab .jupyter-button {\n",
              "                    --jp-layout-color3: var(--colab-primary-surface-color, white);\n",
              "                }\n",
              "            </style>\n",
              "            "
            ]
          },
          "metadata": {}
        },
        {
          "output_type": "display_data",
          "data": {
            "text/plain": [
              "208"
            ]
          },
          "metadata": {}
        }
      ]
    },
    {
      "cell_type": "code",
      "execution_count": 62,
      "metadata": {
        "colab": {
          "base_uri": "https://localhost:8080/",
          "height": 1000
        },
        "id": "Q5I0E6QePsNx",
        "outputId": "58fb4062-8193-445d-aa83-ac3294b02f65"
      },
      "outputs": [
        {
          "output_type": "display_data",
          "data": {
            "text/plain": [
              "<IPython.core.display.HTML object>"
            ],
            "text/html": [
              "\n",
              "            <style>\n",
              "                .geemap-dark {\n",
              "                    --jp-widgets-color: white;\n",
              "                    --jp-widgets-label-color: white;\n",
              "                    --jp-ui-font-color1: white;\n",
              "                    --jp-layout-color2: #454545;\n",
              "                    background-color: #383838;\n",
              "                }\n",
              "\n",
              "                .geemap-dark .jupyter-button {\n",
              "                    --jp-layout-color3: #383838;\n",
              "                }\n",
              "\n",
              "                .geemap-colab {\n",
              "                    background-color: var(--colab-primary-surface-color, white);\n",
              "                }\n",
              "\n",
              "                .geemap-colab .jupyter-button {\n",
              "                    --jp-layout-color3: var(--colab-primary-surface-color, white);\n",
              "                }\n",
              "            </style>\n",
              "            "
            ]
          },
          "metadata": {}
        },
        {
          "output_type": "display_data",
          "data": {
            "text/plain": [
              "{'type': 'ImageCollection',\n",
              " 'bands': [],\n",
              " 'features': [{'type': 'Image',\n",
              "   'bands': [{'id': 'blue_mean',\n",
              "     'data_type': {'type': 'PixelType', 'precision': 'double'},\n",
              "     'dimensions': [4256, 2110],\n",
              "     'crs': 'EPSG:32621',\n",
              "     'crs_transform': [30, 0, 598620, 0, -30, -211440]},\n",
              "    {'id': 'green_mean',\n",
              "     'data_type': {'type': 'PixelType', 'precision': 'double'},\n",
              "     'dimensions': [4256, 2110],\n",
              "     'crs': 'EPSG:32621',\n",
              "     'crs_transform': [30, 0, 598620, 0, -30, -211440]},\n",
              "    {'id': 'red_mean',\n",
              "     'data_type': {'type': 'PixelType', 'precision': 'double'},\n",
              "     'dimensions': [4256, 2110],\n",
              "     'crs': 'EPSG:32621',\n",
              "     'crs_transform': [30, 0, 598620, 0, -30, -211440]},\n",
              "    {'id': 'nir_mean',\n",
              "     'data_type': {'type': 'PixelType', 'precision': 'double'},\n",
              "     'dimensions': [4256, 2110],\n",
              "     'crs': 'EPSG:32621',\n",
              "     'crs_transform': [30, 0, 598620, 0, -30, -211440]},\n",
              "    {'id': 'swir1',\n",
              "     'data_type': {'type': 'PixelType', 'precision': 'double'},\n",
              "     'dimensions': [4256, 2110],\n",
              "     'crs': 'EPSG:32621',\n",
              "     'crs_transform': [30, 0, 598620, 0, -30, -211440]},\n",
              "    {'id': 'swir2',\n",
              "     'data_type': {'type': 'PixelType', 'precision': 'double'},\n",
              "     'dimensions': [4256, 2110],\n",
              "     'crs': 'EPSG:32621',\n",
              "     'crs_transform': [30, 0, 598620, 0, -30, -211440]}],\n",
              "   'properties': {'system:time_start': 948721608082,\n",
              "    'CLOUD_COVER': 71,\n",
              "    'system:index': '1_2_BOA_LE07_228061_20000124'}},\n",
              "  {'type': 'Image',\n",
              "   'bands': [{'id': 'blue_mean',\n",
              "     'data_type': {'type': 'PixelType', 'precision': 'double'},\n",
              "     'dimensions': [4256, 2110],\n",
              "     'crs': 'EPSG:32621',\n",
              "     'crs_transform': [30, 0, 598620, 0, -30, -211440]},\n",
              "    {'id': 'green_mean',\n",
              "     'data_type': {'type': 'PixelType', 'precision': 'double'},\n",
              "     'dimensions': [4256, 2110],\n",
              "     'crs': 'EPSG:32621',\n",
              "     'crs_transform': [30, 0, 598620, 0, -30, -211440]},\n",
              "    {'id': 'red_mean',\n",
              "     'data_type': {'type': 'PixelType', 'precision': 'double'},\n",
              "     'dimensions': [4256, 2110],\n",
              "     'crs': 'EPSG:32621',\n",
              "     'crs_transform': [30, 0, 598620, 0, -30, -211440]},\n",
              "    {'id': 'nir_mean',\n",
              "     'data_type': {'type': 'PixelType', 'precision': 'double'},\n",
              "     'dimensions': [4256, 2110],\n",
              "     'crs': 'EPSG:32621',\n",
              "     'crs_transform': [30, 0, 598620, 0, -30, -211440]},\n",
              "    {'id': 'swir1',\n",
              "     'data_type': {'type': 'PixelType', 'precision': 'double'},\n",
              "     'dimensions': [4256, 2110],\n",
              "     'crs': 'EPSG:32621',\n",
              "     'crs_transform': [30, 0, 598620, 0, -30, -211440]},\n",
              "    {'id': 'swir2',\n",
              "     'data_type': {'type': 'PixelType', 'precision': 'double'},\n",
              "     'dimensions': [4256, 2110],\n",
              "     'crs': 'EPSG:32621',\n",
              "     'crs_transform': [30, 0, 598620, 0, -30, -211440]}],\n",
              "   'properties': {'system:time_start': 948721631943,\n",
              "    'CLOUD_COVER': 54,\n",
              "    'system:index': '1_2_BOA_LE07_228062_20000124'}},\n",
              "  {'type': 'Image',\n",
              "   'bands': [{'id': 'blue_mean',\n",
              "     'data_type': {'type': 'PixelType', 'precision': 'double'},\n",
              "     'dimensions': [4256, 2110],\n",
              "     'crs': 'EPSG:32621',\n",
              "     'crs_transform': [30, 0, 598620, 0, -30, -211440]},\n",
              "    {'id': 'green_mean',\n",
              "     'data_type': {'type': 'PixelType', 'precision': 'double'},\n",
              "     'dimensions': [4256, 2110],\n",
              "     'crs': 'EPSG:32621',\n",
              "     'crs_transform': [30, 0, 598620, 0, -30, -211440]},\n",
              "    {'id': 'red_mean',\n",
              "     'data_type': {'type': 'PixelType', 'precision': 'double'},\n",
              "     'dimensions': [4256, 2110],\n",
              "     'crs': 'EPSG:32621',\n",
              "     'crs_transform': [30, 0, 598620, 0, -30, -211440]},\n",
              "    {'id': 'nir_mean',\n",
              "     'data_type': {'type': 'PixelType', 'precision': 'double'},\n",
              "     'dimensions': [4256, 2110],\n",
              "     'crs': 'EPSG:32621',\n",
              "     'crs_transform': [30, 0, 598620, 0, -30, -211440]},\n",
              "    {'id': 'swir1',\n",
              "     'data_type': {'type': 'PixelType', 'precision': 'double'},\n",
              "     'dimensions': [4256, 2110],\n",
              "     'crs': 'EPSG:32621',\n",
              "     'crs_transform': [30, 0, 598620, 0, -30, -211440]},\n",
              "    {'id': 'swir2',\n",
              "     'data_type': {'type': 'PixelType', 'precision': 'double'},\n",
              "     'dimensions': [4256, 2110],\n",
              "     'crs': 'EPSG:32621',\n",
              "     'crs_transform': [30, 0, 598620, 0, -30, -211440]}],\n",
              "   'properties': {'system:time_start': 950104003458,\n",
              "    'CLOUD_COVER': 67,\n",
              "    'system:index': '1_2_BOA_LE07_228061_20000209'}},\n",
              "  {'type': 'Image',\n",
              "   'bands': [{'id': 'blue_mean',\n",
              "     'data_type': {'type': 'PixelType', 'precision': 'double'},\n",
              "     'dimensions': [4256, 2110],\n",
              "     'crs': 'EPSG:32621',\n",
              "     'crs_transform': [30, 0, 598620, 0, -30, -211440]},\n",
              "    {'id': 'green_mean',\n",
              "     'data_type': {'type': 'PixelType', 'precision': 'double'},\n",
              "     'dimensions': [4256, 2110],\n",
              "     'crs': 'EPSG:32621',\n",
              "     'crs_transform': [30, 0, 598620, 0, -30, -211440]},\n",
              "    {'id': 'red_mean',\n",
              "     'data_type': {'type': 'PixelType', 'precision': 'double'},\n",
              "     'dimensions': [4256, 2110],\n",
              "     'crs': 'EPSG:32621',\n",
              "     'crs_transform': [30, 0, 598620, 0, -30, -211440]},\n",
              "    {'id': 'nir_mean',\n",
              "     'data_type': {'type': 'PixelType', 'precision': 'double'},\n",
              "     'dimensions': [4256, 2110],\n",
              "     'crs': 'EPSG:32621',\n",
              "     'crs_transform': [30, 0, 598620, 0, -30, -211440]},\n",
              "    {'id': 'swir1',\n",
              "     'data_type': {'type': 'PixelType', 'precision': 'double'},\n",
              "     'dimensions': [4256, 2110],\n",
              "     'crs': 'EPSG:32621',\n",
              "     'crs_transform': [30, 0, 598620, 0, -30, -211440]},\n",
              "    {'id': 'swir2',\n",
              "     'data_type': {'type': 'PixelType', 'precision': 'double'},\n",
              "     'dimensions': [4256, 2110],\n",
              "     'crs': 'EPSG:32621',\n",
              "     'crs_transform': [30, 0, 598620, 0, -30, -211440]}],\n",
              "   'properties': {'system:time_start': 950104027379,\n",
              "    'CLOUD_COVER': 75,\n",
              "    'system:index': '1_2_BOA_LE07_228062_20000209'}},\n",
              "  {'type': 'Image',\n",
              "   'bands': [{'id': 'blue_mean',\n",
              "     'data_type': {'type': 'PixelType', 'precision': 'double'},\n",
              "     'dimensions': [4256, 2110],\n",
              "     'crs': 'EPSG:32621',\n",
              "     'crs_transform': [30, 0, 598620, 0, -30, -211440]},\n",
              "    {'id': 'green_mean',\n",
              "     'data_type': {'type': 'PixelType', 'precision': 'double'},\n",
              "     'dimensions': [4256, 2110],\n",
              "     'crs': 'EPSG:32621',\n",
              "     'crs_transform': [30, 0, 598620, 0, -30, -211440]},\n",
              "    {'id': 'red_mean',\n",
              "     'data_type': {'type': 'PixelType', 'precision': 'double'},\n",
              "     'dimensions': [4256, 2110],\n",
              "     'crs': 'EPSG:32621',\n",
              "     'crs_transform': [30, 0, 598620, 0, -30, -211440]},\n",
              "    {'id': 'nir_mean',\n",
              "     'data_type': {'type': 'PixelType', 'precision': 'double'},\n",
              "     'dimensions': [4256, 2110],\n",
              "     'crs': 'EPSG:32621',\n",
              "     'crs_transform': [30, 0, 598620, 0, -30, -211440]},\n",
              "    {'id': 'swir1',\n",
              "     'data_type': {'type': 'PixelType', 'precision': 'double'},\n",
              "     'dimensions': [4256, 2110],\n",
              "     'crs': 'EPSG:32621',\n",
              "     'crs_transform': [30, 0, 598620, 0, -30, -211440]},\n",
              "    {'id': 'swir2',\n",
              "     'data_type': {'type': 'PixelType', 'precision': 'double'},\n",
              "     'dimensions': [4256, 2110],\n",
              "     'crs': 'EPSG:32621',\n",
              "     'crs_transform': [30, 0, 598620, 0, -30, -211440]}],\n",
              "   'properties': {'system:time_start': 950881229653,\n",
              "    'CLOUD_COVER': 74,\n",
              "    'system:index': '1_2_BOA_LE07_227061_20000218'}}]}"
            ]
          },
          "metadata": {}
        }
      ],
      "source": [
        "merge_col = ld8.merge(ld7).merge(ld9).sort('system:time_start').map(deglint)\n",
        "display(merge_col.limit(5).getInfo())"
      ]
    },
    {
      "cell_type": "markdown",
      "metadata": {
        "id": "LZLpj0vjPsNx"
      },
      "source": [
        "# Fazer mosaico por mes"
      ]
    },
    {
      "cell_type": "code",
      "execution_count": 105,
      "metadata": {
        "colab": {
          "base_uri": "https://localhost:8080/",
          "height": 35
        },
        "id": "mCgFDdw7PsNx",
        "outputId": "3b1613ef-83fd-496a-afac-009882085c12"
      },
      "outputs": [
        {
          "output_type": "display_data",
          "data": {
            "text/plain": [
              "<IPython.core.display.HTML object>"
            ],
            "text/html": [
              "\n",
              "            <style>\n",
              "                .geemap-dark {\n",
              "                    --jp-widgets-color: white;\n",
              "                    --jp-widgets-label-color: white;\n",
              "                    --jp-ui-font-color1: white;\n",
              "                    --jp-layout-color2: #454545;\n",
              "                    background-color: #383838;\n",
              "                }\n",
              "\n",
              "                .geemap-dark .jupyter-button {\n",
              "                    --jp-layout-color3: #383838;\n",
              "                }\n",
              "\n",
              "                .geemap-colab {\n",
              "                    background-color: var(--colab-primary-surface-color, white);\n",
              "                }\n",
              "\n",
              "                .geemap-colab .jupyter-button {\n",
              "                    --jp-layout-color3: var(--colab-primary-surface-color, white);\n",
              "                }\n",
              "            </style>\n",
              "            "
            ]
          },
          "metadata": {}
        },
        {
          "output_type": "display_data",
          "data": {
            "text/plain": [
              "[1, 4, 7, 10]"
            ]
          },
          "metadata": {}
        }
      ],
      "source": [
        "years = ee.List.sequence(2000,2024);\n",
        "months = ee.List.sequence(1,12,3);\n",
        "display(months.getInfo())"
      ]
    },
    {
      "cell_type": "code",
      "execution_count": 106,
      "metadata": {
        "colab": {
          "base_uri": "https://localhost:8080/",
          "height": 35
        },
        "id": "RNGX4wz8PsNx",
        "outputId": "b03b8a0d-63e6-4cf8-8f3f-7112059bb893"
      },
      "outputs": [
        {
          "output_type": "display_data",
          "data": {
            "text/plain": [
              "<IPython.core.display.HTML object>"
            ],
            "text/html": [
              "\n",
              "            <style>\n",
              "                .geemap-dark {\n",
              "                    --jp-widgets-color: white;\n",
              "                    --jp-widgets-label-color: white;\n",
              "                    --jp-ui-font-color1: white;\n",
              "                    --jp-layout-color2: #454545;\n",
              "                    background-color: #383838;\n",
              "                }\n",
              "\n",
              "                .geemap-dark .jupyter-button {\n",
              "                    --jp-layout-color3: #383838;\n",
              "                }\n",
              "\n",
              "                .geemap-colab {\n",
              "                    background-color: var(--colab-primary-surface-color, white);\n",
              "                }\n",
              "\n",
              "                .geemap-colab .jupyter-button {\n",
              "                    --jp-layout-color3: var(--colab-primary-surface-color, white);\n",
              "                }\n",
              "            </style>\n",
              "            "
            ]
          },
          "metadata": {}
        },
        {
          "output_type": "display_data",
          "data": {
            "text/plain": [
              "100"
            ]
          },
          "metadata": {}
        }
      ],
      "source": [
        "monthly_mosaics =  ee.ImageCollection.fromImages(\n",
        "    years.map(lambda y: months.map(lambda m: merge_col.filter(ee.Filter.calendarRange(y, y, 'year'))\n",
        "    .filter(ee.Filter.calendarRange(m, ee.Number(m).add(2), 'month')).median()\n",
        "    .set('year', y).set('month_init', m).set('month_end', ee.Number(m).add(2)).set('system:time_start', ee.Date.fromYMD(y, m, 1)).set('timestamp', ee.Date.fromYMD(y, m, 1).format('yyyy-MM-dd'))\n",
        "    )).flatten());\n",
        "display(monthly_mosaics.size().getInfo())"
      ]
    },
    {
      "cell_type": "code",
      "execution_count": 107,
      "metadata": {
        "colab": {
          "base_uri": "https://localhost:8080/",
          "height": 1000
        },
        "id": "-wuL-oDZPsNx",
        "outputId": "77eaa110-7e77-4d7d-8314-420e42e821ba"
      },
      "outputs": [
        {
          "output_type": "display_data",
          "data": {
            "text/plain": [
              "<IPython.core.display.HTML object>"
            ],
            "text/html": [
              "\n",
              "            <style>\n",
              "                .geemap-dark {\n",
              "                    --jp-widgets-color: white;\n",
              "                    --jp-widgets-label-color: white;\n",
              "                    --jp-ui-font-color1: white;\n",
              "                    --jp-layout-color2: #454545;\n",
              "                    background-color: #383838;\n",
              "                }\n",
              "\n",
              "                .geemap-dark .jupyter-button {\n",
              "                    --jp-layout-color3: #383838;\n",
              "                }\n",
              "\n",
              "                .geemap-colab {\n",
              "                    background-color: var(--colab-primary-surface-color, white);\n",
              "                }\n",
              "\n",
              "                .geemap-colab .jupyter-button {\n",
              "                    --jp-layout-color3: var(--colab-primary-surface-color, white);\n",
              "                }\n",
              "            </style>\n",
              "            "
            ]
          },
          "metadata": {}
        },
        {
          "output_type": "display_data",
          "data": {
            "text/plain": [
              "100"
            ]
          },
          "metadata": {}
        },
        {
          "output_type": "display_data",
          "data": {
            "text/plain": [
              "{'type': 'ImageCollection',\n",
              " 'bands': [],\n",
              " 'features': [{'type': 'Image',\n",
              "   'bands': [{'id': 'blue_mean',\n",
              "     'data_type': {'type': 'PixelType', 'precision': 'double'},\n",
              "     'crs': 'EPSG:4326',\n",
              "     'crs_transform': [1, 0, 0, 0, 1, 0]},\n",
              "    {'id': 'green_mean',\n",
              "     'data_type': {'type': 'PixelType', 'precision': 'double'},\n",
              "     'crs': 'EPSG:4326',\n",
              "     'crs_transform': [1, 0, 0, 0, 1, 0]},\n",
              "    {'id': 'red_mean',\n",
              "     'data_type': {'type': 'PixelType', 'precision': 'double'},\n",
              "     'crs': 'EPSG:4326',\n",
              "     'crs_transform': [1, 0, 0, 0, 1, 0]},\n",
              "    {'id': 'nir_mean',\n",
              "     'data_type': {'type': 'PixelType', 'precision': 'double'},\n",
              "     'crs': 'EPSG:4326',\n",
              "     'crs_transform': [1, 0, 0, 0, 1, 0]},\n",
              "    {'id': 'swir1',\n",
              "     'data_type': {'type': 'PixelType', 'precision': 'double'},\n",
              "     'crs': 'EPSG:4326',\n",
              "     'crs_transform': [1, 0, 0, 0, 1, 0]},\n",
              "    {'id': 'swir2',\n",
              "     'data_type': {'type': 'PixelType', 'precision': 'double'},\n",
              "     'crs': 'EPSG:4326',\n",
              "     'crs_transform': [1, 0, 0, 0, 1, 0]}],\n",
              "   'properties': {'band_count': 6,\n",
              "    'system:index': '0',\n",
              "    'system:time_start': {'type': 'Date', 'value': 946684800000},\n",
              "    'year': 2000,\n",
              "    'month_init': 1,\n",
              "    'month_end': 3,\n",
              "    'timestamp': '2000-01-01'}},\n",
              "  {'type': 'Image',\n",
              "   'bands': [{'id': 'blue_mean',\n",
              "     'data_type': {'type': 'PixelType', 'precision': 'double'},\n",
              "     'crs': 'EPSG:4326',\n",
              "     'crs_transform': [1, 0, 0, 0, 1, 0]},\n",
              "    {'id': 'green_mean',\n",
              "     'data_type': {'type': 'PixelType', 'precision': 'double'},\n",
              "     'crs': 'EPSG:4326',\n",
              "     'crs_transform': [1, 0, 0, 0, 1, 0]},\n",
              "    {'id': 'red_mean',\n",
              "     'data_type': {'type': 'PixelType', 'precision': 'double'},\n",
              "     'crs': 'EPSG:4326',\n",
              "     'crs_transform': [1, 0, 0, 0, 1, 0]},\n",
              "    {'id': 'nir_mean',\n",
              "     'data_type': {'type': 'PixelType', 'precision': 'double'},\n",
              "     'crs': 'EPSG:4326',\n",
              "     'crs_transform': [1, 0, 0, 0, 1, 0]},\n",
              "    {'id': 'swir1',\n",
              "     'data_type': {'type': 'PixelType', 'precision': 'double'},\n",
              "     'crs': 'EPSG:4326',\n",
              "     'crs_transform': [1, 0, 0, 0, 1, 0]},\n",
              "    {'id': 'swir2',\n",
              "     'data_type': {'type': 'PixelType', 'precision': 'double'},\n",
              "     'crs': 'EPSG:4326',\n",
              "     'crs_transform': [1, 0, 0, 0, 1, 0]}],\n",
              "   'properties': {'band_count': 6,\n",
              "    'system:index': '1',\n",
              "    'system:time_start': {'type': 'Date', 'value': 954547200000},\n",
              "    'year': 2000,\n",
              "    'month_init': 4,\n",
              "    'month_end': 6,\n",
              "    'timestamp': '2000-04-01'}}]}"
            ]
          },
          "metadata": {}
        }
      ],
      "source": [
        "monthly_mosaic = monthly_mosaics.map(lambda img: img.set('band_count',img.bandNames().length())).filter(ee.Filter.gt('band_count',0))\n",
        "display(monthly_mosaic.size().getInfo())\n",
        "display(monthly_mosaic.limit(2).getInfo())"
      ]
    },
    {
      "cell_type": "markdown",
      "metadata": {
        "id": "GHrjQO0ZPsNx"
      },
      "source": [
        "# Mask land"
      ]
    },
    {
      "cell_type": "code",
      "execution_count": 108,
      "metadata": {
        "colab": {
          "base_uri": "https://localhost:8080/",
          "height": 17
        },
        "id": "d5ievHBxPsNx",
        "outputId": "4881bea3-e9eb-487b-9d01-0f8c233bcb6b"
      },
      "outputs": [
        {
          "output_type": "display_data",
          "data": {
            "text/plain": [
              "<IPython.core.display.HTML object>"
            ],
            "text/html": [
              "\n",
              "            <style>\n",
              "                .geemap-dark {\n",
              "                    --jp-widgets-color: white;\n",
              "                    --jp-widgets-label-color: white;\n",
              "                    --jp-ui-font-color1: white;\n",
              "                    --jp-layout-color2: #454545;\n",
              "                    background-color: #383838;\n",
              "                }\n",
              "\n",
              "                .geemap-dark .jupyter-button {\n",
              "                    --jp-layout-color3: #383838;\n",
              "                }\n",
              "\n",
              "                .geemap-colab {\n",
              "                    background-color: var(--colab-primary-surface-color, white);\n",
              "                }\n",
              "\n",
              "                .geemap-colab .jupyter-button {\n",
              "                    --jp-layout-color3: var(--colab-primary-surface-color, white);\n",
              "                }\n",
              "            </style>\n",
              "            "
            ]
          },
          "metadata": {}
        }
      ],
      "source": [
        "def hsvComposite (image):\n",
        "    composite = image.select(['blue_mean','green_mean','red_mean']).rgbToHsv()#.clip(limits);\n",
        "    hue = composite.select(\"hue\");\n",
        "    max_mask = hue.lte(0.9)\n",
        "    min_mask = hue.gte(0.3)\n",
        "    return image.updateMask(max_mask).updateMask(min_mask).select(['blue_mean','green_mean','red_mean','nir_mean']);"
      ]
    },
    {
      "cell_type": "markdown",
      "metadata": {
        "id": "GYWH6diCPsNy"
      },
      "source": [
        "# calculate area"
      ]
    },
    {
      "cell_type": "code",
      "execution_count": 109,
      "metadata": {
        "colab": {
          "base_uri": "https://localhost:8080/",
          "height": 17
        },
        "id": "s5ZkM_IhPsNy",
        "outputId": "058ec611-b0e3-4249-b1d9-202450b75ca6"
      },
      "outputs": [
        {
          "output_type": "display_data",
          "data": {
            "text/plain": [
              "<IPython.core.display.HTML object>"
            ],
            "text/html": [
              "\n",
              "            <style>\n",
              "                .geemap-dark {\n",
              "                    --jp-widgets-color: white;\n",
              "                    --jp-widgets-label-color: white;\n",
              "                    --jp-ui-font-color1: white;\n",
              "                    --jp-layout-color2: #454545;\n",
              "                    background-color: #383838;\n",
              "                }\n",
              "\n",
              "                .geemap-dark .jupyter-button {\n",
              "                    --jp-layout-color3: #383838;\n",
              "                }\n",
              "\n",
              "                .geemap-colab {\n",
              "                    background-color: var(--colab-primary-surface-color, white);\n",
              "                }\n",
              "\n",
              "                .geemap-colab .jupyter-button {\n",
              "                    --jp-layout-color3: var(--colab-primary-surface-color, white);\n",
              "                }\n",
              "            </style>\n",
              "            "
            ]
          },
          "metadata": {}
        }
      ],
      "source": [
        "def area_calc(img):\n",
        "  '''receives an image of curuai and returns water surface area in km2 within the floodplain limits\n",
        "  as a property of the input image'''\n",
        "\n",
        "  # Get a pixel area image.\n",
        "  pixel_area = ee.Image.pixelArea()\n",
        "\n",
        "  floodplain = ee.FeatureCollection('projects/ee-curuai2/assets/varzea_alagavel')\n",
        "  image = hsvComposite(img)\n",
        "  img_mask = image.gt(0)\n",
        "\n",
        "  areaImage = img_mask.multiply(pixel_area)\n",
        "\n",
        "  area = areaImage.reduceRegion(**{\n",
        "    'reducer': ee.Reducer.sum(),\n",
        "    'geometry': floodplain.geometry(),\n",
        "    'scale': 30,\n",
        "    'maxPixels': 1e10\n",
        "    })\n",
        "  return image.set('area_km2',ee.Number(area.get('red_mean')).divide(1e6))\n"
      ]
    },
    {
      "cell_type": "code",
      "execution_count": 110,
      "metadata": {
        "colab": {
          "base_uri": "https://localhost:8080/",
          "height": 473
        },
        "id": "VeItZbNcPsNy",
        "outputId": "782c1aa5-fecc-4364-fd35-9073eaa694e6"
      },
      "outputs": [
        {
          "output_type": "display_data",
          "data": {
            "text/plain": [
              "<IPython.core.display.HTML object>"
            ],
            "text/html": [
              "\n",
              "            <style>\n",
              "                .geemap-dark {\n",
              "                    --jp-widgets-color: white;\n",
              "                    --jp-widgets-label-color: white;\n",
              "                    --jp-ui-font-color1: white;\n",
              "                    --jp-layout-color2: #454545;\n",
              "                    background-color: #383838;\n",
              "                }\n",
              "\n",
              "                .geemap-dark .jupyter-button {\n",
              "                    --jp-layout-color3: #383838;\n",
              "                }\n",
              "\n",
              "                .geemap-colab {\n",
              "                    background-color: var(--colab-primary-surface-color, white);\n",
              "                }\n",
              "\n",
              "                .geemap-colab .jupyter-button {\n",
              "                    --jp-layout-color3: var(--colab-primary-surface-color, white);\n",
              "                }\n",
              "            </style>\n",
              "            "
            ]
          },
          "metadata": {}
        },
        {
          "output_type": "display_data",
          "data": {
            "text/plain": [
              "{'type': 'Image',\n",
              " 'bands': [{'id': 'blue_mean',\n",
              "   'data_type': {'type': 'PixelType', 'precision': 'double'},\n",
              "   'crs': 'EPSG:4326',\n",
              "   'crs_transform': [1, 0, 0, 0, 1, 0]},\n",
              "  {'id': 'green_mean',\n",
              "   'data_type': {'type': 'PixelType', 'precision': 'double'},\n",
              "   'crs': 'EPSG:4326',\n",
              "   'crs_transform': [1, 0, 0, 0, 1, 0]},\n",
              "  {'id': 'red_mean',\n",
              "   'data_type': {'type': 'PixelType', 'precision': 'double'},\n",
              "   'crs': 'EPSG:4326',\n",
              "   'crs_transform': [1, 0, 0, 0, 1, 0]},\n",
              "  {'id': 'nir_mean',\n",
              "   'data_type': {'type': 'PixelType', 'precision': 'double'},\n",
              "   'crs': 'EPSG:4326',\n",
              "   'crs_transform': [1, 0, 0, 0, 1, 0]}],\n",
              " 'properties': {'band_count': 6,\n",
              "  'area_km2': 989.0847583660595,\n",
              "  'system:index': '0',\n",
              "  'system:time_start': {'type': 'Date', 'value': 946684800000},\n",
              "  'year': 2000,\n",
              "  'month_init': 1,\n",
              "  'month_end': 3,\n",
              "  'timestamp': '2000-01-01'}}"
            ]
          },
          "metadata": {}
        }
      ],
      "source": [
        "monthly_area = monthly_mosaic.map(hsvComposite).map(area_calc)\n",
        "\n",
        "display(monthly_area.first().getInfo())"
      ]
    },
    {
      "cell_type": "markdown",
      "metadata": {
        "id": "YWN7rgHhPsNy"
      },
      "source": [
        "# Import Model and Classify Images"
      ]
    },
    {
      "cell_type": "code",
      "execution_count": 111,
      "metadata": {
        "colab": {
          "base_uri": "https://localhost:8080/",
          "height": 35
        },
        "id": "jqxRupUkPsNy",
        "outputId": "9c5129a7-c990-481a-c00d-36fad22a0f9e"
      },
      "outputs": [
        {
          "output_type": "display_data",
          "data": {
            "text/plain": [
              "<IPython.core.display.HTML object>"
            ],
            "text/html": [
              "\n",
              "            <style>\n",
              "                .geemap-dark {\n",
              "                    --jp-widgets-color: white;\n",
              "                    --jp-widgets-label-color: white;\n",
              "                    --jp-ui-font-color1: white;\n",
              "                    --jp-layout-color2: #454545;\n",
              "                    background-color: #383838;\n",
              "                }\n",
              "\n",
              "                .geemap-dark .jupyter-button {\n",
              "                    --jp-layout-color3: #383838;\n",
              "                }\n",
              "\n",
              "                .geemap-colab {\n",
              "                    background-color: var(--colab-primary-surface-color, white);\n",
              "                }\n",
              "\n",
              "                .geemap-colab .jupyter-button {\n",
              "                    --jp-layout-color3: var(--colab-primary-surface-color, white);\n",
              "                }\n",
              "            </style>\n",
              "            "
            ]
          },
          "metadata": {}
        },
        {
          "output_type": "stream",
          "name": "stdout",
          "text": [
            "{'type': 'Classifier.load', 'id': 'projects/ee-curuai2/assets/RF_GEE_regressor'}\n"
          ]
        }
      ],
      "source": [
        "classifier = ee.Classifier.load('projects/ee-curuai2/assets/RF_GEE_regressor')\n",
        "print(classifier.getInfo())"
      ]
    },
    {
      "cell_type": "code",
      "execution_count": 112,
      "metadata": {
        "colab": {
          "base_uri": "https://localhost:8080/",
          "height": 35
        },
        "id": "fMy30qJ1PsNy",
        "outputId": "7545a222-3554-45b5-d0c0-a140ea8f07d7"
      },
      "outputs": [
        {
          "output_type": "display_data",
          "data": {
            "text/plain": [
              "<IPython.core.display.HTML object>"
            ],
            "text/html": [
              "\n",
              "            <style>\n",
              "                .geemap-dark {\n",
              "                    --jp-widgets-color: white;\n",
              "                    --jp-widgets-label-color: white;\n",
              "                    --jp-ui-font-color1: white;\n",
              "                    --jp-layout-color2: #454545;\n",
              "                    background-color: #383838;\n",
              "                }\n",
              "\n",
              "                .geemap-dark .jupyter-button {\n",
              "                    --jp-layout-color3: #383838;\n",
              "                }\n",
              "\n",
              "                .geemap-colab {\n",
              "                    background-color: var(--colab-primary-surface-color, white);\n",
              "                }\n",
              "\n",
              "                .geemap-colab .jupyter-button {\n",
              "                    --jp-layout-color3: var(--colab-primary-surface-color, white);\n",
              "                }\n",
              "            </style>\n",
              "            "
            ]
          },
          "metadata": {}
        },
        {
          "output_type": "display_data",
          "data": {
            "text/plain": [
              "100"
            ]
          },
          "metadata": {}
        }
      ],
      "source": [
        "predictors = ['blue_mean', 'green_mean','red_mean', 'nir_mean']\n",
        "spm_classified = monthly_area.select(predictors).map(lambda img: img.addBands(img.classify(classifier=classifier)))\n",
        "display(spm_classified.size().getInfo())"
      ]
    },
    {
      "cell_type": "code",
      "source": [
        "display(spm_classified.first().getInfo())"
      ],
      "metadata": {
        "colab": {
          "base_uri": "https://localhost:8080/",
          "height": 546
        },
        "id": "gl8IQfMfjVv2",
        "outputId": "6b203dba-fa50-4ca3-972b-28b0d2b47b30"
      },
      "execution_count": 113,
      "outputs": [
        {
          "output_type": "display_data",
          "data": {
            "text/plain": [
              "<IPython.core.display.HTML object>"
            ],
            "text/html": [
              "\n",
              "            <style>\n",
              "                .geemap-dark {\n",
              "                    --jp-widgets-color: white;\n",
              "                    --jp-widgets-label-color: white;\n",
              "                    --jp-ui-font-color1: white;\n",
              "                    --jp-layout-color2: #454545;\n",
              "                    background-color: #383838;\n",
              "                }\n",
              "\n",
              "                .geemap-dark .jupyter-button {\n",
              "                    --jp-layout-color3: #383838;\n",
              "                }\n",
              "\n",
              "                .geemap-colab {\n",
              "                    background-color: var(--colab-primary-surface-color, white);\n",
              "                }\n",
              "\n",
              "                .geemap-colab .jupyter-button {\n",
              "                    --jp-layout-color3: var(--colab-primary-surface-color, white);\n",
              "                }\n",
              "            </style>\n",
              "            "
            ]
          },
          "metadata": {}
        },
        {
          "output_type": "display_data",
          "data": {
            "text/plain": [
              "{'type': 'Image',\n",
              " 'bands': [{'id': 'blue_mean',\n",
              "   'data_type': {'type': 'PixelType', 'precision': 'double'},\n",
              "   'crs': 'EPSG:4326',\n",
              "   'crs_transform': [1, 0, 0, 0, 1, 0]},\n",
              "  {'id': 'green_mean',\n",
              "   'data_type': {'type': 'PixelType', 'precision': 'double'},\n",
              "   'crs': 'EPSG:4326',\n",
              "   'crs_transform': [1, 0, 0, 0, 1, 0]},\n",
              "  {'id': 'red_mean',\n",
              "   'data_type': {'type': 'PixelType', 'precision': 'double'},\n",
              "   'crs': 'EPSG:4326',\n",
              "   'crs_transform': [1, 0, 0, 0, 1, 0]},\n",
              "  {'id': 'nir_mean',\n",
              "   'data_type': {'type': 'PixelType', 'precision': 'double'},\n",
              "   'crs': 'EPSG:4326',\n",
              "   'crs_transform': [1, 0, 0, 0, 1, 0]},\n",
              "  {'id': 'classification',\n",
              "   'data_type': {'type': 'PixelType', 'precision': 'float'},\n",
              "   'crs': 'EPSG:4326',\n",
              "   'crs_transform': [1, 0, 0, 0, 1, 0]}],\n",
              " 'properties': {'band_count': 6,\n",
              "  'area_km2': 989.0847583660595,\n",
              "  'system:index': '0',\n",
              "  'system:time_start': {'type': 'Date', 'value': 946684800000},\n",
              "  'year': 2000,\n",
              "  'month_init': 1,\n",
              "  'month_end': 3,\n",
              "  'timestamp': '2000-01-01'}}"
            ]
          },
          "metadata": {}
        }
      ]
    },
    {
      "cell_type": "markdown",
      "metadata": {
        "id": "ZW_POia2PsNy"
      },
      "source": [
        "# Export as Asset: Image Collection"
      ]
    },
    {
      "cell_type": "code",
      "execution_count": 114,
      "metadata": {
        "colab": {
          "base_uri": "https://localhost:8080/",
          "height": 17
        },
        "id": "T_P9DCVpPsNy",
        "outputId": "009f79b9-ecaf-4631-86fd-c3eb8b568596"
      },
      "outputs": [
        {
          "output_type": "display_data",
          "data": {
            "text/plain": [
              "<IPython.core.display.HTML object>"
            ],
            "text/html": [
              "\n",
              "            <style>\n",
              "                .geemap-dark {\n",
              "                    --jp-widgets-color: white;\n",
              "                    --jp-widgets-label-color: white;\n",
              "                    --jp-ui-font-color1: white;\n",
              "                    --jp-layout-color2: #454545;\n",
              "                    background-color: #383838;\n",
              "                }\n",
              "\n",
              "                .geemap-dark .jupyter-button {\n",
              "                    --jp-layout-color3: #383838;\n",
              "                }\n",
              "\n",
              "                .geemap-colab {\n",
              "                    background-color: var(--colab-primary-surface-color, white);\n",
              "                }\n",
              "\n",
              "                .geemap-colab .jupyter-button {\n",
              "                    --jp-layout-color3: var(--colab-primary-surface-color, white);\n",
              "                }\n",
              "            </style>\n",
              "            "
            ]
          },
          "metadata": {}
        }
      ],
      "source": [
        "prj = landsat8.first().select('B4').projection().getInfo()\n",
        "scale = landsat8.first().select('B4').projection().nominalScale().getInfo()"
      ]
    },
    {
      "cell_type": "code",
      "execution_count": 115,
      "metadata": {
        "colab": {
          "base_uri": "https://localhost:8080/",
          "height": 17
        },
        "id": "RU3uD7gMPsNy",
        "outputId": "c1cef2b5-1b09-43c0-bb47-a24d9e3482f4"
      },
      "outputs": [
        {
          "output_type": "display_data",
          "data": {
            "text/plain": [
              "<IPython.core.display.HTML object>"
            ],
            "text/html": [
              "\n",
              "            <style>\n",
              "                .geemap-dark {\n",
              "                    --jp-widgets-color: white;\n",
              "                    --jp-widgets-label-color: white;\n",
              "                    --jp-ui-font-color1: white;\n",
              "                    --jp-layout-color2: #454545;\n",
              "                    background-color: #383838;\n",
              "                }\n",
              "\n",
              "                .geemap-dark .jupyter-button {\n",
              "                    --jp-layout-color3: #383838;\n",
              "                }\n",
              "\n",
              "                .geemap-colab {\n",
              "                    background-color: var(--colab-primary-surface-color, white);\n",
              "                }\n",
              "\n",
              "                .geemap-colab .jupyter-button {\n",
              "                    --jp-layout-color3: var(--colab-primary-surface-color, white);\n",
              "                }\n",
              "            </style>\n",
              "            "
            ]
          },
          "metadata": {}
        }
      ],
      "source": [
        "def export_img(img):\n",
        "      # define YOUR assetID\n",
        "    # export\n",
        "\n",
        "    fname = ee.String(img.get('timestamp')).getInfo()\n",
        "    export = ee.batch.Export.image.toAsset(\\\n",
        "        image=ee.Image(img),\n",
        "        description= 'ld_mosaic_'+fname,\n",
        "        assetId = 'projects/ee-curuai2/assets/landsat_water_period/water_period/mosaic_'+fname,#change the properties to add in images here\n",
        "        region = ee.FeatureCollection(ee.List([ee.Feature(ee.FeatureCollection('projects/ee-curuai2/assets/lim_varzea').geometry().buffer(30)),ee.Feature(ee.FeatureCollection('projects/ee-curuai2/assets/points_curuai').geometry().bounds().buffer(30))])).geometry().bounds(),\n",
        "        crs = prj['crs'],\n",
        "        scale = scale,\n",
        "        maxPixels = 1e13)\n",
        "\n",
        "    # # uncomment to run the export\n",
        "    export.start()\n",
        "    print('exporting ' +fname + '--->done')\n",
        "    return img"
      ]
    },
    {
      "cell_type": "code",
      "source": [
        "col_length = spm_classified.size().getInfo()\n",
        "#print(col_length)\n",
        "# cannot map the function because we run things in the function in bothe client and server sides so we need to make a loop\n",
        "# for very big time series It is recomendable to break the series and export data in parts\n",
        "# not only because of the loop but also because of how exporting to assets works in google earth engine\n",
        "# and you can run into problems if too much information is exported at the same time\n",
        "for i in range(0,col_length):\n",
        "    #print(i)\n",
        "    list = spm_classified.toList(col_length)\n",
        "    img = ee.Image(list.get(i))\n",
        "    export_img(img)"
      ],
      "metadata": {
        "collapsed": true,
        "colab": {
          "base_uri": "https://localhost:8080/",
          "height": 1000
        },
        "id": "aqw2MP70kqF5",
        "outputId": "f90ece1d-216c-47ee-df94-583dbe2bd33d"
      },
      "execution_count": 116,
      "outputs": [
        {
          "output_type": "display_data",
          "data": {
            "text/plain": [
              "<IPython.core.display.HTML object>"
            ],
            "text/html": [
              "\n",
              "            <style>\n",
              "                .geemap-dark {\n",
              "                    --jp-widgets-color: white;\n",
              "                    --jp-widgets-label-color: white;\n",
              "                    --jp-ui-font-color1: white;\n",
              "                    --jp-layout-color2: #454545;\n",
              "                    background-color: #383838;\n",
              "                }\n",
              "\n",
              "                .geemap-dark .jupyter-button {\n",
              "                    --jp-layout-color3: #383838;\n",
              "                }\n",
              "\n",
              "                .geemap-colab {\n",
              "                    background-color: var(--colab-primary-surface-color, white);\n",
              "                }\n",
              "\n",
              "                .geemap-colab .jupyter-button {\n",
              "                    --jp-layout-color3: var(--colab-primary-surface-color, white);\n",
              "                }\n",
              "            </style>\n",
              "            "
            ]
          },
          "metadata": {}
        },
        {
          "output_type": "stream",
          "name": "stdout",
          "text": [
            "exporting 2000-01-01--->done\n",
            "exporting 2000-04-01--->done\n",
            "exporting 2000-07-01--->done\n",
            "exporting 2000-10-01--->done\n",
            "exporting 2001-01-01--->done\n",
            "exporting 2001-04-01--->done\n",
            "exporting 2001-07-01--->done\n",
            "exporting 2001-10-01--->done\n",
            "exporting 2002-01-01--->done\n",
            "exporting 2002-04-01--->done\n",
            "exporting 2002-07-01--->done\n",
            "exporting 2002-10-01--->done\n",
            "exporting 2003-01-01--->done\n",
            "exporting 2003-04-01--->done\n",
            "exporting 2003-07-01--->done\n",
            "exporting 2003-10-01--->done\n",
            "exporting 2004-01-01--->done\n",
            "exporting 2004-04-01--->done\n",
            "exporting 2004-07-01--->done\n",
            "exporting 2004-10-01--->done\n",
            "exporting 2005-01-01--->done\n",
            "exporting 2005-04-01--->done\n",
            "exporting 2005-07-01--->done\n",
            "exporting 2005-10-01--->done\n",
            "exporting 2006-01-01--->done\n",
            "exporting 2006-04-01--->done\n",
            "exporting 2006-07-01--->done\n",
            "exporting 2006-10-01--->done\n",
            "exporting 2007-01-01--->done\n",
            "exporting 2007-04-01--->done\n",
            "exporting 2007-07-01--->done\n",
            "exporting 2007-10-01--->done\n",
            "exporting 2008-01-01--->done\n",
            "exporting 2008-04-01--->done\n",
            "exporting 2008-07-01--->done\n",
            "exporting 2008-10-01--->done\n",
            "exporting 2009-01-01--->done\n",
            "exporting 2009-04-01--->done\n",
            "exporting 2009-07-01--->done\n",
            "exporting 2009-10-01--->done\n",
            "exporting 2010-01-01--->done\n",
            "exporting 2010-04-01--->done\n",
            "exporting 2010-07-01--->done\n",
            "exporting 2010-10-01--->done\n",
            "exporting 2011-01-01--->done\n",
            "exporting 2011-04-01--->done\n",
            "exporting 2011-07-01--->done\n",
            "exporting 2011-10-01--->done\n",
            "exporting 2012-01-01--->done\n",
            "exporting 2012-04-01--->done\n",
            "exporting 2012-07-01--->done\n",
            "exporting 2012-10-01--->done\n",
            "exporting 2013-01-01--->done\n",
            "exporting 2013-04-01--->done\n",
            "exporting 2013-07-01--->done\n",
            "exporting 2013-10-01--->done\n",
            "exporting 2014-01-01--->done\n",
            "exporting 2014-04-01--->done\n",
            "exporting 2014-07-01--->done\n",
            "exporting 2014-10-01--->done\n",
            "exporting 2015-01-01--->done\n",
            "exporting 2015-04-01--->done\n",
            "exporting 2015-07-01--->done\n",
            "exporting 2015-10-01--->done\n",
            "exporting 2016-01-01--->done\n",
            "exporting 2016-04-01--->done\n",
            "exporting 2016-07-01--->done\n",
            "exporting 2016-10-01--->done\n",
            "exporting 2017-01-01--->done\n",
            "exporting 2017-04-01--->done\n",
            "exporting 2017-07-01--->done\n",
            "exporting 2017-10-01--->done\n",
            "exporting 2018-01-01--->done\n",
            "exporting 2018-04-01--->done\n",
            "exporting 2018-07-01--->done\n",
            "exporting 2018-10-01--->done\n",
            "exporting 2019-01-01--->done\n",
            "exporting 2019-04-01--->done\n",
            "exporting 2019-07-01--->done\n",
            "exporting 2019-10-01--->done\n",
            "exporting 2020-01-01--->done\n",
            "exporting 2020-04-01--->done\n",
            "exporting 2020-07-01--->done\n",
            "exporting 2020-10-01--->done\n",
            "exporting 2021-01-01--->done\n",
            "exporting 2021-04-01--->done\n",
            "exporting 2021-07-01--->done\n",
            "exporting 2021-10-01--->done\n",
            "exporting 2022-01-01--->done\n",
            "exporting 2022-04-01--->done\n",
            "exporting 2022-07-01--->done\n",
            "exporting 2022-10-01--->done\n",
            "exporting 2023-01-01--->done\n",
            "exporting 2023-04-01--->done\n",
            "exporting 2023-07-01--->done\n",
            "exporting 2023-10-01--->done\n",
            "exporting 2024-01-01--->done\n",
            "exporting 2024-04-01--->done\n",
            "exporting 2024-07-01--->done\n",
            "exporting 2024-10-01--->done\n"
          ]
        }
      ]
    },
    {
      "cell_type": "markdown",
      "source": [
        "# Visualize gif"
      ],
      "metadata": {
        "id": "aStmHpZIl-AM"
      }
    },
    {
      "cell_type": "code",
      "source": [
        "# Define arguments for animation function parameters.\n",
        "video_args = {\n",
        "    \"dimensions\": 768,\n",
        "    \"region\": ee.FeatureCollection(ee.List([ee.Feature(ee.FeatureCollection('projects/ee-curuai2/assets/lim_varzea').geometry().buffer(30)),ee.Feature(ee.FeatureCollection('projects/ee-curuai2/assets/points_curuai').geometry().bounds().buffer(30))])).geometry().bounds(),\n",
        "    \"framesPerSecond\": 5,\n",
        "    \"bands\": [\"classification\"],\n",
        "    \"min\": 1,\n",
        "    \"max\": 350,\n",
        "    \"palette\": ['blue','green', 'yellow', 'orange','red'],\n",
        "}"
      ],
      "metadata": {
        "colab": {
          "base_uri": "https://localhost:8080/",
          "height": 17
        },
        "id": "xHqcw6wKmDr4",
        "outputId": "44b5d14a-b3ba-413f-908e-8b5105b025ab"
      },
      "execution_count": 123,
      "outputs": [
        {
          "output_type": "display_data",
          "data": {
            "text/plain": [
              "<IPython.core.display.HTML object>"
            ],
            "text/html": [
              "\n",
              "            <style>\n",
              "                .geemap-dark {\n",
              "                    --jp-widgets-color: white;\n",
              "                    --jp-widgets-label-color: white;\n",
              "                    --jp-ui-font-color1: white;\n",
              "                    --jp-layout-color2: #454545;\n",
              "                    background-color: #383838;\n",
              "                }\n",
              "\n",
              "                .geemap-dark .jupyter-button {\n",
              "                    --jp-layout-color3: #383838;\n",
              "                }\n",
              "\n",
              "                .geemap-colab {\n",
              "                    background-color: var(--colab-primary-surface-color, white);\n",
              "                }\n",
              "\n",
              "                .geemap-colab .jupyter-button {\n",
              "                    --jp-layout-color3: var(--colab-primary-surface-color, white);\n",
              "                }\n",
              "            </style>\n",
              "            "
            ]
          },
          "metadata": {}
        }
      ]
    },
    {
      "cell_type": "code",
      "source": [
        "geemap.download_ee_video(spm_classified, video_args, '/content/classification_SPM.gif')"
      ],
      "metadata": {
        "colab": {
          "base_uri": "https://localhost:8080/",
          "height": 53
        },
        "id": "lJVzdWC0nErw",
        "outputId": "322fdfb8-9de3-47b0-cd39-188a77898ff8"
      },
      "execution_count": 124,
      "outputs": [
        {
          "output_type": "display_data",
          "data": {
            "text/plain": [
              "<IPython.core.display.HTML object>"
            ],
            "text/html": [
              "\n",
              "            <style>\n",
              "                .geemap-dark {\n",
              "                    --jp-widgets-color: white;\n",
              "                    --jp-widgets-label-color: white;\n",
              "                    --jp-ui-font-color1: white;\n",
              "                    --jp-layout-color2: #454545;\n",
              "                    background-color: #383838;\n",
              "                }\n",
              "\n",
              "                .geemap-dark .jupyter-button {\n",
              "                    --jp-layout-color3: #383838;\n",
              "                }\n",
              "\n",
              "                .geemap-colab {\n",
              "                    background-color: var(--colab-primary-surface-color, white);\n",
              "                }\n",
              "\n",
              "                .geemap-colab .jupyter-button {\n",
              "                    --jp-layout-color3: var(--colab-primary-surface-color, white);\n",
              "                }\n",
              "            </style>\n",
              "            "
            ]
          },
          "metadata": {}
        },
        {
          "output_type": "stream",
          "name": "stdout",
          "text": [
            "Generating URL...\n",
            "Total request size (29414400 pixels) must be less than or equal to 26214400 pixels.\n"
          ]
        }
      ]
    },
    {
      "cell_type": "code",
      "source": [
        "geemap.add_text_to_gif(\n",
        "    '/content/classification_SPM.gif',\n",
        "    '/content/classification_SPM_text.gif',\n",
        "    xy=(\"3%\", \"5%\"),\n",
        "    text_sequence=spm_classified.aggregate_array('timestamp').getInfo(),\n",
        "    font_size=30,\n",
        "    font_color=\"#ffffff\",\n",
        "    add_progress_bar=True,\n",
        ")"
      ],
      "metadata": {
        "colab": {
          "base_uri": "https://localhost:8080/",
          "height": 35
        },
        "id": "pVEXYpoBoFTx",
        "outputId": "7f453f14-f458-45ce-cac6-5fadc8f29520"
      },
      "execution_count": 125,
      "outputs": [
        {
          "output_type": "display_data",
          "data": {
            "text/plain": [
              "<IPython.core.display.HTML object>"
            ],
            "text/html": [
              "\n",
              "            <style>\n",
              "                .geemap-dark {\n",
              "                    --jp-widgets-color: white;\n",
              "                    --jp-widgets-label-color: white;\n",
              "                    --jp-ui-font-color1: white;\n",
              "                    --jp-layout-color2: #454545;\n",
              "                    background-color: #383838;\n",
              "                }\n",
              "\n",
              "                .geemap-dark .jupyter-button {\n",
              "                    --jp-layout-color3: #383838;\n",
              "                }\n",
              "\n",
              "                .geemap-colab {\n",
              "                    background-color: var(--colab-primary-surface-color, white);\n",
              "                }\n",
              "\n",
              "                .geemap-colab .jupyter-button {\n",
              "                    --jp-layout-color3: var(--colab-primary-surface-color, white);\n",
              "                }\n",
              "            </style>\n",
              "            "
            ]
          },
          "metadata": {}
        },
        {
          "output_type": "stream",
          "name": "stdout",
          "text": [
            "The length of the text sequence must be equal to the number (72) of frames in the gif.\n"
          ]
        }
      ]
    },
    {
      "cell_type": "code",
      "source": [
        "# Define arguments for animation function parameters.\n",
        "video_args = {\n",
        "    \"dimensions\": 768,\n",
        "    \"region\": ee.FeatureCollection(ee.List([ee.Feature(ee.FeatureCollection('projects/ee-curuai2/assets/lim_varzea').geometry().buffer(30)),ee.Feature(ee.FeatureCollection('projects/ee-curuai2/assets/points_curuai').geometry().bounds().buffer(30))])).geometry().bounds(),\n",
        "    \"framesPerSecond\": 5,\n",
        "    \"bands\": [\"red_mean\",'green_mean','blue_mean'],\n",
        "    \"min\": 0,\n",
        "    \"max\": 0.07,\n",
        "}"
      ],
      "metadata": {
        "colab": {
          "base_uri": "https://localhost:8080/",
          "height": 17
        },
        "id": "I-9Dam1Mpvkc",
        "outputId": "a6109dd9-1c07-40ee-c7df-9383d3e422c8"
      },
      "execution_count": 126,
      "outputs": [
        {
          "output_type": "display_data",
          "data": {
            "text/plain": [
              "<IPython.core.display.HTML object>"
            ],
            "text/html": [
              "\n",
              "            <style>\n",
              "                .geemap-dark {\n",
              "                    --jp-widgets-color: white;\n",
              "                    --jp-widgets-label-color: white;\n",
              "                    --jp-ui-font-color1: white;\n",
              "                    --jp-layout-color2: #454545;\n",
              "                    background-color: #383838;\n",
              "                }\n",
              "\n",
              "                .geemap-dark .jupyter-button {\n",
              "                    --jp-layout-color3: #383838;\n",
              "                }\n",
              "\n",
              "                .geemap-colab {\n",
              "                    background-color: var(--colab-primary-surface-color, white);\n",
              "                }\n",
              "\n",
              "                .geemap-colab .jupyter-button {\n",
              "                    --jp-layout-color3: var(--colab-primary-surface-color, white);\n",
              "                }\n",
              "            </style>\n",
              "            "
            ]
          },
          "metadata": {}
        }
      ]
    },
    {
      "cell_type": "code",
      "source": [
        "geemap.download_ee_video(spm_classified, video_args, '/content/water_period.gif')"
      ],
      "metadata": {
        "colab": {
          "base_uri": "https://localhost:8080/",
          "height": 53
        },
        "id": "lo8e8J0CrRfS",
        "outputId": "7579e52e-616f-4962-91e8-2613e1fb5e79"
      },
      "execution_count": 127,
      "outputs": [
        {
          "output_type": "display_data",
          "data": {
            "text/plain": [
              "<IPython.core.display.HTML object>"
            ],
            "text/html": [
              "\n",
              "            <style>\n",
              "                .geemap-dark {\n",
              "                    --jp-widgets-color: white;\n",
              "                    --jp-widgets-label-color: white;\n",
              "                    --jp-ui-font-color1: white;\n",
              "                    --jp-layout-color2: #454545;\n",
              "                    background-color: #383838;\n",
              "                }\n",
              "\n",
              "                .geemap-dark .jupyter-button {\n",
              "                    --jp-layout-color3: #383838;\n",
              "                }\n",
              "\n",
              "                .geemap-colab {\n",
              "                    background-color: var(--colab-primary-surface-color, white);\n",
              "                }\n",
              "\n",
              "                .geemap-colab .jupyter-button {\n",
              "                    --jp-layout-color3: var(--colab-primary-surface-color, white);\n",
              "                }\n",
              "            </style>\n",
              "            "
            ]
          },
          "metadata": {}
        },
        {
          "output_type": "stream",
          "name": "stdout",
          "text": [
            "Generating URL...\n",
            "Total request size (29414400 pixels) must be less than or equal to 26214400 pixels.\n"
          ]
        }
      ]
    },
    {
      "cell_type": "code",
      "source": [
        "geemap.add_text_to_gif(\n",
        "    '/content/water_period.gif',\n",
        "    '/content/water_period_text.gif',\n",
        "    xy=(\"3%\", \"5%\"),\n",
        "    text_sequence=spm_classified.aggregate_array('timestamp').getInfo(),\n",
        "    font_size=30,\n",
        "    font_color=\"#ffffff\",\n",
        "    add_progress_bar=True,\n",
        ")"
      ],
      "metadata": {
        "colab": {
          "base_uri": "https://localhost:8080/",
          "height": 35
        },
        "id": "oDCSz95hrcP_",
        "outputId": "fa503b2a-c276-4a75-9f28-6015a5b72565"
      },
      "execution_count": 128,
      "outputs": [
        {
          "output_type": "display_data",
          "data": {
            "text/plain": [
              "<IPython.core.display.HTML object>"
            ],
            "text/html": [
              "\n",
              "            <style>\n",
              "                .geemap-dark {\n",
              "                    --jp-widgets-color: white;\n",
              "                    --jp-widgets-label-color: white;\n",
              "                    --jp-ui-font-color1: white;\n",
              "                    --jp-layout-color2: #454545;\n",
              "                    background-color: #383838;\n",
              "                }\n",
              "\n",
              "                .geemap-dark .jupyter-button {\n",
              "                    --jp-layout-color3: #383838;\n",
              "                }\n",
              "\n",
              "                .geemap-colab {\n",
              "                    background-color: var(--colab-primary-surface-color, white);\n",
              "                }\n",
              "\n",
              "                .geemap-colab .jupyter-button {\n",
              "                    --jp-layout-color3: var(--colab-primary-surface-color, white);\n",
              "                }\n",
              "            </style>\n",
              "            "
            ]
          },
          "metadata": {}
        },
        {
          "output_type": "stream",
          "name": "stdout",
          "text": [
            "The length of the text sequence must be equal to the number (72) of frames in the gif.\n"
          ]
        }
      ]
    }
  ],
  "metadata": {
    "language_info": {
      "name": "python"
    },
    "colab": {
      "provenance": []
    },
    "kernelspec": {
      "name": "python3",
      "display_name": "Python 3"
    }
  },
  "nbformat": 4,
  "nbformat_minor": 0
}