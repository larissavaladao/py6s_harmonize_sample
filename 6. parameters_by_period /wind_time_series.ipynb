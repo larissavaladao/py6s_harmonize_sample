{
  "nbformat": 4,
  "nbformat_minor": 0,
  "metadata": {
    "colab": {
      "provenance": [],
      "authorship_tag": "ABX9TyOYr/FQbeKd3nxn23F6iSjd",
      "include_colab_link": true
    },
    "kernelspec": {
      "name": "python3",
      "display_name": "Python 3"
    },
    "language_info": {
      "name": "python"
    }
  },
  "cells": [
    {
      "cell_type": "markdown",
      "metadata": {
        "id": "view-in-github",
        "colab_type": "text"
      },
      "source": [
        "<a href=\"https://colab.research.google.com/github/larissavaladao/py6s_harmonize_sample/blob/main/6.%20parameters_by_period%20/wind_time_series.ipynb\" target=\"_parent\"><img src=\"https://colab.research.google.com/assets/colab-badge.svg\" alt=\"Open In Colab\"/></a>"
      ]
    },
    {
      "cell_type": "code",
      "execution_count": 2,
      "metadata": {
        "id": "lRvPlzIAw_F-"
      },
      "outputs": [],
      "source": [
        "import ee\n",
        "import geemap"
      ]
    },
    {
      "cell_type": "code",
      "source": [
        "ee.Authenticate()\n",
        "ee.Initialize(project='ee-curuai2')"
      ],
      "metadata": {
        "colab": {
          "base_uri": "https://localhost:8080/",
          "height": 17
        },
        "id": "YbGnB1fYxC9u",
        "outputId": "51f5f4a0-cb4f-4781-ccc3-e0b1d92750c7"
      },
      "execution_count": 3,
      "outputs": [
        {
          "output_type": "display_data",
          "data": {
            "text/plain": [
              "<IPython.core.display.HTML object>"
            ],
            "text/html": [
              "\n",
              "            <style>\n",
              "                .geemap-dark {\n",
              "                    --jp-widgets-color: white;\n",
              "                    --jp-widgets-label-color: white;\n",
              "                    --jp-ui-font-color1: white;\n",
              "                    --jp-layout-color2: #454545;\n",
              "                    background-color: #383838;\n",
              "                }\n",
              "\n",
              "                .geemap-dark .jupyter-button {\n",
              "                    --jp-layout-color3: #383838;\n",
              "                }\n",
              "\n",
              "                .geemap-colab {\n",
              "                    background-color: var(--colab-primary-surface-color, white);\n",
              "                }\n",
              "\n",
              "                .geemap-colab .jupyter-button {\n",
              "                    --jp-layout-color3: var(--colab-primary-surface-color, white);\n",
              "                }\n",
              "            </style>\n",
              "            "
            ]
          },
          "metadata": {}
        }
      ]
    },
    {
      "cell_type": "code",
      "source": [
        "from google.colab import drive\n",
        "drive.mount('/content/drive')"
      ],
      "metadata": {
        "colab": {
          "base_uri": "https://localhost:8080/",
          "height": 34
        },
        "id": "Jfjp5OC9xFPn",
        "outputId": "0a435dae-79b1-48aa-d4cd-718509742b26"
      },
      "execution_count": 4,
      "outputs": [
        {
          "output_type": "display_data",
          "data": {
            "text/plain": [
              "<IPython.core.display.HTML object>"
            ],
            "text/html": [
              "\n",
              "            <style>\n",
              "                .geemap-dark {\n",
              "                    --jp-widgets-color: white;\n",
              "                    --jp-widgets-label-color: white;\n",
              "                    --jp-ui-font-color1: white;\n",
              "                    --jp-layout-color2: #454545;\n",
              "                    background-color: #383838;\n",
              "                }\n",
              "\n",
              "                .geemap-dark .jupyter-button {\n",
              "                    --jp-layout-color3: #383838;\n",
              "                }\n",
              "\n",
              "                .geemap-colab {\n",
              "                    background-color: var(--colab-primary-surface-color, white);\n",
              "                }\n",
              "\n",
              "                .geemap-colab .jupyter-button {\n",
              "                    --jp-layout-color3: var(--colab-primary-surface-color, white);\n",
              "                }\n",
              "            </style>\n",
              "            "
            ]
          },
          "metadata": {}
        },
        {
          "output_type": "stream",
          "name": "stdout",
          "text": [
            "Mounted at /content/drive\n"
          ]
        }
      ]
    },
    {
      "cell_type": "code",
      "source": [
        "floodplain = ee.FeatureCollection('projects/ee-curuai2/assets/lim_varzea')\n",
        "floodplain"
      ],
      "metadata": {
        "colab": {
          "base_uri": "https://localhost:8080/",
          "height": 68
        },
        "id": "agUMQf7c2XiA",
        "outputId": "ec6bbb64-324f-4f82-ab9f-7560941b80d6"
      },
      "execution_count": 8,
      "outputs": [
        {
          "output_type": "display_data",
          "data": {
            "text/plain": [
              "<IPython.core.display.HTML object>"
            ],
            "text/html": [
              "\n",
              "            <style>\n",
              "                .geemap-dark {\n",
              "                    --jp-widgets-color: white;\n",
              "                    --jp-widgets-label-color: white;\n",
              "                    --jp-ui-font-color1: white;\n",
              "                    --jp-layout-color2: #454545;\n",
              "                    background-color: #383838;\n",
              "                }\n",
              "\n",
              "                .geemap-dark .jupyter-button {\n",
              "                    --jp-layout-color3: #383838;\n",
              "                }\n",
              "\n",
              "                .geemap-colab {\n",
              "                    background-color: var(--colab-primary-surface-color, white);\n",
              "                }\n",
              "\n",
              "                .geemap-colab .jupyter-button {\n",
              "                    --jp-layout-color3: var(--colab-primary-surface-color, white);\n",
              "                }\n",
              "            </style>\n",
              "            "
            ]
          },
          "metadata": {}
        },
        {
          "output_type": "execute_result",
          "data": {
            "text/plain": [
              "<ee.featurecollection.FeatureCollection at 0x7a3d7fa0c450>"
            ],
            "text/html": [
              "<div><style>:root {\n",
              "  --font-color-primary: var(--jp-content-font-color0, rgba(0, 0, 0, 1));\n",
              "  --font-color-secondary: var(--jp-content-font-color2, rgba(0, 0, 0, 0.7));\n",
              "  --font-color-accent: rgba(123, 31, 162, 1);\n",
              "  --border-color: var(--jp-border-color2, #e0e0e0);\n",
              "  --background-color: var(--jp-layout-color0, white);\n",
              "  --background-color-row-even: var(--jp-layout-color1, white);\n",
              "  --background-color-row-odd: var(--jp-layout-color2, #eeeeee);\n",
              "}\n",
              "\n",
              "html[theme=\"dark\"],\n",
              "body[data-theme=\"dark\"],\n",
              "body.vscode-dark {\n",
              "  --font-color-primary: rgba(255, 255, 255, 1);\n",
              "  --font-color-secondary: rgba(255, 255, 255, 0.7);\n",
              "  --font-color-accent: rgb(173, 132, 190);\n",
              "  --border-color: #2e2e2e;\n",
              "  --background-color: #111111;\n",
              "  --background-color-row-even: #111111;\n",
              "  --background-color-row-odd: #313131;\n",
              "}\n",
              "\n",
              ".eerepr {\n",
              "  padding: 1em;\n",
              "  line-height: 1.5em;\n",
              "  min-width: 300px;\n",
              "  max-width: 1200px;\n",
              "  overflow-y: scroll;\n",
              "  max-height: 600px;\n",
              "  border: 1px solid var(--border-color);\n",
              "  font-family: monospace;\n",
              "  font-size: 14px;\n",
              "}\n",
              "\n",
              ".eerepr li {\n",
              "  list-style-type: none;\n",
              "  margin: 0;\n",
              "}\n",
              "\n",
              ".eerepr ul {\n",
              "  padding-left: 1.5em !important;\n",
              "  margin: 0;\n",
              "}\n",
              "\n",
              ".eerepr > ul {\n",
              "  padding-left: 0 !important;\n",
              "}\n",
              "\n",
              ".eerepr summary {\n",
              "  color: var(--font-color-secondary);\n",
              "  cursor: pointer;\n",
              "  margin: 0;\n",
              "}\n",
              "\n",
              ".eerepr summary:hover {\n",
              "  color: var(--font-color-primary);\n",
              "  background-color: var(--background-color-row-odd)\n",
              "}\n",
              "\n",
              ".ee-k {\n",
              "  color: var(--font-color-accent);\n",
              "  margin-right: 6px;\n",
              "}\n",
              "\n",
              ".ee-v {\n",
              "  color: var(--font-color-primary);\n",
              "}\n",
              "\n",
              ".eerepr details > summary::before {\n",
              "  content: '▼';\n",
              "  display: inline-block;\n",
              "  margin-right: 6px;\n",
              "  transition: transform 0.2s;\n",
              "  transform: rotate(-90deg);\n",
              "}\n",
              "\n",
              ".eerepr details[open] > summary::before {\n",
              "  transform: rotate(0deg);\n",
              "}\n",
              "\n",
              ".eerepr details summary::-webkit-details-marker {\n",
              "  display:none;\n",
              "}\n",
              "\n",
              ".eerepr details summary {\n",
              "  list-style-type: none;\n",
              "}\n",
              "</style><div class='eerepr'><ul><li><details><summary>FeatureCollection projects/ee-curuai2/assets/lim_varzea  (1 element, 2 columns)</summary><ul><li><span class='ee-k'>type:</span><span class='ee-v'>FeatureCollection</span></li><li><span class='ee-k'>id:</span><span class='ee-v'>projects/ee-curuai2/assets/lim_varzea</span></li><li><span class='ee-k'>version:</span><span class='ee-v'>1740736709559421</span></li><li><details><summary>columns: Object (2 properties)</summary><ul><li><span class='ee-k'>id:</span><span class='ee-v'>Long</span></li><li><span class='ee-k'>system:index:</span><span class='ee-v'>String</span></li></ul></details></li><li><details><summary>properties: Object (1 property)</summary><ul><li><span class='ee-k'>system:asset_size:</span><span class='ee-v'>10804</span></li></ul></details></li><li><details><summary>features: List (1 element)</summary><ul><li><details><summary>0: Feature (Polygon, 1 property)</summary><ul><li><span class='ee-k'>type:</span><span class='ee-v'>Feature</span></li><li><span class='ee-k'>id:</span><span class='ee-v'>00000000000000000000</span></li><li><details><summary>geometry: Polygon (399 vertices)</summary><ul><li><span class='ee-k'>type:</span><span class='ee-v'>Polygon</span></li><li><details><summary>coordinates: List (1 element)</summary><ul><li><details><summary>0: List (399 elements)</summary><ul><li><details><summary>0: [-56.11231458159923, -2.1797042197069127]</summary><ul><li><span class='ee-k'>0:</span><span class='ee-v'>-56.11231458159923</span></li><li><span class='ee-k'>1:</span><span class='ee-v'>-2.1797042197069127</span></li></ul></details></li><li><details><summary>1: [-56.10630446900284, -2.183400634136855]</summary><ul><li><span class='ee-k'>0:</span><span class='ee-v'>-56.10630446900284</span></li><li><span class='ee-k'>1:</span><span class='ee-v'>-2.183400634136855</span></li></ul></details></li><li><details><summary>2: [-56.10630625668045, -2.188021204081375]</summary><ul><li><span class='ee-k'>0:</span><span class='ee-v'>-56.10630625668045</span></li><li><span class='ee-k'>1:</span><span class='ee-v'>-2.188021204081375</span></li></ul></details></li><li><details><summary>3: [-56.10168650273776, -2.1954185077535677]</summary><ul><li><span class='ee-k'>0:</span><span class='ee-v'>-56.10168650273776</span></li><li><span class='ee-k'>1:</span><span class='ee-v'>-2.1954185077535677</span></li></ul></details></li><li><details><summary>4: [-56.10168318293153, -2.2009640432318345]</summary><ul><li><span class='ee-k'>0:</span><span class='ee-v'>-56.10168318293153</span></li><li><span class='ee-k'>1:</span><span class='ee-v'>-2.2009640432318345</span></li></ul></details></li><li><details><summary>5: [-56.09428950524711, -2.20419706514774]</summary><ul><li><span class='ee-k'>0:</span><span class='ee-v'>-56.09428950524711</span></li><li><span class='ee-k'>1:</span><span class='ee-v'>-2.20419706514774</span></li></ul></details></li><li><details><summary>6: [-56.091977857915275, -2.2106707217426744]</summary><ul><li><span class='ee-k'>0:</span><span class='ee-v'>-56.091977857915275</span></li><li><span class='ee-k'>1:</span><span class='ee-v'>-2.2106707217426744</span></li></ul></details></li><li><details><summary>7: [-56.08874178535219, -2.2106686926609633]</summary><ul><li><span class='ee-k'>0:</span><span class='ee-v'>-56.08874178535219</span></li><li><span class='ee-k'>1:</span><span class='ee-v'>-2.2106686926609633</span></li></ul></details></li><li><details><summary>8: [-56.088279462083996, -2.214826446793041]</summary><ul><li><span class='ee-k'>0:</span><span class='ee-v'>-56.088279462083996</span></li><li><span class='ee-k'>1:</span><span class='ee-v'>-2.214826446793041</span></li></ul></details></li><li><details><summary>9: [-56.08365848482258, -2.216678068737305]</summary><ul><li><span class='ee-k'>0:</span><span class='ee-v'>-56.08365848482258</span></li><li><span class='ee-k'>1:</span><span class='ee-v'>-2.216678068737305</span></li></ul></details></li><li><details><summary>10: [-56.07580203718247, -2.2245356918859125]</summary><ul><li><span class='ee-k'>0:</span><span class='ee-v'>-56.07580203718247</span></li><li><span class='ee-k'>1:</span><span class='ee-v'>-2.2245356918859125</span></li></ul></details></li><li><details><summary>11: [-56.073028863049856, -2.2337794601055037]</summary><ul><li><span class='ee-k'>0:</span><span class='ee-v'>-56.073028863049856</span></li><li><span class='ee-k'>1:</span><span class='ee-v'>-2.2337794601055037</span></li></ul></details></li><li><details><summary>12: [-56.07580178188458, -2.2393222251204583]</summary><ul><li><span class='ee-k'>0:</span><span class='ee-v'>-56.07580178188458</span></li><li><span class='ee-k'>1:</span><span class='ee-v'>-2.2393222251204583</span></li></ul></details></li><li><details><summary>13: [-56.073491109659805, -2.243945781281656]</summary><ul><li><span class='ee-k'>0:</span><span class='ee-v'>-56.073491109659805</span></li><li><span class='ee-k'>1:</span><span class='ee-v'>-2.243945781281656</span></li></ul></details></li><li><details><summary>14: [-56.0799598276588, -2.256886411514718]</summary><ul><li><span class='ee-k'>0:</span><span class='ee-v'>-56.0799598276588</span></li><li><span class='ee-k'>1:</span><span class='ee-v'>-2.256886411514718</span></li></ul></details></li><li><details><summary>15: [-56.08828039830329, -2.2638202142174726]</summary><ul><li><span class='ee-k'>0:</span><span class='ee-v'>-56.08828039830329</span></li><li><span class='ee-k'>1:</span><span class='ee-v'>-2.2638202142174726</span></li></ul></details></li><li><details><summary>16: [-56.085047179205574, -2.2661306772235164]</summary><ul><li><span class='ee-k'>0:</span><span class='ee-v'>-56.085047179205574</span></li><li><span class='ee-k'>1:</span><span class='ee-v'>-2.2661306772235164</span></li></ul></details></li><li><details><summary>17: [-56.07996025317454, -2.2633569239109477]</summary><ul><li><span class='ee-k'>0:</span><span class='ee-v'>-56.07996025317454</span></li><li><span class='ee-k'>1:</span><span class='ee-v'>-2.2633569239109477</span></li></ul></details></li><li><details><summary>18: [-56.063323242430855, -2.2712132011821806]</summary><ul><li><span class='ee-k'>0:</span><span class='ee-v'>-56.063323242430855</span></li><li><span class='ee-k'>1:</span><span class='ee-v'>-2.2712132011821806</span></li></ul></details></li><li><details><summary>19: [-56.05869994616668, -2.276297664419866]</summary><ul><li><span class='ee-k'>0:</span><span class='ee-v'>-56.05869994616668</span></li><li><span class='ee-k'>1:</span><span class='ee-v'>-2.276297664419866</span></li></ul></details></li><li><details><summary>20: [-56.05269171918465, -2.276298189378025]</summary><ul><li><span class='ee-k'>0:</span><span class='ee-v'>-56.05269171918465</span></li><li><span class='ee-k'>1:</span><span class='ee-v'>-2.276298189378025</span></li></ul></details></li><li><details><summary>21: [-56.051306661621055, -2.285080208237978]</summary><ul><li><span class='ee-k'>0:</span><span class='ee-v'>-56.051306661621055</span></li><li><span class='ee-k'>1:</span><span class='ee-v'>-2.285080208237978</span></li></ul></details></li><li><details><summary>22: [-56.04853184508066, -2.2892408560420336]</summary><ul><li><span class='ee-k'>0:</span><span class='ee-v'>-56.04853184508066</span></li><li><span class='ee-k'>1:</span><span class='ee-v'>-2.2892408560420336</span></li></ul></details></li><li><details><summary>23: [-56.05223170419692, -2.2970967677830965]</summary><ul><li><span class='ee-k'>0:</span><span class='ee-v'>-56.05223170419692</span></li><li><span class='ee-k'>1:</span><span class='ee-v'>-2.2970967677830965</span></li></ul></details></li><li><details><summary>24: [-56.045297812841085, -2.2994090655982067]</summary><ul><li><span class='ee-k'>0:</span><span class='ee-v'>-56.045297812841085</span></li><li><span class='ee-k'>1:</span><span class='ee-v'>-2.2994090655982067</span></li></ul></details></li><li><details><summary>25: [-56.039290208448875, -2.304954999525791]</summary><ul><li><span class='ee-k'>0:</span><span class='ee-v'>-56.039290208448875</span></li><li><span class='ee-k'>1:</span><span class='ee-v'>-2.304954999525791</span></li></ul></details></li><li><details><summary>26: [-56.033745894852835, -2.311888610192906]</summary><ul><li><span class='ee-k'>0:</span><span class='ee-v'>-56.033745894852835</span></li><li><span class='ee-k'>1:</span><span class='ee-v'>-2.311888610192906</span></li></ul></details></li><li><details><summary>27: [-56.03097007880318, -2.310961748894008]</summary><ul><li><span class='ee-k'>0:</span><span class='ee-v'>-56.03097007880318</span></li><li><span class='ee-k'>1:</span><span class='ee-v'>-2.310961748894008</span></li></ul></details></li><li><details><summary>28: [-56.03096999374545, -2.304491319205148]</summary><ul><li><span class='ee-k'>0:</span><span class='ee-v'>-56.03096999374545</span></li><li><span class='ee-k'>1:</span><span class='ee-v'>-2.304491319205148</span></li></ul></details></li><li><details><summary>29: [-56.0281985145827, -2.303568908054402]</summary><ul><li><span class='ee-k'>0:</span><span class='ee-v'>-56.0281985145827</span></li><li><span class='ee-k'>1:</span><span class='ee-v'>-2.303568908054402</span></li></ul></details></li><li><details><summary>30: [-56.026348583614435, -2.2998676782468603]</summary><ul><li><span class='ee-k'>0:</span><span class='ee-v'>-56.026348583614435</span></li><li><span class='ee-k'>1:</span><span class='ee-v'>-2.2998676782468603</span></li></ul></details></li><li><details><summary>31: [-56.01710374179321, -2.3003328089294306]</summary><ul><li><span class='ee-k'>0:</span><span class='ee-v'>-56.01710374179321</span></li><li><span class='ee-k'>1:</span><span class='ee-v'>-2.3003328089294306</span></li></ul></details></li><li><details><summary>32: [-56.013409893462736, -2.2970972951158117]</summary><ul><li><span class='ee-k'>0:</span><span class='ee-v'>-56.013409893462736</span></li><li><span class='ee-k'>1:</span><span class='ee-v'>-2.2970972951158117</span></li></ul></details></li><li><details><summary>33: [-56.0037005506551, -2.29801998686786]</summary><ul><li><span class='ee-k'>0:</span><span class='ee-v'>-56.0037005506551</span></li><li><span class='ee-k'>1:</span><span class='ee-v'>-2.29801998686786</span></li></ul></details></li><li><details><summary>34: [-55.99861983711874, -2.29940835474827]</summary><ul><li><span class='ee-k'>0:</span><span class='ee-v'>-55.99861983711874</span></li><li><span class='ee-k'>1:</span><span class='ee-v'>-2.29940835474827</span></li></ul></details></li><li><details><summary>35: [-55.99815499212865, -2.29386266528944]</summary><ul><li><span class='ee-k'>0:</span><span class='ee-v'>-55.99815499212865</span></li><li><span class='ee-k'>1:</span><span class='ee-v'>-2.29386266528944</span></li></ul></details></li><li><details><summary>36: [-56.00231427827078, -2.282307809145555]</summary><ul><li><span class='ee-k'>0:</span><span class='ee-v'>-56.00231427827078</span></li><li><span class='ee-k'>1:</span><span class='ee-v'>-2.282307809145555</span></li></ul></details></li><li><details><summary>37: [-55.99260892005724, -2.277685084031997]</summary><ul><li><span class='ee-k'>0:</span><span class='ee-v'>-55.99260892005724</span></li><li><span class='ee-k'>1:</span><span class='ee-v'>-2.277685084031997</span></li></ul></details></li><li><details><summary>38: [-55.98845007593787, -2.269366363133858]</summary><ul><li><span class='ee-k'>0:</span><span class='ee-v'>-55.98845007593787</span></li><li><span class='ee-k'>1:</span><span class='ee-v'>-2.269366363133858</span></li></ul></details></li><li><details><summary>39: [-55.9838289446658, -2.2647426912723603]</summary><ul><li><span class='ee-k'>0:</span><span class='ee-v'>-55.9838289446658</span></li><li><span class='ee-k'>1:</span><span class='ee-v'>-2.2647426912723603</span></li></ul></details></li><li><details><summary>40: [-55.982443994122804, -2.260121380466397]</summary><ul><li><span class='ee-k'>0:</span><span class='ee-v'>-55.982443994122804</span></li><li><span class='ee-k'>1:</span><span class='ee-v'>-2.260121380466397</span></li></ul></details></li><li><details><summary>41: [-55.97920532715304, -2.2573486734329045]</summary><ul><li><span class='ee-k'>0:</span><span class='ee-v'>-55.97920532715304</span></li><li><span class='ee-k'>1:</span><span class='ee-v'>-2.2573486734329045</span></li></ul></details></li><li><details><summary>42: [-55.97966922553906, -2.251341116836093]</summary><ul><li><span class='ee-k'>0:</span><span class='ee-v'>-55.97966922553906</span></li><li><span class='ee-k'>1:</span><span class='ee-v'>-2.251341116836093</span></li></ul></details></li><li><details><summary>43: [-55.969963215463856, -2.2481058744242928]</summary><ul><li><span class='ee-k'>0:</span><span class='ee-v'>-55.969963215463856</span></li><li><span class='ee-k'>1:</span><span class='ee-v'>-2.2481058744242928</span></li></ul></details></li><li><details><summary>44: [-55.958408409336805, -2.258734711269146]</summary><ul><li><span class='ee-k'>0:</span><span class='ee-v'>-55.958408409336805</span></li><li><span class='ee-k'>1:</span><span class='ee-v'>-2.258734711269146</span></li></ul></details></li><li><details><summary>45: [-55.95424798081741, -2.2591987009960626]</summary><ul><li><span class='ee-k'>0:</span><span class='ee-v'>-55.95424798081741</span></li><li><span class='ee-k'>1:</span><span class='ee-v'>-2.2591987009960626</span></li></ul></details></li><li><details><summary>46: [-55.95424934059793, -2.2573487457511985]</summary><ul><li><span class='ee-k'>0:</span><span class='ee-v'>-55.95424934059793</span></li><li><span class='ee-k'>1:</span><span class='ee-v'>-2.2573487457511985</span></li></ul></details></li><li><details><summary>47: [-55.95193723316399, -2.2573470953175288]</summary><ul><li><span class='ee-k'>0:</span><span class='ee-v'>-55.95193723316399</span></li><li><span class='ee-k'>1:</span><span class='ee-v'>-2.2573470953175288</span></li></ul></details></li><li><details><summary>48: [-55.949628668741305, -2.26474515619175]</summary><ul><li><span class='ee-k'>0:</span><span class='ee-v'>-55.949628668741305</span></li><li><span class='ee-k'>1:</span><span class='ee-v'>-2.26474515619175</span></li></ul></details></li><li><details><summary>49: [-55.94731752852649, -2.2633560292033676]</summary><ul><li><span class='ee-k'>0:</span><span class='ee-v'>-55.94731752852649</span></li><li><span class='ee-k'>1:</span><span class='ee-v'>-2.2633560292033676</span></li></ul></details></li><li><details><summary>50: [-55.945467281990574, -2.266592009815938]</summary><ul><li><span class='ee-k'>0:</span><span class='ee-v'>-55.945467281990574</span></li><li><span class='ee-k'>1:</span><span class='ee-v'>-2.266592009815938</span></li></ul></details></li><li><details><summary>51: [-55.941769026219106, -2.269826711419157]</summary><ul><li><span class='ee-k'>0:</span><span class='ee-v'>-55.941769026219106</span></li><li><span class='ee-k'>1:</span><span class='ee-v'>-2.269826711419157</span></li></ul></details></li><li><details><summary>52: [-55.936685391614134, -2.2753727122156104]</summary><ul><li><span class='ee-k'>0:</span><span class='ee-v'>-55.936685391614134</span></li><li><span class='ee-k'>1:</span><span class='ee-v'>-2.2753727122156104</span></li></ul></details></li><li><details><summary>53: [-55.93807092088257, -2.2850813065781]</summary><ul><li><span class='ee-k'>0:</span><span class='ee-v'>-55.93807092088257</span></li><li><span class='ee-k'>1:</span><span class='ee-v'>-2.2850813065781</span></li></ul></details></li><li><details><summary>54: [-55.92975177487901, -2.289699917529297]</summary><ul><li><span class='ee-k'>0:</span><span class='ee-v'>-55.92975177487901</span></li><li><span class='ee-k'>1:</span><span class='ee-v'>-2.289699917529297</span></li></ul></details></li><li><details><summary>55: [-55.9269819257805, -2.292935170996869]</summary><ul><li><span class='ee-k'>0:</span><span class='ee-v'>-55.9269819257805</span></li><li><span class='ee-k'>1:</span><span class='ee-v'>-2.292935170996869</span></li></ul></details></li><li><details><summary>56: [-55.921433560726584, -2.292935481171269]</summary><ul><li><span class='ee-k'>0:</span><span class='ee-v'>-55.921433560726584</span></li><li><span class='ee-k'>1:</span><span class='ee-v'>-2.292935481171269</span></li></ul></details></li><li><details><summary>57: [-55.91219111683458, -2.2966327522056456]</summary><ul><li><span class='ee-k'>0:</span><span class='ee-v'>-55.91219111683458</span></li><li><span class='ee-k'>1:</span><span class='ee-v'>-2.2966327522056456</span></li></ul></details></li><li><details><summary>58: [-55.9066428067921, -2.2966329806525083]</summary><ul><li><span class='ee-k'>0:</span><span class='ee-v'>-55.9066428067921</span></li><li><span class='ee-k'>1:</span><span class='ee-v'>-2.2966329806525083</span></li></ul></details></li><li><details><summary>59: [-55.90664560986989, -2.292937702940772]</summary><ul><li><span class='ee-k'>0:</span><span class='ee-v'>-55.90664560986989</span></li><li><span class='ee-k'>1:</span><span class='ee-v'>-2.292937702940772</span></li></ul></details></li><li><details><summary>60: [-55.898788073912165, -2.2832331499795155]</summary><ul><li><span class='ee-k'>0:</span><span class='ee-v'>-55.898788073912165</span></li><li><span class='ee-k'>1:</span><span class='ee-v'>-2.2832331499795155</span></li></ul></details></li><li><details><summary>61: [-55.89971250450501, -2.2767591716308404]</summary><ul><li><span class='ee-k'>0:</span><span class='ee-v'>-55.89971250450501</span></li><li><span class='ee-k'>1:</span><span class='ee-v'>-2.2767591716308404</span></li></ul></details></li><li><details><summary>62: [-55.899248674267895, -2.2762963626441355]</summary><ul><li><span class='ee-k'>0:</span><span class='ee-v'>-55.899248674267895</span></li><li><span class='ee-k'>1:</span><span class='ee-v'>-2.2762963626441355</span></li></ul></details></li><li><details><summary>63: [-55.89231876770011, -2.279532795779944]</summary><ul><li><span class='ee-k'>0:</span><span class='ee-v'>-55.89231876770011</span></li><li><span class='ee-k'>1:</span><span class='ee-v'>-2.279532795779944</span></li></ul></details></li><li><details><summary>64: [-55.889543522559784, -2.2781477703834185]</summary><ul><li><span class='ee-k'>0:</span><span class='ee-v'>-55.889543522559784</span></li><li><span class='ee-k'>1:</span><span class='ee-v'>-2.2781477703834185</span></li></ul></details></li><li><details><summary>65: [-55.88399693911689, -2.281843202385022]</summary><ul><li><span class='ee-k'>0:</span><span class='ee-v'>-55.88399693911689</span></li><li><span class='ee-k'>1:</span><span class='ee-v'>-2.281843202385022</span></li></ul></details></li><li><details><summary>66: [-55.87983686374991, -2.281844438711898]</summary><ul><li><span class='ee-k'>0:</span><span class='ee-v'>-55.87983686374991</span></li><li><span class='ee-k'>1:</span><span class='ee-v'>-2.281844438711898</span></li></ul></details></li><li><details><summary>67: [-55.87567774392136, -2.27491307469665]</summary><ul><li><span class='ee-k'>0:</span><span class='ee-v'>-55.87567774392136</span></li><li><span class='ee-k'>1:</span><span class='ee-v'>-2.27491307469665</span></li></ul></details></li><li><details><summary>68: [-55.86874650079306, -2.268442070878925]</summary><ul><li><span class='ee-k'>0:</span><span class='ee-v'>-55.86874650079306</span></li><li><span class='ee-k'>1:</span><span class='ee-v'>-2.268442070878925</span></li></ul></details></li><li><details><summary>69: [-55.865973931623515, -2.2693648070641346]</summary><ul><li><span class='ee-k'>0:</span><span class='ee-v'>-55.865973931623515</span></li><li><span class='ee-k'>1:</span><span class='ee-v'>-2.2693648070641346</span></li></ul></details></li><li><details><summary>70: [-55.867820178984225, -2.277223753308744]</summary><ul><li><span class='ee-k'>0:</span><span class='ee-v'>-55.867820178984225</span></li><li><span class='ee-k'>1:</span><span class='ee-v'>-2.277223753308744</span></li></ul></details></li><li><details><summary>71: [-55.86412152415486, -2.280920567273853]</summary><ul><li><span class='ee-k'>0:</span><span class='ee-v'>-55.86412152415486</span></li><li><span class='ee-k'>1:</span><span class='ee-v'>-2.280920567273853</span></li></ul></details></li><li><details><summary>72: [-55.86689760246721, -2.286930378270508]</summary><ul><li><span class='ee-k'>0:</span><span class='ee-v'>-55.86689760246721</span></li><li><span class='ee-k'>1:</span><span class='ee-v'>-2.286930378270508</span></li></ul></details></li><li><details><summary>73: [-55.865970365672936, -2.2910873963196443]</summary><ul><li><span class='ee-k'>0:</span><span class='ee-v'>-55.865970365672936</span></li><li><span class='ee-k'>1:</span><span class='ee-v'>-2.2910873963196443</span></li></ul></details></li><li><details><summary>74: [-55.86643275177232, -2.2934001284206715]</summary><ul><li><span class='ee-k'>0:</span><span class='ee-v'>-55.86643275177232</span></li><li><span class='ee-k'>1:</span><span class='ee-v'>-2.2934001284206715</span></li></ul></details></li><li><details><summary>75: [-55.872904197936975, -2.294325720714672]</summary><ul><li><span class='ee-k'>0:</span><span class='ee-v'>-55.872904197936975</span></li><li><span class='ee-k'>1:</span><span class='ee-v'>-2.294325720714672</span></li></ul></details></li><li><details><summary>76: [-55.87475449281689, -2.3026426931558164]</summary><ul><li><span class='ee-k'>0:</span><span class='ee-v'>-55.87475449281689</span></li><li><span class='ee-k'>1:</span><span class='ee-v'>-2.3026426931558164</span></li></ul></details></li><li><details><summary>77: [-55.87891543832914, -2.3072662102252215]</summary><ul><li><span class='ee-k'>0:</span><span class='ee-v'>-55.87891543832914</span></li><li><span class='ee-k'>1:</span><span class='ee-v'>-2.3072662102252215</span></li></ul></details></li><li><details><summary>78: [-55.877988248084044, -2.311423227798302]</summary><ul><li><span class='ee-k'>0:</span><span class='ee-v'>-55.877988248084044</span></li><li><span class='ee-k'>1:</span><span class='ee-v'>-2.311423227798302</span></li></ul></details></li><li><details><summary>79: [-55.88122220390245, -2.3141961113277123]</summary><ul><li><span class='ee-k'>0:</span><span class='ee-v'>-55.88122220390245</span></li><li><span class='ee-k'>1:</span><span class='ee-v'>-2.3141961113277123</span></li></ul></details></li><li><details><summary>80: [-55.88445975709658, -2.3123488084800177]</summary><ul><li><span class='ee-k'>0:</span><span class='ee-v'>-55.88445975709658</span></li><li><span class='ee-k'>1:</span><span class='ee-v'>-2.3123488084800177</span></li></ul></details></li><li><details><summary>81: [-55.8904698121016, -2.315581867368787]</summary><ul><li><span class='ee-k'>0:</span><span class='ee-v'>-55.8904698121016</span></li><li><span class='ee-k'>1:</span><span class='ee-v'>-2.315581867368787</span></li></ul></details></li><li><details><summary>82: [-55.89462595986354, -2.320667856265886]</summary><ul><li><span class='ee-k'>0:</span><span class='ee-v'>-55.89462595986354</span></li><li><span class='ee-k'>1:</span><span class='ee-v'>-2.320667856265886</span></li></ul></details></li><li><details><summary>83: [-55.897398812784466, -2.3252902668975763]</summary><ul><li><span class='ee-k'>0:</span><span class='ee-v'>-55.897398812784466</span></li><li><span class='ee-k'>1:</span><span class='ee-v'>-2.3252902668975763</span></li></ul></details></li><li><details><summary>84: [-55.898325862153136, -2.327136427733492]</summary><ul><li><span class='ee-k'>0:</span><span class='ee-v'>-55.898325862153136</span></li><li><span class='ee-k'>1:</span><span class='ee-v'>-2.327136427733492</span></li></ul></details></li><li><details><summary>85: [-55.90387247395428, -2.3294486727043866]</summary><ul><li><span class='ee-k'>0:</span><span class='ee-v'>-55.90387247395428</span></li><li><span class='ee-k'>1:</span><span class='ee-v'>-2.3294486727043866</span></li></ul></details></li><li><details><summary>86: [-55.90849149788658, -2.3363803810903856]</summary><ul><li><span class='ee-k'>0:</span><span class='ee-v'>-55.90849149788658</span></li><li><span class='ee-k'>1:</span><span class='ee-v'>-2.3363803810903856</span></li></ul></details></li><li><details><summary>87: [-55.90803085055364, -2.3433126941757325]</summary><ul><li><span class='ee-k'>0:</span><span class='ee-v'>-55.90803085055364</span></li><li><span class='ee-k'>1:</span><span class='ee-v'>-2.3433126941757325</span></li></ul></details></li><li><details><summary>88: [-55.90618047002642, -2.352098300731108]</summary><ul><li><span class='ee-k'>0:</span><span class='ee-v'>-55.90618047002642</span></li><li><span class='ee-k'>1:</span><span class='ee-v'>-2.352098300731108</span></li></ul></details></li><li><details><summary>89: [-55.90109704466638, -2.356718998809113]</summary><ul><li><span class='ee-k'>0:</span><span class='ee-v'>-55.90109704466638</span></li><li><span class='ee-k'>1:</span><span class='ee-v'>-2.356718998809113</span></li></ul></details></li><li><details><summary>90: [-55.89508925684424, -2.361801451526553]</summary><ul><li><span class='ee-k'>0:</span><span class='ee-v'>-55.89508925684424</span></li><li><span class='ee-k'>1:</span><span class='ee-v'>-2.361801451526553</span></li></ul></details></li><li><details><summary>91: [-55.89000458545524, -2.362264311338673]</summary><ul><li><span class='ee-k'>0:</span><span class='ee-v'>-55.89000458545524</span></li><li><span class='ee-k'>1:</span><span class='ee-v'>-2.362264311338673</span></li></ul></details></li><li><details><summary>92: [-55.88492334173597, -2.3696597599229445]</summary><ul><li><span class='ee-k'>0:</span><span class='ee-v'>-55.88492334173597</span></li><li><span class='ee-k'>1:</span><span class='ee-v'>-2.3696597599229445</span></li></ul></details></li><li><details><summary>93: [-55.88076271426607, -2.3756685512925633]</summary><ul><li><span class='ee-k'>0:</span><span class='ee-v'>-55.88076271426607</span></li><li><span class='ee-k'>1:</span><span class='ee-v'>-2.3756685512925633</span></li></ul></details></li><li><details><summary>94: [-55.8655094252935, -2.3705823639900867]</summary><ul><li><span class='ee-k'>0:</span><span class='ee-v'>-55.8655094252935</span></li><li><span class='ee-k'>1:</span><span class='ee-v'>-2.3705823639900867</span></li></ul></details></li><li><details><summary>95: [-55.86320136263409, -2.3654977835608957]</summary><ul><li><span class='ee-k'>0:</span><span class='ee-v'>-55.86320136263409</span></li><li><span class='ee-k'>1:</span><span class='ee-v'>-2.3654977835608957</span></li></ul></details></li><li><details><summary>96: [-55.85534063800778, -2.3655002261358495]</summary><ul><li><span class='ee-k'>0:</span><span class='ee-v'>-55.85534063800778</span></li><li><span class='ee-k'>1:</span><span class='ee-v'>-2.3655002261358495</span></li></ul></details></li><li><details><summary>97: [-55.85025905072588, -2.3622632760836457]</summary><ul><li><span class='ee-k'>0:</span><span class='ee-v'>-55.85025905072588</span></li><li><span class='ee-k'>1:</span><span class='ee-v'>-2.3622632760836457</span></li></ul></details></li><li><details><summary>98: [-55.844711992141235, -2.3659628649679627]</summary><ul><li><span class='ee-k'>0:</span><span class='ee-v'>-55.844711992141235</span></li><li><span class='ee-k'>1:</span><span class='ee-v'>-2.3659628649679627</span></li></ul></details></li><li><details><summary>99: [-55.83731698226842, -2.3696608027394044]</summary><ul><li><span class='ee-k'>0:</span><span class='ee-v'>-55.83731698226842</span></li><li><span class='ee-k'>1:</span><span class='ee-v'>-2.3696608027394044</span></li></ul></details></li><li><details><summary>100: [-55.83593010881304, -2.3733548941976044]</summary><ul><li><span class='ee-k'>0:</span><span class='ee-v'>-55.83593010881304</span></li><li><span class='ee-k'>1:</span><span class='ee-v'>-2.3733548941976044</span></li></ul></details></li><li><details><summary>101: [-55.82946173795324, -2.3738208337048774]</summary><ul><li><span class='ee-k'>0:</span><span class='ee-v'>-55.82946173795324</span></li><li><span class='ee-k'>1:</span><span class='ee-v'>-2.3738208337048774</span></li></ul></details></li><li><details><summary>102: [-55.827148147574206, -2.38075134361726]</summary><ul><li><span class='ee-k'>0:</span><span class='ee-v'>-55.827148147574206</span></li><li><span class='ee-k'>1:</span><span class='ee-v'>-2.38075134361726</span></li></ul></details></li><li><details><summary>103: [-55.81929048050088, -2.387685985883082]</summary><ul><li><span class='ee-k'>0:</span><span class='ee-v'>-55.81929048050088</span></li><li><span class='ee-k'>1:</span><span class='ee-v'>-2.387685985883082</span></li></ul></details></li><li><details><summary>104: [-55.816517394920936, -2.3941535490698573]</summary><ul><li><span class='ee-k'>0:</span><span class='ee-v'>-55.816517394920936</span></li><li><span class='ee-k'>1:</span><span class='ee-v'>-2.3941535490698573</span></li></ul></details></li><li><details><summary>105: [-55.81189730288356, -2.3941540296816743]</summary><ul><li><span class='ee-k'>0:</span><span class='ee-v'>-55.81189730288356</span></li><li><span class='ee-k'>1:</span><span class='ee-v'>-2.3941540296816743</span></li></ul></details></li><li><details><summary>106: [-55.80496391896512, -2.400626844275418]</summary><ul><li><span class='ee-k'>0:</span><span class='ee-v'>-55.80496391896512</span></li><li><span class='ee-k'>1:</span><span class='ee-v'>-2.400626844275418</span></li></ul></details></li><li><details><summary>107: [-55.79433400640992, -2.4075588101940397]</summary><ul><li><span class='ee-k'>0:</span><span class='ee-v'>-55.79433400640992</span></li><li><span class='ee-k'>1:</span><span class='ee-v'>-2.4075588101940397</span></li></ul></details></li><li><details><summary>108: [-55.79155956968131, -2.4103311252538866]</summary><ul><li><span class='ee-k'>0:</span><span class='ee-v'>-55.79155956968131</span></li><li><span class='ee-k'>1:</span><span class='ee-v'>-2.4103311252538866</span></li></ul></details></li><li><details><summary>109: [-55.78416790937142, -2.409866484992226]</summary><ul><li><span class='ee-k'>0:</span><span class='ee-v'>-55.78416790937142</span></li><li><span class='ee-k'>1:</span><span class='ee-v'>-2.409866484992226</span></li></ul></details></li><li><details><summary>110: [-55.780469465909974, -2.4075598911248]</summary><ul><li><span class='ee-k'>0:</span><span class='ee-v'>-55.780469465909974</span></li><li><span class='ee-k'>1:</span><span class='ee-v'>-2.4075598911248</span></li></ul></details></li><li><details><summary>111: [-55.777232763778464, -2.4080194018733496]</summary><ul><li><span class='ee-k'>0:</span><span class='ee-v'>-55.777232763778464</span></li><li><span class='ee-k'>1:</span><span class='ee-v'>-2.4080194018733496</span></li></ul></details></li><li><details><summary>112: [-55.77353604810444, -2.4038585341571763]</summary><ul><li><span class='ee-k'>0:</span><span class='ee-v'>-55.77353604810444</span></li><li><span class='ee-k'>1:</span><span class='ee-v'>-2.4038585341571763</span></li></ul></details></li><li><details><summary>113: [-55.769375813698865, -2.403859252509337]</summary><ul><li><span class='ee-k'>0:</span><span class='ee-v'>-55.769375813698865</span></li><li><span class='ee-k'>1:</span><span class='ee-v'>-2.403859252509337</span></li></ul></details></li><li><details><summary>114: [-55.76244215127869, -2.4154142333576725]</summary><ul><li><span class='ee-k'>0:</span><span class='ee-v'>-55.76244215127869</span></li><li><span class='ee-k'>1:</span><span class='ee-v'>-2.4154142333576725</span></li></ul></details></li><li><details><summary>115: [-55.759669718500604, -2.4158786215337384]</summary><ul><li><span class='ee-k'>0:</span><span class='ee-v'>-55.759669718500604</span></li><li><span class='ee-k'>1:</span><span class='ee-v'>-2.4158786215337384</span></li></ul></details></li><li><details><summary>116: [-55.75828395830145, -2.413102616968023]</summary><ul><li><span class='ee-k'>0:</span><span class='ee-v'>-55.75828395830145</span></li><li><span class='ee-k'>1:</span><span class='ee-v'>-2.413102616968023</span></li></ul></details></li><li><details><summary>117: [-55.751815410612586, -2.4186505441842887]</summary><ul><li><span class='ee-k'>0:</span><span class='ee-v'>-55.751815410612586</span></li><li><span class='ee-k'>1:</span><span class='ee-v'>-2.4186505441842887</span></li></ul></details></li><li><details><summary>118: [-55.74950254825889, -2.424197826925712]</summary><ul><li><span class='ee-k'>0:</span><span class='ee-v'>-55.74950254825889</span></li><li><span class='ee-k'>1:</span><span class='ee-v'>-2.424197826925712</span></li></ul></details></li><li><details><summary>119: [-55.740258394663385, -2.433438124165968]</summary><ul><li><span class='ee-k'>0:</span><span class='ee-v'>-55.740258394663385</span></li><li><span class='ee-k'>1:</span><span class='ee-v'>-2.433438124165968</span></li></ul></details></li><li><details><summary>120: [-55.73748681857428, -2.432977601072368]</summary><ul><li><span class='ee-k'>0:</span><span class='ee-v'>-55.73748681857428</span></li><li><span class='ee-k'>1:</span><span class='ee-v'>-2.432977601072368</span></li></ul></details></li><li><details><summary>121: [-55.73101621388507, -2.4357506648089142]</summary><ul><li><span class='ee-k'>0:</span><span class='ee-v'>-55.73101621388507</span></li><li><span class='ee-k'>1:</span><span class='ee-v'>-2.4357506648089142</span></li></ul></details></li><li><details><summary>122: [-55.72269861911858, -2.446841391319445]</summary><ul><li><span class='ee-k'>0:</span><span class='ee-v'>-55.72269861911858</span></li><li><span class='ee-k'>1:</span><span class='ee-v'>-2.446841391319445</span></li></ul></details></li><li><details><summary>123: [-55.723158488120234, -2.451466304666228]</summary><ul><li><span class='ee-k'>0:</span><span class='ee-v'>-55.723158488120234</span></li><li><span class='ee-k'>1:</span><span class='ee-v'>-2.451466304666228</span></li></ul></details></li><li><details><summary>124: [-55.72084806238238, -2.454238695827779]</summary><ul><li><span class='ee-k'>0:</span><span class='ee-v'>-55.72084806238238</span></li><li><span class='ee-k'>1:</span><span class='ee-v'>-2.454238695827779</span></li></ul></details></li><li><details><summary>125: [-55.71668909071817, -2.45285186500771]</summary><ul><li><span class='ee-k'>0:</span><span class='ee-v'>-55.71668909071817</span></li><li><span class='ee-k'>1:</span><span class='ee-v'>-2.45285186500771</span></li></ul></details></li><li><details><summary>126: [-55.71114324904887, -2.45470077312029]</summary><ul><li><span class='ee-k'>0:</span><span class='ee-v'>-55.71114324904887</span></li><li><span class='ee-k'>1:</span><span class='ee-v'>-2.45470077312029</span></li></ul></details></li><li><details><summary>127: [-55.704669383336416, -2.4560862968315083]</summary><ul><li><span class='ee-k'>0:</span><span class='ee-v'>-55.704669383336416</span></li><li><span class='ee-k'>1:</span><span class='ee-v'>-2.4560862968315083</span></li></ul></details></li><li><details><summary>128: [-55.68711016939619, -2.4500798125187013]</summary><ul><li><span class='ee-k'>0:</span><span class='ee-v'>-55.68711016939619</span></li><li><span class='ee-k'>1:</span><span class='ee-v'>-2.4500798125187013</span></li></ul></details></li><li><details><summary>129: [-55.68109846416997, -2.4445336547559755]</summary><ul><li><span class='ee-k'>0:</span><span class='ee-v'>-55.68109846416997</span></li><li><span class='ee-k'>1:</span><span class='ee-v'>-2.4445336547559755</span></li></ul></details></li><li><details><summary>130: [-55.674628221759214, -2.446843858847504]</summary><ul><li><span class='ee-k'>0:</span><span class='ee-v'>-55.674628221759214</span></li><li><span class='ee-k'>1:</span><span class='ee-v'>-2.446843858847504</span></li></ul></details></li><li><details><summary>131: [-55.67416885726813, -2.4510008460680783]</summary><ul><li><span class='ee-k'>0:</span><span class='ee-v'>-55.67416885726813</span></li><li><span class='ee-k'>1:</span><span class='ee-v'>-2.4510008460680783</span></li></ul></details></li><li><details><summary>132: [-55.666771992362854, -2.451464913344084]</summary><ul><li><span class='ee-k'>0:</span><span class='ee-v'>-55.666771992362854</span></li><li><span class='ee-k'>1:</span><span class='ee-v'>-2.451464913344084</span></li></ul></details></li><li><details><summary>133: [-55.664462011928315, -2.44915489719278]</summary><ul><li><span class='ee-k'>0:</span><span class='ee-v'>-55.664462011928315</span></li><li><span class='ee-k'>1:</span><span class='ee-v'>-2.44915489719278</span></li></ul></details></li><li><details><summary>134: [-55.663536359267106, -2.446379398080897]</summary><ul><li><span class='ee-k'>0:</span><span class='ee-v'>-55.663536359267106</span></li><li><span class='ee-k'>1:</span><span class='ee-v'>-2.446379398080897</span></li></ul></details></li><li><details><summary>135: [-55.67093143002915, -2.443145230548809]</summary><ul><li><span class='ee-k'>0:</span><span class='ee-v'>-55.67093143002915</span></li><li><span class='ee-k'>1:</span><span class='ee-v'>-2.443145230548809</span></li></ul></details></li><li><details><summary>136: [-55.66954687769318, -2.4394488544466486]</summary><ul><li><span class='ee-k'>0:</span><span class='ee-v'>-55.66954687769318</span></li><li><span class='ee-k'>1:</span><span class='ee-v'>-2.4394488544466486</span></li></ul></details></li><li><details><summary>137: [-55.66769623854985, -2.437597284196869]</summary><ul><li><span class='ee-k'>0:</span><span class='ee-v'>-55.66769623854985</span></li><li><span class='ee-k'>1:</span><span class='ee-v'>-2.437597284196869</span></li></ul></details></li><li><details><summary>138: [-55.6635380535068, -2.4265081966647255]</summary><ul><li><span class='ee-k'>0:</span><span class='ee-v'>-55.6635380535068</span></li><li><span class='ee-k'>1:</span><span class='ee-v'>-2.4265081966647255</span></li></ul></details></li><li><details><summary>139: [-55.65937794531407, -2.42650855646434]</summary><ul><li><span class='ee-k'>0:</span><span class='ee-v'>-55.65937794531407</span></li><li><span class='ee-k'>1:</span><span class='ee-v'>-2.42650855646434</span></li></ul></details></li><li><details><summary>140: [-55.6598382498806, -2.421422292376828]</summary><ul><li><span class='ee-k'>0:</span><span class='ee-v'>-55.6598382498806</span></li><li><span class='ee-k'>1:</span><span class='ee-v'>-2.421422292376828</span></li></ul></details></li><li><details><summary>141: [-55.65475605722094, -2.4195764346932402]</summary><ul><li><span class='ee-k'>0:</span><span class='ee-v'>-55.65475605722094</span></li><li><span class='ee-k'>1:</span><span class='ee-v'>-2.4195764346932402</span></li></ul></details></li><li><details><summary>142: [-55.65475749718233, -2.41356486162357]</summary><ul><li><span class='ee-k'>0:</span><span class='ee-v'>-55.65475749718233</span></li><li><span class='ee-k'>1:</span><span class='ee-v'>-2.41356486162357</span></li></ul></details></li><li><details><summary>143: [-55.65937777589804, -2.4084826745883805]</summary><ul><li><span class='ee-k'>0:</span><span class='ee-v'>-55.65937777589804</span></li><li><span class='ee-k'>1:</span><span class='ee-v'>-2.4084826745883805</span></li></ul></details></li><li><details><summary>144: [-55.66076386401921, -2.3969276950874834]</summary><ul><li><span class='ee-k'>0:</span><span class='ee-v'>-55.66076386401921</span></li><li><span class='ee-k'>1:</span><span class='ee-v'>-2.3969276950874834</span></li></ul></details></li><li><details><summary>145: [-55.65568255015243, -2.394152600405768]</summary><ul><li><span class='ee-k'>0:</span><span class='ee-v'>-55.65568255015243</span></li><li><span class='ee-k'>1:</span><span class='ee-v'>-2.394152600405768</span></li></ul></details></li><li><details><summary>146: [-55.64874713226373, -2.3978541455489855]</summary><ul><li><span class='ee-k'>0:</span><span class='ee-v'>-55.64874713226373</span></li><li><span class='ee-k'>1:</span><span class='ee-v'>-2.3978541455489855</span></li></ul></details></li><li><details><summary>147: [-55.63534580610711, -2.3996994800922167]</summary><ul><li><span class='ee-k'>0:</span><span class='ee-v'>-55.63534580610711</span></li><li><span class='ee-k'>1:</span><span class='ee-v'>-2.3996994800922167</span></li></ul></details></li><li><details><summary>148: [-55.63118583358018, -2.3996997883030704]</summary><ul><li><span class='ee-k'>0:</span><span class='ee-v'>-55.63118583358018</span></li><li><span class='ee-k'>1:</span><span class='ee-v'>-2.3996997883030704</span></li></ul></details></li><li><details><summary>149: [-55.627951158830015, -2.3983137770232084]</summary><ul><li><span class='ee-k'>0:</span><span class='ee-v'>-55.627951158830015</span></li><li><span class='ee-k'>1:</span><span class='ee-v'>-2.3983137770232084</span></li></ul></details></li><li><details><summary>150: [-55.62471406190212, -2.39045825204357]</summary><ul><li><span class='ee-k'>0:</span><span class='ee-v'>-55.62471406190212</span></li><li><span class='ee-k'>1:</span><span class='ee-v'>-2.39045825204357</span></li></ul></details></li><li><details><summary>151: [-55.617780049505974, -2.3793665202739405]</summary><ul><li><span class='ee-k'>0:</span><span class='ee-v'>-55.617780049505974</span></li><li><span class='ee-k'>1:</span><span class='ee-v'>-2.3793665202739405</span></li></ul></details></li><li><details><summary>152: [-55.61085047452954, -2.3816760764009444]</summary><ul><li><span class='ee-k'>0:</span><span class='ee-v'>-55.61085047452954</span></li><li><span class='ee-k'>1:</span><span class='ee-v'>-2.3816760764009444</span></li></ul></details></li><li><details><summary>153: [-55.609463642578234, -2.3849116872017486]</summary><ul><li><span class='ee-k'>0:</span><span class='ee-v'>-55.609463642578234</span></li><li><span class='ee-k'>1:</span><span class='ee-v'>-2.3849116872017486</span></li></ul></details></li><li><details><summary>154: [-55.6057660100338, -2.386757605265265]</summary><ul><li><span class='ee-k'>0:</span><span class='ee-v'>-55.6057660100338</span></li><li><span class='ee-k'>1:</span><span class='ee-v'>-2.386757605265265</span></li></ul></details></li><li><details><summary>155: [-55.60483978478037, -2.3890687457393693]</summary><ul><li><span class='ee-k'>0:</span><span class='ee-v'>-55.60483978478037</span></li><li><span class='ee-k'>1:</span><span class='ee-v'>-2.3890687457393693</span></li></ul></details></li><li><details><summary>156: [-55.59883246622216, -2.388609163723266]</summary><ul><li><span class='ee-k'>0:</span><span class='ee-v'>-55.59883246622216</span></li><li><span class='ee-k'>1:</span><span class='ee-v'>-2.388609163723266</span></li></ul></details></li><li><details><summary>157: [-55.59467378596259, -2.3918418101682444]</summary><ul><li><span class='ee-k'>0:</span><span class='ee-v'>-55.59467378596259</span></li><li><span class='ee-k'>1:</span><span class='ee-v'>-2.3918418101682444</span></li></ul></details></li><li><details><summary>158: [-55.595595333784054, -2.3941549015122243]</summary><ul><li><span class='ee-k'>0:</span><span class='ee-v'>-55.595595333784054</span></li><li><span class='ee-k'>1:</span><span class='ee-v'>-2.3941549015122243</span></li></ul></details></li><li><details><summary>159: [-55.59282479403882, -2.3973889905988477]</summary><ul><li><span class='ee-k'>0:</span><span class='ee-v'>-55.59282479403882</span></li><li><span class='ee-k'>1:</span><span class='ee-v'>-2.3973889905988477</span></li></ul></details></li><li><details><summary>160: [-55.58773958863366, -2.4117186664851182]</summary><ul><li><span class='ee-k'>0:</span><span class='ee-v'>-55.58773958863366</span></li><li><span class='ee-k'>1:</span><span class='ee-v'>-2.4117186664851182</span></li></ul></details></li><li><details><summary>161: [-55.58034604167163, -2.4094078350915953]</summary><ul><li><span class='ee-k'>0:</span><span class='ee-v'>-55.58034604167163</span></li><li><span class='ee-k'>1:</span><span class='ee-v'>-2.4094078350915953</span></li></ul></details></li><li><details><summary>162: [-55.57849438760091, -2.4131052453455983]</summary><ul><li><span class='ee-k'>0:</span><span class='ee-v'>-55.57849438760091</span></li><li><span class='ee-k'>1:</span><span class='ee-v'>-2.4131052453455983</span></li></ul></details></li><li><details><summary>163: [-55.57156408408946, -2.411715143514273]</summary><ul><li><span class='ee-k'>0:</span><span class='ee-v'>-55.57156408408946</span></li><li><span class='ee-k'>1:</span><span class='ee-v'>-2.411715143514273</span></li></ul></details></li><li><details><summary>164: [-55.566480864889975, -2.4154136184295574]</summary><ul><li><span class='ee-k'>0:</span><span class='ee-v'>-55.566480864889975</span></li><li><span class='ee-k'>1:</span><span class='ee-v'>-2.4154136184295574</span></li></ul></details></li><li><details><summary>165: [-55.563706077187526, -2.4140279313033193]</summary><ul><li><span class='ee-k'>0:</span><span class='ee-v'>-55.563706077187526</span></li><li><span class='ee-k'>1:</span><span class='ee-v'>-2.4140279313033193</span></li></ul></details></li><li><details><summary>166: [-55.560469471135214, -2.410329614400291]</summary><ul><li><span class='ee-k'>0:</span><span class='ee-v'>-55.560469471135214</span></li><li><span class='ee-k'>1:</span><span class='ee-v'>-2.410329614400291</span></li></ul></details></li><li><details><summary>167: [-55.55353787673489, -2.4103312581990304]</summary><ul><li><span class='ee-k'>0:</span><span class='ee-v'>-55.55353787673489</span></li><li><span class='ee-k'>1:</span><span class='ee-v'>-2.4103312581990304</span></li></ul></details></li><li><details><summary>168: [-55.54244646378334, -2.418651719369102]</summary><ul><li><span class='ee-k'>0:</span><span class='ee-v'>-55.54244646378334</span></li><li><span class='ee-k'>1:</span><span class='ee-v'>-2.418651719369102</span></li></ul></details></li><li><details><summary>169: [-55.540598143610026, -2.419112120317398]</summary><ul><li><span class='ee-k'>0:</span><span class='ee-v'>-55.540598143610026</span></li><li><span class='ee-k'>1:</span><span class='ee-v'>-2.419112120317398</span></li></ul></details></li><li><details><summary>170: [-55.53828553515113, -2.415414832948842]</summary><ul><li><span class='ee-k'>0:</span><span class='ee-v'>-55.53828553515113</span></li><li><span class='ee-k'>1:</span><span class='ee-v'>-2.415414832948842</span></li></ul></details></li><li><details><summary>171: [-55.53412573377065, -2.415414795587744]</summary><ul><li><span class='ee-k'>0:</span><span class='ee-v'>-55.53412573377065</span></li><li><span class='ee-k'>1:</span><span class='ee-v'>-2.415414795587744</span></li></ul></details></li><li><details><summary>172: [-55.52858023006033, -2.417262878066525]</summary><ul><li><span class='ee-k'>0:</span><span class='ee-v'>-55.52858023006033</span></li><li><span class='ee-k'>1:</span><span class='ee-v'>-2.417262878066525</span></li></ul></details></li><li><details><summary>173: [-55.522111326634445, -2.4186520154168574]</summary><ul><li><span class='ee-k'>0:</span><span class='ee-v'>-55.522111326634445</span></li><li><span class='ee-k'>1:</span><span class='ee-v'>-2.4186520154168574</span></li></ul></details></li><li><details><summary>174: [-55.51702766418653, -2.414489316988201]</summary><ul><li><span class='ee-k'>0:</span><span class='ee-v'>-55.51702766418653</span></li><li><span class='ee-k'>1:</span><span class='ee-v'>-2.414489316988201</span></li></ul></details></li><li><details><summary>175: [-55.51101753416475, -2.4167991816599903]</summary><ul><li><span class='ee-k'>0:</span><span class='ee-v'>-55.51101753416475</span></li><li><span class='ee-k'>1:</span><span class='ee-v'>-2.4167991816599903</span></li></ul></details></li><li><details><summary>176: [-55.51379057605196, -2.4237337964900423]</summary><ul><li><span class='ee-k'>0:</span><span class='ee-v'>-55.51379057605196</span></li><li><span class='ee-k'>1:</span><span class='ee-v'>-2.4237337964900423</span></li></ul></details></li><li><details><summary>177: [-55.51656590436995, -2.4449939810690346]</summary><ul><li><span class='ee-k'>0:</span><span class='ee-v'>-55.51656590436995</span></li><li><span class='ee-k'>1:</span><span class='ee-v'>-2.4449939810690346</span></li></ul></details></li><li><details><summary>178: [-55.51517869438103, -2.448229285622017]</summary><ul><li><span class='ee-k'>0:</span><span class='ee-v'>-55.51517869438103</span></li><li><span class='ee-k'>1:</span><span class='ee-v'>-2.448229285622017</span></li></ul></details></li><li><details><summary>179: [-55.515179540079394, -2.4514661088765335]</summary><ul><li><span class='ee-k'>0:</span><span class='ee-v'>-55.515179540079394</span></li><li><span class='ee-k'>1:</span><span class='ee-v'>-2.4514661088765335</span></li></ul></details></li><li><details><summary>180: [-55.5091676761512, -2.4551630526555304]</summary><ul><li><span class='ee-k'>0:</span><span class='ee-v'>-55.5091676761512</span></li><li><span class='ee-k'>1:</span><span class='ee-v'>-2.4551630526555304</span></li></ul></details></li><li><details><summary>181: [-55.50131388808069, -2.457475229528044]</summary><ul><li><span class='ee-k'>0:</span><span class='ee-v'>-55.50131388808069</span></li><li><span class='ee-k'>1:</span><span class='ee-v'>-2.457475229528044</span></li></ul></details></li><li><details><summary>182: [-55.492530431913295, -2.4570118456910865]</summary><ul><li><span class='ee-k'>0:</span><span class='ee-v'>-55.492530431913295</span></li><li><span class='ee-k'>1:</span><span class='ee-v'>-2.4570118456910865</span></li></ul></details></li><li><details><summary>183: [-55.48698273627747, -2.4607092387545975]</summary><ul><li><span class='ee-k'>0:</span><span class='ee-v'>-55.48698273627747</span></li><li><span class='ee-k'>1:</span><span class='ee-v'>-2.4607092387545975</span></li></ul></details></li><li><details><summary>184: [-55.48051605354355, -2.463943100511736]</summary><ul><li><span class='ee-k'>0:</span><span class='ee-v'>-55.48051605354355</span></li><li><span class='ee-k'>1:</span><span class='ee-v'>-2.463943100511736</span></li></ul></details></li><li><details><summary>185: [-55.47774288035232, -2.4768870259271885]</summary><ul><li><span class='ee-k'>0:</span><span class='ee-v'>-55.47774288035232</span></li><li><span class='ee-k'>1:</span><span class='ee-v'>-2.4768870259271885</span></li></ul></details></li><li><details><summary>186: [-55.47450394556337, -2.483356781920386]</summary><ul><li><span class='ee-k'>0:</span><span class='ee-v'>-55.47450394556337</span></li><li><span class='ee-k'>1:</span><span class='ee-v'>-2.483356781920386</span></li></ul></details></li><li><details><summary>187: [-55.47358163693255, -2.4819685318979103]</summary><ul><li><span class='ee-k'>0:</span><span class='ee-v'>-55.47358163693255</span></li><li><span class='ee-k'>1:</span><span class='ee-v'>-2.4819685318979103</span></li></ul></details></li><li><details><summary>188: [-55.4731177390604, -2.4778109334915084]</summary><ul><li><span class='ee-k'>0:</span><span class='ee-v'>-55.4731177390604</span></li><li><span class='ee-k'>1:</span><span class='ee-v'>-2.4778109334915084</span></li></ul></details></li><li><details><summary>189: [-55.46572638908376, -2.4699506625664]</summary><ul><li><span class='ee-k'>0:</span><span class='ee-v'>-55.46572638908376</span></li><li><span class='ee-k'>1:</span><span class='ee-v'>-2.4699506625664</span></li></ul></details></li><li><details><summary>190: [-55.463877064407015, -2.4556232798460917]</summary><ul><li><span class='ee-k'>0:</span><span class='ee-v'>-55.463877064407015</span></li><li><span class='ee-k'>1:</span><span class='ee-v'>-2.4556232798460917</span></li></ul></details></li><li><details><summary>191: [-55.44954620887834, -2.45100070899442]</summary><ul><li><span class='ee-k'>0:</span><span class='ee-v'>-55.44954620887834</span></li><li><span class='ee-k'>1:</span><span class='ee-v'>-2.45100070899442</span></li></ul></details></li><li><details><summary>192: [-55.449548828579495, -2.4486932880551735]</summary><ul><li><span class='ee-k'>0:</span><span class='ee-v'>-55.449548828579495</span></li><li><span class='ee-k'>1:</span><span class='ee-v'>-2.4486932880551735</span></li></ul></details></li><li><details><summary>193: [-55.451395906453584, -2.4454586758615204]</summary><ul><li><span class='ee-k'>0:</span><span class='ee-v'>-55.451395906453584</span></li><li><span class='ee-k'>1:</span><span class='ee-v'>-2.4454586758615204</span></li></ul></details></li><li><details><summary>194: [-55.44908581874893, -2.4399118216235953]</summary><ul><li><span class='ee-k'>0:</span><span class='ee-v'>-55.44908581874893</span></li><li><span class='ee-k'>1:</span><span class='ee-v'>-2.4399118216235953</span></li></ul></details></li><li><details><summary>195: [-55.449086410291216, -2.431593319681337]</summary><ul><li><span class='ee-k'>0:</span><span class='ee-v'>-55.449086410291216</span></li><li><span class='ee-k'>1:</span><span class='ee-v'>-2.431593319681337</span></li></ul></details></li><li><details><summary>196: [-55.44585081836162, -2.427432553160709]</summary><ul><li><span class='ee-k'>0:</span><span class='ee-v'>-55.44585081836162</span></li><li><span class='ee-k'>1:</span><span class='ee-v'>-2.427432553160709</span></li></ul></details></li><li><details><summary>197: [-55.447236339096456, -2.421885459536596]</summary><ul><li><span class='ee-k'>0:</span><span class='ee-v'>-55.447236339096456</span></li><li><span class='ee-k'>1:</span><span class='ee-v'>-2.421885459536596</span></li></ul></details></li><li><details><summary>198: [-55.445852508419875, -2.4181892662266655]</summary><ul><li><span class='ee-k'>0:</span><span class='ee-v'>-55.445852508419875</span></li><li><span class='ee-k'>1:</span><span class='ee-v'>-2.4181892662266655</span></li></ul></details></li><li><details><summary>199: [-55.44215516171302, -2.4158775549755416]</summary><ul><li><span class='ee-k'>0:</span><span class='ee-v'>-55.44215516171302</span></li><li><span class='ee-k'>1:</span><span class='ee-v'>-2.4158775549755416</span></li></ul></details></li><li><details><summary>200: [-55.45185698482692, -2.4089438959477407]</summary><ul><li><span class='ee-k'>0:</span><span class='ee-v'>-55.45185698482692</span></li><li><span class='ee-k'>1:</span><span class='ee-v'>-2.4089438959477407</span></li></ul></details></li><li><details><summary>201: [-55.45093516854486, -2.407097741286015]</summary><ul><li><span class='ee-k'>0:</span><span class='ee-v'>-55.45093516854486</span></li><li><span class='ee-k'>1:</span><span class='ee-v'>-2.407097741286015</span></li></ul></details></li><li><details><summary>202: [-55.44723786017301, -2.404786050947185]</summary><ul><li><span class='ee-k'>0:</span><span class='ee-v'>-55.44723786017301</span></li><li><span class='ee-k'>1:</span><span class='ee-v'>-2.404786050947185</span></li></ul></details></li><li><details><summary>203: [-55.438456535154806, -2.3950792973552697]</summary><ul><li><span class='ee-k'>0:</span><span class='ee-v'>-55.438456535154806</span></li><li><span class='ee-k'>1:</span><span class='ee-v'>-2.3950792973552697</span></li></ul></details></li><li><details><summary>204: [-55.43198321746851, -2.392768913411798]</summary><ul><li><span class='ee-k'>0:</span><span class='ee-v'>-55.43198321746851</span></li><li><span class='ee-k'>1:</span><span class='ee-v'>-2.392768913411798</span></li></ul></details></li><li><details><summary>205: [-55.41950813871467, -2.3895313023428897]</summary><ul><li><span class='ee-k'>0:</span><span class='ee-v'>-55.41950813871467</span></li><li><span class='ee-k'>1:</span><span class='ee-v'>-2.3895313023428897</span></li></ul></details></li><li><details><summary>206: [-55.408416033097794, -2.3830630435850932]</summary><ul><li><span class='ee-k'>0:</span><span class='ee-v'>-55.408416033097794</span></li><li><span class='ee-k'>1:</span><span class='ee-v'>-2.3830630435850932</span></li></ul></details></li><li><details><summary>207: [-55.40055676677607, -2.3830628993430754]</summary><ul><li><span class='ee-k'>0:</span><span class='ee-v'>-55.40055676677607</span></li><li><span class='ee-k'>1:</span><span class='ee-v'>-2.3830628993430754</span></li></ul></details></li><li><details><summary>208: [-55.399634310287894, -2.377980140930813]</summary><ul><li><span class='ee-k'>0:</span><span class='ee-v'>-55.399634310287894</span></li><li><span class='ee-k'>1:</span><span class='ee-v'>-2.377980140930813</span></li></ul></details></li><li><details><summary>209: [-55.39593410977397, -2.3705822741212224]</summary><ul><li><span class='ee-k'>0:</span><span class='ee-v'>-55.39593410977397</span></li><li><span class='ee-k'>1:</span><span class='ee-v'>-2.3705822741212224</span></li></ul></details></li><li><details><summary>210: [-55.384381835428336, -2.368732743707853]</summary><ul><li><span class='ee-k'>0:</span><span class='ee-v'>-55.384381835428336</span></li><li><span class='ee-k'>1:</span><span class='ee-v'>-2.368732743707853</span></li></ul></details></li><li><details><summary>211: [-55.382995118485766, -2.3715098254977693]</summary><ul><li><span class='ee-k'>0:</span><span class='ee-v'>-55.382995118485766</span></li><li><span class='ee-k'>1:</span><span class='ee-v'>-2.3715098254977693</span></li></ul></details></li><li><details><summary>212: [-55.375135954050116, -2.3715095502392276]</summary><ul><li><span class='ee-k'>0:</span><span class='ee-v'>-55.375135954050116</span></li><li><span class='ee-k'>1:</span><span class='ee-v'>-2.3715095502392276</span></li></ul></details></li><li><details><summary>213: [-55.37421250078829, -2.3673470795224696]</summary><ul><li><span class='ee-k'>0:</span><span class='ee-v'>-55.37421250078829</span></li><li><span class='ee-k'>1:</span><span class='ee-v'>-2.3673470795224696</span></li></ul></details></li><li><details><summary>214: [-55.36358146396632, -2.367810380321784]</summary><ul><li><span class='ee-k'>0:</span><span class='ee-v'>-55.36358146396632</span></li><li><span class='ee-k'>1:</span><span class='ee-v'>-2.367810380321784</span></li></ul></details></li><li><details><summary>215: [-55.358498921175105, -2.3710454147302484]</summary><ul><li><span class='ee-k'>0:</span><span class='ee-v'>-55.358498921175105</span></li><li><span class='ee-k'>1:</span><span class='ee-v'>-2.3710454147302484</span></li></ul></details></li><li><details><summary>216: [-55.35295333347484, -2.373355093816225]</summary><ul><li><span class='ee-k'>0:</span><span class='ee-v'>-55.35295333347484</span></li><li><span class='ee-k'>1:</span><span class='ee-v'>-2.373355093816225</span></li></ul></details></li><li><details><summary>217: [-55.34925309571297, -2.373817498495757]</summary><ul><li><span class='ee-k'>0:</span><span class='ee-v'>-55.34925309571297</span></li><li><span class='ee-k'>1:</span><span class='ee-v'>-2.373817498495757</span></li></ul></details></li><li><details><summary>218: [-55.33769994387566, -2.3691978838801457]</summary><ul><li><span class='ee-k'>0:</span><span class='ee-v'>-55.33769994387566</span></li><li><span class='ee-k'>1:</span><span class='ee-v'>-2.3691978838801457</span></li></ul></details></li><li><details><summary>219: [-55.33076980526369, -2.368736175424651]</summary><ul><li><span class='ee-k'>0:</span><span class='ee-v'>-55.33076980526369</span></li><li><span class='ee-k'>1:</span><span class='ee-v'>-2.368736175424651</span></li></ul></details></li><li><details><summary>220: [-55.32845743509391, -2.365501298847458]</summary><ul><li><span class='ee-k'>0:</span><span class='ee-v'>-55.32845743509391</span></li><li><span class='ee-k'>1:</span><span class='ee-v'>-2.365501298847458</span></li></ul></details></li><li><details><summary>221: [-55.329382932718765, -2.36411082083919]</summary><ul><li><span class='ee-k'>0:</span><span class='ee-v'>-55.329382932718765</span></li><li><span class='ee-k'>1:</span><span class='ee-v'>-2.36411082083919</span></li></ul></details></li><li><details><summary>222: [-55.32475950970521, -2.3641142238958883]</summary><ul><li><span class='ee-k'>0:</span><span class='ee-v'>-55.32475950970521</span></li><li><span class='ee-k'>1:</span><span class='ee-v'>-2.3641142238958883</span></li></ul></details></li><li><details><summary>223: [-55.320138865237624, -2.365500196440806]</summary><ul><li><span class='ee-k'>0:</span><span class='ee-v'>-55.320138865237624</span></li><li><span class='ee-k'>1:</span><span class='ee-v'>-2.365500196440806</span></li></ul></details></li><li><details><summary>224: [-55.31690393662783, -2.365038365131063]</summary><ul><li><span class='ee-k'>0:</span><span class='ee-v'>-55.31690393662783</span></li><li><span class='ee-k'>1:</span><span class='ee-v'>-2.365038365131063</span></li></ul></details></li><li><details><summary>225: [-55.31366566972415, -2.3599529417601404]</summary><ul><li><span class='ee-k'>0:</span><span class='ee-v'>-55.31366566972415</span></li><li><span class='ee-k'>1:</span><span class='ee-v'>-2.3599529417601404</span></li></ul></details></li><li><details><summary>226: [-55.31089435164538, -2.3599540193382746]</summary><ul><li><span class='ee-k'>0:</span><span class='ee-v'>-55.31089435164538</span></li><li><span class='ee-k'>1:</span><span class='ee-v'>-2.3599540193382746</span></li></ul></details></li><li><details><summary>227: [-55.30627039870529, -2.3641140736372166]</summary><ul><li><span class='ee-k'>0:</span><span class='ee-v'>-55.30627039870529</span></li><li><span class='ee-k'>1:</span><span class='ee-v'>-2.3641140736372166</span></li></ul></details></li><li><details><summary>228: [-55.30211397951293, -2.3618017076296005]</summary><ul><li><span class='ee-k'>0:</span><span class='ee-v'>-55.30211397951293</span></li><li><span class='ee-k'>1:</span><span class='ee-v'>-2.3618017076296005</span></li></ul></details></li><li><details><summary>229: [-55.29841448169723, -2.361801648232039]</summary><ul><li><span class='ee-k'>0:</span><span class='ee-v'>-55.29841448169723</span></li><li><span class='ee-k'>1:</span><span class='ee-v'>-2.361801648232039</span></li></ul></details></li><li><details><summary>230: [-55.295181294486085, -2.3562538661821626]</summary><ul><li><span class='ee-k'>0:</span><span class='ee-v'>-55.295181294486085</span></li><li><span class='ee-k'>1:</span><span class='ee-v'>-2.3562538661821626</span></li></ul></details></li><li><details><summary>231: [-55.28778397962625, -2.3511723336821917]</summary><ul><li><span class='ee-k'>0:</span><span class='ee-v'>-55.28778397962625</span></li><li><span class='ee-k'>1:</span><span class='ee-v'>-2.3511723336821917</span></li></ul></details></li><li><details><summary>232: [-55.28824756373639, -2.3479364234831013]</summary><ul><li><span class='ee-k'>0:</span><span class='ee-v'>-55.28824756373639</span></li><li><span class='ee-k'>1:</span><span class='ee-v'>-2.3479364234831013</span></li></ul></details></li><li><details><summary>233: [-55.2859354037237, -2.3447016499359443]</summary><ul><li><span class='ee-k'>0:</span><span class='ee-v'>-55.2859354037237</span></li><li><span class='ee-k'>1:</span><span class='ee-v'>-2.3447016499359443</span></li></ul></details></li><li><details><summary>234: [-55.285935994155004, -2.3405404756214083]</summary><ul><li><span class='ee-k'>0:</span><span class='ee-v'>-55.285935994155004</span></li><li><span class='ee-k'>1:</span><span class='ee-v'>-2.3405404756214083</span></li></ul></details></li><li><details><summary>235: [-55.27853989397608, -2.334534273524113]</summary><ul><li><span class='ee-k'>0:</span><span class='ee-v'>-55.27853989397608</span></li><li><span class='ee-k'>1:</span><span class='ee-v'>-2.334534273524113</span></li></ul></details></li><li><details><summary>236: [-55.2757676796652, -2.328062401786556]</summary><ul><li><span class='ee-k'>0:</span><span class='ee-v'>-55.2757676796652</span></li><li><span class='ee-k'>1:</span><span class='ee-v'>-2.328062401786556</span></li></ul></details></li><li><details><summary>237: [-55.2679092279376, -2.3206686441051416]</summary><ul><li><span class='ee-k'>0:</span><span class='ee-v'>-55.2679092279376</span></li><li><span class='ee-k'>1:</span><span class='ee-v'>-2.3206686441051416</span></li></ul></details></li><li><details><summary>238: [-55.263290530540694, -2.3243662081690504]</summary><ul><li><span class='ee-k'>0:</span><span class='ee-v'>-55.263290530540694</span></li><li><span class='ee-k'>1:</span><span class='ee-v'>-2.3243662081690504</span></li></ul></details></li><li><details><summary>239: [-55.25496964142233, -2.3266765614767695]</summary><ul><li><span class='ee-k'>0:</span><span class='ee-v'>-55.25496964142233</span></li><li><span class='ee-k'>1:</span><span class='ee-v'>-2.3266765614767695</span></li></ul></details></li><li><details><summary>240: [-55.25404629081186, -2.3336105792318635]</summary><ul><li><span class='ee-k'>0:</span><span class='ee-v'>-55.25404629081186</span></li><li><span class='ee-k'>1:</span><span class='ee-v'>-2.3336105792318635</span></li></ul></details></li><li><details><summary>241: [-55.25127351611256, -2.3312999207475045]</summary><ul><li><span class='ee-k'>0:</span><span class='ee-v'>-55.25127351611256</span></li><li><span class='ee-k'>1:</span><span class='ee-v'>-2.3312999207475045</span></li></ul></details></li><li><details><summary>242: [-55.24387853845731, -2.335456249804234]</summary><ul><li><span class='ee-k'>0:</span><span class='ee-v'>-55.24387853845731</span></li><li><span class='ee-k'>1:</span><span class='ee-v'>-2.335456249804234</span></li></ul></details></li><li><details><summary>243: [-55.232324991084006, -2.3285245285702723]</summary><ul><li><span class='ee-k'>0:</span><span class='ee-v'>-55.232324991084006</span></li><li><span class='ee-k'>1:</span><span class='ee-v'>-2.3285245285702723</span></li></ul></details></li><li><details><summary>244: [-55.22631540394342, -2.323902534902627]</summary><ul><li><span class='ee-k'>0:</span><span class='ee-v'>-55.22631540394342</span></li><li><span class='ee-k'>1:</span><span class='ee-v'>-2.323902534902627</span></li></ul></details></li><li><details><summary>245: [-55.222618404055765, -2.322052962455623]</summary><ul><li><span class='ee-k'>0:</span><span class='ee-v'>-55.222618404055765</span></li><li><span class='ee-k'>1:</span><span class='ee-v'>-2.322052962455623</span></li></ul></details></li><li><details><summary>246: [-55.216146214216096, -2.3234407667808554]</summary><ul><li><span class='ee-k'>0:</span><span class='ee-v'>-55.216146214216096</span></li><li><span class='ee-k'>1:</span><span class='ee-v'>-2.3234407667808554</span></li></ul></details></li><li><details><summary>247: [-55.21244847271741, -2.315123017816886]</summary><ul><li><span class='ee-k'>0:</span><span class='ee-v'>-55.21244847271741</span></li><li><span class='ee-k'>1:</span><span class='ee-v'>-2.315123017816886</span></li></ul></details></li><li><details><summary>248: [-55.20043343116193, -2.310035569725158]</summary><ul><li><span class='ee-k'>0:</span><span class='ee-v'>-55.20043343116193</span></li><li><span class='ee-k'>1:</span><span class='ee-v'>-2.310035569725158</span></li></ul></details></li><li><details><summary>249: [-55.19534895669654, -2.3044901063325978]</summary><ul><li><span class='ee-k'>0:</span><span class='ee-v'>-55.19534895669654</span></li><li><span class='ee-k'>1:</span><span class='ee-v'>-2.3044901063325978</span></li></ul></details></li><li><details><summary>250: [-55.19673476667316, -2.2989439151354363]</summary><ul><li><span class='ee-k'>0:</span><span class='ee-v'>-55.19673476667316</span></li><li><span class='ee-k'>1:</span><span class='ee-v'>-2.2989439151354363</span></li></ul></details></li><li><details><summary>251: [-55.19257731977983, -2.2943243017608386]</summary><ul><li><span class='ee-k'>0:</span><span class='ee-v'>-55.19257731977983</span></li><li><span class='ee-k'>1:</span><span class='ee-v'>-2.2943243017608386</span></li></ul></details></li><li><details><summary>252: [-55.18702959716479, -2.295246361759691]</summary><ul><li><span class='ee-k'>0:</span><span class='ee-v'>-55.18702959716479</span></li><li><span class='ee-k'>1:</span><span class='ee-v'>-2.295246361759691</span></li></ul></details></li><li><details><summary>253: [-55.185641079853326, -2.2887764958452594]</summary><ul><li><span class='ee-k'>0:</span><span class='ee-v'>-55.185641079853326</span></li><li><span class='ee-k'>1:</span><span class='ee-v'>-2.2887764958452594</span></li></ul></details></li><li><details><summary>254: [-55.182870094314836, -2.288777452813976]</summary><ul><li><span class='ee-k'>0:</span><span class='ee-v'>-55.182870094314836</span></li><li><span class='ee-k'>1:</span><span class='ee-v'>-2.288777452813976</span></li></ul></details></li><li><details><summary>255: [-55.178249990852215, -2.290163007067064]</summary><ul><li><span class='ee-k'>0:</span><span class='ee-v'>-55.178249990852215</span></li><li><span class='ee-k'>1:</span><span class='ee-v'>-2.290163007067064</span></li></ul></details></li><li><details><summary>256: [-55.17085179113449, -2.290162517962188]</summary><ul><li><span class='ee-k'>0:</span><span class='ee-v'>-55.17085179113449</span></li><li><span class='ee-k'>1:</span><span class='ee-v'>-2.290162517962188</span></li></ul></details></li><li><details><summary>257: [-55.162994858868856, -2.292935337216767]</summary><ul><li><span class='ee-k'>0:</span><span class='ee-v'>-55.162994858868856</span></li><li><span class='ee-k'>1:</span><span class='ee-v'>-2.292935337216767</span></li></ul></details></li><li><details><summary>258: [-55.15976188288645, -2.2947849331071204]</summary><ul><li><span class='ee-k'>0:</span><span class='ee-v'>-55.15976188288645</span></li><li><span class='ee-k'>1:</span><span class='ee-v'>-2.2947849331071204</span></li></ul></details></li><li><details><summary>259: [-55.14404488757047, -2.292475374149298]</summary><ul><li><span class='ee-k'>0:</span><span class='ee-v'>-55.14404488757047</span></li><li><span class='ee-k'>1:</span><span class='ee-v'>-2.292475374149298</span></li></ul></details></li><li><details><summary>260: [-55.14127247250914, -2.290164628997235]</summary><ul><li><span class='ee-k'>0:</span><span class='ee-v'>-55.14127247250914</span></li><li><span class='ee-k'>1:</span><span class='ee-v'>-2.290164628997235</span></li></ul></details></li><li><details><summary>261: [-55.1394266316453, -2.28554357678484]</summary><ul><li><span class='ee-k'>0:</span><span class='ee-v'>-55.1394266316453</span></li><li><span class='ee-k'>1:</span><span class='ee-v'>-2.28554357678484</span></li></ul></details></li><li><details><summary>262: [-55.139426042222084, -2.279071129062499]</summary><ul><li><span class='ee-k'>0:</span><span class='ee-v'>-55.139426042222084</span></li><li><span class='ee-k'>1:</span><span class='ee-v'>-2.279071129062499</span></li></ul></details></li><li><details><summary>263: [-55.12879662604428, -2.2762968765072977]</summary><ul><li><span class='ee-k'>0:</span><span class='ee-v'>-55.12879662604428</span></li><li><span class='ee-k'>1:</span><span class='ee-v'>-2.2762968765072977</span></li></ul></details></li><li><details><summary>264: [-55.122326149125186, -2.276759738997263]</summary><ul><li><span class='ee-k'>0:</span><span class='ee-v'>-55.122326149125186</span></li><li><span class='ee-k'>1:</span><span class='ee-v'>-2.276759738997263</span></li></ul></details></li><li><details><summary>265: [-55.119549305536125, -2.2744490110140325]</summary><ul><li><span class='ee-k'>0:</span><span class='ee-v'>-55.119549305536125</span></li><li><span class='ee-k'>1:</span><span class='ee-v'>-2.2744490110140325</span></li></ul></details></li><li><details><summary>266: [-55.109847017466954, -2.272600474699061]</summary><ul><li><span class='ee-k'>0:</span><span class='ee-v'>-55.109847017466954</span></li><li><span class='ee-k'>1:</span><span class='ee-v'>-2.272600474699061</span></li></ul></details></li><li><details><summary>267: [-55.104760109774936, -2.2693666014463827]</summary><ul><li><span class='ee-k'>0:</span><span class='ee-v'>-55.104760109774936</span></li><li><span class='ee-k'>1:</span><span class='ee-v'>-2.2693666014463827</span></li></ul></details></li><li><details><summary>268: [-55.09182027439251, -2.2730614230778703]</summary><ul><li><span class='ee-k'>0:</span><span class='ee-v'>-55.09182027439251</span></li><li><span class='ee-k'>1:</span><span class='ee-v'>-2.2730614230778703</span></li></ul></details></li><li><details><summary>269: [-55.082575039149, -2.2698264121747505]</summary><ul><li><span class='ee-k'>0:</span><span class='ee-v'>-55.082575039149</span></li><li><span class='ee-k'>1:</span><span class='ee-v'>-2.2698264121747505</span></li></ul></details></li><li><details><summary>270: [-55.077030602683365, -2.2652050234211005]</summary><ul><li><span class='ee-k'>0:</span><span class='ee-v'>-55.077030602683365</span></li><li><span class='ee-k'>1:</span><span class='ee-v'>-2.2652050234211005</span></li></ul></details></li><li><details><summary>271: [-55.07055859710024, -2.2568884593137915]</summary><ul><li><span class='ee-k'>0:</span><span class='ee-v'>-55.07055859710024</span></li><li><span class='ee-k'>1:</span><span class='ee-v'>-2.2568884593137915</span></li></ul></details></li><li><details><summary>272: [-55.062242415328505, -2.2564240636936805]</summary><ul><li><span class='ee-k'>0:</span><span class='ee-v'>-55.062242415328505</span></li><li><span class='ee-k'>1:</span><span class='ee-v'>-2.2564240636936805</span></li></ul></details></li><li><details><summary>273: [-55.05484596646879, -2.2522669080560616]</summary><ul><li><span class='ee-k'>0:</span><span class='ee-v'>-55.05484596646879</span></li><li><span class='ee-k'>1:</span><span class='ee-v'>-2.2522669080560616</span></li></ul></details></li><li><details><summary>274: [-55.05114840483349, -2.251341897945767]</summary><ul><li><span class='ee-k'>0:</span><span class='ee-v'>-55.05114840483349</span></li><li><span class='ee-k'>1:</span><span class='ee-v'>-2.251341897945767</span></li></ul></details></li><li><details><summary>275: [-55.051426660558725, -2.250098989918379]</summary><ul><li><span class='ee-k'>0:</span><span class='ee-v'>-55.051426660558725</span></li><li><span class='ee-k'>1:</span><span class='ee-v'>-2.250098989918379</span></li></ul></details></li><li><details><summary>276: [-55.052073011425676, -2.2471824601708907]</summary><ul><li><span class='ee-k'>0:</span><span class='ee-v'>-55.052073011425676</span></li><li><span class='ee-k'>1:</span><span class='ee-v'>-2.2471824601708907</span></li></ul></details></li><li><details><summary>277: [-55.07241076816368, -2.2360920528891293]</summary><ul><li><span class='ee-k'>0:</span><span class='ee-v'>-55.07241076816368</span></li><li><span class='ee-k'>1:</span><span class='ee-v'>-2.2360920528891293</span></li></ul></details></li><li><details><summary>278: [-55.08581005009788, -2.2217603733375775]</summary><ul><li><span class='ee-k'>0:</span><span class='ee-v'>-55.08581005009788</span></li><li><span class='ee-k'>1:</span><span class='ee-v'>-2.2217603733375775</span></li></ul></details></li><li><details><summary>279: [-55.10491876855071, -2.204926654350431]</summary><ul><li><span class='ee-k'>0:</span><span class='ee-v'>-55.10491876855071</span></li><li><span class='ee-k'>1:</span><span class='ee-v'>-2.204926654350431</span></li></ul></details></li><li><details><summary>280: [-55.105204355093264, -2.204855208913708]</summary><ul><li><span class='ee-k'>0:</span><span class='ee-v'>-55.105204355093264</span></li><li><span class='ee-k'>1:</span><span class='ee-v'>-2.204855208913708</span></li></ul></details></li><li><details><summary>281: [-55.113312281942434, -2.197019748966062]</summary><ul><li><span class='ee-k'>0:</span><span class='ee-v'>-55.113312281942434</span></li><li><span class='ee-k'>1:</span><span class='ee-v'>-2.197019748966062</span></li></ul></details></li><li><details><summary>282: [-55.12077831178084, -2.1922131433922742]</summary><ul><li><span class='ee-k'>0:</span><span class='ee-v'>-55.12077831178084</span></li><li><span class='ee-k'>1:</span><span class='ee-v'>-2.1922131433922742</span></li></ul></details></li><li><details><summary>283: [-55.12727855898456, -2.1889940885009347]</summary><ul><li><span class='ee-k'>0:</span><span class='ee-v'>-55.12727855898456</span></li><li><span class='ee-k'>1:</span><span class='ee-v'>-2.1889940885009347</span></li></ul></details></li><li><details><summary>284: [-55.13476467416883, -2.185897469442562]</summary><ul><li><span class='ee-k'>0:</span><span class='ee-v'>-55.13476467416883</span></li><li><span class='ee-k'>1:</span><span class='ee-v'>-2.185897469442562</span></li></ul></details></li><li><details><summary>285: [-55.143424025155774, -2.183013124677583]</summary><ul><li><span class='ee-k'>0:</span><span class='ee-v'>-55.143424025155774</span></li><li><span class='ee-k'>1:</span><span class='ee-v'>-2.183013124677583</span></li></ul></details></li><li><details><summary>286: [-55.15698575668114, -2.1773922997155153]</summary><ul><li><span class='ee-k'>0:</span><span class='ee-v'>-55.15698575668114</span></li><li><span class='ee-k'>1:</span><span class='ee-v'>-2.1773922997155153</span></li></ul></details></li><li><details><summary>287: [-55.1610639021812, -2.1772896115768403]</summary><ul><li><span class='ee-k'>0:</span><span class='ee-v'>-55.1610639021812</span></li><li><span class='ee-k'>1:</span><span class='ee-v'>-2.1772896115768403</span></li></ul></details></li><li><details><summary>288: [-55.16908491021321, -2.174682558645759]</summary><ul><li><span class='ee-k'>0:</span><span class='ee-v'>-55.16908491021321</span></li><li><span class='ee-k'>1:</span><span class='ee-v'>-2.174682558645759</span></li></ul></details></li><li><details><summary>289: [-55.18139167111876, -2.170056292077318]</summary><ul><li><span class='ee-k'>0:</span><span class='ee-v'>-55.18139167111876</span></li><li><span class='ee-k'>1:</span><span class='ee-v'>-2.170056292077318</span></li></ul></details></li><li><details><summary>290: [-55.191293356427884, -2.1655302681010005]</summary><ul><li><span class='ee-k'>0:</span><span class='ee-v'>-55.191293356427884</span></li><li><span class='ee-k'>1:</span><span class='ee-v'>-2.1655302681010005</span></li></ul></details></li><li><details><summary>291: [-55.19544105123422, -2.163241523125732]</summary><ul><li><span class='ee-k'>0:</span><span class='ee-v'>-55.19544105123422</span></li><li><span class='ee-k'>1:</span><span class='ee-v'>-2.163241523125732</span></li></ul></details></li><li><details><summary>292: [-55.20007008791479, -2.1614291616452115]</summary><ul><li><span class='ee-k'>0:</span><span class='ee-v'>-55.20007008791479</span></li><li><span class='ee-k'>1:</span><span class='ee-v'>-2.1614291616452115</span></li></ul></details></li><li><details><summary>293: [-55.205931208167954, -2.1591558374703017]</summary><ul><li><span class='ee-k'>0:</span><span class='ee-v'>-55.205931208167954</span></li><li><span class='ee-k'>1:</span><span class='ee-v'>-2.1591558374703017</span></li></ul></details></li><li><details><summary>294: [-55.218841833069604, -2.1570120779702724]</summary><ul><li><span class='ee-k'>0:</span><span class='ee-v'>-55.218841833069604</span></li><li><span class='ee-k'>1:</span><span class='ee-v'>-2.1570120779702724</span></li></ul></details></li><li><details><summary>295: [-55.249424206196885, -2.1487390527588324]</summary><ul><li><span class='ee-k'>0:</span><span class='ee-v'>-55.249424206196885</span></li><li><span class='ee-k'>1:</span><span class='ee-v'>-2.1487390527588324</span></li></ul></details></li><li><details><summary>296: [-55.25855504399525, -2.147200886085519]</summary><ul><li><span class='ee-k'>0:</span><span class='ee-v'>-55.25855504399525</span></li><li><span class='ee-k'>1:</span><span class='ee-v'>-2.147200886085519</span></li></ul></details></li><li><details><summary>297: [-55.26564770409302, -2.1448209483807523]</summary><ul><li><span class='ee-k'>0:</span><span class='ee-v'>-55.26564770409302</span></li><li><span class='ee-k'>1:</span><span class='ee-v'>-2.1448209483807523</span></li></ul></details></li><li><details><summary>298: [-55.27388208513232, -2.142976460375339]</summary><ul><li><span class='ee-k'>0:</span><span class='ee-v'>-55.27388208513232</span></li><li><span class='ee-k'>1:</span><span class='ee-v'>-2.142976460375339</span></li></ul></details></li><li><details><summary>299: [-55.28552952532591, -2.1414858316173353]</summary><ul><li><span class='ee-k'>0:</span><span class='ee-v'>-55.28552952532591</span></li><li><span class='ee-k'>1:</span><span class='ee-v'>-2.1414858316173353</span></li></ul></details></li><li><details><summary>300: [-55.29099748861259, -2.1396291050142633]</summary><ul><li><span class='ee-k'>0:</span><span class='ee-v'>-55.29099748861259</span></li><li><span class='ee-k'>1:</span><span class='ee-v'>-2.1396291050142633</span></li></ul></details></li><li><details><summary>301: [-55.30746200936542, -2.13173797607784]</summary><ul><li><span class='ee-k'>0:</span><span class='ee-v'>-55.30746200936542</span></li><li><span class='ee-k'>1:</span><span class='ee-v'>-2.13173797607784</span></li></ul></details></li><li><details><summary>302: [-55.31809172813708, -2.1264392454083887]</summary><ul><li><span class='ee-k'>0:</span><span class='ee-v'>-55.31809172813708</span></li><li><span class='ee-k'>1:</span><span class='ee-v'>-2.1264392454083887</span></li></ul></details></li><li><details><summary>303: [-55.3231364589002, -2.1240117513738124]</summary><ul><li><span class='ee-k'>0:</span><span class='ee-v'>-55.3231364589002</span></li><li><span class='ee-k'>1:</span><span class='ee-v'>-2.1240117513738124</span></li></ul></details></li><li><details><summary>304: [-55.32618563230552, -2.122547187297683]</summary><ul><li><span class='ee-k'>0:</span><span class='ee-v'>-55.32618563230552</span></li><li><span class='ee-k'>1:</span><span class='ee-v'>-2.122547187297683</span></li></ul></details></li><li><details><summary>305: [-55.32894976112908, -2.1205077519330255]</summary><ul><li><span class='ee-k'>0:</span><span class='ee-v'>-55.32894976112908</span></li><li><span class='ee-k'>1:</span><span class='ee-v'>-2.1205077519330255</span></li></ul></details></li><li><details><summary>306: [-55.33468496663892, -2.114898221163901]</summary><ul><li><span class='ee-k'>0:</span><span class='ee-v'>-55.33468496663892</span></li><li><span class='ee-k'>1:</span><span class='ee-v'>-2.114898221163901</span></li></ul></details></li><li><details><summary>307: [-55.33681520545826, -2.1132171373812527]</summary><ul><li><span class='ee-k'>0:</span><span class='ee-v'>-55.33681520545826</span></li><li><span class='ee-k'>1:</span><span class='ee-v'>-2.1132171373812527</span></li></ul></details></li><li><details><summary>308: [-55.33626612022692, -2.113463469507864]</summary><ul><li><span class='ee-k'>0:</span><span class='ee-v'>-55.33626612022692</span></li><li><span class='ee-k'>1:</span><span class='ee-v'>-2.113463469507864</span></li></ul></details></li><li><details><summary>309: [-55.339419736481226, -2.110180932528181]</summary><ul><li><span class='ee-k'>0:</span><span class='ee-v'>-55.339419736481226</span></li><li><span class='ee-k'>1:</span><span class='ee-v'>-2.110180932528181</span></li></ul></details></li><li><details><summary>310: [-55.346040374829975, -2.1026779062286787]</summary><ul><li><span class='ee-k'>0:</span><span class='ee-v'>-55.346040374829975</span></li><li><span class='ee-k'>1:</span><span class='ee-v'>-2.1026779062286787</span></li></ul></details></li><li><details><summary>311: [-55.35914826790887, -2.0912671987283056]</summary><ul><li><span class='ee-k'>0:</span><span class='ee-v'>-55.35914826790887</span></li><li><span class='ee-k'>1:</span><span class='ee-v'>-2.0912671987283056</span></li></ul></details></li><li><details><summary>312: [-55.36889757946915, -2.08277962838661]</summary><ul><li><span class='ee-k'>0:</span><span class='ee-v'>-55.36889757946915</span></li><li><span class='ee-k'>1:</span><span class='ee-v'>-2.08277962838661</span></li></ul></details></li><li><details><summary>313: [-55.37670002950222, -2.0756590965379873]</summary><ul><li><span class='ee-k'>0:</span><span class='ee-v'>-55.37670002950222</span></li><li><span class='ee-k'>1:</span><span class='ee-v'>-2.0756590965379873</span></li></ul></details></li><li><details><summary>314: [-55.38716707369095, -2.0676298717287622]</summary><ul><li><span class='ee-k'>0:</span><span class='ee-v'>-55.38716707369095</span></li><li><span class='ee-k'>1:</span><span class='ee-v'>-2.0676298717287622</span></li></ul></details></li><li><details><summary>315: [-55.39639869537829, -2.0634958214036705]</summary><ul><li><span class='ee-k'>0:</span><span class='ee-v'>-55.39639869537829</span></li><li><span class='ee-k'>1:</span><span class='ee-v'>-2.0634958214036705</span></li></ul></details></li><li><details><summary>316: [-55.40284850790555, -2.0612083901268194]</summary><ul><li><span class='ee-k'>0:</span><span class='ee-v'>-55.40284850790555</span></li><li><span class='ee-k'>1:</span><span class='ee-v'>-2.0612083901268194</span></li></ul></details></li><li><details><summary>317: [-55.40707234811316, -2.0584608164015252]</summary><ul><li><span class='ee-k'>0:</span><span class='ee-v'>-55.40707234811316</span></li><li><span class='ee-k'>1:</span><span class='ee-v'>-2.0584608164015252</span></li></ul></details></li><li><details><summary>318: [-55.41107347869607, -2.0552685531215307]</summary><ul><li><span class='ee-k'>0:</span><span class='ee-v'>-55.41107347869607</span></li><li><span class='ee-k'>1:</span><span class='ee-v'>-2.0552685531215307</span></li></ul></details></li><li><details><summary>319: [-55.41960731523769, -2.0482424943210336]</summary><ul><li><span class='ee-k'>0:</span><span class='ee-v'>-55.41960731523769</span></li><li><span class='ee-k'>1:</span><span class='ee-v'>-2.0482424943210336</span></li></ul></details></li><li><details><summary>320: [-55.4326751891109, -2.035860703832231]</summary><ul><li><span class='ee-k'>0:</span><span class='ee-v'>-55.4326751891109</span></li><li><span class='ee-k'>1:</span><span class='ee-v'>-2.035860703832231</span></li></ul></details></li><li><details><summary>321: [-55.444101372099325, -2.022978753987024]</summary><ul><li><span class='ee-k'>0:</span><span class='ee-v'>-55.444101372099325</span></li><li><span class='ee-k'>1:</span><span class='ee-v'>-2.022978753987024</span></li></ul></details></li><li><details><summary>322: [-55.44685218360917, -2.0206649630327154]</summary><ul><li><span class='ee-k'>0:</span><span class='ee-v'>-55.44685218360917</span></li><li><span class='ee-k'>1:</span><span class='ee-v'>-2.0206649630327154</span></li></ul></details></li><li><details><summary>323: [-55.45238634906827, -2.0145065489459544]</summary><ul><li><span class='ee-k'>0:</span><span class='ee-v'>-55.45238634906827</span></li><li><span class='ee-k'>1:</span><span class='ee-v'>-2.0145065489459544</span></li></ul></details></li><li><details><summary>324: [-55.4547636261726, -2.0108725140307104]</summary><ul><li><span class='ee-k'>0:</span><span class='ee-v'>-55.4547636261726</span></li><li><span class='ee-k'>1:</span><span class='ee-v'>-2.0108725140307104</span></li></ul></details></li><li><details><summary>325: [-55.457501335670706, -2.0081591656853814]</summary><ul><li><span class='ee-k'>0:</span><span class='ee-v'>-55.457501335670706</span></li><li><span class='ee-k'>1:</span><span class='ee-v'>-2.0081591656853814</span></li></ul></details></li><li><details><summary>326: [-55.462883617927204, -2.0021486119978174]</summary><ul><li><span class='ee-k'>0:</span><span class='ee-v'>-55.462883617927204</span></li><li><span class='ee-k'>1:</span><span class='ee-v'>-2.0021486119978174</span></li></ul></details></li><li><details><summary>327: [-55.46659570352156, -1.9976807956432592]</summary><ul><li><span class='ee-k'>0:</span><span class='ee-v'>-55.46659570352156</span></li><li><span class='ee-k'>1:</span><span class='ee-v'>-1.9976807956432592</span></li></ul></details></li><li><details><summary>328: [-55.473117147355495, -1.9901628629243437]</summary><ul><li><span class='ee-k'>0:</span><span class='ee-v'>-55.473117147355495</span></li><li><span class='ee-k'>1:</span><span class='ee-v'>-1.9901628629243437</span></li></ul></details></li><li><details><summary>329: [-55.4766283946439, -1.9856139697064372]</summary><ul><li><span class='ee-k'>0:</span><span class='ee-v'>-55.4766283946439</span></li><li><span class='ee-k'>1:</span><span class='ee-v'>-1.9856139697064372</span></li></ul></details></li><li><details><summary>330: [-55.484925076724856, -1.978681153811873]</summary><ul><li><span class='ee-k'>0:</span><span class='ee-v'>-55.484925076724856</span></li><li><span class='ee-k'>1:</span><span class='ee-v'>-1.978681153811873</span></li></ul></details></li><li><details><summary>331: [-55.48957620518775, -1.9717538859828778]</summary><ul><li><span class='ee-k'>0:</span><span class='ee-v'>-55.48957620518775</span></li><li><span class='ee-k'>1:</span><span class='ee-v'>-1.9717538859828778</span></li></ul></details></li><li><details><summary>332: [-55.49524463409983, -1.9648050372263017]</summary><ul><li><span class='ee-k'>0:</span><span class='ee-v'>-55.49524463409983</span></li><li><span class='ee-k'>1:</span><span class='ee-v'>-1.9648050372263017</span></li></ul></details></li><li><details><summary>333: [-55.50261403812089, -1.9568117019501667]</summary><ul><li><span class='ee-k'>0:</span><span class='ee-v'>-55.50261403812089</span></li><li><span class='ee-k'>1:</span><span class='ee-v'>-1.9568117019501667</span></li></ul></details></li><li><details><summary>334: [-55.51564163088772, -1.9430094849270858]</summary><ul><li><span class='ee-k'>0:</span><span class='ee-v'>-55.51564163088772</span></li><li><span class='ee-k'>1:</span><span class='ee-v'>-1.9430094849270858</span></li></ul></details></li><li><details><summary>335: [-55.5179507682403, -1.9402954941741046]</summary><ul><li><span class='ee-k'>0:</span><span class='ee-v'>-55.5179507682403</span></li><li><span class='ee-k'>1:</span><span class='ee-v'>-1.9402954941741046</span></li></ul></details></li><li><details><summary>336: [-55.53782222559241, -1.9218074649243666]</summary><ul><li><span class='ee-k'>0:</span><span class='ee-v'>-55.53782222559241</span></li><li><span class='ee-k'>1:</span><span class='ee-v'>-1.9218074649243666</span></li></ul></details></li><li><details><summary>337: [-55.53858101575505, -1.9215656539114692]</summary><ul><li><span class='ee-k'>0:</span><span class='ee-v'>-55.53858101575505</span></li><li><span class='ee-k'>1:</span><span class='ee-v'>-1.9215656539114692</span></li></ul></details></li><li><details><summary>338: [-55.54026881863391, -1.92017091340691]</summary><ul><li><span class='ee-k'>0:</span><span class='ee-v'>-55.54026881863391</span></li><li><span class='ee-k'>1:</span><span class='ee-v'>-1.92017091340691</span></li></ul></details></li><li><details><summary>339: [-55.54721891139108, -1.9167513894184007]</summary><ul><li><span class='ee-k'>0:</span><span class='ee-v'>-55.54721891139108</span></li><li><span class='ee-k'>1:</span><span class='ee-v'>-1.9167513894184007</span></li></ul></details></li><li><details><summary>340: [-55.555274023938146, -1.9151914530045013]</summary><ul><li><span class='ee-k'>0:</span><span class='ee-v'>-55.555274023938146</span></li><li><span class='ee-k'>1:</span><span class='ee-v'>-1.9151914530045013</span></li></ul></details></li><li><details><summary>341: [-55.56276666988793, -1.9139317629081787]</summary><ul><li><span class='ee-k'>0:</span><span class='ee-v'>-55.56276666988793</span></li><li><span class='ee-k'>1:</span><span class='ee-v'>-1.9139317629081787</span></li></ul></details></li><li><details><summary>342: [-55.56416808444975, -1.9134884723482086]</summary><ul><li><span class='ee-k'>0:</span><span class='ee-v'>-55.56416808444975</span></li><li><span class='ee-k'>1:</span><span class='ee-v'>-1.9134884723482086</span></li></ul></details></li><li><details><summary>343: [-55.58727661155215, -1.9134897865794318]</summary><ul><li><span class='ee-k'>0:</span><span class='ee-v'>-55.58727661155215</span></li><li><span class='ee-k'>1:</span><span class='ee-v'>-1.9134897865794318</span></li></ul></details></li><li><details><summary>344: [-55.59070743939124, -1.914058315959535]</summary><ul><li><span class='ee-k'>0:</span><span class='ee-v'>-55.59070743939124</span></li><li><span class='ee-k'>1:</span><span class='ee-v'>-1.914058315959535</span></li></ul></details></li><li><details><summary>345: [-55.60489150956168, -1.9149274791942048]</summary><ul><li><span class='ee-k'>0:</span><span class='ee-v'>-55.60489150956168</span></li><li><span class='ee-k'>1:</span><span class='ee-v'>-1.9149274791942048</span></li></ul></details></li><li><details><summary>346: [-55.618773637559556, -1.919585550541418]</summary><ul><li><span class='ee-k'>0:</span><span class='ee-v'>-55.618773637559556</span></li><li><span class='ee-k'>1:</span><span class='ee-v'>-1.919585550541418</span></li></ul></details></li><li><details><summary>347: [-55.626749077799474, -1.9230355131995662]</summary><ul><li><span class='ee-k'>0:</span><span class='ee-v'>-55.626749077799474</span></li><li><span class='ee-k'>1:</span><span class='ee-v'>-1.9230355131995662</span></li></ul></details></li><li><details><summary>348: [-55.63805839556039, -1.9312606800922492]</summary><ul><li><span class='ee-k'>0:</span><span class='ee-v'>-55.63805839556039</span></li><li><span class='ee-k'>1:</span><span class='ee-v'>-1.9312606800922492</span></li></ul></details></li><li><details><summary>349: [-55.662763619915836, -1.950581454305578]</summary><ul><li><span class='ee-k'>0:</span><span class='ee-v'>-55.662763619915836</span></li><li><span class='ee-k'>1:</span><span class='ee-v'>-1.950581454305578</span></li></ul></details></li><li><details><summary>350: [-55.667832885478845, -1.9560539235556034]</summary><ul><li><span class='ee-k'>0:</span><span class='ee-v'>-55.667832885478845</span></li><li><span class='ee-k'>1:</span><span class='ee-v'>-1.9560539235556034</span></li></ul></details></li><li><details><summary>351: [-55.676641930169076, -1.9667554007263195]</summary><ul><li><span class='ee-k'>0:</span><span class='ee-v'>-55.676641930169076</span></li><li><span class='ee-k'>1:</span><span class='ee-v'>-1.9667554007263195</span></li></ul></details></li><li><details><summary>352: [-55.68361994167001, -1.973751416065816]</summary><ul><li><span class='ee-k'>0:</span><span class='ee-v'>-55.68361994167001</span></li><li><span class='ee-k'>1:</span><span class='ee-v'>-1.973751416065816</span></li></ul></details></li><li><details><summary>353: [-55.69426873748932, -1.9830221723694654]</summary><ul><li><span class='ee-k'>0:</span><span class='ee-v'>-55.69426873748932</span></li><li><span class='ee-k'>1:</span><span class='ee-v'>-1.9830221723694654</span></li></ul></details></li><li><details><summary>354: [-55.69613730156676, -1.984518742085664]</summary><ul><li><span class='ee-k'>0:</span><span class='ee-v'>-55.69613730156676</span></li><li><span class='ee-k'>1:</span><span class='ee-v'>-1.984518742085664</span></li></ul></details></li><li><details><summary>355: [-55.69524496199632, -1.9843115016859054]</summary><ul><li><span class='ee-k'>0:</span><span class='ee-v'>-55.69524496199632</span></li><li><span class='ee-k'>1:</span><span class='ee-v'>-1.9843115016859054</span></li></ul></details></li><li><details><summary>356: [-55.71206414173069, -1.9952932458129446]</summary><ul><li><span class='ee-k'>0:</span><span class='ee-v'>-55.71206414173069</span></li><li><span class='ee-k'>1:</span><span class='ee-v'>-1.9952932458129446</span></li></ul></details></li><li><details><summary>357: [-55.73286231849997, -2.00869804003484]</summary><ul><li><span class='ee-k'>0:</span><span class='ee-v'>-55.73286231849997</span></li><li><span class='ee-k'>1:</span><span class='ee-v'>-2.00869804003484</span></li></ul></details></li><li><details><summary>358: [-55.778159935233504, -2.0230239775973966]</summary><ul><li><span class='ee-k'>0:</span><span class='ee-v'>-55.778159935233504</span></li><li><span class='ee-k'>1:</span><span class='ee-v'>-2.0230239775973966</span></li></ul></details></li><li><details><summary>359: [-55.81004702456172, -2.0271830499581247]</summary><ul><li><span class='ee-k'>0:</span><span class='ee-v'>-55.81004702456172</span></li><li><span class='ee-k'>1:</span><span class='ee-v'>-2.0271830499581247</span></li></ul></details></li><li><details><summary>360: [-55.81872726880626, -2.0267629372843206]</summary><ul><li><span class='ee-k'>0:</span><span class='ee-v'>-55.81872726880626</span></li><li><span class='ee-k'>1:</span><span class='ee-v'>-2.0267629372843206</span></li></ul></details></li><li><details><summary>361: [-55.82118193697849, -2.02650426397867]</summary><ul><li><span class='ee-k'>0:</span><span class='ee-v'>-55.82118193697849</span></li><li><span class='ee-k'>1:</span><span class='ee-v'>-2.02650426397867</span></li></ul></details></li><li><details><summary>362: [-55.82776046542518, -2.025840116932592]</summary><ul><li><span class='ee-k'>0:</span><span class='ee-v'>-55.82776046542518</span></li><li><span class='ee-k'>1:</span><span class='ee-v'>-2.025840116932592</span></li></ul></details></li><li><details><summary>363: [-55.84719690861822, -2.0241793409416227]</summary><ul><li><span class='ee-k'>0:</span><span class='ee-v'>-55.84719690861822</span></li><li><span class='ee-k'>1:</span><span class='ee-v'>-2.0241793409416227</span></li></ul></details></li><li><details><summary>364: [-55.85964459096261, -2.0226032164911256]</summary><ul><li><span class='ee-k'>0:</span><span class='ee-v'>-55.85964459096261</span></li><li><span class='ee-k'>1:</span><span class='ee-v'>-2.0226032164911256</span></li></ul></details></li><li><details><summary>365: [-55.86197820248015, -2.023152698964842]</summary><ul><li><span class='ee-k'>0:</span><span class='ee-v'>-55.86197820248015</span></li><li><span class='ee-k'>1:</span><span class='ee-v'>-2.023152698964842</span></li></ul></details></li><li><details><summary>366: [-55.86354826870936, -2.0244423832925813]</summary><ul><li><span class='ee-k'>0:</span><span class='ee-v'>-55.86354826870936</span></li><li><span class='ee-k'>1:</span><span class='ee-v'>-2.0244423832925813</span></li></ul></details></li><li><details><summary>367: [-55.86639395064438, -2.0266714640642003]</summary><ul><li><span class='ee-k'>0:</span><span class='ee-v'>-55.86639395064438</span></li><li><span class='ee-k'>1:</span><span class='ee-v'>-2.0266714640642003</span></li></ul></details></li><li><details><summary>368: [-55.86765987787883, -2.0287602053390237]</summary><ul><li><span class='ee-k'>0:</span><span class='ee-v'>-55.86765987787883</span></li><li><span class='ee-k'>1:</span><span class='ee-v'>-2.0287602053390237</span></li></ul></details></li><li><details><summary>369: [-55.870870708873056, -2.0321793536513786]</summary><ul><li><span class='ee-k'>0:</span><span class='ee-v'>-55.870870708873056</span></li><li><span class='ee-k'>1:</span><span class='ee-v'>-2.0321793536513786</span></li></ul></details></li><li><details><summary>370: [-55.871802411220095, -2.0337156153550846]</summary><ul><li><span class='ee-k'>0:</span><span class='ee-v'>-55.871802411220095</span></li><li><span class='ee-k'>1:</span><span class='ee-v'>-2.0337156153550846</span></li></ul></details></li><li><details><summary>371: [-55.87542869530688, -2.0365558614839667]</summary><ul><li><span class='ee-k'>0:</span><span class='ee-v'>-55.87542869530688</span></li><li><span class='ee-k'>1:</span><span class='ee-v'>-2.0365558614839667</span></li></ul></details></li><li><details><summary>372: [-55.880682212533465, -2.04185328781802]</summary><ul><li><span class='ee-k'>0:</span><span class='ee-v'>-55.880682212533465</span></li><li><span class='ee-k'>1:</span><span class='ee-v'>-2.04185328781802</span></li></ul></details></li><li><details><summary>373: [-55.88277324279914, -2.0448316266110447]</summary><ul><li><span class='ee-k'>0:</span><span class='ee-v'>-55.88277324279914</span></li><li><span class='ee-k'>1:</span><span class='ee-v'>-2.0448316266110447</span></li></ul></details></li><li><details><summary>374: [-55.886164391329544, -2.045718564419397]</summary><ul><li><span class='ee-k'>0:</span><span class='ee-v'>-55.886164391329544</span></li><li><span class='ee-k'>1:</span><span class='ee-v'>-2.045718564419397</span></li></ul></details></li><li><details><summary>375: [-55.88670416064868, -2.0461589470722674]</summary><ul><li><span class='ee-k'>0:</span><span class='ee-v'>-55.88670416064868</span></li><li><span class='ee-k'>1:</span><span class='ee-v'>-2.0461589470722674</span></li></ul></details></li><li><details><summary>376: [-55.890977164952, -2.04966414709846]</summary><ul><li><span class='ee-k'>0:</span><span class='ee-v'>-55.890977164952</span></li><li><span class='ee-k'>1:</span><span class='ee-v'>-2.04966414709846</span></li></ul></details></li><li><details><summary>377: [-55.899962893981076, -2.0534105817723476]</summary><ul><li><span class='ee-k'>0:</span><span class='ee-v'>-55.899962893981076</span></li><li><span class='ee-k'>1:</span><span class='ee-v'>-2.0534105817723476</span></li></ul></details></li><li><details><summary>378: [-55.904460934322024, -2.0542488704098103]</summary><ul><li><span class='ee-k'>0:</span><span class='ee-v'>-55.904460934322024</span></li><li><span class='ee-k'>1:</span><span class='ee-v'>-2.0542488704098103</span></li></ul></details></li><li><details><summary>379: [-55.90796323591068, -2.0558452464890222]</summary><ul><li><span class='ee-k'>0:</span><span class='ee-v'>-55.90796323591068</span></li><li><span class='ee-k'>1:</span><span class='ee-v'>-2.0558452464890222</span></li></ul></details></li><li><details><summary>380: [-55.927780475797775, -2.059850498653482]</summary><ul><li><span class='ee-k'>0:</span><span class='ee-v'>-55.927780475797775</span></li><li><span class='ee-k'>1:</span><span class='ee-v'>-2.059850498653482</span></li></ul></details></li><li><details><summary>381: [-55.95508288987564, -2.063065673087164]</summary><ul><li><span class='ee-k'>0:</span><span class='ee-v'>-55.95508288987564</span></li><li><span class='ee-k'>1:</span><span class='ee-v'>-2.063065673087164</span></li></ul></details></li><li><details><summary>382: [-55.961642512573434, -2.0646191182558793]</summary><ul><li><span class='ee-k'>0:</span><span class='ee-v'>-55.961642512573434</span></li><li><span class='ee-k'>1:</span><span class='ee-v'>-2.0646191182558793</span></li></ul></details></li><li><details><summary>383: [-55.966278838832906, -2.0657805798931816]</summary><ul><li><span class='ee-k'>0:</span><span class='ee-v'>-55.966278838832906</span></li><li><span class='ee-k'>1:</span><span class='ee-v'>-2.0657805798931816</span></li></ul></details></li><li><details><summary>384: [-55.97576173963385, -2.067448176916334]</summary><ul><li><span class='ee-k'>0:</span><span class='ee-v'>-55.97576173963385</span></li><li><span class='ee-k'>1:</span><span class='ee-v'>-2.067448176916334</span></li></ul></details></li><li><details><summary>385: [-55.98752406260113, -2.071092794616362]</summary><ul><li><span class='ee-k'>0:</span><span class='ee-v'>-55.98752406260113</span></li><li><span class='ee-k'>1:</span><span class='ee-v'>-2.071092794616362</span></li></ul></details></li><li><details><summary>386: [-55.99900416291385, -2.0694522159454496]</summary><ul><li><span class='ee-k'>0:</span><span class='ee-v'>-55.99900416291385</span></li><li><span class='ee-k'>1:</span><span class='ee-v'>-2.0694522159454496</span></li></ul></details></li><li><details><summary>387: [-56.020437390425684, -2.067260984762734]</summary><ul><li><span class='ee-k'>0:</span><span class='ee-v'>-56.020437390425684</span></li><li><span class='ee-k'>1:</span><span class='ee-v'>-2.067260984762734</span></li></ul></details></li><li><details><summary>388: [-56.02675216306786, -2.068073103772673]</summary><ul><li><span class='ee-k'>0:</span><span class='ee-v'>-56.02675216306786</span></li><li><span class='ee-k'>1:</span><span class='ee-v'>-2.068073103772673</span></li></ul></details></li><li><details><summary>389: [-56.04160172121837, -2.0743281652613117]</summary><ul><li><span class='ee-k'>0:</span><span class='ee-v'>-56.04160172121837</span></li><li><span class='ee-k'>1:</span><span class='ee-v'>-2.0743281652613117</span></li></ul></details></li><li><details><summary>390: [-56.05810427880972, -2.085779354516021]</summary><ul><li><span class='ee-k'>0:</span><span class='ee-v'>-56.05810427880972</span></li><li><span class='ee-k'>1:</span><span class='ee-v'>-2.085779354516021</span></li></ul></details></li><li><details><summary>391: [-56.06748174471954, -2.0928123003975307]</summary><ul><li><span class='ee-k'>0:</span><span class='ee-v'>-56.06748174471954</span></li><li><span class='ee-k'>1:</span><span class='ee-v'>-2.0928123003975307</span></li></ul></details></li><li><details><summary>392: [-56.0707191114819, -2.0978972311094912]</summary><ul><li><span class='ee-k'>0:</span><span class='ee-v'>-56.0707191114819</span></li><li><span class='ee-k'>1:</span><span class='ee-v'>-2.0978972311094912</span></li></ul></details></li><li><details><summary>393: [-56.07210420661275, -2.1029810582418853]</summary><ul><li><span class='ee-k'>0:</span><span class='ee-v'>-56.07210420661275</span></li><li><span class='ee-k'>1:</span><span class='ee-v'>-2.1029810582418853</span></li></ul></details></li><li><details><summary>394: [-56.07889902304303, -2.107735874336058]</summary><ul><li><span class='ee-k'>0:</span><span class='ee-v'>-56.07889902304303</span></li><li><span class='ee-k'>1:</span><span class='ee-v'>-2.107735874336058</span></li></ul></details></li><li><details><summary>395: [-56.084442915422045, -2.11450609609286]</summary><ul><li><span class='ee-k'>0:</span><span class='ee-v'>-56.084442915422045</span></li><li><span class='ee-k'>1:</span><span class='ee-v'>-2.11450609609286</span></li></ul></details></li><li><details><summary>396: [-56.08651053529585, -2.120254868151979]</summary><ul><li><span class='ee-k'>0:</span><span class='ee-v'>-56.08651053529585</span></li><li><span class='ee-k'>1:</span><span class='ee-v'>-2.120254868151979</span></li></ul></details></li><li><details><summary>397: [-56.09187163537449, -2.1420001878317474]</summary><ul><li><span class='ee-k'>0:</span><span class='ee-v'>-56.09187163537449</span></li><li><span class='ee-k'>1:</span><span class='ee-v'>-2.1420001878317474</span></li></ul></details></li><li><details><summary>398: [-56.11231458159923, -2.1797042197069127]</summary><ul><li><span class='ee-k'>0:</span><span class='ee-v'>-56.11231458159923</span></li><li><span class='ee-k'>1:</span><span class='ee-v'>-2.1797042197069127</span></li></ul></details></li></ul></details></li></ul></details></li></ul></details></li><li><details><summary>properties: Object (1 property)</summary><ul><li><span class='ee-k'>id:</span><span class='ee-v'>1</span></li></ul></details></li></ul></details></li></ul></details></li></ul></details></li></ul></div></div>"
            ]
          },
          "metadata": {},
          "execution_count": 8
        }
      ]
    },
    {
      "cell_type": "markdown",
      "source": [
        "# Import ERA5 - wind - dataset"
      ],
      "metadata": {
        "id": "-9lwmaWHxJnP"
      }
    },
    {
      "cell_type": "markdown",
      "source": [
        "ERA5-Land is a reanalysis dataset providing a consistent view of the evolution of land variables over several decades at an enhanced resolution compared to ERA5. ERA5-Land has been produced by replaying the land component of the ECMWF ERA5 climate reanalysis. Reanalysis combines model data with observations from across the world into a globally complete and consistent dataset using the laws of physics. Reanalysis produces data that goes several decades back in time, providing an accurate description of the climate of the past. This dataset includes all 50 variables as available on CDS.\n",
        "\n",
        "ERA5-Land data is available from 1950 to three months from real-time.\n",
        "\n",
        "Please consult the ERA5-Land \"Known Issues\" section. In particular, note that three components of the total evapotranspiration have values swapped as follows:\n",
        "\n",
        "variable \"Evaporation from bare soil\" (mars parameter code 228101 (evabs)) has the values corresponding to the \"Evaporation from vegetation transpiration\" (mars parameter 228103 (evavt)),\n",
        "variable \"Evaporation from open water surfaces excluding oceans (mars parameter code 228102 (evaow)) has the values corresponding to the \"Evaporation from bare soil\" (mars parameter code 228101 (evabs)),\n",
        "variable \"Evaporation from vegetation transpiration\" (mars parameter code 228103 (evavt)) has the values corresponding to the \"Evaporation from open water surfaces excluding oceans\" (mars parameter code 228102 (evaow)).\n",
        "The asset is a monthly aggregate of ECMWF ERA5 Land hourly assets which includes both flow and non-flow bands. Flow bands are formed by collecting the first hour's data of the following day for each day of the month and then adding them together, while the non-flow bands are created by averaging all hourly data of the month. The flow bands are labeled with the \"_sum\" identifier, which approach is different from the monthly data produced by Copernicus Climate Data Store, where flow bands are averaged too.\n",
        "\n",
        "Monthly aggregates have been pre-calculated to facilitate many applications requiring easy and fast access to the data, when sub-monthly fields are not required.\n",
        "\n",
        "Precipitation and other flow (accumulated) bands might occasionally have negative values, which doesn't make physical sense. At other times their values might be excessively high.\n",
        "\n",
        "This problem is due to how the GRIB format saves data: it simplifies or \"packs\" the data into smaller, less precise numbers, which can introduce errors. These errors get worse when the data varies a lot.\n",
        "\n",
        "Because of this, when we look at the data for a whole day to compute daily totals, sometimes the highest amount of rainfall recorded at one time can seem larger than the total rainfall measured for the entire day."
      ],
      "metadata": {
        "id": "4-bCi_n8xR4b"
      }
    },
    {
      "cell_type": "markdown",
      "source": [
        "11132 meters"
      ],
      "metadata": {
        "id": "271ht5MuzSnk"
      }
    },
    {
      "cell_type": "markdown",
      "source": [
        "Eastward and Northward  component of the 10m wind. It is the horizontal speed of air moving towards the east, at a height of ten meters above the surface of the Earth, in meters per second. Care should be taken when comparing this variable with observations, because wind observations vary on small space and time scales and are affected by the local terrain, vegetation and buildings that are represented only on average in the ECMWF Integrated Forecasting System. This variable can be combined with the V component of 10m wind to give the speed and direction of the horizontal 10m wind."
      ],
      "metadata": {
        "id": "1oa-b9ZZ1O_O"
      }
    },
    {
      "cell_type": "code",
      "source": [
        "wind_col = (ee.ImageCollection(\"ECMWF/ERA5_LAND/MONTHLY_AGGR\")\n",
        "            .select(['u_component_of_wind_10m','v_component_of_wind_10m']))\n",
        "# display(wind_col.size().getInfo())"
      ],
      "metadata": {
        "colab": {
          "base_uri": "https://localhost:8080/",
          "height": 17
        },
        "id": "xbF_OJdmxG6I",
        "outputId": "7e2e2a6c-ab32-4c32-83fc-c2ee4219db44"
      },
      "execution_count": 13,
      "outputs": [
        {
          "output_type": "display_data",
          "data": {
            "text/plain": [
              "<IPython.core.display.HTML object>"
            ],
            "text/html": [
              "\n",
              "            <style>\n",
              "                .geemap-dark {\n",
              "                    --jp-widgets-color: white;\n",
              "                    --jp-widgets-label-color: white;\n",
              "                    --jp-ui-font-color1: white;\n",
              "                    --jp-layout-color2: #454545;\n",
              "                    background-color: #383838;\n",
              "                }\n",
              "\n",
              "                .geemap-dark .jupyter-button {\n",
              "                    --jp-layout-color3: #383838;\n",
              "                }\n",
              "\n",
              "                .geemap-colab {\n",
              "                    background-color: var(--colab-primary-surface-color, white);\n",
              "                }\n",
              "\n",
              "                .geemap-colab .jupyter-button {\n",
              "                    --jp-layout-color3: var(--colab-primary-surface-color, white);\n",
              "                }\n",
              "            </style>\n",
              "            "
            ]
          },
          "metadata": {}
        }
      ]
    },
    {
      "cell_type": "code",
      "source": [
        "display(wind_col.first().getInfo())"
      ],
      "metadata": {
        "colab": {
          "base_uri": "https://localhost:8080/",
          "height": 451
        },
        "id": "mbLw6loc3gvX",
        "outputId": "b3cd8afe-7fa0-4134-a5d5-6a6f09961f61"
      },
      "execution_count": 14,
      "outputs": [
        {
          "output_type": "display_data",
          "data": {
            "text/plain": [
              "<IPython.core.display.HTML object>"
            ],
            "text/html": [
              "\n",
              "            <style>\n",
              "                .geemap-dark {\n",
              "                    --jp-widgets-color: white;\n",
              "                    --jp-widgets-label-color: white;\n",
              "                    --jp-ui-font-color1: white;\n",
              "                    --jp-layout-color2: #454545;\n",
              "                    background-color: #383838;\n",
              "                }\n",
              "\n",
              "                .geemap-dark .jupyter-button {\n",
              "                    --jp-layout-color3: #383838;\n",
              "                }\n",
              "\n",
              "                .geemap-colab {\n",
              "                    background-color: var(--colab-primary-surface-color, white);\n",
              "                }\n",
              "\n",
              "                .geemap-colab .jupyter-button {\n",
              "                    --jp-layout-color3: var(--colab-primary-surface-color, white);\n",
              "                }\n",
              "            </style>\n",
              "            "
            ]
          },
          "metadata": {}
        },
        {
          "output_type": "display_data",
          "data": {
            "text/plain": [
              "{'type': 'Image',\n",
              " 'bands': [{'id': 'u_component_of_wind_10m',\n",
              "   'data_type': {'type': 'PixelType', 'precision': 'double'},\n",
              "   'dimensions': [3601, 1801],\n",
              "   'crs': 'EPSG:4326',\n",
              "   'crs_transform': [0.1, 0, -180.05, 0, -0.1, 90.05]},\n",
              "  {'id': 'v_component_of_wind_10m',\n",
              "   'data_type': {'type': 'PixelType', 'precision': 'double'},\n",
              "   'dimensions': [3601, 1801],\n",
              "   'crs': 'EPSG:4326',\n",
              "   'crs_transform': [0.1, 0, -180.05, 0, -0.1, 90.05]}],\n",
              " 'version': 1738908914107439,\n",
              " 'id': 'ECMWF/ERA5_LAND/MONTHLY_AGGR/195002',\n",
              " 'properties': {'system:time_start': -628473600000,\n",
              "  'month': 2,\n",
              "  'year': 1950,\n",
              "  'system:footprint': {'type': 'LinearRing',\n",
              "   'coordinates': [[-180, -90],\n",
              "    [180, -90],\n",
              "    [180, 90],\n",
              "    [-180, 90],\n",
              "    [-180, -90]]},\n",
              "  'system:time_end': -626054400000,\n",
              "  'system:asset_size': 1069844510,\n",
              "  'system:index': '195002'}}"
            ]
          },
          "metadata": {}
        }
      ]
    },
    {
      "cell_type": "code",
      "source": [
        "\n",
        "# //Definir o intervalo de tempo\n",
        "startyear = 2000\n",
        "endyear = 2024"
      ],
      "metadata": {
        "colab": {
          "base_uri": "https://localhost:8080/",
          "height": 17
        },
        "id": "QIkStPtB32-Y",
        "outputId": "a7c3a40a-d187-4b57-c2d9-fc246036b031"
      },
      "execution_count": 15,
      "outputs": [
        {
          "output_type": "display_data",
          "data": {
            "text/plain": [
              "<IPython.core.display.HTML object>"
            ],
            "text/html": [
              "\n",
              "            <style>\n",
              "                .geemap-dark {\n",
              "                    --jp-widgets-color: white;\n",
              "                    --jp-widgets-label-color: white;\n",
              "                    --jp-ui-font-color1: white;\n",
              "                    --jp-layout-color2: #454545;\n",
              "                    background-color: #383838;\n",
              "                }\n",
              "\n",
              "                .geemap-dark .jupyter-button {\n",
              "                    --jp-layout-color3: #383838;\n",
              "                }\n",
              "\n",
              "                .geemap-colab {\n",
              "                    background-color: var(--colab-primary-surface-color, white);\n",
              "                }\n",
              "\n",
              "                .geemap-colab .jupyter-button {\n",
              "                    --jp-layout-color3: var(--colab-primary-surface-color, white);\n",
              "                }\n",
              "            </style>\n",
              "            "
            ]
          },
          "metadata": {}
        }
      ]
    },
    {
      "cell_type": "code",
      "source": [
        "# //Criar uma lista sequencial para ano\n",
        "years = ee.List.sequence(startyear,endyear);\n",
        "\n",
        "# //Criar uma lista sequencial para meses\n",
        "months = ee.List([1,4,7,10])\n",
        "\n",
        "# //Definir nossa data inicial e final\n",
        "startdate = ee.Date.fromYMD(startyear,1,1);\n",
        "enddate = ee.Date.fromYMD(endyear,12,31);"
      ],
      "metadata": {
        "colab": {
          "base_uri": "https://localhost:8080/",
          "height": 17
        },
        "id": "QhWlXJFo3q2X",
        "outputId": "0461c8b9-e1d2-41a4-aa53-08d78c2f1266"
      },
      "execution_count": 16,
      "outputs": [
        {
          "output_type": "display_data",
          "data": {
            "text/plain": [
              "<IPython.core.display.HTML object>"
            ],
            "text/html": [
              "\n",
              "            <style>\n",
              "                .geemap-dark {\n",
              "                    --jp-widgets-color: white;\n",
              "                    --jp-widgets-label-color: white;\n",
              "                    --jp-ui-font-color1: white;\n",
              "                    --jp-layout-color2: #454545;\n",
              "                    background-color: #383838;\n",
              "                }\n",
              "\n",
              "                .geemap-dark .jupyter-button {\n",
              "                    --jp-layout-color3: #383838;\n",
              "                }\n",
              "\n",
              "                .geemap-colab {\n",
              "                    background-color: var(--colab-primary-surface-color, white);\n",
              "                }\n",
              "\n",
              "                .geemap-colab .jupyter-button {\n",
              "                    --jp-layout-color3: var(--colab-primary-surface-color, white);\n",
              "                }\n",
              "            </style>\n",
              "            "
            ]
          },
          "metadata": {}
        }
      ]
    },
    {
      "cell_type": "code",
      "source": [
        "# //filterando a coleção\n",
        "wind_col = wind_col.filterDate(startdate, enddate).filterBounds(floodplain)\n",
        "print('qtds',wind_col.size().getInfo())"
      ],
      "metadata": {
        "colab": {
          "base_uri": "https://localhost:8080/",
          "height": 34
        },
        "id": "zgJj3d1c307I",
        "outputId": "cd5b302b-1174-4a5f-ab56-cf358c703124"
      },
      "execution_count": 17,
      "outputs": [
        {
          "output_type": "display_data",
          "data": {
            "text/plain": [
              "<IPython.core.display.HTML object>"
            ],
            "text/html": [
              "\n",
              "            <style>\n",
              "                .geemap-dark {\n",
              "                    --jp-widgets-color: white;\n",
              "                    --jp-widgets-label-color: white;\n",
              "                    --jp-ui-font-color1: white;\n",
              "                    --jp-layout-color2: #454545;\n",
              "                    background-color: #383838;\n",
              "                }\n",
              "\n",
              "                .geemap-dark .jupyter-button {\n",
              "                    --jp-layout-color3: #383838;\n",
              "                }\n",
              "\n",
              "                .geemap-colab {\n",
              "                    background-color: var(--colab-primary-surface-color, white);\n",
              "                }\n",
              "\n",
              "                .geemap-colab .jupyter-button {\n",
              "                    --jp-layout-color3: var(--colab-primary-surface-color, white);\n",
              "                }\n",
              "            </style>\n",
              "            "
            ]
          },
          "metadata": {}
        },
        {
          "output_type": "stream",
          "name": "stdout",
          "text": [
            "qtds 300\n"
          ]
        }
      ]
    },
    {
      "cell_type": "code",
      "source": [
        "scale = wind_col.first().select('v_component_of_wind_10m').projection().nominalScale()"
      ],
      "metadata": {
        "colab": {
          "base_uri": "https://localhost:8080/",
          "height": 17
        },
        "id": "oA2dSJ_44Aoy",
        "outputId": "8a147b28-621f-43ec-f9b3-16c4553d5314"
      },
      "execution_count": 18,
      "outputs": [
        {
          "output_type": "display_data",
          "data": {
            "text/plain": [
              "<IPython.core.display.HTML object>"
            ],
            "text/html": [
              "\n",
              "            <style>\n",
              "                .geemap-dark {\n",
              "                    --jp-widgets-color: white;\n",
              "                    --jp-widgets-label-color: white;\n",
              "                    --jp-ui-font-color1: white;\n",
              "                    --jp-layout-color2: #454545;\n",
              "                    background-color: #383838;\n",
              "                }\n",
              "\n",
              "                .geemap-dark .jupyter-button {\n",
              "                    --jp-layout-color3: #383838;\n",
              "                }\n",
              "\n",
              "                .geemap-colab {\n",
              "                    background-color: var(--colab-primary-surface-color, white);\n",
              "                }\n",
              "\n",
              "                .geemap-colab .jupyter-button {\n",
              "                    --jp-layout-color3: var(--colab-primary-surface-color, white);\n",
              "                }\n",
              "            </style>\n",
              "            "
            ]
          },
          "metadata": {}
        }
      ]
    },
    {
      "cell_type": "code",
      "source": [
        "# //Calculo da precipitação de cada periodo da série\n",
        "mean_wind_period =  ee.ImageCollection.fromImages(years.map(lambda y : months.map( lambda m : wind_col.filter(ee.Filter.calendarRange(y,y,'year')).filter(ee.Filter.calendarRange(m,ee.Number(m).add(2),'month')).sum().set({'year': y, 'month': m,'system:time_start': ee.Date.fromYMD(y, m, 1)}).set('timestamp', ee.Date.fromYMD(y, m, 1).format('yyyy-MM-dd')))).flatten() )\n",
        "\n",
        "display(mean_wind_period.limit(10))"
      ],
      "metadata": {
        "id": "OO2Uc75x4C9n"
      },
      "execution_count": null,
      "outputs": []
    },
    {
      "cell_type": "code",
      "source": [
        "\n",
        "def mean_precip(img):\n",
        "  '''receives a precipitaion image returns mean value within the floodplain limits\n",
        "  as a property of the input image'''\n",
        "\n",
        "\n",
        "  floodplain = ee.FeatureCollection('projects/ee-curuai2/assets/lim_varzea').geometry()\n",
        "\n",
        "\n",
        "  stats = img.select(\"precipitation\").reduceRegion(**{\n",
        "    'reducer': ee.Reducer.mean(),\n",
        "    'geometry': floodplain,\n",
        "    'scale': chirps.first().projection().nominalScale(),\n",
        "    'maxPixels': 1e10\n",
        "    })\n",
        "\n",
        "  return ee.Feature(floodplain).set({'mean_precipitation':stats.get('precipitation')}).copyProperties(img)"
      ],
      "metadata": {
        "id": "PVj0m3AJ3OJ5"
      },
      "execution_count": null,
      "outputs": []
    },
    {
      "cell_type": "code",
      "source": [
        "\n",
        "precip_acum = ee.FeatureCollection(precipitacao_acum.map(mean_precip))\n",
        "precip_acum.limit(5)"
      ],
      "metadata": {
        "id": "ymrdWxs43UC4"
      },
      "execution_count": null,
      "outputs": []
    }
  ]
}